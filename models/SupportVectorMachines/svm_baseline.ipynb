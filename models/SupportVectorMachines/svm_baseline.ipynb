{
 "cells": [
  {
   "cell_type": "markdown",
   "metadata": {},
   "source": [
    "## SVM Implementation (reused from previous) on scaled non-reduced dataset"
   ]
  },
  {
   "cell_type": "markdown",
   "metadata": {},
   "source": [
    "Imports"
   ]
  },
  {
   "cell_type": "code",
   "execution_count": 1,
   "metadata": {},
   "outputs": [],
   "source": [
    "# Utilities\n",
    "import pandas as pd\n",
    "import warnings\n",
    "import numpy as np\n",
    "import matplotlib.pyplot as plt\n",
    "\n",
    "# Models\n",
    "import optuna\n",
    "from sklearn.model_selection import train_test_split, cross_val_score\n",
    "from sklearn.svm import SVC\n",
    "from sklearn.ensemble import RandomForestClassifier\n",
    "from sklearn.model_selection import GridSearchCV\n",
    "from sklearn.metrics import accuracy_score, accuracy_score, f1_score\n",
    "from sklearn.metrics import classification_report, precision_score, recall_score, confusion_matrix, ConfusionMatrixDisplay"
   ]
  },
  {
   "cell_type": "markdown",
   "metadata": {},
   "source": [
    "Set random seed for reproductibility"
   ]
  },
  {
   "cell_type": "code",
   "execution_count": 2,
   "metadata": {},
   "outputs": [],
   "source": [
    "seed = 23"
   ]
  },
  {
   "cell_type": "markdown",
   "metadata": {},
   "source": [
    "Read clean (scaled data)"
   ]
  },
  {
   "cell_type": "code",
   "execution_count": 3,
   "metadata": {},
   "outputs": [],
   "source": [
    "df_scaled = pd.read_csv('../../Data/dataset_preprocessed.csv')"
   ]
  },
  {
   "cell_type": "markdown",
   "metadata": {},
   "source": [
    "Take sample for (initial) tests"
   ]
  },
  {
   "cell_type": "code",
   "execution_count": 4,
   "metadata": {},
   "outputs": [],
   "source": [
    "#df_scaled_sample = df_scaled.sample(n=1000, random_state=seed)\n",
    "df_scaled_sample = df_scaled"
   ]
  },
  {
   "cell_type": "markdown",
   "metadata": {},
   "source": [
    "Train-Test Split"
   ]
  },
  {
   "cell_type": "code",
   "execution_count": 5,
   "metadata": {},
   "outputs": [],
   "source": [
    "test_size = 0.2\n",
    "X_train, X_test, y_train, y_test = train_test_split(\n",
    "    df_scaled_sample.drop('averageRating', axis=1), \n",
    "    df_scaled_sample['averageRating'], test_size=test_size, \n",
    "    random_state=seed\n",
    ")"
   ]
  },
  {
   "cell_type": "markdown",
   "metadata": {},
   "source": [
    "Save and print metrics"
   ]
  },
  {
   "cell_type": "code",
   "execution_count": 6,
   "metadata": {},
   "outputs": [],
   "source": [
    "def calculate_metrics(model_name, y_true, y_pred):\n",
    "    metrics = {\n",
    "        'Accuracy': accuracy_score(y_true, y_pred),\n",
    "        'Weighted F1': f1_score(y_true, y_pred, average='weighted'),\n",
    "        'Weighted Precision': precision_score(y_true, y_pred, average='weighted', zero_division=0),\n",
    "        'Weighted Recall': recall_score(y_true, y_pred, average='weighted'),\n",
    "        'Macro-Averaged Precision': precision_score(y_true, y_pred, average='macro', zero_division=0),\n",
    "        'Macro-Averaged Recall': recall_score(y_true, y_pred, average='macro'),\n",
    "        'F1': str(f1_score(y_true, y_pred, average=None)),\n",
    "        'Precision': str( precision_score(y_true, y_pred, average=None, zero_division=0)),\n",
    "    }\n",
    "    \n",
    "    # Print the metrics\n",
    "    print(f\"Metrics for {model_name}:\")\n",
    "    for metric_name, metric_value in metrics.items():\n",
    "        try:\n",
    "            print(f\"{metric_name}: {metric_value:.4f}\")\n",
    "        except:\n",
    "            print(f\"{metric_name}: {metric_value}\")\n",
    "    \n",
    "    # Print the classification report\n",
    "    print(\"classification report\")\n",
    "    report = classification_report(y_true, y_pred, target_names=['Class 0', 'Class 1'], zero_division=0)\n",
    "    print(report)\n",
    "\n",
    "    print(\"Confusion Matrix\")\n",
    "    cm = confusion_matrix(y_true, y_pred)\n",
    "    cmd = ConfusionMatrixDisplay(confusion_matrix=cm)\n",
    "    cmd.plot()\n",
    "    \n",
    "    plt.title(f'Confusion matrix for model {model_name} (Accuracy:{metrics[\"Accuracy\"]:.4f})')\n",
    "    plt.show()\n",
    "    \n",
    "    # Create df to store metrics\n",
    "    df_metrics = pd.DataFrame(metrics, index=[model_name])\n",
    "    \n",
    "    return df_metrics"
   ]
  },
  {
   "cell_type": "code",
   "execution_count": 7,
   "metadata": {},
   "outputs": [
    {
     "name": "stdout",
     "output_type": "stream",
     "text": [
      "Accuracy: 0.7478347768154564\n",
      "F1 score: [0.77067555 0.71994081]\n"
     ]
    }
   ],
   "source": [
    "model = SVC(random_state=seed)\n",
    "model.fit(X_train, y_train)\n",
    "\n",
    "predictions = model.predict(X_test)\n",
    "print(\"Accuracy:\", accuracy_score(y_test, predictions))\n",
    "\n",
    "print(\"F1 score:\", f1_score(y_test, predictions, average=None))"
   ]
  },
  {
   "cell_type": "markdown",
   "metadata": {},
   "source": [
    "## Grid Search CV - 1"
   ]
  },
  {
   "cell_type": "code",
   "execution_count": 8,
   "metadata": {},
   "outputs": [
    {
     "name": "stdout",
     "output_type": "stream",
     "text": [
      "Fitting 3 folds for each of 32 candidates, totalling 96 fits\n",
      "[CV] END ..................C=0.1, gamma=scale, kernel=linear; total time=   1.6s\n",
      "[CV] END ..................C=0.1, gamma=scale, kernel=linear; total time=   1.7s\n",
      "[CV] END ....................C=0.1, gamma=scale, kernel=poly; total time=   1.7s\n",
      "[CV] END ....................C=0.1, gamma=scale, kernel=poly; total time=   1.7s\n",
      "[CV] END ....................C=0.1, gamma=scale, kernel=poly; total time=   1.7s\n",
      "[CV] END .................C=0.1, gamma=scale, kernel=sigmoid; total time=   2.2s\n",
      "[CV] END ..................C=0.1, gamma=scale, kernel=linear; total time=   2.6s\n",
      "[CV] END .................C=0.1, gamma=scale, kernel=sigmoid; total time=   2.8s\n",
      "[CV] END .................C=0.1, gamma=scale, kernel=sigmoid; total time=   3.1s\n",
      "[CV] END ...................C=0.1, gamma=auto, kernel=linear; total time=   1.6s\n",
      "[CV] END ...................C=0.1, gamma=auto, kernel=linear; total time=   1.7s\n",
      "[CV] END ...................C=0.1, gamma=auto, kernel=linear; total time=   1.5s\n",
      "[CV] END .....................C=0.1, gamma=scale, kernel=rbf; total time=   4.2s\n",
      "[CV] END .....................C=0.1, gamma=scale, kernel=rbf; total time=   4.4s\n",
      "[CV] END .....................C=0.1, gamma=scale, kernel=rbf; total time=   5.0s\n",
      "[CV] END .....................C=0.1, gamma=auto, kernel=poly; total time=   2.2s\n",
      "[CV] END .....................C=0.1, gamma=auto, kernel=poly; total time=   2.1s\n",
      "[CV] END ..................C=0.1, gamma=auto, kernel=sigmoid; total time=   2.1s\n",
      "[CV] END ..................C=0.1, gamma=auto, kernel=sigmoid; total time=   2.1s\n",
      "[CV] END ......................C=0.1, gamma=auto, kernel=rbf; total time=   4.0s\n",
      "[CV] END ..................C=0.1, gamma=auto, kernel=sigmoid; total time=   2.1s\n",
      "[CV] END ......................C=0.1, gamma=auto, kernel=rbf; total time=   4.2s\n",
      "[CV] END ......................C=0.1, gamma=auto, kernel=rbf; total time=   4.3s\n",
      "[CV] END .....................C=0.1, gamma=auto, kernel=poly; total time=   3.7s\n",
      "[CV] END ....................C=1, gamma=scale, kernel=linear; total time=   1.5s\n",
      "[CV] END ....................C=1, gamma=scale, kernel=linear; total time=   1.5s\n",
      "[CV] END ....................C=1, gamma=scale, kernel=linear; total time=   1.6s\n",
      "[CV] END ......................C=1, gamma=scale, kernel=poly; total time=   1.8s\n",
      "[CV] END ......................C=1, gamma=scale, kernel=poly; total time=   1.9s\n",
      "[CV] END ......................C=1, gamma=scale, kernel=poly; total time=   2.0s\n",
      "[CV] END .......................C=1, gamma=scale, kernel=rbf; total time=   3.9s\n",
      "[CV] END ...................C=1, gamma=scale, kernel=sigmoid; total time=   2.1s\n",
      "[CV] END ...................C=1, gamma=scale, kernel=sigmoid; total time=   2.1s\n",
      "[CV] END .......................C=1, gamma=scale, kernel=rbf; total time=   4.3s\n",
      "[CV] END .....................C=1, gamma=auto, kernel=linear; total time=   1.7s\n",
      "[CV] END ...................C=1, gamma=scale, kernel=sigmoid; total time=   3.1s\n",
      "[CV] END .....................C=1, gamma=auto, kernel=linear; total time=   1.6s\n",
      "[CV] END .....................C=1, gamma=auto, kernel=linear; total time=   1.6s\n",
      "[CV] END .......................C=1, gamma=scale, kernel=rbf; total time=   4.8s\n",
      "[CV] END ....................C=1, gamma=auto, kernel=sigmoid; total time=   1.9s\n",
      "[CV] END .......................C=1, gamma=auto, kernel=poly; total time=   2.4s\n",
      "[CV] END .......................C=1, gamma=auto, kernel=poly; total time=   2.3s\n",
      "[CV] END ........................C=1, gamma=auto, kernel=rbf; total time=   3.9s\n",
      "[CV] END ....................C=1, gamma=auto, kernel=sigmoid; total time=   1.7s\n",
      "[CV] END ........................C=1, gamma=auto, kernel=rbf; total time=   3.9s\n",
      "[CV] END ........................C=1, gamma=auto, kernel=rbf; total time=   4.0s\n",
      "[CV] END .......................C=1, gamma=auto, kernel=poly; total time=   3.2s\n",
      "[CV] END ....................C=1, gamma=auto, kernel=sigmoid; total time=   3.1s\n",
      "[CV] END ...................C=10, gamma=scale, kernel=linear; total time=   1.8s\n",
      "[CV] END ...................C=10, gamma=scale, kernel=linear; total time=   1.9s\n",
      "[CV] END ...................C=10, gamma=scale, kernel=linear; total time=   1.8s\n",
      "[CV] END .....................C=10, gamma=scale, kernel=poly; total time=   1.8s\n",
      "[CV] END ......................C=10, gamma=scale, kernel=rbf; total time=   3.4s\n",
      "[CV] END ..................C=10, gamma=scale, kernel=sigmoid; total time=   1.5s\n",
      "[CV] END ..................C=10, gamma=scale, kernel=sigmoid; total time=   1.6s\n",
      "[CV] END .....................C=10, gamma=scale, kernel=poly; total time=   2.1s\n",
      "[CV] END ......................C=10, gamma=scale, kernel=rbf; total time=   3.7s\n",
      "[CV] END .....................C=10, gamma=scale, kernel=poly; total time=   2.3s\n",
      "[CV] END ......................C=10, gamma=scale, kernel=rbf; total time=   3.9s\n",
      "[CV] END ..................C=10, gamma=scale, kernel=sigmoid; total time=   1.6s\n",
      "[CV] END ....................C=10, gamma=auto, kernel=linear; total time=   2.1s\n",
      "[CV] END ....................C=10, gamma=auto, kernel=linear; total time=   1.9s\n",
      "[CV] END ...................C=10, gamma=auto, kernel=sigmoid; total time=   1.7s\n",
      "[CV] END ......................C=10, gamma=auto, kernel=poly; total time=   2.1s\n",
      "[CV] END ......................C=10, gamma=auto, kernel=poly; total time=   2.2s\n",
      "[CV] END ....................C=10, gamma=auto, kernel=linear; total time=   2.6s\n",
      "[CV] END ...................C=10, gamma=auto, kernel=sigmoid; total time=   1.9s\n",
      "[CV] END ...................C=10, gamma=auto, kernel=sigmoid; total time=   2.1s\n",
      "[CV] END ......................C=10, gamma=auto, kernel=poly; total time=   2.9s\n",
      "[CV] END .......................C=10, gamma=auto, kernel=rbf; total time=   3.8s\n",
      "[CV] END .......................C=10, gamma=auto, kernel=rbf; total time=   3.9s\n",
      "[CV] END .......................C=10, gamma=auto, kernel=rbf; total time=   3.9s\n",
      "[CV] END .................C=100, gamma=scale, kernel=sigmoid; total time=   2.1s\n",
      "[CV] END .................C=100, gamma=scale, kernel=sigmoid; total time=   2.3s\n",
      "[CV] END .................C=100, gamma=scale, kernel=sigmoid; total time=   2.1s\n",
      "[CV] END ..................C=100, gamma=scale, kernel=linear; total time=   3.7s\n",
      "[CV] END ..................C=100, gamma=scale, kernel=linear; total time=   4.1s\n",
      "[CV] END ..................C=100, gamma=scale, kernel=linear; total time=   4.0s\n",
      "[CV] END .....................C=100, gamma=scale, kernel=rbf; total time=   4.6s\n",
      "[CV] END .....................C=100, gamma=scale, kernel=rbf; total time=   4.7s\n",
      "[CV] END .....................C=100, gamma=scale, kernel=rbf; total time=   4.5s\n",
      "[CV] END ....................C=100, gamma=scale, kernel=poly; total time=   4.4s\n",
      "[CV] END ....................C=100, gamma=scale, kernel=poly; total time=   4.7s\n",
      "[CV] END ....................C=100, gamma=scale, kernel=poly; total time=   5.0s\n",
      "[CV] END .....................C=100, gamma=auto, kernel=poly; total time=   1.7s\n",
      "[CV] END .....................C=100, gamma=auto, kernel=poly; total time=   1.8s\n",
      "[CV] END .....................C=100, gamma=auto, kernel=poly; total time=   2.1s\n",
      "[CV] END ......................C=100, gamma=auto, kernel=rbf; total time=   3.4s\n",
      "[CV] END ......................C=100, gamma=auto, kernel=rbf; total time=   3.5s\n",
      "[CV] END ......................C=100, gamma=auto, kernel=rbf; total time=   3.6s\n",
      "[CV] END ...................C=100, gamma=auto, kernel=linear; total time=   3.4s\n",
      "[CV] END ..................C=100, gamma=auto, kernel=sigmoid; total time=   2.1s\n",
      "[CV] END ..................C=100, gamma=auto, kernel=sigmoid; total time=   1.9s\n",
      "[CV] END ...................C=100, gamma=auto, kernel=linear; total time=   3.4s\n",
      "[CV] END ...................C=100, gamma=auto, kernel=linear; total time=   3.4s\n",
      "[CV] END ..................C=100, gamma=auto, kernel=sigmoid; total time=   2.0s\n",
      "The parameters with the highest score:  {'C': 100, 'gamma': 'auto', 'kernel': 'rbf'}\n"
     ]
    }
   ],
   "source": [
    "param_grid = {\n",
    "    'C': [0.1, 1, 10, 100],\n",
    "    'kernel': ['rbf', 'linear', 'poly', 'sigmoid'],\n",
    "    'gamma': ['scale', 'auto'],\n",
    "}\n",
    "\n",
    "model = SVC(random_state=seed)\n",
    "\n",
    "grid_search = GridSearchCV(estimator=model, param_grid=param_grid, cv=3, n_jobs=-1, verbose=2, scoring='accuracy')\n",
    "grid_search.fit(X_train, y_train)\n",
    "\n",
    "print(\"The parameters with the highest score: \", grid_search.best_params_)"
   ]
  },
  {
   "cell_type": "code",
   "execution_count": 9,
   "metadata": {},
   "outputs": [
    {
     "name": "stdout",
     "output_type": "stream",
     "text": [
      "                                             params  mean_test_score\n",
      "28     {'C': 100, 'gamma': 'auto', 'kernel': 'rbf'}         0.748605\n",
      "16     {'C': 10, 'gamma': 'scale', 'kernel': 'rbf'}         0.746022\n",
      "18    {'C': 10, 'gamma': 'scale', 'kernel': 'poly'}         0.745773\n",
      "24    {'C': 100, 'gamma': 'scale', 'kernel': 'rbf'}         0.743357\n",
      "20      {'C': 10, 'gamma': 'auto', 'kernel': 'rbf'}         0.743024\n",
      "8       {'C': 1, 'gamma': 'scale', 'kernel': 'rbf'}         0.742524\n",
      "10     {'C': 1, 'gamma': 'scale', 'kernel': 'poly'}         0.742524\n",
      "26   {'C': 100, 'gamma': 'scale', 'kernel': 'poly'}         0.738942\n",
      "21   {'C': 10, 'gamma': 'auto', 'kernel': 'linear'}         0.737360\n",
      "17  {'C': 10, 'gamma': 'scale', 'kernel': 'linear'}         0.737360\n"
     ]
    }
   ],
   "source": [
    "cv_results_df = pd.DataFrame(grid_search.cv_results_)\n",
    "\n",
    "# Show top 10 parameters for this model\n",
    "minimalistic_results = cv_results_df[['params', 'mean_test_score']]\n",
    "sorted_results = minimalistic_results.sort_values(by='mean_test_score', ascending=False)\n",
    "\n",
    "print(sorted_results.head(10))"
   ]
  },
  {
   "cell_type": "code",
   "execution_count": 10,
   "metadata": {},
   "outputs": [
    {
     "name": "stdout",
     "output_type": "stream",
     "text": [
      "Metrics for SVC-baseline-GS-CV1:\n",
      "Accuracy: 0.7565\n",
      "Weighted F1: 0.7551\n",
      "Weighted Precision: 0.7591\n",
      "Weighted Recall: 0.7565\n",
      "Macro-Averaged Precision: 0.7600\n",
      "Macro-Averaged Recall: 0.7540\n",
      "F1: [0.77787906 0.73055658]\n",
      "Precision: [0.73775216 0.78216259]\n",
      "classification report\n",
      "              precision    recall  f1-score   support\n",
      "\n",
      "     Class 0       0.74      0.82      0.78      1556\n",
      "     Class 1       0.78      0.69      0.73      1446\n",
      "\n",
      "    accuracy                           0.76      3002\n",
      "   macro avg       0.76      0.75      0.75      3002\n",
      "weighted avg       0.76      0.76      0.76      3002\n",
      "\n",
      "Confusion Matrix\n"
     ]
    },
    {
     "data": {
      "image/png": "[encoded data removed]",
      "text/plain": [
       "<Figure size 640x480 with 2 Axes>"
      ]
     },
     "metadata": {},
     "output_type": "display_data"
    }
   ],
   "source": [
    "best_model = grid_search.best_estimator_\n",
    "predictions = best_model.predict(X_test)\n",
    "_ = calculate_metrics('SVC-baseline-GS-CV1', y_test, predictions)"
   ]
  },
  {
   "cell_type": "code",
   "execution_count": 11,
   "metadata": {},
   "outputs": [
    {
     "name": "stdout",
     "output_type": "stream",
     "text": [
      "Parameters from place:  0   {'C': 100, 'gamma': 'auto', 'kernel': 'rbf'}\n",
      "Accuracy for chosen parameters: 0.7564956695536309\n",
      "Parameters from place:  1   {'C': 10, 'gamma': 'scale', 'kernel': 'rbf'}\n",
      "Accuracy for chosen parameters: 0.7568287808127915\n",
      "Parameters from place:  2   {'C': 10, 'gamma': 'scale', 'kernel': 'poly'}\n",
      "Accuracy for chosen parameters: 0.7528314457028648\n",
      "Parameters from place:  3   {'C': 100, 'gamma': 'scale', 'kernel': 'rbf'}\n",
      "Accuracy for chosen parameters: 0.7558294470353097\n",
      "Parameters from place:  4   {'C': 10, 'gamma': 'auto', 'kernel': 'rbf'}\n",
      "Accuracy for chosen parameters: 0.7534976682211859\n",
      "Parameters from place:  5   {'C': 1, 'gamma': 'scale', 'kernel': 'rbf'}\n",
      "Accuracy for chosen parameters: 0.7478347768154564\n",
      "Parameters from place:  6   {'C': 1, 'gamma': 'scale', 'kernel': 'poly'}\n",
      "Accuracy for chosen parameters: 0.7498334443704198\n",
      "Parameters from place:  7   {'C': 100, 'gamma': 'scale', 'kernel': 'poly'}\n",
      "Accuracy for chosen parameters: 0.759493670886076\n",
      "Parameters from place:  8   {'C': 10, 'gamma': 'auto', 'kernel': 'linear'}\n",
      "Accuracy for chosen parameters: 0.7528314457028648\n",
      "Parameters from place:  9   {'C': 10, 'gamma': 'scale', 'kernel': 'linear'}\n",
      "Accuracy for chosen parameters: 0.7528314457028648\n"
     ]
    }
   ],
   "source": [
    "# Predicting using other alternatives of fine-tuning from top 10 performances\n",
    "other_alternatives = []\n",
    "# Choose a set of parameters from sorted_results\n",
    "for i in range(10):\n",
    "\n",
    "  params = sorted_results.iloc[i]['params']\n",
    "  print(\"Parameters from place: \", i, \" \", params)\n",
    "\n",
    "  model = SVC(random_state=seed, **params)\n",
    "  model.fit(X_train, y_train)\n",
    "\n",
    "  predictions = model.predict(X_test)\n",
    "\n",
    "  chosen_accuracy = accuracy_score(y_test, predictions)\n",
    "  print(\"Accuracy for chosen parameters:\", chosen_accuracy)\n",
    "  other_alternatives.append((chosen_accuracy,params))\n"
   ]
  },
  {
   "cell_type": "code",
   "execution_count": 12,
   "metadata": {},
   "outputs": [],
   "source": [
    "# get best from top 10\n",
    "best_tuple = max(other_alternatives, key=lambda x: x[0])"
   ]
  },
  {
   "cell_type": "code",
   "execution_count": 13,
   "metadata": {},
   "outputs": [
    {
     "name": "stdout",
     "output_type": "stream",
     "text": [
      "Best accuracy and parameters after running the algorithm using other alternatives of fine tuning from top 10 performances\n",
      "0.759493670886076\n",
      "{'C': 100, 'gamma': 'scale', 'kernel': 'poly'}\n"
     ]
    }
   ],
   "source": [
    "print(\"Best accuracy and parameters after running the algorithm using other alternatives of fine tuning from top 10 performances\")\n",
    "print(best_tuple[0])\n",
    "print(best_tuple[1])"
   ]
  },
  {
   "cell_type": "markdown",
   "metadata": {},
   "source": [
    "Classification report of best model from alternatives of fine tuning"
   ]
  },
  {
   "cell_type": "code",
   "execution_count": 14,
   "metadata": {},
   "outputs": [
    {
     "data": {
      "text/plain": [
       "'              precision    recall  f1-score   support\\n\\n           0       0.75      0.80      0.77      1556\\n           1       0.77      0.72      0.74      1446\\n\\n    accuracy                           0.76      3002\\n   macro avg       0.76      0.76      0.76      3002\\nweighted avg       0.76      0.76      0.76      3002\\n'"
      ]
     },
     "execution_count": 14,
     "metadata": {},
     "output_type": "execute_result"
    }
   ],
   "source": [
    "model = SVC(random_state=seed, **best_tuple[1])\n",
    "model.fit(X_train, y_train)\n",
    "\n",
    "predictions = model.predict(X_test)\n",
    "current_accuracy = accuracy_score(y_test, predictions)\n",
    "\n",
    "classification_report(y_test, predictions, zero_division=0)\n"
   ]
  },
  {
   "cell_type": "code",
   "execution_count": 15,
   "metadata": {},
   "outputs": [
    {
     "name": "stdout",
     "output_type": "stream",
     "text": [
      "Metrics for SVC-baseline-alternatives:\n",
      "Accuracy: 0.7595\n",
      "Weighted F1: 0.7590\n",
      "Weighted Precision: 0.7600\n",
      "Weighted Recall: 0.7595\n",
      "Macro-Averaged Precision: 0.7602\n",
      "Macro-Averaged Recall: 0.7580\n",
      "F1: [0.77479726 0.74195854]\n",
      "Precision: [0.75272727 0.76775148]\n",
      "classification report\n",
      "              precision    recall  f1-score   support\n",
      "\n",
      "     Class 0       0.75      0.80      0.77      1556\n",
      "     Class 1       0.77      0.72      0.74      1446\n",
      "\n",
      "    accuracy                           0.76      3002\n",
      "   macro avg       0.76      0.76      0.76      3002\n",
      "weighted avg       0.76      0.76      0.76      3002\n",
      "\n",
      "Confusion Matrix\n"
     ]
    },
    {
     "data": {
      "image/png": "[encoded data removed]",
      "text/plain": [
       "<Figure size 640x480 with 2 Axes>"
      ]
     },
     "metadata": {},
     "output_type": "display_data"
    },
    {
     "data": {
      "text/html": [
       "<div>\n",
       "<style scoped>\n",
       "    .dataframe tbody tr th:only-of-type {\n",
       "        vertical-align: middle;\n",
       "    }\n",
       "\n",
       "    .dataframe tbody tr th {\n",
       "        vertical-align: top;\n",
       "    }\n",
       "\n",
       "    .dataframe thead th {\n",
       "        text-align: right;\n",
       "    }\n",
       "</style>\n",
       "<table border=\"1\" class=\"dataframe\">\n",
       "  <thead>\n",
       "    <tr style=\"text-align: right;\">\n",
       "      <th></th>\n",
       "      <th>Accuracy</th>\n",
       "      <th>Weighted F1</th>\n",
       "      <th>Weighted Precision</th>\n",
       "      <th>Weighted Recall</th>\n",
       "      <th>Macro-Averaged Precision</th>\n",
       "      <th>Macro-Averaged Recall</th>\n",
       "      <th>F1</th>\n",
       "      <th>Precision</th>\n",
       "    </tr>\n",
       "  </thead>\n",
       "  <tbody>\n",
       "    <tr>\n",
       "      <th>SVC-baseline-alternatives</th>\n",
       "      <td>0.759494</td>\n",
       "      <td>0.75898</td>\n",
       "      <td>0.759964</td>\n",
       "      <td>0.759494</td>\n",
       "      <td>0.760239</td>\n",
       "      <td>0.758021</td>\n",
       "      <td>[0.77479726 0.74195854]</td>\n",
       "      <td>[0.75272727 0.76775148]</td>\n",
       "    </tr>\n",
       "  </tbody>\n",
       "</table>\n",
       "</div>"
      ],
      "text/plain": [
       "                           Accuracy  Weighted F1  Weighted Precision  \\\n",
       "SVC-baseline-alternatives  0.759494      0.75898            0.759964   \n",
       "\n",
       "                           Weighted Recall  Macro-Averaged Precision  \\\n",
       "SVC-baseline-alternatives         0.759494                  0.760239   \n",
       "\n",
       "                           Macro-Averaged Recall                       F1  \\\n",
       "SVC-baseline-alternatives               0.758021  [0.77479726 0.74195854]   \n",
       "\n",
       "                                         Precision  \n",
       "SVC-baseline-alternatives  [0.75272727 0.76775148]  "
      ]
     },
     "execution_count": 15,
     "metadata": {},
     "output_type": "execute_result"
    }
   ],
   "source": [
    "calculate_metrics('SVC-baseline-alternatives', y_test, predictions)"
   ]
  }
 ],
 "metadata": {
  "kernelspec": {
   "display_name": "Python 3",
   "language": "python",
   "name": "python3"
  },
  "language_info": {
   "codemirror_mode": {
    "name": "ipython",
    "version": 3
   },
   "file_extension": ".py",
   "mimetype": "text/x-python",
   "name": "python",
   "nbconvert_exporter": "python",
   "pygments_lexer": "ipython3",
   "version": "3.11.5"
  }
 },
 "nbformat": 4,
 "nbformat_minor": 2
}
