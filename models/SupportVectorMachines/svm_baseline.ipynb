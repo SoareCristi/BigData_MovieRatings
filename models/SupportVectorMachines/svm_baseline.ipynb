{
 "cells": [
  {
   "cell_type": "markdown",
   "metadata": {},
   "source": [
    "## SVM Implementation (reused from previous) on scaled non-reduced dataset"
   ]
  },
  {
   "cell_type": "markdown",
   "metadata": {},
   "source": [
    "Imports"
   ]
  },
  {
   "cell_type": "code",
   "execution_count": 1,
   "metadata": {},
   "outputs": [
    {
     "name": "stderr",
     "output_type": "stream",
     "text": [
      "C:\\Users\\movil\\AppData\\Local\\Packages\\PythonSoftwareFoundation.Python.3.10_qbz5n2kfra8p0\\LocalCache\\local-packages\\Python310\\site-packages\\scipy\\__init__.py:155: UserWarning: A NumPy version >=1.18.5 and <1.25.0 is required for this version of SciPy (detected version 1.26.4\n",
      "  warnings.warn(f\"A NumPy version >={np_minversion} and <{np_maxversion}\"\n"
     ]
    }
   ],
   "source": [
    "# Utilities\n",
    "import pandas as pd\n",
    "import warnings\n",
    "import numpy as np\n",
    "import matplotlib.pyplot as plt\n",
    "\n",
    "# Models\n",
    "import optuna\n",
    "from sklearn.model_selection import train_test_split, cross_val_score\n",
    "from sklearn.svm import SVC\n",
    "from sklearn.ensemble import RandomForestClassifier\n",
    "from sklearn.model_selection import GridSearchCV\n",
    "from sklearn.metrics import accuracy_score, accuracy_score, f1_score\n",
    "from sklearn.metrics import classification_report, precision_score, recall_score, confusion_matrix, ConfusionMatrixDisplay"
   ]
  },
  {
   "cell_type": "markdown",
   "metadata": {},
   "source": [
    "Set random seed for reproductibility"
   ]
  },
  {
   "cell_type": "code",
   "execution_count": 2,
   "metadata": {},
   "outputs": [],
   "source": [
    "seed = 23"
   ]
  },
  {
   "cell_type": "markdown",
   "metadata": {},
   "source": [
    "Read clean (scaled data)"
   ]
  },
  {
   "cell_type": "code",
   "execution_count": 3,
   "metadata": {},
   "outputs": [],
   "source": [
    "df_scaled = pd.read_csv('../../Data/dataset_preprocessed.csv')"
   ]
  },
  {
   "cell_type": "markdown",
   "metadata": {},
   "source": [
    "Take sample for (initial) tests"
   ]
  },
  {
   "cell_type": "code",
   "execution_count": 4,
   "metadata": {},
   "outputs": [],
   "source": [
    "#df_scaled_sample = df_scaled.sample(n=1000, random_state=seed)\n",
    "df_scaled_sample = df_scaled"
   ]
  },
  {
   "cell_type": "markdown",
   "metadata": {},
   "source": [
    "Train-Test Split"
   ]
  },
  {
   "cell_type": "code",
   "execution_count": 5,
   "metadata": {},
   "outputs": [],
   "source": [
    "test_size = 0.2\n",
    "X_train, X_test, y_train, y_test = train_test_split(\n",
    "    df_scaled_sample.drop('averageRating', axis=1), \n",
    "    df_scaled_sample['averageRating'], test_size=test_size, \n",
    "    random_state=seed\n",
    ")"
   ]
  },
  {
   "cell_type": "markdown",
   "metadata": {},
   "source": [
    "Save and print metrics"
   ]
  },
  {
   "cell_type": "code",
   "execution_count": 6,
   "metadata": {},
   "outputs": [],
   "source": [
    "def calculate_metrics(model_name, y_true, y_pred):\n",
    "    metrics = {\n",
    "        'Accuracy': accuracy_score(y_true, y_pred),\n",
    "        'Weighted F1': f1_score(y_true, y_pred, average='weighted'),\n",
    "        'Weighted Precision': precision_score(y_true, y_pred, average='weighted', zero_division=0),\n",
    "        'Weighted Recall': recall_score(y_true, y_pred, average='weighted'),\n",
    "        'Macro-Averaged Precision': precision_score(y_true, y_pred, average='macro', zero_division=0),\n",
    "        'Macro-Averaged Recall': recall_score(y_true, y_pred, average='macro'),\n",
    "        'F1': str(f1_score(y_true, y_pred, average=None)),\n",
    "        'Precision': str( precision_score(y_true, y_pred, average=None, zero_division=0)),\n",
    "    }\n",
    "    \n",
    "    # Print the metrics\n",
    "    print(f\"Metrics for {model_name}:\")\n",
    "    for metric_name, metric_value in metrics.items():\n",
    "        try:\n",
    "            print(f\"{metric_name}: {metric_value:.4f}\")\n",
    "        except:\n",
    "            print(f\"{metric_name}: {metric_value}\")\n",
    "    \n",
    "    # Print the classification report\n",
    "    print(\"classification report\")\n",
    "    report = classification_report(y_true, y_pred, target_names=['Class 0', 'Class 1'], zero_division=0)\n",
    "    print(report)\n",
    "\n",
    "    print(\"Confusion Matrix\")\n",
    "    cm = confusion_matrix(y_true, y_pred)\n",
    "    cmd = ConfusionMatrixDisplay(confusion_matrix=cm)\n",
    "    cmd.plot()\n",
    "    \n",
    "    plt.title(f'Confusion matrix for model {model_name} (Accuracy:{metrics[\"Accuracy\"]:.4f})')\n",
    "    plt.show()\n",
    "    \n",
    "    # Create df to store metrics\n",
    "    df_metrics = pd.DataFrame(metrics, index=[model_name])\n",
    "    \n",
    "    return df_metrics"
   ]
  },
  {
   "cell_type": "code",
   "execution_count": 7,
   "metadata": {},
   "outputs": [
    {
     "name": "stdout",
     "output_type": "stream",
     "text": [
      "Accuracy: 0.7478347768154564\n",
      "F1 score: [0.77067555 0.71994081]\n"
     ]
    }
   ],
   "source": [
    "model = SVC(random_state=seed)\n",
    "model.fit(X_train, y_train)\n",
    "\n",
    "predictions = model.predict(X_test)\n",
    "print(\"Accuracy:\", accuracy_score(y_test, predictions))\n",
    "\n",
    "print(\"F1 score:\", f1_score(y_test, predictions, average=None))"
   ]
  },
  {
   "cell_type": "markdown",
   "metadata": {},
   "source": [
    "## Grid Search CV - 1"
   ]
  },
  {
   "cell_type": "code",
   "execution_count": 8,
   "metadata": {},
   "outputs": [
    {
     "name": "stdout",
     "output_type": "stream",
     "text": [
      "Fitting 3 folds for each of 32 candidates, totalling 96 fits\n"
     ]
    }
   ],
   "source": [
    "param_grid = {\n",
    "    'C': [0.1, 1, 10, 100],\n",
    "    'kernel': ['rbf', 'linear', 'poly', 'sigmoid'],\n",
    "    'gamma': ['scale', 'auto'],\n",
    "}\n",
    "\n",
    "model = SVC(random_state=seed)\n",
    "\n",
    "grid_search = GridSearchCV(estimator=model, param_grid=param_grid, cv=3, n_jobs=-1, verbose=2, scoring='accuracy')\n",
    "grid_search.fit(X_train, y_train)\n",
    "\n",
    "print(\"The parameters with the highest score: \", grid_search.best_params_)"
   ]
  },
  {
   "cell_type": "code",
   "execution_count": null,
   "metadata": {},
   "outputs": [],
   "source": [
    "cv_results_df = pd.DataFrame(grid_search.cv_results_)\n",
    "\n",
    "# Show top 10 parameters for this model\n",
    "minimalistic_results = cv_results_df[['params', 'mean_test_score']]\n",
    "sorted_results = minimalistic_results.sort_values(by='mean_test_score', ascending=False)\n",
    "\n",
    "print(sorted_results.head(10))"
   ]
  },
  {
   "cell_type": "code",
   "execution_count": null,
   "metadata": {},
   "outputs": [],
   "source": [
    "best_model = grid_search.best_estimator_\n",
    "predictions = best_model.predict(X_test)\n",
    "_ = calculate_metrics('SVC-baseline-GS-CV1', y_test, predictions)"
   ]
  },
  {
   "cell_type": "code",
   "execution_count": null,
   "metadata": {},
   "outputs": [],
   "source": [
    "# Predicting using other alternatives of fine-tuning from top 10 performances\n",
    "other_alternatives = []\n",
    "# Choose a set of parameters from sorted_results\n",
    "for i in range(10):\n",
    "\n",
    "  params = sorted_results.iloc[i]['params']\n",
    "  print(\"Parameters from place: \", i, \" \", params)\n",
    "\n",
    "  model = SVC(random_state=seed, **params)\n",
    "  model.fit(X_train, y_train)\n",
    "\n",
    "  predictions = model.predict(X_test)\n",
    "\n",
    "  chosen_accuracy = accuracy_score(y_test, predictions)\n",
    "  print(\"Accuracy for chosen parameters:\", chosen_accuracy)\n",
    "  other_alternatives.append((chosen_accuracy,params))\n"
   ]
  },
  {
   "cell_type": "code",
   "execution_count": null,
   "metadata": {},
   "outputs": [],
   "source": [
    "# get best from top 10\n",
    "best_tuple = max(other_alternatives, key=lambda x: x[0])"
   ]
  },
  {
   "cell_type": "code",
   "execution_count": null,
   "metadata": {},
   "outputs": [],
   "source": [
    "print(\"Best accuracy and parameters after running the algorithm using other alternatives of fine tuning from top 10 performances\")\n",
    "print(best_tuple[0])\n",
    "print(best_tuple[1])"
   ]
  },
  {
   "cell_type": "markdown",
   "metadata": {},
   "source": [
    "Classification report of best model from alternatives of fine tuning"
   ]
  },
  {
   "cell_type": "code",
   "execution_count": null,
   "metadata": {},
   "outputs": [],
   "source": [
    "model = SVC(random_state=seed, **best_tuple[1])\n",
    "model.fit(X_train, y_train)\n",
    "\n",
    "predictions = model.predict(X_test)\n",
    "current_accuracy = accuracy_score(y_test, predictions)\n",
    "\n",
    "classification_report(y_test, predictions, zero_division=0)\n"
   ]
  },
  {
   "cell_type": "code",
   "execution_count": null,
   "metadata": {},
   "outputs": [],
   "source": [
    "calculate_metrics('SVC-baseline-alternatives', y_test, predictions)"
   ]
  }
 ],
 "metadata": {
  "kernelspec": {
   "display_name": "Python 3",
   "language": "python",
   "name": "python3"
  },
  "language_info": {
   "codemirror_mode": {
    "name": "ipython",
    "version": 3
   },
   "file_extension": ".py",
   "mimetype": "text/x-python",
   "name": "python",
   "nbconvert_exporter": "python",
   "pygments_lexer": "ipython3",
   "version": "3.10.11"
  }
 },
 "nbformat": 4,
 "nbformat_minor": 2
}
