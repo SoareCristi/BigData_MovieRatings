{
 "cells": [
  {
   "cell_type": "markdown",
   "metadata": {},
   "source": [
    "## SVM Implementation on scaled reduced dataset with PCA"
   ]
  },
  {
   "cell_type": "markdown",
   "metadata": {},
   "source": [
    "Imports"
   ]
  },
  {
   "cell_type": "code",
   "execution_count": 3,
   "metadata": {},
   "outputs": [
    {
     "name": "stderr",
     "output_type": "stream",
     "text": [
      "C:\\Users\\movil\\AppData\\Local\\Packages\\PythonSoftwareFoundation.Python.3.10_qbz5n2kfra8p0\\LocalCache\\local-packages\\Python310\\site-packages\\scipy\\__init__.py:155: UserWarning: A NumPy version >=1.18.5 and <1.25.0 is required for this version of SciPy (detected version 1.26.4\n",
      "  warnings.warn(f\"A NumPy version >={np_minversion} and <{np_maxversion}\"\n"
     ]
    }
   ],
   "source": [
    "# Utilities\n",
    "import pandas as pd\n",
    "import warnings\n",
    "import numpy as np\n",
    "import matplotlib.pyplot as plt\n",
    "\n",
    "# Models\n",
    "import optuna\n",
    "from sklearn.model_selection import train_test_split, cross_val_score\n",
    "from sklearn.svm import SVC\n",
    "from sklearn.ensemble import RandomForestClassifier\n",
    "from sklearn.model_selection import GridSearchCV\n",
    "from sklearn.metrics import accuracy_score, accuracy_score, f1_score\n",
    "from sklearn.metrics import classification_report, precision_score, recall_score, confusion_matrix, ConfusionMatrixDisplay"
   ]
  },
  {
   "cell_type": "markdown",
   "metadata": {},
   "source": [
    "Set random seed for reproductibility"
   ]
  },
  {
   "cell_type": "code",
   "execution_count": 4,
   "metadata": {},
   "outputs": [],
   "source": [
    "seed = 23"
   ]
  },
  {
   "cell_type": "markdown",
   "metadata": {},
   "source": [
    "Read clean (scaled data)"
   ]
  },
  {
   "cell_type": "code",
   "execution_count": 5,
   "metadata": {},
   "outputs": [],
   "source": [
    "df_scaled = pd.read_csv('../../Data/dataset_preprocessed.csv')"
   ]
  },
  {
   "cell_type": "markdown",
   "metadata": {},
   "source": [
    "Read Train Data"
   ]
  },
  {
   "cell_type": "code",
   "execution_count": 6,
   "metadata": {},
   "outputs": [],
   "source": [
    "columns_PCA = ['PC1', 'PC2', 'PC3', 'PC4', 'PC5', 'PC6', 'PC7', 'PC8', 'PC9', 'PC10',\n",
    "           'PC11', 'PC12', 'PC13', 'PC14', 'PC15', 'PC16', 'PC17', 'PC18']"
   ]
  },
  {
   "cell_type": "code",
   "execution_count": 7,
   "metadata": {},
   "outputs": [
    {
     "data": {
      "text/html": [
       "<div>\n",
       "<style scoped>\n",
       "    .dataframe tbody tr th:only-of-type {\n",
       "        vertical-align: middle;\n",
       "    }\n",
       "\n",
       "    .dataframe tbody tr th {\n",
       "        vertical-align: top;\n",
       "    }\n",
       "\n",
       "    .dataframe thead th {\n",
       "        text-align: right;\n",
       "    }\n",
       "</style>\n",
       "<table border=\"1\" class=\"dataframe\">\n",
       "  <thead>\n",
       "    <tr style=\"text-align: right;\">\n",
       "      <th></th>\n",
       "      <th>PC1</th>\n",
       "      <th>PC2</th>\n",
       "      <th>PC3</th>\n",
       "      <th>PC4</th>\n",
       "      <th>PC5</th>\n",
       "      <th>PC6</th>\n",
       "      <th>PC7</th>\n",
       "      <th>PC8</th>\n",
       "      <th>PC9</th>\n",
       "      <th>PC10</th>\n",
       "      <th>PC11</th>\n",
       "      <th>PC12</th>\n",
       "      <th>PC13</th>\n",
       "      <th>PC14</th>\n",
       "      <th>PC15</th>\n",
       "      <th>PC16</th>\n",
       "      <th>PC17</th>\n",
       "      <th>PC18</th>\n",
       "    </tr>\n",
       "  </thead>\n",
       "  <tbody>\n",
       "    <tr>\n",
       "      <th>0</th>\n",
       "      <td>0.230656</td>\n",
       "      <td>-0.540199</td>\n",
       "      <td>0.275241</td>\n",
       "      <td>0.348734</td>\n",
       "      <td>0.442168</td>\n",
       "      <td>-0.244893</td>\n",
       "      <td>-0.305579</td>\n",
       "      <td>-0.388014</td>\n",
       "      <td>0.483440</td>\n",
       "      <td>-0.050057</td>\n",
       "      <td>0.114171</td>\n",
       "      <td>0.037729</td>\n",
       "      <td>-0.133432</td>\n",
       "      <td>0.084029</td>\n",
       "      <td>0.211571</td>\n",
       "      <td>-0.000299</td>\n",
       "      <td>0.276030</td>\n",
       "      <td>0.133585</td>\n",
       "    </tr>\n",
       "    <tr>\n",
       "      <th>1</th>\n",
       "      <td>-0.578532</td>\n",
       "      <td>-0.273813</td>\n",
       "      <td>-0.207024</td>\n",
       "      <td>0.202237</td>\n",
       "      <td>0.438744</td>\n",
       "      <td>-0.422858</td>\n",
       "      <td>0.108360</td>\n",
       "      <td>-0.469457</td>\n",
       "      <td>0.476055</td>\n",
       "      <td>0.098184</td>\n",
       "      <td>0.022312</td>\n",
       "      <td>0.125669</td>\n",
       "      <td>0.187688</td>\n",
       "      <td>-0.019637</td>\n",
       "      <td>-0.181937</td>\n",
       "      <td>-0.064250</td>\n",
       "      <td>-0.107400</td>\n",
       "      <td>0.057437</td>\n",
       "    </tr>\n",
       "    <tr>\n",
       "      <th>2</th>\n",
       "      <td>-0.207271</td>\n",
       "      <td>1.096294</td>\n",
       "      <td>-0.124524</td>\n",
       "      <td>-0.014919</td>\n",
       "      <td>0.302102</td>\n",
       "      <td>0.276747</td>\n",
       "      <td>0.024807</td>\n",
       "      <td>-0.079499</td>\n",
       "      <td>0.016929</td>\n",
       "      <td>0.018033</td>\n",
       "      <td>-0.071089</td>\n",
       "      <td>-0.003510</td>\n",
       "      <td>-0.020689</td>\n",
       "      <td>-0.065503</td>\n",
       "      <td>-0.117356</td>\n",
       "      <td>-0.056667</td>\n",
       "      <td>-0.133169</td>\n",
       "      <td>-0.121348</td>\n",
       "    </tr>\n",
       "    <tr>\n",
       "      <th>3</th>\n",
       "      <td>-0.549501</td>\n",
       "      <td>-0.271749</td>\n",
       "      <td>0.166219</td>\n",
       "      <td>0.161220</td>\n",
       "      <td>0.278617</td>\n",
       "      <td>-0.671476</td>\n",
       "      <td>-0.287128</td>\n",
       "      <td>0.591844</td>\n",
       "      <td>-0.668737</td>\n",
       "      <td>-0.173965</td>\n",
       "      <td>-0.421168</td>\n",
       "      <td>-0.101647</td>\n",
       "      <td>-0.332900</td>\n",
       "      <td>-0.157359</td>\n",
       "      <td>0.086729</td>\n",
       "      <td>0.130933</td>\n",
       "      <td>-0.221770</td>\n",
       "      <td>-0.134654</td>\n",
       "    </tr>\n",
       "    <tr>\n",
       "      <th>4</th>\n",
       "      <td>-0.605220</td>\n",
       "      <td>-0.210550</td>\n",
       "      <td>-0.406984</td>\n",
       "      <td>0.455269</td>\n",
       "      <td>-0.336895</td>\n",
       "      <td>0.182399</td>\n",
       "      <td>0.298030</td>\n",
       "      <td>0.309622</td>\n",
       "      <td>0.071143</td>\n",
       "      <td>-0.035126</td>\n",
       "      <td>0.191219</td>\n",
       "      <td>-0.142084</td>\n",
       "      <td>0.191455</td>\n",
       "      <td>0.036069</td>\n",
       "      <td>-0.138503</td>\n",
       "      <td>0.001297</td>\n",
       "      <td>-0.030649</td>\n",
       "      <td>0.106555</td>\n",
       "    </tr>\n",
       "  </tbody>\n",
       "</table>\n",
       "</div>"
      ],
      "text/plain": [
       "        PC1       PC2       PC3       PC4       PC5       PC6       PC7  \\\n",
       "0  0.230656 -0.540199  0.275241  0.348734  0.442168 -0.244893 -0.305579   \n",
       "1 -0.578532 -0.273813 -0.207024  0.202237  0.438744 -0.422858  0.108360   \n",
       "2 -0.207271  1.096294 -0.124524 -0.014919  0.302102  0.276747  0.024807   \n",
       "3 -0.549501 -0.271749  0.166219  0.161220  0.278617 -0.671476 -0.287128   \n",
       "4 -0.605220 -0.210550 -0.406984  0.455269 -0.336895  0.182399  0.298030   \n",
       "\n",
       "        PC8       PC9      PC10      PC11      PC12      PC13      PC14  \\\n",
       "0 -0.388014  0.483440 -0.050057  0.114171  0.037729 -0.133432  0.084029   \n",
       "1 -0.469457  0.476055  0.098184  0.022312  0.125669  0.187688 -0.019637   \n",
       "2 -0.079499  0.016929  0.018033 -0.071089 -0.003510 -0.020689 -0.065503   \n",
       "3  0.591844 -0.668737 -0.173965 -0.421168 -0.101647 -0.332900 -0.157359   \n",
       "4  0.309622  0.071143 -0.035126  0.191219 -0.142084  0.191455  0.036069   \n",
       "\n",
       "       PC15      PC16      PC17      PC18  \n",
       "0  0.211571 -0.000299  0.276030  0.133585  \n",
       "1 -0.181937 -0.064250 -0.107400  0.057437  \n",
       "2 -0.117356 -0.056667 -0.133169 -0.121348  \n",
       "3  0.086729  0.130933 -0.221770 -0.134654  \n",
       "4 -0.138503  0.001297 -0.030649  0.106555  "
      ]
     },
     "execution_count": 7,
     "metadata": {},
     "output_type": "execute_result"
    }
   ],
   "source": [
    "X_train= pd.read_csv('../../DimensionalityReductionData/X_train_PCA.csv', names=columns_PCA)\n",
    "X_train.head()"
   ]
  },
  {
   "cell_type": "markdown",
   "metadata": {},
   "source": [
    "Read Test Data"
   ]
  },
  {
   "cell_type": "code",
   "execution_count": 8,
   "metadata": {},
   "outputs": [
    {
     "data": {
      "text/html": [
       "<div>\n",
       "<style scoped>\n",
       "    .dataframe tbody tr th:only-of-type {\n",
       "        vertical-align: middle;\n",
       "    }\n",
       "\n",
       "    .dataframe tbody tr th {\n",
       "        vertical-align: top;\n",
       "    }\n",
       "\n",
       "    .dataframe thead th {\n",
       "        text-align: right;\n",
       "    }\n",
       "</style>\n",
       "<table border=\"1\" class=\"dataframe\">\n",
       "  <thead>\n",
       "    <tr style=\"text-align: right;\">\n",
       "      <th></th>\n",
       "      <th>PC1</th>\n",
       "      <th>PC2</th>\n",
       "      <th>PC3</th>\n",
       "      <th>PC4</th>\n",
       "      <th>PC5</th>\n",
       "      <th>PC6</th>\n",
       "      <th>PC7</th>\n",
       "      <th>PC8</th>\n",
       "      <th>PC9</th>\n",
       "      <th>PC10</th>\n",
       "      <th>PC11</th>\n",
       "      <th>PC12</th>\n",
       "      <th>PC13</th>\n",
       "      <th>PC14</th>\n",
       "      <th>PC15</th>\n",
       "      <th>PC16</th>\n",
       "      <th>PC17</th>\n",
       "      <th>PC18</th>\n",
       "    </tr>\n",
       "  </thead>\n",
       "  <tbody>\n",
       "    <tr>\n",
       "      <th>0</th>\n",
       "      <td>0.325189</td>\n",
       "      <td>-0.474065</td>\n",
       "      <td>0.148350</td>\n",
       "      <td>0.015025</td>\n",
       "      <td>0.453967</td>\n",
       "      <td>-0.382437</td>\n",
       "      <td>0.009063</td>\n",
       "      <td>0.696200</td>\n",
       "      <td>-0.577426</td>\n",
       "      <td>-0.029937</td>\n",
       "      <td>-0.099144</td>\n",
       "      <td>0.654157</td>\n",
       "      <td>0.475839</td>\n",
       "      <td>0.289828</td>\n",
       "      <td>-0.034359</td>\n",
       "      <td>-0.584359</td>\n",
       "      <td>0.783886</td>\n",
       "      <td>-0.206918</td>\n",
       "    </tr>\n",
       "    <tr>\n",
       "      <th>1</th>\n",
       "      <td>-0.553038</td>\n",
       "      <td>-0.060147</td>\n",
       "      <td>0.246432</td>\n",
       "      <td>-0.094217</td>\n",
       "      <td>-0.152499</td>\n",
       "      <td>-0.133879</td>\n",
       "      <td>0.046601</td>\n",
       "      <td>-0.127948</td>\n",
       "      <td>-0.063073</td>\n",
       "      <td>-0.262155</td>\n",
       "      <td>0.036293</td>\n",
       "      <td>-0.084048</td>\n",
       "      <td>-0.114584</td>\n",
       "      <td>0.030450</td>\n",
       "      <td>0.102251</td>\n",
       "      <td>-0.048580</td>\n",
       "      <td>0.100263</td>\n",
       "      <td>0.069443</td>\n",
       "    </tr>\n",
       "    <tr>\n",
       "      <th>2</th>\n",
       "      <td>-0.543513</td>\n",
       "      <td>-0.099255</td>\n",
       "      <td>0.273981</td>\n",
       "      <td>-0.140697</td>\n",
       "      <td>-0.202855</td>\n",
       "      <td>-0.145719</td>\n",
       "      <td>-0.165479</td>\n",
       "      <td>-0.040533</td>\n",
       "      <td>-0.045461</td>\n",
       "      <td>-0.230001</td>\n",
       "      <td>0.047889</td>\n",
       "      <td>-0.076919</td>\n",
       "      <td>-0.013481</td>\n",
       "      <td>0.034937</td>\n",
       "      <td>0.047416</td>\n",
       "      <td>-0.038551</td>\n",
       "      <td>0.040234</td>\n",
       "      <td>0.096922</td>\n",
       "    </tr>\n",
       "    <tr>\n",
       "      <th>3</th>\n",
       "      <td>0.604992</td>\n",
       "      <td>0.850389</td>\n",
       "      <td>0.205670</td>\n",
       "      <td>0.134501</td>\n",
       "      <td>0.422158</td>\n",
       "      <td>0.448003</td>\n",
       "      <td>-0.124164</td>\n",
       "      <td>-0.002779</td>\n",
       "      <td>0.023872</td>\n",
       "      <td>-0.005055</td>\n",
       "      <td>-0.010426</td>\n",
       "      <td>-0.033946</td>\n",
       "      <td>-0.181834</td>\n",
       "      <td>0.042114</td>\n",
       "      <td>0.137483</td>\n",
       "      <td>0.011521</td>\n",
       "      <td>0.138021</td>\n",
       "      <td>0.009279</td>\n",
       "    </tr>\n",
       "    <tr>\n",
       "      <th>4</th>\n",
       "      <td>-0.222045</td>\n",
       "      <td>1.101761</td>\n",
       "      <td>-0.093482</td>\n",
       "      <td>-0.005867</td>\n",
       "      <td>0.283825</td>\n",
       "      <td>0.294311</td>\n",
       "      <td>0.032426</td>\n",
       "      <td>-0.116046</td>\n",
       "      <td>0.009989</td>\n",
       "      <td>-0.017200</td>\n",
       "      <td>-0.072850</td>\n",
       "      <td>-0.009081</td>\n",
       "      <td>-0.097862</td>\n",
       "      <td>-0.067777</td>\n",
       "      <td>-0.070239</td>\n",
       "      <td>-0.058562</td>\n",
       "      <td>-0.076902</td>\n",
       "      <td>-0.149065</td>\n",
       "    </tr>\n",
       "  </tbody>\n",
       "</table>\n",
       "</div>"
      ],
      "text/plain": [
       "        PC1       PC2       PC3       PC4       PC5       PC6       PC7  \\\n",
       "0  0.325189 -0.474065  0.148350  0.015025  0.453967 -0.382437  0.009063   \n",
       "1 -0.553038 -0.060147  0.246432 -0.094217 -0.152499 -0.133879  0.046601   \n",
       "2 -0.543513 -0.099255  0.273981 -0.140697 -0.202855 -0.145719 -0.165479   \n",
       "3  0.604992  0.850389  0.205670  0.134501  0.422158  0.448003 -0.124164   \n",
       "4 -0.222045  1.101761 -0.093482 -0.005867  0.283825  0.294311  0.032426   \n",
       "\n",
       "        PC8       PC9      PC10      PC11      PC12      PC13      PC14  \\\n",
       "0  0.696200 -0.577426 -0.029937 -0.099144  0.654157  0.475839  0.289828   \n",
       "1 -0.127948 -0.063073 -0.262155  0.036293 -0.084048 -0.114584  0.030450   \n",
       "2 -0.040533 -0.045461 -0.230001  0.047889 -0.076919 -0.013481  0.034937   \n",
       "3 -0.002779  0.023872 -0.005055 -0.010426 -0.033946 -0.181834  0.042114   \n",
       "4 -0.116046  0.009989 -0.017200 -0.072850 -0.009081 -0.097862 -0.067777   \n",
       "\n",
       "       PC15      PC16      PC17      PC18  \n",
       "0 -0.034359 -0.584359  0.783886 -0.206918  \n",
       "1  0.102251 -0.048580  0.100263  0.069443  \n",
       "2  0.047416 -0.038551  0.040234  0.096922  \n",
       "3  0.137483  0.011521  0.138021  0.009279  \n",
       "4 -0.070239 -0.058562 -0.076902 -0.149065  "
      ]
     },
     "execution_count": 8,
     "metadata": {},
     "output_type": "execute_result"
    }
   ],
   "source": [
    "X_test = pd.read_csv('../../DimensionalityReductionData/X_test_PCA.csv', names=columns_PCA)\n",
    "X_test.head()"
   ]
  },
  {
   "cell_type": "markdown",
   "metadata": {},
   "source": [
    "Do Train-Test Split to define y_train, y_test (both are raings)\n",
    "!!!! IMPORTANT use random_state as defined in Dimension Reduction DATA SPLIT!!!!"
   ]
  },
  {
   "cell_type": "code",
   "execution_count": 9,
   "metadata": {},
   "outputs": [],
   "source": [
    "y_train, y_test = train_test_split(df_scaled['averageRating'], test_size=0.2, random_state=42)"
   ]
  },
  {
   "cell_type": "markdown",
   "metadata": {},
   "source": [
    "Now everything is defined (X_train, X_test, y_train, y_test)"
   ]
  },
  {
   "cell_type": "markdown",
   "metadata": {},
   "source": [
    "Save and print metrics"
   ]
  },
  {
   "cell_type": "code",
   "execution_count": 10,
   "metadata": {},
   "outputs": [],
   "source": [
    "def calculate_metrics(model_name, y_true, y_pred):\n",
    "    metrics = {\n",
    "        'Accuracy': accuracy_score(y_true, y_pred),\n",
    "        'Weighted F1': f1_score(y_true, y_pred, average='weighted'),\n",
    "        'Weighted Precision': precision_score(y_true, y_pred, average='weighted', zero_division=0),\n",
    "        'Weighted Recall': recall_score(y_true, y_pred, average='weighted'),\n",
    "        'Macro-Averaged Precision': precision_score(y_true, y_pred, average='macro', zero_division=0),\n",
    "        'Macro-Averaged Recall': recall_score(y_true, y_pred, average='macro'),\n",
    "        'F1': str(f1_score(y_true, y_pred, average=None)),\n",
    "        'Precision': str( precision_score(y_true, y_pred, average=None, zero_division=0)),\n",
    "    }\n",
    "    \n",
    "    # Print the metrics\n",
    "    print(f\"Metrics for {model_name}:\")\n",
    "    for metric_name, metric_value in metrics.items():\n",
    "        try:\n",
    "            print(f\"{metric_name}: {metric_value:.4f}\")\n",
    "        except:\n",
    "            print(f\"{metric_name}: {metric_value}\")\n",
    "    \n",
    "    # Print the classification report\n",
    "    print(\"classification report\")\n",
    "    report = classification_report(y_true, y_pred, target_names=['Class 0', 'Class 1'], zero_division=0)\n",
    "    print(report)\n",
    "\n",
    "    print(\"Confusion Matrix\")\n",
    "    cm = confusion_matrix(y_true, y_pred)\n",
    "    cmd = ConfusionMatrixDisplay(confusion_matrix=cm)\n",
    "    cmd.plot()\n",
    "    \n",
    "    plt.title(f'Confusion matrix for model {model_name} (Accuracy:{metrics[\"Accuracy\"]:.4f})')\n",
    "    plt.show()\n",
    "    \n",
    "    # Create df to store metrics\n",
    "    df_metrics = pd.DataFrame(metrics, index=[model_name])\n",
    "    \n",
    "    return df_metrics"
   ]
  },
  {
   "cell_type": "code",
   "execution_count": 8,
   "metadata": {},
   "outputs": [
    {
     "name": "stdout",
     "output_type": "stream",
     "text": [
      "Accuracy: 0.7428381079280479\n",
      "F1 score: [0.75738529 0.72643515]\n"
     ]
    }
   ],
   "source": [
    "model = SVC(random_state=seed)\n",
    "model.fit(X_train, y_train)\n",
    "\n",
    "predictions = model.predict(X_test)\n",
    "print(\"Accuracy:\", accuracy_score(y_test, predictions))\n",
    "\n",
    "print(\"F1 score:\", f1_score(y_test, predictions, average=None))"
   ]
  },
  {
   "cell_type": "markdown",
   "metadata": {},
   "source": [
    "## Grid Search CV - 1"
   ]
  },
  {
   "cell_type": "code",
   "execution_count": 9,
   "metadata": {},
   "outputs": [
    {
     "name": "stdout",
     "output_type": "stream",
     "text": [
      "Fitting 3 folds for each of 32 candidates, totalling 96 fits\n",
      "The parameters with the highest score:  {'C': 0.1, 'gamma': 'scale', 'kernel': 'rbf'}\n"
     ]
    }
   ],
   "source": [
    "param_grid = {\n",
    "    'C': [0.1, 1, 10, 100],\n",
    "    'kernel': ['rbf', 'linear', 'poly', 'sigmoid'],\n",
    "    'gamma': ['scale', 'auto'],\n",
    "}\n",
    "\n",
    "model = SVC(random_state=seed)\n",
    "\n",
    "grid_search = GridSearchCV(estimator=model, param_grid=param_grid, cv=3, n_jobs=-1, verbose=2, scoring='accuracy')\n",
    "grid_search.fit(X_train, y_train)\n",
    "\n",
    "print(\"The parameters with the highest score: \", grid_search.best_params_)"
   ]
  },
  {
   "cell_type": "code",
   "execution_count": 10,
   "metadata": {},
   "outputs": [
    {
     "name": "stdout",
     "output_type": "stream",
     "text": [
      "                                              params  mean_test_score\n",
      "0      {'C': 0.1, 'gamma': 'scale', 'kernel': 'rbf'}         0.735694\n",
      "4       {'C': 0.1, 'gamma': 'auto', 'kernel': 'rbf'}         0.735110\n",
      "8        {'C': 1, 'gamma': 'scale', 'kernel': 'rbf'}         0.734944\n",
      "24     {'C': 100, 'gamma': 'scale', 'kernel': 'rbf'}         0.734777\n",
      "12        {'C': 1, 'gamma': 'auto', 'kernel': 'rbf'}         0.734694\n",
      "16      {'C': 10, 'gamma': 'scale', 'kernel': 'rbf'}         0.734694\n",
      "28      {'C': 100, 'gamma': 'auto', 'kernel': 'rbf'}         0.734194\n",
      "20       {'C': 10, 'gamma': 'auto', 'kernel': 'rbf'}         0.734194\n",
      "1   {'C': 0.1, 'gamma': 'scale', 'kernel': 'linear'}         0.733361\n",
      "13     {'C': 1, 'gamma': 'auto', 'kernel': 'linear'}         0.733361\n"
     ]
    }
   ],
   "source": [
    "cv_results_df = pd.DataFrame(grid_search.cv_results_)\n",
    "\n",
    "# Show top 10 parameters for this model\n",
    "minimalistic_results = cv_results_df[['params', 'mean_test_score']]\n",
    "sorted_results = minimalistic_results.sort_values(by='mean_test_score', ascending=False)\n",
    "\n",
    "print(sorted_results.head(10))"
   ]
  },
  {
   "cell_type": "code",
   "execution_count": 12,
   "metadata": {},
   "outputs": [
    {
     "ename": "NameError",
     "evalue": "name 'grid_search' is not defined",
     "output_type": "error",
     "traceback": [
      "\u001b[1;31m---------------------------------------------------------------------------\u001b[0m",
      "\u001b[1;31mNameError\u001b[0m                                 Traceback (most recent call last)",
      "Input \u001b[1;32mIn [12]\u001b[0m, in \u001b[0;36m<cell line: 1>\u001b[1;34m()\u001b[0m\n\u001b[1;32m----> 1\u001b[0m best_model \u001b[38;5;241m=\u001b[39m \u001b[43mgrid_search\u001b[49m\u001b[38;5;241m.\u001b[39mbest_estimator_\n\u001b[0;32m      2\u001b[0m predictions \u001b[38;5;241m=\u001b[39m best_model\u001b[38;5;241m.\u001b[39mpredict(X_test)\n\u001b[0;32m      3\u001b[0m _ \u001b[38;5;241m=\u001b[39m calculate_metrics(\u001b[38;5;124m'\u001b[39m\u001b[38;5;124mSVC-PCA-GS-CV1\u001b[39m\u001b[38;5;124m'\u001b[39m, y_test, predictions)\n",
      "\u001b[1;31mNameError\u001b[0m: name 'grid_search' is not defined"
     ]
    }
   ],
   "source": [
    "best_model = grid_search.best_estimator_\n",
    "predictions = best_model.predict(X_test)\n",
    "_ = calculate_metrics('SVC-PCA-GS-CV1', y_test, predictions)"
   ]
  },
  {
   "cell_type": "code",
   "execution_count": 12,
   "metadata": {},
   "outputs": [
    {
     "name": "stdout",
     "output_type": "stream",
     "text": [
      "Parameters from place:  0   {'C': 0.1, 'gamma': 'scale', 'kernel': 'rbf'}\n",
      "Accuracy for chosen parameters: 0.7428381079280479\n",
      "Parameters from place:  1   {'C': 0.1, 'gamma': 'auto', 'kernel': 'rbf'}\n",
      "Accuracy for chosen parameters: 0.7428381079280479\n",
      "Parameters from place:  2   {'C': 1, 'gamma': 'scale', 'kernel': 'rbf'}\n",
      "Accuracy for chosen parameters: 0.7428381079280479\n",
      "Parameters from place:  3   {'C': 100, 'gamma': 'scale', 'kernel': 'rbf'}\n",
      "Accuracy for chosen parameters: 0.7431712191872085\n",
      "Parameters from place:  4   {'C': 1, 'gamma': 'auto', 'kernel': 'rbf'}\n",
      "Accuracy for chosen parameters: 0.7431712191872085\n",
      "Parameters from place:  5   {'C': 10, 'gamma': 'scale', 'kernel': 'rbf'}\n",
      "Accuracy for chosen parameters: 0.7431712191872085\n",
      "Parameters from place:  6   {'C': 100, 'gamma': 'auto', 'kernel': 'rbf'}\n",
      "Accuracy for chosen parameters: 0.7441705529646903\n",
      "Parameters from place:  7   {'C': 10, 'gamma': 'auto', 'kernel': 'rbf'}\n",
      "Accuracy for chosen parameters: 0.7435043304463691\n",
      "Parameters from place:  8   {'C': 0.1, 'gamma': 'scale', 'kernel': 'linear'}\n",
      "Accuracy for chosen parameters: 0.7435043304463691\n",
      "Parameters from place:  9   {'C': 1, 'gamma': 'auto', 'kernel': 'linear'}\n",
      "Accuracy for chosen parameters: 0.7435043304463691\n"
     ]
    }
   ],
   "source": [
    "# Predicting using other alternatives of fine-tuning from top 10 performances\n",
    "other_alternatives = []\n",
    "# Choose a set of parameters from sorted_results\n",
    "for i in range(10):\n",
    "\n",
    "  params = sorted_results.iloc[i]['params']\n",
    "  print(\"Parameters from place: \", i, \" \", params)\n",
    "\n",
    "  model = SVC(random_state=seed, **params)\n",
    "  model.fit(X_train, y_train)\n",
    "\n",
    "  predictions = model.predict(X_test)\n",
    "\n",
    "  chosen_accuracy = accuracy_score(y_test, predictions)\n",
    "  print(\"Accuracy for chosen parameters:\", chosen_accuracy)\n",
    "  other_alternatives.append((chosen_accuracy,params))\n"
   ]
  },
  {
   "cell_type": "code",
   "execution_count": 13,
   "metadata": {},
   "outputs": [],
   "source": [
    "# get best from top 10\n",
    "best_tuple = max(other_alternatives, key=lambda x: x[0])"
   ]
  },
  {
   "cell_type": "code",
   "execution_count": 14,
   "metadata": {},
   "outputs": [
    {
     "name": "stdout",
     "output_type": "stream",
     "text": [
      "Best accuracy and parameters after running the algorithm using other alternatives of fine tuning from top 10 performances\n",
      "0.7441705529646903\n",
      "{'C': 100, 'gamma': 'auto', 'kernel': 'rbf'}\n"
     ]
    }
   ],
   "source": [
    "print(\"Best accuracy and parameters after running the algorithm using other alternatives of fine tuning from top 10 performances\")\n",
    "print(best_tuple[0])\n",
    "print(best_tuple[1])"
   ]
  },
  {
   "cell_type": "markdown",
   "metadata": {},
   "source": [
    "Classification report of best model from alternatives of fine tuning"
   ]
  },
  {
   "cell_type": "code",
   "execution_count": 15,
   "metadata": {},
   "outputs": [
    {
     "data": {
      "text/plain": [
       "'              precision    recall  f1-score   support\\n\\n           0       0.74      0.78      0.76      1539\\n           1       0.75      0.71      0.73      1463\\n\\n    accuracy                           0.74      3002\\n   macro avg       0.74      0.74      0.74      3002\\nweighted avg       0.74      0.74      0.74      3002\\n'"
      ]
     },
     "execution_count": 15,
     "metadata": {},
     "output_type": "execute_result"
    }
   ],
   "source": [
    "model = SVC(random_state=seed, **best_tuple[1])\n",
    "model.fit(X_train, y_train)\n",
    "\n",
    "predictions = model.predict(X_test)\n",
    "current_accuracy = accuracy_score(y_test, predictions)\n",
    "\n",
    "classification_report(y_test, predictions, zero_division=0)\n"
   ]
  },
  {
   "cell_type": "code",
   "execution_count": 11,
   "metadata": {},
   "outputs": [
    {
     "ename": "NameError",
     "evalue": "name 'predictions' is not defined",
     "output_type": "error",
     "traceback": [
      "\u001b[1;31m---------------------------------------------------------------------------\u001b[0m",
      "\u001b[1;31mNameError\u001b[0m                                 Traceback (most recent call last)",
      "Input \u001b[1;32mIn [11]\u001b[0m, in \u001b[0;36m<cell line: 1>\u001b[1;34m()\u001b[0m\n\u001b[1;32m----> 1\u001b[0m calculate_metrics(\u001b[38;5;124m'\u001b[39m\u001b[38;5;124mSVC-PCA-alternatives\u001b[39m\u001b[38;5;124m'\u001b[39m, y_test, \u001b[43mpredictions\u001b[49m)\n",
      "\u001b[1;31mNameError\u001b[0m: name 'predictions' is not defined"
     ]
    }
   ],
   "source": [
    "calculate_metrics('SVC-PCA-alternatives', y_test, predictions)"
   ]
  },
  {
   "cell_type": "code",
   "execution_count": null,
   "metadata": {},
   "outputs": [],
   "source": []
  }
 ],
 "metadata": {
  "kernelspec": {
   "display_name": "Python 3",
   "language": "python",
   "name": "python3"
  },
  "language_info": {
   "codemirror_mode": {
    "name": "ipython",
    "version": 3
   },
   "file_extension": ".py",
   "mimetype": "text/x-python",
   "name": "python",
   "nbconvert_exporter": "python",
   "pygments_lexer": "ipython3",
   "version": "3.10.11"
  }
 },
 "nbformat": 4,
 "nbformat_minor": 2
}
