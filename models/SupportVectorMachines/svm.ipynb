{
 "cells": [
  {
   "cell_type": "markdown",
   "metadata": {},
   "source": [
    "## SVM Implementation (reused from previous) on scaled non-reduced dataset"
   ]
  },
  {
   "cell_type": "markdown",
   "metadata": {},
   "source": [
    "implem_new"
   ]
  },
  {
   "cell_type": "markdown",
   "metadata": {},
   "source": [
    "Imports"
   ]
  },
  {
   "cell_type": "code",
   "execution_count": 18,
   "metadata": {},
   "outputs": [],
   "source": [
    "# Utilities\n",
    "import pandas as pd\n",
    "import warnings\n",
    "import numpy as np\n",
    "import matplotlib.pyplot as plt\n",
    "from scipy.stats import expon, randint, uniform\n",
    "\n",
    "# Models\n",
    "from sklearn.model_selection import train_test_split, cross_val_score\n",
    "from sklearn.svm import SVC\n",
    "from sklearn.model_selection import GridSearchCV, RandomizedSearchCV\n",
    "from sklearn.metrics import accuracy_score, accuracy_score, f1_score\n",
    "from sklearn.metrics import classification_report, precision_score, recall_score, confusion_matrix, ConfusionMatrixDisplay"
   ]
  },
  {
   "cell_type": "markdown",
   "metadata": {},
   "source": [
    "Set random seed for reproductibility"
   ]
  },
  {
   "cell_type": "code",
   "execution_count": 16,
   "metadata": {},
   "outputs": [],
   "source": [
    "seed = 23"
   ]
  },
  {
   "cell_type": "markdown",
   "metadata": {},
   "source": [
    "Read clean (scaled data)"
   ]
  },
  {
   "cell_type": "code",
   "execution_count": 3,
   "metadata": {},
   "outputs": [],
   "source": [
    "df_scaled = pd.read_csv('CleanedData/dataset_preprocessed.csv')"
   ]
  },
  {
   "cell_type": "markdown",
   "metadata": {},
   "source": [
    "Take sample for (initial) tests"
   ]
  },
  {
   "cell_type": "code",
   "execution_count": 5,
   "metadata": {},
   "outputs": [],
   "source": [
    "df_scaled_sample = df_scaled.sample(n=500, random_state=seed)\n",
    "#df_scaled_sample = df_scaled"
   ]
  },
  {
   "cell_type": "markdown",
   "metadata": {},
   "source": [
    "Train-Test Split"
   ]
  },
  {
   "cell_type": "code",
   "execution_count": 6,
   "metadata": {},
   "outputs": [],
   "source": [
    "test_size = 0.2\n",
    "X_train, X_test, y_train, y_test = train_test_split(\n",
    "    df_scaled_sample.drop('averageRating', axis=1), \n",
    "    df_scaled_sample['averageRating'], test_size=test_size, \n",
    "    random_state=seed\n",
    ")"
   ]
  },
  {
   "cell_type": "markdown",
   "metadata": {},
   "source": [
    "Save and print metrics"
   ]
  },
  {
   "cell_type": "code",
   "execution_count": 7,
   "metadata": {},
   "outputs": [],
   "source": [
    "def calculate_metrics(model_name, y_true, y_pred):\n",
    "    metrics = {\n",
    "        'Accuracy': accuracy_score(y_true, y_pred),\n",
    "        'Weighted F1': f1_score(y_true, y_pred, average='weighted'),\n",
    "        'Weighted Precision': precision_score(y_true, y_pred, average='weighted', zero_division=0),\n",
    "        'Weighted Recall': recall_score(y_true, y_pred, average='weighted'),\n",
    "        'Macro-Averaged Precision': precision_score(y_true, y_pred, average='macro', zero_division=0),\n",
    "        'Macro-Averaged Recall': recall_score(y_true, y_pred, average='macro'),\n",
    "        'F1': str(f1_score(y_true, y_pred, average=None)),\n",
    "        'Precision': str( precision_score(y_true, y_pred, average=None, zero_division=0)),\n",
    "    }\n",
    "    \n",
    "    # Print the metrics\n",
    "    print(f\"Metrics for {model_name}:\")\n",
    "    for metric_name, metric_value in metrics.items():\n",
    "        try:\n",
    "            print(f\"{metric_name}: {metric_value:.4f}\")\n",
    "        except:\n",
    "            print(f\"{metric_name}: {metric_value}\")\n",
    "    \n",
    "    # Print the classification report\n",
    "    print(\"classification report\")\n",
    "    report = classification_report(y_true, y_pred, target_names=['Class 0', 'Class 1', 'Class 2'], zero_division=0)\n",
    "    print(report)\n",
    "\n",
    "    print(\"Confusion Matrix\")\n",
    "    cm = confusion_matrix(y_true, y_pred)\n",
    "    cmd = ConfusionMatrixDisplay(confusion_matrix=cm)\n",
    "    cmd.plot()\n",
    "    \n",
    "    plt.title(f'Confusion matrix for model {model_name} (Accuracy:{metrics[\"Accuracy\"]:.4f})')\n",
    "    plt.show()\n",
    "    \n",
    "    # Create df to store metrics\n",
    "    df_metrics = pd.DataFrame(metrics, index=[model_name])\n",
    "    \n",
    "    return df_metrics"
   ]
  },
  {
   "cell_type": "code",
   "execution_count": 9,
   "metadata": {},
   "outputs": [
    {
     "name": "stdout",
     "output_type": "stream",
     "text": [
      "Accuracy: 0.64\n",
      "F1 score: [0.         0.73134328 0.46875   ]\n"
     ]
    }
   ],
   "source": [
    "model = SVC(random_state=seed)\n",
    "model.fit(X_train, y_train)\n",
    "\n",
    "predictions = model.predict(X_test)\n",
    "print(\"Accuracy:\", accuracy_score(y_test, predictions))\n",
    "\n",
    "print(\"F1 score:\", f1_score(y_test, predictions, average=None))"
   ]
  },
  {
   "cell_type": "code",
   "execution_count": 10,
   "metadata": {},
   "outputs": [
    {
     "name": "stdout",
     "output_type": "stream",
     "text": [
      "Metrics for SVM_unparametrized:\n",
      "Accuracy: 0.6400\n",
      "Weighted F1: 0.5959\n",
      "Weighted Precision: 0.6941\n",
      "Weighted Recall: 0.6400\n",
      "Macro-Averaged Precision: 0.4770\n",
      "Macro-Averaged Recall: 0.4228\n",
      "F1: [0.         0.73134328 0.46875   ]\n",
      "Precision: [0.         0.59756098 0.83333333]\n",
      "classification report\n",
      "              precision    recall  f1-score   support\n",
      "\n",
      "     Class 0       0.00      0.00      0.00         2\n",
      "     Class 1       0.60      0.94      0.73        52\n",
      "     Class 2       0.83      0.33      0.47        46\n",
      "\n",
      "    accuracy                           0.64       100\n",
      "   macro avg       0.48      0.42      0.40       100\n",
      "weighted avg       0.69      0.64      0.60       100\n",
      "\n",
      "Confusion Matrix\n"
     ]
    },
    {
     "data": {
      "image/png": "[encoded data removed]",
      "text/plain": [
       "<Figure size 432x288 with 2 Axes>"
      ]
     },
     "metadata": {
      "needs_background": "light"
     },
     "output_type": "display_data"
    }
   ],
   "source": [
    "_ = calculate_metrics('SVM_unparametrized', y_test, predictions)"
   ]
  },
  {
   "cell_type": "markdown",
   "metadata": {},
   "source": [
    "## Grid Search CV"
   ]
  },
  {
   "cell_type": "code",
   "execution_count": 11,
   "metadata": {},
   "outputs": [
    {
     "name": "stdout",
     "output_type": "stream",
     "text": [
      "Fitting 3 folds for each of 32 candidates, totalling 96 fits\n",
      "The parameters with the highest score:\n",
      "C, gamma, kernel, \n",
      "100, scale, linear, \n",
      "Accuracy achieved for best parameters: 0.69\n",
      "F1 score for best parameters: [0.         0.74576271 0.625     ]\n"
     ]
    }
   ],
   "source": [
    "param_grid = {\n",
    "    'C': [0.1, 1, 10, 100],\n",
    "    'kernel': ['rbf', 'linear', 'poly', 'sigmoid'],\n",
    "    'gamma': ['scale', 'auto'],\n",
    "}\n",
    "\n",
    "model = SVC(random_state=seed)\n",
    "\n",
    "grid_search = GridSearchCV(estimator=model, param_grid=param_grid, cv=3, n_jobs=-1, verbose=2, scoring='accuracy')\n",
    "grid_search.fit(X_train, y_train)\n",
    "\n",
    "printv = \"\"\n",
    "printk = \"\"\n",
    "for key in grid_search.best_params_:\n",
    "    printk += f\"{key}, \"\n",
    "    printv += f\"{grid_search.best_params_[key]}, \"\n",
    "print(\"The parameters with the highest score:\")\n",
    "print(printk)\n",
    "print(printv)\n",
    "\n",
    "best_model = grid_search.best_estimator_\n",
    "predictions = best_model.predict(X_test)\n",
    "\n",
    "print(\"Accuracy achieved for best parameters:\", accuracy_score(y_test, predictions))\n",
    "print(\"F1 score for best parameters:\", f1_score(y_test, predictions, average=None))"
   ]
  },
  {
   "cell_type": "code",
   "execution_count": 12,
   "metadata": {},
   "outputs": [
    {
     "name": "stdout",
     "output_type": "stream",
     "text": [
      "Metrics for SVM_GS_CV_best:\n",
      "Accuracy: 0.6900\n",
      "Weighted F1: 0.6753\n",
      "Weighted Precision: 0.6849\n",
      "Weighted Recall: 0.6900\n",
      "Macro-Averaged Precision: 0.4673\n",
      "Macro-Averaged Recall: 0.4632\n",
      "F1: [0.         0.74576271 0.625     ]\n",
      "Precision: [0.         0.66666667 0.73529412]\n",
      "classification report\n",
      "              precision    recall  f1-score   support\n",
      "\n",
      "     Class 0       0.00      0.00      0.00         2\n",
      "     Class 1       0.67      0.85      0.75        52\n",
      "     Class 2       0.74      0.54      0.62        46\n",
      "\n",
      "    accuracy                           0.69       100\n",
      "   macro avg       0.47      0.46      0.46       100\n",
      "weighted avg       0.68      0.69      0.68       100\n",
      "\n",
      "Confusion Matrix\n"
     ]
    },
    {
     "data": {
      "image/png": "[encoded data removed]",
      "text/plain": [
       "<Figure size 432x288 with 2 Axes>"
      ]
     },
     "metadata": {
      "needs_background": "light"
     },
     "output_type": "display_data"
    }
   ],
   "source": [
    "_= calculate_metrics('SVM_GS_CV_best', y_test, predictions)"
   ]
  },
  {
   "cell_type": "code",
   "execution_count": 13,
   "metadata": {},
   "outputs": [
    {
     "name": "stdout",
     "output_type": "stream",
     "text": [
      "                                              params  mean_test_score\n",
      "29   {'C': 100, 'gamma': 'auto', 'kernel': 'linear'}         0.752441\n",
      "25  {'C': 100, 'gamma': 'scale', 'kernel': 'linear'}         0.752441\n",
      "17   {'C': 10, 'gamma': 'scale', 'kernel': 'linear'}         0.729997\n",
      "21    {'C': 10, 'gamma': 'auto', 'kernel': 'linear'}         0.729997\n",
      "28      {'C': 100, 'gamma': 'auto', 'kernel': 'rbf'}         0.720046\n",
      "16      {'C': 10, 'gamma': 'scale', 'kernel': 'rbf'}         0.707646\n",
      "31  {'C': 100, 'gamma': 'auto', 'kernel': 'sigmoid'}         0.699996\n",
      "24     {'C': 100, 'gamma': 'scale', 'kernel': 'rbf'}         0.687689\n",
      "18     {'C': 10, 'gamma': 'scale', 'kernel': 'poly'}         0.677571\n",
      "20       {'C': 10, 'gamma': 'auto', 'kernel': 'rbf'}         0.675046\n"
     ]
    }
   ],
   "source": [
    "cv_results_df = pd.DataFrame(grid_search.cv_results_)\n",
    "\n",
    "# Show top 10 parameters for this model => best parameters = no parameters :D\n",
    "minimalistic_results = cv_results_df[['params', 'mean_test_score']]\n",
    "sorted_results = minimalistic_results.sort_values(by='mean_test_score', ascending=False)\n",
    "\n",
    "print(sorted_results.head(10))"
   ]
  },
  {
   "cell_type": "code",
   "execution_count": 14,
   "metadata": {},
   "outputs": [
    {
     "name": "stdout",
     "output_type": "stream",
     "text": [
      "Parameters from place:  0   {'C': 100, 'gamma': 'auto', 'kernel': 'linear'}\n",
      "Accuracy for chosen parameters: 0.69\n",
      "Parameters from place:  1   {'C': 100, 'gamma': 'scale', 'kernel': 'linear'}\n",
      "Accuracy for chosen parameters: 0.69\n",
      "Parameters from place:  2   {'C': 10, 'gamma': 'scale', 'kernel': 'linear'}\n",
      "Accuracy for chosen parameters: 0.68\n",
      "Parameters from place:  3   {'C': 10, 'gamma': 'auto', 'kernel': 'linear'}\n",
      "Accuracy for chosen parameters: 0.68\n",
      "Parameters from place:  4   {'C': 100, 'gamma': 'auto', 'kernel': 'rbf'}\n",
      "Accuracy for chosen parameters: 0.68\n",
      "Parameters from place:  5   {'C': 10, 'gamma': 'scale', 'kernel': 'rbf'}\n",
      "Accuracy for chosen parameters: 0.66\n",
      "Parameters from place:  6   {'C': 100, 'gamma': 'auto', 'kernel': 'sigmoid'}\n",
      "Accuracy for chosen parameters: 0.67\n",
      "Parameters from place:  7   {'C': 100, 'gamma': 'scale', 'kernel': 'rbf'}\n",
      "Accuracy for chosen parameters: 0.65\n",
      "Parameters from place:  8   {'C': 10, 'gamma': 'scale', 'kernel': 'poly'}\n",
      "Accuracy for chosen parameters: 0.6\n",
      "Parameters from place:  9   {'C': 10, 'gamma': 'auto', 'kernel': 'rbf'}\n",
      "Accuracy for chosen parameters: 0.66\n"
     ]
    }
   ],
   "source": [
    "# Predicting using other alternatives of fine-tuning from top 10 performances\n",
    "\n",
    "# Choose a set of parameters from sorted_results\n",
    "for i in range(10):\n",
    "\n",
    "  params = sorted_results.iloc[i]['params']\n",
    "  print(\"Parameters from place: \", i, \" \", params)\n",
    "\n",
    "  model = SVC(random_state=14, **params)\n",
    "  model.fit(X_train, y_train)\n",
    "\n",
    "  predictions = model.predict(X_test)\n",
    "\n",
    "  chosen_accuracy = accuracy_score(y_test, predictions)\n",
    "  print(\"Accuracy for chosen parameters:\", chosen_accuracy)\n"
   ]
  },
  {
   "cell_type": "code",
   "execution_count": 19,
   "metadata": {},
   "outputs": [
    {
     "name": "stdout",
     "output_type": "stream",
     "text": [
      "Fitting 4 folds for each of 50 candidates, totalling 200 fits\n",
      "Best parameters found:  {'C': 511.86203413314956, 'coef0': 3.0524216557593586, 'degree': 4, 'gamma': 0.09080225467042946, 'kernel': 'linear'}\n",
      "Accuracy for best parameters: 0.67\n",
      "F1 score for best parameters: [0.         0.72413793 0.6097561 ]\n"
     ]
    }
   ],
   "source": [
    "param_distributions = {\n",
    "    'C': expon(scale=100),\n",
    "    'kernel': ['rbf', 'linear', 'poly', 'sigmoid'],\n",
    "    'degree': [2, 3, 4],  # for 'poly' kernel\n",
    "    'gamma': expon(scale=.1),  # for 'rbf', 'poly' and 'sigmoid'\n",
    "    'coef0': uniform(0, 10)  # significant for 'poly' and 'sigmoid'\n",
    "}\n",
    "\n",
    "random_search = RandomizedSearchCV(estimator=SVC(random_state=seed), param_distributions=param_distributions, n_iter=50, cv=4, verbose=2, random_state=14, n_jobs=-1, scoring='accuracy')\n",
    "random_search.fit(X_train, y_train)\n",
    "\n",
    "random_results = random_search.cv_results_\n",
    "random_sorted_results = pd.DataFrame(random_results).sort_values(by='mean_test_score', ascending=False)\n",
    "\n",
    "print(\"Best parameters found: \", random_search.best_params_)\n",
    "best_model = random_search.best_estimator_\n",
    "\n",
    "predictions = best_model.predict(X_test)\n",
    "\n",
    "# Evaluate the best model\n",
    "accuracy = accuracy_score(y_test, predictions)\n",
    "f1 = f1_score(y_test, predictions, average=None)\n",
    "\n",
    "print(\"Accuracy for best parameters:\", accuracy)\n",
    "print(\"F1 score for best parameters:\", f1)\n"
   ]
  },
  {
   "cell_type": "code",
   "execution_count": 21,
   "metadata": {},
   "outputs": [
    {
     "name": "stdout",
     "output_type": "stream",
     "text": [
      "Metrics for SVM_RS_CV_best:\n",
      "Accuracy: 0.6700\n",
      "Weighted F1: 0.6570\n",
      "Weighted Precision: 0.6607\n",
      "Weighted Recall: 0.6700\n",
      "Macro-Averaged Precision: 0.4502\n",
      "Macro-Averaged Recall: 0.4504\n",
      "F1: [0.         0.72413793 0.6097561 ]\n",
      "Precision: [0.         0.65625    0.69444444]\n",
      "classification report\n",
      "              precision    recall  f1-score   support\n",
      "\n",
      "     Class 0       0.00      0.00      0.00         2\n",
      "     Class 1       0.66      0.81      0.72        52\n",
      "     Class 2       0.69      0.54      0.61        46\n",
      "\n",
      "    accuracy                           0.67       100\n",
      "   macro avg       0.45      0.45      0.44       100\n",
      "weighted avg       0.66      0.67      0.66       100\n",
      "\n",
      "Confusion Matrix\n"
     ]
    },
    {
     "data": {
      "image/png": "[encoded data removed]",
      "text/plain": [
       "<Figure size 432x288 with 2 Axes>"
      ]
     },
     "metadata": {
      "needs_background": "light"
     },
     "output_type": "display_data"
    }
   ],
   "source": [
    "_= calculate_metrics('SVM_RS_CV_best', y_test, predictions)"
   ]
  },
  {
   "cell_type": "code",
   "execution_count": 22,
   "metadata": {},
   "outputs": [
    {
     "name": "stdout",
     "output_type": "stream",
     "text": [
      "                                               params  mean_test_score  \\\n",
      "42  {'C': 511.86203413314956, 'coef0': 3.052421655...           0.7525   \n",
      "3   {'C': 339.10610651443085, 'coef0': 1.514222821...           0.7500   \n",
      "37  {'C': 226.43895178636396, 'coef0': 4.409070367...           0.7475   \n",
      "27  {'C': 105.1644420392561, 'coef0': 2.6761772236...           0.7475   \n",
      "21  {'C': 273.3475219461634, 'coef0': 9.9505030295...           0.7475   \n",
      "30  {'C': 140.76590012944774, 'coef0': 1.330840513...           0.7450   \n",
      "40  {'C': 148.12266365239677, 'coef0': 5.251120281...           0.7450   \n",
      "13  {'C': 24.985690984260426, 'coef0': 4.997879415...           0.7400   \n",
      "35  {'C': 68.34897793931825, 'coef0': 4.7407198550...           0.7375   \n",
      "48  {'C': 60.47945474706257, 'coef0': 4.3994255872...           0.7375   \n",
      "\n",
      "    accuracy  \n",
      "42         0  \n",
      "3          0  \n",
      "37         0  \n",
      "27         0  \n",
      "21         0  \n",
      "30         0  \n",
      "40         0  \n",
      "13         0  \n",
      "35         0  \n",
      "48         0  \n"
     ]
    }
   ],
   "source": [
    "random_sorted_results = random_sorted_results[['params', 'mean_test_score']]\n",
    "random_sorted_results['accuracy'] = 0\n",
    "print(random_sorted_results.head(10))"
   ]
  },
  {
   "cell_type": "code",
   "execution_count": 23,
   "metadata": {},
   "outputs": [],
   "source": [
    "for i in range(10):\n",
    "\n",
    "  params = random_sorted_results.iloc[i]['params']\n",
    "\n",
    "  model = SVC(random_state=seed, **params)\n",
    "  model.fit(X_train, y_train)\n",
    "\n",
    "  predictions = model.predict(X_test)\n",
    "  chosen_accuracy = accuracy_score(y_test, predictions)\n",
    "  random_sorted_results.iloc[i, 2] = chosen_accuracy"
   ]
  },
  {
   "cell_type": "code",
   "execution_count": 24,
   "metadata": {},
   "outputs": [
    {
     "name": "stdout",
     "output_type": "stream",
     "text": [
      "The parameters with the highest score:  {'C': 100, 'gamma': 'scale', 'kernel': 'linear'}\n",
      "Accuracy achieved for best parameters on training data: 0.8375\n"
     ]
    }
   ],
   "source": [
    "print(\"The parameters with the highest score: \", grid_search.best_params_)\n",
    "\n",
    "best_model = grid_search.best_estimator_\n",
    "predictions = best_model.predict(X_train)\n",
    "\n",
    "print(\"Accuracy achieved for best parameters on training data:\", accuracy_score(y_train, predictions))"
   ]
  }
 ],
 "metadata": {
  "kernelspec": {
   "display_name": "Python 3",
   "language": "python",
   "name": "python3"
  },
  "language_info": {
   "codemirror_mode": {
    "name": "ipython",
    "version": 3
   },
   "file_extension": ".py",
   "mimetype": "text/x-python",
   "name": "python",
   "nbconvert_exporter": "python",
   "pygments_lexer": "ipython3",
   "version": "3.10.11"
  }
 },
 "nbformat": 4,
 "nbformat_minor": 2
}
