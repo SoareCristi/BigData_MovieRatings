{
 "cells": [
  {
   "cell_type": "markdown",
   "metadata": {},
   "source": [
    "## Random Forest Implementation on scaled reduced dataset with PCA"
   ]
  },
  {
   "cell_type": "markdown",
   "metadata": {},
   "source": [
    "Imports"
   ]
  },
  {
   "cell_type": "code",
   "execution_count": 1,
   "metadata": {},
   "outputs": [
    {
     "name": "stderr",
     "output_type": "stream",
     "text": [
      "C:\\Users\\movil\\AppData\\Local\\Packages\\PythonSoftwareFoundation.Python.3.10_qbz5n2kfra8p0\\LocalCache\\local-packages\\Python310\\site-packages\\scipy\\__init__.py:155: UserWarning: A NumPy version >=1.18.5 and <1.25.0 is required for this version of SciPy (detected version 1.26.4\n",
      "  warnings.warn(f\"A NumPy version >={np_minversion} and <{np_maxversion}\"\n"
     ]
    }
   ],
   "source": [
    "# Utilities\n",
    "import pandas as pd\n",
    "import warnings\n",
    "import numpy as np\n",
    "import matplotlib.pyplot as plt\n",
    "\n",
    "# Models\n",
    "import optuna\n",
    "from sklearn.model_selection import train_test_split, cross_val_score\n",
    "from sklearn.ensemble import RandomForestClassifier\n",
    "from sklearn.model_selection import GridSearchCV\n",
    "from sklearn.metrics import accuracy_score, accuracy_score, f1_score\n",
    "from sklearn.metrics import classification_report, precision_score, recall_score, confusion_matrix, ConfusionMatrixDisplay"
   ]
  },
  {
   "cell_type": "markdown",
   "metadata": {},
   "source": [
    "Set random seed for reproductibility"
   ]
  },
  {
   "cell_type": "code",
   "execution_count": 2,
   "metadata": {},
   "outputs": [],
   "source": [
    "seed = 23"
   ]
  },
  {
   "cell_type": "markdown",
   "metadata": {},
   "source": [
    "Read clean (scaled data)"
   ]
  },
  {
   "cell_type": "code",
   "execution_count": 3,
   "metadata": {},
   "outputs": [],
   "source": [
    "df_scaled = pd.read_csv('../../Data/dataset_preprocessed.csv')"
   ]
  },
  {
   "cell_type": "code",
   "execution_count": 4,
   "metadata": {},
   "outputs": [],
   "source": [
    "df_pca = pd.read_csv('../../DimensionalityReductionData/pca.csv')"
   ]
  },
  {
   "cell_type": "markdown",
   "metadata": {},
   "source": [
    "Keep only the 'averageRating' column and join with PC1,PC2, ... PC18 from PCA (components)"
   ]
  },
  {
   "cell_type": "code",
   "execution_count": 5,
   "metadata": {},
   "outputs": [],
   "source": [
    "df_scaled_copy = df_scaled[['averageRating']]\n",
    "df_scaled = df_pca\n",
    "df_scaled['averageRating'] = df_scaled_copy['averageRating']\n",
    "del df_scaled_copy"
   ]
  },
  {
   "cell_type": "code",
   "execution_count": 6,
   "metadata": {},
   "outputs": [
    {
     "data": {
      "text/html": [
       "<div>\n",
       "<style scoped>\n",
       "    .dataframe tbody tr th:only-of-type {\n",
       "        vertical-align: middle;\n",
       "    }\n",
       "\n",
       "    .dataframe tbody tr th {\n",
       "        vertical-align: top;\n",
       "    }\n",
       "\n",
       "    .dataframe thead th {\n",
       "        text-align: right;\n",
       "    }\n",
       "</style>\n",
       "<table border=\"1\" class=\"dataframe\">\n",
       "  <thead>\n",
       "    <tr style=\"text-align: right;\">\n",
       "      <th></th>\n",
       "      <th>PC1</th>\n",
       "      <th>PC2</th>\n",
       "      <th>PC3</th>\n",
       "      <th>PC4</th>\n",
       "      <th>PC5</th>\n",
       "      <th>PC6</th>\n",
       "      <th>PC7</th>\n",
       "      <th>PC8</th>\n",
       "      <th>PC9</th>\n",
       "      <th>PC10</th>\n",
       "      <th>PC11</th>\n",
       "      <th>PC12</th>\n",
       "      <th>PC13</th>\n",
       "      <th>PC14</th>\n",
       "      <th>PC15</th>\n",
       "      <th>PC16</th>\n",
       "      <th>PC17</th>\n",
       "      <th>PC18</th>\n",
       "      <th>averageRating</th>\n",
       "    </tr>\n",
       "  </thead>\n",
       "  <tbody>\n",
       "    <tr>\n",
       "      <th>0</th>\n",
       "      <td>0.073496</td>\n",
       "      <td>0.581127</td>\n",
       "      <td>-0.306591</td>\n",
       "      <td>-0.458056</td>\n",
       "      <td>-0.326569</td>\n",
       "      <td>-0.432148</td>\n",
       "      <td>0.285284</td>\n",
       "      <td>0.120601</td>\n",
       "      <td>-0.382754</td>\n",
       "      <td>-0.220533</td>\n",
       "      <td>-0.173304</td>\n",
       "      <td>-0.237751</td>\n",
       "      <td>-0.278836</td>\n",
       "      <td>-0.255647</td>\n",
       "      <td>-0.126061</td>\n",
       "      <td>-0.138865</td>\n",
       "      <td>0.025244</td>\n",
       "      <td>-0.275903</td>\n",
       "      <td>1</td>\n",
       "    </tr>\n",
       "    <tr>\n",
       "      <th>1</th>\n",
       "      <td>-0.674232</td>\n",
       "      <td>0.297946</td>\n",
       "      <td>0.299652</td>\n",
       "      <td>-0.247368</td>\n",
       "      <td>0.350443</td>\n",
       "      <td>0.430246</td>\n",
       "      <td>-0.511015</td>\n",
       "      <td>0.180800</td>\n",
       "      <td>-0.014047</td>\n",
       "      <td>-0.185657</td>\n",
       "      <td>0.105798</td>\n",
       "      <td>-0.102234</td>\n",
       "      <td>-0.070109</td>\n",
       "      <td>0.002179</td>\n",
       "      <td>0.138295</td>\n",
       "      <td>0.010346</td>\n",
       "      <td>0.088212</td>\n",
       "      <td>0.026563</td>\n",
       "      <td>0</td>\n",
       "    </tr>\n",
       "    <tr>\n",
       "      <th>2</th>\n",
       "      <td>-0.602295</td>\n",
       "      <td>-0.213501</td>\n",
       "      <td>-0.367282</td>\n",
       "      <td>0.446712</td>\n",
       "      <td>-0.379628</td>\n",
       "      <td>0.201488</td>\n",
       "      <td>0.226710</td>\n",
       "      <td>0.332919</td>\n",
       "      <td>-0.030743</td>\n",
       "      <td>-0.052051</td>\n",
       "      <td>0.197735</td>\n",
       "      <td>-0.145173</td>\n",
       "      <td>0.140576</td>\n",
       "      <td>0.062989</td>\n",
       "      <td>-0.117784</td>\n",
       "      <td>0.002612</td>\n",
       "      <td>-0.020744</td>\n",
       "      <td>0.096351</td>\n",
       "      <td>1</td>\n",
       "    </tr>\n",
       "    <tr>\n",
       "      <th>3</th>\n",
       "      <td>-0.308130</td>\n",
       "      <td>-0.303248</td>\n",
       "      <td>-0.099318</td>\n",
       "      <td>-0.550675</td>\n",
       "      <td>0.147219</td>\n",
       "      <td>-0.608601</td>\n",
       "      <td>-0.045995</td>\n",
       "      <td>0.519164</td>\n",
       "      <td>0.094052</td>\n",
       "      <td>-0.122320</td>\n",
       "      <td>0.207885</td>\n",
       "      <td>-0.691366</td>\n",
       "      <td>-0.326278</td>\n",
       "      <td>-0.371787</td>\n",
       "      <td>-0.147163</td>\n",
       "      <td>0.056105</td>\n",
       "      <td>-0.315359</td>\n",
       "      <td>-0.211726</td>\n",
       "      <td>0</td>\n",
       "    </tr>\n",
       "    <tr>\n",
       "      <th>4</th>\n",
       "      <td>-0.548584</td>\n",
       "      <td>-0.107256</td>\n",
       "      <td>0.301375</td>\n",
       "      <td>-0.134301</td>\n",
       "      <td>-0.221954</td>\n",
       "      <td>-0.139591</td>\n",
       "      <td>-0.175504</td>\n",
       "      <td>-0.064892</td>\n",
       "      <td>0.043229</td>\n",
       "      <td>-0.271392</td>\n",
       "      <td>0.054528</td>\n",
       "      <td>-0.095603</td>\n",
       "      <td>-0.064297</td>\n",
       "      <td>0.011336</td>\n",
       "      <td>0.107454</td>\n",
       "      <td>-0.038404</td>\n",
       "      <td>0.111143</td>\n",
       "      <td>0.080739</td>\n",
       "      <td>0</td>\n",
       "    </tr>\n",
       "  </tbody>\n",
       "</table>\n",
       "</div>"
      ],
      "text/plain": [
       "        PC1       PC2       PC3       PC4       PC5       PC6       PC7  \\\n",
       "0  0.073496  0.581127 -0.306591 -0.458056 -0.326569 -0.432148  0.285284   \n",
       "1 -0.674232  0.297946  0.299652 -0.247368  0.350443  0.430246 -0.511015   \n",
       "2 -0.602295 -0.213501 -0.367282  0.446712 -0.379628  0.201488  0.226710   \n",
       "3 -0.308130 -0.303248 -0.099318 -0.550675  0.147219 -0.608601 -0.045995   \n",
       "4 -0.548584 -0.107256  0.301375 -0.134301 -0.221954 -0.139591 -0.175504   \n",
       "\n",
       "        PC8       PC9      PC10      PC11      PC12      PC13      PC14  \\\n",
       "0  0.120601 -0.382754 -0.220533 -0.173304 -0.237751 -0.278836 -0.255647   \n",
       "1  0.180800 -0.014047 -0.185657  0.105798 -0.102234 -0.070109  0.002179   \n",
       "2  0.332919 -0.030743 -0.052051  0.197735 -0.145173  0.140576  0.062989   \n",
       "3  0.519164  0.094052 -0.122320  0.207885 -0.691366 -0.326278 -0.371787   \n",
       "4 -0.064892  0.043229 -0.271392  0.054528 -0.095603 -0.064297  0.011336   \n",
       "\n",
       "       PC15      PC16      PC17      PC18  averageRating  \n",
       "0 -0.126061 -0.138865  0.025244 -0.275903              1  \n",
       "1  0.138295  0.010346  0.088212  0.026563              0  \n",
       "2 -0.117784  0.002612 -0.020744  0.096351              1  \n",
       "3 -0.147163  0.056105 -0.315359 -0.211726              0  \n",
       "4  0.107454 -0.038404  0.111143  0.080739              0  "
      ]
     },
     "execution_count": 6,
     "metadata": {},
     "output_type": "execute_result"
    }
   ],
   "source": [
    "df_scaled.head()"
   ]
  },
  {
   "cell_type": "markdown",
   "metadata": {},
   "source": [
    "Take sample for (initial) tests"
   ]
  },
  {
   "cell_type": "code",
   "execution_count": 7,
   "metadata": {},
   "outputs": [],
   "source": [
    "#df_scaled_sample = df_scaled.sample(n=1000, random_state=seed)\n",
    "df_scaled_sample = df_scaled"
   ]
  },
  {
   "cell_type": "markdown",
   "metadata": {},
   "source": [
    "Train-Test Split"
   ]
  },
  {
   "cell_type": "code",
   "execution_count": 8,
   "metadata": {},
   "outputs": [],
   "source": [
    "test_size = 0.2\n",
    "X_train, X_test, y_train, y_test = train_test_split(\n",
    "    df_scaled_sample.drop('averageRating', axis=1), \n",
    "    df_scaled_sample['averageRating'], test_size=test_size, \n",
    "    random_state=seed\n",
    ")"
   ]
  },
  {
   "cell_type": "markdown",
   "metadata": {},
   "source": [
    "Save and print metrics"
   ]
  },
  {
   "cell_type": "code",
   "execution_count": 9,
   "metadata": {},
   "outputs": [],
   "source": [
    "def calculate_metrics(model_name, y_true, y_pred):\n",
    "    metrics = {\n",
    "        'Accuracy': accuracy_score(y_true, y_pred),\n",
    "        'Weighted F1': f1_score(y_true, y_pred, average='weighted'),\n",
    "        'Weighted Precision': precision_score(y_true, y_pred, average='weighted', zero_division=0),\n",
    "        'Weighted Recall': recall_score(y_true, y_pred, average='weighted'),\n",
    "        'Macro-Averaged Precision': precision_score(y_true, y_pred, average='macro', zero_division=0),\n",
    "        'Macro-Averaged Recall': recall_score(y_true, y_pred, average='macro'),\n",
    "        'F1': str(f1_score(y_true, y_pred, average=None)),\n",
    "        'Precision': str( precision_score(y_true, y_pred, average=None, zero_division=0)),\n",
    "    }\n",
    "    \n",
    "    # Print the metrics\n",
    "    print(f\"Metrics for {model_name}:\")\n",
    "    for metric_name, metric_value in metrics.items():\n",
    "        try:\n",
    "            print(f\"{metric_name}: {metric_value:.4f}\")\n",
    "        except:\n",
    "            print(f\"{metric_name}: {metric_value}\")\n",
    "    \n",
    "    # Print the classification report\n",
    "    print(\"classification report\")\n",
    "    report = classification_report(y_true, y_pred, target_names=['Class 0', 'Class 1'], zero_division=0)\n",
    "    print(report)\n",
    "\n",
    "    print(\"Confusion Matrix\")\n",
    "    cm = confusion_matrix(y_true, y_pred)\n",
    "    cmd = ConfusionMatrixDisplay(confusion_matrix=cm)\n",
    "    cmd.plot()\n",
    "    \n",
    "    plt.title(f'Confusion matrix for model {model_name} (Accuracy:{metrics[\"Accuracy\"]:.4f})')\n",
    "    plt.show()\n",
    "    \n",
    "    # Create df to store metrics\n",
    "    df_metrics = pd.DataFrame(metrics, index=[model_name])\n",
    "    \n",
    "    return df_metrics"
   ]
  },
  {
   "cell_type": "code",
   "execution_count": 10,
   "metadata": {},
   "outputs": [
    {
     "name": "stdout",
     "output_type": "stream",
     "text": [
      "Accuracy: 0.7221852098600933\n",
      "F1 score: [0.73388641 0.70940767]\n"
     ]
    }
   ],
   "source": [
    "model = RandomForestClassifier(n_estimators=100, random_state=seed)\n",
    "model.fit(X_train, y_train)\n",
    "\n",
    "predictions = model.predict(X_test)\n",
    "print(\"Accuracy:\", accuracy_score(y_test, predictions))\n",
    "\n",
    "print(\"F1 score:\", f1_score(y_test, predictions, average=None))"
   ]
  },
  {
   "cell_type": "markdown",
   "metadata": {},
   "source": [
    "## Grid Search CV - 1"
   ]
  },
  {
   "cell_type": "code",
   "execution_count": 11,
   "metadata": {},
   "outputs": [
    {
     "name": "stdout",
     "output_type": "stream",
     "text": [
      "Fitting 3 folds for each of 288 candidates, totalling 864 fits\n",
      "The parameters with the highest score:  {'bootstrap': True, 'max_depth': 10, 'min_samples_leaf': 1, 'min_samples_split': 10, 'n_estimators': 200}\n"
     ]
    }
   ],
   "source": [
    "param_grid = {\n",
    "    'n_estimators': [10, 50, 100, 200],  # Number of trees in the forest\n",
    "    'max_depth': [None, 10, 20, 30],  # Maximum depth of the tree\n",
    "    'min_samples_split': [2, 5, 10],  # Minimum number of samples required to split an internal node\n",
    "    'min_samples_leaf': [1, 2, 4],  # Minimum number of samples required to be at a leaf node\n",
    "    'bootstrap': [True, False]  # Method of selecting samples for training each tree\n",
    "}\n",
    "\n",
    "model = RandomForestClassifier(random_state=seed)\n",
    "\n",
    "grid_search = GridSearchCV(estimator=model, param_grid=param_grid, cv=3, n_jobs=-1, verbose=2, scoring='accuracy')\n",
    "grid_search.fit(X_train, y_train)\n",
    "\n",
    "print(\"The parameters with the highest score: \", grid_search.best_params_)"
   ]
  },
  {
   "cell_type": "code",
   "execution_count": 12,
   "metadata": {},
   "outputs": [
    {
     "name": "stdout",
     "output_type": "stream",
     "text": [
      "                                               params  mean_test_score\n",
      "47  {'bootstrap': True, 'max_depth': 10, 'min_samp...         0.725031\n",
      "70  {'bootstrap': True, 'max_depth': 10, 'min_samp...         0.724198\n",
      "46  {'bootstrap': True, 'max_depth': 10, 'min_samp...         0.724032\n",
      "59  {'bootstrap': True, 'max_depth': 10, 'min_samp...         0.723865\n",
      "55  {'bootstrap': True, 'max_depth': 10, 'min_samp...         0.723699\n",
      "71  {'bootstrap': True, 'max_depth': 10, 'min_samp...         0.723615\n",
      "69  {'bootstrap': True, 'max_depth': 10, 'min_samp...         0.723615\n",
      "58  {'bootstrap': True, 'max_depth': 10, 'min_samp...         0.723116\n",
      "63  {'bootstrap': True, 'max_depth': 10, 'min_samp...         0.723032\n",
      "67  {'bootstrap': True, 'max_depth': 10, 'min_samp...         0.723032\n"
     ]
    }
   ],
   "source": [
    "cv_results_df = pd.DataFrame(grid_search.cv_results_)\n",
    "\n",
    "# Show top 10 parameters for this model\n",
    "minimalistic_results = cv_results_df[['params', 'mean_test_score']]\n",
    "sorted_results = minimalistic_results.sort_values(by='mean_test_score', ascending=False)\n",
    "\n",
    "print(sorted_results.head(10))"
   ]
  },
  {
   "cell_type": "code",
   "execution_count": 13,
   "metadata": {},
   "outputs": [
    {
     "name": "stdout",
     "output_type": "stream",
     "text": [
      "Metrics for RF-PCA-GS-CV1:\n",
      "Accuracy: 0.7348\n",
      "Weighted F1: 0.7342\n",
      "Weighted Precision: 0.7352\n",
      "Weighted Recall: 0.7348\n",
      "Macro-Averaged Precision: 0.7354\n",
      "Macro-Averaged Recall: 0.7333\n",
      "F1: [0.75202492 0.71510379]\n",
      "Precision: [0.72974607 0.74109792]\n",
      "classification report\n",
      "              precision    recall  f1-score   support\n",
      "\n",
      "     Class 0       0.73      0.78      0.75      1556\n",
      "     Class 1       0.74      0.69      0.72      1446\n",
      "\n",
      "    accuracy                           0.73      3002\n",
      "   macro avg       0.74      0.73      0.73      3002\n",
      "weighted avg       0.74      0.73      0.73      3002\n",
      "\n",
      "Confusion Matrix\n"
     ]
    },
    {
     "data": {
      "image/png": "[encoded data removed]",
      "text/plain": [
       "<Figure size 432x288 with 2 Axes>"
      ]
     },
     "metadata": {
      "needs_background": "light"
     },
     "output_type": "display_data"
    }
   ],
   "source": [
    "best_model = grid_search.best_estimator_\n",
    "predictions = best_model.predict(X_test)\n",
    "_ = calculate_metrics('RF-PCA-GS-CV1', y_test, predictions)"
   ]
  },
  {
   "cell_type": "code",
   "execution_count": 14,
   "metadata": {},
   "outputs": [
    {
     "name": "stdout",
     "output_type": "stream",
     "text": [
      "Parameters from place:  0   {'bootstrap': True, 'max_depth': 10, 'min_samples_leaf': 1, 'min_samples_split': 10, 'n_estimators': 200}\n",
      "Accuracy for chosen parameters: 0.7348434377081945\n",
      "Parameters from place:  1   {'bootstrap': True, 'max_depth': 10, 'min_samples_leaf': 4, 'min_samples_split': 10, 'n_estimators': 100}\n",
      "Accuracy for chosen parameters: 0.7338441039307129\n",
      "Parameters from place:  2   {'bootstrap': True, 'max_depth': 10, 'min_samples_leaf': 1, 'min_samples_split': 10, 'n_estimators': 100}\n",
      "Accuracy for chosen parameters: 0.734510326449034\n",
      "Parameters from place:  3   {'bootstrap': True, 'max_depth': 10, 'min_samples_leaf': 2, 'min_samples_split': 10, 'n_estimators': 200}\n",
      "Accuracy for chosen parameters: 0.7358427714856762\n",
      "Parameters from place:  4   {'bootstrap': True, 'max_depth': 10, 'min_samples_leaf': 2, 'min_samples_split': 5, 'n_estimators': 200}\n",
      "Accuracy for chosen parameters: 0.7361758827448368\n",
      "Parameters from place:  5   {'bootstrap': True, 'max_depth': 10, 'min_samples_leaf': 4, 'min_samples_split': 10, 'n_estimators': 200}\n",
      "Accuracy for chosen parameters: 0.740506329113924\n",
      "Parameters from place:  6   {'bootstrap': True, 'max_depth': 10, 'min_samples_leaf': 4, 'min_samples_split': 10, 'n_estimators': 50}\n",
      "Accuracy for chosen parameters: 0.7335109926715523\n",
      "Parameters from place:  7   {'bootstrap': True, 'max_depth': 10, 'min_samples_leaf': 2, 'min_samples_split': 10, 'n_estimators': 100}\n",
      "Accuracy for chosen parameters: 0.7381745502998002\n",
      "Parameters from place:  8   {'bootstrap': True, 'max_depth': 10, 'min_samples_leaf': 4, 'min_samples_split': 2, 'n_estimators': 200}\n",
      "Accuracy for chosen parameters: 0.7348434377081945\n",
      "Parameters from place:  9   {'bootstrap': True, 'max_depth': 10, 'min_samples_leaf': 4, 'min_samples_split': 5, 'n_estimators': 200}\n",
      "Accuracy for chosen parameters: 0.7348434377081945\n"
     ]
    }
   ],
   "source": [
    "# Predicting using other alternatives of fine-tuning from top 10 performances\n",
    "other_alternatives = []\n",
    "# Choose a set of parameters from sorted_results\n",
    "for i in range(10):\n",
    "\n",
    "  params = sorted_results.iloc[i]['params']\n",
    "  print(\"Parameters from place: \", i, \" \", params)\n",
    "\n",
    "  model = RandomForestClassifier(random_state=seed, **params)\n",
    "  model.fit(X_train, y_train)\n",
    "\n",
    "  predictions = model.predict(X_test)\n",
    "\n",
    "  chosen_accuracy = accuracy_score(y_test, predictions)\n",
    "  print(\"Accuracy for chosen parameters:\", chosen_accuracy)\n",
    "  other_alternatives.append((chosen_accuracy,params))\n"
   ]
  },
  {
   "cell_type": "code",
   "execution_count": 15,
   "metadata": {},
   "outputs": [],
   "source": [
    "# get best from top 10\n",
    "best_tuple = max(other_alternatives, key=lambda x: x[0])"
   ]
  },
  {
   "cell_type": "code",
   "execution_count": 16,
   "metadata": {},
   "outputs": [
    {
     "name": "stdout",
     "output_type": "stream",
     "text": [
      "Best accuracy and parameters after running the algorithm using other alternatives of fine tuning from top 10 performances\n",
      "0.740506329113924\n",
      "{'bootstrap': True, 'max_depth': 10, 'min_samples_leaf': 4, 'min_samples_split': 10, 'n_estimators': 200}\n"
     ]
    }
   ],
   "source": [
    "print(\"Best accuracy and parameters after running the algorithm using other alternatives of fine tuning from top 10 performances\")\n",
    "print(best_tuple[0])\n",
    "print(best_tuple[1])"
   ]
  },
  {
   "cell_type": "code",
   "execution_count": 17,
   "metadata": {},
   "outputs": [
    {
     "name": "stdout",
     "output_type": "stream",
     "text": [
      "Parameters from place:  0   {'bootstrap': True, 'max_depth': 10, 'min_samples_leaf': 1, 'min_samples_split': 10, 'n_estimators': 200}\n",
      "Accuracy for chosen parameters: 0.804414827155352\n",
      "Parameters from place:  1   {'bootstrap': True, 'max_depth': 10, 'min_samples_leaf': 4, 'min_samples_split': 10, 'n_estimators': 100}\n",
      "Accuracy for chosen parameters: 0.7990004164931279\n",
      "Parameters from place:  2   {'bootstrap': True, 'max_depth': 10, 'min_samples_leaf': 1, 'min_samples_split': 10, 'n_estimators': 100}\n",
      "Accuracy for chosen parameters: 0.8036651395251978\n",
      "Parameters from place:  3   {'bootstrap': True, 'max_depth': 10, 'min_samples_leaf': 2, 'min_samples_split': 10, 'n_estimators': 200}\n",
      "Accuracy for chosen parameters: 0.8014993752603082\n",
      "Parameters from place:  4   {'bootstrap': True, 'max_depth': 10, 'min_samples_leaf': 2, 'min_samples_split': 5, 'n_estimators': 200}\n",
      "Accuracy for chosen parameters: 0.8094960433152854\n",
      "Parameters from place:  5   {'bootstrap': True, 'max_depth': 10, 'min_samples_leaf': 4, 'min_samples_split': 10, 'n_estimators': 200}\n",
      "Accuracy for chosen parameters: 0.7994169096209912\n",
      "Parameters from place:  6   {'bootstrap': True, 'max_depth': 10, 'min_samples_leaf': 4, 'min_samples_split': 10, 'n_estimators': 50}\n",
      "Accuracy for chosen parameters: 0.7954185755935027\n",
      "Parameters from place:  7   {'bootstrap': True, 'max_depth': 10, 'min_samples_leaf': 2, 'min_samples_split': 10, 'n_estimators': 100}\n",
      "Accuracy for chosen parameters: 0.8016659725114536\n",
      "Parameters from place:  8   {'bootstrap': True, 'max_depth': 10, 'min_samples_leaf': 4, 'min_samples_split': 2, 'n_estimators': 200}\n",
      "Accuracy for chosen parameters: 0.7994169096209912\n",
      "Parameters from place:  9   {'bootstrap': True, 'max_depth': 10, 'min_samples_leaf': 4, 'min_samples_split': 5, 'n_estimators': 200}\n",
      "Accuracy for chosen parameters: 0.7994169096209912\n"
     ]
    }
   ],
   "source": [
    "# Run on training sample\n",
    "\n",
    "# Choose a set of parameters from sorted_results\n",
    "for i in range(10):\n",
    "\n",
    "  params = sorted_results.iloc[i]['params']\n",
    "  print(\"Parameters from place: \", i, \" \", params)\n",
    "\n",
    "  model = RandomForestClassifier(random_state=42, **params)\n",
    "  model.fit(X_train, y_train)\n",
    "\n",
    "  predictions = model.predict(X_train)\n",
    "\n",
    "  chosen_accuracy = accuracy_score(y_train, predictions)\n",
    "  print(\"Accuracy for chosen parameters:\", chosen_accuracy)"
   ]
  },
  {
   "cell_type": "code",
   "execution_count": 18,
   "metadata": {},
   "outputs": [
    {
     "name": "stdout",
     "output_type": "stream",
     "text": [
      "Accuracy for max depth : 14   0.9180341524364848\n",
      "Accuracy for max depth : 13   0.8927113702623907\n",
      "Accuracy for max depth : 12   0.8669720949604331\n",
      "Accuracy for max depth : 11   0.8394002498958767\n",
      "Accuracy for max depth : 10   0.8142440649729279\n",
      "Accuracy for max depth : 9   0.792503123698459\n",
      "Accuracy for max depth : 8   0.772844648063307\n",
      "Accuracy for max depth : 7   0.7554352353186172\n",
      "Accuracy for max depth : 6   0.7385256143273636\n",
      "Accuracy for max depth : 5   0.7274468971261974\n",
      "Accuracy for max depth : 4   0.7181174510620575\n",
      "Accuracy for max depth : 3   0.7123698458975427\n",
      "Accuracy for max depth : 2   0.7017909204498126\n",
      "Accuracy for max depth : 1   0.6945439400249895\n"
     ]
    }
   ],
   "source": [
    "accuracies=[]\n",
    "max_depths=[]\n",
    "for i in reversed(range(1,15)):\n",
    "  model = RandomForestClassifier(random_state=seed, max_depth=i)\n",
    "  model.fit(X_train, y_train)\n",
    "  predictions = model.predict(X_train)\n",
    "  accuracy = accuracy_score(y_train, predictions)\n",
    "  max_depths.append(i)\n",
    "  accuracies.append(accuracy)\n",
    "  print(\"Accuracy for max depth :\", i, \" \", accuracy)"
   ]
  },
  {
   "cell_type": "code",
   "execution_count": 19,
   "metadata": {},
   "outputs": [
    {
     "data": {
      "image/png": "[encoded data removed]",
      "text/plain": [
       "<Figure size 720x432 with 1 Axes>"
      ]
     },
     "metadata": {
      "needs_background": "light"
     },
     "output_type": "display_data"
    }
   ],
   "source": [
    "plt.figure(figsize=(10, 6))\n",
    "plt.plot(max_depths, accuracies, marker='o', linestyle='-', color='b')\n",
    "\n",
    "plt.title('Accuracy related to the maximum depth of the model')\n",
    "plt.xlabel('Maximum depth')\n",
    "plt.ylabel('Accuracy')\n",
    "plt.grid(True)\n",
    "\n",
    "plt.show()"
   ]
  },
  {
   "cell_type": "code",
   "execution_count": 20,
   "metadata": {},
   "outputs": [
    {
     "name": "stdout",
     "output_type": "stream",
     "text": [
      "0.7351765489673551\n",
      "0.723850766155896\n",
      "0.7358427714856762\n",
      "0.7338441039307129\n",
      "0.7311792138574283\n",
      "0.7335109926715523\n",
      "0.7335109926715523\n",
      "0.7301798800799467\n",
      "0.740506329113924\n",
      "0.7188540972684877\n",
      "0.7275149900066622\n",
      "0.717854763491006\n",
      "0.7191872085276483\n",
      "0.7225183211192538\n",
      "0.7395069953364424\n",
      "0.7298467688207861\n",
      "0.7215189873417721\n",
      "0.7268487674883412\n",
      "0.7335109926715523\n",
      "0.7335109926715523\n",
      "0.7388407728181212\n",
      "0.7341772151898734\n",
      "0.7281812125249834\n",
      "0.7218520986009327\n",
      "0.7311792138574283\n",
      "0.7245169886742172\n",
      "0.7285143237841439\n",
      "0.7411725516322452\n",
      "0.7251832111925383\n",
      "0.7335109926715523\n",
      "0.7428381079280479\n",
      "0.72618254497002\n",
      "0.7285143237841439\n",
      "0.7281812125249834\n",
      "0.7311792138574283\n",
      "0.72618254497002\n",
      "0.7328447701532311\n",
      "0.7285143237841439\n",
      "0.7201865423051299\n",
      "0.7281812125249834\n",
      "0.7311792138574283\n",
      "0.7361758827448368\n",
      "0.7225183211192538\n",
      "0.7248500999333778\n",
      "0.7331778814123917\n",
      "0.7311792138574283\n",
      "0.7435043304463691\n",
      "0.7175216522318454\n",
      "0.7465023317788141\n",
      "0.7221852098600933\n",
      "0.7395069953364424\n",
      "0.7255163224516988\n",
      "0.7321785476349101\n",
      "0.7211858760826116\n",
      "0.729180546302465\n",
      "0.7231845436375749\n",
      "0.7318454363757495\n",
      "0.7278481012658228\n",
      "0.7275149900066622\n",
      "0.715522984676882\n",
      "0.7211858760826116\n",
      "0.7248500999333778\n",
      "0.7361758827448368\n",
      "0.729180546302465\n",
      "0.7408394403730846\n",
      "0.7285143237841439\n",
      "0.7245169886742172\n",
      "0.7275149900066622\n",
      "0.7315123251165889\n",
      "0.723850766155896\n",
      "0.7248500999333778\n",
      "0.745836109260493\n",
      "0.7188540972684877\n",
      "0.7111925383077948\n",
      "0.723850766155896\n",
      "0.7438374417055297\n",
      "0.7255163224516988\n",
      "0.7338441039307129\n",
      "0.7385076615589606\n",
      "0.7171885409726849\n",
      "0.7315123251165889\n",
      "0.7365089940039974\n",
      "0.740506329113924\n",
      "0.7331778814123917\n",
      "0.7408394403730846\n",
      "0.734510326449034\n",
      "0.7205196535642905\n",
      "0.7331778814123917\n",
      "0.7361758827448368\n",
      "0.7408394403730846\n",
      "0.7235176548967355\n",
      "0.7348434377081945\n",
      "0.72618254497002\n",
      "0.7385076615589606\n",
      "0.7321785476349101\n",
      "0.7341772151898734\n",
      "0.7278481012658228\n",
      "0.7428381079280479\n",
      "0.7171885409726849\n",
      "0.7205196535642905\n",
      "Best Classification Report:\n",
      "              precision    recall  f1-score   support\n",
      "\n",
      "           0       0.73      0.79      0.76      1521\n",
      "           1       0.76      0.71      0.73      1481\n",
      "\n",
      "    accuracy                           0.75      3002\n",
      "   macro avg       0.75      0.75      0.75      3002\n",
      "weighted avg       0.75      0.75      0.75      3002\n",
      "\n",
      "Best Accuracy: 0.7465023317788141\n",
      "\n",
      "Average Classification Report:\n",
      "precision: 0.7315\n",
      "recall: 0.7295\n",
      "f1-score: 0.7291\n",
      "accuracy: 0.7299\n"
     ]
    }
   ],
   "source": [
    "best_accuracy = 0\n",
    "best_report = None\n",
    "best_predictions = None\n",
    "y_best_predictions = None\n",
    "all_reports = []\n",
    "\n",
    "for i in range(100):\n",
    "  random_state_fit = np.random.randint(1000)\n",
    "\n",
    "  test_size = 0.2\n",
    "  X_train, X_test, y_train, y_test = train_test_split(\n",
    "    df_scaled_sample.drop('averageRating', axis=1), \n",
    "    df_scaled_sample['averageRating'], test_size=test_size, \n",
    "    random_state=random_state_fit)\n",
    "  \n",
    "\n",
    "  model = RandomForestClassifier(random_state=seed, **best_tuple[1])\n",
    "  model.fit(X_train, y_train)\n",
    "\n",
    "  predictions = model.predict(X_test)\n",
    "  current_accuracy = accuracy_score(y_test, predictions)\n",
    "\n",
    "  report = classification_report(y_test, predictions, output_dict=True, zero_division=0)\n",
    "  all_reports.append(report)\n",
    "  print(current_accuracy)\n",
    "\n",
    "  if current_accuracy > best_accuracy:\n",
    "        best_accuracy = current_accuracy\n",
    "        best_report = report\n",
    "        best_predictions = predictions\n",
    "        y_best_predictions = y_test\n",
    "\n",
    "def average_classification_report(reports):\n",
    "    metrics = ['precision', 'recall', 'f1-score']\n",
    "    avg_report = {}\n",
    "    for metric in metrics:\n",
    "        avg_report[metric] = sum(r['macro avg'][metric] for r in reports) / len(reports)\n",
    "    avg_report['accuracy'] = sum(r['accuracy'] for r in reports) / len(reports)\n",
    "    return avg_report\n",
    "\n",
    "avg_report = average_classification_report(all_reports)\n",
    "\n",
    "print(\"Best Classification Report:\")\n",
    "print(classification_report(y_best_predictions, best_predictions, zero_division=0))\n",
    "print(\"Best Accuracy:\", best_accuracy)\n",
    "print()\n",
    "print(\"Average Classification Report:\")\n",
    "for metric, score in avg_report.items():\n",
    "    print(f\"{metric}: {score:.4f}\")"
   ]
  },
  {
   "cell_type": "code",
   "execution_count": 21,
   "metadata": {},
   "outputs": [
    {
     "name": "stdout",
     "output_type": "stream",
     "text": [
      "Metrics for RF-PCA-Shuffled_best:\n",
      "Accuracy: 0.7465\n",
      "Weighted F1: 0.7460\n",
      "Weighted Precision: 0.7476\n",
      "Weighted Recall: 0.7465\n",
      "Macro-Averaged Precision: 0.7478\n",
      "Macro-Averaged Recall: 0.7460\n",
      "F1: [0.75864256 0.73307611]\n",
      "Precision: [0.73284314 0.76277372]\n",
      "classification report\n",
      "              precision    recall  f1-score   support\n",
      "\n",
      "     Class 0       0.73      0.79      0.76      1521\n",
      "     Class 1       0.76      0.71      0.73      1481\n",
      "\n",
      "    accuracy                           0.75      3002\n",
      "   macro avg       0.75      0.75      0.75      3002\n",
      "weighted avg       0.75      0.75      0.75      3002\n",
      "\n",
      "Confusion Matrix\n"
     ]
    },
    {
     "data": {
      "image/png": "[encoded data removed]",
      "text/plain": [
       "<Figure size 432x288 with 2 Axes>"
      ]
     },
     "metadata": {
      "needs_background": "light"
     },
     "output_type": "display_data"
    },
    {
     "data": {
      "text/html": [
       "<div>\n",
       "<style scoped>\n",
       "    .dataframe tbody tr th:only-of-type {\n",
       "        vertical-align: middle;\n",
       "    }\n",
       "\n",
       "    .dataframe tbody tr th {\n",
       "        vertical-align: top;\n",
       "    }\n",
       "\n",
       "    .dataframe thead th {\n",
       "        text-align: right;\n",
       "    }\n",
       "</style>\n",
       "<table border=\"1\" class=\"dataframe\">\n",
       "  <thead>\n",
       "    <tr style=\"text-align: right;\">\n",
       "      <th></th>\n",
       "      <th>Accuracy</th>\n",
       "      <th>Weighted F1</th>\n",
       "      <th>Weighted Precision</th>\n",
       "      <th>Weighted Recall</th>\n",
       "      <th>Macro-Averaged Precision</th>\n",
       "      <th>Macro-Averaged Recall</th>\n",
       "      <th>F1</th>\n",
       "      <th>Precision</th>\n",
       "    </tr>\n",
       "  </thead>\n",
       "  <tbody>\n",
       "    <tr>\n",
       "      <th>RF-PCA-Shuffled_best</th>\n",
       "      <td>0.746502</td>\n",
       "      <td>0.74603</td>\n",
       "      <td>0.747609</td>\n",
       "      <td>0.746502</td>\n",
       "      <td>0.747808</td>\n",
       "      <td>0.745965</td>\n",
       "      <td>[0.75864256 0.73307611]</td>\n",
       "      <td>[0.73284314 0.76277372]</td>\n",
       "    </tr>\n",
       "  </tbody>\n",
       "</table>\n",
       "</div>"
      ],
      "text/plain": [
       "                      Accuracy  Weighted F1  Weighted Precision  \\\n",
       "RF-PCA-Shuffled_best  0.746502      0.74603            0.747609   \n",
       "\n",
       "                      Weighted Recall  Macro-Averaged Precision  \\\n",
       "RF-PCA-Shuffled_best         0.746502                  0.747808   \n",
       "\n",
       "                      Macro-Averaged Recall                       F1  \\\n",
       "RF-PCA-Shuffled_best               0.745965  [0.75864256 0.73307611]   \n",
       "\n",
       "                                    Precision  \n",
       "RF-PCA-Shuffled_best  [0.73284314 0.76277372]  "
      ]
     },
     "execution_count": 21,
     "metadata": {},
     "output_type": "execute_result"
    }
   ],
   "source": [
    "calculate_metrics('RF-PCA-Shuffled_best', y_best_predictions, best_predictions)"
   ]
  }
 ],
 "metadata": {
  "kernelspec": {
   "display_name": "Python 3",
   "language": "python",
   "name": "python3"
  },
  "language_info": {
   "codemirror_mode": {
    "name": "ipython",
    "version": 3
   },
   "file_extension": ".py",
   "mimetype": "text/x-python",
   "name": "python",
   "nbconvert_exporter": "python",
   "pygments_lexer": "ipython3",
   "version": "3.10.11"
  }
 },
 "nbformat": 4,
 "nbformat_minor": 2
}
