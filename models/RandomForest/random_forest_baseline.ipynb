{
 "cells": [
  {
   "cell_type": "markdown",
   "metadata": {},
   "source": [
    "## Random Forest Implementation on scaled non-reduced dataset"
   ]
  },
  {
   "cell_type": "markdown",
   "metadata": {},
   "source": [
    "Imports"
   ]
  },
  {
   "cell_type": "code",
   "execution_count": 1,
   "metadata": {},
   "outputs": [
    {
     "name": "stderr",
     "output_type": "stream",
     "text": [
      "C:\\Users\\movil\\AppData\\Local\\Packages\\PythonSoftwareFoundation.Python.3.10_qbz5n2kfra8p0\\LocalCache\\local-packages\\Python310\\site-packages\\scipy\\__init__.py:155: UserWarning: A NumPy version >=1.18.5 and <1.25.0 is required for this version of SciPy (detected version 1.26.4\n",
      "  warnings.warn(f\"A NumPy version >={np_minversion} and <{np_maxversion}\"\n"
     ]
    }
   ],
   "source": [
    "# Utilities\n",
    "import pandas as pd\n",
    "import warnings\n",
    "import numpy as np\n",
    "import matplotlib.pyplot as plt\n",
    "\n",
    "# Models\n",
    "import optuna\n",
    "from sklearn.model_selection import train_test_split, cross_val_score\n",
    "from sklearn.ensemble import RandomForestClassifier\n",
    "from sklearn.model_selection import GridSearchCV\n",
    "from sklearn.metrics import accuracy_score, accuracy_score, f1_score\n",
    "from sklearn.metrics import classification_report, precision_score, recall_score, confusion_matrix, ConfusionMatrixDisplay"
   ]
  },
  {
   "cell_type": "markdown",
   "metadata": {},
   "source": [
    "Set random seed for reproductibility"
   ]
  },
  {
   "cell_type": "code",
   "execution_count": 2,
   "metadata": {},
   "outputs": [],
   "source": [
    "seed = 23"
   ]
  },
  {
   "cell_type": "markdown",
   "metadata": {},
   "source": [
    "Read clean (scaled data)"
   ]
  },
  {
   "cell_type": "code",
   "execution_count": 4,
   "metadata": {},
   "outputs": [],
   "source": [
    "df_scaled = pd.read_csv('../../Data/dataset_preprocessed.csv')"
   ]
  },
  {
   "cell_type": "markdown",
   "metadata": {},
   "source": [
    "Take sample for (initial) tests"
   ]
  },
  {
   "cell_type": "code",
   "execution_count": 5,
   "metadata": {},
   "outputs": [],
   "source": [
    "#df_scaled_sample = df_scaled.sample(n=1000, random_state=seed)\n",
    "df_scaled_sample = df_scaled"
   ]
  },
  {
   "cell_type": "markdown",
   "metadata": {},
   "source": [
    "Train-Test Split"
   ]
  },
  {
   "cell_type": "code",
   "execution_count": 6,
   "metadata": {},
   "outputs": [],
   "source": [
    "test_size = 0.2\n",
    "X_train, X_test, y_train, y_test = train_test_split(\n",
    "    df_scaled_sample.drop('averageRating', axis=1), \n",
    "    df_scaled_sample['averageRating'], test_size=test_size, \n",
    "    random_state=seed\n",
    ")"
   ]
  },
  {
   "cell_type": "markdown",
   "metadata": {},
   "source": [
    "Save and print metrics"
   ]
  },
  {
   "cell_type": "code",
   "execution_count": 7,
   "metadata": {},
   "outputs": [],
   "source": [
    "def calculate_metrics(model_name, y_true, y_pred):\n",
    "    metrics = {\n",
    "        'Accuracy': accuracy_score(y_true, y_pred),\n",
    "        'Weighted F1': f1_score(y_true, y_pred, average='weighted'),\n",
    "        'Weighted Precision': precision_score(y_true, y_pred, average='weighted', zero_division=0),\n",
    "        'Weighted Recall': recall_score(y_true, y_pred, average='weighted'),\n",
    "        'Macro-Averaged Precision': precision_score(y_true, y_pred, average='macro', zero_division=0),\n",
    "        'Macro-Averaged Recall': recall_score(y_true, y_pred, average='macro'),\n",
    "        'F1': str(f1_score(y_true, y_pred, average=None)),\n",
    "        'Precision': str( precision_score(y_true, y_pred, average=None, zero_division=0)),\n",
    "    }\n",
    "    \n",
    "    # Print the metrics\n",
    "    print(f\"Metrics for {model_name}:\")\n",
    "    for metric_name, metric_value in metrics.items():\n",
    "        try:\n",
    "            print(f\"{metric_name}: {metric_value:.4f}\")\n",
    "        except:\n",
    "            print(f\"{metric_name}: {metric_value}\")\n",
    "    \n",
    "    # Print the classification report\n",
    "    print(\"classification report\")\n",
    "    report = classification_report(y_true, y_pred, target_names=['Class 0', 'Class 1'], zero_division=0)\n",
    "    print(report)\n",
    "\n",
    "    print(\"Confusion Matrix\")\n",
    "    cm = confusion_matrix(y_true, y_pred)\n",
    "    cmd = ConfusionMatrixDisplay(confusion_matrix=cm)\n",
    "    cmd.plot()\n",
    "    \n",
    "    plt.title(f'Confusion matrix for model {model_name} (Accuracy:{metrics[\"Accuracy\"]:.4f})')\n",
    "    plt.show()\n",
    "    \n",
    "    # Create df to store metrics\n",
    "    df_metrics = pd.DataFrame(metrics, index=[model_name])\n",
    "    \n",
    "    return df_metrics"
   ]
  },
  {
   "cell_type": "code",
   "execution_count": 8,
   "metadata": {},
   "outputs": [
    {
     "name": "stdout",
     "output_type": "stream",
     "text": [
      "Accuracy: 0.7724850099933378\n",
      "F1 score: [0.78351823 0.76026676]\n"
     ]
    }
   ],
   "source": [
    "model = RandomForestClassifier(n_estimators=100, random_state=seed)\n",
    "model.fit(X_train, y_train)\n",
    "\n",
    "predictions = model.predict(X_test)\n",
    "print(\"Accuracy:\", accuracy_score(y_test, predictions))\n",
    "\n",
    "print(\"F1 score:\", f1_score(y_test, predictions, average=None))"
   ]
  },
  {
   "cell_type": "markdown",
   "metadata": {},
   "source": [
    "## Grid Search CV - 1"
   ]
  },
  {
   "cell_type": "code",
   "execution_count": 9,
   "metadata": {},
   "outputs": [
    {
     "name": "stdout",
     "output_type": "stream",
     "text": [
      "Fitting 3 folds for each of 288 candidates, totalling 864 fits\n",
      "The parameters with the highest score:  {'bootstrap': True, 'max_depth': 30, 'min_samples_leaf': 1, 'min_samples_split': 10, 'n_estimators': 200}\n"
     ]
    }
   ],
   "source": [
    "param_grid = {\n",
    "    'n_estimators': [10, 50, 100, 200],  # Number of trees in the forest\n",
    "    'max_depth': [None, 10, 20, 30],  # Maximum depth of the tree\n",
    "    'min_samples_split': [2, 5, 10],  # Minimum number of samples required to split an internal node\n",
    "    'min_samples_leaf': [1, 2, 4],  # Minimum number of samples required to be at a leaf node\n",
    "    'bootstrap': [True, False]  # Method of selecting samples for training each tree\n",
    "}\n",
    "\n",
    "model = RandomForestClassifier(random_state=seed)\n",
    "\n",
    "grid_search = GridSearchCV(estimator=model, param_grid=param_grid, cv=3, n_jobs=-1, verbose=2, scoring='accuracy')\n",
    "grid_search.fit(X_train, y_train)\n",
    "\n",
    "print(\"The parameters with the highest score: \", grid_search.best_params_)"
   ]
  },
  {
   "cell_type": "code",
   "execution_count": 10,
   "metadata": {},
   "outputs": [
    {
     "name": "stdout",
     "output_type": "stream",
     "text": [
      "                                                params  mean_test_score\n",
      "119  {'bootstrap': True, 'max_depth': 30, 'min_samp...         0.772428\n",
      "18   {'bootstrap': True, 'max_depth': None, 'min_sa...         0.772178\n",
      "91   {'bootstrap': True, 'max_depth': 20, 'min_samp...         0.771429\n",
      "74   {'bootstrap': True, 'max_depth': 20, 'min_samp...         0.771262\n",
      "6    {'bootstrap': True, 'max_depth': None, 'min_sa...         0.771095\n",
      "121  {'bootstrap': True, 'max_depth': 30, 'min_samp...         0.771095\n",
      "231  {'bootstrap': False, 'max_depth': 20, 'min_sam...         0.770929\n",
      "118  {'bootstrap': True, 'max_depth': 30, 'min_samp...         0.770929\n",
      "143  {'bootstrap': True, 'max_depth': 30, 'min_samp...         0.770762\n",
      "243  {'bootstrap': False, 'max_depth': 20, 'min_sam...         0.770679\n"
     ]
    }
   ],
   "source": [
    "cv_results_df = pd.DataFrame(grid_search.cv_results_)\n",
    "\n",
    "# Show top 10 parameters for this model\n",
    "minimalistic_results = cv_results_df[['params', 'mean_test_score']]\n",
    "sorted_results = minimalistic_results.sort_values(by='mean_test_score', ascending=False)\n",
    "\n",
    "print(sorted_results.head(10))"
   ]
  },
  {
   "cell_type": "code",
   "execution_count": 11,
   "metadata": {},
   "outputs": [
    {
     "name": "stdout",
     "output_type": "stream",
     "text": [
      "Metrics for RF-GS-CV1:\n",
      "Accuracy: 0.7728\n",
      "Weighted F1: 0.7727\n",
      "Weighted Precision: 0.7728\n",
      "Weighted Recall: 0.7728\n",
      "Macro-Averaged Precision: 0.7728\n",
      "Macro-Averaged Recall: 0.7720\n",
      "F1: [0.78362944 0.76086957]\n",
      "Precision: [0.77380952 0.77169275]\n",
      "classification report\n",
      "              precision    recall  f1-score   support\n",
      "\n",
      "     Class 0       0.77      0.79      0.78      1556\n",
      "     Class 1       0.77      0.75      0.76      1446\n",
      "\n",
      "    accuracy                           0.77      3002\n",
      "   macro avg       0.77      0.77      0.77      3002\n",
      "weighted avg       0.77      0.77      0.77      3002\n",
      "\n",
      "Confusion Matrix\n"
     ]
    },
    {
     "data": {
      "image/png": "[encoded data removed]",
      "text/plain": [
       "<Figure size 432x288 with 2 Axes>"
      ]
     },
     "metadata": {
      "needs_background": "light"
     },
     "output_type": "display_data"
    }
   ],
   "source": [
    "best_model = grid_search.best_estimator_\n",
    "predictions = best_model.predict(X_test)\n",
    "_ = calculate_metrics('RF-GS-CV1', y_test, predictions)"
   ]
  },
  {
   "cell_type": "code",
   "execution_count": 12,
   "metadata": {},
   "outputs": [
    {
     "name": "stdout",
     "output_type": "stream",
     "text": [
      "Parameters from place:  0   {'bootstrap': True, 'max_depth': 30, 'min_samples_leaf': 1, 'min_samples_split': 10, 'n_estimators': 200}\n",
      "Accuracy for chosen parameters: 0.7728181212524984\n",
      "Parameters from place:  1   {'bootstrap': True, 'max_depth': None, 'min_samples_leaf': 2, 'min_samples_split': 5, 'n_estimators': 100}\n",
      "Accuracy for chosen parameters: 0.7711525649566955\n",
      "Parameters from place:  2   {'bootstrap': True, 'max_depth': 20, 'min_samples_leaf': 2, 'min_samples_split': 5, 'n_estimators': 200}\n",
      "Accuracy for chosen parameters: 0.7688207861425717\n",
      "Parameters from place:  3   {'bootstrap': True, 'max_depth': 20, 'min_samples_leaf': 1, 'min_samples_split': 2, 'n_estimators': 100}\n",
      "Accuracy for chosen parameters: 0.7714856762158561\n",
      "Parameters from place:  4   {'bootstrap': True, 'max_depth': None, 'min_samples_leaf': 1, 'min_samples_split': 5, 'n_estimators': 100}\n",
      "Accuracy for chosen parameters: 0.7784810126582279\n",
      "Parameters from place:  5   {'bootstrap': True, 'max_depth': 30, 'min_samples_leaf': 2, 'min_samples_split': 2, 'n_estimators': 50}\n",
      "Accuracy for chosen parameters: 0.7728181212524984\n",
      "Parameters from place:  6   {'bootstrap': False, 'max_depth': 20, 'min_samples_leaf': 2, 'min_samples_split': 2, 'n_estimators': 200}\n",
      "Accuracy for chosen parameters: 0.7711525649566955\n",
      "Parameters from place:  7   {'bootstrap': True, 'max_depth': 30, 'min_samples_leaf': 1, 'min_samples_split': 10, 'n_estimators': 100}\n",
      "Accuracy for chosen parameters: 0.7694870086608927\n",
      "Parameters from place:  8   {'bootstrap': True, 'max_depth': 30, 'min_samples_leaf': 4, 'min_samples_split': 10, 'n_estimators': 200}\n",
      "Accuracy for chosen parameters: 0.7681545636242505\n",
      "Parameters from place:  9   {'bootstrap': False, 'max_depth': 20, 'min_samples_leaf': 4, 'min_samples_split': 2, 'n_estimators': 200}\n",
      "Accuracy for chosen parameters: 0.7684876748834111\n"
     ]
    }
   ],
   "source": [
    "# Predicting using other alternatives of fine-tuning from top 10 performances\n",
    "other_alternatives = []\n",
    "# Choose a set of parameters from sorted_results\n",
    "for i in range(10):\n",
    "\n",
    "  params = sorted_results.iloc[i]['params']\n",
    "  print(\"Parameters from place: \", i, \" \", params)\n",
    "\n",
    "  model = RandomForestClassifier(random_state=seed, **params)\n",
    "  model.fit(X_train, y_train)\n",
    "\n",
    "  predictions = model.predict(X_test)\n",
    "\n",
    "  chosen_accuracy = accuracy_score(y_test, predictions)\n",
    "  print(\"Accuracy for chosen parameters:\", chosen_accuracy)\n",
    "  other_alternatives.append((chosen_accuracy,params))\n"
   ]
  },
  {
   "cell_type": "code",
   "execution_count": 19,
   "metadata": {},
   "outputs": [],
   "source": [
    "# get best from top 10\n",
    "best_tuple = max(other_alternatives, key=lambda x: x[0])"
   ]
  },
  {
   "cell_type": "code",
   "execution_count": 23,
   "metadata": {},
   "outputs": [
    {
     "name": "stdout",
     "output_type": "stream",
     "text": [
      "Best accuracy and parameters after running the algorithm using other alternatives of fine tuning from top 10 performances\n",
      "0.7784810126582279\n",
      "{'bootstrap': True, 'max_depth': None, 'min_samples_leaf': 1, 'min_samples_split': 5, 'n_estimators': 100}\n"
     ]
    }
   ],
   "source": [
    "print(\"Best accuracy and parameters after running the algorithm using other alternatives of fine tuning from top 10 performances\")\n",
    "print(best_tuple[0])\n",
    "print(best_tuple[1])"
   ]
  },
  {
   "cell_type": "code",
   "execution_count": 24,
   "metadata": {},
   "outputs": [
    {
     "name": "stdout",
     "output_type": "stream",
     "text": [
      "Parameters from place:  0   {'bootstrap': True, 'max_depth': 30, 'min_samples_leaf': 1, 'min_samples_split': 10, 'n_estimators': 200}\n",
      "Accuracy for chosen parameters: 0.9505206164098292\n",
      "Parameters from place:  1   {'bootstrap': True, 'max_depth': None, 'min_samples_leaf': 2, 'min_samples_split': 5, 'n_estimators': 100}\n",
      "Accuracy for chosen parameters: 0.9582673885880882\n",
      "Parameters from place:  2   {'bootstrap': True, 'max_depth': 20, 'min_samples_leaf': 2, 'min_samples_split': 5, 'n_estimators': 200}\n",
      "Accuracy for chosen parameters: 0.9349437734277385\n",
      "Parameters from place:  3   {'bootstrap': True, 'max_depth': 20, 'min_samples_leaf': 1, 'min_samples_split': 2, 'n_estimators': 100}\n",
      "Accuracy for chosen parameters: 0.9794252394835485\n",
      "Parameters from place:  4   {'bootstrap': True, 'max_depth': None, 'min_samples_leaf': 1, 'min_samples_split': 5, 'n_estimators': 100}\n",
      "Accuracy for chosen parameters: 0.9908371511870054\n",
      "Parameters from place:  5   {'bootstrap': True, 'max_depth': 30, 'min_samples_leaf': 2, 'min_samples_split': 2, 'n_estimators': 50}\n",
      "Accuracy for chosen parameters: 0.9613494377342774\n",
      "Parameters from place:  6   {'bootstrap': False, 'max_depth': 20, 'min_samples_leaf': 2, 'min_samples_split': 2, 'n_estimators': 200}\n",
      "Accuracy for chosen parameters: 0.9777592669720949\n",
      "Parameters from place:  7   {'bootstrap': True, 'max_depth': 30, 'min_samples_leaf': 1, 'min_samples_split': 10, 'n_estimators': 100}\n",
      "Accuracy for chosen parameters: 0.9492711370262391\n",
      "Parameters from place:  8   {'bootstrap': True, 'max_depth': 30, 'min_samples_leaf': 4, 'min_samples_split': 10, 'n_estimators': 200}\n",
      "Accuracy for chosen parameters: 0.8900458142440649\n",
      "Parameters from place:  9   {'bootstrap': False, 'max_depth': 20, 'min_samples_leaf': 4, 'min_samples_split': 2, 'n_estimators': 200}\n",
      "Accuracy for chosen parameters: 0.9350270720533111\n"
     ]
    }
   ],
   "source": [
    "# Run on training sample\n",
    "\n",
    "# Choose a set of parameters from sorted_results\n",
    "for i in range(10):\n",
    "\n",
    "  params = sorted_results.iloc[i]['params']\n",
    "  print(\"Parameters from place: \", i, \" \", params)\n",
    "\n",
    "  model = RandomForestClassifier(random_state=42, **params)\n",
    "  model.fit(X_train, y_train)\n",
    "\n",
    "  predictions = model.predict(X_train)\n",
    "\n",
    "  chosen_accuracy = accuracy_score(y_train, predictions)\n",
    "  print(\"Accuracy for chosen parameters:\", chosen_accuracy)"
   ]
  },
  {
   "cell_type": "code",
   "execution_count": 27,
   "metadata": {},
   "outputs": [
    {
     "name": "stdout",
     "output_type": "stream",
     "text": [
      "Accuracy for max depth : 14   0.8925447730112454\n",
      "Accuracy for max depth : 13   0.8711370262390671\n",
      "Accuracy for max depth : 12   0.8478134110787172\n",
      "Accuracy for max depth : 11   0.826905456059975\n",
      "Accuracy for max depth : 10   0.8065805914202415\n",
      "Accuracy for max depth : 9   0.7911703456892961\n",
      "Accuracy for max depth : 8   0.778259058725531\n",
      "Accuracy for max depth : 7   0.7631820074968763\n",
      "Accuracy for max depth : 6   0.751103706788838\n",
      "Accuracy for max depth : 5   0.7429404414827155\n",
      "Accuracy for max depth : 4   0.7286130778842149\n",
      "Accuracy for max depth : 3   0.7178675551853394\n",
      "Accuracy for max depth : 2   0.7076218242399\n",
      "Accuracy for max depth : 1   0.6936276551436902\n"
     ]
    }
   ],
   "source": [
    "accuracies=[]\n",
    "max_depths=[]\n",
    "for i in reversed(range(1,15)):\n",
    "  model = RandomForestClassifier(random_state=seed, max_depth=i)\n",
    "  model.fit(X_train, y_train)\n",
    "  predictions = model.predict(X_train)\n",
    "  accuracy = accuracy_score(y_train, predictions)\n",
    "  max_depths.append(i)\n",
    "  accuracies.append(accuracy)\n",
    "  print(\"Accuracy for max depth :\", i, \" \", accuracy)"
   ]
  },
  {
   "cell_type": "code",
   "execution_count": 28,
   "metadata": {},
   "outputs": [
    {
     "data": {
      "image/png": "[encoded data removed]",
      "text/plain": [
       "<Figure size 720x432 with 1 Axes>"
      ]
     },
     "metadata": {
      "needs_background": "light"
     },
     "output_type": "display_data"
    }
   ],
   "source": [
    "plt.figure(figsize=(10, 6))\n",
    "plt.plot(max_depths, accuracies, marker='o', linestyle='-', color='b')\n",
    "\n",
    "plt.title('Accuracy related to the maximum depth of the model')\n",
    "plt.xlabel('Maximum depth')\n",
    "plt.ylabel('Accuracy')\n",
    "plt.grid(True)\n",
    "\n",
    "plt.show()"
   ]
  },
  {
   "cell_type": "code",
   "execution_count": 29,
   "metadata": {},
   "outputs": [
    {
     "name": "stdout",
     "output_type": "stream",
     "text": [
      "0.7871419053964024\n",
      "0.7824783477681546\n",
      "0.77381745502998\n",
      "0.7798134576948701\n",
      "0.7618254497001998\n",
      "0.7748167888074617\n",
      "0.7774816788807462\n",
      "0.7758161225849434\n",
      "0.7731512325116588\n",
      "0.7711525649566955\n",
      "0.7711525649566955\n",
      "0.7864756828780812\n",
      "0.7724850099933378\n",
      "0.770819453697535\n",
      "0.7711525649566955\n",
      "0.7824783477681546\n",
      "0.7828114590273151\n",
      "0.7724850099933378\n",
      "0.7854763491005996\n",
      "0.7784810126582279\n",
      "0.759493670886076\n",
      "0.7744836775483012\n",
      "0.7764823451032645\n",
      "0.7651565622918055\n",
      "0.7638241172551632\n",
      "0.7838107928047968\n",
      "0.7684876748834111\n",
      "0.7758161225849434\n",
      "0.7744836775483012\n",
      "0.77381745502998\n",
      "0.7758161225849434\n",
      "0.7884743504330446\n",
      "0.7744836775483012\n",
      "0.7704863424383744\n",
      "0.7714856762158561\n",
      "0.759493670886076\n",
      "0.7804796802131913\n",
      "0.7658227848101266\n",
      "0.7841439040639574\n",
      "0.7908061292471685\n",
      "0.7734843437708194\n",
      "0.7818121252498335\n",
      "0.770819453697535\n",
      "0.770819453697535\n",
      "0.7794803464357095\n",
      "0.7794803464357095\n",
      "0.7701532311792139\n",
      "0.7701532311792139\n",
      "0.7788141239173884\n",
      "0.759493670886076\n",
      "0.7681545636242505\n",
      "0.7698201199200533\n",
      "0.7788141239173884\n",
      "0.7698201199200533\n",
      "0.7771485676215856\n",
      "0.765489673550966\n",
      "0.770819453697535\n",
      "0.7731512325116588\n",
      "0.770819453697535\n",
      "0.7748167888074617\n",
      "0.7848101265822784\n",
      "0.7831445702864757\n",
      "0.7691538974017322\n",
      "0.7808127914723517\n",
      "0.7814790139906729\n",
      "0.7781479013990673\n",
      "0.7684876748834111\n",
      "0.7781479013990673\n",
      "0.784477015323118\n",
      "0.7751499000666222\n",
      "0.7834776815456362\n",
      "0.7804796802131913\n",
      "0.7754830113257828\n",
      "0.7781479013990673\n",
      "0.7674883411059293\n",
      "0.7668221185876083\n",
      "0.7784810126582279\n",
      "0.7784810126582279\n",
      "0.7714856762158561\n",
      "0.7664890073284477\n",
      "0.7758161225849434\n",
      "0.7781479013990673\n",
      "0.7808127914723517\n",
      "0.7781479013990673\n",
      "0.7701532311792139\n",
      "0.7638241172551632\n",
      "0.7728181212524984\n",
      "0.7758161225849434\n",
      "0.7764823451032645\n",
      "0.7661558960692871\n",
      "0.7831445702864757\n",
      "0.7598267821452365\n",
      "0.7544970019986675\n",
      "0.7691538974017322\n",
      "0.7784810126582279\n",
      "0.7751499000666222\n",
      "0.7641572285143238\n",
      "0.7751499000666222\n",
      "0.7804796802131913\n",
      "0.7638241172551632\n",
      "Best Classification Report:\n",
      "              precision    recall  f1-score   support\n",
      "\n",
      "           0       0.79      0.82      0.80      1570\n",
      "           1       0.79      0.76      0.78      1432\n",
      "\n",
      "    accuracy                           0.79      3002\n",
      "   macro avg       0.79      0.79      0.79      3002\n",
      "weighted avg       0.79      0.79      0.79      3002\n",
      "\n",
      "Best Accuracy: 0.7908061292471685\n",
      "\n",
      "Average Classification Report:\n",
      "precision: 0.7748\n",
      "recall: 0.7742\n",
      "f1-score: 0.7741\n",
      "accuracy: 0.7743\n"
     ]
    }
   ],
   "source": [
    "best_accuracy = 0\n",
    "best_report = None\n",
    "best_predictions = None\n",
    "y_best_predictions = None\n",
    "all_reports = []\n",
    "\n",
    "for i in range(100):\n",
    "  random_state_fit = np.random.randint(1000)\n",
    "\n",
    "  test_size = 0.2\n",
    "  X_train, X_test, y_train, y_test = train_test_split(\n",
    "    df_scaled_sample.drop('averageRating', axis=1), \n",
    "    df_scaled_sample['averageRating'], test_size=test_size, \n",
    "    random_state=random_state_fit)\n",
    "  \n",
    "\n",
    "  model = RandomForestClassifier(random_state=seed, **best_tuple[1])\n",
    "  model.fit(X_train, y_train)\n",
    "\n",
    "  predictions = model.predict(X_test)\n",
    "  current_accuracy = accuracy_score(y_test, predictions)\n",
    "\n",
    "  report = classification_report(y_test, predictions, output_dict=True, zero_division=0)\n",
    "  all_reports.append(report)\n",
    "  print(current_accuracy)\n",
    "\n",
    "  if current_accuracy > best_accuracy:\n",
    "        best_accuracy = current_accuracy\n",
    "        best_report = report\n",
    "        best_predictions = predictions\n",
    "        y_best_predictions = y_test\n",
    "\n",
    "def average_classification_report(reports):\n",
    "    metrics = ['precision', 'recall', 'f1-score']\n",
    "    avg_report = {}\n",
    "    for metric in metrics:\n",
    "        avg_report[metric] = sum(r['macro avg'][metric] for r in reports) / len(reports)\n",
    "    avg_report['accuracy'] = sum(r['accuracy'] for r in reports) / len(reports)\n",
    "    return avg_report\n",
    "\n",
    "avg_report = average_classification_report(all_reports)\n",
    "\n",
    "print(\"Best Classification Report:\")\n",
    "print(classification_report(y_best_predictions, best_predictions, zero_division=0))\n",
    "print(\"Best Accuracy:\", best_accuracy)\n",
    "print()\n",
    "print(\"Average Classification Report:\")\n",
    "for metric, score in avg_report.items():\n",
    "    print(f\"{metric}: {score:.4f}\")"
   ]
  },
  {
   "cell_type": "code",
   "execution_count": 30,
   "metadata": {},
   "outputs": [
    {
     "name": "stdout",
     "output_type": "stream",
     "text": [
      "Metrics for RF-Shuffled_best:\n",
      "Accuracy: 0.7908\n",
      "Weighted F1: 0.7906\n",
      "Weighted Precision: 0.7908\n",
      "Weighted Recall: 0.7908\n",
      "Macro-Averaged Precision: 0.7908\n",
      "Macro-Averaged Recall: 0.7896\n",
      "F1: [0.80301129 0.77698864]\n",
      "Precision: [0.79110012 0.79046243]\n",
      "classification report\n",
      "              precision    recall  f1-score   support\n",
      "\n",
      "     Class 0       0.79      0.82      0.80      1570\n",
      "     Class 1       0.79      0.76      0.78      1432\n",
      "\n",
      "    accuracy                           0.79      3002\n",
      "   macro avg       0.79      0.79      0.79      3002\n",
      "weighted avg       0.79      0.79      0.79      3002\n",
      "\n",
      "Confusion Matrix\n"
     ]
    },
    {
     "data": {
      "image/png": "[encoded data removed]",
      "text/plain": [
       "<Figure size 432x288 with 2 Axes>"
      ]
     },
     "metadata": {
      "needs_background": "light"
     },
     "output_type": "display_data"
    },
    {
     "data": {
      "text/html": [
       "<div>\n",
       "<style scoped>\n",
       "    .dataframe tbody tr th:only-of-type {\n",
       "        vertical-align: middle;\n",
       "    }\n",
       "\n",
       "    .dataframe tbody tr th {\n",
       "        vertical-align: top;\n",
       "    }\n",
       "\n",
       "    .dataframe thead th {\n",
       "        text-align: right;\n",
       "    }\n",
       "</style>\n",
       "<table border=\"1\" class=\"dataframe\">\n",
       "  <thead>\n",
       "    <tr style=\"text-align: right;\">\n",
       "      <th></th>\n",
       "      <th>Accuracy</th>\n",
       "      <th>Weighted F1</th>\n",
       "      <th>Weighted Precision</th>\n",
       "      <th>Weighted Recall</th>\n",
       "      <th>Macro-Averaged Precision</th>\n",
       "      <th>Macro-Averaged Recall</th>\n",
       "      <th>F1</th>\n",
       "      <th>Precision</th>\n",
       "    </tr>\n",
       "  </thead>\n",
       "  <tbody>\n",
       "    <tr>\n",
       "      <th>RF-Shuffled_best</th>\n",
       "      <td>0.790806</td>\n",
       "      <td>0.790598</td>\n",
       "      <td>0.790796</td>\n",
       "      <td>0.790806</td>\n",
       "      <td>0.790781</td>\n",
       "      <td>0.789627</td>\n",
       "      <td>[0.80301129 0.77698864]</td>\n",
       "      <td>[0.79110012 0.79046243]</td>\n",
       "    </tr>\n",
       "  </tbody>\n",
       "</table>\n",
       "</div>"
      ],
      "text/plain": [
       "                  Accuracy  Weighted F1  Weighted Precision  Weighted Recall  \\\n",
       "RF-Shuffled_best  0.790806     0.790598            0.790796         0.790806   \n",
       "\n",
       "                  Macro-Averaged Precision  Macro-Averaged Recall  \\\n",
       "RF-Shuffled_best                  0.790781               0.789627   \n",
       "\n",
       "                                       F1                Precision  \n",
       "RF-Shuffled_best  [0.80301129 0.77698864]  [0.79110012 0.79046243]  "
      ]
     },
     "execution_count": 30,
     "metadata": {},
     "output_type": "execute_result"
    }
   ],
   "source": [
    "calculate_metrics('RF-Shuffled_best', y_best_predictions, best_predictions)"
   ]
  }
 ],
 "metadata": {
  "kernelspec": {
   "display_name": "Python 3",
   "language": "python",
   "name": "python3"
  },
  "language_info": {
   "codemirror_mode": {
    "name": "ipython",
    "version": 3
   },
   "file_extension": ".py",
   "mimetype": "text/x-python",
   "name": "python",
   "nbconvert_exporter": "python",
   "pygments_lexer": "ipython3",
   "version": "3.10.11"
  }
 },
 "nbformat": 4,
 "nbformat_minor": 2
}
