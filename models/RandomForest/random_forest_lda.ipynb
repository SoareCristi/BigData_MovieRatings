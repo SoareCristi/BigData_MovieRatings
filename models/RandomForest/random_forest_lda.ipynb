{
 "cells": [
  {
   "cell_type": "markdown",
   "metadata": {},
   "source": [
    "## Random Forest Implementation on scaled reduced dataset with LDA"
   ]
  },
  {
   "cell_type": "markdown",
   "metadata": {},
   "source": [
    "Imports"
   ]
  },
  {
   "cell_type": "code",
   "execution_count": 1,
   "metadata": {},
   "outputs": [
    {
     "name": "stderr",
     "output_type": "stream",
     "text": [
      "C:\\Users\\movil\\AppData\\Local\\Packages\\PythonSoftwareFoundation.Python.3.10_qbz5n2kfra8p0\\LocalCache\\local-packages\\Python310\\site-packages\\scipy\\__init__.py:155: UserWarning: A NumPy version >=1.18.5 and <1.25.0 is required for this version of SciPy (detected version 1.26.4\n",
      "  warnings.warn(f\"A NumPy version >={np_minversion} and <{np_maxversion}\"\n"
     ]
    }
   ],
   "source": [
    "# Utilities\n",
    "import pandas as pd\n",
    "import warnings\n",
    "import numpy as np\n",
    "import matplotlib.pyplot as plt\n",
    "\n",
    "# Models\n",
    "import optuna\n",
    "from sklearn.model_selection import train_test_split, cross_val_score\n",
    "from sklearn.ensemble import RandomForestClassifier\n",
    "from sklearn.model_selection import GridSearchCV\n",
    "from sklearn.metrics import accuracy_score, accuracy_score, f1_score\n",
    "from sklearn.metrics import classification_report, precision_score, recall_score, confusion_matrix, ConfusionMatrixDisplay"
   ]
  },
  {
   "cell_type": "markdown",
   "metadata": {},
   "source": [
    "Set random seed for reproductibility"
   ]
  },
  {
   "cell_type": "code",
   "execution_count": 2,
   "metadata": {},
   "outputs": [],
   "source": [
    "seed = 23"
   ]
  },
  {
   "cell_type": "markdown",
   "metadata": {},
   "source": [
    "Read clean (scaled data)"
   ]
  },
  {
   "cell_type": "code",
   "execution_count": 3,
   "metadata": {},
   "outputs": [],
   "source": [
    "df_scaled = pd.read_csv('../../Data/dataset_preprocessed.csv')"
   ]
  },
  {
   "cell_type": "code",
   "execution_count": 4,
   "metadata": {},
   "outputs": [],
   "source": [
    "df_lda = pd.read_csv('../../DimensionalityReductionData/lda.csv')"
   ]
  },
  {
   "cell_type": "markdown",
   "metadata": {},
   "source": [
    "Keep only the 'averageRating' column and join with LD1 from LDA"
   ]
  },
  {
   "cell_type": "code",
   "execution_count": 5,
   "metadata": {},
   "outputs": [],
   "source": [
    "df_scaled = df_scaled[['averageRating']]\n",
    "df_scaled['LD1'] = df_lda['LD1']"
   ]
  },
  {
   "cell_type": "code",
   "execution_count": 6,
   "metadata": {},
   "outputs": [
    {
     "data": {
      "text/html": [
       "<div>\n",
       "<style scoped>\n",
       "    .dataframe tbody tr th:only-of-type {\n",
       "        vertical-align: middle;\n",
       "    }\n",
       "\n",
       "    .dataframe tbody tr th {\n",
       "        vertical-align: top;\n",
       "    }\n",
       "\n",
       "    .dataframe thead th {\n",
       "        text-align: right;\n",
       "    }\n",
       "</style>\n",
       "<table border=\"1\" class=\"dataframe\">\n",
       "  <thead>\n",
       "    <tr style=\"text-align: right;\">\n",
       "      <th></th>\n",
       "      <th>averageRating</th>\n",
       "      <th>LD1</th>\n",
       "    </tr>\n",
       "  </thead>\n",
       "  <tbody>\n",
       "    <tr>\n",
       "      <th>0</th>\n",
       "      <td>1</td>\n",
       "      <td>-0.773971</td>\n",
       "    </tr>\n",
       "    <tr>\n",
       "      <th>1</th>\n",
       "      <td>0</td>\n",
       "      <td>-0.931000</td>\n",
       "    </tr>\n",
       "    <tr>\n",
       "      <th>2</th>\n",
       "      <td>1</td>\n",
       "      <td>1.084941</td>\n",
       "    </tr>\n",
       "    <tr>\n",
       "      <th>3</th>\n",
       "      <td>0</td>\n",
       "      <td>-0.681546</td>\n",
       "    </tr>\n",
       "    <tr>\n",
       "      <th>4</th>\n",
       "      <td>0</td>\n",
       "      <td>0.045055</td>\n",
       "    </tr>\n",
       "  </tbody>\n",
       "</table>\n",
       "</div>"
      ],
      "text/plain": [
       "   averageRating       LD1\n",
       "0              1 -0.773971\n",
       "1              0 -0.931000\n",
       "2              1  1.084941\n",
       "3              0 -0.681546\n",
       "4              0  0.045055"
      ]
     },
     "execution_count": 6,
     "metadata": {},
     "output_type": "execute_result"
    }
   ],
   "source": [
    "df_scaled.head()"
   ]
  },
  {
   "cell_type": "markdown",
   "metadata": {},
   "source": [
    "Take sample for (initial) tests"
   ]
  },
  {
   "cell_type": "code",
   "execution_count": 7,
   "metadata": {},
   "outputs": [],
   "source": [
    "#df_scaled_sample = df_scaled.sample(n=1000, random_state=seed)\n",
    "df_scaled_sample = df_scaled"
   ]
  },
  {
   "cell_type": "markdown",
   "metadata": {},
   "source": [
    "Train-Test Split"
   ]
  },
  {
   "cell_type": "code",
   "execution_count": 8,
   "metadata": {},
   "outputs": [],
   "source": [
    "test_size = 0.2\n",
    "X_train, X_test, y_train, y_test = train_test_split(\n",
    "    df_scaled_sample.drop('averageRating', axis=1), \n",
    "    df_scaled_sample['averageRating'], test_size=test_size, \n",
    "    random_state=seed\n",
    ")"
   ]
  },
  {
   "cell_type": "markdown",
   "metadata": {},
   "source": [
    "Save and print metrics"
   ]
  },
  {
   "cell_type": "code",
   "execution_count": 9,
   "metadata": {},
   "outputs": [],
   "source": [
    "def calculate_metrics(model_name, y_true, y_pred):\n",
    "    metrics = {\n",
    "        'Accuracy': accuracy_score(y_true, y_pred),\n",
    "        'Weighted F1': f1_score(y_true, y_pred, average='weighted'),\n",
    "        'Weighted Precision': precision_score(y_true, y_pred, average='weighted', zero_division=0),\n",
    "        'Weighted Recall': recall_score(y_true, y_pred, average='weighted'),\n",
    "        'Macro-Averaged Precision': precision_score(y_true, y_pred, average='macro', zero_division=0),\n",
    "        'Macro-Averaged Recall': recall_score(y_true, y_pred, average='macro'),\n",
    "        'F1': str(f1_score(y_true, y_pred, average=None)),\n",
    "        'Precision': str( precision_score(y_true, y_pred, average=None, zero_division=0)),\n",
    "    }\n",
    "    \n",
    "    # Print the metrics\n",
    "    print(f\"Metrics for {model_name}:\")\n",
    "    for metric_name, metric_value in metrics.items():\n",
    "        try:\n",
    "            print(f\"{metric_name}: {metric_value:.4f}\")\n",
    "        except:\n",
    "            print(f\"{metric_name}: {metric_value}\")\n",
    "    \n",
    "    # Print the classification report\n",
    "    print(\"classification report\")\n",
    "    report = classification_report(y_true, y_pred, target_names=['Class 0', 'Class 1'], zero_division=0)\n",
    "    print(report)\n",
    "\n",
    "    print(\"Confusion Matrix\")\n",
    "    cm = confusion_matrix(y_true, y_pred)\n",
    "    cmd = ConfusionMatrixDisplay(confusion_matrix=cm)\n",
    "    cmd.plot()\n",
    "    \n",
    "    plt.title(f'Confusion matrix for model {model_name} (Accuracy:{metrics[\"Accuracy\"]:.4f})')\n",
    "    plt.show()\n",
    "    \n",
    "    # Create df to store metrics\n",
    "    df_metrics = pd.DataFrame(metrics, index=[model_name])\n",
    "    \n",
    "    return df_metrics"
   ]
  },
  {
   "cell_type": "code",
   "execution_count": 10,
   "metadata": {},
   "outputs": [
    {
     "name": "stdout",
     "output_type": "stream",
     "text": [
      "Accuracy: 0.6522318454363758\n",
      "F1 score: [0.65926893 0.64489796]\n"
     ]
    }
   ],
   "source": [
    "model = RandomForestClassifier(n_estimators=100, random_state=seed)\n",
    "model.fit(X_train, y_train)\n",
    "\n",
    "predictions = model.predict(X_test)\n",
    "print(\"Accuracy:\", accuracy_score(y_test, predictions))\n",
    "\n",
    "print(\"F1 score:\", f1_score(y_test, predictions, average=None))"
   ]
  },
  {
   "cell_type": "markdown",
   "metadata": {},
   "source": [
    "## Grid Search CV - 1"
   ]
  },
  {
   "cell_type": "code",
   "execution_count": 11,
   "metadata": {},
   "outputs": [
    {
     "name": "stdout",
     "output_type": "stream",
     "text": [
      "Fitting 3 folds for each of 288 candidates, totalling 864 fits\n",
      "The parameters with the highest score:  {'bootstrap': True, 'max_depth': 10, 'min_samples_leaf': 2, 'min_samples_split': 5, 'n_estimators': 100}\n"
     ]
    }
   ],
   "source": [
    "param_grid = {\n",
    "    'n_estimators': [10, 50, 100, 200],  # Number of trees in the forest\n",
    "    'max_depth': [None, 10, 20, 30],  # Maximum depth of the tree\n",
    "    'min_samples_split': [2, 5, 10],  # Minimum number of samples required to split an internal node\n",
    "    'min_samples_leaf': [1, 2, 4],  # Minimum number of samples required to be at a leaf node\n",
    "    'bootstrap': [True, False]  # Method of selecting samples for training each tree\n",
    "}\n",
    "\n",
    "model = RandomForestClassifier(random_state=seed)\n",
    "\n",
    "grid_search = GridSearchCV(estimator=model, param_grid=param_grid, cv=3, n_jobs=-1, verbose=2, scoring='accuracy')\n",
    "grid_search.fit(X_train, y_train)\n",
    "\n",
    "print(\"The parameters with the highest score: \", grid_search.best_params_)"
   ]
  },
  {
   "cell_type": "code",
   "execution_count": 12,
   "metadata": {},
   "outputs": [
    {
     "name": "stdout",
     "output_type": "stream",
     "text": [
      "                                               params  mean_test_score\n",
      "54  {'bootstrap': True, 'max_depth': 10, 'min_samp...         0.725697\n",
      "58  {'bootstrap': True, 'max_depth': 10, 'min_samp...         0.725614\n",
      "42  {'bootstrap': True, 'max_depth': 10, 'min_samp...         0.725614\n",
      "50  {'bootstrap': True, 'max_depth': 10, 'min_samp...         0.725448\n",
      "39  {'bootstrap': True, 'max_depth': 10, 'min_samp...         0.725114\n",
      "43  {'bootstrap': True, 'max_depth': 10, 'min_samp...         0.725114\n",
      "51  {'bootstrap': True, 'max_depth': 10, 'min_samp...         0.724948\n",
      "46  {'bootstrap': True, 'max_depth': 10, 'min_samp...         0.724781\n",
      "55  {'bootstrap': True, 'max_depth': 10, 'min_samp...         0.724781\n",
      "38  {'bootstrap': True, 'max_depth': 10, 'min_samp...         0.724698\n"
     ]
    }
   ],
   "source": [
    "cv_results_df = pd.DataFrame(grid_search.cv_results_)\n",
    "\n",
    "# Show top 10 parameters for this model\n",
    "minimalistic_results = cv_results_df[['params', 'mean_test_score']]\n",
    "sorted_results = minimalistic_results.sort_values(by='mean_test_score', ascending=False)\n",
    "\n",
    "print(sorted_results.head(10))"
   ]
  },
  {
   "cell_type": "code",
   "execution_count": 13,
   "metadata": {},
   "outputs": [
    {
     "name": "stdout",
     "output_type": "stream",
     "text": [
      "Metrics for RF-LDA-GS-CV1:\n",
      "Accuracy: 0.7268\n",
      "Weighted F1: 0.7269\n",
      "Weighted Precision: 0.7269\n",
      "Weighted Recall: 0.7268\n",
      "Macro-Averaged Precision: 0.7265\n",
      "Macro-Averaged Recall: 0.7266\n",
      "F1: [0.73582474 0.71724138]\n",
      "Precision: [0.7377261  0.71526823]\n",
      "classification report\n",
      "              precision    recall  f1-score   support\n",
      "\n",
      "     Class 0       0.74      0.73      0.74      1556\n",
      "     Class 1       0.72      0.72      0.72      1446\n",
      "\n",
      "    accuracy                           0.73      3002\n",
      "   macro avg       0.73      0.73      0.73      3002\n",
      "weighted avg       0.73      0.73      0.73      3002\n",
      "\n",
      "Confusion Matrix\n"
     ]
    },
    {
     "data": {
      "image/png": "[encoded data removed]",
      "text/plain": [
       "<Figure size 432x288 with 2 Axes>"
      ]
     },
     "metadata": {
      "needs_background": "light"
     },
     "output_type": "display_data"
    }
   ],
   "source": [
    "best_model = grid_search.best_estimator_\n",
    "predictions = best_model.predict(X_test)\n",
    "_ = calculate_metrics('RF-LDA-GS-CV1', y_test, predictions)"
   ]
  },
  {
   "cell_type": "code",
   "execution_count": 14,
   "metadata": {},
   "outputs": [
    {
     "name": "stdout",
     "output_type": "stream",
     "text": [
      "Parameters from place:  0   {'bootstrap': True, 'max_depth': 10, 'min_samples_leaf': 2, 'min_samples_split': 5, 'n_estimators': 100}\n",
      "Accuracy for chosen parameters: 0.7268487674883412\n",
      "Parameters from place:  1   {'bootstrap': True, 'max_depth': 10, 'min_samples_leaf': 2, 'min_samples_split': 10, 'n_estimators': 100}\n",
      "Accuracy for chosen parameters: 0.7285143237841439\n",
      "Parameters from place:  2   {'bootstrap': True, 'max_depth': 10, 'min_samples_leaf': 1, 'min_samples_split': 5, 'n_estimators': 100}\n",
      "Accuracy for chosen parameters: 0.7278481012658228\n",
      "Parameters from place:  3   {'bootstrap': True, 'max_depth': 10, 'min_samples_leaf': 2, 'min_samples_split': 2, 'n_estimators': 100}\n",
      "Accuracy for chosen parameters: 0.7278481012658228\n",
      "Parameters from place:  4   {'bootstrap': True, 'max_depth': 10, 'min_samples_leaf': 1, 'min_samples_split': 2, 'n_estimators': 200}\n",
      "Accuracy for chosen parameters: 0.7258494337108594\n",
      "Parameters from place:  5   {'bootstrap': True, 'max_depth': 10, 'min_samples_leaf': 1, 'min_samples_split': 5, 'n_estimators': 200}\n",
      "Accuracy for chosen parameters: 0.7271818787475016\n",
      "Parameters from place:  6   {'bootstrap': True, 'max_depth': 10, 'min_samples_leaf': 2, 'min_samples_split': 2, 'n_estimators': 200}\n",
      "Accuracy for chosen parameters: 0.7258494337108594\n",
      "Parameters from place:  7   {'bootstrap': True, 'max_depth': 10, 'min_samples_leaf': 1, 'min_samples_split': 10, 'n_estimators': 100}\n",
      "Accuracy for chosen parameters: 0.7275149900066622\n",
      "Parameters from place:  8   {'bootstrap': True, 'max_depth': 10, 'min_samples_leaf': 2, 'min_samples_split': 5, 'n_estimators': 200}\n",
      "Accuracy for chosen parameters: 0.7265156562291806\n",
      "Parameters from place:  9   {'bootstrap': True, 'max_depth': 10, 'min_samples_leaf': 1, 'min_samples_split': 2, 'n_estimators': 100}\n",
      "Accuracy for chosen parameters: 0.7275149900066622\n"
     ]
    }
   ],
   "source": [
    "# Predicting using other alternatives of fine-tuning from top 10 performances\n",
    "other_alternatives = []\n",
    "# Choose a set of parameters from sorted_results\n",
    "for i in range(10):\n",
    "\n",
    "  params = sorted_results.iloc[i]['params']\n",
    "  print(\"Parameters from place: \", i, \" \", params)\n",
    "\n",
    "  model = RandomForestClassifier(random_state=seed, **params)\n",
    "  model.fit(X_train, y_train)\n",
    "\n",
    "  predictions = model.predict(X_test)\n",
    "\n",
    "  chosen_accuracy = accuracy_score(y_test, predictions)\n",
    "  print(\"Accuracy for chosen parameters:\", chosen_accuracy)\n",
    "  other_alternatives.append((chosen_accuracy,params))\n"
   ]
  },
  {
   "cell_type": "code",
   "execution_count": 15,
   "metadata": {},
   "outputs": [],
   "source": [
    "# get best from top 10\n",
    "best_tuple = max(other_alternatives, key=lambda x: x[0])"
   ]
  },
  {
   "cell_type": "code",
   "execution_count": 16,
   "metadata": {},
   "outputs": [
    {
     "name": "stdout",
     "output_type": "stream",
     "text": [
      "Best accuracy and parameters after running the algorithm using other alternatives of fine tuning from top 10 performances\n",
      "0.7285143237841439\n",
      "{'bootstrap': True, 'max_depth': 10, 'min_samples_leaf': 2, 'min_samples_split': 10, 'n_estimators': 100}\n"
     ]
    }
   ],
   "source": [
    "print(\"Best accuracy and parameters after running the algorithm using other alternatives of fine tuning from top 10 performances\")\n",
    "print(best_tuple[0])\n",
    "print(best_tuple[1])"
   ]
  },
  {
   "cell_type": "code",
   "execution_count": 17,
   "metadata": {},
   "outputs": [
    {
     "name": "stdout",
     "output_type": "stream",
     "text": [
      "Parameters from place:  0   {'bootstrap': True, 'max_depth': 10, 'min_samples_leaf': 2, 'min_samples_split': 5, 'n_estimators': 100}\n",
      "Accuracy for chosen parameters: 0.7709287796751354\n",
      "Parameters from place:  1   {'bootstrap': True, 'max_depth': 10, 'min_samples_leaf': 2, 'min_samples_split': 10, 'n_estimators': 100}\n",
      "Accuracy for chosen parameters: 0.7674302374010828\n",
      "Parameters from place:  2   {'bootstrap': True, 'max_depth': 10, 'min_samples_leaf': 1, 'min_samples_split': 5, 'n_estimators': 100}\n",
      "Accuracy for chosen parameters: 0.7698458975426905\n",
      "Parameters from place:  3   {'bootstrap': True, 'max_depth': 10, 'min_samples_leaf': 2, 'min_samples_split': 2, 'n_estimators': 100}\n",
      "Accuracy for chosen parameters: 0.7717617659308621\n",
      "Parameters from place:  4   {'bootstrap': True, 'max_depth': 10, 'min_samples_leaf': 1, 'min_samples_split': 2, 'n_estimators': 200}\n",
      "Accuracy for chosen parameters: 0.7740108288213244\n",
      "Parameters from place:  5   {'bootstrap': True, 'max_depth': 10, 'min_samples_leaf': 1, 'min_samples_split': 5, 'n_estimators': 200}\n",
      "Accuracy for chosen parameters: 0.7700957934194086\n",
      "Parameters from place:  6   {'bootstrap': True, 'max_depth': 10, 'min_samples_leaf': 2, 'min_samples_split': 2, 'n_estimators': 200}\n",
      "Accuracy for chosen parameters: 0.7709287796751354\n",
      "Parameters from place:  7   {'bootstrap': True, 'max_depth': 10, 'min_samples_leaf': 1, 'min_samples_split': 10, 'n_estimators': 100}\n",
      "Accuracy for chosen parameters: 0.7664306538942107\n",
      "Parameters from place:  8   {'bootstrap': True, 'max_depth': 10, 'min_samples_leaf': 2, 'min_samples_split': 5, 'n_estimators': 200}\n",
      "Accuracy for chosen parameters: 0.7699291961682633\n",
      "Parameters from place:  9   {'bootstrap': True, 'max_depth': 10, 'min_samples_leaf': 1, 'min_samples_split': 2, 'n_estimators': 100}\n",
      "Accuracy for chosen parameters: 0.7734277384423157\n"
     ]
    }
   ],
   "source": [
    "# Run on training sample\n",
    "\n",
    "# Choose a set of parameters from sorted_results\n",
    "for i in range(10):\n",
    "\n",
    "  params = sorted_results.iloc[i]['params']\n",
    "  print(\"Parameters from place: \", i, \" \", params)\n",
    "\n",
    "  model = RandomForestClassifier(random_state=42, **params)\n",
    "  model.fit(X_train, y_train)\n",
    "\n",
    "  predictions = model.predict(X_train)\n",
    "\n",
    "  chosen_accuracy = accuracy_score(y_train, predictions)\n",
    "  print(\"Accuracy for chosen parameters:\", chosen_accuracy)"
   ]
  },
  {
   "cell_type": "code",
   "execution_count": 18,
   "metadata": {},
   "outputs": [
    {
     "name": "stdout",
     "output_type": "stream",
     "text": [
      "Accuracy for max depth : 14   0.8305705955851729\n",
      "Accuracy for max depth : 13   0.814993752603082\n",
      "Accuracy for max depth : 12   0.8011661807580175\n",
      "Accuracy for max depth : 11   0.7854227405247813\n",
      "Accuracy for max depth : 10   0.7732611411911704\n",
      "Accuracy for max depth : 9   0.7650145772594752\n",
      "Accuracy for max depth : 8   0.7551020408163265\n",
      "Accuracy for max depth : 7   0.7496043315285298\n",
      "Accuracy for max depth : 6   0.7441899208663058\n",
      "Accuracy for max depth : 5   0.7432736359850063\n",
      "Accuracy for max depth : 4   0.7392753019575177\n",
      "Accuracy for max depth : 3   0.7353602665556018\n",
      "Accuracy for max depth : 2   0.736109954185756\n",
      "Accuracy for max depth : 1   0.7361932528113286\n"
     ]
    }
   ],
   "source": [
    "accuracies=[]\n",
    "max_depths=[]\n",
    "for i in reversed(range(1,15)):\n",
    "  model = RandomForestClassifier(random_state=seed, max_depth=i)\n",
    "  model.fit(X_train, y_train)\n",
    "  predictions = model.predict(X_train)\n",
    "  accuracy = accuracy_score(y_train, predictions)\n",
    "  max_depths.append(i)\n",
    "  accuracies.append(accuracy)\n",
    "  print(\"Accuracy for max depth :\", i, \" \", accuracy)"
   ]
  },
  {
   "cell_type": "code",
   "execution_count": 19,
   "metadata": {},
   "outputs": [
    {
     "data": {
      "image/png": "[encoded data removed]",
      "text/plain": [
       "<Figure size 720x432 with 1 Axes>"
      ]
     },
     "metadata": {
      "needs_background": "light"
     },
     "output_type": "display_data"
    }
   ],
   "source": [
    "plt.figure(figsize=(10, 6))\n",
    "plt.plot(max_depths, accuracies, marker='o', linestyle='-', color='b')\n",
    "\n",
    "plt.title('Accuracy related to the maximum depth of the model')\n",
    "plt.xlabel('Maximum depth')\n",
    "plt.ylabel('Accuracy')\n",
    "plt.grid(True)\n",
    "\n",
    "plt.show()"
   ]
  },
  {
   "cell_type": "code",
   "execution_count": 20,
   "metadata": {},
   "outputs": [
    {
     "name": "stdout",
     "output_type": "stream",
     "text": [
      "0.7308461025982678\n",
      "0.7201865423051299\n",
      "0.7331778814123917\n",
      "0.729180546302465\n",
      "0.729180546302465\n",
      "0.737508327781479\n",
      "0.7341772151898734\n",
      "0.7288474350433045\n",
      "0.7211858760826116\n",
      "0.7165223184543638\n",
      "0.7301798800799467\n",
      "0.7161892071952032\n",
      "0.7208527648234511\n",
      "0.7225183211192538\n",
      "0.7311792138574283\n",
      "0.7311792138574283\n",
      "0.723850766155896\n",
      "0.7418387741505663\n",
      "0.7258494337108594\n",
      "0.7308461025982678\n",
      "0.7295136575616256\n",
      "0.7251832111925383\n",
      "0.7301798800799467\n",
      "0.729180546302465\n",
      "0.7378414390406396\n",
      "0.7348434377081945\n",
      "0.7245169886742172\n",
      "0.7301798800799467\n",
      "0.7305129913391073\n",
      "0.7318454363757495\n",
      "0.7131912058627582\n",
      "0.7251832111925383\n",
      "0.7411725516322452\n",
      "0.7225183211192538\n",
      "0.7395069953364424\n",
      "0.7218520986009327\n",
      "0.7298467688207861\n",
      "0.7275149900066622\n",
      "0.7225183211192538\n",
      "0.7271818787475016\n",
      "0.7208527648234511\n",
      "0.7415056628914057\n",
      "0.737508327781479\n",
      "0.7205196535642905\n",
      "0.7395069953364424\n",
      "0.7235176548967355\n",
      "0.7418387741505663\n",
      "0.7338441039307129\n",
      "0.7208527648234511\n",
      "0.7278481012658228\n",
      "0.7298467688207861\n",
      "0.7251832111925383\n",
      "0.7215189873417721\n",
      "0.7311792138574283\n",
      "0.729180546302465\n",
      "0.7255163224516988\n",
      "0.7305129913391073\n",
      "0.7275149900066622\n",
      "0.7308461025982678\n",
      "0.7321785476349101\n",
      "0.7335109926715523\n",
      "0.7251832111925383\n",
      "0.7341772151898734\n",
      "0.7255163224516988\n",
      "0.7245169886742172\n",
      "0.7201865423051299\n",
      "0.7335109926715523\n",
      "0.7281812125249834\n",
      "0.7251832111925383\n",
      "0.7278481012658228\n",
      "0.7451698867421719\n",
      "0.7301798800799467\n",
      "0.7338441039307129\n",
      "0.7228514323784144\n",
      "0.7321785476349101\n",
      "0.7365089940039974\n",
      "0.7328447701532311\n",
      "0.7165223184543638\n",
      "0.7305129913391073\n",
      "0.7285143237841439\n",
      "0.7351765489673551\n",
      "0.739840106595603\n",
      "0.7285143237841439\n",
      "0.7268487674883412\n",
      "0.7188540972684877\n",
      "0.7295136575616256\n",
      "0.7258494337108594\n",
      "0.7281812125249834\n",
      "0.7368421052631579\n",
      "0.7258494337108594\n",
      "0.7258494337108594\n",
      "0.7218520986009327\n",
      "0.7295136575616256\n",
      "0.7338441039307129\n",
      "0.723850766155896\n",
      "0.7305129913391073\n",
      "0.7408394403730846\n",
      "0.7298467688207861\n",
      "0.7255163224516988\n",
      "0.7248500999333778\n",
      "Best Classification Report:\n",
      "              precision    recall  f1-score   support\n",
      "\n",
      "           0       0.73      0.78      0.76      1523\n",
      "           1       0.76      0.71      0.73      1479\n",
      "\n",
      "    accuracy                           0.75      3002\n",
      "   macro avg       0.75      0.74      0.74      3002\n",
      "weighted avg       0.75      0.75      0.74      3002\n",
      "\n",
      "Best Accuracy: 0.7451698867421719\n",
      "\n",
      "Average Classification Report:\n",
      "precision: 0.7297\n",
      "recall: 0.7287\n",
      "f1-score: 0.7285\n",
      "accuracy: 0.7289\n"
     ]
    }
   ],
   "source": [
    "best_accuracy = 0\n",
    "best_report = None\n",
    "best_predictions = None\n",
    "y_best_predictions = None\n",
    "all_reports = []\n",
    "\n",
    "for i in range(100):\n",
    "  random_state_fit = np.random.randint(1000)\n",
    "\n",
    "  test_size = 0.2\n",
    "  X_train, X_test, y_train, y_test = train_test_split(\n",
    "    df_scaled_sample.drop('averageRating', axis=1), \n",
    "    df_scaled_sample['averageRating'], test_size=test_size, \n",
    "    random_state=random_state_fit)\n",
    "  \n",
    "\n",
    "  model = RandomForestClassifier(random_state=seed, **best_tuple[1])\n",
    "  model.fit(X_train, y_train)\n",
    "\n",
    "  predictions = model.predict(X_test)\n",
    "  current_accuracy = accuracy_score(y_test, predictions)\n",
    "\n",
    "  report = classification_report(y_test, predictions, output_dict=True, zero_division=0)\n",
    "  all_reports.append(report)\n",
    "  print(current_accuracy)\n",
    "\n",
    "  if current_accuracy > best_accuracy:\n",
    "        best_accuracy = current_accuracy\n",
    "        best_report = report\n",
    "        best_predictions = predictions\n",
    "        y_best_predictions = y_test\n",
    "\n",
    "def average_classification_report(reports):\n",
    "    metrics = ['precision', 'recall', 'f1-score']\n",
    "    avg_report = {}\n",
    "    for metric in metrics:\n",
    "        avg_report[metric] = sum(r['macro avg'][metric] for r in reports) / len(reports)\n",
    "    avg_report['accuracy'] = sum(r['accuracy'] for r in reports) / len(reports)\n",
    "    return avg_report\n",
    "\n",
    "avg_report = average_classification_report(all_reports)\n",
    "\n",
    "print(\"Best Classification Report:\")\n",
    "print(classification_report(y_best_predictions, best_predictions, zero_division=0))\n",
    "print(\"Best Accuracy:\", best_accuracy)\n",
    "print()\n",
    "print(\"Average Classification Report:\")\n",
    "for metric, score in avg_report.items():\n",
    "    print(f\"{metric}: {score:.4f}\")"
   ]
  },
  {
   "cell_type": "code",
   "execution_count": 21,
   "metadata": {},
   "outputs": [
    {
     "name": "stdout",
     "output_type": "stream",
     "text": [
      "Metrics for RF-LDA-Shuffled_best:\n",
      "Accuracy: 0.7452\n",
      "Weighted F1: 0.7448\n",
      "Weighted Precision: 0.7459\n",
      "Weighted Recall: 0.7452\n",
      "Macro-Averaged Precision: 0.7461\n",
      "Macro-Averaged Recall: 0.7447\n",
      "F1: [0.75629181 0.73298429]\n",
      "Precision: [0.7345297  0.75757576]\n",
      "classification report\n",
      "              precision    recall  f1-score   support\n",
      "\n",
      "     Class 0       0.73      0.78      0.76      1523\n",
      "     Class 1       0.76      0.71      0.73      1479\n",
      "\n",
      "    accuracy                           0.75      3002\n",
      "   macro avg       0.75      0.74      0.74      3002\n",
      "weighted avg       0.75      0.75      0.74      3002\n",
      "\n",
      "Confusion Matrix\n"
     ]
    },
    {
     "data": {
      "image/png": "[encoded data removed]",
      "text/plain": [
       "<Figure size 432x288 with 2 Axes>"
      ]
     },
     "metadata": {
      "needs_background": "light"
     },
     "output_type": "display_data"
    },
    {
     "data": {
      "text/html": [
       "<div>\n",
       "<style scoped>\n",
       "    .dataframe tbody tr th:only-of-type {\n",
       "        vertical-align: middle;\n",
       "    }\n",
       "\n",
       "    .dataframe tbody tr th {\n",
       "        vertical-align: top;\n",
       "    }\n",
       "\n",
       "    .dataframe thead th {\n",
       "        text-align: right;\n",
       "    }\n",
       "</style>\n",
       "<table border=\"1\" class=\"dataframe\">\n",
       "  <thead>\n",
       "    <tr style=\"text-align: right;\">\n",
       "      <th></th>\n",
       "      <th>Accuracy</th>\n",
       "      <th>Weighted F1</th>\n",
       "      <th>Weighted Precision</th>\n",
       "      <th>Weighted Recall</th>\n",
       "      <th>Macro-Averaged Precision</th>\n",
       "      <th>Macro-Averaged Recall</th>\n",
       "      <th>F1</th>\n",
       "      <th>Precision</th>\n",
       "    </tr>\n",
       "  </thead>\n",
       "  <tbody>\n",
       "    <tr>\n",
       "      <th>RF-LDA-Shuffled_best</th>\n",
       "      <td>0.74517</td>\n",
       "      <td>0.744809</td>\n",
       "      <td>0.745884</td>\n",
       "      <td>0.74517</td>\n",
       "      <td>0.746053</td>\n",
       "      <td>0.744661</td>\n",
       "      <td>[0.75629181 0.73298429]</td>\n",
       "      <td>[0.7345297  0.75757576]</td>\n",
       "    </tr>\n",
       "  </tbody>\n",
       "</table>\n",
       "</div>"
      ],
      "text/plain": [
       "                      Accuracy  Weighted F1  Weighted Precision  \\\n",
       "RF-LDA-Shuffled_best   0.74517     0.744809            0.745884   \n",
       "\n",
       "                      Weighted Recall  Macro-Averaged Precision  \\\n",
       "RF-LDA-Shuffled_best          0.74517                  0.746053   \n",
       "\n",
       "                      Macro-Averaged Recall                       F1  \\\n",
       "RF-LDA-Shuffled_best               0.744661  [0.75629181 0.73298429]   \n",
       "\n",
       "                                    Precision  \n",
       "RF-LDA-Shuffled_best  [0.7345297  0.75757576]  "
      ]
     },
     "execution_count": 21,
     "metadata": {},
     "output_type": "execute_result"
    }
   ],
   "source": [
    "calculate_metrics('RF-LDA-Shuffled_best', y_best_predictions, best_predictions)"
   ]
  }
 ],
 "metadata": {
  "kernelspec": {
   "display_name": "Python 3",
   "language": "python",
   "name": "python3"
  },
  "language_info": {
   "codemirror_mode": {
    "name": "ipython",
    "version": 3
   },
   "file_extension": ".py",
   "mimetype": "text/x-python",
   "name": "python",
   "nbconvert_exporter": "python",
   "pygments_lexer": "ipython3",
   "version": "3.10.11"
  }
 },
 "nbformat": 4,
 "nbformat_minor": 2
}
