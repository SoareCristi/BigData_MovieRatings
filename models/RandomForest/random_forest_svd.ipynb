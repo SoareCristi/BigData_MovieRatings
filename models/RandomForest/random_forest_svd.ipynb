{
 "cells": [
  {
   "cell_type": "markdown",
   "metadata": {},
   "source": [
    "## Random Forest Implementation on scaled reduced dataset with SVD"
   ]
  },
  {
   "cell_type": "markdown",
   "metadata": {},
   "source": [
    "Imports"
   ]
  },
  {
   "cell_type": "code",
   "execution_count": 1,
   "metadata": {},
   "outputs": [
    {
     "name": "stderr",
     "output_type": "stream",
     "text": [
      "C:\\Users\\movil\\AppData\\Local\\Packages\\PythonSoftwareFoundation.Python.3.10_qbz5n2kfra8p0\\LocalCache\\local-packages\\Python310\\site-packages\\scipy\\__init__.py:155: UserWarning: A NumPy version >=1.18.5 and <1.25.0 is required for this version of SciPy (detected version 1.26.4\n",
      "  warnings.warn(f\"A NumPy version >={np_minversion} and <{np_maxversion}\"\n"
     ]
    }
   ],
   "source": [
    "# Utilities\n",
    "import pandas as pd\n",
    "import warnings\n",
    "import numpy as np\n",
    "import matplotlib.pyplot as plt\n",
    "\n",
    "# Models\n",
    "import optuna\n",
    "from sklearn.model_selection import train_test_split, cross_val_score\n",
    "from sklearn.ensemble import RandomForestClassifier\n",
    "from sklearn.model_selection import GridSearchCV\n",
    "from sklearn.metrics import accuracy_score, accuracy_score, f1_score\n",
    "from sklearn.metrics import classification_report, precision_score, recall_score, confusion_matrix, ConfusionMatrixDisplay"
   ]
  },
  {
   "cell_type": "markdown",
   "metadata": {},
   "source": [
    "Set random seed for reproductibility"
   ]
  },
  {
   "cell_type": "code",
   "execution_count": 2,
   "metadata": {},
   "outputs": [],
   "source": [
    "seed = 23"
   ]
  },
  {
   "cell_type": "markdown",
   "metadata": {},
   "source": [
    "Read clean (scaled data)"
   ]
  },
  {
   "cell_type": "code",
   "execution_count": 3,
   "metadata": {},
   "outputs": [],
   "source": [
    "df_scaled = pd.read_csv('../../Data/dataset_preprocessed.csv')"
   ]
  },
  {
   "cell_type": "markdown",
   "metadata": {},
   "source": [
    "Read Train Data"
   ]
  },
  {
   "cell_type": "code",
   "execution_count": 4,
   "metadata": {},
   "outputs": [
    {
     "data": {
      "text/html": [
       "<div>\n",
       "<style scoped>\n",
       "    .dataframe tbody tr th:only-of-type {\n",
       "        vertical-align: middle;\n",
       "    }\n",
       "\n",
       "    .dataframe tbody tr th {\n",
       "        vertical-align: top;\n",
       "    }\n",
       "\n",
       "    .dataframe thead th {\n",
       "        text-align: right;\n",
       "    }\n",
       "</style>\n",
       "<table border=\"1\" class=\"dataframe\">\n",
       "  <thead>\n",
       "    <tr style=\"text-align: right;\">\n",
       "      <th></th>\n",
       "      <th>Dimension 1</th>\n",
       "      <th>Dimension 2</th>\n",
       "    </tr>\n",
       "  </thead>\n",
       "  <tbody>\n",
       "    <tr>\n",
       "      <th>0</th>\n",
       "      <td>1.103460</td>\n",
       "      <td>0.072267</td>\n",
       "    </tr>\n",
       "    <tr>\n",
       "      <th>1</th>\n",
       "      <td>1.461354</td>\n",
       "      <td>-0.592586</td>\n",
       "    </tr>\n",
       "    <tr>\n",
       "      <th>2</th>\n",
       "      <td>1.647283</td>\n",
       "      <td>0.088656</td>\n",
       "    </tr>\n",
       "    <tr>\n",
       "      <th>3</th>\n",
       "      <td>1.676719</td>\n",
       "      <td>-0.541218</td>\n",
       "    </tr>\n",
       "    <tr>\n",
       "      <th>4</th>\n",
       "      <td>1.570116</td>\n",
       "      <td>-0.572993</td>\n",
       "    </tr>\n",
       "  </tbody>\n",
       "</table>\n",
       "</div>"
      ],
      "text/plain": [
       "   Dimension 1  Dimension 2\n",
       "0     1.103460     0.072267\n",
       "1     1.461354    -0.592586\n",
       "2     1.647283     0.088656\n",
       "3     1.676719    -0.541218\n",
       "4     1.570116    -0.572993"
      ]
     },
     "execution_count": 4,
     "metadata": {},
     "output_type": "execute_result"
    }
   ],
   "source": [
    "X_train= pd.read_csv('../../DimensionalityReductionData/X_train_SVD.csv')\n",
    "X_train.head()"
   ]
  },
  {
   "cell_type": "markdown",
   "metadata": {},
   "source": [
    "Read Test Data"
   ]
  },
  {
   "cell_type": "code",
   "execution_count": 5,
   "metadata": {},
   "outputs": [
    {
     "data": {
      "text/html": [
       "<div>\n",
       "<style scoped>\n",
       "    .dataframe tbody tr th:only-of-type {\n",
       "        vertical-align: middle;\n",
       "    }\n",
       "\n",
       "    .dataframe tbody tr th {\n",
       "        vertical-align: top;\n",
       "    }\n",
       "\n",
       "    .dataframe thead th {\n",
       "        text-align: right;\n",
       "    }\n",
       "</style>\n",
       "<table border=\"1\" class=\"dataframe\">\n",
       "  <thead>\n",
       "    <tr style=\"text-align: right;\">\n",
       "      <th></th>\n",
       "      <th>Dimension 1</th>\n",
       "      <th>Dimension 2</th>\n",
       "    </tr>\n",
       "  </thead>\n",
       "  <tbody>\n",
       "    <tr>\n",
       "      <th>0</th>\n",
       "      <td>1.220573</td>\n",
       "      <td>0.206269</td>\n",
       "    </tr>\n",
       "    <tr>\n",
       "      <th>1</th>\n",
       "      <td>1.250327</td>\n",
       "      <td>-0.570413</td>\n",
       "    </tr>\n",
       "    <tr>\n",
       "      <th>2</th>\n",
       "      <td>1.368459</td>\n",
       "      <td>-0.546002</td>\n",
       "    </tr>\n",
       "    <tr>\n",
       "      <th>3</th>\n",
       "      <td>1.277790</td>\n",
       "      <td>0.761160</td>\n",
       "    </tr>\n",
       "    <tr>\n",
       "      <th>4</th>\n",
       "      <td>1.636357</td>\n",
       "      <td>0.070829</td>\n",
       "    </tr>\n",
       "  </tbody>\n",
       "</table>\n",
       "</div>"
      ],
      "text/plain": [
       "   Dimension 1  Dimension 2\n",
       "0     1.220573     0.206269\n",
       "1     1.250327    -0.570413\n",
       "2     1.368459    -0.546002\n",
       "3     1.277790     0.761160\n",
       "4     1.636357     0.070829"
      ]
     },
     "execution_count": 5,
     "metadata": {},
     "output_type": "execute_result"
    }
   ],
   "source": [
    "X_test = pd.read_csv('../../DimensionalityReductionData/X_test_SVD.csv')\n",
    "X_test.head()"
   ]
  },
  {
   "cell_type": "markdown",
   "metadata": {},
   "source": [
    "Do Train-Test Split to define y_train, y_test (both are raings)\n",
    "!!!! IMPORTANT use random_state as defined in Dimension Reduction DATA SPLIT!!!!"
   ]
  },
  {
   "cell_type": "code",
   "execution_count": 6,
   "metadata": {},
   "outputs": [],
   "source": [
    "y_train, y_test = train_test_split(df_scaled['averageRating'], test_size=0.2, random_state=42)"
   ]
  },
  {
   "cell_type": "markdown",
   "metadata": {},
   "source": [
    "Now everything is defined (X_train, X_test, y_train, y_test)"
   ]
  },
  {
   "cell_type": "markdown",
   "metadata": {},
   "source": [
    "Save and print metrics"
   ]
  },
  {
   "cell_type": "code",
   "execution_count": 7,
   "metadata": {},
   "outputs": [],
   "source": [
    "def calculate_metrics(model_name, y_true, y_pred):\n",
    "    metrics = {\n",
    "        'Accuracy': accuracy_score(y_true, y_pred),\n",
    "        'Weighted F1': f1_score(y_true, y_pred, average='weighted'),\n",
    "        'Weighted Precision': precision_score(y_true, y_pred, average='weighted', zero_division=0),\n",
    "        'Weighted Recall': recall_score(y_true, y_pred, average='weighted'),\n",
    "        'Macro-Averaged Precision': precision_score(y_true, y_pred, average='macro', zero_division=0),\n",
    "        'Macro-Averaged Recall': recall_score(y_true, y_pred, average='macro'),\n",
    "        'F1': str(f1_score(y_true, y_pred, average=None)),\n",
    "        'Precision': str( precision_score(y_true, y_pred, average=None, zero_division=0)),\n",
    "    }\n",
    "    \n",
    "    # Print the metrics\n",
    "    print(f\"Metrics for {model_name}:\")\n",
    "    for metric_name, metric_value in metrics.items():\n",
    "        try:\n",
    "            print(f\"{metric_name}: {metric_value:.4f}\")\n",
    "        except:\n",
    "            print(f\"{metric_name}: {metric_value}\")\n",
    "    \n",
    "    # Print the classification report\n",
    "    print(\"classification report\")\n",
    "    report = classification_report(y_true, y_pred, target_names=['Class 0', 'Class 1'], zero_division=0)\n",
    "    print(report)\n",
    "\n",
    "    print(\"Confusion Matrix\")\n",
    "    cm = confusion_matrix(y_true, y_pred)\n",
    "    cmd = ConfusionMatrixDisplay(confusion_matrix=cm)\n",
    "    cmd.plot()\n",
    "    \n",
    "    plt.title(f'Confusion matrix for model {model_name} (Accuracy:{metrics[\"Accuracy\"]:.4f})')\n",
    "    plt.show()\n",
    "    \n",
    "    # Create df to store metrics\n",
    "    df_metrics = pd.DataFrame(metrics, index=[model_name])\n",
    "    \n",
    "    return df_metrics"
   ]
  },
  {
   "cell_type": "code",
   "execution_count": 8,
   "metadata": {},
   "outputs": [
    {
     "name": "stdout",
     "output_type": "stream",
     "text": [
      "Accuracy: 0.5919387075283145\n",
      "F1 score: [0.59796521 0.58572878]\n"
     ]
    }
   ],
   "source": [
    "model = RandomForestClassifier(n_estimators=100, random_state=seed)\n",
    "model.fit(X_train, y_train)\n",
    "\n",
    "predictions = model.predict(X_test)\n",
    "print(\"Accuracy:\", accuracy_score(y_test, predictions))\n",
    "\n",
    "print(\"F1 score:\", f1_score(y_test, predictions, average=None))"
   ]
  },
  {
   "cell_type": "markdown",
   "metadata": {},
   "source": [
    "## Grid Search CV - 1"
   ]
  },
  {
   "cell_type": "code",
   "execution_count": 9,
   "metadata": {},
   "outputs": [
    {
     "name": "stdout",
     "output_type": "stream",
     "text": [
      "Fitting 3 folds for each of 288 candidates, totalling 864 fits\n",
      "The parameters with the highest score:  {'bootstrap': True, 'max_depth': 10, 'min_samples_leaf': 4, 'min_samples_split': 2, 'n_estimators': 200}\n"
     ]
    }
   ],
   "source": [
    "param_grid = {\n",
    "    'n_estimators': [10, 50, 100, 200],  # Number of trees in the forest\n",
    "    'max_depth': [None, 10, 20, 30],  # Maximum depth of the tree\n",
    "    'min_samples_split': [2, 5, 10],  # Minimum number of samples required to split an internal node\n",
    "    'min_samples_leaf': [1, 2, 4],  # Minimum number of samples required to be at a leaf node\n",
    "    'bootstrap': [True, False]  # Method of selecting samples for training each tree\n",
    "}\n",
    "\n",
    "model = RandomForestClassifier(random_state=seed)\n",
    "\n",
    "grid_search = GridSearchCV(estimator=model, param_grid=param_grid, cv=3, n_jobs=-1, verbose=2, scoring='accuracy')\n",
    "grid_search.fit(X_train, y_train)\n",
    "\n",
    "print(\"The parameters with the highest score: \", grid_search.best_params_)"
   ]
  },
  {
   "cell_type": "code",
   "execution_count": 10,
   "metadata": {},
   "outputs": [
    {
     "name": "stdout",
     "output_type": "stream",
     "text": [
      "                                               params  mean_test_score\n",
      "67  {'bootstrap': True, 'max_depth': 10, 'min_samp...         0.616743\n",
      "63  {'bootstrap': True, 'max_depth': 10, 'min_samp...         0.616743\n",
      "49  {'bootstrap': True, 'max_depth': 10, 'min_samp...         0.616659\n",
      "47  {'bootstrap': True, 'max_depth': 10, 'min_samp...         0.616576\n",
      "43  {'bootstrap': True, 'max_depth': 10, 'min_samp...         0.616326\n",
      "69  {'bootstrap': True, 'max_depth': 10, 'min_samp...         0.615993\n",
      "70  {'bootstrap': True, 'max_depth': 10, 'min_samp...         0.615993\n",
      "51  {'bootstrap': True, 'max_depth': 10, 'min_samp...         0.615909\n",
      "42  {'bootstrap': True, 'max_depth': 10, 'min_samp...         0.615743\n",
      "66  {'bootstrap': True, 'max_depth': 10, 'min_samp...         0.615660\n"
     ]
    }
   ],
   "source": [
    "cv_results_df = pd.DataFrame(grid_search.cv_results_)\n",
    "\n",
    "# Show top 10 parameters for this model\n",
    "minimalistic_results = cv_results_df[['params', 'mean_test_score']]\n",
    "sorted_results = minimalistic_results.sort_values(by='mean_test_score', ascending=False)\n",
    "\n",
    "print(sorted_results.head(10))"
   ]
  },
  {
   "cell_type": "code",
   "execution_count": 11,
   "metadata": {},
   "outputs": [
    {
     "name": "stdout",
     "output_type": "stream",
     "text": [
      "Metrics for RF-SVD-GS-CV1:\n",
      "Accuracy: 0.6209\n",
      "Weighted F1: 0.6198\n",
      "Weighted Precision: 0.6246\n",
      "Weighted Recall: 0.6209\n",
      "Macro-Averaged Precision: 0.6239\n",
      "Macro-Averaged Recall: 0.6224\n",
      "F1: [0.60348432 0.63688577]\n",
      "Precision: [0.65063862 0.59724716]\n",
      "classification report\n",
      "              precision    recall  f1-score   support\n",
      "\n",
      "     Class 0       0.65      0.56      0.60      1539\n",
      "     Class 1       0.60      0.68      0.64      1463\n",
      "\n",
      "    accuracy                           0.62      3002\n",
      "   macro avg       0.62      0.62      0.62      3002\n",
      "weighted avg       0.62      0.62      0.62      3002\n",
      "\n",
      "Confusion Matrix\n"
     ]
    },
    {
     "data": {
      "image/png": "[encoded data removed]",
      "text/plain": [
       "<Figure size 432x288 with 2 Axes>"
      ]
     },
     "metadata": {
      "needs_background": "light"
     },
     "output_type": "display_data"
    }
   ],
   "source": [
    "best_model = grid_search.best_estimator_\n",
    "predictions = best_model.predict(X_test)\n",
    "_ = calculate_metrics('RF-SVD-GS-CV1', y_test, predictions)"
   ]
  },
  {
   "cell_type": "code",
   "execution_count": 12,
   "metadata": {},
   "outputs": [
    {
     "name": "stdout",
     "output_type": "stream",
     "text": [
      "Parameters from place:  0   {'bootstrap': True, 'max_depth': 10, 'min_samples_leaf': 4, 'min_samples_split': 5, 'n_estimators': 200}\n",
      "Accuracy for chosen parameters: 0.6209193870752832\n",
      "Parameters from place:  1   {'bootstrap': True, 'max_depth': 10, 'min_samples_leaf': 4, 'min_samples_split': 2, 'n_estimators': 200}\n",
      "Accuracy for chosen parameters: 0.6209193870752832\n",
      "Parameters from place:  2   {'bootstrap': True, 'max_depth': 10, 'min_samples_leaf': 2, 'min_samples_split': 2, 'n_estimators': 50}\n",
      "Accuracy for chosen parameters: 0.6215856095936043\n",
      "Parameters from place:  3   {'bootstrap': True, 'max_depth': 10, 'min_samples_leaf': 1, 'min_samples_split': 10, 'n_estimators': 200}\n",
      "Accuracy for chosen parameters: 0.6239173884077281\n",
      "Parameters from place:  4   {'bootstrap': True, 'max_depth': 10, 'min_samples_leaf': 1, 'min_samples_split': 5, 'n_estimators': 200}\n",
      "Accuracy for chosen parameters: 0.6229180546302465\n",
      "Parameters from place:  5   {'bootstrap': True, 'max_depth': 10, 'min_samples_leaf': 4, 'min_samples_split': 10, 'n_estimators': 50}\n",
      "Accuracy for chosen parameters: 0.6225849433710859\n",
      "Parameters from place:  6   {'bootstrap': True, 'max_depth': 10, 'min_samples_leaf': 4, 'min_samples_split': 10, 'n_estimators': 100}\n",
      "Accuracy for chosen parameters: 0.6235842771485676\n",
      "Parameters from place:  7   {'bootstrap': True, 'max_depth': 10, 'min_samples_leaf': 2, 'min_samples_split': 2, 'n_estimators': 200}\n",
      "Accuracy for chosen parameters: 0.6215856095936043\n",
      "Parameters from place:  8   {'bootstrap': True, 'max_depth': 10, 'min_samples_leaf': 1, 'min_samples_split': 5, 'n_estimators': 100}\n",
      "Accuracy for chosen parameters: 0.6235842771485676\n",
      "Parameters from place:  9   {'bootstrap': True, 'max_depth': 10, 'min_samples_leaf': 4, 'min_samples_split': 5, 'n_estimators': 100}\n",
      "Accuracy for chosen parameters: 0.6215856095936043\n"
     ]
    }
   ],
   "source": [
    "# Predicting using other alternatives of fine-tuning from top 10 performances\n",
    "other_alternatives = []\n",
    "# Choose a set of parameters from sorted_results\n",
    "for i in range(10):\n",
    "\n",
    "  params = sorted_results.iloc[i]['params']\n",
    "  print(\"Parameters from place: \", i, \" \", params)\n",
    "\n",
    "  model = RandomForestClassifier(random_state=seed, **params)\n",
    "  model.fit(X_train, y_train)\n",
    "\n",
    "  predictions = model.predict(X_test)\n",
    "\n",
    "  chosen_accuracy = accuracy_score(y_test, predictions)\n",
    "  print(\"Accuracy for chosen parameters:\", chosen_accuracy)\n",
    "  other_alternatives.append((chosen_accuracy,params))\n"
   ]
  },
  {
   "cell_type": "code",
   "execution_count": 13,
   "metadata": {},
   "outputs": [],
   "source": [
    "# get best from top 10\n",
    "best_tuple = max(other_alternatives, key=lambda x: x[0])"
   ]
  },
  {
   "cell_type": "code",
   "execution_count": 14,
   "metadata": {},
   "outputs": [
    {
     "name": "stdout",
     "output_type": "stream",
     "text": [
      "Best accuracy and parameters after running the algorithm using other alternatives of fine tuning from top 10 performances\n",
      "0.6239173884077281\n",
      "{'bootstrap': True, 'max_depth': 10, 'min_samples_leaf': 1, 'min_samples_split': 10, 'n_estimators': 200}\n"
     ]
    }
   ],
   "source": [
    "print(\"Best accuracy and parameters after running the algorithm using other alternatives of fine tuning from top 10 performances\")\n",
    "print(best_tuple[0])\n",
    "print(best_tuple[1])"
   ]
  },
  {
   "cell_type": "code",
   "execution_count": 15,
   "metadata": {},
   "outputs": [
    {
     "name": "stdout",
     "output_type": "stream",
     "text": [
      "Parameters from place:  0   {'bootstrap': True, 'max_depth': 10, 'min_samples_leaf': 4, 'min_samples_split': 5, 'n_estimators': 200}\n",
      "Accuracy for chosen parameters: 0.6834652228238234\n",
      "Parameters from place:  1   {'bootstrap': True, 'max_depth': 10, 'min_samples_leaf': 4, 'min_samples_split': 2, 'n_estimators': 200}\n",
      "Accuracy for chosen parameters: 0.6834652228238234\n",
      "Parameters from place:  2   {'bootstrap': True, 'max_depth': 10, 'min_samples_leaf': 2, 'min_samples_split': 2, 'n_estimators': 50}\n",
      "Accuracy for chosen parameters: 0.6902957101207831\n",
      "Parameters from place:  3   {'bootstrap': True, 'max_depth': 10, 'min_samples_leaf': 1, 'min_samples_split': 10, 'n_estimators': 200}\n",
      "Accuracy for chosen parameters: 0.6842149104539775\n",
      "Parameters from place:  4   {'bootstrap': True, 'max_depth': 10, 'min_samples_leaf': 1, 'min_samples_split': 5, 'n_estimators': 200}\n",
      "Accuracy for chosen parameters: 0.6920449812578092\n",
      "Parameters from place:  5   {'bootstrap': True, 'max_depth': 10, 'min_samples_leaf': 4, 'min_samples_split': 10, 'n_estimators': 50}\n",
      "Accuracy for chosen parameters: 0.6839650145772594\n",
      "Parameters from place:  6   {'bootstrap': True, 'max_depth': 10, 'min_samples_leaf': 4, 'min_samples_split': 10, 'n_estimators': 100}\n",
      "Accuracy for chosen parameters: 0.6803831736776343\n",
      "Parameters from place:  7   {'bootstrap': True, 'max_depth': 10, 'min_samples_leaf': 2, 'min_samples_split': 2, 'n_estimators': 200}\n",
      "Accuracy for chosen parameters: 0.6919616826322366\n",
      "Parameters from place:  8   {'bootstrap': True, 'max_depth': 10, 'min_samples_leaf': 1, 'min_samples_split': 5, 'n_estimators': 100}\n",
      "Accuracy for chosen parameters: 0.6919616826322366\n",
      "Parameters from place:  9   {'bootstrap': True, 'max_depth': 10, 'min_samples_leaf': 4, 'min_samples_split': 5, 'n_estimators': 100}\n",
      "Accuracy for chosen parameters: 0.68304872969596\n"
     ]
    }
   ],
   "source": [
    "# Run on training sample\n",
    "\n",
    "# Choose a set of parameters from sorted_results\n",
    "for i in range(10):\n",
    "\n",
    "  params = sorted_results.iloc[i]['params']\n",
    "  print(\"Parameters from place: \", i, \" \", params)\n",
    "\n",
    "  model = RandomForestClassifier(random_state=42, **params)\n",
    "  model.fit(X_train, y_train)\n",
    "\n",
    "  predictions = model.predict(X_train)\n",
    "\n",
    "  chosen_accuracy = accuracy_score(y_train, predictions)\n",
    "  print(\"Accuracy for chosen parameters:\", chosen_accuracy)"
   ]
  },
  {
   "cell_type": "code",
   "execution_count": 16,
   "metadata": {},
   "outputs": [
    {
     "name": "stdout",
     "output_type": "stream",
     "text": [
      "Accuracy for max depth : 14   0.8142440649729279\n",
      "Accuracy for max depth : 13   0.7806747188671387\n",
      "Accuracy for max depth : 12   0.7542690545605998\n",
      "Accuracy for max depth : 11   0.7258642232403165\n",
      "Accuracy for max depth : 10   0.6980424822990421\n",
      "Accuracy for max depth : 9   0.6790503956684715\n",
      "Accuracy for max depth : 8   0.6613910870470637\n",
      "Accuracy for max depth : 7   0.6480633069554352\n",
      "Accuracy for max depth : 6   0.6384006663890046\n",
      "Accuracy for max depth : 5   0.6244064972927946\n",
      "Accuracy for max depth : 4   0.6199083715118701\n",
      "Accuracy for max depth : 3   0.5979175343606831\n",
      "Accuracy for max depth : 2   0.5938359017076218\n",
      "Accuracy for max depth : 1   0.5940024989587672\n"
     ]
    }
   ],
   "source": [
    "accuracies=[]\n",
    "max_depths=[]\n",
    "for i in reversed(range(1,15)):\n",
    "  model = RandomForestClassifier(random_state=seed, max_depth=i)\n",
    "  model.fit(X_train, y_train)\n",
    "  predictions = model.predict(X_train)\n",
    "  accuracy = accuracy_score(y_train, predictions)\n",
    "  max_depths.append(i)\n",
    "  accuracies.append(accuracy)\n",
    "  print(\"Accuracy for max depth :\", i, \" \", accuracy)"
   ]
  },
  {
   "cell_type": "code",
   "execution_count": 17,
   "metadata": {},
   "outputs": [
    {
     "data": {
      "image/png": "[encoded data removed]",
      "text/plain": [
       "<Figure size 720x432 with 1 Axes>"
      ]
     },
     "metadata": {
      "needs_background": "light"
     },
     "output_type": "display_data"
    }
   ],
   "source": [
    "plt.figure(figsize=(10, 6))\n",
    "plt.plot(max_depths, accuracies, marker='o', linestyle='-', color='b')\n",
    "\n",
    "plt.title('Accuracy related to the maximum depth of the model')\n",
    "plt.xlabel('Maximum depth')\n",
    "plt.ylabel('Accuracy')\n",
    "plt.grid(True)\n",
    "\n",
    "plt.show()"
   ]
  },
  {
   "cell_type": "markdown",
   "metadata": {},
   "source": [
    "Classification report of best model from alternatives of fine tuning"
   ]
  },
  {
   "cell_type": "code",
   "execution_count": 18,
   "metadata": {},
   "outputs": [],
   "source": [
    "model = RandomForestClassifier(random_state=seed, **best_tuple[1])\n",
    "model.fit(X_train, y_train)\n",
    "\n",
    "predictions = model.predict(X_test)\n",
    "current_accuracy = accuracy_score(y_test, predictions)\n",
    "\n",
    "report = classification_report(y_test, predictions, output_dict=True, zero_division=0)\n"
   ]
  },
  {
   "cell_type": "code",
   "execution_count": 19,
   "metadata": {},
   "outputs": [
    {
     "name": "stdout",
     "output_type": "stream",
     "text": [
      "              precision    recall  f1-score   support\n",
      "\n",
      "           0       0.66      0.56      0.61      1539\n",
      "           1       0.60      0.69      0.64      1463\n",
      "\n",
      "    accuracy                           0.62      3002\n",
      "   macro avg       0.63      0.63      0.62      3002\n",
      "weighted avg       0.63      0.62      0.62      3002\n",
      "\n"
     ]
    }
   ],
   "source": [
    "print(classification_report(y_test, predictions, zero_division=0))"
   ]
  },
  {
   "cell_type": "code",
   "execution_count": 20,
   "metadata": {},
   "outputs": [
    {
     "name": "stdout",
     "output_type": "stream",
     "text": [
      "Metrics for RF-SVD-alternatives:\n",
      "Accuracy: 0.6239\n",
      "Weighted F1: 0.6226\n",
      "Weighted Precision: 0.6280\n",
      "Weighted Recall: 0.6239\n",
      "Macro-Averaged Precision: 0.6273\n",
      "Macro-Averaged Recall: 0.6255\n",
      "F1: [0.60510668 0.64101749]\n",
      "Precision: [0.65530303 0.59928656]\n",
      "classification report\n",
      "              precision    recall  f1-score   support\n",
      "\n",
      "     Class 0       0.66      0.56      0.61      1539\n",
      "     Class 1       0.60      0.69      0.64      1463\n",
      "\n",
      "    accuracy                           0.62      3002\n",
      "   macro avg       0.63      0.63      0.62      3002\n",
      "weighted avg       0.63      0.62      0.62      3002\n",
      "\n",
      "Confusion Matrix\n"
     ]
    },
    {
     "data": {
      "image/png": "[encoded data removed]",
      "text/plain": [
       "<Figure size 432x288 with 2 Axes>"
      ]
     },
     "metadata": {
      "needs_background": "light"
     },
     "output_type": "display_data"
    },
    {
     "data": {
      "text/html": [
       "<div>\n",
       "<style scoped>\n",
       "    .dataframe tbody tr th:only-of-type {\n",
       "        vertical-align: middle;\n",
       "    }\n",
       "\n",
       "    .dataframe tbody tr th {\n",
       "        vertical-align: top;\n",
       "    }\n",
       "\n",
       "    .dataframe thead th {\n",
       "        text-align: right;\n",
       "    }\n",
       "</style>\n",
       "<table border=\"1\" class=\"dataframe\">\n",
       "  <thead>\n",
       "    <tr style=\"text-align: right;\">\n",
       "      <th></th>\n",
       "      <th>Accuracy</th>\n",
       "      <th>Weighted F1</th>\n",
       "      <th>Weighted Precision</th>\n",
       "      <th>Weighted Recall</th>\n",
       "      <th>Macro-Averaged Precision</th>\n",
       "      <th>Macro-Averaged Recall</th>\n",
       "      <th>F1</th>\n",
       "      <th>Precision</th>\n",
       "    </tr>\n",
       "  </thead>\n",
       "  <tbody>\n",
       "    <tr>\n",
       "      <th>RF-SVD-alternatives</th>\n",
       "      <td>0.623917</td>\n",
       "      <td>0.622608</td>\n",
       "      <td>0.628004</td>\n",
       "      <td>0.623917</td>\n",
       "      <td>0.627295</td>\n",
       "      <td>0.625524</td>\n",
       "      <td>[0.60510668 0.64101749]</td>\n",
       "      <td>[0.65530303 0.59928656]</td>\n",
       "    </tr>\n",
       "  </tbody>\n",
       "</table>\n",
       "</div>"
      ],
      "text/plain": [
       "                     Accuracy  Weighted F1  Weighted Precision  \\\n",
       "RF-SVD-alternatives  0.623917     0.622608            0.628004   \n",
       "\n",
       "                     Weighted Recall  Macro-Averaged Precision  \\\n",
       "RF-SVD-alternatives         0.623917                  0.627295   \n",
       "\n",
       "                     Macro-Averaged Recall                       F1  \\\n",
       "RF-SVD-alternatives               0.625524  [0.60510668 0.64101749]   \n",
       "\n",
       "                                   Precision  \n",
       "RF-SVD-alternatives  [0.65530303 0.59928656]  "
      ]
     },
     "execution_count": 20,
     "metadata": {},
     "output_type": "execute_result"
    }
   ],
   "source": [
    "calculate_metrics('RF-SVD-alternatives', y_test, predictions)"
   ]
  }
 ],
 "metadata": {
  "kernelspec": {
   "display_name": "Python 3",
   "language": "python",
   "name": "python3"
  },
  "language_info": {
   "codemirror_mode": {
    "name": "ipython",
    "version": 3
   },
   "file_extension": ".py",
   "mimetype": "text/x-python",
   "name": "python",
   "nbconvert_exporter": "python",
   "pygments_lexer": "ipython3",
   "version": "3.10.11"
  }
 },
 "nbformat": 4,
 "nbformat_minor": 2
}
