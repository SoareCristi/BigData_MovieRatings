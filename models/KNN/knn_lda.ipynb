{
  "nbformat": 4,
  "nbformat_minor": 0,
  "metadata": {
    "colab": {
      "provenance": []
    },
    "kernelspec": {
      "name": "python3",
      "display_name": "Python 3"
    },
    "language_info": {
      "name": "python"
    }
  },
  "cells": [
    {
      "cell_type": "markdown",
      "source": [
        "# KNN Implementation on scaled reduced dataset with LDA"
      ],
      "metadata": {
        "id": "p3vENeSCORBx"
      }
    },
    {
      "cell_type": "code",
      "execution_count": 16,
      "metadata": {
        "id": "F6Wq_jPzOMBw"
      },
      "outputs": [],
      "source": [
        "# Utilities\n",
        "import pandas as pd\n",
        "import warnings\n",
        "import numpy as np\n",
        "import matplotlib.pyplot as plt\n",
        "\n",
        "# Models\n",
        "from sklearn.model_selection import train_test_split, cross_val_score\n",
        "from sklearn.neighbors import KNeighborsClassifier\n",
        "from sklearn.model_selection import GridSearchCV\n",
        "from sklearn.metrics import accuracy_score, accuracy_score, f1_score\n",
        "from sklearn.metrics import classification_report, precision_score, recall_score, confusion_matrix, ConfusionMatrixDisplay"
      ]
    },
    {
      "cell_type": "code",
      "source": [
        "seed = 23"
      ],
      "metadata": {
        "id": "a40jVCpAOZvf"
      },
      "execution_count": 9,
      "outputs": []
    },
    {
      "cell_type": "code",
      "source": [
        "df_scaled = pd.read_csv('../../Data/dataset_preprocessed.csv')"
      ],
      "metadata": {
        "id": "lq8af7RIOaX4"
      },
      "execution_count": 10,
      "outputs": []
    },
    {
      "cell_type": "code",
      "source": [
        "df_lda = pd.read_csv('../../DimensionalityReductionData/lda.csv')"
      ],
      "metadata": {
        "id": "1iZv5xCfOdTU"
      },
      "execution_count": 11,
      "outputs": []
    },
    {
      "cell_type": "code",
      "source": [
        "df_scaled = df_scaled[['averageRating']]\n",
        "df_scaled['LD1'] = df_lda['LD1']"
      ],
      "metadata": {
        "colab": {
          "base_uri": "https://localhost:8080/"
        },
        "id": "iVeFdu5TOiO9",
        "outputId": "bad09890-5849-43d6-f908-75cc4a07aa2d"
      },
      "execution_count": 12,
      "outputs": [
        {
          "output_type": "stream",
          "name": "stderr",
          "text": [
            "<ipython-input-12-529454da6465>:2: SettingWithCopyWarning: \n",
            "A value is trying to be set on a copy of a slice from a DataFrame.\n",
            "Try using .loc[row_indexer,col_indexer] = value instead\n",
            "\n",
            "See the caveats in the documentation: https://pandas.pydata.org/pandas-docs/stable/user_guide/indexing.html#returning-a-view-versus-a-copy\n",
            "  df_scaled['LD1'] = df_lda['LD1']\n"
          ]
        }
      ]
    },
    {
      "cell_type": "code",
      "source": [
        "df_scaled_sample = df_scaled"
      ],
      "metadata": {
        "id": "3a_NdVESOlIe"
      },
      "execution_count": 13,
      "outputs": []
    },
    {
      "cell_type": "code",
      "source": [
        "test_size = 0.2\n",
        "X_train, X_test, y_train, y_test = train_test_split(\n",
        "    df_scaled_sample.drop('averageRating', axis=1),\n",
        "    df_scaled_sample['averageRating'], test_size=test_size,\n",
        "    random_state=seed\n",
        ")"
      ],
      "metadata": {
        "id": "EOIjTmeFOlqA"
      },
      "execution_count": 14,
      "outputs": []
    },
    {
      "cell_type": "code",
      "source": [
        "def calculate_metrics(model_name, y_true, y_pred):\n",
        "    metrics = {\n",
        "        'Accuracy': accuracy_score(y_true, y_pred),\n",
        "        'Weighted F1': f1_score(y_true, y_pred, average='weighted'),\n",
        "        'Weighted Precision': precision_score(y_true, y_pred, average='weighted', zero_division=0),\n",
        "        'Weighted Recall': recall_score(y_true, y_pred, average='weighted'),\n",
        "        'Macro-Averaged Precision': precision_score(y_true, y_pred, average='macro', zero_division=0),\n",
        "        'Macro-Averaged Recall': recall_score(y_true, y_pred, average='macro'),\n",
        "        'F1': str(f1_score(y_true, y_pred, average=None)),\n",
        "        'Precision': str( precision_score(y_true, y_pred, average=None, zero_division=0)),\n",
        "    }\n",
        "\n",
        "    # Print the metrics\n",
        "    print(f\"Metrics for {model_name}:\")\n",
        "    for metric_name, metric_value in metrics.items():\n",
        "        try:\n",
        "            print(f\"{metric_name}: {metric_value:.4f}\")\n",
        "        except:\n",
        "            print(f\"{metric_name}: {metric_value}\")\n",
        "\n",
        "    # Print the classification report\n",
        "    print(\"classification report\")\n",
        "    report = classification_report(y_true, y_pred, target_names=['Class 0', 'Class 1'], zero_division=0)\n",
        "    print(report)\n",
        "\n",
        "    print(\"Confusion Matrix\")\n",
        "    cm = confusion_matrix(y_true, y_pred)\n",
        "    cmd = ConfusionMatrixDisplay(confusion_matrix=cm)\n",
        "    cmd.plot()\n",
        "\n",
        "    plt.title(f'Confusion matrix for model {model_name} (Accuracy:{metrics[\"Accuracy\"]:.4f})')\n",
        "    plt.show()\n",
        "\n",
        "    # Create df to store metrics\n",
        "    df_metrics = pd.DataFrame(metrics, index=[model_name])\n",
        "\n",
        "    return df_metrics"
      ],
      "metadata": {
        "id": "2yDdQBjvPrvn"
      },
      "execution_count": 15,
      "outputs": []
    },
    {
      "cell_type": "code",
      "source": [
        "model = KNeighborsClassifier()\n",
        "model.fit(X_train, y_train)\n",
        "\n",
        "predictions = model.predict(X_test)\n",
        "print(\"Accuracy:\", accuracy_score(y_test, predictions))\n",
        "\n",
        "print(\"F1 score:\", f1_score(y_test, predictions, average=None))"
      ],
      "metadata": {
        "colab": {
          "base_uri": "https://localhost:8080/"
        },
        "id": "lX90s7JpPyQo",
        "outputId": "b0df6386-2448-4ec2-9b41-de2ffaafaf80"
      },
      "execution_count": 17,
      "outputs": [
        {
          "output_type": "stream",
          "name": "stdout",
          "text": [
            "Accuracy: 0.5892738174550299\n",
            "F1 score: [0.59928502 0.57874957]\n"
          ]
        }
      ]
    },
    {
      "cell_type": "code",
      "source": [
        "from sklearn.model_selection import GridSearchCV\n",
        "from sklearn.metrics import accuracy_score, f1_score\n",
        "\n",
        "param_grid = {\n",
        "    'n_neighbors': [3, 7, 15],\n",
        "    'p': [1, 2, 3, 4.3],\n",
        "    'n_jobs': [-1, 1]\n",
        "}\n",
        "\n",
        "model = KNeighborsClassifier()\n",
        "\n",
        "grid_search = GridSearchCV(estimator=model, param_grid=param_grid, cv=3, n_jobs=-1, verbose=2, scoring='accuracy')\n",
        "grid_search.fit(X_train, y_train)\n",
        "\n",
        "print(\"The parameters with the highest score: \", grid_search.best_params_)"
      ],
      "metadata": {
        "colab": {
          "base_uri": "https://localhost:8080/"
        },
        "id": "vXHOrNGEQEeN",
        "outputId": "7943af17-1c03-4dc6-ab15-d27c520d7487"
      },
      "execution_count": 18,
      "outputs": [
        {
          "output_type": "stream",
          "name": "stdout",
          "text": [
            "Fitting 3 folds for each of 24 candidates, totalling 72 fits\n",
            "The parameters with the highest score:  {'n_jobs': -1, 'n_neighbors': 15, 'p': 1}\n"
          ]
        }
      ]
    },
    {
      "cell_type": "code",
      "source": [
        "cv_results_df = pd.DataFrame(grid_search.cv_results_)\n",
        "\n",
        "# Show top 10 parameters for this model\n",
        "minimalistic_results = cv_results_df[['params', 'mean_test_score']]\n",
        "sorted_results = minimalistic_results.sort_values(by='mean_test_score', ascending=False)\n",
        "\n",
        "print(sorted_results.head(10))"
      ],
      "metadata": {
        "colab": {
          "base_uri": "https://localhost:8080/"
        },
        "id": "5LwPCOYfQWqx",
        "outputId": "dbe3751a-8fa9-44f5-faa2-3c2aef7cfcf4"
      },
      "execution_count": 19,
      "outputs": [
        {
          "output_type": "stream",
          "name": "stdout",
          "text": [
            "                                         params  mean_test_score\n",
            "23   {'n_jobs': 1, 'n_neighbors': 15, 'p': 4.3}         0.621460\n",
            "22     {'n_jobs': 1, 'n_neighbors': 15, 'p': 3}         0.621460\n",
            "21     {'n_jobs': 1, 'n_neighbors': 15, 'p': 2}         0.621460\n",
            "8     {'n_jobs': -1, 'n_neighbors': 15, 'p': 1}         0.621460\n",
            "9     {'n_jobs': -1, 'n_neighbors': 15, 'p': 2}         0.621460\n",
            "10    {'n_jobs': -1, 'n_neighbors': 15, 'p': 3}         0.621460\n",
            "11  {'n_jobs': -1, 'n_neighbors': 15, 'p': 4.3}         0.621460\n",
            "20     {'n_jobs': 1, 'n_neighbors': 15, 'p': 1}         0.621460\n",
            "16      {'n_jobs': 1, 'n_neighbors': 7, 'p': 1}         0.609797\n",
            "4      {'n_jobs': -1, 'n_neighbors': 7, 'p': 1}         0.609797\n"
          ]
        }
      ]
    },
    {
      "cell_type": "code",
      "source": [
        "best_model = grid_search.best_estimator_\n",
        "predictions = best_model.predict(X_test)\n",
        "_ = calculate_metrics('KNN-LDA-GS-CV1', y_test, predictions)"
      ],
      "metadata": {
        "colab": {
          "base_uri": "https://localhost:8080/",
          "height": 819
        },
        "id": "m91hWuMvQbNr",
        "outputId": "bc6fbc72-7908-438a-b9bb-d1d4834e6d31"
      },
      "execution_count": 20,
      "outputs": [
        {
          "output_type": "stream",
          "name": "stdout",
          "text": [
            "Metrics for KNN-LDA-GS-CV1:\n",
            "Accuracy: 0.6336\n",
            "Weighted F1: 0.6337\n",
            "Weighted Precision: 0.6338\n",
            "Weighted Recall: 0.6336\n",
            "Macro-Averaged Precision: 0.6330\n",
            "Macro-Averaged Recall: 0.6331\n",
            "F1: [0.64720975 0.61884962]\n",
            "Precision: [0.65138799 0.6145905 ]\n",
            "classification report\n",
            "              precision    recall  f1-score   support\n",
            "\n",
            "     Class 0       0.65      0.64      0.65      1569\n",
            "     Class 1       0.61      0.62      0.62      1433\n",
            "\n",
            "    accuracy                           0.63      3002\n",
            "   macro avg       0.63      0.63      0.63      3002\n",
            "weighted avg       0.63      0.63      0.63      3002\n",
            "\n",
            "Confusion Matrix\n"
          ]
        },
        {
          "output_type": "display_data",
          "data": {
            "text/plain": [
              "<Figure size 640x480 with 2 Axes>"
            ],
            "image/png": "[encoded data removed]"
          },
          "metadata": {}
        }
      ]
    },
    {
      "cell_type": "code",
      "source": [
        "# Predicting using other alternatives of fine-tuning from top 10 performances\n",
        "other_alternatives = []\n",
        "# Choose a set of parameters from sorted_results\n",
        "for i in range(10):\n",
        "\n",
        "  params = sorted_results.iloc[i]['params']\n",
        "  print(\"Parameters from place: \", i, \" \", params)\n",
        "\n",
        "  model = KNeighborsClassifier(**params)\n",
        "  model.fit(X_train, y_train)\n",
        "\n",
        "  predictions = model.predict(X_test)\n",
        "\n",
        "  chosen_accuracy = accuracy_score(y_test, predictions)\n",
        "  print(\"Accuracy for chosen parameters:\", chosen_accuracy)\n",
        "  other_alternatives.append((chosen_accuracy,params))"
      ],
      "metadata": {
        "colab": {
          "base_uri": "https://localhost:8080/"
        },
        "id": "DemqNdWRQi0i",
        "outputId": "b2676dcc-c853-4874-cc32-b5ca252e074c"
      },
      "execution_count": 22,
      "outputs": [
        {
          "output_type": "stream",
          "name": "stdout",
          "text": [
            "Parameters from place:  0   {'n_jobs': 1, 'n_neighbors': 15, 'p': 4.3}\n",
            "Accuracy for chosen parameters: 0.6335776149233844\n",
            "Parameters from place:  1   {'n_jobs': 1, 'n_neighbors': 15, 'p': 3}\n",
            "Accuracy for chosen parameters: 0.6335776149233844\n",
            "Parameters from place:  2   {'n_jobs': 1, 'n_neighbors': 15, 'p': 2}\n",
            "Accuracy for chosen parameters: 0.6335776149233844\n",
            "Parameters from place:  3   {'n_jobs': -1, 'n_neighbors': 15, 'p': 1}\n",
            "Accuracy for chosen parameters: 0.6335776149233844\n",
            "Parameters from place:  4   {'n_jobs': -1, 'n_neighbors': 15, 'p': 2}\n",
            "Accuracy for chosen parameters: 0.6335776149233844\n",
            "Parameters from place:  5   {'n_jobs': -1, 'n_neighbors': 15, 'p': 3}\n",
            "Accuracy for chosen parameters: 0.6335776149233844\n",
            "Parameters from place:  6   {'n_jobs': -1, 'n_neighbors': 15, 'p': 4.3}\n",
            "Accuracy for chosen parameters: 0.6335776149233844\n",
            "Parameters from place:  7   {'n_jobs': 1, 'n_neighbors': 15, 'p': 1}\n",
            "Accuracy for chosen parameters: 0.6335776149233844\n",
            "Parameters from place:  8   {'n_jobs': 1, 'n_neighbors': 7, 'p': 1}\n",
            "Accuracy for chosen parameters: 0.6115922718187875\n",
            "Parameters from place:  9   {'n_jobs': -1, 'n_neighbors': 7, 'p': 1}\n",
            "Accuracy for chosen parameters: 0.6115922718187875\n"
          ]
        }
      ]
    },
    {
      "cell_type": "code",
      "source": [
        "# get best from top 10\n",
        "best_tuple = max(other_alternatives, key=lambda x: x[0])"
      ],
      "metadata": {
        "id": "e65wajCRQqJZ"
      },
      "execution_count": 23,
      "outputs": []
    },
    {
      "cell_type": "code",
      "source": [
        "print(\"Best accuracy and parameters after running the algorithm using other alternatives of fine tuning from top 10 performances\")\n",
        "print(best_tuple[0])\n",
        "print(best_tuple[1])"
      ],
      "metadata": {
        "colab": {
          "base_uri": "https://localhost:8080/"
        },
        "id": "utq94_W0QtY1",
        "outputId": "53cd2e0a-d440-4ead-8cf7-b205b6b31f12"
      },
      "execution_count": 24,
      "outputs": [
        {
          "output_type": "stream",
          "name": "stdout",
          "text": [
            "Best accuracy and parameters after running the algorithm using other alternatives of fine tuning from top 10 performances\n",
            "0.6335776149233844\n",
            "{'n_jobs': 1, 'n_neighbors': 15, 'p': 4.3}\n"
          ]
        }
      ]
    },
    {
      "cell_type": "code",
      "source": [
        "# Run on training sample\n",
        "\n",
        "# Choose a set of parameters from sorted_results\n",
        "for i in range(10):\n",
        "\n",
        "  params = sorted_results.iloc[i]['params']\n",
        "  print(\"Parameters from place: \", i, \" \", params)\n",
        "\n",
        "  model = KNeighborsClassifier(**params)\n",
        "  model.fit(X_train, y_train)\n",
        "\n",
        "  predictions = model.predict(X_train)\n",
        "\n",
        "  chosen_accuracy = accuracy_score(y_train, predictions)\n",
        "  print(\"Accuracy for chosen parameters:\", chosen_accuracy)"
      ],
      "metadata": {
        "colab": {
          "base_uri": "https://localhost:8080/"
        },
        "id": "Wl3mjkMPQwGk",
        "outputId": "78693496-004d-49a9-e865-8e7f6f972ea8"
      },
      "execution_count": 26,
      "outputs": [
        {
          "output_type": "stream",
          "name": "stdout",
          "text": [
            "Parameters from place:  0   {'n_jobs': 1, 'n_neighbors': 15, 'p': 4.3}\n",
            "Accuracy for chosen parameters: 0.6808563812062646\n",
            "Parameters from place:  1   {'n_jobs': 1, 'n_neighbors': 15, 'p': 3}\n",
            "Accuracy for chosen parameters: 0.6808563812062646\n",
            "Parameters from place:  2   {'n_jobs': 1, 'n_neighbors': 15, 'p': 2}\n",
            "Accuracy for chosen parameters: 0.6808563812062646\n",
            "Parameters from place:  3   {'n_jobs': -1, 'n_neighbors': 15, 'p': 1}\n",
            "Accuracy for chosen parameters: 0.6808563812062646\n",
            "Parameters from place:  4   {'n_jobs': -1, 'n_neighbors': 15, 'p': 2}\n",
            "Accuracy for chosen parameters: 0.6808563812062646\n",
            "Parameters from place:  5   {'n_jobs': -1, 'n_neighbors': 15, 'p': 3}\n",
            "Accuracy for chosen parameters: 0.6808563812062646\n",
            "Parameters from place:  6   {'n_jobs': -1, 'n_neighbors': 15, 'p': 4.3}\n",
            "Accuracy for chosen parameters: 0.6808563812062646\n",
            "Parameters from place:  7   {'n_jobs': 1, 'n_neighbors': 15, 'p': 1}\n",
            "Accuracy for chosen parameters: 0.6808563812062646\n",
            "Parameters from place:  8   {'n_jobs': 1, 'n_neighbors': 7, 'p': 1}\n",
            "Accuracy for chosen parameters: 0.7113462179273575\n",
            "Parameters from place:  9   {'n_jobs': -1, 'n_neighbors': 7, 'p': 1}\n",
            "Accuracy for chosen parameters: 0.7113462179273575\n"
          ]
        }
      ]
    },
    {
      "cell_type": "code",
      "source": [
        "best_accuracy = 0\n",
        "best_report = None\n",
        "best_predictions = None\n",
        "y_best_predictions = None\n",
        "all_reports = []\n",
        "\n",
        "for i in range(100):\n",
        "  random_state_fit = np.random.randint(1000)\n",
        "\n",
        "  test_size = 0.2\n",
        "  X_train, X_test, y_train, y_test = train_test_split(\n",
        "    df_scaled_sample.drop('averageRating', axis=1),\n",
        "    df_scaled_sample['averageRating'], test_size=test_size,\n",
        "    random_state=random_state_fit)\n",
        "\n",
        "\n",
        "  model = KNeighborsClassifier(**best_tuple[1])\n",
        "  model.fit(X_train, y_train)\n",
        "\n",
        "  predictions = model.predict(X_test)\n",
        "  current_accuracy = accuracy_score(y_test, predictions)\n",
        "\n",
        "  report = classification_report(y_test, predictions, output_dict=True, zero_division=0)\n",
        "  all_reports.append(report)\n",
        "  print(current_accuracy)\n",
        "\n",
        "  if current_accuracy > best_accuracy:\n",
        "        best_accuracy = current_accuracy\n",
        "        best_report = report\n",
        "        best_predictions = predictions\n",
        "        y_best_predictions = y_test\n",
        "\n",
        "def average_classification_report(reports):\n",
        "    metrics = ['precision', 'recall', 'f1-score']\n",
        "    avg_report = {}\n",
        "    for metric in metrics:\n",
        "        avg_report[metric] = sum(r['macro avg'][metric] for r in reports) / len(reports)\n",
        "    avg_report['accuracy'] = sum(r['accuracy'] for r in reports) / len(reports)\n",
        "    return avg_report\n",
        "\n",
        "avg_report = average_classification_report(all_reports)\n",
        "\n",
        "print(\"Best Classification Report:\")\n",
        "print(classification_report(y_best_predictions, best_predictions, zero_division=0))\n",
        "print(\"Best Accuracy:\", best_accuracy)\n",
        "print()\n",
        "print(\"Average Classification Report:\")\n",
        "for metric, score in avg_report.items():\n",
        "    print(f\"{metric}: {score:.4f}\")"
      ],
      "metadata": {
        "colab": {
          "base_uri": "https://localhost:8080/"
        },
        "id": "rJZL0CPcQ4Be",
        "outputId": "633d56ae-863c-44fb-8820-fd24d3ba9e6e"
      },
      "execution_count": 29,
      "outputs": [
        {
          "output_type": "stream",
          "name": "stdout",
          "text": [
            "0.6459027315123251\n",
            "0.6352431712191872\n",
            "0.6259160559626915\n",
            "0.6325782811459028\n",
            "0.6445702864756829\n",
            "0.6262491672218521\n",
            "0.6222518321119254\n",
            "0.6235842771485676\n",
            "0.6342438374417055\n",
            "0.6269153897401732\n",
            "0.6395736175882745\n",
            "0.6182544970019986\n",
            "0.6222518321119254\n",
            "0.6329113924050633\n",
            "0.6375749500333111\n",
            "0.6335776149233844\n",
            "0.6279147235176549\n",
            "0.6242504996668887\n",
            "0.6319120586275816\n",
            "0.6269153897401732\n",
            "0.6352431712191872\n",
            "0.6345769487008661\n",
            "0.6302465023317788\n",
            "0.6415722851432378\n",
            "0.6395736175882745\n",
            "0.6279147235176549\n",
            "0.6412391738840773\n",
            "0.6149233844103931\n",
            "0.6382411725516323\n",
            "0.6215856095936043\n",
            "0.6265822784810127\n",
            "0.6372418387741505\n",
            "0.6302465023317788\n",
            "0.6215856095936043\n",
            "0.6385742838107928\n",
            "0.6249167221852099\n",
            "0.6269153897401732\n",
            "0.6232511658894071\n",
            "0.6439040639573618\n",
            "0.6245836109260493\n",
            "0.6235842771485676\n",
            "0.6345769487008661\n",
            "0.6322451698867422\n",
            "0.6345769487008661\n",
            "0.6322451698867422\n",
            "0.6322451698867422\n",
            "0.6189207195203198\n",
            "0.6192538307794804\n",
            "0.6392405063291139\n",
            "0.6225849433710859\n",
            "0.6262491672218521\n",
            "0.6359093937375083\n",
            "0.6175882744836776\n",
            "0.6179213857428381\n",
            "0.6262491672218521\n",
            "0.6495669553630913\n",
            "0.6349100599600267\n",
            "0.6335776149233844\n",
            "0.6369087275149901\n",
            "0.6252498334443705\n",
            "0.6305796135909394\n",
            "0.628580946035976\n",
            "0.6342438374417055\n",
            "0.628580946035976\n",
            "0.6322451698867422\n",
            "0.6325782811459028\n",
            "0.6295802798134577\n",
            "0.639906728847435\n",
            "0.6269153897401732\n",
            "0.6532311792138574\n",
            "0.642238507661559\n",
            "0.6405729513657562\n",
            "0.6489007328447701\n",
            "0.619586942038641\n",
            "0.6312458361092604\n",
            "0.6149233844103931\n",
            "0.642238507661559\n",
            "0.6262491672218521\n",
            "0.6335776149233844\n",
            "0.628580946035976\n",
            "0.6365756162558295\n",
            "0.6349100599600267\n",
            "0.6232511658894071\n",
            "0.6389073950699533\n",
            "0.6269153897401732\n",
            "0.6325782811459028\n",
            "0.6239173884077281\n",
            "0.6355762824783477\n",
            "0.6289140572951366\n",
            "0.6389073950699533\n",
            "0.6515656229180546\n",
            "0.617255163224517\n",
            "0.6302465023317788\n",
            "0.6389073950699533\n",
            "0.6265822784810127\n",
            "0.6205862758161226\n",
            "0.6415722851432378\n",
            "0.6232511658894071\n",
            "0.6225849433710859\n",
            "0.619586942038641\n",
            "Best Classification Report:\n",
            "              precision    recall  f1-score   support\n",
            "\n",
            "           0       0.65      0.67      0.66      1515\n",
            "           1       0.66      0.63      0.64      1487\n",
            "\n",
            "    accuracy                           0.65      3002\n",
            "   macro avg       0.65      0.65      0.65      3002\n",
            "weighted avg       0.65      0.65      0.65      3002\n",
            "\n",
            "Best Accuracy: 0.6532311792138574\n",
            "\n",
            "Average Classification Report:\n",
            "precision: 0.6311\n",
            "recall: 0.6309\n",
            "f1-score: 0.6307\n",
            "accuracy: 0.6311\n"
          ]
        }
      ]
    },
    {
      "cell_type": "code",
      "source": [
        "calculate_metrics('KNN-LDA-Shuffled_best', y_best_predictions, best_predictions)"
      ],
      "metadata": {
        "colab": {
          "base_uri": "https://localhost:8080/",
          "height": 918
        },
        "id": "3vSjwmtIRWM5",
        "outputId": "f6e11166-e5bd-4fb2-9fc2-643c106ae059"
      },
      "execution_count": 30,
      "outputs": [
        {
          "output_type": "stream",
          "name": "stdout",
          "text": [
            "Metrics for KNN-LDA-Shuffled_best:\n",
            "Accuracy: 0.6532\n",
            "Weighted F1: 0.6531\n",
            "Weighted Precision: 0.6533\n",
            "Weighted Recall: 0.6532\n",
            "Macro-Averaged Precision: 0.6533\n",
            "Macro-Averaged Recall: 0.6530\n",
            "F1: [0.66234187 0.6436152 ]\n",
            "Precision: [0.65114796 0.65550907]\n",
            "classification report\n",
            "              precision    recall  f1-score   support\n",
            "\n",
            "     Class 0       0.65      0.67      0.66      1515\n",
            "     Class 1       0.66      0.63      0.64      1487\n",
            "\n",
            "    accuracy                           0.65      3002\n",
            "   macro avg       0.65      0.65      0.65      3002\n",
            "weighted avg       0.65      0.65      0.65      3002\n",
            "\n",
            "Confusion Matrix\n"
          ]
        },
        {
          "output_type": "display_data",
          "data": {
            "text/plain": [
              "<Figure size 640x480 with 2 Axes>"
            ],
            "image/png": "[encoded data removed]"
          },
          "metadata": {}
        },
        {
          "output_type": "execute_result",
          "data": {
            "text/plain": [
              "                       Accuracy  Weighted F1  Weighted Precision  \\\n",
              "KNN-LDA-Shuffled_best  0.653231     0.653066            0.653308   \n",
              "\n",
              "                       Weighted Recall  Macro-Averaged Precision  \\\n",
              "KNN-LDA-Shuffled_best         0.653231                  0.653329   \n",
              "\n",
              "                       Macro-Averaged Recall                       F1  \\\n",
              "KNN-LDA-Shuffled_best               0.653036  [0.66234187 0.6436152 ]   \n",
              "\n",
              "                                     Precision  \n",
              "KNN-LDA-Shuffled_best  [0.65114796 0.65550907]  "
            ],
            "text/html": [
              "\n",
              "  <div id=\"df-729f9f21-1231-4f5f-a08e-0d0c2c25b193\" class=\"colab-df-container\">\n",
              "    <div>\n",
              "<style scoped>\n",
              "    .dataframe tbody tr th:only-of-type {\n",
              "        vertical-align: middle;\n",
              "    }\n",
              "\n",
              "    .dataframe tbody tr th {\n",
              "        vertical-align: top;\n",
              "    }\n",
              "\n",
              "    .dataframe thead th {\n",
              "        text-align: right;\n",
              "    }\n",
              "</style>\n",
              "<table border=\"1\" class=\"dataframe\">\n",
              "  <thead>\n",
              "    <tr style=\"text-align: right;\">\n",
              "      <th></th>\n",
              "      <th>Accuracy</th>\n",
              "      <th>Weighted F1</th>\n",
              "      <th>Weighted Precision</th>\n",
              "      <th>Weighted Recall</th>\n",
              "      <th>Macro-Averaged Precision</th>\n",
              "      <th>Macro-Averaged Recall</th>\n",
              "      <th>F1</th>\n",
              "      <th>Precision</th>\n",
              "    </tr>\n",
              "  </thead>\n",
              "  <tbody>\n",
              "    <tr>\n",
              "      <th>KNN-LDA-Shuffled_best</th>\n",
              "      <td>0.653231</td>\n",
              "      <td>0.653066</td>\n",
              "      <td>0.653308</td>\n",
              "      <td>0.653231</td>\n",
              "      <td>0.653329</td>\n",
              "      <td>0.653036</td>\n",
              "      <td>[0.66234187 0.6436152 ]</td>\n",
              "      <td>[0.65114796 0.65550907]</td>\n",
              "    </tr>\n",
              "  </tbody>\n",
              "</table>\n",
              "</div>\n",
              "    <div class=\"colab-df-buttons\">\n",
              "\n",
              "  <div class=\"colab-df-container\">\n",
              "    <button class=\"colab-df-convert\" onclick=\"convertToInteractive('df-729f9f21-1231-4f5f-a08e-0d0c2c25b193')\"\n",
              "            title=\"Convert this dataframe to an interactive table.\"\n",
              "            style=\"display:none;\">\n",
              "\n",
              "  <svg xmlns=\"http://www.w3.org/2000/svg\" height=\"24px\" viewBox=\"0 -960 960 960\">\n",
              "    <path d=\"M120-120v-720h720v720H120Zm60-500h600v-160H180v160Zm220 220h160v-160H400v160Zm0 220h160v-160H400v160ZM180-400h160v-160H180v160Zm440 0h160v-160H620v160ZM180-180h160v-160H180v160Zm440 0h160v-160H620v160Z\"/>\n",
              "  </svg>\n",
              "    </button>\n",
              "\n",
              "  <style>\n",
              "    .colab-df-container {\n",
              "      display:flex;\n",
              "      gap: 12px;\n",
              "    }\n",
              "\n",
              "    .colab-df-convert {\n",
              "      background-color: #E8F0FE;\n",
              "      border: none;\n",
              "      border-radius: 50%;\n",
              "      cursor: pointer;\n",
              "      display: none;\n",
              "      fill: #1967D2;\n",
              "      height: 32px;\n",
              "      padding: 0 0 0 0;\n",
              "      width: 32px;\n",
              "    }\n",
              "\n",
              "    .colab-df-convert:hover {\n",
              "      background-color: #E2EBFA;\n",
              "      box-shadow: 0px 1px 2px rgba(60, 64, 67, 0.3), 0px 1px 3px 1px rgba(60, 64, 67, 0.15);\n",
              "      fill: #174EA6;\n",
              "    }\n",
              "\n",
              "    .colab-df-buttons div {\n",
              "      margin-bottom: 4px;\n",
              "    }\n",
              "\n",
              "    [theme=dark] .colab-df-convert {\n",
              "      background-color: #3B4455;\n",
              "      fill: #D2E3FC;\n",
              "    }\n",
              "\n",
              "    [theme=dark] .colab-df-convert:hover {\n",
              "      background-color: #434B5C;\n",
              "      box-shadow: 0px 1px 3px 1px rgba(0, 0, 0, 0.15);\n",
              "      filter: drop-shadow(0px 1px 2px rgba(0, 0, 0, 0.3));\n",
              "      fill: #FFFFFF;\n",
              "    }\n",
              "  </style>\n",
              "\n",
              "    <script>\n",
              "      const buttonEl =\n",
              "        document.querySelector('#df-729f9f21-1231-4f5f-a08e-0d0c2c25b193 button.colab-df-convert');\n",
              "      buttonEl.style.display =\n",
              "        google.colab.kernel.accessAllowed ? 'block' : 'none';\n",
              "\n",
              "      async function convertToInteractive(key) {\n",
              "        const element = document.querySelector('#df-729f9f21-1231-4f5f-a08e-0d0c2c25b193');\n",
              "        const dataTable =\n",
              "          await google.colab.kernel.invokeFunction('convertToInteractive',\n",
              "                                                    [key], {});\n",
              "        if (!dataTable) return;\n",
              "\n",
              "        const docLinkHtml = 'Like what you see? Visit the ' +\n",
              "          '<a target=\"_blank\" href=https://colab.research.google.com/notebooks/data_table.ipynb>data table notebook</a>'\n",
              "          + ' to learn more about interactive tables.';\n",
              "        element.innerHTML = '';\n",
              "        dataTable['output_type'] = 'display_data';\n",
              "        await google.colab.output.renderOutput(dataTable, element);\n",
              "        const docLink = document.createElement('div');\n",
              "        docLink.innerHTML = docLinkHtml;\n",
              "        element.appendChild(docLink);\n",
              "      }\n",
              "    </script>\n",
              "  </div>\n",
              "\n",
              "    </div>\n",
              "  </div>\n"
            ],
            "application/vnd.google.colaboratory.intrinsic+json": {
              "type": "dataframe",
              "summary": "{\n  \"name\": \"calculate_metrics('KNN-LDA-Shuffled_best', y_best_predictions, best_predictions)\",\n  \"rows\": 1,\n  \"fields\": [\n    {\n      \"column\": \"Accuracy\",\n      \"properties\": {\n        \"dtype\": \"number\",\n        \"std\": null,\n        \"min\": 0.6532311792138574,\n        \"max\": 0.6532311792138574,\n        \"num_unique_values\": 1,\n        \"samples\": [\n          0.6532311792138574\n        ],\n        \"semantic_type\": \"\",\n        \"description\": \"\"\n      }\n    },\n    {\n      \"column\": \"Weighted F1\",\n      \"properties\": {\n        \"dtype\": \"number\",\n        \"std\": null,\n        \"min\": 0.6530658704614025,\n        \"max\": 0.6530658704614025,\n        \"num_unique_values\": 1,\n        \"samples\": [\n          0.6530658704614025\n        ],\n        \"semantic_type\": \"\",\n        \"description\": \"\"\n      }\n    },\n    {\n      \"column\": \"Weighted Precision\",\n      \"properties\": {\n        \"dtype\": \"number\",\n        \"std\": null,\n        \"min\": 0.6533081740964236,\n        \"max\": 0.6533081740964236,\n        \"num_unique_values\": 1,\n        \"samples\": [\n          0.6533081740964236\n        ],\n        \"semantic_type\": \"\",\n        \"description\": \"\"\n      }\n    },\n    {\n      \"column\": \"Weighted Recall\",\n      \"properties\": {\n        \"dtype\": \"number\",\n        \"std\": null,\n        \"min\": 0.6532311792138574,\n        \"max\": 0.6532311792138574,\n        \"num_unique_values\": 1,\n        \"samples\": [\n          0.6532311792138574\n        ],\n        \"semantic_type\": \"\",\n        \"description\": \"\"\n      }\n    },\n    {\n      \"column\": \"Macro-Averaged Precision\",\n      \"properties\": {\n        \"dtype\": \"number\",\n        \"std\": null,\n        \"min\": 0.6533285123672901,\n        \"max\": 0.6533285123672901,\n        \"num_unique_values\": 1,\n        \"samples\": [\n          0.6533285123672901\n        ],\n        \"semantic_type\": \"\",\n        \"description\": \"\"\n      }\n    },\n    {\n      \"column\": \"Macro-Averaged Recall\",\n      \"properties\": {\n        \"dtype\": \"number\",\n        \"std\": null,\n        \"min\": 0.6530363258249161,\n        \"max\": 0.6530363258249161,\n        \"num_unique_values\": 1,\n        \"samples\": [\n          0.6530363258249161\n        ],\n        \"semantic_type\": \"\",\n        \"description\": \"\"\n      }\n    },\n    {\n      \"column\": \"F1\",\n      \"properties\": {\n        \"dtype\": \"string\",\n        \"num_unique_values\": 1,\n        \"samples\": [\n          \"[0.66234187 0.6436152 ]\"\n        ],\n        \"semantic_type\": \"\",\n        \"description\": \"\"\n      }\n    },\n    {\n      \"column\": \"Precision\",\n      \"properties\": {\n        \"dtype\": \"string\",\n        \"num_unique_values\": 1,\n        \"samples\": [\n          \"[0.65114796 0.65550907]\"\n        ],\n        \"semantic_type\": \"\",\n        \"description\": \"\"\n      }\n    }\n  ]\n}"
            }
          },
          "metadata": {},
          "execution_count": 30
        }
      ]
    }
  ]
}