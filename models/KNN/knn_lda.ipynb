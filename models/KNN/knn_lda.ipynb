{
  "nbformat": 4,
  "nbformat_minor": 0,
  "metadata": {
    "colab": {
      "provenance": []
    },
    "kernelspec": {
      "name": "python3",
      "display_name": "Python 3"
    },
    "language_info": {
      "name": "python"
    }
  },
  "cells": [
    {
      "cell_type": "markdown",
      "source": [
        "# KNN Implementation on scaled reduced dataset with LDA"
      ],
      "metadata": {
        "id": "p3vENeSCORBx"
      }
    },
    {
      "cell_type": "code",
      "execution_count": null,
      "metadata": {
        "id": "F6Wq_jPzOMBw"
      },
      "outputs": [],
      "source": [
        "# Utilities\n",
        "import pandas as pd\n",
        "import warnings\n",
        "import numpy as np\n",
        "import matplotlib.pyplot as plt\n",
        "\n",
        "# Models\n",
        "from sklearn.model_selection import train_test_split, cross_val_score\n",
        "from sklearn.neighbors import KNeighborsClassifier\n",
        "from sklearn.model_selection import GridSearchCV\n",
        "from sklearn.metrics import accuracy_score, accuracy_score, f1_score\n",
        "from sklearn.metrics import classification_report, precision_score, recall_score, confusion_matrix, ConfusionMatrixDisplay"
      ]
    },
    {
      "cell_type": "code",
      "source": [
        "seed = 23"
      ],
      "metadata": {
        "id": "a40jVCpAOZvf"
      },
      "execution_count": null,
      "outputs": []
    },
    {
      "cell_type": "code",
      "source": [
        "df_scaled = pd.read_csv('../../Data/dataset_preprocessed.csv')"
      ],
      "metadata": {
        "id": "lq8af7RIOaX4"
      },
      "execution_count": null,
      "outputs": []
    },
    {
      "cell_type": "code",
      "source": [
        "df_lda = pd.read_csv('../../DimensionalityReductionData/lda.csv')"
      ],
      "metadata": {
        "id": "1iZv5xCfOdTU"
      },
      "execution_count": null,
      "outputs": []
    },
    {
      "cell_type": "code",
      "source": [
        "df_scaled = df_scaled[['averageRating']]\n",
        "df_scaled['LD1'] = df_lda['LD1']"
      ],
      "metadata": {
        "colab": {
          "base_uri": "https://localhost:8080/"
        },
        "id": "iVeFdu5TOiO9",
        "outputId": "bad09890-5849-43d6-f908-75cc4a07aa2d"
      },
      "execution_count": null,
      "outputs": [
        {
          "output_type": "stream",
          "name": "stderr",
          "text": [
            "<ipython-input-12-529454da6465>:2: SettingWithCopyWarning: \n",
            "A value is trying to be set on a copy of a slice from a DataFrame.\n",
            "Try using .loc[row_indexer,col_indexer] = value instead\n",
            "\n",
            "See the caveats in the documentation: https://pandas.pydata.org/pandas-docs/stable/user_guide/indexing.html#returning-a-view-versus-a-copy\n",
            "  df_scaled['LD1'] = df_lda['LD1']\n"
          ]
        }
      ]
    },
    {
      "cell_type": "code",
      "source": [
        "df_scaled_sample = df_scaled"
      ],
      "metadata": {
        "id": "3a_NdVESOlIe"
      },
      "execution_count": null,
      "outputs": []
    },
    {
      "cell_type": "code",
      "source": [
        "test_size = 0.2\n",
        "X_train, X_test, y_train, y_test = train_test_split(\n",
        "    df_scaled_sample.drop('averageRating', axis=1),\n",
        "    df_scaled_sample['averageRating'], test_size=test_size,\n",
        "    random_state=seed\n",
        ")"
      ],
      "metadata": {
        "id": "EOIjTmeFOlqA"
      },
      "execution_count": null,
      "outputs": []
    },
    {
      "cell_type": "code",
      "source": [
        "def calculate_metrics(model_name, y_true, y_pred):\n",
        "    metrics = {\n",
        "        'Accuracy': accuracy_score(y_true, y_pred),\n",
        "        'Weighted F1': f1_score(y_true, y_pred, average='weighted'),\n",
        "        'Weighted Precision': precision_score(y_true, y_pred, average='weighted', zero_division=0),\n",
        "        'Weighted Recall': recall_score(y_true, y_pred, average='weighted'),\n",
        "        'Macro-Averaged Precision': precision_score(y_true, y_pred, average='macro', zero_division=0),\n",
        "        'Macro-Averaged Recall': recall_score(y_true, y_pred, average='macro'),\n",
        "        'F1': str(f1_score(y_true, y_pred, average=None)),\n",
        "        'Precision': str( precision_score(y_true, y_pred, average=None, zero_division=0)),\n",
        "    }\n",
        "\n",
        "    # Print the metrics\n",
        "    print(f\"Metrics for {model_name}:\")\n",
        "    for metric_name, metric_value in metrics.items():\n",
        "        try:\n",
        "            print(f\"{metric_name}: {metric_value:.4f}\")\n",
        "        except:\n",
        "            print(f\"{metric_name}: {metric_value}\")\n",
        "\n",
        "    # Print the classification report\n",
        "    print(\"classification report\")\n",
        "    report = classification_report(y_true, y_pred, target_names=['Class 0', 'Class 1'], zero_division=0)\n",
        "    print(report)\n",
        "\n",
        "    print(\"Confusion Matrix\")\n",
        "    cm = confusion_matrix(y_true, y_pred)\n",
        "    cmd = ConfusionMatrixDisplay(confusion_matrix=cm)\n",
        "    cmd.plot()\n",
        "\n",
        "    plt.title(f'Confusion matrix for model {model_name} (Accuracy:{metrics[\"Accuracy\"]:.4f})')\n",
        "    plt.show()\n",
        "\n",
        "    # Create df to store metrics\n",
        "    df_metrics = pd.DataFrame(metrics, index=[model_name])\n",
        "\n",
        "    return df_metrics"
      ],
      "metadata": {
        "id": "2yDdQBjvPrvn"
      },
      "execution_count": null,
      "outputs": []
    },
    {
      "cell_type": "code",
      "source": [
        "model = KNeighborsClassifier()\n",
        "model.fit(X_train, y_train)\n",
        "\n",
        "predictions = model.predict(X_test)\n",
        "print(\"Accuracy:\", accuracy_score(y_test, predictions))\n",
        "\n",
        "print(\"F1 score:\", f1_score(y_test, predictions, average=None))"
      ],
      "metadata": {
        "colab": {
          "base_uri": "https://localhost:8080/"
        },
        "id": "lX90s7JpPyQo",
        "outputId": "b0df6386-2448-4ec2-9b41-de2ffaafaf80"
      },
      "execution_count": null,
      "outputs": [
        {
          "output_type": "stream",
          "name": "stdout",
          "text": [
            "Accuracy: 0.5892738174550299\n",
            "F1 score: [0.59928502 0.57874957]\n"
          ]
        }
      ]
    },
    {
      "cell_type": "code",
      "source": [
        "from sklearn.model_selection import GridSearchCV\n",
        "from sklearn.metrics import accuracy_score, f1_score\n",
        "\n",
        "param_grid = {\n",
        "    'n_neighbors': [3, 7, 15],\n",
        "    'p': [1, 2, 3, 4.3],\n",
        "    'n_jobs': [-1, 1]\n",
        "}\n",
        "\n",
        "model = KNeighborsClassifier()\n",
        "\n",
        "grid_search = GridSearchCV(estimator=model, param_grid=param_grid, cv=3, n_jobs=-1, verbose=2, scoring='accuracy')\n",
        "grid_search.fit(X_train, y_train)\n",
        "\n",
        "print(\"The parameters with the highest score: \", grid_search.best_params_)"
      ],
      "metadata": {
        "colab": {
          "base_uri": "https://localhost:8080/"
        },
        "id": "vXHOrNGEQEeN",
        "outputId": "7943af17-1c03-4dc6-ab15-d27c520d7487"
      },
      "execution_count": null,
      "outputs": [
        {
          "output_type": "stream",
          "name": "stdout",
          "text": [
            "Fitting 3 folds for each of 24 candidates, totalling 72 fits\n",
            "The parameters with the highest score:  {'n_jobs': -1, 'n_neighbors': 15, 'p': 1}\n"
          ]
        }
      ]
    },
    {
      "cell_type": "code",
      "source": [
        "cv_results_df = pd.DataFrame(grid_search.cv_results_)\n",
        "\n",
        "# Show top 10 parameters for this model\n",
        "minimalistic_results = cv_results_df[['params', 'mean_test_score']]\n",
        "sorted_results = minimalistic_results.sort_values(by='mean_test_score', ascending=False)\n",
        "\n",
        "print(sorted_results.head(10))"
      ],
      "metadata": {
        "colab": {
          "base_uri": "https://localhost:8080/"
        },
        "id": "5LwPCOYfQWqx",
        "outputId": "dbe3751a-8fa9-44f5-faa2-3c2aef7cfcf4"
      },
      "execution_count": null,
      "outputs": [
        {
          "output_type": "stream",
          "name": "stdout",
          "text": [
            "                                         params  mean_test_score\n",
            "23   {'n_jobs': 1, 'n_neighbors': 15, 'p': 4.3}         0.621460\n",
            "22     {'n_jobs': 1, 'n_neighbors': 15, 'p': 3}         0.621460\n",
            "21     {'n_jobs': 1, 'n_neighbors': 15, 'p': 2}         0.621460\n",
            "8     {'n_jobs': -1, 'n_neighbors': 15, 'p': 1}         0.621460\n",
            "9     {'n_jobs': -1, 'n_neighbors': 15, 'p': 2}         0.621460\n",
            "10    {'n_jobs': -1, 'n_neighbors': 15, 'p': 3}         0.621460\n",
            "11  {'n_jobs': -1, 'n_neighbors': 15, 'p': 4.3}         0.621460\n",
            "20     {'n_jobs': 1, 'n_neighbors': 15, 'p': 1}         0.621460\n",
            "16      {'n_jobs': 1, 'n_neighbors': 7, 'p': 1}         0.609797\n",
            "4      {'n_jobs': -1, 'n_neighbors': 7, 'p': 1}         0.609797\n"
          ]
        }
      ]
    },
    {
      "cell_type": "code",
      "source": [
        "best_model = grid_search.best_estimator_\n",
        "predictions = best_model.predict(X_test)\n",
        "_ = calculate_metrics('KNN-LDA-GS-CV1', y_test, predictions)"
      ],
      "metadata": {
        "colab": {
          "base_uri": "https://localhost:8080/",
          "height": 819
        },
        "id": "m91hWuMvQbNr",
        "outputId": "bc6fbc72-7908-438a-b9bb-d1d4834e6d31"
      },
      "execution_count": null,
      "outputs": [
        {
          "output_type": "stream",
          "name": "stdout",
          "text": [
            "Metrics for KNN-LDA-GS-CV1:\n",
            "Accuracy: 0.6336\n",
            "Weighted F1: 0.6337\n",
            "Weighted Precision: 0.6338\n",
            "Weighted Recall: 0.6336\n",
            "Macro-Averaged Precision: 0.6330\n",
            "Macro-Averaged Recall: 0.6331\n",
            "F1: [0.64720975 0.61884962]\n",
            "Precision: [0.65138799 0.6145905 ]\n",
            "classification report\n",
            "              precision    recall  f1-score   support\n",
            "\n",
            "     Class 0       0.65      0.64      0.65      1569\n",
            "     Class 1       0.61      0.62      0.62      1433\n",
            "\n",
            "    accuracy                           0.63      3002\n",
            "   macro avg       0.63      0.63      0.63      3002\n",
            "weighted avg       0.63      0.63      0.63      3002\n",
            "\n",
            "Confusion Matrix\n"
          ]
        },
        {
          "output_type": "display_data",
          "data": {
            "text/plain": [
              "<Figure size 640x480 with 2 Axes>"
            ],
            "image/png": "[encoded data removed]"
          },
          "metadata": {}
        }
      ]
    },
    {
      "cell_type": "code",
      "source": [
        "# Predicting using other alternatives of fine-tuning from top 10 performances\n",
        "other_alternatives = []\n",
        "# Choose a set of parameters from sorted_results\n",
        "for i in range(10):\n",
        "\n",
        "  params = sorted_results.iloc[i]['params']\n",
        "  print(\"Parameters from place: \", i, \" \", params)\n",
        "\n",
        "  model = KNeighborsClassifier(**params)\n",
        "  model.fit(X_train, y_train)\n",
        "\n",
        "  predictions = model.predict(X_test)\n",
        "\n",
        "  chosen_accuracy = accuracy_score(y_test, predictions)\n",
        "  print(\"Accuracy for chosen parameters:\", chosen_accuracy)\n",
        "  other_alternatives.append((chosen_accuracy,params))"
      ],
      "metadata": {
        "colab": {
          "base_uri": "https://localhost:8080/"
        },
        "id": "DemqNdWRQi0i",
        "outputId": "b2676dcc-c853-4874-cc32-b5ca252e074c"
      },
      "execution_count": null,
      "outputs": [
        {
          "output_type": "stream",
          "name": "stdout",
          "text": [
            "Parameters from place:  0   {'n_jobs': 1, 'n_neighbors': 15, 'p': 4.3}\n",
            "Accuracy for chosen parameters: 0.6335776149233844\n",
            "Parameters from place:  1   {'n_jobs': 1, 'n_neighbors': 15, 'p': 3}\n",
            "Accuracy for chosen parameters: 0.6335776149233844\n",
            "Parameters from place:  2   {'n_jobs': 1, 'n_neighbors': 15, 'p': 2}\n",
            "Accuracy for chosen parameters: 0.6335776149233844\n",
            "Parameters from place:  3   {'n_jobs': -1, 'n_neighbors': 15, 'p': 1}\n",
            "Accuracy for chosen parameters: 0.6335776149233844\n",
            "Parameters from place:  4   {'n_jobs': -1, 'n_neighbors': 15, 'p': 2}\n",
            "Accuracy for chosen parameters: 0.6335776149233844\n",
            "Parameters from place:  5   {'n_jobs': -1, 'n_neighbors': 15, 'p': 3}\n",
            "Accuracy for chosen parameters: 0.6335776149233844\n",
            "Parameters from place:  6   {'n_jobs': -1, 'n_neighbors': 15, 'p': 4.3}\n",
            "Accuracy for chosen parameters: 0.6335776149233844\n",
            "Parameters from place:  7   {'n_jobs': 1, 'n_neighbors': 15, 'p': 1}\n",
            "Accuracy for chosen parameters: 0.6335776149233844\n",
            "Parameters from place:  8   {'n_jobs': 1, 'n_neighbors': 7, 'p': 1}\n",
            "Accuracy for chosen parameters: 0.6115922718187875\n",
            "Parameters from place:  9   {'n_jobs': -1, 'n_neighbors': 7, 'p': 1}\n",
            "Accuracy for chosen parameters: 0.6115922718187875\n"
          ]
        }
      ]
    },
    {
      "cell_type": "code",
      "source": [
        "# get best from top 10\n",
        "best_tuple = max(other_alternatives, key=lambda x: x[0])"
      ],
      "metadata": {
        "id": "e65wajCRQqJZ"
      },
      "execution_count": null,
      "outputs": []
    },
    {
      "cell_type": "code",
      "source": [
        "print(\"Best accuracy and parameters after running the algorithm using other alternatives of fine tuning from top 10 performances\")\n",
        "print(best_tuple[0])\n",
        "print(best_tuple[1])"
      ],
      "metadata": {
        "colab": {
          "base_uri": "https://localhost:8080/"
        },
        "id": "utq94_W0QtY1",
        "outputId": "53cd2e0a-d440-4ead-8cf7-b205b6b31f12"
      },
      "execution_count": null,
      "outputs": [
        {
          "output_type": "stream",
          "name": "stdout",
          "text": [
            "Best accuracy and parameters after running the algorithm using other alternatives of fine tuning from top 10 performances\n",
            "0.6335776149233844\n",
            "{'n_jobs': 1, 'n_neighbors': 15, 'p': 4.3}\n"
          ]
        }
      ]
    },
    {
      "cell_type": "code",
      "source": [
        "# Run on training sample\n",
        "\n",
        "# Choose a set of parameters from sorted_results\n",
        "for i in range(10):\n",
        "\n",
        "  params = sorted_results.iloc[i]['params']\n",
        "  print(\"Parameters from place: \", i, \" \", params)\n",
        "\n",
        "  model = KNeighborsClassifier(**params)\n",
        "  model.fit(X_train, y_train)\n",
        "\n",
        "  predictions = model.predict(X_train)\n",
        "\n",
        "  chosen_accuracy = accuracy_score(y_train, predictions)\n",
        "  print(\"Accuracy for chosen parameters:\", chosen_accuracy)"
      ],
      "metadata": {
        "colab": {
          "base_uri": "https://localhost:8080/"
        },
        "id": "Wl3mjkMPQwGk",
        "outputId": "78693496-004d-49a9-e865-8e7f6f972ea8"
      },
      "execution_count": null,
      "outputs": [
        {
          "output_type": "stream",
          "name": "stdout",
          "text": [
            "Parameters from place:  0   {'n_jobs': 1, 'n_neighbors': 15, 'p': 4.3}\n",
            "Accuracy for chosen parameters: 0.6808563812062646\n",
            "Parameters from place:  1   {'n_jobs': 1, 'n_neighbors': 15, 'p': 3}\n",
            "Accuracy for chosen parameters: 0.6808563812062646\n",
            "Parameters from place:  2   {'n_jobs': 1, 'n_neighbors': 15, 'p': 2}\n",
            "Accuracy for chosen parameters: 0.6808563812062646\n",
            "Parameters from place:  3   {'n_jobs': -1, 'n_neighbors': 15, 'p': 1}\n",
            "Accuracy for chosen parameters: 0.6808563812062646\n",
            "Parameters from place:  4   {'n_jobs': -1, 'n_neighbors': 15, 'p': 2}\n",
            "Accuracy for chosen parameters: 0.6808563812062646\n",
            "Parameters from place:  5   {'n_jobs': -1, 'n_neighbors': 15, 'p': 3}\n",
            "Accuracy for chosen parameters: 0.6808563812062646\n",
            "Parameters from place:  6   {'n_jobs': -1, 'n_neighbors': 15, 'p': 4.3}\n",
            "Accuracy for chosen parameters: 0.6808563812062646\n",
            "Parameters from place:  7   {'n_jobs': 1, 'n_neighbors': 15, 'p': 1}\n",
            "Accuracy for chosen parameters: 0.6808563812062646\n",
            "Parameters from place:  8   {'n_jobs': 1, 'n_neighbors': 7, 'p': 1}\n",
            "Accuracy for chosen parameters: 0.7113462179273575\n",
            "Parameters from place:  9   {'n_jobs': -1, 'n_neighbors': 7, 'p': 1}\n",
            "Accuracy for chosen parameters: 0.7113462179273575\n"
          ]
        }
      ]
    }
  ]
}