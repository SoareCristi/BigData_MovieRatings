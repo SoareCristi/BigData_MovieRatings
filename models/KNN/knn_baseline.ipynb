{
  "nbformat": 4,
  "nbformat_minor": 0,
  "metadata": {
    "colab": {
      "provenance": []
    },
    "kernelspec": {
      "name": "python3",
      "display_name": "Python 3"
    },
    "language_info": {
      "name": "python"
    }
  },
  "cells": [
    {
      "cell_type": "markdown",
      "source": [
        "# KNN Implementation on scaled non-reduced dataset"
      ],
      "metadata": {
        "id": "QF65ndPhC5RT"
      }
    },
    {
      "cell_type": "code",
      "execution_count": 1,
      "metadata": {
        "id": "xoY9RZCo-j3M",
        "colab": {
          "base_uri": "https://localhost:8080/"
        },
        "outputId": "831f2f52-4a78-4989-eb65-62caceb9df22"
      },
      "outputs": [
        {
          "output_type": "stream",
          "name": "stdout",
          "text": [
            "Collecting optuna\n",
            "  Downloading optuna-3.6.1-py3-none-any.whl (380 kB)\n",
            "\u001b[2K     \u001b[90m━━━━━━━━━━━━━━━━━━━━━━━━━━━━━━━━━━━━━━━━\u001b[0m \u001b[32m380.1/380.1 kB\u001b[0m \u001b[31m4.2 MB/s\u001b[0m eta \u001b[36m0:00:00\u001b[0m\n",
            "\u001b[?25hCollecting alembic>=1.5.0 (from optuna)\n",
            "  Downloading alembic-1.13.1-py3-none-any.whl (233 kB)\n",
            "\u001b[2K     \u001b[90m━━━━━━━━━━━━━━━━━━━━━━━━━━━━━━━━━━━━━━━━\u001b[0m \u001b[32m233.4/233.4 kB\u001b[0m \u001b[31m16.7 MB/s\u001b[0m eta \u001b[36m0:00:00\u001b[0m\n",
            "\u001b[?25hCollecting colorlog (from optuna)\n",
            "  Downloading colorlog-6.8.2-py3-none-any.whl (11 kB)\n",
            "Requirement already satisfied: numpy in /usr/local/lib/python3.10/dist-packages (from optuna) (1.25.2)\n",
            "Requirement already satisfied: packaging>=20.0 in /usr/local/lib/python3.10/dist-packages (from optuna) (24.0)\n",
            "Requirement already satisfied: sqlalchemy>=1.3.0 in /usr/local/lib/python3.10/dist-packages (from optuna) (2.0.30)\n",
            "Requirement already satisfied: tqdm in /usr/local/lib/python3.10/dist-packages (from optuna) (4.66.4)\n",
            "Requirement already satisfied: PyYAML in /usr/local/lib/python3.10/dist-packages (from optuna) (6.0.1)\n",
            "Collecting Mako (from alembic>=1.5.0->optuna)\n",
            "  Downloading Mako-1.3.5-py3-none-any.whl (78 kB)\n",
            "\u001b[2K     \u001b[90m━━━━━━━━━━━━━━━━━━━━━━━━━━━━━━━━━━━━━━━━\u001b[0m \u001b[32m78.6/78.6 kB\u001b[0m \u001b[31m4.3 MB/s\u001b[0m eta \u001b[36m0:00:00\u001b[0m\n",
            "\u001b[?25hRequirement already satisfied: typing-extensions>=4 in /usr/local/lib/python3.10/dist-packages (from alembic>=1.5.0->optuna) (4.12.1)\n",
            "Requirement already satisfied: greenlet!=0.4.17 in /usr/local/lib/python3.10/dist-packages (from sqlalchemy>=1.3.0->optuna) (3.0.3)\n",
            "Requirement already satisfied: MarkupSafe>=0.9.2 in /usr/local/lib/python3.10/dist-packages (from Mako->alembic>=1.5.0->optuna) (2.1.5)\n",
            "Installing collected packages: Mako, colorlog, alembic, optuna\n",
            "Successfully installed Mako-1.3.5 alembic-1.13.1 colorlog-6.8.2 optuna-3.6.1\n"
          ]
        }
      ],
      "source": [
        "# Utilities\n",
        "import pandas as pd\n",
        "import warnings\n",
        "import numpy as np\n",
        "import matplotlib.pyplot as plt\n",
        "\n",
        "# Models\n",
        "!pip install optuna\n",
        "import optuna\n",
        "from sklearn.model_selection import train_test_split, cross_val_score\n",
        "from sklearn.ensemble import RandomForestClassifier\n",
        "from sklearn.model_selection import GridSearchCV\n",
        "from sklearn.metrics import accuracy_score, accuracy_score, f1_score\n",
        "from sklearn.metrics import classification_report, precision_score, recall_score, confusion_matrix, ConfusionMatrixDisplay"
      ]
    },
    {
      "cell_type": "code",
      "source": [
        "seed = 23"
      ],
      "metadata": {
        "id": "hcaPkhIX-4oC"
      },
      "execution_count": 2,
      "outputs": []
    },
    {
      "cell_type": "code",
      "source": [
        "df_scaled = pd.read_csv('../../Data/dataset_preprocessed.csv')"
      ],
      "metadata": {
        "id": "P2dGYm6X-7Rs"
      },
      "execution_count": 3,
      "outputs": []
    },
    {
      "cell_type": "code",
      "source": [
        "df_scaled_sample = df_scaled"
      ],
      "metadata": {
        "id": "vFrSKchf-_M7"
      },
      "execution_count": 4,
      "outputs": []
    },
    {
      "cell_type": "code",
      "source": [
        "test_size = 0.2\n",
        "X_train, X_test, y_train, y_test = train_test_split(\n",
        "    df_scaled_sample.drop('averageRating', axis=1),\n",
        "    df_scaled_sample['averageRating'], test_size=test_size,\n",
        "    random_state=seed\n",
        ")"
      ],
      "metadata": {
        "id": "J8ZOOPTl_EJ4"
      },
      "execution_count": 5,
      "outputs": []
    },
    {
      "cell_type": "code",
      "source": [
        "def calculate_metrics(model_name, y_true, y_pred):\n",
        "    metrics = {\n",
        "        'Accuracy': accuracy_score(y_true, y_pred),\n",
        "        'Weighted F1': f1_score(y_true, y_pred, average='weighted'),\n",
        "        'Weighted Precision': precision_score(y_true, y_pred, average='weighted', zero_division=0),\n",
        "        'Weighted Recall': recall_score(y_true, y_pred, average='weighted'),\n",
        "        'Macro-Averaged Precision': precision_score(y_true, y_pred, average='macro', zero_division=0),\n",
        "        'Macro-Averaged Recall': recall_score(y_true, y_pred, average='macro'),\n",
        "        'F1': str(f1_score(y_true, y_pred, average=None)),\n",
        "        'Precision': str( precision_score(y_true, y_pred, average=None, zero_division=0)),\n",
        "    }\n",
        "\n",
        "    # Print the metrics\n",
        "    print(f\"Metrics for {model_name}:\")\n",
        "    for metric_name, metric_value in metrics.items():\n",
        "        try:\n",
        "            print(f\"{metric_name}: {metric_value:.4f}\")\n",
        "        except:\n",
        "            print(f\"{metric_name}: {metric_value}\")\n",
        "\n",
        "    # Print the classification report\n",
        "    print(\"classification report\")\n",
        "    report = classification_report(y_true, y_pred, target_names=['Class 0', 'Class 1'], zero_division=0)\n",
        "    print(report)\n",
        "\n",
        "    print(\"Confusion Matrix\")\n",
        "    cm = confusion_matrix(y_true, y_pred)\n",
        "    cmd = ConfusionMatrixDisplay(confusion_matrix=cm)\n",
        "    cmd.plot()\n",
        "\n",
        "    plt.title(f'Confusion matrix for model {model_name} (Accuracy:{metrics[\"Accuracy\"]:.4f})')\n",
        "    plt.show()\n",
        "\n",
        "    # Create df to store metrics\n",
        "    df_metrics = pd.DataFrame(metrics, index=[model_name])\n",
        "\n",
        "    return df_metrics"
      ],
      "metadata": {
        "id": "UOZYlGrP_GQe"
      },
      "execution_count": 6,
      "outputs": []
    },
    {
      "cell_type": "code",
      "source": [
        "from sklearn.neighbors import KNeighborsClassifier\n",
        "from sklearn.model_selection import GridSearchCV\n",
        "from sklearn.metrics import accuracy_score, f1_score\n",
        "\n",
        "param_grid = {\n",
        "    'n_neighbors': [3, 7, 15],\n",
        "    'p': [1, 2, 3, 4.3],\n",
        "    'n_jobs': [-1, 1]\n",
        "}\n",
        "\n",
        "model = KNeighborsClassifier()\n",
        "\n",
        "grid_search = GridSearchCV(estimator=model, param_grid=param_grid, cv=3, n_jobs=-1, verbose=2, scoring='accuracy')\n",
        "grid_search.fit(X_train, y_train)\n",
        "\n",
        "print(\"The parameters with the highest score: \", grid_search.best_params_)\n",
        "\n",
        "best_model = grid_search.best_estimator_\n",
        "predictions = best_model.predict(X_test)\n",
        "\n",
        "print(\"Accuracy achieved for best parameters:\", accuracy_score(y_test, predictions))\n",
        "print(\"F1 score for best parameters:\", f1_score(y_test, predictions, average=None))"
      ],
      "metadata": {
        "colab": {
          "base_uri": "https://localhost:8080/"
        },
        "id": "fy-M0xqS_Rbj",
        "outputId": "875a42ec-5e79-4260-b682-dab058883d10"
      },
      "execution_count": 7,
      "outputs": [
        {
          "output_type": "stream",
          "name": "stdout",
          "text": [
            "Fitting 3 folds for each of 24 candidates, totalling 72 fits\n",
            "The parameters with the highest score:  {'n_jobs': -1, 'n_neighbors': 15, 'p': 1}\n",
            "Accuracy achieved for best parameters: 0.7205196535642905\n",
            "F1 score for best parameters: [0.73789441 0.70067785]\n"
          ]
        }
      ]
    },
    {
      "cell_type": "code",
      "source": [
        "print(\"The parameters with the highest score: \", grid_search.best_params_)\n",
        "\n",
        "best_model = grid_search.best_estimator_\n",
        "predictions = best_model.predict(X_test)\n",
        "_ = calculate_metrics('KNN-GS-CV1', y_test, predictions)"
      ],
      "metadata": {
        "id": "fDl1VtQn_bl7",
        "colab": {
          "base_uri": "https://localhost:8080/",
          "height": 837
        },
        "outputId": "62ad89f5-6053-46f9-8256-a65752ec88b9"
      },
      "execution_count": 8,
      "outputs": [
        {
          "output_type": "stream",
          "name": "stdout",
          "text": [
            "The parameters with the highest score:  {'n_jobs': -1, 'n_neighbors': 15, 'p': 1}\n",
            "Metrics for KNN-GS-CV1:\n",
            "Accuracy: 0.7205\n",
            "Weighted F1: 0.7201\n",
            "Weighted Precision: 0.7204\n",
            "Weighted Recall: 0.7205\n",
            "Macro-Averaged Precision: 0.7202\n",
            "Macro-Averaged Recall: 0.7190\n",
            "F1: [0.73789441 0.70067785]\n",
            "Precision: [0.72365196 0.71678832]\n",
            "classification report\n",
            "              precision    recall  f1-score   support\n",
            "\n",
            "     Class 0       0.72      0.75      0.74      1569\n",
            "     Class 1       0.72      0.69      0.70      1433\n",
            "\n",
            "    accuracy                           0.72      3002\n",
            "   macro avg       0.72      0.72      0.72      3002\n",
            "weighted avg       0.72      0.72      0.72      3002\n",
            "\n",
            "Confusion Matrix\n"
          ]
        },
        {
          "output_type": "display_data",
          "data": {
            "text/plain": [
              "<Figure size 640x480 with 2 Axes>"
            ],
            "image/png": "[encoded data removed]"
          },
          "metadata": {}
        }
      ]
    },
    {
      "cell_type": "code",
      "source": [
        "import pandas as pd\n",
        "\n",
        "cv_results_df = pd.DataFrame(grid_search.cv_results_)\n",
        "\n",
        "# Show top 10 parameters for this model => best parameters = no parameters :D\n",
        "minimalistic_results = cv_results_df[['params', 'mean_test_score']]\n",
        "sorted_results = minimalistic_results.sort_values(by='mean_test_score', ascending=False)\n",
        "\n",
        "print(sorted_results.head(10))"
      ],
      "metadata": {
        "id": "c2Ag1oNq_UPq",
        "colab": {
          "base_uri": "https://localhost:8080/"
        },
        "outputId": "c3c7b12c-9b9c-4443-d96b-e8e9b25fa2bf"
      },
      "execution_count": 9,
      "outputs": [
        {
          "output_type": "stream",
          "name": "stdout",
          "text": [
            "                                         params  mean_test_score\n",
            "8     {'n_jobs': -1, 'n_neighbors': 15, 'p': 1}         0.709098\n",
            "20     {'n_jobs': 1, 'n_neighbors': 15, 'p': 1}         0.709098\n",
            "16      {'n_jobs': 1, 'n_neighbors': 7, 'p': 1}         0.704599\n",
            "4      {'n_jobs': -1, 'n_neighbors': 7, 'p': 1}         0.704599\n",
            "21     {'n_jobs': 1, 'n_neighbors': 15, 'p': 2}         0.701684\n",
            "9     {'n_jobs': -1, 'n_neighbors': 15, 'p': 2}         0.701684\n",
            "22     {'n_jobs': 1, 'n_neighbors': 15, 'p': 3}         0.700850\n",
            "10    {'n_jobs': -1, 'n_neighbors': 15, 'p': 3}         0.700850\n",
            "23   {'n_jobs': 1, 'n_neighbors': 15, 'p': 4.3}         0.698768\n",
            "11  {'n_jobs': -1, 'n_neighbors': 15, 'p': 4.3}         0.698768\n"
          ]
        }
      ]
    },
    {
      "cell_type": "code",
      "source": [
        "for i in range(10):\n",
        "\n",
        "  params = sorted_results.iloc[i]['params']\n",
        "  print(\"Parameters from place: \", i, \" \", params)\n",
        "\n",
        "  model = KNeighborsClassifier(**params)\n",
        "  model.fit(X_train, y_train)\n",
        "\n",
        "  predictions = model.predict(X_test)\n",
        "\n",
        "  chosen_accuracy = accuracy_score(y_test, predictions)\n",
        "  print(\"Accuracy for chosen parameters:\", chosen_accuracy)"
      ],
      "metadata": {
        "id": "W6tgSdB6_Wqm",
        "colab": {
          "base_uri": "https://localhost:8080/"
        },
        "outputId": "3e3ced51-1712-4145-ae7c-ca4dd975987d"
      },
      "execution_count": null,
      "outputs": [
        {
          "output_type": "stream",
          "name": "stdout",
          "text": [
            "Parameters from place:  0   {'n_jobs': -1, 'n_neighbors': 15, 'p': 1}\n",
            "Accuracy for chosen parameters: 0.7205196535642905\n",
            "Parameters from place:  1   {'n_jobs': 1, 'n_neighbors': 15, 'p': 1}\n"
          ]
        }
      ]
    },
    {
      "cell_type": "code",
      "source": [
        "import numpy as np\n",
        "from sklearn.model_selection import RandomizedSearchCV\n",
        "from sklearn.neighbors import KNeighborsClassifier\n",
        "from sklearn.metrics import accuracy_score, f1_score\n",
        "from scipy.stats import expon, randint, uniform\n",
        "\n",
        "parameter={'n_neighbors': np.arange(2, 30, 1)}\n",
        "\n",
        "model = KNeighborsClassifier()\n",
        "random_search = RandomizedSearchCV(estimator=model, param_distributions=parameter, n_iter=50, cv=4, verbose=2, random_state=42, n_jobs=-1, scoring='accuracy')\n",
        "random_search.fit(X_train, y_train)\n",
        "\n",
        "print(\"Best parameters found: \", random_search.best_params_)\n",
        "best_model = random_search.best_estimator_\n",
        "\n",
        "predictions = best_model.predict(X_test)\n",
        "\n",
        "# Evaluate the best model\n",
        "accuracy = accuracy_score(y_test, predictions)\n",
        "f1 = f1_score(y_test, predictions, average=None)\n",
        "\n",
        "print(\"Accuracy for best parameters:\", accuracy)\n",
        "print(\"F1 score for best parameters:\", f1)"
      ],
      "metadata": {
        "id": "ebhDwrgT_ZMw",
        "colab": {
          "base_uri": "https://localhost:8080/"
        },
        "outputId": "235476a9-b3b3-43e3-d558-723c0e1c6abf"
      },
      "execution_count": 12,
      "outputs": [
        {
          "output_type": "stream",
          "name": "stdout",
          "text": [
            "Fitting 4 folds for each of 28 candidates, totalling 112 fits\n"
          ]
        },
        {
          "output_type": "stream",
          "name": "stderr",
          "text": [
            "/usr/local/lib/python3.10/dist-packages/sklearn/model_selection/_search.py:305: UserWarning: The total space of parameters 28 is smaller than n_iter=50. Running 28 iterations. For exhaustive searches, use GridSearchCV.\n",
            "  warnings.warn(\n"
          ]
        },
        {
          "output_type": "stream",
          "name": "stdout",
          "text": [
            "Best parameters found:  {'n_neighbors': 11}\n",
            "Accuracy for best parameters: 0.7128580946035976\n",
            "F1 score for best parameters: [0.72978056 0.69367448]\n"
          ]
        }
      ]
    }
  ]
}