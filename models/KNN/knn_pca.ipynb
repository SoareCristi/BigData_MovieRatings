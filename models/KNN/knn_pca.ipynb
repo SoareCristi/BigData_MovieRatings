{
  "nbformat": 4,
  "nbformat_minor": 0,
  "metadata": {
    "colab": {
      "provenance": []
    },
    "kernelspec": {
      "name": "python3",
      "display_name": "Python 3"
    },
    "language_info": {
      "name": "python"
    }
  },
  "cells": [
    {
      "cell_type": "markdown",
      "source": [
        "# KNN Implementation on scaled reduced dataset with PCA"
      ],
      "metadata": {
        "id": "WPidFWl1SHYu"
      }
    },
    {
      "cell_type": "code",
      "execution_count": null,
      "metadata": {
        "id": "Pl_WnCO5RnNp"
      },
      "outputs": [],
      "source": [
        "# Utilities\n",
        "import pandas as pd\n",
        "import warnings\n",
        "import numpy as np\n",
        "import matplotlib.pyplot as plt\n",
        "\n",
        "# Models\n",
        "from sklearn.model_selection import train_test_split, cross_val_score\n",
        "from sklearn.neighbors import KNeighborsClassifier\n",
        "from sklearn.model_selection import GridSearchCV\n",
        "from sklearn.metrics import accuracy_score, accuracy_score, f1_score\n",
        "from sklearn.metrics import classification_report, precision_score, recall_score, confusion_matrix, ConfusionMatrixDisplay"
      ]
    },
    {
      "cell_type": "code",
      "source": [
        "df_scaled = pd.read_csv('../../Data/dataset_preprocessed.csv')"
      ],
      "metadata": {
        "id": "GGgFnGZrR7i0"
      },
      "execution_count": null,
      "outputs": []
    },
    {
      "cell_type": "code",
      "source": [
        "df_pca = pd.read_csv('../../DimensionalityReductionData/PCA.csv')"
      ],
      "metadata": {
        "id": "cym78Cw7R9xk"
      },
      "execution_count": null,
      "outputs": []
    },
    {
      "cell_type": "code",
      "source": [
        "df_scaled_copy = df_scaled[['averageRating']]\n",
        "df_scaled = df_pca\n",
        "df_scaled['averageRating'] = df_scaled_copy['averageRating']\n",
        "del df_scaled_copy"
      ],
      "metadata": {
        "id": "BG5VEKEWR_mK"
      },
      "execution_count": null,
      "outputs": []
    },
    {
      "cell_type": "code",
      "source": [
        "df_scaled.head()"
      ],
      "metadata": {
        "colab": {
          "base_uri": "https://localhost:8080/",
          "height": 226
        },
        "id": "oQZtpzfUSB-E",
        "outputId": "d4dee482-a7bb-4596-88ff-08c2959badf9"
      },
      "execution_count": null,
      "outputs": [
        {
          "output_type": "execute_result",
          "data": {
            "text/plain": [
              "        PC1       PC2       PC3       PC4       PC5       PC6       PC7  \\\n",
              "0  0.073496  0.581127 -0.306591 -0.458056 -0.326569 -0.432148  0.285284   \n",
              "1 -0.674232  0.297946  0.299652 -0.247368  0.350443  0.430246 -0.511015   \n",
              "2 -0.602295 -0.213501 -0.367282  0.446712 -0.379628  0.201488  0.226710   \n",
              "3 -0.308130 -0.303248 -0.099318 -0.550675  0.147219 -0.608601 -0.045995   \n",
              "4 -0.548584 -0.107256  0.301375 -0.134301 -0.221954 -0.139591 -0.175504   \n",
              "\n",
              "        PC8       PC9      PC10      PC11      PC12      PC13      PC14  \\\n",
              "0  0.120601 -0.382754 -0.220533 -0.173304 -0.237751 -0.278836 -0.255647   \n",
              "1  0.180800 -0.014047 -0.185657  0.105798 -0.102234 -0.070109  0.002179   \n",
              "2  0.332919 -0.030743 -0.052051  0.197735 -0.145173  0.140576  0.062989   \n",
              "3  0.519164  0.094052 -0.122320  0.207885 -0.691366 -0.326278 -0.371787   \n",
              "4 -0.064892  0.043229 -0.271392  0.054528 -0.095603 -0.064297  0.011336   \n",
              "\n",
              "       PC15      PC16      PC17      PC18  averageRating  \n",
              "0 -0.126061 -0.138865  0.025244 -0.275903            1.0  \n",
              "1  0.138295  0.010346  0.088212  0.026563            0.0  \n",
              "2 -0.117784  0.002612 -0.020744  0.096351            1.0  \n",
              "3 -0.147163  0.056105 -0.315359 -0.211726            0.0  \n",
              "4  0.107454 -0.038404  0.111143  0.080739            0.0  "
            ],
            "text/html": [
              "\n",
              "  <div id=\"df-ceef85db-9c60-44c1-90ed-26e9a3fb370d\" class=\"colab-df-container\">\n",
              "    <div>\n",
              "<style scoped>\n",
              "    .dataframe tbody tr th:only-of-type {\n",
              "        vertical-align: middle;\n",
              "    }\n",
              "\n",
              "    .dataframe tbody tr th {\n",
              "        vertical-align: top;\n",
              "    }\n",
              "\n",
              "    .dataframe thead th {\n",
              "        text-align: right;\n",
              "    }\n",
              "</style>\n",
              "<table border=\"1\" class=\"dataframe\">\n",
              "  <thead>\n",
              "    <tr style=\"text-align: right;\">\n",
              "      <th></th>\n",
              "      <th>PC1</th>\n",
              "      <th>PC2</th>\n",
              "      <th>PC3</th>\n",
              "      <th>PC4</th>\n",
              "      <th>PC5</th>\n",
              "      <th>PC6</th>\n",
              "      <th>PC7</th>\n",
              "      <th>PC8</th>\n",
              "      <th>PC9</th>\n",
              "      <th>PC10</th>\n",
              "      <th>PC11</th>\n",
              "      <th>PC12</th>\n",
              "      <th>PC13</th>\n",
              "      <th>PC14</th>\n",
              "      <th>PC15</th>\n",
              "      <th>PC16</th>\n",
              "      <th>PC17</th>\n",
              "      <th>PC18</th>\n",
              "      <th>averageRating</th>\n",
              "    </tr>\n",
              "  </thead>\n",
              "  <tbody>\n",
              "    <tr>\n",
              "      <th>0</th>\n",
              "      <td>0.073496</td>\n",
              "      <td>0.581127</td>\n",
              "      <td>-0.306591</td>\n",
              "      <td>-0.458056</td>\n",
              "      <td>-0.326569</td>\n",
              "      <td>-0.432148</td>\n",
              "      <td>0.285284</td>\n",
              "      <td>0.120601</td>\n",
              "      <td>-0.382754</td>\n",
              "      <td>-0.220533</td>\n",
              "      <td>-0.173304</td>\n",
              "      <td>-0.237751</td>\n",
              "      <td>-0.278836</td>\n",
              "      <td>-0.255647</td>\n",
              "      <td>-0.126061</td>\n",
              "      <td>-0.138865</td>\n",
              "      <td>0.025244</td>\n",
              "      <td>-0.275903</td>\n",
              "      <td>1.0</td>\n",
              "    </tr>\n",
              "    <tr>\n",
              "      <th>1</th>\n",
              "      <td>-0.674232</td>\n",
              "      <td>0.297946</td>\n",
              "      <td>0.299652</td>\n",
              "      <td>-0.247368</td>\n",
              "      <td>0.350443</td>\n",
              "      <td>0.430246</td>\n",
              "      <td>-0.511015</td>\n",
              "      <td>0.180800</td>\n",
              "      <td>-0.014047</td>\n",
              "      <td>-0.185657</td>\n",
              "      <td>0.105798</td>\n",
              "      <td>-0.102234</td>\n",
              "      <td>-0.070109</td>\n",
              "      <td>0.002179</td>\n",
              "      <td>0.138295</td>\n",
              "      <td>0.010346</td>\n",
              "      <td>0.088212</td>\n",
              "      <td>0.026563</td>\n",
              "      <td>0.0</td>\n",
              "    </tr>\n",
              "    <tr>\n",
              "      <th>2</th>\n",
              "      <td>-0.602295</td>\n",
              "      <td>-0.213501</td>\n",
              "      <td>-0.367282</td>\n",
              "      <td>0.446712</td>\n",
              "      <td>-0.379628</td>\n",
              "      <td>0.201488</td>\n",
              "      <td>0.226710</td>\n",
              "      <td>0.332919</td>\n",
              "      <td>-0.030743</td>\n",
              "      <td>-0.052051</td>\n",
              "      <td>0.197735</td>\n",
              "      <td>-0.145173</td>\n",
              "      <td>0.140576</td>\n",
              "      <td>0.062989</td>\n",
              "      <td>-0.117784</td>\n",
              "      <td>0.002612</td>\n",
              "      <td>-0.020744</td>\n",
              "      <td>0.096351</td>\n",
              "      <td>1.0</td>\n",
              "    </tr>\n",
              "    <tr>\n",
              "      <th>3</th>\n",
              "      <td>-0.308130</td>\n",
              "      <td>-0.303248</td>\n",
              "      <td>-0.099318</td>\n",
              "      <td>-0.550675</td>\n",
              "      <td>0.147219</td>\n",
              "      <td>-0.608601</td>\n",
              "      <td>-0.045995</td>\n",
              "      <td>0.519164</td>\n",
              "      <td>0.094052</td>\n",
              "      <td>-0.122320</td>\n",
              "      <td>0.207885</td>\n",
              "      <td>-0.691366</td>\n",
              "      <td>-0.326278</td>\n",
              "      <td>-0.371787</td>\n",
              "      <td>-0.147163</td>\n",
              "      <td>0.056105</td>\n",
              "      <td>-0.315359</td>\n",
              "      <td>-0.211726</td>\n",
              "      <td>0.0</td>\n",
              "    </tr>\n",
              "    <tr>\n",
              "      <th>4</th>\n",
              "      <td>-0.548584</td>\n",
              "      <td>-0.107256</td>\n",
              "      <td>0.301375</td>\n",
              "      <td>-0.134301</td>\n",
              "      <td>-0.221954</td>\n",
              "      <td>-0.139591</td>\n",
              "      <td>-0.175504</td>\n",
              "      <td>-0.064892</td>\n",
              "      <td>0.043229</td>\n",
              "      <td>-0.271392</td>\n",
              "      <td>0.054528</td>\n",
              "      <td>-0.095603</td>\n",
              "      <td>-0.064297</td>\n",
              "      <td>0.011336</td>\n",
              "      <td>0.107454</td>\n",
              "      <td>-0.038404</td>\n",
              "      <td>0.111143</td>\n",
              "      <td>0.080739</td>\n",
              "      <td>0.0</td>\n",
              "    </tr>\n",
              "  </tbody>\n",
              "</table>\n",
              "</div>\n",
              "    <div class=\"colab-df-buttons\">\n",
              "\n",
              "  <div class=\"colab-df-container\">\n",
              "    <button class=\"colab-df-convert\" onclick=\"convertToInteractive('df-ceef85db-9c60-44c1-90ed-26e9a3fb370d')\"\n",
              "            title=\"Convert this dataframe to an interactive table.\"\n",
              "            style=\"display:none;\">\n",
              "\n",
              "  <svg xmlns=\"http://www.w3.org/2000/svg\" height=\"24px\" viewBox=\"0 -960 960 960\">\n",
              "    <path d=\"M120-120v-720h720v720H120Zm60-500h600v-160H180v160Zm220 220h160v-160H400v160Zm0 220h160v-160H400v160ZM180-400h160v-160H180v160Zm440 0h160v-160H620v160ZM180-180h160v-160H180v160Zm440 0h160v-160H620v160Z\"/>\n",
              "  </svg>\n",
              "    </button>\n",
              "\n",
              "  <style>\n",
              "    .colab-df-container {\n",
              "      display:flex;\n",
              "      gap: 12px;\n",
              "    }\n",
              "\n",
              "    .colab-df-convert {\n",
              "      background-color: #E8F0FE;\n",
              "      border: none;\n",
              "      border-radius: 50%;\n",
              "      cursor: pointer;\n",
              "      display: none;\n",
              "      fill: #1967D2;\n",
              "      height: 32px;\n",
              "      padding: 0 0 0 0;\n",
              "      width: 32px;\n",
              "    }\n",
              "\n",
              "    .colab-df-convert:hover {\n",
              "      background-color: #E2EBFA;\n",
              "      box-shadow: 0px 1px 2px rgba(60, 64, 67, 0.3), 0px 1px 3px 1px rgba(60, 64, 67, 0.15);\n",
              "      fill: #174EA6;\n",
              "    }\n",
              "\n",
              "    .colab-df-buttons div {\n",
              "      margin-bottom: 4px;\n",
              "    }\n",
              "\n",
              "    [theme=dark] .colab-df-convert {\n",
              "      background-color: #3B4455;\n",
              "      fill: #D2E3FC;\n",
              "    }\n",
              "\n",
              "    [theme=dark] .colab-df-convert:hover {\n",
              "      background-color: #434B5C;\n",
              "      box-shadow: 0px 1px 3px 1px rgba(0, 0, 0, 0.15);\n",
              "      filter: drop-shadow(0px 1px 2px rgba(0, 0, 0, 0.3));\n",
              "      fill: #FFFFFF;\n",
              "    }\n",
              "  </style>\n",
              "\n",
              "    <script>\n",
              "      const buttonEl =\n",
              "        document.querySelector('#df-ceef85db-9c60-44c1-90ed-26e9a3fb370d button.colab-df-convert');\n",
              "      buttonEl.style.display =\n",
              "        google.colab.kernel.accessAllowed ? 'block' : 'none';\n",
              "\n",
              "      async function convertToInteractive(key) {\n",
              "        const element = document.querySelector('#df-ceef85db-9c60-44c1-90ed-26e9a3fb370d');\n",
              "        const dataTable =\n",
              "          await google.colab.kernel.invokeFunction('convertToInteractive',\n",
              "                                                    [key], {});\n",
              "        if (!dataTable) return;\n",
              "\n",
              "        const docLinkHtml = 'Like what you see? Visit the ' +\n",
              "          '<a target=\"_blank\" href=https://colab.research.google.com/notebooks/data_table.ipynb>data table notebook</a>'\n",
              "          + ' to learn more about interactive tables.';\n",
              "        element.innerHTML = '';\n",
              "        dataTable['output_type'] = 'display_data';\n",
              "        await google.colab.output.renderOutput(dataTable, element);\n",
              "        const docLink = document.createElement('div');\n",
              "        docLink.innerHTML = docLinkHtml;\n",
              "        element.appendChild(docLink);\n",
              "      }\n",
              "    </script>\n",
              "  </div>\n",
              "\n",
              "\n",
              "<div id=\"df-10bb57c7-d140-44ae-8a9e-a69eac16fd99\">\n",
              "  <button class=\"colab-df-quickchart\" onclick=\"quickchart('df-10bb57c7-d140-44ae-8a9e-a69eac16fd99')\"\n",
              "            title=\"Suggest charts\"\n",
              "            style=\"display:none;\">\n",
              "\n",
              "<svg xmlns=\"http://www.w3.org/2000/svg\" height=\"24px\"viewBox=\"0 0 24 24\"\n",
              "     width=\"24px\">\n",
              "    <g>\n",
              "        <path d=\"M19 3H5c-1.1 0-2 .9-2 2v14c0 1.1.9 2 2 2h14c1.1 0 2-.9 2-2V5c0-1.1-.9-2-2-2zM9 17H7v-7h2v7zm4 0h-2V7h2v10zm4 0h-2v-4h2v4z\"/>\n",
              "    </g>\n",
              "</svg>\n",
              "  </button>\n",
              "\n",
              "<style>\n",
              "  .colab-df-quickchart {\n",
              "      --bg-color: #E8F0FE;\n",
              "      --fill-color: #1967D2;\n",
              "      --hover-bg-color: #E2EBFA;\n",
              "      --hover-fill-color: #174EA6;\n",
              "      --disabled-fill-color: #AAA;\n",
              "      --disabled-bg-color: #DDD;\n",
              "  }\n",
              "\n",
              "  [theme=dark] .colab-df-quickchart {\n",
              "      --bg-color: #3B4455;\n",
              "      --fill-color: #D2E3FC;\n",
              "      --hover-bg-color: #434B5C;\n",
              "      --hover-fill-color: #FFFFFF;\n",
              "      --disabled-bg-color: #3B4455;\n",
              "      --disabled-fill-color: #666;\n",
              "  }\n",
              "\n",
              "  .colab-df-quickchart {\n",
              "    background-color: var(--bg-color);\n",
              "    border: none;\n",
              "    border-radius: 50%;\n",
              "    cursor: pointer;\n",
              "    display: none;\n",
              "    fill: var(--fill-color);\n",
              "    height: 32px;\n",
              "    padding: 0;\n",
              "    width: 32px;\n",
              "  }\n",
              "\n",
              "  .colab-df-quickchart:hover {\n",
              "    background-color: var(--hover-bg-color);\n",
              "    box-shadow: 0 1px 2px rgba(60, 64, 67, 0.3), 0 1px 3px 1px rgba(60, 64, 67, 0.15);\n",
              "    fill: var(--button-hover-fill-color);\n",
              "  }\n",
              "\n",
              "  .colab-df-quickchart-complete:disabled,\n",
              "  .colab-df-quickchart-complete:disabled:hover {\n",
              "    background-color: var(--disabled-bg-color);\n",
              "    fill: var(--disabled-fill-color);\n",
              "    box-shadow: none;\n",
              "  }\n",
              "\n",
              "  .colab-df-spinner {\n",
              "    border: 2px solid var(--fill-color);\n",
              "    border-color: transparent;\n",
              "    border-bottom-color: var(--fill-color);\n",
              "    animation:\n",
              "      spin 1s steps(1) infinite;\n",
              "  }\n",
              "\n",
              "  @keyframes spin {\n",
              "    0% {\n",
              "      border-color: transparent;\n",
              "      border-bottom-color: var(--fill-color);\n",
              "      border-left-color: var(--fill-color);\n",
              "    }\n",
              "    20% {\n",
              "      border-color: transparent;\n",
              "      border-left-color: var(--fill-color);\n",
              "      border-top-color: var(--fill-color);\n",
              "    }\n",
              "    30% {\n",
              "      border-color: transparent;\n",
              "      border-left-color: var(--fill-color);\n",
              "      border-top-color: var(--fill-color);\n",
              "      border-right-color: var(--fill-color);\n",
              "    }\n",
              "    40% {\n",
              "      border-color: transparent;\n",
              "      border-right-color: var(--fill-color);\n",
              "      border-top-color: var(--fill-color);\n",
              "    }\n",
              "    60% {\n",
              "      border-color: transparent;\n",
              "      border-right-color: var(--fill-color);\n",
              "    }\n",
              "    80% {\n",
              "      border-color: transparent;\n",
              "      border-right-color: var(--fill-color);\n",
              "      border-bottom-color: var(--fill-color);\n",
              "    }\n",
              "    90% {\n",
              "      border-color: transparent;\n",
              "      border-bottom-color: var(--fill-color);\n",
              "    }\n",
              "  }\n",
              "</style>\n",
              "\n",
              "  <script>\n",
              "    async function quickchart(key) {\n",
              "      const quickchartButtonEl =\n",
              "        document.querySelector('#' + key + ' button');\n",
              "      quickchartButtonEl.disabled = true;  // To prevent multiple clicks.\n",
              "      quickchartButtonEl.classList.add('colab-df-spinner');\n",
              "      try {\n",
              "        const charts = await google.colab.kernel.invokeFunction(\n",
              "            'suggestCharts', [key], {});\n",
              "      } catch (error) {\n",
              "        console.error('Error during call to suggestCharts:', error);\n",
              "      }\n",
              "      quickchartButtonEl.classList.remove('colab-df-spinner');\n",
              "      quickchartButtonEl.classList.add('colab-df-quickchart-complete');\n",
              "    }\n",
              "    (() => {\n",
              "      let quickchartButtonEl =\n",
              "        document.querySelector('#df-10bb57c7-d140-44ae-8a9e-a69eac16fd99 button');\n",
              "      quickchartButtonEl.style.display =\n",
              "        google.colab.kernel.accessAllowed ? 'block' : 'none';\n",
              "    })();\n",
              "  </script>\n",
              "</div>\n",
              "    </div>\n",
              "  </div>\n"
            ],
            "application/vnd.google.colaboratory.intrinsic+json": {
              "type": "dataframe",
              "variable_name": "df_scaled",
              "summary": "{\n  \"name\": \"df_scaled\",\n  \"rows\": 15007,\n  \"fields\": [\n    {\n      \"column\": \"PC1\",\n      \"properties\": {\n        \"dtype\": \"number\",\n        \"std\": 0.5516978378794324,\n        \"min\": -0.7630457765953063,\n        \"max\": 1.0972776437598966,\n        \"num_unique_values\": 15007,\n        \"samples\": [\n          0.3367199454172081,\n          -0.5499421102817622,\n          -0.538950229680387\n        ],\n        \"semantic_type\": \"\",\n        \"description\": \"\"\n      }\n    },\n    {\n      \"column\": \"PC2\",\n      \"properties\": {\n        \"dtype\": \"number\",\n        \"std\": 0.5210764127448165,\n        \"min\": -1.0802889435167091,\n        \"max\": 1.13810125415587,\n        \"num_unique_values\": 15007,\n        \"samples\": [\n          -0.4694016285529255,\n          -0.0741086726971357,\n          -0.1141446497278119\n        ],\n        \"semantic_type\": \"\",\n        \"description\": \"\"\n      }\n    },\n    {\n      \"column\": \"PC3\",\n      \"properties\": {\n        \"dtype\": \"number\",\n        \"std\": 0.44918782440151156,\n        \"min\": -1.0464522767416695,\n        \"max\": 1.3066884029275654,\n        \"num_unique_values\": 15007,\n        \"samples\": [\n          0.1265229732294178,\n          0.2494134820916344,\n          0.2747877164549533\n        ],\n        \"semantic_type\": \"\",\n        \"description\": \"\"\n      }\n    },\n    {\n      \"column\": \"PC4\",\n      \"properties\": {\n        \"dtype\": \"number\",\n        \"std\": 0.38115052049490517,\n        \"min\": -1.1201597201899476,\n        \"max\": 1.2223805070156974,\n        \"num_unique_values\": 15007,\n        \"samples\": [\n          0.0438134284815993,\n          -0.0943023471726709,\n          -0.1420769317685914\n        ],\n        \"semantic_type\": \"\",\n        \"description\": \"\"\n      }\n    },\n    {\n      \"column\": \"PC5\",\n      \"properties\": {\n        \"dtype\": \"number\",\n        \"std\": 0.364012296529737,\n        \"min\": -0.8565917583471901,\n        \"max\": 1.482950014260168,\n        \"num_unique_values\": 15007,\n        \"samples\": [\n          0.4516301541919403,\n          -0.1574020499497677,\n          -0.204477263150186\n        ],\n        \"semantic_type\": \"\",\n        \"description\": \"\"\n      }\n    },\n    {\n      \"column\": \"PC6\",\n      \"properties\": {\n        \"dtype\": \"number\",\n        \"std\": 0.3423474718074475,\n        \"min\": -0.8523371103908217,\n        \"max\": 1.3441341638928048,\n        \"num_unique_values\": 15007,\n        \"samples\": [\n          -0.3888993879677536,\n          -0.1327926665122891,\n          -0.1456885176169867\n        ],\n        \"semantic_type\": \"\",\n        \"description\": \"\"\n      }\n    },\n    {\n      \"column\": \"PC7\",\n      \"properties\": {\n        \"dtype\": \"number\",\n        \"std\": 0.3127687683669156,\n        \"min\": -0.9636939394340563,\n        \"max\": 1.0306931595728823,\n        \"num_unique_values\": 15007,\n        \"samples\": [\n          -0.0003345253825547,\n          0.0514898961460021,\n          -0.1608602625346861\n        ],\n        \"semantic_type\": \"\",\n        \"description\": \"\"\n      }\n    },\n    {\n      \"column\": \"PC8\",\n      \"properties\": {\n        \"dtype\": \"number\",\n        \"std\": 0.2795483406012369,\n        \"min\": -0.9623840565673144,\n        \"max\": 1.0885992749164466,\n        \"num_unique_values\": 15007,\n        \"samples\": [\n          0.6021699235825577,\n          -0.1296591633370175,\n          -0.0395013017660266\n        ],\n        \"semantic_type\": \"\",\n        \"description\": \"\"\n      }\n    },\n    {\n      \"column\": \"PC9\",\n      \"properties\": {\n        \"dtype\": \"number\",\n        \"std\": 0.2707341810321322,\n        \"min\": -1.0235240566538917,\n        \"max\": 1.066687162538937,\n        \"num_unique_values\": 15007,\n        \"samples\": [\n          0.6981017066487583,\n          0.0490732525769846,\n          0.0402103649658869\n        ],\n        \"semantic_type\": \"\",\n        \"description\": \"\"\n      }\n    },\n    {\n      \"column\": \"PC10\",\n      \"properties\": {\n        \"dtype\": \"number\",\n        \"std\": 0.25591375094289576,\n        \"min\": -0.5342750074542116,\n        \"max\": 1.2503910537032967,\n        \"num_unique_values\": 15007,\n        \"samples\": [\n          -0.0226828190587274,\n          -0.2610587306254874,\n          -0.2298525918590517\n        ],\n        \"semantic_type\": \"\",\n        \"description\": \"\"\n      }\n    },\n    {\n      \"column\": \"PC11\",\n      \"properties\": {\n        \"dtype\": \"number\",\n        \"std\": 0.23370251365906017,\n        \"min\": -0.8625595349607852,\n        \"max\": 0.9416054111119204,\n        \"num_unique_values\": 15007,\n        \"samples\": [\n          -0.105991891897012,\n          0.0378749476646013,\n          0.0490724869432754\n        ],\n        \"semantic_type\": \"\",\n        \"description\": \"\"\n      }\n    },\n    {\n      \"column\": \"PC12\",\n      \"properties\": {\n        \"dtype\": \"number\",\n        \"std\": 0.21981653229732848,\n        \"min\": -1.021584995254761,\n        \"max\": 1.1515630601908753,\n        \"num_unique_values\": 15007,\n        \"samples\": [\n          0.6665291441557958,\n          -0.0874553847813225,\n          -0.0784133696658433\n        ],\n        \"semantic_type\": \"\",\n        \"description\": \"\"\n      }\n    },\n    {\n      \"column\": \"PC13\",\n      \"properties\": {\n        \"dtype\": \"number\",\n        \"std\": 0.2051994797709951,\n        \"min\": -0.6858061842472736,\n        \"max\": 0.9729205777303238,\n        \"num_unique_values\": 15007,\n        \"samples\": [\n          0.4760096162007725,\n          -0.0898171943837403,\n          -0.0006614513715866\n        ],\n        \"semantic_type\": \"\",\n        \"description\": \"\"\n      }\n    },\n    {\n      \"column\": \"PC14\",\n      \"properties\": {\n        \"dtype\": \"number\",\n        \"std\": 0.20214413305021187,\n        \"min\": -0.7414128896157081,\n        \"max\": 0.9080680767747342,\n        \"num_unique_values\": 15007,\n        \"samples\": [\n          0.3085700824417283,\n          0.003710376166896,\n          0.0250839375227464\n        ],\n        \"semantic_type\": \"\",\n        \"description\": \"\"\n      }\n    },\n    {\n      \"column\": \"PC15\",\n      \"properties\": {\n        \"dtype\": \"number\",\n        \"std\": 0.19837551381667778,\n        \"min\": -0.8186036177398645,\n        \"max\": 1.1752358018537008,\n        \"num_unique_values\": 15007,\n        \"samples\": [\n          -0.1096948591902961,\n          0.1075036800498105,\n          0.049541903419147\n        ],\n        \"semantic_type\": \"\",\n        \"description\": \"\"\n      }\n    },\n    {\n      \"column\": \"PC16\",\n      \"properties\": {\n        \"dtype\": \"number\",\n        \"std\": 0.1907475432600955,\n        \"min\": -0.5713347741308527,\n        \"max\": 1.110162071720536,\n        \"num_unique_values\": 15007,\n        \"samples\": [\n          -0.4641129173998006,\n          -0.0466745338674953,\n          -0.0417647485220583\n        ],\n        \"semantic_type\": \"\",\n        \"description\": \"\"\n      }\n    },\n    {\n      \"column\": \"PC17\",\n      \"properties\": {\n        \"dtype\": \"number\",\n        \"std\": 0.18533715125821365,\n        \"min\": -0.748266432897638,\n        \"max\": 1.0435150584718411,\n        \"num_unique_values\": 15007,\n        \"samples\": [\n          0.8183054731289399,\n          0.1145592025745072,\n          0.0452273222253186\n        ],\n        \"semantic_type\": \"\",\n        \"description\": \"\"\n      }\n    },\n    {\n      \"column\": \"PC18\",\n      \"properties\": {\n        \"dtype\": \"number\",\n        \"std\": 0.1730262848082795,\n        \"min\": -0.630347155237889,\n        \"max\": 0.8041702340803911,\n        \"num_unique_values\": 15007,\n        \"samples\": [\n          -0.2162917935862341,\n          0.0723239808609359,\n          0.099450458697169\n        ],\n        \"semantic_type\": \"\",\n        \"description\": \"\"\n      }\n    },\n    {\n      \"column\": \"averageRating\",\n      \"properties\": {\n        \"dtype\": \"number\",\n        \"std\": 0.499998470008744,\n        \"min\": 0.0,\n        \"max\": 1.0,\n        \"num_unique_values\": 2,\n        \"samples\": [\n          0.0,\n          1.0\n        ],\n        \"semantic_type\": \"\",\n        \"description\": \"\"\n      }\n    }\n  ]\n}"
            }
          },
          "metadata": {},
          "execution_count": 47
        }
      ]
    },
    {
      "cell_type": "code",
      "source": [
        "df_scaled_sample = df_scaled"
      ],
      "metadata": {
        "id": "sCfkxMWdSEn8"
      },
      "execution_count": null,
      "outputs": []
    },
    {
      "cell_type": "code",
      "source": [
        "test_size = 0.2\n",
        "X_train, X_test, y_train, y_test = train_test_split(\n",
        "    df_scaled_sample.drop('averageRating', axis=1),\n",
        "    df_scaled_sample['averageRating'], test_size=test_size,\n",
        "    random_state=23\n",
        ")"
      ],
      "metadata": {
        "id": "W5fYQbrZSGtG"
      },
      "execution_count": null,
      "outputs": []
    },
    {
      "cell_type": "code",
      "source": [
        "def calculate_metrics(model_name, y_true, y_pred):\n",
        "    metrics = {\n",
        "        'Accuracy': accuracy_score(y_true, y_pred),\n",
        "        'Weighted F1': f1_score(y_true, y_pred, average='weighted'),\n",
        "        'Weighted Precision': precision_score(y_true, y_pred, average='weighted', zero_division=0),\n",
        "        'Weighted Recall': recall_score(y_true, y_pred, average='weighted'),\n",
        "        'Macro-Averaged Precision': precision_score(y_true, y_pred, average='macro', zero_division=0),\n",
        "        'Macro-Averaged Recall': recall_score(y_true, y_pred, average='macro'),\n",
        "        'F1': str(f1_score(y_true, y_pred, average=None)),\n",
        "        'Precision': str( precision_score(y_true, y_pred, average=None, zero_division=0)),\n",
        "    }\n",
        "\n",
        "    # Print the metrics\n",
        "    print(f\"Metrics for {model_name}:\")\n",
        "    for metric_name, metric_value in metrics.items():\n",
        "        try:\n",
        "            print(f\"{metric_name}: {metric_value:.4f}\")\n",
        "        except:\n",
        "            print(f\"{metric_name}: {metric_value}\")\n",
        "\n",
        "    # Print the classification report\n",
        "    print(\"classification report\")\n",
        "    report = classification_report(y_true, y_pred, target_names=['Class 0', 'Class 1'], zero_division=0)\n",
        "    print(report)\n",
        "\n",
        "    print(\"Confusion Matrix\")\n",
        "    cm = confusion_matrix(y_true, y_pred)\n",
        "    cmd = ConfusionMatrixDisplay(confusion_matrix=cm)\n",
        "    cmd.plot()\n",
        "\n",
        "    plt.title(f'Confusion matrix for model {model_name} (Accuracy:{metrics[\"Accuracy\"]:.4f})')\n",
        "    plt.show()\n",
        "\n",
        "    # Create df to store metrics\n",
        "    df_metrics = pd.DataFrame(metrics, index=[model_name])\n",
        "\n",
        "    return df_metrics"
      ],
      "metadata": {
        "id": "TkI8nWI3SUKK"
      },
      "execution_count": null,
      "outputs": []
    },
    {
      "cell_type": "code",
      "source": [
        "model = KNeighborsClassifier()\n",
        "model.fit(X_train, y_train)\n",
        "\n",
        "# y_test has 1 Nan value - I removed it from y_test and removed a value from predictions to match in length\n",
        "y_test = y_test[~np.isnan(y_test)]\n",
        "predictions = model.predict(X_test)\n",
        "predictions = predictions[1:]\n",
        "print(\"Accuracy:\", accuracy_score(y_test, predictions, ))\n",
        "\n",
        "print(\"F1 score:\", f1_score(y_test, predictions, average=None))"
      ],
      "metadata": {
        "colab": {
          "base_uri": "https://localhost:8080/"
        },
        "id": "Iw3nvlrhSW0Q",
        "outputId": "23b5f8d4-48ae-4c1f-d4b4-8e485f7bcd9e"
      },
      "execution_count": null,
      "outputs": [
        {
          "output_type": "stream",
          "name": "stdout",
          "text": [
            "Accuracy: 0.6094635121626124\n",
            "F1 score: [0.62242268 0.59558316]\n"
          ]
        }
      ]
    },
    {
      "cell_type": "code",
      "source": [
        "param_grid = {\n",
        "    'n_neighbors': [3, 7, 15],\n",
        "    'p': [1, 2, 3, 4.3],\n",
        "    'n_jobs': [-1, 1]\n",
        "}\n",
        "\n",
        "model = KNeighborsClassifier()\n",
        "\n",
        "grid_search = GridSearchCV(estimator=model, param_grid=param_grid, cv=3, n_jobs=-1, verbose=2, scoring='accuracy')\n",
        "grid_search.fit(X_train, y_train)\n",
        "\n",
        "print(\"The parameters with the highest score: \", grid_search.best_params_)"
      ],
      "metadata": {
        "colab": {
          "base_uri": "https://localhost:8080/"
        },
        "id": "fW-pc0M2UEQ3",
        "outputId": "593f7124-943b-4022-ee33-ca2b68d4a8fe"
      },
      "execution_count": null,
      "outputs": [
        {
          "output_type": "stream",
          "name": "stdout",
          "text": [
            "Fitting 3 folds for each of 24 candidates, totalling 72 fits\n",
            "The parameters with the highest score:  {'n_jobs': -1, 'n_neighbors': 15, 'p': 3}\n"
          ]
        }
      ]
    },
    {
      "cell_type": "code",
      "source": [
        "cv_results_df = pd.DataFrame(grid_search.cv_results_)\n",
        "\n",
        "# Show top 10 parameters for this model\n",
        "minimalistic_results = cv_results_df[['params', 'mean_test_score']]\n",
        "sorted_results = minimalistic_results.sort_values(by='mean_test_score', ascending=False)\n",
        "\n",
        "print(sorted_results.head(10))"
      ],
      "metadata": {
        "colab": {
          "base_uri": "https://localhost:8080/"
        },
        "id": "XO3FjokgULt9",
        "outputId": "849775c4-9dcd-4bbf-f735-222d5b12b6b7"
      },
      "execution_count": null,
      "outputs": [
        {
          "output_type": "stream",
          "name": "stdout",
          "text": [
            "                                         params  mean_test_score\n",
            "22     {'n_jobs': 1, 'n_neighbors': 15, 'p': 3}         0.627239\n",
            "10    {'n_jobs': -1, 'n_neighbors': 15, 'p': 3}         0.627239\n",
            "21     {'n_jobs': 1, 'n_neighbors': 15, 'p': 2}         0.624991\n",
            "9     {'n_jobs': -1, 'n_neighbors': 15, 'p': 2}         0.624991\n",
            "23   {'n_jobs': 1, 'n_neighbors': 15, 'p': 4.3}         0.624407\n",
            "11  {'n_jobs': -1, 'n_neighbors': 15, 'p': 4.3}         0.624407\n",
            "8     {'n_jobs': -1, 'n_neighbors': 15, 'p': 1}         0.622158\n",
            "20     {'n_jobs': 1, 'n_neighbors': 15, 'p': 1}         0.622158\n",
            "18      {'n_jobs': 1, 'n_neighbors': 7, 'p': 3}         0.617493\n",
            "6      {'n_jobs': -1, 'n_neighbors': 7, 'p': 3}         0.617493\n"
          ]
        }
      ]
    },
    {
      "cell_type": "code",
      "source": [
        "best_model = grid_search.best_estimator_\n",
        "predictions = best_model.predict(X_test)\n",
        "predictions = predictions[1:]\n",
        "_ = calculate_metrics('KNN-PCA-GS-CV1', y_test, predictions)"
      ],
      "metadata": {
        "colab": {
          "base_uri": "https://localhost:8080/",
          "height": 819
        },
        "id": "EYjEpXDFUOBY",
        "outputId": "2f8e868a-237a-4bd1-fdd8-8e1e1c2b5f18"
      },
      "execution_count": null,
      "outputs": [
        {
          "output_type": "stream",
          "name": "stdout",
          "text": [
            "Metrics for KNN-PCA-GS-CV1:\n",
            "Accuracy: 0.6165\n",
            "Weighted F1: 0.6160\n",
            "Weighted Precision: 0.6162\n",
            "Weighted Recall: 0.6165\n",
            "Macro-Averaged Precision: 0.6160\n",
            "Macro-Averaged Recall: 0.6154\n",
            "F1: [0.63587472 0.59486096]\n",
            "Precision: [0.62190594 0.6101083 ]\n",
            "classification report\n",
            "              precision    recall  f1-score   support\n",
            "\n",
            "     Class 0       0.62      0.65      0.64      1545\n",
            "     Class 1       0.61      0.58      0.59      1456\n",
            "\n",
            "    accuracy                           0.62      3001\n",
            "   macro avg       0.62      0.62      0.62      3001\n",
            "weighted avg       0.62      0.62      0.62      3001\n",
            "\n",
            "Confusion Matrix\n"
          ]
        },
        {
          "output_type": "display_data",
          "data": {
            "text/plain": [
              "<Figure size 640x480 with 2 Axes>"
            ],
            "image/png": "[encoded data removed]"
          },
          "metadata": {}
        }
      ]
    },
    {
      "cell_type": "code",
      "source": [
        "# Predicting using other alternatives of fine-tuning from top 10 performances\n",
        "other_alternatives = []\n",
        "# Choose a set of parameters from sorted_results\n",
        "for i in range(10):\n",
        "\n",
        "  params = sorted_results.iloc[i]['params']\n",
        "  print(\"Parameters from place: \", i, \" \", params)\n",
        "\n",
        "  model = KNeighborsClassifier(**params)\n",
        "  model.fit(X_train, y_train)\n",
        "\n",
        "  predictions = model.predict(X_test)\n",
        "  predictions = predictions[1:]\n",
        "  chosen_accuracy = accuracy_score(y_test, predictions)\n",
        "  print(\"Accuracy for chosen parameters:\", chosen_accuracy)\n",
        "  other_alternatives.append((chosen_accuracy,params))"
      ],
      "metadata": {
        "colab": {
          "base_uri": "https://localhost:8080/"
        },
        "id": "sWNZx1YLcD75",
        "outputId": "9102f218-c432-4c8d-c23c-aa9515f5ac5e"
      },
      "execution_count": null,
      "outputs": [
        {
          "output_type": "stream",
          "name": "stdout",
          "text": [
            "Parameters from place:  0   {'n_jobs': 1, 'n_neighbors': 15, 'p': 3}\n",
            "Accuracy for chosen parameters: 0.6164611796067977\n",
            "Parameters from place:  1   {'n_jobs': -1, 'n_neighbors': 15, 'p': 3}\n",
            "Accuracy for chosen parameters: 0.6164611796067977\n",
            "Parameters from place:  2   {'n_jobs': 1, 'n_neighbors': 15, 'p': 2}\n",
            "Accuracy for chosen parameters: 0.623125624791736\n",
            "Parameters from place:  3   {'n_jobs': -1, 'n_neighbors': 15, 'p': 2}\n",
            "Accuracy for chosen parameters: 0.623125624791736\n",
            "Parameters from place:  4   {'n_jobs': 1, 'n_neighbors': 15, 'p': 4.3}\n",
            "Accuracy for chosen parameters: 0.6127957347550816\n",
            "Parameters from place:  5   {'n_jobs': -1, 'n_neighbors': 15, 'p': 4.3}\n",
            "Accuracy for chosen parameters: 0.6127957347550816\n",
            "Parameters from place:  6   {'n_jobs': -1, 'n_neighbors': 15, 'p': 1}\n",
            "Accuracy for chosen parameters: 0.6197934021992669\n",
            "Parameters from place:  7   {'n_jobs': 1, 'n_neighbors': 15, 'p': 1}\n",
            "Accuracy for chosen parameters: 0.6197934021992669\n",
            "Parameters from place:  8   {'n_jobs': 1, 'n_neighbors': 7, 'p': 3}\n",
            "Accuracy for chosen parameters: 0.6137954015328224\n",
            "Parameters from place:  9   {'n_jobs': -1, 'n_neighbors': 7, 'p': 3}\n",
            "Accuracy for chosen parameters: 0.6137954015328224\n"
          ]
        }
      ]
    },
    {
      "cell_type": "code",
      "source": [
        "# get best from top 10\n",
        "best_tuple = max(other_alternatives, key=lambda x: x[0])"
      ],
      "metadata": {
        "id": "fMjbZP8LcfYZ"
      },
      "execution_count": null,
      "outputs": []
    },
    {
      "cell_type": "code",
      "source": [
        "print(\"Best accuracy and parameters after running the algorithm using other alternatives of fine tuning from top 10 performances\")\n",
        "print(best_tuple[0])\n",
        "print(best_tuple[1])"
      ],
      "metadata": {
        "colab": {
          "base_uri": "https://localhost:8080/"
        },
        "id": "-8ibRsy4ch4I",
        "outputId": "46e7089b-c7e7-4ad2-e0d1-b181b2dc2463"
      },
      "execution_count": null,
      "outputs": [
        {
          "output_type": "stream",
          "name": "stdout",
          "text": [
            "Best accuracy and parameters after running the algorithm using other alternatives of fine tuning from top 10 performances\n",
            "0.623125624791736\n",
            "{'n_jobs': 1, 'n_neighbors': 15, 'p': 2}\n"
          ]
        }
      ]
    },
    {
      "cell_type": "code",
      "source": [
        "# Run on training sample\n",
        "\n",
        "# Choose a set of parameters from sorted_results\n",
        "for i in range(10):\n",
        "\n",
        "  params = sorted_results.iloc[i]['params']\n",
        "  print(\"Parameters from place: \", i, \" \", params)\n",
        "\n",
        "  model = KNeighborsClassifier(**params)\n",
        "  model.fit(X_train, y_train)\n",
        "\n",
        "  predictions = model.predict(X_train)\n",
        "\n",
        "  chosen_accuracy = accuracy_score(y_train, predictions)\n",
        "  print(\"Accuracy for chosen parameters:\", chosen_accuracy)"
      ],
      "metadata": {
        "colab": {
          "base_uri": "https://localhost:8080/"
        },
        "id": "t9tgvBRncsiN",
        "outputId": "3dc65f96-97b0-442c-f130-dc3631e479df"
      },
      "execution_count": null,
      "outputs": [
        {
          "output_type": "stream",
          "name": "stdout",
          "text": [
            "Parameters from place:  0   {'n_jobs': 1, 'n_neighbors': 15, 'p': 3}\n",
            "Accuracy for chosen parameters: 0.6816326530612244\n",
            "Parameters from place:  1   {'n_jobs': -1, 'n_neighbors': 15, 'p': 3}\n",
            "Accuracy for chosen parameters: 0.6816326530612244\n",
            "Parameters from place:  2   {'n_jobs': 1, 'n_neighbors': 15, 'p': 2}\n",
            "Accuracy for chosen parameters: 0.685381091211995\n",
            "Parameters from place:  3   {'n_jobs': -1, 'n_neighbors': 15, 'p': 2}\n",
            "Accuracy for chosen parameters: 0.685381091211995\n",
            "Parameters from place:  4   {'n_jobs': 1, 'n_neighbors': 15, 'p': 4.3}\n",
            "Accuracy for chosen parameters: 0.6803831736776343\n",
            "Parameters from place:  5   {'n_jobs': -1, 'n_neighbors': 15, 'p': 4.3}\n",
            "Accuracy for chosen parameters: 0.6803831736776343\n",
            "Parameters from place:  6   {'n_jobs': -1, 'n_neighbors': 15, 'p': 1}\n",
            "Accuracy for chosen parameters: 0.6860474802165765\n",
            "Parameters from place:  7   {'n_jobs': 1, 'n_neighbors': 15, 'p': 1}\n",
            "Accuracy for chosen parameters: 0.6860474802165765\n",
            "Parameters from place:  8   {'n_jobs': 1, 'n_neighbors': 7, 'p': 3}\n",
            "Accuracy for chosen parameters: 0.7275301957517701\n",
            "Parameters from place:  9   {'n_jobs': -1, 'n_neighbors': 7, 'p': 3}\n",
            "Accuracy for chosen parameters: 0.7275301957517701\n"
          ]
        }
      ]
    }
  ]
}