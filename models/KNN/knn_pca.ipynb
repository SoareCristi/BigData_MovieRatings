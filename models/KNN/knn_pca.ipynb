{
  "nbformat": 4,
  "nbformat_minor": 0,
  "metadata": {
    "colab": {
      "provenance": []
    },
    "kernelspec": {
      "name": "python3",
      "display_name": "Python 3"
    },
    "language_info": {
      "name": "python"
    }
  },
  "cells": [
    {
      "cell_type": "markdown",
      "source": [
        "# KNN Implementation on scaled reduced dataset with PCA"
      ],
      "metadata": {
        "id": "WPidFWl1SHYu"
      }
    },
    {
      "cell_type": "code",
      "execution_count": 5,
      "metadata": {
        "id": "Pl_WnCO5RnNp"
      },
      "outputs": [],
      "source": [
        "# Utilities\n",
        "import pandas as pd\n",
        "import warnings\n",
        "import numpy as np\n",
        "import matplotlib.pyplot as plt\n",
        "\n",
        "# Models\n",
        "from sklearn.model_selection import train_test_split, cross_val_score\n",
        "from sklearn.neighbors import KNeighborsClassifier\n",
        "from sklearn.model_selection import GridSearchCV\n",
        "from sklearn.metrics import accuracy_score, accuracy_score, f1_score\n",
        "from sklearn.metrics import classification_report, precision_score, recall_score, confusion_matrix, ConfusionMatrixDisplay"
      ]
    },
    {
      "cell_type": "code",
      "source": [
        "df_scaled = pd.read_csv('../..Data/dataset_preprocessed.csv')"
      ],
      "metadata": {
        "id": "GGgFnGZrR7i0"
      },
      "execution_count": 6,
      "outputs": []
    },
    {
      "cell_type": "code",
      "source": [
        "columns = df_scaled.columns"
      ],
      "metadata": {
        "id": "1IsE9bee9ZlX"
      },
      "execution_count": 7,
      "outputs": []
    },
    {
      "cell_type": "code",
      "source": [
        "df_pca_train = pd.read_csv('../../DimensionalityReductionData/X_train_PCA.csv', names=columns)"
      ],
      "metadata": {
        "id": "cym78Cw7R9xk"
      },
      "execution_count": 8,
      "outputs": []
    },
    {
      "cell_type": "code",
      "source": [
        "df_pca_test = pd.read_csv('../../DimensionalityReductionData/X_test_PCA.csv', names = columns)"
      ],
      "metadata": {
        "id": "BvXxu4TU9dB5"
      },
      "execution_count": 9,
      "outputs": []
    },
    {
      "cell_type": "code",
      "source": [
        "labels = df_scaled['averageRating']\n",
        "_, _, y_train, y_test = train_test_split(df_scaled.drop(columns=['averageRating']), labels, test_size=0.2, random_state=42)\n",
        "\n",
        "df_pca_train['averageRating'] = y_train.reset_index(drop=True)\n",
        "df_pca_test['averageRating'] = y_test.reset_index(drop=True)"
      ],
      "metadata": {
        "id": "71KHBmUs9hTB"
      },
      "execution_count": 10,
      "outputs": []
    },
    {
      "cell_type": "code",
      "source": [
        "def calculate_metrics(model_name, y_true, y_pred):\n",
        "    metrics = {\n",
        "        'Accuracy': accuracy_score(y_true, y_pred),\n",
        "        'Weighted F1': f1_score(y_true, y_pred, average='weighted'),\n",
        "        'Weighted Precision': precision_score(y_true, y_pred, average='weighted', zero_division=0),\n",
        "        'Weighted Recall': recall_score(y_true, y_pred, average='weighted'),\n",
        "        'Macro-Averaged Precision': precision_score(y_true, y_pred, average='macro', zero_division=0),\n",
        "        'Macro-Averaged Recall': recall_score(y_true, y_pred, average='macro'),\n",
        "        'F1': str(f1_score(y_true, y_pred, average=None)),\n",
        "        'Precision': str( precision_score(y_true, y_pred, average=None, zero_division=0)),\n",
        "    }\n",
        "\n",
        "    # Print the metrics\n",
        "    print(f\"Metrics for {model_name}:\")\n",
        "    for metric_name, metric_value in metrics.items():\n",
        "        try:\n",
        "            print(f\"{metric_name}: {metric_value:.4f}\")\n",
        "        except:\n",
        "            print(f\"{metric_name}: {metric_value}\")\n",
        "\n",
        "    # Print the classification report\n",
        "    print(\"classification report\")\n",
        "    report = classification_report(y_true, y_pred, target_names=['Class 0', 'Class 1'], zero_division=0)\n",
        "    print(report)\n",
        "\n",
        "    print(\"Confusion Matrix\")\n",
        "    cm = confusion_matrix(y_true, y_pred)\n",
        "    cmd = ConfusionMatrixDisplay(confusion_matrix=cm)\n",
        "    cmd.plot()\n",
        "\n",
        "    plt.title(f'Confusion matrix for model {model_name} (Accuracy:{metrics[\"Accuracy\"]:.4f})')\n",
        "    plt.show()\n",
        "\n",
        "    # Create df to store metrics\n",
        "    df_metrics = pd.DataFrame(metrics, index=[model_name])\n",
        "\n",
        "    return df_metrics"
      ],
      "metadata": {
        "id": "TkI8nWI3SUKK"
      },
      "execution_count": 11,
      "outputs": []
    },
    {
      "cell_type": "code",
      "source": [
        "df_pca_train = df_pca_train.clip(lower=0)\n",
        "df_pca_test = df_pca_test.clip(lower=0)\n",
        "\n",
        "df_pca_train.fillna(0.0, inplace=True)\n",
        "df_pca_test.fillna(0.0, inplace=True)\n",
        "\n",
        "model = KNeighborsClassifier()\n",
        "model.fit(df_pca_train[1:], y_train)\n",
        "\n",
        "predictions = model.predict(df_pca_test)\n",
        "print(\"Accuracy:\", accuracy_score(y_test, predictions, ))\n",
        "\n",
        "print(\"F1 score:\", f1_score(y_test, predictions, average=None))"
      ],
      "metadata": {
        "colab": {
          "base_uri": "https://localhost:8080/"
        },
        "id": "Iw3nvlrhSW0Q",
        "outputId": "2f97fb55-2e44-4266-82e5-3c7a132e0d9e"
      },
      "execution_count": 14,
      "outputs": [
        {
          "output_type": "stream",
          "name": "stdout",
          "text": [
            "Accuracy: 0.5379746835443038\n",
            "F1 score: [0.54894309 0.52645954]\n"
          ]
        }
      ]
    },
    {
      "cell_type": "code",
      "source": [
        "param_grid = {\n",
        "    'n_neighbors': [3, 7, 15],\n",
        "    'p': [1, 2, 3, 4.3],\n",
        "    'n_jobs': [-1, 1]\n",
        "}\n",
        "\n",
        "model = KNeighborsClassifier()\n",
        "\n",
        "grid_search = GridSearchCV(estimator=model, param_grid=param_grid, cv=3, n_jobs=-1, verbose=2, scoring='accuracy')\n",
        "grid_search.fit(df_pca_train[1:], y_train)\n",
        "\n",
        "print(\"The parameters with the highest score: \", grid_search.best_params_)"
      ],
      "metadata": {
        "colab": {
          "base_uri": "https://localhost:8080/"
        },
        "id": "fW-pc0M2UEQ3",
        "outputId": "24966b3e-3827-4e19-eed7-f3d3096bd27c"
      },
      "execution_count": 16,
      "outputs": [
        {
          "output_type": "stream",
          "name": "stdout",
          "text": [
            "Fitting 3 folds for each of 24 candidates, totalling 72 fits\n",
            "The parameters with the highest score:  {'n_jobs': -1, 'n_neighbors': 15, 'p': 1}\n"
          ]
        }
      ]
    },
    {
      "cell_type": "code",
      "source": [
        "cv_results_df = pd.DataFrame(grid_search.cv_results_)\n",
        "\n",
        "# Show top 10 parameters for this model\n",
        "minimalistic_results = cv_results_df[['params', 'mean_test_score']]\n",
        "sorted_results = minimalistic_results.sort_values(by='mean_test_score', ascending=False)\n",
        "\n",
        "print(sorted_results.head(10))"
      ],
      "metadata": {
        "colab": {
          "base_uri": "https://localhost:8080/"
        },
        "id": "XO3FjokgULt9",
        "outputId": "f80bad35-e437-4f29-d548-500338780ff2"
      },
      "execution_count": 17,
      "outputs": [
        {
          "output_type": "stream",
          "name": "stdout",
          "text": [
            "                                         params  mean_test_score\n",
            "8     {'n_jobs': -1, 'n_neighbors': 15, 'p': 1}         0.590056\n",
            "20     {'n_jobs': 1, 'n_neighbors': 15, 'p': 1}         0.590056\n",
            "21     {'n_jobs': 1, 'n_neighbors': 15, 'p': 2}         0.585308\n",
            "9     {'n_jobs': -1, 'n_neighbors': 15, 'p': 2}         0.585308\n",
            "10    {'n_jobs': -1, 'n_neighbors': 15, 'p': 3}         0.584308\n",
            "22     {'n_jobs': 1, 'n_neighbors': 15, 'p': 3}         0.584308\n",
            "11  {'n_jobs': -1, 'n_neighbors': 15, 'p': 4.3}         0.582475\n",
            "23   {'n_jobs': 1, 'n_neighbors': 15, 'p': 4.3}         0.582475\n",
            "4      {'n_jobs': -1, 'n_neighbors': 7, 'p': 1}         0.577893\n",
            "16      {'n_jobs': 1, 'n_neighbors': 7, 'p': 1}         0.577893\n"
          ]
        }
      ]
    },
    {
      "cell_type": "code",
      "source": [
        "best_model = grid_search.best_estimator_\n",
        "predictions = best_model.predict(df_pca_test)\n",
        "_ = calculate_metrics('KNN-PCA-GS-CV1', y_test, predictions)"
      ],
      "metadata": {
        "colab": {
          "base_uri": "https://localhost:8080/",
          "height": 819
        },
        "id": "EYjEpXDFUOBY",
        "outputId": "631eceb0-d3fa-4571-dfad-3b8080ac1c8e"
      },
      "execution_count": 19,
      "outputs": [
        {
          "output_type": "stream",
          "name": "stdout",
          "text": [
            "Metrics for KNN-PCA-GS-CV1:\n",
            "Accuracy: 0.5463\n",
            "Weighted F1: 0.5457\n",
            "Weighted Precision: 0.5465\n",
            "Weighted Recall: 0.5463\n",
            "Macro-Averaged Precision: 0.5465\n",
            "Macro-Averaged Recall: 0.5462\n",
            "F1: [0.56318153 0.52806653]\n",
            "Precision: [0.54432734 0.54859611]\n",
            "classification report\n",
            "              precision    recall  f1-score   support\n",
            "\n",
            "     Class 0       0.54      0.58      0.56      1505\n",
            "     Class 1       0.55      0.51      0.53      1497\n",
            "\n",
            "    accuracy                           0.55      3002\n",
            "   macro avg       0.55      0.55      0.55      3002\n",
            "weighted avg       0.55      0.55      0.55      3002\n",
            "\n",
            "Confusion Matrix\n"
          ]
        },
        {
          "output_type": "display_data",
          "data": {
            "text/plain": [
              "<Figure size 640x480 with 2 Axes>"
            ],
            "image/png": "[encoded data removed]"
          },
          "metadata": {}
        }
      ]
    },
    {
      "cell_type": "code",
      "source": [
        "# Predicting using other alternatives of fine-tuning from top 10 performances\n",
        "other_alternatives = []\n",
        "# Choose a set of parameters from sorted_results\n",
        "for i in range(10):\n",
        "\n",
        "  params = sorted_results.iloc[i]['params']\n",
        "  print(\"Parameters from place: \", i, \" \", params)\n",
        "\n",
        "  model = KNeighborsClassifier(**params)\n",
        "  model.fit(df_pca_train[1:], y_train)\n",
        "\n",
        "  predictions = model.predict(df_pca_test)\n",
        "  predictions = predictions[1:]\n",
        "  chosen_accuracy = accuracy_score(y_test[1:], predictions)\n",
        "  print(\"Accuracy for chosen parameters:\", chosen_accuracy)\n",
        "  other_alternatives.append((chosen_accuracy,params))"
      ],
      "metadata": {
        "colab": {
          "base_uri": "https://localhost:8080/"
        },
        "id": "sWNZx1YLcD75",
        "outputId": "96aab311-135a-48a3-cdd2-f9d23217e8bb"
      },
      "execution_count": 22,
      "outputs": [
        {
          "output_type": "stream",
          "name": "stdout",
          "text": [
            "Parameters from place:  0   {'n_jobs': -1, 'n_neighbors': 15, 'p': 1}\n",
            "Accuracy for chosen parameters: 0.5464845051649451\n",
            "Parameters from place:  1   {'n_jobs': 1, 'n_neighbors': 15, 'p': 1}\n",
            "Accuracy for chosen parameters: 0.5464845051649451\n",
            "Parameters from place:  2   {'n_jobs': 1, 'n_neighbors': 15, 'p': 2}\n",
            "Accuracy for chosen parameters: 0.538487170943019\n",
            "Parameters from place:  3   {'n_jobs': -1, 'n_neighbors': 15, 'p': 2}\n",
            "Accuracy for chosen parameters: 0.538487170943019\n",
            "Parameters from place:  4   {'n_jobs': -1, 'n_neighbors': 15, 'p': 3}\n",
            "Accuracy for chosen parameters: 0.5388203932022659\n",
            "Parameters from place:  5   {'n_jobs': 1, 'n_neighbors': 15, 'p': 3}\n",
            "Accuracy for chosen parameters: 0.5388203932022659\n",
            "Parameters from place:  6   {'n_jobs': -1, 'n_neighbors': 15, 'p': 4.3}\n",
            "Accuracy for chosen parameters: 0.5391536154615129\n",
            "Parameters from place:  7   {'n_jobs': 1, 'n_neighbors': 15, 'p': 4.3}\n",
            "Accuracy for chosen parameters: 0.5391536154615129\n",
            "Parameters from place:  8   {'n_jobs': -1, 'n_neighbors': 7, 'p': 1}\n",
            "Accuracy for chosen parameters: 0.5388203932022659\n",
            "Parameters from place:  9   {'n_jobs': 1, 'n_neighbors': 7, 'p': 1}\n",
            "Accuracy for chosen parameters: 0.5388203932022659\n"
          ]
        }
      ]
    },
    {
      "cell_type": "code",
      "source": [
        "# get best from top 10\n",
        "best_tuple = max(other_alternatives, key=lambda x: x[0])"
      ],
      "metadata": {
        "id": "fMjbZP8LcfYZ"
      },
      "execution_count": 23,
      "outputs": []
    },
    {
      "cell_type": "code",
      "source": [
        "print(\"Best accuracy and parameters after running the algorithm using other alternatives of fine tuning from top 10 performances\")\n",
        "print(best_tuple[0])\n",
        "print(best_tuple[1])"
      ],
      "metadata": {
        "colab": {
          "base_uri": "https://localhost:8080/"
        },
        "id": "-8ibRsy4ch4I",
        "outputId": "b97ee4eb-907a-4ea2-c639-a0c18f6d923c"
      },
      "execution_count": 24,
      "outputs": [
        {
          "output_type": "stream",
          "name": "stdout",
          "text": [
            "Best accuracy and parameters after running the algorithm using other alternatives of fine tuning from top 10 performances\n",
            "0.5464845051649451\n",
            "{'n_jobs': -1, 'n_neighbors': 15, 'p': 1}\n"
          ]
        }
      ]
    },
    {
      "cell_type": "code",
      "source": [
        "# Run on training sample\n",
        "\n",
        "# Choose a set of parameters from sorted_results\n",
        "for i in range(10):\n",
        "\n",
        "  params = sorted_results.iloc[i]['params']\n",
        "  print(\"Parameters from place: \", i, \" \", params)\n",
        "\n",
        "  model = KNeighborsClassifier(**params)\n",
        "  model.fit(df_pca_train[1:], y_train)\n",
        "\n",
        "  predictions = model.predict(df_pca_train)\n",
        "\n",
        "  chosen_accuracy = accuracy_score(y_train, predictions[1:])\n",
        "  print(\"Accuracy for chosen parameters:\", chosen_accuracy)"
      ],
      "metadata": {
        "colab": {
          "base_uri": "https://localhost:8080/"
        },
        "id": "t9tgvBRncsiN",
        "outputId": "56798f29-0d0d-467b-e280-4d00adcb579e"
      },
      "execution_count": 27,
      "outputs": [
        {
          "output_type": "stream",
          "name": "stdout",
          "text": [
            "Parameters from place:  0   {'n_jobs': -1, 'n_neighbors': 15, 'p': 1}\n",
            "Accuracy for chosen parameters: 0.6635288237254249\n",
            "Parameters from place:  1   {'n_jobs': 1, 'n_neighbors': 15, 'p': 1}\n",
            "Accuracy for chosen parameters: 0.6635288237254249\n",
            "Parameters from place:  2   {'n_jobs': 1, 'n_neighbors': 15, 'p': 2}\n",
            "Accuracy for chosen parameters: 0.6634455181606131\n",
            "Parameters from place:  3   {'n_jobs': -1, 'n_neighbors': 15, 'p': 2}\n",
            "Accuracy for chosen parameters: 0.6634455181606131\n",
            "Parameters from place:  4   {'n_jobs': -1, 'n_neighbors': 15, 'p': 3}\n",
            "Accuracy for chosen parameters: 0.6609463512162612\n",
            "Parameters from place:  5   {'n_jobs': 1, 'n_neighbors': 15, 'p': 3}\n",
            "Accuracy for chosen parameters: 0.6609463512162612\n",
            "Parameters from place:  6   {'n_jobs': -1, 'n_neighbors': 15, 'p': 4.3}\n",
            "Accuracy for chosen parameters: 0.657947350883039\n",
            "Parameters from place:  7   {'n_jobs': 1, 'n_neighbors': 15, 'p': 4.3}\n",
            "Accuracy for chosen parameters: 0.657947350883039\n",
            "Parameters from place:  8   {'n_jobs': -1, 'n_neighbors': 7, 'p': 1}\n",
            "Accuracy for chosen parameters: 0.7010163278907031\n",
            "Parameters from place:  9   {'n_jobs': 1, 'n_neighbors': 7, 'p': 1}\n",
            "Accuracy for chosen parameters: 0.7010163278907031\n"
          ]
        }
      ]
    }
  ]
}