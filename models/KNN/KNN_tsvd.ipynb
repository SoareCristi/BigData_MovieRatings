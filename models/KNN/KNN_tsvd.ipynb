{
  "cells": [
    {
      "cell_type": "markdown",
      "metadata": {
        "id": "WPidFWl1SHYu"
      },
      "source": [
        "# KNN Implementation on scaled reduced dataset with TruncatedSVD"
      ]
    },
    {
      "cell_type": "code",
      "execution_count": 75,
      "metadata": {
        "id": "Pl_WnCO5RnNp"
      },
      "outputs": [],
      "source": [
        "# Utilities\n",
        "import pandas as pd\n",
        "import warnings\n",
        "import numpy as np\n",
        "import matplotlib.pyplot as plt\n",
        "\n",
        "# Models\n",
        "from sklearn.model_selection import train_test_split, cross_val_score\n",
        "from sklearn.neighbors import KNeighborsClassifier\n",
        "from sklearn.model_selection import GridSearchCV\n",
        "from sklearn.metrics import accuracy_score, accuracy_score, f1_score\n",
        "from sklearn.metrics import classification_report, precision_score, recall_score, confusion_matrix, ConfusionMatrixDisplay"
      ]
    },
    {
      "cell_type": "code",
      "execution_count": 76,
      "metadata": {
        "id": "GGgFnGZrR7i0"
      },
      "outputs": [],
      "source": [
        "df_scaled = pd.read_csv('../../Data/dataset_preprocessed.csv')"
      ]
    },
    {
      "cell_type": "code",
      "execution_count": 77,
      "metadata": {
        "id": "1IsE9bee9ZlX"
      },
      "outputs": [],
      "source": [
        "columns = df_scaled.columns"
      ]
    },
    {
      "cell_type": "code",
      "execution_count": 78,
      "metadata": {
        "id": "cym78Cw7R9xk"
      },
      "outputs": [],
      "source": [
        "df_train = pd.read_csv('../../DimensionalityReductionData/X_train_SVD.csv')"
      ]
    },
    {
      "cell_type": "code",
      "execution_count": 79,
      "metadata": {
        "id": "BvXxu4TU9dB5"
      },
      "outputs": [],
      "source": [
        "df_test = pd.read_csv('../../DimensionalityReductionData/X_test_SVD.csv')"
      ]
    },
    {
      "cell_type": "code",
      "execution_count": 80,
      "metadata": {
        "id": "71KHBmUs9hTB"
      },
      "outputs": [],
      "source": [
        "labels = df_scaled['averageRating']\n",
        "_, _, y_train, y_test = train_test_split(df_scaled.drop(columns=['averageRating']), labels, test_size=0.2, random_state=42)"
      ]
    },
    {
      "cell_type": "code",
      "execution_count": 81,
      "metadata": {
        "id": "TkI8nWI3SUKK"
      },
      "outputs": [],
      "source": [
        "def calculate_metrics(model_name, y_true, y_pred):\n",
        "    metrics = {\n",
        "        'Accuracy': accuracy_score(y_true, y_pred),\n",
        "        'Weighted F1': f1_score(y_true, y_pred, average='weighted'),\n",
        "        'Weighted Precision': precision_score(y_true, y_pred, average='weighted', zero_division=0),\n",
        "        'Weighted Recall': recall_score(y_true, y_pred, average='weighted'),\n",
        "        'Macro-Averaged Precision': precision_score(y_true, y_pred, average='macro', zero_division=0),\n",
        "        'Macro-Averaged Recall': recall_score(y_true, y_pred, average='macro'),\n",
        "        'F1': str(f1_score(y_true, y_pred, average=None)),\n",
        "        'Precision': str( precision_score(y_true, y_pred, average=None, zero_division=0)),\n",
        "    }\n",
        "\n",
        "    # Print the metrics\n",
        "    print(f\"Metrics for {model_name}:\")\n",
        "    for metric_name, metric_value in metrics.items():\n",
        "        try:\n",
        "            print(f\"{metric_name}: {metric_value:.4f}\")\n",
        "        except:\n",
        "            print(f\"{metric_name}: {metric_value}\")\n",
        "\n",
        "    # Print the classification report\n",
        "    print(\"classification report\")\n",
        "    report = classification_report(y_true, y_pred, target_names=['Class 0', 'Class 1'], zero_division=0)\n",
        "    print(report)\n",
        "\n",
        "    print(\"Confusion Matrix\")\n",
        "    cm = confusion_matrix(y_true, y_pred)\n",
        "    cmd = ConfusionMatrixDisplay(confusion_matrix=cm)\n",
        "    cmd.plot()\n",
        "\n",
        "    plt.title(f'Confusion matrix for model {model_name} (Accuracy:{metrics[\"Accuracy\"]:.4f})')\n",
        "    plt.show()\n",
        "\n",
        "    # Create df to store metrics\n",
        "    df_metrics = pd.DataFrame(metrics, index=[model_name])\n",
        "\n",
        "    return df_metrics"
      ]
    },
    {
      "cell_type": "code",
      "execution_count": 82,
      "metadata": {
        "colab": {
          "base_uri": "https://localhost:8080/"
        },
        "id": "Iw3nvlrhSW0Q",
        "outputId": "9066deaf-4fe8-4fd7-b0a1-ce72a414024a"
      },
      "outputs": [
        {
          "output_type": "stream",
          "name": "stdout",
          "text": [
            "Accuracy: 0.5179880079946703\n",
            "F1 score: [0.52228458 0.51361345]\n"
          ]
        }
      ],
      "source": [
        "df_train.fillna(0.0, inplace=True)\n",
        "df_test.fillna(0.0, inplace=True)\n",
        "\n",
        "model = KNeighborsClassifier()\n",
        "model.fit(df_train[1:], y_train)\n",
        "\n",
        "predictions = model.predict(df_test)\n",
        "print(\"Accuracy:\", accuracy_score(y_test, predictions))\n",
        "\n",
        "print(\"F1 score:\", f1_score(y_test, predictions, average=None))"
      ]
    },
    {
      "cell_type": "code",
      "execution_count": 83,
      "metadata": {
        "id": "fW-pc0M2UEQ3",
        "colab": {
          "base_uri": "https://localhost:8080/"
        },
        "outputId": "95fc1953-079a-4fa5-8633-1a06f9ddd3f8"
      },
      "outputs": [
        {
          "output_type": "stream",
          "name": "stdout",
          "text": [
            "Fitting 3 folds for each of 24 candidates, totalling 72 fits\n",
            "The parameters with the highest score:  {'n_jobs': -1, 'n_neighbors': 15, 'p': 2}\n"
          ]
        }
      ],
      "source": [
        "param_grid = {\n",
        "    'n_neighbors': [3, 7, 15],\n",
        "    'p': [1, 2, 3, 4.3],\n",
        "    'n_jobs': [-1, 1]\n",
        "}\n",
        "\n",
        "model = KNeighborsClassifier()\n",
        "\n",
        "grid_search = GridSearchCV(estimator=model, param_grid=param_grid, cv=3, n_jobs=-1, verbose=2, scoring='accuracy')\n",
        "grid_search.fit(df_train[1:], y_train)\n",
        "\n",
        "print(\"The parameters with the highest score: \", grid_search.best_params_)"
      ]
    },
    {
      "cell_type": "code",
      "execution_count": 84,
      "metadata": {
        "id": "XO3FjokgULt9",
        "colab": {
          "base_uri": "https://localhost:8080/"
        },
        "outputId": "45b04f74-0bc2-40fd-b43e-4cf9e2b1a39c"
      },
      "outputs": [
        {
          "output_type": "stream",
          "name": "stdout",
          "text": [
            "                                         params  mean_test_score\n",
            "21     {'n_jobs': 1, 'n_neighbors': 15, 'p': 2}         0.547319\n",
            "9     {'n_jobs': -1, 'n_neighbors': 15, 'p': 2}         0.547319\n",
            "23   {'n_jobs': 1, 'n_neighbors': 15, 'p': 4.3}         0.546404\n",
            "11  {'n_jobs': -1, 'n_neighbors': 15, 'p': 4.3}         0.546404\n",
            "10    {'n_jobs': -1, 'n_neighbors': 15, 'p': 3}         0.545737\n",
            "22     {'n_jobs': 1, 'n_neighbors': 15, 'p': 3}         0.545737\n",
            "8     {'n_jobs': -1, 'n_neighbors': 15, 'p': 1}         0.544237\n",
            "20     {'n_jobs': 1, 'n_neighbors': 15, 'p': 1}         0.544237\n",
            "6      {'n_jobs': -1, 'n_neighbors': 7, 'p': 3}         0.536573\n",
            "18      {'n_jobs': 1, 'n_neighbors': 7, 'p': 3}         0.536573\n"
          ]
        }
      ],
      "source": [
        "cv_results_df = pd.DataFrame(grid_search.cv_results_)\n",
        "\n",
        "# Show top 10 parameters for this model\n",
        "minimalistic_results = cv_results_df[['params', 'mean_test_score']]\n",
        "sorted_results = minimalistic_results.sort_values(by='mean_test_score', ascending=False)\n",
        "\n",
        "print(sorted_results.head(10))"
      ]
    },
    {
      "cell_type": "code",
      "execution_count": 85,
      "metadata": {
        "id": "EYjEpXDFUOBY",
        "colab": {
          "base_uri": "https://localhost:8080/",
          "height": 819
        },
        "outputId": "32a2069a-ce4c-4b6a-e855-fa32045154af"
      },
      "outputs": [
        {
          "output_type": "stream",
          "name": "stdout",
          "text": [
            "Metrics for KNN-PCA-GS-CV1:\n",
            "Accuracy: 0.5363\n",
            "Weighted F1: 0.5362\n",
            "Weighted Precision: 0.5363\n",
            "Weighted Recall: 0.5363\n",
            "Macro-Averaged Precision: 0.5363\n",
            "Macro-Averaged Recall: 0.5363\n",
            "F1: [0.54509804 0.52717391]\n",
            "Precision: [0.53633441 0.53628196]\n",
            "classification report\n",
            "              precision    recall  f1-score   support\n",
            "\n",
            "     Class 0       0.54      0.55      0.55      1505\n",
            "     Class 1       0.54      0.52      0.53      1497\n",
            "\n",
            "    accuracy                           0.54      3002\n",
            "   macro avg       0.54      0.54      0.54      3002\n",
            "weighted avg       0.54      0.54      0.54      3002\n",
            "\n",
            "Confusion Matrix\n"
          ]
        },
        {
          "output_type": "display_data",
          "data": {
            "text/plain": [
              "<Figure size 640x480 with 2 Axes>"
            ],
            "image/png": "[encoded data removed]"
          },
          "metadata": {}
        }
      ],
      "source": [
        "best_model = grid_search.best_estimator_\n",
        "predictions = best_model.predict(df_pca_test)\n",
        "_ = calculate_metrics('KNN-PCA-GS-CV1', y_test, predictions)"
      ]
    },
    {
      "cell_type": "code",
      "execution_count": 86,
      "metadata": {
        "id": "sWNZx1YLcD75",
        "colab": {
          "base_uri": "https://localhost:8080/"
        },
        "outputId": "1ac5a516-f8d3-4a41-d149-9537912d4a9b"
      },
      "outputs": [
        {
          "output_type": "stream",
          "name": "stdout",
          "text": [
            "Parameters from place:  0   {'n_jobs': 1, 'n_neighbors': 15, 'p': 2}\n",
            "Accuracy for chosen parameters: 0.5364878373875375\n",
            "Parameters from place:  1   {'n_jobs': -1, 'n_neighbors': 15, 'p': 2}\n",
            "Accuracy for chosen parameters: 0.5364878373875375\n",
            "Parameters from place:  2   {'n_jobs': 1, 'n_neighbors': 15, 'p': 4.3}\n",
            "Accuracy for chosen parameters: 0.5391536154615129\n",
            "Parameters from place:  3   {'n_jobs': -1, 'n_neighbors': 15, 'p': 4.3}\n",
            "Accuracy for chosen parameters: 0.5391536154615129\n",
            "Parameters from place:  4   {'n_jobs': -1, 'n_neighbors': 15, 'p': 3}\n",
            "Accuracy for chosen parameters: 0.5361546151282905\n",
            "Parameters from place:  5   {'n_jobs': 1, 'n_neighbors': 15, 'p': 3}\n",
            "Accuracy for chosen parameters: 0.5361546151282905\n",
            "Parameters from place:  6   {'n_jobs': -1, 'n_neighbors': 15, 'p': 1}\n",
            "Accuracy for chosen parameters: 0.5358213928690436\n",
            "Parameters from place:  7   {'n_jobs': 1, 'n_neighbors': 15, 'p': 1}\n",
            "Accuracy for chosen parameters: 0.5358213928690436\n",
            "Parameters from place:  8   {'n_jobs': -1, 'n_neighbors': 7, 'p': 3}\n",
            "Accuracy for chosen parameters: 0.5334888370543153\n",
            "Parameters from place:  9   {'n_jobs': 1, 'n_neighbors': 7, 'p': 3}\n",
            "Accuracy for chosen parameters: 0.5334888370543153\n"
          ]
        }
      ],
      "source": [
        "# Predicting using other alternatives of fine-tuning from top 10 performances\n",
        "other_alternatives = []\n",
        "# Choose a set of parameters from sorted_results\n",
        "for i in range(10):\n",
        "\n",
        "  params = sorted_results.iloc[i]['params']\n",
        "  print(\"Parameters from place: \", i, \" \", params)\n",
        "\n",
        "  model = KNeighborsClassifier(**params)\n",
        "  model.fit(df_train[1:], y_train)\n",
        "\n",
        "  predictions = model.predict(df_test)\n",
        "  predictions = predictions[1:]\n",
        "  chosen_accuracy = accuracy_score(y_test[1:], predictions)\n",
        "  print(\"Accuracy for chosen parameters:\", chosen_accuracy)\n",
        "  other_alternatives.append((chosen_accuracy,params))"
      ]
    },
    {
      "cell_type": "code",
      "execution_count": 87,
      "metadata": {
        "id": "fMjbZP8LcfYZ"
      },
      "outputs": [],
      "source": [
        "# get best from top 10\n",
        "best_tuple = max(other_alternatives, key=lambda x: x[0])"
      ]
    },
    {
      "cell_type": "code",
      "execution_count": 88,
      "metadata": {
        "id": "-8ibRsy4ch4I",
        "colab": {
          "base_uri": "https://localhost:8080/"
        },
        "outputId": "18eafeb8-e941-431b-e199-21097e1772ff"
      },
      "outputs": [
        {
          "output_type": "stream",
          "name": "stdout",
          "text": [
            "Best accuracy and parameters after running the algorithm using other alternatives of fine tuning from top 10 performances\n",
            "0.5391536154615129\n",
            "{'n_jobs': 1, 'n_neighbors': 15, 'p': 4.3}\n"
          ]
        }
      ],
      "source": [
        "print(\"Best accuracy and parameters after running the algorithm using other alternatives of fine tuning from top 10 performances\")\n",
        "print(best_tuple[0])\n",
        "print(best_tuple[1])"
      ]
    },
    {
      "cell_type": "code",
      "execution_count": 89,
      "metadata": {
        "id": "t9tgvBRncsiN",
        "colab": {
          "base_uri": "https://localhost:8080/"
        },
        "outputId": "3c008952-decd-4b93-a551-2f369bc8e433"
      },
      "outputs": [
        {
          "output_type": "stream",
          "name": "stdout",
          "text": [
            "Parameters from place:  0   {'n_jobs': 1, 'n_neighbors': 15, 'p': 2}\n",
            "Accuracy for chosen parameters: 0.6375374875041653\n",
            "Parameters from place:  1   {'n_jobs': -1, 'n_neighbors': 15, 'p': 2}\n",
            "Accuracy for chosen parameters: 0.6375374875041653\n",
            "Parameters from place:  2   {'n_jobs': 1, 'n_neighbors': 15, 'p': 4.3}\n",
            "Accuracy for chosen parameters: 0.6412862379206931\n",
            "Parameters from place:  3   {'n_jobs': -1, 'n_neighbors': 15, 'p': 4.3}\n",
            "Accuracy for chosen parameters: 0.6412862379206931\n",
            "Parameters from place:  4   {'n_jobs': -1, 'n_neighbors': 15, 'p': 3}\n",
            "Accuracy for chosen parameters: 0.6384538487170943\n",
            "Parameters from place:  5   {'n_jobs': 1, 'n_neighbors': 15, 'p': 3}\n",
            "Accuracy for chosen parameters: 0.6384538487170943\n",
            "Parameters from place:  6   {'n_jobs': -1, 'n_neighbors': 15, 'p': 1}\n",
            "Accuracy for chosen parameters: 0.6301232922359213\n",
            "Parameters from place:  7   {'n_jobs': 1, 'n_neighbors': 15, 'p': 1}\n",
            "Accuracy for chosen parameters: 0.6301232922359213\n",
            "Parameters from place:  8   {'n_jobs': -1, 'n_neighbors': 7, 'p': 3}\n",
            "Accuracy for chosen parameters: 0.6726091302899033\n",
            "Parameters from place:  9   {'n_jobs': 1, 'n_neighbors': 7, 'p': 3}\n",
            "Accuracy for chosen parameters: 0.6726091302899033\n"
          ]
        }
      ],
      "source": [
        "# Run on training sample\n",
        "\n",
        "# Choose a set of parameters from sorted_results\n",
        "for i in range(10):\n",
        "\n",
        "  params = sorted_results.iloc[i]['params']\n",
        "  print(\"Parameters from place: \", i, \" \", params)\n",
        "\n",
        "  model = KNeighborsClassifier(**params)\n",
        "  model.fit(df_train[1:], y_train)\n",
        "\n",
        "  predictions = model.predict(df_pca_train)\n",
        "\n",
        "  chosen_accuracy = accuracy_score(y_train, predictions[1:])\n",
        "  print(\"Accuracy for chosen parameters:\", chosen_accuracy)"
      ]
    }
  ],
  "metadata": {
    "colab": {
      "provenance": []
    },
    "kernelspec": {
      "display_name": "Python 3",
      "name": "python3"
    },
    "language_info": {
      "name": "python"
    }
  },
  "nbformat": 4,
  "nbformat_minor": 0
}