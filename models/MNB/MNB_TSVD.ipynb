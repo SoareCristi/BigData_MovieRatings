{
  "cells": [
    {
      "cell_type": "markdown",
      "metadata": {
        "id": "JpZA6vZphWgQ"
      },
      "source": [
        "## KNN Implementation on scaled reduced dataset with t-SNE"
      ]
    },
    {
      "cell_type": "code",
      "execution_count": 1,
      "metadata": {
        "id": "Pe2H1C9jhWgS"
      },
      "outputs": [],
      "source": [
        "# Utilities\n",
        "import pandas as pd\n",
        "import warnings\n",
        "import numpy as np\n",
        "import matplotlib.pyplot as plt\n",
        "\n",
        "# Models\n",
        "from sklearn.model_selection import train_test_split, cross_val_score\n",
        "from sklearn.naive_bayes import MultinomialNB\n",
        "from sklearn.model_selection import GridSearchCV\n",
        "from sklearn.metrics import accuracy_score, accuracy_score, f1_score\n",
        "from sklearn.metrics import classification_report, precision_score, recall_score, confusion_matrix, ConfusionMatrixDisplay"
      ]
    },
    {
      "cell_type": "code",
      "execution_count": 2,
      "metadata": {
        "id": "VyvrHXXXhWgT"
      },
      "outputs": [],
      "source": [
        "seed = 23"
      ]
    },
    {
      "cell_type": "code",
      "execution_count": 21,
      "metadata": {},
      "outputs": [],
      "source": [
        "df_train = pd.read_csv('X_train_SVD.csv')"
      ]
    },
    {
      "cell_type": "code",
      "execution_count": 22,
      "metadata": {},
      "outputs": [],
      "source": [
        "df_test = pd.read_csv('X_test_SVD.csv')"
      ]
    },
    {
      "cell_type": "code",
      "execution_count": 5,
      "metadata": {},
      "outputs": [
        {
          "name": "stdout",
          "output_type": "stream",
          "text": [
            "Index(['Dimension 1', 'Dimension 2'], dtype='object')\n"
          ]
        }
      ],
      "source": [
        "print(df_train.columns)"
      ]
    },
    {
      "cell_type": "code",
      "execution_count": 23,
      "metadata": {
        "id": "DRjGPJtbhWgU"
      },
      "outputs": [],
      "source": [
        "df_scaled = pd.read_csv('dataset_preprocessed.csv')"
      ]
    },
    {
      "cell_type": "code",
      "execution_count": 10,
      "metadata": {
        "id": "oYLgJokPlG1_"
      },
      "outputs": [
        {
          "name": "stdout",
          "output_type": "stream",
          "text": [
            "Index(['releaseYear', 'runtimeMinutes', 'lifetimeGross', 'nrOfReleases',\n",
            "       'director_nrOfMovies', 'nrOfEmployees', 'nrOfActors', 'averageRating',\n",
            "       'numVotes', 'sameYearTotalMoviesReleased', 'Action', 'Adventure',\n",
            "       'Animation', 'Biography', 'Comedy', 'Crime', 'Documentary', 'Drama',\n",
            "       'Family', 'Fantasy', 'History', 'Horror', 'Music', 'Musical', 'Mystery',\n",
            "       'Other', 'Romance', 'Sci-Fi', 'Sport', 'Thriller', 'War', 'Western'],\n",
            "      dtype='object')\n"
          ]
        }
      ],
      "source": [
        "print(df_scaled.columns)"
      ]
    },
    {
      "cell_type": "code",
      "execution_count": 6,
      "metadata": {
        "colab": {
          "base_uri": "https://localhost:8080/",
          "height": 206
        },
        "id": "4Axsq63GhWgU",
        "outputId": "ba043b45-d4ab-44be-cb02-417dc53116ba"
      },
      "outputs": [
        {
          "data": {
            "text/html": [
              "<div>\n",
              "<style scoped>\n",
              "    .dataframe tbody tr th:only-of-type {\n",
              "        vertical-align: middle;\n",
              "    }\n",
              "\n",
              "    .dataframe tbody tr th {\n",
              "        vertical-align: top;\n",
              "    }\n",
              "\n",
              "    .dataframe thead th {\n",
              "        text-align: right;\n",
              "    }\n",
              "</style>\n",
              "<table border=\"1\" class=\"dataframe\">\n",
              "  <thead>\n",
              "    <tr style=\"text-align: right;\">\n",
              "      <th></th>\n",
              "      <th>Dimension 1</th>\n",
              "      <th>Dimension 2</th>\n",
              "    </tr>\n",
              "  </thead>\n",
              "  <tbody>\n",
              "    <tr>\n",
              "      <th>0</th>\n",
              "      <td>1.103460</td>\n",
              "      <td>0.072267</td>\n",
              "    </tr>\n",
              "    <tr>\n",
              "      <th>1</th>\n",
              "      <td>1.461354</td>\n",
              "      <td>-0.592586</td>\n",
              "    </tr>\n",
              "    <tr>\n",
              "      <th>2</th>\n",
              "      <td>1.647283</td>\n",
              "      <td>0.088656</td>\n",
              "    </tr>\n",
              "    <tr>\n",
              "      <th>3</th>\n",
              "      <td>1.676719</td>\n",
              "      <td>-0.541218</td>\n",
              "    </tr>\n",
              "    <tr>\n",
              "      <th>4</th>\n",
              "      <td>1.570116</td>\n",
              "      <td>-0.572993</td>\n",
              "    </tr>\n",
              "  </tbody>\n",
              "</table>\n",
              "</div>"
            ],
            "text/plain": [
              "   Dimension 1  Dimension 2\n",
              "0     1.103460     0.072267\n",
              "1     1.461354    -0.592586\n",
              "2     1.647283     0.088656\n",
              "3     1.676719    -0.541218\n",
              "4     1.570116    -0.572993"
            ]
          },
          "execution_count": 6,
          "metadata": {},
          "output_type": "execute_result"
        }
      ],
      "source": [
        "df_train.head()"
      ]
    },
    {
      "cell_type": "code",
      "execution_count": 7,
      "metadata": {},
      "outputs": [
        {
          "data": {
            "text/html": [
              "<div>\n",
              "<style scoped>\n",
              "    .dataframe tbody tr th:only-of-type {\n",
              "        vertical-align: middle;\n",
              "    }\n",
              "\n",
              "    .dataframe tbody tr th {\n",
              "        vertical-align: top;\n",
              "    }\n",
              "\n",
              "    .dataframe thead th {\n",
              "        text-align: right;\n",
              "    }\n",
              "</style>\n",
              "<table border=\"1\" class=\"dataframe\">\n",
              "  <thead>\n",
              "    <tr style=\"text-align: right;\">\n",
              "      <th></th>\n",
              "      <th>Dimension 1</th>\n",
              "      <th>Dimension 2</th>\n",
              "    </tr>\n",
              "  </thead>\n",
              "  <tbody>\n",
              "    <tr>\n",
              "      <th>0</th>\n",
              "      <td>1.220573</td>\n",
              "      <td>0.206269</td>\n",
              "    </tr>\n",
              "    <tr>\n",
              "      <th>1</th>\n",
              "      <td>1.250327</td>\n",
              "      <td>-0.570413</td>\n",
              "    </tr>\n",
              "    <tr>\n",
              "      <th>2</th>\n",
              "      <td>1.368459</td>\n",
              "      <td>-0.546002</td>\n",
              "    </tr>\n",
              "    <tr>\n",
              "      <th>3</th>\n",
              "      <td>1.277790</td>\n",
              "      <td>0.761160</td>\n",
              "    </tr>\n",
              "    <tr>\n",
              "      <th>4</th>\n",
              "      <td>1.636357</td>\n",
              "      <td>0.070829</td>\n",
              "    </tr>\n",
              "  </tbody>\n",
              "</table>\n",
              "</div>"
            ],
            "text/plain": [
              "   Dimension 1  Dimension 2\n",
              "0     1.220573     0.206269\n",
              "1     1.250327    -0.570413\n",
              "2     1.368459    -0.546002\n",
              "3     1.277790     0.761160\n",
              "4     1.636357     0.070829"
            ]
          },
          "execution_count": 7,
          "metadata": {},
          "output_type": "execute_result"
        }
      ],
      "source": [
        "df_test.head()"
      ]
    },
    {
      "cell_type": "code",
      "execution_count": 34,
      "metadata": {
        "id": "yTyT0K5fhWgV"
      },
      "outputs": [],
      "source": [
        "#df_scaled_sample = df_scaled.sample(n=1000, random_state=seed)\n",
        "df_scaled_sample = df_scaled"
      ]
    },
    {
      "cell_type": "code",
      "execution_count": 24,
      "metadata": {},
      "outputs": [],
      "source": [
        "labels = df_scaled['averageRating']\n",
        "_, _, y_train, y_test = train_test_split(df_scaled.drop(columns=['averageRating']), labels, test_size=0.2, random_state=42)"
      ]
    },
    {
      "cell_type": "code",
      "execution_count": 13,
      "metadata": {},
      "outputs": [],
      "source": [
        "# df_train['averageRating'] = y_train.reset_index(drop=True)\n",
        "# df_test['averageRating'] = y_test.reset_index(drop=True)"
      ]
    },
    {
      "cell_type": "code",
      "execution_count": 10,
      "metadata": {
        "id": "Kaila3nahWgV"
      },
      "outputs": [],
      "source": [
        "# test_size = 0.2\n",
        "# X_train, X_test, y_train, y_test = train_test_split(\n",
        "#     df_scaled_sample.drop('averageRating', axis=1),\n",
        "#     df_scaled_sample['averageRating'], test_size=test_size,\n",
        "#     random_state=seed\n",
        "# )"
      ]
    },
    {
      "cell_type": "code",
      "execution_count": 14,
      "metadata": {
        "id": "YjQeBHJ8hWgV"
      },
      "outputs": [],
      "source": [
        "def calculate_metrics(model_name, y_true, y_pred):\n",
        "    metrics = {\n",
        "        'Accuracy': accuracy_score(y_true, y_pred),\n",
        "        'Weighted F1': f1_score(y_true, y_pred, average='weighted'),\n",
        "        'Weighted Precision': precision_score(y_true, y_pred, average='weighted', zero_division=0),\n",
        "        'Weighted Recall': recall_score(y_true, y_pred, average='weighted'),\n",
        "        'Macro-Averaged Precision': precision_score(y_true, y_pred, average='macro', zero_division=0),\n",
        "        'Macro-Averaged Recall': recall_score(y_true, y_pred, average='macro'),\n",
        "        'F1': str(f1_score(y_true, y_pred, average=None)),\n",
        "        'Precision': str( precision_score(y_true, y_pred, average=None, zero_division=0)),\n",
        "    }\n",
        "\n",
        "    # Print the metrics\n",
        "    print(f\"Metrics for {model_name}:\")\n",
        "    for metric_name, metric_value in metrics.items():\n",
        "        try:\n",
        "            print(f\"{metric_name}: {metric_value:.4f}\")\n",
        "        except:\n",
        "            print(f\"{metric_name}: {metric_value}\")\n",
        "\n",
        "    # Print the classification report\n",
        "    print(\"classification report\")\n",
        "    report = classification_report(y_true, y_pred, target_names=['Class 0', 'Class 1'], zero_division=0)\n",
        "    print(report)\n",
        "\n",
        "    print(\"Confusion Matrix\")\n",
        "    cm = confusion_matrix(y_true, y_pred)\n",
        "    cmd = ConfusionMatrixDisplay(confusion_matrix=cm)\n",
        "    cmd.plot()\n",
        "\n",
        "    plt.title(f'Confusion matrix for model {model_name} (Accuracy:{metrics[\"Accuracy\"]:.4f})')\n",
        "    plt.show()\n",
        "\n",
        "    # Create df to store metrics\n",
        "    df_metrics = pd.DataFrame(metrics, index=[model_name])\n",
        "\n",
        "    return df_metrics"
      ]
    },
    {
      "cell_type": "code",
      "execution_count": 25,
      "metadata": {},
      "outputs": [
        {
          "name": "stdout",
          "output_type": "stream",
          "text": [
            "Accuracy: 0.5586275816122585\n",
            "F1 score: [0.4925316  0.60949013]\n"
          ]
        }
      ],
      "source": [
        "# # Replace negative values with 0.0\n",
        "df_train = df_train.clip(lower=0)\n",
        "df_test = df_test.clip(lower=0)\n",
        "\n",
        "df_train.fillna(0.0, inplace=True)\n",
        "df_test.fillna(0.0, inplace=True)\n",
        "model = MultinomialNB()\n",
        "model.fit(df_train, y_train)\n",
        "\n",
        "predictions = model.predict(df_test)\n",
        "print(\"Accuracy:\", accuracy_score(y_test, predictions))\n",
        "\n",
        "print(\"F1 score:\", f1_score(y_test, predictions, average=None))"
      ]
    },
    {
      "cell_type": "code",
      "execution_count": 26,
      "metadata": {
        "colab": {
          "base_uri": "https://localhost:8080/"
        },
        "id": "7O5SQGW9hWgW",
        "outputId": "9ed3afbf-4b71-4962-b1dc-36e62fe30f1e"
      },
      "outputs": [
        {
          "name": "stdout",
          "output_type": "stream",
          "text": [
            "Fitting 3 folds for each of 6 candidates, totalling 18 fits\n",
            "The parameters with the highest score:  {'alpha': 0.75, 'fit_prior': False}\n"
          ]
        }
      ],
      "source": [
        "param_grid = {\n",
        "    'alpha' : [0.5, 0.75, 1.0],\n",
        "    'fit_prior' : [True, False]\n",
        "}\n",
        "\n",
        "model = MultinomialNB()\n",
        "\n",
        "grid_search = GridSearchCV(estimator=model, param_grid=param_grid, cv=3, n_jobs=-1, verbose=2, scoring='accuracy')\n",
        "grid_search.fit(df_train, y_train)\n",
        "\n",
        "print(\"The parameters with the highest score: \", grid_search.best_params_)"
      ]
    },
    {
      "cell_type": "code",
      "execution_count": 29,
      "metadata": {
        "colab": {
          "base_uri": "https://localhost:8080/"
        },
        "id": "yGGxBxihhWgW",
        "outputId": "3fd3eda4-1728-4ef5-9c9a-3167c9465728"
      },
      "outputs": [
        {
          "name": "stdout",
          "output_type": "stream",
          "text": [
            "                                params  mean_test_score\n",
            "3  {'alpha': 0.75, 'fit_prior': False}         0.568846\n",
            "5   {'alpha': 1.0, 'fit_prior': False}         0.568846\n",
            "1   {'alpha': 0.5, 'fit_prior': False}         0.568679\n",
            "0    {'alpha': 0.5, 'fit_prior': True}         0.557017\n",
            "2   {'alpha': 0.75, 'fit_prior': True}         0.556934\n",
            "4    {'alpha': 1.0, 'fit_prior': True}         0.556934\n"
          ]
        }
      ],
      "source": [
        "cv_results_df = pd.DataFrame(grid_search.cv_results_)\n",
        "\n",
        "# Show top 10 parameters for this model\n",
        "minimalistic_results = cv_results_df[['params', 'mean_test_score']]\n",
        "sorted_results = minimalistic_results.sort_values(by='mean_test_score', ascending=False)\n",
        "\n",
        "print(sorted_results.head(10))"
      ]
    },
    {
      "cell_type": "code",
      "execution_count": 37,
      "metadata": {
        "colab": {
          "base_uri": "https://localhost:8080/",
          "height": 819
        },
        "id": "wlNO1N9nhWgW",
        "outputId": "d260fdb1-d7bd-4b7e-ed37-e523a6e9e3ca"
      },
      "outputs": [
        {
          "name": "stdout",
          "output_type": "stream",
          "text": [
            "Metrics for MNB-SVD-GS-CV1:\n",
            "Accuracy: 0.4957\n",
            "Weighted F1: 0.4808\n",
            "Weighted Precision: 0.4964\n",
            "Weighted Recall: 0.4957\n",
            "Macro-Averaged Precision: 0.4964\n",
            "Macro-Averaged Recall: 0.4968\n",
            "F1: [0.39536741 0.56742857]\n",
            "Precision: [0.49848943 0.49427576]\n",
            "classification report\n",
            "              precision    recall  f1-score   support\n",
            "\n",
            "     Class 0       0.50      0.33      0.40      1511\n",
            "     Class 1       0.49      0.67      0.57      1491\n",
            "\n",
            "    accuracy                           0.50      3002\n",
            "   macro avg       0.50      0.50      0.48      3002\n",
            "weighted avg       0.50      0.50      0.48      3002\n",
            "\n",
            "Confusion Matrix\n"
          ]
        },
        {
          "data": {
            "image/png": "[encoded data removed]",
            "text/plain": [
              "<Figure size 640x480 with 2 Axes>"
            ]
          },
          "metadata": {},
          "output_type": "display_data"
        }
      ],
      "source": [
        "best_model = grid_search.best_estimator_\n",
        "predictions = best_model.predict(df_test)\n",
        "_ = calculate_metrics('MNB-SVD-GS-CV1', y_test, predictions)"
      ]
    },
    {
      "cell_type": "code",
      "execution_count": 30,
      "metadata": {
        "colab": {
          "base_uri": "https://localhost:8080/"
        },
        "id": "5h3snnU3hWgW",
        "outputId": "2888d303-af11-4ba7-bf3e-5ba525dd4e10"
      },
      "outputs": [
        {
          "name": "stdout",
          "output_type": "stream",
          "text": [
            "Parameters from place:  0   {'alpha': 0.75, 'fit_prior': False}\n",
            "Accuracy for chosen parameters: 0.569620253164557\n",
            "Parameters from place:  1   {'alpha': 1.0, 'fit_prior': False}\n",
            "Accuracy for chosen parameters: 0.569620253164557\n",
            "Parameters from place:  2   {'alpha': 0.5, 'fit_prior': False}\n",
            "Accuracy for chosen parameters: 0.569620253164557\n",
            "Parameters from place:  3   {'alpha': 0.5, 'fit_prior': True}\n",
            "Accuracy for chosen parameters: 0.5586275816122585\n",
            "Parameters from place:  4   {'alpha': 0.75, 'fit_prior': True}\n",
            "Accuracy for chosen parameters: 0.5586275816122585\n"
          ]
        }
      ],
      "source": [
        "# Predicting using other alternatives of fine-tuning from top 10 performances\n",
        "other_alternatives = []\n",
        "# Choose a set of parameters from sorted_results\n",
        "for i in range(5):\n",
        "\n",
        "  params = sorted_results.iloc[i]['params']\n",
        "  print(\"Parameters from place: \", i, \" \", params)\n",
        "\n",
        "  model = MultinomialNB(**params)\n",
        "  model.fit(df_train, y_train)\n",
        "\n",
        "  predictions = model.predict(df_test)\n",
        "\n",
        "  chosen_accuracy = accuracy_score(y_test, predictions)\n",
        "  print(\"Accuracy for chosen parameters:\", chosen_accuracy)\n",
        "  other_alternatives.append((chosen_accuracy,params))\n"
      ]
    },
    {
      "cell_type": "code",
      "execution_count": 31,
      "metadata": {
        "id": "BBu1RNiDhWgX"
      },
      "outputs": [],
      "source": [
        "# get best from top 10\n",
        "best_tuple = max(other_alternatives, key=lambda x: x[0])"
      ]
    },
    {
      "cell_type": "code",
      "execution_count": 32,
      "metadata": {
        "colab": {
          "base_uri": "https://localhost:8080/"
        },
        "id": "d9dctdQthWgX",
        "outputId": "0c7e1758-6842-4545-a265-72643c6ba04c"
      },
      "outputs": [
        {
          "name": "stdout",
          "output_type": "stream",
          "text": [
            "Best accuracy and parameters after running the algorithm using other alternatives of fine tuning from top 10 performances\n",
            "0.569620253164557\n",
            "{'alpha': 0.75, 'fit_prior': False}\n"
          ]
        }
      ],
      "source": [
        "print(\"Best accuracy and parameters after running the algorithm using other alternatives of fine tuning from top 10 performances\")\n",
        "print(best_tuple[0])\n",
        "print(best_tuple[1])"
      ]
    },
    {
      "cell_type": "code",
      "execution_count": 33,
      "metadata": {
        "colab": {
          "base_uri": "https://localhost:8080/"
        },
        "id": "RqwnbAjRhWgX",
        "outputId": "9fab2622-a7b3-41a7-e344-e14fe788ed1a"
      },
      "outputs": [
        {
          "name": "stdout",
          "output_type": "stream",
          "text": [
            "Parameters from place:  0   {'alpha': 0.75, 'fit_prior': False}\n",
            "Accuracy for chosen parameters: 0.5676801332778009\n",
            "Parameters from place:  1   {'alpha': 1.0, 'fit_prior': False}\n",
            "Accuracy for chosen parameters: 0.5676801332778009\n",
            "Parameters from place:  2   {'alpha': 0.5, 'fit_prior': False}\n",
            "Accuracy for chosen parameters: 0.5675968346522282\n",
            "Parameters from place:  3   {'alpha': 0.5, 'fit_prior': True}\n",
            "Accuracy for chosen parameters: 0.5576009995835068\n",
            "Parameters from place:  4   {'alpha': 0.75, 'fit_prior': True}\n",
            "Accuracy for chosen parameters: 0.5575177009579342\n"
          ]
        }
      ],
      "source": [
        "# Run on training sample\n",
        "\n",
        "# Choose a set of parameters from sorted_results\n",
        "for i in range(5):\n",
        "\n",
        "  params = sorted_results.iloc[i]['params']\n",
        "  print(\"Parameters from place: \", i, \" \", params)\n",
        "\n",
        "  model = MultinomialNB(**params)\n",
        "  model.fit(df_train, y_train)\n",
        "\n",
        "  predictions = model.predict(df_train)\n",
        "\n",
        "  chosen_accuracy = accuracy_score(y_train, predictions)\n",
        "  print(\"Accuracy for chosen parameters:\", chosen_accuracy)"
      ]
    },
    {
      "cell_type": "code",
      "execution_count": 35,
      "metadata": {
        "colab": {
          "base_uri": "https://localhost:8080/"
        },
        "id": "RAxXp_q5hWgY",
        "outputId": "980196b5-1445-4f7d-ad1b-c070c5740d98"
      },
      "outputs": [
        {
          "name": "stdout",
          "output_type": "stream",
          "text": [
            "0.6708860759493671\n",
            "0.6772151898734177\n",
            "0.6655562958027982\n",
            "0.6755496335776149\n",
            "0.6748834110592938\n",
            "0.6658894070619586\n",
            "0.6722185209860093\n",
            "0.6718854097268487\n",
            "0.6712191872085277\n",
            "0.6775483011325782\n",
            "0.6632245169886742\n",
            "0.6635576282478348\n",
            "0.6748834110592938\n",
            "0.6618920719520319\n",
            "0.6772151898734177\n",
            "0.6725516322451699\n",
            "0.6618920719520319\n",
            "0.6718854097268487\n",
            "0.6705529646902065\n",
            "0.6728847435043305\n",
            "0.67854763491006\n",
            "0.6752165223184544\n",
            "0.6868754163890739\n",
            "0.6825449700199867\n",
            "0.6668887408394404\n",
            "0.6728847435043305\n",
            "0.6508994003997335\n",
            "0.656562291805463\n",
            "0.6748834110592938\n",
            "0.6658894070619586\n",
            "0.6942038640906063\n",
            "0.667221852098601\n",
            "0.6768820786142572\n",
            "0.6618920719520319\n",
            "0.6725516322451699\n",
            "0.6822118587608261\n",
            "0.676215856095936\n",
            "0.6685542971352432\n",
            "0.6772151898734177\n",
            "0.6885409726848768\n",
            "0.656562291805463\n",
            "0.6855429713524317\n",
            "0.6635576282478348\n",
            "0.679213857428381\n",
            "0.664890073284477\n",
            "0.6698867421718854\n",
            "0.6665556295802798\n",
            "0.6712191872085277\n",
            "0.6595602931379081\n",
            "0.6698867421718854\n",
            "0.6705529646902065\n",
            "0.6705529646902065\n",
            "0.6758827448367755\n",
            "0.6858760826115923\n",
            "0.6712191872085277\n",
            "0.6675549633577615\n",
            "0.6645569620253164\n",
            "0.664890073284477\n",
            "0.676215856095936\n",
            "0.6502331778814124\n",
            "0.655896069287142\n",
            "0.67854763491006\n",
            "0.6858760826115923\n",
            "0.6755496335776149\n",
            "0.6775483011325782\n",
            "0.67854763491006\n",
            "0.664890073284477\n",
            "0.6618920719520319\n",
            "0.6545636242504996\n",
            "0.670219853431046\n",
            "0.6725516322451699\n",
            "0.6855429713524317\n",
            "0.6608927381745503\n",
            "0.6698867421718854\n",
            "0.664890073284477\n",
            "0.6745502998001333\n",
            "0.6508994003997335\n",
            "0.679213857428381\n",
            "0.664890073284477\n",
            "0.6692205196535643\n",
            "0.6718854097268487\n",
            "0.6832111925383078\n",
            "0.6625582944703531\n",
            "0.6748834110592938\n",
            "0.6572285143237842\n",
            "0.6745502998001333\n",
            "0.6878747501665556\n",
            "0.6725516322451699\n",
            "0.6825449700199867\n",
            "0.6642238507661559\n",
            "0.6688874083944037\n",
            "0.6685542971352432\n",
            "0.6795469686875416\n",
            "0.6872085276482345\n",
            "0.6755496335776149\n",
            "0.6718854097268487\n",
            "0.6748834110592938\n",
            "0.6692205196535643\n",
            "0.6858760826115923\n",
            "0.6852098600932711\n",
            "Best Classification Report:\n",
            "              precision    recall  f1-score   support\n",
            "\n",
            "           0       0.68      0.80      0.73      1572\n",
            "           1       0.72      0.58      0.64      1430\n",
            "\n",
            "    accuracy                           0.69      3002\n",
            "   macro avg       0.70      0.69      0.69      3002\n",
            "weighted avg       0.70      0.69      0.69      3002\n",
            "\n",
            "Best Accuracy: 0.6942038640906063\n",
            "\n",
            "Average Classification Report:\n",
            "precision: 0.6800\n",
            "recall: 0.6711\n",
            "f1-score: 0.6673\n",
            "accuracy: 0.6717\n"
          ]
        }
      ],
      "source": [
        "best_accuracy = 0\n",
        "best_report = None\n",
        "best_predictions = None\n",
        "y_best_predictions = None\n",
        "all_reports = []\n",
        "\n",
        "for i in range(100):\n",
        "  random_state_fit = np.random.randint(1000)\n",
        "\n",
        "  test_size = 0.2\n",
        "  X_train, X_test, y_train, y_test = train_test_split(\n",
        "    df_scaled_sample.drop('averageRating', axis=1),\n",
        "    df_scaled_sample['averageRating'], test_size=test_size,\n",
        "    random_state=random_state_fit)\n",
        "\n",
        "  X_train.fillna(0.0, inplace=True)\n",
        "  y_train.fillna(0.0, inplace=True)\n",
        "  y_test.fillna(0.0, inplace=True)\n",
        "  X_train = X_train.clip(lower=0)\n",
        "  X_test = X_test.clip(lower=0)\n",
        "\n",
        "  model = MultinomialNB(**best_tuple[1])\n",
        "  model.fit(X_train, y_train)\n",
        "\n",
        "  predictions = model.predict(X_test)\n",
        "  current_accuracy = accuracy_score(y_test, predictions)\n",
        "\n",
        "  report = classification_report(y_test, predictions, output_dict=True, zero_division=0)\n",
        "  all_reports.append(report)\n",
        "  print(current_accuracy)\n",
        "\n",
        "  if current_accuracy > best_accuracy:\n",
        "        best_accuracy = current_accuracy\n",
        "        best_report = report\n",
        "        best_predictions = predictions\n",
        "        y_best_predictions = y_test\n",
        "\n",
        "def average_classification_report(reports):\n",
        "    metrics = ['precision', 'recall', 'f1-score']\n",
        "    avg_report = {}\n",
        "    for metric in metrics:\n",
        "        avg_report[metric] = sum(r['macro avg'][metric] for r in reports) / len(reports)\n",
        "    avg_report['accuracy'] = sum(r['accuracy'] for r in reports) / len(reports)\n",
        "    return avg_report\n",
        "\n",
        "avg_report = average_classification_report(all_reports)\n",
        "\n",
        "print(\"Best Classification Report:\")\n",
        "print(classification_report(y_best_predictions, best_predictions, zero_division=0))\n",
        "print(\"Best Accuracy:\", best_accuracy)\n",
        "print()\n",
        "print(\"Average Classification Report:\")\n",
        "for metric, score in avg_report.items():\n",
        "    print(f\"{metric}: {score:.4f}\")"
      ]
    },
    {
      "cell_type": "code",
      "execution_count": 38,
      "metadata": {
        "colab": {
          "base_uri": "https://localhost:8080/",
          "height": 935
        },
        "id": "x7V7lqGAhWgY",
        "outputId": "127d18d3-f415-4a80-e442-b9b71c86bcc7"
      },
      "outputs": [
        {
          "name": "stdout",
          "output_type": "stream",
          "text": [
            "Metrics for MNB-SVD-Shuffled_best:\n",
            "Accuracy: 0.6942\n",
            "Weighted F1: 0.6900\n",
            "Weighted Precision: 0.6988\n",
            "Weighted Recall: 0.6942\n",
            "Macro-Averaged Precision: 0.6999\n",
            "Macro-Averaged Recall: 0.6890\n",
            "F1: [0.73236152 0.64335664]\n",
            "Precision: [0.67599569 0.72377622]\n",
            "classification report\n",
            "              precision    recall  f1-score   support\n",
            "\n",
            "     Class 0       0.68      0.80      0.73      1572\n",
            "     Class 1       0.72      0.58      0.64      1430\n",
            "\n",
            "    accuracy                           0.69      3002\n",
            "   macro avg       0.70      0.69      0.69      3002\n",
            "weighted avg       0.70      0.69      0.69      3002\n",
            "\n",
            "Confusion Matrix\n"
          ]
        },
        {
          "data": {
            "image/png": "[encoded data removed]",
            "text/plain": [
              "<Figure size 640x480 with 2 Axes>"
            ]
          },
          "metadata": {},
          "output_type": "display_data"
        },
        {
          "data": {
            "text/html": [
              "<div>\n",
              "<style scoped>\n",
              "    .dataframe tbody tr th:only-of-type {\n",
              "        vertical-align: middle;\n",
              "    }\n",
              "\n",
              "    .dataframe tbody tr th {\n",
              "        vertical-align: top;\n",
              "    }\n",
              "\n",
              "    .dataframe thead th {\n",
              "        text-align: right;\n",
              "    }\n",
              "</style>\n",
              "<table border=\"1\" class=\"dataframe\">\n",
              "  <thead>\n",
              "    <tr style=\"text-align: right;\">\n",
              "      <th></th>\n",
              "      <th>Accuracy</th>\n",
              "      <th>Weighted F1</th>\n",
              "      <th>Weighted Precision</th>\n",
              "      <th>Weighted Recall</th>\n",
              "      <th>Macro-Averaged Precision</th>\n",
              "      <th>Macro-Averaged Recall</th>\n",
              "      <th>F1</th>\n",
              "      <th>Precision</th>\n",
              "    </tr>\n",
              "  </thead>\n",
              "  <tbody>\n",
              "    <tr>\n",
              "      <th>MNB-SVD-Shuffled_best</th>\n",
              "      <td>0.694204</td>\n",
              "      <td>0.689964</td>\n",
              "      <td>0.698756</td>\n",
              "      <td>0.694204</td>\n",
              "      <td>0.699886</td>\n",
              "      <td>0.689002</td>\n",
              "      <td>[0.73236152 0.64335664]</td>\n",
              "      <td>[0.67599569 0.72377622]</td>\n",
              "    </tr>\n",
              "  </tbody>\n",
              "</table>\n",
              "</div>"
            ],
            "text/plain": [
              "                       Accuracy  Weighted F1  Weighted Precision  \\\n",
              "MNB-SVD-Shuffled_best  0.694204     0.689964            0.698756   \n",
              "\n",
              "                       Weighted Recall  Macro-Averaged Precision  \\\n",
              "MNB-SVD-Shuffled_best         0.694204                  0.699886   \n",
              "\n",
              "                       Macro-Averaged Recall                       F1  \\\n",
              "MNB-SVD-Shuffled_best               0.689002  [0.73236152 0.64335664]   \n",
              "\n",
              "                                     Precision  \n",
              "MNB-SVD-Shuffled_best  [0.67599569 0.72377622]  "
            ]
          },
          "execution_count": 38,
          "metadata": {},
          "output_type": "execute_result"
        }
      ],
      "source": [
        "calculate_metrics('MNB-SVD-Shuffled_best', y_best_predictions, best_predictions)"
      ]
    }
  ],
  "metadata": {
    "colab": {
      "provenance": []
    },
    "kernelspec": {
      "display_name": "Python 3",
      "language": "python",
      "name": "python3"
    },
    "language_info": {
      "codemirror_mode": {
        "name": "ipython",
        "version": 3
      },
      "file_extension": ".py",
      "mimetype": "text/x-python",
      "name": "python",
      "nbconvert_exporter": "python",
      "pygments_lexer": "ipython3",
      "version": "3.9.6"
    }
  },
  "nbformat": 4,
  "nbformat_minor": 0
}
