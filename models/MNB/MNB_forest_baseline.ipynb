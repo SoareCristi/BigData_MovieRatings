{
  "cells": [
    {
      "cell_type": "markdown",
      "metadata": {
        "id": "jrz4x7_a9nW7"
      },
      "source": [
        "## Multinomial Naive Bayes Implementation on scaled non-reduced dataset"
      ]
    },
    {
      "cell_type": "code",
      "execution_count": 1,
      "metadata": {
        "id": "9lb48oA79nW9"
      },
      "outputs": [],
      "source": [
        "# Utilities\n",
        "import pandas as pd\n",
        "import warnings\n",
        "import numpy as np\n",
        "import matplotlib.pyplot as plt\n",
        "\n",
        "# Models\n",
        "from sklearn.model_selection import train_test_split, cross_val_score\n",
        "from sklearn.naive_bayes import MultinomialNB\n",
        "from sklearn.model_selection import GridSearchCV\n",
        "from sklearn.metrics import accuracy_score, accuracy_score, f1_score\n",
        "from sklearn.metrics import classification_report, precision_score, recall_score, confusion_matrix, ConfusionMatrixDisplay"
      ]
    },
    {
      "cell_type": "code",
      "execution_count": 2,
      "metadata": {
        "id": "6BgZ87i_9nW_"
      },
      "outputs": [],
      "source": [
        "seed = 23"
      ]
    },
    {
      "cell_type": "code",
      "execution_count": 4,
      "metadata": {
        "id": "CtZPnUch9nW_"
      },
      "outputs": [],
      "source": [
        "df_scaled = pd.read_csv('../../Data/dataset_preprocessed.csv')"
      ]
    },
    {
      "cell_type": "code",
      "execution_count": 5,
      "metadata": {
        "id": "hb6x1ej69nW_"
      },
      "outputs": [],
      "source": [
        "#df_scaled_sample = df_scaled.sample(n=1000, random_state=seed)\n",
        "df_scaled_sample = df_scaled"
      ]
    },
    {
      "cell_type": "code",
      "execution_count": 6,
      "metadata": {
        "id": "RgYiaJ-n9nXA"
      },
      "outputs": [],
      "source": [
        "test_size = 0.2\n",
        "X_train, X_test, y_train, y_test = train_test_split(\n",
        "    df_scaled_sample.drop('averageRating', axis=1),\n",
        "    df_scaled_sample['averageRating'], test_size=test_size,\n",
        "    random_state=seed\n",
        ")"
      ]
    },
    {
      "cell_type": "code",
      "execution_count": 7,
      "metadata": {
        "id": "TUB8yfE49nXA"
      },
      "outputs": [],
      "source": [
        "def calculate_metrics(model_name, y_true, y_pred):\n",
        "    metrics = {\n",
        "        'Accuracy': accuracy_score(y_true, y_pred),\n",
        "        'Weighted F1': f1_score(y_true, y_pred, average='weighted'),\n",
        "        'Weighted Precision': precision_score(y_true, y_pred, average='weighted', zero_division=0),\n",
        "        'Weighted Recall': recall_score(y_true, y_pred, average='weighted'),\n",
        "        'Macro-Averaged Precision': precision_score(y_true, y_pred, average='macro', zero_division=0),\n",
        "        'Macro-Averaged Recall': recall_score(y_true, y_pred, average='macro'),\n",
        "        'F1': str(f1_score(y_true, y_pred, average=None)),\n",
        "        'Precision': str( precision_score(y_true, y_pred, average=None, zero_division=0)),\n",
        "    }\n",
        "\n",
        "    # Print the metrics\n",
        "    print(f\"Metrics for {model_name}:\")\n",
        "    for metric_name, metric_value in metrics.items():\n",
        "        try:\n",
        "            print(f\"{metric_name}: {metric_value:.4f}\")\n",
        "        except:\n",
        "            print(f\"{metric_name}: {metric_value}\")\n",
        "\n",
        "    # Print the classification report\n",
        "    print(\"classification report\")\n",
        "    report = classification_report(y_true, y_pred, target_names=['Class 0', 'Class 1'], zero_division=0)\n",
        "    print(report)\n",
        "\n",
        "    print(\"Confusion Matrix\")\n",
        "    cm = confusion_matrix(y_true, y_pred)\n",
        "    cmd = ConfusionMatrixDisplay(confusion_matrix=cm)\n",
        "    cmd.plot()\n",
        "\n",
        "    plt.title(f'Confusion matrix for model {model_name} (Accuracy:{metrics[\"Accuracy\"]:.4f})')\n",
        "    plt.show()\n",
        "\n",
        "    # Create df to store metrics\n",
        "    df_metrics = pd.DataFrame(metrics, index=[model_name])\n",
        "\n",
        "    return df_metrics"
      ]
    },
    {
      "cell_type": "code",
      "execution_count": 13,
      "metadata": {
        "id": "YvL4ydJP9nXA",
        "outputId": "da659ccb-2c7f-4abf-e675-16212fbc1382",
        "colab": {
          "base_uri": "https://localhost:8080/"
        }
      },
      "outputs": [
        {
          "output_type": "stream",
          "name": "stdout",
          "text": [
            "Accuracy: 0.6624203821656051\n",
            "F1 score: [0.72866894 0.55337079]\n"
          ]
        }
      ],
      "source": [
        "X_train.fillna(0.0, inplace=True)\n",
        "y_train.fillna(0.0, inplace=True)\n",
        "model = MultinomialNB()\n",
        "model.fit(X_train, y_train)\n",
        "\n",
        "predictions = model.predict(X_test)\n",
        "print(\"Accuracy:\", accuracy_score(y_test, predictions))\n",
        "\n",
        "print(\"F1 score:\", f1_score(y_test, predictions, average=None))"
      ]
    },
    {
      "cell_type": "code",
      "execution_count": 16,
      "metadata": {
        "id": "N2iiSd4p9nXB",
        "outputId": "7e3f8cfe-4cad-45c8-d417-fff87374e800",
        "colab": {
          "base_uri": "https://localhost:8080/"
        }
      },
      "outputs": [
        {
          "output_type": "stream",
          "name": "stdout",
          "text": [
            "Fitting 3 folds for each of 6 candidates, totalling 18 fits\n",
            "The parameters with the highest score:  {'alpha': 0.5, 'fit_prior': False}\n"
          ]
        }
      ],
      "source": [
        "param_grid = {\n",
        "    'alpha' : [0.5, 0.75, 1.0],\n",
        "    'fit_prior' : [True, False]\n",
        "}\n",
        "\n",
        "model = MultinomialNB()\n",
        "\n",
        "grid_search = GridSearchCV(estimator=model, param_grid=param_grid, cv=3, n_jobs=-1, verbose=2, scoring='accuracy')\n",
        "grid_search.fit(X_train, y_train)\n",
        "\n",
        "print(\"The parameters with the highest score: \", grid_search.best_params_)"
      ]
    },
    {
      "cell_type": "code",
      "execution_count": 17,
      "metadata": {
        "id": "ZilA-_db9nXB",
        "outputId": "cab01ec3-2fea-44a2-89c5-3ae7c9e6f05c",
        "colab": {
          "base_uri": "https://localhost:8080/"
        }
      },
      "outputs": [
        {
          "output_type": "stream",
          "name": "stdout",
          "text": [
            "                                params  mean_test_score\n",
            "1   {'alpha': 0.5, 'fit_prior': False}         0.680467\n",
            "3  {'alpha': 0.75, 'fit_prior': False}         0.680467\n",
            "5   {'alpha': 1.0, 'fit_prior': False}         0.680202\n",
            "0    {'alpha': 0.5, 'fit_prior': True}         0.665605\n",
            "2   {'alpha': 0.75, 'fit_prior': True}         0.664809\n",
            "4    {'alpha': 1.0, 'fit_prior': True}         0.664809\n"
          ]
        }
      ],
      "source": [
        "cv_results_df = pd.DataFrame(grid_search.cv_results_)\n",
        "\n",
        "# Show top 10 parameters for this model\n",
        "minimalistic_results = cv_results_df[['params', 'mean_test_score']]\n",
        "sorted_results = minimalistic_results.sort_values(by='mean_test_score', ascending=False)\n",
        "\n",
        "print(sorted_results.head(10))"
      ]
    },
    {
      "cell_type": "code",
      "execution_count": 19,
      "metadata": {
        "id": "P2qB2E_W9nXB",
        "outputId": "9582ac4a-9ee3-4392-c060-5af6415a3dea",
        "colab": {
          "base_uri": "https://localhost:8080/",
          "height": 819
        }
      },
      "outputs": [
        {
          "output_type": "stream",
          "name": "stdout",
          "text": [
            "Metrics for MNB-GS-CV1:\n",
            "Accuracy: 0.6773\n",
            "Weighted F1: 0.6735\n",
            "Weighted Precision: 0.6750\n",
            "Weighted Recall: 0.6773\n",
            "Macro-Averaged Precision: 0.6728\n",
            "Macro-Averaged Recall: 0.6649\n",
            "F1: [0.72710952 0.60519481]\n",
            "Precision: [0.69112628 0.65449438]\n",
            "classification report\n",
            "              precision    recall  f1-score   support\n",
            "\n",
            "     Class 0       0.69      0.77      0.73       528\n",
            "     Class 1       0.65      0.56      0.61       414\n",
            "\n",
            "    accuracy                           0.68       942\n",
            "   macro avg       0.67      0.66      0.67       942\n",
            "weighted avg       0.68      0.68      0.67       942\n",
            "\n",
            "Confusion Matrix\n"
          ]
        },
        {
          "output_type": "display_data",
          "data": {
            "text/plain": [
              "<Figure size 640x480 with 2 Axes>"
            ],
            "image/png": "[encoded data removed]"
          },
          "metadata": {}
        }
      ],
      "source": [
        "best_model = grid_search.best_estimator_\n",
        "predictions = best_model.predict(X_test)\n",
        "_ = calculate_metrics('MNB-GS-CV1', y_test, predictions)"
      ]
    },
    {
      "cell_type": "code",
      "execution_count": 21,
      "metadata": {
        "id": "X56BHM979nXB",
        "outputId": "e286313e-e81b-48d6-8773-f2045ac97fbd",
        "colab": {
          "base_uri": "https://localhost:8080/"
        }
      },
      "outputs": [
        {
          "output_type": "stream",
          "name": "stdout",
          "text": [
            "Parameters from place:  0   {'alpha': 0.5, 'fit_prior': False}\n",
            "Accuracy for chosen parameters: 0.6772823779193206\n",
            "Parameters from place:  1   {'alpha': 0.75, 'fit_prior': False}\n",
            "Accuracy for chosen parameters: 0.6772823779193206\n",
            "Parameters from place:  2   {'alpha': 1.0, 'fit_prior': False}\n",
            "Accuracy for chosen parameters: 0.6772823779193206\n",
            "Parameters from place:  3   {'alpha': 0.5, 'fit_prior': True}\n",
            "Accuracy for chosen parameters: 0.6624203821656051\n",
            "Parameters from place:  4   {'alpha': 0.75, 'fit_prior': True}\n",
            "Accuracy for chosen parameters: 0.6624203821656051\n"
          ]
        }
      ],
      "source": [
        "# Predicting using other alternatives of fine-tuning from top 10 performances\n",
        "other_alternatives = []\n",
        "# Choose a set of parameters from sorted_results\n",
        "for i in range(5):\n",
        "\n",
        "  params = sorted_results.iloc[i]['params']\n",
        "  print(\"Parameters from place: \", i, \" \", params)\n",
        "\n",
        "  model = MultinomialNB(**params)\n",
        "  model.fit(X_train, y_train)\n",
        "\n",
        "  predictions = model.predict(X_test)\n",
        "\n",
        "  chosen_accuracy = accuracy_score(y_test, predictions)\n",
        "  print(\"Accuracy for chosen parameters:\", chosen_accuracy)\n",
        "  other_alternatives.append((chosen_accuracy,params))\n"
      ]
    },
    {
      "cell_type": "code",
      "execution_count": 23,
      "metadata": {
        "id": "rwRh7E-b9nXC"
      },
      "outputs": [],
      "source": [
        "# get best from top 5\n",
        "best_tuple = max(other_alternatives, key=lambda x: x[0])"
      ]
    },
    {
      "cell_type": "code",
      "execution_count": 24,
      "metadata": {
        "id": "R8lOuVqa9nXC",
        "outputId": "9dcc0091-afca-4d14-d4aa-4bee68d7b38e",
        "colab": {
          "base_uri": "https://localhost:8080/"
        }
      },
      "outputs": [
        {
          "output_type": "stream",
          "name": "stdout",
          "text": [
            "Best accuracy and parameters after running the algorithm using other alternatives of fine tuning from top 10 performances\n",
            "0.6772823779193206\n",
            "{'alpha': 0.5, 'fit_prior': False}\n"
          ]
        }
      ],
      "source": [
        "print(\"Best accuracy and parameters after running the algorithm using other alternatives of fine tuning from top 10 performances\")\n",
        "print(best_tuple[0])\n",
        "print(best_tuple[1])"
      ]
    },
    {
      "cell_type": "code",
      "execution_count": 26,
      "metadata": {
        "id": "wgQiNgL59nXC",
        "outputId": "d57470a2-2a8e-4951-db1e-e6435b79ddeb",
        "colab": {
          "base_uri": "https://localhost:8080/"
        }
      },
      "outputs": [
        {
          "output_type": "stream",
          "name": "stdout",
          "text": [
            "Parameters from place:  0   {'alpha': 0.5, 'fit_prior': False}\n",
            "Accuracy for chosen parameters: 0.684447983014862\n",
            "Parameters from place:  1   {'alpha': 0.75, 'fit_prior': False}\n",
            "Accuracy for chosen parameters: 0.684447983014862\n",
            "Parameters from place:  2   {'alpha': 1.0, 'fit_prior': False}\n",
            "Accuracy for chosen parameters: 0.6847133757961783\n",
            "Parameters from place:  3   {'alpha': 0.5, 'fit_prior': True}\n",
            "Accuracy for chosen parameters: 0.6698513800424628\n",
            "Parameters from place:  4   {'alpha': 0.75, 'fit_prior': True}\n",
            "Accuracy for chosen parameters: 0.6698513800424628\n"
          ]
        }
      ],
      "source": [
        "# Run on training sample\n",
        "\n",
        "# Choose a set of parameters from sorted_results\n",
        "for i in range(5):\n",
        "\n",
        "  params = sorted_results.iloc[i]['params']\n",
        "  print(\"Parameters from place: \", i, \" \", params)\n",
        "\n",
        "  model = MultinomialNB(**params)\n",
        "  model.fit(X_train, y_train)\n",
        "\n",
        "  predictions = model.predict(X_train)\n",
        "\n",
        "  chosen_accuracy = accuracy_score(y_train, predictions)\n",
        "  print(\"Accuracy for chosen parameters:\", chosen_accuracy)"
      ]
    },
    {
      "cell_type": "code",
      "execution_count": 29,
      "metadata": {
        "id": "fT4Ux3CJ9nXC",
        "outputId": "26c78925-d0bc-42c7-d889-abf7ab7820a1",
        "colab": {
          "base_uri": "https://localhost:8080/"
        }
      },
      "outputs": [
        {
          "output_type": "stream",
          "name": "stdout",
          "text": [
            "0.6666666666666666\n",
            "0.6656050955414012\n",
            "0.6804670912951167\n",
            "0.6878980891719745\n",
            "0.667728237791932\n",
            "0.648619957537155\n",
            "0.673036093418259\n",
            "0.6762208067940552\n",
            "0.6581740976645435\n",
            "0.6878980891719745\n",
            "0.678343949044586\n",
            "0.6698513800424628\n",
            "0.673036093418259\n",
            "0.6836518046709129\n",
            "0.6825902335456475\n",
            "0.6719745222929936\n",
            "0.673036093418259\n",
            "0.678343949044586\n",
            "0.6571125265392781\n",
            "0.667728237791932\n",
            "0.6624203821656051\n",
            "0.6751592356687898\n",
            "0.6687898089171974\n",
            "0.6772823779193206\n",
            "0.6900212314225053\n",
            "0.6709129511677282\n",
            "0.6645435244161358\n",
            "0.6698513800424628\n",
            "0.6687898089171974\n",
            "0.6815286624203821\n",
            "0.673036093418259\n",
            "0.6719745222929936\n",
            "0.6942675159235668\n",
            "0.6889596602972399\n",
            "0.6560509554140127\n",
            "0.692144373673036\n",
            "0.648619957537155\n",
            "0.667728237791932\n",
            "0.6762208067940552\n",
            "0.6634819532908705\n",
            "0.6411889596602972\n",
            "0.6549893842887473\n",
            "0.7048832271762208\n",
            "0.6794055201698513\n",
            "0.678343949044586\n",
            "0.6868365180467091\n",
            "0.6634819532908705\n",
            "0.6772823779193206\n",
            "0.648619957537155\n",
            "0.6634819532908705\n",
            "0.6751592356687898\n",
            "0.6868365180467091\n",
            "0.692144373673036\n",
            "0.6794055201698513\n",
            "0.6836518046709129\n",
            "0.6847133757961783\n",
            "0.6772823779193206\n",
            "0.6825902335456475\n",
            "0.673036093418259\n",
            "0.6857749469214437\n",
            "0.6825902335456475\n",
            "0.6602972399150743\n",
            "0.6475583864118896\n",
            "0.6772823779193206\n",
            "0.6762208067940552\n",
            "0.667728237791932\n",
            "0.6836518046709129\n",
            "0.6942675159235668\n",
            "0.6963906581740976\n",
            "0.6698513800424628\n",
            "0.6878980891719745\n",
            "0.6666666666666666\n",
            "0.6963906581740976\n",
            "0.6464968152866242\n",
            "0.6634819532908705\n",
            "0.7048832271762208\n",
            "0.6358811040339702\n",
            "0.6794055201698513\n",
            "0.6815286624203821\n",
            "0.6740976645435244\n",
            "0.6815286624203821\n",
            "0.6825902335456475\n",
            "0.6560509554140127\n",
            "0.6857749469214437\n",
            "0.6613588110403397\n",
            "0.6857749469214437\n",
            "0.6581740976645435\n",
            "0.6645435244161358\n",
            "0.6571125265392781\n",
            "0.6475583864118896\n",
            "0.6772823779193206\n",
            "0.6815286624203821\n",
            "0.6995753715498938\n",
            "0.6825902335456475\n",
            "0.6624203821656051\n",
            "0.6656050955414012\n",
            "0.6740976645435244\n",
            "0.6815286624203821\n",
            "0.6804670912951167\n",
            "0.6751592356687898\n",
            "Best Classification Report:\n",
            "              precision    recall  f1-score   support\n",
            "\n",
            "         0.0       0.72      0.78      0.75       526\n",
            "         1.0       0.69      0.61      0.65       416\n",
            "\n",
            "    accuracy                           0.70       942\n",
            "   macro avg       0.70      0.70      0.70       942\n",
            "weighted avg       0.70      0.70      0.70       942\n",
            "\n",
            "Best Accuracy: 0.7048832271762208\n",
            "\n",
            "Average Classification Report:\n",
            "precision: 0.6719\n",
            "recall: 0.6658\n",
            "f1-score: 0.6662\n",
            "accuracy: 0.6738\n"
          ]
        }
      ],
      "source": [
        "best_accuracy = 0\n",
        "best_report = None\n",
        "best_predictions = None\n",
        "y_best_predictions = None\n",
        "all_reports = []\n",
        "\n",
        "for i in range(100):\n",
        "  random_state_fit = np.random.randint(1000)\n",
        "\n",
        "  test_size = 0.2\n",
        "  X_train, X_test, y_train, y_test = train_test_split(\n",
        "    df_scaled_sample.drop('averageRating', axis=1),\n",
        "    df_scaled_sample['averageRating'], test_size=test_size,\n",
        "    random_state=random_state_fit)\n",
        "\n",
        "  X_train.fillna(0.0, inplace=True)\n",
        "  y_train.fillna(0.0, inplace=True)\n",
        "  X_test.fillna(0.0, inplace=True)\n",
        "  y_test.fillna(0.0, inplace=True)\n",
        "\n",
        "  model = MultinomialNB(**best_tuple[1])\n",
        "  model.fit(X_train, y_train)\n",
        "\n",
        "  predictions = model.predict(X_test)\n",
        "  current_accuracy = accuracy_score(y_test, predictions)\n",
        "\n",
        "  report = classification_report(y_test, predictions, output_dict=True, zero_division=0)\n",
        "  all_reports.append(report)\n",
        "  print(current_accuracy)\n",
        "\n",
        "  if current_accuracy > best_accuracy:\n",
        "        best_accuracy = current_accuracy\n",
        "        best_report = report\n",
        "        best_predictions = predictions\n",
        "        y_best_predictions = y_test\n",
        "\n",
        "def average_classification_report(reports):\n",
        "    metrics = ['precision', 'recall', 'f1-score']\n",
        "    avg_report = {}\n",
        "    for metric in metrics:\n",
        "        avg_report[metric] = sum(r['macro avg'][metric] for r in reports) / len(reports)\n",
        "    avg_report['accuracy'] = sum(r['accuracy'] for r in reports) / len(reports)\n",
        "    return avg_report\n",
        "\n",
        "avg_report = average_classification_report(all_reports)\n",
        "\n",
        "print(\"Best Classification Report:\")\n",
        "print(classification_report(y_best_predictions, best_predictions, zero_division=0))\n",
        "print(\"Best Accuracy:\", best_accuracy)\n",
        "print()\n",
        "print(\"Average Classification Report:\")\n",
        "for metric, score in avg_report.items():\n",
        "    print(f\"{metric}: {score:.4f}\")"
      ]
    },
    {
      "cell_type": "code",
      "execution_count": 30,
      "metadata": {
        "id": "LUjWUY0Q9nXD",
        "outputId": "702c132d-4b4e-458a-e472-7c7e02cfb20e",
        "colab": {
          "base_uri": "https://localhost:8080/",
          "height": 918
        }
      },
      "outputs": [
        {
          "output_type": "stream",
          "name": "stdout",
          "text": [
            "Metrics for MNB-Shuffled_best:\n",
            "Accuracy: 0.7049\n",
            "Weighted F1: 0.7026\n",
            "Weighted Precision: 0.7034\n",
            "Weighted Recall: 0.7049\n",
            "Macro-Averaged Precision: 0.7015\n",
            "Macro-Averaged Recall: 0.6953\n",
            "F1: [0.74635036 0.64720812]\n",
            "Precision: [0.71754386 0.68548387]\n",
            "classification report\n",
            "              precision    recall  f1-score   support\n",
            "\n",
            "     Class 0       0.72      0.78      0.75       526\n",
            "     Class 1       0.69      0.61      0.65       416\n",
            "\n",
            "    accuracy                           0.70       942\n",
            "   macro avg       0.70      0.70      0.70       942\n",
            "weighted avg       0.70      0.70      0.70       942\n",
            "\n",
            "Confusion Matrix\n"
          ]
        },
        {
          "output_type": "display_data",
          "data": {
            "text/plain": [
              "<Figure size 640x480 with 2 Axes>"
            ],
            "image/png": "[encoded data removed]"
          },
          "metadata": {}
        },
        {
          "output_type": "execute_result",
          "data": {
            "text/plain": [
              "                   Accuracy  Weighted F1  Weighted Precision  Weighted Recall  \\\n",
              "MNB-Shuffled_best  0.704883     0.702568            0.703386         0.704883   \n",
              "\n",
              "                   Macro-Averaged Precision  Macro-Averaged Recall  \\\n",
              "MNB-Shuffled_best                  0.701514               0.695274   \n",
              "\n",
              "                                        F1                Precision  \n",
              "MNB-Shuffled_best  [0.74635036 0.64720812]  [0.71754386 0.68548387]  "
            ],
            "text/html": [
              "\n",
              "  <div id=\"df-180897a1-9885-495a-9051-2116700b2515\" class=\"colab-df-container\">\n",
              "    <div>\n",
              "<style scoped>\n",
              "    .dataframe tbody tr th:only-of-type {\n",
              "        vertical-align: middle;\n",
              "    }\n",
              "\n",
              "    .dataframe tbody tr th {\n",
              "        vertical-align: top;\n",
              "    }\n",
              "\n",
              "    .dataframe thead th {\n",
              "        text-align: right;\n",
              "    }\n",
              "</style>\n",
              "<table border=\"1\" class=\"dataframe\">\n",
              "  <thead>\n",
              "    <tr style=\"text-align: right;\">\n",
              "      <th></th>\n",
              "      <th>Accuracy</th>\n",
              "      <th>Weighted F1</th>\n",
              "      <th>Weighted Precision</th>\n",
              "      <th>Weighted Recall</th>\n",
              "      <th>Macro-Averaged Precision</th>\n",
              "      <th>Macro-Averaged Recall</th>\n",
              "      <th>F1</th>\n",
              "      <th>Precision</th>\n",
              "    </tr>\n",
              "  </thead>\n",
              "  <tbody>\n",
              "    <tr>\n",
              "      <th>MNB-Shuffled_best</th>\n",
              "      <td>0.704883</td>\n",
              "      <td>0.702568</td>\n",
              "      <td>0.703386</td>\n",
              "      <td>0.704883</td>\n",
              "      <td>0.701514</td>\n",
              "      <td>0.695274</td>\n",
              "      <td>[0.74635036 0.64720812]</td>\n",
              "      <td>[0.71754386 0.68548387]</td>\n",
              "    </tr>\n",
              "  </tbody>\n",
              "</table>\n",
              "</div>\n",
              "    <div class=\"colab-df-buttons\">\n",
              "\n",
              "  <div class=\"colab-df-container\">\n",
              "    <button class=\"colab-df-convert\" onclick=\"convertToInteractive('df-180897a1-9885-495a-9051-2116700b2515')\"\n",
              "            title=\"Convert this dataframe to an interactive table.\"\n",
              "            style=\"display:none;\">\n",
              "\n",
              "  <svg xmlns=\"http://www.w3.org/2000/svg\" height=\"24px\" viewBox=\"0 -960 960 960\">\n",
              "    <path d=\"M120-120v-720h720v720H120Zm60-500h600v-160H180v160Zm220 220h160v-160H400v160Zm0 220h160v-160H400v160ZM180-400h160v-160H180v160Zm440 0h160v-160H620v160ZM180-180h160v-160H180v160Zm440 0h160v-160H620v160Z\"/>\n",
              "  </svg>\n",
              "    </button>\n",
              "\n",
              "  <style>\n",
              "    .colab-df-container {\n",
              "      display:flex;\n",
              "      gap: 12px;\n",
              "    }\n",
              "\n",
              "    .colab-df-convert {\n",
              "      background-color: #E8F0FE;\n",
              "      border: none;\n",
              "      border-radius: 50%;\n",
              "      cursor: pointer;\n",
              "      display: none;\n",
              "      fill: #1967D2;\n",
              "      height: 32px;\n",
              "      padding: 0 0 0 0;\n",
              "      width: 32px;\n",
              "    }\n",
              "\n",
              "    .colab-df-convert:hover {\n",
              "      background-color: #E2EBFA;\n",
              "      box-shadow: 0px 1px 2px rgba(60, 64, 67, 0.3), 0px 1px 3px 1px rgba(60, 64, 67, 0.15);\n",
              "      fill: #174EA6;\n",
              "    }\n",
              "\n",
              "    .colab-df-buttons div {\n",
              "      margin-bottom: 4px;\n",
              "    }\n",
              "\n",
              "    [theme=dark] .colab-df-convert {\n",
              "      background-color: #3B4455;\n",
              "      fill: #D2E3FC;\n",
              "    }\n",
              "\n",
              "    [theme=dark] .colab-df-convert:hover {\n",
              "      background-color: #434B5C;\n",
              "      box-shadow: 0px 1px 3px 1px rgba(0, 0, 0, 0.15);\n",
              "      filter: drop-shadow(0px 1px 2px rgba(0, 0, 0, 0.3));\n",
              "      fill: #FFFFFF;\n",
              "    }\n",
              "  </style>\n",
              "\n",
              "    <script>\n",
              "      const buttonEl =\n",
              "        document.querySelector('#df-180897a1-9885-495a-9051-2116700b2515 button.colab-df-convert');\n",
              "      buttonEl.style.display =\n",
              "        google.colab.kernel.accessAllowed ? 'block' : 'none';\n",
              "\n",
              "      async function convertToInteractive(key) {\n",
              "        const element = document.querySelector('#df-180897a1-9885-495a-9051-2116700b2515');\n",
              "        const dataTable =\n",
              "          await google.colab.kernel.invokeFunction('convertToInteractive',\n",
              "                                                    [key], {});\n",
              "        if (!dataTable) return;\n",
              "\n",
              "        const docLinkHtml = 'Like what you see? Visit the ' +\n",
              "          '<a target=\"_blank\" href=https://colab.research.google.com/notebooks/data_table.ipynb>data table notebook</a>'\n",
              "          + ' to learn more about interactive tables.';\n",
              "        element.innerHTML = '';\n",
              "        dataTable['output_type'] = 'display_data';\n",
              "        await google.colab.output.renderOutput(dataTable, element);\n",
              "        const docLink = document.createElement('div');\n",
              "        docLink.innerHTML = docLinkHtml;\n",
              "        element.appendChild(docLink);\n",
              "      }\n",
              "    </script>\n",
              "  </div>\n",
              "\n",
              "    </div>\n",
              "  </div>\n"
            ],
            "application/vnd.google.colaboratory.intrinsic+json": {
              "type": "dataframe",
              "summary": "{\n  \"name\": \"calculate_metrics('MNB-Shuffled_best', y_best_predictions, best_predictions)\",\n  \"rows\": 1,\n  \"fields\": [\n    {\n      \"column\": \"Accuracy\",\n      \"properties\": {\n        \"dtype\": \"number\",\n        \"std\": null,\n        \"min\": 0.7048832271762208,\n        \"max\": 0.7048832271762208,\n        \"num_unique_values\": 1,\n        \"samples\": [\n          0.7048832271762208\n        ],\n        \"semantic_type\": \"\",\n        \"description\": \"\"\n      }\n    },\n    {\n      \"column\": \"Weighted F1\",\n      \"properties\": {\n        \"dtype\": \"number\",\n        \"std\": null,\n        \"min\": 0.7025678032388598,\n        \"max\": 0.7025678032388598,\n        \"num_unique_values\": 1,\n        \"samples\": [\n          0.7025678032388598\n        ],\n        \"semantic_type\": \"\",\n        \"description\": \"\"\n      }\n    },\n    {\n      \"column\": \"Weighted Precision\",\n      \"properties\": {\n        \"dtype\": \"number\",\n        \"std\": null,\n        \"min\": 0.7033857330127593,\n        \"max\": 0.7033857330127593,\n        \"num_unique_values\": 1,\n        \"samples\": [\n          0.7033857330127593\n        ],\n        \"semantic_type\": \"\",\n        \"description\": \"\"\n      }\n    },\n    {\n      \"column\": \"Weighted Recall\",\n      \"properties\": {\n        \"dtype\": \"number\",\n        \"std\": null,\n        \"min\": 0.7048832271762208,\n        \"max\": 0.7048832271762208,\n        \"num_unique_values\": 1,\n        \"samples\": [\n          0.7048832271762208\n        ],\n        \"semantic_type\": \"\",\n        \"description\": \"\"\n      }\n    },\n    {\n      \"column\": \"Macro-Averaged Precision\",\n      \"properties\": {\n        \"dtype\": \"number\",\n        \"std\": null,\n        \"min\": 0.7015138653084323,\n        \"max\": 0.7015138653084323,\n        \"num_unique_values\": 1,\n        \"samples\": [\n          0.7015138653084323\n        ],\n        \"semantic_type\": \"\",\n        \"description\": \"\"\n      }\n    },\n    {\n      \"column\": \"Macro-Averaged Recall\",\n      \"properties\": {\n        \"dtype\": \"number\",\n        \"std\": null,\n        \"min\": 0.6952736545773619,\n        \"max\": 0.6952736545773619,\n        \"num_unique_values\": 1,\n        \"samples\": [\n          0.6952736545773619\n        ],\n        \"semantic_type\": \"\",\n        \"description\": \"\"\n      }\n    },\n    {\n      \"column\": \"F1\",\n      \"properties\": {\n        \"dtype\": \"string\",\n        \"num_unique_values\": 1,\n        \"samples\": [\n          \"[0.74635036 0.64720812]\"\n        ],\n        \"semantic_type\": \"\",\n        \"description\": \"\"\n      }\n    },\n    {\n      \"column\": \"Precision\",\n      \"properties\": {\n        \"dtype\": \"string\",\n        \"num_unique_values\": 1,\n        \"samples\": [\n          \"[0.71754386 0.68548387]\"\n        ],\n        \"semantic_type\": \"\",\n        \"description\": \"\"\n      }\n    }\n  ]\n}"
            }
          },
          "metadata": {},
          "execution_count": 30
        }
      ],
      "source": [
        "calculate_metrics('MNB-Shuffled_best', y_best_predictions, best_predictions)"
      ]
    }
  ],
  "metadata": {
    "kernelspec": {
      "display_name": "Python 3",
      "language": "python",
      "name": "python3"
    },
    "language_info": {
      "codemirror_mode": {
        "name": "ipython",
        "version": 3
      },
      "file_extension": ".py",
      "mimetype": "text/x-python",
      "name": "python",
      "nbconvert_exporter": "python",
      "pygments_lexer": "ipython3",
      "version": "3.10.11"
    },
    "colab": {
      "provenance": []
    }
  },
  "nbformat": 4,
  "nbformat_minor": 0
}