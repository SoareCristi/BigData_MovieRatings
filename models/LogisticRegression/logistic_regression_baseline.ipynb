{
 "cells": [
  {
   "cell_type": "markdown",
   "metadata": {},
   "source": [
    "## Logistic Regression Implementation on (scaled) non-reduced dataset (baseline model)"
   ]
  },
  {
   "cell_type": "markdown",
   "metadata": {},
   "source": [
    "Imports"
   ]
  },
  {
   "cell_type": "code",
   "execution_count": 1,
   "metadata": {},
   "outputs": [],
   "source": [
    "# Utilities\n",
    "import pandas as pd\n",
    "import warnings\n",
    "import matplotlib.pyplot as plt\n",
    "\n",
    "# Models\n",
    "import optuna\n",
    "from sklearn.model_selection import train_test_split, cross_val_score\n",
    "from sklearn.exceptions import ConvergenceWarning\n",
    "from sklearn.ensemble import RandomForestClassifier\n",
    "from sklearn.linear_model import LogisticRegression\n",
    "from sklearn.model_selection import GridSearchCV\n",
    "from sklearn.metrics import accuracy_score, accuracy_score, f1_score\n",
    "from sklearn.metrics import classification_report, precision_score, recall_score, confusion_matrix, ConfusionMatrixDisplay"
   ]
  },
  {
   "cell_type": "markdown",
   "metadata": {},
   "source": [
    "Set random seed for reproductibility"
   ]
  },
  {
   "cell_type": "code",
   "execution_count": 2,
   "metadata": {},
   "outputs": [],
   "source": [
    "seed = 23"
   ]
  },
  {
   "cell_type": "markdown",
   "metadata": {},
   "source": [
    "Read clean (scaled data)"
   ]
  },
  {
   "cell_type": "code",
   "execution_count": 3,
   "metadata": {},
   "outputs": [],
   "source": [
    "df_scaled = pd.read_csv('../../Data/dataset_preprocessed.csv')"
   ]
  },
  {
   "cell_type": "markdown",
   "metadata": {},
   "source": [
    "Take sample for (initial) tests"
   ]
  },
  {
   "cell_type": "code",
   "execution_count": 4,
   "metadata": {},
   "outputs": [],
   "source": [
    "#df_scaled_sample = df_scaled.sample(n=500, random_state=seed)\n",
    "df_scaled_sample = df_scaled"
   ]
  },
  {
   "cell_type": "markdown",
   "metadata": {},
   "source": [
    "Train-Test Split"
   ]
  },
  {
   "cell_type": "code",
   "execution_count": 5,
   "metadata": {},
   "outputs": [],
   "source": [
    "test_size = 0.2\n",
    "X_train, X_test, y_train, y_test = train_test_split(\n",
    "    df_scaled_sample.drop('averageRating', axis=1), \n",
    "    df_scaled_sample['averageRating'], test_size=test_size, \n",
    "    random_state=seed\n",
    ")"
   ]
  },
  {
   "cell_type": "markdown",
   "metadata": {},
   "source": [
    "Save and print metrics"
   ]
  },
  {
   "cell_type": "code",
   "execution_count": 6,
   "metadata": {},
   "outputs": [],
   "source": [
    "def calculate_metrics(model_name, y_true, y_pred):\n",
    "    metrics = {\n",
    "        'Accuracy': accuracy_score(y_true, y_pred),\n",
    "        'Weighted F1': f1_score(y_true, y_pred, average='weighted'),\n",
    "        'Weighted Precision': precision_score(y_true, y_pred, average='weighted'),\n",
    "        'Weighted Recall': recall_score(y_true, y_pred, average='weighted'),\n",
    "        'Macro-Averaged Precision': precision_score(y_true, y_pred, average='macro'),\n",
    "        'Macro-Averaged Recall': recall_score(y_true, y_pred, average='macro'),\n",
    "        'F1': str(f1_score(y_true, y_pred, average=None)),\n",
    "        'Precision': str( precision_score(y_true, y_pred, average=None)),\n",
    "    }\n",
    "    \n",
    "    # Print the metrics\n",
    "    print(f\"Metrics for {model_name}:\")\n",
    "    for metric_name, metric_value in metrics.items():\n",
    "        try:\n",
    "            print(f\"{metric_name}: {metric_value:.4f}\")\n",
    "        except:\n",
    "            print(f\"{metric_name}: {metric_value}\")\n",
    "    \n",
    "    # Print the classification report\n",
    "    print(\"classification report\")\n",
    "    report = classification_report(y_true, y_pred, target_names=['Class 0', 'Class 1'])\n",
    "    print(report)\n",
    "\n",
    "    print(\"Confusion Matrix\")\n",
    "    cm = confusion_matrix(y_true, y_pred)\n",
    "    cmd = ConfusionMatrixDisplay(confusion_matrix=cm)\n",
    "    cmd.plot()\n",
    "    \n",
    "    plt.title(f'Confusion matrix for model {model_name} (Accuracy:{metrics[\"Accuracy\"]:.4f})')\n",
    "    plt.show()\n",
    "    \n",
    "    # Create df to store metrics\n",
    "    df_metrics = pd.DataFrame(metrics, index=[model_name])\n",
    "    \n",
    "    return df_metrics"
   ]
  },
  {
   "cell_type": "markdown",
   "metadata": {},
   "source": [
    "Model fit"
   ]
  },
  {
   "cell_type": "code",
   "execution_count": 7,
   "metadata": {},
   "outputs": [
    {
     "data": {
      "text/html": [
       "<style>#sk-container-id-1 {color: black;}#sk-container-id-1 pre{padding: 0;}#sk-container-id-1 div.sk-toggleable {background-color: white;}#sk-container-id-1 label.sk-toggleable__label {cursor: pointer;display: block;width: 100%;margin-bottom: 0;padding: 0.3em;box-sizing: border-box;text-align: center;}#sk-container-id-1 label.sk-toggleable__label-arrow:before {content: \"▸\";float: left;margin-right: 0.25em;color: #696969;}#sk-container-id-1 label.sk-toggleable__label-arrow:hover:before {color: black;}#sk-container-id-1 div.sk-estimator:hover label.sk-toggleable__label-arrow:before {color: black;}#sk-container-id-1 div.sk-toggleable__content {max-height: 0;max-width: 0;overflow: hidden;text-align: left;background-color: #f0f8ff;}#sk-container-id-1 div.sk-toggleable__content pre {margin: 0.2em;color: black;border-radius: 0.25em;background-color: #f0f8ff;}#sk-container-id-1 input.sk-toggleable__control:checked~div.sk-toggleable__content {max-height: 200px;max-width: 100%;overflow: auto;}#sk-container-id-1 input.sk-toggleable__control:checked~label.sk-toggleable__label-arrow:before {content: \"▾\";}#sk-container-id-1 div.sk-estimator input.sk-toggleable__control:checked~label.sk-toggleable__label {background-color: #d4ebff;}#sk-container-id-1 div.sk-label input.sk-toggleable__control:checked~label.sk-toggleable__label {background-color: #d4ebff;}#sk-container-id-1 input.sk-hidden--visually {border: 0;clip: rect(1px 1px 1px 1px);clip: rect(1px, 1px, 1px, 1px);height: 1px;margin: -1px;overflow: hidden;padding: 0;position: absolute;width: 1px;}#sk-container-id-1 div.sk-estimator {font-family: monospace;background-color: #f0f8ff;border: 1px dotted black;border-radius: 0.25em;box-sizing: border-box;margin-bottom: 0.5em;}#sk-container-id-1 div.sk-estimator:hover {background-color: #d4ebff;}#sk-container-id-1 div.sk-parallel-item::after {content: \"\";width: 100%;border-bottom: 1px solid gray;flex-grow: 1;}#sk-container-id-1 div.sk-label:hover label.sk-toggleable__label {background-color: #d4ebff;}#sk-container-id-1 div.sk-serial::before {content: \"\";position: absolute;border-left: 1px solid gray;box-sizing: border-box;top: 0;bottom: 0;left: 50%;z-index: 0;}#sk-container-id-1 div.sk-serial {display: flex;flex-direction: column;align-items: center;background-color: white;padding-right: 0.2em;padding-left: 0.2em;position: relative;}#sk-container-id-1 div.sk-item {position: relative;z-index: 1;}#sk-container-id-1 div.sk-parallel {display: flex;align-items: stretch;justify-content: center;background-color: white;position: relative;}#sk-container-id-1 div.sk-item::before, #sk-container-id-1 div.sk-parallel-item::before {content: \"\";position: absolute;border-left: 1px solid gray;box-sizing: border-box;top: 0;bottom: 0;left: 50%;z-index: -1;}#sk-container-id-1 div.sk-parallel-item {display: flex;flex-direction: column;z-index: 1;position: relative;background-color: white;}#sk-container-id-1 div.sk-parallel-item:first-child::after {align-self: flex-end;width: 50%;}#sk-container-id-1 div.sk-parallel-item:last-child::after {align-self: flex-start;width: 50%;}#sk-container-id-1 div.sk-parallel-item:only-child::after {width: 0;}#sk-container-id-1 div.sk-dashed-wrapped {border: 1px dashed gray;margin: 0 0.4em 0.5em 0.4em;box-sizing: border-box;padding-bottom: 0.4em;background-color: white;}#sk-container-id-1 div.sk-label label {font-family: monospace;font-weight: bold;display: inline-block;line-height: 1.2em;}#sk-container-id-1 div.sk-label-container {text-align: center;}#sk-container-id-1 div.sk-container {/* jupyter's `normalize.less` sets `[hidden] { display: none; }` but bootstrap.min.css set `[hidden] { display: none !important; }` so we also need the `!important` here to be able to override the default hidden behavior on the sphinx rendered scikit-learn.org. See: https://github.com/scikit-learn/scikit-learn/issues/21755 */display: inline-block !important;position: relative;}#sk-container-id-1 div.sk-text-repr-fallback {display: none;}</style><div id=\"sk-container-id-1\" class=\"sk-top-container\"><div class=\"sk-text-repr-fallback\"><pre>LogisticRegression(random_state=23)</pre><b>In a Jupyter environment, please rerun this cell to show the HTML representation or trust the notebook. <br />On GitHub, the HTML representation is unable to render, please try loading this page with nbviewer.org.</b></div><div class=\"sk-container\" hidden><div class=\"sk-item\"><div class=\"sk-estimator sk-toggleable\"><input class=\"sk-toggleable__control sk-hidden--visually\" id=\"sk-estimator-id-1\" type=\"checkbox\" checked><label for=\"sk-estimator-id-1\" class=\"sk-toggleable__label sk-toggleable__label-arrow\">LogisticRegression</label><div class=\"sk-toggleable__content\"><pre>LogisticRegression(random_state=23)</pre></div></div></div></div></div>"
      ],
      "text/plain": [
       "LogisticRegression(random_state=23)"
      ]
     },
     "execution_count": 7,
     "metadata": {},
     "output_type": "execute_result"
    }
   ],
   "source": [
    "model = LogisticRegression(random_state=seed)\n",
    "model.fit(X_train, y_train)"
   ]
  },
  {
   "cell_type": "code",
   "execution_count": 8,
   "metadata": {},
   "outputs": [],
   "source": [
    "predictions = model.predict(X_test)"
   ]
  },
  {
   "cell_type": "code",
   "execution_count": 9,
   "metadata": {},
   "outputs": [
    {
     "name": "stdout",
     "output_type": "stream",
     "text": [
      "Metrics for LR_baseline_untuned:\n",
      "Accuracy: 0.7418\n",
      "Weighted F1: 0.7413\n",
      "Weighted Precision: 0.7421\n",
      "Weighted Recall: 0.7418\n",
      "Macro-Averaged Precision: 0.7423\n",
      "Macro-Averaged Recall: 0.7404\n",
      "F1: [0.75788816 0.72351052]\n",
      "Precision: [0.73738602 0.74723655]\n",
      "classification report\n",
      "              precision    recall  f1-score   support\n",
      "\n",
      "     Class 0       0.74      0.78      0.76      1556\n",
      "     Class 1       0.75      0.70      0.72      1446\n",
      "\n",
      "    accuracy                           0.74      3002\n",
      "   macro avg       0.74      0.74      0.74      3002\n",
      "weighted avg       0.74      0.74      0.74      3002\n",
      "\n",
      "Confusion Matrix\n"
     ]
    },
    {
     "data": {
      "image/png": "[encoded data removed]",
      "text/plain": [
       "<Figure size 640x480 with 2 Axes>"
      ]
     },
     "metadata": {},
     "output_type": "display_data"
    }
   ],
   "source": [
    "model_metrics = calculate_metrics('LR_baseline_untuned', y_test, predictions)"
   ]
  },
  {
   "cell_type": "code",
   "execution_count": 10,
   "metadata": {},
   "outputs": [],
   "source": [
    "# Apar warning-uri ptc nu converge daca max_iter e mic (<100)\n",
    "# Maximu pe care l-am pus e 10k si acolo nu apare niciun warning dar am lasat ca lista\n",
    "# Ptc modelele cele mai bune sunt la la max_iter <500\n",
    "warnings.filterwarnings(action='ignore')"
   ]
  },
  {
   "cell_type": "markdown",
   "metadata": {},
   "source": [
    "## Grid Search with Cross-Validation"
   ]
  },
  {
   "cell_type": "code",
   "execution_count": 11,
   "metadata": {},
   "outputs": [],
   "source": [
    "# Define the hyperparameters to tune\n",
    "param_grid = {\n",
    "    'penalty': ['l1', 'l2'],\n",
    "    'C': [0.001, 0.01, 0.1, 1, 10, 100],\n",
    "    'max_iter': [10, 100, 200, 500, 100, 1000, 5000],\n",
    "    'solver': ['liblinear', 'saga']\n",
    "}\n",
    "\n",
    "# Perform grid search cross-validation\n",
    "grid_search_cv = GridSearchCV(estimator=LogisticRegression(random_state=seed),\n",
    "                               param_grid=param_grid, cv=5, scoring='accuracy')\n",
    "grid_search_cv.fit(X_train, y_train)\n",
    "\n",
    "# Get the best hyperparameters and model\n",
    "best_params_cv = grid_search_cv.best_params_\n",
    "best_model_cv = grid_search_cv.best_estimator_"
   ]
  },
  {
   "cell_type": "markdown",
   "metadata": {},
   "source": [
    "Results of the best model "
   ]
  },
  {
   "cell_type": "code",
   "execution_count": 12,
   "metadata": {},
   "outputs": [
    {
     "name": "stdout",
     "output_type": "stream",
     "text": [
      "Best Hyperparameters: {'C': 100, 'max_iter': 100, 'penalty': 'l1', 'solver': 'saga'}\n",
      "Accuracy: 0.7468354430379747\n"
     ]
    }
   ],
   "source": [
    "accuracy_cv = best_model_cv.score(X_test, y_test)\n",
    "\n",
    "print(\"Best Hyperparameters:\", best_params_cv)\n",
    "print(\"Accuracy:\", accuracy_cv)"
   ]
  },
  {
   "cell_type": "markdown",
   "metadata": {},
   "source": [
    "Results of best models Grid Search CV"
   ]
  },
  {
   "cell_type": "code",
   "execution_count": 13,
   "metadata": {},
   "outputs": [
    {
     "name": "stdout",
     "output_type": "stream",
     "text": [
      "                                                params  mean_test_score\n",
      "165  {'C': 100, 'max_iter': 5000, 'penalty': 'l1', ...         0.737443\n",
      "145  {'C': 100, 'max_iter': 100, 'penalty': 'l1', '...         0.737443\n",
      "161  {'C': 100, 'max_iter': 1000, 'penalty': 'l1', ...         0.737443\n",
      "149  {'C': 100, 'max_iter': 200, 'penalty': 'l1', '...         0.737443\n",
      "157  {'C': 100, 'max_iter': 100, 'penalty': 'l1', '...         0.737443\n"
     ]
    }
   ],
   "source": [
    "df_cv = pd.DataFrame(grid_search_cv.cv_results_)\n",
    "\n",
    "# Show top parameters for LR with Cross Validation Grid Serach\n",
    "df_results_cv = df_cv[['params', 'mean_test_score']]\n",
    "df_results_cv_sorted = df_results_cv.sort_values(by='mean_test_score', ascending=False)\n",
    "\n",
    "print(df_results_cv_sorted.head(5))"
   ]
  },
  {
   "cell_type": "code",
   "execution_count": 14,
   "metadata": {},
   "outputs": [
    {
     "name": "stdout",
     "output_type": "stream",
     "text": [
      "Metrics for LR_baseline_CV1_best:\n",
      "Accuracy: 0.7468\n",
      "Weighted F1: 0.7463\n",
      "Weighted Precision: 0.7472\n",
      "Weighted Recall: 0.7468\n",
      "Macro-Averaged Precision: 0.7474\n",
      "Macro-Averaged Recall: 0.7454\n",
      "F1: [0.76264834 0.72876517]\n",
      "Precision: [0.7417983  0.75294985]\n",
      "classification report\n",
      "              precision    recall  f1-score   support\n",
      "\n",
      "     Class 0       0.74      0.78      0.76      1556\n",
      "     Class 1       0.75      0.71      0.73      1446\n",
      "\n",
      "    accuracy                           0.75      3002\n",
      "   macro avg       0.75      0.75      0.75      3002\n",
      "weighted avg       0.75      0.75      0.75      3002\n",
      "\n",
      "Confusion Matrix\n"
     ]
    },
    {
     "data": {
      "image/png": "[encoded data removed]",
      "text/plain": [
       "<Figure size 640x480 with 2 Axes>"
      ]
     },
     "metadata": {},
     "output_type": "display_data"
    }
   ],
   "source": [
    "# Use best parameters to make predictions\n",
    "predictions_cv = best_model_cv.predict(X_test)\n",
    "model_metrics = pd.concat([model_metrics, calculate_metrics('LR_baseline_CV1_best', y_test, predictions_cv)])"
   ]
  },
  {
   "cell_type": "markdown",
   "metadata": {},
   "source": [
    "## Grid Search Stratified K Fold Validation"
   ]
  },
  {
   "cell_type": "code",
   "execution_count": 15,
   "metadata": {},
   "outputs": [
    {
     "name": "stdout",
     "output_type": "stream",
     "text": [
      "Best Hyperparameters with Stratified K-Fold: {'C': 10, 'max_iter': 100, 'penalty': 'l1', 'solver': 'liblinear'}\n",
      "Accuracy with Stratified K-Fold: 0.7465023317788141\n"
     ]
    }
   ],
   "source": [
    "from sklearn.model_selection import StratifiedKFold\n",
    "\n",
    "skf = StratifiedKFold(n_splits=5, shuffle=True, random_state=seed)\n",
    "\n",
    "grid_search_skf = GridSearchCV(estimator=LogisticRegression(random_state=seed), \n",
    "                           param_grid=param_grid, cv=skf, scoring='accuracy')\n",
    "grid_search_skf.fit(X_train, y_train)\n",
    "\n",
    "# Get the best hyperparameters and model\n",
    "best_params_skf = grid_search_skf.best_params_\n",
    "best_model_skf = grid_search_skf.best_estimator_\n",
    "\n",
    "# Evaluate the best model on the test set\n",
    "accuracy = best_model_skf.score(X_test, y_test)\n",
    "\n",
    "print(\"Best Hyperparameters with Stratified K-Fold:\", best_params_skf)\n",
    "print(\"Accuracy with Stratified K-Fold:\", accuracy)\n"
   ]
  },
  {
   "cell_type": "markdown",
   "metadata": {},
   "source": [
    "Results of the best model "
   ]
  },
  {
   "cell_type": "code",
   "execution_count": 16,
   "metadata": {},
   "outputs": [
    {
     "name": "stdout",
     "output_type": "stream",
     "text": [
      "Best Hyperparameters: {'C': 10, 'max_iter': 100, 'penalty': 'l1', 'solver': 'liblinear'}\n",
      "Accuracy: 0.7465023317788141\n"
     ]
    }
   ],
   "source": [
    "accuracy_skf = best_model_skf.score(X_test, y_test)\n",
    "\n",
    "print(\"Best Hyperparameters:\", best_params_skf)\n",
    "print(\"Accuracy:\", accuracy_skf)"
   ]
  },
  {
   "cell_type": "markdown",
   "metadata": {},
   "source": [
    "Results of best models Grid Search CV"
   ]
  },
  {
   "cell_type": "code",
   "execution_count": 17,
   "metadata": {},
   "outputs": [
    {
     "name": "stdout",
     "output_type": "stream",
     "text": [
      "                                                params  mean_test_score\n",
      "124  {'C': 10, 'max_iter': 500, 'penalty': 'l1', 's...         0.737693\n",
      "128  {'C': 10, 'max_iter': 100, 'penalty': 'l1', 's...         0.737693\n",
      "136  {'C': 10, 'max_iter': 5000, 'penalty': 'l1', '...         0.737693\n",
      "149  {'C': 100, 'max_iter': 200, 'penalty': 'l1', '...         0.737693\n",
      "116  {'C': 10, 'max_iter': 100, 'penalty': 'l1', 's...         0.737693\n"
     ]
    }
   ],
   "source": [
    "df_skf = pd.DataFrame(grid_search_skf.cv_results_)\n",
    "\n",
    "# Show top parameters for LR with Cross Validation Grid Serach\n",
    "df_results_skf = df_skf[['params', 'mean_test_score']]\n",
    "df_results_skf_sorted = df_results_skf.sort_values(by='mean_test_score', ascending=False)\n",
    "\n",
    "print(df_results_skf_sorted.head(5))"
   ]
  },
  {
   "cell_type": "code",
   "execution_count": 18,
   "metadata": {},
   "outputs": [
    {
     "name": "stdout",
     "output_type": "stream",
     "text": [
      "Metrics for LR_baseline_skf_best:\n",
      "Accuracy: 0.7465\n",
      "Weighted F1: 0.7460\n",
      "Weighted Precision: 0.7468\n",
      "Weighted Recall: 0.7465\n",
      "Macro-Averaged Precision: 0.7471\n",
      "Macro-Averaged Recall: 0.7450\n",
      "F1: [0.76241024 0.72831132]\n",
      "Precision: [0.74134791 0.75276753]\n",
      "classification report\n",
      "              precision    recall  f1-score   support\n",
      "\n",
      "     Class 0       0.74      0.78      0.76      1556\n",
      "     Class 1       0.75      0.71      0.73      1446\n",
      "\n",
      "    accuracy                           0.75      3002\n",
      "   macro avg       0.75      0.75      0.75      3002\n",
      "weighted avg       0.75      0.75      0.75      3002\n",
      "\n",
      "Confusion Matrix\n"
     ]
    },
    {
     "data": {
      "image/png": "[encoded data removed]",
      "text/plain": [
       "<Figure size 640x480 with 2 Axes>"
      ]
     },
     "metadata": {},
     "output_type": "display_data"
    }
   ],
   "source": [
    "# Use best parameters to make predictions\n",
    "predictions_skf = best_model_skf.predict(X_test)\n",
    "model_metrics = pd.concat([model_metrics, calculate_metrics('LR_baseline_skf_best', y_test, predictions_skf)])"
   ]
  },
  {
   "cell_type": "markdown",
   "metadata": {},
   "source": [
    "Next maybe add elastic search as penalty? only works with saga solver"
   ]
  },
  {
   "cell_type": "markdown",
   "metadata": {},
   "source": [
    "# Tune with Optuna"
   ]
  },
  {
   "cell_type": "code",
   "execution_count": 19,
   "metadata": {},
   "outputs": [],
   "source": [
    "def objective(trial):\n",
    "    # Define the hyperparameters to optimize\n",
    "    penalty = trial.suggest_categorical('penalty', ['l1', 'l2'])\n",
    "    C = trial.suggest_loguniform('C', 0.01, 10.0)\n",
    "    max_iter = trial.suggest_int('max_iter', 100, 1000)\n",
    "    solver= trial.suggest_categorical('solver', ['liblinear', 'saga'])\n",
    "    \n",
    "    # Create the logistic regression model with the hyperparameters\n",
    "    model = LogisticRegression(penalty=penalty, C=C, max_iter=max_iter,\n",
    "     solver=solver, random_state=seed)\n",
    "    \n",
    "    # Train the model\n",
    "    model.fit(X_train, y_train)\n",
    "    \n",
    "    # Make predictions on the test set\n",
    "    y_pred = model.predict(X_test)\n",
    "    \n",
    "    # Calculate the accuracy score\n",
    "    accuracy = accuracy_score(y_test, y_pred)\n",
    "    #score_cross_val = cross_val_score(model, X_train, y_train, cv=5, scoring='precision')\n",
    "\n",
    "    \n",
    "    return accuracy"
   ]
  },
  {
   "cell_type": "code",
   "execution_count": 20,
   "metadata": {},
   "outputs": [
    {
     "name": "stderr",
     "output_type": "stream",
     "text": [
      "[I 2024-06-09 21:52:34,946] A new study created in memory with name: no-name-937e92cb-3fc6-4eac-9632-d9a8ba64eeeb\n",
      "[I 2024-06-09 21:52:35,008] Trial 0 finished with value: 0.7438374417055297 and parameters: {'penalty': 'l2', 'C': 1.9786969219723538, 'max_iter': 354, 'solver': 'saga'}. Best is trial 0 with value: 0.7438374417055297.\n",
      "[I 2024-06-09 21:52:35,065] Trial 1 finished with value: 0.7425049966688874 and parameters: {'penalty': 'l2', 'C': 0.7147547361025184, 'max_iter': 471, 'solver': 'saga'}. Best is trial 0 with value: 0.7438374417055297.\n",
      "[I 2024-06-09 21:52:35,441] Trial 2 finished with value: 0.7455029980013325 and parameters: {'penalty': 'l1', 'C': 0.5871453092844535, 'max_iter': 981, 'solver': 'liblinear'}. Best is trial 2 with value: 0.7455029980013325.\n",
      "[I 2024-06-09 21:52:35,861] Trial 3 finished with value: 0.7468354430379747 and parameters: {'penalty': 'l1', 'C': 2.933587303300426, 'max_iter': 664, 'solver': 'liblinear'}. Best is trial 3 with value: 0.7468354430379747.\n",
      "[I 2024-06-09 21:52:35,948] Trial 4 finished with value: 0.7411725516322452 and parameters: {'penalty': 'l1', 'C': 0.18398803387733306, 'max_iter': 412, 'solver': 'liblinear'}. Best is trial 3 with value: 0.7468354430379747.\n",
      "[I 2024-06-09 21:52:36,080] Trial 5 finished with value: 0.734510326449034 and parameters: {'penalty': 'l1', 'C': 0.022786629058688158, 'max_iter': 637, 'solver': 'liblinear'}. Best is trial 3 with value: 0.7468354430379747.\n",
      "[I 2024-06-09 21:52:36,155] Trial 6 finished with value: 0.7365089940039974 and parameters: {'penalty': 'l1', 'C': 0.030622273921242567, 'max_iter': 593, 'solver': 'saga'}. Best is trial 3 with value: 0.7468354430379747.\n",
      "[I 2024-06-09 21:52:36,300] Trial 7 finished with value: 0.7411725516322452 and parameters: {'penalty': 'l1', 'C': 0.03425640620186102, 'max_iter': 316, 'solver': 'liblinear'}. Best is trial 3 with value: 0.7468354430379747.\n",
      "[I 2024-06-09 21:52:36,368] Trial 8 finished with value: 0.7455029980013325 and parameters: {'penalty': 'l2', 'C': 5.067649602789282, 'max_iter': 555, 'solver': 'saga'}. Best is trial 3 with value: 0.7468354430379747.\n",
      "[I 2024-06-09 21:52:36,445] Trial 9 finished with value: 0.7441705529646903 and parameters: {'penalty': 'l1', 'C': 0.24962540324405325, 'max_iter': 891, 'solver': 'saga'}. Best is trial 3 with value: 0.7468354430379747.\n",
      "[I 2024-06-09 21:52:36,518] Trial 10 finished with value: 0.7465023317788141 and parameters: {'penalty': 'l1', 'C': 5.613363497593624, 'max_iter': 311, 'solver': 'saga'}. Best is trial 3 with value: 0.7468354430379747.\n",
      "[I 2024-06-09 21:52:36,581] Trial 11 finished with value: 0.7455029980013325 and parameters: {'penalty': 'l2', 'C': 8.270910880018777, 'max_iter': 315, 'solver': 'saga'}. Best is trial 3 with value: 0.7468354430379747.\n",
      "[I 2024-06-09 21:52:36,690] Trial 12 finished with value: 0.7301798800799467 and parameters: {'penalty': 'l1', 'C': 0.020142347424642024, 'max_iter': 661, 'solver': 'liblinear'}. Best is trial 3 with value: 0.7468354430379747.\n",
      "[I 2024-06-09 21:52:36,736] Trial 13 finished with value: 0.7441705529646903 and parameters: {'penalty': 'l2', 'C': 2.487714984224427, 'max_iter': 446, 'solver': 'saga'}. Best is trial 3 with value: 0.7468354430379747.\n",
      "[I 2024-06-09 21:52:37,025] Trial 14 finished with value: 0.7445036642238507 and parameters: {'penalty': 'l1', 'C': 0.3240442511266919, 'max_iter': 214, 'solver': 'liblinear'}. Best is trial 3 with value: 0.7468354430379747.\n",
      "[I 2024-06-09 21:52:37,105] Trial 15 finished with value: 0.7271818787475016 and parameters: {'penalty': 'l1', 'C': 0.016725442423100204, 'max_iter': 642, 'solver': 'liblinear'}. Best is trial 3 with value: 0.7468354430379747.\n",
      "[I 2024-06-09 21:52:37,147] Trial 16 finished with value: 0.7455029980013325 and parameters: {'penalty': 'l2', 'C': 4.313179830047696, 'max_iter': 490, 'solver': 'liblinear'}. Best is trial 3 with value: 0.7468354430379747.\n",
      "[I 2024-06-09 21:52:37,219] Trial 17 finished with value: 0.7245169886742172 and parameters: {'penalty': 'l2', 'C': 0.01035320399341193, 'max_iter': 216, 'solver': 'saga'}. Best is trial 3 with value: 0.7468354430379747.\n",
      "[I 2024-06-09 21:52:37,259] Trial 18 finished with value: 0.7421718854097269 and parameters: {'penalty': 'l2', 'C': 0.6556855070061354, 'max_iter': 968, 'solver': 'liblinear'}. Best is trial 3 with value: 0.7468354430379747.\n",
      "[I 2024-06-09 21:52:37,657] Trial 19 finished with value: 0.7465023317788141 and parameters: {'penalty': 'l1', 'C': 7.3057245534123245, 'max_iter': 906, 'solver': 'liblinear'}. Best is trial 3 with value: 0.7468354430379747.\n",
      "[I 2024-06-09 21:52:37,732] Trial 20 finished with value: 0.7471685542971352 and parameters: {'penalty': 'l1', 'C': 0.7615483811595624, 'max_iter': 457, 'solver': 'saga'}. Best is trial 20 with value: 0.7471685542971352.\n",
      "[I 2024-06-09 21:52:37,833] Trial 21 finished with value: 0.7418387741505663 and parameters: {'penalty': 'l1', 'C': 0.07180273843352494, 'max_iter': 405, 'solver': 'liblinear'}. Best is trial 20 with value: 0.7471685542971352.\n",
      "[I 2024-06-09 21:52:37,913] Trial 22 finished with value: 0.7355096602265156 and parameters: {'penalty': 'l2', 'C': 0.019527870791270083, 'max_iter': 121, 'solver': 'saga'}. Best is trial 20 with value: 0.7471685542971352.\n",
      "[I 2024-06-09 21:52:37,986] Trial 23 finished with value: 0.7275149900066622 and parameters: {'penalty': 'l1', 'C': 0.023283147487063578, 'max_iter': 999, 'solver': 'saga'}. Best is trial 20 with value: 0.7471685542971352.\n",
      "[I 2024-06-09 21:52:38,049] Trial 24 finished with value: 0.7388407728181212 and parameters: {'penalty': 'l1', 'C': 0.03594005624665695, 'max_iter': 803, 'solver': 'saga'}. Best is trial 20 with value: 0.7471685542971352.\n",
      "[I 2024-06-09 21:52:38,159] Trial 25 finished with value: 0.7465023317788141 and parameters: {'penalty': 'l1', 'C': 2.41622803522965, 'max_iter': 935, 'solver': 'saga'}. Best is trial 20 with value: 0.7471685542971352.\n",
      "[I 2024-06-09 21:52:38,232] Trial 26 finished with value: 0.7411725516322452 and parameters: {'penalty': 'l2', 'C': 0.4510318516416687, 'max_iter': 500, 'solver': 'saga'}. Best is trial 20 with value: 0.7471685542971352.\n",
      "[I 2024-06-09 21:52:38,312] Trial 27 finished with value: 0.7301798800799467 and parameters: {'penalty': 'l1', 'C': 0.026421680554171642, 'max_iter': 861, 'solver': 'saga'}. Best is trial 20 with value: 0.7471685542971352.\n",
      "[I 2024-06-09 21:52:38,386] Trial 28 finished with value: 0.7218520986009327 and parameters: {'penalty': 'l1', 'C': 0.014136994498500545, 'max_iter': 337, 'solver': 'saga'}. Best is trial 20 with value: 0.7471685542971352.\n",
      "[I 2024-06-09 21:52:38,452] Trial 29 finished with value: 0.7425049966688874 and parameters: {'penalty': 'l2', 'C': 0.7107624591083599, 'max_iter': 801, 'solver': 'saga'}. Best is trial 20 with value: 0.7471685542971352.\n",
      "[I 2024-06-09 21:52:38,818] Trial 30 finished with value: 0.7465023317788141 and parameters: {'penalty': 'l1', 'C': 7.7297315023487325, 'max_iter': 788, 'solver': 'liblinear'}. Best is trial 20 with value: 0.7471685542971352.\n",
      "[I 2024-06-09 21:52:38,890] Trial 31 finished with value: 0.7418387741505663 and parameters: {'penalty': 'l2', 'C': 0.6535232131933079, 'max_iter': 295, 'solver': 'saga'}. Best is trial 20 with value: 0.7471685542971352.\n",
      "[I 2024-06-09 21:52:39,344] Trial 32 finished with value: 0.7465023317788141 and parameters: {'penalty': 'l1', 'C': 7.239744674620962, 'max_iter': 533, 'solver': 'liblinear'}. Best is trial 20 with value: 0.7471685542971352.\n",
      "[I 2024-06-09 21:52:39,434] Trial 33 finished with value: 0.7225183211192538 and parameters: {'penalty': 'l1', 'C': 0.015975627089929178, 'max_iter': 749, 'solver': 'saga'}. Best is trial 20 with value: 0.7471685542971352.\n",
      "[I 2024-06-09 21:52:39,548] Trial 34 finished with value: 0.7408394403730846 and parameters: {'penalty': 'l1', 'C': 0.08667715312463047, 'max_iter': 640, 'solver': 'liblinear'}. Best is trial 20 with value: 0.7471685542971352.\n",
      "[I 2024-06-09 21:52:39,659] Trial 35 finished with value: 0.7275149900066622 and parameters: {'penalty': 'l1', 'C': 0.017494363997301608, 'max_iter': 382, 'solver': 'liblinear'}. Best is trial 20 with value: 0.7471685542971352.\n",
      "[I 2024-06-09 21:52:39,724] Trial 36 finished with value: 0.7408394403730846 and parameters: {'penalty': 'l1', 'C': 0.10738333440901057, 'max_iter': 522, 'solver': 'saga'}. Best is trial 20 with value: 0.7471685542971352.\n",
      "[I 2024-06-09 21:52:39,767] Trial 37 finished with value: 0.7425049966688874 and parameters: {'penalty': 'l2', 'C': 0.8974996240822853, 'max_iter': 886, 'solver': 'liblinear'}. Best is trial 20 with value: 0.7471685542971352.\n",
      "[I 2024-06-09 21:52:39,831] Trial 38 finished with value: 0.7455029980013325 and parameters: {'penalty': 'l2', 'C': 8.521088092425217, 'max_iter': 366, 'solver': 'saga'}. Best is trial 20 with value: 0.7471685542971352.\n",
      "[I 2024-06-09 21:52:39,886] Trial 39 finished with value: 0.7258494337108594 and parameters: {'penalty': 'l2', 'C': 0.012313380069145318, 'max_iter': 910, 'solver': 'saga'}. Best is trial 20 with value: 0.7471685542971352.\n",
      "[I 2024-06-09 21:52:39,952] Trial 40 finished with value: 0.7415056628914057 and parameters: {'penalty': 'l2', 'C': 0.2655605073199313, 'max_iter': 372, 'solver': 'saga'}. Best is trial 20 with value: 0.7471685542971352.\n",
      "[I 2024-06-09 21:52:40,294] Trial 41 finished with value: 0.7451698867421719 and parameters: {'penalty': 'l1', 'C': 0.7194327583159087, 'max_iter': 675, 'solver': 'liblinear'}. Best is trial 20 with value: 0.7471685542971352.\n",
      "[I 2024-06-09 21:52:40,352] Trial 42 finished with value: 0.7411725516322452 and parameters: {'penalty': 'l2', 'C': 0.5900814795237284, 'max_iter': 718, 'solver': 'saga'}. Best is trial 20 with value: 0.7471685542971352.\n",
      "[I 2024-06-09 21:52:40,424] Trial 43 finished with value: 0.7275149900066622 and parameters: {'penalty': 'l1', 'C': 0.022146324495353406, 'max_iter': 189, 'solver': 'saga'}. Best is trial 20 with value: 0.7471685542971352.\n",
      "[I 2024-06-09 21:52:40,505] Trial 44 finished with value: 0.739840106595603 and parameters: {'penalty': 'l1', 'C': 0.13388604654839945, 'max_iter': 311, 'solver': 'saga'}. Best is trial 20 with value: 0.7471685542971352.\n",
      "[I 2024-06-09 21:52:40,608] Trial 45 finished with value: 0.7465023317788141 and parameters: {'penalty': 'l1', 'C': 6.305596304990529, 'max_iter': 537, 'solver': 'saga'}. Best is trial 20 with value: 0.7471685542971352.\n",
      "[I 2024-06-09 21:52:40,679] Trial 46 finished with value: 0.7465023317788141 and parameters: {'penalty': 'l1', 'C': 7.348861914638496, 'max_iter': 409, 'solver': 'saga'}. Best is trial 20 with value: 0.7471685542971352.\n",
      "[I 2024-06-09 21:52:40,737] Trial 47 finished with value: 0.7421718854097269 and parameters: {'penalty': 'l2', 'C': 0.9118726704613901, 'max_iter': 403, 'solver': 'saga'}. Best is trial 20 with value: 0.7471685542971352.\n",
      "[I 2024-06-09 21:52:41,114] Trial 48 finished with value: 0.7448367754830113 and parameters: {'penalty': 'l1', 'C': 0.6914945579286461, 'max_iter': 138, 'solver': 'liblinear'}. Best is trial 20 with value: 0.7471685542971352.\n",
      "[I 2024-06-09 21:52:41,162] Trial 49 finished with value: 0.7428381079280479 and parameters: {'penalty': 'l2', 'C': 1.407482236278104, 'max_iter': 848, 'solver': 'saga'}. Best is trial 20 with value: 0.7471685542971352.\n",
      "[I 2024-06-09 21:52:41,232] Trial 50 finished with value: 0.7318454363757495 and parameters: {'penalty': 'l1', 'C': 0.02720066288766469, 'max_iter': 265, 'solver': 'saga'}. Best is trial 20 with value: 0.7471685542971352.\n",
      "[I 2024-06-09 21:52:41,301] Trial 51 finished with value: 0.7158560959360426 and parameters: {'penalty': 'l1', 'C': 0.012032769971240549, 'max_iter': 179, 'solver': 'saga'}. Best is trial 20 with value: 0.7471685542971352.\n",
      "[I 2024-06-09 21:52:41,377] Trial 52 finished with value: 0.72618254497002 and parameters: {'penalty': 'l1', 'C': 0.02137629523741644, 'max_iter': 530, 'solver': 'saga'}. Best is trial 20 with value: 0.7471685542971352.\n",
      "[I 2024-06-09 21:52:41,448] Trial 53 finished with value: 0.7401732178547635 and parameters: {'penalty': 'l1', 'C': 0.17809544034690963, 'max_iter': 498, 'solver': 'saga'}. Best is trial 20 with value: 0.7471685542971352.\n",
      "[I 2024-06-09 21:52:41,803] Trial 54 finished with value: 0.7451698867421719 and parameters: {'penalty': 'l1', 'C': 0.4013636602280528, 'max_iter': 420, 'solver': 'liblinear'}. Best is trial 20 with value: 0.7471685542971352.\n",
      "[I 2024-06-09 21:52:41,917] Trial 55 finished with value: 0.7235176548967355 and parameters: {'penalty': 'l1', 'C': 0.014073468815611707, 'max_iter': 510, 'solver': 'liblinear'}. Best is trial 20 with value: 0.7471685542971352.\n",
      "[I 2024-06-09 21:52:42,011] Trial 56 finished with value: 0.723850766155896 and parameters: {'penalty': 'l1', 'C': 0.01402486216774064, 'max_iter': 177, 'solver': 'liblinear'}. Best is trial 20 with value: 0.7471685542971352.\n",
      "[I 2024-06-09 21:52:42,113] Trial 57 finished with value: 0.734510326449034 and parameters: {'penalty': 'l1', 'C': 0.022867502273642915, 'max_iter': 456, 'solver': 'liblinear'}. Best is trial 20 with value: 0.7471685542971352.\n",
      "[I 2024-06-09 21:52:42,181] Trial 58 finished with value: 0.7455029980013325 and parameters: {'penalty': 'l2', 'C': 4.824358783007408, 'max_iter': 982, 'solver': 'saga'}. Best is trial 20 with value: 0.7471685542971352.\n",
      "[I 2024-06-09 21:52:42,208] Trial 59 finished with value: 0.7411725516322452 and parameters: {'penalty': 'l2', 'C': 0.11169219545985529, 'max_iter': 297, 'solver': 'liblinear'}. Best is trial 20 with value: 0.7471685542971352.\n",
      "[I 2024-06-09 21:52:42,240] Trial 60 finished with value: 0.7425049966688874 and parameters: {'penalty': 'l2', 'C': 0.29270109123363675, 'max_iter': 710, 'solver': 'liblinear'}. Best is trial 20 with value: 0.7471685542971352.\n",
      "[I 2024-06-09 21:52:42,307] Trial 61 finished with value: 0.7401732178547635 and parameters: {'penalty': 'l2', 'C': 0.04277229803475929, 'max_iter': 671, 'solver': 'saga'}. Best is trial 20 with value: 0.7471685542971352.\n",
      "[I 2024-06-09 21:52:42,337] Trial 62 finished with value: 0.7418387741505663 and parameters: {'penalty': 'l2', 'C': 0.507123662445956, 'max_iter': 252, 'solver': 'liblinear'}. Best is trial 20 with value: 0.7471685542971352.\n",
      "[I 2024-06-09 21:52:42,418] Trial 63 finished with value: 0.7395069953364424 and parameters: {'penalty': 'l1', 'C': 0.16064733379405496, 'max_iter': 582, 'solver': 'saga'}. Best is trial 20 with value: 0.7471685542971352.\n",
      "[I 2024-06-09 21:52:42,490] Trial 64 finished with value: 0.739840106595603 and parameters: {'penalty': 'l1', 'C': 0.16428641490203766, 'max_iter': 527, 'solver': 'liblinear'}. Best is trial 20 with value: 0.7471685542971352.\n",
      "[I 2024-06-09 21:52:42,516] Trial 65 finished with value: 0.7421718854097269 and parameters: {'penalty': 'l2', 'C': 0.06566271040532483, 'max_iter': 519, 'solver': 'liblinear'}. Best is trial 20 with value: 0.7471685542971352.\n",
      "[I 2024-06-09 21:52:42,866] Trial 66 finished with value: 0.7465023317788141 and parameters: {'penalty': 'l1', 'C': 9.363637716926823, 'max_iter': 501, 'solver': 'liblinear'}. Best is trial 20 with value: 0.7471685542971352.\n",
      "[I 2024-06-09 21:52:42,944] Trial 67 finished with value: 0.7395069953364424 and parameters: {'penalty': 'l1', 'C': 0.1382320920240548, 'max_iter': 305, 'solver': 'saga'}. Best is trial 20 with value: 0.7471685542971352.\n",
      "[I 2024-06-09 21:52:43,048] Trial 68 finished with value: 0.7471685542971352 and parameters: {'penalty': 'l1', 'C': 0.7609887668309827, 'max_iter': 545, 'solver': 'saga'}. Best is trial 20 with value: 0.7471685542971352.\n",
      "[I 2024-06-09 21:52:43,117] Trial 69 finished with value: 0.7245169886742172 and parameters: {'penalty': 'l1', 'C': 0.018470397235606395, 'max_iter': 383, 'solver': 'saga'}. Best is trial 20 with value: 0.7471685542971352.\n",
      "[I 2024-06-09 21:52:43,207] Trial 70 finished with value: 0.7471685542971352 and parameters: {'penalty': 'l1', 'C': 0.8196477474599289, 'max_iter': 681, 'solver': 'saga'}. Best is trial 20 with value: 0.7471685542971352.\n",
      "[I 2024-06-09 21:52:43,277] Trial 71 finished with value: 0.7451698867421719 and parameters: {'penalty': 'l2', 'C': 6.621351178460469, 'max_iter': 384, 'solver': 'saga'}. Best is trial 20 with value: 0.7471685542971352.\n",
      "[I 2024-06-09 21:52:43,358] Trial 72 finished with value: 0.7181878747501665 and parameters: {'penalty': 'l1', 'C': 0.011625733609137401, 'max_iter': 511, 'solver': 'liblinear'}. Best is trial 20 with value: 0.7471685542971352.\n",
      "[I 2024-06-09 21:52:43,441] Trial 73 finished with value: 0.739840106595603 and parameters: {'penalty': 'l1', 'C': 0.1550235236888625, 'max_iter': 261, 'solver': 'saga'}. Best is trial 20 with value: 0.7471685542971352.\n",
      "[I 2024-06-09 21:52:43,516] Trial 74 finished with value: 0.7391738840772818 and parameters: {'penalty': 'l1', 'C': 0.04825277795261175, 'max_iter': 756, 'solver': 'saga'}. Best is trial 20 with value: 0.7471685542971352.\n",
      "[I 2024-06-09 21:52:43,577] Trial 75 finished with value: 0.7441705529646903 and parameters: {'penalty': 'l2', 'C': 2.6019378622062312, 'max_iter': 872, 'solver': 'liblinear'}. Best is trial 20 with value: 0.7471685542971352.\n",
      "[I 2024-06-09 21:52:43,685] Trial 76 finished with value: 0.7288474350433045 and parameters: {'penalty': 'l1', 'C': 0.019619429034729765, 'max_iter': 562, 'solver': 'liblinear'}. Best is trial 20 with value: 0.7471685542971352.\n",
      "[I 2024-06-09 21:52:44,027] Trial 77 finished with value: 0.7451698867421719 and parameters: {'penalty': 'l1', 'C': 0.5116190172324526, 'max_iter': 793, 'solver': 'liblinear'}. Best is trial 20 with value: 0.7471685542971352.\n",
      "[I 2024-06-09 21:52:44,099] Trial 78 finished with value: 0.7395069953364424 and parameters: {'penalty': 'l1', 'C': 0.037440064937739055, 'max_iter': 752, 'solver': 'saga'}. Best is trial 20 with value: 0.7471685542971352.\n",
      "[I 2024-06-09 21:52:44,133] Trial 79 finished with value: 0.7418387741505663 and parameters: {'penalty': 'l2', 'C': 0.08770998019776095, 'max_iter': 767, 'solver': 'liblinear'}. Best is trial 20 with value: 0.7471685542971352.\n",
      "[I 2024-06-09 21:52:44,171] Trial 80 finished with value: 0.7445036642238507 and parameters: {'penalty': 'l2', 'C': 2.6250589216749756, 'max_iter': 143, 'solver': 'liblinear'}. Best is trial 20 with value: 0.7471685542971352.\n",
      "[I 2024-06-09 21:52:44,542] Trial 81 finished with value: 0.7468354430379747 and parameters: {'penalty': 'l1', 'C': 3.424617973993266, 'max_iter': 301, 'solver': 'liblinear'}. Best is trial 20 with value: 0.7471685542971352.\n",
      "[I 2024-06-09 21:52:44,582] Trial 82 finished with value: 0.7441705529646903 and parameters: {'penalty': 'l2', 'C': 2.426796527489931, 'max_iter': 107, 'solver': 'liblinear'}. Best is trial 20 with value: 0.7471685542971352.\n",
      "[I 2024-06-09 21:52:44,923] Trial 83 finished with value: 0.7468354430379747 and parameters: {'penalty': 'l1', 'C': 4.343377793250721, 'max_iter': 730, 'solver': 'liblinear'}. Best is trial 20 with value: 0.7471685542971352.\n",
      "[I 2024-06-09 21:52:45,042] Trial 84 finished with value: 0.7418387741505663 and parameters: {'penalty': 'l2', 'C': 0.09449383077328626, 'max_iter': 327, 'solver': 'saga'}. Best is trial 20 with value: 0.7471685542971352.\n",
      "[I 2024-06-09 21:52:45,121] Trial 85 finished with value: 0.7335109926715523 and parameters: {'penalty': 'l1', 'C': 0.028003530764018625, 'max_iter': 465, 'solver': 'saga'}. Best is trial 20 with value: 0.7471685542971352.\n",
      "[I 2024-06-09 21:52:45,190] Trial 86 finished with value: 0.7408394403730846 and parameters: {'penalty': 'l1', 'C': 0.07045654344536163, 'max_iter': 484, 'solver': 'saga'}. Best is trial 20 with value: 0.7471685542971352.\n",
      "[I 2024-06-09 21:52:45,290] Trial 87 finished with value: 0.7151898734177216 and parameters: {'penalty': 'l1', 'C': 0.012404769455793309, 'max_iter': 548, 'solver': 'saga'}. Best is trial 20 with value: 0.7471685542971352.\n",
      "[I 2024-06-09 21:52:45,332] Trial 88 finished with value: 0.7428381079280479 and parameters: {'penalty': 'l2', 'C': 1.2184098366579124, 'max_iter': 810, 'solver': 'liblinear'}. Best is trial 20 with value: 0.7471685542971352.\n",
      "[I 2024-06-09 21:52:45,842] Trial 89 finished with value: 0.7468354430379747 and parameters: {'penalty': 'l1', 'C': 0.8751313316001041, 'max_iter': 270, 'solver': 'liblinear'}. Best is trial 20 with value: 0.7471685542971352.\n",
      "[I 2024-06-09 21:52:45,899] Trial 90 finished with value: 0.7455029980013325 and parameters: {'penalty': 'l2', 'C': 6.538727090384878, 'max_iter': 442, 'solver': 'liblinear'}. Best is trial 20 with value: 0.7471685542971352.\n",
      "[I 2024-06-09 21:52:45,959] Trial 91 finished with value: 0.7245169886742172 and parameters: {'penalty': 'l2', 'C': 0.010633554724178065, 'max_iter': 619, 'solver': 'saga'}. Best is trial 20 with value: 0.7471685542971352.\n",
      "[I 2024-06-09 21:52:46,302] Trial 92 finished with value: 0.7468354430379747 and parameters: {'penalty': 'l1', 'C': 2.4843250400284935, 'max_iter': 533, 'solver': 'liblinear'}. Best is trial 20 with value: 0.7471685542971352.\n",
      "[I 2024-06-09 21:52:46,333] Trial 93 finished with value: 0.7451698867421719 and parameters: {'penalty': 'l2', 'C': 3.3323996420526045, 'max_iter': 513, 'solver': 'liblinear'}. Best is trial 20 with value: 0.7471685542971352.\n",
      "[I 2024-06-09 21:52:46,393] Trial 94 finished with value: 0.7415056628914057 and parameters: {'penalty': 'l2', 'C': 0.06059210912132856, 'max_iter': 925, 'solver': 'saga'}. Best is trial 20 with value: 0.7471685542971352.\n",
      "[I 2024-06-09 21:52:46,464] Trial 95 finished with value: 0.745836109260493 and parameters: {'penalty': 'l2', 'C': 4.5479700137084444, 'max_iter': 291, 'solver': 'saga'}. Best is trial 20 with value: 0.7471685542971352.\n",
      "[I 2024-06-09 21:52:46,526] Trial 96 finished with value: 0.7465023317788141 and parameters: {'penalty': 'l1', 'C': 7.679733969285896, 'max_iter': 194, 'solver': 'saga'}. Best is trial 20 with value: 0.7471685542971352.\n",
      "[I 2024-06-09 21:52:46,562] Trial 97 finished with value: 0.7428381079280479 and parameters: {'penalty': 'l2', 'C': 0.32189709041888726, 'max_iter': 935, 'solver': 'liblinear'}. Best is trial 20 with value: 0.7471685542971352.\n",
      "[I 2024-06-09 21:52:46,588] Trial 98 finished with value: 0.7418387741505663 and parameters: {'penalty': 'l2', 'C': 0.27160186647574325, 'max_iter': 248, 'solver': 'liblinear'}. Best is trial 20 with value: 0.7471685542971352.\n",
      "[I 2024-06-09 21:52:46,647] Trial 99 finished with value: 0.7425049966688874 and parameters: {'penalty': 'l2', 'C': 0.1567892260270225, 'max_iter': 211, 'solver': 'saga'}. Best is trial 20 with value: 0.7471685542971352.\n",
      "[I 2024-06-09 21:52:46,696] Trial 100 finished with value: 0.7418387741505663 and parameters: {'penalty': 'l2', 'C': 0.24216801795707707, 'max_iter': 307, 'solver': 'saga'}. Best is trial 20 with value: 0.7471685542971352.\n",
      "[I 2024-06-09 21:52:46,788] Trial 101 finished with value: 0.7161892071952032 and parameters: {'penalty': 'l1', 'C': 0.010719523061562876, 'max_iter': 407, 'solver': 'liblinear'}. Best is trial 20 with value: 0.7471685542971352.\n",
      "[I 2024-06-09 21:52:47,206] Trial 102 finished with value: 0.7468354430379747 and parameters: {'penalty': 'l1', 'C': 4.113770080292592, 'max_iter': 633, 'solver': 'liblinear'}. Best is trial 20 with value: 0.7471685542971352.\n",
      "[I 2024-06-09 21:52:47,265] Trial 103 finished with value: 0.7415056628914057 and parameters: {'penalty': 'l2', 'C': 0.4588590014404327, 'max_iter': 347, 'solver': 'saga'}. Best is trial 20 with value: 0.7471685542971352.\n",
      "[I 2024-06-09 21:52:47,342] Trial 104 finished with value: 0.7408394403730846 and parameters: {'penalty': 'l1', 'C': 0.10710863250732765, 'max_iter': 193, 'solver': 'saga'}. Best is trial 20 with value: 0.7471685542971352.\n",
      "[I 2024-06-09 21:52:47,412] Trial 105 finished with value: 0.7435043304463691 and parameters: {'penalty': 'l2', 'C': 0.17914999526019226, 'max_iter': 491, 'solver': 'saga'}. Best is trial 20 with value: 0.7471685542971352.\n",
      "[I 2024-06-09 21:52:47,538] Trial 106 finished with value: 0.7338441039307129 and parameters: {'penalty': 'l1', 'C': 0.023543419823539496, 'max_iter': 406, 'solver': 'liblinear'}. Best is trial 20 with value: 0.7471685542971352.\n",
      "[I 2024-06-09 21:52:47,586] Trial 107 finished with value: 0.745836109260493 and parameters: {'penalty': 'l2', 'C': 9.503363044784564, 'max_iter': 999, 'solver': 'liblinear'}. Best is trial 20 with value: 0.7471685542971352.\n",
      "[I 2024-06-09 21:52:47,735] Trial 108 finished with value: 0.7395069953364424 and parameters: {'penalty': 'l1', 'C': 0.032161195128812416, 'max_iter': 601, 'solver': 'liblinear'}. Best is trial 20 with value: 0.7471685542971352.\n",
      "[I 2024-06-09 21:52:47,768] Trial 109 finished with value: 0.7395069953364424 and parameters: {'penalty': 'l2', 'C': 0.030447265733971277, 'max_iter': 546, 'solver': 'liblinear'}. Best is trial 20 with value: 0.7471685542971352.\n",
      "[I 2024-06-09 21:52:47,844] Trial 110 finished with value: 0.723850766155896 and parameters: {'penalty': 'l1', 'C': 0.01710832393798724, 'max_iter': 177, 'solver': 'saga'}. Best is trial 20 with value: 0.7471685542971352.\n",
      "[I 2024-06-09 21:52:47,913] Trial 111 finished with value: 0.7401732178547635 and parameters: {'penalty': 'l2', 'C': 0.04418892942627006, 'max_iter': 951, 'solver': 'saga'}. Best is trial 20 with value: 0.7471685542971352.\n",
      "[I 2024-06-09 21:52:47,996] Trial 112 finished with value: 0.7465023317788141 and parameters: {'penalty': 'l1', 'C': 3.606649390028294, 'max_iter': 416, 'solver': 'saga'}. Best is trial 20 with value: 0.7471685542971352.\n",
      "[I 2024-06-09 21:52:48,026] Trial 113 finished with value: 0.7418387741505663 and parameters: {'penalty': 'l2', 'C': 0.06408776041778638, 'max_iter': 408, 'solver': 'liblinear'}. Best is trial 20 with value: 0.7471685542971352.\n",
      "[I 2024-06-09 21:52:48,349] Trial 114 finished with value: 0.7461692205196535 and parameters: {'penalty': 'l1', 'C': 0.8367852800880451, 'max_iter': 678, 'solver': 'liblinear'}. Best is trial 20 with value: 0.7471685542971352.\n",
      "[I 2024-06-09 21:52:48,408] Trial 115 finished with value: 0.739840106595603 and parameters: {'penalty': 'l1', 'C': 0.1340402204245466, 'max_iter': 346, 'solver': 'saga'}. Best is trial 20 with value: 0.7471685542971352.\n",
      "[I 2024-06-09 21:52:48,481] Trial 116 finished with value: 0.7281812125249834 and parameters: {'penalty': 'l2', 'C': 0.013513345363822152, 'max_iter': 468, 'solver': 'saga'}. Best is trial 20 with value: 0.7471685542971352.\n",
      "[I 2024-06-09 21:52:48,784] Trial 117 finished with value: 0.7415056628914057 and parameters: {'penalty': 'l1', 'C': 0.22362723746871452, 'max_iter': 168, 'solver': 'liblinear'}. Best is trial 20 with value: 0.7471685542971352.\n",
      "[I 2024-06-09 21:52:48,864] Trial 118 finished with value: 0.7471685542971352 and parameters: {'penalty': 'l1', 'C': 0.8048275772815653, 'max_iter': 795, 'solver': 'saga'}. Best is trial 20 with value: 0.7471685542971352.\n",
      "[I 2024-06-09 21:52:48,968] Trial 119 finished with value: 0.7391738840772818 and parameters: {'penalty': 'l1', 'C': 0.04319432508279181, 'max_iter': 242, 'solver': 'liblinear'}. Best is trial 20 with value: 0.7471685542971352.\n",
      "[I 2024-06-09 21:52:49,012] Trial 120 finished with value: 0.7418387741505663 and parameters: {'penalty': 'l2', 'C': 0.5661300875256325, 'max_iter': 786, 'solver': 'liblinear'}. Best is trial 20 with value: 0.7471685542971352.\n",
      "[I 2024-06-09 21:52:49,082] Trial 121 finished with value: 0.7451698867421719 and parameters: {'penalty': 'l2', 'C': 3.338117980058931, 'max_iter': 157, 'solver': 'saga'}. Best is trial 20 with value: 0.7471685542971352.\n",
      "[I 2024-06-09 21:52:49,101] Trial 122 finished with value: 0.7328447701532311 and parameters: {'penalty': 'l2', 'C': 0.018148986323179152, 'max_iter': 294, 'solver': 'liblinear'}. Best is trial 20 with value: 0.7471685542971352.\n",
      "[I 2024-06-09 21:52:49,189] Trial 123 finished with value: 0.72618254497002 and parameters: {'penalty': 'l1', 'C': 0.01622977607749056, 'max_iter': 665, 'solver': 'liblinear'}. Best is trial 20 with value: 0.7471685542971352.\n",
      "[I 2024-06-09 21:52:49,544] Trial 124 finished with value: 0.7448367754830113 and parameters: {'penalty': 'l1', 'C': 0.3355993439527286, 'max_iter': 278, 'solver': 'liblinear'}. Best is trial 20 with value: 0.7471685542971352.\n",
      "[I 2024-06-09 21:52:49,674] Trial 125 finished with value: 0.7418387741505663 and parameters: {'penalty': 'l2', 'C': 0.1055046365383603, 'max_iter': 164, 'solver': 'saga'}. Best is trial 20 with value: 0.7471685542971352.\n",
      "[I 2024-06-09 21:52:49,709] Trial 126 finished with value: 0.7421718854097269 and parameters: {'penalty': 'l2', 'C': 0.3911432839894508, 'max_iter': 195, 'solver': 'liblinear'}. Best is trial 20 with value: 0.7471685542971352.\n",
      "[I 2024-06-09 21:52:49,771] Trial 127 finished with value: 0.7381745502998002 and parameters: {'penalty': 'l2', 'C': 0.02150458112009587, 'max_iter': 525, 'solver': 'saga'}. Best is trial 20 with value: 0.7471685542971352.\n",
      "[I 2024-06-09 21:52:49,870] Trial 128 finished with value: 0.7425049966688874 and parameters: {'penalty': 'l2', 'C': 0.7045593486636779, 'max_iter': 153, 'solver': 'saga'}. Best is trial 20 with value: 0.7471685542971352.\n",
      "[I 2024-06-09 21:52:49,915] Trial 129 finished with value: 0.7421718854097269 and parameters: {'penalty': 'l2', 'C': 0.05051448616390107, 'max_iter': 648, 'solver': 'liblinear'}. Best is trial 20 with value: 0.7471685542971352.\n",
      "[I 2024-06-09 21:52:50,206] Trial 130 finished with value: 0.7455029980013325 and parameters: {'penalty': 'l1', 'C': 0.456586960881237, 'max_iter': 533, 'solver': 'liblinear'}. Best is trial 20 with value: 0.7471685542971352.\n",
      "[I 2024-06-09 21:52:50,257] Trial 131 finished with value: 0.7421718854097269 and parameters: {'penalty': 'l2', 'C': 0.09379894918925637, 'max_iter': 934, 'solver': 'saga'}. Best is trial 20 with value: 0.7471685542971352.\n",
      "[I 2024-06-09 21:52:50,308] Trial 132 finished with value: 0.7431712191872085 and parameters: {'penalty': 'l2', 'C': 1.1864264633694677, 'max_iter': 237, 'solver': 'liblinear'}. Best is trial 20 with value: 0.7471685542971352.\n",
      "[I 2024-06-09 21:52:50,338] Trial 133 finished with value: 0.740506329113924 and parameters: {'penalty': 'l2', 'C': 0.028534777087763762, 'max_iter': 988, 'solver': 'liblinear'}. Best is trial 20 with value: 0.7471685542971352.\n",
      "[I 2024-06-09 21:52:50,374] Trial 134 finished with value: 0.7418387741505663 and parameters: {'penalty': 'l2', 'C': 0.5626786250159911, 'max_iter': 217, 'solver': 'liblinear'}. Best is trial 20 with value: 0.7471685542971352.\n",
      "[I 2024-06-09 21:52:50,713] Trial 135 finished with value: 0.7468354430379747 and parameters: {'penalty': 'l1', 'C': 3.8458773219426696, 'max_iter': 133, 'solver': 'liblinear'}. Best is trial 20 with value: 0.7471685542971352.\n",
      "[I 2024-06-09 21:52:50,819] Trial 136 finished with value: 0.7218520986009327 and parameters: {'penalty': 'l1', 'C': 0.01255556569435987, 'max_iter': 827, 'solver': 'liblinear'}. Best is trial 20 with value: 0.7471685542971352.\n",
      "[I 2024-06-09 21:52:50,929] Trial 137 finished with value: 0.7388407728181212 and parameters: {'penalty': 'l1', 'C': 0.15048015178109322, 'max_iter': 671, 'solver': 'liblinear'}. Best is trial 20 with value: 0.7471685542971352.\n",
      "[I 2024-06-09 21:52:50,978] Trial 138 finished with value: 0.7408394403730846 and parameters: {'penalty': 'l2', 'C': 0.5761014588218293, 'max_iter': 643, 'solver': 'saga'}. Best is trial 20 with value: 0.7471685542971352.\n",
      "[I 2024-06-09 21:52:51,007] Trial 139 finished with value: 0.7428381079280479 and parameters: {'penalty': 'l2', 'C': 0.1605530540282818, 'max_iter': 690, 'solver': 'liblinear'}. Best is trial 20 with value: 0.7471685542971352.\n",
      "[I 2024-06-09 21:52:51,052] Trial 140 finished with value: 0.7451698867421719 and parameters: {'penalty': 'l2', 'C': 3.476149081020438, 'max_iter': 503, 'solver': 'liblinear'}. Best is trial 20 with value: 0.7471685542971352.\n",
      "[I 2024-06-09 21:52:51,148] Trial 141 finished with value: 0.7468354430379747 and parameters: {'penalty': 'l1', 'C': 2.832879507168154, 'max_iter': 857, 'solver': 'saga'}. Best is trial 20 with value: 0.7471685542971352.\n",
      "[I 2024-06-09 21:52:51,484] Trial 142 finished with value: 0.7468354430379747 and parameters: {'penalty': 'l1', 'C': 3.2642533823486795, 'max_iter': 339, 'solver': 'liblinear'}. Best is trial 20 with value: 0.7471685542971352.\n",
      "[I 2024-06-09 21:52:51,559] Trial 143 finished with value: 0.7465023317788141 and parameters: {'penalty': 'l1', 'C': 3.614794818624378, 'max_iter': 342, 'solver': 'saga'}. Best is trial 20 with value: 0.7471685542971352.\n",
      "[I 2024-06-09 21:52:51,611] Trial 144 finished with value: 0.7415056628914057 and parameters: {'penalty': 'l2', 'C': 0.5581000855177066, 'max_iter': 987, 'solver': 'saga'}. Best is trial 20 with value: 0.7471685542971352.\n",
      "[I 2024-06-09 21:52:51,722] Trial 145 finished with value: 0.7255163224516988 and parameters: {'penalty': 'l1', 'C': 0.015937454723839006, 'max_iter': 297, 'solver': 'liblinear'}. Best is trial 20 with value: 0.7471685542971352.\n",
      "[I 2024-06-09 21:52:51,750] Trial 146 finished with value: 0.7425049966688874 and parameters: {'penalty': 'l2', 'C': 0.2858343201602987, 'max_iter': 146, 'solver': 'liblinear'}. Best is trial 20 with value: 0.7471685542971352.\n",
      "[I 2024-06-09 21:52:51,801] Trial 147 finished with value: 0.7411725516322452 and parameters: {'penalty': 'l2', 'C': 0.4259058815486066, 'max_iter': 373, 'solver': 'saga'}. Best is trial 20 with value: 0.7471685542971352.\n",
      "[I 2024-06-09 21:52:51,865] Trial 148 finished with value: 0.7455029980013325 and parameters: {'penalty': 'l2', 'C': 8.381769049367936, 'max_iter': 219, 'solver': 'saga'}. Best is trial 20 with value: 0.7471685542971352.\n",
      "[I 2024-06-09 21:52:51,925] Trial 149 finished with value: 0.7418387741505663 and parameters: {'penalty': 'l2', 'C': 0.1265620746042377, 'max_iter': 939, 'solver': 'saga'}. Best is trial 20 with value: 0.7471685542971352.\n",
      "[I 2024-06-09 21:52:52,319] Trial 150 finished with value: 0.7471685542971352 and parameters: {'penalty': 'l1', 'C': 1.5148039626624434, 'max_iter': 518, 'solver': 'liblinear'}. Best is trial 20 with value: 0.7471685542971352.\n",
      "[I 2024-06-09 21:52:52,432] Trial 151 finished with value: 0.734510326449034 and parameters: {'penalty': 'l1', 'C': 0.023454158653051307, 'max_iter': 620, 'solver': 'liblinear'}. Best is trial 20 with value: 0.7471685542971352.\n",
      "[I 2024-06-09 21:52:52,518] Trial 152 finished with value: 0.7475016655562958 and parameters: {'penalty': 'l1', 'C': 1.0653730304965756, 'max_iter': 963, 'solver': 'saga'}. Best is trial 152 with value: 0.7475016655562958.\n",
      "[I 2024-06-09 21:52:52,562] Trial 153 finished with value: 0.7425049966688874 and parameters: {'penalty': 'l2', 'C': 1.4658524113174352, 'max_iter': 699, 'solver': 'liblinear'}. Best is trial 152 with value: 0.7475016655562958.\n",
      "[I 2024-06-09 21:52:52,946] Trial 154 finished with value: 0.7468354430379747 and parameters: {'penalty': 'l1', 'C': 3.1662543141065593, 'max_iter': 902, 'solver': 'liblinear'}. Best is trial 152 with value: 0.7475016655562958.\n",
      "[I 2024-06-09 21:52:52,998] Trial 155 finished with value: 0.7438374417055297 and parameters: {'penalty': 'l2', 'C': 2.130954937120347, 'max_iter': 515, 'solver': 'saga'}. Best is trial 152 with value: 0.7475016655562958.\n",
      "[I 2024-06-09 21:52:53,071] Trial 156 finished with value: 0.7471685542971352 and parameters: {'penalty': 'l1', 'C': 1.1749178764645996, 'max_iter': 768, 'solver': 'saga'}. Best is trial 152 with value: 0.7475016655562958.\n",
      "[I 2024-06-09 21:52:53,139] Trial 157 finished with value: 0.7408394403730846 and parameters: {'penalty': 'l1', 'C': 0.08788948403482796, 'max_iter': 490, 'solver': 'saga'}. Best is trial 152 with value: 0.7475016655562958.\n",
      "[I 2024-06-09 21:52:53,492] Trial 158 finished with value: 0.7455029980013325 and parameters: {'penalty': 'l1', 'C': 0.5865011567299384, 'max_iter': 176, 'solver': 'liblinear'}. Best is trial 152 with value: 0.7475016655562958.\n",
      "[I 2024-06-09 21:52:53,806] Trial 159 finished with value: 0.745836109260493 and parameters: {'penalty': 'l1', 'C': 0.8157109699225751, 'max_iter': 884, 'solver': 'liblinear'}. Best is trial 152 with value: 0.7475016655562958.\n",
      "[I 2024-06-09 21:52:53,875] Trial 160 finished with value: 0.7468354430379747 and parameters: {'penalty': 'l1', 'C': 1.3988159822083077, 'max_iter': 636, 'solver': 'saga'}. Best is trial 152 with value: 0.7475016655562958.\n",
      "[I 2024-06-09 21:52:54,321] Trial 161 finished with value: 0.7465023317788141 and parameters: {'penalty': 'l1', 'C': 9.100395198201445, 'max_iter': 925, 'solver': 'liblinear'}. Best is trial 152 with value: 0.7475016655562958.\n",
      "[I 2024-06-09 21:52:54,387] Trial 162 finished with value: 0.7441705529646903 and parameters: {'penalty': 'l2', 'C': 2.371987901894068, 'max_iter': 817, 'solver': 'saga'}. Best is trial 152 with value: 0.7475016655562958.\n",
      "[I 2024-06-09 21:52:54,513] Trial 163 finished with value: 0.7421718854097269 and parameters: {'penalty': 'l1', 'C': 0.06772465718340923, 'max_iter': 724, 'solver': 'liblinear'}. Best is trial 152 with value: 0.7475016655562958.\n",
      "[I 2024-06-09 21:52:54,534] Trial 164 finished with value: 0.7415056628914057 and parameters: {'penalty': 'l2', 'C': 0.027643783457538054, 'max_iter': 517, 'solver': 'liblinear'}. Best is trial 152 with value: 0.7475016655562958.\n",
      "[I 2024-06-09 21:52:54,619] Trial 165 finished with value: 0.7411725516322452 and parameters: {'penalty': 'l1', 'C': 0.07931698456694951, 'max_iter': 381, 'solver': 'liblinear'}. Best is trial 152 with value: 0.7475016655562958.\n",
      "[I 2024-06-09 21:52:54,647] Trial 166 finished with value: 0.7418387741505663 and parameters: {'penalty': 'l2', 'C': 0.06865463322025443, 'max_iter': 668, 'solver': 'liblinear'}. Best is trial 152 with value: 0.7475016655562958.\n",
      "[I 2024-06-09 21:52:54,680] Trial 167 finished with value: 0.7455029980013325 and parameters: {'penalty': 'l2', 'C': 7.232727518623564, 'max_iter': 735, 'solver': 'liblinear'}. Best is trial 152 with value: 0.7475016655562958.\n",
      "[I 2024-06-09 21:52:54,735] Trial 168 finished with value: 0.7425049966688874 and parameters: {'penalty': 'l2', 'C': 0.882142585204433, 'max_iter': 281, 'solver': 'liblinear'}. Best is trial 152 with value: 0.7475016655562958.\n",
      "[I 2024-06-09 21:52:54,841] Trial 169 finished with value: 0.7411725516322452 and parameters: {'penalty': 'l1', 'C': 0.060205492355472054, 'max_iter': 397, 'solver': 'liblinear'}. Best is trial 152 with value: 0.7475016655562958.\n",
      "[I 2024-06-09 21:52:54,928] Trial 170 finished with value: 0.7411725516322452 and parameters: {'penalty': 'l1', 'C': 0.07723931950697714, 'max_iter': 873, 'solver': 'liblinear'}. Best is trial 152 with value: 0.7475016655562958.\n",
      "[I 2024-06-09 21:52:54,957] Trial 171 finished with value: 0.7421718854097269 and parameters: {'penalty': 'l2', 'C': 0.08879822158262446, 'max_iter': 499, 'solver': 'liblinear'}. Best is trial 152 with value: 0.7475016655562958.\n",
      "[I 2024-06-09 21:52:54,984] Trial 172 finished with value: 0.7251832111925383 and parameters: {'penalty': 'l2', 'C': 0.010134215338029441, 'max_iter': 615, 'solver': 'liblinear'}. Best is trial 152 with value: 0.7475016655562958.\n",
      "[I 2024-06-09 21:52:55,049] Trial 173 finished with value: 0.7415056628914057 and parameters: {'penalty': 'l1', 'C': 0.07429284993668595, 'max_iter': 533, 'solver': 'saga'}. Best is trial 152 with value: 0.7475016655562958.\n",
      "[I 2024-06-09 21:52:55,159] Trial 174 finished with value: 0.7415056628914057 and parameters: {'penalty': 'l1', 'C': 0.07836818939004365, 'max_iter': 498, 'solver': 'liblinear'}. Best is trial 152 with value: 0.7475016655562958.\n",
      "[I 2024-06-09 21:52:55,561] Trial 175 finished with value: 0.7465023317788141 and parameters: {'penalty': 'l1', 'C': 4.73257417751155, 'max_iter': 518, 'solver': 'liblinear'}. Best is trial 152 with value: 0.7475016655562958.\n",
      "[I 2024-06-09 21:52:55,632] Trial 176 finished with value: 0.7468354430379747 and parameters: {'penalty': 'l1', 'C': 0.6613252201817359, 'max_iter': 151, 'solver': 'saga'}. Best is trial 152 with value: 0.7475016655562958.\n",
      "[I 2024-06-09 21:52:55,711] Trial 177 finished with value: 0.7115256495669554 and parameters: {'penalty': 'l1', 'C': 0.010196202087229395, 'max_iter': 849, 'solver': 'saga'}. Best is trial 152 with value: 0.7475016655562958.\n",
      "[I 2024-06-09 21:52:55,800] Trial 178 finished with value: 0.7465023317788141 and parameters: {'penalty': 'l1', 'C': 9.439981254820681, 'max_iter': 136, 'solver': 'saga'}. Best is trial 152 with value: 0.7475016655562958.\n",
      "[I 2024-06-09 21:52:55,878] Trial 179 finished with value: 0.7241838774150566 and parameters: {'penalty': 'l2', 'C': 0.01027005055530255, 'max_iter': 263, 'solver': 'saga'}. Best is trial 152 with value: 0.7475016655562958.\n",
      "[I 2024-06-09 21:52:55,928] Trial 180 finished with value: 0.7428381079280479 and parameters: {'penalty': 'l2', 'C': 0.192968015205417, 'max_iter': 960, 'solver': 'saga'}. Best is trial 152 with value: 0.7475016655562958.\n",
      "[I 2024-06-09 21:52:56,010] Trial 181 finished with value: 0.7465023317788141 and parameters: {'penalty': 'l1', 'C': 6.612363362982119, 'max_iter': 621, 'solver': 'saga'}. Best is trial 152 with value: 0.7475016655562958.\n",
      "[I 2024-06-09 21:52:56,045] Trial 182 finished with value: 0.7311792138574283 and parameters: {'penalty': 'l2', 'C': 0.017193210605788788, 'max_iter': 184, 'solver': 'liblinear'}. Best is trial 152 with value: 0.7475016655562958.\n",
      "[I 2024-06-09 21:52:56,145] Trial 183 finished with value: 0.7468354430379747 and parameters: {'penalty': 'l1', 'C': 1.9592487877054943, 'max_iter': 365, 'solver': 'saga'}. Best is trial 152 with value: 0.7475016655562958.\n",
      "[I 2024-06-09 21:52:56,198] Trial 184 finished with value: 0.7421718854097269 and parameters: {'penalty': 'l2', 'C': 0.08376188024813663, 'max_iter': 197, 'solver': 'saga'}. Best is trial 152 with value: 0.7475016655562958.\n",
      "[I 2024-06-09 21:52:56,223] Trial 185 finished with value: 0.7275149900066622 and parameters: {'penalty': 'l2', 'C': 0.013313456146033015, 'max_iter': 964, 'solver': 'liblinear'}. Best is trial 152 with value: 0.7475016655562958.\n",
      "[I 2024-06-09 21:52:56,247] Trial 186 finished with value: 0.7395069953364424 and parameters: {'penalty': 'l2', 'C': 0.035315836587124984, 'max_iter': 394, 'solver': 'liblinear'}. Best is trial 152 with value: 0.7475016655562958.\n",
      "[I 2024-06-09 21:52:56,298] Trial 187 finished with value: 0.7438374417055297 and parameters: {'penalty': 'l2', 'C': 2.128916894622956, 'max_iter': 641, 'solver': 'saga'}. Best is trial 152 with value: 0.7475016655562958.\n",
      "[I 2024-06-09 21:52:56,352] Trial 188 finished with value: 0.7448367754830113 and parameters: {'penalty': 'l2', 'C': 3.091450273626414, 'max_iter': 524, 'solver': 'saga'}. Best is trial 152 with value: 0.7475016655562958.\n",
      "[I 2024-06-09 21:52:56,691] Trial 189 finished with value: 0.7468354430379747 and parameters: {'penalty': 'l1', 'C': 4.676363199035758, 'max_iter': 280, 'solver': 'liblinear'}. Best is trial 152 with value: 0.7475016655562958.\n",
      "[I 2024-06-09 21:52:57,106] Trial 190 finished with value: 0.7471685542971352 and parameters: {'penalty': 'l1', 'C': 1.4521410708874116, 'max_iter': 433, 'solver': 'liblinear'}. Best is trial 152 with value: 0.7475016655562958.\n",
      "[I 2024-06-09 21:52:57,135] Trial 191 finished with value: 0.7418387741505663 and parameters: {'penalty': 'l2', 'C': 0.26437685423944396, 'max_iter': 973, 'solver': 'liblinear'}. Best is trial 152 with value: 0.7475016655562958.\n",
      "[I 2024-06-09 21:52:57,214] Trial 192 finished with value: 0.7385076615589606 and parameters: {'penalty': 'l1', 'C': 0.034468490615851, 'max_iter': 725, 'solver': 'saga'}. Best is trial 152 with value: 0.7475016655562958.\n",
      "[I 2024-06-09 21:52:57,247] Trial 193 finished with value: 0.7415056628914057 and parameters: {'penalty': 'l2', 'C': 0.5196208822194063, 'max_iter': 430, 'solver': 'liblinear'}. Best is trial 152 with value: 0.7475016655562958.\n",
      "[I 2024-06-09 21:52:57,276] Trial 194 finished with value: 0.7361758827448368 and parameters: {'penalty': 'l2', 'C': 0.020271523756867773, 'max_iter': 557, 'solver': 'liblinear'}. Best is trial 152 with value: 0.7475016655562958.\n",
      "[I 2024-06-09 21:52:57,345] Trial 195 finished with value: 0.7415056628914057 and parameters: {'penalty': 'l2', 'C': 0.0744301669502829, 'max_iter': 682, 'solver': 'saga'}. Best is trial 152 with value: 0.7475016655562958.\n",
      "[I 2024-06-09 21:52:57,399] Trial 196 finished with value: 0.7418387741505663 and parameters: {'penalty': 'l2', 'C': 0.3889777862508648, 'max_iter': 228, 'solver': 'saga'}. Best is trial 152 with value: 0.7475016655562958.\n",
      "[I 2024-06-09 21:52:57,448] Trial 197 finished with value: 0.7411725516322452 and parameters: {'penalty': 'l2', 'C': 0.12914771572057868, 'max_iter': 937, 'solver': 'liblinear'}. Best is trial 152 with value: 0.7475016655562958.\n",
      "[I 2024-06-09 21:52:57,795] Trial 198 finished with value: 0.7468354430379747 and parameters: {'penalty': 'l1', 'C': 4.246499925677045, 'max_iter': 273, 'solver': 'liblinear'}. Best is trial 152 with value: 0.7475016655562958.\n",
      "[I 2024-06-09 21:52:57,890] Trial 199 finished with value: 0.739840106595603 and parameters: {'penalty': 'l1', 'C': 0.04682391430633818, 'max_iter': 547, 'solver': 'liblinear'}. Best is trial 152 with value: 0.7475016655562958.\n"
     ]
    },
    {
     "name": "stdout",
     "output_type": "stream",
     "text": [
      "Best Hyperparameters: {'penalty': 'l1', 'C': 1.0653730304965756, 'max_iter': 963, 'solver': 'saga'}\n",
      "Best Accuracy: 0.7475016655562958\n"
     ]
    }
   ],
   "source": [
    "# Create a study object and optimize the objective function\n",
    "study = optuna.create_study(direction='maximize', sampler=optuna.samplers.RandomSampler(seed=seed))\n",
    "study.optimize(objective, n_trials=200)\n",
    "\n",
    "# Get the best hyperparameters and accuracy score\n",
    "best_params = study.best_params\n",
    "best_accuracy = study.best_value\n",
    "\n",
    "print(\"Best Hyperparameters:\", best_params)\n",
    "print(\"Best Accuracy:\", best_accuracy)"
   ]
  },
  {
   "cell_type": "code",
   "execution_count": 21,
   "metadata": {},
   "outputs": [
    {
     "data": {
      "text/html": [
       "<div>\n",
       "<style scoped>\n",
       "    .dataframe tbody tr th:only-of-type {\n",
       "        vertical-align: middle;\n",
       "    }\n",
       "\n",
       "    .dataframe tbody tr th {\n",
       "        vertical-align: top;\n",
       "    }\n",
       "\n",
       "    .dataframe thead th {\n",
       "        text-align: right;\n",
       "    }\n",
       "</style>\n",
       "<table border=\"1\" class=\"dataframe\">\n",
       "  <thead>\n",
       "    <tr style=\"text-align: right;\">\n",
       "      <th></th>\n",
       "      <th>number</th>\n",
       "      <th>value</th>\n",
       "      <th>datetime_start</th>\n",
       "      <th>datetime_complete</th>\n",
       "      <th>duration</th>\n",
       "      <th>params_C</th>\n",
       "      <th>params_max_iter</th>\n",
       "      <th>params_penalty</th>\n",
       "      <th>params_solver</th>\n",
       "      <th>state</th>\n",
       "    </tr>\n",
       "  </thead>\n",
       "  <tbody>\n",
       "    <tr>\n",
       "      <th>152</th>\n",
       "      <td>152</td>\n",
       "      <td>0.747502</td>\n",
       "      <td>2024-06-09 21:52:52.433406</td>\n",
       "      <td>2024-06-09 21:52:52.518878</td>\n",
       "      <td>0 days 00:00:00.085472</td>\n",
       "      <td>1.065373</td>\n",
       "      <td>963</td>\n",
       "      <td>l1</td>\n",
       "      <td>saga</td>\n",
       "      <td>COMPLETE</td>\n",
       "    </tr>\n",
       "    <tr>\n",
       "      <th>70</th>\n",
       "      <td>70</td>\n",
       "      <td>0.747169</td>\n",
       "      <td>2024-06-09 21:52:43.118070</td>\n",
       "      <td>2024-06-09 21:52:43.207202</td>\n",
       "      <td>0 days 00:00:00.089132</td>\n",
       "      <td>0.819648</td>\n",
       "      <td>681</td>\n",
       "      <td>l1</td>\n",
       "      <td>saga</td>\n",
       "      <td>COMPLETE</td>\n",
       "    </tr>\n",
       "    <tr>\n",
       "      <th>156</th>\n",
       "      <td>156</td>\n",
       "      <td>0.747169</td>\n",
       "      <td>2024-06-09 21:52:52.999212</td>\n",
       "      <td>2024-06-09 21:52:53.071039</td>\n",
       "      <td>0 days 00:00:00.071827</td>\n",
       "      <td>1.174918</td>\n",
       "      <td>768</td>\n",
       "      <td>l1</td>\n",
       "      <td>saga</td>\n",
       "      <td>COMPLETE</td>\n",
       "    </tr>\n",
       "    <tr>\n",
       "      <th>190</th>\n",
       "      <td>190</td>\n",
       "      <td>0.747169</td>\n",
       "      <td>2024-06-09 21:52:56.701262</td>\n",
       "      <td>2024-06-09 21:52:57.105992</td>\n",
       "      <td>0 days 00:00:00.404730</td>\n",
       "      <td>1.452141</td>\n",
       "      <td>433</td>\n",
       "      <td>l1</td>\n",
       "      <td>liblinear</td>\n",
       "      <td>COMPLETE</td>\n",
       "    </tr>\n",
       "    <tr>\n",
       "      <th>68</th>\n",
       "      <td>68</td>\n",
       "      <td>0.747169</td>\n",
       "      <td>2024-06-09 21:52:42.947573</td>\n",
       "      <td>2024-06-09 21:52:43.047949</td>\n",
       "      <td>0 days 00:00:00.100376</td>\n",
       "      <td>0.760989</td>\n",
       "      <td>545</td>\n",
       "      <td>l1</td>\n",
       "      <td>saga</td>\n",
       "      <td>COMPLETE</td>\n",
       "    </tr>\n",
       "    <tr>\n",
       "      <th>150</th>\n",
       "      <td>150</td>\n",
       "      <td>0.747169</td>\n",
       "      <td>2024-06-09 21:52:51.926163</td>\n",
       "      <td>2024-06-09 21:52:52.319370</td>\n",
       "      <td>0 days 00:00:00.393207</td>\n",
       "      <td>1.514804</td>\n",
       "      <td>518</td>\n",
       "      <td>l1</td>\n",
       "      <td>liblinear</td>\n",
       "      <td>COMPLETE</td>\n",
       "    </tr>\n",
       "    <tr>\n",
       "      <th>118</th>\n",
       "      <td>118</td>\n",
       "      <td>0.747169</td>\n",
       "      <td>2024-06-09 21:52:48.786276</td>\n",
       "      <td>2024-06-09 21:52:48.864455</td>\n",
       "      <td>0 days 00:00:00.078179</td>\n",
       "      <td>0.804828</td>\n",
       "      <td>795</td>\n",
       "      <td>l1</td>\n",
       "      <td>saga</td>\n",
       "      <td>COMPLETE</td>\n",
       "    </tr>\n",
       "    <tr>\n",
       "      <th>20</th>\n",
       "      <td>20</td>\n",
       "      <td>0.747169</td>\n",
       "      <td>2024-06-09 21:52:37.657820</td>\n",
       "      <td>2024-06-09 21:52:37.732303</td>\n",
       "      <td>0 days 00:00:00.074483</td>\n",
       "      <td>0.761548</td>\n",
       "      <td>457</td>\n",
       "      <td>l1</td>\n",
       "      <td>saga</td>\n",
       "      <td>COMPLETE</td>\n",
       "    </tr>\n",
       "    <tr>\n",
       "      <th>135</th>\n",
       "      <td>135</td>\n",
       "      <td>0.746835</td>\n",
       "      <td>2024-06-09 21:52:50.375340</td>\n",
       "      <td>2024-06-09 21:52:50.713806</td>\n",
       "      <td>0 days 00:00:00.338466</td>\n",
       "      <td>3.845877</td>\n",
       "      <td>133</td>\n",
       "      <td>l1</td>\n",
       "      <td>liblinear</td>\n",
       "      <td>COMPLETE</td>\n",
       "    </tr>\n",
       "    <tr>\n",
       "      <th>81</th>\n",
       "      <td>81</td>\n",
       "      <td>0.746835</td>\n",
       "      <td>2024-06-09 21:52:44.173078</td>\n",
       "      <td>2024-06-09 21:52:44.542146</td>\n",
       "      <td>0 days 00:00:00.369068</td>\n",
       "      <td>3.424618</td>\n",
       "      <td>301</td>\n",
       "      <td>l1</td>\n",
       "      <td>liblinear</td>\n",
       "      <td>COMPLETE</td>\n",
       "    </tr>\n",
       "  </tbody>\n",
       "</table>\n",
       "</div>"
      ],
      "text/plain": [
       "     number     value             datetime_start          datetime_complete  \\\n",
       "152     152  0.747502 2024-06-09 21:52:52.433406 2024-06-09 21:52:52.518878   \n",
       "70       70  0.747169 2024-06-09 21:52:43.118070 2024-06-09 21:52:43.207202   \n",
       "156     156  0.747169 2024-06-09 21:52:52.999212 2024-06-09 21:52:53.071039   \n",
       "190     190  0.747169 2024-06-09 21:52:56.701262 2024-06-09 21:52:57.105992   \n",
       "68       68  0.747169 2024-06-09 21:52:42.947573 2024-06-09 21:52:43.047949   \n",
       "150     150  0.747169 2024-06-09 21:52:51.926163 2024-06-09 21:52:52.319370   \n",
       "118     118  0.747169 2024-06-09 21:52:48.786276 2024-06-09 21:52:48.864455   \n",
       "20       20  0.747169 2024-06-09 21:52:37.657820 2024-06-09 21:52:37.732303   \n",
       "135     135  0.746835 2024-06-09 21:52:50.375340 2024-06-09 21:52:50.713806   \n",
       "81       81  0.746835 2024-06-09 21:52:44.173078 2024-06-09 21:52:44.542146   \n",
       "\n",
       "                  duration  params_C  params_max_iter params_penalty  \\\n",
       "152 0 days 00:00:00.085472  1.065373              963             l1   \n",
       "70  0 days 00:00:00.089132  0.819648              681             l1   \n",
       "156 0 days 00:00:00.071827  1.174918              768             l1   \n",
       "190 0 days 00:00:00.404730  1.452141              433             l1   \n",
       "68  0 days 00:00:00.100376  0.760989              545             l1   \n",
       "150 0 days 00:00:00.393207  1.514804              518             l1   \n",
       "118 0 days 00:00:00.078179  0.804828              795             l1   \n",
       "20  0 days 00:00:00.074483  0.761548              457             l1   \n",
       "135 0 days 00:00:00.338466  3.845877              133             l1   \n",
       "81  0 days 00:00:00.369068  3.424618              301             l1   \n",
       "\n",
       "    params_solver     state  \n",
       "152          saga  COMPLETE  \n",
       "70           saga  COMPLETE  \n",
       "156          saga  COMPLETE  \n",
       "190     liblinear  COMPLETE  \n",
       "68           saga  COMPLETE  \n",
       "150     liblinear  COMPLETE  \n",
       "118          saga  COMPLETE  \n",
       "20           saga  COMPLETE  \n",
       "135     liblinear  COMPLETE  \n",
       "81      liblinear  COMPLETE  "
      ]
     },
     "execution_count": 21,
     "metadata": {},
     "output_type": "execute_result"
    }
   ],
   "source": [
    "# Get best trials\n",
    "trials_OTP1 = study.trials_dataframe()\n",
    "# Sort the dataframe by value (accuracy) in descending order\n",
    "top_trials_OTP1 = trials_OTP1.sort_values(by='value', ascending=False).head(10)\n",
    "top_trials_OTP1"
   ]
  },
  {
   "cell_type": "code",
   "execution_count": 22,
   "metadata": {},
   "outputs": [
    {
     "name": "stdout",
     "output_type": "stream",
     "text": [
      "Metrics for LR_baseline_OPT1_best:\n",
      "Accuracy: 0.7475\n",
      "Weighted F1: 0.7469\n",
      "Weighted Precision: 0.7479\n",
      "Weighted Recall: 0.7475\n",
      "Macro-Averaged Precision: 0.7482\n",
      "Macro-Averaged Recall: 0.7460\n",
      "F1: [0.76371571 0.72889843]\n",
      "Precision: [0.74152542 0.75481481]\n",
      "classification report\n",
      "              precision    recall  f1-score   support\n",
      "\n",
      "     Class 0       0.74      0.79      0.76      1556\n",
      "     Class 1       0.75      0.70      0.73      1446\n",
      "\n",
      "    accuracy                           0.75      3002\n",
      "   macro avg       0.75      0.75      0.75      3002\n",
      "weighted avg       0.75      0.75      0.75      3002\n",
      "\n",
      "Confusion Matrix\n"
     ]
    },
    {
     "data": {
      "image/png": "[encoded data removed]",
      "text/plain": [
       "<Figure size 640x480 with 2 Axes>"
      ]
     },
     "metadata": {},
     "output_type": "display_data"
    }
   ],
   "source": [
    "best_trial = study.best_trial\n",
    "best_model = LogisticRegression(**best_trial.params, random_state=seed)\n",
    "best_model.fit(X_train, y_train)\n",
    "\n",
    "predictions_opt1 = best_model.predict(X_test)\n",
    "model_metrics = pd.concat([model_metrics, calculate_metrics('LR_baseline_OPT1_best', y_test, predictions_opt1)])"
   ]
  },
  {
   "cell_type": "code",
   "execution_count": 23,
   "metadata": {},
   "outputs": [
    {
     "data": {
      "text/plain": [
       "{'penalty': 'l1', 'C': 1.0653730304965756, 'max_iter': 963, 'solver': 'saga'}"
      ]
     },
     "execution_count": 23,
     "metadata": {},
     "output_type": "execute_result"
    }
   ],
   "source": [
    "study.best_params"
   ]
  },
  {
   "cell_type": "code",
   "execution_count": 24,
   "metadata": {},
   "outputs": [
    {
     "data": {
      "application/vnd.plotly.v1+json": {
       "config": {
        "plotlyServerURL": "https://plot.ly"
       },
       "data": [
        {
         "mode": "markers",
         "name": "Objective Value",
         "type": "scatter",
         "x": [
          0,
          1,
          2,
          3,
          4,
          5,
          6,
          7,
          8,
          9,
          10,
          11,
          12,
          13,
          14,
          15,
          16,
          17,
          18,
          19,
          20,
          21,
          22,
          23,
          24,
          25,
          26,
          27,
          28,
          29,
          30,
          31,
          32,
          33,
          34,
          35,
          36,
          37,
          38,
          39,
          40,
          41,
          42,
          43,
          44,
          45,
          46,
          47,
          48,
          49,
          50,
          51,
          52,
          53,
          54,
          55,
          56,
          57,
          58,
          59,
          60,
          61,
          62,
          63,
          64,
          65,
          66,
          67,
          68,
          69,
          70,
          71,
          72,
          73,
          74,
          75,
          76,
          77,
          78,
          79,
          80,
          81,
          82,
          83,
          84,
          85,
          86,
          87,
          88,
          89,
          90,
          91,
          92,
          93,
          94,
          95,
          96,
          97,
          98,
          99,
          100,
          101,
          102,
          103,
          104,
          105,
          106,
          107,
          108,
          109,
          110,
          111,
          112,
          113,
          114,
          115,
          116,
          117,
          118,
          119,
          120,
          121,
          122,
          123,
          124,
          125,
          126,
          127,
          128,
          129,
          130,
          131,
          132,
          133,
          134,
          135,
          136,
          137,
          138,
          139,
          140,
          141,
          142,
          143,
          144,
          145,
          146,
          147,
          148,
          149,
          150,
          151,
          152,
          153,
          154,
          155,
          156,
          157,
          158,
          159,
          160,
          161,
          162,
          163,
          164,
          165,
          166,
          167,
          168,
          169,
          170,
          171,
          172,
          173,
          174,
          175,
          176,
          177,
          178,
          179,
          180,
          181,
          182,
          183,
          184,
          185,
          186,
          187,
          188,
          189,
          190,
          191,
          192,
          193,
          194,
          195,
          196,
          197,
          198,
          199
         ],
         "y": [
          0.7438374417055297,
          0.7425049966688874,
          0.7455029980013325,
          0.7468354430379747,
          0.7411725516322452,
          0.734510326449034,
          0.7365089940039974,
          0.7411725516322452,
          0.7455029980013325,
          0.7441705529646903,
          0.7465023317788141,
          0.7455029980013325,
          0.7301798800799467,
          0.7441705529646903,
          0.7445036642238507,
          0.7271818787475016,
          0.7455029980013325,
          0.7245169886742172,
          0.7421718854097269,
          0.7465023317788141,
          0.7471685542971352,
          0.7418387741505663,
          0.7355096602265156,
          0.7275149900066622,
          0.7388407728181212,
          0.7465023317788141,
          0.7411725516322452,
          0.7301798800799467,
          0.7218520986009327,
          0.7425049966688874,
          0.7465023317788141,
          0.7418387741505663,
          0.7465023317788141,
          0.7225183211192538,
          0.7408394403730846,
          0.7275149900066622,
          0.7408394403730846,
          0.7425049966688874,
          0.7455029980013325,
          0.7258494337108594,
          0.7415056628914057,
          0.7451698867421719,
          0.7411725516322452,
          0.7275149900066622,
          0.739840106595603,
          0.7465023317788141,
          0.7465023317788141,
          0.7421718854097269,
          0.7448367754830113,
          0.7428381079280479,
          0.7318454363757495,
          0.7158560959360426,
          0.72618254497002,
          0.7401732178547635,
          0.7451698867421719,
          0.7235176548967355,
          0.723850766155896,
          0.734510326449034,
          0.7455029980013325,
          0.7411725516322452,
          0.7425049966688874,
          0.7401732178547635,
          0.7418387741505663,
          0.7395069953364424,
          0.739840106595603,
          0.7421718854097269,
          0.7465023317788141,
          0.7395069953364424,
          0.7471685542971352,
          0.7245169886742172,
          0.7471685542971352,
          0.7451698867421719,
          0.7181878747501665,
          0.739840106595603,
          0.7391738840772818,
          0.7441705529646903,
          0.7288474350433045,
          0.7451698867421719,
          0.7395069953364424,
          0.7418387741505663,
          0.7445036642238507,
          0.7468354430379747,
          0.7441705529646903,
          0.7468354430379747,
          0.7418387741505663,
          0.7335109926715523,
          0.7408394403730846,
          0.7151898734177216,
          0.7428381079280479,
          0.7468354430379747,
          0.7455029980013325,
          0.7245169886742172,
          0.7468354430379747,
          0.7451698867421719,
          0.7415056628914057,
          0.745836109260493,
          0.7465023317788141,
          0.7428381079280479,
          0.7418387741505663,
          0.7425049966688874,
          0.7418387741505663,
          0.7161892071952032,
          0.7468354430379747,
          0.7415056628914057,
          0.7408394403730846,
          0.7435043304463691,
          0.7338441039307129,
          0.745836109260493,
          0.7395069953364424,
          0.7395069953364424,
          0.723850766155896,
          0.7401732178547635,
          0.7465023317788141,
          0.7418387741505663,
          0.7461692205196535,
          0.739840106595603,
          0.7281812125249834,
          0.7415056628914057,
          0.7471685542971352,
          0.7391738840772818,
          0.7418387741505663,
          0.7451698867421719,
          0.7328447701532311,
          0.72618254497002,
          0.7448367754830113,
          0.7418387741505663,
          0.7421718854097269,
          0.7381745502998002,
          0.7425049966688874,
          0.7421718854097269,
          0.7455029980013325,
          0.7421718854097269,
          0.7431712191872085,
          0.740506329113924,
          0.7418387741505663,
          0.7468354430379747,
          0.7218520986009327,
          0.7388407728181212,
          0.7408394403730846,
          0.7428381079280479,
          0.7451698867421719,
          0.7468354430379747,
          0.7468354430379747,
          0.7465023317788141,
          0.7415056628914057,
          0.7255163224516988,
          0.7425049966688874,
          0.7411725516322452,
          0.7455029980013325,
          0.7418387741505663,
          0.7471685542971352,
          0.734510326449034,
          0.7475016655562958,
          0.7425049966688874,
          0.7468354430379747,
          0.7438374417055297,
          0.7471685542971352,
          0.7408394403730846,
          0.7455029980013325,
          0.745836109260493,
          0.7468354430379747,
          0.7465023317788141,
          0.7441705529646903,
          0.7421718854097269,
          0.7415056628914057,
          0.7411725516322452,
          0.7418387741505663,
          0.7455029980013325,
          0.7425049966688874,
          0.7411725516322452,
          0.7411725516322452,
          0.7421718854097269,
          0.7251832111925383,
          0.7415056628914057,
          0.7415056628914057,
          0.7465023317788141,
          0.7468354430379747,
          0.7115256495669554,
          0.7465023317788141,
          0.7241838774150566,
          0.7428381079280479,
          0.7465023317788141,
          0.7311792138574283,
          0.7468354430379747,
          0.7421718854097269,
          0.7275149900066622,
          0.7395069953364424,
          0.7438374417055297,
          0.7448367754830113,
          0.7468354430379747,
          0.7471685542971352,
          0.7418387741505663,
          0.7385076615589606,
          0.7415056628914057,
          0.7361758827448368,
          0.7415056628914057,
          0.7418387741505663,
          0.7411725516322452,
          0.7468354430379747,
          0.739840106595603
         ]
        },
        {
         "mode": "lines",
         "name": "Best Value",
         "type": "scatter",
         "x": [
          0,
          1,
          2,
          3,
          4,
          5,
          6,
          7,
          8,
          9,
          10,
          11,
          12,
          13,
          14,
          15,
          16,
          17,
          18,
          19,
          20,
          21,
          22,
          23,
          24,
          25,
          26,
          27,
          28,
          29,
          30,
          31,
          32,
          33,
          34,
          35,
          36,
          37,
          38,
          39,
          40,
          41,
          42,
          43,
          44,
          45,
          46,
          47,
          48,
          49,
          50,
          51,
          52,
          53,
          54,
          55,
          56,
          57,
          58,
          59,
          60,
          61,
          62,
          63,
          64,
          65,
          66,
          67,
          68,
          69,
          70,
          71,
          72,
          73,
          74,
          75,
          76,
          77,
          78,
          79,
          80,
          81,
          82,
          83,
          84,
          85,
          86,
          87,
          88,
          89,
          90,
          91,
          92,
          93,
          94,
          95,
          96,
          97,
          98,
          99,
          100,
          101,
          102,
          103,
          104,
          105,
          106,
          107,
          108,
          109,
          110,
          111,
          112,
          113,
          114,
          115,
          116,
          117,
          118,
          119,
          120,
          121,
          122,
          123,
          124,
          125,
          126,
          127,
          128,
          129,
          130,
          131,
          132,
          133,
          134,
          135,
          136,
          137,
          138,
          139,
          140,
          141,
          142,
          143,
          144,
          145,
          146,
          147,
          148,
          149,
          150,
          151,
          152,
          153,
          154,
          155,
          156,
          157,
          158,
          159,
          160,
          161,
          162,
          163,
          164,
          165,
          166,
          167,
          168,
          169,
          170,
          171,
          172,
          173,
          174,
          175,
          176,
          177,
          178,
          179,
          180,
          181,
          182,
          183,
          184,
          185,
          186,
          187,
          188,
          189,
          190,
          191,
          192,
          193,
          194,
          195,
          196,
          197,
          198,
          199
         ],
         "y": [
          0.7438374417055297,
          0.7438374417055297,
          0.7455029980013325,
          0.7468354430379747,
          0.7468354430379747,
          0.7468354430379747,
          0.7468354430379747,
          0.7468354430379747,
          0.7468354430379747,
          0.7468354430379747,
          0.7468354430379747,
          0.7468354430379747,
          0.7468354430379747,
          0.7468354430379747,
          0.7468354430379747,
          0.7468354430379747,
          0.7468354430379747,
          0.7468354430379747,
          0.7468354430379747,
          0.7468354430379747,
          0.7471685542971352,
          0.7471685542971352,
          0.7471685542971352,
          0.7471685542971352,
          0.7471685542971352,
          0.7471685542971352,
          0.7471685542971352,
          0.7471685542971352,
          0.7471685542971352,
          0.7471685542971352,
          0.7471685542971352,
          0.7471685542971352,
          0.7471685542971352,
          0.7471685542971352,
          0.7471685542971352,
          0.7471685542971352,
          0.7471685542971352,
          0.7471685542971352,
          0.7471685542971352,
          0.7471685542971352,
          0.7471685542971352,
          0.7471685542971352,
          0.7471685542971352,
          0.7471685542971352,
          0.7471685542971352,
          0.7471685542971352,
          0.7471685542971352,
          0.7471685542971352,
          0.7471685542971352,
          0.7471685542971352,
          0.7471685542971352,
          0.7471685542971352,
          0.7471685542971352,
          0.7471685542971352,
          0.7471685542971352,
          0.7471685542971352,
          0.7471685542971352,
          0.7471685542971352,
          0.7471685542971352,
          0.7471685542971352,
          0.7471685542971352,
          0.7471685542971352,
          0.7471685542971352,
          0.7471685542971352,
          0.7471685542971352,
          0.7471685542971352,
          0.7471685542971352,
          0.7471685542971352,
          0.7471685542971352,
          0.7471685542971352,
          0.7471685542971352,
          0.7471685542971352,
          0.7471685542971352,
          0.7471685542971352,
          0.7471685542971352,
          0.7471685542971352,
          0.7471685542971352,
          0.7471685542971352,
          0.7471685542971352,
          0.7471685542971352,
          0.7471685542971352,
          0.7471685542971352,
          0.7471685542971352,
          0.7471685542971352,
          0.7471685542971352,
          0.7471685542971352,
          0.7471685542971352,
          0.7471685542971352,
          0.7471685542971352,
          0.7471685542971352,
          0.7471685542971352,
          0.7471685542971352,
          0.7471685542971352,
          0.7471685542971352,
          0.7471685542971352,
          0.7471685542971352,
          0.7471685542971352,
          0.7471685542971352,
          0.7471685542971352,
          0.7471685542971352,
          0.7471685542971352,
          0.7471685542971352,
          0.7471685542971352,
          0.7471685542971352,
          0.7471685542971352,
          0.7471685542971352,
          0.7471685542971352,
          0.7471685542971352,
          0.7471685542971352,
          0.7471685542971352,
          0.7471685542971352,
          0.7471685542971352,
          0.7471685542971352,
          0.7471685542971352,
          0.7471685542971352,
          0.7471685542971352,
          0.7471685542971352,
          0.7471685542971352,
          0.7471685542971352,
          0.7471685542971352,
          0.7471685542971352,
          0.7471685542971352,
          0.7471685542971352,
          0.7471685542971352,
          0.7471685542971352,
          0.7471685542971352,
          0.7471685542971352,
          0.7471685542971352,
          0.7471685542971352,
          0.7471685542971352,
          0.7471685542971352,
          0.7471685542971352,
          0.7471685542971352,
          0.7471685542971352,
          0.7471685542971352,
          0.7471685542971352,
          0.7471685542971352,
          0.7471685542971352,
          0.7471685542971352,
          0.7471685542971352,
          0.7471685542971352,
          0.7471685542971352,
          0.7471685542971352,
          0.7471685542971352,
          0.7471685542971352,
          0.7471685542971352,
          0.7471685542971352,
          0.7471685542971352,
          0.7471685542971352,
          0.7471685542971352,
          0.7471685542971352,
          0.7471685542971352,
          0.7475016655562958,
          0.7475016655562958,
          0.7475016655562958,
          0.7475016655562958,
          0.7475016655562958,
          0.7475016655562958,
          0.7475016655562958,
          0.7475016655562958,
          0.7475016655562958,
          0.7475016655562958,
          0.7475016655562958,
          0.7475016655562958,
          0.7475016655562958,
          0.7475016655562958,
          0.7475016655562958,
          0.7475016655562958,
          0.7475016655562958,
          0.7475016655562958,
          0.7475016655562958,
          0.7475016655562958,
          0.7475016655562958,
          0.7475016655562958,
          0.7475016655562958,
          0.7475016655562958,
          0.7475016655562958,
          0.7475016655562958,
          0.7475016655562958,
          0.7475016655562958,
          0.7475016655562958,
          0.7475016655562958,
          0.7475016655562958,
          0.7475016655562958,
          0.7475016655562958,
          0.7475016655562958,
          0.7475016655562958,
          0.7475016655562958,
          0.7475016655562958,
          0.7475016655562958,
          0.7475016655562958,
          0.7475016655562958,
          0.7475016655562958,
          0.7475016655562958,
          0.7475016655562958,
          0.7475016655562958,
          0.7475016655562958,
          0.7475016655562958,
          0.7475016655562958,
          0.7475016655562958
         ]
        },
        {
         "marker": {
          "color": "#cccccc"
         },
         "mode": "markers",
         "name": "Infeasible Trial",
         "showlegend": false,
         "type": "scatter",
         "x": [],
         "y": []
        }
       ],
       "layout": {
        "template": {
         "data": {
          "bar": [
           {
            "error_x": {
             "color": "#2a3f5f"
            },
            "error_y": {
             "color": "#2a3f5f"
            },
            "marker": {
             "line": {
              "color": "#E5ECF6",
              "width": 0.5
             },
             "pattern": {
              "fillmode": "overlay",
              "size": 10,
              "solidity": 0.2
             }
            },
            "type": "bar"
           }
          ],
          "barpolar": [
           {
            "marker": {
             "line": {
              "color": "#E5ECF6",
              "width": 0.5
             },
             "pattern": {
              "fillmode": "overlay",
              "size": 10,
              "solidity": 0.2
             }
            },
            "type": "barpolar"
           }
          ],
          "carpet": [
           {
            "aaxis": {
             "endlinecolor": "#2a3f5f",
             "gridcolor": "white",
             "linecolor": "white",
             "minorgridcolor": "white",
             "startlinecolor": "#2a3f5f"
            },
            "baxis": {
             "endlinecolor": "#2a3f5f",
             "gridcolor": "white",
             "linecolor": "white",
             "minorgridcolor": "white",
             "startlinecolor": "#2a3f5f"
            },
            "type": "carpet"
           }
          ],
          "choropleth": [
           {
            "colorbar": {
             "outlinewidth": 0,
             "ticks": ""
            },
            "type": "choropleth"
           }
          ],
          "contour": [
           {
            "colorbar": {
             "outlinewidth": 0,
             "ticks": ""
            },
            "colorscale": [
             [
              0,
              "#0d0887"
             ],
             [
              0.1111111111111111,
              "#46039f"
             ],
             [
              0.2222222222222222,
              "#7201a8"
             ],
             [
              0.3333333333333333,
              "#9c179e"
             ],
             [
              0.4444444444444444,
              "#bd3786"
             ],
             [
              0.5555555555555556,
              "#d8576b"
             ],
             [
              0.6666666666666666,
              "#ed7953"
             ],
             [
              0.7777777777777778,
              "#fb9f3a"
             ],
             [
              0.8888888888888888,
              "#fdca26"
             ],
             [
              1,
              "#f0f921"
             ]
            ],
            "type": "contour"
           }
          ],
          "contourcarpet": [
           {
            "colorbar": {
             "outlinewidth": 0,
             "ticks": ""
            },
            "type": "contourcarpet"
           }
          ],
          "heatmap": [
           {
            "colorbar": {
             "outlinewidth": 0,
             "ticks": ""
            },
            "colorscale": [
             [
              0,
              "#0d0887"
             ],
             [
              0.1111111111111111,
              "#46039f"
             ],
             [
              0.2222222222222222,
              "#7201a8"
             ],
             [
              0.3333333333333333,
              "#9c179e"
             ],
             [
              0.4444444444444444,
              "#bd3786"
             ],
             [
              0.5555555555555556,
              "#d8576b"
             ],
             [
              0.6666666666666666,
              "#ed7953"
             ],
             [
              0.7777777777777778,
              "#fb9f3a"
             ],
             [
              0.8888888888888888,
              "#fdca26"
             ],
             [
              1,
              "#f0f921"
             ]
            ],
            "type": "heatmap"
           }
          ],
          "heatmapgl": [
           {
            "colorbar": {
             "outlinewidth": 0,
             "ticks": ""
            },
            "colorscale": [
             [
              0,
              "#0d0887"
             ],
             [
              0.1111111111111111,
              "#46039f"
             ],
             [
              0.2222222222222222,
              "#7201a8"
             ],
             [
              0.3333333333333333,
              "#9c179e"
             ],
             [
              0.4444444444444444,
              "#bd3786"
             ],
             [
              0.5555555555555556,
              "#d8576b"
             ],
             [
              0.6666666666666666,
              "#ed7953"
             ],
             [
              0.7777777777777778,
              "#fb9f3a"
             ],
             [
              0.8888888888888888,
              "#fdca26"
             ],
             [
              1,
              "#f0f921"
             ]
            ],
            "type": "heatmapgl"
           }
          ],
          "histogram": [
           {
            "marker": {
             "pattern": {
              "fillmode": "overlay",
              "size": 10,
              "solidity": 0.2
             }
            },
            "type": "histogram"
           }
          ],
          "histogram2d": [
           {
            "colorbar": {
             "outlinewidth": 0,
             "ticks": ""
            },
            "colorscale": [
             [
              0,
              "#0d0887"
             ],
             [
              0.1111111111111111,
              "#46039f"
             ],
             [
              0.2222222222222222,
              "#7201a8"
             ],
             [
              0.3333333333333333,
              "#9c179e"
             ],
             [
              0.4444444444444444,
              "#bd3786"
             ],
             [
              0.5555555555555556,
              "#d8576b"
             ],
             [
              0.6666666666666666,
              "#ed7953"
             ],
             [
              0.7777777777777778,
              "#fb9f3a"
             ],
             [
              0.8888888888888888,
              "#fdca26"
             ],
             [
              1,
              "#f0f921"
             ]
            ],
            "type": "histogram2d"
           }
          ],
          "histogram2dcontour": [
           {
            "colorbar": {
             "outlinewidth": 0,
             "ticks": ""
            },
            "colorscale": [
             [
              0,
              "#0d0887"
             ],
             [
              0.1111111111111111,
              "#46039f"
             ],
             [
              0.2222222222222222,
              "#7201a8"
             ],
             [
              0.3333333333333333,
              "#9c179e"
             ],
             [
              0.4444444444444444,
              "#bd3786"
             ],
             [
              0.5555555555555556,
              "#d8576b"
             ],
             [
              0.6666666666666666,
              "#ed7953"
             ],
             [
              0.7777777777777778,
              "#fb9f3a"
             ],
             [
              0.8888888888888888,
              "#fdca26"
             ],
             [
              1,
              "#f0f921"
             ]
            ],
            "type": "histogram2dcontour"
           }
          ],
          "mesh3d": [
           {
            "colorbar": {
             "outlinewidth": 0,
             "ticks": ""
            },
            "type": "mesh3d"
           }
          ],
          "parcoords": [
           {
            "line": {
             "colorbar": {
              "outlinewidth": 0,
              "ticks": ""
             }
            },
            "type": "parcoords"
           }
          ],
          "pie": [
           {
            "automargin": true,
            "type": "pie"
           }
          ],
          "scatter": [
           {
            "fillpattern": {
             "fillmode": "overlay",
             "size": 10,
             "solidity": 0.2
            },
            "type": "scatter"
           }
          ],
          "scatter3d": [
           {
            "line": {
             "colorbar": {
              "outlinewidth": 0,
              "ticks": ""
             }
            },
            "marker": {
             "colorbar": {
              "outlinewidth": 0,
              "ticks": ""
             }
            },
            "type": "scatter3d"
           }
          ],
          "scattercarpet": [
           {
            "marker": {
             "colorbar": {
              "outlinewidth": 0,
              "ticks": ""
             }
            },
            "type": "scattercarpet"
           }
          ],
          "scattergeo": [
           {
            "marker": {
             "colorbar": {
              "outlinewidth": 0,
              "ticks": ""
             }
            },
            "type": "scattergeo"
           }
          ],
          "scattergl": [
           {
            "marker": {
             "colorbar": {
              "outlinewidth": 0,
              "ticks": ""
             }
            },
            "type": "scattergl"
           }
          ],
          "scattermapbox": [
           {
            "marker": {
             "colorbar": {
              "outlinewidth": 0,
              "ticks": ""
             }
            },
            "type": "scattermapbox"
           }
          ],
          "scatterpolar": [
           {
            "marker": {
             "colorbar": {
              "outlinewidth": 0,
              "ticks": ""
             }
            },
            "type": "scatterpolar"
           }
          ],
          "scatterpolargl": [
           {
            "marker": {
             "colorbar": {
              "outlinewidth": 0,
              "ticks": ""
             }
            },
            "type": "scatterpolargl"
           }
          ],
          "scatterternary": [
           {
            "marker": {
             "colorbar": {
              "outlinewidth": 0,
              "ticks": ""
             }
            },
            "type": "scatterternary"
           }
          ],
          "surface": [
           {
            "colorbar": {
             "outlinewidth": 0,
             "ticks": ""
            },
            "colorscale": [
             [
              0,
              "#0d0887"
             ],
             [
              0.1111111111111111,
              "#46039f"
             ],
             [
              0.2222222222222222,
              "#7201a8"
             ],
             [
              0.3333333333333333,
              "#9c179e"
             ],
             [
              0.4444444444444444,
              "#bd3786"
             ],
             [
              0.5555555555555556,
              "#d8576b"
             ],
             [
              0.6666666666666666,
              "#ed7953"
             ],
             [
              0.7777777777777778,
              "#fb9f3a"
             ],
             [
              0.8888888888888888,
              "#fdca26"
             ],
             [
              1,
              "#f0f921"
             ]
            ],
            "type": "surface"
           }
          ],
          "table": [
           {
            "cells": {
             "fill": {
              "color": "#EBF0F8"
             },
             "line": {
              "color": "white"
             }
            },
            "header": {
             "fill": {
              "color": "#C8D4E3"
             },
             "line": {
              "color": "white"
             }
            },
            "type": "table"
           }
          ]
         },
         "layout": {
          "annotationdefaults": {
           "arrowcolor": "#2a3f5f",
           "arrowhead": 0,
           "arrowwidth": 1
          },
          "autotypenumbers": "strict",
          "coloraxis": {
           "colorbar": {
            "outlinewidth": 0,
            "ticks": ""
           }
          },
          "colorscale": {
           "diverging": [
            [
             0,
             "#8e0152"
            ],
            [
             0.1,
             "#c51b7d"
            ],
            [
             0.2,
             "#de77ae"
            ],
            [
             0.3,
             "#f1b6da"
            ],
            [
             0.4,
             "#fde0ef"
            ],
            [
             0.5,
             "#f7f7f7"
            ],
            [
             0.6,
             "#e6f5d0"
            ],
            [
             0.7,
             "#b8e186"
            ],
            [
             0.8,
             "#7fbc41"
            ],
            [
             0.9,
             "#4d9221"
            ],
            [
             1,
             "#276419"
            ]
           ],
           "sequential": [
            [
             0,
             "#0d0887"
            ],
            [
             0.1111111111111111,
             "#46039f"
            ],
            [
             0.2222222222222222,
             "#7201a8"
            ],
            [
             0.3333333333333333,
             "#9c179e"
            ],
            [
             0.4444444444444444,
             "#bd3786"
            ],
            [
             0.5555555555555556,
             "#d8576b"
            ],
            [
             0.6666666666666666,
             "#ed7953"
            ],
            [
             0.7777777777777778,
             "#fb9f3a"
            ],
            [
             0.8888888888888888,
             "#fdca26"
            ],
            [
             1,
             "#f0f921"
            ]
           ],
           "sequentialminus": [
            [
             0,
             "#0d0887"
            ],
            [
             0.1111111111111111,
             "#46039f"
            ],
            [
             0.2222222222222222,
             "#7201a8"
            ],
            [
             0.3333333333333333,
             "#9c179e"
            ],
            [
             0.4444444444444444,
             "#bd3786"
            ],
            [
             0.5555555555555556,
             "#d8576b"
            ],
            [
             0.6666666666666666,
             "#ed7953"
            ],
            [
             0.7777777777777778,
             "#fb9f3a"
            ],
            [
             0.8888888888888888,
             "#fdca26"
            ],
            [
             1,
             "#f0f921"
            ]
           ]
          },
          "colorway": [
           "#636efa",
           "#EF553B",
           "#00cc96",
           "#ab63fa",
           "#FFA15A",
           "#19d3f3",
           "#FF6692",
           "#B6E880",
           "#FF97FF",
           "#FECB52"
          ],
          "font": {
           "color": "#2a3f5f"
          },
          "geo": {
           "bgcolor": "white",
           "lakecolor": "white",
           "landcolor": "#E5ECF6",
           "showlakes": true,
           "showland": true,
           "subunitcolor": "white"
          },
          "hoverlabel": {
           "align": "left"
          },
          "hovermode": "closest",
          "mapbox": {
           "style": "light"
          },
          "paper_bgcolor": "white",
          "plot_bgcolor": "#E5ECF6",
          "polar": {
           "angularaxis": {
            "gridcolor": "white",
            "linecolor": "white",
            "ticks": ""
           },
           "bgcolor": "#E5ECF6",
           "radialaxis": {
            "gridcolor": "white",
            "linecolor": "white",
            "ticks": ""
           }
          },
          "scene": {
           "xaxis": {
            "backgroundcolor": "#E5ECF6",
            "gridcolor": "white",
            "gridwidth": 2,
            "linecolor": "white",
            "showbackground": true,
            "ticks": "",
            "zerolinecolor": "white"
           },
           "yaxis": {
            "backgroundcolor": "#E5ECF6",
            "gridcolor": "white",
            "gridwidth": 2,
            "linecolor": "white",
            "showbackground": true,
            "ticks": "",
            "zerolinecolor": "white"
           },
           "zaxis": {
            "backgroundcolor": "#E5ECF6",
            "gridcolor": "white",
            "gridwidth": 2,
            "linecolor": "white",
            "showbackground": true,
            "ticks": "",
            "zerolinecolor": "white"
           }
          },
          "shapedefaults": {
           "line": {
            "color": "#2a3f5f"
           }
          },
          "ternary": {
           "aaxis": {
            "gridcolor": "white",
            "linecolor": "white",
            "ticks": ""
           },
           "baxis": {
            "gridcolor": "white",
            "linecolor": "white",
            "ticks": ""
           },
           "bgcolor": "#E5ECF6",
           "caxis": {
            "gridcolor": "white",
            "linecolor": "white",
            "ticks": ""
           }
          },
          "title": {
           "x": 0.05
          },
          "xaxis": {
           "automargin": true,
           "gridcolor": "white",
           "linecolor": "white",
           "ticks": "",
           "title": {
            "standoff": 15
           },
           "zerolinecolor": "white",
           "zerolinewidth": 2
          },
          "yaxis": {
           "automargin": true,
           "gridcolor": "white",
           "linecolor": "white",
           "ticks": "",
           "title": {
            "standoff": 15
           },
           "zerolinecolor": "white",
           "zerolinewidth": 2
          }
         }
        },
        "title": {
         "text": "Optimization History Plot"
        },
        "xaxis": {
         "title": {
          "text": "Trial"
         }
        },
        "yaxis": {
         "title": {
          "text": "Objective Value"
         }
        }
       }
      }
     },
     "metadata": {},
     "output_type": "display_data"
    }
   ],
   "source": [
    "optuna.visualization.plot_optimization_history(study)"
   ]
  },
  {
   "cell_type": "code",
   "execution_count": 25,
   "metadata": {},
   "outputs": [
    {
     "data": {
      "application/vnd.plotly.v1+json": {
       "config": {
        "plotlyServerURL": "https://plot.ly"
       },
       "data": [
        {
         "dimensions": [
          {
           "label": "Objective Value",
           "range": [
            0.7115256495669554,
            0.7475016655562958
           ],
           "values": [
            0.7438374417055297,
            0.7425049966688874,
            0.7455029980013325,
            0.7468354430379747,
            0.7411725516322452,
            0.734510326449034,
            0.7365089940039974,
            0.7411725516322452,
            0.7455029980013325,
            0.7441705529646903,
            0.7465023317788141,
            0.7455029980013325,
            0.7301798800799467,
            0.7441705529646903,
            0.7445036642238507,
            0.7271818787475016,
            0.7455029980013325,
            0.7245169886742172,
            0.7421718854097269,
            0.7465023317788141,
            0.7471685542971352,
            0.7418387741505663,
            0.7355096602265156,
            0.7275149900066622,
            0.7388407728181212,
            0.7465023317788141,
            0.7411725516322452,
            0.7301798800799467,
            0.7218520986009327,
            0.7425049966688874,
            0.7465023317788141,
            0.7418387741505663,
            0.7465023317788141,
            0.7225183211192538,
            0.7408394403730846,
            0.7275149900066622,
            0.7408394403730846,
            0.7425049966688874,
            0.7455029980013325,
            0.7258494337108594,
            0.7415056628914057,
            0.7451698867421719,
            0.7411725516322452,
            0.7275149900066622,
            0.739840106595603,
            0.7465023317788141,
            0.7465023317788141,
            0.7421718854097269,
            0.7448367754830113,
            0.7428381079280479,
            0.7318454363757495,
            0.7158560959360426,
            0.72618254497002,
            0.7401732178547635,
            0.7451698867421719,
            0.7235176548967355,
            0.723850766155896,
            0.734510326449034,
            0.7455029980013325,
            0.7411725516322452,
            0.7425049966688874,
            0.7401732178547635,
            0.7418387741505663,
            0.7395069953364424,
            0.739840106595603,
            0.7421718854097269,
            0.7465023317788141,
            0.7395069953364424,
            0.7471685542971352,
            0.7245169886742172,
            0.7471685542971352,
            0.7451698867421719,
            0.7181878747501665,
            0.739840106595603,
            0.7391738840772818,
            0.7441705529646903,
            0.7288474350433045,
            0.7451698867421719,
            0.7395069953364424,
            0.7418387741505663,
            0.7445036642238507,
            0.7468354430379747,
            0.7441705529646903,
            0.7468354430379747,
            0.7418387741505663,
            0.7335109926715523,
            0.7408394403730846,
            0.7151898734177216,
            0.7428381079280479,
            0.7468354430379747,
            0.7455029980013325,
            0.7245169886742172,
            0.7468354430379747,
            0.7451698867421719,
            0.7415056628914057,
            0.745836109260493,
            0.7465023317788141,
            0.7428381079280479,
            0.7418387741505663,
            0.7425049966688874,
            0.7418387741505663,
            0.7161892071952032,
            0.7468354430379747,
            0.7415056628914057,
            0.7408394403730846,
            0.7435043304463691,
            0.7338441039307129,
            0.745836109260493,
            0.7395069953364424,
            0.7395069953364424,
            0.723850766155896,
            0.7401732178547635,
            0.7465023317788141,
            0.7418387741505663,
            0.7461692205196535,
            0.739840106595603,
            0.7281812125249834,
            0.7415056628914057,
            0.7471685542971352,
            0.7391738840772818,
            0.7418387741505663,
            0.7451698867421719,
            0.7328447701532311,
            0.72618254497002,
            0.7448367754830113,
            0.7418387741505663,
            0.7421718854097269,
            0.7381745502998002,
            0.7425049966688874,
            0.7421718854097269,
            0.7455029980013325,
            0.7421718854097269,
            0.7431712191872085,
            0.740506329113924,
            0.7418387741505663,
            0.7468354430379747,
            0.7218520986009327,
            0.7388407728181212,
            0.7408394403730846,
            0.7428381079280479,
            0.7451698867421719,
            0.7468354430379747,
            0.7468354430379747,
            0.7465023317788141,
            0.7415056628914057,
            0.7255163224516988,
            0.7425049966688874,
            0.7411725516322452,
            0.7455029980013325,
            0.7418387741505663,
            0.7471685542971352,
            0.734510326449034,
            0.7475016655562958,
            0.7425049966688874,
            0.7468354430379747,
            0.7438374417055297,
            0.7471685542971352,
            0.7408394403730846,
            0.7455029980013325,
            0.745836109260493,
            0.7468354430379747,
            0.7465023317788141,
            0.7441705529646903,
            0.7421718854097269,
            0.7415056628914057,
            0.7411725516322452,
            0.7418387741505663,
            0.7455029980013325,
            0.7425049966688874,
            0.7411725516322452,
            0.7411725516322452,
            0.7421718854097269,
            0.7251832111925383,
            0.7415056628914057,
            0.7415056628914057,
            0.7465023317788141,
            0.7468354430379747,
            0.7115256495669554,
            0.7465023317788141,
            0.7241838774150566,
            0.7428381079280479,
            0.7465023317788141,
            0.7311792138574283,
            0.7468354430379747,
            0.7421718854097269,
            0.7275149900066622,
            0.7395069953364424,
            0.7438374417055297,
            0.7448367754830113,
            0.7468354430379747,
            0.7471685542971352,
            0.7418387741505663,
            0.7385076615589606,
            0.7415056628914057,
            0.7361758827448368,
            0.7415056628914057,
            0.7418387741505663,
            0.7411725516322452,
            0.7468354430379747,
            0.739840106595603
           ]
          },
          {
           "label": "C",
           "range": [
            -1.9942098717915153,
            0.9778773203764494
           ],
           "ticktext": [
            "0.0101",
            "0.1",
            "1",
            "9.5"
           ],
           "tickvals": [
            -1.9942098717915153,
            -1,
            0,
            0.9778773203764494
           ],
           "values": [
            0.2963792781907209,
            -0.1458429582415722,
            -0.23125440435585617,
            0.4673990173102992,
            -0.7352104215015206,
            -1.6423199174476317,
            -1.513962562991753,
            -1.4652582002895698,
            0.7048065784221423,
            -0.6027112205628005,
            0.7492231661975187,
            0.9175533412794812,
            -1.6958899173891147,
            0.39580062205211913,
            -0.4893956789665832,
            -1.77662238540649,
            0.6347975656278139,
            -1.9849252288227786,
            -0.18330441568810357,
            0.8636632940477897,
            -0.1183025007282324,
            -1.1438589921937725,
            -1.7093451071480197,
            -1.6329583107976604,
            -1.4444212475499825,
            0.3831379190916877,
            -0.3457927873819833,
            -1.5780395624901697,
            -1.8496429110098505,
            -0.14827551872920475,
            0.8881644086565474,
            -0.18473898163705055,
            0.8597232501255297,
            -1.7965420855106748,
            -1.062095361341233,
            -1.7571018415482162,
            -0.9690631146868952,
            -0.0469657246538475,
            0.9304950551380275,
            -1.9096227152342757,
            -0.5758365103593683,
            -0.14300979110475617,
            -0.229088016045412,
            -1.6546983409460794,
            -0.8732646823068929,
            0.7997261630298548,
            0.8662200870484531,
            -0.04006580024245228,
            -0.16021123344456117,
            0.14844292236169257,
            -1.5654205119604003,
            -1.9196343855654399,
            -1.6700675609310007,
            -0.7493471993325205,
            -0.39646195142220847,
            -1.851598844867683,
            -1.8531013981704683,
            -1.6407812690624,
            0.6834395984036901,
            -0.951977172337714,
            -0.533575658448123,
            -1.3688374157005374,
            -0.29488612475097775,
            -0.7941264778817645,
            -0.7843983475631838,
            -1.1826811945615723,
            0.9714446023138588,
            -0.8593911192557446,
            -0.11862175392499195,
            -1.733523764257824,
            -0.08637275030211,
            0.8209466222904681,
            -1.9345796326446507,
            -0.8096023958096424,
            -1.3164776789054435,
            0.4152969208100482,
            -1.7073136356244882,
            -0.2910533208673174,
            -1.4266634066733213,
            -1.0569509870420335,
            0.419139055959544,
            0.5346121317290887,
            0.38503336483924305,
            0.6378276065642107,
            -1.024596544385743,
            -1.5527872081342458,
            -1.152078666852027,
            -1.9064113027345535,
            0.0857933965566524,
            -0.057926767195687574,
            0.8154932114087503,
            -1.973321529547626,
            0.3952084167282695,
            0.5227570791484445,
            -1.2175839300944502,
            0.6578175925759682,
            0.8853461760637721,
            -0.49228294882147783,
            -0.5660672498652818,
            -0.8046837837292143,
            -0.6158832127284383,
            -1.9698245370629583,
            0.6142400152025171,
            -0.3383207443180041,
            -0.9701755254406519,
            -0.7467831989880875,
            -1.6281304530210812,
            0.9778773203764494,
            -1.4926678209868822,
            -1.5164517023731885,
            -1.7667925351776517,
            -1.3546865200465659,
            0.5571039256904403,
            -1.1932249048114962,
            -0.07738596809530425,
            -0.8727648666537942,
            -1.8692371237243461,
            -0.6504753011346659,
            -0.09429715100581904,
            -1.364573307516607,
            -0.2470837635059288,
            0.5235016820086252,
            -1.741147626635787,
            -1.7896874721011304,
            -0.4741788968242322,
            -0.9767284543115139,
            -0.4076641222794216,
            -1.6674690124915532,
            -0.15208241815215326,
            -1.2965840603193641,
            -0.3404764951633168,
            -1.0278020269073294,
            0.07424082511334339,
            -1.5446255157883113,
            -0.24973958247160746,
            0.5849954267425305,
            -1.9011637152565697,
            -0.822520779408382,
            -0.2395010250382392,
            -0.7943814289014934,
            0.541098393690368,
            0.45222810276440306,
            0.5137838627916261,
            0.5580836510999381,
            -0.25328791093636727,
            -1.7975810359923108,
            -0.5438856266249156,
            -0.3706863624938308,
            0.9233356901452937,
            -0.8976964148373276,
            0.18035643254608325,
            -1.6297801414373847,
            0.0275016985922622,
            0.16609024576410836,
            0.5005457945369057,
            0.32857426587239164,
            0.07000751167609509,
            -1.0560630850952522,
            -0.23173112700807016,
            -0.08846369713282017,
            0.14576058570842843,
            0.9590602526146536,
            0.3751124696188495,
            -1.1692531846518335,
            -1.5584025176551979,
            -1.1006338049411128,
            -1.1633301486808103,
            0.8593021040591982,
            -0.05446121196265496,
            -1.2203638876313914,
            -1.1121615610923665,
            -1.0515957320208011,
            -1.9942098717915153,
            -1.1290529814273664,
            -1.1058601870077138,
            0.675097429742328,
            -0.1795849148025853,
            -1.9915615654645555,
            0.9749711319107783,
            -1.9884274185414863,
            -0.7145146701162819,
            0.8203567109311832,
            -1.7646430169614973,
            0.2920895867182666,
            -1.0769535823771468,
            -1.8757091879282108,
            -1.4520305014086055,
            0.32815870845048156,
            0.49016226520871303,
            0.6699082341432434,
            0.16200880874145107,
            -0.5777765692926663,
            -1.4625777340437323,
            -0.2843134040762516,
            -1.6931136053115563,
            -1.1282510068645668,
            -0.41007519966178807,
            -0.8889132709364334,
            0.6280311208196894,
            -1.3295322837067607
           ]
          },
          {
           "label": "max_iter",
           "range": [
            107,
            999
           ],
           "values": [
            354,
            471,
            981,
            664,
            412,
            637,
            593,
            316,
            555,
            891,
            311,
            315,
            661,
            446,
            214,
            642,
            490,
            216,
            968,
            906,
            457,
            405,
            121,
            999,
            803,
            935,
            500,
            861,
            337,
            801,
            788,
            295,
            533,
            749,
            640,
            382,
            522,
            886,
            366,
            910,
            372,
            675,
            718,
            189,
            311,
            537,
            409,
            403,
            138,
            848,
            265,
            179,
            530,
            498,
            420,
            510,
            177,
            456,
            982,
            297,
            710,
            671,
            252,
            582,
            527,
            519,
            501,
            305,
            545,
            383,
            681,
            384,
            511,
            261,
            756,
            872,
            562,
            793,
            752,
            767,
            143,
            301,
            107,
            730,
            327,
            465,
            484,
            548,
            810,
            270,
            442,
            619,
            533,
            513,
            925,
            291,
            194,
            935,
            248,
            211,
            307,
            407,
            633,
            347,
            193,
            491,
            406,
            999,
            601,
            546,
            177,
            951,
            416,
            408,
            678,
            346,
            468,
            168,
            795,
            242,
            786,
            157,
            294,
            665,
            278,
            164,
            195,
            525,
            153,
            648,
            533,
            934,
            237,
            988,
            217,
            133,
            827,
            671,
            643,
            690,
            503,
            857,
            339,
            342,
            987,
            297,
            146,
            373,
            219,
            939,
            518,
            620,
            963,
            699,
            902,
            515,
            768,
            490,
            176,
            884,
            636,
            925,
            817,
            724,
            517,
            381,
            668,
            735,
            281,
            397,
            873,
            499,
            615,
            533,
            498,
            518,
            151,
            849,
            136,
            263,
            960,
            621,
            184,
            365,
            197,
            964,
            394,
            641,
            524,
            280,
            433,
            973,
            725,
            430,
            557,
            682,
            228,
            937,
            273,
            547
           ]
          },
          {
           "label": "penalty",
           "range": [
            0,
            1
           ],
           "ticktext": [
            "l2",
            "l1"
           ],
           "tickvals": [
            0,
            1
           ],
           "values": [
            0,
            0,
            1,
            1,
            1,
            1,
            1,
            1,
            0,
            1,
            1,
            0,
            1,
            0,
            1,
            1,
            0,
            0,
            0,
            1,
            1,
            1,
            0,
            1,
            1,
            1,
            0,
            1,
            1,
            0,
            1,
            0,
            1,
            1,
            1,
            1,
            1,
            0,
            0,
            0,
            0,
            1,
            0,
            1,
            1,
            1,
            1,
            0,
            1,
            0,
            1,
            1,
            1,
            1,
            1,
            1,
            1,
            1,
            0,
            0,
            0,
            0,
            0,
            1,
            1,
            0,
            1,
            1,
            1,
            1,
            1,
            0,
            1,
            1,
            1,
            0,
            1,
            1,
            1,
            0,
            0,
            1,
            0,
            1,
            0,
            1,
            1,
            1,
            0,
            1,
            0,
            0,
            1,
            0,
            0,
            0,
            1,
            0,
            0,
            0,
            0,
            1,
            1,
            0,
            1,
            0,
            1,
            0,
            1,
            0,
            1,
            0,
            1,
            0,
            1,
            1,
            0,
            1,
            1,
            1,
            0,
            0,
            0,
            1,
            1,
            0,
            0,
            0,
            0,
            0,
            1,
            0,
            0,
            0,
            0,
            1,
            1,
            1,
            0,
            0,
            0,
            1,
            1,
            1,
            0,
            1,
            0,
            0,
            0,
            0,
            1,
            1,
            1,
            0,
            1,
            0,
            1,
            1,
            1,
            1,
            1,
            1,
            0,
            1,
            0,
            1,
            0,
            0,
            0,
            1,
            1,
            0,
            0,
            1,
            1,
            1,
            1,
            1,
            1,
            0,
            0,
            1,
            0,
            1,
            0,
            0,
            0,
            0,
            0,
            1,
            1,
            0,
            1,
            0,
            0,
            0,
            0,
            0,
            1,
            1
           ]
          },
          {
           "label": "solver",
           "range": [
            0,
            1
           ],
           "ticktext": [
            "saga",
            "liblinear"
           ],
           "tickvals": [
            0,
            1
           ],
           "values": [
            0,
            0,
            1,
            1,
            1,
            1,
            0,
            1,
            0,
            0,
            0,
            0,
            1,
            0,
            1,
            1,
            1,
            0,
            1,
            1,
            0,
            1,
            0,
            0,
            0,
            0,
            0,
            0,
            0,
            0,
            1,
            0,
            1,
            0,
            1,
            1,
            0,
            1,
            0,
            0,
            0,
            1,
            0,
            0,
            0,
            0,
            0,
            0,
            1,
            0,
            0,
            0,
            0,
            0,
            1,
            1,
            1,
            1,
            0,
            1,
            1,
            0,
            1,
            0,
            1,
            1,
            1,
            0,
            0,
            0,
            0,
            0,
            1,
            0,
            0,
            1,
            1,
            1,
            0,
            1,
            1,
            1,
            1,
            1,
            0,
            0,
            0,
            0,
            1,
            1,
            1,
            0,
            1,
            1,
            0,
            0,
            0,
            1,
            1,
            0,
            0,
            1,
            1,
            0,
            0,
            0,
            1,
            1,
            1,
            1,
            0,
            0,
            0,
            1,
            1,
            0,
            0,
            1,
            0,
            1,
            1,
            0,
            1,
            1,
            1,
            0,
            1,
            0,
            0,
            1,
            1,
            0,
            1,
            1,
            1,
            1,
            1,
            1,
            0,
            1,
            1,
            0,
            1,
            0,
            0,
            1,
            1,
            0,
            0,
            0,
            1,
            1,
            0,
            1,
            1,
            0,
            0,
            0,
            1,
            1,
            0,
            1,
            0,
            1,
            1,
            1,
            1,
            1,
            1,
            1,
            1,
            1,
            1,
            0,
            1,
            1,
            0,
            0,
            0,
            0,
            0,
            0,
            1,
            0,
            0,
            1,
            1,
            0,
            0,
            1,
            1,
            1,
            0,
            1,
            1,
            0,
            0,
            1,
            1,
            1
           ]
          }
         ],
         "labelangle": 30,
         "labelside": "bottom",
         "line": {
          "color": [
           0.7438374417055297,
           0.7425049966688874,
           0.7455029980013325,
           0.7468354430379747,
           0.7411725516322452,
           0.734510326449034,
           0.7365089940039974,
           0.7411725516322452,
           0.7455029980013325,
           0.7441705529646903,
           0.7465023317788141,
           0.7455029980013325,
           0.7301798800799467,
           0.7441705529646903,
           0.7445036642238507,
           0.7271818787475016,
           0.7455029980013325,
           0.7245169886742172,
           0.7421718854097269,
           0.7465023317788141,
           0.7471685542971352,
           0.7418387741505663,
           0.7355096602265156,
           0.7275149900066622,
           0.7388407728181212,
           0.7465023317788141,
           0.7411725516322452,
           0.7301798800799467,
           0.7218520986009327,
           0.7425049966688874,
           0.7465023317788141,
           0.7418387741505663,
           0.7465023317788141,
           0.7225183211192538,
           0.7408394403730846,
           0.7275149900066622,
           0.7408394403730846,
           0.7425049966688874,
           0.7455029980013325,
           0.7258494337108594,
           0.7415056628914057,
           0.7451698867421719,
           0.7411725516322452,
           0.7275149900066622,
           0.739840106595603,
           0.7465023317788141,
           0.7465023317788141,
           0.7421718854097269,
           0.7448367754830113,
           0.7428381079280479,
           0.7318454363757495,
           0.7158560959360426,
           0.72618254497002,
           0.7401732178547635,
           0.7451698867421719,
           0.7235176548967355,
           0.723850766155896,
           0.734510326449034,
           0.7455029980013325,
           0.7411725516322452,
           0.7425049966688874,
           0.7401732178547635,
           0.7418387741505663,
           0.7395069953364424,
           0.739840106595603,
           0.7421718854097269,
           0.7465023317788141,
           0.7395069953364424,
           0.7471685542971352,
           0.7245169886742172,
           0.7471685542971352,
           0.7451698867421719,
           0.7181878747501665,
           0.739840106595603,
           0.7391738840772818,
           0.7441705529646903,
           0.7288474350433045,
           0.7451698867421719,
           0.7395069953364424,
           0.7418387741505663,
           0.7445036642238507,
           0.7468354430379747,
           0.7441705529646903,
           0.7468354430379747,
           0.7418387741505663,
           0.7335109926715523,
           0.7408394403730846,
           0.7151898734177216,
           0.7428381079280479,
           0.7468354430379747,
           0.7455029980013325,
           0.7245169886742172,
           0.7468354430379747,
           0.7451698867421719,
           0.7415056628914057,
           0.745836109260493,
           0.7465023317788141,
           0.7428381079280479,
           0.7418387741505663,
           0.7425049966688874,
           0.7418387741505663,
           0.7161892071952032,
           0.7468354430379747,
           0.7415056628914057,
           0.7408394403730846,
           0.7435043304463691,
           0.7338441039307129,
           0.745836109260493,
           0.7395069953364424,
           0.7395069953364424,
           0.723850766155896,
           0.7401732178547635,
           0.7465023317788141,
           0.7418387741505663,
           0.7461692205196535,
           0.739840106595603,
           0.7281812125249834,
           0.7415056628914057,
           0.7471685542971352,
           0.7391738840772818,
           0.7418387741505663,
           0.7451698867421719,
           0.7328447701532311,
           0.72618254497002,
           0.7448367754830113,
           0.7418387741505663,
           0.7421718854097269,
           0.7381745502998002,
           0.7425049966688874,
           0.7421718854097269,
           0.7455029980013325,
           0.7421718854097269,
           0.7431712191872085,
           0.740506329113924,
           0.7418387741505663,
           0.7468354430379747,
           0.7218520986009327,
           0.7388407728181212,
           0.7408394403730846,
           0.7428381079280479,
           0.7451698867421719,
           0.7468354430379747,
           0.7468354430379747,
           0.7465023317788141,
           0.7415056628914057,
           0.7255163224516988,
           0.7425049966688874,
           0.7411725516322452,
           0.7455029980013325,
           0.7418387741505663,
           0.7471685542971352,
           0.734510326449034,
           0.7475016655562958,
           0.7425049966688874,
           0.7468354430379747,
           0.7438374417055297,
           0.7471685542971352,
           0.7408394403730846,
           0.7455029980013325,
           0.745836109260493,
           0.7468354430379747,
           0.7465023317788141,
           0.7441705529646903,
           0.7421718854097269,
           0.7415056628914057,
           0.7411725516322452,
           0.7418387741505663,
           0.7455029980013325,
           0.7425049966688874,
           0.7411725516322452,
           0.7411725516322452,
           0.7421718854097269,
           0.7251832111925383,
           0.7415056628914057,
           0.7415056628914057,
           0.7465023317788141,
           0.7468354430379747,
           0.7115256495669554,
           0.7465023317788141,
           0.7241838774150566,
           0.7428381079280479,
           0.7465023317788141,
           0.7311792138574283,
           0.7468354430379747,
           0.7421718854097269,
           0.7275149900066622,
           0.7395069953364424,
           0.7438374417055297,
           0.7448367754830113,
           0.7468354430379747,
           0.7471685542971352,
           0.7418387741505663,
           0.7385076615589606,
           0.7415056628914057,
           0.7361758827448368,
           0.7415056628914057,
           0.7418387741505663,
           0.7411725516322452,
           0.7468354430379747,
           0.739840106595603
          ],
          "colorbar": {
           "title": {
            "text": "Objective Value"
           }
          },
          "colorscale": [
           [
            0,
            "rgb(247,251,255)"
           ],
           [
            0.125,
            "rgb(222,235,247)"
           ],
           [
            0.25,
            "rgb(198,219,239)"
           ],
           [
            0.375,
            "rgb(158,202,225)"
           ],
           [
            0.5,
            "rgb(107,174,214)"
           ],
           [
            0.625,
            "rgb(66,146,198)"
           ],
           [
            0.75,
            "rgb(33,113,181)"
           ],
           [
            0.875,
            "rgb(8,81,156)"
           ],
           [
            1,
            "rgb(8,48,107)"
           ]
          ],
          "reversescale": false,
          "showscale": true
         },
         "type": "parcoords"
        }
       ],
       "layout": {
        "template": {
         "data": {
          "bar": [
           {
            "error_x": {
             "color": "#2a3f5f"
            },
            "error_y": {
             "color": "#2a3f5f"
            },
            "marker": {
             "line": {
              "color": "#E5ECF6",
              "width": 0.5
             },
             "pattern": {
              "fillmode": "overlay",
              "size": 10,
              "solidity": 0.2
             }
            },
            "type": "bar"
           }
          ],
          "barpolar": [
           {
            "marker": {
             "line": {
              "color": "#E5ECF6",
              "width": 0.5
             },
             "pattern": {
              "fillmode": "overlay",
              "size": 10,
              "solidity": 0.2
             }
            },
            "type": "barpolar"
           }
          ],
          "carpet": [
           {
            "aaxis": {
             "endlinecolor": "#2a3f5f",
             "gridcolor": "white",
             "linecolor": "white",
             "minorgridcolor": "white",
             "startlinecolor": "#2a3f5f"
            },
            "baxis": {
             "endlinecolor": "#2a3f5f",
             "gridcolor": "white",
             "linecolor": "white",
             "minorgridcolor": "white",
             "startlinecolor": "#2a3f5f"
            },
            "type": "carpet"
           }
          ],
          "choropleth": [
           {
            "colorbar": {
             "outlinewidth": 0,
             "ticks": ""
            },
            "type": "choropleth"
           }
          ],
          "contour": [
           {
            "colorbar": {
             "outlinewidth": 0,
             "ticks": ""
            },
            "colorscale": [
             [
              0,
              "#0d0887"
             ],
             [
              0.1111111111111111,
              "#46039f"
             ],
             [
              0.2222222222222222,
              "#7201a8"
             ],
             [
              0.3333333333333333,
              "#9c179e"
             ],
             [
              0.4444444444444444,
              "#bd3786"
             ],
             [
              0.5555555555555556,
              "#d8576b"
             ],
             [
              0.6666666666666666,
              "#ed7953"
             ],
             [
              0.7777777777777778,
              "#fb9f3a"
             ],
             [
              0.8888888888888888,
              "#fdca26"
             ],
             [
              1,
              "#f0f921"
             ]
            ],
            "type": "contour"
           }
          ],
          "contourcarpet": [
           {
            "colorbar": {
             "outlinewidth": 0,
             "ticks": ""
            },
            "type": "contourcarpet"
           }
          ],
          "heatmap": [
           {
            "colorbar": {
             "outlinewidth": 0,
             "ticks": ""
            },
            "colorscale": [
             [
              0,
              "#0d0887"
             ],
             [
              0.1111111111111111,
              "#46039f"
             ],
             [
              0.2222222222222222,
              "#7201a8"
             ],
             [
              0.3333333333333333,
              "#9c179e"
             ],
             [
              0.4444444444444444,
              "#bd3786"
             ],
             [
              0.5555555555555556,
              "#d8576b"
             ],
             [
              0.6666666666666666,
              "#ed7953"
             ],
             [
              0.7777777777777778,
              "#fb9f3a"
             ],
             [
              0.8888888888888888,
              "#fdca26"
             ],
             [
              1,
              "#f0f921"
             ]
            ],
            "type": "heatmap"
           }
          ],
          "heatmapgl": [
           {
            "colorbar": {
             "outlinewidth": 0,
             "ticks": ""
            },
            "colorscale": [
             [
              0,
              "#0d0887"
             ],
             [
              0.1111111111111111,
              "#46039f"
             ],
             [
              0.2222222222222222,
              "#7201a8"
             ],
             [
              0.3333333333333333,
              "#9c179e"
             ],
             [
              0.4444444444444444,
              "#bd3786"
             ],
             [
              0.5555555555555556,
              "#d8576b"
             ],
             [
              0.6666666666666666,
              "#ed7953"
             ],
             [
              0.7777777777777778,
              "#fb9f3a"
             ],
             [
              0.8888888888888888,
              "#fdca26"
             ],
             [
              1,
              "#f0f921"
             ]
            ],
            "type": "heatmapgl"
           }
          ],
          "histogram": [
           {
            "marker": {
             "pattern": {
              "fillmode": "overlay",
              "size": 10,
              "solidity": 0.2
             }
            },
            "type": "histogram"
           }
          ],
          "histogram2d": [
           {
            "colorbar": {
             "outlinewidth": 0,
             "ticks": ""
            },
            "colorscale": [
             [
              0,
              "#0d0887"
             ],
             [
              0.1111111111111111,
              "#46039f"
             ],
             [
              0.2222222222222222,
              "#7201a8"
             ],
             [
              0.3333333333333333,
              "#9c179e"
             ],
             [
              0.4444444444444444,
              "#bd3786"
             ],
             [
              0.5555555555555556,
              "#d8576b"
             ],
             [
              0.6666666666666666,
              "#ed7953"
             ],
             [
              0.7777777777777778,
              "#fb9f3a"
             ],
             [
              0.8888888888888888,
              "#fdca26"
             ],
             [
              1,
              "#f0f921"
             ]
            ],
            "type": "histogram2d"
           }
          ],
          "histogram2dcontour": [
           {
            "colorbar": {
             "outlinewidth": 0,
             "ticks": ""
            },
            "colorscale": [
             [
              0,
              "#0d0887"
             ],
             [
              0.1111111111111111,
              "#46039f"
             ],
             [
              0.2222222222222222,
              "#7201a8"
             ],
             [
              0.3333333333333333,
              "#9c179e"
             ],
             [
              0.4444444444444444,
              "#bd3786"
             ],
             [
              0.5555555555555556,
              "#d8576b"
             ],
             [
              0.6666666666666666,
              "#ed7953"
             ],
             [
              0.7777777777777778,
              "#fb9f3a"
             ],
             [
              0.8888888888888888,
              "#fdca26"
             ],
             [
              1,
              "#f0f921"
             ]
            ],
            "type": "histogram2dcontour"
           }
          ],
          "mesh3d": [
           {
            "colorbar": {
             "outlinewidth": 0,
             "ticks": ""
            },
            "type": "mesh3d"
           }
          ],
          "parcoords": [
           {
            "line": {
             "colorbar": {
              "outlinewidth": 0,
              "ticks": ""
             }
            },
            "type": "parcoords"
           }
          ],
          "pie": [
           {
            "automargin": true,
            "type": "pie"
           }
          ],
          "scatter": [
           {
            "fillpattern": {
             "fillmode": "overlay",
             "size": 10,
             "solidity": 0.2
            },
            "type": "scatter"
           }
          ],
          "scatter3d": [
           {
            "line": {
             "colorbar": {
              "outlinewidth": 0,
              "ticks": ""
             }
            },
            "marker": {
             "colorbar": {
              "outlinewidth": 0,
              "ticks": ""
             }
            },
            "type": "scatter3d"
           }
          ],
          "scattercarpet": [
           {
            "marker": {
             "colorbar": {
              "outlinewidth": 0,
              "ticks": ""
             }
            },
            "type": "scattercarpet"
           }
          ],
          "scattergeo": [
           {
            "marker": {
             "colorbar": {
              "outlinewidth": 0,
              "ticks": ""
             }
            },
            "type": "scattergeo"
           }
          ],
          "scattergl": [
           {
            "marker": {
             "colorbar": {
              "outlinewidth": 0,
              "ticks": ""
             }
            },
            "type": "scattergl"
           }
          ],
          "scattermapbox": [
           {
            "marker": {
             "colorbar": {
              "outlinewidth": 0,
              "ticks": ""
             }
            },
            "type": "scattermapbox"
           }
          ],
          "scatterpolar": [
           {
            "marker": {
             "colorbar": {
              "outlinewidth": 0,
              "ticks": ""
             }
            },
            "type": "scatterpolar"
           }
          ],
          "scatterpolargl": [
           {
            "marker": {
             "colorbar": {
              "outlinewidth": 0,
              "ticks": ""
             }
            },
            "type": "scatterpolargl"
           }
          ],
          "scatterternary": [
           {
            "marker": {
             "colorbar": {
              "outlinewidth": 0,
              "ticks": ""
             }
            },
            "type": "scatterternary"
           }
          ],
          "surface": [
           {
            "colorbar": {
             "outlinewidth": 0,
             "ticks": ""
            },
            "colorscale": [
             [
              0,
              "#0d0887"
             ],
             [
              0.1111111111111111,
              "#46039f"
             ],
             [
              0.2222222222222222,
              "#7201a8"
             ],
             [
              0.3333333333333333,
              "#9c179e"
             ],
             [
              0.4444444444444444,
              "#bd3786"
             ],
             [
              0.5555555555555556,
              "#d8576b"
             ],
             [
              0.6666666666666666,
              "#ed7953"
             ],
             [
              0.7777777777777778,
              "#fb9f3a"
             ],
             [
              0.8888888888888888,
              "#fdca26"
             ],
             [
              1,
              "#f0f921"
             ]
            ],
            "type": "surface"
           }
          ],
          "table": [
           {
            "cells": {
             "fill": {
              "color": "#EBF0F8"
             },
             "line": {
              "color": "white"
             }
            },
            "header": {
             "fill": {
              "color": "#C8D4E3"
             },
             "line": {
              "color": "white"
             }
            },
            "type": "table"
           }
          ]
         },
         "layout": {
          "annotationdefaults": {
           "arrowcolor": "#2a3f5f",
           "arrowhead": 0,
           "arrowwidth": 1
          },
          "autotypenumbers": "strict",
          "coloraxis": {
           "colorbar": {
            "outlinewidth": 0,
            "ticks": ""
           }
          },
          "colorscale": {
           "diverging": [
            [
             0,
             "#8e0152"
            ],
            [
             0.1,
             "#c51b7d"
            ],
            [
             0.2,
             "#de77ae"
            ],
            [
             0.3,
             "#f1b6da"
            ],
            [
             0.4,
             "#fde0ef"
            ],
            [
             0.5,
             "#f7f7f7"
            ],
            [
             0.6,
             "#e6f5d0"
            ],
            [
             0.7,
             "#b8e186"
            ],
            [
             0.8,
             "#7fbc41"
            ],
            [
             0.9,
             "#4d9221"
            ],
            [
             1,
             "#276419"
            ]
           ],
           "sequential": [
            [
             0,
             "#0d0887"
            ],
            [
             0.1111111111111111,
             "#46039f"
            ],
            [
             0.2222222222222222,
             "#7201a8"
            ],
            [
             0.3333333333333333,
             "#9c179e"
            ],
            [
             0.4444444444444444,
             "#bd3786"
            ],
            [
             0.5555555555555556,
             "#d8576b"
            ],
            [
             0.6666666666666666,
             "#ed7953"
            ],
            [
             0.7777777777777778,
             "#fb9f3a"
            ],
            [
             0.8888888888888888,
             "#fdca26"
            ],
            [
             1,
             "#f0f921"
            ]
           ],
           "sequentialminus": [
            [
             0,
             "#0d0887"
            ],
            [
             0.1111111111111111,
             "#46039f"
            ],
            [
             0.2222222222222222,
             "#7201a8"
            ],
            [
             0.3333333333333333,
             "#9c179e"
            ],
            [
             0.4444444444444444,
             "#bd3786"
            ],
            [
             0.5555555555555556,
             "#d8576b"
            ],
            [
             0.6666666666666666,
             "#ed7953"
            ],
            [
             0.7777777777777778,
             "#fb9f3a"
            ],
            [
             0.8888888888888888,
             "#fdca26"
            ],
            [
             1,
             "#f0f921"
            ]
           ]
          },
          "colorway": [
           "#636efa",
           "#EF553B",
           "#00cc96",
           "#ab63fa",
           "#FFA15A",
           "#19d3f3",
           "#FF6692",
           "#B6E880",
           "#FF97FF",
           "#FECB52"
          ],
          "font": {
           "color": "#2a3f5f"
          },
          "geo": {
           "bgcolor": "white",
           "lakecolor": "white",
           "landcolor": "#E5ECF6",
           "showlakes": true,
           "showland": true,
           "subunitcolor": "white"
          },
          "hoverlabel": {
           "align": "left"
          },
          "hovermode": "closest",
          "mapbox": {
           "style": "light"
          },
          "paper_bgcolor": "white",
          "plot_bgcolor": "#E5ECF6",
          "polar": {
           "angularaxis": {
            "gridcolor": "white",
            "linecolor": "white",
            "ticks": ""
           },
           "bgcolor": "#E5ECF6",
           "radialaxis": {
            "gridcolor": "white",
            "linecolor": "white",
            "ticks": ""
           }
          },
          "scene": {
           "xaxis": {
            "backgroundcolor": "#E5ECF6",
            "gridcolor": "white",
            "gridwidth": 2,
            "linecolor": "white",
            "showbackground": true,
            "ticks": "",
            "zerolinecolor": "white"
           },
           "yaxis": {
            "backgroundcolor": "#E5ECF6",
            "gridcolor": "white",
            "gridwidth": 2,
            "linecolor": "white",
            "showbackground": true,
            "ticks": "",
            "zerolinecolor": "white"
           },
           "zaxis": {
            "backgroundcolor": "#E5ECF6",
            "gridcolor": "white",
            "gridwidth": 2,
            "linecolor": "white",
            "showbackground": true,
            "ticks": "",
            "zerolinecolor": "white"
           }
          },
          "shapedefaults": {
           "line": {
            "color": "#2a3f5f"
           }
          },
          "ternary": {
           "aaxis": {
            "gridcolor": "white",
            "linecolor": "white",
            "ticks": ""
           },
           "baxis": {
            "gridcolor": "white",
            "linecolor": "white",
            "ticks": ""
           },
           "bgcolor": "#E5ECF6",
           "caxis": {
            "gridcolor": "white",
            "linecolor": "white",
            "ticks": ""
           }
          },
          "title": {
           "x": 0.05
          },
          "xaxis": {
           "automargin": true,
           "gridcolor": "white",
           "linecolor": "white",
           "ticks": "",
           "title": {
            "standoff": 15
           },
           "zerolinecolor": "white",
           "zerolinewidth": 2
          },
          "yaxis": {
           "automargin": true,
           "gridcolor": "white",
           "linecolor": "white",
           "ticks": "",
           "title": {
            "standoff": 15
           },
           "zerolinecolor": "white",
           "zerolinewidth": 2
          }
         }
        },
        "title": {
         "text": "Parallel Coordinate Plot"
        }
       }
      }
     },
     "metadata": {},
     "output_type": "display_data"
    }
   ],
   "source": [
    "optuna.visualization.plot_parallel_coordinate(study)"
   ]
  },
  {
   "cell_type": "code",
   "execution_count": 26,
   "metadata": {},
   "outputs": [
    {
     "data": {
      "application/vnd.plotly.v1+json": {
       "config": {
        "plotlyServerURL": "https://plot.ly"
       },
       "data": [
        {
         "marker": {
          "color": [
           0,
           1,
           2,
           3,
           4,
           5,
           6,
           7,
           8,
           9,
           10,
           11,
           12,
           13,
           14,
           15,
           16,
           17,
           18,
           19,
           20,
           21,
           22,
           23,
           24,
           25,
           26,
           27,
           28,
           29,
           30,
           31,
           32,
           33,
           34,
           35,
           36,
           37,
           38,
           39,
           40,
           41,
           42,
           43,
           44,
           45,
           46,
           47,
           48,
           49,
           50,
           51,
           52,
           53,
           54,
           55,
           56,
           57,
           58,
           59,
           60,
           61,
           62,
           63,
           64,
           65,
           66,
           67,
           68,
           69,
           70,
           71,
           72,
           73,
           74,
           75,
           76,
           77,
           78,
           79,
           80,
           81,
           82,
           83,
           84,
           85,
           86,
           87,
           88,
           89,
           90,
           91,
           92,
           93,
           94,
           95,
           96,
           97,
           98,
           99,
           100,
           101,
           102,
           103,
           104,
           105,
           106,
           107,
           108,
           109,
           110,
           111,
           112,
           113,
           114,
           115,
           116,
           117,
           118,
           119,
           120,
           121,
           122,
           123,
           124,
           125,
           126,
           127,
           128,
           129,
           130,
           131,
           132,
           133,
           134,
           135,
           136,
           137,
           138,
           139,
           140,
           141,
           142,
           143,
           144,
           145,
           146,
           147,
           148,
           149,
           150,
           151,
           152,
           153,
           154,
           155,
           156,
           157,
           158,
           159,
           160,
           161,
           162,
           163,
           164,
           165,
           166,
           167,
           168,
           169,
           170,
           171,
           172,
           173,
           174,
           175,
           176,
           177,
           178,
           179,
           180,
           181,
           182,
           183,
           184,
           185,
           186,
           187,
           188,
           189,
           190,
           191,
           192,
           193,
           194,
           195,
           196,
           197,
           198,
           199
          ],
          "colorbar": {
           "title": {
            "text": "Trial"
           },
           "x": 1,
           "xpad": 40
          },
          "colorscale": [
           [
            0,
            "rgb(247,251,255)"
           ],
           [
            0.125,
            "rgb(222,235,247)"
           ],
           [
            0.25,
            "rgb(198,219,239)"
           ],
           [
            0.375,
            "rgb(158,202,225)"
           ],
           [
            0.5,
            "rgb(107,174,214)"
           ],
           [
            0.625,
            "rgb(66,146,198)"
           ],
           [
            0.75,
            "rgb(33,113,181)"
           ],
           [
            0.875,
            "rgb(8,81,156)"
           ],
           [
            1,
            "rgb(8,48,107)"
           ]
          ],
          "line": {
           "color": "Grey",
           "width": 0.5
          },
          "showscale": true
         },
         "mode": "markers",
         "name": "Feasible Trial",
         "showlegend": false,
         "type": "scatter",
         "x": [
          1.9786969219723538,
          0.7147547361025184,
          0.5871453092844535,
          2.933587303300426,
          0.18398803387733306,
          0.022786629058688158,
          0.030622273921242567,
          0.03425640620186102,
          5.067649602789282,
          0.24962540324405325,
          5.613363497593624,
          8.270910880018777,
          0.020142347424642024,
          2.487714984224427,
          0.3240442511266919,
          0.016725442423100204,
          4.313179830047696,
          0.01035320399341193,
          0.6556855070061354,
          7.3057245534123245,
          0.7615483811595624,
          0.07180273843352494,
          0.019527870791270083,
          0.023283147487063578,
          0.03594005624665695,
          2.41622803522965,
          0.4510318516416687,
          0.026421680554171642,
          0.014136994498500545,
          0.7107624591083599,
          7.7297315023487325,
          0.6535232131933079,
          7.239744674620962,
          0.015975627089929178,
          0.08667715312463047,
          0.017494363997301608,
          0.10738333440901057,
          0.8974996240822853,
          8.521088092425217,
          0.012313380069145318,
          0.2655605073199313,
          0.7194327583159087,
          0.5900814795237284,
          0.022146324495353406,
          0.13388604654839945,
          6.305596304990529,
          7.348861914638496,
          0.9118726704613901,
          0.6914945579286461,
          1.407482236278104,
          0.02720066288766469,
          0.012032769971240549,
          0.02137629523741644,
          0.17809544034690963,
          0.4013636602280528,
          0.014073468815611707,
          0.01402486216774064,
          0.022867502273642915,
          4.824358783007408,
          0.11169219545985529,
          0.29270109123363675,
          0.04277229803475929,
          0.507123662445956,
          0.16064733379405496,
          0.16428641490203766,
          0.06566271040532483,
          9.363637716926823,
          0.1382320920240548,
          0.7609887668309827,
          0.018470397235606395,
          0.8196477474599289,
          6.621351178460469,
          0.011625733609137401,
          0.1550235236888625,
          0.04825277795261175,
          2.6019378622062312,
          0.019619429034729765,
          0.5116190172324526,
          0.037440064937739055,
          0.08770998019776095,
          2.6250589216749756,
          3.424617973993266,
          2.426796527489931,
          4.343377793250721,
          0.09449383077328626,
          0.028003530764018625,
          0.07045654344536163,
          0.012404769455793309,
          1.2184098366579124,
          0.8751313316001041,
          6.538727090384878,
          0.010633554724178065,
          2.4843250400284935,
          3.3323996420526045,
          0.06059210912132856,
          4.5479700137084444,
          7.679733969285896,
          0.32189709041888726,
          0.27160186647574325,
          0.1567892260270225,
          0.24216801795707707,
          0.010719523061562876,
          4.113770080292592,
          0.4588590014404327,
          0.10710863250732765,
          0.17914999526019226,
          0.023543419823539496,
          9.503363044784564,
          0.032161195128812416,
          0.030447265733971277,
          0.01710832393798724,
          0.04418892942627006,
          3.606649390028294,
          0.06408776041778638,
          0.8367852800880451,
          0.1340402204245466,
          0.013513345363822152,
          0.22362723746871452,
          0.8048275772815653,
          0.04319432508279181,
          0.5661300875256325,
          3.338117980058931,
          0.018148986323179152,
          0.01622977607749056,
          0.3355993439527286,
          0.1055046365383603,
          0.3911432839894508,
          0.02150458112009587,
          0.7045593486636779,
          0.05051448616390107,
          0.456586960881237,
          0.09379894918925637,
          1.1864264633694677,
          0.028534777087763762,
          0.5626786250159911,
          3.8458773219426696,
          0.01255556569435987,
          0.15048015178109322,
          0.5761014588218293,
          0.1605530540282818,
          3.476149081020438,
          2.832879507168154,
          3.2642533823486795,
          3.614794818624378,
          0.5581000855177066,
          0.015937454723839006,
          0.2858343201602987,
          0.4259058815486066,
          8.381769049367936,
          0.1265620746042377,
          1.5148039626624434,
          0.023454158653051307,
          1.0653730304965756,
          1.4658524113174352,
          3.1662543141065593,
          2.130954937120347,
          1.1749178764645996,
          0.08788948403482796,
          0.5865011567299384,
          0.8157109699225751,
          1.3988159822083077,
          9.100395198201445,
          2.371987901894068,
          0.06772465718340923,
          0.027643783457538054,
          0.07931698456694951,
          0.06865463322025443,
          7.232727518623564,
          0.882142585204433,
          0.060205492355472054,
          0.07723931950697714,
          0.08879822158262446,
          0.010134215338029441,
          0.07429284993668595,
          0.07836818939004365,
          4.73257417751155,
          0.6613252201817359,
          0.010196202087229395,
          9.439981254820681,
          0.01027005055530255,
          0.192968015205417,
          6.612363362982119,
          0.017193210605788788,
          1.9592487877054943,
          0.08376188024813663,
          0.013313456146033015,
          0.035315836587124984,
          2.128916894622956,
          3.091450273626414,
          4.676363199035758,
          1.4521410708874116,
          0.26437685423944396,
          0.034468490615851,
          0.5196208822194063,
          0.020271523756867773,
          0.0744301669502829,
          0.3889777862508648,
          0.12914771572057868,
          4.246499925677045,
          0.04682391430633818
         ],
         "xaxis": "x",
         "y": [
          0.7438374417055297,
          0.7425049966688874,
          0.7455029980013325,
          0.7468354430379747,
          0.7411725516322452,
          0.734510326449034,
          0.7365089940039974,
          0.7411725516322452,
          0.7455029980013325,
          0.7441705529646903,
          0.7465023317788141,
          0.7455029980013325,
          0.7301798800799467,
          0.7441705529646903,
          0.7445036642238507,
          0.7271818787475016,
          0.7455029980013325,
          0.7245169886742172,
          0.7421718854097269,
          0.7465023317788141,
          0.7471685542971352,
          0.7418387741505663,
          0.7355096602265156,
          0.7275149900066622,
          0.7388407728181212,
          0.7465023317788141,
          0.7411725516322452,
          0.7301798800799467,
          0.7218520986009327,
          0.7425049966688874,
          0.7465023317788141,
          0.7418387741505663,
          0.7465023317788141,
          0.7225183211192538,
          0.7408394403730846,
          0.7275149900066622,
          0.7408394403730846,
          0.7425049966688874,
          0.7455029980013325,
          0.7258494337108594,
          0.7415056628914057,
          0.7451698867421719,
          0.7411725516322452,
          0.7275149900066622,
          0.739840106595603,
          0.7465023317788141,
          0.7465023317788141,
          0.7421718854097269,
          0.7448367754830113,
          0.7428381079280479,
          0.7318454363757495,
          0.7158560959360426,
          0.72618254497002,
          0.7401732178547635,
          0.7451698867421719,
          0.7235176548967355,
          0.723850766155896,
          0.734510326449034,
          0.7455029980013325,
          0.7411725516322452,
          0.7425049966688874,
          0.7401732178547635,
          0.7418387741505663,
          0.7395069953364424,
          0.739840106595603,
          0.7421718854097269,
          0.7465023317788141,
          0.7395069953364424,
          0.7471685542971352,
          0.7245169886742172,
          0.7471685542971352,
          0.7451698867421719,
          0.7181878747501665,
          0.739840106595603,
          0.7391738840772818,
          0.7441705529646903,
          0.7288474350433045,
          0.7451698867421719,
          0.7395069953364424,
          0.7418387741505663,
          0.7445036642238507,
          0.7468354430379747,
          0.7441705529646903,
          0.7468354430379747,
          0.7418387741505663,
          0.7335109926715523,
          0.7408394403730846,
          0.7151898734177216,
          0.7428381079280479,
          0.7468354430379747,
          0.7455029980013325,
          0.7245169886742172,
          0.7468354430379747,
          0.7451698867421719,
          0.7415056628914057,
          0.745836109260493,
          0.7465023317788141,
          0.7428381079280479,
          0.7418387741505663,
          0.7425049966688874,
          0.7418387741505663,
          0.7161892071952032,
          0.7468354430379747,
          0.7415056628914057,
          0.7408394403730846,
          0.7435043304463691,
          0.7338441039307129,
          0.745836109260493,
          0.7395069953364424,
          0.7395069953364424,
          0.723850766155896,
          0.7401732178547635,
          0.7465023317788141,
          0.7418387741505663,
          0.7461692205196535,
          0.739840106595603,
          0.7281812125249834,
          0.7415056628914057,
          0.7471685542971352,
          0.7391738840772818,
          0.7418387741505663,
          0.7451698867421719,
          0.7328447701532311,
          0.72618254497002,
          0.7448367754830113,
          0.7418387741505663,
          0.7421718854097269,
          0.7381745502998002,
          0.7425049966688874,
          0.7421718854097269,
          0.7455029980013325,
          0.7421718854097269,
          0.7431712191872085,
          0.740506329113924,
          0.7418387741505663,
          0.7468354430379747,
          0.7218520986009327,
          0.7388407728181212,
          0.7408394403730846,
          0.7428381079280479,
          0.7451698867421719,
          0.7468354430379747,
          0.7468354430379747,
          0.7465023317788141,
          0.7415056628914057,
          0.7255163224516988,
          0.7425049966688874,
          0.7411725516322452,
          0.7455029980013325,
          0.7418387741505663,
          0.7471685542971352,
          0.734510326449034,
          0.7475016655562958,
          0.7425049966688874,
          0.7468354430379747,
          0.7438374417055297,
          0.7471685542971352,
          0.7408394403730846,
          0.7455029980013325,
          0.745836109260493,
          0.7468354430379747,
          0.7465023317788141,
          0.7441705529646903,
          0.7421718854097269,
          0.7415056628914057,
          0.7411725516322452,
          0.7418387741505663,
          0.7455029980013325,
          0.7425049966688874,
          0.7411725516322452,
          0.7411725516322452,
          0.7421718854097269,
          0.7251832111925383,
          0.7415056628914057,
          0.7415056628914057,
          0.7465023317788141,
          0.7468354430379747,
          0.7115256495669554,
          0.7465023317788141,
          0.7241838774150566,
          0.7428381079280479,
          0.7465023317788141,
          0.7311792138574283,
          0.7468354430379747,
          0.7421718854097269,
          0.7275149900066622,
          0.7395069953364424,
          0.7438374417055297,
          0.7448367754830113,
          0.7468354430379747,
          0.7471685542971352,
          0.7418387741505663,
          0.7385076615589606,
          0.7415056628914057,
          0.7361758827448368,
          0.7415056628914057,
          0.7418387741505663,
          0.7411725516322452,
          0.7468354430379747,
          0.739840106595603
         ],
         "yaxis": "y"
        },
        {
         "marker": {
          "color": [
           0,
           1,
           2,
           3,
           4,
           5,
           6,
           7,
           8,
           9,
           10,
           11,
           12,
           13,
           14,
           15,
           16,
           17,
           18,
           19,
           20,
           21,
           22,
           23,
           24,
           25,
           26,
           27,
           28,
           29,
           30,
           31,
           32,
           33,
           34,
           35,
           36,
           37,
           38,
           39,
           40,
           41,
           42,
           43,
           44,
           45,
           46,
           47,
           48,
           49,
           50,
           51,
           52,
           53,
           54,
           55,
           56,
           57,
           58,
           59,
           60,
           61,
           62,
           63,
           64,
           65,
           66,
           67,
           68,
           69,
           70,
           71,
           72,
           73,
           74,
           75,
           76,
           77,
           78,
           79,
           80,
           81,
           82,
           83,
           84,
           85,
           86,
           87,
           88,
           89,
           90,
           91,
           92,
           93,
           94,
           95,
           96,
           97,
           98,
           99,
           100,
           101,
           102,
           103,
           104,
           105,
           106,
           107,
           108,
           109,
           110,
           111,
           112,
           113,
           114,
           115,
           116,
           117,
           118,
           119,
           120,
           121,
           122,
           123,
           124,
           125,
           126,
           127,
           128,
           129,
           130,
           131,
           132,
           133,
           134,
           135,
           136,
           137,
           138,
           139,
           140,
           141,
           142,
           143,
           144,
           145,
           146,
           147,
           148,
           149,
           150,
           151,
           152,
           153,
           154,
           155,
           156,
           157,
           158,
           159,
           160,
           161,
           162,
           163,
           164,
           165,
           166,
           167,
           168,
           169,
           170,
           171,
           172,
           173,
           174,
           175,
           176,
           177,
           178,
           179,
           180,
           181,
           182,
           183,
           184,
           185,
           186,
           187,
           188,
           189,
           190,
           191,
           192,
           193,
           194,
           195,
           196,
           197,
           198,
           199
          ],
          "colorbar": {
           "title": {
            "text": "Trial"
           },
           "x": 1,
           "xpad": 40
          },
          "colorscale": [
           [
            0,
            "rgb(247,251,255)"
           ],
           [
            0.125,
            "rgb(222,235,247)"
           ],
           [
            0.25,
            "rgb(198,219,239)"
           ],
           [
            0.375,
            "rgb(158,202,225)"
           ],
           [
            0.5,
            "rgb(107,174,214)"
           ],
           [
            0.625,
            "rgb(66,146,198)"
           ],
           [
            0.75,
            "rgb(33,113,181)"
           ],
           [
            0.875,
            "rgb(8,81,156)"
           ],
           [
            1,
            "rgb(8,48,107)"
           ]
          ],
          "line": {
           "color": "Grey",
           "width": 0.5
          },
          "showscale": false
         },
         "mode": "markers",
         "name": "Feasible Trial",
         "showlegend": false,
         "type": "scatter",
         "x": [
          354,
          471,
          981,
          664,
          412,
          637,
          593,
          316,
          555,
          891,
          311,
          315,
          661,
          446,
          214,
          642,
          490,
          216,
          968,
          906,
          457,
          405,
          121,
          999,
          803,
          935,
          500,
          861,
          337,
          801,
          788,
          295,
          533,
          749,
          640,
          382,
          522,
          886,
          366,
          910,
          372,
          675,
          718,
          189,
          311,
          537,
          409,
          403,
          138,
          848,
          265,
          179,
          530,
          498,
          420,
          510,
          177,
          456,
          982,
          297,
          710,
          671,
          252,
          582,
          527,
          519,
          501,
          305,
          545,
          383,
          681,
          384,
          511,
          261,
          756,
          872,
          562,
          793,
          752,
          767,
          143,
          301,
          107,
          730,
          327,
          465,
          484,
          548,
          810,
          270,
          442,
          619,
          533,
          513,
          925,
          291,
          194,
          935,
          248,
          211,
          307,
          407,
          633,
          347,
          193,
          491,
          406,
          999,
          601,
          546,
          177,
          951,
          416,
          408,
          678,
          346,
          468,
          168,
          795,
          242,
          786,
          157,
          294,
          665,
          278,
          164,
          195,
          525,
          153,
          648,
          533,
          934,
          237,
          988,
          217,
          133,
          827,
          671,
          643,
          690,
          503,
          857,
          339,
          342,
          987,
          297,
          146,
          373,
          219,
          939,
          518,
          620,
          963,
          699,
          902,
          515,
          768,
          490,
          176,
          884,
          636,
          925,
          817,
          724,
          517,
          381,
          668,
          735,
          281,
          397,
          873,
          499,
          615,
          533,
          498,
          518,
          151,
          849,
          136,
          263,
          960,
          621,
          184,
          365,
          197,
          964,
          394,
          641,
          524,
          280,
          433,
          973,
          725,
          430,
          557,
          682,
          228,
          937,
          273,
          547
         ],
         "xaxis": "x2",
         "y": [
          0.7438374417055297,
          0.7425049966688874,
          0.7455029980013325,
          0.7468354430379747,
          0.7411725516322452,
          0.734510326449034,
          0.7365089940039974,
          0.7411725516322452,
          0.7455029980013325,
          0.7441705529646903,
          0.7465023317788141,
          0.7455029980013325,
          0.7301798800799467,
          0.7441705529646903,
          0.7445036642238507,
          0.7271818787475016,
          0.7455029980013325,
          0.7245169886742172,
          0.7421718854097269,
          0.7465023317788141,
          0.7471685542971352,
          0.7418387741505663,
          0.7355096602265156,
          0.7275149900066622,
          0.7388407728181212,
          0.7465023317788141,
          0.7411725516322452,
          0.7301798800799467,
          0.7218520986009327,
          0.7425049966688874,
          0.7465023317788141,
          0.7418387741505663,
          0.7465023317788141,
          0.7225183211192538,
          0.7408394403730846,
          0.7275149900066622,
          0.7408394403730846,
          0.7425049966688874,
          0.7455029980013325,
          0.7258494337108594,
          0.7415056628914057,
          0.7451698867421719,
          0.7411725516322452,
          0.7275149900066622,
          0.739840106595603,
          0.7465023317788141,
          0.7465023317788141,
          0.7421718854097269,
          0.7448367754830113,
          0.7428381079280479,
          0.7318454363757495,
          0.7158560959360426,
          0.72618254497002,
          0.7401732178547635,
          0.7451698867421719,
          0.7235176548967355,
          0.723850766155896,
          0.734510326449034,
          0.7455029980013325,
          0.7411725516322452,
          0.7425049966688874,
          0.7401732178547635,
          0.7418387741505663,
          0.7395069953364424,
          0.739840106595603,
          0.7421718854097269,
          0.7465023317788141,
          0.7395069953364424,
          0.7471685542971352,
          0.7245169886742172,
          0.7471685542971352,
          0.7451698867421719,
          0.7181878747501665,
          0.739840106595603,
          0.7391738840772818,
          0.7441705529646903,
          0.7288474350433045,
          0.7451698867421719,
          0.7395069953364424,
          0.7418387741505663,
          0.7445036642238507,
          0.7468354430379747,
          0.7441705529646903,
          0.7468354430379747,
          0.7418387741505663,
          0.7335109926715523,
          0.7408394403730846,
          0.7151898734177216,
          0.7428381079280479,
          0.7468354430379747,
          0.7455029980013325,
          0.7245169886742172,
          0.7468354430379747,
          0.7451698867421719,
          0.7415056628914057,
          0.745836109260493,
          0.7465023317788141,
          0.7428381079280479,
          0.7418387741505663,
          0.7425049966688874,
          0.7418387741505663,
          0.7161892071952032,
          0.7468354430379747,
          0.7415056628914057,
          0.7408394403730846,
          0.7435043304463691,
          0.7338441039307129,
          0.745836109260493,
          0.7395069953364424,
          0.7395069953364424,
          0.723850766155896,
          0.7401732178547635,
          0.7465023317788141,
          0.7418387741505663,
          0.7461692205196535,
          0.739840106595603,
          0.7281812125249834,
          0.7415056628914057,
          0.7471685542971352,
          0.7391738840772818,
          0.7418387741505663,
          0.7451698867421719,
          0.7328447701532311,
          0.72618254497002,
          0.7448367754830113,
          0.7418387741505663,
          0.7421718854097269,
          0.7381745502998002,
          0.7425049966688874,
          0.7421718854097269,
          0.7455029980013325,
          0.7421718854097269,
          0.7431712191872085,
          0.740506329113924,
          0.7418387741505663,
          0.7468354430379747,
          0.7218520986009327,
          0.7388407728181212,
          0.7408394403730846,
          0.7428381079280479,
          0.7451698867421719,
          0.7468354430379747,
          0.7468354430379747,
          0.7465023317788141,
          0.7415056628914057,
          0.7255163224516988,
          0.7425049966688874,
          0.7411725516322452,
          0.7455029980013325,
          0.7418387741505663,
          0.7471685542971352,
          0.734510326449034,
          0.7475016655562958,
          0.7425049966688874,
          0.7468354430379747,
          0.7438374417055297,
          0.7471685542971352,
          0.7408394403730846,
          0.7455029980013325,
          0.745836109260493,
          0.7468354430379747,
          0.7465023317788141,
          0.7441705529646903,
          0.7421718854097269,
          0.7415056628914057,
          0.7411725516322452,
          0.7418387741505663,
          0.7455029980013325,
          0.7425049966688874,
          0.7411725516322452,
          0.7411725516322452,
          0.7421718854097269,
          0.7251832111925383,
          0.7415056628914057,
          0.7415056628914057,
          0.7465023317788141,
          0.7468354430379747,
          0.7115256495669554,
          0.7465023317788141,
          0.7241838774150566,
          0.7428381079280479,
          0.7465023317788141,
          0.7311792138574283,
          0.7468354430379747,
          0.7421718854097269,
          0.7275149900066622,
          0.7395069953364424,
          0.7438374417055297,
          0.7448367754830113,
          0.7468354430379747,
          0.7471685542971352,
          0.7418387741505663,
          0.7385076615589606,
          0.7415056628914057,
          0.7361758827448368,
          0.7415056628914057,
          0.7418387741505663,
          0.7411725516322452,
          0.7468354430379747,
          0.739840106595603
         ],
         "yaxis": "y2"
        },
        {
         "marker": {
          "color": [
           0,
           1,
           2,
           3,
           4,
           5,
           6,
           7,
           8,
           9,
           10,
           11,
           12,
           13,
           14,
           15,
           16,
           17,
           18,
           19,
           20,
           21,
           22,
           23,
           24,
           25,
           26,
           27,
           28,
           29,
           30,
           31,
           32,
           33,
           34,
           35,
           36,
           37,
           38,
           39,
           40,
           41,
           42,
           43,
           44,
           45,
           46,
           47,
           48,
           49,
           50,
           51,
           52,
           53,
           54,
           55,
           56,
           57,
           58,
           59,
           60,
           61,
           62,
           63,
           64,
           65,
           66,
           67,
           68,
           69,
           70,
           71,
           72,
           73,
           74,
           75,
           76,
           77,
           78,
           79,
           80,
           81,
           82,
           83,
           84,
           85,
           86,
           87,
           88,
           89,
           90,
           91,
           92,
           93,
           94,
           95,
           96,
           97,
           98,
           99,
           100,
           101,
           102,
           103,
           104,
           105,
           106,
           107,
           108,
           109,
           110,
           111,
           112,
           113,
           114,
           115,
           116,
           117,
           118,
           119,
           120,
           121,
           122,
           123,
           124,
           125,
           126,
           127,
           128,
           129,
           130,
           131,
           132,
           133,
           134,
           135,
           136,
           137,
           138,
           139,
           140,
           141,
           142,
           143,
           144,
           145,
           146,
           147,
           148,
           149,
           150,
           151,
           152,
           153,
           154,
           155,
           156,
           157,
           158,
           159,
           160,
           161,
           162,
           163,
           164,
           165,
           166,
           167,
           168,
           169,
           170,
           171,
           172,
           173,
           174,
           175,
           176,
           177,
           178,
           179,
           180,
           181,
           182,
           183,
           184,
           185,
           186,
           187,
           188,
           189,
           190,
           191,
           192,
           193,
           194,
           195,
           196,
           197,
           198,
           199
          ],
          "colorbar": {
           "title": {
            "text": "Trial"
           },
           "x": 1,
           "xpad": 40
          },
          "colorscale": [
           [
            0,
            "rgb(247,251,255)"
           ],
           [
            0.125,
            "rgb(222,235,247)"
           ],
           [
            0.25,
            "rgb(198,219,239)"
           ],
           [
            0.375,
            "rgb(158,202,225)"
           ],
           [
            0.5,
            "rgb(107,174,214)"
           ],
           [
            0.625,
            "rgb(66,146,198)"
           ],
           [
            0.75,
            "rgb(33,113,181)"
           ],
           [
            0.875,
            "rgb(8,81,156)"
           ],
           [
            1,
            "rgb(8,48,107)"
           ]
          ],
          "line": {
           "color": "Grey",
           "width": 0.5
          },
          "showscale": false
         },
         "mode": "markers",
         "name": "Feasible Trial",
         "showlegend": false,
         "type": "scatter",
         "x": [
          "l2",
          "l2",
          "l1",
          "l1",
          "l1",
          "l1",
          "l1",
          "l1",
          "l2",
          "l1",
          "l1",
          "l2",
          "l1",
          "l2",
          "l1",
          "l1",
          "l2",
          "l2",
          "l2",
          "l1",
          "l1",
          "l1",
          "l2",
          "l1",
          "l1",
          "l1",
          "l2",
          "l1",
          "l1",
          "l2",
          "l1",
          "l2",
          "l1",
          "l1",
          "l1",
          "l1",
          "l1",
          "l2",
          "l2",
          "l2",
          "l2",
          "l1",
          "l2",
          "l1",
          "l1",
          "l1",
          "l1",
          "l2",
          "l1",
          "l2",
          "l1",
          "l1",
          "l1",
          "l1",
          "l1",
          "l1",
          "l1",
          "l1",
          "l2",
          "l2",
          "l2",
          "l2",
          "l2",
          "l1",
          "l1",
          "l2",
          "l1",
          "l1",
          "l1",
          "l1",
          "l1",
          "l2",
          "l1",
          "l1",
          "l1",
          "l2",
          "l1",
          "l1",
          "l1",
          "l2",
          "l2",
          "l1",
          "l2",
          "l1",
          "l2",
          "l1",
          "l1",
          "l1",
          "l2",
          "l1",
          "l2",
          "l2",
          "l1",
          "l2",
          "l2",
          "l2",
          "l1",
          "l2",
          "l2",
          "l2",
          "l2",
          "l1",
          "l1",
          "l2",
          "l1",
          "l2",
          "l1",
          "l2",
          "l1",
          "l2",
          "l1",
          "l2",
          "l1",
          "l2",
          "l1",
          "l1",
          "l2",
          "l1",
          "l1",
          "l1",
          "l2",
          "l2",
          "l2",
          "l1",
          "l1",
          "l2",
          "l2",
          "l2",
          "l2",
          "l2",
          "l1",
          "l2",
          "l2",
          "l2",
          "l2",
          "l1",
          "l1",
          "l1",
          "l2",
          "l2",
          "l2",
          "l1",
          "l1",
          "l1",
          "l2",
          "l1",
          "l2",
          "l2",
          "l2",
          "l2",
          "l1",
          "l1",
          "l1",
          "l2",
          "l1",
          "l2",
          "l1",
          "l1",
          "l1",
          "l1",
          "l1",
          "l1",
          "l2",
          "l1",
          "l2",
          "l1",
          "l2",
          "l2",
          "l2",
          "l1",
          "l1",
          "l2",
          "l2",
          "l1",
          "l1",
          "l1",
          "l1",
          "l1",
          "l1",
          "l2",
          "l2",
          "l1",
          "l2",
          "l1",
          "l2",
          "l2",
          "l2",
          "l2",
          "l2",
          "l1",
          "l1",
          "l2",
          "l1",
          "l2",
          "l2",
          "l2",
          "l2",
          "l2",
          "l1",
          "l1"
         ],
         "xaxis": "x3",
         "y": [
          0.7438374417055297,
          0.7425049966688874,
          0.7455029980013325,
          0.7468354430379747,
          0.7411725516322452,
          0.734510326449034,
          0.7365089940039974,
          0.7411725516322452,
          0.7455029980013325,
          0.7441705529646903,
          0.7465023317788141,
          0.7455029980013325,
          0.7301798800799467,
          0.7441705529646903,
          0.7445036642238507,
          0.7271818787475016,
          0.7455029980013325,
          0.7245169886742172,
          0.7421718854097269,
          0.7465023317788141,
          0.7471685542971352,
          0.7418387741505663,
          0.7355096602265156,
          0.7275149900066622,
          0.7388407728181212,
          0.7465023317788141,
          0.7411725516322452,
          0.7301798800799467,
          0.7218520986009327,
          0.7425049966688874,
          0.7465023317788141,
          0.7418387741505663,
          0.7465023317788141,
          0.7225183211192538,
          0.7408394403730846,
          0.7275149900066622,
          0.7408394403730846,
          0.7425049966688874,
          0.7455029980013325,
          0.7258494337108594,
          0.7415056628914057,
          0.7451698867421719,
          0.7411725516322452,
          0.7275149900066622,
          0.739840106595603,
          0.7465023317788141,
          0.7465023317788141,
          0.7421718854097269,
          0.7448367754830113,
          0.7428381079280479,
          0.7318454363757495,
          0.7158560959360426,
          0.72618254497002,
          0.7401732178547635,
          0.7451698867421719,
          0.7235176548967355,
          0.723850766155896,
          0.734510326449034,
          0.7455029980013325,
          0.7411725516322452,
          0.7425049966688874,
          0.7401732178547635,
          0.7418387741505663,
          0.7395069953364424,
          0.739840106595603,
          0.7421718854097269,
          0.7465023317788141,
          0.7395069953364424,
          0.7471685542971352,
          0.7245169886742172,
          0.7471685542971352,
          0.7451698867421719,
          0.7181878747501665,
          0.739840106595603,
          0.7391738840772818,
          0.7441705529646903,
          0.7288474350433045,
          0.7451698867421719,
          0.7395069953364424,
          0.7418387741505663,
          0.7445036642238507,
          0.7468354430379747,
          0.7441705529646903,
          0.7468354430379747,
          0.7418387741505663,
          0.7335109926715523,
          0.7408394403730846,
          0.7151898734177216,
          0.7428381079280479,
          0.7468354430379747,
          0.7455029980013325,
          0.7245169886742172,
          0.7468354430379747,
          0.7451698867421719,
          0.7415056628914057,
          0.745836109260493,
          0.7465023317788141,
          0.7428381079280479,
          0.7418387741505663,
          0.7425049966688874,
          0.7418387741505663,
          0.7161892071952032,
          0.7468354430379747,
          0.7415056628914057,
          0.7408394403730846,
          0.7435043304463691,
          0.7338441039307129,
          0.745836109260493,
          0.7395069953364424,
          0.7395069953364424,
          0.723850766155896,
          0.7401732178547635,
          0.7465023317788141,
          0.7418387741505663,
          0.7461692205196535,
          0.739840106595603,
          0.7281812125249834,
          0.7415056628914057,
          0.7471685542971352,
          0.7391738840772818,
          0.7418387741505663,
          0.7451698867421719,
          0.7328447701532311,
          0.72618254497002,
          0.7448367754830113,
          0.7418387741505663,
          0.7421718854097269,
          0.7381745502998002,
          0.7425049966688874,
          0.7421718854097269,
          0.7455029980013325,
          0.7421718854097269,
          0.7431712191872085,
          0.740506329113924,
          0.7418387741505663,
          0.7468354430379747,
          0.7218520986009327,
          0.7388407728181212,
          0.7408394403730846,
          0.7428381079280479,
          0.7451698867421719,
          0.7468354430379747,
          0.7468354430379747,
          0.7465023317788141,
          0.7415056628914057,
          0.7255163224516988,
          0.7425049966688874,
          0.7411725516322452,
          0.7455029980013325,
          0.7418387741505663,
          0.7471685542971352,
          0.734510326449034,
          0.7475016655562958,
          0.7425049966688874,
          0.7468354430379747,
          0.7438374417055297,
          0.7471685542971352,
          0.7408394403730846,
          0.7455029980013325,
          0.745836109260493,
          0.7468354430379747,
          0.7465023317788141,
          0.7441705529646903,
          0.7421718854097269,
          0.7415056628914057,
          0.7411725516322452,
          0.7418387741505663,
          0.7455029980013325,
          0.7425049966688874,
          0.7411725516322452,
          0.7411725516322452,
          0.7421718854097269,
          0.7251832111925383,
          0.7415056628914057,
          0.7415056628914057,
          0.7465023317788141,
          0.7468354430379747,
          0.7115256495669554,
          0.7465023317788141,
          0.7241838774150566,
          0.7428381079280479,
          0.7465023317788141,
          0.7311792138574283,
          0.7468354430379747,
          0.7421718854097269,
          0.7275149900066622,
          0.7395069953364424,
          0.7438374417055297,
          0.7448367754830113,
          0.7468354430379747,
          0.7471685542971352,
          0.7418387741505663,
          0.7385076615589606,
          0.7415056628914057,
          0.7361758827448368,
          0.7415056628914057,
          0.7418387741505663,
          0.7411725516322452,
          0.7468354430379747,
          0.739840106595603
         ],
         "yaxis": "y3"
        },
        {
         "marker": {
          "color": [
           0,
           1,
           2,
           3,
           4,
           5,
           6,
           7,
           8,
           9,
           10,
           11,
           12,
           13,
           14,
           15,
           16,
           17,
           18,
           19,
           20,
           21,
           22,
           23,
           24,
           25,
           26,
           27,
           28,
           29,
           30,
           31,
           32,
           33,
           34,
           35,
           36,
           37,
           38,
           39,
           40,
           41,
           42,
           43,
           44,
           45,
           46,
           47,
           48,
           49,
           50,
           51,
           52,
           53,
           54,
           55,
           56,
           57,
           58,
           59,
           60,
           61,
           62,
           63,
           64,
           65,
           66,
           67,
           68,
           69,
           70,
           71,
           72,
           73,
           74,
           75,
           76,
           77,
           78,
           79,
           80,
           81,
           82,
           83,
           84,
           85,
           86,
           87,
           88,
           89,
           90,
           91,
           92,
           93,
           94,
           95,
           96,
           97,
           98,
           99,
           100,
           101,
           102,
           103,
           104,
           105,
           106,
           107,
           108,
           109,
           110,
           111,
           112,
           113,
           114,
           115,
           116,
           117,
           118,
           119,
           120,
           121,
           122,
           123,
           124,
           125,
           126,
           127,
           128,
           129,
           130,
           131,
           132,
           133,
           134,
           135,
           136,
           137,
           138,
           139,
           140,
           141,
           142,
           143,
           144,
           145,
           146,
           147,
           148,
           149,
           150,
           151,
           152,
           153,
           154,
           155,
           156,
           157,
           158,
           159,
           160,
           161,
           162,
           163,
           164,
           165,
           166,
           167,
           168,
           169,
           170,
           171,
           172,
           173,
           174,
           175,
           176,
           177,
           178,
           179,
           180,
           181,
           182,
           183,
           184,
           185,
           186,
           187,
           188,
           189,
           190,
           191,
           192,
           193,
           194,
           195,
           196,
           197,
           198,
           199
          ],
          "colorbar": {
           "title": {
            "text": "Trial"
           },
           "x": 1,
           "xpad": 40
          },
          "colorscale": [
           [
            0,
            "rgb(247,251,255)"
           ],
           [
            0.125,
            "rgb(222,235,247)"
           ],
           [
            0.25,
            "rgb(198,219,239)"
           ],
           [
            0.375,
            "rgb(158,202,225)"
           ],
           [
            0.5,
            "rgb(107,174,214)"
           ],
           [
            0.625,
            "rgb(66,146,198)"
           ],
           [
            0.75,
            "rgb(33,113,181)"
           ],
           [
            0.875,
            "rgb(8,81,156)"
           ],
           [
            1,
            "rgb(8,48,107)"
           ]
          ],
          "line": {
           "color": "Grey",
           "width": 0.5
          },
          "showscale": false
         },
         "mode": "markers",
         "name": "Feasible Trial",
         "showlegend": false,
         "type": "scatter",
         "x": [
          "saga",
          "saga",
          "liblinear",
          "liblinear",
          "liblinear",
          "liblinear",
          "saga",
          "liblinear",
          "saga",
          "saga",
          "saga",
          "saga",
          "liblinear",
          "saga",
          "liblinear",
          "liblinear",
          "liblinear",
          "saga",
          "liblinear",
          "liblinear",
          "saga",
          "liblinear",
          "saga",
          "saga",
          "saga",
          "saga",
          "saga",
          "saga",
          "saga",
          "saga",
          "liblinear",
          "saga",
          "liblinear",
          "saga",
          "liblinear",
          "liblinear",
          "saga",
          "liblinear",
          "saga",
          "saga",
          "saga",
          "liblinear",
          "saga",
          "saga",
          "saga",
          "saga",
          "saga",
          "saga",
          "liblinear",
          "saga",
          "saga",
          "saga",
          "saga",
          "saga",
          "liblinear",
          "liblinear",
          "liblinear",
          "liblinear",
          "saga",
          "liblinear",
          "liblinear",
          "saga",
          "liblinear",
          "saga",
          "liblinear",
          "liblinear",
          "liblinear",
          "saga",
          "saga",
          "saga",
          "saga",
          "saga",
          "liblinear",
          "saga",
          "saga",
          "liblinear",
          "liblinear",
          "liblinear",
          "saga",
          "liblinear",
          "liblinear",
          "liblinear",
          "liblinear",
          "liblinear",
          "saga",
          "saga",
          "saga",
          "saga",
          "liblinear",
          "liblinear",
          "liblinear",
          "saga",
          "liblinear",
          "liblinear",
          "saga",
          "saga",
          "saga",
          "liblinear",
          "liblinear",
          "saga",
          "saga",
          "liblinear",
          "liblinear",
          "saga",
          "saga",
          "saga",
          "liblinear",
          "liblinear",
          "liblinear",
          "liblinear",
          "saga",
          "saga",
          "saga",
          "liblinear",
          "liblinear",
          "saga",
          "saga",
          "liblinear",
          "saga",
          "liblinear",
          "liblinear",
          "saga",
          "liblinear",
          "liblinear",
          "liblinear",
          "saga",
          "liblinear",
          "saga",
          "saga",
          "liblinear",
          "liblinear",
          "saga",
          "liblinear",
          "liblinear",
          "liblinear",
          "liblinear",
          "liblinear",
          "liblinear",
          "saga",
          "liblinear",
          "liblinear",
          "saga",
          "liblinear",
          "saga",
          "saga",
          "liblinear",
          "liblinear",
          "saga",
          "saga",
          "saga",
          "liblinear",
          "liblinear",
          "saga",
          "liblinear",
          "liblinear",
          "saga",
          "saga",
          "saga",
          "liblinear",
          "liblinear",
          "saga",
          "liblinear",
          "saga",
          "liblinear",
          "liblinear",
          "liblinear",
          "liblinear",
          "liblinear",
          "liblinear",
          "liblinear",
          "liblinear",
          "liblinear",
          "liblinear",
          "saga",
          "liblinear",
          "liblinear",
          "saga",
          "saga",
          "saga",
          "saga",
          "saga",
          "saga",
          "liblinear",
          "saga",
          "saga",
          "liblinear",
          "liblinear",
          "saga",
          "saga",
          "liblinear",
          "liblinear",
          "liblinear",
          "saga",
          "liblinear",
          "liblinear",
          "saga",
          "saga",
          "liblinear",
          "liblinear",
          "liblinear"
         ],
         "xaxis": "x4",
         "y": [
          0.7438374417055297,
          0.7425049966688874,
          0.7455029980013325,
          0.7468354430379747,
          0.7411725516322452,
          0.734510326449034,
          0.7365089940039974,
          0.7411725516322452,
          0.7455029980013325,
          0.7441705529646903,
          0.7465023317788141,
          0.7455029980013325,
          0.7301798800799467,
          0.7441705529646903,
          0.7445036642238507,
          0.7271818787475016,
          0.7455029980013325,
          0.7245169886742172,
          0.7421718854097269,
          0.7465023317788141,
          0.7471685542971352,
          0.7418387741505663,
          0.7355096602265156,
          0.7275149900066622,
          0.7388407728181212,
          0.7465023317788141,
          0.7411725516322452,
          0.7301798800799467,
          0.7218520986009327,
          0.7425049966688874,
          0.7465023317788141,
          0.7418387741505663,
          0.7465023317788141,
          0.7225183211192538,
          0.7408394403730846,
          0.7275149900066622,
          0.7408394403730846,
          0.7425049966688874,
          0.7455029980013325,
          0.7258494337108594,
          0.7415056628914057,
          0.7451698867421719,
          0.7411725516322452,
          0.7275149900066622,
          0.739840106595603,
          0.7465023317788141,
          0.7465023317788141,
          0.7421718854097269,
          0.7448367754830113,
          0.7428381079280479,
          0.7318454363757495,
          0.7158560959360426,
          0.72618254497002,
          0.7401732178547635,
          0.7451698867421719,
          0.7235176548967355,
          0.723850766155896,
          0.734510326449034,
          0.7455029980013325,
          0.7411725516322452,
          0.7425049966688874,
          0.7401732178547635,
          0.7418387741505663,
          0.7395069953364424,
          0.739840106595603,
          0.7421718854097269,
          0.7465023317788141,
          0.7395069953364424,
          0.7471685542971352,
          0.7245169886742172,
          0.7471685542971352,
          0.7451698867421719,
          0.7181878747501665,
          0.739840106595603,
          0.7391738840772818,
          0.7441705529646903,
          0.7288474350433045,
          0.7451698867421719,
          0.7395069953364424,
          0.7418387741505663,
          0.7445036642238507,
          0.7468354430379747,
          0.7441705529646903,
          0.7468354430379747,
          0.7418387741505663,
          0.7335109926715523,
          0.7408394403730846,
          0.7151898734177216,
          0.7428381079280479,
          0.7468354430379747,
          0.7455029980013325,
          0.7245169886742172,
          0.7468354430379747,
          0.7451698867421719,
          0.7415056628914057,
          0.745836109260493,
          0.7465023317788141,
          0.7428381079280479,
          0.7418387741505663,
          0.7425049966688874,
          0.7418387741505663,
          0.7161892071952032,
          0.7468354430379747,
          0.7415056628914057,
          0.7408394403730846,
          0.7435043304463691,
          0.7338441039307129,
          0.745836109260493,
          0.7395069953364424,
          0.7395069953364424,
          0.723850766155896,
          0.7401732178547635,
          0.7465023317788141,
          0.7418387741505663,
          0.7461692205196535,
          0.739840106595603,
          0.7281812125249834,
          0.7415056628914057,
          0.7471685542971352,
          0.7391738840772818,
          0.7418387741505663,
          0.7451698867421719,
          0.7328447701532311,
          0.72618254497002,
          0.7448367754830113,
          0.7418387741505663,
          0.7421718854097269,
          0.7381745502998002,
          0.7425049966688874,
          0.7421718854097269,
          0.7455029980013325,
          0.7421718854097269,
          0.7431712191872085,
          0.740506329113924,
          0.7418387741505663,
          0.7468354430379747,
          0.7218520986009327,
          0.7388407728181212,
          0.7408394403730846,
          0.7428381079280479,
          0.7451698867421719,
          0.7468354430379747,
          0.7468354430379747,
          0.7465023317788141,
          0.7415056628914057,
          0.7255163224516988,
          0.7425049966688874,
          0.7411725516322452,
          0.7455029980013325,
          0.7418387741505663,
          0.7471685542971352,
          0.734510326449034,
          0.7475016655562958,
          0.7425049966688874,
          0.7468354430379747,
          0.7438374417055297,
          0.7471685542971352,
          0.7408394403730846,
          0.7455029980013325,
          0.745836109260493,
          0.7468354430379747,
          0.7465023317788141,
          0.7441705529646903,
          0.7421718854097269,
          0.7415056628914057,
          0.7411725516322452,
          0.7418387741505663,
          0.7455029980013325,
          0.7425049966688874,
          0.7411725516322452,
          0.7411725516322452,
          0.7421718854097269,
          0.7251832111925383,
          0.7415056628914057,
          0.7415056628914057,
          0.7465023317788141,
          0.7468354430379747,
          0.7115256495669554,
          0.7465023317788141,
          0.7241838774150566,
          0.7428381079280479,
          0.7465023317788141,
          0.7311792138574283,
          0.7468354430379747,
          0.7421718854097269,
          0.7275149900066622,
          0.7395069953364424,
          0.7438374417055297,
          0.7448367754830113,
          0.7468354430379747,
          0.7471685542971352,
          0.7418387741505663,
          0.7385076615589606,
          0.7415056628914057,
          0.7361758827448368,
          0.7415056628914057,
          0.7418387741505663,
          0.7411725516322452,
          0.7468354430379747,
          0.739840106595603
         ],
         "yaxis": "y4"
        }
       ],
       "layout": {
        "template": {
         "data": {
          "bar": [
           {
            "error_x": {
             "color": "#2a3f5f"
            },
            "error_y": {
             "color": "#2a3f5f"
            },
            "marker": {
             "line": {
              "color": "#E5ECF6",
              "width": 0.5
             },
             "pattern": {
              "fillmode": "overlay",
              "size": 10,
              "solidity": 0.2
             }
            },
            "type": "bar"
           }
          ],
          "barpolar": [
           {
            "marker": {
             "line": {
              "color": "#E5ECF6",
              "width": 0.5
             },
             "pattern": {
              "fillmode": "overlay",
              "size": 10,
              "solidity": 0.2
             }
            },
            "type": "barpolar"
           }
          ],
          "carpet": [
           {
            "aaxis": {
             "endlinecolor": "#2a3f5f",
             "gridcolor": "white",
             "linecolor": "white",
             "minorgridcolor": "white",
             "startlinecolor": "#2a3f5f"
            },
            "baxis": {
             "endlinecolor": "#2a3f5f",
             "gridcolor": "white",
             "linecolor": "white",
             "minorgridcolor": "white",
             "startlinecolor": "#2a3f5f"
            },
            "type": "carpet"
           }
          ],
          "choropleth": [
           {
            "colorbar": {
             "outlinewidth": 0,
             "ticks": ""
            },
            "type": "choropleth"
           }
          ],
          "contour": [
           {
            "colorbar": {
             "outlinewidth": 0,
             "ticks": ""
            },
            "colorscale": [
             [
              0,
              "#0d0887"
             ],
             [
              0.1111111111111111,
              "#46039f"
             ],
             [
              0.2222222222222222,
              "#7201a8"
             ],
             [
              0.3333333333333333,
              "#9c179e"
             ],
             [
              0.4444444444444444,
              "#bd3786"
             ],
             [
              0.5555555555555556,
              "#d8576b"
             ],
             [
              0.6666666666666666,
              "#ed7953"
             ],
             [
              0.7777777777777778,
              "#fb9f3a"
             ],
             [
              0.8888888888888888,
              "#fdca26"
             ],
             [
              1,
              "#f0f921"
             ]
            ],
            "type": "contour"
           }
          ],
          "contourcarpet": [
           {
            "colorbar": {
             "outlinewidth": 0,
             "ticks": ""
            },
            "type": "contourcarpet"
           }
          ],
          "heatmap": [
           {
            "colorbar": {
             "outlinewidth": 0,
             "ticks": ""
            },
            "colorscale": [
             [
              0,
              "#0d0887"
             ],
             [
              0.1111111111111111,
              "#46039f"
             ],
             [
              0.2222222222222222,
              "#7201a8"
             ],
             [
              0.3333333333333333,
              "#9c179e"
             ],
             [
              0.4444444444444444,
              "#bd3786"
             ],
             [
              0.5555555555555556,
              "#d8576b"
             ],
             [
              0.6666666666666666,
              "#ed7953"
             ],
             [
              0.7777777777777778,
              "#fb9f3a"
             ],
             [
              0.8888888888888888,
              "#fdca26"
             ],
             [
              1,
              "#f0f921"
             ]
            ],
            "type": "heatmap"
           }
          ],
          "heatmapgl": [
           {
            "colorbar": {
             "outlinewidth": 0,
             "ticks": ""
            },
            "colorscale": [
             [
              0,
              "#0d0887"
             ],
             [
              0.1111111111111111,
              "#46039f"
             ],
             [
              0.2222222222222222,
              "#7201a8"
             ],
             [
              0.3333333333333333,
              "#9c179e"
             ],
             [
              0.4444444444444444,
              "#bd3786"
             ],
             [
              0.5555555555555556,
              "#d8576b"
             ],
             [
              0.6666666666666666,
              "#ed7953"
             ],
             [
              0.7777777777777778,
              "#fb9f3a"
             ],
             [
              0.8888888888888888,
              "#fdca26"
             ],
             [
              1,
              "#f0f921"
             ]
            ],
            "type": "heatmapgl"
           }
          ],
          "histogram": [
           {
            "marker": {
             "pattern": {
              "fillmode": "overlay",
              "size": 10,
              "solidity": 0.2
             }
            },
            "type": "histogram"
           }
          ],
          "histogram2d": [
           {
            "colorbar": {
             "outlinewidth": 0,
             "ticks": ""
            },
            "colorscale": [
             [
              0,
              "#0d0887"
             ],
             [
              0.1111111111111111,
              "#46039f"
             ],
             [
              0.2222222222222222,
              "#7201a8"
             ],
             [
              0.3333333333333333,
              "#9c179e"
             ],
             [
              0.4444444444444444,
              "#bd3786"
             ],
             [
              0.5555555555555556,
              "#d8576b"
             ],
             [
              0.6666666666666666,
              "#ed7953"
             ],
             [
              0.7777777777777778,
              "#fb9f3a"
             ],
             [
              0.8888888888888888,
              "#fdca26"
             ],
             [
              1,
              "#f0f921"
             ]
            ],
            "type": "histogram2d"
           }
          ],
          "histogram2dcontour": [
           {
            "colorbar": {
             "outlinewidth": 0,
             "ticks": ""
            },
            "colorscale": [
             [
              0,
              "#0d0887"
             ],
             [
              0.1111111111111111,
              "#46039f"
             ],
             [
              0.2222222222222222,
              "#7201a8"
             ],
             [
              0.3333333333333333,
              "#9c179e"
             ],
             [
              0.4444444444444444,
              "#bd3786"
             ],
             [
              0.5555555555555556,
              "#d8576b"
             ],
             [
              0.6666666666666666,
              "#ed7953"
             ],
             [
              0.7777777777777778,
              "#fb9f3a"
             ],
             [
              0.8888888888888888,
              "#fdca26"
             ],
             [
              1,
              "#f0f921"
             ]
            ],
            "type": "histogram2dcontour"
           }
          ],
          "mesh3d": [
           {
            "colorbar": {
             "outlinewidth": 0,
             "ticks": ""
            },
            "type": "mesh3d"
           }
          ],
          "parcoords": [
           {
            "line": {
             "colorbar": {
              "outlinewidth": 0,
              "ticks": ""
             }
            },
            "type": "parcoords"
           }
          ],
          "pie": [
           {
            "automargin": true,
            "type": "pie"
           }
          ],
          "scatter": [
           {
            "fillpattern": {
             "fillmode": "overlay",
             "size": 10,
             "solidity": 0.2
            },
            "type": "scatter"
           }
          ],
          "scatter3d": [
           {
            "line": {
             "colorbar": {
              "outlinewidth": 0,
              "ticks": ""
             }
            },
            "marker": {
             "colorbar": {
              "outlinewidth": 0,
              "ticks": ""
             }
            },
            "type": "scatter3d"
           }
          ],
          "scattercarpet": [
           {
            "marker": {
             "colorbar": {
              "outlinewidth": 0,
              "ticks": ""
             }
            },
            "type": "scattercarpet"
           }
          ],
          "scattergeo": [
           {
            "marker": {
             "colorbar": {
              "outlinewidth": 0,
              "ticks": ""
             }
            },
            "type": "scattergeo"
           }
          ],
          "scattergl": [
           {
            "marker": {
             "colorbar": {
              "outlinewidth": 0,
              "ticks": ""
             }
            },
            "type": "scattergl"
           }
          ],
          "scattermapbox": [
           {
            "marker": {
             "colorbar": {
              "outlinewidth": 0,
              "ticks": ""
             }
            },
            "type": "scattermapbox"
           }
          ],
          "scatterpolar": [
           {
            "marker": {
             "colorbar": {
              "outlinewidth": 0,
              "ticks": ""
             }
            },
            "type": "scatterpolar"
           }
          ],
          "scatterpolargl": [
           {
            "marker": {
             "colorbar": {
              "outlinewidth": 0,
              "ticks": ""
             }
            },
            "type": "scatterpolargl"
           }
          ],
          "scatterternary": [
           {
            "marker": {
             "colorbar": {
              "outlinewidth": 0,
              "ticks": ""
             }
            },
            "type": "scatterternary"
           }
          ],
          "surface": [
           {
            "colorbar": {
             "outlinewidth": 0,
             "ticks": ""
            },
            "colorscale": [
             [
              0,
              "#0d0887"
             ],
             [
              0.1111111111111111,
              "#46039f"
             ],
             [
              0.2222222222222222,
              "#7201a8"
             ],
             [
              0.3333333333333333,
              "#9c179e"
             ],
             [
              0.4444444444444444,
              "#bd3786"
             ],
             [
              0.5555555555555556,
              "#d8576b"
             ],
             [
              0.6666666666666666,
              "#ed7953"
             ],
             [
              0.7777777777777778,
              "#fb9f3a"
             ],
             [
              0.8888888888888888,
              "#fdca26"
             ],
             [
              1,
              "#f0f921"
             ]
            ],
            "type": "surface"
           }
          ],
          "table": [
           {
            "cells": {
             "fill": {
              "color": "#EBF0F8"
             },
             "line": {
              "color": "white"
             }
            },
            "header": {
             "fill": {
              "color": "#C8D4E3"
             },
             "line": {
              "color": "white"
             }
            },
            "type": "table"
           }
          ]
         },
         "layout": {
          "annotationdefaults": {
           "arrowcolor": "#2a3f5f",
           "arrowhead": 0,
           "arrowwidth": 1
          },
          "autotypenumbers": "strict",
          "coloraxis": {
           "colorbar": {
            "outlinewidth": 0,
            "ticks": ""
           }
          },
          "colorscale": {
           "diverging": [
            [
             0,
             "#8e0152"
            ],
            [
             0.1,
             "#c51b7d"
            ],
            [
             0.2,
             "#de77ae"
            ],
            [
             0.3,
             "#f1b6da"
            ],
            [
             0.4,
             "#fde0ef"
            ],
            [
             0.5,
             "#f7f7f7"
            ],
            [
             0.6,
             "#e6f5d0"
            ],
            [
             0.7,
             "#b8e186"
            ],
            [
             0.8,
             "#7fbc41"
            ],
            [
             0.9,
             "#4d9221"
            ],
            [
             1,
             "#276419"
            ]
           ],
           "sequential": [
            [
             0,
             "#0d0887"
            ],
            [
             0.1111111111111111,
             "#46039f"
            ],
            [
             0.2222222222222222,
             "#7201a8"
            ],
            [
             0.3333333333333333,
             "#9c179e"
            ],
            [
             0.4444444444444444,
             "#bd3786"
            ],
            [
             0.5555555555555556,
             "#d8576b"
            ],
            [
             0.6666666666666666,
             "#ed7953"
            ],
            [
             0.7777777777777778,
             "#fb9f3a"
            ],
            [
             0.8888888888888888,
             "#fdca26"
            ],
            [
             1,
             "#f0f921"
            ]
           ],
           "sequentialminus": [
            [
             0,
             "#0d0887"
            ],
            [
             0.1111111111111111,
             "#46039f"
            ],
            [
             0.2222222222222222,
             "#7201a8"
            ],
            [
             0.3333333333333333,
             "#9c179e"
            ],
            [
             0.4444444444444444,
             "#bd3786"
            ],
            [
             0.5555555555555556,
             "#d8576b"
            ],
            [
             0.6666666666666666,
             "#ed7953"
            ],
            [
             0.7777777777777778,
             "#fb9f3a"
            ],
            [
             0.8888888888888888,
             "#fdca26"
            ],
            [
             1,
             "#f0f921"
            ]
           ]
          },
          "colorway": [
           "#636efa",
           "#EF553B",
           "#00cc96",
           "#ab63fa",
           "#FFA15A",
           "#19d3f3",
           "#FF6692",
           "#B6E880",
           "#FF97FF",
           "#FECB52"
          ],
          "font": {
           "color": "#2a3f5f"
          },
          "geo": {
           "bgcolor": "white",
           "lakecolor": "white",
           "landcolor": "#E5ECF6",
           "showlakes": true,
           "showland": true,
           "subunitcolor": "white"
          },
          "hoverlabel": {
           "align": "left"
          },
          "hovermode": "closest",
          "mapbox": {
           "style": "light"
          },
          "paper_bgcolor": "white",
          "plot_bgcolor": "#E5ECF6",
          "polar": {
           "angularaxis": {
            "gridcolor": "white",
            "linecolor": "white",
            "ticks": ""
           },
           "bgcolor": "#E5ECF6",
           "radialaxis": {
            "gridcolor": "white",
            "linecolor": "white",
            "ticks": ""
           }
          },
          "scene": {
           "xaxis": {
            "backgroundcolor": "#E5ECF6",
            "gridcolor": "white",
            "gridwidth": 2,
            "linecolor": "white",
            "showbackground": true,
            "ticks": "",
            "zerolinecolor": "white"
           },
           "yaxis": {
            "backgroundcolor": "#E5ECF6",
            "gridcolor": "white",
            "gridwidth": 2,
            "linecolor": "white",
            "showbackground": true,
            "ticks": "",
            "zerolinecolor": "white"
           },
           "zaxis": {
            "backgroundcolor": "#E5ECF6",
            "gridcolor": "white",
            "gridwidth": 2,
            "linecolor": "white",
            "showbackground": true,
            "ticks": "",
            "zerolinecolor": "white"
           }
          },
          "shapedefaults": {
           "line": {
            "color": "#2a3f5f"
           }
          },
          "ternary": {
           "aaxis": {
            "gridcolor": "white",
            "linecolor": "white",
            "ticks": ""
           },
           "baxis": {
            "gridcolor": "white",
            "linecolor": "white",
            "ticks": ""
           },
           "bgcolor": "#E5ECF6",
           "caxis": {
            "gridcolor": "white",
            "linecolor": "white",
            "ticks": ""
           }
          },
          "title": {
           "x": 0.05
          },
          "xaxis": {
           "automargin": true,
           "gridcolor": "white",
           "linecolor": "white",
           "ticks": "",
           "title": {
            "standoff": 15
           },
           "zerolinecolor": "white",
           "zerolinewidth": 2
          },
          "yaxis": {
           "automargin": true,
           "gridcolor": "white",
           "linecolor": "white",
           "ticks": "",
           "title": {
            "standoff": 15
           },
           "zerolinecolor": "white",
           "zerolinewidth": 2
          }
         }
        },
        "title": {
         "text": "Slice Plot"
        },
        "width": 1200,
        "xaxis": {
         "anchor": "y",
         "domain": [
          0,
          0.2125
         ],
         "title": {
          "text": "C"
         },
         "type": "log"
        },
        "xaxis2": {
         "anchor": "y2",
         "domain": [
          0.2625,
          0.475
         ],
         "title": {
          "text": "max_iter"
         }
        },
        "xaxis3": {
         "anchor": "y3",
         "categoryarray": [
          "l1",
          "l2"
         ],
         "categoryorder": "array",
         "domain": [
          0.525,
          0.7375
         ],
         "title": {
          "text": "penalty"
         },
         "type": "category"
        },
        "xaxis4": {
         "anchor": "y4",
         "categoryarray": [
          "liblinear",
          "saga"
         ],
         "categoryorder": "array",
         "domain": [
          0.7875,
          1
         ],
         "title": {
          "text": "solver"
         },
         "type": "category"
        },
        "yaxis": {
         "anchor": "x",
         "domain": [
          0,
          1
         ],
         "title": {
          "text": "Objective Value"
         }
        },
        "yaxis2": {
         "anchor": "x2",
         "domain": [
          0,
          1
         ],
         "matches": "y",
         "showticklabels": false
        },
        "yaxis3": {
         "anchor": "x3",
         "domain": [
          0,
          1
         ],
         "matches": "y",
         "showticklabels": false
        },
        "yaxis4": {
         "anchor": "x4",
         "domain": [
          0,
          1
         ],
         "matches": "y",
         "showticklabels": false
        }
       }
      }
     },
     "metadata": {},
     "output_type": "display_data"
    }
   ],
   "source": [
    "optuna.visualization.plot_slice(study, params=['penalty', 'C', 'max_iter', 'solver'])"
   ]
  },
  {
   "cell_type": "code",
   "execution_count": 27,
   "metadata": {},
   "outputs": [
    {
     "data": {
      "application/vnd.plotly.v1+json": {
       "config": {
        "plotlyServerURL": "https://plot.ly"
       },
       "data": [
        {
         "cliponaxis": false,
         "hovertemplate": [
          "solver (CategoricalDistribution): 0.0002945916204794551<extra></extra>",
          "max_iter (IntDistribution): 0.00238136359442007<extra></extra>",
          "penalty (CategoricalDistribution): 0.31603214274375857<extra></extra>",
          "C (FloatDistribution): 0.6812919020413419<extra></extra>"
         ],
         "name": "Objective Value",
         "orientation": "h",
         "text": [
          "<0.01",
          "<0.01",
          "0.32",
          "0.68"
         ],
         "textposition": "outside",
         "type": "bar",
         "x": [
          0.0002945916204794551,
          0.00238136359442007,
          0.31603214274375857,
          0.6812919020413419
         ],
         "y": [
          "solver",
          "max_iter",
          "penalty",
          "C"
         ]
        }
       ],
       "layout": {
        "template": {
         "data": {
          "bar": [
           {
            "error_x": {
             "color": "#2a3f5f"
            },
            "error_y": {
             "color": "#2a3f5f"
            },
            "marker": {
             "line": {
              "color": "#E5ECF6",
              "width": 0.5
             },
             "pattern": {
              "fillmode": "overlay",
              "size": 10,
              "solidity": 0.2
             }
            },
            "type": "bar"
           }
          ],
          "barpolar": [
           {
            "marker": {
             "line": {
              "color": "#E5ECF6",
              "width": 0.5
             },
             "pattern": {
              "fillmode": "overlay",
              "size": 10,
              "solidity": 0.2
             }
            },
            "type": "barpolar"
           }
          ],
          "carpet": [
           {
            "aaxis": {
             "endlinecolor": "#2a3f5f",
             "gridcolor": "white",
             "linecolor": "white",
             "minorgridcolor": "white",
             "startlinecolor": "#2a3f5f"
            },
            "baxis": {
             "endlinecolor": "#2a3f5f",
             "gridcolor": "white",
             "linecolor": "white",
             "minorgridcolor": "white",
             "startlinecolor": "#2a3f5f"
            },
            "type": "carpet"
           }
          ],
          "choropleth": [
           {
            "colorbar": {
             "outlinewidth": 0,
             "ticks": ""
            },
            "type": "choropleth"
           }
          ],
          "contour": [
           {
            "colorbar": {
             "outlinewidth": 0,
             "ticks": ""
            },
            "colorscale": [
             [
              0,
              "#0d0887"
             ],
             [
              0.1111111111111111,
              "#46039f"
             ],
             [
              0.2222222222222222,
              "#7201a8"
             ],
             [
              0.3333333333333333,
              "#9c179e"
             ],
             [
              0.4444444444444444,
              "#bd3786"
             ],
             [
              0.5555555555555556,
              "#d8576b"
             ],
             [
              0.6666666666666666,
              "#ed7953"
             ],
             [
              0.7777777777777778,
              "#fb9f3a"
             ],
             [
              0.8888888888888888,
              "#fdca26"
             ],
             [
              1,
              "#f0f921"
             ]
            ],
            "type": "contour"
           }
          ],
          "contourcarpet": [
           {
            "colorbar": {
             "outlinewidth": 0,
             "ticks": ""
            },
            "type": "contourcarpet"
           }
          ],
          "heatmap": [
           {
            "colorbar": {
             "outlinewidth": 0,
             "ticks": ""
            },
            "colorscale": [
             [
              0,
              "#0d0887"
             ],
             [
              0.1111111111111111,
              "#46039f"
             ],
             [
              0.2222222222222222,
              "#7201a8"
             ],
             [
              0.3333333333333333,
              "#9c179e"
             ],
             [
              0.4444444444444444,
              "#bd3786"
             ],
             [
              0.5555555555555556,
              "#d8576b"
             ],
             [
              0.6666666666666666,
              "#ed7953"
             ],
             [
              0.7777777777777778,
              "#fb9f3a"
             ],
             [
              0.8888888888888888,
              "#fdca26"
             ],
             [
              1,
              "#f0f921"
             ]
            ],
            "type": "heatmap"
           }
          ],
          "heatmapgl": [
           {
            "colorbar": {
             "outlinewidth": 0,
             "ticks": ""
            },
            "colorscale": [
             [
              0,
              "#0d0887"
             ],
             [
              0.1111111111111111,
              "#46039f"
             ],
             [
              0.2222222222222222,
              "#7201a8"
             ],
             [
              0.3333333333333333,
              "#9c179e"
             ],
             [
              0.4444444444444444,
              "#bd3786"
             ],
             [
              0.5555555555555556,
              "#d8576b"
             ],
             [
              0.6666666666666666,
              "#ed7953"
             ],
             [
              0.7777777777777778,
              "#fb9f3a"
             ],
             [
              0.8888888888888888,
              "#fdca26"
             ],
             [
              1,
              "#f0f921"
             ]
            ],
            "type": "heatmapgl"
           }
          ],
          "histogram": [
           {
            "marker": {
             "pattern": {
              "fillmode": "overlay",
              "size": 10,
              "solidity": 0.2
             }
            },
            "type": "histogram"
           }
          ],
          "histogram2d": [
           {
            "colorbar": {
             "outlinewidth": 0,
             "ticks": ""
            },
            "colorscale": [
             [
              0,
              "#0d0887"
             ],
             [
              0.1111111111111111,
              "#46039f"
             ],
             [
              0.2222222222222222,
              "#7201a8"
             ],
             [
              0.3333333333333333,
              "#9c179e"
             ],
             [
              0.4444444444444444,
              "#bd3786"
             ],
             [
              0.5555555555555556,
              "#d8576b"
             ],
             [
              0.6666666666666666,
              "#ed7953"
             ],
             [
              0.7777777777777778,
              "#fb9f3a"
             ],
             [
              0.8888888888888888,
              "#fdca26"
             ],
             [
              1,
              "#f0f921"
             ]
            ],
            "type": "histogram2d"
           }
          ],
          "histogram2dcontour": [
           {
            "colorbar": {
             "outlinewidth": 0,
             "ticks": ""
            },
            "colorscale": [
             [
              0,
              "#0d0887"
             ],
             [
              0.1111111111111111,
              "#46039f"
             ],
             [
              0.2222222222222222,
              "#7201a8"
             ],
             [
              0.3333333333333333,
              "#9c179e"
             ],
             [
              0.4444444444444444,
              "#bd3786"
             ],
             [
              0.5555555555555556,
              "#d8576b"
             ],
             [
              0.6666666666666666,
              "#ed7953"
             ],
             [
              0.7777777777777778,
              "#fb9f3a"
             ],
             [
              0.8888888888888888,
              "#fdca26"
             ],
             [
              1,
              "#f0f921"
             ]
            ],
            "type": "histogram2dcontour"
           }
          ],
          "mesh3d": [
           {
            "colorbar": {
             "outlinewidth": 0,
             "ticks": ""
            },
            "type": "mesh3d"
           }
          ],
          "parcoords": [
           {
            "line": {
             "colorbar": {
              "outlinewidth": 0,
              "ticks": ""
             }
            },
            "type": "parcoords"
           }
          ],
          "pie": [
           {
            "automargin": true,
            "type": "pie"
           }
          ],
          "scatter": [
           {
            "fillpattern": {
             "fillmode": "overlay",
             "size": 10,
             "solidity": 0.2
            },
            "type": "scatter"
           }
          ],
          "scatter3d": [
           {
            "line": {
             "colorbar": {
              "outlinewidth": 0,
              "ticks": ""
             }
            },
            "marker": {
             "colorbar": {
              "outlinewidth": 0,
              "ticks": ""
             }
            },
            "type": "scatter3d"
           }
          ],
          "scattercarpet": [
           {
            "marker": {
             "colorbar": {
              "outlinewidth": 0,
              "ticks": ""
             }
            },
            "type": "scattercarpet"
           }
          ],
          "scattergeo": [
           {
            "marker": {
             "colorbar": {
              "outlinewidth": 0,
              "ticks": ""
             }
            },
            "type": "scattergeo"
           }
          ],
          "scattergl": [
           {
            "marker": {
             "colorbar": {
              "outlinewidth": 0,
              "ticks": ""
             }
            },
            "type": "scattergl"
           }
          ],
          "scattermapbox": [
           {
            "marker": {
             "colorbar": {
              "outlinewidth": 0,
              "ticks": ""
             }
            },
            "type": "scattermapbox"
           }
          ],
          "scatterpolar": [
           {
            "marker": {
             "colorbar": {
              "outlinewidth": 0,
              "ticks": ""
             }
            },
            "type": "scatterpolar"
           }
          ],
          "scatterpolargl": [
           {
            "marker": {
             "colorbar": {
              "outlinewidth": 0,
              "ticks": ""
             }
            },
            "type": "scatterpolargl"
           }
          ],
          "scatterternary": [
           {
            "marker": {
             "colorbar": {
              "outlinewidth": 0,
              "ticks": ""
             }
            },
            "type": "scatterternary"
           }
          ],
          "surface": [
           {
            "colorbar": {
             "outlinewidth": 0,
             "ticks": ""
            },
            "colorscale": [
             [
              0,
              "#0d0887"
             ],
             [
              0.1111111111111111,
              "#46039f"
             ],
             [
              0.2222222222222222,
              "#7201a8"
             ],
             [
              0.3333333333333333,
              "#9c179e"
             ],
             [
              0.4444444444444444,
              "#bd3786"
             ],
             [
              0.5555555555555556,
              "#d8576b"
             ],
             [
              0.6666666666666666,
              "#ed7953"
             ],
             [
              0.7777777777777778,
              "#fb9f3a"
             ],
             [
              0.8888888888888888,
              "#fdca26"
             ],
             [
              1,
              "#f0f921"
             ]
            ],
            "type": "surface"
           }
          ],
          "table": [
           {
            "cells": {
             "fill": {
              "color": "#EBF0F8"
             },
             "line": {
              "color": "white"
             }
            },
            "header": {
             "fill": {
              "color": "#C8D4E3"
             },
             "line": {
              "color": "white"
             }
            },
            "type": "table"
           }
          ]
         },
         "layout": {
          "annotationdefaults": {
           "arrowcolor": "#2a3f5f",
           "arrowhead": 0,
           "arrowwidth": 1
          },
          "autotypenumbers": "strict",
          "coloraxis": {
           "colorbar": {
            "outlinewidth": 0,
            "ticks": ""
           }
          },
          "colorscale": {
           "diverging": [
            [
             0,
             "#8e0152"
            ],
            [
             0.1,
             "#c51b7d"
            ],
            [
             0.2,
             "#de77ae"
            ],
            [
             0.3,
             "#f1b6da"
            ],
            [
             0.4,
             "#fde0ef"
            ],
            [
             0.5,
             "#f7f7f7"
            ],
            [
             0.6,
             "#e6f5d0"
            ],
            [
             0.7,
             "#b8e186"
            ],
            [
             0.8,
             "#7fbc41"
            ],
            [
             0.9,
             "#4d9221"
            ],
            [
             1,
             "#276419"
            ]
           ],
           "sequential": [
            [
             0,
             "#0d0887"
            ],
            [
             0.1111111111111111,
             "#46039f"
            ],
            [
             0.2222222222222222,
             "#7201a8"
            ],
            [
             0.3333333333333333,
             "#9c179e"
            ],
            [
             0.4444444444444444,
             "#bd3786"
            ],
            [
             0.5555555555555556,
             "#d8576b"
            ],
            [
             0.6666666666666666,
             "#ed7953"
            ],
            [
             0.7777777777777778,
             "#fb9f3a"
            ],
            [
             0.8888888888888888,
             "#fdca26"
            ],
            [
             1,
             "#f0f921"
            ]
           ],
           "sequentialminus": [
            [
             0,
             "#0d0887"
            ],
            [
             0.1111111111111111,
             "#46039f"
            ],
            [
             0.2222222222222222,
             "#7201a8"
            ],
            [
             0.3333333333333333,
             "#9c179e"
            ],
            [
             0.4444444444444444,
             "#bd3786"
            ],
            [
             0.5555555555555556,
             "#d8576b"
            ],
            [
             0.6666666666666666,
             "#ed7953"
            ],
            [
             0.7777777777777778,
             "#fb9f3a"
            ],
            [
             0.8888888888888888,
             "#fdca26"
            ],
            [
             1,
             "#f0f921"
            ]
           ]
          },
          "colorway": [
           "#636efa",
           "#EF553B",
           "#00cc96",
           "#ab63fa",
           "#FFA15A",
           "#19d3f3",
           "#FF6692",
           "#B6E880",
           "#FF97FF",
           "#FECB52"
          ],
          "font": {
           "color": "#2a3f5f"
          },
          "geo": {
           "bgcolor": "white",
           "lakecolor": "white",
           "landcolor": "#E5ECF6",
           "showlakes": true,
           "showland": true,
           "subunitcolor": "white"
          },
          "hoverlabel": {
           "align": "left"
          },
          "hovermode": "closest",
          "mapbox": {
           "style": "light"
          },
          "paper_bgcolor": "white",
          "plot_bgcolor": "#E5ECF6",
          "polar": {
           "angularaxis": {
            "gridcolor": "white",
            "linecolor": "white",
            "ticks": ""
           },
           "bgcolor": "#E5ECF6",
           "radialaxis": {
            "gridcolor": "white",
            "linecolor": "white",
            "ticks": ""
           }
          },
          "scene": {
           "xaxis": {
            "backgroundcolor": "#E5ECF6",
            "gridcolor": "white",
            "gridwidth": 2,
            "linecolor": "white",
            "showbackground": true,
            "ticks": "",
            "zerolinecolor": "white"
           },
           "yaxis": {
            "backgroundcolor": "#E5ECF6",
            "gridcolor": "white",
            "gridwidth": 2,
            "linecolor": "white",
            "showbackground": true,
            "ticks": "",
            "zerolinecolor": "white"
           },
           "zaxis": {
            "backgroundcolor": "#E5ECF6",
            "gridcolor": "white",
            "gridwidth": 2,
            "linecolor": "white",
            "showbackground": true,
            "ticks": "",
            "zerolinecolor": "white"
           }
          },
          "shapedefaults": {
           "line": {
            "color": "#2a3f5f"
           }
          },
          "ternary": {
           "aaxis": {
            "gridcolor": "white",
            "linecolor": "white",
            "ticks": ""
           },
           "baxis": {
            "gridcolor": "white",
            "linecolor": "white",
            "ticks": ""
           },
           "bgcolor": "#E5ECF6",
           "caxis": {
            "gridcolor": "white",
            "linecolor": "white",
            "ticks": ""
           }
          },
          "title": {
           "x": 0.05
          },
          "xaxis": {
           "automargin": true,
           "gridcolor": "white",
           "linecolor": "white",
           "ticks": "",
           "title": {
            "standoff": 15
           },
           "zerolinecolor": "white",
           "zerolinewidth": 2
          },
          "yaxis": {
           "automargin": true,
           "gridcolor": "white",
           "linecolor": "white",
           "ticks": "",
           "title": {
            "standoff": 15
           },
           "zerolinecolor": "white",
           "zerolinewidth": 2
          }
         }
        },
        "title": {
         "text": "Hyperparameter Importances"
        },
        "xaxis": {
         "title": {
          "text": "Hyperparameter Importance"
         }
        },
        "yaxis": {
         "title": {
          "text": "Hyperparameter"
         }
        }
       }
      }
     },
     "metadata": {},
     "output_type": "display_data"
    }
   ],
   "source": [
    "optuna.visualization.plot_param_importances(study)"
   ]
  },
  {
   "cell_type": "code",
   "execution_count": 28,
   "metadata": {},
   "outputs": [
    {
     "data": {
      "application/vnd.plotly.v1+json": {
       "config": {
        "plotlyServerURL": "https://plot.ly"
       },
       "data": [
        {
         "mode": "lines",
         "name": "no-name-937e92cb-3fc6-4eac-9632-d9a8ba64eeeb",
         "type": "scatter",
         "x": [
          0.7115256495669554,
          0.7118890436678579,
          0.7122524377687602,
          0.7126158318696627,
          0.7129792259705652,
          0.7133426200714675,
          0.71370601417237,
          0.7140694082732724,
          0.7144328023741748,
          0.7147961964750773,
          0.7151595905759797,
          0.7155229846768821,
          0.7158863787777846,
          0.716249772878687,
          0.7166131669795894,
          0.7169765610804918,
          0.7173399551813943,
          0.7177033492822967,
          0.7180667433831991,
          0.7184301374841016,
          0.718793531585004,
          0.7191569256859064,
          0.7195203197868089,
          0.7198837138877112,
          0.7202471079886137,
          0.7206105020895162,
          0.7209738961904185,
          0.721337290291321,
          0.7217006843922235,
          0.7220640784931258,
          0.7224274725940283,
          0.7227908666949306,
          0.7231542607958331,
          0.7235176548967356,
          0.7238810489976379,
          0.7242444430985404,
          0.7246078371994429,
          0.7249712313003452,
          0.7253346254012477,
          0.7256980195021501,
          0.7260614136030525,
          0.726424807703955,
          0.7267882018048574,
          0.7271515959057598,
          0.7275149900066623,
          0.7278783841075647,
          0.7282417782084671,
          0.7286051723093695,
          0.728968566410272,
          0.7293319605111744,
          0.7296953546120768,
          0.7300587487129793,
          0.7304221428138817,
          0.7307855369147841,
          0.7311489310156866,
          0.7315123251165889,
          0.7318757192174914,
          0.7322391133183939,
          0.7326025074192962,
          0.7329659015201987,
          0.7333292956211012,
          0.7336926897220035,
          0.734056083822906,
          0.7344194779238084,
          0.7347828720247108,
          0.7351462661256133,
          0.7355096602265156,
          0.7358730543274181,
          0.7362364484283206,
          0.736599842529223,
          0.7369632366301254,
          0.7373266307310278,
          0.7376900248319302,
          0.7380534189328327,
          0.7384168130337351,
          0.7387802071346375,
          0.73914360123554,
          0.7395069953364424,
          0.7398703894373448,
          0.7402337835382473,
          0.7405971776391497,
          0.7409605717400521,
          0.7413239658409545,
          0.741687359941857,
          0.7420507540427594,
          0.7424141481436618,
          0.7427775422445643,
          0.7431409363454666,
          0.7435043304463691,
          0.7438677245472716,
          0.7442311186481739,
          0.7445945127490764,
          0.7449579068499789,
          0.7453213009508812,
          0.7456846950517837,
          0.7460480891526862,
          0.7464114832535885,
          0.746774877354491,
          0.7471382714553934,
          0.7475016655562958
         ],
         "y": [
          0.005,
          0.005,
          0.005,
          0.005,
          0.005,
          0.005,
          0.005,
          0.005,
          0.005,
          0.005,
          0.005,
          0.01,
          0.015,
          0.02,
          0.02,
          0.02,
          0.02,
          0.02,
          0.02,
          0.025,
          0.025,
          0.025,
          0.025,
          0.025,
          0.025,
          0.025,
          0.025,
          0.025,
          0.025,
          0.035,
          0.035,
          0.04,
          0.04,
          0.045,
          0.055,
          0.06,
          0.075,
          0.075,
          0.08,
          0.085,
          0.09,
          0.1,
          0.1,
          0.1,
          0.125,
          0.125,
          0.13,
          0.13,
          0.135,
          0.135,
          0.135,
          0.135,
          0.145,
          0.145,
          0.145,
          0.15,
          0.155,
          0.155,
          0.155,
          0.16,
          0.16,
          0.165,
          0.17,
          0.17,
          0.185,
          0.185,
          0.19,
          0.19,
          0.195,
          0.2,
          0.2,
          0.2,
          0.2,
          0.2,
          0.205,
          0.21,
          0.22,
          0.26,
          0.285,
          0.3,
          0.305,
          0.335,
          0.385,
          0.435,
          0.51,
          0.555,
          0.6,
          0.625,
          0.635,
          0.65,
          0.675,
          0.685,
          0.7,
          0.735,
          0.79,
          0.805,
          0.81,
          0.885,
          0.96,
          1
         ]
        }
       ],
       "layout": {
        "template": {
         "data": {
          "bar": [
           {
            "error_x": {
             "color": "#2a3f5f"
            },
            "error_y": {
             "color": "#2a3f5f"
            },
            "marker": {
             "line": {
              "color": "#E5ECF6",
              "width": 0.5
             },
             "pattern": {
              "fillmode": "overlay",
              "size": 10,
              "solidity": 0.2
             }
            },
            "type": "bar"
           }
          ],
          "barpolar": [
           {
            "marker": {
             "line": {
              "color": "#E5ECF6",
              "width": 0.5
             },
             "pattern": {
              "fillmode": "overlay",
              "size": 10,
              "solidity": 0.2
             }
            },
            "type": "barpolar"
           }
          ],
          "carpet": [
           {
            "aaxis": {
             "endlinecolor": "#2a3f5f",
             "gridcolor": "white",
             "linecolor": "white",
             "minorgridcolor": "white",
             "startlinecolor": "#2a3f5f"
            },
            "baxis": {
             "endlinecolor": "#2a3f5f",
             "gridcolor": "white",
             "linecolor": "white",
             "minorgridcolor": "white",
             "startlinecolor": "#2a3f5f"
            },
            "type": "carpet"
           }
          ],
          "choropleth": [
           {
            "colorbar": {
             "outlinewidth": 0,
             "ticks": ""
            },
            "type": "choropleth"
           }
          ],
          "contour": [
           {
            "colorbar": {
             "outlinewidth": 0,
             "ticks": ""
            },
            "colorscale": [
             [
              0,
              "#0d0887"
             ],
             [
              0.1111111111111111,
              "#46039f"
             ],
             [
              0.2222222222222222,
              "#7201a8"
             ],
             [
              0.3333333333333333,
              "#9c179e"
             ],
             [
              0.4444444444444444,
              "#bd3786"
             ],
             [
              0.5555555555555556,
              "#d8576b"
             ],
             [
              0.6666666666666666,
              "#ed7953"
             ],
             [
              0.7777777777777778,
              "#fb9f3a"
             ],
             [
              0.8888888888888888,
              "#fdca26"
             ],
             [
              1,
              "#f0f921"
             ]
            ],
            "type": "contour"
           }
          ],
          "contourcarpet": [
           {
            "colorbar": {
             "outlinewidth": 0,
             "ticks": ""
            },
            "type": "contourcarpet"
           }
          ],
          "heatmap": [
           {
            "colorbar": {
             "outlinewidth": 0,
             "ticks": ""
            },
            "colorscale": [
             [
              0,
              "#0d0887"
             ],
             [
              0.1111111111111111,
              "#46039f"
             ],
             [
              0.2222222222222222,
              "#7201a8"
             ],
             [
              0.3333333333333333,
              "#9c179e"
             ],
             [
              0.4444444444444444,
              "#bd3786"
             ],
             [
              0.5555555555555556,
              "#d8576b"
             ],
             [
              0.6666666666666666,
              "#ed7953"
             ],
             [
              0.7777777777777778,
              "#fb9f3a"
             ],
             [
              0.8888888888888888,
              "#fdca26"
             ],
             [
              1,
              "#f0f921"
             ]
            ],
            "type": "heatmap"
           }
          ],
          "heatmapgl": [
           {
            "colorbar": {
             "outlinewidth": 0,
             "ticks": ""
            },
            "colorscale": [
             [
              0,
              "#0d0887"
             ],
             [
              0.1111111111111111,
              "#46039f"
             ],
             [
              0.2222222222222222,
              "#7201a8"
             ],
             [
              0.3333333333333333,
              "#9c179e"
             ],
             [
              0.4444444444444444,
              "#bd3786"
             ],
             [
              0.5555555555555556,
              "#d8576b"
             ],
             [
              0.6666666666666666,
              "#ed7953"
             ],
             [
              0.7777777777777778,
              "#fb9f3a"
             ],
             [
              0.8888888888888888,
              "#fdca26"
             ],
             [
              1,
              "#f0f921"
             ]
            ],
            "type": "heatmapgl"
           }
          ],
          "histogram": [
           {
            "marker": {
             "pattern": {
              "fillmode": "overlay",
              "size": 10,
              "solidity": 0.2
             }
            },
            "type": "histogram"
           }
          ],
          "histogram2d": [
           {
            "colorbar": {
             "outlinewidth": 0,
             "ticks": ""
            },
            "colorscale": [
             [
              0,
              "#0d0887"
             ],
             [
              0.1111111111111111,
              "#46039f"
             ],
             [
              0.2222222222222222,
              "#7201a8"
             ],
             [
              0.3333333333333333,
              "#9c179e"
             ],
             [
              0.4444444444444444,
              "#bd3786"
             ],
             [
              0.5555555555555556,
              "#d8576b"
             ],
             [
              0.6666666666666666,
              "#ed7953"
             ],
             [
              0.7777777777777778,
              "#fb9f3a"
             ],
             [
              0.8888888888888888,
              "#fdca26"
             ],
             [
              1,
              "#f0f921"
             ]
            ],
            "type": "histogram2d"
           }
          ],
          "histogram2dcontour": [
           {
            "colorbar": {
             "outlinewidth": 0,
             "ticks": ""
            },
            "colorscale": [
             [
              0,
              "#0d0887"
             ],
             [
              0.1111111111111111,
              "#46039f"
             ],
             [
              0.2222222222222222,
              "#7201a8"
             ],
             [
              0.3333333333333333,
              "#9c179e"
             ],
             [
              0.4444444444444444,
              "#bd3786"
             ],
             [
              0.5555555555555556,
              "#d8576b"
             ],
             [
              0.6666666666666666,
              "#ed7953"
             ],
             [
              0.7777777777777778,
              "#fb9f3a"
             ],
             [
              0.8888888888888888,
              "#fdca26"
             ],
             [
              1,
              "#f0f921"
             ]
            ],
            "type": "histogram2dcontour"
           }
          ],
          "mesh3d": [
           {
            "colorbar": {
             "outlinewidth": 0,
             "ticks": ""
            },
            "type": "mesh3d"
           }
          ],
          "parcoords": [
           {
            "line": {
             "colorbar": {
              "outlinewidth": 0,
              "ticks": ""
             }
            },
            "type": "parcoords"
           }
          ],
          "pie": [
           {
            "automargin": true,
            "type": "pie"
           }
          ],
          "scatter": [
           {
            "fillpattern": {
             "fillmode": "overlay",
             "size": 10,
             "solidity": 0.2
            },
            "type": "scatter"
           }
          ],
          "scatter3d": [
           {
            "line": {
             "colorbar": {
              "outlinewidth": 0,
              "ticks": ""
             }
            },
            "marker": {
             "colorbar": {
              "outlinewidth": 0,
              "ticks": ""
             }
            },
            "type": "scatter3d"
           }
          ],
          "scattercarpet": [
           {
            "marker": {
             "colorbar": {
              "outlinewidth": 0,
              "ticks": ""
             }
            },
            "type": "scattercarpet"
           }
          ],
          "scattergeo": [
           {
            "marker": {
             "colorbar": {
              "outlinewidth": 0,
              "ticks": ""
             }
            },
            "type": "scattergeo"
           }
          ],
          "scattergl": [
           {
            "marker": {
             "colorbar": {
              "outlinewidth": 0,
              "ticks": ""
             }
            },
            "type": "scattergl"
           }
          ],
          "scattermapbox": [
           {
            "marker": {
             "colorbar": {
              "outlinewidth": 0,
              "ticks": ""
             }
            },
            "type": "scattermapbox"
           }
          ],
          "scatterpolar": [
           {
            "marker": {
             "colorbar": {
              "outlinewidth": 0,
              "ticks": ""
             }
            },
            "type": "scatterpolar"
           }
          ],
          "scatterpolargl": [
           {
            "marker": {
             "colorbar": {
              "outlinewidth": 0,
              "ticks": ""
             }
            },
            "type": "scatterpolargl"
           }
          ],
          "scatterternary": [
           {
            "marker": {
             "colorbar": {
              "outlinewidth": 0,
              "ticks": ""
             }
            },
            "type": "scatterternary"
           }
          ],
          "surface": [
           {
            "colorbar": {
             "outlinewidth": 0,
             "ticks": ""
            },
            "colorscale": [
             [
              0,
              "#0d0887"
             ],
             [
              0.1111111111111111,
              "#46039f"
             ],
             [
              0.2222222222222222,
              "#7201a8"
             ],
             [
              0.3333333333333333,
              "#9c179e"
             ],
             [
              0.4444444444444444,
              "#bd3786"
             ],
             [
              0.5555555555555556,
              "#d8576b"
             ],
             [
              0.6666666666666666,
              "#ed7953"
             ],
             [
              0.7777777777777778,
              "#fb9f3a"
             ],
             [
              0.8888888888888888,
              "#fdca26"
             ],
             [
              1,
              "#f0f921"
             ]
            ],
            "type": "surface"
           }
          ],
          "table": [
           {
            "cells": {
             "fill": {
              "color": "#EBF0F8"
             },
             "line": {
              "color": "white"
             }
            },
            "header": {
             "fill": {
              "color": "#C8D4E3"
             },
             "line": {
              "color": "white"
             }
            },
            "type": "table"
           }
          ]
         },
         "layout": {
          "annotationdefaults": {
           "arrowcolor": "#2a3f5f",
           "arrowhead": 0,
           "arrowwidth": 1
          },
          "autotypenumbers": "strict",
          "coloraxis": {
           "colorbar": {
            "outlinewidth": 0,
            "ticks": ""
           }
          },
          "colorscale": {
           "diverging": [
            [
             0,
             "#8e0152"
            ],
            [
             0.1,
             "#c51b7d"
            ],
            [
             0.2,
             "#de77ae"
            ],
            [
             0.3,
             "#f1b6da"
            ],
            [
             0.4,
             "#fde0ef"
            ],
            [
             0.5,
             "#f7f7f7"
            ],
            [
             0.6,
             "#e6f5d0"
            ],
            [
             0.7,
             "#b8e186"
            ],
            [
             0.8,
             "#7fbc41"
            ],
            [
             0.9,
             "#4d9221"
            ],
            [
             1,
             "#276419"
            ]
           ],
           "sequential": [
            [
             0,
             "#0d0887"
            ],
            [
             0.1111111111111111,
             "#46039f"
            ],
            [
             0.2222222222222222,
             "#7201a8"
            ],
            [
             0.3333333333333333,
             "#9c179e"
            ],
            [
             0.4444444444444444,
             "#bd3786"
            ],
            [
             0.5555555555555556,
             "#d8576b"
            ],
            [
             0.6666666666666666,
             "#ed7953"
            ],
            [
             0.7777777777777778,
             "#fb9f3a"
            ],
            [
             0.8888888888888888,
             "#fdca26"
            ],
            [
             1,
             "#f0f921"
            ]
           ],
           "sequentialminus": [
            [
             0,
             "#0d0887"
            ],
            [
             0.1111111111111111,
             "#46039f"
            ],
            [
             0.2222222222222222,
             "#7201a8"
            ],
            [
             0.3333333333333333,
             "#9c179e"
            ],
            [
             0.4444444444444444,
             "#bd3786"
            ],
            [
             0.5555555555555556,
             "#d8576b"
            ],
            [
             0.6666666666666666,
             "#ed7953"
            ],
            [
             0.7777777777777778,
             "#fb9f3a"
            ],
            [
             0.8888888888888888,
             "#fdca26"
            ],
            [
             1,
             "#f0f921"
            ]
           ]
          },
          "colorway": [
           "#636efa",
           "#EF553B",
           "#00cc96",
           "#ab63fa",
           "#FFA15A",
           "#19d3f3",
           "#FF6692",
           "#B6E880",
           "#FF97FF",
           "#FECB52"
          ],
          "font": {
           "color": "#2a3f5f"
          },
          "geo": {
           "bgcolor": "white",
           "lakecolor": "white",
           "landcolor": "#E5ECF6",
           "showlakes": true,
           "showland": true,
           "subunitcolor": "white"
          },
          "hoverlabel": {
           "align": "left"
          },
          "hovermode": "closest",
          "mapbox": {
           "style": "light"
          },
          "paper_bgcolor": "white",
          "plot_bgcolor": "#E5ECF6",
          "polar": {
           "angularaxis": {
            "gridcolor": "white",
            "linecolor": "white",
            "ticks": ""
           },
           "bgcolor": "#E5ECF6",
           "radialaxis": {
            "gridcolor": "white",
            "linecolor": "white",
            "ticks": ""
           }
          },
          "scene": {
           "xaxis": {
            "backgroundcolor": "#E5ECF6",
            "gridcolor": "white",
            "gridwidth": 2,
            "linecolor": "white",
            "showbackground": true,
            "ticks": "",
            "zerolinecolor": "white"
           },
           "yaxis": {
            "backgroundcolor": "#E5ECF6",
            "gridcolor": "white",
            "gridwidth": 2,
            "linecolor": "white",
            "showbackground": true,
            "ticks": "",
            "zerolinecolor": "white"
           },
           "zaxis": {
            "backgroundcolor": "#E5ECF6",
            "gridcolor": "white",
            "gridwidth": 2,
            "linecolor": "white",
            "showbackground": true,
            "ticks": "",
            "zerolinecolor": "white"
           }
          },
          "shapedefaults": {
           "line": {
            "color": "#2a3f5f"
           }
          },
          "ternary": {
           "aaxis": {
            "gridcolor": "white",
            "linecolor": "white",
            "ticks": ""
           },
           "baxis": {
            "gridcolor": "white",
            "linecolor": "white",
            "ticks": ""
           },
           "bgcolor": "#E5ECF6",
           "caxis": {
            "gridcolor": "white",
            "linecolor": "white",
            "ticks": ""
           }
          },
          "title": {
           "x": 0.05
          },
          "xaxis": {
           "automargin": true,
           "gridcolor": "white",
           "linecolor": "white",
           "ticks": "",
           "title": {
            "standoff": 15
           },
           "zerolinecolor": "white",
           "zerolinewidth": 2
          },
          "yaxis": {
           "automargin": true,
           "gridcolor": "white",
           "linecolor": "white",
           "ticks": "",
           "title": {
            "standoff": 15
           },
           "zerolinecolor": "white",
           "zerolinewidth": 2
          }
         }
        },
        "title": {
         "text": "Empirical Distribution Function Plot"
        },
        "xaxis": {
         "title": {
          "text": "Objective Value"
         }
        },
        "yaxis": {
         "range": [
          0,
          1
         ],
         "title": {
          "text": "Cumulative Probability"
         }
        }
       }
      }
     },
     "metadata": {},
     "output_type": "display_data"
    }
   ],
   "source": [
    "optuna.visualization.plot_edf(study)"
   ]
  },
  {
   "cell_type": "markdown",
   "metadata": {},
   "source": [
    "Enlarge 'C' range and add elasticnet parameter (comes with l1_ratio)"
   ]
  },
  {
   "cell_type": "code",
   "execution_count": 29,
   "metadata": {},
   "outputs": [],
   "source": [
    "def objective(trial):\n",
    "    # Define the hyperparameters to optimize\n",
    "    l1_ratio = trial.suggest_uniform('l1_ratio', 0, 1)\n",
    "    penalty = trial.suggest_categorical('penalty', ['elasticnet'])\n",
    "    C = trial.suggest_loguniform('C', 0.01, 100.0)\n",
    "    max_iter = trial.suggest_int('max_iter', 100, 1000)\n",
    "    solver= trial.suggest_categorical('solver', ['saga'])\n",
    "    \n",
    "    # Create the logistic regression model with the hyperparameters\n",
    "    model = LogisticRegression(penalty=penalty, C=C, max_iter=max_iter,\n",
    "     solver=solver, l1_ratio=l1_ratio, random_state=seed)\n",
    "    \n",
    "    # Train the model\n",
    "    model.fit(X_train, y_train)\n",
    "    \n",
    "    # Make predictions on the test set\n",
    "    y_pred = model.predict(X_test)\n",
    "    \n",
    "    # Calculate the accuracy score\n",
    "    accuracy = accuracy_score(y_test, y_pred)\n",
    "    #score_cross_val = cross_val_score(model, X_train, y_train, cv=5, scoring='precision')\n",
    "\n",
    "    \n",
    "    return accuracy"
   ]
  },
  {
   "cell_type": "code",
   "execution_count": 30,
   "metadata": {},
   "outputs": [
    {
     "name": "stderr",
     "output_type": "stream",
     "text": [
      "[I 2024-06-09 21:52:59,104] A new study created in memory with name: no-name-9ba9c42e-0c72-4c30-a77e-c47a0bfdbdb1\n",
      "[I 2024-06-09 21:52:59,164] Trial 0 finished with value: 0.7468354430379747 and parameters: {'l1_ratio': 0.5172978838465893, 'penalty': 'elasticnet', 'C': 61.35506425409843, 'max_iter': 789, 'solver': 'saga'}. Best is trial 0 with value: 0.7468354430379747.\n",
      "[I 2024-06-09 21:52:59,240] Trial 1 finished with value: 0.7415056628914057 and parameters: {'l1_ratio': 0.2823958439671127, 'penalty': 'elasticnet', 'C': 0.07659165484895042, 'max_iter': 718, 'solver': 'saga'}. Best is trial 0 with value: 0.7468354430379747.\n",
      "[I 2024-06-09 21:52:59,311] Trial 2 finished with value: 0.7411725516322452 and parameters: {'l1_ratio': 0.16713920310005626, 'penalty': 'elasticnet', 'C': 0.37133840345513924, 'max_iter': 656, 'solver': 'saga'}. Best is trial 0 with value: 0.7468354430379747.\n",
      "[I 2024-06-09 21:52:59,373] Trial 3 finished with value: 0.7251832111925383 and parameters: {'l1_ratio': 0.411930094858746, 'penalty': 'elasticnet', 'C': 0.010229620554518289, 'max_iter': 896, 'solver': 'saga'}. Best is trial 0 with value: 0.7468354430379747.\n",
      "[I 2024-06-09 21:52:59,438] Trial 4 finished with value: 0.740506329113924 and parameters: {'l1_ratio': 0.8849475383764736, 'penalty': 'elasticnet', 'C': 0.15908848917427895, 'max_iter': 631, 'solver': 'saga'}. Best is trial 0 with value: 0.7468354430379747.\n",
      "[I 2024-06-09 21:52:59,524] Trial 5 finished with value: 0.7468354430379747 and parameters: {'l1_ratio': 0.9784269160148309, 'penalty': 'elasticnet', 'C': 24.009067273228535, 'max_iter': 158, 'solver': 'saga'}. Best is trial 0 with value: 0.7468354430379747.\n",
      "[I 2024-06-09 21:52:59,614] Trial 6 finished with value: 0.7435043304463691 and parameters: {'l1_ratio': 0.2947444647173656, 'penalty': 'elasticnet', 'C': 0.14182009235905965, 'max_iter': 841, 'solver': 'saga'}. Best is trial 0 with value: 0.7468354430379747.\n",
      "[I 2024-06-09 21:52:59,705] Trial 7 finished with value: 0.7331778814123917 and parameters: {'l1_ratio': 0.6261830379602461, 'penalty': 'elasticnet', 'C': 0.02766373754501643, 'max_iter': 100, 'solver': 'saga'}. Best is trial 0 with value: 0.7468354430379747.\n",
      "[I 2024-06-09 21:52:59,794] Trial 8 finished with value: 0.7395069953364424 and parameters: {'l1_ratio': 0.9421662328554996, 'penalty': 'elasticnet', 'C': 0.03681315427893331, 'max_iter': 479, 'solver': 'saga'}. Best is trial 0 with value: 0.7468354430379747.\n",
      "[I 2024-06-09 21:52:59,890] Trial 9 finished with value: 0.7465023317788141 and parameters: {'l1_ratio': 0.3464894401485442, 'penalty': 'elasticnet', 'C': 30.139798019866898, 'max_iter': 486, 'solver': 'saga'}. Best is trial 0 with value: 0.7468354430379747.\n",
      "[I 2024-06-09 21:52:59,973] Trial 10 finished with value: 0.7465023317788141 and parameters: {'l1_ratio': 0.8287514843227557, 'penalty': 'elasticnet', 'C': 7.437163905859136, 'max_iter': 207, 'solver': 'saga'}. Best is trial 0 with value: 0.7468354430379747.\n",
      "[I 2024-06-09 21:53:00,052] Trial 11 finished with value: 0.7335109926715523 and parameters: {'l1_ratio': 0.5963841727096089, 'penalty': 'elasticnet', 'C': 0.03303887043501744, 'max_iter': 169, 'solver': 'saga'}. Best is trial 0 with value: 0.7468354430379747.\n",
      "[I 2024-06-09 21:53:00,130] Trial 12 finished with value: 0.7445036642238507 and parameters: {'l1_ratio': 0.831205255690418, 'penalty': 'elasticnet', 'C': 0.7203481731670859, 'max_iter': 245, 'solver': 'saga'}. Best is trial 0 with value: 0.7468354430379747.\n",
      "[I 2024-06-09 21:53:00,201] Trial 13 finished with value: 0.745836109260493 and parameters: {'l1_ratio': 0.5479752920930067, 'penalty': 'elasticnet', 'C': 2.259140739578309, 'max_iter': 797, 'solver': 'saga'}. Best is trial 0 with value: 0.7468354430379747.\n",
      "[I 2024-06-09 21:53:00,294] Trial 14 finished with value: 0.7468354430379747 and parameters: {'l1_ratio': 0.6558454580069033, 'penalty': 'elasticnet', 'C': 1.7014807418534548, 'max_iter': 260, 'solver': 'saga'}. Best is trial 0 with value: 0.7468354430379747.\n",
      "[I 2024-06-09 21:53:00,353] Trial 15 finished with value: 0.7428381079280479 and parameters: {'l1_ratio': 0.24058353121801312, 'penalty': 'elasticnet', 'C': 1.057349415326343, 'max_iter': 457, 'solver': 'saga'}. Best is trial 0 with value: 0.7468354430379747.\n",
      "[I 2024-06-09 21:53:00,444] Trial 16 finished with value: 0.7468354430379747 and parameters: {'l1_ratio': 0.48305518544294146, 'penalty': 'elasticnet', 'C': 66.52109114767136, 'max_iter': 912, 'solver': 'saga'}. Best is trial 0 with value: 0.7468354430379747.\n",
      "[I 2024-06-09 21:53:00,545] Trial 17 finished with value: 0.7465023317788141 and parameters: {'l1_ratio': 0.5057593219775152, 'penalty': 'elasticnet', 'C': 19.178115977718267, 'max_iter': 845, 'solver': 'saga'}. Best is trial 0 with value: 0.7468354430379747.\n",
      "[I 2024-06-09 21:53:00,623] Trial 18 finished with value: 0.7338441039307129 and parameters: {'l1_ratio': 0.23183334760205443, 'penalty': 'elasticnet', 'C': 0.02071199562161528, 'max_iter': 519, 'solver': 'saga'}. Best is trial 0 with value: 0.7468354430379747.\n",
      "[I 2024-06-09 21:53:00,696] Trial 19 finished with value: 0.7395069953364424 and parameters: {'l1_ratio': 0.8789758084042731, 'penalty': 'elasticnet', 'C': 0.03890561052203377, 'max_iter': 308, 'solver': 'saga'}. Best is trial 0 with value: 0.7468354430379747.\n",
      "[I 2024-06-09 21:53:00,762] Trial 20 finished with value: 0.7368421052631579 and parameters: {'l1_ratio': 0.9179458057039298, 'penalty': 'elasticnet', 'C': 0.03282873214108787, 'max_iter': 925, 'solver': 'saga'}. Best is trial 0 with value: 0.7468354430379747.\n",
      "[I 2024-06-09 21:53:00,827] Trial 21 finished with value: 0.7455029980013325 and parameters: {'l1_ratio': 0.23479755091129706, 'penalty': 'elasticnet', 'C': 2.9103624241663977, 'max_iter': 957, 'solver': 'saga'}. Best is trial 0 with value: 0.7468354430379747.\n",
      "[I 2024-06-09 21:53:00,896] Trial 22 finished with value: 0.7421718854097269 and parameters: {'l1_ratio': 0.25513081972233587, 'penalty': 'elasticnet', 'C': 0.6324418397985216, 'max_iter': 976, 'solver': 'saga'}. Best is trial 0 with value: 0.7468354430379747.\n",
      "[I 2024-06-09 21:53:00,969] Trial 23 finished with value: 0.7408394403730846 and parameters: {'l1_ratio': 0.23937099816163865, 'penalty': 'elasticnet', 'C': 0.06233403073333485, 'max_iter': 719, 'solver': 'saga'}. Best is trial 0 with value: 0.7468354430379747.\n",
      "[I 2024-06-09 21:53:01,047] Trial 24 finished with value: 0.7438374417055297 and parameters: {'l1_ratio': 0.8450091946690719, 'penalty': 'elasticnet', 'C': 0.6505261022908188, 'max_iter': 191, 'solver': 'saga'}. Best is trial 0 with value: 0.7468354430379747.\n",
      "[I 2024-06-09 21:53:01,128] Trial 25 finished with value: 0.7278481012658228 and parameters: {'l1_ratio': 0.622847970552664, 'penalty': 'elasticnet', 'C': 0.02157266241871122, 'max_iter': 147, 'solver': 'saga'}. Best is trial 0 with value: 0.7468354430379747.\n",
      "[I 2024-06-09 21:53:01,206] Trial 26 finished with value: 0.7465023317788141 and parameters: {'l1_ratio': 0.3454784779791955, 'penalty': 'elasticnet', 'C': 41.869801395487904, 'max_iter': 819, 'solver': 'saga'}. Best is trial 0 with value: 0.7468354430379747.\n",
      "[I 2024-06-09 21:53:01,276] Trial 27 finished with value: 0.7321785476349101 and parameters: {'l1_ratio': 0.3842269427484306, 'penalty': 'elasticnet', 'C': 0.023491135928543867, 'max_iter': 214, 'solver': 'saga'}. Best is trial 0 with value: 0.7468354430379747.\n",
      "[I 2024-06-09 21:53:01,344] Trial 28 finished with value: 0.7438374417055297 and parameters: {'l1_ratio': 0.5343972812309752, 'penalty': 'elasticnet', 'C': 1.0695886563111425, 'max_iter': 553, 'solver': 'saga'}. Best is trial 0 with value: 0.7468354430379747.\n",
      "[I 2024-06-09 21:53:01,412] Trial 29 finished with value: 0.7465023317788141 and parameters: {'l1_ratio': 0.12660677568465384, 'penalty': 'elasticnet', 'C': 14.62723922475867, 'max_iter': 637, 'solver': 'saga'}. Best is trial 0 with value: 0.7468354430379747.\n",
      "[I 2024-06-09 21:53:01,489] Trial 30 finished with value: 0.7441705529646903 and parameters: {'l1_ratio': 0.75776937269917, 'penalty': 'elasticnet', 'C': 0.6877908082673602, 'max_iter': 167, 'solver': 'saga'}. Best is trial 0 with value: 0.7468354430379747.\n",
      "[I 2024-06-09 21:53:01,553] Trial 31 finished with value: 0.7435043304463691 and parameters: {'l1_ratio': 0.6024878434664988, 'penalty': 'elasticnet', 'C': 0.5525819288943448, 'max_iter': 105, 'solver': 'saga'}. Best is trial 0 with value: 0.7468354430379747.\n",
      "[I 2024-06-09 21:53:01,619] Trial 32 finished with value: 0.7408394403730846 and parameters: {'l1_ratio': 0.04662987836169319, 'penalty': 'elasticnet', 'C': 0.47311814022691223, 'max_iter': 891, 'solver': 'saga'}. Best is trial 0 with value: 0.7468354430379747.\n",
      "[I 2024-06-09 21:53:01,685] Trial 33 finished with value: 0.7455029980013325 and parameters: {'l1_ratio': 0.43301769330849826, 'penalty': 'elasticnet', 'C': 3.7483560811192262, 'max_iter': 612, 'solver': 'saga'}. Best is trial 0 with value: 0.7468354430379747.\n",
      "[I 2024-06-09 21:53:01,761] Trial 34 finished with value: 0.7431712191872085 and parameters: {'l1_ratio': 0.24018190154641206, 'penalty': 'elasticnet', 'C': 0.15234465176728573, 'max_iter': 104, 'solver': 'saga'}. Best is trial 0 with value: 0.7468354430379747.\n",
      "[I 2024-06-09 21:53:01,835] Trial 35 finished with value: 0.7425049966688874 and parameters: {'l1_ratio': 0.1288935485768078, 'penalty': 'elasticnet', 'C': 1.3080371500259338, 'max_iter': 683, 'solver': 'saga'}. Best is trial 0 with value: 0.7468354430379747.\n",
      "[I 2024-06-09 21:53:01,912] Trial 36 finished with value: 0.7451698867421719 and parameters: {'l1_ratio': 0.14536195449419298, 'penalty': 'elasticnet', 'C': 5.828503234861744, 'max_iter': 645, 'solver': 'saga'}. Best is trial 0 with value: 0.7468354430379747.\n",
      "[I 2024-06-09 21:53:01,996] Trial 37 finished with value: 0.7468354430379747 and parameters: {'l1_ratio': 0.963544780062434, 'penalty': 'elasticnet', 'C': 23.518964912506494, 'max_iter': 567, 'solver': 'saga'}. Best is trial 0 with value: 0.7468354430379747.\n",
      "[I 2024-06-09 21:53:02,053] Trial 38 finished with value: 0.7285143237841439 and parameters: {'l1_ratio': 0.6034752072158278, 'penalty': 'elasticnet', 'C': 0.02197774098855032, 'max_iter': 960, 'solver': 'saga'}. Best is trial 0 with value: 0.7468354430379747.\n",
      "[I 2024-06-09 21:53:02,119] Trial 39 finished with value: 0.7465023317788141 and parameters: {'l1_ratio': 0.8951009548900523, 'penalty': 'elasticnet', 'C': 1.7115465060325659, 'max_iter': 354, 'solver': 'saga'}. Best is trial 0 with value: 0.7468354430379747.\n",
      "[I 2024-06-09 21:53:02,188] Trial 40 finished with value: 0.7428381079280479 and parameters: {'l1_ratio': 0.6393898787142637, 'penalty': 'elasticnet', 'C': 0.46570663801564743, 'max_iter': 665, 'solver': 'saga'}. Best is trial 0 with value: 0.7468354430379747.\n",
      "[I 2024-06-09 21:53:02,254] Trial 41 finished with value: 0.7411725516322452 and parameters: {'l1_ratio': 0.3964306441212516, 'penalty': 'elasticnet', 'C': 0.16115829188620254, 'max_iter': 458, 'solver': 'saga'}. Best is trial 0 with value: 0.7468354430379747.\n",
      "[I 2024-06-09 21:53:02,323] Trial 42 finished with value: 0.7468354430379747 and parameters: {'l1_ratio': 0.8497845284188781, 'penalty': 'elasticnet', 'C': 22.644086948830445, 'max_iter': 357, 'solver': 'saga'}. Best is trial 0 with value: 0.7468354430379747.\n",
      "[I 2024-06-09 21:53:02,389] Trial 43 finished with value: 0.7431712191872085 and parameters: {'l1_ratio': 0.33885827739248164, 'penalty': 'elasticnet', 'C': 0.862120327677591, 'max_iter': 446, 'solver': 'saga'}. Best is trial 0 with value: 0.7468354430379747.\n",
      "[I 2024-06-09 21:53:02,469] Trial 44 finished with value: 0.7435043304463691 and parameters: {'l1_ratio': 0.32878734994014014, 'penalty': 'elasticnet', 'C': 1.3062091631762542, 'max_iter': 187, 'solver': 'saga'}. Best is trial 0 with value: 0.7468354430379747.\n",
      "[I 2024-06-09 21:53:02,531] Trial 45 finished with value: 0.7428381079280479 and parameters: {'l1_ratio': 0.023379930587594244, 'penalty': 'elasticnet', 'C': 0.05756448260639972, 'max_iter': 967, 'solver': 'saga'}. Best is trial 0 with value: 0.7468354430379747.\n",
      "[I 2024-06-09 21:53:02,594] Trial 46 finished with value: 0.7468354430379747 and parameters: {'l1_ratio': 0.7609561458372598, 'penalty': 'elasticnet', 'C': 1.2177602212036986, 'max_iter': 210, 'solver': 'saga'}. Best is trial 0 with value: 0.7468354430379747.\n",
      "[I 2024-06-09 21:53:02,660] Trial 47 finished with value: 0.7468354430379747 and parameters: {'l1_ratio': 0.9985866810937334, 'penalty': 'elasticnet', 'C': 35.731282729236135, 'max_iter': 964, 'solver': 'saga'}. Best is trial 0 with value: 0.7468354430379747.\n",
      "[I 2024-06-09 21:53:02,724] Trial 48 finished with value: 0.7411725516322452 and parameters: {'l1_ratio': 0.564785449158253, 'penalty': 'elasticnet', 'C': 0.15593069566006498, 'max_iter': 266, 'solver': 'saga'}. Best is trial 0 with value: 0.7468354430379747.\n",
      "[I 2024-06-09 21:53:02,786] Trial 49 finished with value: 0.7381745502998002 and parameters: {'l1_ratio': 0.7808527854686921, 'penalty': 'elasticnet', 'C': 0.041769472014503484, 'max_iter': 641, 'solver': 'saga'}. Best is trial 0 with value: 0.7468354430379747.\n",
      "[I 2024-06-09 21:53:02,888] Trial 50 finished with value: 0.7465023317788141 and parameters: {'l1_ratio': 0.7380400243015056, 'penalty': 'elasticnet', 'C': 1.8418590651470024, 'max_iter': 815, 'solver': 'saga'}. Best is trial 0 with value: 0.7468354430379747.\n",
      "[I 2024-06-09 21:53:02,962] Trial 51 finished with value: 0.72618254497002 and parameters: {'l1_ratio': 0.9272600171485721, 'penalty': 'elasticnet', 'C': 0.021059540030483385, 'max_iter': 204, 'solver': 'saga'}. Best is trial 0 with value: 0.7468354430379747.\n",
      "[I 2024-06-09 21:53:03,044] Trial 52 finished with value: 0.7421718854097269 and parameters: {'l1_ratio': 0.11380123623093197, 'penalty': 'elasticnet', 'C': 0.14181814630592005, 'max_iter': 596, 'solver': 'saga'}. Best is trial 0 with value: 0.7468354430379747.\n",
      "[I 2024-06-09 21:53:03,113] Trial 53 finished with value: 0.7428381079280479 and parameters: {'l1_ratio': 0.44464358527828296, 'penalty': 'elasticnet', 'C': 0.6280409052492372, 'max_iter': 720, 'solver': 'saga'}. Best is trial 0 with value: 0.7468354430379747.\n",
      "[I 2024-06-09 21:53:03,177] Trial 54 finished with value: 0.7368421052631579 and parameters: {'l1_ratio': 0.14884802489269566, 'penalty': 'elasticnet', 'C': 0.030103021567687998, 'max_iter': 226, 'solver': 'saga'}. Best is trial 0 with value: 0.7468354430379747.\n",
      "[I 2024-06-09 21:53:03,235] Trial 55 finished with value: 0.7425049966688874 and parameters: {'l1_ratio': 0.8446174837084529, 'penalty': 'elasticnet', 'C': 0.3062916155223427, 'max_iter': 650, 'solver': 'saga'}. Best is trial 0 with value: 0.7468354430379747.\n",
      "[I 2024-06-09 21:53:03,298] Trial 56 finished with value: 0.7401732178547635 and parameters: {'l1_ratio': 0.9107078274365592, 'penalty': 'elasticnet', 'C': 0.05397557626972808, 'max_iter': 145, 'solver': 'saga'}. Best is trial 0 with value: 0.7468354430379747.\n",
      "[I 2024-06-09 21:53:03,349] Trial 57 finished with value: 0.7418387741505663 and parameters: {'l1_ratio': 0.2635543863600527, 'penalty': 'elasticnet', 'C': 0.3320698541563889, 'max_iter': 582, 'solver': 'saga'}. Best is trial 0 with value: 0.7468354430379747.\n",
      "[I 2024-06-09 21:53:03,433] Trial 58 finished with value: 0.7465023317788141 and parameters: {'l1_ratio': 0.20593267412957195, 'penalty': 'elasticnet', 'C': 10.736427327553773, 'max_iter': 656, 'solver': 'saga'}. Best is trial 0 with value: 0.7468354430379747.\n",
      "[I 2024-06-09 21:53:03,505] Trial 59 finished with value: 0.7385076615589606 and parameters: {'l1_ratio': 0.7789120822371315, 'penalty': 'elasticnet', 'C': 0.0598453833413193, 'max_iter': 321, 'solver': 'saga'}. Best is trial 0 with value: 0.7468354430379747.\n",
      "[I 2024-06-09 21:53:03,574] Trial 60 finished with value: 0.7415056628914057 and parameters: {'l1_ratio': 0.6405635118484496, 'penalty': 'elasticnet', 'C': 0.39850102234680385, 'max_iter': 967, 'solver': 'saga'}. Best is trial 0 with value: 0.7468354430379747.\n",
      "[I 2024-06-09 21:53:03,629] Trial 61 finished with value: 0.7388407728181212 and parameters: {'l1_ratio': 0.7636679934989524, 'penalty': 'elasticnet', 'C': 0.048213123670565156, 'max_iter': 207, 'solver': 'saga'}. Best is trial 0 with value: 0.7468354430379747.\n",
      "[I 2024-06-09 21:53:03,715] Trial 62 finished with value: 0.7465023317788141 and parameters: {'l1_ratio': 0.33026965314873746, 'penalty': 'elasticnet', 'C': 15.64904269882861, 'max_iter': 645, 'solver': 'saga'}. Best is trial 0 with value: 0.7468354430379747.\n",
      "[I 2024-06-09 21:53:03,781] Trial 63 finished with value: 0.7308461025982678 and parameters: {'l1_ratio': 0.21749415361126012, 'penalty': 'elasticnet', 'C': 0.01303454835661758, 'max_iter': 562, 'solver': 'saga'}. Best is trial 0 with value: 0.7468354430379747.\n",
      "[I 2024-06-09 21:53:03,864] Trial 64 finished with value: 0.7465023317788141 and parameters: {'l1_ratio': 0.9395388576438164, 'penalty': 'elasticnet', 'C': 2.023926715722932, 'max_iter': 958, 'solver': 'saga'}. Best is trial 0 with value: 0.7468354430379747.\n",
      "[I 2024-06-09 21:53:03,946] Trial 65 finished with value: 0.7468354430379747 and parameters: {'l1_ratio': 0.480686727057959, 'penalty': 'elasticnet', 'C': 91.86785654359983, 'max_iter': 544, 'solver': 'saga'}. Best is trial 0 with value: 0.7468354430379747.\n",
      "[I 2024-06-09 21:53:04,013] Trial 66 finished with value: 0.7395069953364424 and parameters: {'l1_ratio': 0.8278672160318609, 'penalty': 'elasticnet', 'C': 0.12738837247190585, 'max_iter': 161, 'solver': 'saga'}. Best is trial 0 with value: 0.7468354430379747.\n",
      "[I 2024-06-09 21:53:04,081] Trial 67 finished with value: 0.7355096602265156 and parameters: {'l1_ratio': 0.721360101028917, 'penalty': 'elasticnet', 'C': 0.030650286039784234, 'max_iter': 829, 'solver': 'saga'}. Best is trial 0 with value: 0.7468354430379747.\n",
      "[I 2024-06-09 21:53:04,150] Trial 68 finished with value: 0.7431712191872085 and parameters: {'l1_ratio': 0.9347922225636194, 'penalty': 'elasticnet', 'C': 0.23434771009411434, 'max_iter': 381, 'solver': 'saga'}. Best is trial 0 with value: 0.7468354430379747.\n",
      "[I 2024-06-09 21:53:04,222] Trial 69 finished with value: 0.7465023317788141 and parameters: {'l1_ratio': 0.6002971063674759, 'penalty': 'elasticnet', 'C': 6.000195882063961, 'max_iter': 140, 'solver': 'saga'}. Best is trial 0 with value: 0.7468354430379747.\n",
      "[I 2024-06-09 21:53:04,276] Trial 70 finished with value: 0.7385076615589606 and parameters: {'l1_ratio': 0.6267356759602706, 'penalty': 'elasticnet', 'C': 0.050348540227368885, 'max_iter': 172, 'solver': 'saga'}. Best is trial 0 with value: 0.7468354430379747.\n",
      "[I 2024-06-09 21:53:04,341] Trial 71 finished with value: 0.7418387741505663 and parameters: {'l1_ratio': 0.31370103075151023, 'penalty': 'elasticnet', 'C': 0.453413738345394, 'max_iter': 455, 'solver': 'saga'}. Best is trial 0 with value: 0.7468354430379747.\n",
      "[I 2024-06-09 21:53:04,412] Trial 72 finished with value: 0.745836109260493 and parameters: {'l1_ratio': 0.7230405288992248, 'penalty': 'elasticnet', 'C': 1.1130097238710337, 'max_iter': 409, 'solver': 'saga'}. Best is trial 0 with value: 0.7468354430379747.\n",
      "[I 2024-06-09 21:53:04,484] Trial 73 finished with value: 0.7445036642238507 and parameters: {'l1_ratio': 0.4689082800259925, 'penalty': 'elasticnet', 'C': 1.5379955204462359, 'max_iter': 852, 'solver': 'saga'}. Best is trial 0 with value: 0.7468354430379747.\n",
      "[I 2024-06-09 21:53:04,571] Trial 74 finished with value: 0.7465023317788141 and parameters: {'l1_ratio': 0.34809190046205274, 'penalty': 'elasticnet', 'C': 13.575138022547419, 'max_iter': 686, 'solver': 'saga'}. Best is trial 0 with value: 0.7468354430379747.\n",
      "[I 2024-06-09 21:53:04,653] Trial 75 finished with value: 0.7435043304463691 and parameters: {'l1_ratio': 0.8730257595537249, 'penalty': 'elasticnet', 'C': 0.4391408637607976, 'max_iter': 265, 'solver': 'saga'}. Best is trial 0 with value: 0.7468354430379747.\n",
      "[I 2024-06-09 21:53:04,728] Trial 76 finished with value: 0.7431712191872085 and parameters: {'l1_ratio': 0.09317831284174316, 'penalty': 'elasticnet', 'C': 1.6960419746736706, 'max_iter': 980, 'solver': 'saga'}. Best is trial 0 with value: 0.7468354430379747.\n",
      "[I 2024-06-09 21:53:04,795] Trial 77 finished with value: 0.7411725516322452 and parameters: {'l1_ratio': 0.29572214736158386, 'penalty': 'elasticnet', 'C': 0.37379748264285856, 'max_iter': 837, 'solver': 'saga'}. Best is trial 0 with value: 0.7468354430379747.\n",
      "[I 2024-06-09 21:53:04,886] Trial 78 finished with value: 0.7465023317788141 and parameters: {'l1_ratio': 0.3940115991448834, 'penalty': 'elasticnet', 'C': 36.58478246475669, 'max_iter': 127, 'solver': 'saga'}. Best is trial 0 with value: 0.7468354430379747.\n",
      "[I 2024-06-09 21:53:04,961] Trial 79 finished with value: 0.7408394403730846 and parameters: {'l1_ratio': 0.8998117453605183, 'penalty': 'elasticnet', 'C': 0.14602340394121108, 'max_iter': 983, 'solver': 'saga'}. Best is trial 0 with value: 0.7468354430379747.\n",
      "[I 2024-06-09 21:53:05,035] Trial 80 finished with value: 0.7465023317788141 and parameters: {'l1_ratio': 0.7726044200868316, 'penalty': 'elasticnet', 'C': 17.773541904405658, 'max_iter': 527, 'solver': 'saga'}. Best is trial 0 with value: 0.7468354430379747.\n",
      "[I 2024-06-09 21:53:05,102] Trial 81 finished with value: 0.7408394403730846 and parameters: {'l1_ratio': 0.3024871162472813, 'penalty': 'elasticnet', 'C': 0.1979220537422794, 'max_iter': 898, 'solver': 'saga'}. Best is trial 0 with value: 0.7468354430379747.\n",
      "[I 2024-06-09 21:53:05,193] Trial 82 finished with value: 0.7241838774150566 and parameters: {'l1_ratio': 0.42954226359209646, 'penalty': 'elasticnet', 'C': 0.010287611420955958, 'max_iter': 657, 'solver': 'saga'}. Best is trial 0 with value: 0.7468354430379747.\n",
      "[I 2024-06-09 21:53:05,277] Trial 83 finished with value: 0.7455029980013325 and parameters: {'l1_ratio': 0.6384146144413262, 'penalty': 'elasticnet', 'C': 2.5617412646443176, 'max_iter': 176, 'solver': 'saga'}. Best is trial 0 with value: 0.7468354430379747.\n",
      "[I 2024-06-09 21:53:05,339] Trial 84 finished with value: 0.7465023317788141 and parameters: {'l1_ratio': 0.18878963262831439, 'penalty': 'elasticnet', 'C': 12.369229503673262, 'max_iter': 631, 'solver': 'saga'}. Best is trial 0 with value: 0.7468354430379747.\n",
      "[I 2024-06-09 21:53:05,398] Trial 85 finished with value: 0.7275149900066622 and parameters: {'l1_ratio': 0.6860361909445178, 'penalty': 'elasticnet', 'C': 0.01960489209840365, 'max_iter': 605, 'solver': 'saga'}. Best is trial 0 with value: 0.7468354430379747.\n",
      "[I 2024-06-09 21:53:05,471] Trial 86 finished with value: 0.7411725516322452 and parameters: {'l1_ratio': 0.2586295146537938, 'penalty': 'elasticnet', 'C': 0.076689222095408, 'max_iter': 203, 'solver': 'saga'}. Best is trial 0 with value: 0.7468354430379747.\n",
      "[I 2024-06-09 21:53:05,550] Trial 87 finished with value: 0.7418387741505663 and parameters: {'l1_ratio': 0.09905593656208833, 'penalty': 'elasticnet', 'C': 0.094508713108523, 'max_iter': 772, 'solver': 'saga'}. Best is trial 0 with value: 0.7468354430379747.\n",
      "[I 2024-06-09 21:53:05,620] Trial 88 finished with value: 0.7455029980013325 and parameters: {'l1_ratio': 0.5943825327304895, 'penalty': 'elasticnet', 'C': 1.4030694739937408, 'max_iter': 438, 'solver': 'saga'}. Best is trial 0 with value: 0.7468354430379747.\n",
      "[I 2024-06-09 21:53:05,690] Trial 89 finished with value: 0.7455029980013325 and parameters: {'l1_ratio': 0.23501047798661767, 'penalty': 'elasticnet', 'C': 2.3081226557256675, 'max_iter': 858, 'solver': 'saga'}. Best is trial 0 with value: 0.7468354430379747.\n",
      "[I 2024-06-09 21:53:05,766] Trial 90 finished with value: 0.7308461025982678 and parameters: {'l1_ratio': 0.47729389039881, 'penalty': 'elasticnet', 'C': 0.021625619558979785, 'max_iter': 940, 'solver': 'saga'}. Best is trial 0 with value: 0.7468354430379747.\n",
      "[I 2024-06-09 21:53:05,840] Trial 91 finished with value: 0.7338441039307129 and parameters: {'l1_ratio': 0.4860786085123222, 'penalty': 'elasticnet', 'C': 0.03172802162319548, 'max_iter': 856, 'solver': 'saga'}. Best is trial 0 with value: 0.7468354430379747.\n",
      "[I 2024-06-09 21:53:05,928] Trial 92 finished with value: 0.7335109926715523 and parameters: {'l1_ratio': 0.38240464605494207, 'penalty': 'elasticnet', 'C': 0.02721303562441804, 'max_iter': 960, 'solver': 'saga'}. Best is trial 0 with value: 0.7468354430379747.\n",
      "[I 2024-06-09 21:53:05,994] Trial 93 finished with value: 0.740506329113924 and parameters: {'l1_ratio': 0.3436503994506843, 'penalty': 'elasticnet', 'C': 0.07175281862798143, 'max_iter': 513, 'solver': 'saga'}. Best is trial 0 with value: 0.7468354430379747.\n",
      "[I 2024-06-09 21:53:06,066] Trial 94 finished with value: 0.7418387741505663 and parameters: {'l1_ratio': 0.02489530628090697, 'penalty': 'elasticnet', 'C': 0.09569391110649288, 'max_iter': 688, 'solver': 'saga'}. Best is trial 0 with value: 0.7468354430379747.\n",
      "[I 2024-06-09 21:53:06,148] Trial 95 finished with value: 0.7278481012658228 and parameters: {'l1_ratio': 0.3373767925601705, 'penalty': 'elasticnet', 'C': 0.012196592563587835, 'max_iter': 345, 'solver': 'saga'}. Best is trial 0 with value: 0.7468354430379747.\n",
      "[I 2024-06-09 21:53:06,224] Trial 96 finished with value: 0.7465023317788141 and parameters: {'l1_ratio': 0.9614891406278656, 'penalty': 'elasticnet', 'C': 7.081137327646259, 'max_iter': 652, 'solver': 'saga'}. Best is trial 0 with value: 0.7468354430379747.\n",
      "[I 2024-06-09 21:53:06,314] Trial 97 finished with value: 0.7465023317788141 and parameters: {'l1_ratio': 0.0425938640226482, 'penalty': 'elasticnet', 'C': 82.25069248297623, 'max_iter': 593, 'solver': 'saga'}. Best is trial 0 with value: 0.7468354430379747.\n",
      "[I 2024-06-09 21:53:06,386] Trial 98 finished with value: 0.7465023317788141 and parameters: {'l1_ratio': 0.5119850184358926, 'penalty': 'elasticnet', 'C': 17.541043973513382, 'max_iter': 745, 'solver': 'saga'}. Best is trial 0 with value: 0.7468354430379747.\n",
      "[I 2024-06-09 21:53:06,477] Trial 99 finished with value: 0.7385076615589606 and parameters: {'l1_ratio': 0.8308851599474497, 'penalty': 'elasticnet', 'C': 0.038711524522540806, 'max_iter': 631, 'solver': 'saga'}. Best is trial 0 with value: 0.7468354430379747.\n",
      "[I 2024-06-09 21:53:06,535] Trial 100 finished with value: 0.7431712191872085 and parameters: {'l1_ratio': 0.8471136501705183, 'penalty': 'elasticnet', 'C': 0.23419763107202696, 'max_iter': 230, 'solver': 'saga'}. Best is trial 0 with value: 0.7468354430379747.\n",
      "[I 2024-06-09 21:53:06,622] Trial 101 finished with value: 0.7408394403730846 and parameters: {'l1_ratio': 0.1836483711819311, 'penalty': 'elasticnet', 'C': 0.04508460206395433, 'max_iter': 483, 'solver': 'saga'}. Best is trial 0 with value: 0.7468354430379747.\n",
      "[I 2024-06-09 21:53:06,703] Trial 102 finished with value: 0.729180546302465 and parameters: {'l1_ratio': 0.6055885059878887, 'penalty': 'elasticnet', 'C': 0.023794901878716246, 'max_iter': 124, 'solver': 'saga'}. Best is trial 0 with value: 0.7468354430379747.\n",
      "[I 2024-06-09 21:53:06,759] Trial 103 finished with value: 0.7415056628914057 and parameters: {'l1_ratio': 0.08871545457591135, 'penalty': 'elasticnet', 'C': 0.12208804456888893, 'max_iter': 408, 'solver': 'saga'}. Best is trial 0 with value: 0.7468354430379747.\n",
      "[I 2024-06-09 21:53:06,832] Trial 104 finished with value: 0.7465023317788141 and parameters: {'l1_ratio': 0.7767253816094082, 'penalty': 'elasticnet', 'C': 9.429951390193311, 'max_iter': 199, 'solver': 'saga'}. Best is trial 0 with value: 0.7468354430379747.\n",
      "[I 2024-06-09 21:53:06,935] Trial 105 finished with value: 0.7455029980013325 and parameters: {'l1_ratio': 0.47806896006875077, 'penalty': 'elasticnet', 'C': 3.904266121323621, 'max_iter': 859, 'solver': 'saga'}. Best is trial 0 with value: 0.7468354430379747.\n",
      "[I 2024-06-09 21:53:07,015] Trial 106 finished with value: 0.740506329113924 and parameters: {'l1_ratio': 0.388468854806459, 'penalty': 'elasticnet', 'C': 0.18235322570309798, 'max_iter': 475, 'solver': 'saga'}. Best is trial 0 with value: 0.7468354430379747.\n",
      "[I 2024-06-09 21:53:07,085] Trial 107 finished with value: 0.745836109260493 and parameters: {'l1_ratio': 0.44175712345987217, 'penalty': 'elasticnet', 'C': 2.9312204539400217, 'max_iter': 997, 'solver': 'saga'}. Best is trial 0 with value: 0.7468354430379747.\n",
      "[I 2024-06-09 21:53:07,180] Trial 108 finished with value: 0.7451698867421719 and parameters: {'l1_ratio': 0.6521830648469973, 'penalty': 'elasticnet', 'C': 3.4837411728563605, 'max_iter': 581, 'solver': 'saga'}. Best is trial 0 with value: 0.7468354430379747.\n",
      "[I 2024-06-09 21:53:07,249] Trial 109 finished with value: 0.7465023317788141 and parameters: {'l1_ratio': 0.35557836732536197, 'penalty': 'elasticnet', 'C': 26.2939091298749, 'max_iter': 247, 'solver': 'saga'}. Best is trial 0 with value: 0.7468354430379747.\n",
      "[I 2024-06-09 21:53:07,334] Trial 110 finished with value: 0.7465023317788141 and parameters: {'l1_ratio': 0.7658237880282034, 'penalty': 'elasticnet', 'C': 10.747994464707489, 'max_iter': 144, 'solver': 'saga'}. Best is trial 0 with value: 0.7468354430379747.\n",
      "[I 2024-06-09 21:53:07,419] Trial 111 finished with value: 0.7465023317788141 and parameters: {'l1_ratio': 0.45578849641224983, 'penalty': 'elasticnet', 'C': 7.111891998016579, 'max_iter': 613, 'solver': 'saga'}. Best is trial 0 with value: 0.7468354430379747.\n",
      "[I 2024-06-09 21:53:07,488] Trial 112 finished with value: 0.7435043304463691 and parameters: {'l1_ratio': 0.36095818866319496, 'penalty': 'elasticnet', 'C': 0.12314369326595438, 'max_iter': 144, 'solver': 'saga'}. Best is trial 0 with value: 0.7468354430379747.\n",
      "[I 2024-06-09 21:53:07,563] Trial 113 finished with value: 0.7468354430379747 and parameters: {'l1_ratio': 0.08651653838786766, 'penalty': 'elasticnet', 'C': 95.65140455600996, 'max_iter': 668, 'solver': 'saga'}. Best is trial 0 with value: 0.7468354430379747.\n",
      "[I 2024-06-09 21:53:07,637] Trial 114 finished with value: 0.7181878747501665 and parameters: {'l1_ratio': 0.7943292806783894, 'penalty': 'elasticnet', 'C': 0.011635791469408439, 'max_iter': 207, 'solver': 'saga'}. Best is trial 0 with value: 0.7468354430379747.\n",
      "[I 2024-06-09 21:53:07,699] Trial 115 finished with value: 0.7465023317788141 and parameters: {'l1_ratio': 0.39523622294092764, 'penalty': 'elasticnet', 'C': 23.782132614140668, 'max_iter': 368, 'solver': 'saga'}. Best is trial 0 with value: 0.7468354430379747.\n",
      "[I 2024-06-09 21:53:07,772] Trial 116 finished with value: 0.7465023317788141 and parameters: {'l1_ratio': 0.1940476194756442, 'penalty': 'elasticnet', 'C': 30.52161462967654, 'max_iter': 905, 'solver': 'saga'}. Best is trial 0 with value: 0.7468354430379747.\n",
      "[I 2024-06-09 21:53:07,829] Trial 117 finished with value: 0.7265156562291806 and parameters: {'l1_ratio': 0.9790846206910202, 'penalty': 'elasticnet', 'C': 0.021603008194460146, 'max_iter': 503, 'solver': 'saga'}. Best is trial 0 with value: 0.7468354430379747.\n",
      "[I 2024-06-09 21:53:07,905] Trial 118 finished with value: 0.7465023317788141 and parameters: {'l1_ratio': 0.2273428595343805, 'penalty': 'elasticnet', 'C': 16.51468402439203, 'max_iter': 414, 'solver': 'saga'}. Best is trial 0 with value: 0.7468354430379747.\n",
      "[I 2024-06-09 21:53:07,969] Trial 119 finished with value: 0.7465023317788141 and parameters: {'l1_ratio': 0.2195151893089342, 'penalty': 'elasticnet', 'C': 17.03885924185188, 'max_iter': 529, 'solver': 'saga'}. Best is trial 0 with value: 0.7468354430379747.\n",
      "[I 2024-06-09 21:53:08,030] Trial 120 finished with value: 0.7418387741505663 and parameters: {'l1_ratio': 0.05167183644896767, 'penalty': 'elasticnet', 'C': 0.3279823574391817, 'max_iter': 540, 'solver': 'saga'}. Best is trial 0 with value: 0.7468354430379747.\n",
      "[I 2024-06-09 21:53:08,094] Trial 121 finished with value: 0.7408394403730846 and parameters: {'l1_ratio': 0.6777070409958931, 'penalty': 'elasticnet', 'C': 0.15614942311672478, 'max_iter': 113, 'solver': 'saga'}. Best is trial 0 with value: 0.7468354430379747.\n",
      "[I 2024-06-09 21:53:08,176] Trial 122 finished with value: 0.7465023317788141 and parameters: {'l1_ratio': 0.5995989995918588, 'penalty': 'elasticnet', 'C': 18.981897206146265, 'max_iter': 289, 'solver': 'saga'}. Best is trial 0 with value: 0.7468354430379747.\n",
      "[I 2024-06-09 21:53:08,252] Trial 123 finished with value: 0.7465023317788141 and parameters: {'l1_ratio': 0.6337757519736682, 'penalty': 'elasticnet', 'C': 8.449973806298349, 'max_iter': 971, 'solver': 'saga'}. Best is trial 0 with value: 0.7468354430379747.\n",
      "[I 2024-06-09 21:53:08,319] Trial 124 finished with value: 0.7451698867421719 and parameters: {'l1_ratio': 0.08774706063976812, 'penalty': 'elasticnet', 'C': 5.40592655014607, 'max_iter': 612, 'solver': 'saga'}. Best is trial 0 with value: 0.7468354430379747.\n",
      "[I 2024-06-09 21:53:08,390] Trial 125 finished with value: 0.7421718854097269 and parameters: {'l1_ratio': 0.1692741729195425, 'penalty': 'elasticnet', 'C': 0.7136338994103508, 'max_iter': 111, 'solver': 'saga'}. Best is trial 0 with value: 0.7468354430379747.\n",
      "[I 2024-06-09 21:53:08,479] Trial 126 finished with value: 0.7258494337108594 and parameters: {'l1_ratio': 0.023169743854271396, 'penalty': 'elasticnet', 'C': 0.011912611522328018, 'max_iter': 462, 'solver': 'saga'}. Best is trial 0 with value: 0.7468354430379747.\n",
      "[I 2024-06-09 21:53:08,554] Trial 127 finished with value: 0.7418387741505663 and parameters: {'l1_ratio': 0.5355132035114978, 'penalty': 'elasticnet', 'C': 0.11225616825078197, 'max_iter': 567, 'solver': 'saga'}. Best is trial 0 with value: 0.7468354430379747.\n",
      "[I 2024-06-09 21:53:08,619] Trial 128 finished with value: 0.739840106595603 and parameters: {'l1_ratio': 0.47779187448209726, 'penalty': 'elasticnet', 'C': 0.14754262261101334, 'max_iter': 465, 'solver': 'saga'}. Best is trial 0 with value: 0.7468354430379747.\n",
      "[I 2024-06-09 21:53:08,702] Trial 129 finished with value: 0.7428381079280479 and parameters: {'l1_ratio': 0.47429367431199154, 'penalty': 'elasticnet', 'C': 0.5619332827559816, 'max_iter': 114, 'solver': 'saga'}. Best is trial 0 with value: 0.7468354430379747.\n",
      "[I 2024-06-09 21:53:08,779] Trial 130 finished with value: 0.7465023317788141 and parameters: {'l1_ratio': 0.7055617167942578, 'penalty': 'elasticnet', 'C': 10.892546425919848, 'max_iter': 345, 'solver': 'saga'}. Best is trial 0 with value: 0.7468354430379747.\n",
      "[I 2024-06-09 21:53:08,851] Trial 131 finished with value: 0.7465023317788141 and parameters: {'l1_ratio': 0.4656358778024837, 'penalty': 'elasticnet', 'C': 7.905359413627673, 'max_iter': 174, 'solver': 'saga'}. Best is trial 0 with value: 0.7468354430379747.\n",
      "[I 2024-06-09 21:53:08,927] Trial 132 finished with value: 0.7465023317788141 and parameters: {'l1_ratio': 0.8491269748213126, 'penalty': 'elasticnet', 'C': 7.631269089397807, 'max_iter': 992, 'solver': 'saga'}. Best is trial 0 with value: 0.7468354430379747.\n",
      "[I 2024-06-09 21:53:08,989] Trial 133 finished with value: 0.7421718854097269 and parameters: {'l1_ratio': 0.4458445675158459, 'penalty': 'elasticnet', 'C': 0.10299323423937613, 'max_iter': 244, 'solver': 'saga'}. Best is trial 0 with value: 0.7468354430379747.\n",
      "[I 2024-06-09 21:53:09,066] Trial 134 finished with value: 0.7465023317788141 and parameters: {'l1_ratio': 0.870727250858279, 'penalty': 'elasticnet', 'C': 5.635843866650575, 'max_iter': 442, 'solver': 'saga'}. Best is trial 0 with value: 0.7468354430379747.\n",
      "[I 2024-06-09 21:53:09,127] Trial 135 finished with value: 0.7465023317788141 and parameters: {'l1_ratio': 0.2282326164835059, 'penalty': 'elasticnet', 'C': 13.3913140627704, 'max_iter': 978, 'solver': 'saga'}. Best is trial 0 with value: 0.7468354430379747.\n",
      "[I 2024-06-09 21:53:09,207] Trial 136 finished with value: 0.7401732178547635 and parameters: {'l1_ratio': 0.8802403479846407, 'penalty': 'elasticnet', 'C': 0.10313923053710798, 'max_iter': 665, 'solver': 'saga'}. Best is trial 0 with value: 0.7468354430379747.\n",
      "[I 2024-06-09 21:53:09,281] Trial 137 finished with value: 0.7275149900066622 and parameters: {'l1_ratio': 0.4948518196858104, 'penalty': 'elasticnet', 'C': 0.019577825451821716, 'max_iter': 591, 'solver': 'saga'}. Best is trial 0 with value: 0.7468354430379747.\n",
      "[I 2024-06-09 21:53:09,341] Trial 138 finished with value: 0.7208527648234511 and parameters: {'l1_ratio': 0.8716091078716307, 'penalty': 'elasticnet', 'C': 0.013190090156730578, 'max_iter': 180, 'solver': 'saga'}. Best is trial 0 with value: 0.7468354430379747.\n",
      "[I 2024-06-09 21:53:09,408] Trial 139 finished with value: 0.7275149900066622 and parameters: {'l1_ratio': 0.31470430106830216, 'penalty': 'elasticnet', 'C': 0.010688381298874287, 'max_iter': 267, 'solver': 'saga'}. Best is trial 0 with value: 0.7468354430379747.\n",
      "[I 2024-06-09 21:53:09,465] Trial 140 finished with value: 0.7391738840772818 and parameters: {'l1_ratio': 0.8743627304570357, 'penalty': 'elasticnet', 'C': 0.05612137404042833, 'max_iter': 674, 'solver': 'saga'}. Best is trial 0 with value: 0.7468354430379747.\n",
      "[I 2024-06-09 21:53:09,532] Trial 141 finished with value: 0.737508327781479 and parameters: {'l1_ratio': 0.6459240523527073, 'penalty': 'elasticnet', 'C': 0.05394546845209425, 'max_iter': 680, 'solver': 'saga'}. Best is trial 0 with value: 0.7468354430379747.\n",
      "[I 2024-06-09 21:53:09,601] Trial 142 finished with value: 0.7455029980013325 and parameters: {'l1_ratio': 0.1398182058122156, 'penalty': 'elasticnet', 'C': 5.099411482921983, 'max_iter': 947, 'solver': 'saga'}. Best is trial 0 with value: 0.7468354430379747.\n",
      "[I 2024-06-09 21:53:09,681] Trial 143 finished with value: 0.7341772151898734 and parameters: {'l1_ratio': 0.3159174861030116, 'penalty': 'elasticnet', 'C': 0.020557202569671466, 'max_iter': 174, 'solver': 'saga'}. Best is trial 0 with value: 0.7468354430379747.\n",
      "[I 2024-06-09 21:53:09,763] Trial 144 finished with value: 0.7441705529646903 and parameters: {'l1_ratio': 0.6822254665259121, 'penalty': 'elasticnet', 'C': 0.919811829238254, 'max_iter': 119, 'solver': 'saga'}. Best is trial 0 with value: 0.7468354430379747.\n",
      "[I 2024-06-09 21:53:09,845] Trial 145 finished with value: 0.7465023317788141 and parameters: {'l1_ratio': 0.45704577934720947, 'penalty': 'elasticnet', 'C': 33.97055765748986, 'max_iter': 429, 'solver': 'saga'}. Best is trial 0 with value: 0.7468354430379747.\n",
      "[I 2024-06-09 21:53:09,910] Trial 146 finished with value: 0.7411725516322452 and parameters: {'l1_ratio': 0.42914109470841655, 'penalty': 'elasticnet', 'C': 0.1336222420402405, 'max_iter': 457, 'solver': 'saga'}. Best is trial 0 with value: 0.7468354430379747.\n",
      "[I 2024-06-09 21:53:09,977] Trial 147 finished with value: 0.7335109926715523 and parameters: {'l1_ratio': 0.1796720491852063, 'penalty': 'elasticnet', 'C': 0.023280765041308823, 'max_iter': 940, 'solver': 'saga'}. Best is trial 0 with value: 0.7468354430379747.\n",
      "[I 2024-06-09 21:53:10,039] Trial 148 finished with value: 0.7401732178547635 and parameters: {'l1_ratio': 0.45462919667860735, 'penalty': 'elasticnet', 'C': 0.16036769414041074, 'max_iter': 305, 'solver': 'saga'}. Best is trial 0 with value: 0.7468354430379747.\n",
      "[I 2024-06-09 21:53:10,122] Trial 149 finished with value: 0.740506329113924 and parameters: {'l1_ratio': 0.7287870275360602, 'penalty': 'elasticnet', 'C': 0.12019729056140388, 'max_iter': 775, 'solver': 'saga'}. Best is trial 0 with value: 0.7468354430379747.\n",
      "[I 2024-06-09 21:53:10,180] Trial 150 finished with value: 0.7411725516322452 and parameters: {'l1_ratio': 0.19300320074456478, 'penalty': 'elasticnet', 'C': 0.4900339943332219, 'max_iter': 825, 'solver': 'saga'}. Best is trial 0 with value: 0.7468354430379747.\n",
      "[I 2024-06-09 21:53:10,250] Trial 151 finished with value: 0.7468354430379747 and parameters: {'l1_ratio': 0.8576942251664084, 'penalty': 'elasticnet', 'C': 54.00356028787201, 'max_iter': 548, 'solver': 'saga'}. Best is trial 0 with value: 0.7468354430379747.\n",
      "[I 2024-06-09 21:53:10,314] Trial 152 finished with value: 0.7435043304463691 and parameters: {'l1_ratio': 0.7156670487542581, 'penalty': 'elasticnet', 'C': 0.47737705869943076, 'max_iter': 187, 'solver': 'saga'}. Best is trial 0 with value: 0.7468354430379747.\n",
      "[I 2024-06-09 21:53:10,378] Trial 153 finished with value: 0.740506329113924 and parameters: {'l1_ratio': 0.512772506734595, 'penalty': 'elasticnet', 'C': 0.1709739793157464, 'max_iter': 159, 'solver': 'saga'}. Best is trial 0 with value: 0.7468354430379747.\n",
      "[I 2024-06-09 21:53:10,444] Trial 154 finished with value: 0.7418387741505663 and parameters: {'l1_ratio': 0.34630026241876444, 'penalty': 'elasticnet', 'C': 0.20813803041222895, 'max_iter': 613, 'solver': 'saga'}. Best is trial 0 with value: 0.7468354430379747.\n",
      "[I 2024-06-09 21:53:10,528] Trial 155 finished with value: 0.745836109260493 and parameters: {'l1_ratio': 0.7696179395720334, 'penalty': 'elasticnet', 'C': 2.739723370259937, 'max_iter': 588, 'solver': 'saga'}. Best is trial 0 with value: 0.7468354430379747.\n",
      "[I 2024-06-09 21:53:10,598] Trial 156 finished with value: 0.7361758827448368 and parameters: {'l1_ratio': 0.16458012282314227, 'penalty': 'elasticnet', 'C': 0.026813954619397493, 'max_iter': 272, 'solver': 'saga'}. Best is trial 0 with value: 0.7468354430379747.\n",
      "[I 2024-06-09 21:53:10,652] Trial 157 finished with value: 0.7415056628914057 and parameters: {'l1_ratio': 0.7246209148956595, 'penalty': 'elasticnet', 'C': 0.09362629112368243, 'max_iter': 793, 'solver': 'saga'}. Best is trial 0 with value: 0.7468354430379747.\n",
      "[I 2024-06-09 21:53:10,732] Trial 158 finished with value: 0.7465023317788141 and parameters: {'l1_ratio': 0.6599634803874062, 'penalty': 'elasticnet', 'C': 14.966568675756214, 'max_iter': 383, 'solver': 'saga'}. Best is trial 0 with value: 0.7468354430379747.\n",
      "[I 2024-06-09 21:53:10,811] Trial 159 finished with value: 0.7468354430379747 and parameters: {'l1_ratio': 0.741395115770732, 'penalty': 'elasticnet', 'C': 1.4164469766090293, 'max_iter': 351, 'solver': 'saga'}. Best is trial 0 with value: 0.7468354430379747.\n",
      "[I 2024-06-09 21:53:10,878] Trial 160 finished with value: 0.7468354430379747 and parameters: {'l1_ratio': 0.5249485314348081, 'penalty': 'elasticnet', 'C': 55.83186946547348, 'max_iter': 826, 'solver': 'saga'}. Best is trial 0 with value: 0.7468354430379747.\n",
      "[I 2024-06-09 21:53:10,954] Trial 161 finished with value: 0.7391738840772818 and parameters: {'l1_ratio': 0.048184948782166837, 'penalty': 'elasticnet', 'C': 0.03437523800695171, 'max_iter': 112, 'solver': 'saga'}. Best is trial 0 with value: 0.7468354430379747.\n",
      "[I 2024-06-09 21:53:11,020] Trial 162 finished with value: 0.7408394403730846 and parameters: {'l1_ratio': 0.18085637652095798, 'penalty': 'elasticnet', 'C': 0.04500467543083502, 'max_iter': 861, 'solver': 'saga'}. Best is trial 0 with value: 0.7468354430379747.\n",
      "[I 2024-06-09 21:53:11,071] Trial 163 finished with value: 0.7418387741505663 and parameters: {'l1_ratio': 0.22335336112405713, 'penalty': 'elasticnet', 'C': 0.5564047032308312, 'max_iter': 290, 'solver': 'saga'}. Best is trial 0 with value: 0.7468354430379747.\n",
      "[I 2024-06-09 21:53:11,148] Trial 164 finished with value: 0.7468354430379747 and parameters: {'l1_ratio': 0.4581142029682954, 'penalty': 'elasticnet', 'C': 68.56895171673021, 'max_iter': 816, 'solver': 'saga'}. Best is trial 0 with value: 0.7468354430379747.\n",
      "[I 2024-06-09 21:53:11,220] Trial 165 finished with value: 0.7465023317788141 and parameters: {'l1_ratio': 0.008540302969749836, 'penalty': 'elasticnet', 'C': 54.492268756353944, 'max_iter': 240, 'solver': 'saga'}. Best is trial 0 with value: 0.7468354430379747.\n",
      "[I 2024-06-09 21:53:11,306] Trial 166 finished with value: 0.7415056628914057 and parameters: {'l1_ratio': 0.21212538395786107, 'penalty': 'elasticnet', 'C': 0.04641012545779085, 'max_iter': 892, 'solver': 'saga'}. Best is trial 0 with value: 0.7468354430379747.\n",
      "[I 2024-06-09 21:53:11,373] Trial 167 finished with value: 0.7465023317788141 and parameters: {'l1_ratio': 0.6993404421513147, 'penalty': 'elasticnet', 'C': 1.9572941155706896, 'max_iter': 501, 'solver': 'saga'}. Best is trial 0 with value: 0.7468354430379747.\n",
      "[I 2024-06-09 21:53:11,457] Trial 168 finished with value: 0.7468354430379747 and parameters: {'l1_ratio': 0.35765548924698587, 'penalty': 'elasticnet', 'C': 72.89712316242216, 'max_iter': 392, 'solver': 'saga'}. Best is trial 0 with value: 0.7468354430379747.\n",
      "[I 2024-06-09 21:53:11,527] Trial 169 finished with value: 0.7451698867421719 and parameters: {'l1_ratio': 0.2525647588221581, 'penalty': 'elasticnet', 'C': 5.7399434355879455, 'max_iter': 901, 'solver': 'saga'}. Best is trial 0 with value: 0.7468354430379747.\n",
      "[I 2024-06-09 21:53:11,622] Trial 170 finished with value: 0.7408394403730846 and parameters: {'l1_ratio': 0.42959084730957575, 'penalty': 'elasticnet', 'C': 0.29037785517554465, 'max_iter': 234, 'solver': 'saga'}. Best is trial 0 with value: 0.7468354430379747.\n",
      "[I 2024-06-09 21:53:11,678] Trial 171 finished with value: 0.745836109260493 and parameters: {'l1_ratio': 0.4057965759814599, 'penalty': 'elasticnet', 'C': 2.409687511007279, 'max_iter': 695, 'solver': 'saga'}. Best is trial 0 with value: 0.7468354430379747.\n",
      "[I 2024-06-09 21:53:11,767] Trial 172 finished with value: 0.7295136575616256 and parameters: {'l1_ratio': 0.25786882263821753, 'penalty': 'elasticnet', 'C': 0.015190183464543648, 'max_iter': 354, 'solver': 'saga'}. Best is trial 0 with value: 0.7468354430379747.\n",
      "[I 2024-06-09 21:53:11,829] Trial 173 finished with value: 0.7245169886742172 and parameters: {'l1_ratio': 0.4262648360638064, 'penalty': 'elasticnet', 'C': 0.010099680155608283, 'max_iter': 138, 'solver': 'saga'}. Best is trial 0 with value: 0.7468354430379747.\n",
      "[I 2024-06-09 21:53:11,902] Trial 174 finished with value: 0.7165223184543638 and parameters: {'l1_ratio': 0.8705368937926137, 'penalty': 'elasticnet', 'C': 0.010789347902880676, 'max_iter': 128, 'solver': 'saga'}. Best is trial 0 with value: 0.7468354430379747.\n",
      "[I 2024-06-09 21:53:11,977] Trial 175 finished with value: 0.7415056628914057 and parameters: {'l1_ratio': 0.49765345484315615, 'penalty': 'elasticnet', 'C': 0.07866169156699519, 'max_iter': 438, 'solver': 'saga'}. Best is trial 0 with value: 0.7468354430379747.\n",
      "[I 2024-06-09 21:53:12,072] Trial 176 finished with value: 0.7465023317788141 and parameters: {'l1_ratio': 0.3577997907742848, 'penalty': 'elasticnet', 'C': 57.20442461131363, 'max_iter': 726, 'solver': 'saga'}. Best is trial 0 with value: 0.7468354430379747.\n",
      "[I 2024-06-09 21:53:12,143] Trial 177 finished with value: 0.745836109260493 and parameters: {'l1_ratio': 0.7885721416406517, 'penalty': 'elasticnet', 'C': 1.0108419324099949, 'max_iter': 132, 'solver': 'saga'}. Best is trial 0 with value: 0.7468354430379747.\n",
      "[I 2024-06-09 21:53:12,223] Trial 178 finished with value: 0.7278481012658228 and parameters: {'l1_ratio': 0.49078881889177617, 'penalty': 'elasticnet', 'C': 0.019417605447692464, 'max_iter': 683, 'solver': 'saga'}. Best is trial 0 with value: 0.7468354430379747.\n",
      "[I 2024-06-09 21:53:12,296] Trial 179 finished with value: 0.7425049966688874 and parameters: {'l1_ratio': 0.18951097529406513, 'penalty': 'elasticnet', 'C': 1.1293977346682464, 'max_iter': 422, 'solver': 'saga'}. Best is trial 0 with value: 0.7468354430379747.\n",
      "[I 2024-06-09 21:53:12,405] Trial 180 finished with value: 0.7468354430379747 and parameters: {'l1_ratio': 0.35560449737706856, 'penalty': 'elasticnet', 'C': 95.33403206065593, 'max_iter': 945, 'solver': 'saga'}. Best is trial 0 with value: 0.7468354430379747.\n",
      "[I 2024-06-09 21:53:12,465] Trial 181 finished with value: 0.7428381079280479 and parameters: {'l1_ratio': 0.3803928316342987, 'penalty': 'elasticnet', 'C': 1.119663630666038, 'max_iter': 211, 'solver': 'saga'}. Best is trial 0 with value: 0.7468354430379747.\n",
      "[I 2024-06-09 21:53:12,530] Trial 182 finished with value: 0.7465023317788141 and parameters: {'l1_ratio': 0.31786624938645336, 'penalty': 'elasticnet', 'C': 51.64813072181704, 'max_iter': 108, 'solver': 'saga'}. Best is trial 0 with value: 0.7468354430379747.\n",
      "[I 2024-06-09 21:53:12,600] Trial 183 finished with value: 0.737508327781479 and parameters: {'l1_ratio': 0.5766847434366573, 'penalty': 'elasticnet', 'C': 0.05357647332882928, 'max_iter': 295, 'solver': 'saga'}. Best is trial 0 with value: 0.7468354430379747.\n",
      "[I 2024-06-09 21:53:12,655] Trial 184 finished with value: 0.740506329113924 and parameters: {'l1_ratio': 0.5204200584793329, 'penalty': 'elasticnet', 'C': 0.08242284433629943, 'max_iter': 819, 'solver': 'saga'}. Best is trial 0 with value: 0.7468354430379747.\n",
      "[I 2024-06-09 21:53:12,741] Trial 185 finished with value: 0.7465023317788141 and parameters: {'l1_ratio': 0.4815508030411725, 'penalty': 'elasticnet', 'C': 6.6851751957786165, 'max_iter': 434, 'solver': 'saga'}. Best is trial 0 with value: 0.7468354430379747.\n",
      "[I 2024-06-09 21:53:12,807] Trial 186 finished with value: 0.7438374417055297 and parameters: {'l1_ratio': 0.40680733945979797, 'penalty': 'elasticnet', 'C': 1.4491003734180796, 'max_iter': 857, 'solver': 'saga'}. Best is trial 0 with value: 0.7468354430379747.\n",
      "[I 2024-06-09 21:53:12,878] Trial 187 finished with value: 0.7468354430379747 and parameters: {'l1_ratio': 0.4593597234190956, 'penalty': 'elasticnet', 'C': 60.02793144173173, 'max_iter': 480, 'solver': 'saga'}. Best is trial 0 with value: 0.7468354430379747.\n",
      "[I 2024-06-09 21:53:12,957] Trial 188 finished with value: 0.7465023317788141 and parameters: {'l1_ratio': 0.2619967887730157, 'penalty': 'elasticnet', 'C': 10.712390266612925, 'max_iter': 334, 'solver': 'saga'}. Best is trial 0 with value: 0.7468354430379747.\n",
      "[I 2024-06-09 21:53:13,014] Trial 189 finished with value: 0.7445036642238507 and parameters: {'l1_ratio': 0.9164386119520391, 'penalty': 'elasticnet', 'C': 0.5172608085543032, 'max_iter': 581, 'solver': 'saga'}. Best is trial 0 with value: 0.7468354430379747.\n",
      "[I 2024-06-09 21:53:13,076] Trial 190 finished with value: 0.7418387741505663 and parameters: {'l1_ratio': 0.18462380207402607, 'penalty': 'elasticnet', 'C': 0.3430761488613473, 'max_iter': 898, 'solver': 'saga'}. Best is trial 0 with value: 0.7468354430379747.\n",
      "[I 2024-06-09 21:53:13,143] Trial 191 finished with value: 0.7295136575616256 and parameters: {'l1_ratio': 0.21285193174839834, 'penalty': 'elasticnet', 'C': 0.010609616348701658, 'max_iter': 688, 'solver': 'saga'}. Best is trial 0 with value: 0.7468354430379747.\n",
      "[I 2024-06-09 21:53:13,206] Trial 192 finished with value: 0.7311792138574283 and parameters: {'l1_ratio': 0.8599840377691925, 'penalty': 'elasticnet', 'C': 0.023359562418764107, 'max_iter': 966, 'solver': 'saga'}. Best is trial 0 with value: 0.7468354430379747.\n",
      "[I 2024-06-09 21:53:13,307] Trial 193 finished with value: 0.7418387741505663 and parameters: {'l1_ratio': 0.1051869255930834, 'penalty': 'elasticnet', 'C': 0.043134613543198454, 'max_iter': 871, 'solver': 'saga'}. Best is trial 0 with value: 0.7468354430379747.\n",
      "[I 2024-06-09 21:53:13,393] Trial 194 finished with value: 0.7465023317788141 and parameters: {'l1_ratio': 0.2348524492830083, 'penalty': 'elasticnet', 'C': 9.466708423687352, 'max_iter': 552, 'solver': 'saga'}. Best is trial 0 with value: 0.7468354430379747.\n",
      "[I 2024-06-09 21:53:13,468] Trial 195 finished with value: 0.7468354430379747 and parameters: {'l1_ratio': 0.9269168613193993, 'penalty': 'elasticnet', 'C': 1.4175730331995304, 'max_iter': 258, 'solver': 'saga'}. Best is trial 0 with value: 0.7468354430379747.\n",
      "[I 2024-06-09 21:53:13,538] Trial 196 finished with value: 0.7468354430379747 and parameters: {'l1_ratio': 0.5540623103318519, 'penalty': 'elasticnet', 'C': 89.6060471028593, 'max_iter': 530, 'solver': 'saga'}. Best is trial 0 with value: 0.7468354430379747.\n",
      "[I 2024-06-09 21:53:13,628] Trial 197 finished with value: 0.7468354430379747 and parameters: {'l1_ratio': 0.16534047338212798, 'penalty': 'elasticnet', 'C': 75.41411366359625, 'max_iter': 736, 'solver': 'saga'}. Best is trial 0 with value: 0.7468354430379747.\n",
      "[I 2024-06-09 21:53:13,695] Trial 198 finished with value: 0.7465023317788141 and parameters: {'l1_ratio': 0.5583803439006675, 'penalty': 'elasticnet', 'C': 1.7908612320765482, 'max_iter': 458, 'solver': 'saga'}. Best is trial 0 with value: 0.7468354430379747.\n",
      "[I 2024-06-09 21:53:13,770] Trial 199 finished with value: 0.7321785476349101 and parameters: {'l1_ratio': 0.12335021229434073, 'penalty': 'elasticnet', 'C': 0.01617980297530127, 'max_iter': 276, 'solver': 'saga'}. Best is trial 0 with value: 0.7468354430379747.\n"
     ]
    },
    {
     "name": "stdout",
     "output_type": "stream",
     "text": [
      "Best Hyperparameters: {'l1_ratio': 0.5172978838465893, 'penalty': 'elasticnet', 'C': 61.35506425409843, 'max_iter': 789, 'solver': 'saga'}\n",
      "Best Accuracy: 0.7468354430379747\n"
     ]
    }
   ],
   "source": [
    "# Create a study object and optimize the objective function\n",
    "study = optuna.create_study(direction='maximize', sampler=optuna.samplers.RandomSampler(seed=seed))\n",
    "study.optimize(objective, n_trials=200)\n",
    "\n",
    "# Get the best hyperparameters and accuracy score\n",
    "best_params = study.best_params\n",
    "best_accuracy = study.best_value\n",
    "\n",
    "print(\"Best Hyperparameters:\", best_params)\n",
    "print(\"Best Accuracy:\", best_accuracy)"
   ]
  },
  {
   "cell_type": "code",
   "execution_count": 31,
   "metadata": {},
   "outputs": [
    {
     "data": {
      "text/html": [
       "<div>\n",
       "<style scoped>\n",
       "    .dataframe tbody tr th:only-of-type {\n",
       "        vertical-align: middle;\n",
       "    }\n",
       "\n",
       "    .dataframe tbody tr th {\n",
       "        vertical-align: top;\n",
       "    }\n",
       "\n",
       "    .dataframe thead th {\n",
       "        text-align: right;\n",
       "    }\n",
       "</style>\n",
       "<table border=\"1\" class=\"dataframe\">\n",
       "  <thead>\n",
       "    <tr style=\"text-align: right;\">\n",
       "      <th></th>\n",
       "      <th>number</th>\n",
       "      <th>value</th>\n",
       "      <th>datetime_start</th>\n",
       "      <th>datetime_complete</th>\n",
       "      <th>duration</th>\n",
       "      <th>params_C</th>\n",
       "      <th>params_l1_ratio</th>\n",
       "      <th>params_max_iter</th>\n",
       "      <th>params_penalty</th>\n",
       "      <th>params_solver</th>\n",
       "      <th>state</th>\n",
       "    </tr>\n",
       "  </thead>\n",
       "  <tbody>\n",
       "    <tr>\n",
       "      <th>0</th>\n",
       "      <td>0</td>\n",
       "      <td>0.746835</td>\n",
       "      <td>2024-06-09 21:52:59.105815</td>\n",
       "      <td>2024-06-09 21:52:59.164856</td>\n",
       "      <td>0 days 00:00:00.059041</td>\n",
       "      <td>61.355064</td>\n",
       "      <td>0.517298</td>\n",
       "      <td>789</td>\n",
       "      <td>elasticnet</td>\n",
       "      <td>saga</td>\n",
       "      <td>COMPLETE</td>\n",
       "    </tr>\n",
       "    <tr>\n",
       "      <th>16</th>\n",
       "      <td>16</td>\n",
       "      <td>0.746835</td>\n",
       "      <td>2024-06-09 21:53:00.354599</td>\n",
       "      <td>2024-06-09 21:53:00.444880</td>\n",
       "      <td>0 days 00:00:00.090281</td>\n",
       "      <td>66.521091</td>\n",
       "      <td>0.483055</td>\n",
       "      <td>912</td>\n",
       "      <td>elasticnet</td>\n",
       "      <td>saga</td>\n",
       "      <td>COMPLETE</td>\n",
       "    </tr>\n",
       "    <tr>\n",
       "      <th>113</th>\n",
       "      <td>113</td>\n",
       "      <td>0.746835</td>\n",
       "      <td>2024-06-09 21:53:07.489339</td>\n",
       "      <td>2024-06-09 21:53:07.563783</td>\n",
       "      <td>0 days 00:00:00.074444</td>\n",
       "      <td>95.651405</td>\n",
       "      <td>0.086517</td>\n",
       "      <td>668</td>\n",
       "      <td>elasticnet</td>\n",
       "      <td>saga</td>\n",
       "      <td>COMPLETE</td>\n",
       "    </tr>\n",
       "    <tr>\n",
       "      <th>65</th>\n",
       "      <td>65</td>\n",
       "      <td>0.746835</td>\n",
       "      <td>2024-06-09 21:53:03.866481</td>\n",
       "      <td>2024-06-09 21:53:03.946753</td>\n",
       "      <td>0 days 00:00:00.080272</td>\n",
       "      <td>91.867857</td>\n",
       "      <td>0.480687</td>\n",
       "      <td>544</td>\n",
       "      <td>elasticnet</td>\n",
       "      <td>saga</td>\n",
       "      <td>COMPLETE</td>\n",
       "    </tr>\n",
       "    <tr>\n",
       "      <th>151</th>\n",
       "      <td>151</td>\n",
       "      <td>0.746835</td>\n",
       "      <td>2024-06-09 21:53:10.182628</td>\n",
       "      <td>2024-06-09 21:53:10.250415</td>\n",
       "      <td>0 days 00:00:00.067787</td>\n",
       "      <td>54.003560</td>\n",
       "      <td>0.857694</td>\n",
       "      <td>548</td>\n",
       "      <td>elasticnet</td>\n",
       "      <td>saga</td>\n",
       "      <td>COMPLETE</td>\n",
       "    </tr>\n",
       "    <tr>\n",
       "      <th>46</th>\n",
       "      <td>46</td>\n",
       "      <td>0.746835</td>\n",
       "      <td>2024-06-09 21:53:02.532278</td>\n",
       "      <td>2024-06-09 21:53:02.594719</td>\n",
       "      <td>0 days 00:00:00.062441</td>\n",
       "      <td>1.217760</td>\n",
       "      <td>0.760956</td>\n",
       "      <td>210</td>\n",
       "      <td>elasticnet</td>\n",
       "      <td>saga</td>\n",
       "      <td>COMPLETE</td>\n",
       "    </tr>\n",
       "    <tr>\n",
       "      <th>159</th>\n",
       "      <td>159</td>\n",
       "      <td>0.746835</td>\n",
       "      <td>2024-06-09 21:53:10.733231</td>\n",
       "      <td>2024-06-09 21:53:10.811589</td>\n",
       "      <td>0 days 00:00:00.078358</td>\n",
       "      <td>1.416447</td>\n",
       "      <td>0.741395</td>\n",
       "      <td>351</td>\n",
       "      <td>elasticnet</td>\n",
       "      <td>saga</td>\n",
       "      <td>COMPLETE</td>\n",
       "    </tr>\n",
       "    <tr>\n",
       "      <th>160</th>\n",
       "      <td>160</td>\n",
       "      <td>0.746835</td>\n",
       "      <td>2024-06-09 21:53:10.812326</td>\n",
       "      <td>2024-06-09 21:53:10.878339</td>\n",
       "      <td>0 days 00:00:00.066013</td>\n",
       "      <td>55.831869</td>\n",
       "      <td>0.524949</td>\n",
       "      <td>826</td>\n",
       "      <td>elasticnet</td>\n",
       "      <td>saga</td>\n",
       "      <td>COMPLETE</td>\n",
       "    </tr>\n",
       "    <tr>\n",
       "      <th>42</th>\n",
       "      <td>42</td>\n",
       "      <td>0.746835</td>\n",
       "      <td>2024-06-09 21:53:02.255607</td>\n",
       "      <td>2024-06-09 21:53:02.323010</td>\n",
       "      <td>0 days 00:00:00.067403</td>\n",
       "      <td>22.644087</td>\n",
       "      <td>0.849785</td>\n",
       "      <td>357</td>\n",
       "      <td>elasticnet</td>\n",
       "      <td>saga</td>\n",
       "      <td>COMPLETE</td>\n",
       "    </tr>\n",
       "    <tr>\n",
       "      <th>164</th>\n",
       "      <td>164</td>\n",
       "      <td>0.746835</td>\n",
       "      <td>2024-06-09 21:53:11.075194</td>\n",
       "      <td>2024-06-09 21:53:11.148529</td>\n",
       "      <td>0 days 00:00:00.073335</td>\n",
       "      <td>68.568952</td>\n",
       "      <td>0.458114</td>\n",
       "      <td>816</td>\n",
       "      <td>elasticnet</td>\n",
       "      <td>saga</td>\n",
       "      <td>COMPLETE</td>\n",
       "    </tr>\n",
       "  </tbody>\n",
       "</table>\n",
       "</div>"
      ],
      "text/plain": [
       "     number     value             datetime_start          datetime_complete  \\\n",
       "0         0  0.746835 2024-06-09 21:52:59.105815 2024-06-09 21:52:59.164856   \n",
       "16       16  0.746835 2024-06-09 21:53:00.354599 2024-06-09 21:53:00.444880   \n",
       "113     113  0.746835 2024-06-09 21:53:07.489339 2024-06-09 21:53:07.563783   \n",
       "65       65  0.746835 2024-06-09 21:53:03.866481 2024-06-09 21:53:03.946753   \n",
       "151     151  0.746835 2024-06-09 21:53:10.182628 2024-06-09 21:53:10.250415   \n",
       "46       46  0.746835 2024-06-09 21:53:02.532278 2024-06-09 21:53:02.594719   \n",
       "159     159  0.746835 2024-06-09 21:53:10.733231 2024-06-09 21:53:10.811589   \n",
       "160     160  0.746835 2024-06-09 21:53:10.812326 2024-06-09 21:53:10.878339   \n",
       "42       42  0.746835 2024-06-09 21:53:02.255607 2024-06-09 21:53:02.323010   \n",
       "164     164  0.746835 2024-06-09 21:53:11.075194 2024-06-09 21:53:11.148529   \n",
       "\n",
       "                  duration   params_C  params_l1_ratio  params_max_iter  \\\n",
       "0   0 days 00:00:00.059041  61.355064         0.517298              789   \n",
       "16  0 days 00:00:00.090281  66.521091         0.483055              912   \n",
       "113 0 days 00:00:00.074444  95.651405         0.086517              668   \n",
       "65  0 days 00:00:00.080272  91.867857         0.480687              544   \n",
       "151 0 days 00:00:00.067787  54.003560         0.857694              548   \n",
       "46  0 days 00:00:00.062441   1.217760         0.760956              210   \n",
       "159 0 days 00:00:00.078358   1.416447         0.741395              351   \n",
       "160 0 days 00:00:00.066013  55.831869         0.524949              826   \n",
       "42  0 days 00:00:00.067403  22.644087         0.849785              357   \n",
       "164 0 days 00:00:00.073335  68.568952         0.458114              816   \n",
       "\n",
       "    params_penalty params_solver     state  \n",
       "0       elasticnet          saga  COMPLETE  \n",
       "16      elasticnet          saga  COMPLETE  \n",
       "113     elasticnet          saga  COMPLETE  \n",
       "65      elasticnet          saga  COMPLETE  \n",
       "151     elasticnet          saga  COMPLETE  \n",
       "46      elasticnet          saga  COMPLETE  \n",
       "159     elasticnet          saga  COMPLETE  \n",
       "160     elasticnet          saga  COMPLETE  \n",
       "42      elasticnet          saga  COMPLETE  \n",
       "164     elasticnet          saga  COMPLETE  "
      ]
     },
     "execution_count": 31,
     "metadata": {},
     "output_type": "execute_result"
    }
   ],
   "source": [
    "# Get best trials\n",
    "trials_OTP2 = study.trials_dataframe()\n",
    "# Sort the dataframe by value (accuracy) in descending order\n",
    "top_trials_OTP2 = trials_OTP2.sort_values(by='value', ascending=False).head(10)\n",
    "top_trials_OTP2"
   ]
  },
  {
   "cell_type": "code",
   "execution_count": 32,
   "metadata": {},
   "outputs": [
    {
     "name": "stdout",
     "output_type": "stream",
     "text": [
      "Metrics for LR_baseline_OPT2_best:\n",
      "Accuracy: 0.7468\n",
      "Weighted F1: 0.7463\n",
      "Weighted Precision: 0.7472\n",
      "Weighted Recall: 0.7468\n",
      "Macro-Averaged Precision: 0.7474\n",
      "Macro-Averaged Recall: 0.7454\n",
      "F1: [0.76264834 0.72876517]\n",
      "Precision: [0.7417983  0.75294985]\n",
      "classification report\n",
      "              precision    recall  f1-score   support\n",
      "\n",
      "     Class 0       0.74      0.78      0.76      1556\n",
      "     Class 1       0.75      0.71      0.73      1446\n",
      "\n",
      "    accuracy                           0.75      3002\n",
      "   macro avg       0.75      0.75      0.75      3002\n",
      "weighted avg       0.75      0.75      0.75      3002\n",
      "\n",
      "Confusion Matrix\n"
     ]
    },
    {
     "data": {
      "image/png": "[encoded data removed]",
      "text/plain": [
       "<Figure size 640x480 with 2 Axes>"
      ]
     },
     "metadata": {},
     "output_type": "display_data"
    }
   ],
   "source": [
    "best_trial = study.best_trial\n",
    "best_model = LogisticRegression(**best_trial.params, random_state=seed)\n",
    "best_model.fit(X_train, y_train)\n",
    "\n",
    "predictions_opt2 = best_model.predict(X_test)\n",
    "\n",
    "model_metrics = pd.concat([model_metrics, calculate_metrics('LR_baseline_OPT2_best', y_test, predictions_opt2)])"
   ]
  },
  {
   "cell_type": "code",
   "execution_count": 33,
   "metadata": {},
   "outputs": [
    {
     "data": {
      "application/vnd.plotly.v1+json": {
       "config": {
        "plotlyServerURL": "https://plot.ly"
       },
       "data": [
        {
         "cliponaxis": false,
         "hovertemplate": [
          "penalty (CategoricalDistribution): 0.0<extra></extra>",
          "solver (CategoricalDistribution): 0.0<extra></extra>",
          "max_iter (IntDistribution): 0.02019794445630324<extra></extra>",
          "l1_ratio (FloatDistribution): 0.025898772089869737<extra></extra>",
          "C (FloatDistribution): 0.9539032834538271<extra></extra>"
         ],
         "name": "Objective Value",
         "orientation": "h",
         "text": [
          "<0.01",
          "<0.01",
          "0.02",
          "0.03",
          "0.95"
         ],
         "textposition": "outside",
         "type": "bar",
         "x": [
          0,
          0,
          0.02019794445630324,
          0.025898772089869737,
          0.9539032834538271
         ],
         "y": [
          "penalty",
          "solver",
          "max_iter",
          "l1_ratio",
          "C"
         ]
        }
       ],
       "layout": {
        "template": {
         "data": {
          "bar": [
           {
            "error_x": {
             "color": "#2a3f5f"
            },
            "error_y": {
             "color": "#2a3f5f"
            },
            "marker": {
             "line": {
              "color": "#E5ECF6",
              "width": 0.5
             },
             "pattern": {
              "fillmode": "overlay",
              "size": 10,
              "solidity": 0.2
             }
            },
            "type": "bar"
           }
          ],
          "barpolar": [
           {
            "marker": {
             "line": {
              "color": "#E5ECF6",
              "width": 0.5
             },
             "pattern": {
              "fillmode": "overlay",
              "size": 10,
              "solidity": 0.2
             }
            },
            "type": "barpolar"
           }
          ],
          "carpet": [
           {
            "aaxis": {
             "endlinecolor": "#2a3f5f",
             "gridcolor": "white",
             "linecolor": "white",
             "minorgridcolor": "white",
             "startlinecolor": "#2a3f5f"
            },
            "baxis": {
             "endlinecolor": "#2a3f5f",
             "gridcolor": "white",
             "linecolor": "white",
             "minorgridcolor": "white",
             "startlinecolor": "#2a3f5f"
            },
            "type": "carpet"
           }
          ],
          "choropleth": [
           {
            "colorbar": {
             "outlinewidth": 0,
             "ticks": ""
            },
            "type": "choropleth"
           }
          ],
          "contour": [
           {
            "colorbar": {
             "outlinewidth": 0,
             "ticks": ""
            },
            "colorscale": [
             [
              0,
              "#0d0887"
             ],
             [
              0.1111111111111111,
              "#46039f"
             ],
             [
              0.2222222222222222,
              "#7201a8"
             ],
             [
              0.3333333333333333,
              "#9c179e"
             ],
             [
              0.4444444444444444,
              "#bd3786"
             ],
             [
              0.5555555555555556,
              "#d8576b"
             ],
             [
              0.6666666666666666,
              "#ed7953"
             ],
             [
              0.7777777777777778,
              "#fb9f3a"
             ],
             [
              0.8888888888888888,
              "#fdca26"
             ],
             [
              1,
              "#f0f921"
             ]
            ],
            "type": "contour"
           }
          ],
          "contourcarpet": [
           {
            "colorbar": {
             "outlinewidth": 0,
             "ticks": ""
            },
            "type": "contourcarpet"
           }
          ],
          "heatmap": [
           {
            "colorbar": {
             "outlinewidth": 0,
             "ticks": ""
            },
            "colorscale": [
             [
              0,
              "#0d0887"
             ],
             [
              0.1111111111111111,
              "#46039f"
             ],
             [
              0.2222222222222222,
              "#7201a8"
             ],
             [
              0.3333333333333333,
              "#9c179e"
             ],
             [
              0.4444444444444444,
              "#bd3786"
             ],
             [
              0.5555555555555556,
              "#d8576b"
             ],
             [
              0.6666666666666666,
              "#ed7953"
             ],
             [
              0.7777777777777778,
              "#fb9f3a"
             ],
             [
              0.8888888888888888,
              "#fdca26"
             ],
             [
              1,
              "#f0f921"
             ]
            ],
            "type": "heatmap"
           }
          ],
          "heatmapgl": [
           {
            "colorbar": {
             "outlinewidth": 0,
             "ticks": ""
            },
            "colorscale": [
             [
              0,
              "#0d0887"
             ],
             [
              0.1111111111111111,
              "#46039f"
             ],
             [
              0.2222222222222222,
              "#7201a8"
             ],
             [
              0.3333333333333333,
              "#9c179e"
             ],
             [
              0.4444444444444444,
              "#bd3786"
             ],
             [
              0.5555555555555556,
              "#d8576b"
             ],
             [
              0.6666666666666666,
              "#ed7953"
             ],
             [
              0.7777777777777778,
              "#fb9f3a"
             ],
             [
              0.8888888888888888,
              "#fdca26"
             ],
             [
              1,
              "#f0f921"
             ]
            ],
            "type": "heatmapgl"
           }
          ],
          "histogram": [
           {
            "marker": {
             "pattern": {
              "fillmode": "overlay",
              "size": 10,
              "solidity": 0.2
             }
            },
            "type": "histogram"
           }
          ],
          "histogram2d": [
           {
            "colorbar": {
             "outlinewidth": 0,
             "ticks": ""
            },
            "colorscale": [
             [
              0,
              "#0d0887"
             ],
             [
              0.1111111111111111,
              "#46039f"
             ],
             [
              0.2222222222222222,
              "#7201a8"
             ],
             [
              0.3333333333333333,
              "#9c179e"
             ],
             [
              0.4444444444444444,
              "#bd3786"
             ],
             [
              0.5555555555555556,
              "#d8576b"
             ],
             [
              0.6666666666666666,
              "#ed7953"
             ],
             [
              0.7777777777777778,
              "#fb9f3a"
             ],
             [
              0.8888888888888888,
              "#fdca26"
             ],
             [
              1,
              "#f0f921"
             ]
            ],
            "type": "histogram2d"
           }
          ],
          "histogram2dcontour": [
           {
            "colorbar": {
             "outlinewidth": 0,
             "ticks": ""
            },
            "colorscale": [
             [
              0,
              "#0d0887"
             ],
             [
              0.1111111111111111,
              "#46039f"
             ],
             [
              0.2222222222222222,
              "#7201a8"
             ],
             [
              0.3333333333333333,
              "#9c179e"
             ],
             [
              0.4444444444444444,
              "#bd3786"
             ],
             [
              0.5555555555555556,
              "#d8576b"
             ],
             [
              0.6666666666666666,
              "#ed7953"
             ],
             [
              0.7777777777777778,
              "#fb9f3a"
             ],
             [
              0.8888888888888888,
              "#fdca26"
             ],
             [
              1,
              "#f0f921"
             ]
            ],
            "type": "histogram2dcontour"
           }
          ],
          "mesh3d": [
           {
            "colorbar": {
             "outlinewidth": 0,
             "ticks": ""
            },
            "type": "mesh3d"
           }
          ],
          "parcoords": [
           {
            "line": {
             "colorbar": {
              "outlinewidth": 0,
              "ticks": ""
             }
            },
            "type": "parcoords"
           }
          ],
          "pie": [
           {
            "automargin": true,
            "type": "pie"
           }
          ],
          "scatter": [
           {
            "fillpattern": {
             "fillmode": "overlay",
             "size": 10,
             "solidity": 0.2
            },
            "type": "scatter"
           }
          ],
          "scatter3d": [
           {
            "line": {
             "colorbar": {
              "outlinewidth": 0,
              "ticks": ""
             }
            },
            "marker": {
             "colorbar": {
              "outlinewidth": 0,
              "ticks": ""
             }
            },
            "type": "scatter3d"
           }
          ],
          "scattercarpet": [
           {
            "marker": {
             "colorbar": {
              "outlinewidth": 0,
              "ticks": ""
             }
            },
            "type": "scattercarpet"
           }
          ],
          "scattergeo": [
           {
            "marker": {
             "colorbar": {
              "outlinewidth": 0,
              "ticks": ""
             }
            },
            "type": "scattergeo"
           }
          ],
          "scattergl": [
           {
            "marker": {
             "colorbar": {
              "outlinewidth": 0,
              "ticks": ""
             }
            },
            "type": "scattergl"
           }
          ],
          "scattermapbox": [
           {
            "marker": {
             "colorbar": {
              "outlinewidth": 0,
              "ticks": ""
             }
            },
            "type": "scattermapbox"
           }
          ],
          "scatterpolar": [
           {
            "marker": {
             "colorbar": {
              "outlinewidth": 0,
              "ticks": ""
             }
            },
            "type": "scatterpolar"
           }
          ],
          "scatterpolargl": [
           {
            "marker": {
             "colorbar": {
              "outlinewidth": 0,
              "ticks": ""
             }
            },
            "type": "scatterpolargl"
           }
          ],
          "scatterternary": [
           {
            "marker": {
             "colorbar": {
              "outlinewidth": 0,
              "ticks": ""
             }
            },
            "type": "scatterternary"
           }
          ],
          "surface": [
           {
            "colorbar": {
             "outlinewidth": 0,
             "ticks": ""
            },
            "colorscale": [
             [
              0,
              "#0d0887"
             ],
             [
              0.1111111111111111,
              "#46039f"
             ],
             [
              0.2222222222222222,
              "#7201a8"
             ],
             [
              0.3333333333333333,
              "#9c179e"
             ],
             [
              0.4444444444444444,
              "#bd3786"
             ],
             [
              0.5555555555555556,
              "#d8576b"
             ],
             [
              0.6666666666666666,
              "#ed7953"
             ],
             [
              0.7777777777777778,
              "#fb9f3a"
             ],
             [
              0.8888888888888888,
              "#fdca26"
             ],
             [
              1,
              "#f0f921"
             ]
            ],
            "type": "surface"
           }
          ],
          "table": [
           {
            "cells": {
             "fill": {
              "color": "#EBF0F8"
             },
             "line": {
              "color": "white"
             }
            },
            "header": {
             "fill": {
              "color": "#C8D4E3"
             },
             "line": {
              "color": "white"
             }
            },
            "type": "table"
           }
          ]
         },
         "layout": {
          "annotationdefaults": {
           "arrowcolor": "#2a3f5f",
           "arrowhead": 0,
           "arrowwidth": 1
          },
          "autotypenumbers": "strict",
          "coloraxis": {
           "colorbar": {
            "outlinewidth": 0,
            "ticks": ""
           }
          },
          "colorscale": {
           "diverging": [
            [
             0,
             "#8e0152"
            ],
            [
             0.1,
             "#c51b7d"
            ],
            [
             0.2,
             "#de77ae"
            ],
            [
             0.3,
             "#f1b6da"
            ],
            [
             0.4,
             "#fde0ef"
            ],
            [
             0.5,
             "#f7f7f7"
            ],
            [
             0.6,
             "#e6f5d0"
            ],
            [
             0.7,
             "#b8e186"
            ],
            [
             0.8,
             "#7fbc41"
            ],
            [
             0.9,
             "#4d9221"
            ],
            [
             1,
             "#276419"
            ]
           ],
           "sequential": [
            [
             0,
             "#0d0887"
            ],
            [
             0.1111111111111111,
             "#46039f"
            ],
            [
             0.2222222222222222,
             "#7201a8"
            ],
            [
             0.3333333333333333,
             "#9c179e"
            ],
            [
             0.4444444444444444,
             "#bd3786"
            ],
            [
             0.5555555555555556,
             "#d8576b"
            ],
            [
             0.6666666666666666,
             "#ed7953"
            ],
            [
             0.7777777777777778,
             "#fb9f3a"
            ],
            [
             0.8888888888888888,
             "#fdca26"
            ],
            [
             1,
             "#f0f921"
            ]
           ],
           "sequentialminus": [
            [
             0,
             "#0d0887"
            ],
            [
             0.1111111111111111,
             "#46039f"
            ],
            [
             0.2222222222222222,
             "#7201a8"
            ],
            [
             0.3333333333333333,
             "#9c179e"
            ],
            [
             0.4444444444444444,
             "#bd3786"
            ],
            [
             0.5555555555555556,
             "#d8576b"
            ],
            [
             0.6666666666666666,
             "#ed7953"
            ],
            [
             0.7777777777777778,
             "#fb9f3a"
            ],
            [
             0.8888888888888888,
             "#fdca26"
            ],
            [
             1,
             "#f0f921"
            ]
           ]
          },
          "colorway": [
           "#636efa",
           "#EF553B",
           "#00cc96",
           "#ab63fa",
           "#FFA15A",
           "#19d3f3",
           "#FF6692",
           "#B6E880",
           "#FF97FF",
           "#FECB52"
          ],
          "font": {
           "color": "#2a3f5f"
          },
          "geo": {
           "bgcolor": "white",
           "lakecolor": "white",
           "landcolor": "#E5ECF6",
           "showlakes": true,
           "showland": true,
           "subunitcolor": "white"
          },
          "hoverlabel": {
           "align": "left"
          },
          "hovermode": "closest",
          "mapbox": {
           "style": "light"
          },
          "paper_bgcolor": "white",
          "plot_bgcolor": "#E5ECF6",
          "polar": {
           "angularaxis": {
            "gridcolor": "white",
            "linecolor": "white",
            "ticks": ""
           },
           "bgcolor": "#E5ECF6",
           "radialaxis": {
            "gridcolor": "white",
            "linecolor": "white",
            "ticks": ""
           }
          },
          "scene": {
           "xaxis": {
            "backgroundcolor": "#E5ECF6",
            "gridcolor": "white",
            "gridwidth": 2,
            "linecolor": "white",
            "showbackground": true,
            "ticks": "",
            "zerolinecolor": "white"
           },
           "yaxis": {
            "backgroundcolor": "#E5ECF6",
            "gridcolor": "white",
            "gridwidth": 2,
            "linecolor": "white",
            "showbackground": true,
            "ticks": "",
            "zerolinecolor": "white"
           },
           "zaxis": {
            "backgroundcolor": "#E5ECF6",
            "gridcolor": "white",
            "gridwidth": 2,
            "linecolor": "white",
            "showbackground": true,
            "ticks": "",
            "zerolinecolor": "white"
           }
          },
          "shapedefaults": {
           "line": {
            "color": "#2a3f5f"
           }
          },
          "ternary": {
           "aaxis": {
            "gridcolor": "white",
            "linecolor": "white",
            "ticks": ""
           },
           "baxis": {
            "gridcolor": "white",
            "linecolor": "white",
            "ticks": ""
           },
           "bgcolor": "#E5ECF6",
           "caxis": {
            "gridcolor": "white",
            "linecolor": "white",
            "ticks": ""
           }
          },
          "title": {
           "x": 0.05
          },
          "xaxis": {
           "automargin": true,
           "gridcolor": "white",
           "linecolor": "white",
           "ticks": "",
           "title": {
            "standoff": 15
           },
           "zerolinecolor": "white",
           "zerolinewidth": 2
          },
          "yaxis": {
           "automargin": true,
           "gridcolor": "white",
           "linecolor": "white",
           "ticks": "",
           "title": {
            "standoff": 15
           },
           "zerolinecolor": "white",
           "zerolinewidth": 2
          }
         }
        },
        "title": {
         "text": "Hyperparameter Importances"
        },
        "xaxis": {
         "title": {
          "text": "Hyperparameter Importance"
         }
        },
        "yaxis": {
         "title": {
          "text": "Hyperparameter"
         }
        }
       }
      }
     },
     "metadata": {},
     "output_type": "display_data"
    }
   ],
   "source": [
    "optuna.visualization.plot_param_importances(study)"
   ]
  },
  {
   "cell_type": "markdown",
   "metadata": {},
   "source": [
    "Make 'C' interval uniform (as it remains the most important hyperparameter)"
   ]
  },
  {
   "cell_type": "code",
   "execution_count": 34,
   "metadata": {},
   "outputs": [],
   "source": [
    "def objective(trial):\n",
    "    # Define the hyperparameters to optimize\n",
    "    l1_ratio = trial.suggest_uniform('l1_ratio', 0, 1)\n",
    "    penalty = trial.suggest_categorical('penalty', ['elasticnet'])\n",
    "    C = trial.suggest_uniform('C', 0.01, 100.0)\n",
    "    max_iter = trial.suggest_int('max_iter', 100, 1000)\n",
    "    solver= trial.suggest_categorical('solver', ['saga'])\n",
    "    \n",
    "    # Create the logistic regression model with the hyperparameters\n",
    "    model = LogisticRegression(penalty=penalty, C=C, max_iter=max_iter,\n",
    "     solver=solver, l1_ratio=l1_ratio, random_state=seed)\n",
    "    \n",
    "    # Train the model\n",
    "    model.fit(X_train, y_train)\n",
    "    \n",
    "    # Make predictions on the test set\n",
    "    y_pred = model.predict(X_test)\n",
    "    \n",
    "    # Calculate the accuracy score\n",
    "    accuracy = accuracy_score(y_test, y_pred)\n",
    "    #score_cross_val = cross_val_score(model, X_train, y_train, cv=5, scoring='precision')\n",
    "\n",
    "    \n",
    "    return accuracy"
   ]
  },
  {
   "cell_type": "code",
   "execution_count": 35,
   "metadata": {},
   "outputs": [
    {
     "name": "stderr",
     "output_type": "stream",
     "text": [
      "[I 2024-06-09 21:53:14,686] A new study created in memory with name: no-name-6b727b89-9f7a-432a-8e03-0fe9d6647757\n",
      "[I 2024-06-09 21:53:14,762] Trial 0 finished with value: 0.7468354430379747 and parameters: {'l1_ratio': 0.5172978838465893, 'penalty': 'elasticnet', 'C': 94.69679075544326, 'max_iter': 789, 'solver': 'saga'}. Best is trial 0 with value: 0.7468354430379747.\n",
      "[I 2024-06-09 21:53:14,834] Trial 1 finished with value: 0.7465023317788141 and parameters: {'l1_ratio': 0.2823958439671127, 'penalty': 'elasticnet', 'C': 22.11232587253264, 'max_iter': 718, 'solver': 'saga'}. Best is trial 0 with value: 0.7468354430379747.\n",
      "[I 2024-06-09 21:53:14,908] Trial 2 finished with value: 0.7465023317788141 and parameters: {'l1_ratio': 0.16713920310005626, 'penalty': 'elasticnet', 'C': 39.25032222183842, 'max_iter': 656, 'solver': 'saga'}. Best is trial 0 with value: 0.7468354430379747.\n",
      "[I 2024-06-09 21:53:14,958] Trial 3 finished with value: 0.7418387741505663 and parameters: {'l1_ratio': 0.411930094858746, 'penalty': 'elasticnet', 'C': 0.25646347127660823, 'max_iter': 896, 'solver': 'saga'}. Best is trial 0 with value: 0.7468354430379747.\n",
      "[I 2024-06-09 21:53:15,041] Trial 4 finished with value: 0.7468354430379747 and parameters: {'l1_ratio': 0.8849475383764736, 'penalty': 'elasticnet', 'C': 30.047964839754428, 'max_iter': 631, 'solver': 'saga'}. Best is trial 0 with value: 0.7468354430379747.\n",
      "[I 2024-06-09 21:53:15,132] Trial 5 finished with value: 0.7468354430379747 and parameters: {'l1_ratio': 0.9784269160148309, 'penalty': 'elasticnet', 'C': 84.51093127440984, 'max_iter': 158, 'solver': 'saga'}. Best is trial 0 with value: 0.7468354430379747.\n",
      "[I 2024-06-09 21:53:15,209] Trial 6 finished with value: 0.7465023317788141 and parameters: {'l1_ratio': 0.2947444647173656, 'penalty': 'elasticnet', 'C': 28.800564752314965, 'max_iter': 841, 'solver': 'saga'}. Best is trial 0 with value: 0.7468354430379747.\n",
      "[I 2024-06-09 21:53:15,286] Trial 7 finished with value: 0.7465023317788141 and parameters: {'l1_ratio': 0.6261830379602461, 'penalty': 'elasticnet', 'C': 11.056666614228241, 'max_iter': 100, 'solver': 'saga'}. Best is trial 0 with value: 0.7468354430379747.\n",
      "[I 2024-06-09 21:53:15,366] Trial 8 finished with value: 0.7465023317788141 and parameters: {'l1_ratio': 0.9421662328554996, 'penalty': 'elasticnet', 'C': 14.158660764941725, 'max_iter': 479, 'solver': 'saga'}. Best is trial 0 with value: 0.7468354430379747.\n",
      "[I 2024-06-09 21:53:15,453] Trial 9 finished with value: 0.7468354430379747 and parameters: {'l1_ratio': 0.3464894401485442, 'penalty': 'elasticnet', 'C': 86.97981058887417, 'max_iter': 486, 'solver': 'saga'}. Best is trial 0 with value: 0.7468354430379747.\n",
      "[I 2024-06-09 21:53:15,530] Trial 10 finished with value: 0.7468354430379747 and parameters: {'l1_ratio': 0.8287514843227557, 'penalty': 'elasticnet', 'C': 71.78800530422156, 'max_iter': 207, 'solver': 'saga'}. Best is trial 0 with value: 0.7468354430379747.\n",
      "[I 2024-06-09 21:53:15,608] Trial 11 finished with value: 0.7465023317788141 and parameters: {'l1_ratio': 0.5963841727096089, 'penalty': 'elasticnet', 'C': 12.984332207540941, 'max_iter': 169, 'solver': 'saga'}. Best is trial 0 with value: 0.7468354430379747.\n",
      "[I 2024-06-09 21:53:15,687] Trial 12 finished with value: 0.7468354430379747 and parameters: {'l1_ratio': 0.831205255690418, 'penalty': 'elasticnet', 'C': 46.443917621872444, 'max_iter': 245, 'solver': 'saga'}. Best is trial 0 with value: 0.7468354430379747.\n",
      "[I 2024-06-09 21:53:15,780] Trial 13 finished with value: 0.7468354430379747 and parameters: {'l1_ratio': 0.5479752920930067, 'penalty': 'elasticnet', 'C': 58.85269732601583, 'max_iter': 797, 'solver': 'saga'}. Best is trial 0 with value: 0.7468354430379747.\n",
      "[I 2024-06-09 21:53:15,861] Trial 14 finished with value: 0.7468354430379747 and parameters: {'l1_ratio': 0.6558454580069033, 'penalty': 'elasticnet', 'C': 55.77509888024751, 'max_iter': 260, 'solver': 'saga'}. Best is trial 0 with value: 0.7468354430379747.\n",
      "[I 2024-06-09 21:53:15,945] Trial 15 finished with value: 0.7465023317788141 and parameters: {'l1_ratio': 0.24058353121801312, 'penalty': 'elasticnet', 'C': 50.61040269056224, 'max_iter': 457, 'solver': 'saga'}. Best is trial 0 with value: 0.7468354430379747.\n",
      "[I 2024-06-09 21:53:16,032] Trial 16 finished with value: 0.7468354430379747 and parameters: {'l1_ratio': 0.48305518544294146, 'penalty': 'elasticnet', 'C': 95.5744267104077, 'max_iter': 912, 'solver': 'saga'}. Best is trial 0 with value: 0.7468354430379747.\n",
      "[I 2024-06-09 21:53:16,113] Trial 17 finished with value: 0.7468354430379747 and parameters: {'l1_ratio': 0.5057593219775152, 'penalty': 'elasticnet', 'C': 82.07194150143985, 'max_iter': 845, 'solver': 'saga'}. Best is trial 0 with value: 0.7468354430379747.\n",
      "[I 2024-06-09 21:53:16,203] Trial 18 finished with value: 0.745836109260493 and parameters: {'l1_ratio': 0.23183334760205443, 'penalty': 'elasticnet', 'C': 7.914758085628994, 'max_iter': 519, 'solver': 'saga'}. Best is trial 0 with value: 0.7468354430379747.\n",
      "[I 2024-06-09 21:53:16,289] Trial 19 finished with value: 0.7465023317788141 and parameters: {'l1_ratio': 0.8789758084042731, 'penalty': 'elasticnet', 'C': 14.758830839998286, 'max_iter': 308, 'solver': 'saga'}. Best is trial 0 with value: 0.7468354430379747.\n",
      "[I 2024-06-09 21:53:16,372] Trial 20 finished with value: 0.7465023317788141 and parameters: {'l1_ratio': 0.9179458057039298, 'penalty': 'elasticnet', 'C': 12.915062125341006, 'max_iter': 925, 'solver': 'saga'}. Best is trial 0 with value: 0.7468354430379747.\n",
      "[I 2024-06-09 21:53:16,427] Trial 21 finished with value: 0.7465023317788141 and parameters: {'l1_ratio': 0.23479755091129706, 'penalty': 'elasticnet', 'C': 61.602516996263844, 'max_iter': 957, 'solver': 'saga'}. Best is trial 0 with value: 0.7468354430379747.\n",
      "[I 2024-06-09 21:53:16,509] Trial 22 finished with value: 0.7465023317788141 and parameters: {'l1_ratio': 0.25513081972233587, 'penalty': 'elasticnet', 'C': 45.031012283015585, 'max_iter': 976, 'solver': 'saga'}. Best is trial 0 with value: 0.7468354430379747.\n",
      "[I 2024-06-09 21:53:16,586] Trial 23 finished with value: 0.7465023317788141 and parameters: {'l1_ratio': 0.23937099816163865, 'penalty': 'elasticnet', 'C': 19.876143456435944, 'max_iter': 719, 'solver': 'saga'}. Best is trial 0 with value: 0.7468354430379747.\n",
      "[I 2024-06-09 21:53:16,656] Trial 24 finished with value: 0.7468354430379747 and parameters: {'l1_ratio': 0.8450091946690719, 'penalty': 'elasticnet', 'C': 45.33708501986234, 'max_iter': 191, 'solver': 'saga'}. Best is trial 0 with value: 0.7468354430379747.\n",
      "[I 2024-06-09 21:53:16,744] Trial 25 finished with value: 0.7465023317788141 and parameters: {'l1_ratio': 0.622847970552664, 'penalty': 'elasticnet', 'C': 8.356758926609873, 'max_iter': 147, 'solver': 'saga'}. Best is trial 0 with value: 0.7468354430379747.\n",
      "[I 2024-06-09 21:53:16,825] Trial 26 finished with value: 0.7468354430379747 and parameters: {'l1_ratio': 0.3454784779791955, 'penalty': 'elasticnet', 'C': 90.54846776952209, 'max_iter': 819, 'solver': 'saga'}. Best is trial 0 with value: 0.7468354430379747.\n",
      "[I 2024-06-09 21:53:16,897] Trial 27 finished with value: 0.7465023317788141 and parameters: {'l1_ratio': 0.3842269427484306, 'penalty': 'elasticnet', 'C': 9.28167318660989, 'max_iter': 214, 'solver': 'saga'}. Best is trial 0 with value: 0.7468354430379747.\n",
      "[I 2024-06-09 21:53:17,003] Trial 28 finished with value: 0.7468354430379747 and parameters: {'l1_ratio': 0.5343972812309752, 'penalty': 'elasticnet', 'C': 50.7353466655461, 'max_iter': 553, 'solver': 'saga'}. Best is trial 0 with value: 0.7468354430379747.\n",
      "[I 2024-06-09 21:53:17,073] Trial 29 finished with value: 0.7468354430379747 and parameters: {'l1_ratio': 0.12660677568465384, 'penalty': 'elasticnet', 'C': 79.13114619972418, 'max_iter': 637, 'solver': 'saga'}. Best is trial 0 with value: 0.7468354430379747.\n",
      "[I 2024-06-09 21:53:17,140] Trial 30 finished with value: 0.7468354430379747 and parameters: {'l1_ratio': 0.75776937269917, 'penalty': 'elasticnet', 'C': 45.941815547894294, 'max_iter': 167, 'solver': 'saga'}. Best is trial 0 with value: 0.7468354430379747.\n",
      "[I 2024-06-09 21:53:17,210] Trial 31 finished with value: 0.7468354430379747 and parameters: {'l1_ratio': 0.6024878434664988, 'penalty': 'elasticnet', 'C': 43.56556095994181, 'max_iter': 105, 'solver': 'saga'}. Best is trial 0 with value: 0.7468354430379747.\n",
      "[I 2024-06-09 21:53:17,274] Trial 32 finished with value: 0.7465023317788141 and parameters: {'l1_ratio': 0.04662987836169319, 'penalty': 'elasticnet', 'C': 41.88005257659126, 'max_iter': 891, 'solver': 'saga'}. Best is trial 0 with value: 0.7468354430379747.\n",
      "[I 2024-06-09 21:53:17,351] Trial 33 finished with value: 0.7468354430379747 and parameters: {'l1_ratio': 0.43301769330849826, 'penalty': 'elasticnet', 'C': 64.34958641486882, 'max_iter': 612, 'solver': 'saga'}. Best is trial 0 with value: 0.7468354430379747.\n",
      "[I 2024-06-09 21:53:17,441] Trial 34 finished with value: 0.7465023317788141 and parameters: {'l1_ratio': 0.24018190154641206, 'penalty': 'elasticnet', 'C': 29.577723242551617, 'max_iter': 104, 'solver': 'saga'}. Best is trial 0 with value: 0.7468354430379747.\n",
      "[I 2024-06-09 21:53:17,533] Trial 35 finished with value: 0.7465023317788141 and parameters: {'l1_ratio': 0.1288935485768078, 'penalty': 'elasticnet', 'C': 52.92021041766975, 'max_iter': 683, 'solver': 'saga'}. Best is trial 0 with value: 0.7468354430379747.\n",
      "[I 2024-06-09 21:53:17,619] Trial 36 finished with value: 0.7465023317788141 and parameters: {'l1_ratio': 0.14536195449419298, 'penalty': 'elasticnet', 'C': 69.1420121534799, 'max_iter': 645, 'solver': 'saga'}. Best is trial 0 with value: 0.7468354430379747.\n",
      "[I 2024-06-09 21:53:17,692] Trial 37 finished with value: 0.7468354430379747 and parameters: {'l1_ratio': 0.963544780062434, 'penalty': 'elasticnet', 'C': 84.2870265593638, 'max_iter': 567, 'solver': 'saga'}. Best is trial 0 with value: 0.7468354430379747.\n",
      "[I 2024-06-09 21:53:17,776] Trial 38 finished with value: 0.7465023317788141 and parameters: {'l1_ratio': 0.6034752072158278, 'penalty': 'elasticnet', 'C': 8.558721313456362, 'max_iter': 960, 'solver': 'saga'}. Best is trial 0 with value: 0.7468354430379747.\n",
      "[I 2024-06-09 21:53:17,851] Trial 39 finished with value: 0.7468354430379747 and parameters: {'l1_ratio': 0.8951009548900523, 'penalty': 'elasticnet', 'C': 55.83913413464438, 'max_iter': 354, 'solver': 'saga'}. Best is trial 0 with value: 0.7468354430379747.\n",
      "[I 2024-06-09 21:53:17,932] Trial 40 finished with value: 0.7468354430379747 and parameters: {'l1_ratio': 0.6393898787142637, 'penalty': 'elasticnet', 'C': 41.70864042530115, 'max_iter': 665, 'solver': 'saga'}. Best is trial 0 with value: 0.7468354430379747.\n",
      "[I 2024-06-09 21:53:18,015] Trial 41 finished with value: 0.7465023317788141 and parameters: {'l1_ratio': 0.3964306441212516, 'penalty': 'elasticnet', 'C': 30.188298259896797, 'max_iter': 458, 'solver': 'saga'}. Best is trial 0 with value: 0.7468354430379747.\n",
      "[I 2024-06-09 21:53:18,097] Trial 42 finished with value: 0.7468354430379747 and parameters: {'l1_ratio': 0.8497845284188781, 'penalty': 'elasticnet', 'C': 83.87548295848951, 'max_iter': 357, 'solver': 'saga'}. Best is trial 0 with value: 0.7468354430379747.\n",
      "[I 2024-06-09 21:53:18,196] Trial 43 finished with value: 0.7465023317788141 and parameters: {'l1_ratio': 0.33885827739248164, 'penalty': 'elasticnet', 'C': 48.39435821312557, 'max_iter': 446, 'solver': 'saga'}. Best is trial 0 with value: 0.7468354430379747.\n",
      "[I 2024-06-09 21:53:18,261] Trial 44 finished with value: 0.7465023317788141 and parameters: {'l1_ratio': 0.32878734994014014, 'penalty': 'elasticnet', 'C': 52.90502811945416, 'max_iter': 187, 'solver': 'saga'}. Best is trial 0 with value: 0.7468354430379747.\n",
      "[I 2024-06-09 21:53:18,360] Trial 45 finished with value: 0.7465023317788141 and parameters: {'l1_ratio': 0.023379930587594244, 'penalty': 'elasticnet', 'C': 19.011964752146625, 'max_iter': 967, 'solver': 'saga'}. Best is trial 0 with value: 0.7468354430379747.\n",
      "[I 2024-06-09 21:53:18,427] Trial 46 finished with value: 0.7468354430379747 and parameters: {'l1_ratio': 0.7609561458372598, 'penalty': 'elasticnet', 'C': 52.14383068269241, 'max_iter': 210, 'solver': 'saga'}. Best is trial 0 with value: 0.7468354430379747.\n",
      "[I 2024-06-09 21:53:18,501] Trial 47 finished with value: 0.7468354430379747 and parameters: {'l1_ratio': 0.9985866810937334, 'penalty': 'elasticnet', 'C': 88.82733256260042, 'max_iter': 964, 'solver': 'saga'}. Best is trial 0 with value: 0.7468354430379747.\n",
      "[I 2024-06-09 21:53:18,592] Trial 48 finished with value: 0.7465023317788141 and parameters: {'l1_ratio': 0.564785449158253, 'penalty': 'elasticnet', 'C': 29.83030808172055, 'max_iter': 266, 'solver': 'saga'}. Best is trial 0 with value: 0.7468354430379747.\n",
      "[I 2024-06-09 21:53:18,677] Trial 49 finished with value: 0.7465023317788141 and parameters: {'l1_ratio': 0.7808527854686921, 'penalty': 'elasticnet', 'C': 15.529922492940079, 'max_iter': 641, 'solver': 'saga'}. Best is trial 0 with value: 0.7468354430379747.\n",
      "[I 2024-06-09 21:53:18,769] Trial 50 finished with value: 0.7468354430379747 and parameters: {'l1_ratio': 0.7380400243015056, 'penalty': 'elasticnet', 'C': 56.635746756744, 'max_iter': 815, 'solver': 'saga'}. Best is trial 0 with value: 0.7468354430379747.\n",
      "[I 2024-06-09 21:53:18,872] Trial 51 finished with value: 0.7465023317788141 and parameters: {'l1_ratio': 0.9272600171485721, 'penalty': 'elasticnet', 'C': 8.095413411801053, 'max_iter': 204, 'solver': 'saga'}. Best is trial 0 with value: 0.7468354430379747.\n",
      "[I 2024-06-09 21:53:18,956] Trial 52 finished with value: 0.7465023317788141 and parameters: {'l1_ratio': 0.11380123623093197, 'penalty': 'elasticnet', 'C': 28.800415781635273, 'max_iter': 596, 'solver': 'saga'}. Best is trial 0 with value: 0.7468354430379747.\n",
      "[I 2024-06-09 21:53:19,045] Trial 53 finished with value: 0.7465023317788141 and parameters: {'l1_ratio': 0.44464358527828296, 'penalty': 'elasticnet', 'C': 44.955203302961046, 'max_iter': 720, 'solver': 'saga'}. Best is trial 0 with value: 0.7468354430379747.\n",
      "[I 2024-06-09 21:53:19,119] Trial 54 finished with value: 0.7465023317788141 and parameters: {'l1_ratio': 0.14884802489269566, 'penalty': 'elasticnet', 'C': 11.974055718702534, 'max_iter': 226, 'solver': 'saga'}. Best is trial 0 with value: 0.7468354430379747.\n",
      "[I 2024-06-09 21:53:19,217] Trial 55 finished with value: 0.7468354430379747 and parameters: {'l1_ratio': 0.8446174837084529, 'penalty': 'elasticnet', 'C': 37.15966237522528, 'max_iter': 650, 'solver': 'saga'}. Best is trial 0 with value: 0.7468354430379747.\n",
      "[I 2024-06-09 21:53:19,320] Trial 56 finished with value: 0.7468354430379747 and parameters: {'l1_ratio': 0.9107078274365592, 'penalty': 'elasticnet', 'C': 18.313101701079, 'max_iter': 145, 'solver': 'saga'}. Best is trial 0 with value: 0.7468354430379747.\n",
      "[I 2024-06-09 21:53:19,394] Trial 57 finished with value: 0.7465023317788141 and parameters: {'l1_ratio': 0.2635543863600527, 'penalty': 'elasticnet', 'C': 38.03693321201165, 'max_iter': 582, 'solver': 'saga'}. Best is trial 0 with value: 0.7468354430379747.\n",
      "[I 2024-06-09 21:53:19,477] Trial 58 finished with value: 0.7468354430379747 and parameters: {'l1_ratio': 0.20593267412957195, 'penalty': 'elasticnet', 'C': 75.7739175707066, 'max_iter': 656, 'solver': 'saga'}. Best is trial 0 with value: 0.7468354430379747.\n",
      "[I 2024-06-09 21:53:19,566] Trial 59 finished with value: 0.7465023317788141 and parameters: {'l1_ratio': 0.7789120822371315, 'penalty': 'elasticnet', 'C': 19.433823753613826, 'max_iter': 321, 'solver': 'saga'}. Best is trial 0 with value: 0.7468354430379747.\n",
      "[I 2024-06-09 21:53:19,643] Trial 60 finished with value: 0.7468354430379747 and parameters: {'l1_ratio': 0.6405635118484496, 'penalty': 'elasticnet', 'C': 40.01673492409534, 'max_iter': 967, 'solver': 'saga'}. Best is trial 0 with value: 0.7468354430379747.\n",
      "[I 2024-06-09 21:53:19,713] Trial 61 finished with value: 0.7465023317788141 and parameters: {'l1_ratio': 0.7636679934989524, 'penalty': 'elasticnet', 'C': 17.087423832178356, 'max_iter': 207, 'solver': 'saga'}. Best is trial 0 with value: 0.7468354430379747.\n",
      "[I 2024-06-09 21:53:19,787] Trial 62 finished with value: 0.7468354430379747 and parameters: {'l1_ratio': 0.33026965314873746, 'penalty': 'elasticnet', 'C': 79.8642081689449, 'max_iter': 645, 'solver': 'saga'}. Best is trial 0 with value: 0.7468354430379747.\n",
      "[I 2024-06-09 21:53:19,868] Trial 63 finished with value: 0.7455029980013325 and parameters: {'l1_ratio': 0.21749415361126012, 'penalty': 'elasticnet', 'C': 2.8871119496594053, 'max_iter': 562, 'solver': 'saga'}. Best is trial 0 with value: 0.7468354430379747.\n",
      "[I 2024-06-09 21:53:19,961] Trial 64 finished with value: 0.7468354430379747 and parameters: {'l1_ratio': 0.9395388576438164, 'penalty': 'elasticnet', 'C': 57.65910409058923, 'max_iter': 958, 'solver': 'saga'}. Best is trial 0 with value: 0.7468354430379747.\n",
      "[I 2024-06-09 21:53:20,059] Trial 65 finished with value: 0.7468354430379747 and parameters: {'l1_ratio': 0.480686727057959, 'penalty': 'elasticnet', 'C': 99.0791816799297, 'max_iter': 544, 'solver': 'saga'}. Best is trial 0 with value: 0.7468354430379747.\n",
      "[I 2024-06-09 21:53:20,137] Trial 66 finished with value: 0.7468354430379747 and parameters: {'l1_ratio': 0.8278672160318609, 'penalty': 'elasticnet', 'C': 27.635481901855933, 'max_iter': 161, 'solver': 'saga'}. Best is trial 0 with value: 0.7468354430379747.\n",
      "[I 2024-06-09 21:53:20,225] Trial 67 finished with value: 0.7465023317788141 and parameters: {'l1_ratio': 0.721360101028917, 'penalty': 'elasticnet', 'C': 12.16964721041472, 'max_iter': 829, 'solver': 'saga'}. Best is trial 0 with value: 0.7468354430379747.\n",
      "[I 2024-06-09 21:53:20,319] Trial 68 finished with value: 0.7468354430379747 and parameters: {'l1_ratio': 0.9347922225636194, 'penalty': 'elasticnet', 'C': 34.25309320347991, 'max_iter': 381, 'solver': 'saga'}. Best is trial 0 with value: 0.7468354430379747.\n",
      "[I 2024-06-09 21:53:20,420] Trial 69 finished with value: 0.7468354430379747 and parameters: {'l1_ratio': 0.6002971063674759, 'penalty': 'elasticnet', 'C': 69.45719030064825, 'max_iter': 140, 'solver': 'saga'}. Best is trial 0 with value: 0.7468354430379747.\n",
      "[I 2024-06-09 21:53:20,514] Trial 70 finished with value: 0.7465023317788141 and parameters: {'l1_ratio': 0.6267356759602706, 'penalty': 'elasticnet', 'C': 17.55791711834471, 'max_iter': 172, 'solver': 'saga'}. Best is trial 0 with value: 0.7468354430379747.\n",
      "[I 2024-06-09 21:53:20,626] Trial 71 finished with value: 0.7465023317788141 and parameters: {'l1_ratio': 0.31370103075151023, 'penalty': 'elasticnet', 'C': 41.41822563895284, 'max_iter': 455, 'solver': 'saga'}. Best is trial 0 with value: 0.7468354430379747.\n",
      "[I 2024-06-09 21:53:20,717] Trial 72 finished with value: 0.7468354430379747 and parameters: {'l1_ratio': 0.7230405288992248, 'penalty': 'elasticnet', 'C': 51.16735771732983, 'max_iter': 409, 'solver': 'saga'}. Best is trial 0 with value: 0.7468354430379747.\n",
      "[I 2024-06-09 21:53:20,813] Trial 73 finished with value: 0.7468354430379747 and parameters: {'l1_ratio': 0.4689082800259925, 'penalty': 'elasticnet', 'C': 54.678409375936916, 'max_iter': 852, 'solver': 'saga'}. Best is trial 0 with value: 0.7468354430379747.\n",
      "[I 2024-06-09 21:53:20,906] Trial 74 finished with value: 0.7468354430379747 and parameters: {'l1_ratio': 0.34809190046205274, 'penalty': 'elasticnet', 'C': 78.32077448654299, 'max_iter': 686, 'solver': 'saga'}. Best is trial 0 with value: 0.7468354430379747.\n",
      "[I 2024-06-09 21:53:20,974] Trial 75 finished with value: 0.7468354430379747 and parameters: {'l1_ratio': 0.8730257595537249, 'penalty': 'elasticnet', 'C': 41.07098978464442, 'max_iter': 265, 'solver': 'saga'}. Best is trial 0 with value: 0.7468354430379747.\n",
      "[I 2024-06-09 21:53:21,051] Trial 76 finished with value: 0.7465023317788141 and parameters: {'l1_ratio': 0.09317831284174316, 'penalty': 'elasticnet', 'C': 55.740341314421485, 'max_iter': 980, 'solver': 'saga'}. Best is trial 0 with value: 0.7468354430379747.\n",
      "[I 2024-06-09 21:53:21,138] Trial 77 finished with value: 0.7465023317788141 and parameters: {'l1_ratio': 0.29572214736158386, 'penalty': 'elasticnet', 'C': 39.32197771595846, 'max_iter': 837, 'solver': 'saga'}. Best is trial 0 with value: 0.7468354430379747.\n",
      "[I 2024-06-09 21:53:21,221] Trial 78 finished with value: 0.7468354430379747 and parameters: {'l1_ratio': 0.3940115991448834, 'penalty': 'elasticnet', 'C': 89.08360367472872, 'max_iter': 127, 'solver': 'saga'}. Best is trial 0 with value: 0.7468354430379747.\n",
      "[I 2024-06-09 21:53:21,312] Trial 79 finished with value: 0.7468354430379747 and parameters: {'l1_ratio': 0.8998117453605183, 'penalty': 'elasticnet', 'C': 29.117650644595646, 'max_iter': 983, 'solver': 'saga'}. Best is trial 0 with value: 0.7468354430379747.\n",
      "[I 2024-06-09 21:53:21,403] Trial 80 finished with value: 0.7468354430379747 and parameters: {'l1_ratio': 0.7726044200868316, 'penalty': 'elasticnet', 'C': 81.24622512660818, 'max_iter': 527, 'solver': 'saga'}. Best is trial 0 with value: 0.7468354430379747.\n",
      "[I 2024-06-09 21:53:21,501] Trial 81 finished with value: 0.7465023317788141 and parameters: {'l1_ratio': 0.3024871162472813, 'penalty': 'elasticnet', 'C': 32.419113483880295, 'max_iter': 898, 'solver': 'saga'}. Best is trial 0 with value: 0.7468354430379747.\n",
      "[I 2024-06-09 21:53:21,567] Trial 82 finished with value: 0.7408394403730846 and parameters: {'l1_ratio': 0.42954226359209646, 'penalty': 'elasticnet', 'C': 0.3178330114595855, 'max_iter': 657, 'solver': 'saga'}. Best is trial 0 with value: 0.7468354430379747.\n",
      "[I 2024-06-09 21:53:21,649] Trial 83 finished with value: 0.7468354430379747 and parameters: {'l1_ratio': 0.6384146144413262, 'penalty': 'elasticnet', 'C': 60.21736026103417, 'max_iter': 176, 'solver': 'saga'}. Best is trial 0 with value: 0.7468354430379747.\n",
      "[I 2024-06-09 21:53:21,727] Trial 84 finished with value: 0.7468354430379747 and parameters: {'l1_ratio': 0.18878963262831439, 'penalty': 'elasticnet', 'C': 77.31083533514995, 'max_iter': 631, 'solver': 'saga'}. Best is trial 0 with value: 0.7468354430379747.\n",
      "[I 2024-06-09 21:53:21,797] Trial 85 finished with value: 0.7465023317788141 and parameters: {'l1_ratio': 0.6860361909445178, 'penalty': 'elasticnet', 'C': 7.31838049807402, 'max_iter': 605, 'solver': 'saga'}. Best is trial 0 with value: 0.7468354430379747.\n",
      "[I 2024-06-09 21:53:21,868] Trial 86 finished with value: 0.7465023317788141 and parameters: {'l1_ratio': 0.2586295146537938, 'penalty': 'elasticnet', 'C': 22.12614647625897, 'max_iter': 203, 'solver': 'saga'}. Best is trial 0 with value: 0.7468354430379747.\n",
      "[I 2024-06-09 21:53:21,954] Trial 87 finished with value: 0.7465023317788141 and parameters: {'l1_ratio': 0.09905593656208833, 'penalty': 'elasticnet', 'C': 24.394357559698474, 'max_iter': 772, 'solver': 'saga'}. Best is trial 0 with value: 0.7468354430379747.\n",
      "[I 2024-06-09 21:53:22,033] Trial 88 finished with value: 0.7468354430379747 and parameters: {'l1_ratio': 0.5943825327304895, 'penalty': 'elasticnet', 'C': 53.68161170116727, 'max_iter': 438, 'solver': 'saga'}. Best is trial 0 with value: 0.7468354430379747.\n",
      "[I 2024-06-09 21:53:22,102] Trial 89 finished with value: 0.7465023317788141 and parameters: {'l1_ratio': 0.23501047798661767, 'penalty': 'elasticnet', 'C': 59.08556395025339, 'max_iter': 858, 'solver': 'saga'}. Best is trial 0 with value: 0.7468354430379747.\n",
      "[I 2024-06-09 21:53:22,188] Trial 90 finished with value: 0.7465023317788141 and parameters: {'l1_ratio': 0.47729389039881, 'penalty': 'elasticnet', 'C': 8.383376542362194, 'max_iter': 940, 'solver': 'saga'}. Best is trial 0 with value: 0.7468354430379747.\n",
      "[I 2024-06-09 21:53:22,269] Trial 91 finished with value: 0.7465023317788141 and parameters: {'l1_ratio': 0.4860786085123222, 'penalty': 'elasticnet', 'C': 12.544821213531119, 'max_iter': 856, 'solver': 'saga'}. Best is trial 0 with value: 0.7468354430379747.\n",
      "[I 2024-06-09 21:53:22,344] Trial 92 finished with value: 0.7465023317788141 and parameters: {'l1_ratio': 0.38240464605494207, 'penalty': 'elasticnet', 'C': 10.878337812418717, 'max_iter': 960, 'solver': 'saga'}. Best is trial 0 with value: 0.7468354430379747.\n",
      "[I 2024-06-09 21:53:22,427] Trial 93 finished with value: 0.7465023317788141 and parameters: {'l1_ratio': 0.3436503994506843, 'penalty': 'elasticnet', 'C': 21.403834550117672, 'max_iter': 513, 'solver': 'saga'}. Best is trial 0 with value: 0.7468354430379747.\n",
      "[I 2024-06-09 21:53:22,501] Trial 94 finished with value: 0.7465023317788141 and parameters: {'l1_ratio': 0.02489530628090697, 'penalty': 'elasticnet', 'C': 24.529655414176233, 'max_iter': 688, 'solver': 'saga'}. Best is trial 0 with value: 0.7468354430379747.\n",
      "[I 2024-06-09 21:53:22,573] Trial 95 finished with value: 0.7455029980013325 and parameters: {'l1_ratio': 0.3373767925601705, 'penalty': 'elasticnet', 'C': 2.165747306794232, 'max_iter': 345, 'solver': 'saga'}. Best is trial 0 with value: 0.7468354430379747.\n",
      "[I 2024-06-09 21:53:22,651] Trial 96 finished with value: 0.7468354430379747 and parameters: {'l1_ratio': 0.9614891406278656, 'penalty': 'elasticnet', 'C': 71.25545016581907, 'max_iter': 652, 'solver': 'saga'}. Best is trial 0 with value: 0.7468354430379747.\n",
      "[I 2024-06-09 21:53:22,723] Trial 97 finished with value: 0.7468354430379747 and parameters: {'l1_ratio': 0.0425938640226482, 'penalty': 'elasticnet', 'C': 97.87870122705891, 'max_iter': 593, 'solver': 'saga'}. Best is trial 0 with value: 0.7468354430379747.\n",
      "[I 2024-06-09 21:53:22,808] Trial 98 finished with value: 0.7468354430379747 and parameters: {'l1_ratio': 0.5119850184358926, 'penalty': 'elasticnet', 'C': 81.10327579360515, 'max_iter': 745, 'solver': 'saga'}. Best is trial 0 with value: 0.7468354430379747.\n",
      "[I 2024-06-09 21:53:22,888] Trial 99 finished with value: 0.7465023317788141 and parameters: {'l1_ratio': 0.8308851599474497, 'penalty': 'elasticnet', 'C': 14.704537271210548, 'max_iter': 631, 'solver': 'saga'}. Best is trial 0 with value: 0.7468354430379747.\n",
      "[I 2024-06-09 21:53:22,965] Trial 100 finished with value: 0.7468354430379747 and parameters: {'l1_ratio': 0.8471136501705183, 'penalty': 'elasticnet', 'C': 34.24613848962452, 'max_iter': 230, 'solver': 'saga'}. Best is trial 0 with value: 0.7468354430379747.\n",
      "[I 2024-06-09 21:53:23,026] Trial 101 finished with value: 0.7465023317788141 and parameters: {'l1_ratio': 0.1836483711819311, 'penalty': 'elasticnet', 'C': 16.359070948360472, 'max_iter': 483, 'solver': 'saga'}. Best is trial 0 with value: 0.7468354430379747.\n",
      "[I 2024-06-09 21:53:23,125] Trial 102 finished with value: 0.7465023317788141 and parameters: {'l1_ratio': 0.6055885059878887, 'penalty': 'elasticnet', 'C': 9.421156746962094, 'max_iter': 124, 'solver': 'saga'}. Best is trial 0 with value: 0.7468354430379747.\n",
      "[I 2024-06-09 21:53:23,190] Trial 103 finished with value: 0.7465023317788141 and parameters: {'l1_ratio': 0.08871545457591135, 'penalty': 'elasticnet', 'C': 27.17411176426769, 'max_iter': 408, 'solver': 'saga'}. Best is trial 0 with value: 0.7468354430379747.\n",
      "[I 2024-06-09 21:53:23,264] Trial 104 finished with value: 0.7468354430379747 and parameters: {'l1_ratio': 0.7767253816094082, 'penalty': 'elasticnet', 'C': 74.36530007707483, 'max_iter': 199, 'solver': 'saga'}. Best is trial 0 with value: 0.7468354430379747.\n",
      "[I 2024-06-09 21:53:23,344] Trial 105 finished with value: 0.7468354430379747 and parameters: {'l1_ratio': 0.47806896006875077, 'penalty': 'elasticnet', 'C': 64.79200645755616, 'max_iter': 859, 'solver': 'saga'}. Best is trial 0 with value: 0.7468354430379747.\n",
      "[I 2024-06-09 21:53:23,421] Trial 106 finished with value: 0.7465023317788141 and parameters: {'l1_ratio': 0.388468854806459, 'penalty': 'elasticnet', 'C': 31.52968396858291, 'max_iter': 475, 'solver': 'saga'}. Best is trial 0 with value: 0.7468354430379747.\n",
      "[I 2024-06-09 21:53:23,511] Trial 107 finished with value: 0.7468354430379747 and parameters: {'l1_ratio': 0.44175712345987217, 'penalty': 'elasticnet', 'C': 61.680044440993576, 'max_iter': 997, 'solver': 'saga'}. Best is trial 0 with value: 0.7468354430379747.\n",
      "[I 2024-06-09 21:53:23,594] Trial 108 finished with value: 0.7468354430379747 and parameters: {'l1_ratio': 0.6521830648469973, 'penalty': 'elasticnet', 'C': 63.55479191785618, 'max_iter': 581, 'solver': 'saga'}. Best is trial 0 with value: 0.7468354430379747.\n",
      "[I 2024-06-09 21:53:23,695] Trial 109 finished with value: 0.7468354430379747 and parameters: {'l1_ratio': 0.35557836732536197, 'penalty': 'elasticnet', 'C': 85.49782930473005, 'max_iter': 247, 'solver': 'saga'}. Best is trial 0 with value: 0.7468354430379747.\n",
      "[I 2024-06-09 21:53:23,780] Trial 110 finished with value: 0.7468354430379747 and parameters: {'l1_ratio': 0.7658237880282034, 'penalty': 'elasticnet', 'C': 75.78560753382688, 'max_iter': 144, 'solver': 'saga'}. Best is trial 0 with value: 0.7468354430379747.\n",
      "[I 2024-06-09 21:53:23,860] Trial 111 finished with value: 0.7468354430379747 and parameters: {'l1_ratio': 0.45578849641224983, 'penalty': 'elasticnet', 'C': 71.30249885631548, 'max_iter': 613, 'solver': 'saga'}. Best is trial 0 with value: 0.7468354430379747.\n",
      "[I 2024-06-09 21:53:23,944] Trial 112 finished with value: 0.7465023317788141 and parameters: {'l1_ratio': 0.36095818866319496, 'penalty': 'elasticnet', 'C': 27.267578334572622, 'max_iter': 144, 'solver': 'saga'}. Best is trial 0 with value: 0.7468354430379747.\n",
      "[I 2024-06-09 21:53:24,015] Trial 113 finished with value: 0.7468354430379747 and parameters: {'l1_ratio': 0.08651653838786766, 'penalty': 'elasticnet', 'C': 99.51733206260286, 'max_iter': 668, 'solver': 'saga'}. Best is trial 0 with value: 0.7468354430379747.\n",
      "[I 2024-06-09 21:53:24,099] Trial 114 finished with value: 0.7468354430379747 and parameters: {'l1_ratio': 0.7943292806783894, 'penalty': 'elasticnet', 'C': 1.6547337463103935, 'max_iter': 207, 'solver': 'saga'}. Best is trial 0 with value: 0.7468354430379747.\n",
      "[I 2024-06-09 21:53:24,165] Trial 115 finished with value: 0.7468354430379747 and parameters: {'l1_ratio': 0.39523622294092764, 'penalty': 'elasticnet', 'C': 84.40782928548484, 'max_iter': 368, 'solver': 'saga'}. Best is trial 0 with value: 0.7468354430379747.\n",
      "[I 2024-06-09 21:53:24,231] Trial 116 finished with value: 0.7468354430379747 and parameters: {'l1_ratio': 0.1940476194756442, 'penalty': 'elasticnet', 'C': 87.1164760958544, 'max_iter': 905, 'solver': 'saga'}. Best is trial 0 with value: 0.7468354430379747.\n",
      "[I 2024-06-09 21:53:24,303] Trial 117 finished with value: 0.7465023317788141 and parameters: {'l1_ratio': 0.9790846206910202, 'penalty': 'elasticnet', 'C': 8.372019473857053, 'max_iter': 503, 'solver': 'saga'}. Best is trial 0 with value: 0.7468354430379747.\n",
      "[I 2024-06-09 21:53:24,369] Trial 118 finished with value: 0.7468354430379747 and parameters: {'l1_ratio': 0.2273428595343805, 'penalty': 'elasticnet', 'C': 80.44871204298893, 'max_iter': 414, 'solver': 'saga'}. Best is trial 0 with value: 0.7468354430379747.\n",
      "[I 2024-06-09 21:53:24,444] Trial 119 finished with value: 0.7468354430379747 and parameters: {'l1_ratio': 0.2195151893089342, 'penalty': 'elasticnet', 'C': 80.78793427926624, 'max_iter': 529, 'solver': 'saga'}. Best is trial 0 with value: 0.7468354430379747.\n",
      "[I 2024-06-09 21:53:24,515] Trial 120 finished with value: 0.7465023317788141 and parameters: {'l1_ratio': 0.05167183644896767, 'penalty': 'elasticnet', 'C': 37.90247245188277, 'max_iter': 540, 'solver': 'saga'}. Best is trial 0 with value: 0.7468354430379747.\n",
      "[I 2024-06-09 21:53:24,585] Trial 121 finished with value: 0.7465023317788141 and parameters: {'l1_ratio': 0.6777070409958931, 'penalty': 'elasticnet', 'C': 29.84552575149394, 'max_iter': 113, 'solver': 'saga'}. Best is trial 0 with value: 0.7468354430379747.\n",
      "[I 2024-06-09 21:53:24,665] Trial 122 finished with value: 0.7468354430379747 and parameters: {'l1_ratio': 0.5995989995918588, 'penalty': 'elasticnet', 'C': 81.9602945810879, 'max_iter': 289, 'solver': 'saga'}. Best is trial 0 with value: 0.7468354430379747.\n",
      "[I 2024-06-09 21:53:24,747] Trial 123 finished with value: 0.7468354430379747 and parameters: {'l1_ratio': 0.6337757519736682, 'penalty': 'elasticnet', 'C': 73.17406692912927, 'max_iter': 971, 'solver': 'saga'}. Best is trial 0 with value: 0.7468354430379747.\n",
      "[I 2024-06-09 21:53:24,852] Trial 124 finished with value: 0.7465023317788141 and parameters: {'l1_ratio': 0.08774706063976812, 'penalty': 'elasticnet', 'C': 68.32492134168413, 'max_iter': 612, 'solver': 'saga'}. Best is trial 0 with value: 0.7468354430379747.\n",
      "[I 2024-06-09 21:53:24,934] Trial 125 finished with value: 0.7465023317788141 and parameters: {'l1_ratio': 0.1692741729195425, 'penalty': 'elasticnet', 'C': 46.34225310985671, 'max_iter': 111, 'solver': 'saga'}. Best is trial 0 with value: 0.7468354430379747.\n",
      "[I 2024-06-09 21:53:24,991] Trial 126 finished with value: 0.7435043304463691 and parameters: {'l1_ratio': 0.023169743854271396, 'penalty': 'elasticnet', 'C': 1.9099844675829551, 'max_iter': 462, 'solver': 'saga'}. Best is trial 0 with value: 0.7468354430379747.\n",
      "[I 2024-06-09 21:53:25,077] Trial 127 finished with value: 0.7465023317788141 and parameters: {'l1_ratio': 0.5355132035114978, 'penalty': 'elasticnet', 'C': 26.26262982295894, 'max_iter': 567, 'solver': 'saga'}. Best is trial 0 with value: 0.7468354430379747.\n",
      "[I 2024-06-09 21:53:25,147] Trial 128 finished with value: 0.7465023317788141 and parameters: {'l1_ratio': 0.47779187448209726, 'penalty': 'elasticnet', 'C': 29.23001517864692, 'max_iter': 465, 'solver': 'saga'}. Best is trial 0 with value: 0.7468354430379747.\n",
      "[I 2024-06-09 21:53:25,220] Trial 129 finished with value: 0.7465023317788141 and parameters: {'l1_ratio': 0.47429367431199154, 'penalty': 'elasticnet', 'C': 43.74774468041, 'max_iter': 114, 'solver': 'saga'}. Best is trial 0 with value: 0.7468354430379747.\n",
      "[I 2024-06-09 21:53:25,298] Trial 130 finished with value: 0.7468354430379747 and parameters: {'l1_ratio': 0.7055617167942578, 'penalty': 'elasticnet', 'C': 75.9306426677022, 'max_iter': 345, 'solver': 'saga'}. Best is trial 0 with value: 0.7468354430379747.\n",
      "[I 2024-06-09 21:53:25,390] Trial 131 finished with value: 0.7468354430379747 and parameters: {'l1_ratio': 0.4656358778024837, 'penalty': 'elasticnet', 'C': 72.45079568898419, 'max_iter': 174, 'solver': 'saga'}. Best is trial 0 with value: 0.7468354430379747.\n",
      "[I 2024-06-09 21:53:25,470] Trial 132 finished with value: 0.7468354430379747 and parameters: {'l1_ratio': 0.8491269748213126, 'penalty': 'elasticnet', 'C': 72.0677126997143, 'max_iter': 992, 'solver': 'saga'}. Best is trial 0 with value: 0.7468354430379747.\n",
      "[I 2024-06-09 21:53:25,547] Trial 133 finished with value: 0.7465023317788141 and parameters: {'l1_ratio': 0.4458445675158459, 'penalty': 'elasticnet', 'C': 25.327685384962855, 'max_iter': 244, 'solver': 'saga'}. Best is trial 0 with value: 0.7468354430379747.\n",
      "[I 2024-06-09 21:53:25,631] Trial 134 finished with value: 0.7468354430379747 and parameters: {'l1_ratio': 0.870727250858279, 'penalty': 'elasticnet', 'C': 68.77709642934451, 'max_iter': 442, 'solver': 'saga'}. Best is trial 0 with value: 0.7468354430379747.\n",
      "[I 2024-06-09 21:53:25,691] Trial 135 finished with value: 0.7468354430379747 and parameters: {'l1_ratio': 0.2282326164835059, 'penalty': 'elasticnet', 'C': 78.17276283073329, 'max_iter': 978, 'solver': 'saga'}. Best is trial 0 with value: 0.7468354430379747.\n",
      "[I 2024-06-09 21:53:25,763] Trial 136 finished with value: 0.7468354430379747 and parameters: {'l1_ratio': 0.8802403479846407, 'penalty': 'elasticnet', 'C': 25.343063616774735, 'max_iter': 665, 'solver': 'saga'}. Best is trial 0 with value: 0.7468354430379747.\n",
      "[I 2024-06-09 21:53:25,845] Trial 137 finished with value: 0.7465023317788141 and parameters: {'l1_ratio': 0.4948518196858104, 'penalty': 'elasticnet', 'C': 7.303381893626658, 'max_iter': 591, 'solver': 'saga'}. Best is trial 0 with value: 0.7468354430379747.\n",
      "[I 2024-06-09 21:53:25,916] Trial 138 finished with value: 0.7461692205196535 and parameters: {'l1_ratio': 0.8716091078716307, 'penalty': 'elasticnet', 'C': 3.0158934816007714, 'max_iter': 180, 'solver': 'saga'}. Best is trial 0 with value: 0.7468354430379747.\n",
      "[I 2024-06-09 21:53:25,990] Trial 139 finished with value: 0.7428381079280479 and parameters: {'l1_ratio': 0.31470430106830216, 'penalty': 'elasticnet', 'C': 0.7327261824676469, 'max_iter': 267, 'solver': 'saga'}. Best is trial 0 with value: 0.7468354430379747.\n",
      "[I 2024-06-09 21:53:26,070] Trial 140 finished with value: 0.7465023317788141 and parameters: {'l1_ratio': 0.8743627304570357, 'penalty': 'elasticnet', 'C': 18.73633456624793, 'max_iter': 674, 'solver': 'saga'}. Best is trial 0 with value: 0.7468354430379747.\n",
      "[I 2024-06-09 21:53:26,163] Trial 141 finished with value: 0.7465023317788141 and parameters: {'l1_ratio': 0.6459240523527073, 'penalty': 'elasticnet', 'C': 18.30704433207024, 'max_iter': 680, 'solver': 'saga'}. Best is trial 0 with value: 0.7468354430379747.\n",
      "[I 2024-06-09 21:53:26,270] Trial 142 finished with value: 0.7465023317788141 and parameters: {'l1_ratio': 0.1398182058122156, 'penalty': 'elasticnet', 'C': 67.6912326392281, 'max_iter': 947, 'solver': 'saga'}. Best is trial 0 with value: 0.7468354430379747.\n",
      "[I 2024-06-09 21:53:26,345] Trial 143 finished with value: 0.745836109260493 and parameters: {'l1_ratio': 0.3159174861030116, 'penalty': 'elasticnet', 'C': 7.833317975457275, 'max_iter': 174, 'solver': 'saga'}. Best is trial 0 with value: 0.7468354430379747.\n",
      "[I 2024-06-09 21:53:26,432] Trial 144 finished with value: 0.7468354430379747 and parameters: {'l1_ratio': 0.6822254665259121, 'penalty': 'elasticnet', 'C': 49.097565515455685, 'max_iter': 119, 'solver': 'saga'}. Best is trial 0 with value: 0.7468354430379747.\n",
      "[I 2024-06-09 21:53:26,523] Trial 145 finished with value: 0.7468354430379747 and parameters: {'l1_ratio': 0.45704577934720947, 'penalty': 'elasticnet', 'C': 88.27873914996049, 'max_iter': 429, 'solver': 'saga'}. Best is trial 0 with value: 0.7468354430379747.\n",
      "[I 2024-06-09 21:53:26,580] Trial 146 finished with value: 0.7465023317788141 and parameters: {'l1_ratio': 0.42914109470841655, 'penalty': 'elasticnet', 'C': 28.154154165164076, 'max_iter': 457, 'solver': 'saga'}. Best is trial 0 with value: 0.7468354430379747.\n",
      "[I 2024-06-09 21:53:26,658] Trial 147 finished with value: 0.745836109260493 and parameters: {'l1_ratio': 0.1796720491852063, 'penalty': 'elasticnet', 'C': 9.184013701601298, 'max_iter': 940, 'solver': 'saga'}. Best is trial 0 with value: 0.7468354430379747.\n",
      "[I 2024-06-09 21:53:26,722] Trial 148 finished with value: 0.7465023317788141 and parameters: {'l1_ratio': 0.45462919667860735, 'penalty': 'elasticnet', 'C': 30.134909325561942, 'max_iter': 305, 'solver': 'saga'}. Best is trial 0 with value: 0.7468354430379747.\n",
      "[I 2024-06-09 21:53:26,811] Trial 149 finished with value: 0.7465023317788141 and parameters: {'l1_ratio': 0.7287870275360602, 'penalty': 'elasticnet', 'C': 27.00466721547747, 'max_iter': 775, 'solver': 'saga'}. Best is trial 0 with value: 0.7468354430379747.\n",
      "[I 2024-06-09 21:53:26,880] Trial 150 finished with value: 0.7465023317788141 and parameters: {'l1_ratio': 0.19300320074456478, 'penalty': 'elasticnet', 'C': 42.26142965147881, 'max_iter': 825, 'solver': 'saga'}. Best is trial 0 with value: 0.7468354430379747.\n",
      "[I 2024-06-09 21:53:26,954] Trial 151 finished with value: 0.7468354430379747 and parameters: {'l1_ratio': 0.8576942251664084, 'penalty': 'elasticnet', 'C': 93.31122875552228, 'max_iter': 548, 'solver': 'saga'}. Best is trial 0 with value: 0.7468354430379747.\n",
      "[I 2024-06-09 21:53:27,028] Trial 152 finished with value: 0.7468354430379747 and parameters: {'l1_ratio': 0.7156670487542581, 'penalty': 'elasticnet', 'C': 41.977341453395525, 'max_iter': 187, 'solver': 'saga'}. Best is trial 0 with value: 0.7468354430379747.\n",
      "[I 2024-06-09 21:53:27,102] Trial 153 finished with value: 0.7465023317788141 and parameters: {'l1_ratio': 0.512772506734595, 'penalty': 'elasticnet', 'C': 30.83016816875002, 'max_iter': 159, 'solver': 'saga'}. Best is trial 0 with value: 0.7468354430379747.\n",
      "[I 2024-06-09 21:53:27,188] Trial 154 finished with value: 0.7465023317788141 and parameters: {'l1_ratio': 0.34630026241876444, 'penalty': 'elasticnet', 'C': 32.965490135479264, 'max_iter': 613, 'solver': 'saga'}. Best is trial 0 with value: 0.7468354430379747.\n",
      "[I 2024-06-09 21:53:27,245] Trial 155 finished with value: 0.7468354430379747 and parameters: {'l1_ratio': 0.7696179395720334, 'penalty': 'elasticnet', 'C': 60.946573591728956, 'max_iter': 588, 'solver': 'saga'}. Best is trial 0 with value: 0.7468354430379747.\n",
      "[I 2024-06-09 21:53:27,306] Trial 156 finished with value: 0.7465023317788141 and parameters: {'l1_ratio': 0.16458012282314227, 'penalty': 'elasticnet', 'C': 10.71795084867144, 'max_iter': 272, 'solver': 'saga'}. Best is trial 0 with value: 0.7468354430379747.\n",
      "[I 2024-06-09 21:53:27,409] Trial 157 finished with value: 0.7465023317788141 and parameters: {'l1_ratio': 0.7246209148956595, 'penalty': 'elasticnet', 'C': 24.29251699917993, 'max_iter': 793, 'solver': 'saga'}. Best is trial 0 with value: 0.7468354430379747.\n",
      "[I 2024-06-09 21:53:27,493] Trial 158 finished with value: 0.7468354430379747 and parameters: {'l1_ratio': 0.6599634803874062, 'penalty': 'elasticnet', 'C': 79.38011826509634, 'max_iter': 383, 'solver': 'saga'}. Best is trial 0 with value: 0.7468354430379747.\n",
      "[I 2024-06-09 21:53:27,573] Trial 159 finished with value: 0.7468354430379747 and parameters: {'l1_ratio': 0.741395115770732, 'penalty': 'elasticnet', 'C': 53.78463004284288, 'max_iter': 351, 'solver': 'saga'}. Best is trial 0 with value: 0.7468354430379747.\n",
      "[I 2024-06-09 21:53:27,659] Trial 160 finished with value: 0.7468354430379747 and parameters: {'l1_ratio': 0.5249485314348081, 'penalty': 'elasticnet', 'C': 93.67268704311347, 'max_iter': 826, 'solver': 'saga'}. Best is trial 0 with value: 0.7468354430379747.\n",
      "[I 2024-06-09 21:53:27,744] Trial 161 finished with value: 0.7465023317788141 and parameters: {'l1_ratio': 0.048184948782166837, 'penalty': 'elasticnet', 'C': 13.41480223103558, 'max_iter': 112, 'solver': 'saga'}. Best is trial 0 with value: 0.7468354430379747.\n",
      "[I 2024-06-09 21:53:27,820] Trial 162 finished with value: 0.7465023317788141 and parameters: {'l1_ratio': 0.18085637652095798, 'penalty': 'elasticnet', 'C': 16.339807704929708, 'max_iter': 861, 'solver': 'saga'}. Best is trial 0 with value: 0.7468354430379747.\n",
      "[I 2024-06-09 21:53:27,907] Trial 163 finished with value: 0.7465023317788141 and parameters: {'l1_ratio': 0.22335336112405713, 'penalty': 'elasticnet', 'C': 43.64040633255431, 'max_iter': 290, 'solver': 'saga'}. Best is trial 0 with value: 0.7468354430379747.\n",
      "[I 2024-06-09 21:53:27,976] Trial 164 finished with value: 0.7468354430379747 and parameters: {'l1_ratio': 0.4581142029682954, 'penalty': 'elasticnet', 'C': 95.90359743159726, 'max_iter': 816, 'solver': 'saga'}. Best is trial 0 with value: 0.7468354430379747.\n",
      "[I 2024-06-09 21:53:28,059] Trial 165 finished with value: 0.7468354430379747 and parameters: {'l1_ratio': 0.008540302969749836, 'penalty': 'elasticnet', 'C': 93.40903141022821, 'max_iter': 240, 'solver': 'saga'}. Best is trial 0 with value: 0.7468354430379747.\n",
      "[I 2024-06-09 21:53:28,135] Trial 166 finished with value: 0.7465023317788141 and parameters: {'l1_ratio': 0.21212538395786107, 'penalty': 'elasticnet', 'C': 16.67365202873422, 'max_iter': 892, 'solver': 'saga'}. Best is trial 0 with value: 0.7468354430379747.\n",
      "[I 2024-06-09 21:53:28,208] Trial 167 finished with value: 0.7468354430379747 and parameters: {'l1_ratio': 0.6993404421513147, 'penalty': 'elasticnet', 'C': 57.29567312069172, 'max_iter': 501, 'solver': 'saga'}. Best is trial 0 with value: 0.7468354430379747.\n",
      "[I 2024-06-09 21:53:28,292] Trial 168 finished with value: 0.7468354430379747 and parameters: {'l1_ratio': 0.35765548924698587, 'penalty': 'elasticnet', 'C': 96.56810296169495, 'max_iter': 392, 'solver': 'saga'}. Best is trial 0 with value: 0.7468354430379747.\n",
      "[I 2024-06-09 21:53:28,364] Trial 169 finished with value: 0.7468354430379747 and parameters: {'l1_ratio': 0.2525647588221581, 'penalty': 'elasticnet', 'C': 68.97579304730677, 'max_iter': 901, 'solver': 'saga'}. Best is trial 0 with value: 0.7468354430379747.\n",
      "[I 2024-06-09 21:53:28,452] Trial 170 finished with value: 0.7465023317788141 and parameters: {'l1_ratio': 0.42959084730957575, 'penalty': 'elasticnet', 'C': 36.580429918331035, 'max_iter': 234, 'solver': 'saga'}. Best is trial 0 with value: 0.7468354430379747.\n",
      "[I 2024-06-09 21:53:28,539] Trial 171 finished with value: 0.7468354430379747 and parameters: {'l1_ratio': 0.4057965759814599, 'penalty': 'elasticnet', 'C': 59.553063267903106, 'max_iter': 695, 'solver': 'saga'}. Best is trial 0 with value: 0.7468354430379747.\n",
      "[I 2024-06-09 21:53:28,614] Trial 172 finished with value: 0.7455029980013325 and parameters: {'l1_ratio': 0.25786882263821753, 'penalty': 'elasticnet', 'C': 4.548621573250935, 'max_iter': 354, 'solver': 'saga'}. Best is trial 0 with value: 0.7468354430379747.\n",
      "[I 2024-06-09 21:53:28,685] Trial 173 finished with value: 0.7425049966688874 and parameters: {'l1_ratio': 0.4262648360638064, 'penalty': 'elasticnet', 'C': 0.11767974171827682, 'max_iter': 138, 'solver': 'saga'}. Best is trial 0 with value: 0.7468354430379747.\n",
      "[I 2024-06-09 21:53:28,745] Trial 174 finished with value: 0.745836109260493 and parameters: {'l1_ratio': 0.8705368937926137, 'penalty': 'elasticnet', 'C': 0.8347974410848631, 'max_iter': 128, 'solver': 'saga'}. Best is trial 0 with value: 0.7468354430379747.\n",
      "[I 2024-06-09 21:53:28,839] Trial 175 finished with value: 0.7465023317788141 and parameters: {'l1_ratio': 0.49765345484315615, 'penalty': 'elasticnet', 'C': 22.40184262644953, 'max_iter': 438, 'solver': 'saga'}. Best is trial 0 with value: 0.7468354430379747.\n",
      "[I 2024-06-09 21:53:28,929] Trial 176 finished with value: 0.7468354430379747 and parameters: {'l1_ratio': 0.3577997907742848, 'penalty': 'elasticnet', 'C': 93.93634696655886, 'max_iter': 726, 'solver': 'saga'}. Best is trial 0 with value: 0.7468354430379747.\n",
      "[I 2024-06-09 21:53:29,009] Trial 177 finished with value: 0.7468354430379747 and parameters: {'l1_ratio': 0.7885721416406517, 'penalty': 'elasticnet', 'C': 50.12206952465031, 'max_iter': 132, 'solver': 'saga'}. Best is trial 0 with value: 0.7468354430379747.\n",
      "[I 2024-06-09 21:53:29,099] Trial 178 finished with value: 0.7465023317788141 and parameters: {'l1_ratio': 0.49078881889177617, 'penalty': 'elasticnet', 'C': 7.2141713177641735, 'max_iter': 683, 'solver': 'saga'}. Best is trial 0 with value: 0.7468354430379747.\n",
      "[I 2024-06-09 21:53:29,174] Trial 179 finished with value: 0.7465023317788141 and parameters: {'l1_ratio': 0.18951097529406513, 'penalty': 'elasticnet', 'C': 51.326040690202525, 'max_iter': 422, 'solver': 'saga'}. Best is trial 0 with value: 0.7468354430379747.\n",
      "[I 2024-06-09 21:53:29,250] Trial 180 finished with value: 0.7468354430379747 and parameters: {'l1_ratio': 0.35560449737706856, 'penalty': 'elasticnet', 'C': 99.48125091698515, 'max_iter': 945, 'solver': 'saga'}. Best is trial 0 with value: 0.7468354430379747.\n",
      "[I 2024-06-09 21:53:29,335] Trial 181 finished with value: 0.7465023317788141 and parameters: {'l1_ratio': 0.3803928316342987, 'penalty': 'elasticnet', 'C': 51.23206656910692, 'max_iter': 211, 'solver': 'saga'}. Best is trial 0 with value: 0.7468354430379747.\n",
      "[I 2024-06-09 21:53:29,401] Trial 182 finished with value: 0.7468354430379747 and parameters: {'l1_ratio': 0.31786624938645336, 'penalty': 'elasticnet', 'C': 92.82708256123097, 'max_iter': 108, 'solver': 'saga'}. Best is trial 0 with value: 0.7468354430379747.\n",
      "[I 2024-06-09 21:53:29,470] Trial 183 finished with value: 0.7465023317788141 and parameters: {'l1_ratio': 0.5766847434366573, 'penalty': 'elasticnet', 'C': 18.232530634199797, 'max_iter': 295, 'solver': 'saga'}. Best is trial 0 with value: 0.7468354430379747.\n",
      "[I 2024-06-09 21:53:29,543] Trial 184 finished with value: 0.7465023317788141 and parameters: {'l1_ratio': 0.5204200584793329, 'penalty': 'elasticnet', 'C': 22.908899819730635, 'max_iter': 819, 'solver': 'saga'}. Best is trial 0 with value: 0.7468354430379747.\n",
      "[I 2024-06-09 21:53:29,615] Trial 185 finished with value: 0.7468354430379747 and parameters: {'l1_ratio': 0.4815508030411725, 'penalty': 'elasticnet', 'C': 70.6307570463476, 'max_iter': 434, 'solver': 'saga'}. Best is trial 0 with value: 0.7468354430379747.\n",
      "[I 2024-06-09 21:53:29,714] Trial 186 finished with value: 0.7465023317788141 and parameters: {'l1_ratio': 0.40680733945979797, 'penalty': 'elasticnet', 'C': 54.03205896293173, 'max_iter': 857, 'solver': 'saga'}. Best is trial 0 with value: 0.7468354430379747.\n",
      "[I 2024-06-09 21:53:29,797] Trial 187 finished with value: 0.7468354430379747 and parameters: {'l1_ratio': 0.4593597234190956, 'penalty': 'elasticnet', 'C': 94.45938856297093, 'max_iter': 480, 'solver': 'saga'}. Best is trial 0 with value: 0.7468354430379747.\n",
      "[I 2024-06-09 21:53:29,887] Trial 188 finished with value: 0.7468354430379747 and parameters: {'l1_ratio': 0.2619967887730157, 'penalty': 'elasticnet', 'C': 75.74958493946616, 'max_iter': 334, 'solver': 'saga'}. Best is trial 0 with value: 0.7468354430379747.\n",
      "[I 2024-06-09 21:53:29,965] Trial 189 finished with value: 0.7468354430379747 and parameters: {'l1_ratio': 0.9164386119520391, 'penalty': 'elasticnet', 'C': 42.848455084638815, 'max_iter': 581, 'solver': 'saga'}. Best is trial 0 with value: 0.7468354430379747.\n",
      "[I 2024-06-09 21:53:30,040] Trial 190 finished with value: 0.7465023317788141 and parameters: {'l1_ratio': 0.18462380207402607, 'penalty': 'elasticnet', 'C': 38.39092468217376, 'max_iter': 898, 'solver': 'saga'}. Best is trial 0 with value: 0.7468354430379747.\n",
      "[I 2024-06-09 21:53:30,096] Trial 191 finished with value: 0.7421718854097269 and parameters: {'l1_ratio': 0.21285193174839834, 'penalty': 'elasticnet', 'C': 0.652427745472789, 'max_iter': 688, 'solver': 'saga'}. Best is trial 0 with value: 0.7468354430379747.\n",
      "[I 2024-06-09 21:53:30,159] Trial 192 finished with value: 0.7465023317788141 and parameters: {'l1_ratio': 0.8599840377691925, 'penalty': 'elasticnet', 'C': 9.220696416442928, 'max_iter': 966, 'solver': 'saga'}. Best is trial 0 with value: 0.7468354430379747.\n",
      "[I 2024-06-09 21:53:30,235] Trial 193 finished with value: 0.7465023317788141 and parameters: {'l1_ratio': 0.1051869255930834, 'penalty': 'elasticnet', 'C': 15.87906072042484, 'max_iter': 871, 'solver': 'saga'}. Best is trial 0 with value: 0.7468354430379747.\n",
      "[I 2024-06-09 21:53:30,304] Trial 194 finished with value: 0.7468354430379747 and parameters: {'l1_ratio': 0.2348524492830083, 'penalty': 'elasticnet', 'C': 74.4075345268888, 'max_iter': 552, 'solver': 'saga'}. Best is trial 0 with value: 0.7468354430379747.\n",
      "[I 2024-06-09 21:53:30,377] Trial 195 finished with value: 0.7468354430379747 and parameters: {'l1_ratio': 0.9269168613193993, 'penalty': 'elasticnet', 'C': 53.793257209969255, 'max_iter': 258, 'solver': 'saga'}. Best is trial 0 with value: 0.7468354430379747.\n",
      "[I 2024-06-09 21:53:30,455] Trial 196 finished with value: 0.7468354430379747 and parameters: {'l1_ratio': 0.5540623103318519, 'penalty': 'elasticnet', 'C': 98.8085521367555, 'max_iter': 530, 'solver': 'saga'}. Best is trial 0 with value: 0.7468354430379747.\n",
      "[I 2024-06-09 21:53:30,518] Trial 197 finished with value: 0.7468354430379747 and parameters: {'l1_ratio': 0.16534047338212798, 'penalty': 'elasticnet', 'C': 96.93662214799807, 'max_iter': 736, 'solver': 'saga'}. Best is trial 0 with value: 0.7468354430379747.\n",
      "[I 2024-06-09 21:53:30,574] Trial 198 finished with value: 0.7468354430379747 and parameters: {'l1_ratio': 0.5583803439006675, 'penalty': 'elasticnet', 'C': 56.330915722847074, 'max_iter': 458, 'solver': 'saga'}. Best is trial 0 with value: 0.7468354430379747.\n",
      "[I 2024-06-09 21:53:30,641] Trial 199 finished with value: 0.7455029980013325 and parameters: {'l1_ratio': 0.12335021229434073, 'penalty': 'elasticnet', 'C': 5.23380828736884, 'max_iter': 276, 'solver': 'saga'}. Best is trial 0 with value: 0.7468354430379747.\n"
     ]
    },
    {
     "name": "stdout",
     "output_type": "stream",
     "text": [
      "Best Hyperparameters: {'l1_ratio': 0.5172978838465893, 'penalty': 'elasticnet', 'C': 94.69679075544326, 'max_iter': 789, 'solver': 'saga'}\n",
      "Best Accuracy: 0.7468354430379747\n"
     ]
    }
   ],
   "source": [
    "# Create a study object and optimize the objective function\n",
    "study = optuna.create_study(direction='maximize', sampler=optuna.samplers.RandomSampler(seed=seed))\n",
    "study.optimize(objective, n_trials=200)\n",
    "\n",
    "# Get the best hyperparameters and accuracy score\n",
    "best_params = study.best_params\n",
    "best_accuracy = study.best_value\n",
    "\n",
    "print(\"Best Hyperparameters:\", best_params)\n",
    "print(\"Best Accuracy:\", best_accuracy)"
   ]
  },
  {
   "cell_type": "code",
   "execution_count": 36,
   "metadata": {},
   "outputs": [
    {
     "data": {
      "text/html": [
       "<div>\n",
       "<style scoped>\n",
       "    .dataframe tbody tr th:only-of-type {\n",
       "        vertical-align: middle;\n",
       "    }\n",
       "\n",
       "    .dataframe tbody tr th {\n",
       "        vertical-align: top;\n",
       "    }\n",
       "\n",
       "    .dataframe thead th {\n",
       "        text-align: right;\n",
       "    }\n",
       "</style>\n",
       "<table border=\"1\" class=\"dataframe\">\n",
       "  <thead>\n",
       "    <tr style=\"text-align: right;\">\n",
       "      <th></th>\n",
       "      <th>number</th>\n",
       "      <th>value</th>\n",
       "      <th>datetime_start</th>\n",
       "      <th>datetime_complete</th>\n",
       "      <th>duration</th>\n",
       "      <th>params_C</th>\n",
       "      <th>params_l1_ratio</th>\n",
       "      <th>params_max_iter</th>\n",
       "      <th>params_penalty</th>\n",
       "      <th>params_solver</th>\n",
       "      <th>state</th>\n",
       "    </tr>\n",
       "  </thead>\n",
       "  <tbody>\n",
       "    <tr>\n",
       "      <th>0</th>\n",
       "      <td>0</td>\n",
       "      <td>0.746835</td>\n",
       "      <td>2024-06-09 21:53:14.687312</td>\n",
       "      <td>2024-06-09 21:53:14.762504</td>\n",
       "      <td>0 days 00:00:00.075192</td>\n",
       "      <td>94.696791</td>\n",
       "      <td>0.517298</td>\n",
       "      <td>789</td>\n",
       "      <td>elasticnet</td>\n",
       "      <td>saga</td>\n",
       "      <td>COMPLETE</td>\n",
       "    </tr>\n",
       "    <tr>\n",
       "      <th>131</th>\n",
       "      <td>131</td>\n",
       "      <td>0.746835</td>\n",
       "      <td>2024-06-09 21:53:25.299893</td>\n",
       "      <td>2024-06-09 21:53:25.390395</td>\n",
       "      <td>0 days 00:00:00.090502</td>\n",
       "      <td>72.450796</td>\n",
       "      <td>0.465636</td>\n",
       "      <td>174</td>\n",
       "      <td>elasticnet</td>\n",
       "      <td>saga</td>\n",
       "      <td>COMPLETE</td>\n",
       "    </tr>\n",
       "    <tr>\n",
       "      <th>123</th>\n",
       "      <td>123</td>\n",
       "      <td>0.746835</td>\n",
       "      <td>2024-06-09 21:53:24.666099</td>\n",
       "      <td>2024-06-09 21:53:24.747844</td>\n",
       "      <td>0 days 00:00:00.081745</td>\n",
       "      <td>73.174067</td>\n",
       "      <td>0.633776</td>\n",
       "      <td>971</td>\n",
       "      <td>elasticnet</td>\n",
       "      <td>saga</td>\n",
       "      <td>COMPLETE</td>\n",
       "    </tr>\n",
       "    <tr>\n",
       "      <th>122</th>\n",
       "      <td>122</td>\n",
       "      <td>0.746835</td>\n",
       "      <td>2024-06-09 21:53:24.585923</td>\n",
       "      <td>2024-06-09 21:53:24.665180</td>\n",
       "      <td>0 days 00:00:00.079257</td>\n",
       "      <td>81.960295</td>\n",
       "      <td>0.599599</td>\n",
       "      <td>289</td>\n",
       "      <td>elasticnet</td>\n",
       "      <td>saga</td>\n",
       "      <td>COMPLETE</td>\n",
       "    </tr>\n",
       "    <tr>\n",
       "      <th>119</th>\n",
       "      <td>119</td>\n",
       "      <td>0.746835</td>\n",
       "      <td>2024-06-09 21:53:24.369946</td>\n",
       "      <td>2024-06-09 21:53:24.444829</td>\n",
       "      <td>0 days 00:00:00.074883</td>\n",
       "      <td>80.787934</td>\n",
       "      <td>0.219515</td>\n",
       "      <td>529</td>\n",
       "      <td>elasticnet</td>\n",
       "      <td>saga</td>\n",
       "      <td>COMPLETE</td>\n",
       "    </tr>\n",
       "    <tr>\n",
       "      <th>118</th>\n",
       "      <td>118</td>\n",
       "      <td>0.746835</td>\n",
       "      <td>2024-06-09 21:53:24.304348</td>\n",
       "      <td>2024-06-09 21:53:24.369235</td>\n",
       "      <td>0 days 00:00:00.064887</td>\n",
       "      <td>80.448712</td>\n",
       "      <td>0.227343</td>\n",
       "      <td>414</td>\n",
       "      <td>elasticnet</td>\n",
       "      <td>saga</td>\n",
       "      <td>COMPLETE</td>\n",
       "    </tr>\n",
       "    <tr>\n",
       "      <th>116</th>\n",
       "      <td>116</td>\n",
       "      <td>0.746835</td>\n",
       "      <td>2024-06-09 21:53:24.166839</td>\n",
       "      <td>2024-06-09 21:53:24.231825</td>\n",
       "      <td>0 days 00:00:00.064986</td>\n",
       "      <td>87.116476</td>\n",
       "      <td>0.194048</td>\n",
       "      <td>905</td>\n",
       "      <td>elasticnet</td>\n",
       "      <td>saga</td>\n",
       "      <td>COMPLETE</td>\n",
       "    </tr>\n",
       "    <tr>\n",
       "      <th>115</th>\n",
       "      <td>115</td>\n",
       "      <td>0.746835</td>\n",
       "      <td>2024-06-09 21:53:24.100001</td>\n",
       "      <td>2024-06-09 21:53:24.165117</td>\n",
       "      <td>0 days 00:00:00.065116</td>\n",
       "      <td>84.407829</td>\n",
       "      <td>0.395236</td>\n",
       "      <td>368</td>\n",
       "      <td>elasticnet</td>\n",
       "      <td>saga</td>\n",
       "      <td>COMPLETE</td>\n",
       "    </tr>\n",
       "    <tr>\n",
       "      <th>114</th>\n",
       "      <td>114</td>\n",
       "      <td>0.746835</td>\n",
       "      <td>2024-06-09 21:53:24.015782</td>\n",
       "      <td>2024-06-09 21:53:24.099130</td>\n",
       "      <td>0 days 00:00:00.083348</td>\n",
       "      <td>1.654734</td>\n",
       "      <td>0.794329</td>\n",
       "      <td>207</td>\n",
       "      <td>elasticnet</td>\n",
       "      <td>saga</td>\n",
       "      <td>COMPLETE</td>\n",
       "    </tr>\n",
       "    <tr>\n",
       "      <th>113</th>\n",
       "      <td>113</td>\n",
       "      <td>0.746835</td>\n",
       "      <td>2024-06-09 21:53:23.945254</td>\n",
       "      <td>2024-06-09 21:53:24.014912</td>\n",
       "      <td>0 days 00:00:00.069658</td>\n",
       "      <td>99.517332</td>\n",
       "      <td>0.086517</td>\n",
       "      <td>668</td>\n",
       "      <td>elasticnet</td>\n",
       "      <td>saga</td>\n",
       "      <td>COMPLETE</td>\n",
       "    </tr>\n",
       "  </tbody>\n",
       "</table>\n",
       "</div>"
      ],
      "text/plain": [
       "     number     value             datetime_start          datetime_complete  \\\n",
       "0         0  0.746835 2024-06-09 21:53:14.687312 2024-06-09 21:53:14.762504   \n",
       "131     131  0.746835 2024-06-09 21:53:25.299893 2024-06-09 21:53:25.390395   \n",
       "123     123  0.746835 2024-06-09 21:53:24.666099 2024-06-09 21:53:24.747844   \n",
       "122     122  0.746835 2024-06-09 21:53:24.585923 2024-06-09 21:53:24.665180   \n",
       "119     119  0.746835 2024-06-09 21:53:24.369946 2024-06-09 21:53:24.444829   \n",
       "118     118  0.746835 2024-06-09 21:53:24.304348 2024-06-09 21:53:24.369235   \n",
       "116     116  0.746835 2024-06-09 21:53:24.166839 2024-06-09 21:53:24.231825   \n",
       "115     115  0.746835 2024-06-09 21:53:24.100001 2024-06-09 21:53:24.165117   \n",
       "114     114  0.746835 2024-06-09 21:53:24.015782 2024-06-09 21:53:24.099130   \n",
       "113     113  0.746835 2024-06-09 21:53:23.945254 2024-06-09 21:53:24.014912   \n",
       "\n",
       "                  duration   params_C  params_l1_ratio  params_max_iter  \\\n",
       "0   0 days 00:00:00.075192  94.696791         0.517298              789   \n",
       "131 0 days 00:00:00.090502  72.450796         0.465636              174   \n",
       "123 0 days 00:00:00.081745  73.174067         0.633776              971   \n",
       "122 0 days 00:00:00.079257  81.960295         0.599599              289   \n",
       "119 0 days 00:00:00.074883  80.787934         0.219515              529   \n",
       "118 0 days 00:00:00.064887  80.448712         0.227343              414   \n",
       "116 0 days 00:00:00.064986  87.116476         0.194048              905   \n",
       "115 0 days 00:00:00.065116  84.407829         0.395236              368   \n",
       "114 0 days 00:00:00.083348   1.654734         0.794329              207   \n",
       "113 0 days 00:00:00.069658  99.517332         0.086517              668   \n",
       "\n",
       "    params_penalty params_solver     state  \n",
       "0       elasticnet          saga  COMPLETE  \n",
       "131     elasticnet          saga  COMPLETE  \n",
       "123     elasticnet          saga  COMPLETE  \n",
       "122     elasticnet          saga  COMPLETE  \n",
       "119     elasticnet          saga  COMPLETE  \n",
       "118     elasticnet          saga  COMPLETE  \n",
       "116     elasticnet          saga  COMPLETE  \n",
       "115     elasticnet          saga  COMPLETE  \n",
       "114     elasticnet          saga  COMPLETE  \n",
       "113     elasticnet          saga  COMPLETE  "
      ]
     },
     "execution_count": 36,
     "metadata": {},
     "output_type": "execute_result"
    }
   ],
   "source": [
    "# Get best trials\n",
    "trials_OTP3 = study.trials_dataframe()\n",
    "# Sort the dataframe by value (accuracy) in descending order\n",
    "top_trials_OTP3 = trials_OTP3.sort_values(by='value', ascending=False).head(10)\n",
    "top_trials_OTP3"
   ]
  },
  {
   "cell_type": "code",
   "execution_count": 37,
   "metadata": {},
   "outputs": [
    {
     "name": "stdout",
     "output_type": "stream",
     "text": [
      "Metrics for LR_baseline_OPT3_best:\n",
      "Accuracy: 0.7468\n",
      "Weighted F1: 0.7463\n",
      "Weighted Precision: 0.7472\n",
      "Weighted Recall: 0.7468\n",
      "Macro-Averaged Precision: 0.7474\n",
      "Macro-Averaged Recall: 0.7454\n",
      "F1: [0.76264834 0.72876517]\n",
      "Precision: [0.7417983  0.75294985]\n",
      "classification report\n",
      "              precision    recall  f1-score   support\n",
      "\n",
      "     Class 0       0.74      0.78      0.76      1556\n",
      "     Class 1       0.75      0.71      0.73      1446\n",
      "\n",
      "    accuracy                           0.75      3002\n",
      "   macro avg       0.75      0.75      0.75      3002\n",
      "weighted avg       0.75      0.75      0.75      3002\n",
      "\n",
      "Confusion Matrix\n"
     ]
    },
    {
     "data": {
      "image/png": "[encoded data removed]",
      "text/plain": [
       "<Figure size 640x480 with 2 Axes>"
      ]
     },
     "metadata": {},
     "output_type": "display_data"
    }
   ],
   "source": [
    "best_trial = study.best_trial\n",
    "best_model = LogisticRegression(**best_trial.params, random_state=seed)\n",
    "best_model.fit(X_train, y_train)\n",
    "\n",
    "predictions_opt3 = best_model.predict(X_test)\n",
    "\n",
    "model_metrics = pd.concat([model_metrics, calculate_metrics('LR_baseline_OPT3_best', y_test, predictions_opt3)])"
   ]
  },
  {
   "cell_type": "markdown",
   "metadata": {},
   "source": [
    "end"
   ]
  },
  {
   "cell_type": "code",
   "execution_count": 38,
   "metadata": {},
   "outputs": [
    {
     "data": {
      "text/html": [
       "<div>\n",
       "<style scoped>\n",
       "    .dataframe tbody tr th:only-of-type {\n",
       "        vertical-align: middle;\n",
       "    }\n",
       "\n",
       "    .dataframe tbody tr th {\n",
       "        vertical-align: top;\n",
       "    }\n",
       "\n",
       "    .dataframe thead th {\n",
       "        text-align: right;\n",
       "    }\n",
       "</style>\n",
       "<table border=\"1\" class=\"dataframe\">\n",
       "  <thead>\n",
       "    <tr style=\"text-align: right;\">\n",
       "      <th></th>\n",
       "      <th>Accuracy</th>\n",
       "      <th>Weighted F1</th>\n",
       "      <th>Weighted Precision</th>\n",
       "      <th>Weighted Recall</th>\n",
       "      <th>Macro-Averaged Precision</th>\n",
       "      <th>Macro-Averaged Recall</th>\n",
       "      <th>F1</th>\n",
       "      <th>Precision</th>\n",
       "    </tr>\n",
       "  </thead>\n",
       "  <tbody>\n",
       "    <tr>\n",
       "      <th>LR_baseline_untuned</th>\n",
       "      <td>0.741839</td>\n",
       "      <td>0.741329</td>\n",
       "      <td>0.742131</td>\n",
       "      <td>0.741839</td>\n",
       "      <td>0.742311</td>\n",
       "      <td>0.740404</td>\n",
       "      <td>[0.75788816 0.72351052]</td>\n",
       "      <td>[0.73738602 0.74723655]</td>\n",
       "    </tr>\n",
       "    <tr>\n",
       "      <th>LR_baseline_CV1_best</th>\n",
       "      <td>0.746835</td>\n",
       "      <td>0.746328</td>\n",
       "      <td>0.747170</td>\n",
       "      <td>0.746835</td>\n",
       "      <td>0.747374</td>\n",
       "      <td>0.745395</td>\n",
       "      <td>[0.76264834 0.72876517]</td>\n",
       "      <td>[0.7417983  0.75294985]</td>\n",
       "    </tr>\n",
       "    <tr>\n",
       "      <th>LR_baseline_skf_best</th>\n",
       "      <td>0.746502</td>\n",
       "      <td>0.745986</td>\n",
       "      <td>0.746848</td>\n",
       "      <td>0.746502</td>\n",
       "      <td>0.747058</td>\n",
       "      <td>0.745049</td>\n",
       "      <td>[0.76241024 0.72831132]</td>\n",
       "      <td>[0.74134791 0.75276753]</td>\n",
       "    </tr>\n",
       "    <tr>\n",
       "      <th>LR_baseline_OPT1_best</th>\n",
       "      <td>0.747502</td>\n",
       "      <td>0.746945</td>\n",
       "      <td>0.747927</td>\n",
       "      <td>0.747502</td>\n",
       "      <td>0.748170</td>\n",
       "      <td>0.745989</td>\n",
       "      <td>[0.76371571 0.72889843]</td>\n",
       "      <td>[0.74152542 0.75481481]</td>\n",
       "    </tr>\n",
       "    <tr>\n",
       "      <th>LR_baseline_OPT2_best</th>\n",
       "      <td>0.746835</td>\n",
       "      <td>0.746328</td>\n",
       "      <td>0.747170</td>\n",
       "      <td>0.746835</td>\n",
       "      <td>0.747374</td>\n",
       "      <td>0.745395</td>\n",
       "      <td>[0.76264834 0.72876517]</td>\n",
       "      <td>[0.7417983  0.75294985]</td>\n",
       "    </tr>\n",
       "    <tr>\n",
       "      <th>LR_baseline_OPT3_best</th>\n",
       "      <td>0.746835</td>\n",
       "      <td>0.746328</td>\n",
       "      <td>0.747170</td>\n",
       "      <td>0.746835</td>\n",
       "      <td>0.747374</td>\n",
       "      <td>0.745395</td>\n",
       "      <td>[0.76264834 0.72876517]</td>\n",
       "      <td>[0.7417983  0.75294985]</td>\n",
       "    </tr>\n",
       "  </tbody>\n",
       "</table>\n",
       "</div>"
      ],
      "text/plain": [
       "                       Accuracy  Weighted F1  Weighted Precision  \\\n",
       "LR_baseline_untuned    0.741839     0.741329            0.742131   \n",
       "LR_baseline_CV1_best   0.746835     0.746328            0.747170   \n",
       "LR_baseline_skf_best   0.746502     0.745986            0.746848   \n",
       "LR_baseline_OPT1_best  0.747502     0.746945            0.747927   \n",
       "LR_baseline_OPT2_best  0.746835     0.746328            0.747170   \n",
       "LR_baseline_OPT3_best  0.746835     0.746328            0.747170   \n",
       "\n",
       "                       Weighted Recall  Macro-Averaged Precision  \\\n",
       "LR_baseline_untuned           0.741839                  0.742311   \n",
       "LR_baseline_CV1_best          0.746835                  0.747374   \n",
       "LR_baseline_skf_best          0.746502                  0.747058   \n",
       "LR_baseline_OPT1_best         0.747502                  0.748170   \n",
       "LR_baseline_OPT2_best         0.746835                  0.747374   \n",
       "LR_baseline_OPT3_best         0.746835                  0.747374   \n",
       "\n",
       "                       Macro-Averaged Recall                       F1  \\\n",
       "LR_baseline_untuned                 0.740404  [0.75788816 0.72351052]   \n",
       "LR_baseline_CV1_best                0.745395  [0.76264834 0.72876517]   \n",
       "LR_baseline_skf_best                0.745049  [0.76241024 0.72831132]   \n",
       "LR_baseline_OPT1_best               0.745989  [0.76371571 0.72889843]   \n",
       "LR_baseline_OPT2_best               0.745395  [0.76264834 0.72876517]   \n",
       "LR_baseline_OPT3_best               0.745395  [0.76264834 0.72876517]   \n",
       "\n",
       "                                     Precision  \n",
       "LR_baseline_untuned    [0.73738602 0.74723655]  \n",
       "LR_baseline_CV1_best   [0.7417983  0.75294985]  \n",
       "LR_baseline_skf_best   [0.74134791 0.75276753]  \n",
       "LR_baseline_OPT1_best  [0.74152542 0.75481481]  \n",
       "LR_baseline_OPT2_best  [0.7417983  0.75294985]  \n",
       "LR_baseline_OPT3_best  [0.7417983  0.75294985]  "
      ]
     },
     "execution_count": 38,
     "metadata": {},
     "output_type": "execute_result"
    }
   ],
   "source": [
    "model_metrics"
   ]
  }
 ],
 "metadata": {
  "kernelspec": {
   "display_name": "Python 3",
   "language": "python",
   "name": "python3"
  },
  "language_info": {
   "codemirror_mode": {
    "name": "ipython",
    "version": 3
   },
   "file_extension": ".py",
   "mimetype": "text/x-python",
   "name": "python",
   "nbconvert_exporter": "python",
   "pygments_lexer": "ipython3",
   "version": "3.11.5"
  }
 },
 "nbformat": 4,
 "nbformat_minor": 2
}
