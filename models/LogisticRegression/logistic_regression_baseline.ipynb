{
 "cells": [
  {
   "cell_type": "markdown",
   "metadata": {},
   "source": [
    "## Logistic Regression Implementation on (scaled) non-reduced dataset (baseline model)"
   ]
  },
  {
   "cell_type": "markdown",
   "metadata": {},
   "source": [
    "Imports"
   ]
  },
  {
   "cell_type": "code",
   "execution_count": 1,
   "metadata": {},
   "outputs": [
    {
     "name": "stderr",
     "output_type": "stream",
     "text": [
      "C:\\Users\\movil\\AppData\\Local\\Packages\\PythonSoftwareFoundation.Python.3.10_qbz5n2kfra8p0\\LocalCache\\local-packages\\Python310\\site-packages\\scipy\\__init__.py:155: UserWarning: A NumPy version >=1.18.5 and <1.25.0 is required for this version of SciPy (detected version 1.26.4\n",
      "  warnings.warn(f\"A NumPy version >={np_minversion} and <{np_maxversion}\"\n"
     ]
    }
   ],
   "source": [
    "# Utilities\n",
    "import pandas as pd\n",
    "import warnings\n",
    "import matplotlib.pyplot as plt\n",
    "\n",
    "# Models\n",
    "import optuna\n",
    "from sklearn.model_selection import train_test_split, cross_val_score\n",
    "from sklearn.exceptions import ConvergenceWarning\n",
    "from sklearn.ensemble import RandomForestClassifier\n",
    "from sklearn.linear_model import LogisticRegression\n",
    "from sklearn.model_selection import GridSearchCV\n",
    "from sklearn.metrics import accuracy_score, accuracy_score, f1_score\n",
    "from sklearn.metrics import classification_report, precision_score, recall_score, confusion_matrix, ConfusionMatrixDisplay"
   ]
  },
  {
   "cell_type": "markdown",
   "metadata": {},
   "source": [
    "Set random seed for reproductibility"
   ]
  },
  {
   "cell_type": "code",
   "execution_count": 2,
   "metadata": {},
   "outputs": [],
   "source": [
    "seed = 23"
   ]
  },
  {
   "cell_type": "markdown",
   "metadata": {},
   "source": [
    "Read clean (scaled data)"
   ]
  },
  {
   "cell_type": "code",
   "execution_count": 3,
   "metadata": {},
   "outputs": [],
   "source": [
    "df_scaled = pd.read_csv('../../Data/dataset_preprocessed.csv')"
   ]
  },
  {
   "cell_type": "markdown",
   "metadata": {},
   "source": [
    "Take sample for (initial) tests"
   ]
  },
  {
   "cell_type": "code",
   "execution_count": 4,
   "metadata": {},
   "outputs": [],
   "source": [
    "#df_scaled_sample = df_scaled.sample(n=500, random_state=seed)\n",
    "df_scaled_sample = df_scaled"
   ]
  },
  {
   "cell_type": "markdown",
   "metadata": {},
   "source": [
    "Train-Test Split"
   ]
  },
  {
   "cell_type": "code",
   "execution_count": 5,
   "metadata": {},
   "outputs": [],
   "source": [
    "test_size = 0.2\n",
    "X_train, X_test, y_train, y_test = train_test_split(\n",
    "    df_scaled_sample.drop('averageRating', axis=1), \n",
    "    df_scaled_sample['averageRating'], test_size=test_size, \n",
    "    random_state=seed\n",
    ")"
   ]
  },
  {
   "cell_type": "markdown",
   "metadata": {},
   "source": [
    "Save and print metrics"
   ]
  },
  {
   "cell_type": "code",
   "execution_count": 6,
   "metadata": {},
   "outputs": [],
   "source": [
    "def calculate_metrics(model_name, y_true, y_pred):\n",
    "    metrics = {\n",
    "        'Accuracy': accuracy_score(y_true, y_pred),\n",
    "        'Weighted F1': f1_score(y_true, y_pred, average='weighted'),\n",
    "        'Weighted Precision': precision_score(y_true, y_pred, average='weighted'),\n",
    "        'Weighted Recall': recall_score(y_true, y_pred, average='weighted'),\n",
    "        'Macro-Averaged Precision': precision_score(y_true, y_pred, average='macro'),\n",
    "        'Macro-Averaged Recall': recall_score(y_true, y_pred, average='macro'),\n",
    "        'F1': str(f1_score(y_true, y_pred, average=None)),\n",
    "        'Precision': str( precision_score(y_true, y_pred, average=None)),\n",
    "    }\n",
    "    \n",
    "    # Print the metrics\n",
    "    print(f\"Metrics for {model_name}:\")\n",
    "    for metric_name, metric_value in metrics.items():\n",
    "        try:\n",
    "            print(f\"{metric_name}: {metric_value:.4f}\")\n",
    "        except:\n",
    "            print(f\"{metric_name}: {metric_value}\")\n",
    "    \n",
    "    # Print the classification report\n",
    "    print(\"classification report\")\n",
    "    report = classification_report(y_true, y_pred, target_names=['Class 0', 'Class 1'])\n",
    "    print(report)\n",
    "\n",
    "    print(\"Confusion Matrix\")\n",
    "    cm = confusion_matrix(y_true, y_pred)\n",
    "    cmd = ConfusionMatrixDisplay(confusion_matrix=cm)\n",
    "    cmd.plot()\n",
    "    \n",
    "    plt.title(f'Confusion matrix for model {model_name} (Accuracy:{metrics[\"Accuracy\"]:.4f})')\n",
    "    plt.show()\n",
    "    \n",
    "    # Create df to store metrics\n",
    "    df_metrics = pd.DataFrame(metrics, index=[model_name])\n",
    "    \n",
    "    return df_metrics"
   ]
  },
  {
   "cell_type": "markdown",
   "metadata": {},
   "source": [
    "Model fit"
   ]
  },
  {
   "cell_type": "code",
   "execution_count": 7,
   "metadata": {},
   "outputs": [
    {
     "data": {
      "text/html": [
       "<style>#sk-container-id-1 {\n",
       "  /* Definition of color scheme common for light and dark mode */\n",
       "  --sklearn-color-text: black;\n",
       "  --sklearn-color-line: gray;\n",
       "  /* Definition of color scheme for unfitted estimators */\n",
       "  --sklearn-color-unfitted-level-0: #fff5e6;\n",
       "  --sklearn-color-unfitted-level-1: #f6e4d2;\n",
       "  --sklearn-color-unfitted-level-2: #ffe0b3;\n",
       "  --sklearn-color-unfitted-level-3: chocolate;\n",
       "  /* Definition of color scheme for fitted estimators */\n",
       "  --sklearn-color-fitted-level-0: #f0f8ff;\n",
       "  --sklearn-color-fitted-level-1: #d4ebff;\n",
       "  --sklearn-color-fitted-level-2: #b3dbfd;\n",
       "  --sklearn-color-fitted-level-3: cornflowerblue;\n",
       "\n",
       "  /* Specific color for light theme */\n",
       "  --sklearn-color-text-on-default-background: var(--sg-text-color, var(--theme-code-foreground, var(--jp-content-font-color1, black)));\n",
       "  --sklearn-color-background: var(--sg-background-color, var(--theme-background, var(--jp-layout-color0, white)));\n",
       "  --sklearn-color-border-box: var(--sg-text-color, var(--theme-code-foreground, var(--jp-content-font-color1, black)));\n",
       "  --sklearn-color-icon: #696969;\n",
       "\n",
       "  @media (prefers-color-scheme: dark) {\n",
       "    /* Redefinition of color scheme for dark theme */\n",
       "    --sklearn-color-text-on-default-background: var(--sg-text-color, var(--theme-code-foreground, var(--jp-content-font-color1, white)));\n",
       "    --sklearn-color-background: var(--sg-background-color, var(--theme-background, var(--jp-layout-color0, #111)));\n",
       "    --sklearn-color-border-box: var(--sg-text-color, var(--theme-code-foreground, var(--jp-content-font-color1, white)));\n",
       "    --sklearn-color-icon: #878787;\n",
       "  }\n",
       "}\n",
       "\n",
       "#sk-container-id-1 {\n",
       "  color: var(--sklearn-color-text);\n",
       "}\n",
       "\n",
       "#sk-container-id-1 pre {\n",
       "  padding: 0;\n",
       "}\n",
       "\n",
       "#sk-container-id-1 input.sk-hidden--visually {\n",
       "  border: 0;\n",
       "  clip: rect(1px 1px 1px 1px);\n",
       "  clip: rect(1px, 1px, 1px, 1px);\n",
       "  height: 1px;\n",
       "  margin: -1px;\n",
       "  overflow: hidden;\n",
       "  padding: 0;\n",
       "  position: absolute;\n",
       "  width: 1px;\n",
       "}\n",
       "\n",
       "#sk-container-id-1 div.sk-dashed-wrapped {\n",
       "  border: 1px dashed var(--sklearn-color-line);\n",
       "  margin: 0 0.4em 0.5em 0.4em;\n",
       "  box-sizing: border-box;\n",
       "  padding-bottom: 0.4em;\n",
       "  background-color: var(--sklearn-color-background);\n",
       "}\n",
       "\n",
       "#sk-container-id-1 div.sk-container {\n",
       "  /* jupyter's `normalize.less` sets `[hidden] { display: none; }`\n",
       "     but bootstrap.min.css set `[hidden] { display: none !important; }`\n",
       "     so we also need the `!important` here to be able to override the\n",
       "     default hidden behavior on the sphinx rendered scikit-learn.org.\n",
       "     See: https://github.com/scikit-learn/scikit-learn/issues/21755 */\n",
       "  display: inline-block !important;\n",
       "  position: relative;\n",
       "}\n",
       "\n",
       "#sk-container-id-1 div.sk-text-repr-fallback {\n",
       "  display: none;\n",
       "}\n",
       "\n",
       "div.sk-parallel-item,\n",
       "div.sk-serial,\n",
       "div.sk-item {\n",
       "  /* draw centered vertical line to link estimators */\n",
       "  background-image: linear-gradient(var(--sklearn-color-text-on-default-background), var(--sklearn-color-text-on-default-background));\n",
       "  background-size: 2px 100%;\n",
       "  background-repeat: no-repeat;\n",
       "  background-position: center center;\n",
       "}\n",
       "\n",
       "/* Parallel-specific style estimator block */\n",
       "\n",
       "#sk-container-id-1 div.sk-parallel-item::after {\n",
       "  content: \"\";\n",
       "  width: 100%;\n",
       "  border-bottom: 2px solid var(--sklearn-color-text-on-default-background);\n",
       "  flex-grow: 1;\n",
       "}\n",
       "\n",
       "#sk-container-id-1 div.sk-parallel {\n",
       "  display: flex;\n",
       "  align-items: stretch;\n",
       "  justify-content: center;\n",
       "  background-color: var(--sklearn-color-background);\n",
       "  position: relative;\n",
       "}\n",
       "\n",
       "#sk-container-id-1 div.sk-parallel-item {\n",
       "  display: flex;\n",
       "  flex-direction: column;\n",
       "}\n",
       "\n",
       "#sk-container-id-1 div.sk-parallel-item:first-child::after {\n",
       "  align-self: flex-end;\n",
       "  width: 50%;\n",
       "}\n",
       "\n",
       "#sk-container-id-1 div.sk-parallel-item:last-child::after {\n",
       "  align-self: flex-start;\n",
       "  width: 50%;\n",
       "}\n",
       "\n",
       "#sk-container-id-1 div.sk-parallel-item:only-child::after {\n",
       "  width: 0;\n",
       "}\n",
       "\n",
       "/* Serial-specific style estimator block */\n",
       "\n",
       "#sk-container-id-1 div.sk-serial {\n",
       "  display: flex;\n",
       "  flex-direction: column;\n",
       "  align-items: center;\n",
       "  background-color: var(--sklearn-color-background);\n",
       "  padding-right: 1em;\n",
       "  padding-left: 1em;\n",
       "}\n",
       "\n",
       "\n",
       "/* Toggleable style: style used for estimator/Pipeline/ColumnTransformer box that is\n",
       "clickable and can be expanded/collapsed.\n",
       "- Pipeline and ColumnTransformer use this feature and define the default style\n",
       "- Estimators will overwrite some part of the style using the `sk-estimator` class\n",
       "*/\n",
       "\n",
       "/* Pipeline and ColumnTransformer style (default) */\n",
       "\n",
       "#sk-container-id-1 div.sk-toggleable {\n",
       "  /* Default theme specific background. It is overwritten whether we have a\n",
       "  specific estimator or a Pipeline/ColumnTransformer */\n",
       "  background-color: var(--sklearn-color-background);\n",
       "}\n",
       "\n",
       "/* Toggleable label */\n",
       "#sk-container-id-1 label.sk-toggleable__label {\n",
       "  cursor: pointer;\n",
       "  display: block;\n",
       "  width: 100%;\n",
       "  margin-bottom: 0;\n",
       "  padding: 0.5em;\n",
       "  box-sizing: border-box;\n",
       "  text-align: center;\n",
       "}\n",
       "\n",
       "#sk-container-id-1 label.sk-toggleable__label-arrow:before {\n",
       "  /* Arrow on the left of the label */\n",
       "  content: \"▸\";\n",
       "  float: left;\n",
       "  margin-right: 0.25em;\n",
       "  color: var(--sklearn-color-icon);\n",
       "}\n",
       "\n",
       "#sk-container-id-1 label.sk-toggleable__label-arrow:hover:before {\n",
       "  color: var(--sklearn-color-text);\n",
       "}\n",
       "\n",
       "/* Toggleable content - dropdown */\n",
       "\n",
       "#sk-container-id-1 div.sk-toggleable__content {\n",
       "  max-height: 0;\n",
       "  max-width: 0;\n",
       "  overflow: hidden;\n",
       "  text-align: left;\n",
       "  /* unfitted */\n",
       "  background-color: var(--sklearn-color-unfitted-level-0);\n",
       "}\n",
       "\n",
       "#sk-container-id-1 div.sk-toggleable__content.fitted {\n",
       "  /* fitted */\n",
       "  background-color: var(--sklearn-color-fitted-level-0);\n",
       "}\n",
       "\n",
       "#sk-container-id-1 div.sk-toggleable__content pre {\n",
       "  margin: 0.2em;\n",
       "  border-radius: 0.25em;\n",
       "  color: var(--sklearn-color-text);\n",
       "  /* unfitted */\n",
       "  background-color: var(--sklearn-color-unfitted-level-0);\n",
       "}\n",
       "\n",
       "#sk-container-id-1 div.sk-toggleable__content.fitted pre {\n",
       "  /* unfitted */\n",
       "  background-color: var(--sklearn-color-fitted-level-0);\n",
       "}\n",
       "\n",
       "#sk-container-id-1 input.sk-toggleable__control:checked~div.sk-toggleable__content {\n",
       "  /* Expand drop-down */\n",
       "  max-height: 200px;\n",
       "  max-width: 100%;\n",
       "  overflow: auto;\n",
       "}\n",
       "\n",
       "#sk-container-id-1 input.sk-toggleable__control:checked~label.sk-toggleable__label-arrow:before {\n",
       "  content: \"▾\";\n",
       "}\n",
       "\n",
       "/* Pipeline/ColumnTransformer-specific style */\n",
       "\n",
       "#sk-container-id-1 div.sk-label input.sk-toggleable__control:checked~label.sk-toggleable__label {\n",
       "  color: var(--sklearn-color-text);\n",
       "  background-color: var(--sklearn-color-unfitted-level-2);\n",
       "}\n",
       "\n",
       "#sk-container-id-1 div.sk-label.fitted input.sk-toggleable__control:checked~label.sk-toggleable__label {\n",
       "  background-color: var(--sklearn-color-fitted-level-2);\n",
       "}\n",
       "\n",
       "/* Estimator-specific style */\n",
       "\n",
       "/* Colorize estimator box */\n",
       "#sk-container-id-1 div.sk-estimator input.sk-toggleable__control:checked~label.sk-toggleable__label {\n",
       "  /* unfitted */\n",
       "  background-color: var(--sklearn-color-unfitted-level-2);\n",
       "}\n",
       "\n",
       "#sk-container-id-1 div.sk-estimator.fitted input.sk-toggleable__control:checked~label.sk-toggleable__label {\n",
       "  /* fitted */\n",
       "  background-color: var(--sklearn-color-fitted-level-2);\n",
       "}\n",
       "\n",
       "#sk-container-id-1 div.sk-label label.sk-toggleable__label,\n",
       "#sk-container-id-1 div.sk-label label {\n",
       "  /* The background is the default theme color */\n",
       "  color: var(--sklearn-color-text-on-default-background);\n",
       "}\n",
       "\n",
       "/* On hover, darken the color of the background */\n",
       "#sk-container-id-1 div.sk-label:hover label.sk-toggleable__label {\n",
       "  color: var(--sklearn-color-text);\n",
       "  background-color: var(--sklearn-color-unfitted-level-2);\n",
       "}\n",
       "\n",
       "/* Label box, darken color on hover, fitted */\n",
       "#sk-container-id-1 div.sk-label.fitted:hover label.sk-toggleable__label.fitted {\n",
       "  color: var(--sklearn-color-text);\n",
       "  background-color: var(--sklearn-color-fitted-level-2);\n",
       "}\n",
       "\n",
       "/* Estimator label */\n",
       "\n",
       "#sk-container-id-1 div.sk-label label {\n",
       "  font-family: monospace;\n",
       "  font-weight: bold;\n",
       "  display: inline-block;\n",
       "  line-height: 1.2em;\n",
       "}\n",
       "\n",
       "#sk-container-id-1 div.sk-label-container {\n",
       "  text-align: center;\n",
       "}\n",
       "\n",
       "/* Estimator-specific */\n",
       "#sk-container-id-1 div.sk-estimator {\n",
       "  font-family: monospace;\n",
       "  border: 1px dotted var(--sklearn-color-border-box);\n",
       "  border-radius: 0.25em;\n",
       "  box-sizing: border-box;\n",
       "  margin-bottom: 0.5em;\n",
       "  /* unfitted */\n",
       "  background-color: var(--sklearn-color-unfitted-level-0);\n",
       "}\n",
       "\n",
       "#sk-container-id-1 div.sk-estimator.fitted {\n",
       "  /* fitted */\n",
       "  background-color: var(--sklearn-color-fitted-level-0);\n",
       "}\n",
       "\n",
       "/* on hover */\n",
       "#sk-container-id-1 div.sk-estimator:hover {\n",
       "  /* unfitted */\n",
       "  background-color: var(--sklearn-color-unfitted-level-2);\n",
       "}\n",
       "\n",
       "#sk-container-id-1 div.sk-estimator.fitted:hover {\n",
       "  /* fitted */\n",
       "  background-color: var(--sklearn-color-fitted-level-2);\n",
       "}\n",
       "\n",
       "/* Specification for estimator info (e.g. \"i\" and \"?\") */\n",
       "\n",
       "/* Common style for \"i\" and \"?\" */\n",
       "\n",
       ".sk-estimator-doc-link,\n",
       "a:link.sk-estimator-doc-link,\n",
       "a:visited.sk-estimator-doc-link {\n",
       "  float: right;\n",
       "  font-size: smaller;\n",
       "  line-height: 1em;\n",
       "  font-family: monospace;\n",
       "  background-color: var(--sklearn-color-background);\n",
       "  border-radius: 1em;\n",
       "  height: 1em;\n",
       "  width: 1em;\n",
       "  text-decoration: none !important;\n",
       "  margin-left: 1ex;\n",
       "  /* unfitted */\n",
       "  border: var(--sklearn-color-unfitted-level-1) 1pt solid;\n",
       "  color: var(--sklearn-color-unfitted-level-1);\n",
       "}\n",
       "\n",
       ".sk-estimator-doc-link.fitted,\n",
       "a:link.sk-estimator-doc-link.fitted,\n",
       "a:visited.sk-estimator-doc-link.fitted {\n",
       "  /* fitted */\n",
       "  border: var(--sklearn-color-fitted-level-1) 1pt solid;\n",
       "  color: var(--sklearn-color-fitted-level-1);\n",
       "}\n",
       "\n",
       "/* On hover */\n",
       "div.sk-estimator:hover .sk-estimator-doc-link:hover,\n",
       ".sk-estimator-doc-link:hover,\n",
       "div.sk-label-container:hover .sk-estimator-doc-link:hover,\n",
       ".sk-estimator-doc-link:hover {\n",
       "  /* unfitted */\n",
       "  background-color: var(--sklearn-color-unfitted-level-3);\n",
       "  color: var(--sklearn-color-background);\n",
       "  text-decoration: none;\n",
       "}\n",
       "\n",
       "div.sk-estimator.fitted:hover .sk-estimator-doc-link.fitted:hover,\n",
       ".sk-estimator-doc-link.fitted:hover,\n",
       "div.sk-label-container:hover .sk-estimator-doc-link.fitted:hover,\n",
       ".sk-estimator-doc-link.fitted:hover {\n",
       "  /* fitted */\n",
       "  background-color: var(--sklearn-color-fitted-level-3);\n",
       "  color: var(--sklearn-color-background);\n",
       "  text-decoration: none;\n",
       "}\n",
       "\n",
       "/* Span, style for the box shown on hovering the info icon */\n",
       ".sk-estimator-doc-link span {\n",
       "  display: none;\n",
       "  z-index: 9999;\n",
       "  position: relative;\n",
       "  font-weight: normal;\n",
       "  right: .2ex;\n",
       "  padding: .5ex;\n",
       "  margin: .5ex;\n",
       "  width: min-content;\n",
       "  min-width: 20ex;\n",
       "  max-width: 50ex;\n",
       "  color: var(--sklearn-color-text);\n",
       "  box-shadow: 2pt 2pt 4pt #999;\n",
       "  /* unfitted */\n",
       "  background: var(--sklearn-color-unfitted-level-0);\n",
       "  border: .5pt solid var(--sklearn-color-unfitted-level-3);\n",
       "}\n",
       "\n",
       ".sk-estimator-doc-link.fitted span {\n",
       "  /* fitted */\n",
       "  background: var(--sklearn-color-fitted-level-0);\n",
       "  border: var(--sklearn-color-fitted-level-3);\n",
       "}\n",
       "\n",
       ".sk-estimator-doc-link:hover span {\n",
       "  display: block;\n",
       "}\n",
       "\n",
       "/* \"?\"-specific style due to the `<a>` HTML tag */\n",
       "\n",
       "#sk-container-id-1 a.estimator_doc_link {\n",
       "  float: right;\n",
       "  font-size: 1rem;\n",
       "  line-height: 1em;\n",
       "  font-family: monospace;\n",
       "  background-color: var(--sklearn-color-background);\n",
       "  border-radius: 1rem;\n",
       "  height: 1rem;\n",
       "  width: 1rem;\n",
       "  text-decoration: none;\n",
       "  /* unfitted */\n",
       "  color: var(--sklearn-color-unfitted-level-1);\n",
       "  border: var(--sklearn-color-unfitted-level-1) 1pt solid;\n",
       "}\n",
       "\n",
       "#sk-container-id-1 a.estimator_doc_link.fitted {\n",
       "  /* fitted */\n",
       "  border: var(--sklearn-color-fitted-level-1) 1pt solid;\n",
       "  color: var(--sklearn-color-fitted-level-1);\n",
       "}\n",
       "\n",
       "/* On hover */\n",
       "#sk-container-id-1 a.estimator_doc_link:hover {\n",
       "  /* unfitted */\n",
       "  background-color: var(--sklearn-color-unfitted-level-3);\n",
       "  color: var(--sklearn-color-background);\n",
       "  text-decoration: none;\n",
       "}\n",
       "\n",
       "#sk-container-id-1 a.estimator_doc_link.fitted:hover {\n",
       "  /* fitted */\n",
       "  background-color: var(--sklearn-color-fitted-level-3);\n",
       "}\n",
       "</style><div id=\"sk-container-id-1\" class=\"sk-top-container\"><div class=\"sk-text-repr-fallback\"><pre>LogisticRegression(random_state=23)</pre><b>In a Jupyter environment, please rerun this cell to show the HTML representation or trust the notebook. <br />On GitHub, the HTML representation is unable to render, please try loading this page with nbviewer.org.</b></div><div class=\"sk-container\" hidden><div class=\"sk-item\"><div class=\"sk-estimator fitted sk-toggleable\"><input class=\"sk-toggleable__control sk-hidden--visually\" id=\"sk-estimator-id-1\" type=\"checkbox\" checked><label for=\"sk-estimator-id-1\" class=\"sk-toggleable__label fitted sk-toggleable__label-arrow fitted\">&nbsp;&nbsp;LogisticRegression<a class=\"sk-estimator-doc-link fitted\" rel=\"noreferrer\" target=\"_blank\" href=\"https://scikit-learn.org/1.5/modules/generated/sklearn.linear_model.LogisticRegression.html\">?<span>Documentation for LogisticRegression</span></a><span class=\"sk-estimator-doc-link fitted\">i<span>Fitted</span></span></label><div class=\"sk-toggleable__content fitted\"><pre>LogisticRegression(random_state=23)</pre></div> </div></div></div></div>"
      ],
      "text/plain": [
       "LogisticRegression(random_state=23)"
      ]
     },
     "execution_count": 7,
     "metadata": {},
     "output_type": "execute_result"
    }
   ],
   "source": [
    "model = LogisticRegression(random_state=seed)\n",
    "model.fit(X_train, y_train)"
   ]
  },
  {
   "cell_type": "code",
   "execution_count": 8,
   "metadata": {},
   "outputs": [],
   "source": [
    "predictions = model.predict(X_test)"
   ]
  },
  {
   "cell_type": "code",
   "execution_count": 9,
   "metadata": {},
   "outputs": [
    {
     "name": "stdout",
     "output_type": "stream",
     "text": [
      "Metrics for LR_original:\n",
      "Accuracy: 0.7422\n",
      "Weighted F1: 0.7417\n",
      "Weighted Precision: 0.7425\n",
      "Weighted Recall: 0.7422\n",
      "Macro-Averaged Precision: 0.7427\n",
      "Macro-Averaged Recall: 0.7407\n",
      "F1: [0.75827608 0.72376874]\n",
      "Precision: [0.73754557 0.74778761]\n",
      "classification report\n",
      "              precision    recall  f1-score   support\n",
      "\n",
      "     Class 0       0.74      0.78      0.76      1556\n",
      "     Class 1       0.75      0.70      0.72      1446\n",
      "\n",
      "    accuracy                           0.74      3002\n",
      "   macro avg       0.74      0.74      0.74      3002\n",
      "weighted avg       0.74      0.74      0.74      3002\n",
      "\n",
      "Confusion Matrix\n"
     ]
    },
    {
     "data": {
      "image/png": "[encoded data removed]",
      "text/plain": [
       "<Figure size 432x288 with 2 Axes>"
      ]
     },
     "metadata": {
      "needs_background": "light"
     },
     "output_type": "display_data"
    }
   ],
   "source": [
    "model_metrics = calculate_metrics('LR_original', y_test, predictions)"
   ]
  },
  {
   "cell_type": "code",
   "execution_count": 10,
   "metadata": {},
   "outputs": [],
   "source": [
    "# Apar warning-uri ptc nu converge daca max_iter e mic (<100)\n",
    "# Maximu pe care l-am pus e 10k si acolo nu apare niciun warning dar am lasat ca lista\n",
    "# Ptc modelele cele mai bune sunt la la max_iter <500\n",
    "warnings.filterwarnings(action='ignore')"
   ]
  },
  {
   "cell_type": "markdown",
   "metadata": {},
   "source": [
    "## Grid Search with Cross-Validation"
   ]
  },
  {
   "cell_type": "code",
   "execution_count": 11,
   "metadata": {},
   "outputs": [],
   "source": [
    "# Define the hyperparameters to tune\n",
    "param_grid = {\n",
    "    'penalty': ['l1', 'l2'],\n",
    "    'C': [0.001, 0.01, 0.1, 1, 10, 100],\n",
    "    'max_iter': [10, 100, 200, 500, 100, 1000, 5000],\n",
    "    'solver': ['liblinear', 'saga']\n",
    "}\n",
    "\n",
    "# Perform grid search cross-validation\n",
    "grid_search_cv = GridSearchCV(estimator=LogisticRegression(random_state=seed),\n",
    "                               param_grid=param_grid, cv=5, scoring='accuracy')\n",
    "grid_search_cv.fit(X_train, y_train)\n",
    "\n",
    "# Get the best hyperparameters and model\n",
    "best_params_cv = grid_search_cv.best_params_\n",
    "best_model_cv = grid_search_cv.best_estimator_"
   ]
  },
  {
   "cell_type": "markdown",
   "metadata": {},
   "source": [
    "Results of the best model "
   ]
  },
  {
   "cell_type": "code",
   "execution_count": 12,
   "metadata": {},
   "outputs": [
    {
     "name": "stdout",
     "output_type": "stream",
     "text": [
      "Best Hyperparameters: {'C': 100, 'max_iter': 100, 'penalty': 'l1', 'solver': 'saga'}\n",
      "Accuracy: 0.7468354430379747\n"
     ]
    }
   ],
   "source": [
    "accuracy_cv = best_model_cv.score(X_test, y_test)\n",
    "\n",
    "print(\"Best Hyperparameters:\", best_params_cv)\n",
    "print(\"Accuracy:\", accuracy_cv)"
   ]
  },
  {
   "cell_type": "markdown",
   "metadata": {},
   "source": [
    "Results of best models Grid Search CV"
   ]
  },
  {
   "cell_type": "code",
   "execution_count": 13,
   "metadata": {},
   "outputs": [
    {
     "name": "stdout",
     "output_type": "stream",
     "text": [
      "                                                params  mean_test_score\n",
      "165  {'C': 100, 'max_iter': 5000, 'penalty': 'l1', ...         0.737443\n",
      "145  {'C': 100, 'max_iter': 100, 'penalty': 'l1', '...         0.737443\n",
      "161  {'C': 100, 'max_iter': 1000, 'penalty': 'l1', ...         0.737443\n",
      "149  {'C': 100, 'max_iter': 200, 'penalty': 'l1', '...         0.737443\n",
      "157  {'C': 100, 'max_iter': 100, 'penalty': 'l1', '...         0.737443\n"
     ]
    }
   ],
   "source": [
    "df_cv = pd.DataFrame(grid_search_cv.cv_results_)\n",
    "\n",
    "# Show top parameters for LR with Cross Validation Grid Serach\n",
    "df_results_cv = df_cv[['params', 'mean_test_score']]\n",
    "df_results_cv_sorted = df_results_cv.sort_values(by='mean_test_score', ascending=False)\n",
    "\n",
    "print(df_results_cv_sorted.head(5))"
   ]
  },
  {
   "cell_type": "code",
   "execution_count": 14,
   "metadata": {},
   "outputs": [
    {
     "name": "stdout",
     "output_type": "stream",
     "text": [
      "Metrics for LR_CV1_best:\n",
      "Accuracy: 0.7468\n",
      "Weighted F1: 0.7463\n",
      "Weighted Precision: 0.7472\n",
      "Weighted Recall: 0.7468\n",
      "Macro-Averaged Precision: 0.7474\n",
      "Macro-Averaged Recall: 0.7454\n",
      "F1: [0.76264834 0.72876517]\n",
      "Precision: [0.7417983  0.75294985]\n",
      "classification report\n",
      "              precision    recall  f1-score   support\n",
      "\n",
      "     Class 0       0.74      0.78      0.76      1556\n",
      "     Class 1       0.75      0.71      0.73      1446\n",
      "\n",
      "    accuracy                           0.75      3002\n",
      "   macro avg       0.75      0.75      0.75      3002\n",
      "weighted avg       0.75      0.75      0.75      3002\n",
      "\n",
      "Confusion Matrix\n"
     ]
    },
    {
     "data": {
      "image/png": "[encoded data removed]",
      "text/plain": [
       "<Figure size 432x288 with 2 Axes>"
      ]
     },
     "metadata": {
      "needs_background": "light"
     },
     "output_type": "display_data"
    }
   ],
   "source": [
    "# Use best parameters to make predictions\n",
    "predictions_cv = best_model_cv.predict(X_test)\n",
    "model_metrics = pd.concat([model_metrics, calculate_metrics('LR_CV1_best', y_test, predictions_cv)])"
   ]
  },
  {
   "cell_type": "markdown",
   "metadata": {},
   "source": [
    "## Grid Search Stratified K Fold Validation"
   ]
  },
  {
   "cell_type": "code",
   "execution_count": 15,
   "metadata": {},
   "outputs": [
    {
     "name": "stdout",
     "output_type": "stream",
     "text": [
      "Best Hyperparameters with Stratified K-Fold: {'C': 10, 'max_iter': 100, 'penalty': 'l1', 'solver': 'liblinear'}\n",
      "Accuracy with Stratified K-Fold: 0.7465023317788141\n"
     ]
    }
   ],
   "source": [
    "from sklearn.model_selection import StratifiedKFold\n",
    "\n",
    "skf = StratifiedKFold(n_splits=5, shuffle=True, random_state=seed)\n",
    "\n",
    "grid_search_skf = GridSearchCV(estimator=LogisticRegression(random_state=seed), \n",
    "                           param_grid=param_grid, cv=skf, scoring='accuracy')\n",
    "grid_search_skf.fit(X_train, y_train)\n",
    "\n",
    "# Get the best hyperparameters and model\n",
    "best_params_skf = grid_search_skf.best_params_\n",
    "best_model_skf = grid_search_skf.best_estimator_\n",
    "\n",
    "# Evaluate the best model on the test set\n",
    "accuracy = best_model_skf.score(X_test, y_test)\n",
    "\n",
    "print(\"Best Hyperparameters with Stratified K-Fold:\", best_params_skf)\n",
    "print(\"Accuracy with Stratified K-Fold:\", accuracy)\n"
   ]
  },
  {
   "cell_type": "markdown",
   "metadata": {},
   "source": [
    "Results of the best model "
   ]
  },
  {
   "cell_type": "code",
   "execution_count": 16,
   "metadata": {},
   "outputs": [
    {
     "name": "stdout",
     "output_type": "stream",
     "text": [
      "Best Hyperparameters: {'C': 10, 'max_iter': 100, 'penalty': 'l1', 'solver': 'liblinear'}\n",
      "Accuracy: 0.7465023317788141\n"
     ]
    }
   ],
   "source": [
    "accuracy_skf = best_model_skf.score(X_test, y_test)\n",
    "\n",
    "print(\"Best Hyperparameters:\", best_params_skf)\n",
    "print(\"Accuracy:\", accuracy_skf)"
   ]
  },
  {
   "cell_type": "markdown",
   "metadata": {},
   "source": [
    "Results of best models Grid Search CV"
   ]
  },
  {
   "cell_type": "code",
   "execution_count": 17,
   "metadata": {},
   "outputs": [
    {
     "name": "stdout",
     "output_type": "stream",
     "text": [
      "                                                params  mean_test_score\n",
      "124  {'C': 10, 'max_iter': 500, 'penalty': 'l1', 's...         0.737693\n",
      "128  {'C': 10, 'max_iter': 100, 'penalty': 'l1', 's...         0.737693\n",
      "136  {'C': 10, 'max_iter': 5000, 'penalty': 'l1', '...         0.737693\n",
      "149  {'C': 100, 'max_iter': 200, 'penalty': 'l1', '...         0.737693\n",
      "116  {'C': 10, 'max_iter': 100, 'penalty': 'l1', 's...         0.737693\n"
     ]
    }
   ],
   "source": [
    "df_skf = pd.DataFrame(grid_search_skf.cv_results_)\n",
    "\n",
    "# Show top parameters for LR with Cross Validation Grid Serach\n",
    "df_results_skf = df_skf[['params', 'mean_test_score']]\n",
    "df_results_skf_sorted = df_results_skf.sort_values(by='mean_test_score', ascending=False)\n",
    "\n",
    "print(df_results_skf_sorted.head(5))"
   ]
  },
  {
   "cell_type": "code",
   "execution_count": 18,
   "metadata": {},
   "outputs": [
    {
     "name": "stdout",
     "output_type": "stream",
     "text": [
      "Metrics for LR_skf_best:\n",
      "Accuracy: 0.7465\n",
      "Weighted F1: 0.7460\n",
      "Weighted Precision: 0.7468\n",
      "Weighted Recall: 0.7465\n",
      "Macro-Averaged Precision: 0.7471\n",
      "Macro-Averaged Recall: 0.7450\n",
      "F1: [0.76241024 0.72831132]\n",
      "Precision: [0.74134791 0.75276753]\n",
      "classification report\n",
      "              precision    recall  f1-score   support\n",
      "\n",
      "     Class 0       0.74      0.78      0.76      1556\n",
      "     Class 1       0.75      0.71      0.73      1446\n",
      "\n",
      "    accuracy                           0.75      3002\n",
      "   macro avg       0.75      0.75      0.75      3002\n",
      "weighted avg       0.75      0.75      0.75      3002\n",
      "\n",
      "Confusion Matrix\n"
     ]
    },
    {
     "data": {
      "image/png": "[encoded data removed]",
      "text/plain": [
       "<Figure size 432x288 with 2 Axes>"
      ]
     },
     "metadata": {
      "needs_background": "light"
     },
     "output_type": "display_data"
    }
   ],
   "source": [
    "# Use best parameters to make predictions\n",
    "predictions_skf = best_model_skf.predict(X_test)\n",
    "model_metrics = pd.concat([model_metrics, calculate_metrics('LR_skf_best', y_test, predictions_skf)])"
   ]
  },
  {
   "cell_type": "markdown",
   "metadata": {},
   "source": [
    "Next maybe add elastic search as penalty? only works with saga solver"
   ]
  },
  {
   "cell_type": "markdown",
   "metadata": {},
   "source": [
    "# Tune with Optuna"
   ]
  },
  {
   "cell_type": "code",
   "execution_count": 19,
   "metadata": {},
   "outputs": [],
   "source": [
    "def objective(trial):\n",
    "    # Define the hyperparameters to optimize\n",
    "    penalty = trial.suggest_categorical('penalty', ['l1', 'l2'])\n",
    "    C = trial.suggest_loguniform('C', 0.01, 10.0)\n",
    "    max_iter = trial.suggest_int('max_iter', 100, 1000)\n",
    "    solver= trial.suggest_categorical('solver', ['liblinear', 'saga'])\n",
    "    \n",
    "    # Create the logistic regression model with the hyperparameters\n",
    "    model = LogisticRegression(penalty=penalty, C=C, max_iter=max_iter,\n",
    "     solver=solver, random_state=seed)\n",
    "    \n",
    "    # Train the model\n",
    "    model.fit(X_train, y_train)\n",
    "    \n",
    "    # Make predictions on the test set\n",
    "    y_pred = model.predict(X_test)\n",
    "    \n",
    "    # Calculate the accuracy score\n",
    "    accuracy = accuracy_score(y_test, y_pred)\n",
    "    #score_cross_val = cross_val_score(model, X_train, y_train, cv=5, scoring='precision')\n",
    "\n",
    "    \n",
    "    return accuracy"
   ]
  },
  {
   "cell_type": "code",
   "execution_count": 20,
   "metadata": {},
   "outputs": [
    {
     "name": "stderr",
     "output_type": "stream",
     "text": [
      "[I 2024-06-08 00:04:10,691] A new study created in memory with name: no-name-1d6836f6-9f3c-4b43-96dc-341aeed017f5\n",
      "[I 2024-06-08 00:04:10,835] Trial 0 finished with value: 0.7438374417055297 and parameters: {'penalty': 'l2', 'C': 1.978696921972353, 'max_iter': 354, 'solver': 'saga'}. Best is trial 0 with value: 0.7438374417055297.\n",
      "[I 2024-06-08 00:04:10,962] Trial 1 finished with value: 0.7425049966688874 and parameters: {'penalty': 'l2', 'C': 0.7147547361025183, 'max_iter': 471, 'solver': 'saga'}. Best is trial 0 with value: 0.7438374417055297.\n",
      "[I 2024-06-08 00:04:11,531] Trial 2 finished with value: 0.7455029980013325 and parameters: {'penalty': 'l1', 'C': 0.5871453092844537, 'max_iter': 981, 'solver': 'liblinear'}. Best is trial 2 with value: 0.7455029980013325.\n",
      "[I 2024-06-08 00:04:11,970] Trial 3 finished with value: 0.7468354430379747 and parameters: {'penalty': 'l1', 'C': 2.9335873033004263, 'max_iter': 664, 'solver': 'liblinear'}. Best is trial 3 with value: 0.7468354430379747.\n",
      "[I 2024-06-08 00:04:12,089] Trial 4 finished with value: 0.7411725516322452 and parameters: {'penalty': 'l1', 'C': 0.18398803387733306, 'max_iter': 412, 'solver': 'liblinear'}. Best is trial 3 with value: 0.7468354430379747.\n",
      "[I 2024-06-08 00:04:12,209] Trial 5 finished with value: 0.734510326449034 and parameters: {'penalty': 'l1', 'C': 0.022786629058688158, 'max_iter': 637, 'solver': 'liblinear'}. Best is trial 3 with value: 0.7468354430379747.\n",
      "[I 2024-06-08 00:04:12,341] Trial 6 finished with value: 0.7365089940039974 and parameters: {'penalty': 'l1', 'C': 0.030622273921242567, 'max_iter': 593, 'solver': 'saga'}. Best is trial 3 with value: 0.7468354430379747.\n",
      "[I 2024-06-08 00:04:12,478] Trial 7 finished with value: 0.7411725516322452 and parameters: {'penalty': 'l1', 'C': 0.03425640620186102, 'max_iter': 316, 'solver': 'liblinear'}. Best is trial 3 with value: 0.7468354430379747.\n",
      "[I 2024-06-08 00:04:12,579] Trial 8 finished with value: 0.7455029980013325 and parameters: {'penalty': 'l2', 'C': 5.067649602789281, 'max_iter': 555, 'solver': 'saga'}. Best is trial 3 with value: 0.7468354430379747.\n",
      "[I 2024-06-08 00:04:12,703] Trial 9 finished with value: 0.7441705529646903 and parameters: {'penalty': 'l1', 'C': 0.2496254032440533, 'max_iter': 891, 'solver': 'saga'}. Best is trial 3 with value: 0.7468354430379747.\n",
      "[I 2024-06-08 00:04:12,843] Trial 10 finished with value: 0.7465023317788141 and parameters: {'penalty': 'l1', 'C': 5.613363497593624, 'max_iter': 311, 'solver': 'saga'}. Best is trial 3 with value: 0.7468354430379747.\n",
      "[I 2024-06-08 00:04:12,942] Trial 11 finished with value: 0.7455029980013325 and parameters: {'penalty': 'l2', 'C': 8.270910880018777, 'max_iter': 315, 'solver': 'saga'}. Best is trial 3 with value: 0.7468354430379747.\n",
      "[I 2024-06-08 00:04:13,079] Trial 12 finished with value: 0.7301798800799467 and parameters: {'penalty': 'l1', 'C': 0.020142347424642024, 'max_iter': 661, 'solver': 'liblinear'}. Best is trial 3 with value: 0.7468354430379747.\n",
      "[I 2024-06-08 00:04:13,194] Trial 13 finished with value: 0.7441705529646903 and parameters: {'penalty': 'l2', 'C': 2.487714984224427, 'max_iter': 446, 'solver': 'saga'}. Best is trial 3 with value: 0.7468354430379747.\n",
      "[I 2024-06-08 00:04:13,498] Trial 14 finished with value: 0.7445036642238507 and parameters: {'penalty': 'l1', 'C': 0.3240442511266919, 'max_iter': 214, 'solver': 'liblinear'}. Best is trial 3 with value: 0.7468354430379747.\n",
      "[I 2024-06-08 00:04:13,593] Trial 15 finished with value: 0.7271818787475016 and parameters: {'penalty': 'l1', 'C': 0.016725442423100204, 'max_iter': 642, 'solver': 'liblinear'}. Best is trial 3 with value: 0.7468354430379747.\n",
      "[I 2024-06-08 00:04:13,656] Trial 16 finished with value: 0.7455029980013325 and parameters: {'penalty': 'l2', 'C': 4.313179830047696, 'max_iter': 490, 'solver': 'liblinear'}. Best is trial 3 with value: 0.7468354430379747.\n",
      "[I 2024-06-08 00:04:13,763] Trial 17 finished with value: 0.7245169886742172 and parameters: {'penalty': 'l2', 'C': 0.01035320399341193, 'max_iter': 216, 'solver': 'saga'}. Best is trial 3 with value: 0.7468354430379747.\n",
      "[I 2024-06-08 00:04:13,824] Trial 18 finished with value: 0.7421718854097269 and parameters: {'penalty': 'l2', 'C': 0.6556855070061354, 'max_iter': 968, 'solver': 'liblinear'}. Best is trial 3 with value: 0.7468354430379747.\n",
      "[I 2024-06-08 00:04:14,190] Trial 19 finished with value: 0.7465023317788141 and parameters: {'penalty': 'l1', 'C': 7.305724553412326, 'max_iter': 906, 'solver': 'liblinear'}. Best is trial 3 with value: 0.7468354430379747.\n",
      "[I 2024-06-08 00:04:14,307] Trial 20 finished with value: 0.7471685542971352 and parameters: {'penalty': 'l1', 'C': 0.7615483811595624, 'max_iter': 457, 'solver': 'saga'}. Best is trial 20 with value: 0.7471685542971352.\n",
      "[I 2024-06-08 00:04:14,410] Trial 21 finished with value: 0.7418387741505663 and parameters: {'penalty': 'l1', 'C': 0.07180273843352494, 'max_iter': 405, 'solver': 'liblinear'}. Best is trial 20 with value: 0.7471685542971352.\n",
      "[I 2024-06-08 00:04:14,505] Trial 22 finished with value: 0.7355096602265156 and parameters: {'penalty': 'l2', 'C': 0.019527870791270083, 'max_iter': 121, 'solver': 'saga'}. Best is trial 20 with value: 0.7471685542971352.\n",
      "[I 2024-06-08 00:04:14,645] Trial 23 finished with value: 0.7275149900066622 and parameters: {'penalty': 'l1', 'C': 0.023283147487063578, 'max_iter': 999, 'solver': 'saga'}. Best is trial 20 with value: 0.7471685542971352.\n",
      "[I 2024-06-08 00:04:14,807] Trial 24 finished with value: 0.7388407728181212 and parameters: {'penalty': 'l1', 'C': 0.03594005624665695, 'max_iter': 803, 'solver': 'saga'}. Best is trial 20 with value: 0.7471685542971352.\n",
      "[I 2024-06-08 00:04:14,962] Trial 25 finished with value: 0.7465023317788141 and parameters: {'penalty': 'l1', 'C': 2.41622803522965, 'max_iter': 935, 'solver': 'saga'}. Best is trial 20 with value: 0.7471685542971352.\n",
      "[I 2024-06-08 00:04:15,070] Trial 26 finished with value: 0.7411725516322452 and parameters: {'penalty': 'l2', 'C': 0.45103185164166876, 'max_iter': 500, 'solver': 'saga'}. Best is trial 20 with value: 0.7471685542971352.\n",
      "[I 2024-06-08 00:04:15,223] Trial 27 finished with value: 0.7301798800799467 and parameters: {'penalty': 'l1', 'C': 0.02642168055417163, 'max_iter': 861, 'solver': 'saga'}. Best is trial 20 with value: 0.7471685542971352.\n",
      "[I 2024-06-08 00:04:15,363] Trial 28 finished with value: 0.7218520986009327 and parameters: {'penalty': 'l1', 'C': 0.014136994498500545, 'max_iter': 337, 'solver': 'saga'}. Best is trial 20 with value: 0.7471685542971352.\n",
      "[I 2024-06-08 00:04:15,465] Trial 29 finished with value: 0.7425049966688874 and parameters: {'penalty': 'l2', 'C': 0.7107624591083601, 'max_iter': 801, 'solver': 'saga'}. Best is trial 20 with value: 0.7471685542971352.\n",
      "[I 2024-06-08 00:04:15,909] Trial 30 finished with value: 0.7465023317788141 and parameters: {'penalty': 'l1', 'C': 7.729731502348729, 'max_iter': 788, 'solver': 'liblinear'}. Best is trial 20 with value: 0.7471685542971352.\n",
      "[I 2024-06-08 00:04:15,999] Trial 31 finished with value: 0.7418387741505663 and parameters: {'penalty': 'l2', 'C': 0.6535232131933079, 'max_iter': 295, 'solver': 'saga'}. Best is trial 20 with value: 0.7471685542971352.\n",
      "[I 2024-06-08 00:04:16,508] Trial 32 finished with value: 0.7465023317788141 and parameters: {'penalty': 'l1', 'C': 7.23974467462096, 'max_iter': 533, 'solver': 'liblinear'}. Best is trial 20 with value: 0.7471685542971352.\n",
      "[I 2024-06-08 00:04:16,636] Trial 33 finished with value: 0.7225183211192538 and parameters: {'penalty': 'l1', 'C': 0.015975627089929178, 'max_iter': 749, 'solver': 'saga'}. Best is trial 20 with value: 0.7471685542971352.\n",
      "[I 2024-06-08 00:04:16,760] Trial 34 finished with value: 0.7408394403730846 and parameters: {'penalty': 'l1', 'C': 0.08667715312463047, 'max_iter': 640, 'solver': 'liblinear'}. Best is trial 20 with value: 0.7471685542971352.\n",
      "[I 2024-06-08 00:04:16,870] Trial 35 finished with value: 0.7275149900066622 and parameters: {'penalty': 'l1', 'C': 0.017494363997301608, 'max_iter': 382, 'solver': 'liblinear'}. Best is trial 20 with value: 0.7471685542971352.\n",
      "[I 2024-06-08 00:04:16,991] Trial 36 finished with value: 0.7408394403730846 and parameters: {'penalty': 'l1', 'C': 0.10738333440901057, 'max_iter': 522, 'solver': 'saga'}. Best is trial 20 with value: 0.7471685542971352.\n",
      "[I 2024-06-08 00:04:17,172] Trial 37 finished with value: 0.7425049966688874 and parameters: {'penalty': 'l2', 'C': 0.897499624082285, 'max_iter': 886, 'solver': 'liblinear'}. Best is trial 20 with value: 0.7471685542971352.\n",
      "[I 2024-06-08 00:04:17,294] Trial 38 finished with value: 0.7455029980013325 and parameters: {'penalty': 'l2', 'C': 8.52108809242522, 'max_iter': 366, 'solver': 'saga'}. Best is trial 20 with value: 0.7471685542971352.\n",
      "[I 2024-06-08 00:04:17,398] Trial 39 finished with value: 0.7258494337108594 and parameters: {'penalty': 'l2', 'C': 0.012313380069145318, 'max_iter': 910, 'solver': 'saga'}. Best is trial 20 with value: 0.7471685542971352.\n",
      "[I 2024-06-08 00:04:17,496] Trial 40 finished with value: 0.7415056628914057 and parameters: {'penalty': 'l2', 'C': 0.2655605073199314, 'max_iter': 372, 'solver': 'saga'}. Best is trial 20 with value: 0.7471685542971352.\n",
      "[I 2024-06-08 00:04:17,838] Trial 41 finished with value: 0.7451698867421719 and parameters: {'penalty': 'l1', 'C': 0.7194327583159087, 'max_iter': 675, 'solver': 'liblinear'}. Best is trial 20 with value: 0.7471685542971352.\n",
      "[I 2024-06-08 00:04:17,927] Trial 42 finished with value: 0.7411725516322452 and parameters: {'penalty': 'l2', 'C': 0.5900814795237284, 'max_iter': 718, 'solver': 'saga'}. Best is trial 20 with value: 0.7471685542971352.\n",
      "[I 2024-06-08 00:04:18,057] Trial 43 finished with value: 0.7275149900066622 and parameters: {'penalty': 'l1', 'C': 0.022146324495353406, 'max_iter': 189, 'solver': 'saga'}. Best is trial 20 with value: 0.7471685542971352.\n",
      "[I 2024-06-08 00:04:18,171] Trial 44 finished with value: 0.739840106595603 and parameters: {'penalty': 'l1', 'C': 0.13388604654839945, 'max_iter': 311, 'solver': 'saga'}. Best is trial 20 with value: 0.7471685542971352.\n",
      "[I 2024-06-08 00:04:18,305] Trial 45 finished with value: 0.7465023317788141 and parameters: {'penalty': 'l1', 'C': 6.305596304990532, 'max_iter': 537, 'solver': 'saga'}. Best is trial 20 with value: 0.7471685542971352.\n",
      "[I 2024-06-08 00:04:18,438] Trial 46 finished with value: 0.7465023317788141 and parameters: {'penalty': 'l1', 'C': 7.348861914638498, 'max_iter': 409, 'solver': 'saga'}. Best is trial 20 with value: 0.7471685542971352.\n",
      "[I 2024-06-08 00:04:18,557] Trial 47 finished with value: 0.7421718854097269 and parameters: {'penalty': 'l2', 'C': 0.9118726704613901, 'max_iter': 403, 'solver': 'saga'}. Best is trial 20 with value: 0.7471685542971352.\n",
      "[I 2024-06-08 00:04:19,011] Trial 48 finished with value: 0.7448367754830113 and parameters: {'penalty': 'l1', 'C': 0.6914945579286461, 'max_iter': 138, 'solver': 'liblinear'}. Best is trial 20 with value: 0.7471685542971352.\n",
      "[I 2024-06-08 00:04:19,134] Trial 49 finished with value: 0.7428381079280479 and parameters: {'penalty': 'l2', 'C': 1.4074822362781039, 'max_iter': 848, 'solver': 'saga'}. Best is trial 20 with value: 0.7471685542971352.\n",
      "[I 2024-06-08 00:04:19,292] Trial 50 finished with value: 0.7318454363757495 and parameters: {'penalty': 'l1', 'C': 0.02720066288766469, 'max_iter': 265, 'solver': 'saga'}. Best is trial 20 with value: 0.7471685542971352.\n",
      "[I 2024-06-08 00:04:19,434] Trial 51 finished with value: 0.7158560959360426 and parameters: {'penalty': 'l1', 'C': 0.012032769971240549, 'max_iter': 179, 'solver': 'saga'}. Best is trial 20 with value: 0.7471685542971352.\n",
      "[I 2024-06-08 00:04:19,577] Trial 52 finished with value: 0.72618254497002 and parameters: {'penalty': 'l1', 'C': 0.02137629523741644, 'max_iter': 530, 'solver': 'saga'}. Best is trial 20 with value: 0.7471685542971352.\n",
      "[I 2024-06-08 00:04:19,702] Trial 53 finished with value: 0.7401732178547635 and parameters: {'penalty': 'l1', 'C': 0.1780954403469097, 'max_iter': 498, 'solver': 'saga'}. Best is trial 20 with value: 0.7471685542971352.\n",
      "[I 2024-06-08 00:04:20,147] Trial 54 finished with value: 0.7451698867421719 and parameters: {'penalty': 'l1', 'C': 0.4013636602280528, 'max_iter': 420, 'solver': 'liblinear'}. Best is trial 20 with value: 0.7471685542971352.\n",
      "[I 2024-06-08 00:04:20,245] Trial 55 finished with value: 0.7235176548967355 and parameters: {'penalty': 'l1', 'C': 0.014073468815611707, 'max_iter': 510, 'solver': 'liblinear'}. Best is trial 20 with value: 0.7471685542971352.\n",
      "[I 2024-06-08 00:04:20,345] Trial 56 finished with value: 0.723850766155896 and parameters: {'penalty': 'l1', 'C': 0.01402486216774064, 'max_iter': 177, 'solver': 'liblinear'}. Best is trial 20 with value: 0.7471685542971352.\n",
      "[I 2024-06-08 00:04:20,470] Trial 57 finished with value: 0.734510326449034 and parameters: {'penalty': 'l1', 'C': 0.02286750227364291, 'max_iter': 456, 'solver': 'liblinear'}. Best is trial 20 with value: 0.7471685542971352.\n",
      "[I 2024-06-08 00:04:20,564] Trial 58 finished with value: 0.7455029980013325 and parameters: {'penalty': 'l2', 'C': 4.824358783007409, 'max_iter': 982, 'solver': 'saga'}. Best is trial 20 with value: 0.7471685542971352.\n",
      "[I 2024-06-08 00:04:20,614] Trial 59 finished with value: 0.7411725516322452 and parameters: {'penalty': 'l2', 'C': 0.11169219545985529, 'max_iter': 297, 'solver': 'liblinear'}. Best is trial 20 with value: 0.7471685542971352.\n",
      "[I 2024-06-08 00:04:20,667] Trial 60 finished with value: 0.7425049966688874 and parameters: {'penalty': 'l2', 'C': 0.2927010912336367, 'max_iter': 710, 'solver': 'liblinear'}. Best is trial 20 with value: 0.7471685542971352.\n",
      "[I 2024-06-08 00:04:20,767] Trial 61 finished with value: 0.7401732178547635 and parameters: {'penalty': 'l2', 'C': 0.04277229803475929, 'max_iter': 671, 'solver': 'saga'}. Best is trial 20 with value: 0.7471685542971352.\n",
      "[I 2024-06-08 00:04:20,834] Trial 62 finished with value: 0.7418387741505663 and parameters: {'penalty': 'l2', 'C': 0.507123662445956, 'max_iter': 252, 'solver': 'liblinear'}. Best is trial 20 with value: 0.7471685542971352.\n",
      "[I 2024-06-08 00:04:20,954] Trial 63 finished with value: 0.7395069953364424 and parameters: {'penalty': 'l1', 'C': 0.160647333794055, 'max_iter': 582, 'solver': 'saga'}. Best is trial 20 with value: 0.7471685542971352.\n",
      "[I 2024-06-08 00:04:21,050] Trial 64 finished with value: 0.739840106595603 and parameters: {'penalty': 'l1', 'C': 0.16428641490203766, 'max_iter': 527, 'solver': 'liblinear'}. Best is trial 20 with value: 0.7471685542971352.\n",
      "[I 2024-06-08 00:04:21,095] Trial 65 finished with value: 0.7421718854097269 and parameters: {'penalty': 'l2', 'C': 0.06566271040532483, 'max_iter': 519, 'solver': 'liblinear'}. Best is trial 20 with value: 0.7471685542971352.\n",
      "[I 2024-06-08 00:04:21,500] Trial 66 finished with value: 0.7465023317788141 and parameters: {'penalty': 'l1', 'C': 9.363637716926826, 'max_iter': 501, 'solver': 'liblinear'}. Best is trial 20 with value: 0.7471685542971352.\n",
      "[I 2024-06-08 00:04:21,627] Trial 67 finished with value: 0.7395069953364424 and parameters: {'penalty': 'l1', 'C': 0.1382320920240548, 'max_iter': 305, 'solver': 'saga'}. Best is trial 20 with value: 0.7471685542971352.\n",
      "[I 2024-06-08 00:04:21,747] Trial 68 finished with value: 0.7471685542971352 and parameters: {'penalty': 'l1', 'C': 0.7609887668309826, 'max_iter': 545, 'solver': 'saga'}. Best is trial 20 with value: 0.7471685542971352.\n",
      "[I 2024-06-08 00:04:21,875] Trial 69 finished with value: 0.7245169886742172 and parameters: {'penalty': 'l1', 'C': 0.018470397235606395, 'max_iter': 383, 'solver': 'saga'}. Best is trial 20 with value: 0.7471685542971352.\n",
      "[I 2024-06-08 00:04:21,997] Trial 70 finished with value: 0.7471685542971352 and parameters: {'penalty': 'l1', 'C': 0.8196477474599286, 'max_iter': 681, 'solver': 'saga'}. Best is trial 20 with value: 0.7471685542971352.\n",
      "[I 2024-06-08 00:04:22,099] Trial 71 finished with value: 0.7451698867421719 and parameters: {'penalty': 'l2', 'C': 6.62135117846047, 'max_iter': 384, 'solver': 'saga'}. Best is trial 20 with value: 0.7471685542971352.\n",
      "[I 2024-06-08 00:04:22,181] Trial 72 finished with value: 0.7181878747501665 and parameters: {'penalty': 'l1', 'C': 0.011625733609137401, 'max_iter': 511, 'solver': 'liblinear'}. Best is trial 20 with value: 0.7471685542971352.\n",
      "[I 2024-06-08 00:04:22,295] Trial 73 finished with value: 0.739840106595603 and parameters: {'penalty': 'l1', 'C': 0.1550235236888625, 'max_iter': 261, 'solver': 'saga'}. Best is trial 20 with value: 0.7471685542971352.\n",
      "[I 2024-06-08 00:04:22,417] Trial 74 finished with value: 0.7391738840772818 and parameters: {'penalty': 'l1', 'C': 0.04825277795261175, 'max_iter': 756, 'solver': 'saga'}. Best is trial 20 with value: 0.7471685542971352.\n",
      "[I 2024-06-08 00:04:22,475] Trial 75 finished with value: 0.7441705529646903 and parameters: {'penalty': 'l2', 'C': 2.6019378622062317, 'max_iter': 872, 'solver': 'liblinear'}. Best is trial 20 with value: 0.7471685542971352.\n",
      "[I 2024-06-08 00:04:22,596] Trial 76 finished with value: 0.7288474350433045 and parameters: {'penalty': 'l1', 'C': 0.019619429034729765, 'max_iter': 562, 'solver': 'liblinear'}. Best is trial 20 with value: 0.7471685542971352.\n",
      "[I 2024-06-08 00:04:22,975] Trial 77 finished with value: 0.7451698867421719 and parameters: {'penalty': 'l1', 'C': 0.5116190172324526, 'max_iter': 793, 'solver': 'liblinear'}. Best is trial 20 with value: 0.7471685542971352.\n",
      "[I 2024-06-08 00:04:23,145] Trial 78 finished with value: 0.7395069953364424 and parameters: {'penalty': 'l1', 'C': 0.037440064937739055, 'max_iter': 752, 'solver': 'saga'}. Best is trial 20 with value: 0.7471685542971352.\n",
      "[I 2024-06-08 00:04:23,210] Trial 79 finished with value: 0.7418387741505663 and parameters: {'penalty': 'l2', 'C': 0.08770998019776095, 'max_iter': 767, 'solver': 'liblinear'}. Best is trial 20 with value: 0.7471685542971352.\n",
      "[I 2024-06-08 00:04:23,282] Trial 80 finished with value: 0.7445036642238507 and parameters: {'penalty': 'l2', 'C': 2.625058921674975, 'max_iter': 143, 'solver': 'liblinear'}. Best is trial 20 with value: 0.7471685542971352.\n",
      "[I 2024-06-08 00:04:23,701] Trial 81 finished with value: 0.7468354430379747 and parameters: {'penalty': 'l1', 'C': 3.4246179739932647, 'max_iter': 301, 'solver': 'liblinear'}. Best is trial 20 with value: 0.7471685542971352.\n",
      "[I 2024-06-08 00:04:23,769] Trial 82 finished with value: 0.7441705529646903 and parameters: {'penalty': 'l2', 'C': 2.4267965274899312, 'max_iter': 107, 'solver': 'liblinear'}. Best is trial 20 with value: 0.7471685542971352.\n",
      "[I 2024-06-08 00:04:24,170] Trial 83 finished with value: 0.7468354430379747 and parameters: {'penalty': 'l1', 'C': 4.343377793250722, 'max_iter': 730, 'solver': 'liblinear'}. Best is trial 20 with value: 0.7471685542971352.\n",
      "[I 2024-06-08 00:04:24,266] Trial 84 finished with value: 0.7418387741505663 and parameters: {'penalty': 'l2', 'C': 0.09449383077328626, 'max_iter': 327, 'solver': 'saga'}. Best is trial 20 with value: 0.7471685542971352.\n",
      "[I 2024-06-08 00:04:24,397] Trial 85 finished with value: 0.7335109926715523 and parameters: {'penalty': 'l1', 'C': 0.028003530764018625, 'max_iter': 465, 'solver': 'saga'}. Best is trial 20 with value: 0.7471685542971352.\n",
      "[I 2024-06-08 00:04:24,537] Trial 86 finished with value: 0.7408394403730846 and parameters: {'penalty': 'l1', 'C': 0.07045654344536163, 'max_iter': 484, 'solver': 'saga'}. Best is trial 20 with value: 0.7471685542971352.\n",
      "[I 2024-06-08 00:04:24,675] Trial 87 finished with value: 0.7151898734177216 and parameters: {'penalty': 'l1', 'C': 0.012404769455793309, 'max_iter': 548, 'solver': 'saga'}. Best is trial 20 with value: 0.7471685542971352.\n",
      "[I 2024-06-08 00:04:24,741] Trial 88 finished with value: 0.7428381079280479 and parameters: {'penalty': 'l2', 'C': 1.2184098366579121, 'max_iter': 810, 'solver': 'liblinear'}. Best is trial 20 with value: 0.7471685542971352.\n",
      "[I 2024-06-08 00:04:25,174] Trial 89 finished with value: 0.7468354430379747 and parameters: {'penalty': 'l1', 'C': 0.8751313316001039, 'max_iter': 270, 'solver': 'liblinear'}. Best is trial 20 with value: 0.7471685542971352.\n",
      "[I 2024-06-08 00:04:25,246] Trial 90 finished with value: 0.7455029980013325 and parameters: {'penalty': 'l2', 'C': 6.53872709038488, 'max_iter': 442, 'solver': 'liblinear'}. Best is trial 20 with value: 0.7471685542971352.\n",
      "[I 2024-06-08 00:04:25,359] Trial 91 finished with value: 0.7245169886742172 and parameters: {'penalty': 'l2', 'C': 0.010633554724178065, 'max_iter': 619, 'solver': 'saga'}. Best is trial 20 with value: 0.7471685542971352.\n",
      "[I 2024-06-08 00:04:25,734] Trial 92 finished with value: 0.7468354430379747 and parameters: {'penalty': 'l1', 'C': 2.484325040028493, 'max_iter': 533, 'solver': 'liblinear'}. Best is trial 20 with value: 0.7471685542971352.\n",
      "[I 2024-06-08 00:04:25,807] Trial 93 finished with value: 0.7451698867421719 and parameters: {'penalty': 'l2', 'C': 3.3323996420526054, 'max_iter': 513, 'solver': 'liblinear'}. Best is trial 20 with value: 0.7471685542971352.\n",
      "[I 2024-06-08 00:04:25,917] Trial 94 finished with value: 0.7415056628914057 and parameters: {'penalty': 'l2', 'C': 0.06059210912132856, 'max_iter': 925, 'solver': 'saga'}. Best is trial 20 with value: 0.7471685542971352.\n",
      "[I 2024-06-08 00:04:26,013] Trial 95 finished with value: 0.745836109260493 and parameters: {'penalty': 'l2', 'C': 4.547970013708444, 'max_iter': 291, 'solver': 'saga'}. Best is trial 20 with value: 0.7471685542971352.\n",
      "[I 2024-06-08 00:04:26,150] Trial 96 finished with value: 0.7465023317788141 and parameters: {'penalty': 'l1', 'C': 7.679733969285893, 'max_iter': 194, 'solver': 'saga'}. Best is trial 20 with value: 0.7471685542971352.\n",
      "[I 2024-06-08 00:04:26,193] Trial 97 finished with value: 0.7428381079280479 and parameters: {'penalty': 'l2', 'C': 0.32189709041888726, 'max_iter': 935, 'solver': 'liblinear'}. Best is trial 20 with value: 0.7471685542971352.\n",
      "[I 2024-06-08 00:04:26,240] Trial 98 finished with value: 0.7418387741505663 and parameters: {'penalty': 'l2', 'C': 0.2716018664757433, 'max_iter': 248, 'solver': 'liblinear'}. Best is trial 20 with value: 0.7471685542971352.\n",
      "[I 2024-06-08 00:04:26,333] Trial 99 finished with value: 0.7425049966688874 and parameters: {'penalty': 'l2', 'C': 0.1567892260270225, 'max_iter': 211, 'solver': 'saga'}. Best is trial 20 with value: 0.7471685542971352.\n",
      "[I 2024-06-08 00:04:26,425] Trial 100 finished with value: 0.7418387741505663 and parameters: {'penalty': 'l2', 'C': 0.24216801795707713, 'max_iter': 307, 'solver': 'saga'}. Best is trial 20 with value: 0.7471685542971352.\n",
      "[I 2024-06-08 00:04:26,509] Trial 101 finished with value: 0.7161892071952032 and parameters: {'penalty': 'l1', 'C': 0.010719523061562876, 'max_iter': 407, 'solver': 'liblinear'}. Best is trial 20 with value: 0.7471685542971352.\n",
      "[I 2024-06-08 00:04:27,025] Trial 102 finished with value: 0.7468354430379747 and parameters: {'penalty': 'l1', 'C': 4.113770080292592, 'max_iter': 633, 'solver': 'liblinear'}. Best is trial 20 with value: 0.7471685542971352.\n",
      "[I 2024-06-08 00:04:27,133] Trial 103 finished with value: 0.7415056628914057 and parameters: {'penalty': 'l2', 'C': 0.4588590014404327, 'max_iter': 347, 'solver': 'saga'}. Best is trial 20 with value: 0.7471685542971352.\n",
      "[I 2024-06-08 00:04:27,274] Trial 104 finished with value: 0.7408394403730846 and parameters: {'penalty': 'l1', 'C': 0.10710863250732765, 'max_iter': 193, 'solver': 'saga'}. Best is trial 20 with value: 0.7471685542971352.\n",
      "[I 2024-06-08 00:04:27,378] Trial 105 finished with value: 0.7435043304463691 and parameters: {'penalty': 'l2', 'C': 0.17914999526019226, 'max_iter': 491, 'solver': 'saga'}. Best is trial 20 with value: 0.7471685542971352.\n",
      "[I 2024-06-08 00:04:27,505] Trial 106 finished with value: 0.7338441039307129 and parameters: {'penalty': 'l1', 'C': 0.023543419823539486, 'max_iter': 406, 'solver': 'liblinear'}. Best is trial 20 with value: 0.7471685542971352.\n",
      "[I 2024-06-08 00:04:27,576] Trial 107 finished with value: 0.745836109260493 and parameters: {'penalty': 'l2', 'C': 9.503363044784564, 'max_iter': 999, 'solver': 'liblinear'}. Best is trial 20 with value: 0.7471685542971352.\n",
      "[I 2024-06-08 00:04:27,743] Trial 108 finished with value: 0.7395069953364424 and parameters: {'penalty': 'l1', 'C': 0.032161195128812416, 'max_iter': 601, 'solver': 'liblinear'}. Best is trial 20 with value: 0.7471685542971352.\n",
      "[I 2024-06-08 00:04:27,783] Trial 109 finished with value: 0.7395069953364424 and parameters: {'penalty': 'l2', 'C': 0.030447265733971263, 'max_iter': 546, 'solver': 'liblinear'}. Best is trial 20 with value: 0.7471685542971352.\n",
      "[I 2024-06-08 00:04:27,919] Trial 110 finished with value: 0.723850766155896 and parameters: {'penalty': 'l1', 'C': 0.01710832393798724, 'max_iter': 177, 'solver': 'saga'}. Best is trial 20 with value: 0.7471685542971352.\n",
      "[I 2024-06-08 00:04:28,025] Trial 111 finished with value: 0.7401732178547635 and parameters: {'penalty': 'l2', 'C': 0.04418892942627004, 'max_iter': 951, 'solver': 'saga'}. Best is trial 20 with value: 0.7471685542971352.\n",
      "[I 2024-06-08 00:04:28,170] Trial 112 finished with value: 0.7465023317788141 and parameters: {'penalty': 'l1', 'C': 3.6066493900282923, 'max_iter': 416, 'solver': 'saga'}. Best is trial 20 with value: 0.7471685542971352.\n",
      "[I 2024-06-08 00:04:28,215] Trial 113 finished with value: 0.7418387741505663 and parameters: {'penalty': 'l2', 'C': 0.06408776041778638, 'max_iter': 408, 'solver': 'liblinear'}. Best is trial 20 with value: 0.7471685542971352.\n",
      "[I 2024-06-08 00:04:28,580] Trial 114 finished with value: 0.7461692205196535 and parameters: {'penalty': 'l1', 'C': 0.8367852800880448, 'max_iter': 678, 'solver': 'liblinear'}. Best is trial 20 with value: 0.7471685542971352.\n",
      "[I 2024-06-08 00:04:28,697] Trial 115 finished with value: 0.739840106595603 and parameters: {'penalty': 'l1', 'C': 0.1340402204245466, 'max_iter': 346, 'solver': 'saga'}. Best is trial 20 with value: 0.7471685542971352.\n",
      "[I 2024-06-08 00:04:28,800] Trial 116 finished with value: 0.7281812125249834 and parameters: {'penalty': 'l2', 'C': 0.013513345363822152, 'max_iter': 468, 'solver': 'saga'}. Best is trial 20 with value: 0.7471685542971352.\n",
      "[I 2024-06-08 00:04:29,145] Trial 117 finished with value: 0.7415056628914057 and parameters: {'penalty': 'l1', 'C': 0.22362723746871446, 'max_iter': 168, 'solver': 'liblinear'}. Best is trial 20 with value: 0.7471685542971352.\n",
      "[I 2024-06-08 00:04:29,269] Trial 118 finished with value: 0.7471685542971352 and parameters: {'penalty': 'l1', 'C': 0.8048275772815652, 'max_iter': 795, 'solver': 'saga'}. Best is trial 20 with value: 0.7471685542971352.\n",
      "[I 2024-06-08 00:04:29,388] Trial 119 finished with value: 0.7391738840772818 and parameters: {'penalty': 'l1', 'C': 0.04319432508279183, 'max_iter': 242, 'solver': 'liblinear'}. Best is trial 20 with value: 0.7471685542971352.\n",
      "[I 2024-06-08 00:04:29,438] Trial 120 finished with value: 0.7418387741505663 and parameters: {'penalty': 'l2', 'C': 0.5661300875256327, 'max_iter': 786, 'solver': 'liblinear'}. Best is trial 20 with value: 0.7471685542971352.\n",
      "[I 2024-06-08 00:04:29,531] Trial 121 finished with value: 0.7451698867421719 and parameters: {'penalty': 'l2', 'C': 3.3381179800589327, 'max_iter': 157, 'solver': 'saga'}. Best is trial 20 with value: 0.7471685542971352.\n",
      "[I 2024-06-08 00:04:29,565] Trial 122 finished with value: 0.7328447701532311 and parameters: {'penalty': 'l2', 'C': 0.01814898632317917, 'max_iter': 294, 'solver': 'liblinear'}. Best is trial 20 with value: 0.7471685542971352.\n",
      "[I 2024-06-08 00:04:29,745] Trial 123 finished with value: 0.72618254497002 and parameters: {'penalty': 'l1', 'C': 0.01622977607749056, 'max_iter': 665, 'solver': 'liblinear'}. Best is trial 20 with value: 0.7471685542971352.\n",
      "[I 2024-06-08 00:04:30,082] Trial 124 finished with value: 0.7448367754830113 and parameters: {'penalty': 'l1', 'C': 0.3355993439527287, 'max_iter': 278, 'solver': 'liblinear'}. Best is trial 20 with value: 0.7471685542971352.\n",
      "[I 2024-06-08 00:04:30,175] Trial 125 finished with value: 0.7418387741505663 and parameters: {'penalty': 'l2', 'C': 0.1055046365383603, 'max_iter': 164, 'solver': 'saga'}. Best is trial 20 with value: 0.7471685542971352.\n",
      "[I 2024-06-08 00:04:30,231] Trial 126 finished with value: 0.7421718854097269 and parameters: {'penalty': 'l2', 'C': 0.3911432839894509, 'max_iter': 195, 'solver': 'liblinear'}. Best is trial 20 with value: 0.7471685542971352.\n",
      "[I 2024-06-08 00:04:30,326] Trial 127 finished with value: 0.7381745502998002 and parameters: {'penalty': 'l2', 'C': 0.02150458112009587, 'max_iter': 525, 'solver': 'saga'}. Best is trial 20 with value: 0.7471685542971352.\n",
      "[I 2024-06-08 00:04:30,411] Trial 128 finished with value: 0.7425049966688874 and parameters: {'penalty': 'l2', 'C': 0.7045593486636776, 'max_iter': 153, 'solver': 'saga'}. Best is trial 20 with value: 0.7471685542971352.\n",
      "[I 2024-06-08 00:04:30,453] Trial 129 finished with value: 0.7421718854097269 and parameters: {'penalty': 'l2', 'C': 0.05051448616390107, 'max_iter': 648, 'solver': 'liblinear'}. Best is trial 20 with value: 0.7471685542971352.\n",
      "[I 2024-06-08 00:04:30,789] Trial 130 finished with value: 0.7455029980013325 and parameters: {'penalty': 'l1', 'C': 0.45658696088123707, 'max_iter': 533, 'solver': 'liblinear'}. Best is trial 20 with value: 0.7471685542971352.\n",
      "[I 2024-06-08 00:04:30,896] Trial 131 finished with value: 0.7421718854097269 and parameters: {'penalty': 'l2', 'C': 0.09379894918925637, 'max_iter': 934, 'solver': 'saga'}. Best is trial 20 with value: 0.7471685542971352.\n",
      "[I 2024-06-08 00:04:30,974] Trial 132 finished with value: 0.7431712191872085 and parameters: {'penalty': 'l2', 'C': 1.1864264633694679, 'max_iter': 237, 'solver': 'liblinear'}. Best is trial 20 with value: 0.7471685542971352.\n",
      "[I 2024-06-08 00:04:31,017] Trial 133 finished with value: 0.740506329113924 and parameters: {'penalty': 'l2', 'C': 0.028534777087763762, 'max_iter': 988, 'solver': 'liblinear'}. Best is trial 20 with value: 0.7471685542971352.\n",
      "[I 2024-06-08 00:04:31,081] Trial 134 finished with value: 0.7418387741505663 and parameters: {'penalty': 'l2', 'C': 0.5626786250159912, 'max_iter': 217, 'solver': 'liblinear'}. Best is trial 20 with value: 0.7471685542971352.\n",
      "[I 2024-06-08 00:04:31,516] Trial 135 finished with value: 0.7468354430379747 and parameters: {'penalty': 'l1', 'C': 3.8458773219426696, 'max_iter': 133, 'solver': 'liblinear'}. Best is trial 20 with value: 0.7471685542971352.\n",
      "[I 2024-06-08 00:04:31,622] Trial 136 finished with value: 0.7218520986009327 and parameters: {'penalty': 'l1', 'C': 0.01255556569435987, 'max_iter': 827, 'solver': 'liblinear'}. Best is trial 20 with value: 0.7471685542971352.\n",
      "[I 2024-06-08 00:04:31,757] Trial 137 finished with value: 0.7388407728181212 and parameters: {'penalty': 'l1', 'C': 0.15048015178109325, 'max_iter': 671, 'solver': 'liblinear'}. Best is trial 20 with value: 0.7471685542971352.\n",
      "[I 2024-06-08 00:04:31,857] Trial 138 finished with value: 0.7408394403730846 and parameters: {'penalty': 'l2', 'C': 0.5761014588218291, 'max_iter': 643, 'solver': 'saga'}. Best is trial 20 with value: 0.7471685542971352.\n",
      "[I 2024-06-08 00:04:31,905] Trial 139 finished with value: 0.7428381079280479 and parameters: {'penalty': 'l2', 'C': 0.1605530540282818, 'max_iter': 690, 'solver': 'liblinear'}. Best is trial 20 with value: 0.7471685542971352.\n",
      "[I 2024-06-08 00:04:31,972] Trial 140 finished with value: 0.7451698867421719 and parameters: {'penalty': 'l2', 'C': 3.4761490810204365, 'max_iter': 503, 'solver': 'liblinear'}. Best is trial 20 with value: 0.7471685542971352.\n",
      "[I 2024-06-08 00:04:32,112] Trial 141 finished with value: 0.7468354430379747 and parameters: {'penalty': 'l1', 'C': 2.8328795071681525, 'max_iter': 857, 'solver': 'saga'}. Best is trial 20 with value: 0.7471685542971352.\n",
      "[I 2024-06-08 00:04:32,493] Trial 142 finished with value: 0.7468354430379747 and parameters: {'penalty': 'l1', 'C': 3.2642533823486786, 'max_iter': 339, 'solver': 'liblinear'}. Best is trial 20 with value: 0.7471685542971352.\n",
      "[I 2024-06-08 00:04:32,633] Trial 143 finished with value: 0.7465023317788141 and parameters: {'penalty': 'l1', 'C': 3.6147948186243792, 'max_iter': 342, 'solver': 'saga'}. Best is trial 20 with value: 0.7471685542971352.\n",
      "[I 2024-06-08 00:04:32,723] Trial 144 finished with value: 0.7415056628914057 and parameters: {'penalty': 'l2', 'C': 0.5581000855177064, 'max_iter': 987, 'solver': 'saga'}. Best is trial 20 with value: 0.7471685542971352.\n",
      "[I 2024-06-08 00:04:32,826] Trial 145 finished with value: 0.7255163224516988 and parameters: {'penalty': 'l1', 'C': 0.015937454723838992, 'max_iter': 297, 'solver': 'liblinear'}. Best is trial 20 with value: 0.7471685542971352.\n",
      "[I 2024-06-08 00:04:32,877] Trial 146 finished with value: 0.7425049966688874 and parameters: {'penalty': 'l2', 'C': 0.2858343201602987, 'max_iter': 146, 'solver': 'liblinear'}. Best is trial 20 with value: 0.7471685542971352.\n",
      "[I 2024-06-08 00:04:32,973] Trial 147 finished with value: 0.7411725516322452 and parameters: {'penalty': 'l2', 'C': 0.42590588154860654, 'max_iter': 373, 'solver': 'saga'}. Best is trial 20 with value: 0.7471685542971352.\n",
      "[I 2024-06-08 00:04:33,073] Trial 148 finished with value: 0.7455029980013325 and parameters: {'penalty': 'l2', 'C': 8.38176904936794, 'max_iter': 219, 'solver': 'saga'}. Best is trial 20 with value: 0.7471685542971352.\n",
      "[I 2024-06-08 00:04:33,168] Trial 149 finished with value: 0.7418387741505663 and parameters: {'penalty': 'l2', 'C': 0.1265620746042377, 'max_iter': 939, 'solver': 'saga'}. Best is trial 20 with value: 0.7471685542971352.\n",
      "[I 2024-06-08 00:04:33,598] Trial 150 finished with value: 0.7471685542971352 and parameters: {'penalty': 'l1', 'C': 1.514803962662444, 'max_iter': 518, 'solver': 'liblinear'}. Best is trial 20 with value: 0.7471685542971352.\n",
      "[I 2024-06-08 00:04:33,722] Trial 151 finished with value: 0.734510326449034 and parameters: {'penalty': 'l1', 'C': 0.023454158653051307, 'max_iter': 620, 'solver': 'liblinear'}. Best is trial 20 with value: 0.7471685542971352.\n",
      "[I 2024-06-08 00:04:33,846] Trial 152 finished with value: 0.7475016655562958 and parameters: {'penalty': 'l1', 'C': 1.065373030496576, 'max_iter': 963, 'solver': 'saga'}. Best is trial 152 with value: 0.7475016655562958.\n",
      "[I 2024-06-08 00:04:33,912] Trial 153 finished with value: 0.7425049966688874 and parameters: {'penalty': 'l2', 'C': 1.4658524113174358, 'max_iter': 699, 'solver': 'liblinear'}. Best is trial 152 with value: 0.7475016655562958.\n",
      "[I 2024-06-08 00:04:34,358] Trial 154 finished with value: 0.7468354430379747 and parameters: {'penalty': 'l1', 'C': 3.1662543141065584, 'max_iter': 902, 'solver': 'liblinear'}. Best is trial 152 with value: 0.7475016655562958.\n",
      "[I 2024-06-08 00:04:34,448] Trial 155 finished with value: 0.7438374417055297 and parameters: {'penalty': 'l2', 'C': 2.1309549371203467, 'max_iter': 515, 'solver': 'saga'}. Best is trial 152 with value: 0.7475016655562958.\n",
      "[I 2024-06-08 00:04:34,577] Trial 156 finished with value: 0.7471685542971352 and parameters: {'penalty': 'l1', 'C': 1.1749178764646, 'max_iter': 768, 'solver': 'saga'}. Best is trial 152 with value: 0.7475016655562958.\n",
      "[I 2024-06-08 00:04:34,728] Trial 157 finished with value: 0.7408394403730846 and parameters: {'penalty': 'l1', 'C': 0.08788948403482796, 'max_iter': 490, 'solver': 'saga'}. Best is trial 152 with value: 0.7475016655562958.\n",
      "[I 2024-06-08 00:04:35,177] Trial 158 finished with value: 0.7455029980013325 and parameters: {'penalty': 'l1', 'C': 0.5865011567299384, 'max_iter': 176, 'solver': 'liblinear'}. Best is trial 152 with value: 0.7475016655562958.\n",
      "[I 2024-06-08 00:04:35,543] Trial 159 finished with value: 0.745836109260493 and parameters: {'penalty': 'l1', 'C': 0.8157109699225752, 'max_iter': 884, 'solver': 'liblinear'}. Best is trial 152 with value: 0.7475016655562958.\n",
      "[I 2024-06-08 00:04:35,680] Trial 160 finished with value: 0.7468354430379747 and parameters: {'penalty': 'l1', 'C': 1.3988159822083082, 'max_iter': 636, 'solver': 'saga'}. Best is trial 152 with value: 0.7475016655562958.\n",
      "[I 2024-06-08 00:04:36,206] Trial 161 finished with value: 0.7465023317788141 and parameters: {'penalty': 'l1', 'C': 9.100395198201442, 'max_iter': 925, 'solver': 'liblinear'}. Best is trial 152 with value: 0.7475016655562958.\n",
      "[I 2024-06-08 00:04:36,301] Trial 162 finished with value: 0.7441705529646903 and parameters: {'penalty': 'l2', 'C': 2.371987901894069, 'max_iter': 817, 'solver': 'saga'}. Best is trial 152 with value: 0.7475016655562958.\n",
      "[I 2024-06-08 00:04:36,423] Trial 163 finished with value: 0.7421718854097269 and parameters: {'penalty': 'l1', 'C': 0.06772465718340923, 'max_iter': 724, 'solver': 'liblinear'}. Best is trial 152 with value: 0.7475016655562958.\n",
      "[I 2024-06-08 00:04:36,460] Trial 164 finished with value: 0.7415056628914057 and parameters: {'penalty': 'l2', 'C': 0.027643783457538054, 'max_iter': 517, 'solver': 'liblinear'}. Best is trial 152 with value: 0.7475016655562958.\n",
      "[I 2024-06-08 00:04:36,563] Trial 165 finished with value: 0.7411725516322452 and parameters: {'penalty': 'l1', 'C': 0.07931698456694951, 'max_iter': 381, 'solver': 'liblinear'}. Best is trial 152 with value: 0.7475016655562958.\n",
      "[I 2024-06-08 00:04:36,608] Trial 166 finished with value: 0.7418387741505663 and parameters: {'penalty': 'l2', 'C': 0.06865463322025443, 'max_iter': 668, 'solver': 'liblinear'}. Best is trial 152 with value: 0.7475016655562958.\n",
      "[I 2024-06-08 00:04:36,671] Trial 167 finished with value: 0.7455029980013325 and parameters: {'penalty': 'l2', 'C': 7.232727518623565, 'max_iter': 735, 'solver': 'liblinear'}. Best is trial 152 with value: 0.7475016655562958.\n",
      "[I 2024-06-08 00:04:36,732] Trial 168 finished with value: 0.7425049966688874 and parameters: {'penalty': 'l2', 'C': 0.8821425852044329, 'max_iter': 281, 'solver': 'liblinear'}. Best is trial 152 with value: 0.7475016655562958.\n",
      "[I 2024-06-08 00:04:36,852] Trial 169 finished with value: 0.7411725516322452 and parameters: {'penalty': 'l1', 'C': 0.060205492355472054, 'max_iter': 397, 'solver': 'liblinear'}. Best is trial 152 with value: 0.7475016655562958.\n",
      "[I 2024-06-08 00:04:36,955] Trial 170 finished with value: 0.7411725516322452 and parameters: {'penalty': 'l1', 'C': 0.07723931950697714, 'max_iter': 873, 'solver': 'liblinear'}. Best is trial 152 with value: 0.7475016655562958.\n",
      "[I 2024-06-08 00:04:37,004] Trial 171 finished with value: 0.7421718854097269 and parameters: {'penalty': 'l2', 'C': 0.08879822158262446, 'max_iter': 499, 'solver': 'liblinear'}. Best is trial 152 with value: 0.7475016655562958.\n",
      "[I 2024-06-08 00:04:37,042] Trial 172 finished with value: 0.7251832111925383 and parameters: {'penalty': 'l2', 'C': 0.010134215338029441, 'max_iter': 615, 'solver': 'liblinear'}. Best is trial 152 with value: 0.7475016655562958.\n",
      "[I 2024-06-08 00:04:37,175] Trial 173 finished with value: 0.7415056628914057 and parameters: {'penalty': 'l1', 'C': 0.07429284993668595, 'max_iter': 533, 'solver': 'saga'}. Best is trial 152 with value: 0.7475016655562958.\n",
      "[I 2024-06-08 00:04:37,278] Trial 174 finished with value: 0.7415056628914057 and parameters: {'penalty': 'l1', 'C': 0.07836818939004365, 'max_iter': 498, 'solver': 'liblinear'}. Best is trial 152 with value: 0.7475016655562958.\n",
      "[I 2024-06-08 00:04:37,736] Trial 175 finished with value: 0.7465023317788141 and parameters: {'penalty': 'l1', 'C': 4.732574177511548, 'max_iter': 518, 'solver': 'liblinear'}. Best is trial 152 with value: 0.7475016655562958.\n",
      "[I 2024-06-08 00:04:37,853] Trial 176 finished with value: 0.7468354430379747 and parameters: {'penalty': 'l1', 'C': 0.6613252201817359, 'max_iter': 151, 'solver': 'saga'}. Best is trial 152 with value: 0.7475016655562958.\n",
      "[I 2024-06-08 00:04:37,985] Trial 177 finished with value: 0.7115256495669554 and parameters: {'penalty': 'l1', 'C': 0.010196202087229395, 'max_iter': 849, 'solver': 'saga'}. Best is trial 152 with value: 0.7475016655562958.\n",
      "[I 2024-06-08 00:04:38,120] Trial 178 finished with value: 0.7465023317788141 and parameters: {'penalty': 'l1', 'C': 9.439981254820681, 'max_iter': 136, 'solver': 'saga'}. Best is trial 152 with value: 0.7475016655562958.\n",
      "[I 2024-06-08 00:04:38,221] Trial 179 finished with value: 0.7241838774150566 and parameters: {'penalty': 'l2', 'C': 0.01027005055530255, 'max_iter': 263, 'solver': 'saga'}. Best is trial 152 with value: 0.7475016655562958.\n",
      "[I 2024-06-08 00:04:38,310] Trial 180 finished with value: 0.7428381079280479 and parameters: {'penalty': 'l2', 'C': 0.192968015205417, 'max_iter': 960, 'solver': 'saga'}. Best is trial 152 with value: 0.7475016655562958.\n",
      "[I 2024-06-08 00:04:38,443] Trial 181 finished with value: 0.7465023317788141 and parameters: {'penalty': 'l1', 'C': 6.612363362982121, 'max_iter': 621, 'solver': 'saga'}. Best is trial 152 with value: 0.7475016655562958.\n",
      "[I 2024-06-08 00:04:38,485] Trial 182 finished with value: 0.7311792138574283 and parameters: {'penalty': 'l2', 'C': 0.017193210605788788, 'max_iter': 184, 'solver': 'liblinear'}. Best is trial 152 with value: 0.7475016655562958.\n",
      "[I 2024-06-08 00:04:38,625] Trial 183 finished with value: 0.7468354430379747 and parameters: {'penalty': 'l1', 'C': 1.9592487877054943, 'max_iter': 365, 'solver': 'saga'}. Best is trial 152 with value: 0.7475016655562958.\n",
      "[I 2024-06-08 00:04:38,735] Trial 184 finished with value: 0.7421718854097269 and parameters: {'penalty': 'l2', 'C': 0.08376188024813663, 'max_iter': 197, 'solver': 'saga'}. Best is trial 152 with value: 0.7475016655562958.\n",
      "[I 2024-06-08 00:04:38,787] Trial 185 finished with value: 0.7275149900066622 and parameters: {'penalty': 'l2', 'C': 0.013313456146033015, 'max_iter': 964, 'solver': 'liblinear'}. Best is trial 152 with value: 0.7475016655562958.\n",
      "[I 2024-06-08 00:04:38,835] Trial 186 finished with value: 0.7395069953364424 and parameters: {'penalty': 'l2', 'C': 0.035315836587124984, 'max_iter': 394, 'solver': 'liblinear'}. Best is trial 152 with value: 0.7475016655562958.\n",
      "[I 2024-06-08 00:04:38,940] Trial 187 finished with value: 0.7438374417055297 and parameters: {'penalty': 'l2', 'C': 2.128916894622956, 'max_iter': 641, 'solver': 'saga'}. Best is trial 152 with value: 0.7475016655562958.\n",
      "[I 2024-06-08 00:04:39,048] Trial 188 finished with value: 0.7448367754830113 and parameters: {'penalty': 'l2', 'C': 3.0914502736264127, 'max_iter': 524, 'solver': 'saga'}. Best is trial 152 with value: 0.7475016655562958.\n",
      "[I 2024-06-08 00:04:39,472] Trial 189 finished with value: 0.7468354430379747 and parameters: {'penalty': 'l1', 'C': 4.67636319903576, 'max_iter': 280, 'solver': 'liblinear'}. Best is trial 152 with value: 0.7475016655562958.\n",
      "[I 2024-06-08 00:04:39,843] Trial 190 finished with value: 0.7471685542971352 and parameters: {'penalty': 'l1', 'C': 1.4521410708874114, 'max_iter': 433, 'solver': 'liblinear'}. Best is trial 152 with value: 0.7475016655562958.\n",
      "[I 2024-06-08 00:04:39,901] Trial 191 finished with value: 0.7418387741505663 and parameters: {'penalty': 'l2', 'C': 0.264376854239444, 'max_iter': 973, 'solver': 'liblinear'}. Best is trial 152 with value: 0.7475016655562958.\n",
      "[I 2024-06-08 00:04:40,038] Trial 192 finished with value: 0.7385076615589606 and parameters: {'penalty': 'l1', 'C': 0.034468490615851, 'max_iter': 725, 'solver': 'saga'}. Best is trial 152 with value: 0.7475016655562958.\n",
      "[I 2024-06-08 00:04:40,094] Trial 193 finished with value: 0.7415056628914057 and parameters: {'penalty': 'l2', 'C': 0.5196208822194063, 'max_iter': 430, 'solver': 'liblinear'}. Best is trial 152 with value: 0.7475016655562958.\n",
      "[I 2024-06-08 00:04:40,136] Trial 194 finished with value: 0.7361758827448368 and parameters: {'penalty': 'l2', 'C': 0.020271523756867773, 'max_iter': 557, 'solver': 'liblinear'}. Best is trial 152 with value: 0.7475016655562958.\n",
      "[I 2024-06-08 00:04:40,237] Trial 195 finished with value: 0.7415056628914057 and parameters: {'penalty': 'l2', 'C': 0.0744301669502829, 'max_iter': 682, 'solver': 'saga'}. Best is trial 152 with value: 0.7475016655562958.\n",
      "[I 2024-06-08 00:04:40,326] Trial 196 finished with value: 0.7418387741505663 and parameters: {'penalty': 'l2', 'C': 0.3889777862508648, 'max_iter': 228, 'solver': 'saga'}. Best is trial 152 with value: 0.7475016655562958.\n",
      "[I 2024-06-08 00:04:40,379] Trial 197 finished with value: 0.7411725516322452 and parameters: {'penalty': 'l2', 'C': 0.12914771572057868, 'max_iter': 937, 'solver': 'liblinear'}. Best is trial 152 with value: 0.7475016655562958.\n",
      "[I 2024-06-08 00:04:40,772] Trial 198 finished with value: 0.7468354430379747 and parameters: {'penalty': 'l1', 'C': 4.246499925677047, 'max_iter': 273, 'solver': 'liblinear'}. Best is trial 152 with value: 0.7475016655562958.\n",
      "[I 2024-06-08 00:04:40,864] Trial 199 finished with value: 0.739840106595603 and parameters: {'penalty': 'l1', 'C': 0.04682391430633818, 'max_iter': 547, 'solver': 'liblinear'}. Best is trial 152 with value: 0.7475016655562958.\n"
     ]
    },
    {
     "name": "stdout",
     "output_type": "stream",
     "text": [
      "Best Hyperparameters: {'penalty': 'l1', 'C': 1.065373030496576, 'max_iter': 963, 'solver': 'saga'}\n",
      "Best Accuracy: 0.7475016655562958\n"
     ]
    }
   ],
   "source": [
    "# Create a study object and optimize the objective function\n",
    "study = optuna.create_study(direction='maximize', sampler=optuna.samplers.RandomSampler(seed=seed))\n",
    "study.optimize(objective, n_trials=200)\n",
    "\n",
    "# Get the best hyperparameters and accuracy score\n",
    "best_params = study.best_params\n",
    "best_accuracy = study.best_value\n",
    "\n",
    "print(\"Best Hyperparameters:\", best_params)\n",
    "print(\"Best Accuracy:\", best_accuracy)"
   ]
  },
  {
   "cell_type": "code",
   "execution_count": 21,
   "metadata": {},
   "outputs": [
    {
     "data": {
      "text/html": [
       "<div>\n",
       "<style scoped>\n",
       "    .dataframe tbody tr th:only-of-type {\n",
       "        vertical-align: middle;\n",
       "    }\n",
       "\n",
       "    .dataframe tbody tr th {\n",
       "        vertical-align: top;\n",
       "    }\n",
       "\n",
       "    .dataframe thead th {\n",
       "        text-align: right;\n",
       "    }\n",
       "</style>\n",
       "<table border=\"1\" class=\"dataframe\">\n",
       "  <thead>\n",
       "    <tr style=\"text-align: right;\">\n",
       "      <th></th>\n",
       "      <th>number</th>\n",
       "      <th>value</th>\n",
       "      <th>datetime_start</th>\n",
       "      <th>datetime_complete</th>\n",
       "      <th>duration</th>\n",
       "      <th>params_C</th>\n",
       "      <th>params_max_iter</th>\n",
       "      <th>params_penalty</th>\n",
       "      <th>params_solver</th>\n",
       "      <th>state</th>\n",
       "    </tr>\n",
       "  </thead>\n",
       "  <tbody>\n",
       "    <tr>\n",
       "      <th>152</th>\n",
       "      <td>152</td>\n",
       "      <td>0.747502</td>\n",
       "      <td>2024-06-08 00:04:33.723615</td>\n",
       "      <td>2024-06-08 00:04:33.846612</td>\n",
       "      <td>0 days 00:00:00.122997</td>\n",
       "      <td>1.065373</td>\n",
       "      <td>963</td>\n",
       "      <td>l1</td>\n",
       "      <td>saga</td>\n",
       "      <td>COMPLETE</td>\n",
       "    </tr>\n",
       "    <tr>\n",
       "      <th>70</th>\n",
       "      <td>70</td>\n",
       "      <td>0.747169</td>\n",
       "      <td>2024-06-08 00:04:21.876762</td>\n",
       "      <td>2024-06-08 00:04:21.997729</td>\n",
       "      <td>0 days 00:00:00.120967</td>\n",
       "      <td>0.819648</td>\n",
       "      <td>681</td>\n",
       "      <td>l1</td>\n",
       "      <td>saga</td>\n",
       "      <td>COMPLETE</td>\n",
       "    </tr>\n",
       "    <tr>\n",
       "      <th>156</th>\n",
       "      <td>156</td>\n",
       "      <td>0.747169</td>\n",
       "      <td>2024-06-08 00:04:34.450620</td>\n",
       "      <td>2024-06-08 00:04:34.576579</td>\n",
       "      <td>0 days 00:00:00.125959</td>\n",
       "      <td>1.174918</td>\n",
       "      <td>768</td>\n",
       "      <td>l1</td>\n",
       "      <td>saga</td>\n",
       "      <td>COMPLETE</td>\n",
       "    </tr>\n",
       "    <tr>\n",
       "      <th>190</th>\n",
       "      <td>190</td>\n",
       "      <td>0.747169</td>\n",
       "      <td>2024-06-08 00:04:39.473520</td>\n",
       "      <td>2024-06-08 00:04:39.842476</td>\n",
       "      <td>0 days 00:00:00.368956</td>\n",
       "      <td>1.452141</td>\n",
       "      <td>433</td>\n",
       "      <td>l1</td>\n",
       "      <td>liblinear</td>\n",
       "      <td>COMPLETE</td>\n",
       "    </tr>\n",
       "    <tr>\n",
       "      <th>68</th>\n",
       "      <td>68</td>\n",
       "      <td>0.747169</td>\n",
       "      <td>2024-06-08 00:04:21.627766</td>\n",
       "      <td>2024-06-08 00:04:21.747763</td>\n",
       "      <td>0 days 00:00:00.119997</td>\n",
       "      <td>0.760989</td>\n",
       "      <td>545</td>\n",
       "      <td>l1</td>\n",
       "      <td>saga</td>\n",
       "      <td>COMPLETE</td>\n",
       "    </tr>\n",
       "    <tr>\n",
       "      <th>150</th>\n",
       "      <td>150</td>\n",
       "      <td>0.747169</td>\n",
       "      <td>2024-06-08 00:04:33.169623</td>\n",
       "      <td>2024-06-08 00:04:33.598586</td>\n",
       "      <td>0 days 00:00:00.428963</td>\n",
       "      <td>1.514804</td>\n",
       "      <td>518</td>\n",
       "      <td>l1</td>\n",
       "      <td>liblinear</td>\n",
       "      <td>COMPLETE</td>\n",
       "    </tr>\n",
       "    <tr>\n",
       "      <th>118</th>\n",
       "      <td>118</td>\n",
       "      <td>0.747169</td>\n",
       "      <td>2024-06-08 00:04:29.146426</td>\n",
       "      <td>2024-06-08 00:04:29.269443</td>\n",
       "      <td>0 days 00:00:00.123017</td>\n",
       "      <td>0.804828</td>\n",
       "      <td>795</td>\n",
       "      <td>l1</td>\n",
       "      <td>saga</td>\n",
       "      <td>COMPLETE</td>\n",
       "    </tr>\n",
       "    <tr>\n",
       "      <th>20</th>\n",
       "      <td>20</td>\n",
       "      <td>0.747169</td>\n",
       "      <td>2024-06-08 00:04:14.191501</td>\n",
       "      <td>2024-06-08 00:04:14.307510</td>\n",
       "      <td>0 days 00:00:00.116009</td>\n",
       "      <td>0.761548</td>\n",
       "      <td>457</td>\n",
       "      <td>l1</td>\n",
       "      <td>saga</td>\n",
       "      <td>COMPLETE</td>\n",
       "    </tr>\n",
       "    <tr>\n",
       "      <th>135</th>\n",
       "      <td>135</td>\n",
       "      <td>0.746835</td>\n",
       "      <td>2024-06-08 00:04:31.084619</td>\n",
       "      <td>2024-06-08 00:04:31.515629</td>\n",
       "      <td>0 days 00:00:00.431010</td>\n",
       "      <td>3.845877</td>\n",
       "      <td>133</td>\n",
       "      <td>l1</td>\n",
       "      <td>liblinear</td>\n",
       "      <td>COMPLETE</td>\n",
       "    </tr>\n",
       "    <tr>\n",
       "      <th>81</th>\n",
       "      <td>81</td>\n",
       "      <td>0.746835</td>\n",
       "      <td>2024-06-08 00:04:23.284066</td>\n",
       "      <td>2024-06-08 00:04:23.700046</td>\n",
       "      <td>0 days 00:00:00.415980</td>\n",
       "      <td>3.424618</td>\n",
       "      <td>301</td>\n",
       "      <td>l1</td>\n",
       "      <td>liblinear</td>\n",
       "      <td>COMPLETE</td>\n",
       "    </tr>\n",
       "  </tbody>\n",
       "</table>\n",
       "</div>"
      ],
      "text/plain": [
       "     number     value             datetime_start          datetime_complete  \\\n",
       "152     152  0.747502 2024-06-08 00:04:33.723615 2024-06-08 00:04:33.846612   \n",
       "70       70  0.747169 2024-06-08 00:04:21.876762 2024-06-08 00:04:21.997729   \n",
       "156     156  0.747169 2024-06-08 00:04:34.450620 2024-06-08 00:04:34.576579   \n",
       "190     190  0.747169 2024-06-08 00:04:39.473520 2024-06-08 00:04:39.842476   \n",
       "68       68  0.747169 2024-06-08 00:04:21.627766 2024-06-08 00:04:21.747763   \n",
       "150     150  0.747169 2024-06-08 00:04:33.169623 2024-06-08 00:04:33.598586   \n",
       "118     118  0.747169 2024-06-08 00:04:29.146426 2024-06-08 00:04:29.269443   \n",
       "20       20  0.747169 2024-06-08 00:04:14.191501 2024-06-08 00:04:14.307510   \n",
       "135     135  0.746835 2024-06-08 00:04:31.084619 2024-06-08 00:04:31.515629   \n",
       "81       81  0.746835 2024-06-08 00:04:23.284066 2024-06-08 00:04:23.700046   \n",
       "\n",
       "                  duration  params_C  params_max_iter params_penalty  \\\n",
       "152 0 days 00:00:00.122997  1.065373              963             l1   \n",
       "70  0 days 00:00:00.120967  0.819648              681             l1   \n",
       "156 0 days 00:00:00.125959  1.174918              768             l1   \n",
       "190 0 days 00:00:00.368956  1.452141              433             l1   \n",
       "68  0 days 00:00:00.119997  0.760989              545             l1   \n",
       "150 0 days 00:00:00.428963  1.514804              518             l1   \n",
       "118 0 days 00:00:00.123017  0.804828              795             l1   \n",
       "20  0 days 00:00:00.116009  0.761548              457             l1   \n",
       "135 0 days 00:00:00.431010  3.845877              133             l1   \n",
       "81  0 days 00:00:00.415980  3.424618              301             l1   \n",
       "\n",
       "    params_solver     state  \n",
       "152          saga  COMPLETE  \n",
       "70           saga  COMPLETE  \n",
       "156          saga  COMPLETE  \n",
       "190     liblinear  COMPLETE  \n",
       "68           saga  COMPLETE  \n",
       "150     liblinear  COMPLETE  \n",
       "118          saga  COMPLETE  \n",
       "20           saga  COMPLETE  \n",
       "135     liblinear  COMPLETE  \n",
       "81      liblinear  COMPLETE  "
      ]
     },
     "execution_count": 21,
     "metadata": {},
     "output_type": "execute_result"
    }
   ],
   "source": [
    "# Get best trials\n",
    "trials_OTP1 = study.trials_dataframe()\n",
    "# Sort the dataframe by value (accuracy) in descending order\n",
    "top_trials_OTP1 = trials_OTP1.sort_values(by='value', ascending=False).head(10)\n",
    "top_trials_OTP1"
   ]
  },
  {
   "cell_type": "code",
   "execution_count": 22,
   "metadata": {},
   "outputs": [
    {
     "name": "stdout",
     "output_type": "stream",
     "text": [
      "Metrics for LR_OPT1_best:\n",
      "Accuracy: 0.7475\n",
      "Weighted F1: 0.7469\n",
      "Weighted Precision: 0.7479\n",
      "Weighted Recall: 0.7475\n",
      "Macro-Averaged Precision: 0.7482\n",
      "Macro-Averaged Recall: 0.7460\n",
      "F1: [0.76371571 0.72889843]\n",
      "Precision: [0.74152542 0.75481481]\n",
      "classification report\n",
      "              precision    recall  f1-score   support\n",
      "\n",
      "     Class 0       0.74      0.79      0.76      1556\n",
      "     Class 1       0.75      0.70      0.73      1446\n",
      "\n",
      "    accuracy                           0.75      3002\n",
      "   macro avg       0.75      0.75      0.75      3002\n",
      "weighted avg       0.75      0.75      0.75      3002\n",
      "\n",
      "Confusion Matrix\n"
     ]
    },
    {
     "data": {
      "image/png": "[encoded data removed]",
      "text/plain": [
       "<Figure size 432x288 with 2 Axes>"
      ]
     },
     "metadata": {
      "needs_background": "light"
     },
     "output_type": "display_data"
    }
   ],
   "source": [
    "best_trial = study.best_trial\n",
    "best_model = LogisticRegression(**best_trial.params, random_state=seed)\n",
    "best_model.fit(X_train, y_train)\n",
    "\n",
    "predictions_opt1 = best_model.predict(X_test)\n",
    "model_metrics = pd.concat([model_metrics, calculate_metrics('LR_OPT1_best', y_test, predictions_opt1)])"
   ]
  },
  {
   "cell_type": "code",
   "execution_count": 23,
   "metadata": {},
   "outputs": [
    {
     "data": {
      "text/plain": [
       "{'penalty': 'l1', 'C': 1.065373030496576, 'max_iter': 963, 'solver': 'saga'}"
      ]
     },
     "execution_count": 23,
     "metadata": {},
     "output_type": "execute_result"
    }
   ],
   "source": [
    "study.best_params"
   ]
  },
  {
   "cell_type": "code",
   "execution_count": 24,
   "metadata": {},
   "outputs": [
    {
     "data": {
      "application/vnd.plotly.v1+json": {
       "config": {
        "plotlyServerURL": "https://plot.ly"
       },
       "data": [
        {
         "mode": "markers",
         "name": "Objective Value",
         "type": "scatter",
         "x": [
          0,
          1,
          2,
          3,
          4,
          5,
          6,
          7,
          8,
          9,
          10,
          11,
          12,
          13,
          14,
          15,
          16,
          17,
          18,
          19,
          20,
          21,
          22,
          23,
          24,
          25,
          26,
          27,
          28,
          29,
          30,
          31,
          32,
          33,
          34,
          35,
          36,
          37,
          38,
          39,
          40,
          41,
          42,
          43,
          44,
          45,
          46,
          47,
          48,
          49,
          50,
          51,
          52,
          53,
          54,
          55,
          56,
          57,
          58,
          59,
          60,
          61,
          62,
          63,
          64,
          65,
          66,
          67,
          68,
          69,
          70,
          71,
          72,
          73,
          74,
          75,
          76,
          77,
          78,
          79,
          80,
          81,
          82,
          83,
          84,
          85,
          86,
          87,
          88,
          89,
          90,
          91,
          92,
          93,
          94,
          95,
          96,
          97,
          98,
          99,
          100,
          101,
          102,
          103,
          104,
          105,
          106,
          107,
          108,
          109,
          110,
          111,
          112,
          113,
          114,
          115,
          116,
          117,
          118,
          119,
          120,
          121,
          122,
          123,
          124,
          125,
          126,
          127,
          128,
          129,
          130,
          131,
          132,
          133,
          134,
          135,
          136,
          137,
          138,
          139,
          140,
          141,
          142,
          143,
          144,
          145,
          146,
          147,
          148,
          149,
          150,
          151,
          152,
          153,
          154,
          155,
          156,
          157,
          158,
          159,
          160,
          161,
          162,
          163,
          164,
          165,
          166,
          167,
          168,
          169,
          170,
          171,
          172,
          173,
          174,
          175,
          176,
          177,
          178,
          179,
          180,
          181,
          182,
          183,
          184,
          185,
          186,
          187,
          188,
          189,
          190,
          191,
          192,
          193,
          194,
          195,
          196,
          197,
          198,
          199
         ],
         "y": [
          0.7438374417055297,
          0.7425049966688874,
          0.7455029980013325,
          0.7468354430379747,
          0.7411725516322452,
          0.734510326449034,
          0.7365089940039974,
          0.7411725516322452,
          0.7455029980013325,
          0.7441705529646903,
          0.7465023317788141,
          0.7455029980013325,
          0.7301798800799467,
          0.7441705529646903,
          0.7445036642238507,
          0.7271818787475016,
          0.7455029980013325,
          0.7245169886742172,
          0.7421718854097269,
          0.7465023317788141,
          0.7471685542971352,
          0.7418387741505663,
          0.7355096602265156,
          0.7275149900066622,
          0.7388407728181212,
          0.7465023317788141,
          0.7411725516322452,
          0.7301798800799467,
          0.7218520986009327,
          0.7425049966688874,
          0.7465023317788141,
          0.7418387741505663,
          0.7465023317788141,
          0.7225183211192538,
          0.7408394403730846,
          0.7275149900066622,
          0.7408394403730846,
          0.7425049966688874,
          0.7455029980013325,
          0.7258494337108594,
          0.7415056628914057,
          0.7451698867421719,
          0.7411725516322452,
          0.7275149900066622,
          0.739840106595603,
          0.7465023317788141,
          0.7465023317788141,
          0.7421718854097269,
          0.7448367754830113,
          0.7428381079280479,
          0.7318454363757495,
          0.7158560959360426,
          0.72618254497002,
          0.7401732178547635,
          0.7451698867421719,
          0.7235176548967355,
          0.723850766155896,
          0.734510326449034,
          0.7455029980013325,
          0.7411725516322452,
          0.7425049966688874,
          0.7401732178547635,
          0.7418387741505663,
          0.7395069953364424,
          0.739840106595603,
          0.7421718854097269,
          0.7465023317788141,
          0.7395069953364424,
          0.7471685542971352,
          0.7245169886742172,
          0.7471685542971352,
          0.7451698867421719,
          0.7181878747501665,
          0.739840106595603,
          0.7391738840772818,
          0.7441705529646903,
          0.7288474350433045,
          0.7451698867421719,
          0.7395069953364424,
          0.7418387741505663,
          0.7445036642238507,
          0.7468354430379747,
          0.7441705529646903,
          0.7468354430379747,
          0.7418387741505663,
          0.7335109926715523,
          0.7408394403730846,
          0.7151898734177216,
          0.7428381079280479,
          0.7468354430379747,
          0.7455029980013325,
          0.7245169886742172,
          0.7468354430379747,
          0.7451698867421719,
          0.7415056628914057,
          0.745836109260493,
          0.7465023317788141,
          0.7428381079280479,
          0.7418387741505663,
          0.7425049966688874,
          0.7418387741505663,
          0.7161892071952032,
          0.7468354430379747,
          0.7415056628914057,
          0.7408394403730846,
          0.7435043304463691,
          0.7338441039307129,
          0.745836109260493,
          0.7395069953364424,
          0.7395069953364424,
          0.723850766155896,
          0.7401732178547635,
          0.7465023317788141,
          0.7418387741505663,
          0.7461692205196535,
          0.739840106595603,
          0.7281812125249834,
          0.7415056628914057,
          0.7471685542971352,
          0.7391738840772818,
          0.7418387741505663,
          0.7451698867421719,
          0.7328447701532311,
          0.72618254497002,
          0.7448367754830113,
          0.7418387741505663,
          0.7421718854097269,
          0.7381745502998002,
          0.7425049966688874,
          0.7421718854097269,
          0.7455029980013325,
          0.7421718854097269,
          0.7431712191872085,
          0.740506329113924,
          0.7418387741505663,
          0.7468354430379747,
          0.7218520986009327,
          0.7388407728181212,
          0.7408394403730846,
          0.7428381079280479,
          0.7451698867421719,
          0.7468354430379747,
          0.7468354430379747,
          0.7465023317788141,
          0.7415056628914057,
          0.7255163224516988,
          0.7425049966688874,
          0.7411725516322452,
          0.7455029980013325,
          0.7418387741505663,
          0.7471685542971352,
          0.734510326449034,
          0.7475016655562958,
          0.7425049966688874,
          0.7468354430379747,
          0.7438374417055297,
          0.7471685542971352,
          0.7408394403730846,
          0.7455029980013325,
          0.745836109260493,
          0.7468354430379747,
          0.7465023317788141,
          0.7441705529646903,
          0.7421718854097269,
          0.7415056628914057,
          0.7411725516322452,
          0.7418387741505663,
          0.7455029980013325,
          0.7425049966688874,
          0.7411725516322452,
          0.7411725516322452,
          0.7421718854097269,
          0.7251832111925383,
          0.7415056628914057,
          0.7415056628914057,
          0.7465023317788141,
          0.7468354430379747,
          0.7115256495669554,
          0.7465023317788141,
          0.7241838774150566,
          0.7428381079280479,
          0.7465023317788141,
          0.7311792138574283,
          0.7468354430379747,
          0.7421718854097269,
          0.7275149900066622,
          0.7395069953364424,
          0.7438374417055297,
          0.7448367754830113,
          0.7468354430379747,
          0.7471685542971352,
          0.7418387741505663,
          0.7385076615589606,
          0.7415056628914057,
          0.7361758827448368,
          0.7415056628914057,
          0.7418387741505663,
          0.7411725516322452,
          0.7468354430379747,
          0.739840106595603
         ]
        },
        {
         "mode": "lines",
         "name": "Best Value",
         "type": "scatter",
         "x": [
          0,
          1,
          2,
          3,
          4,
          5,
          6,
          7,
          8,
          9,
          10,
          11,
          12,
          13,
          14,
          15,
          16,
          17,
          18,
          19,
          20,
          21,
          22,
          23,
          24,
          25,
          26,
          27,
          28,
          29,
          30,
          31,
          32,
          33,
          34,
          35,
          36,
          37,
          38,
          39,
          40,
          41,
          42,
          43,
          44,
          45,
          46,
          47,
          48,
          49,
          50,
          51,
          52,
          53,
          54,
          55,
          56,
          57,
          58,
          59,
          60,
          61,
          62,
          63,
          64,
          65,
          66,
          67,
          68,
          69,
          70,
          71,
          72,
          73,
          74,
          75,
          76,
          77,
          78,
          79,
          80,
          81,
          82,
          83,
          84,
          85,
          86,
          87,
          88,
          89,
          90,
          91,
          92,
          93,
          94,
          95,
          96,
          97,
          98,
          99,
          100,
          101,
          102,
          103,
          104,
          105,
          106,
          107,
          108,
          109,
          110,
          111,
          112,
          113,
          114,
          115,
          116,
          117,
          118,
          119,
          120,
          121,
          122,
          123,
          124,
          125,
          126,
          127,
          128,
          129,
          130,
          131,
          132,
          133,
          134,
          135,
          136,
          137,
          138,
          139,
          140,
          141,
          142,
          143,
          144,
          145,
          146,
          147,
          148,
          149,
          150,
          151,
          152,
          153,
          154,
          155,
          156,
          157,
          158,
          159,
          160,
          161,
          162,
          163,
          164,
          165,
          166,
          167,
          168,
          169,
          170,
          171,
          172,
          173,
          174,
          175,
          176,
          177,
          178,
          179,
          180,
          181,
          182,
          183,
          184,
          185,
          186,
          187,
          188,
          189,
          190,
          191,
          192,
          193,
          194,
          195,
          196,
          197,
          198,
          199
         ],
         "y": [
          0.7438374417055297,
          0.7438374417055297,
          0.7455029980013325,
          0.7468354430379747,
          0.7468354430379747,
          0.7468354430379747,
          0.7468354430379747,
          0.7468354430379747,
          0.7468354430379747,
          0.7468354430379747,
          0.7468354430379747,
          0.7468354430379747,
          0.7468354430379747,
          0.7468354430379747,
          0.7468354430379747,
          0.7468354430379747,
          0.7468354430379747,
          0.7468354430379747,
          0.7468354430379747,
          0.7468354430379747,
          0.7471685542971352,
          0.7471685542971352,
          0.7471685542971352,
          0.7471685542971352,
          0.7471685542971352,
          0.7471685542971352,
          0.7471685542971352,
          0.7471685542971352,
          0.7471685542971352,
          0.7471685542971352,
          0.7471685542971352,
          0.7471685542971352,
          0.7471685542971352,
          0.7471685542971352,
          0.7471685542971352,
          0.7471685542971352,
          0.7471685542971352,
          0.7471685542971352,
          0.7471685542971352,
          0.7471685542971352,
          0.7471685542971352,
          0.7471685542971352,
          0.7471685542971352,
          0.7471685542971352,
          0.7471685542971352,
          0.7471685542971352,
          0.7471685542971352,
          0.7471685542971352,
          0.7471685542971352,
          0.7471685542971352,
          0.7471685542971352,
          0.7471685542971352,
          0.7471685542971352,
          0.7471685542971352,
          0.7471685542971352,
          0.7471685542971352,
          0.7471685542971352,
          0.7471685542971352,
          0.7471685542971352,
          0.7471685542971352,
          0.7471685542971352,
          0.7471685542971352,
          0.7471685542971352,
          0.7471685542971352,
          0.7471685542971352,
          0.7471685542971352,
          0.7471685542971352,
          0.7471685542971352,
          0.7471685542971352,
          0.7471685542971352,
          0.7471685542971352,
          0.7471685542971352,
          0.7471685542971352,
          0.7471685542971352,
          0.7471685542971352,
          0.7471685542971352,
          0.7471685542971352,
          0.7471685542971352,
          0.7471685542971352,
          0.7471685542971352,
          0.7471685542971352,
          0.7471685542971352,
          0.7471685542971352,
          0.7471685542971352,
          0.7471685542971352,
          0.7471685542971352,
          0.7471685542971352,
          0.7471685542971352,
          0.7471685542971352,
          0.7471685542971352,
          0.7471685542971352,
          0.7471685542971352,
          0.7471685542971352,
          0.7471685542971352,
          0.7471685542971352,
          0.7471685542971352,
          0.7471685542971352,
          0.7471685542971352,
          0.7471685542971352,
          0.7471685542971352,
          0.7471685542971352,
          0.7471685542971352,
          0.7471685542971352,
          0.7471685542971352,
          0.7471685542971352,
          0.7471685542971352,
          0.7471685542971352,
          0.7471685542971352,
          0.7471685542971352,
          0.7471685542971352,
          0.7471685542971352,
          0.7471685542971352,
          0.7471685542971352,
          0.7471685542971352,
          0.7471685542971352,
          0.7471685542971352,
          0.7471685542971352,
          0.7471685542971352,
          0.7471685542971352,
          0.7471685542971352,
          0.7471685542971352,
          0.7471685542971352,
          0.7471685542971352,
          0.7471685542971352,
          0.7471685542971352,
          0.7471685542971352,
          0.7471685542971352,
          0.7471685542971352,
          0.7471685542971352,
          0.7471685542971352,
          0.7471685542971352,
          0.7471685542971352,
          0.7471685542971352,
          0.7471685542971352,
          0.7471685542971352,
          0.7471685542971352,
          0.7471685542971352,
          0.7471685542971352,
          0.7471685542971352,
          0.7471685542971352,
          0.7471685542971352,
          0.7471685542971352,
          0.7471685542971352,
          0.7471685542971352,
          0.7471685542971352,
          0.7471685542971352,
          0.7471685542971352,
          0.7471685542971352,
          0.7471685542971352,
          0.7471685542971352,
          0.7471685542971352,
          0.7471685542971352,
          0.7475016655562958,
          0.7475016655562958,
          0.7475016655562958,
          0.7475016655562958,
          0.7475016655562958,
          0.7475016655562958,
          0.7475016655562958,
          0.7475016655562958,
          0.7475016655562958,
          0.7475016655562958,
          0.7475016655562958,
          0.7475016655562958,
          0.7475016655562958,
          0.7475016655562958,
          0.7475016655562958,
          0.7475016655562958,
          0.7475016655562958,
          0.7475016655562958,
          0.7475016655562958,
          0.7475016655562958,
          0.7475016655562958,
          0.7475016655562958,
          0.7475016655562958,
          0.7475016655562958,
          0.7475016655562958,
          0.7475016655562958,
          0.7475016655562958,
          0.7475016655562958,
          0.7475016655562958,
          0.7475016655562958,
          0.7475016655562958,
          0.7475016655562958,
          0.7475016655562958,
          0.7475016655562958,
          0.7475016655562958,
          0.7475016655562958,
          0.7475016655562958,
          0.7475016655562958,
          0.7475016655562958,
          0.7475016655562958,
          0.7475016655562958,
          0.7475016655562958,
          0.7475016655562958,
          0.7475016655562958,
          0.7475016655562958,
          0.7475016655562958,
          0.7475016655562958,
          0.7475016655562958
         ]
        },
        {
         "marker": {
          "color": "#cccccc"
         },
         "mode": "markers",
         "name": "Infeasible Trial",
         "showlegend": false,
         "type": "scatter",
         "x": [],
         "y": []
        }
       ],
       "layout": {
        "template": {
         "data": {
          "bar": [
           {
            "error_x": {
             "color": "#2a3f5f"
            },
            "error_y": {
             "color": "#2a3f5f"
            },
            "marker": {
             "line": {
              "color": "#E5ECF6",
              "width": 0.5
             },
             "pattern": {
              "fillmode": "overlay",
              "size": 10,
              "solidity": 0.2
             }
            },
            "type": "bar"
           }
          ],
          "barpolar": [
           {
            "marker": {
             "line": {
              "color": "#E5ECF6",
              "width": 0.5
             },
             "pattern": {
              "fillmode": "overlay",
              "size": 10,
              "solidity": 0.2
             }
            },
            "type": "barpolar"
           }
          ],
          "carpet": [
           {
            "aaxis": {
             "endlinecolor": "#2a3f5f",
             "gridcolor": "white",
             "linecolor": "white",
             "minorgridcolor": "white",
             "startlinecolor": "#2a3f5f"
            },
            "baxis": {
             "endlinecolor": "#2a3f5f",
             "gridcolor": "white",
             "linecolor": "white",
             "minorgridcolor": "white",
             "startlinecolor": "#2a3f5f"
            },
            "type": "carpet"
           }
          ],
          "choropleth": [
           {
            "colorbar": {
             "outlinewidth": 0,
             "ticks": ""
            },
            "type": "choropleth"
           }
          ],
          "contour": [
           {
            "colorbar": {
             "outlinewidth": 0,
             "ticks": ""
            },
            "colorscale": [
             [
              0,
              "#0d0887"
             ],
             [
              0.1111111111111111,
              "#46039f"
             ],
             [
              0.2222222222222222,
              "#7201a8"
             ],
             [
              0.3333333333333333,
              "#9c179e"
             ],
             [
              0.4444444444444444,
              "#bd3786"
             ],
             [
              0.5555555555555556,
              "#d8576b"
             ],
             [
              0.6666666666666666,
              "#ed7953"
             ],
             [
              0.7777777777777778,
              "#fb9f3a"
             ],
             [
              0.8888888888888888,
              "#fdca26"
             ],
             [
              1,
              "#f0f921"
             ]
            ],
            "type": "contour"
           }
          ],
          "contourcarpet": [
           {
            "colorbar": {
             "outlinewidth": 0,
             "ticks": ""
            },
            "type": "contourcarpet"
           }
          ],
          "heatmap": [
           {
            "colorbar": {
             "outlinewidth": 0,
             "ticks": ""
            },
            "colorscale": [
             [
              0,
              "#0d0887"
             ],
             [
              0.1111111111111111,
              "#46039f"
             ],
             [
              0.2222222222222222,
              "#7201a8"
             ],
             [
              0.3333333333333333,
              "#9c179e"
             ],
             [
              0.4444444444444444,
              "#bd3786"
             ],
             [
              0.5555555555555556,
              "#d8576b"
             ],
             [
              0.6666666666666666,
              "#ed7953"
             ],
             [
              0.7777777777777778,
              "#fb9f3a"
             ],
             [
              0.8888888888888888,
              "#fdca26"
             ],
             [
              1,
              "#f0f921"
             ]
            ],
            "type": "heatmap"
           }
          ],
          "heatmapgl": [
           {
            "colorbar": {
             "outlinewidth": 0,
             "ticks": ""
            },
            "colorscale": [
             [
              0,
              "#0d0887"
             ],
             [
              0.1111111111111111,
              "#46039f"
             ],
             [
              0.2222222222222222,
              "#7201a8"
             ],
             [
              0.3333333333333333,
              "#9c179e"
             ],
             [
              0.4444444444444444,
              "#bd3786"
             ],
             [
              0.5555555555555556,
              "#d8576b"
             ],
             [
              0.6666666666666666,
              "#ed7953"
             ],
             [
              0.7777777777777778,
              "#fb9f3a"
             ],
             [
              0.8888888888888888,
              "#fdca26"
             ],
             [
              1,
              "#f0f921"
             ]
            ],
            "type": "heatmapgl"
           }
          ],
          "histogram": [
           {
            "marker": {
             "pattern": {
              "fillmode": "overlay",
              "size": 10,
              "solidity": 0.2
             }
            },
            "type": "histogram"
           }
          ],
          "histogram2d": [
           {
            "colorbar": {
             "outlinewidth": 0,
             "ticks": ""
            },
            "colorscale": [
             [
              0,
              "#0d0887"
             ],
             [
              0.1111111111111111,
              "#46039f"
             ],
             [
              0.2222222222222222,
              "#7201a8"
             ],
             [
              0.3333333333333333,
              "#9c179e"
             ],
             [
              0.4444444444444444,
              "#bd3786"
             ],
             [
              0.5555555555555556,
              "#d8576b"
             ],
             [
              0.6666666666666666,
              "#ed7953"
             ],
             [
              0.7777777777777778,
              "#fb9f3a"
             ],
             [
              0.8888888888888888,
              "#fdca26"
             ],
             [
              1,
              "#f0f921"
             ]
            ],
            "type": "histogram2d"
           }
          ],
          "histogram2dcontour": [
           {
            "colorbar": {
             "outlinewidth": 0,
             "ticks": ""
            },
            "colorscale": [
             [
              0,
              "#0d0887"
             ],
             [
              0.1111111111111111,
              "#46039f"
             ],
             [
              0.2222222222222222,
              "#7201a8"
             ],
             [
              0.3333333333333333,
              "#9c179e"
             ],
             [
              0.4444444444444444,
              "#bd3786"
             ],
             [
              0.5555555555555556,
              "#d8576b"
             ],
             [
              0.6666666666666666,
              "#ed7953"
             ],
             [
              0.7777777777777778,
              "#fb9f3a"
             ],
             [
              0.8888888888888888,
              "#fdca26"
             ],
             [
              1,
              "#f0f921"
             ]
            ],
            "type": "histogram2dcontour"
           }
          ],
          "mesh3d": [
           {
            "colorbar": {
             "outlinewidth": 0,
             "ticks": ""
            },
            "type": "mesh3d"
           }
          ],
          "parcoords": [
           {
            "line": {
             "colorbar": {
              "outlinewidth": 0,
              "ticks": ""
             }
            },
            "type": "parcoords"
           }
          ],
          "pie": [
           {
            "automargin": true,
            "type": "pie"
           }
          ],
          "scatter": [
           {
            "fillpattern": {
             "fillmode": "overlay",
             "size": 10,
             "solidity": 0.2
            },
            "type": "scatter"
           }
          ],
          "scatter3d": [
           {
            "line": {
             "colorbar": {
              "outlinewidth": 0,
              "ticks": ""
             }
            },
            "marker": {
             "colorbar": {
              "outlinewidth": 0,
              "ticks": ""
             }
            },
            "type": "scatter3d"
           }
          ],
          "scattercarpet": [
           {
            "marker": {
             "colorbar": {
              "outlinewidth": 0,
              "ticks": ""
             }
            },
            "type": "scattercarpet"
           }
          ],
          "scattergeo": [
           {
            "marker": {
             "colorbar": {
              "outlinewidth": 0,
              "ticks": ""
             }
            },
            "type": "scattergeo"
           }
          ],
          "scattergl": [
           {
            "marker": {
             "colorbar": {
              "outlinewidth": 0,
              "ticks": ""
             }
            },
            "type": "scattergl"
           }
          ],
          "scattermapbox": [
           {
            "marker": {
             "colorbar": {
              "outlinewidth": 0,
              "ticks": ""
             }
            },
            "type": "scattermapbox"
           }
          ],
          "scatterpolar": [
           {
            "marker": {
             "colorbar": {
              "outlinewidth": 0,
              "ticks": ""
             }
            },
            "type": "scatterpolar"
           }
          ],
          "scatterpolargl": [
           {
            "marker": {
             "colorbar": {
              "outlinewidth": 0,
              "ticks": ""
             }
            },
            "type": "scatterpolargl"
           }
          ],
          "scatterternary": [
           {
            "marker": {
             "colorbar": {
              "outlinewidth": 0,
              "ticks": ""
             }
            },
            "type": "scatterternary"
           }
          ],
          "surface": [
           {
            "colorbar": {
             "outlinewidth": 0,
             "ticks": ""
            },
            "colorscale": [
             [
              0,
              "#0d0887"
             ],
             [
              0.1111111111111111,
              "#46039f"
             ],
             [
              0.2222222222222222,
              "#7201a8"
             ],
             [
              0.3333333333333333,
              "#9c179e"
             ],
             [
              0.4444444444444444,
              "#bd3786"
             ],
             [
              0.5555555555555556,
              "#d8576b"
             ],
             [
              0.6666666666666666,
              "#ed7953"
             ],
             [
              0.7777777777777778,
              "#fb9f3a"
             ],
             [
              0.8888888888888888,
              "#fdca26"
             ],
             [
              1,
              "#f0f921"
             ]
            ],
            "type": "surface"
           }
          ],
          "table": [
           {
            "cells": {
             "fill": {
              "color": "#EBF0F8"
             },
             "line": {
              "color": "white"
             }
            },
            "header": {
             "fill": {
              "color": "#C8D4E3"
             },
             "line": {
              "color": "white"
             }
            },
            "type": "table"
           }
          ]
         },
         "layout": {
          "annotationdefaults": {
           "arrowcolor": "#2a3f5f",
           "arrowhead": 0,
           "arrowwidth": 1
          },
          "autotypenumbers": "strict",
          "coloraxis": {
           "colorbar": {
            "outlinewidth": 0,
            "ticks": ""
           }
          },
          "colorscale": {
           "diverging": [
            [
             0,
             "#8e0152"
            ],
            [
             0.1,
             "#c51b7d"
            ],
            [
             0.2,
             "#de77ae"
            ],
            [
             0.3,
             "#f1b6da"
            ],
            [
             0.4,
             "#fde0ef"
            ],
            [
             0.5,
             "#f7f7f7"
            ],
            [
             0.6,
             "#e6f5d0"
            ],
            [
             0.7,
             "#b8e186"
            ],
            [
             0.8,
             "#7fbc41"
            ],
            [
             0.9,
             "#4d9221"
            ],
            [
             1,
             "#276419"
            ]
           ],
           "sequential": [
            [
             0,
             "#0d0887"
            ],
            [
             0.1111111111111111,
             "#46039f"
            ],
            [
             0.2222222222222222,
             "#7201a8"
            ],
            [
             0.3333333333333333,
             "#9c179e"
            ],
            [
             0.4444444444444444,
             "#bd3786"
            ],
            [
             0.5555555555555556,
             "#d8576b"
            ],
            [
             0.6666666666666666,
             "#ed7953"
            ],
            [
             0.7777777777777778,
             "#fb9f3a"
            ],
            [
             0.8888888888888888,
             "#fdca26"
            ],
            [
             1,
             "#f0f921"
            ]
           ],
           "sequentialminus": [
            [
             0,
             "#0d0887"
            ],
            [
             0.1111111111111111,
             "#46039f"
            ],
            [
             0.2222222222222222,
             "#7201a8"
            ],
            [
             0.3333333333333333,
             "#9c179e"
            ],
            [
             0.4444444444444444,
             "#bd3786"
            ],
            [
             0.5555555555555556,
             "#d8576b"
            ],
            [
             0.6666666666666666,
             "#ed7953"
            ],
            [
             0.7777777777777778,
             "#fb9f3a"
            ],
            [
             0.8888888888888888,
             "#fdca26"
            ],
            [
             1,
             "#f0f921"
            ]
           ]
          },
          "colorway": [
           "#636efa",
           "#EF553B",
           "#00cc96",
           "#ab63fa",
           "#FFA15A",
           "#19d3f3",
           "#FF6692",
           "#B6E880",
           "#FF97FF",
           "#FECB52"
          ],
          "font": {
           "color": "#2a3f5f"
          },
          "geo": {
           "bgcolor": "white",
           "lakecolor": "white",
           "landcolor": "#E5ECF6",
           "showlakes": true,
           "showland": true,
           "subunitcolor": "white"
          },
          "hoverlabel": {
           "align": "left"
          },
          "hovermode": "closest",
          "mapbox": {
           "style": "light"
          },
          "paper_bgcolor": "white",
          "plot_bgcolor": "#E5ECF6",
          "polar": {
           "angularaxis": {
            "gridcolor": "white",
            "linecolor": "white",
            "ticks": ""
           },
           "bgcolor": "#E5ECF6",
           "radialaxis": {
            "gridcolor": "white",
            "linecolor": "white",
            "ticks": ""
           }
          },
          "scene": {
           "xaxis": {
            "backgroundcolor": "#E5ECF6",
            "gridcolor": "white",
            "gridwidth": 2,
            "linecolor": "white",
            "showbackground": true,
            "ticks": "",
            "zerolinecolor": "white"
           },
           "yaxis": {
            "backgroundcolor": "#E5ECF6",
            "gridcolor": "white",
            "gridwidth": 2,
            "linecolor": "white",
            "showbackground": true,
            "ticks": "",
            "zerolinecolor": "white"
           },
           "zaxis": {
            "backgroundcolor": "#E5ECF6",
            "gridcolor": "white",
            "gridwidth": 2,
            "linecolor": "white",
            "showbackground": true,
            "ticks": "",
            "zerolinecolor": "white"
           }
          },
          "shapedefaults": {
           "line": {
            "color": "#2a3f5f"
           }
          },
          "ternary": {
           "aaxis": {
            "gridcolor": "white",
            "linecolor": "white",
            "ticks": ""
           },
           "baxis": {
            "gridcolor": "white",
            "linecolor": "white",
            "ticks": ""
           },
           "bgcolor": "#E5ECF6",
           "caxis": {
            "gridcolor": "white",
            "linecolor": "white",
            "ticks": ""
           }
          },
          "title": {
           "x": 0.05
          },
          "xaxis": {
           "automargin": true,
           "gridcolor": "white",
           "linecolor": "white",
           "ticks": "",
           "title": {
            "standoff": 15
           },
           "zerolinecolor": "white",
           "zerolinewidth": 2
          },
          "yaxis": {
           "automargin": true,
           "gridcolor": "white",
           "linecolor": "white",
           "ticks": "",
           "title": {
            "standoff": 15
           },
           "zerolinecolor": "white",
           "zerolinewidth": 2
          }
         }
        },
        "title": {
         "text": "Optimization History Plot"
        },
        "xaxis": {
         "title": {
          "text": "Trial"
         }
        },
        "yaxis": {
         "title": {
          "text": "Objective Value"
         }
        }
       }
      }
     },
     "metadata": {},
     "output_type": "display_data"
    }
   ],
   "source": [
    "optuna.visualization.plot_optimization_history(study)"
   ]
  },
  {
   "cell_type": "code",
   "execution_count": 25,
   "metadata": {},
   "outputs": [
    {
     "data": {
      "application/vnd.plotly.v1+json": {
       "config": {
        "plotlyServerURL": "https://plot.ly"
       },
       "data": [
        {
         "dimensions": [
          {
           "label": "Objective Value",
           "range": [
            0.7115256495669554,
            0.7475016655562958
           ],
           "values": [
            0.7438374417055297,
            0.7425049966688874,
            0.7455029980013325,
            0.7468354430379747,
            0.7411725516322452,
            0.734510326449034,
            0.7365089940039974,
            0.7411725516322452,
            0.7455029980013325,
            0.7441705529646903,
            0.7465023317788141,
            0.7455029980013325,
            0.7301798800799467,
            0.7441705529646903,
            0.7445036642238507,
            0.7271818787475016,
            0.7455029980013325,
            0.7245169886742172,
            0.7421718854097269,
            0.7465023317788141,
            0.7471685542971352,
            0.7418387741505663,
            0.7355096602265156,
            0.7275149900066622,
            0.7388407728181212,
            0.7465023317788141,
            0.7411725516322452,
            0.7301798800799467,
            0.7218520986009327,
            0.7425049966688874,
            0.7465023317788141,
            0.7418387741505663,
            0.7465023317788141,
            0.7225183211192538,
            0.7408394403730846,
            0.7275149900066622,
            0.7408394403730846,
            0.7425049966688874,
            0.7455029980013325,
            0.7258494337108594,
            0.7415056628914057,
            0.7451698867421719,
            0.7411725516322452,
            0.7275149900066622,
            0.739840106595603,
            0.7465023317788141,
            0.7465023317788141,
            0.7421718854097269,
            0.7448367754830113,
            0.7428381079280479,
            0.7318454363757495,
            0.7158560959360426,
            0.72618254497002,
            0.7401732178547635,
            0.7451698867421719,
            0.7235176548967355,
            0.723850766155896,
            0.734510326449034,
            0.7455029980013325,
            0.7411725516322452,
            0.7425049966688874,
            0.7401732178547635,
            0.7418387741505663,
            0.7395069953364424,
            0.739840106595603,
            0.7421718854097269,
            0.7465023317788141,
            0.7395069953364424,
            0.7471685542971352,
            0.7245169886742172,
            0.7471685542971352,
            0.7451698867421719,
            0.7181878747501665,
            0.739840106595603,
            0.7391738840772818,
            0.7441705529646903,
            0.7288474350433045,
            0.7451698867421719,
            0.7395069953364424,
            0.7418387741505663,
            0.7445036642238507,
            0.7468354430379747,
            0.7441705529646903,
            0.7468354430379747,
            0.7418387741505663,
            0.7335109926715523,
            0.7408394403730846,
            0.7151898734177216,
            0.7428381079280479,
            0.7468354430379747,
            0.7455029980013325,
            0.7245169886742172,
            0.7468354430379747,
            0.7451698867421719,
            0.7415056628914057,
            0.745836109260493,
            0.7465023317788141,
            0.7428381079280479,
            0.7418387741505663,
            0.7425049966688874,
            0.7418387741505663,
            0.7161892071952032,
            0.7468354430379747,
            0.7415056628914057,
            0.7408394403730846,
            0.7435043304463691,
            0.7338441039307129,
            0.745836109260493,
            0.7395069953364424,
            0.7395069953364424,
            0.723850766155896,
            0.7401732178547635,
            0.7465023317788141,
            0.7418387741505663,
            0.7461692205196535,
            0.739840106595603,
            0.7281812125249834,
            0.7415056628914057,
            0.7471685542971352,
            0.7391738840772818,
            0.7418387741505663,
            0.7451698867421719,
            0.7328447701532311,
            0.72618254497002,
            0.7448367754830113,
            0.7418387741505663,
            0.7421718854097269,
            0.7381745502998002,
            0.7425049966688874,
            0.7421718854097269,
            0.7455029980013325,
            0.7421718854097269,
            0.7431712191872085,
            0.740506329113924,
            0.7418387741505663,
            0.7468354430379747,
            0.7218520986009327,
            0.7388407728181212,
            0.7408394403730846,
            0.7428381079280479,
            0.7451698867421719,
            0.7468354430379747,
            0.7468354430379747,
            0.7465023317788141,
            0.7415056628914057,
            0.7255163224516988,
            0.7425049966688874,
            0.7411725516322452,
            0.7455029980013325,
            0.7418387741505663,
            0.7471685542971352,
            0.734510326449034,
            0.7475016655562958,
            0.7425049966688874,
            0.7468354430379747,
            0.7438374417055297,
            0.7471685542971352,
            0.7408394403730846,
            0.7455029980013325,
            0.745836109260493,
            0.7468354430379747,
            0.7465023317788141,
            0.7441705529646903,
            0.7421718854097269,
            0.7415056628914057,
            0.7411725516322452,
            0.7418387741505663,
            0.7455029980013325,
            0.7425049966688874,
            0.7411725516322452,
            0.7411725516322452,
            0.7421718854097269,
            0.7251832111925383,
            0.7415056628914057,
            0.7415056628914057,
            0.7465023317788141,
            0.7468354430379747,
            0.7115256495669554,
            0.7465023317788141,
            0.7241838774150566,
            0.7428381079280479,
            0.7465023317788141,
            0.7311792138574283,
            0.7468354430379747,
            0.7421718854097269,
            0.7275149900066622,
            0.7395069953364424,
            0.7438374417055297,
            0.7448367754830113,
            0.7468354430379747,
            0.7471685542971352,
            0.7418387741505663,
            0.7385076615589606,
            0.7415056628914057,
            0.7361758827448368,
            0.7415056628914057,
            0.7418387741505663,
            0.7411725516322452,
            0.7468354430379747,
            0.739840106595603
           ]
          },
          {
           "label": "C",
           "range": [
            -1.9942098717915153,
            0.9778773203764494
           ],
           "ticktext": [
            "0.0101",
            "0.1",
            "1",
            "9.5"
           ],
           "tickvals": [
            -1.9942098717915153,
            -1,
            0,
            0.9778773203764494
           ],
           "values": [
            0.2963792781907207,
            -0.14584295824157226,
            -0.231254404355856,
            0.46739901731029926,
            -0.7352104215015206,
            -1.6423199174476317,
            -1.513962562991753,
            -1.4652582002895698,
            0.7048065784221423,
            -0.6027112205628004,
            0.7492231661975187,
            0.9175533412794812,
            -1.6958899173891147,
            0.39580062205211913,
            -0.4893956789665832,
            -1.77662238540649,
            0.6347975656278139,
            -1.9849252288227786,
            -0.18330441568810357,
            0.8636632940477899,
            -0.1183025007282324,
            -1.1438589921937725,
            -1.7093451071480197,
            -1.6329583107976604,
            -1.4444212475499825,
            0.3831379190916877,
            -0.34579278738198327,
            -1.57803956249017,
            -1.8496429110098505,
            -0.1482755187292046,
            0.8881644086565472,
            -0.18473898163705055,
            0.8597232501255296,
            -1.7965420855106748,
            -1.062095361341233,
            -1.7571018415482162,
            -0.9690631146868952,
            -0.04696572465384766,
            0.9304950551380277,
            -1.9096227152342757,
            -0.5758365103593681,
            -0.14300979110475617,
            -0.229088016045412,
            -1.6546983409460794,
            -0.8732646823068929,
            0.7997261630298549,
            0.8662200870484532,
            -0.04006580024245228,
            -0.16021123344456117,
            0.1484429223616925,
            -1.5654205119604003,
            -1.9196343855654399,
            -1.6700675609310007,
            -0.7493471993325204,
            -0.39646195142220847,
            -1.851598844867683,
            -1.8531013981704683,
            -1.6407812690624002,
            0.6834395984036902,
            -0.951977172337714,
            -0.533575658448123,
            -1.3688374157005374,
            -0.29488612475097775,
            -0.7941264778817645,
            -0.7843983475631838,
            -1.1826811945615723,
            0.971444602313859,
            -0.8593911192557446,
            -0.11862175392499201,
            -1.733523764257824,
            -0.08637275030211013,
            0.8209466222904682,
            -1.9345796326446507,
            -0.8096023958096424,
            -1.3164776789054435,
            0.41529692081004826,
            -1.7073136356244882,
            -0.2910533208673174,
            -1.4266634066733213,
            -1.0569509870420335,
            0.4191390559595439,
            0.5346121317290886,
            0.3850333648392431,
            0.6378276065642108,
            -1.024596544385743,
            -1.5527872081342458,
            -1.152078666852027,
            -1.9064113027345535,
            0.08579339655665233,
            -0.057926767195687685,
            0.8154932114087504,
            -1.973321529547626,
            0.3952084167282694,
            0.5227570791484446,
            -1.2175839300944502,
            0.6578175925759682,
            0.885346176063772,
            -0.49228294882147783,
            -0.5660672498652817,
            -0.8046837837292143,
            -0.6158832127284382,
            -1.9698245370629583,
            0.6142400152025171,
            -0.3383207443180041,
            -0.9701755254406519,
            -0.7467831989880875,
            -1.6281304530210814,
            0.9778773203764494,
            -1.4926678209868822,
            -1.5164517023731887,
            -1.7667925351776517,
            -1.3546865200465659,
            0.5571039256904401,
            -1.1932249048114962,
            -0.07738596809530443,
            -0.8727648666537942,
            -1.8692371237243461,
            -0.650475301134666,
            -0.09429715100581909,
            -1.3645733075166069,
            -0.24708376350592873,
            0.5235016820086255,
            -1.7411476266357866,
            -1.7896874721011304,
            -0.47417889682423203,
            -0.9767284543115139,
            -0.4076641222794215,
            -1.6674690124915532,
            -0.1520824181521534,
            -1.2965840603193641,
            -0.34047649516331674,
            -1.0278020269073294,
            0.07424082511334347,
            -1.5446255157883113,
            -0.24973958247160738,
            0.5849954267425305,
            -1.9011637152565697,
            -0.8225207794083819,
            -0.23950102503823936,
            -0.7943814289014934,
            0.5410983936903679,
            0.4522281027644029,
            0.513783862791626,
            0.5580836510999382,
            -0.25328791093636743,
            -1.797581035992311,
            -0.5438856266249156,
            -0.37068636249383086,
            0.9233356901452938,
            -0.8976964148373276,
            0.18035643254608344,
            -1.6297801414373847,
            0.027501698592262383,
            0.16609024576410858,
            0.5005457945369056,
            0.3285742658723915,
            0.07000751167609526,
            -1.0560630850952522,
            -0.23173112700807016,
            -0.08846369713282011,
            0.14576058570842856,
            0.9590602526146534,
            0.37511246961884964,
            -1.1692531846518335,
            -1.5584025176551979,
            -1.1006338049411128,
            -1.1633301486808103,
            0.8593021040591982,
            -0.054461211962655014,
            -1.2203638876313914,
            -1.1121615610923665,
            -1.0515957320208011,
            -1.9942098717915153,
            -1.1290529814273664,
            -1.1058601870077138,
            0.6750974297423278,
            -0.1795849148025853,
            -1.9915615654645555,
            0.9749711319107783,
            -1.9884274185414863,
            -0.7145146701162819,
            0.8203567109311835,
            -1.7646430169614973,
            0.2920895867182666,
            -1.0769535823771468,
            -1.8757091879282108,
            -1.4520305014086055,
            0.32815870845048156,
            0.4901622652087128,
            0.6699082341432435,
            0.16200880874145102,
            -0.5777765692926662,
            -1.4625777340437323,
            -0.2843134040762516,
            -1.6931136053115563,
            -1.1282510068645668,
            -0.41007519966178807,
            -0.8889132709364334,
            0.6280311208196896,
            -1.3295322837067607
           ]
          },
          {
           "label": "max_iter",
           "range": [
            107,
            999
           ],
           "values": [
            354,
            471,
            981,
            664,
            412,
            637,
            593,
            316,
            555,
            891,
            311,
            315,
            661,
            446,
            214,
            642,
            490,
            216,
            968,
            906,
            457,
            405,
            121,
            999,
            803,
            935,
            500,
            861,
            337,
            801,
            788,
            295,
            533,
            749,
            640,
            382,
            522,
            886,
            366,
            910,
            372,
            675,
            718,
            189,
            311,
            537,
            409,
            403,
            138,
            848,
            265,
            179,
            530,
            498,
            420,
            510,
            177,
            456,
            982,
            297,
            710,
            671,
            252,
            582,
            527,
            519,
            501,
            305,
            545,
            383,
            681,
            384,
            511,
            261,
            756,
            872,
            562,
            793,
            752,
            767,
            143,
            301,
            107,
            730,
            327,
            465,
            484,
            548,
            810,
            270,
            442,
            619,
            533,
            513,
            925,
            291,
            194,
            935,
            248,
            211,
            307,
            407,
            633,
            347,
            193,
            491,
            406,
            999,
            601,
            546,
            177,
            951,
            416,
            408,
            678,
            346,
            468,
            168,
            795,
            242,
            786,
            157,
            294,
            665,
            278,
            164,
            195,
            525,
            153,
            648,
            533,
            934,
            237,
            988,
            217,
            133,
            827,
            671,
            643,
            690,
            503,
            857,
            339,
            342,
            987,
            297,
            146,
            373,
            219,
            939,
            518,
            620,
            963,
            699,
            902,
            515,
            768,
            490,
            176,
            884,
            636,
            925,
            817,
            724,
            517,
            381,
            668,
            735,
            281,
            397,
            873,
            499,
            615,
            533,
            498,
            518,
            151,
            849,
            136,
            263,
            960,
            621,
            184,
            365,
            197,
            964,
            394,
            641,
            524,
            280,
            433,
            973,
            725,
            430,
            557,
            682,
            228,
            937,
            273,
            547
           ]
          },
          {
           "label": "penalty",
           "range": [
            0,
            1
           ],
           "ticktext": [
            "l2",
            "l1"
           ],
           "tickvals": [
            0,
            1
           ],
           "values": [
            0,
            0,
            1,
            1,
            1,
            1,
            1,
            1,
            0,
            1,
            1,
            0,
            1,
            0,
            1,
            1,
            0,
            0,
            0,
            1,
            1,
            1,
            0,
            1,
            1,
            1,
            0,
            1,
            1,
            0,
            1,
            0,
            1,
            1,
            1,
            1,
            1,
            0,
            0,
            0,
            0,
            1,
            0,
            1,
            1,
            1,
            1,
            0,
            1,
            0,
            1,
            1,
            1,
            1,
            1,
            1,
            1,
            1,
            0,
            0,
            0,
            0,
            0,
            1,
            1,
            0,
            1,
            1,
            1,
            1,
            1,
            0,
            1,
            1,
            1,
            0,
            1,
            1,
            1,
            0,
            0,
            1,
            0,
            1,
            0,
            1,
            1,
            1,
            0,
            1,
            0,
            0,
            1,
            0,
            0,
            0,
            1,
            0,
            0,
            0,
            0,
            1,
            1,
            0,
            1,
            0,
            1,
            0,
            1,
            0,
            1,
            0,
            1,
            0,
            1,
            1,
            0,
            1,
            1,
            1,
            0,
            0,
            0,
            1,
            1,
            0,
            0,
            0,
            0,
            0,
            1,
            0,
            0,
            0,
            0,
            1,
            1,
            1,
            0,
            0,
            0,
            1,
            1,
            1,
            0,
            1,
            0,
            0,
            0,
            0,
            1,
            1,
            1,
            0,
            1,
            0,
            1,
            1,
            1,
            1,
            1,
            1,
            0,
            1,
            0,
            1,
            0,
            0,
            0,
            1,
            1,
            0,
            0,
            1,
            1,
            1,
            1,
            1,
            1,
            0,
            0,
            1,
            0,
            1,
            0,
            0,
            0,
            0,
            0,
            1,
            1,
            0,
            1,
            0,
            0,
            0,
            0,
            0,
            1,
            1
           ]
          },
          {
           "label": "solver",
           "range": [
            0,
            1
           ],
           "ticktext": [
            "saga",
            "liblinear"
           ],
           "tickvals": [
            0,
            1
           ],
           "values": [
            0,
            0,
            1,
            1,
            1,
            1,
            0,
            1,
            0,
            0,
            0,
            0,
            1,
            0,
            1,
            1,
            1,
            0,
            1,
            1,
            0,
            1,
            0,
            0,
            0,
            0,
            0,
            0,
            0,
            0,
            1,
            0,
            1,
            0,
            1,
            1,
            0,
            1,
            0,
            0,
            0,
            1,
            0,
            0,
            0,
            0,
            0,
            0,
            1,
            0,
            0,
            0,
            0,
            0,
            1,
            1,
            1,
            1,
            0,
            1,
            1,
            0,
            1,
            0,
            1,
            1,
            1,
            0,
            0,
            0,
            0,
            0,
            1,
            0,
            0,
            1,
            1,
            1,
            0,
            1,
            1,
            1,
            1,
            1,
            0,
            0,
            0,
            0,
            1,
            1,
            1,
            0,
            1,
            1,
            0,
            0,
            0,
            1,
            1,
            0,
            0,
            1,
            1,
            0,
            0,
            0,
            1,
            1,
            1,
            1,
            0,
            0,
            0,
            1,
            1,
            0,
            0,
            1,
            0,
            1,
            1,
            0,
            1,
            1,
            1,
            0,
            1,
            0,
            0,
            1,
            1,
            0,
            1,
            1,
            1,
            1,
            1,
            1,
            0,
            1,
            1,
            0,
            1,
            0,
            0,
            1,
            1,
            0,
            0,
            0,
            1,
            1,
            0,
            1,
            1,
            0,
            0,
            0,
            1,
            1,
            0,
            1,
            0,
            1,
            1,
            1,
            1,
            1,
            1,
            1,
            1,
            1,
            1,
            0,
            1,
            1,
            0,
            0,
            0,
            0,
            0,
            0,
            1,
            0,
            0,
            1,
            1,
            0,
            0,
            1,
            1,
            1,
            0,
            1,
            1,
            0,
            0,
            1,
            1,
            1
           ]
          }
         ],
         "labelangle": 30,
         "labelside": "bottom",
         "line": {
          "color": [
           0.7438374417055297,
           0.7425049966688874,
           0.7455029980013325,
           0.7468354430379747,
           0.7411725516322452,
           0.734510326449034,
           0.7365089940039974,
           0.7411725516322452,
           0.7455029980013325,
           0.7441705529646903,
           0.7465023317788141,
           0.7455029980013325,
           0.7301798800799467,
           0.7441705529646903,
           0.7445036642238507,
           0.7271818787475016,
           0.7455029980013325,
           0.7245169886742172,
           0.7421718854097269,
           0.7465023317788141,
           0.7471685542971352,
           0.7418387741505663,
           0.7355096602265156,
           0.7275149900066622,
           0.7388407728181212,
           0.7465023317788141,
           0.7411725516322452,
           0.7301798800799467,
           0.7218520986009327,
           0.7425049966688874,
           0.7465023317788141,
           0.7418387741505663,
           0.7465023317788141,
           0.7225183211192538,
           0.7408394403730846,
           0.7275149900066622,
           0.7408394403730846,
           0.7425049966688874,
           0.7455029980013325,
           0.7258494337108594,
           0.7415056628914057,
           0.7451698867421719,
           0.7411725516322452,
           0.7275149900066622,
           0.739840106595603,
           0.7465023317788141,
           0.7465023317788141,
           0.7421718854097269,
           0.7448367754830113,
           0.7428381079280479,
           0.7318454363757495,
           0.7158560959360426,
           0.72618254497002,
           0.7401732178547635,
           0.7451698867421719,
           0.7235176548967355,
           0.723850766155896,
           0.734510326449034,
           0.7455029980013325,
           0.7411725516322452,
           0.7425049966688874,
           0.7401732178547635,
           0.7418387741505663,
           0.7395069953364424,
           0.739840106595603,
           0.7421718854097269,
           0.7465023317788141,
           0.7395069953364424,
           0.7471685542971352,
           0.7245169886742172,
           0.7471685542971352,
           0.7451698867421719,
           0.7181878747501665,
           0.739840106595603,
           0.7391738840772818,
           0.7441705529646903,
           0.7288474350433045,
           0.7451698867421719,
           0.7395069953364424,
           0.7418387741505663,
           0.7445036642238507,
           0.7468354430379747,
           0.7441705529646903,
           0.7468354430379747,
           0.7418387741505663,
           0.7335109926715523,
           0.7408394403730846,
           0.7151898734177216,
           0.7428381079280479,
           0.7468354430379747,
           0.7455029980013325,
           0.7245169886742172,
           0.7468354430379747,
           0.7451698867421719,
           0.7415056628914057,
           0.745836109260493,
           0.7465023317788141,
           0.7428381079280479,
           0.7418387741505663,
           0.7425049966688874,
           0.7418387741505663,
           0.7161892071952032,
           0.7468354430379747,
           0.7415056628914057,
           0.7408394403730846,
           0.7435043304463691,
           0.7338441039307129,
           0.745836109260493,
           0.7395069953364424,
           0.7395069953364424,
           0.723850766155896,
           0.7401732178547635,
           0.7465023317788141,
           0.7418387741505663,
           0.7461692205196535,
           0.739840106595603,
           0.7281812125249834,
           0.7415056628914057,
           0.7471685542971352,
           0.7391738840772818,
           0.7418387741505663,
           0.7451698867421719,
           0.7328447701532311,
           0.72618254497002,
           0.7448367754830113,
           0.7418387741505663,
           0.7421718854097269,
           0.7381745502998002,
           0.7425049966688874,
           0.7421718854097269,
           0.7455029980013325,
           0.7421718854097269,
           0.7431712191872085,
           0.740506329113924,
           0.7418387741505663,
           0.7468354430379747,
           0.7218520986009327,
           0.7388407728181212,
           0.7408394403730846,
           0.7428381079280479,
           0.7451698867421719,
           0.7468354430379747,
           0.7468354430379747,
           0.7465023317788141,
           0.7415056628914057,
           0.7255163224516988,
           0.7425049966688874,
           0.7411725516322452,
           0.7455029980013325,
           0.7418387741505663,
           0.7471685542971352,
           0.734510326449034,
           0.7475016655562958,
           0.7425049966688874,
           0.7468354430379747,
           0.7438374417055297,
           0.7471685542971352,
           0.7408394403730846,
           0.7455029980013325,
           0.745836109260493,
           0.7468354430379747,
           0.7465023317788141,
           0.7441705529646903,
           0.7421718854097269,
           0.7415056628914057,
           0.7411725516322452,
           0.7418387741505663,
           0.7455029980013325,
           0.7425049966688874,
           0.7411725516322452,
           0.7411725516322452,
           0.7421718854097269,
           0.7251832111925383,
           0.7415056628914057,
           0.7415056628914057,
           0.7465023317788141,
           0.7468354430379747,
           0.7115256495669554,
           0.7465023317788141,
           0.7241838774150566,
           0.7428381079280479,
           0.7465023317788141,
           0.7311792138574283,
           0.7468354430379747,
           0.7421718854097269,
           0.7275149900066622,
           0.7395069953364424,
           0.7438374417055297,
           0.7448367754830113,
           0.7468354430379747,
           0.7471685542971352,
           0.7418387741505663,
           0.7385076615589606,
           0.7415056628914057,
           0.7361758827448368,
           0.7415056628914057,
           0.7418387741505663,
           0.7411725516322452,
           0.7468354430379747,
           0.739840106595603
          ],
          "colorbar": {
           "title": {
            "text": "Objective Value"
           }
          },
          "colorscale": [
           [
            0,
            "rgb(247,251,255)"
           ],
           [
            0.125,
            "rgb(222,235,247)"
           ],
           [
            0.25,
            "rgb(198,219,239)"
           ],
           [
            0.375,
            "rgb(158,202,225)"
           ],
           [
            0.5,
            "rgb(107,174,214)"
           ],
           [
            0.625,
            "rgb(66,146,198)"
           ],
           [
            0.75,
            "rgb(33,113,181)"
           ],
           [
            0.875,
            "rgb(8,81,156)"
           ],
           [
            1,
            "rgb(8,48,107)"
           ]
          ],
          "reversescale": false,
          "showscale": true
         },
         "type": "parcoords"
        }
       ],
       "layout": {
        "template": {
         "data": {
          "bar": [
           {
            "error_x": {
             "color": "#2a3f5f"
            },
            "error_y": {
             "color": "#2a3f5f"
            },
            "marker": {
             "line": {
              "color": "#E5ECF6",
              "width": 0.5
             },
             "pattern": {
              "fillmode": "overlay",
              "size": 10,
              "solidity": 0.2
             }
            },
            "type": "bar"
           }
          ],
          "barpolar": [
           {
            "marker": {
             "line": {
              "color": "#E5ECF6",
              "width": 0.5
             },
             "pattern": {
              "fillmode": "overlay",
              "size": 10,
              "solidity": 0.2
             }
            },
            "type": "barpolar"
           }
          ],
          "carpet": [
           {
            "aaxis": {
             "endlinecolor": "#2a3f5f",
             "gridcolor": "white",
             "linecolor": "white",
             "minorgridcolor": "white",
             "startlinecolor": "#2a3f5f"
            },
            "baxis": {
             "endlinecolor": "#2a3f5f",
             "gridcolor": "white",
             "linecolor": "white",
             "minorgridcolor": "white",
             "startlinecolor": "#2a3f5f"
            },
            "type": "carpet"
           }
          ],
          "choropleth": [
           {
            "colorbar": {
             "outlinewidth": 0,
             "ticks": ""
            },
            "type": "choropleth"
           }
          ],
          "contour": [
           {
            "colorbar": {
             "outlinewidth": 0,
             "ticks": ""
            },
            "colorscale": [
             [
              0,
              "#0d0887"
             ],
             [
              0.1111111111111111,
              "#46039f"
             ],
             [
              0.2222222222222222,
              "#7201a8"
             ],
             [
              0.3333333333333333,
              "#9c179e"
             ],
             [
              0.4444444444444444,
              "#bd3786"
             ],
             [
              0.5555555555555556,
              "#d8576b"
             ],
             [
              0.6666666666666666,
              "#ed7953"
             ],
             [
              0.7777777777777778,
              "#fb9f3a"
             ],
             [
              0.8888888888888888,
              "#fdca26"
             ],
             [
              1,
              "#f0f921"
             ]
            ],
            "type": "contour"
           }
          ],
          "contourcarpet": [
           {
            "colorbar": {
             "outlinewidth": 0,
             "ticks": ""
            },
            "type": "contourcarpet"
           }
          ],
          "heatmap": [
           {
            "colorbar": {
             "outlinewidth": 0,
             "ticks": ""
            },
            "colorscale": [
             [
              0,
              "#0d0887"
             ],
             [
              0.1111111111111111,
              "#46039f"
             ],
             [
              0.2222222222222222,
              "#7201a8"
             ],
             [
              0.3333333333333333,
              "#9c179e"
             ],
             [
              0.4444444444444444,
              "#bd3786"
             ],
             [
              0.5555555555555556,
              "#d8576b"
             ],
             [
              0.6666666666666666,
              "#ed7953"
             ],
             [
              0.7777777777777778,
              "#fb9f3a"
             ],
             [
              0.8888888888888888,
              "#fdca26"
             ],
             [
              1,
              "#f0f921"
             ]
            ],
            "type": "heatmap"
           }
          ],
          "heatmapgl": [
           {
            "colorbar": {
             "outlinewidth": 0,
             "ticks": ""
            },
            "colorscale": [
             [
              0,
              "#0d0887"
             ],
             [
              0.1111111111111111,
              "#46039f"
             ],
             [
              0.2222222222222222,
              "#7201a8"
             ],
             [
              0.3333333333333333,
              "#9c179e"
             ],
             [
              0.4444444444444444,
              "#bd3786"
             ],
             [
              0.5555555555555556,
              "#d8576b"
             ],
             [
              0.6666666666666666,
              "#ed7953"
             ],
             [
              0.7777777777777778,
              "#fb9f3a"
             ],
             [
              0.8888888888888888,
              "#fdca26"
             ],
             [
              1,
              "#f0f921"
             ]
            ],
            "type": "heatmapgl"
           }
          ],
          "histogram": [
           {
            "marker": {
             "pattern": {
              "fillmode": "overlay",
              "size": 10,
              "solidity": 0.2
             }
            },
            "type": "histogram"
           }
          ],
          "histogram2d": [
           {
            "colorbar": {
             "outlinewidth": 0,
             "ticks": ""
            },
            "colorscale": [
             [
              0,
              "#0d0887"
             ],
             [
              0.1111111111111111,
              "#46039f"
             ],
             [
              0.2222222222222222,
              "#7201a8"
             ],
             [
              0.3333333333333333,
              "#9c179e"
             ],
             [
              0.4444444444444444,
              "#bd3786"
             ],
             [
              0.5555555555555556,
              "#d8576b"
             ],
             [
              0.6666666666666666,
              "#ed7953"
             ],
             [
              0.7777777777777778,
              "#fb9f3a"
             ],
             [
              0.8888888888888888,
              "#fdca26"
             ],
             [
              1,
              "#f0f921"
             ]
            ],
            "type": "histogram2d"
           }
          ],
          "histogram2dcontour": [
           {
            "colorbar": {
             "outlinewidth": 0,
             "ticks": ""
            },
            "colorscale": [
             [
              0,
              "#0d0887"
             ],
             [
              0.1111111111111111,
              "#46039f"
             ],
             [
              0.2222222222222222,
              "#7201a8"
             ],
             [
              0.3333333333333333,
              "#9c179e"
             ],
             [
              0.4444444444444444,
              "#bd3786"
             ],
             [
              0.5555555555555556,
              "#d8576b"
             ],
             [
              0.6666666666666666,
              "#ed7953"
             ],
             [
              0.7777777777777778,
              "#fb9f3a"
             ],
             [
              0.8888888888888888,
              "#fdca26"
             ],
             [
              1,
              "#f0f921"
             ]
            ],
            "type": "histogram2dcontour"
           }
          ],
          "mesh3d": [
           {
            "colorbar": {
             "outlinewidth": 0,
             "ticks": ""
            },
            "type": "mesh3d"
           }
          ],
          "parcoords": [
           {
            "line": {
             "colorbar": {
              "outlinewidth": 0,
              "ticks": ""
             }
            },
            "type": "parcoords"
           }
          ],
          "pie": [
           {
            "automargin": true,
            "type": "pie"
           }
          ],
          "scatter": [
           {
            "fillpattern": {
             "fillmode": "overlay",
             "size": 10,
             "solidity": 0.2
            },
            "type": "scatter"
           }
          ],
          "scatter3d": [
           {
            "line": {
             "colorbar": {
              "outlinewidth": 0,
              "ticks": ""
             }
            },
            "marker": {
             "colorbar": {
              "outlinewidth": 0,
              "ticks": ""
             }
            },
            "type": "scatter3d"
           }
          ],
          "scattercarpet": [
           {
            "marker": {
             "colorbar": {
              "outlinewidth": 0,
              "ticks": ""
             }
            },
            "type": "scattercarpet"
           }
          ],
          "scattergeo": [
           {
            "marker": {
             "colorbar": {
              "outlinewidth": 0,
              "ticks": ""
             }
            },
            "type": "scattergeo"
           }
          ],
          "scattergl": [
           {
            "marker": {
             "colorbar": {
              "outlinewidth": 0,
              "ticks": ""
             }
            },
            "type": "scattergl"
           }
          ],
          "scattermapbox": [
           {
            "marker": {
             "colorbar": {
              "outlinewidth": 0,
              "ticks": ""
             }
            },
            "type": "scattermapbox"
           }
          ],
          "scatterpolar": [
           {
            "marker": {
             "colorbar": {
              "outlinewidth": 0,
              "ticks": ""
             }
            },
            "type": "scatterpolar"
           }
          ],
          "scatterpolargl": [
           {
            "marker": {
             "colorbar": {
              "outlinewidth": 0,
              "ticks": ""
             }
            },
            "type": "scatterpolargl"
           }
          ],
          "scatterternary": [
           {
            "marker": {
             "colorbar": {
              "outlinewidth": 0,
              "ticks": ""
             }
            },
            "type": "scatterternary"
           }
          ],
          "surface": [
           {
            "colorbar": {
             "outlinewidth": 0,
             "ticks": ""
            },
            "colorscale": [
             [
              0,
              "#0d0887"
             ],
             [
              0.1111111111111111,
              "#46039f"
             ],
             [
              0.2222222222222222,
              "#7201a8"
             ],
             [
              0.3333333333333333,
              "#9c179e"
             ],
             [
              0.4444444444444444,
              "#bd3786"
             ],
             [
              0.5555555555555556,
              "#d8576b"
             ],
             [
              0.6666666666666666,
              "#ed7953"
             ],
             [
              0.7777777777777778,
              "#fb9f3a"
             ],
             [
              0.8888888888888888,
              "#fdca26"
             ],
             [
              1,
              "#f0f921"
             ]
            ],
            "type": "surface"
           }
          ],
          "table": [
           {
            "cells": {
             "fill": {
              "color": "#EBF0F8"
             },
             "line": {
              "color": "white"
             }
            },
            "header": {
             "fill": {
              "color": "#C8D4E3"
             },
             "line": {
              "color": "white"
             }
            },
            "type": "table"
           }
          ]
         },
         "layout": {
          "annotationdefaults": {
           "arrowcolor": "#2a3f5f",
           "arrowhead": 0,
           "arrowwidth": 1
          },
          "autotypenumbers": "strict",
          "coloraxis": {
           "colorbar": {
            "outlinewidth": 0,
            "ticks": ""
           }
          },
          "colorscale": {
           "diverging": [
            [
             0,
             "#8e0152"
            ],
            [
             0.1,
             "#c51b7d"
            ],
            [
             0.2,
             "#de77ae"
            ],
            [
             0.3,
             "#f1b6da"
            ],
            [
             0.4,
             "#fde0ef"
            ],
            [
             0.5,
             "#f7f7f7"
            ],
            [
             0.6,
             "#e6f5d0"
            ],
            [
             0.7,
             "#b8e186"
            ],
            [
             0.8,
             "#7fbc41"
            ],
            [
             0.9,
             "#4d9221"
            ],
            [
             1,
             "#276419"
            ]
           ],
           "sequential": [
            [
             0,
             "#0d0887"
            ],
            [
             0.1111111111111111,
             "#46039f"
            ],
            [
             0.2222222222222222,
             "#7201a8"
            ],
            [
             0.3333333333333333,
             "#9c179e"
            ],
            [
             0.4444444444444444,
             "#bd3786"
            ],
            [
             0.5555555555555556,
             "#d8576b"
            ],
            [
             0.6666666666666666,
             "#ed7953"
            ],
            [
             0.7777777777777778,
             "#fb9f3a"
            ],
            [
             0.8888888888888888,
             "#fdca26"
            ],
            [
             1,
             "#f0f921"
            ]
           ],
           "sequentialminus": [
            [
             0,
             "#0d0887"
            ],
            [
             0.1111111111111111,
             "#46039f"
            ],
            [
             0.2222222222222222,
             "#7201a8"
            ],
            [
             0.3333333333333333,
             "#9c179e"
            ],
            [
             0.4444444444444444,
             "#bd3786"
            ],
            [
             0.5555555555555556,
             "#d8576b"
            ],
            [
             0.6666666666666666,
             "#ed7953"
            ],
            [
             0.7777777777777778,
             "#fb9f3a"
            ],
            [
             0.8888888888888888,
             "#fdca26"
            ],
            [
             1,
             "#f0f921"
            ]
           ]
          },
          "colorway": [
           "#636efa",
           "#EF553B",
           "#00cc96",
           "#ab63fa",
           "#FFA15A",
           "#19d3f3",
           "#FF6692",
           "#B6E880",
           "#FF97FF",
           "#FECB52"
          ],
          "font": {
           "color": "#2a3f5f"
          },
          "geo": {
           "bgcolor": "white",
           "lakecolor": "white",
           "landcolor": "#E5ECF6",
           "showlakes": true,
           "showland": true,
           "subunitcolor": "white"
          },
          "hoverlabel": {
           "align": "left"
          },
          "hovermode": "closest",
          "mapbox": {
           "style": "light"
          },
          "paper_bgcolor": "white",
          "plot_bgcolor": "#E5ECF6",
          "polar": {
           "angularaxis": {
            "gridcolor": "white",
            "linecolor": "white",
            "ticks": ""
           },
           "bgcolor": "#E5ECF6",
           "radialaxis": {
            "gridcolor": "white",
            "linecolor": "white",
            "ticks": ""
           }
          },
          "scene": {
           "xaxis": {
            "backgroundcolor": "#E5ECF6",
            "gridcolor": "white",
            "gridwidth": 2,
            "linecolor": "white",
            "showbackground": true,
            "ticks": "",
            "zerolinecolor": "white"
           },
           "yaxis": {
            "backgroundcolor": "#E5ECF6",
            "gridcolor": "white",
            "gridwidth": 2,
            "linecolor": "white",
            "showbackground": true,
            "ticks": "",
            "zerolinecolor": "white"
           },
           "zaxis": {
            "backgroundcolor": "#E5ECF6",
            "gridcolor": "white",
            "gridwidth": 2,
            "linecolor": "white",
            "showbackground": true,
            "ticks": "",
            "zerolinecolor": "white"
           }
          },
          "shapedefaults": {
           "line": {
            "color": "#2a3f5f"
           }
          },
          "ternary": {
           "aaxis": {
            "gridcolor": "white",
            "linecolor": "white",
            "ticks": ""
           },
           "baxis": {
            "gridcolor": "white",
            "linecolor": "white",
            "ticks": ""
           },
           "bgcolor": "#E5ECF6",
           "caxis": {
            "gridcolor": "white",
            "linecolor": "white",
            "ticks": ""
           }
          },
          "title": {
           "x": 0.05
          },
          "xaxis": {
           "automargin": true,
           "gridcolor": "white",
           "linecolor": "white",
           "ticks": "",
           "title": {
            "standoff": 15
           },
           "zerolinecolor": "white",
           "zerolinewidth": 2
          },
          "yaxis": {
           "automargin": true,
           "gridcolor": "white",
           "linecolor": "white",
           "ticks": "",
           "title": {
            "standoff": 15
           },
           "zerolinecolor": "white",
           "zerolinewidth": 2
          }
         }
        },
        "title": {
         "text": "Parallel Coordinate Plot"
        }
       }
      }
     },
     "metadata": {},
     "output_type": "display_data"
    }
   ],
   "source": [
    "optuna.visualization.plot_parallel_coordinate(study)"
   ]
  },
  {
   "cell_type": "code",
   "execution_count": 26,
   "metadata": {},
   "outputs": [
    {
     "data": {
      "application/vnd.plotly.v1+json": {
       "config": {
        "plotlyServerURL": "https://plot.ly"
       },
       "data": [
        {
         "marker": {
          "color": [
           0,
           1,
           2,
           3,
           4,
           5,
           6,
           7,
           8,
           9,
           10,
           11,
           12,
           13,
           14,
           15,
           16,
           17,
           18,
           19,
           20,
           21,
           22,
           23,
           24,
           25,
           26,
           27,
           28,
           29,
           30,
           31,
           32,
           33,
           34,
           35,
           36,
           37,
           38,
           39,
           40,
           41,
           42,
           43,
           44,
           45,
           46,
           47,
           48,
           49,
           50,
           51,
           52,
           53,
           54,
           55,
           56,
           57,
           58,
           59,
           60,
           61,
           62,
           63,
           64,
           65,
           66,
           67,
           68,
           69,
           70,
           71,
           72,
           73,
           74,
           75,
           76,
           77,
           78,
           79,
           80,
           81,
           82,
           83,
           84,
           85,
           86,
           87,
           88,
           89,
           90,
           91,
           92,
           93,
           94,
           95,
           96,
           97,
           98,
           99,
           100,
           101,
           102,
           103,
           104,
           105,
           106,
           107,
           108,
           109,
           110,
           111,
           112,
           113,
           114,
           115,
           116,
           117,
           118,
           119,
           120,
           121,
           122,
           123,
           124,
           125,
           126,
           127,
           128,
           129,
           130,
           131,
           132,
           133,
           134,
           135,
           136,
           137,
           138,
           139,
           140,
           141,
           142,
           143,
           144,
           145,
           146,
           147,
           148,
           149,
           150,
           151,
           152,
           153,
           154,
           155,
           156,
           157,
           158,
           159,
           160,
           161,
           162,
           163,
           164,
           165,
           166,
           167,
           168,
           169,
           170,
           171,
           172,
           173,
           174,
           175,
           176,
           177,
           178,
           179,
           180,
           181,
           182,
           183,
           184,
           185,
           186,
           187,
           188,
           189,
           190,
           191,
           192,
           193,
           194,
           195,
           196,
           197,
           198,
           199
          ],
          "colorbar": {
           "title": {
            "text": "Trial"
           },
           "x": 1,
           "xpad": 40
          },
          "colorscale": [
           [
            0,
            "rgb(247,251,255)"
           ],
           [
            0.125,
            "rgb(222,235,247)"
           ],
           [
            0.25,
            "rgb(198,219,239)"
           ],
           [
            0.375,
            "rgb(158,202,225)"
           ],
           [
            0.5,
            "rgb(107,174,214)"
           ],
           [
            0.625,
            "rgb(66,146,198)"
           ],
           [
            0.75,
            "rgb(33,113,181)"
           ],
           [
            0.875,
            "rgb(8,81,156)"
           ],
           [
            1,
            "rgb(8,48,107)"
           ]
          ],
          "line": {
           "color": "Grey",
           "width": 0.5
          },
          "showscale": true
         },
         "mode": "markers",
         "name": "Feasible Trial",
         "showlegend": false,
         "type": "scatter",
         "x": [
          1.978696921972353,
          0.7147547361025183,
          0.5871453092844537,
          2.9335873033004263,
          0.18398803387733306,
          0.022786629058688158,
          0.030622273921242567,
          0.03425640620186102,
          5.067649602789281,
          0.2496254032440533,
          5.613363497593624,
          8.270910880018777,
          0.020142347424642024,
          2.487714984224427,
          0.3240442511266919,
          0.016725442423100204,
          4.313179830047696,
          0.01035320399341193,
          0.6556855070061354,
          7.305724553412326,
          0.7615483811595624,
          0.07180273843352494,
          0.019527870791270083,
          0.023283147487063578,
          0.03594005624665695,
          2.41622803522965,
          0.45103185164166876,
          0.02642168055417163,
          0.014136994498500545,
          0.7107624591083601,
          7.729731502348729,
          0.6535232131933079,
          7.23974467462096,
          0.015975627089929178,
          0.08667715312463047,
          0.017494363997301608,
          0.10738333440901057,
          0.897499624082285,
          8.52108809242522,
          0.012313380069145318,
          0.2655605073199314,
          0.7194327583159087,
          0.5900814795237284,
          0.022146324495353406,
          0.13388604654839945,
          6.305596304990532,
          7.348861914638498,
          0.9118726704613901,
          0.6914945579286461,
          1.4074822362781039,
          0.02720066288766469,
          0.012032769971240549,
          0.02137629523741644,
          0.1780954403469097,
          0.4013636602280528,
          0.014073468815611707,
          0.01402486216774064,
          0.02286750227364291,
          4.824358783007409,
          0.11169219545985529,
          0.2927010912336367,
          0.04277229803475929,
          0.507123662445956,
          0.160647333794055,
          0.16428641490203766,
          0.06566271040532483,
          9.363637716926826,
          0.1382320920240548,
          0.7609887668309826,
          0.018470397235606395,
          0.8196477474599286,
          6.62135117846047,
          0.011625733609137401,
          0.1550235236888625,
          0.04825277795261175,
          2.6019378622062317,
          0.019619429034729765,
          0.5116190172324526,
          0.037440064937739055,
          0.08770998019776095,
          2.625058921674975,
          3.4246179739932647,
          2.4267965274899312,
          4.343377793250722,
          0.09449383077328626,
          0.028003530764018625,
          0.07045654344536163,
          0.012404769455793309,
          1.2184098366579121,
          0.8751313316001039,
          6.53872709038488,
          0.010633554724178065,
          2.484325040028493,
          3.3323996420526054,
          0.06059210912132856,
          4.547970013708444,
          7.679733969285893,
          0.32189709041888726,
          0.2716018664757433,
          0.1567892260270225,
          0.24216801795707713,
          0.010719523061562876,
          4.113770080292592,
          0.4588590014404327,
          0.10710863250732765,
          0.17914999526019226,
          0.023543419823539486,
          9.503363044784564,
          0.032161195128812416,
          0.030447265733971263,
          0.01710832393798724,
          0.04418892942627004,
          3.6066493900282923,
          0.06408776041778638,
          0.8367852800880448,
          0.1340402204245466,
          0.013513345363822152,
          0.22362723746871446,
          0.8048275772815652,
          0.04319432508279183,
          0.5661300875256327,
          3.3381179800589327,
          0.01814898632317917,
          0.01622977607749056,
          0.3355993439527287,
          0.1055046365383603,
          0.3911432839894509,
          0.02150458112009587,
          0.7045593486636776,
          0.05051448616390107,
          0.45658696088123707,
          0.09379894918925637,
          1.1864264633694679,
          0.028534777087763762,
          0.5626786250159912,
          3.8458773219426696,
          0.01255556569435987,
          0.15048015178109325,
          0.5761014588218291,
          0.1605530540282818,
          3.4761490810204365,
          2.8328795071681525,
          3.2642533823486786,
          3.6147948186243792,
          0.5581000855177064,
          0.015937454723838992,
          0.2858343201602987,
          0.42590588154860654,
          8.38176904936794,
          0.1265620746042377,
          1.514803962662444,
          0.023454158653051307,
          1.065373030496576,
          1.4658524113174358,
          3.1662543141065584,
          2.1309549371203467,
          1.1749178764646,
          0.08788948403482796,
          0.5865011567299384,
          0.8157109699225752,
          1.3988159822083082,
          9.100395198201442,
          2.371987901894069,
          0.06772465718340923,
          0.027643783457538054,
          0.07931698456694951,
          0.06865463322025443,
          7.232727518623565,
          0.8821425852044329,
          0.060205492355472054,
          0.07723931950697714,
          0.08879822158262446,
          0.010134215338029441,
          0.07429284993668595,
          0.07836818939004365,
          4.732574177511548,
          0.6613252201817359,
          0.010196202087229395,
          9.439981254820681,
          0.01027005055530255,
          0.192968015205417,
          6.612363362982121,
          0.017193210605788788,
          1.9592487877054943,
          0.08376188024813663,
          0.013313456146033015,
          0.035315836587124984,
          2.128916894622956,
          3.0914502736264127,
          4.67636319903576,
          1.4521410708874114,
          0.264376854239444,
          0.034468490615851,
          0.5196208822194063,
          0.020271523756867773,
          0.0744301669502829,
          0.3889777862508648,
          0.12914771572057868,
          4.246499925677047,
          0.04682391430633818
         ],
         "xaxis": "x",
         "y": [
          0.7438374417055297,
          0.7425049966688874,
          0.7455029980013325,
          0.7468354430379747,
          0.7411725516322452,
          0.734510326449034,
          0.7365089940039974,
          0.7411725516322452,
          0.7455029980013325,
          0.7441705529646903,
          0.7465023317788141,
          0.7455029980013325,
          0.7301798800799467,
          0.7441705529646903,
          0.7445036642238507,
          0.7271818787475016,
          0.7455029980013325,
          0.7245169886742172,
          0.7421718854097269,
          0.7465023317788141,
          0.7471685542971352,
          0.7418387741505663,
          0.7355096602265156,
          0.7275149900066622,
          0.7388407728181212,
          0.7465023317788141,
          0.7411725516322452,
          0.7301798800799467,
          0.7218520986009327,
          0.7425049966688874,
          0.7465023317788141,
          0.7418387741505663,
          0.7465023317788141,
          0.7225183211192538,
          0.7408394403730846,
          0.7275149900066622,
          0.7408394403730846,
          0.7425049966688874,
          0.7455029980013325,
          0.7258494337108594,
          0.7415056628914057,
          0.7451698867421719,
          0.7411725516322452,
          0.7275149900066622,
          0.739840106595603,
          0.7465023317788141,
          0.7465023317788141,
          0.7421718854097269,
          0.7448367754830113,
          0.7428381079280479,
          0.7318454363757495,
          0.7158560959360426,
          0.72618254497002,
          0.7401732178547635,
          0.7451698867421719,
          0.7235176548967355,
          0.723850766155896,
          0.734510326449034,
          0.7455029980013325,
          0.7411725516322452,
          0.7425049966688874,
          0.7401732178547635,
          0.7418387741505663,
          0.7395069953364424,
          0.739840106595603,
          0.7421718854097269,
          0.7465023317788141,
          0.7395069953364424,
          0.7471685542971352,
          0.7245169886742172,
          0.7471685542971352,
          0.7451698867421719,
          0.7181878747501665,
          0.739840106595603,
          0.7391738840772818,
          0.7441705529646903,
          0.7288474350433045,
          0.7451698867421719,
          0.7395069953364424,
          0.7418387741505663,
          0.7445036642238507,
          0.7468354430379747,
          0.7441705529646903,
          0.7468354430379747,
          0.7418387741505663,
          0.7335109926715523,
          0.7408394403730846,
          0.7151898734177216,
          0.7428381079280479,
          0.7468354430379747,
          0.7455029980013325,
          0.7245169886742172,
          0.7468354430379747,
          0.7451698867421719,
          0.7415056628914057,
          0.745836109260493,
          0.7465023317788141,
          0.7428381079280479,
          0.7418387741505663,
          0.7425049966688874,
          0.7418387741505663,
          0.7161892071952032,
          0.7468354430379747,
          0.7415056628914057,
          0.7408394403730846,
          0.7435043304463691,
          0.7338441039307129,
          0.745836109260493,
          0.7395069953364424,
          0.7395069953364424,
          0.723850766155896,
          0.7401732178547635,
          0.7465023317788141,
          0.7418387741505663,
          0.7461692205196535,
          0.739840106595603,
          0.7281812125249834,
          0.7415056628914057,
          0.7471685542971352,
          0.7391738840772818,
          0.7418387741505663,
          0.7451698867421719,
          0.7328447701532311,
          0.72618254497002,
          0.7448367754830113,
          0.7418387741505663,
          0.7421718854097269,
          0.7381745502998002,
          0.7425049966688874,
          0.7421718854097269,
          0.7455029980013325,
          0.7421718854097269,
          0.7431712191872085,
          0.740506329113924,
          0.7418387741505663,
          0.7468354430379747,
          0.7218520986009327,
          0.7388407728181212,
          0.7408394403730846,
          0.7428381079280479,
          0.7451698867421719,
          0.7468354430379747,
          0.7468354430379747,
          0.7465023317788141,
          0.7415056628914057,
          0.7255163224516988,
          0.7425049966688874,
          0.7411725516322452,
          0.7455029980013325,
          0.7418387741505663,
          0.7471685542971352,
          0.734510326449034,
          0.7475016655562958,
          0.7425049966688874,
          0.7468354430379747,
          0.7438374417055297,
          0.7471685542971352,
          0.7408394403730846,
          0.7455029980013325,
          0.745836109260493,
          0.7468354430379747,
          0.7465023317788141,
          0.7441705529646903,
          0.7421718854097269,
          0.7415056628914057,
          0.7411725516322452,
          0.7418387741505663,
          0.7455029980013325,
          0.7425049966688874,
          0.7411725516322452,
          0.7411725516322452,
          0.7421718854097269,
          0.7251832111925383,
          0.7415056628914057,
          0.7415056628914057,
          0.7465023317788141,
          0.7468354430379747,
          0.7115256495669554,
          0.7465023317788141,
          0.7241838774150566,
          0.7428381079280479,
          0.7465023317788141,
          0.7311792138574283,
          0.7468354430379747,
          0.7421718854097269,
          0.7275149900066622,
          0.7395069953364424,
          0.7438374417055297,
          0.7448367754830113,
          0.7468354430379747,
          0.7471685542971352,
          0.7418387741505663,
          0.7385076615589606,
          0.7415056628914057,
          0.7361758827448368,
          0.7415056628914057,
          0.7418387741505663,
          0.7411725516322452,
          0.7468354430379747,
          0.739840106595603
         ],
         "yaxis": "y"
        },
        {
         "marker": {
          "color": [
           0,
           1,
           2,
           3,
           4,
           5,
           6,
           7,
           8,
           9,
           10,
           11,
           12,
           13,
           14,
           15,
           16,
           17,
           18,
           19,
           20,
           21,
           22,
           23,
           24,
           25,
           26,
           27,
           28,
           29,
           30,
           31,
           32,
           33,
           34,
           35,
           36,
           37,
           38,
           39,
           40,
           41,
           42,
           43,
           44,
           45,
           46,
           47,
           48,
           49,
           50,
           51,
           52,
           53,
           54,
           55,
           56,
           57,
           58,
           59,
           60,
           61,
           62,
           63,
           64,
           65,
           66,
           67,
           68,
           69,
           70,
           71,
           72,
           73,
           74,
           75,
           76,
           77,
           78,
           79,
           80,
           81,
           82,
           83,
           84,
           85,
           86,
           87,
           88,
           89,
           90,
           91,
           92,
           93,
           94,
           95,
           96,
           97,
           98,
           99,
           100,
           101,
           102,
           103,
           104,
           105,
           106,
           107,
           108,
           109,
           110,
           111,
           112,
           113,
           114,
           115,
           116,
           117,
           118,
           119,
           120,
           121,
           122,
           123,
           124,
           125,
           126,
           127,
           128,
           129,
           130,
           131,
           132,
           133,
           134,
           135,
           136,
           137,
           138,
           139,
           140,
           141,
           142,
           143,
           144,
           145,
           146,
           147,
           148,
           149,
           150,
           151,
           152,
           153,
           154,
           155,
           156,
           157,
           158,
           159,
           160,
           161,
           162,
           163,
           164,
           165,
           166,
           167,
           168,
           169,
           170,
           171,
           172,
           173,
           174,
           175,
           176,
           177,
           178,
           179,
           180,
           181,
           182,
           183,
           184,
           185,
           186,
           187,
           188,
           189,
           190,
           191,
           192,
           193,
           194,
           195,
           196,
           197,
           198,
           199
          ],
          "colorbar": {
           "title": {
            "text": "Trial"
           },
           "x": 1,
           "xpad": 40
          },
          "colorscale": [
           [
            0,
            "rgb(247,251,255)"
           ],
           [
            0.125,
            "rgb(222,235,247)"
           ],
           [
            0.25,
            "rgb(198,219,239)"
           ],
           [
            0.375,
            "rgb(158,202,225)"
           ],
           [
            0.5,
            "rgb(107,174,214)"
           ],
           [
            0.625,
            "rgb(66,146,198)"
           ],
           [
            0.75,
            "rgb(33,113,181)"
           ],
           [
            0.875,
            "rgb(8,81,156)"
           ],
           [
            1,
            "rgb(8,48,107)"
           ]
          ],
          "line": {
           "color": "Grey",
           "width": 0.5
          },
          "showscale": false
         },
         "mode": "markers",
         "name": "Feasible Trial",
         "showlegend": false,
         "type": "scatter",
         "x": [
          354,
          471,
          981,
          664,
          412,
          637,
          593,
          316,
          555,
          891,
          311,
          315,
          661,
          446,
          214,
          642,
          490,
          216,
          968,
          906,
          457,
          405,
          121,
          999,
          803,
          935,
          500,
          861,
          337,
          801,
          788,
          295,
          533,
          749,
          640,
          382,
          522,
          886,
          366,
          910,
          372,
          675,
          718,
          189,
          311,
          537,
          409,
          403,
          138,
          848,
          265,
          179,
          530,
          498,
          420,
          510,
          177,
          456,
          982,
          297,
          710,
          671,
          252,
          582,
          527,
          519,
          501,
          305,
          545,
          383,
          681,
          384,
          511,
          261,
          756,
          872,
          562,
          793,
          752,
          767,
          143,
          301,
          107,
          730,
          327,
          465,
          484,
          548,
          810,
          270,
          442,
          619,
          533,
          513,
          925,
          291,
          194,
          935,
          248,
          211,
          307,
          407,
          633,
          347,
          193,
          491,
          406,
          999,
          601,
          546,
          177,
          951,
          416,
          408,
          678,
          346,
          468,
          168,
          795,
          242,
          786,
          157,
          294,
          665,
          278,
          164,
          195,
          525,
          153,
          648,
          533,
          934,
          237,
          988,
          217,
          133,
          827,
          671,
          643,
          690,
          503,
          857,
          339,
          342,
          987,
          297,
          146,
          373,
          219,
          939,
          518,
          620,
          963,
          699,
          902,
          515,
          768,
          490,
          176,
          884,
          636,
          925,
          817,
          724,
          517,
          381,
          668,
          735,
          281,
          397,
          873,
          499,
          615,
          533,
          498,
          518,
          151,
          849,
          136,
          263,
          960,
          621,
          184,
          365,
          197,
          964,
          394,
          641,
          524,
          280,
          433,
          973,
          725,
          430,
          557,
          682,
          228,
          937,
          273,
          547
         ],
         "xaxis": "x2",
         "y": [
          0.7438374417055297,
          0.7425049966688874,
          0.7455029980013325,
          0.7468354430379747,
          0.7411725516322452,
          0.734510326449034,
          0.7365089940039974,
          0.7411725516322452,
          0.7455029980013325,
          0.7441705529646903,
          0.7465023317788141,
          0.7455029980013325,
          0.7301798800799467,
          0.7441705529646903,
          0.7445036642238507,
          0.7271818787475016,
          0.7455029980013325,
          0.7245169886742172,
          0.7421718854097269,
          0.7465023317788141,
          0.7471685542971352,
          0.7418387741505663,
          0.7355096602265156,
          0.7275149900066622,
          0.7388407728181212,
          0.7465023317788141,
          0.7411725516322452,
          0.7301798800799467,
          0.7218520986009327,
          0.7425049966688874,
          0.7465023317788141,
          0.7418387741505663,
          0.7465023317788141,
          0.7225183211192538,
          0.7408394403730846,
          0.7275149900066622,
          0.7408394403730846,
          0.7425049966688874,
          0.7455029980013325,
          0.7258494337108594,
          0.7415056628914057,
          0.7451698867421719,
          0.7411725516322452,
          0.7275149900066622,
          0.739840106595603,
          0.7465023317788141,
          0.7465023317788141,
          0.7421718854097269,
          0.7448367754830113,
          0.7428381079280479,
          0.7318454363757495,
          0.7158560959360426,
          0.72618254497002,
          0.7401732178547635,
          0.7451698867421719,
          0.7235176548967355,
          0.723850766155896,
          0.734510326449034,
          0.7455029980013325,
          0.7411725516322452,
          0.7425049966688874,
          0.7401732178547635,
          0.7418387741505663,
          0.7395069953364424,
          0.739840106595603,
          0.7421718854097269,
          0.7465023317788141,
          0.7395069953364424,
          0.7471685542971352,
          0.7245169886742172,
          0.7471685542971352,
          0.7451698867421719,
          0.7181878747501665,
          0.739840106595603,
          0.7391738840772818,
          0.7441705529646903,
          0.7288474350433045,
          0.7451698867421719,
          0.7395069953364424,
          0.7418387741505663,
          0.7445036642238507,
          0.7468354430379747,
          0.7441705529646903,
          0.7468354430379747,
          0.7418387741505663,
          0.7335109926715523,
          0.7408394403730846,
          0.7151898734177216,
          0.7428381079280479,
          0.7468354430379747,
          0.7455029980013325,
          0.7245169886742172,
          0.7468354430379747,
          0.7451698867421719,
          0.7415056628914057,
          0.745836109260493,
          0.7465023317788141,
          0.7428381079280479,
          0.7418387741505663,
          0.7425049966688874,
          0.7418387741505663,
          0.7161892071952032,
          0.7468354430379747,
          0.7415056628914057,
          0.7408394403730846,
          0.7435043304463691,
          0.7338441039307129,
          0.745836109260493,
          0.7395069953364424,
          0.7395069953364424,
          0.723850766155896,
          0.7401732178547635,
          0.7465023317788141,
          0.7418387741505663,
          0.7461692205196535,
          0.739840106595603,
          0.7281812125249834,
          0.7415056628914057,
          0.7471685542971352,
          0.7391738840772818,
          0.7418387741505663,
          0.7451698867421719,
          0.7328447701532311,
          0.72618254497002,
          0.7448367754830113,
          0.7418387741505663,
          0.7421718854097269,
          0.7381745502998002,
          0.7425049966688874,
          0.7421718854097269,
          0.7455029980013325,
          0.7421718854097269,
          0.7431712191872085,
          0.740506329113924,
          0.7418387741505663,
          0.7468354430379747,
          0.7218520986009327,
          0.7388407728181212,
          0.7408394403730846,
          0.7428381079280479,
          0.7451698867421719,
          0.7468354430379747,
          0.7468354430379747,
          0.7465023317788141,
          0.7415056628914057,
          0.7255163224516988,
          0.7425049966688874,
          0.7411725516322452,
          0.7455029980013325,
          0.7418387741505663,
          0.7471685542971352,
          0.734510326449034,
          0.7475016655562958,
          0.7425049966688874,
          0.7468354430379747,
          0.7438374417055297,
          0.7471685542971352,
          0.7408394403730846,
          0.7455029980013325,
          0.745836109260493,
          0.7468354430379747,
          0.7465023317788141,
          0.7441705529646903,
          0.7421718854097269,
          0.7415056628914057,
          0.7411725516322452,
          0.7418387741505663,
          0.7455029980013325,
          0.7425049966688874,
          0.7411725516322452,
          0.7411725516322452,
          0.7421718854097269,
          0.7251832111925383,
          0.7415056628914057,
          0.7415056628914057,
          0.7465023317788141,
          0.7468354430379747,
          0.7115256495669554,
          0.7465023317788141,
          0.7241838774150566,
          0.7428381079280479,
          0.7465023317788141,
          0.7311792138574283,
          0.7468354430379747,
          0.7421718854097269,
          0.7275149900066622,
          0.7395069953364424,
          0.7438374417055297,
          0.7448367754830113,
          0.7468354430379747,
          0.7471685542971352,
          0.7418387741505663,
          0.7385076615589606,
          0.7415056628914057,
          0.7361758827448368,
          0.7415056628914057,
          0.7418387741505663,
          0.7411725516322452,
          0.7468354430379747,
          0.739840106595603
         ],
         "yaxis": "y2"
        },
        {
         "marker": {
          "color": [
           0,
           1,
           2,
           3,
           4,
           5,
           6,
           7,
           8,
           9,
           10,
           11,
           12,
           13,
           14,
           15,
           16,
           17,
           18,
           19,
           20,
           21,
           22,
           23,
           24,
           25,
           26,
           27,
           28,
           29,
           30,
           31,
           32,
           33,
           34,
           35,
           36,
           37,
           38,
           39,
           40,
           41,
           42,
           43,
           44,
           45,
           46,
           47,
           48,
           49,
           50,
           51,
           52,
           53,
           54,
           55,
           56,
           57,
           58,
           59,
           60,
           61,
           62,
           63,
           64,
           65,
           66,
           67,
           68,
           69,
           70,
           71,
           72,
           73,
           74,
           75,
           76,
           77,
           78,
           79,
           80,
           81,
           82,
           83,
           84,
           85,
           86,
           87,
           88,
           89,
           90,
           91,
           92,
           93,
           94,
           95,
           96,
           97,
           98,
           99,
           100,
           101,
           102,
           103,
           104,
           105,
           106,
           107,
           108,
           109,
           110,
           111,
           112,
           113,
           114,
           115,
           116,
           117,
           118,
           119,
           120,
           121,
           122,
           123,
           124,
           125,
           126,
           127,
           128,
           129,
           130,
           131,
           132,
           133,
           134,
           135,
           136,
           137,
           138,
           139,
           140,
           141,
           142,
           143,
           144,
           145,
           146,
           147,
           148,
           149,
           150,
           151,
           152,
           153,
           154,
           155,
           156,
           157,
           158,
           159,
           160,
           161,
           162,
           163,
           164,
           165,
           166,
           167,
           168,
           169,
           170,
           171,
           172,
           173,
           174,
           175,
           176,
           177,
           178,
           179,
           180,
           181,
           182,
           183,
           184,
           185,
           186,
           187,
           188,
           189,
           190,
           191,
           192,
           193,
           194,
           195,
           196,
           197,
           198,
           199
          ],
          "colorbar": {
           "title": {
            "text": "Trial"
           },
           "x": 1,
           "xpad": 40
          },
          "colorscale": [
           [
            0,
            "rgb(247,251,255)"
           ],
           [
            0.125,
            "rgb(222,235,247)"
           ],
           [
            0.25,
            "rgb(198,219,239)"
           ],
           [
            0.375,
            "rgb(158,202,225)"
           ],
           [
            0.5,
            "rgb(107,174,214)"
           ],
           [
            0.625,
            "rgb(66,146,198)"
           ],
           [
            0.75,
            "rgb(33,113,181)"
           ],
           [
            0.875,
            "rgb(8,81,156)"
           ],
           [
            1,
            "rgb(8,48,107)"
           ]
          ],
          "line": {
           "color": "Grey",
           "width": 0.5
          },
          "showscale": false
         },
         "mode": "markers",
         "name": "Feasible Trial",
         "showlegend": false,
         "type": "scatter",
         "x": [
          "l2",
          "l2",
          "l1",
          "l1",
          "l1",
          "l1",
          "l1",
          "l1",
          "l2",
          "l1",
          "l1",
          "l2",
          "l1",
          "l2",
          "l1",
          "l1",
          "l2",
          "l2",
          "l2",
          "l1",
          "l1",
          "l1",
          "l2",
          "l1",
          "l1",
          "l1",
          "l2",
          "l1",
          "l1",
          "l2",
          "l1",
          "l2",
          "l1",
          "l1",
          "l1",
          "l1",
          "l1",
          "l2",
          "l2",
          "l2",
          "l2",
          "l1",
          "l2",
          "l1",
          "l1",
          "l1",
          "l1",
          "l2",
          "l1",
          "l2",
          "l1",
          "l1",
          "l1",
          "l1",
          "l1",
          "l1",
          "l1",
          "l1",
          "l2",
          "l2",
          "l2",
          "l2",
          "l2",
          "l1",
          "l1",
          "l2",
          "l1",
          "l1",
          "l1",
          "l1",
          "l1",
          "l2",
          "l1",
          "l1",
          "l1",
          "l2",
          "l1",
          "l1",
          "l1",
          "l2",
          "l2",
          "l1",
          "l2",
          "l1",
          "l2",
          "l1",
          "l1",
          "l1",
          "l2",
          "l1",
          "l2",
          "l2",
          "l1",
          "l2",
          "l2",
          "l2",
          "l1",
          "l2",
          "l2",
          "l2",
          "l2",
          "l1",
          "l1",
          "l2",
          "l1",
          "l2",
          "l1",
          "l2",
          "l1",
          "l2",
          "l1",
          "l2",
          "l1",
          "l2",
          "l1",
          "l1",
          "l2",
          "l1",
          "l1",
          "l1",
          "l2",
          "l2",
          "l2",
          "l1",
          "l1",
          "l2",
          "l2",
          "l2",
          "l2",
          "l2",
          "l1",
          "l2",
          "l2",
          "l2",
          "l2",
          "l1",
          "l1",
          "l1",
          "l2",
          "l2",
          "l2",
          "l1",
          "l1",
          "l1",
          "l2",
          "l1",
          "l2",
          "l2",
          "l2",
          "l2",
          "l1",
          "l1",
          "l1",
          "l2",
          "l1",
          "l2",
          "l1",
          "l1",
          "l1",
          "l1",
          "l1",
          "l1",
          "l2",
          "l1",
          "l2",
          "l1",
          "l2",
          "l2",
          "l2",
          "l1",
          "l1",
          "l2",
          "l2",
          "l1",
          "l1",
          "l1",
          "l1",
          "l1",
          "l1",
          "l2",
          "l2",
          "l1",
          "l2",
          "l1",
          "l2",
          "l2",
          "l2",
          "l2",
          "l2",
          "l1",
          "l1",
          "l2",
          "l1",
          "l2",
          "l2",
          "l2",
          "l2",
          "l2",
          "l1",
          "l1"
         ],
         "xaxis": "x3",
         "y": [
          0.7438374417055297,
          0.7425049966688874,
          0.7455029980013325,
          0.7468354430379747,
          0.7411725516322452,
          0.734510326449034,
          0.7365089940039974,
          0.7411725516322452,
          0.7455029980013325,
          0.7441705529646903,
          0.7465023317788141,
          0.7455029980013325,
          0.7301798800799467,
          0.7441705529646903,
          0.7445036642238507,
          0.7271818787475016,
          0.7455029980013325,
          0.7245169886742172,
          0.7421718854097269,
          0.7465023317788141,
          0.7471685542971352,
          0.7418387741505663,
          0.7355096602265156,
          0.7275149900066622,
          0.7388407728181212,
          0.7465023317788141,
          0.7411725516322452,
          0.7301798800799467,
          0.7218520986009327,
          0.7425049966688874,
          0.7465023317788141,
          0.7418387741505663,
          0.7465023317788141,
          0.7225183211192538,
          0.7408394403730846,
          0.7275149900066622,
          0.7408394403730846,
          0.7425049966688874,
          0.7455029980013325,
          0.7258494337108594,
          0.7415056628914057,
          0.7451698867421719,
          0.7411725516322452,
          0.7275149900066622,
          0.739840106595603,
          0.7465023317788141,
          0.7465023317788141,
          0.7421718854097269,
          0.7448367754830113,
          0.7428381079280479,
          0.7318454363757495,
          0.7158560959360426,
          0.72618254497002,
          0.7401732178547635,
          0.7451698867421719,
          0.7235176548967355,
          0.723850766155896,
          0.734510326449034,
          0.7455029980013325,
          0.7411725516322452,
          0.7425049966688874,
          0.7401732178547635,
          0.7418387741505663,
          0.7395069953364424,
          0.739840106595603,
          0.7421718854097269,
          0.7465023317788141,
          0.7395069953364424,
          0.7471685542971352,
          0.7245169886742172,
          0.7471685542971352,
          0.7451698867421719,
          0.7181878747501665,
          0.739840106595603,
          0.7391738840772818,
          0.7441705529646903,
          0.7288474350433045,
          0.7451698867421719,
          0.7395069953364424,
          0.7418387741505663,
          0.7445036642238507,
          0.7468354430379747,
          0.7441705529646903,
          0.7468354430379747,
          0.7418387741505663,
          0.7335109926715523,
          0.7408394403730846,
          0.7151898734177216,
          0.7428381079280479,
          0.7468354430379747,
          0.7455029980013325,
          0.7245169886742172,
          0.7468354430379747,
          0.7451698867421719,
          0.7415056628914057,
          0.745836109260493,
          0.7465023317788141,
          0.7428381079280479,
          0.7418387741505663,
          0.7425049966688874,
          0.7418387741505663,
          0.7161892071952032,
          0.7468354430379747,
          0.7415056628914057,
          0.7408394403730846,
          0.7435043304463691,
          0.7338441039307129,
          0.745836109260493,
          0.7395069953364424,
          0.7395069953364424,
          0.723850766155896,
          0.7401732178547635,
          0.7465023317788141,
          0.7418387741505663,
          0.7461692205196535,
          0.739840106595603,
          0.7281812125249834,
          0.7415056628914057,
          0.7471685542971352,
          0.7391738840772818,
          0.7418387741505663,
          0.7451698867421719,
          0.7328447701532311,
          0.72618254497002,
          0.7448367754830113,
          0.7418387741505663,
          0.7421718854097269,
          0.7381745502998002,
          0.7425049966688874,
          0.7421718854097269,
          0.7455029980013325,
          0.7421718854097269,
          0.7431712191872085,
          0.740506329113924,
          0.7418387741505663,
          0.7468354430379747,
          0.7218520986009327,
          0.7388407728181212,
          0.7408394403730846,
          0.7428381079280479,
          0.7451698867421719,
          0.7468354430379747,
          0.7468354430379747,
          0.7465023317788141,
          0.7415056628914057,
          0.7255163224516988,
          0.7425049966688874,
          0.7411725516322452,
          0.7455029980013325,
          0.7418387741505663,
          0.7471685542971352,
          0.734510326449034,
          0.7475016655562958,
          0.7425049966688874,
          0.7468354430379747,
          0.7438374417055297,
          0.7471685542971352,
          0.7408394403730846,
          0.7455029980013325,
          0.745836109260493,
          0.7468354430379747,
          0.7465023317788141,
          0.7441705529646903,
          0.7421718854097269,
          0.7415056628914057,
          0.7411725516322452,
          0.7418387741505663,
          0.7455029980013325,
          0.7425049966688874,
          0.7411725516322452,
          0.7411725516322452,
          0.7421718854097269,
          0.7251832111925383,
          0.7415056628914057,
          0.7415056628914057,
          0.7465023317788141,
          0.7468354430379747,
          0.7115256495669554,
          0.7465023317788141,
          0.7241838774150566,
          0.7428381079280479,
          0.7465023317788141,
          0.7311792138574283,
          0.7468354430379747,
          0.7421718854097269,
          0.7275149900066622,
          0.7395069953364424,
          0.7438374417055297,
          0.7448367754830113,
          0.7468354430379747,
          0.7471685542971352,
          0.7418387741505663,
          0.7385076615589606,
          0.7415056628914057,
          0.7361758827448368,
          0.7415056628914057,
          0.7418387741505663,
          0.7411725516322452,
          0.7468354430379747,
          0.739840106595603
         ],
         "yaxis": "y3"
        },
        {
         "marker": {
          "color": [
           0,
           1,
           2,
           3,
           4,
           5,
           6,
           7,
           8,
           9,
           10,
           11,
           12,
           13,
           14,
           15,
           16,
           17,
           18,
           19,
           20,
           21,
           22,
           23,
           24,
           25,
           26,
           27,
           28,
           29,
           30,
           31,
           32,
           33,
           34,
           35,
           36,
           37,
           38,
           39,
           40,
           41,
           42,
           43,
           44,
           45,
           46,
           47,
           48,
           49,
           50,
           51,
           52,
           53,
           54,
           55,
           56,
           57,
           58,
           59,
           60,
           61,
           62,
           63,
           64,
           65,
           66,
           67,
           68,
           69,
           70,
           71,
           72,
           73,
           74,
           75,
           76,
           77,
           78,
           79,
           80,
           81,
           82,
           83,
           84,
           85,
           86,
           87,
           88,
           89,
           90,
           91,
           92,
           93,
           94,
           95,
           96,
           97,
           98,
           99,
           100,
           101,
           102,
           103,
           104,
           105,
           106,
           107,
           108,
           109,
           110,
           111,
           112,
           113,
           114,
           115,
           116,
           117,
           118,
           119,
           120,
           121,
           122,
           123,
           124,
           125,
           126,
           127,
           128,
           129,
           130,
           131,
           132,
           133,
           134,
           135,
           136,
           137,
           138,
           139,
           140,
           141,
           142,
           143,
           144,
           145,
           146,
           147,
           148,
           149,
           150,
           151,
           152,
           153,
           154,
           155,
           156,
           157,
           158,
           159,
           160,
           161,
           162,
           163,
           164,
           165,
           166,
           167,
           168,
           169,
           170,
           171,
           172,
           173,
           174,
           175,
           176,
           177,
           178,
           179,
           180,
           181,
           182,
           183,
           184,
           185,
           186,
           187,
           188,
           189,
           190,
           191,
           192,
           193,
           194,
           195,
           196,
           197,
           198,
           199
          ],
          "colorbar": {
           "title": {
            "text": "Trial"
           },
           "x": 1,
           "xpad": 40
          },
          "colorscale": [
           [
            0,
            "rgb(247,251,255)"
           ],
           [
            0.125,
            "rgb(222,235,247)"
           ],
           [
            0.25,
            "rgb(198,219,239)"
           ],
           [
            0.375,
            "rgb(158,202,225)"
           ],
           [
            0.5,
            "rgb(107,174,214)"
           ],
           [
            0.625,
            "rgb(66,146,198)"
           ],
           [
            0.75,
            "rgb(33,113,181)"
           ],
           [
            0.875,
            "rgb(8,81,156)"
           ],
           [
            1,
            "rgb(8,48,107)"
           ]
          ],
          "line": {
           "color": "Grey",
           "width": 0.5
          },
          "showscale": false
         },
         "mode": "markers",
         "name": "Feasible Trial",
         "showlegend": false,
         "type": "scatter",
         "x": [
          "saga",
          "saga",
          "liblinear",
          "liblinear",
          "liblinear",
          "liblinear",
          "saga",
          "liblinear",
          "saga",
          "saga",
          "saga",
          "saga",
          "liblinear",
          "saga",
          "liblinear",
          "liblinear",
          "liblinear",
          "saga",
          "liblinear",
          "liblinear",
          "saga",
          "liblinear",
          "saga",
          "saga",
          "saga",
          "saga",
          "saga",
          "saga",
          "saga",
          "saga",
          "liblinear",
          "saga",
          "liblinear",
          "saga",
          "liblinear",
          "liblinear",
          "saga",
          "liblinear",
          "saga",
          "saga",
          "saga",
          "liblinear",
          "saga",
          "saga",
          "saga",
          "saga",
          "saga",
          "saga",
          "liblinear",
          "saga",
          "saga",
          "saga",
          "saga",
          "saga",
          "liblinear",
          "liblinear",
          "liblinear",
          "liblinear",
          "saga",
          "liblinear",
          "liblinear",
          "saga",
          "liblinear",
          "saga",
          "liblinear",
          "liblinear",
          "liblinear",
          "saga",
          "saga",
          "saga",
          "saga",
          "saga",
          "liblinear",
          "saga",
          "saga",
          "liblinear",
          "liblinear",
          "liblinear",
          "saga",
          "liblinear",
          "liblinear",
          "liblinear",
          "liblinear",
          "liblinear",
          "saga",
          "saga",
          "saga",
          "saga",
          "liblinear",
          "liblinear",
          "liblinear",
          "saga",
          "liblinear",
          "liblinear",
          "saga",
          "saga",
          "saga",
          "liblinear",
          "liblinear",
          "saga",
          "saga",
          "liblinear",
          "liblinear",
          "saga",
          "saga",
          "saga",
          "liblinear",
          "liblinear",
          "liblinear",
          "liblinear",
          "saga",
          "saga",
          "saga",
          "liblinear",
          "liblinear",
          "saga",
          "saga",
          "liblinear",
          "saga",
          "liblinear",
          "liblinear",
          "saga",
          "liblinear",
          "liblinear",
          "liblinear",
          "saga",
          "liblinear",
          "saga",
          "saga",
          "liblinear",
          "liblinear",
          "saga",
          "liblinear",
          "liblinear",
          "liblinear",
          "liblinear",
          "liblinear",
          "liblinear",
          "saga",
          "liblinear",
          "liblinear",
          "saga",
          "liblinear",
          "saga",
          "saga",
          "liblinear",
          "liblinear",
          "saga",
          "saga",
          "saga",
          "liblinear",
          "liblinear",
          "saga",
          "liblinear",
          "liblinear",
          "saga",
          "saga",
          "saga",
          "liblinear",
          "liblinear",
          "saga",
          "liblinear",
          "saga",
          "liblinear",
          "liblinear",
          "liblinear",
          "liblinear",
          "liblinear",
          "liblinear",
          "liblinear",
          "liblinear",
          "liblinear",
          "liblinear",
          "saga",
          "liblinear",
          "liblinear",
          "saga",
          "saga",
          "saga",
          "saga",
          "saga",
          "saga",
          "liblinear",
          "saga",
          "saga",
          "liblinear",
          "liblinear",
          "saga",
          "saga",
          "liblinear",
          "liblinear",
          "liblinear",
          "saga",
          "liblinear",
          "liblinear",
          "saga",
          "saga",
          "liblinear",
          "liblinear",
          "liblinear"
         ],
         "xaxis": "x4",
         "y": [
          0.7438374417055297,
          0.7425049966688874,
          0.7455029980013325,
          0.7468354430379747,
          0.7411725516322452,
          0.734510326449034,
          0.7365089940039974,
          0.7411725516322452,
          0.7455029980013325,
          0.7441705529646903,
          0.7465023317788141,
          0.7455029980013325,
          0.7301798800799467,
          0.7441705529646903,
          0.7445036642238507,
          0.7271818787475016,
          0.7455029980013325,
          0.7245169886742172,
          0.7421718854097269,
          0.7465023317788141,
          0.7471685542971352,
          0.7418387741505663,
          0.7355096602265156,
          0.7275149900066622,
          0.7388407728181212,
          0.7465023317788141,
          0.7411725516322452,
          0.7301798800799467,
          0.7218520986009327,
          0.7425049966688874,
          0.7465023317788141,
          0.7418387741505663,
          0.7465023317788141,
          0.7225183211192538,
          0.7408394403730846,
          0.7275149900066622,
          0.7408394403730846,
          0.7425049966688874,
          0.7455029980013325,
          0.7258494337108594,
          0.7415056628914057,
          0.7451698867421719,
          0.7411725516322452,
          0.7275149900066622,
          0.739840106595603,
          0.7465023317788141,
          0.7465023317788141,
          0.7421718854097269,
          0.7448367754830113,
          0.7428381079280479,
          0.7318454363757495,
          0.7158560959360426,
          0.72618254497002,
          0.7401732178547635,
          0.7451698867421719,
          0.7235176548967355,
          0.723850766155896,
          0.734510326449034,
          0.7455029980013325,
          0.7411725516322452,
          0.7425049966688874,
          0.7401732178547635,
          0.7418387741505663,
          0.7395069953364424,
          0.739840106595603,
          0.7421718854097269,
          0.7465023317788141,
          0.7395069953364424,
          0.7471685542971352,
          0.7245169886742172,
          0.7471685542971352,
          0.7451698867421719,
          0.7181878747501665,
          0.739840106595603,
          0.7391738840772818,
          0.7441705529646903,
          0.7288474350433045,
          0.7451698867421719,
          0.7395069953364424,
          0.7418387741505663,
          0.7445036642238507,
          0.7468354430379747,
          0.7441705529646903,
          0.7468354430379747,
          0.7418387741505663,
          0.7335109926715523,
          0.7408394403730846,
          0.7151898734177216,
          0.7428381079280479,
          0.7468354430379747,
          0.7455029980013325,
          0.7245169886742172,
          0.7468354430379747,
          0.7451698867421719,
          0.7415056628914057,
          0.745836109260493,
          0.7465023317788141,
          0.7428381079280479,
          0.7418387741505663,
          0.7425049966688874,
          0.7418387741505663,
          0.7161892071952032,
          0.7468354430379747,
          0.7415056628914057,
          0.7408394403730846,
          0.7435043304463691,
          0.7338441039307129,
          0.745836109260493,
          0.7395069953364424,
          0.7395069953364424,
          0.723850766155896,
          0.7401732178547635,
          0.7465023317788141,
          0.7418387741505663,
          0.7461692205196535,
          0.739840106595603,
          0.7281812125249834,
          0.7415056628914057,
          0.7471685542971352,
          0.7391738840772818,
          0.7418387741505663,
          0.7451698867421719,
          0.7328447701532311,
          0.72618254497002,
          0.7448367754830113,
          0.7418387741505663,
          0.7421718854097269,
          0.7381745502998002,
          0.7425049966688874,
          0.7421718854097269,
          0.7455029980013325,
          0.7421718854097269,
          0.7431712191872085,
          0.740506329113924,
          0.7418387741505663,
          0.7468354430379747,
          0.7218520986009327,
          0.7388407728181212,
          0.7408394403730846,
          0.7428381079280479,
          0.7451698867421719,
          0.7468354430379747,
          0.7468354430379747,
          0.7465023317788141,
          0.7415056628914057,
          0.7255163224516988,
          0.7425049966688874,
          0.7411725516322452,
          0.7455029980013325,
          0.7418387741505663,
          0.7471685542971352,
          0.734510326449034,
          0.7475016655562958,
          0.7425049966688874,
          0.7468354430379747,
          0.7438374417055297,
          0.7471685542971352,
          0.7408394403730846,
          0.7455029980013325,
          0.745836109260493,
          0.7468354430379747,
          0.7465023317788141,
          0.7441705529646903,
          0.7421718854097269,
          0.7415056628914057,
          0.7411725516322452,
          0.7418387741505663,
          0.7455029980013325,
          0.7425049966688874,
          0.7411725516322452,
          0.7411725516322452,
          0.7421718854097269,
          0.7251832111925383,
          0.7415056628914057,
          0.7415056628914057,
          0.7465023317788141,
          0.7468354430379747,
          0.7115256495669554,
          0.7465023317788141,
          0.7241838774150566,
          0.7428381079280479,
          0.7465023317788141,
          0.7311792138574283,
          0.7468354430379747,
          0.7421718854097269,
          0.7275149900066622,
          0.7395069953364424,
          0.7438374417055297,
          0.7448367754830113,
          0.7468354430379747,
          0.7471685542971352,
          0.7418387741505663,
          0.7385076615589606,
          0.7415056628914057,
          0.7361758827448368,
          0.7415056628914057,
          0.7418387741505663,
          0.7411725516322452,
          0.7468354430379747,
          0.739840106595603
         ],
         "yaxis": "y4"
        }
       ],
       "layout": {
        "template": {
         "data": {
          "bar": [
           {
            "error_x": {
             "color": "#2a3f5f"
            },
            "error_y": {
             "color": "#2a3f5f"
            },
            "marker": {
             "line": {
              "color": "#E5ECF6",
              "width": 0.5
             },
             "pattern": {
              "fillmode": "overlay",
              "size": 10,
              "solidity": 0.2
             }
            },
            "type": "bar"
           }
          ],
          "barpolar": [
           {
            "marker": {
             "line": {
              "color": "#E5ECF6",
              "width": 0.5
             },
             "pattern": {
              "fillmode": "overlay",
              "size": 10,
              "solidity": 0.2
             }
            },
            "type": "barpolar"
           }
          ],
          "carpet": [
           {
            "aaxis": {
             "endlinecolor": "#2a3f5f",
             "gridcolor": "white",
             "linecolor": "white",
             "minorgridcolor": "white",
             "startlinecolor": "#2a3f5f"
            },
            "baxis": {
             "endlinecolor": "#2a3f5f",
             "gridcolor": "white",
             "linecolor": "white",
             "minorgridcolor": "white",
             "startlinecolor": "#2a3f5f"
            },
            "type": "carpet"
           }
          ],
          "choropleth": [
           {
            "colorbar": {
             "outlinewidth": 0,
             "ticks": ""
            },
            "type": "choropleth"
           }
          ],
          "contour": [
           {
            "colorbar": {
             "outlinewidth": 0,
             "ticks": ""
            },
            "colorscale": [
             [
              0,
              "#0d0887"
             ],
             [
              0.1111111111111111,
              "#46039f"
             ],
             [
              0.2222222222222222,
              "#7201a8"
             ],
             [
              0.3333333333333333,
              "#9c179e"
             ],
             [
              0.4444444444444444,
              "#bd3786"
             ],
             [
              0.5555555555555556,
              "#d8576b"
             ],
             [
              0.6666666666666666,
              "#ed7953"
             ],
             [
              0.7777777777777778,
              "#fb9f3a"
             ],
             [
              0.8888888888888888,
              "#fdca26"
             ],
             [
              1,
              "#f0f921"
             ]
            ],
            "type": "contour"
           }
          ],
          "contourcarpet": [
           {
            "colorbar": {
             "outlinewidth": 0,
             "ticks": ""
            },
            "type": "contourcarpet"
           }
          ],
          "heatmap": [
           {
            "colorbar": {
             "outlinewidth": 0,
             "ticks": ""
            },
            "colorscale": [
             [
              0,
              "#0d0887"
             ],
             [
              0.1111111111111111,
              "#46039f"
             ],
             [
              0.2222222222222222,
              "#7201a8"
             ],
             [
              0.3333333333333333,
              "#9c179e"
             ],
             [
              0.4444444444444444,
              "#bd3786"
             ],
             [
              0.5555555555555556,
              "#d8576b"
             ],
             [
              0.6666666666666666,
              "#ed7953"
             ],
             [
              0.7777777777777778,
              "#fb9f3a"
             ],
             [
              0.8888888888888888,
              "#fdca26"
             ],
             [
              1,
              "#f0f921"
             ]
            ],
            "type": "heatmap"
           }
          ],
          "heatmapgl": [
           {
            "colorbar": {
             "outlinewidth": 0,
             "ticks": ""
            },
            "colorscale": [
             [
              0,
              "#0d0887"
             ],
             [
              0.1111111111111111,
              "#46039f"
             ],
             [
              0.2222222222222222,
              "#7201a8"
             ],
             [
              0.3333333333333333,
              "#9c179e"
             ],
             [
              0.4444444444444444,
              "#bd3786"
             ],
             [
              0.5555555555555556,
              "#d8576b"
             ],
             [
              0.6666666666666666,
              "#ed7953"
             ],
             [
              0.7777777777777778,
              "#fb9f3a"
             ],
             [
              0.8888888888888888,
              "#fdca26"
             ],
             [
              1,
              "#f0f921"
             ]
            ],
            "type": "heatmapgl"
           }
          ],
          "histogram": [
           {
            "marker": {
             "pattern": {
              "fillmode": "overlay",
              "size": 10,
              "solidity": 0.2
             }
            },
            "type": "histogram"
           }
          ],
          "histogram2d": [
           {
            "colorbar": {
             "outlinewidth": 0,
             "ticks": ""
            },
            "colorscale": [
             [
              0,
              "#0d0887"
             ],
             [
              0.1111111111111111,
              "#46039f"
             ],
             [
              0.2222222222222222,
              "#7201a8"
             ],
             [
              0.3333333333333333,
              "#9c179e"
             ],
             [
              0.4444444444444444,
              "#bd3786"
             ],
             [
              0.5555555555555556,
              "#d8576b"
             ],
             [
              0.6666666666666666,
              "#ed7953"
             ],
             [
              0.7777777777777778,
              "#fb9f3a"
             ],
             [
              0.8888888888888888,
              "#fdca26"
             ],
             [
              1,
              "#f0f921"
             ]
            ],
            "type": "histogram2d"
           }
          ],
          "histogram2dcontour": [
           {
            "colorbar": {
             "outlinewidth": 0,
             "ticks": ""
            },
            "colorscale": [
             [
              0,
              "#0d0887"
             ],
             [
              0.1111111111111111,
              "#46039f"
             ],
             [
              0.2222222222222222,
              "#7201a8"
             ],
             [
              0.3333333333333333,
              "#9c179e"
             ],
             [
              0.4444444444444444,
              "#bd3786"
             ],
             [
              0.5555555555555556,
              "#d8576b"
             ],
             [
              0.6666666666666666,
              "#ed7953"
             ],
             [
              0.7777777777777778,
              "#fb9f3a"
             ],
             [
              0.8888888888888888,
              "#fdca26"
             ],
             [
              1,
              "#f0f921"
             ]
            ],
            "type": "histogram2dcontour"
           }
          ],
          "mesh3d": [
           {
            "colorbar": {
             "outlinewidth": 0,
             "ticks": ""
            },
            "type": "mesh3d"
           }
          ],
          "parcoords": [
           {
            "line": {
             "colorbar": {
              "outlinewidth": 0,
              "ticks": ""
             }
            },
            "type": "parcoords"
           }
          ],
          "pie": [
           {
            "automargin": true,
            "type": "pie"
           }
          ],
          "scatter": [
           {
            "fillpattern": {
             "fillmode": "overlay",
             "size": 10,
             "solidity": 0.2
            },
            "type": "scatter"
           }
          ],
          "scatter3d": [
           {
            "line": {
             "colorbar": {
              "outlinewidth": 0,
              "ticks": ""
             }
            },
            "marker": {
             "colorbar": {
              "outlinewidth": 0,
              "ticks": ""
             }
            },
            "type": "scatter3d"
           }
          ],
          "scattercarpet": [
           {
            "marker": {
             "colorbar": {
              "outlinewidth": 0,
              "ticks": ""
             }
            },
            "type": "scattercarpet"
           }
          ],
          "scattergeo": [
           {
            "marker": {
             "colorbar": {
              "outlinewidth": 0,
              "ticks": ""
             }
            },
            "type": "scattergeo"
           }
          ],
          "scattergl": [
           {
            "marker": {
             "colorbar": {
              "outlinewidth": 0,
              "ticks": ""
             }
            },
            "type": "scattergl"
           }
          ],
          "scattermapbox": [
           {
            "marker": {
             "colorbar": {
              "outlinewidth": 0,
              "ticks": ""
             }
            },
            "type": "scattermapbox"
           }
          ],
          "scatterpolar": [
           {
            "marker": {
             "colorbar": {
              "outlinewidth": 0,
              "ticks": ""
             }
            },
            "type": "scatterpolar"
           }
          ],
          "scatterpolargl": [
           {
            "marker": {
             "colorbar": {
              "outlinewidth": 0,
              "ticks": ""
             }
            },
            "type": "scatterpolargl"
           }
          ],
          "scatterternary": [
           {
            "marker": {
             "colorbar": {
              "outlinewidth": 0,
              "ticks": ""
             }
            },
            "type": "scatterternary"
           }
          ],
          "surface": [
           {
            "colorbar": {
             "outlinewidth": 0,
             "ticks": ""
            },
            "colorscale": [
             [
              0,
              "#0d0887"
             ],
             [
              0.1111111111111111,
              "#46039f"
             ],
             [
              0.2222222222222222,
              "#7201a8"
             ],
             [
              0.3333333333333333,
              "#9c179e"
             ],
             [
              0.4444444444444444,
              "#bd3786"
             ],
             [
              0.5555555555555556,
              "#d8576b"
             ],
             [
              0.6666666666666666,
              "#ed7953"
             ],
             [
              0.7777777777777778,
              "#fb9f3a"
             ],
             [
              0.8888888888888888,
              "#fdca26"
             ],
             [
              1,
              "#f0f921"
             ]
            ],
            "type": "surface"
           }
          ],
          "table": [
           {
            "cells": {
             "fill": {
              "color": "#EBF0F8"
             },
             "line": {
              "color": "white"
             }
            },
            "header": {
             "fill": {
              "color": "#C8D4E3"
             },
             "line": {
              "color": "white"
             }
            },
            "type": "table"
           }
          ]
         },
         "layout": {
          "annotationdefaults": {
           "arrowcolor": "#2a3f5f",
           "arrowhead": 0,
           "arrowwidth": 1
          },
          "autotypenumbers": "strict",
          "coloraxis": {
           "colorbar": {
            "outlinewidth": 0,
            "ticks": ""
           }
          },
          "colorscale": {
           "diverging": [
            [
             0,
             "#8e0152"
            ],
            [
             0.1,
             "#c51b7d"
            ],
            [
             0.2,
             "#de77ae"
            ],
            [
             0.3,
             "#f1b6da"
            ],
            [
             0.4,
             "#fde0ef"
            ],
            [
             0.5,
             "#f7f7f7"
            ],
            [
             0.6,
             "#e6f5d0"
            ],
            [
             0.7,
             "#b8e186"
            ],
            [
             0.8,
             "#7fbc41"
            ],
            [
             0.9,
             "#4d9221"
            ],
            [
             1,
             "#276419"
            ]
           ],
           "sequential": [
            [
             0,
             "#0d0887"
            ],
            [
             0.1111111111111111,
             "#46039f"
            ],
            [
             0.2222222222222222,
             "#7201a8"
            ],
            [
             0.3333333333333333,
             "#9c179e"
            ],
            [
             0.4444444444444444,
             "#bd3786"
            ],
            [
             0.5555555555555556,
             "#d8576b"
            ],
            [
             0.6666666666666666,
             "#ed7953"
            ],
            [
             0.7777777777777778,
             "#fb9f3a"
            ],
            [
             0.8888888888888888,
             "#fdca26"
            ],
            [
             1,
             "#f0f921"
            ]
           ],
           "sequentialminus": [
            [
             0,
             "#0d0887"
            ],
            [
             0.1111111111111111,
             "#46039f"
            ],
            [
             0.2222222222222222,
             "#7201a8"
            ],
            [
             0.3333333333333333,
             "#9c179e"
            ],
            [
             0.4444444444444444,
             "#bd3786"
            ],
            [
             0.5555555555555556,
             "#d8576b"
            ],
            [
             0.6666666666666666,
             "#ed7953"
            ],
            [
             0.7777777777777778,
             "#fb9f3a"
            ],
            [
             0.8888888888888888,
             "#fdca26"
            ],
            [
             1,
             "#f0f921"
            ]
           ]
          },
          "colorway": [
           "#636efa",
           "#EF553B",
           "#00cc96",
           "#ab63fa",
           "#FFA15A",
           "#19d3f3",
           "#FF6692",
           "#B6E880",
           "#FF97FF",
           "#FECB52"
          ],
          "font": {
           "color": "#2a3f5f"
          },
          "geo": {
           "bgcolor": "white",
           "lakecolor": "white",
           "landcolor": "#E5ECF6",
           "showlakes": true,
           "showland": true,
           "subunitcolor": "white"
          },
          "hoverlabel": {
           "align": "left"
          },
          "hovermode": "closest",
          "mapbox": {
           "style": "light"
          },
          "paper_bgcolor": "white",
          "plot_bgcolor": "#E5ECF6",
          "polar": {
           "angularaxis": {
            "gridcolor": "white",
            "linecolor": "white",
            "ticks": ""
           },
           "bgcolor": "#E5ECF6",
           "radialaxis": {
            "gridcolor": "white",
            "linecolor": "white",
            "ticks": ""
           }
          },
          "scene": {
           "xaxis": {
            "backgroundcolor": "#E5ECF6",
            "gridcolor": "white",
            "gridwidth": 2,
            "linecolor": "white",
            "showbackground": true,
            "ticks": "",
            "zerolinecolor": "white"
           },
           "yaxis": {
            "backgroundcolor": "#E5ECF6",
            "gridcolor": "white",
            "gridwidth": 2,
            "linecolor": "white",
            "showbackground": true,
            "ticks": "",
            "zerolinecolor": "white"
           },
           "zaxis": {
            "backgroundcolor": "#E5ECF6",
            "gridcolor": "white",
            "gridwidth": 2,
            "linecolor": "white",
            "showbackground": true,
            "ticks": "",
            "zerolinecolor": "white"
           }
          },
          "shapedefaults": {
           "line": {
            "color": "#2a3f5f"
           }
          },
          "ternary": {
           "aaxis": {
            "gridcolor": "white",
            "linecolor": "white",
            "ticks": ""
           },
           "baxis": {
            "gridcolor": "white",
            "linecolor": "white",
            "ticks": ""
           },
           "bgcolor": "#E5ECF6",
           "caxis": {
            "gridcolor": "white",
            "linecolor": "white",
            "ticks": ""
           }
          },
          "title": {
           "x": 0.05
          },
          "xaxis": {
           "automargin": true,
           "gridcolor": "white",
           "linecolor": "white",
           "ticks": "",
           "title": {
            "standoff": 15
           },
           "zerolinecolor": "white",
           "zerolinewidth": 2
          },
          "yaxis": {
           "automargin": true,
           "gridcolor": "white",
           "linecolor": "white",
           "ticks": "",
           "title": {
            "standoff": 15
           },
           "zerolinecolor": "white",
           "zerolinewidth": 2
          }
         }
        },
        "title": {
         "text": "Slice Plot"
        },
        "width": 1200,
        "xaxis": {
         "anchor": "y",
         "domain": [
          0,
          0.2125
         ],
         "title": {
          "text": "C"
         },
         "type": "log"
        },
        "xaxis2": {
         "anchor": "y2",
         "domain": [
          0.2625,
          0.475
         ],
         "title": {
          "text": "max_iter"
         }
        },
        "xaxis3": {
         "anchor": "y3",
         "categoryarray": [
          "l1",
          "l2"
         ],
         "categoryorder": "array",
         "domain": [
          0.525,
          0.7375
         ],
         "title": {
          "text": "penalty"
         },
         "type": "category"
        },
        "xaxis4": {
         "anchor": "y4",
         "categoryarray": [
          "liblinear",
          "saga"
         ],
         "categoryorder": "array",
         "domain": [
          0.7875,
          1
         ],
         "title": {
          "text": "solver"
         },
         "type": "category"
        },
        "yaxis": {
         "anchor": "x",
         "domain": [
          0,
          1
         ],
         "title": {
          "text": "Objective Value"
         }
        },
        "yaxis2": {
         "anchor": "x2",
         "domain": [
          0,
          1
         ],
         "matches": "y",
         "showticklabels": false
        },
        "yaxis3": {
         "anchor": "x3",
         "domain": [
          0,
          1
         ],
         "matches": "y",
         "showticklabels": false
        },
        "yaxis4": {
         "anchor": "x4",
         "domain": [
          0,
          1
         ],
         "matches": "y",
         "showticklabels": false
        }
       }
      }
     },
     "metadata": {},
     "output_type": "display_data"
    }
   ],
   "source": [
    "optuna.visualization.plot_slice(study, params=['penalty', 'C', 'max_iter', 'solver'])"
   ]
  },
  {
   "cell_type": "code",
   "execution_count": 27,
   "metadata": {},
   "outputs": [
    {
     "data": {
      "application/vnd.plotly.v1+json": {
       "config": {
        "plotlyServerURL": "https://plot.ly"
       },
       "data": [
        {
         "cliponaxis": false,
         "hovertemplate": [
          "solver (CategoricalDistribution): 0.00028295385858980295<extra></extra>",
          "max_iter (IntDistribution): 0.002110669991999641<extra></extra>",
          "penalty (CategoricalDistribution): 0.3140762468940149<extra></extra>",
          "C (FloatDistribution): 0.6835301292553957<extra></extra>"
         ],
         "name": "Objective Value",
         "orientation": "h",
         "text": [
          "<0.01",
          "<0.01",
          "0.31",
          "0.68"
         ],
         "textposition": "outside",
         "type": "bar",
         "x": [
          0.00028295385858980295,
          0.002110669991999641,
          0.3140762468940149,
          0.6835301292553957
         ],
         "y": [
          "solver",
          "max_iter",
          "penalty",
          "C"
         ]
        }
       ],
       "layout": {
        "template": {
         "data": {
          "bar": [
           {
            "error_x": {
             "color": "#2a3f5f"
            },
            "error_y": {
             "color": "#2a3f5f"
            },
            "marker": {
             "line": {
              "color": "#E5ECF6",
              "width": 0.5
             },
             "pattern": {
              "fillmode": "overlay",
              "size": 10,
              "solidity": 0.2
             }
            },
            "type": "bar"
           }
          ],
          "barpolar": [
           {
            "marker": {
             "line": {
              "color": "#E5ECF6",
              "width": 0.5
             },
             "pattern": {
              "fillmode": "overlay",
              "size": 10,
              "solidity": 0.2
             }
            },
            "type": "barpolar"
           }
          ],
          "carpet": [
           {
            "aaxis": {
             "endlinecolor": "#2a3f5f",
             "gridcolor": "white",
             "linecolor": "white",
             "minorgridcolor": "white",
             "startlinecolor": "#2a3f5f"
            },
            "baxis": {
             "endlinecolor": "#2a3f5f",
             "gridcolor": "white",
             "linecolor": "white",
             "minorgridcolor": "white",
             "startlinecolor": "#2a3f5f"
            },
            "type": "carpet"
           }
          ],
          "choropleth": [
           {
            "colorbar": {
             "outlinewidth": 0,
             "ticks": ""
            },
            "type": "choropleth"
           }
          ],
          "contour": [
           {
            "colorbar": {
             "outlinewidth": 0,
             "ticks": ""
            },
            "colorscale": [
             [
              0,
              "#0d0887"
             ],
             [
              0.1111111111111111,
              "#46039f"
             ],
             [
              0.2222222222222222,
              "#7201a8"
             ],
             [
              0.3333333333333333,
              "#9c179e"
             ],
             [
              0.4444444444444444,
              "#bd3786"
             ],
             [
              0.5555555555555556,
              "#d8576b"
             ],
             [
              0.6666666666666666,
              "#ed7953"
             ],
             [
              0.7777777777777778,
              "#fb9f3a"
             ],
             [
              0.8888888888888888,
              "#fdca26"
             ],
             [
              1,
              "#f0f921"
             ]
            ],
            "type": "contour"
           }
          ],
          "contourcarpet": [
           {
            "colorbar": {
             "outlinewidth": 0,
             "ticks": ""
            },
            "type": "contourcarpet"
           }
          ],
          "heatmap": [
           {
            "colorbar": {
             "outlinewidth": 0,
             "ticks": ""
            },
            "colorscale": [
             [
              0,
              "#0d0887"
             ],
             [
              0.1111111111111111,
              "#46039f"
             ],
             [
              0.2222222222222222,
              "#7201a8"
             ],
             [
              0.3333333333333333,
              "#9c179e"
             ],
             [
              0.4444444444444444,
              "#bd3786"
             ],
             [
              0.5555555555555556,
              "#d8576b"
             ],
             [
              0.6666666666666666,
              "#ed7953"
             ],
             [
              0.7777777777777778,
              "#fb9f3a"
             ],
             [
              0.8888888888888888,
              "#fdca26"
             ],
             [
              1,
              "#f0f921"
             ]
            ],
            "type": "heatmap"
           }
          ],
          "heatmapgl": [
           {
            "colorbar": {
             "outlinewidth": 0,
             "ticks": ""
            },
            "colorscale": [
             [
              0,
              "#0d0887"
             ],
             [
              0.1111111111111111,
              "#46039f"
             ],
             [
              0.2222222222222222,
              "#7201a8"
             ],
             [
              0.3333333333333333,
              "#9c179e"
             ],
             [
              0.4444444444444444,
              "#bd3786"
             ],
             [
              0.5555555555555556,
              "#d8576b"
             ],
             [
              0.6666666666666666,
              "#ed7953"
             ],
             [
              0.7777777777777778,
              "#fb9f3a"
             ],
             [
              0.8888888888888888,
              "#fdca26"
             ],
             [
              1,
              "#f0f921"
             ]
            ],
            "type": "heatmapgl"
           }
          ],
          "histogram": [
           {
            "marker": {
             "pattern": {
              "fillmode": "overlay",
              "size": 10,
              "solidity": 0.2
             }
            },
            "type": "histogram"
           }
          ],
          "histogram2d": [
           {
            "colorbar": {
             "outlinewidth": 0,
             "ticks": ""
            },
            "colorscale": [
             [
              0,
              "#0d0887"
             ],
             [
              0.1111111111111111,
              "#46039f"
             ],
             [
              0.2222222222222222,
              "#7201a8"
             ],
             [
              0.3333333333333333,
              "#9c179e"
             ],
             [
              0.4444444444444444,
              "#bd3786"
             ],
             [
              0.5555555555555556,
              "#d8576b"
             ],
             [
              0.6666666666666666,
              "#ed7953"
             ],
             [
              0.7777777777777778,
              "#fb9f3a"
             ],
             [
              0.8888888888888888,
              "#fdca26"
             ],
             [
              1,
              "#f0f921"
             ]
            ],
            "type": "histogram2d"
           }
          ],
          "histogram2dcontour": [
           {
            "colorbar": {
             "outlinewidth": 0,
             "ticks": ""
            },
            "colorscale": [
             [
              0,
              "#0d0887"
             ],
             [
              0.1111111111111111,
              "#46039f"
             ],
             [
              0.2222222222222222,
              "#7201a8"
             ],
             [
              0.3333333333333333,
              "#9c179e"
             ],
             [
              0.4444444444444444,
              "#bd3786"
             ],
             [
              0.5555555555555556,
              "#d8576b"
             ],
             [
              0.6666666666666666,
              "#ed7953"
             ],
             [
              0.7777777777777778,
              "#fb9f3a"
             ],
             [
              0.8888888888888888,
              "#fdca26"
             ],
             [
              1,
              "#f0f921"
             ]
            ],
            "type": "histogram2dcontour"
           }
          ],
          "mesh3d": [
           {
            "colorbar": {
             "outlinewidth": 0,
             "ticks": ""
            },
            "type": "mesh3d"
           }
          ],
          "parcoords": [
           {
            "line": {
             "colorbar": {
              "outlinewidth": 0,
              "ticks": ""
             }
            },
            "type": "parcoords"
           }
          ],
          "pie": [
           {
            "automargin": true,
            "type": "pie"
           }
          ],
          "scatter": [
           {
            "fillpattern": {
             "fillmode": "overlay",
             "size": 10,
             "solidity": 0.2
            },
            "type": "scatter"
           }
          ],
          "scatter3d": [
           {
            "line": {
             "colorbar": {
              "outlinewidth": 0,
              "ticks": ""
             }
            },
            "marker": {
             "colorbar": {
              "outlinewidth": 0,
              "ticks": ""
             }
            },
            "type": "scatter3d"
           }
          ],
          "scattercarpet": [
           {
            "marker": {
             "colorbar": {
              "outlinewidth": 0,
              "ticks": ""
             }
            },
            "type": "scattercarpet"
           }
          ],
          "scattergeo": [
           {
            "marker": {
             "colorbar": {
              "outlinewidth": 0,
              "ticks": ""
             }
            },
            "type": "scattergeo"
           }
          ],
          "scattergl": [
           {
            "marker": {
             "colorbar": {
              "outlinewidth": 0,
              "ticks": ""
             }
            },
            "type": "scattergl"
           }
          ],
          "scattermapbox": [
           {
            "marker": {
             "colorbar": {
              "outlinewidth": 0,
              "ticks": ""
             }
            },
            "type": "scattermapbox"
           }
          ],
          "scatterpolar": [
           {
            "marker": {
             "colorbar": {
              "outlinewidth": 0,
              "ticks": ""
             }
            },
            "type": "scatterpolar"
           }
          ],
          "scatterpolargl": [
           {
            "marker": {
             "colorbar": {
              "outlinewidth": 0,
              "ticks": ""
             }
            },
            "type": "scatterpolargl"
           }
          ],
          "scatterternary": [
           {
            "marker": {
             "colorbar": {
              "outlinewidth": 0,
              "ticks": ""
             }
            },
            "type": "scatterternary"
           }
          ],
          "surface": [
           {
            "colorbar": {
             "outlinewidth": 0,
             "ticks": ""
            },
            "colorscale": [
             [
              0,
              "#0d0887"
             ],
             [
              0.1111111111111111,
              "#46039f"
             ],
             [
              0.2222222222222222,
              "#7201a8"
             ],
             [
              0.3333333333333333,
              "#9c179e"
             ],
             [
              0.4444444444444444,
              "#bd3786"
             ],
             [
              0.5555555555555556,
              "#d8576b"
             ],
             [
              0.6666666666666666,
              "#ed7953"
             ],
             [
              0.7777777777777778,
              "#fb9f3a"
             ],
             [
              0.8888888888888888,
              "#fdca26"
             ],
             [
              1,
              "#f0f921"
             ]
            ],
            "type": "surface"
           }
          ],
          "table": [
           {
            "cells": {
             "fill": {
              "color": "#EBF0F8"
             },
             "line": {
              "color": "white"
             }
            },
            "header": {
             "fill": {
              "color": "#C8D4E3"
             },
             "line": {
              "color": "white"
             }
            },
            "type": "table"
           }
          ]
         },
         "layout": {
          "annotationdefaults": {
           "arrowcolor": "#2a3f5f",
           "arrowhead": 0,
           "arrowwidth": 1
          },
          "autotypenumbers": "strict",
          "coloraxis": {
           "colorbar": {
            "outlinewidth": 0,
            "ticks": ""
           }
          },
          "colorscale": {
           "diverging": [
            [
             0,
             "#8e0152"
            ],
            [
             0.1,
             "#c51b7d"
            ],
            [
             0.2,
             "#de77ae"
            ],
            [
             0.3,
             "#f1b6da"
            ],
            [
             0.4,
             "#fde0ef"
            ],
            [
             0.5,
             "#f7f7f7"
            ],
            [
             0.6,
             "#e6f5d0"
            ],
            [
             0.7,
             "#b8e186"
            ],
            [
             0.8,
             "#7fbc41"
            ],
            [
             0.9,
             "#4d9221"
            ],
            [
             1,
             "#276419"
            ]
           ],
           "sequential": [
            [
             0,
             "#0d0887"
            ],
            [
             0.1111111111111111,
             "#46039f"
            ],
            [
             0.2222222222222222,
             "#7201a8"
            ],
            [
             0.3333333333333333,
             "#9c179e"
            ],
            [
             0.4444444444444444,
             "#bd3786"
            ],
            [
             0.5555555555555556,
             "#d8576b"
            ],
            [
             0.6666666666666666,
             "#ed7953"
            ],
            [
             0.7777777777777778,
             "#fb9f3a"
            ],
            [
             0.8888888888888888,
             "#fdca26"
            ],
            [
             1,
             "#f0f921"
            ]
           ],
           "sequentialminus": [
            [
             0,
             "#0d0887"
            ],
            [
             0.1111111111111111,
             "#46039f"
            ],
            [
             0.2222222222222222,
             "#7201a8"
            ],
            [
             0.3333333333333333,
             "#9c179e"
            ],
            [
             0.4444444444444444,
             "#bd3786"
            ],
            [
             0.5555555555555556,
             "#d8576b"
            ],
            [
             0.6666666666666666,
             "#ed7953"
            ],
            [
             0.7777777777777778,
             "#fb9f3a"
            ],
            [
             0.8888888888888888,
             "#fdca26"
            ],
            [
             1,
             "#f0f921"
            ]
           ]
          },
          "colorway": [
           "#636efa",
           "#EF553B",
           "#00cc96",
           "#ab63fa",
           "#FFA15A",
           "#19d3f3",
           "#FF6692",
           "#B6E880",
           "#FF97FF",
           "#FECB52"
          ],
          "font": {
           "color": "#2a3f5f"
          },
          "geo": {
           "bgcolor": "white",
           "lakecolor": "white",
           "landcolor": "#E5ECF6",
           "showlakes": true,
           "showland": true,
           "subunitcolor": "white"
          },
          "hoverlabel": {
           "align": "left"
          },
          "hovermode": "closest",
          "mapbox": {
           "style": "light"
          },
          "paper_bgcolor": "white",
          "plot_bgcolor": "#E5ECF6",
          "polar": {
           "angularaxis": {
            "gridcolor": "white",
            "linecolor": "white",
            "ticks": ""
           },
           "bgcolor": "#E5ECF6",
           "radialaxis": {
            "gridcolor": "white",
            "linecolor": "white",
            "ticks": ""
           }
          },
          "scene": {
           "xaxis": {
            "backgroundcolor": "#E5ECF6",
            "gridcolor": "white",
            "gridwidth": 2,
            "linecolor": "white",
            "showbackground": true,
            "ticks": "",
            "zerolinecolor": "white"
           },
           "yaxis": {
            "backgroundcolor": "#E5ECF6",
            "gridcolor": "white",
            "gridwidth": 2,
            "linecolor": "white",
            "showbackground": true,
            "ticks": "",
            "zerolinecolor": "white"
           },
           "zaxis": {
            "backgroundcolor": "#E5ECF6",
            "gridcolor": "white",
            "gridwidth": 2,
            "linecolor": "white",
            "showbackground": true,
            "ticks": "",
            "zerolinecolor": "white"
           }
          },
          "shapedefaults": {
           "line": {
            "color": "#2a3f5f"
           }
          },
          "ternary": {
           "aaxis": {
            "gridcolor": "white",
            "linecolor": "white",
            "ticks": ""
           },
           "baxis": {
            "gridcolor": "white",
            "linecolor": "white",
            "ticks": ""
           },
           "bgcolor": "#E5ECF6",
           "caxis": {
            "gridcolor": "white",
            "linecolor": "white",
            "ticks": ""
           }
          },
          "title": {
           "x": 0.05
          },
          "xaxis": {
           "automargin": true,
           "gridcolor": "white",
           "linecolor": "white",
           "ticks": "",
           "title": {
            "standoff": 15
           },
           "zerolinecolor": "white",
           "zerolinewidth": 2
          },
          "yaxis": {
           "automargin": true,
           "gridcolor": "white",
           "linecolor": "white",
           "ticks": "",
           "title": {
            "standoff": 15
           },
           "zerolinecolor": "white",
           "zerolinewidth": 2
          }
         }
        },
        "title": {
         "text": "Hyperparameter Importances"
        },
        "xaxis": {
         "title": {
          "text": "Hyperparameter Importance"
         }
        },
        "yaxis": {
         "title": {
          "text": "Hyperparameter"
         }
        }
       }
      }
     },
     "metadata": {},
     "output_type": "display_data"
    }
   ],
   "source": [
    "optuna.visualization.plot_param_importances(study)"
   ]
  },
  {
   "cell_type": "code",
   "execution_count": 28,
   "metadata": {},
   "outputs": [
    {
     "data": {
      "application/vnd.plotly.v1+json": {
       "config": {
        "plotlyServerURL": "https://plot.ly"
       },
       "data": [
        {
         "mode": "lines",
         "name": "no-name-1d6836f6-9f3c-4b43-96dc-341aeed017f5",
         "type": "scatter",
         "x": [
          0.7115256495669554,
          0.7118890436678579,
          0.7122524377687602,
          0.7126158318696627,
          0.7129792259705652,
          0.7133426200714675,
          0.71370601417237,
          0.7140694082732724,
          0.7144328023741748,
          0.7147961964750773,
          0.7151595905759797,
          0.7155229846768821,
          0.7158863787777846,
          0.716249772878687,
          0.7166131669795894,
          0.7169765610804918,
          0.7173399551813943,
          0.7177033492822967,
          0.7180667433831991,
          0.7184301374841016,
          0.718793531585004,
          0.7191569256859064,
          0.7195203197868089,
          0.7198837138877112,
          0.7202471079886137,
          0.7206105020895162,
          0.7209738961904185,
          0.721337290291321,
          0.7217006843922235,
          0.7220640784931258,
          0.7224274725940283,
          0.7227908666949306,
          0.7231542607958331,
          0.7235176548967356,
          0.7238810489976379,
          0.7242444430985404,
          0.7246078371994429,
          0.7249712313003452,
          0.7253346254012477,
          0.7256980195021501,
          0.7260614136030525,
          0.726424807703955,
          0.7267882018048574,
          0.7271515959057598,
          0.7275149900066623,
          0.7278783841075647,
          0.7282417782084671,
          0.7286051723093695,
          0.728968566410272,
          0.7293319605111744,
          0.7296953546120768,
          0.7300587487129793,
          0.7304221428138817,
          0.7307855369147841,
          0.7311489310156866,
          0.7315123251165889,
          0.7318757192174914,
          0.7322391133183939,
          0.7326025074192962,
          0.7329659015201987,
          0.7333292956211012,
          0.7336926897220035,
          0.734056083822906,
          0.7344194779238084,
          0.7347828720247108,
          0.7351462661256133,
          0.7355096602265156,
          0.7358730543274181,
          0.7362364484283206,
          0.736599842529223,
          0.7369632366301254,
          0.7373266307310278,
          0.7376900248319302,
          0.7380534189328327,
          0.7384168130337351,
          0.7387802071346375,
          0.73914360123554,
          0.7395069953364424,
          0.7398703894373448,
          0.7402337835382473,
          0.7405971776391497,
          0.7409605717400521,
          0.7413239658409545,
          0.741687359941857,
          0.7420507540427594,
          0.7424141481436618,
          0.7427775422445643,
          0.7431409363454666,
          0.7435043304463691,
          0.7438677245472716,
          0.7442311186481739,
          0.7445945127490764,
          0.7449579068499789,
          0.7453213009508812,
          0.7456846950517837,
          0.7460480891526862,
          0.7464114832535885,
          0.746774877354491,
          0.7471382714553934,
          0.7475016655562958
         ],
         "y": [
          0.005,
          0.005,
          0.005,
          0.005,
          0.005,
          0.005,
          0.005,
          0.005,
          0.005,
          0.005,
          0.005,
          0.01,
          0.015,
          0.02,
          0.02,
          0.02,
          0.02,
          0.02,
          0.02,
          0.025,
          0.025,
          0.025,
          0.025,
          0.025,
          0.025,
          0.025,
          0.025,
          0.025,
          0.025,
          0.035,
          0.035,
          0.04,
          0.04,
          0.045,
          0.055,
          0.06,
          0.075,
          0.075,
          0.08,
          0.085,
          0.09,
          0.1,
          0.1,
          0.1,
          0.125,
          0.125,
          0.13,
          0.13,
          0.135,
          0.135,
          0.135,
          0.135,
          0.145,
          0.145,
          0.145,
          0.15,
          0.155,
          0.155,
          0.155,
          0.16,
          0.16,
          0.165,
          0.17,
          0.17,
          0.185,
          0.185,
          0.19,
          0.19,
          0.195,
          0.2,
          0.2,
          0.2,
          0.2,
          0.2,
          0.205,
          0.21,
          0.22,
          0.26,
          0.285,
          0.3,
          0.305,
          0.335,
          0.385,
          0.435,
          0.51,
          0.555,
          0.6,
          0.625,
          0.635,
          0.65,
          0.675,
          0.685,
          0.7,
          0.735,
          0.79,
          0.805,
          0.81,
          0.885,
          0.96,
          1
         ]
        }
       ],
       "layout": {
        "template": {
         "data": {
          "bar": [
           {
            "error_x": {
             "color": "#2a3f5f"
            },
            "error_y": {
             "color": "#2a3f5f"
            },
            "marker": {
             "line": {
              "color": "#E5ECF6",
              "width": 0.5
             },
             "pattern": {
              "fillmode": "overlay",
              "size": 10,
              "solidity": 0.2
             }
            },
            "type": "bar"
           }
          ],
          "barpolar": [
           {
            "marker": {
             "line": {
              "color": "#E5ECF6",
              "width": 0.5
             },
             "pattern": {
              "fillmode": "overlay",
              "size": 10,
              "solidity": 0.2
             }
            },
            "type": "barpolar"
           }
          ],
          "carpet": [
           {
            "aaxis": {
             "endlinecolor": "#2a3f5f",
             "gridcolor": "white",
             "linecolor": "white",
             "minorgridcolor": "white",
             "startlinecolor": "#2a3f5f"
            },
            "baxis": {
             "endlinecolor": "#2a3f5f",
             "gridcolor": "white",
             "linecolor": "white",
             "minorgridcolor": "white",
             "startlinecolor": "#2a3f5f"
            },
            "type": "carpet"
           }
          ],
          "choropleth": [
           {
            "colorbar": {
             "outlinewidth": 0,
             "ticks": ""
            },
            "type": "choropleth"
           }
          ],
          "contour": [
           {
            "colorbar": {
             "outlinewidth": 0,
             "ticks": ""
            },
            "colorscale": [
             [
              0,
              "#0d0887"
             ],
             [
              0.1111111111111111,
              "#46039f"
             ],
             [
              0.2222222222222222,
              "#7201a8"
             ],
             [
              0.3333333333333333,
              "#9c179e"
             ],
             [
              0.4444444444444444,
              "#bd3786"
             ],
             [
              0.5555555555555556,
              "#d8576b"
             ],
             [
              0.6666666666666666,
              "#ed7953"
             ],
             [
              0.7777777777777778,
              "#fb9f3a"
             ],
             [
              0.8888888888888888,
              "#fdca26"
             ],
             [
              1,
              "#f0f921"
             ]
            ],
            "type": "contour"
           }
          ],
          "contourcarpet": [
           {
            "colorbar": {
             "outlinewidth": 0,
             "ticks": ""
            },
            "type": "contourcarpet"
           }
          ],
          "heatmap": [
           {
            "colorbar": {
             "outlinewidth": 0,
             "ticks": ""
            },
            "colorscale": [
             [
              0,
              "#0d0887"
             ],
             [
              0.1111111111111111,
              "#46039f"
             ],
             [
              0.2222222222222222,
              "#7201a8"
             ],
             [
              0.3333333333333333,
              "#9c179e"
             ],
             [
              0.4444444444444444,
              "#bd3786"
             ],
             [
              0.5555555555555556,
              "#d8576b"
             ],
             [
              0.6666666666666666,
              "#ed7953"
             ],
             [
              0.7777777777777778,
              "#fb9f3a"
             ],
             [
              0.8888888888888888,
              "#fdca26"
             ],
             [
              1,
              "#f0f921"
             ]
            ],
            "type": "heatmap"
           }
          ],
          "heatmapgl": [
           {
            "colorbar": {
             "outlinewidth": 0,
             "ticks": ""
            },
            "colorscale": [
             [
              0,
              "#0d0887"
             ],
             [
              0.1111111111111111,
              "#46039f"
             ],
             [
              0.2222222222222222,
              "#7201a8"
             ],
             [
              0.3333333333333333,
              "#9c179e"
             ],
             [
              0.4444444444444444,
              "#bd3786"
             ],
             [
              0.5555555555555556,
              "#d8576b"
             ],
             [
              0.6666666666666666,
              "#ed7953"
             ],
             [
              0.7777777777777778,
              "#fb9f3a"
             ],
             [
              0.8888888888888888,
              "#fdca26"
             ],
             [
              1,
              "#f0f921"
             ]
            ],
            "type": "heatmapgl"
           }
          ],
          "histogram": [
           {
            "marker": {
             "pattern": {
              "fillmode": "overlay",
              "size": 10,
              "solidity": 0.2
             }
            },
            "type": "histogram"
           }
          ],
          "histogram2d": [
           {
            "colorbar": {
             "outlinewidth": 0,
             "ticks": ""
            },
            "colorscale": [
             [
              0,
              "#0d0887"
             ],
             [
              0.1111111111111111,
              "#46039f"
             ],
             [
              0.2222222222222222,
              "#7201a8"
             ],
             [
              0.3333333333333333,
              "#9c179e"
             ],
             [
              0.4444444444444444,
              "#bd3786"
             ],
             [
              0.5555555555555556,
              "#d8576b"
             ],
             [
              0.6666666666666666,
              "#ed7953"
             ],
             [
              0.7777777777777778,
              "#fb9f3a"
             ],
             [
              0.8888888888888888,
              "#fdca26"
             ],
             [
              1,
              "#f0f921"
             ]
            ],
            "type": "histogram2d"
           }
          ],
          "histogram2dcontour": [
           {
            "colorbar": {
             "outlinewidth": 0,
             "ticks": ""
            },
            "colorscale": [
             [
              0,
              "#0d0887"
             ],
             [
              0.1111111111111111,
              "#46039f"
             ],
             [
              0.2222222222222222,
              "#7201a8"
             ],
             [
              0.3333333333333333,
              "#9c179e"
             ],
             [
              0.4444444444444444,
              "#bd3786"
             ],
             [
              0.5555555555555556,
              "#d8576b"
             ],
             [
              0.6666666666666666,
              "#ed7953"
             ],
             [
              0.7777777777777778,
              "#fb9f3a"
             ],
             [
              0.8888888888888888,
              "#fdca26"
             ],
             [
              1,
              "#f0f921"
             ]
            ],
            "type": "histogram2dcontour"
           }
          ],
          "mesh3d": [
           {
            "colorbar": {
             "outlinewidth": 0,
             "ticks": ""
            },
            "type": "mesh3d"
           }
          ],
          "parcoords": [
           {
            "line": {
             "colorbar": {
              "outlinewidth": 0,
              "ticks": ""
             }
            },
            "type": "parcoords"
           }
          ],
          "pie": [
           {
            "automargin": true,
            "type": "pie"
           }
          ],
          "scatter": [
           {
            "fillpattern": {
             "fillmode": "overlay",
             "size": 10,
             "solidity": 0.2
            },
            "type": "scatter"
           }
          ],
          "scatter3d": [
           {
            "line": {
             "colorbar": {
              "outlinewidth": 0,
              "ticks": ""
             }
            },
            "marker": {
             "colorbar": {
              "outlinewidth": 0,
              "ticks": ""
             }
            },
            "type": "scatter3d"
           }
          ],
          "scattercarpet": [
           {
            "marker": {
             "colorbar": {
              "outlinewidth": 0,
              "ticks": ""
             }
            },
            "type": "scattercarpet"
           }
          ],
          "scattergeo": [
           {
            "marker": {
             "colorbar": {
              "outlinewidth": 0,
              "ticks": ""
             }
            },
            "type": "scattergeo"
           }
          ],
          "scattergl": [
           {
            "marker": {
             "colorbar": {
              "outlinewidth": 0,
              "ticks": ""
             }
            },
            "type": "scattergl"
           }
          ],
          "scattermapbox": [
           {
            "marker": {
             "colorbar": {
              "outlinewidth": 0,
              "ticks": ""
             }
            },
            "type": "scattermapbox"
           }
          ],
          "scatterpolar": [
           {
            "marker": {
             "colorbar": {
              "outlinewidth": 0,
              "ticks": ""
             }
            },
            "type": "scatterpolar"
           }
          ],
          "scatterpolargl": [
           {
            "marker": {
             "colorbar": {
              "outlinewidth": 0,
              "ticks": ""
             }
            },
            "type": "scatterpolargl"
           }
          ],
          "scatterternary": [
           {
            "marker": {
             "colorbar": {
              "outlinewidth": 0,
              "ticks": ""
             }
            },
            "type": "scatterternary"
           }
          ],
          "surface": [
           {
            "colorbar": {
             "outlinewidth": 0,
             "ticks": ""
            },
            "colorscale": [
             [
              0,
              "#0d0887"
             ],
             [
              0.1111111111111111,
              "#46039f"
             ],
             [
              0.2222222222222222,
              "#7201a8"
             ],
             [
              0.3333333333333333,
              "#9c179e"
             ],
             [
              0.4444444444444444,
              "#bd3786"
             ],
             [
              0.5555555555555556,
              "#d8576b"
             ],
             [
              0.6666666666666666,
              "#ed7953"
             ],
             [
              0.7777777777777778,
              "#fb9f3a"
             ],
             [
              0.8888888888888888,
              "#fdca26"
             ],
             [
              1,
              "#f0f921"
             ]
            ],
            "type": "surface"
           }
          ],
          "table": [
           {
            "cells": {
             "fill": {
              "color": "#EBF0F8"
             },
             "line": {
              "color": "white"
             }
            },
            "header": {
             "fill": {
              "color": "#C8D4E3"
             },
             "line": {
              "color": "white"
             }
            },
            "type": "table"
           }
          ]
         },
         "layout": {
          "annotationdefaults": {
           "arrowcolor": "#2a3f5f",
           "arrowhead": 0,
           "arrowwidth": 1
          },
          "autotypenumbers": "strict",
          "coloraxis": {
           "colorbar": {
            "outlinewidth": 0,
            "ticks": ""
           }
          },
          "colorscale": {
           "diverging": [
            [
             0,
             "#8e0152"
            ],
            [
             0.1,
             "#c51b7d"
            ],
            [
             0.2,
             "#de77ae"
            ],
            [
             0.3,
             "#f1b6da"
            ],
            [
             0.4,
             "#fde0ef"
            ],
            [
             0.5,
             "#f7f7f7"
            ],
            [
             0.6,
             "#e6f5d0"
            ],
            [
             0.7,
             "#b8e186"
            ],
            [
             0.8,
             "#7fbc41"
            ],
            [
             0.9,
             "#4d9221"
            ],
            [
             1,
             "#276419"
            ]
           ],
           "sequential": [
            [
             0,
             "#0d0887"
            ],
            [
             0.1111111111111111,
             "#46039f"
            ],
            [
             0.2222222222222222,
             "#7201a8"
            ],
            [
             0.3333333333333333,
             "#9c179e"
            ],
            [
             0.4444444444444444,
             "#bd3786"
            ],
            [
             0.5555555555555556,
             "#d8576b"
            ],
            [
             0.6666666666666666,
             "#ed7953"
            ],
            [
             0.7777777777777778,
             "#fb9f3a"
            ],
            [
             0.8888888888888888,
             "#fdca26"
            ],
            [
             1,
             "#f0f921"
            ]
           ],
           "sequentialminus": [
            [
             0,
             "#0d0887"
            ],
            [
             0.1111111111111111,
             "#46039f"
            ],
            [
             0.2222222222222222,
             "#7201a8"
            ],
            [
             0.3333333333333333,
             "#9c179e"
            ],
            [
             0.4444444444444444,
             "#bd3786"
            ],
            [
             0.5555555555555556,
             "#d8576b"
            ],
            [
             0.6666666666666666,
             "#ed7953"
            ],
            [
             0.7777777777777778,
             "#fb9f3a"
            ],
            [
             0.8888888888888888,
             "#fdca26"
            ],
            [
             1,
             "#f0f921"
            ]
           ]
          },
          "colorway": [
           "#636efa",
           "#EF553B",
           "#00cc96",
           "#ab63fa",
           "#FFA15A",
           "#19d3f3",
           "#FF6692",
           "#B6E880",
           "#FF97FF",
           "#FECB52"
          ],
          "font": {
           "color": "#2a3f5f"
          },
          "geo": {
           "bgcolor": "white",
           "lakecolor": "white",
           "landcolor": "#E5ECF6",
           "showlakes": true,
           "showland": true,
           "subunitcolor": "white"
          },
          "hoverlabel": {
           "align": "left"
          },
          "hovermode": "closest",
          "mapbox": {
           "style": "light"
          },
          "paper_bgcolor": "white",
          "plot_bgcolor": "#E5ECF6",
          "polar": {
           "angularaxis": {
            "gridcolor": "white",
            "linecolor": "white",
            "ticks": ""
           },
           "bgcolor": "#E5ECF6",
           "radialaxis": {
            "gridcolor": "white",
            "linecolor": "white",
            "ticks": ""
           }
          },
          "scene": {
           "xaxis": {
            "backgroundcolor": "#E5ECF6",
            "gridcolor": "white",
            "gridwidth": 2,
            "linecolor": "white",
            "showbackground": true,
            "ticks": "",
            "zerolinecolor": "white"
           },
           "yaxis": {
            "backgroundcolor": "#E5ECF6",
            "gridcolor": "white",
            "gridwidth": 2,
            "linecolor": "white",
            "showbackground": true,
            "ticks": "",
            "zerolinecolor": "white"
           },
           "zaxis": {
            "backgroundcolor": "#E5ECF6",
            "gridcolor": "white",
            "gridwidth": 2,
            "linecolor": "white",
            "showbackground": true,
            "ticks": "",
            "zerolinecolor": "white"
           }
          },
          "shapedefaults": {
           "line": {
            "color": "#2a3f5f"
           }
          },
          "ternary": {
           "aaxis": {
            "gridcolor": "white",
            "linecolor": "white",
            "ticks": ""
           },
           "baxis": {
            "gridcolor": "white",
            "linecolor": "white",
            "ticks": ""
           },
           "bgcolor": "#E5ECF6",
           "caxis": {
            "gridcolor": "white",
            "linecolor": "white",
            "ticks": ""
           }
          },
          "title": {
           "x": 0.05
          },
          "xaxis": {
           "automargin": true,
           "gridcolor": "white",
           "linecolor": "white",
           "ticks": "",
           "title": {
            "standoff": 15
           },
           "zerolinecolor": "white",
           "zerolinewidth": 2
          },
          "yaxis": {
           "automargin": true,
           "gridcolor": "white",
           "linecolor": "white",
           "ticks": "",
           "title": {
            "standoff": 15
           },
           "zerolinecolor": "white",
           "zerolinewidth": 2
          }
         }
        },
        "title": {
         "text": "Empirical Distribution Function Plot"
        },
        "xaxis": {
         "title": {
          "text": "Objective Value"
         }
        },
        "yaxis": {
         "range": [
          0,
          1
         ],
         "title": {
          "text": "Cumulative Probability"
         }
        }
       }
      }
     },
     "metadata": {},
     "output_type": "display_data"
    }
   ],
   "source": [
    "optuna.visualization.plot_edf(study)"
   ]
  },
  {
   "cell_type": "markdown",
   "metadata": {},
   "source": [
    "Enlarge 'C' range and add elasticnet parameter (comes with l1_ratio)"
   ]
  },
  {
   "cell_type": "code",
   "execution_count": 29,
   "metadata": {},
   "outputs": [],
   "source": [
    "def objective(trial):\n",
    "    # Define the hyperparameters to optimize\n",
    "    l1_ratio = trial.suggest_uniform('l1_ratio', 0, 1)\n",
    "    penalty = trial.suggest_categorical('penalty', ['elasticnet'])\n",
    "    C = trial.suggest_loguniform('C', 0.01, 100.0)\n",
    "    max_iter = trial.suggest_int('max_iter', 100, 1000)\n",
    "    solver= trial.suggest_categorical('solver', ['saga'])\n",
    "    \n",
    "    # Create the logistic regression model with the hyperparameters\n",
    "    model = LogisticRegression(penalty=penalty, C=C, max_iter=max_iter,\n",
    "     solver=solver, l1_ratio=l1_ratio, random_state=seed)\n",
    "    \n",
    "    # Train the model\n",
    "    model.fit(X_train, y_train)\n",
    "    \n",
    "    # Make predictions on the test set\n",
    "    y_pred = model.predict(X_test)\n",
    "    \n",
    "    # Calculate the accuracy score\n",
    "    accuracy = accuracy_score(y_test, y_pred)\n",
    "    #score_cross_val = cross_val_score(model, X_train, y_train, cv=5, scoring='precision')\n",
    "\n",
    "    \n",
    "    return accuracy"
   ]
  },
  {
   "cell_type": "code",
   "execution_count": 30,
   "metadata": {},
   "outputs": [
    {
     "name": "stderr",
     "output_type": "stream",
     "text": [
      "[I 2024-06-08 00:04:44,416] A new study created in memory with name: no-name-6085c7ba-3cd7-447c-856e-14033a8ed678\n",
      "[I 2024-06-08 00:04:44,575] Trial 0 finished with value: 0.7468354430379747 and parameters: {'l1_ratio': 0.5172978838465893, 'penalty': 'elasticnet', 'C': 61.35506425409843, 'max_iter': 789, 'solver': 'saga'}. Best is trial 0 with value: 0.7468354430379747.\n",
      "[I 2024-06-08 00:04:44,704] Trial 1 finished with value: 0.7415056628914057 and parameters: {'l1_ratio': 0.2823958439671127, 'penalty': 'elasticnet', 'C': 0.07659165484895042, 'max_iter': 718, 'solver': 'saga'}. Best is trial 0 with value: 0.7468354430379747.\n",
      "[I 2024-06-08 00:04:44,827] Trial 2 finished with value: 0.7411725516322452 and parameters: {'l1_ratio': 0.16713920310005626, 'penalty': 'elasticnet', 'C': 0.37133840345513924, 'max_iter': 656, 'solver': 'saga'}. Best is trial 0 with value: 0.7468354430379747.\n",
      "[I 2024-06-08 00:04:44,956] Trial 3 finished with value: 0.7251832111925383 and parameters: {'l1_ratio': 0.411930094858746, 'penalty': 'elasticnet', 'C': 0.010229620554518289, 'max_iter': 896, 'solver': 'saga'}. Best is trial 0 with value: 0.7468354430379747.\n",
      "[I 2024-06-08 00:04:45,078] Trial 4 finished with value: 0.740506329113924 and parameters: {'l1_ratio': 0.8849475383764736, 'penalty': 'elasticnet', 'C': 0.15908848917427898, 'max_iter': 631, 'solver': 'saga'}. Best is trial 0 with value: 0.7468354430379747.\n",
      "[I 2024-06-08 00:04:45,220] Trial 5 finished with value: 0.7468354430379747 and parameters: {'l1_ratio': 0.9784269160148309, 'penalty': 'elasticnet', 'C': 24.009067273228535, 'max_iter': 158, 'solver': 'saga'}. Best is trial 0 with value: 0.7468354430379747.\n",
      "[I 2024-06-08 00:04:45,344] Trial 6 finished with value: 0.7435043304463691 and parameters: {'l1_ratio': 0.2947444647173656, 'penalty': 'elasticnet', 'C': 0.14182009235905965, 'max_iter': 841, 'solver': 'saga'}. Best is trial 0 with value: 0.7468354430379747.\n",
      "[I 2024-06-08 00:04:45,473] Trial 7 finished with value: 0.7331778814123917 and parameters: {'l1_ratio': 0.6261830379602461, 'penalty': 'elasticnet', 'C': 0.027663737545016442, 'max_iter': 100, 'solver': 'saga'}. Best is trial 0 with value: 0.7468354430379747.\n",
      "[I 2024-06-08 00:04:45,692] Trial 8 finished with value: 0.7395069953364424 and parameters: {'l1_ratio': 0.9421662328554996, 'penalty': 'elasticnet', 'C': 0.03681315427893331, 'max_iter': 479, 'solver': 'saga'}. Best is trial 0 with value: 0.7468354430379747.\n",
      "[I 2024-06-08 00:04:45,836] Trial 9 finished with value: 0.7465023317788141 and parameters: {'l1_ratio': 0.3464894401485442, 'penalty': 'elasticnet', 'C': 30.139798019866884, 'max_iter': 486, 'solver': 'saga'}. Best is trial 0 with value: 0.7468354430379747.\n",
      "[I 2024-06-08 00:04:45,970] Trial 10 finished with value: 0.7465023317788141 and parameters: {'l1_ratio': 0.8287514843227557, 'penalty': 'elasticnet', 'C': 7.43716390585914, 'max_iter': 207, 'solver': 'saga'}. Best is trial 0 with value: 0.7468354430379747.\n",
      "[I 2024-06-08 00:04:46,100] Trial 11 finished with value: 0.7335109926715523 and parameters: {'l1_ratio': 0.5963841727096089, 'penalty': 'elasticnet', 'C': 0.03303887043501745, 'max_iter': 169, 'solver': 'saga'}. Best is trial 0 with value: 0.7468354430379747.\n",
      "[I 2024-06-08 00:04:46,221] Trial 12 finished with value: 0.7445036642238507 and parameters: {'l1_ratio': 0.831205255690418, 'penalty': 'elasticnet', 'C': 0.720348173167086, 'max_iter': 245, 'solver': 'saga'}. Best is trial 0 with value: 0.7468354430379747.\n",
      "[I 2024-06-08 00:04:46,342] Trial 13 finished with value: 0.745836109260493 and parameters: {'l1_ratio': 0.5479752920930067, 'penalty': 'elasticnet', 'C': 2.259140739578309, 'max_iter': 797, 'solver': 'saga'}. Best is trial 0 with value: 0.7468354430379747.\n",
      "[I 2024-06-08 00:04:46,468] Trial 14 finished with value: 0.7468354430379747 and parameters: {'l1_ratio': 0.6558454580069033, 'penalty': 'elasticnet', 'C': 1.7014807418534552, 'max_iter': 260, 'solver': 'saga'}. Best is trial 0 with value: 0.7468354430379747.\n",
      "[I 2024-06-08 00:04:46,598] Trial 15 finished with value: 0.7428381079280479 and parameters: {'l1_ratio': 0.24058353121801312, 'penalty': 'elasticnet', 'C': 1.0573494153263432, 'max_iter': 457, 'solver': 'saga'}. Best is trial 0 with value: 0.7468354430379747.\n",
      "[I 2024-06-08 00:04:46,769] Trial 16 finished with value: 0.7468354430379747 and parameters: {'l1_ratio': 0.48305518544294146, 'penalty': 'elasticnet', 'C': 66.52109114767141, 'max_iter': 912, 'solver': 'saga'}. Best is trial 0 with value: 0.7468354430379747.\n",
      "[I 2024-06-08 00:04:46,926] Trial 17 finished with value: 0.7465023317788141 and parameters: {'l1_ratio': 0.5057593219775152, 'penalty': 'elasticnet', 'C': 19.178115977718267, 'max_iter': 845, 'solver': 'saga'}. Best is trial 0 with value: 0.7468354430379747.\n",
      "[I 2024-06-08 00:04:47,089] Trial 18 finished with value: 0.7338441039307129 and parameters: {'l1_ratio': 0.23183334760205443, 'penalty': 'elasticnet', 'C': 0.02071199562161528, 'max_iter': 519, 'solver': 'saga'}. Best is trial 0 with value: 0.7468354430379747.\n",
      "[I 2024-06-08 00:04:47,222] Trial 19 finished with value: 0.7395069953364424 and parameters: {'l1_ratio': 0.8789758084042731, 'penalty': 'elasticnet', 'C': 0.03890561052203377, 'max_iter': 308, 'solver': 'saga'}. Best is trial 0 with value: 0.7468354430379747.\n",
      "[I 2024-06-08 00:04:47,356] Trial 20 finished with value: 0.7368421052631579 and parameters: {'l1_ratio': 0.9179458057039298, 'penalty': 'elasticnet', 'C': 0.032828732141087884, 'max_iter': 925, 'solver': 'saga'}. Best is trial 0 with value: 0.7468354430379747.\n",
      "[I 2024-06-08 00:04:47,495] Trial 21 finished with value: 0.7455029980013325 and parameters: {'l1_ratio': 0.23479755091129706, 'penalty': 'elasticnet', 'C': 2.9103624241663972, 'max_iter': 957, 'solver': 'saga'}. Best is trial 0 with value: 0.7468354430379747.\n",
      "[I 2024-06-08 00:04:47,625] Trial 22 finished with value: 0.7421718854097269 and parameters: {'l1_ratio': 0.25513081972233587, 'penalty': 'elasticnet', 'C': 0.6324418397985214, 'max_iter': 976, 'solver': 'saga'}. Best is trial 0 with value: 0.7468354430379747.\n",
      "[I 2024-06-08 00:04:47,768] Trial 23 finished with value: 0.7408394403730846 and parameters: {'l1_ratio': 0.23937099816163865, 'penalty': 'elasticnet', 'C': 0.06233403073333485, 'max_iter': 719, 'solver': 'saga'}. Best is trial 0 with value: 0.7468354430379747.\n",
      "[I 2024-06-08 00:04:47,940] Trial 24 finished with value: 0.7438374417055297 and parameters: {'l1_ratio': 0.8450091946690719, 'penalty': 'elasticnet', 'C': 0.6505261022908185, 'max_iter': 191, 'solver': 'saga'}. Best is trial 0 with value: 0.7468354430379747.\n",
      "[I 2024-06-08 00:04:48,077] Trial 25 finished with value: 0.7278481012658228 and parameters: {'l1_ratio': 0.622847970552664, 'penalty': 'elasticnet', 'C': 0.02157266241871122, 'max_iter': 147, 'solver': 'saga'}. Best is trial 0 with value: 0.7468354430379747.\n",
      "[I 2024-06-08 00:04:48,222] Trial 26 finished with value: 0.7465023317788141 and parameters: {'l1_ratio': 0.3454784779791955, 'penalty': 'elasticnet', 'C': 41.86980139548788, 'max_iter': 819, 'solver': 'saga'}. Best is trial 0 with value: 0.7468354430379747.\n",
      "[I 2024-06-08 00:04:48,372] Trial 27 finished with value: 0.7321785476349101 and parameters: {'l1_ratio': 0.3842269427484306, 'penalty': 'elasticnet', 'C': 0.023491135928543867, 'max_iter': 214, 'solver': 'saga'}. Best is trial 0 with value: 0.7468354430379747.\n",
      "[I 2024-06-08 00:04:48,508] Trial 28 finished with value: 0.7438374417055297 and parameters: {'l1_ratio': 0.5343972812309752, 'penalty': 'elasticnet', 'C': 1.0695886563111425, 'max_iter': 553, 'solver': 'saga'}. Best is trial 0 with value: 0.7468354430379747.\n",
      "[I 2024-06-08 00:04:48,661] Trial 29 finished with value: 0.7465023317788141 and parameters: {'l1_ratio': 0.12660677568465384, 'penalty': 'elasticnet', 'C': 14.627239224758664, 'max_iter': 637, 'solver': 'saga'}. Best is trial 0 with value: 0.7468354430379747.\n",
      "[I 2024-06-08 00:04:48,822] Trial 30 finished with value: 0.7441705529646903 and parameters: {'l1_ratio': 0.75776937269917, 'penalty': 'elasticnet', 'C': 0.6877908082673599, 'max_iter': 167, 'solver': 'saga'}. Best is trial 0 with value: 0.7468354430379747.\n",
      "[I 2024-06-08 00:04:48,950] Trial 31 finished with value: 0.7435043304463691 and parameters: {'l1_ratio': 0.6024878434664988, 'penalty': 'elasticnet', 'C': 0.5525819288943451, 'max_iter': 105, 'solver': 'saga'}. Best is trial 0 with value: 0.7468354430379747.\n",
      "[I 2024-06-08 00:04:49,070] Trial 32 finished with value: 0.7408394403730846 and parameters: {'l1_ratio': 0.04662987836169319, 'penalty': 'elasticnet', 'C': 0.47311814022691223, 'max_iter': 891, 'solver': 'saga'}. Best is trial 0 with value: 0.7468354430379747.\n",
      "[I 2024-06-08 00:04:49,201] Trial 33 finished with value: 0.7455029980013325 and parameters: {'l1_ratio': 0.43301769330849826, 'penalty': 'elasticnet', 'C': 3.7483560811192262, 'max_iter': 612, 'solver': 'saga'}. Best is trial 0 with value: 0.7468354430379747.\n",
      "[I 2024-06-08 00:04:49,325] Trial 34 finished with value: 0.7431712191872085 and parameters: {'l1_ratio': 0.24018190154641206, 'penalty': 'elasticnet', 'C': 0.1523446517672857, 'max_iter': 104, 'solver': 'saga'}. Best is trial 0 with value: 0.7468354430379747.\n",
      "[I 2024-06-08 00:04:49,453] Trial 35 finished with value: 0.7425049966688874 and parameters: {'l1_ratio': 0.1288935485768078, 'penalty': 'elasticnet', 'C': 1.3080371500259338, 'max_iter': 683, 'solver': 'saga'}. Best is trial 0 with value: 0.7468354430379747.\n",
      "[I 2024-06-08 00:04:49,587] Trial 36 finished with value: 0.7451698867421719 and parameters: {'l1_ratio': 0.14536195449419298, 'penalty': 'elasticnet', 'C': 5.828503234861743, 'max_iter': 645, 'solver': 'saga'}. Best is trial 0 with value: 0.7468354430379747.\n",
      "[I 2024-06-08 00:04:49,722] Trial 37 finished with value: 0.7468354430379747 and parameters: {'l1_ratio': 0.963544780062434, 'penalty': 'elasticnet', 'C': 23.518964912506494, 'max_iter': 567, 'solver': 'saga'}. Best is trial 0 with value: 0.7468354430379747.\n",
      "[I 2024-06-08 00:04:49,847] Trial 38 finished with value: 0.7285143237841439 and parameters: {'l1_ratio': 0.6034752072158278, 'penalty': 'elasticnet', 'C': 0.02197774098855032, 'max_iter': 960, 'solver': 'saga'}. Best is trial 0 with value: 0.7468354430379747.\n",
      "[I 2024-06-08 00:04:49,974] Trial 39 finished with value: 0.7465023317788141 and parameters: {'l1_ratio': 0.8951009548900523, 'penalty': 'elasticnet', 'C': 1.7115465060325654, 'max_iter': 354, 'solver': 'saga'}. Best is trial 0 with value: 0.7468354430379747.\n",
      "[I 2024-06-08 00:04:50,092] Trial 40 finished with value: 0.7428381079280479 and parameters: {'l1_ratio': 0.6393898787142637, 'penalty': 'elasticnet', 'C': 0.46570663801564743, 'max_iter': 665, 'solver': 'saga'}. Best is trial 0 with value: 0.7468354430379747.\n",
      "[I 2024-06-08 00:04:50,219] Trial 41 finished with value: 0.7411725516322452 and parameters: {'l1_ratio': 0.3964306441212516, 'penalty': 'elasticnet', 'C': 0.16115829188620256, 'max_iter': 458, 'solver': 'saga'}. Best is trial 0 with value: 0.7468354430379747.\n",
      "[I 2024-06-08 00:04:50,353] Trial 42 finished with value: 0.7468354430379747 and parameters: {'l1_ratio': 0.8497845284188781, 'penalty': 'elasticnet', 'C': 22.644086948830452, 'max_iter': 357, 'solver': 'saga'}. Best is trial 0 with value: 0.7468354430379747.\n",
      "[I 2024-06-08 00:04:50,479] Trial 43 finished with value: 0.7431712191872085 and parameters: {'l1_ratio': 0.33885827739248164, 'penalty': 'elasticnet', 'C': 0.8621203276775906, 'max_iter': 446, 'solver': 'saga'}. Best is trial 0 with value: 0.7468354430379747.\n",
      "[I 2024-06-08 00:04:50,624] Trial 44 finished with value: 0.7435043304463691 and parameters: {'l1_ratio': 0.32878734994014014, 'penalty': 'elasticnet', 'C': 1.306209163176254, 'max_iter': 187, 'solver': 'saga'}. Best is trial 0 with value: 0.7468354430379747.\n",
      "[I 2024-06-08 00:04:50,788] Trial 45 finished with value: 0.7428381079280479 and parameters: {'l1_ratio': 0.023379930587594244, 'penalty': 'elasticnet', 'C': 0.05756448260639972, 'max_iter': 967, 'solver': 'saga'}. Best is trial 0 with value: 0.7468354430379747.\n",
      "[I 2024-06-08 00:04:50,929] Trial 46 finished with value: 0.7468354430379747 and parameters: {'l1_ratio': 0.7609561458372598, 'penalty': 'elasticnet', 'C': 1.2177602212036982, 'max_iter': 210, 'solver': 'saga'}. Best is trial 0 with value: 0.7468354430379747.\n",
      "[I 2024-06-08 00:04:51,088] Trial 47 finished with value: 0.7468354430379747 and parameters: {'l1_ratio': 0.9985866810937334, 'penalty': 'elasticnet', 'C': 35.73128272923617, 'max_iter': 964, 'solver': 'saga'}. Best is trial 0 with value: 0.7468354430379747.\n",
      "[I 2024-06-08 00:04:51,226] Trial 48 finished with value: 0.7411725516322452 and parameters: {'l1_ratio': 0.564785449158253, 'penalty': 'elasticnet', 'C': 0.15593069566006496, 'max_iter': 266, 'solver': 'saga'}. Best is trial 0 with value: 0.7468354430379747.\n",
      "[I 2024-06-08 00:04:51,367] Trial 49 finished with value: 0.7381745502998002 and parameters: {'l1_ratio': 0.7808527854686921, 'penalty': 'elasticnet', 'C': 0.041769472014503484, 'max_iter': 641, 'solver': 'saga'}. Best is trial 0 with value: 0.7468354430379747.\n",
      "[I 2024-06-08 00:04:51,503] Trial 50 finished with value: 0.7465023317788141 and parameters: {'l1_ratio': 0.7380400243015056, 'penalty': 'elasticnet', 'C': 1.841859065147003, 'max_iter': 815, 'solver': 'saga'}. Best is trial 0 with value: 0.7468354430379747.\n",
      "[I 2024-06-08 00:04:51,630] Trial 51 finished with value: 0.72618254497002 and parameters: {'l1_ratio': 0.9272600171485721, 'penalty': 'elasticnet', 'C': 0.021059540030483385, 'max_iter': 204, 'solver': 'saga'}. Best is trial 0 with value: 0.7468354430379747.\n",
      "[I 2024-06-08 00:04:51,764] Trial 52 finished with value: 0.7421718854097269 and parameters: {'l1_ratio': 0.11380123623093197, 'penalty': 'elasticnet', 'C': 0.14181814630592005, 'max_iter': 596, 'solver': 'saga'}. Best is trial 0 with value: 0.7468354430379747.\n",
      "[I 2024-06-08 00:04:51,890] Trial 53 finished with value: 0.7428381079280479 and parameters: {'l1_ratio': 0.44464358527828296, 'penalty': 'elasticnet', 'C': 0.6280409052492372, 'max_iter': 720, 'solver': 'saga'}. Best is trial 0 with value: 0.7468354430379747.\n",
      "[I 2024-06-08 00:04:52,026] Trial 54 finished with value: 0.7368421052631579 and parameters: {'l1_ratio': 0.14884802489269566, 'penalty': 'elasticnet', 'C': 0.030103021567687998, 'max_iter': 226, 'solver': 'saga'}. Best is trial 0 with value: 0.7468354430379747.\n",
      "[I 2024-06-08 00:04:52,152] Trial 55 finished with value: 0.7425049966688874 and parameters: {'l1_ratio': 0.8446174837084529, 'penalty': 'elasticnet', 'C': 0.30629161552234263, 'max_iter': 650, 'solver': 'saga'}. Best is trial 0 with value: 0.7468354430379747.\n",
      "[I 2024-06-08 00:04:52,276] Trial 56 finished with value: 0.7401732178547635 and parameters: {'l1_ratio': 0.9107078274365592, 'penalty': 'elasticnet', 'C': 0.05397557626972808, 'max_iter': 145, 'solver': 'saga'}. Best is trial 0 with value: 0.7468354430379747.\n",
      "[I 2024-06-08 00:04:52,401] Trial 57 finished with value: 0.7418387741505663 and parameters: {'l1_ratio': 0.2635543863600527, 'penalty': 'elasticnet', 'C': 0.3320698541563889, 'max_iter': 582, 'solver': 'saga'}. Best is trial 0 with value: 0.7468354430379747.\n",
      "[I 2024-06-08 00:04:52,543] Trial 58 finished with value: 0.7465023317788141 and parameters: {'l1_ratio': 0.20593267412957195, 'penalty': 'elasticnet', 'C': 10.736427327553779, 'max_iter': 656, 'solver': 'saga'}. Best is trial 0 with value: 0.7468354430379747.\n",
      "[I 2024-06-08 00:04:52,667] Trial 59 finished with value: 0.7385076615589606 and parameters: {'l1_ratio': 0.7789120822371315, 'penalty': 'elasticnet', 'C': 0.0598453833413193, 'max_iter': 321, 'solver': 'saga'}. Best is trial 0 with value: 0.7468354430379747.\n",
      "[I 2024-06-08 00:04:52,787] Trial 60 finished with value: 0.7415056628914057 and parameters: {'l1_ratio': 0.6405635118484496, 'penalty': 'elasticnet', 'C': 0.3985010223468039, 'max_iter': 967, 'solver': 'saga'}. Best is trial 0 with value: 0.7468354430379747.\n",
      "[I 2024-06-08 00:04:52,905] Trial 61 finished with value: 0.7388407728181212 and parameters: {'l1_ratio': 0.7636679934989524, 'penalty': 'elasticnet', 'C': 0.048213123670565156, 'max_iter': 207, 'solver': 'saga'}. Best is trial 0 with value: 0.7468354430379747.\n",
      "[I 2024-06-08 00:04:53,051] Trial 62 finished with value: 0.7465023317788141 and parameters: {'l1_ratio': 0.33026965314873746, 'penalty': 'elasticnet', 'C': 15.64904269882861, 'max_iter': 645, 'solver': 'saga'}. Best is trial 0 with value: 0.7468354430379747.\n",
      "[I 2024-06-08 00:04:53,178] Trial 63 finished with value: 0.7308461025982678 and parameters: {'l1_ratio': 0.21749415361126012, 'penalty': 'elasticnet', 'C': 0.01303454835661758, 'max_iter': 562, 'solver': 'saga'}. Best is trial 0 with value: 0.7468354430379747.\n",
      "[I 2024-06-08 00:04:53,335] Trial 64 finished with value: 0.7465023317788141 and parameters: {'l1_ratio': 0.9395388576438164, 'penalty': 'elasticnet', 'C': 2.0239267157229315, 'max_iter': 958, 'solver': 'saga'}. Best is trial 0 with value: 0.7468354430379747.\n",
      "[I 2024-06-08 00:04:53,475] Trial 65 finished with value: 0.7468354430379747 and parameters: {'l1_ratio': 0.480686727057959, 'penalty': 'elasticnet', 'C': 91.86785654359976, 'max_iter': 544, 'solver': 'saga'}. Best is trial 0 with value: 0.7468354430379747.\n",
      "[I 2024-06-08 00:04:53,602] Trial 66 finished with value: 0.7395069953364424 and parameters: {'l1_ratio': 0.8278672160318609, 'penalty': 'elasticnet', 'C': 0.12738837247190585, 'max_iter': 161, 'solver': 'saga'}. Best is trial 0 with value: 0.7468354430379747.\n",
      "[I 2024-06-08 00:04:53,724] Trial 67 finished with value: 0.7355096602265156 and parameters: {'l1_ratio': 0.721360101028917, 'penalty': 'elasticnet', 'C': 0.030650286039784234, 'max_iter': 829, 'solver': 'saga'}. Best is trial 0 with value: 0.7468354430379747.\n",
      "[I 2024-06-08 00:04:53,850] Trial 68 finished with value: 0.7431712191872085 and parameters: {'l1_ratio': 0.9347922225636194, 'penalty': 'elasticnet', 'C': 0.23434771009411434, 'max_iter': 381, 'solver': 'saga'}. Best is trial 0 with value: 0.7468354430379747.\n",
      "[I 2024-06-08 00:04:53,986] Trial 69 finished with value: 0.7465023317788141 and parameters: {'l1_ratio': 0.6002971063674759, 'penalty': 'elasticnet', 'C': 6.00019588206396, 'max_iter': 140, 'solver': 'saga'}. Best is trial 0 with value: 0.7468354430379747.\n",
      "[I 2024-06-08 00:04:54,102] Trial 70 finished with value: 0.7385076615589606 and parameters: {'l1_ratio': 0.6267356759602706, 'penalty': 'elasticnet', 'C': 0.050348540227368885, 'max_iter': 172, 'solver': 'saga'}. Best is trial 0 with value: 0.7468354430379747.\n",
      "[I 2024-06-08 00:04:54,219] Trial 71 finished with value: 0.7418387741505663 and parameters: {'l1_ratio': 0.31370103075151023, 'penalty': 'elasticnet', 'C': 0.453413738345394, 'max_iter': 455, 'solver': 'saga'}. Best is trial 0 with value: 0.7468354430379747.\n",
      "[I 2024-06-08 00:04:54,344] Trial 72 finished with value: 0.745836109260493 and parameters: {'l1_ratio': 0.7230405288992248, 'penalty': 'elasticnet', 'C': 1.113009723871034, 'max_iter': 409, 'solver': 'saga'}. Best is trial 0 with value: 0.7468354430379747.\n",
      "[I 2024-06-08 00:04:54,468] Trial 73 finished with value: 0.7445036642238507 and parameters: {'l1_ratio': 0.4689082800259925, 'penalty': 'elasticnet', 'C': 1.5379955204462366, 'max_iter': 852, 'solver': 'saga'}. Best is trial 0 with value: 0.7468354430379747.\n",
      "[I 2024-06-08 00:04:54,624] Trial 74 finished with value: 0.7465023317788141 and parameters: {'l1_ratio': 0.34809190046205274, 'penalty': 'elasticnet', 'C': 13.575138022547424, 'max_iter': 686, 'solver': 'saga'}. Best is trial 0 with value: 0.7468354430379747.\n",
      "[I 2024-06-08 00:04:54,772] Trial 75 finished with value: 0.7435043304463691 and parameters: {'l1_ratio': 0.8730257595537249, 'penalty': 'elasticnet', 'C': 0.4391408637607976, 'max_iter': 265, 'solver': 'saga'}. Best is trial 0 with value: 0.7468354430379747.\n",
      "[I 2024-06-08 00:04:54,919] Trial 76 finished with value: 0.7431712191872085 and parameters: {'l1_ratio': 0.09317831284174316, 'penalty': 'elasticnet', 'C': 1.6960419746736697, 'max_iter': 980, 'solver': 'saga'}. Best is trial 0 with value: 0.7468354430379747.\n",
      "[I 2024-06-08 00:04:55,046] Trial 77 finished with value: 0.7411725516322452 and parameters: {'l1_ratio': 0.29572214736158386, 'penalty': 'elasticnet', 'C': 0.3737974826428585, 'max_iter': 837, 'solver': 'saga'}. Best is trial 0 with value: 0.7468354430379747.\n",
      "[I 2024-06-08 00:04:55,204] Trial 78 finished with value: 0.7465023317788141 and parameters: {'l1_ratio': 0.3940115991448834, 'penalty': 'elasticnet', 'C': 36.58478246475672, 'max_iter': 127, 'solver': 'saga'}. Best is trial 0 with value: 0.7468354430379747.\n",
      "[I 2024-06-08 00:04:55,341] Trial 79 finished with value: 0.7408394403730846 and parameters: {'l1_ratio': 0.8998117453605183, 'penalty': 'elasticnet', 'C': 0.14602340394121105, 'max_iter': 983, 'solver': 'saga'}. Best is trial 0 with value: 0.7468354430379747.\n",
      "[I 2024-06-08 00:04:55,503] Trial 80 finished with value: 0.7465023317788141 and parameters: {'l1_ratio': 0.7726044200868316, 'penalty': 'elasticnet', 'C': 17.773541904405658, 'max_iter': 527, 'solver': 'saga'}. Best is trial 0 with value: 0.7468354430379747.\n",
      "[I 2024-06-08 00:04:55,641] Trial 81 finished with value: 0.7408394403730846 and parameters: {'l1_ratio': 0.3024871162472813, 'penalty': 'elasticnet', 'C': 0.19792205374227942, 'max_iter': 898, 'solver': 'saga'}. Best is trial 0 with value: 0.7468354430379747.\n",
      "[I 2024-06-08 00:04:55,776] Trial 82 finished with value: 0.7241838774150566 and parameters: {'l1_ratio': 0.42954226359209646, 'penalty': 'elasticnet', 'C': 0.010287611420955958, 'max_iter': 657, 'solver': 'saga'}. Best is trial 0 with value: 0.7468354430379747.\n",
      "[I 2024-06-08 00:04:55,916] Trial 83 finished with value: 0.7455029980013325 and parameters: {'l1_ratio': 0.6384146144413262, 'penalty': 'elasticnet', 'C': 2.561741264644319, 'max_iter': 176, 'solver': 'saga'}. Best is trial 0 with value: 0.7468354430379747.\n",
      "[I 2024-06-08 00:04:56,056] Trial 84 finished with value: 0.7465023317788141 and parameters: {'l1_ratio': 0.18878963262831439, 'penalty': 'elasticnet', 'C': 12.369229503673267, 'max_iter': 631, 'solver': 'saga'}. Best is trial 0 with value: 0.7468354430379747.\n",
      "[I 2024-06-08 00:04:56,186] Trial 85 finished with value: 0.7275149900066622 and parameters: {'l1_ratio': 0.6860361909445178, 'penalty': 'elasticnet', 'C': 0.01960489209840365, 'max_iter': 605, 'solver': 'saga'}. Best is trial 0 with value: 0.7468354430379747.\n",
      "[I 2024-06-08 00:04:56,314] Trial 86 finished with value: 0.7411725516322452 and parameters: {'l1_ratio': 0.2586295146537938, 'penalty': 'elasticnet', 'C': 0.076689222095408, 'max_iter': 203, 'solver': 'saga'}. Best is trial 0 with value: 0.7468354430379747.\n",
      "[I 2024-06-08 00:04:56,440] Trial 87 finished with value: 0.7418387741505663 and parameters: {'l1_ratio': 0.09905593656208833, 'penalty': 'elasticnet', 'C': 0.094508713108523, 'max_iter': 772, 'solver': 'saga'}. Best is trial 0 with value: 0.7468354430379747.\n",
      "[I 2024-06-08 00:04:56,570] Trial 88 finished with value: 0.7455029980013325 and parameters: {'l1_ratio': 0.5943825327304895, 'penalty': 'elasticnet', 'C': 1.4030694739937408, 'max_iter': 438, 'solver': 'saga'}. Best is trial 0 with value: 0.7468354430379747.\n",
      "[I 2024-06-08 00:04:56,699] Trial 89 finished with value: 0.7455029980013325 and parameters: {'l1_ratio': 0.23501047798661767, 'penalty': 'elasticnet', 'C': 2.3081226557256684, 'max_iter': 858, 'solver': 'saga'}. Best is trial 0 with value: 0.7468354430379747.\n",
      "[I 2024-06-08 00:04:56,825] Trial 90 finished with value: 0.7308461025982678 and parameters: {'l1_ratio': 0.47729389039881, 'penalty': 'elasticnet', 'C': 0.021625619558979785, 'max_iter': 940, 'solver': 'saga'}. Best is trial 0 with value: 0.7468354430379747.\n",
      "[I 2024-06-08 00:04:56,962] Trial 91 finished with value: 0.7338441039307129 and parameters: {'l1_ratio': 0.4860786085123222, 'penalty': 'elasticnet', 'C': 0.03172802162319548, 'max_iter': 856, 'solver': 'saga'}. Best is trial 0 with value: 0.7468354430379747.\n",
      "[I 2024-06-08 00:04:57,100] Trial 92 finished with value: 0.7335109926715523 and parameters: {'l1_ratio': 0.38240464605494207, 'penalty': 'elasticnet', 'C': 0.02721303562441804, 'max_iter': 960, 'solver': 'saga'}. Best is trial 0 with value: 0.7468354430379747.\n",
      "[I 2024-06-08 00:04:57,221] Trial 93 finished with value: 0.740506329113924 and parameters: {'l1_ratio': 0.3436503994506843, 'penalty': 'elasticnet', 'C': 0.07175281862798143, 'max_iter': 513, 'solver': 'saga'}. Best is trial 0 with value: 0.7468354430379747.\n",
      "[I 2024-06-08 00:04:57,349] Trial 94 finished with value: 0.7418387741505663 and parameters: {'l1_ratio': 0.02489530628090697, 'penalty': 'elasticnet', 'C': 0.09569391110649288, 'max_iter': 688, 'solver': 'saga'}. Best is trial 0 with value: 0.7468354430379747.\n",
      "[I 2024-06-08 00:04:57,474] Trial 95 finished with value: 0.7278481012658228 and parameters: {'l1_ratio': 0.3373767925601705, 'penalty': 'elasticnet', 'C': 0.012196592563587835, 'max_iter': 345, 'solver': 'saga'}. Best is trial 0 with value: 0.7468354430379747.\n",
      "[I 2024-06-08 00:04:57,611] Trial 96 finished with value: 0.7465023317788141 and parameters: {'l1_ratio': 0.9614891406278656, 'penalty': 'elasticnet', 'C': 7.081137327646262, 'max_iter': 652, 'solver': 'saga'}. Best is trial 0 with value: 0.7468354430379747.\n",
      "[I 2024-06-08 00:04:57,754] Trial 97 finished with value: 0.7465023317788141 and parameters: {'l1_ratio': 0.0425938640226482, 'penalty': 'elasticnet', 'C': 82.25069248297623, 'max_iter': 593, 'solver': 'saga'}. Best is trial 0 with value: 0.7468354430379747.\n",
      "[I 2024-06-08 00:04:57,892] Trial 98 finished with value: 0.7465023317788141 and parameters: {'l1_ratio': 0.5119850184358926, 'penalty': 'elasticnet', 'C': 17.541043973513382, 'max_iter': 745, 'solver': 'saga'}. Best is trial 0 with value: 0.7468354430379747.\n",
      "[I 2024-06-08 00:04:58,011] Trial 99 finished with value: 0.7385076615589606 and parameters: {'l1_ratio': 0.8308851599474497, 'penalty': 'elasticnet', 'C': 0.038711524522540806, 'max_iter': 631, 'solver': 'saga'}. Best is trial 0 with value: 0.7468354430379747.\n",
      "[I 2024-06-08 00:04:58,148] Trial 100 finished with value: 0.7431712191872085 and parameters: {'l1_ratio': 0.8471136501705183, 'penalty': 'elasticnet', 'C': 0.234197631072027, 'max_iter': 230, 'solver': 'saga'}. Best is trial 0 with value: 0.7468354430379747.\n",
      "[I 2024-06-08 00:04:58,291] Trial 101 finished with value: 0.7408394403730846 and parameters: {'l1_ratio': 0.1836483711819311, 'penalty': 'elasticnet', 'C': 0.04508460206395431, 'max_iter': 483, 'solver': 'saga'}. Best is trial 0 with value: 0.7468354430379747.\n",
      "[I 2024-06-08 00:04:58,506] Trial 102 finished with value: 0.729180546302465 and parameters: {'l1_ratio': 0.6055885059878887, 'penalty': 'elasticnet', 'C': 0.023794901878716246, 'max_iter': 124, 'solver': 'saga'}. Best is trial 0 with value: 0.7468354430379747.\n",
      "[I 2024-06-08 00:04:58,649] Trial 103 finished with value: 0.7415056628914057 and parameters: {'l1_ratio': 0.08871545457591135, 'penalty': 'elasticnet', 'C': 0.12208804456888893, 'max_iter': 408, 'solver': 'saga'}. Best is trial 0 with value: 0.7468354430379747.\n",
      "[I 2024-06-08 00:04:58,817] Trial 104 finished with value: 0.7465023317788141 and parameters: {'l1_ratio': 0.7767253816094082, 'penalty': 'elasticnet', 'C': 9.429951390193311, 'max_iter': 199, 'solver': 'saga'}. Best is trial 0 with value: 0.7468354430379747.\n",
      "[I 2024-06-08 00:04:58,967] Trial 105 finished with value: 0.7455029980013325 and parameters: {'l1_ratio': 0.47806896006875077, 'penalty': 'elasticnet', 'C': 3.904266121323621, 'max_iter': 859, 'solver': 'saga'}. Best is trial 0 with value: 0.7468354430379747.\n",
      "[I 2024-06-08 00:04:59,118] Trial 106 finished with value: 0.740506329113924 and parameters: {'l1_ratio': 0.388468854806459, 'penalty': 'elasticnet', 'C': 0.18235322570309798, 'max_iter': 475, 'solver': 'saga'}. Best is trial 0 with value: 0.7468354430379747.\n",
      "[I 2024-06-08 00:04:59,272] Trial 107 finished with value: 0.745836109260493 and parameters: {'l1_ratio': 0.44175712345987217, 'penalty': 'elasticnet', 'C': 2.931220453940021, 'max_iter': 997, 'solver': 'saga'}. Best is trial 0 with value: 0.7468354430379747.\n",
      "[I 2024-06-08 00:04:59,453] Trial 108 finished with value: 0.7451698867421719 and parameters: {'l1_ratio': 0.6521830648469973, 'penalty': 'elasticnet', 'C': 3.4837411728563605, 'max_iter': 581, 'solver': 'saga'}. Best is trial 0 with value: 0.7468354430379747.\n",
      "[I 2024-06-08 00:04:59,607] Trial 109 finished with value: 0.7465023317788141 and parameters: {'l1_ratio': 0.35557836732536197, 'penalty': 'elasticnet', 'C': 26.293909129874912, 'max_iter': 247, 'solver': 'saga'}. Best is trial 0 with value: 0.7468354430379747.\n",
      "[I 2024-06-08 00:04:59,756] Trial 110 finished with value: 0.7465023317788141 and parameters: {'l1_ratio': 0.7658237880282034, 'penalty': 'elasticnet', 'C': 10.747994464707489, 'max_iter': 144, 'solver': 'saga'}. Best is trial 0 with value: 0.7468354430379747.\n",
      "[I 2024-06-08 00:04:59,903] Trial 111 finished with value: 0.7465023317788141 and parameters: {'l1_ratio': 0.45578849641224983, 'penalty': 'elasticnet', 'C': 7.1118919980165805, 'max_iter': 613, 'solver': 'saga'}. Best is trial 0 with value: 0.7468354430379747.\n",
      "[I 2024-06-08 00:05:00,036] Trial 112 finished with value: 0.7435043304463691 and parameters: {'l1_ratio': 0.36095818866319496, 'penalty': 'elasticnet', 'C': 0.12314369326595438, 'max_iter': 144, 'solver': 'saga'}. Best is trial 0 with value: 0.7468354430379747.\n",
      "[I 2024-06-08 00:05:00,182] Trial 113 finished with value: 0.7468354430379747 and parameters: {'l1_ratio': 0.08651653838786766, 'penalty': 'elasticnet', 'C': 95.65140455600996, 'max_iter': 668, 'solver': 'saga'}. Best is trial 0 with value: 0.7468354430379747.\n",
      "[I 2024-06-08 00:05:00,317] Trial 114 finished with value: 0.7181878747501665 and parameters: {'l1_ratio': 0.7943292806783894, 'penalty': 'elasticnet', 'C': 0.011635791469408439, 'max_iter': 207, 'solver': 'saga'}. Best is trial 0 with value: 0.7468354430379747.\n",
      "[I 2024-06-08 00:05:00,466] Trial 115 finished with value: 0.7465023317788141 and parameters: {'l1_ratio': 0.39523622294092764, 'penalty': 'elasticnet', 'C': 23.782132614140657, 'max_iter': 368, 'solver': 'saga'}. Best is trial 0 with value: 0.7468354430379747.\n",
      "[I 2024-06-08 00:05:00,606] Trial 116 finished with value: 0.7465023317788141 and parameters: {'l1_ratio': 0.1940476194756442, 'penalty': 'elasticnet', 'C': 30.521614629676527, 'max_iter': 905, 'solver': 'saga'}. Best is trial 0 with value: 0.7468354430379747.\n",
      "[I 2024-06-08 00:05:00,728] Trial 117 finished with value: 0.7265156562291806 and parameters: {'l1_ratio': 0.9790846206910202, 'penalty': 'elasticnet', 'C': 0.021603008194460146, 'max_iter': 503, 'solver': 'saga'}. Best is trial 0 with value: 0.7468354430379747.\n",
      "[I 2024-06-08 00:05:00,872] Trial 118 finished with value: 0.7465023317788141 and parameters: {'l1_ratio': 0.2273428595343805, 'penalty': 'elasticnet', 'C': 16.51468402439202, 'max_iter': 414, 'solver': 'saga'}. Best is trial 0 with value: 0.7468354430379747.\n",
      "[I 2024-06-08 00:05:01,017] Trial 119 finished with value: 0.7465023317788141 and parameters: {'l1_ratio': 0.2195151893089342, 'penalty': 'elasticnet', 'C': 17.03885924185188, 'max_iter': 529, 'solver': 'saga'}. Best is trial 0 with value: 0.7468354430379747.\n",
      "[I 2024-06-08 00:05:01,135] Trial 120 finished with value: 0.7418387741505663 and parameters: {'l1_ratio': 0.05167183644896767, 'penalty': 'elasticnet', 'C': 0.3279823574391817, 'max_iter': 540, 'solver': 'saga'}. Best is trial 0 with value: 0.7468354430379747.\n",
      "[I 2024-06-08 00:05:01,255] Trial 121 finished with value: 0.7408394403730846 and parameters: {'l1_ratio': 0.6777070409958931, 'penalty': 'elasticnet', 'C': 0.15614942311672478, 'max_iter': 113, 'solver': 'saga'}. Best is trial 0 with value: 0.7468354430379747.\n",
      "[I 2024-06-08 00:05:01,397] Trial 122 finished with value: 0.7465023317788141 and parameters: {'l1_ratio': 0.5995989995918588, 'penalty': 'elasticnet', 'C': 18.981897206146257, 'max_iter': 289, 'solver': 'saga'}. Best is trial 0 with value: 0.7468354430379747.\n",
      "[I 2024-06-08 00:05:01,533] Trial 123 finished with value: 0.7465023317788141 and parameters: {'l1_ratio': 0.6337757519736682, 'penalty': 'elasticnet', 'C': 8.449973806298349, 'max_iter': 971, 'solver': 'saga'}. Best is trial 0 with value: 0.7468354430379747.\n",
      "[I 2024-06-08 00:05:01,662] Trial 124 finished with value: 0.7451698867421719 and parameters: {'l1_ratio': 0.08774706063976812, 'penalty': 'elasticnet', 'C': 5.40592655014607, 'max_iter': 612, 'solver': 'saga'}. Best is trial 0 with value: 0.7468354430379747.\n",
      "[I 2024-06-08 00:05:01,783] Trial 125 finished with value: 0.7421718854097269 and parameters: {'l1_ratio': 0.1692741729195425, 'penalty': 'elasticnet', 'C': 0.7136338994103509, 'max_iter': 111, 'solver': 'saga'}. Best is trial 0 with value: 0.7468354430379747.\n",
      "[I 2024-06-08 00:05:01,911] Trial 126 finished with value: 0.7258494337108594 and parameters: {'l1_ratio': 0.023169743854271396, 'penalty': 'elasticnet', 'C': 0.011912611522328018, 'max_iter': 462, 'solver': 'saga'}. Best is trial 0 with value: 0.7468354430379747.\n",
      "[I 2024-06-08 00:05:02,034] Trial 127 finished with value: 0.7418387741505663 and parameters: {'l1_ratio': 0.5355132035114978, 'penalty': 'elasticnet', 'C': 0.11225616825078197, 'max_iter': 567, 'solver': 'saga'}. Best is trial 0 with value: 0.7468354430379747.\n",
      "[I 2024-06-08 00:05:02,153] Trial 128 finished with value: 0.739840106595603 and parameters: {'l1_ratio': 0.47779187448209726, 'penalty': 'elasticnet', 'C': 0.1475426226110133, 'max_iter': 465, 'solver': 'saga'}. Best is trial 0 with value: 0.7468354430379747.\n",
      "[I 2024-06-08 00:05:02,269] Trial 129 finished with value: 0.7428381079280479 and parameters: {'l1_ratio': 0.47429367431199154, 'penalty': 'elasticnet', 'C': 0.5619332827559818, 'max_iter': 114, 'solver': 'saga'}. Best is trial 0 with value: 0.7468354430379747.\n",
      "[I 2024-06-08 00:05:02,405] Trial 130 finished with value: 0.7465023317788141 and parameters: {'l1_ratio': 0.7055617167942578, 'penalty': 'elasticnet', 'C': 10.892546425919848, 'max_iter': 345, 'solver': 'saga'}. Best is trial 0 with value: 0.7468354430379747.\n",
      "[I 2024-06-08 00:05:02,546] Trial 131 finished with value: 0.7465023317788141 and parameters: {'l1_ratio': 0.4656358778024837, 'penalty': 'elasticnet', 'C': 7.905359413627673, 'max_iter': 174, 'solver': 'saga'}. Best is trial 0 with value: 0.7468354430379747.\n",
      "[I 2024-06-08 00:05:02,711] Trial 132 finished with value: 0.7465023317788141 and parameters: {'l1_ratio': 0.8491269748213126, 'penalty': 'elasticnet', 'C': 7.631269089397811, 'max_iter': 992, 'solver': 'saga'}. Best is trial 0 with value: 0.7468354430379747.\n",
      "[I 2024-06-08 00:05:02,854] Trial 133 finished with value: 0.7421718854097269 and parameters: {'l1_ratio': 0.4458445675158459, 'penalty': 'elasticnet', 'C': 0.10299323423937613, 'max_iter': 244, 'solver': 'saga'}. Best is trial 0 with value: 0.7468354430379747.\n",
      "[I 2024-06-08 00:05:03,012] Trial 134 finished with value: 0.7465023317788141 and parameters: {'l1_ratio': 0.870727250858279, 'penalty': 'elasticnet', 'C': 5.6358438666505775, 'max_iter': 442, 'solver': 'saga'}. Best is trial 0 with value: 0.7468354430379747.\n",
      "[I 2024-06-08 00:05:03,167] Trial 135 finished with value: 0.7465023317788141 and parameters: {'l1_ratio': 0.2282326164835059, 'penalty': 'elasticnet', 'C': 13.3913140627704, 'max_iter': 978, 'solver': 'saga'}. Best is trial 0 with value: 0.7468354430379747.\n",
      "[I 2024-06-08 00:05:03,294] Trial 136 finished with value: 0.7401732178547635 and parameters: {'l1_ratio': 0.8802403479846407, 'penalty': 'elasticnet', 'C': 0.10313923053710798, 'max_iter': 665, 'solver': 'saga'}. Best is trial 0 with value: 0.7468354430379747.\n",
      "[I 2024-06-08 00:05:03,435] Trial 137 finished with value: 0.7275149900066622 and parameters: {'l1_ratio': 0.4948518196858104, 'penalty': 'elasticnet', 'C': 0.019577825451821716, 'max_iter': 591, 'solver': 'saga'}. Best is trial 0 with value: 0.7468354430379747.\n",
      "[I 2024-06-08 00:05:03,556] Trial 138 finished with value: 0.7208527648234511 and parameters: {'l1_ratio': 0.8716091078716307, 'penalty': 'elasticnet', 'C': 0.013190090156730578, 'max_iter': 180, 'solver': 'saga'}. Best is trial 0 with value: 0.7468354430379747.\n",
      "[I 2024-06-08 00:05:03,712] Trial 139 finished with value: 0.7275149900066622 and parameters: {'l1_ratio': 0.31470430106830216, 'penalty': 'elasticnet', 'C': 0.010688381298874287, 'max_iter': 267, 'solver': 'saga'}. Best is trial 0 with value: 0.7468354430379747.\n",
      "[I 2024-06-08 00:05:03,836] Trial 140 finished with value: 0.7391738840772818 and parameters: {'l1_ratio': 0.8743627304570357, 'penalty': 'elasticnet', 'C': 0.05612137404042831, 'max_iter': 674, 'solver': 'saga'}. Best is trial 0 with value: 0.7468354430379747.\n",
      "[I 2024-06-08 00:05:03,969] Trial 141 finished with value: 0.737508327781479 and parameters: {'l1_ratio': 0.6459240523527073, 'penalty': 'elasticnet', 'C': 0.05394546845209425, 'max_iter': 680, 'solver': 'saga'}. Best is trial 0 with value: 0.7468354430379747.\n",
      "[I 2024-06-08 00:05:04,104] Trial 142 finished with value: 0.7455029980013325 and parameters: {'l1_ratio': 0.1398182058122156, 'penalty': 'elasticnet', 'C': 5.099411482921982, 'max_iter': 947, 'solver': 'saga'}. Best is trial 0 with value: 0.7468354430379747.\n",
      "[I 2024-06-08 00:05:04,242] Trial 143 finished with value: 0.7341772151898734 and parameters: {'l1_ratio': 0.3159174861030116, 'penalty': 'elasticnet', 'C': 0.020557202569671466, 'max_iter': 174, 'solver': 'saga'}. Best is trial 0 with value: 0.7468354430379747.\n",
      "[I 2024-06-08 00:05:04,375] Trial 144 finished with value: 0.7441705529646903 and parameters: {'l1_ratio': 0.6822254665259121, 'penalty': 'elasticnet', 'C': 0.9198118292382542, 'max_iter': 119, 'solver': 'saga'}. Best is trial 0 with value: 0.7468354430379747.\n",
      "[I 2024-06-08 00:05:04,519] Trial 145 finished with value: 0.7465023317788141 and parameters: {'l1_ratio': 0.45704577934720947, 'penalty': 'elasticnet', 'C': 33.97055765748985, 'max_iter': 429, 'solver': 'saga'}. Best is trial 0 with value: 0.7468354430379747.\n",
      "[I 2024-06-08 00:05:04,648] Trial 146 finished with value: 0.7411725516322452 and parameters: {'l1_ratio': 0.42914109470841655, 'penalty': 'elasticnet', 'C': 0.1336222420402405, 'max_iter': 457, 'solver': 'saga'}. Best is trial 0 with value: 0.7468354430379747.\n",
      "[I 2024-06-08 00:05:04,775] Trial 147 finished with value: 0.7335109926715523 and parameters: {'l1_ratio': 0.1796720491852063, 'penalty': 'elasticnet', 'C': 0.023280765041308823, 'max_iter': 940, 'solver': 'saga'}. Best is trial 0 with value: 0.7468354430379747.\n",
      "[I 2024-06-08 00:05:04,906] Trial 148 finished with value: 0.7401732178547635 and parameters: {'l1_ratio': 0.45462919667860735, 'penalty': 'elasticnet', 'C': 0.16036769414041072, 'max_iter': 305, 'solver': 'saga'}. Best is trial 0 with value: 0.7468354430379747.\n",
      "[I 2024-06-08 00:05:05,034] Trial 149 finished with value: 0.740506329113924 and parameters: {'l1_ratio': 0.7287870275360602, 'penalty': 'elasticnet', 'C': 0.12019729056140388, 'max_iter': 775, 'solver': 'saga'}. Best is trial 0 with value: 0.7468354430379747.\n",
      "[I 2024-06-08 00:05:05,150] Trial 150 finished with value: 0.7411725516322452 and parameters: {'l1_ratio': 0.19300320074456478, 'penalty': 'elasticnet', 'C': 0.49003399433322187, 'max_iter': 825, 'solver': 'saga'}. Best is trial 0 with value: 0.7468354430379747.\n",
      "[I 2024-06-08 00:05:05,289] Trial 151 finished with value: 0.7468354430379747 and parameters: {'l1_ratio': 0.8576942251664084, 'penalty': 'elasticnet', 'C': 54.003560287872034, 'max_iter': 548, 'solver': 'saga'}. Best is trial 0 with value: 0.7468354430379747.\n",
      "[I 2024-06-08 00:05:05,414] Trial 152 finished with value: 0.7435043304463691 and parameters: {'l1_ratio': 0.7156670487542581, 'penalty': 'elasticnet', 'C': 0.47737705869943065, 'max_iter': 187, 'solver': 'saga'}. Best is trial 0 with value: 0.7468354430379747.\n",
      "[I 2024-06-08 00:05:05,537] Trial 153 finished with value: 0.740506329113924 and parameters: {'l1_ratio': 0.512772506734595, 'penalty': 'elasticnet', 'C': 0.1709739793157464, 'max_iter': 159, 'solver': 'saga'}. Best is trial 0 with value: 0.7468354430379747.\n",
      "[I 2024-06-08 00:05:05,665] Trial 154 finished with value: 0.7418387741505663 and parameters: {'l1_ratio': 0.34630026241876444, 'penalty': 'elasticnet', 'C': 0.20813803041222895, 'max_iter': 613, 'solver': 'saga'}. Best is trial 0 with value: 0.7468354430379747.\n",
      "[I 2024-06-08 00:05:05,796] Trial 155 finished with value: 0.745836109260493 and parameters: {'l1_ratio': 0.7696179395720334, 'penalty': 'elasticnet', 'C': 2.739723370259937, 'max_iter': 588, 'solver': 'saga'}. Best is trial 0 with value: 0.7468354430379747.\n",
      "[I 2024-06-08 00:05:05,924] Trial 156 finished with value: 0.7361758827448368 and parameters: {'l1_ratio': 0.16458012282314227, 'penalty': 'elasticnet', 'C': 0.026813954619397493, 'max_iter': 272, 'solver': 'saga'}. Best is trial 0 with value: 0.7468354430379747.\n",
      "[I 2024-06-08 00:05:06,049] Trial 157 finished with value: 0.7415056628914057 and parameters: {'l1_ratio': 0.7246209148956595, 'penalty': 'elasticnet', 'C': 0.09362629112368243, 'max_iter': 793, 'solver': 'saga'}. Best is trial 0 with value: 0.7468354430379747.\n",
      "[I 2024-06-08 00:05:06,200] Trial 158 finished with value: 0.7465023317788141 and parameters: {'l1_ratio': 0.6599634803874062, 'penalty': 'elasticnet', 'C': 14.966568675756214, 'max_iter': 383, 'solver': 'saga'}. Best is trial 0 with value: 0.7468354430379747.\n",
      "[I 2024-06-08 00:05:06,333] Trial 159 finished with value: 0.7468354430379747 and parameters: {'l1_ratio': 0.741395115770732, 'penalty': 'elasticnet', 'C': 1.4164469766090297, 'max_iter': 351, 'solver': 'saga'}. Best is trial 0 with value: 0.7468354430379747.\n",
      "[I 2024-06-08 00:05:06,484] Trial 160 finished with value: 0.7468354430379747 and parameters: {'l1_ratio': 0.5249485314348081, 'penalty': 'elasticnet', 'C': 55.83186946547343, 'max_iter': 826, 'solver': 'saga'}. Best is trial 0 with value: 0.7468354430379747.\n",
      "[I 2024-06-08 00:05:06,624] Trial 161 finished with value: 0.7391738840772818 and parameters: {'l1_ratio': 0.048184948782166837, 'penalty': 'elasticnet', 'C': 0.034375238006951726, 'max_iter': 112, 'solver': 'saga'}. Best is trial 0 with value: 0.7468354430379747.\n",
      "[I 2024-06-08 00:05:06,784] Trial 162 finished with value: 0.7408394403730846 and parameters: {'l1_ratio': 0.18085637652095798, 'penalty': 'elasticnet', 'C': 0.04500467543083502, 'max_iter': 861, 'solver': 'saga'}. Best is trial 0 with value: 0.7468354430379747.\n",
      "[I 2024-06-08 00:05:06,918] Trial 163 finished with value: 0.7418387741505663 and parameters: {'l1_ratio': 0.22335336112405713, 'penalty': 'elasticnet', 'C': 0.5564047032308311, 'max_iter': 290, 'solver': 'saga'}. Best is trial 0 with value: 0.7468354430379747.\n",
      "[I 2024-06-08 00:05:07,075] Trial 164 finished with value: 0.7468354430379747 and parameters: {'l1_ratio': 0.4581142029682954, 'penalty': 'elasticnet', 'C': 68.56895171673015, 'max_iter': 816, 'solver': 'saga'}. Best is trial 0 with value: 0.7468354430379747.\n",
      "[I 2024-06-08 00:05:07,234] Trial 165 finished with value: 0.7465023317788141 and parameters: {'l1_ratio': 0.008540302969749836, 'penalty': 'elasticnet', 'C': 54.49226875635392, 'max_iter': 240, 'solver': 'saga'}. Best is trial 0 with value: 0.7468354430379747.\n",
      "[I 2024-06-08 00:05:07,378] Trial 166 finished with value: 0.7415056628914057 and parameters: {'l1_ratio': 0.21212538395786107, 'penalty': 'elasticnet', 'C': 0.04641012545779085, 'max_iter': 892, 'solver': 'saga'}. Best is trial 0 with value: 0.7468354430379747.\n",
      "[I 2024-06-08 00:05:07,517] Trial 167 finished with value: 0.7465023317788141 and parameters: {'l1_ratio': 0.6993404421513147, 'penalty': 'elasticnet', 'C': 1.9572941155706889, 'max_iter': 501, 'solver': 'saga'}. Best is trial 0 with value: 0.7468354430379747.\n",
      "[I 2024-06-08 00:05:07,667] Trial 168 finished with value: 0.7468354430379747 and parameters: {'l1_ratio': 0.35765548924698587, 'penalty': 'elasticnet', 'C': 72.89712316242216, 'max_iter': 392, 'solver': 'saga'}. Best is trial 0 with value: 0.7468354430379747.\n",
      "[I 2024-06-08 00:05:07,807] Trial 169 finished with value: 0.7451698867421719 and parameters: {'l1_ratio': 0.2525647588221581, 'penalty': 'elasticnet', 'C': 5.739943435587947, 'max_iter': 901, 'solver': 'saga'}. Best is trial 0 with value: 0.7468354430379747.\n",
      "[I 2024-06-08 00:05:07,936] Trial 170 finished with value: 0.7408394403730846 and parameters: {'l1_ratio': 0.42959084730957575, 'penalty': 'elasticnet', 'C': 0.29037785517554454, 'max_iter': 234, 'solver': 'saga'}. Best is trial 0 with value: 0.7468354430379747.\n",
      "[I 2024-06-08 00:05:08,070] Trial 171 finished with value: 0.745836109260493 and parameters: {'l1_ratio': 0.4057965759814599, 'penalty': 'elasticnet', 'C': 2.40968751100728, 'max_iter': 695, 'solver': 'saga'}. Best is trial 0 with value: 0.7468354430379747.\n",
      "[I 2024-06-08 00:05:08,208] Trial 172 finished with value: 0.7295136575616256 and parameters: {'l1_ratio': 0.25786882263821753, 'penalty': 'elasticnet', 'C': 0.015190183464543648, 'max_iter': 354, 'solver': 'saga'}. Best is trial 0 with value: 0.7468354430379747.\n",
      "[I 2024-06-08 00:05:08,351] Trial 173 finished with value: 0.7245169886742172 and parameters: {'l1_ratio': 0.4262648360638064, 'penalty': 'elasticnet', 'C': 0.010099680155608283, 'max_iter': 138, 'solver': 'saga'}. Best is trial 0 with value: 0.7468354430379747.\n",
      "[I 2024-06-08 00:05:08,509] Trial 174 finished with value: 0.7165223184543638 and parameters: {'l1_ratio': 0.8705368937926137, 'penalty': 'elasticnet', 'C': 0.010789347902880676, 'max_iter': 128, 'solver': 'saga'}. Best is trial 0 with value: 0.7468354430379747.\n",
      "[I 2024-06-08 00:05:08,649] Trial 175 finished with value: 0.7415056628914057 and parameters: {'l1_ratio': 0.49765345484315615, 'penalty': 'elasticnet', 'C': 0.07866169156699519, 'max_iter': 438, 'solver': 'saga'}. Best is trial 0 with value: 0.7468354430379747.\n",
      "[I 2024-06-08 00:05:08,837] Trial 176 finished with value: 0.7465023317788141 and parameters: {'l1_ratio': 0.3577997907742848, 'penalty': 'elasticnet', 'C': 57.20442461131358, 'max_iter': 726, 'solver': 'saga'}. Best is trial 0 with value: 0.7468354430379747.\n",
      "[I 2024-06-08 00:05:08,994] Trial 177 finished with value: 0.745836109260493 and parameters: {'l1_ratio': 0.7885721416406517, 'penalty': 'elasticnet', 'C': 1.0108419324099946, 'max_iter': 132, 'solver': 'saga'}. Best is trial 0 with value: 0.7468354430379747.\n",
      "[I 2024-06-08 00:05:09,149] Trial 178 finished with value: 0.7278481012658228 and parameters: {'l1_ratio': 0.49078881889177617, 'penalty': 'elasticnet', 'C': 0.019417605447692464, 'max_iter': 683, 'solver': 'saga'}. Best is trial 0 with value: 0.7468354430379747.\n",
      "[I 2024-06-08 00:05:09,302] Trial 179 finished with value: 0.7425049966688874 and parameters: {'l1_ratio': 0.18951097529406513, 'penalty': 'elasticnet', 'C': 1.1293977346682467, 'max_iter': 422, 'solver': 'saga'}. Best is trial 0 with value: 0.7468354430379747.\n",
      "[I 2024-06-08 00:05:09,443] Trial 180 finished with value: 0.7468354430379747 and parameters: {'l1_ratio': 0.35560449737706856, 'penalty': 'elasticnet', 'C': 95.33403206065601, 'max_iter': 945, 'solver': 'saga'}. Best is trial 0 with value: 0.7468354430379747.\n",
      "[I 2024-06-08 00:05:09,571] Trial 181 finished with value: 0.7428381079280479 and parameters: {'l1_ratio': 0.3803928316342987, 'penalty': 'elasticnet', 'C': 1.1196636306660384, 'max_iter': 211, 'solver': 'saga'}. Best is trial 0 with value: 0.7468354430379747.\n",
      "[I 2024-06-08 00:05:09,712] Trial 182 finished with value: 0.7465023317788141 and parameters: {'l1_ratio': 0.31786624938645336, 'penalty': 'elasticnet', 'C': 51.64813072181702, 'max_iter': 108, 'solver': 'saga'}. Best is trial 0 with value: 0.7468354430379747.\n",
      "[I 2024-06-08 00:05:09,924] Trial 183 finished with value: 0.737508327781479 and parameters: {'l1_ratio': 0.5766847434366573, 'penalty': 'elasticnet', 'C': 0.05357647332882928, 'max_iter': 295, 'solver': 'saga'}. Best is trial 0 with value: 0.7468354430379747.\n",
      "[I 2024-06-08 00:05:10,047] Trial 184 finished with value: 0.740506329113924 and parameters: {'l1_ratio': 0.5204200584793329, 'penalty': 'elasticnet', 'C': 0.08242284433629943, 'max_iter': 819, 'solver': 'saga'}. Best is trial 0 with value: 0.7468354430379747.\n",
      "[I 2024-06-08 00:05:10,184] Trial 185 finished with value: 0.7465023317788141 and parameters: {'l1_ratio': 0.4815508030411725, 'penalty': 'elasticnet', 'C': 6.685175195778614, 'max_iter': 434, 'solver': 'saga'}. Best is trial 0 with value: 0.7468354430379747.\n",
      "[I 2024-06-08 00:05:10,304] Trial 186 finished with value: 0.7438374417055297 and parameters: {'l1_ratio': 0.40680733945979797, 'penalty': 'elasticnet', 'C': 1.4491003734180792, 'max_iter': 857, 'solver': 'saga'}. Best is trial 0 with value: 0.7468354430379747.\n",
      "[I 2024-06-08 00:05:10,445] Trial 187 finished with value: 0.7468354430379747 and parameters: {'l1_ratio': 0.4593597234190956, 'penalty': 'elasticnet', 'C': 60.02793144173173, 'max_iter': 480, 'solver': 'saga'}. Best is trial 0 with value: 0.7468354430379747.\n",
      "[I 2024-06-08 00:05:10,588] Trial 188 finished with value: 0.7465023317788141 and parameters: {'l1_ratio': 0.2619967887730157, 'penalty': 'elasticnet', 'C': 10.712390266612925, 'max_iter': 334, 'solver': 'saga'}. Best is trial 0 with value: 0.7468354430379747.\n",
      "[I 2024-06-08 00:05:10,736] Trial 189 finished with value: 0.7445036642238507 and parameters: {'l1_ratio': 0.9164386119520391, 'penalty': 'elasticnet', 'C': 0.5172608085543032, 'max_iter': 581, 'solver': 'saga'}. Best is trial 0 with value: 0.7468354430379747.\n",
      "[I 2024-06-08 00:05:10,871] Trial 190 finished with value: 0.7418387741505663 and parameters: {'l1_ratio': 0.18462380207402607, 'penalty': 'elasticnet', 'C': 0.34307614886134724, 'max_iter': 898, 'solver': 'saga'}. Best is trial 0 with value: 0.7468354430379747.\n",
      "[I 2024-06-08 00:05:11,019] Trial 191 finished with value: 0.7295136575616256 and parameters: {'l1_ratio': 0.21285193174839834, 'penalty': 'elasticnet', 'C': 0.010609616348701658, 'max_iter': 688, 'solver': 'saga'}. Best is trial 0 with value: 0.7468354430379747.\n",
      "[I 2024-06-08 00:05:11,163] Trial 192 finished with value: 0.7311792138574283 and parameters: {'l1_ratio': 0.8599840377691925, 'penalty': 'elasticnet', 'C': 0.023359562418764107, 'max_iter': 966, 'solver': 'saga'}. Best is trial 0 with value: 0.7468354430379747.\n",
      "[I 2024-06-08 00:05:11,310] Trial 193 finished with value: 0.7418387741505663 and parameters: {'l1_ratio': 0.1051869255930834, 'penalty': 'elasticnet', 'C': 0.043134613543198454, 'max_iter': 871, 'solver': 'saga'}. Best is trial 0 with value: 0.7468354430379747.\n",
      "[I 2024-06-08 00:05:11,468] Trial 194 finished with value: 0.7465023317788141 and parameters: {'l1_ratio': 0.2348524492830083, 'penalty': 'elasticnet', 'C': 9.466708423687347, 'max_iter': 552, 'solver': 'saga'}. Best is trial 0 with value: 0.7468354430379747.\n",
      "[I 2024-06-08 00:05:11,616] Trial 195 finished with value: 0.7468354430379747 and parameters: {'l1_ratio': 0.9269168613193993, 'penalty': 'elasticnet', 'C': 1.4175730331995302, 'max_iter': 258, 'solver': 'saga'}. Best is trial 0 with value: 0.7468354430379747.\n",
      "[I 2024-06-08 00:05:11,767] Trial 196 finished with value: 0.7468354430379747 and parameters: {'l1_ratio': 0.5540623103318519, 'penalty': 'elasticnet', 'C': 89.6060471028593, 'max_iter': 530, 'solver': 'saga'}. Best is trial 0 with value: 0.7468354430379747.\n",
      "[I 2024-06-08 00:05:11,911] Trial 197 finished with value: 0.7468354430379747 and parameters: {'l1_ratio': 0.16534047338212798, 'penalty': 'elasticnet', 'C': 75.41411366359625, 'max_iter': 736, 'solver': 'saga'}. Best is trial 0 with value: 0.7468354430379747.\n",
      "[I 2024-06-08 00:05:12,042] Trial 198 finished with value: 0.7465023317788141 and parameters: {'l1_ratio': 0.5583803439006675, 'penalty': 'elasticnet', 'C': 1.790861232076548, 'max_iter': 458, 'solver': 'saga'}. Best is trial 0 with value: 0.7468354430379747.\n",
      "[I 2024-06-08 00:05:12,176] Trial 199 finished with value: 0.7321785476349101 and parameters: {'l1_ratio': 0.12335021229434073, 'penalty': 'elasticnet', 'C': 0.01617980297530127, 'max_iter': 276, 'solver': 'saga'}. Best is trial 0 with value: 0.7468354430379747.\n"
     ]
    },
    {
     "name": "stdout",
     "output_type": "stream",
     "text": [
      "Best Hyperparameters: {'l1_ratio': 0.5172978838465893, 'penalty': 'elasticnet', 'C': 61.35506425409843, 'max_iter': 789, 'solver': 'saga'}\n",
      "Best Accuracy: 0.7468354430379747\n"
     ]
    }
   ],
   "source": [
    "# Create a study object and optimize the objective function\n",
    "study = optuna.create_study(direction='maximize', sampler=optuna.samplers.RandomSampler(seed=seed))\n",
    "study.optimize(objective, n_trials=200)\n",
    "\n",
    "# Get the best hyperparameters and accuracy score\n",
    "best_params = study.best_params\n",
    "best_accuracy = study.best_value\n",
    "\n",
    "print(\"Best Hyperparameters:\", best_params)\n",
    "print(\"Best Accuracy:\", best_accuracy)"
   ]
  },
  {
   "cell_type": "code",
   "execution_count": 31,
   "metadata": {},
   "outputs": [
    {
     "data": {
      "text/html": [
       "<div>\n",
       "<style scoped>\n",
       "    .dataframe tbody tr th:only-of-type {\n",
       "        vertical-align: middle;\n",
       "    }\n",
       "\n",
       "    .dataframe tbody tr th {\n",
       "        vertical-align: top;\n",
       "    }\n",
       "\n",
       "    .dataframe thead th {\n",
       "        text-align: right;\n",
       "    }\n",
       "</style>\n",
       "<table border=\"1\" class=\"dataframe\">\n",
       "  <thead>\n",
       "    <tr style=\"text-align: right;\">\n",
       "      <th></th>\n",
       "      <th>number</th>\n",
       "      <th>value</th>\n",
       "      <th>datetime_start</th>\n",
       "      <th>datetime_complete</th>\n",
       "      <th>duration</th>\n",
       "      <th>params_C</th>\n",
       "      <th>params_l1_ratio</th>\n",
       "      <th>params_max_iter</th>\n",
       "      <th>params_penalty</th>\n",
       "      <th>params_solver</th>\n",
       "      <th>state</th>\n",
       "    </tr>\n",
       "  </thead>\n",
       "  <tbody>\n",
       "    <tr>\n",
       "      <th>0</th>\n",
       "      <td>0</td>\n",
       "      <td>0.746835</td>\n",
       "      <td>2024-06-08 00:04:44.422704</td>\n",
       "      <td>2024-06-08 00:04:44.575735</td>\n",
       "      <td>0 days 00:00:00.153031</td>\n",
       "      <td>61.355064</td>\n",
       "      <td>0.517298</td>\n",
       "      <td>789</td>\n",
       "      <td>elasticnet</td>\n",
       "      <td>saga</td>\n",
       "      <td>COMPLETE</td>\n",
       "    </tr>\n",
       "    <tr>\n",
       "      <th>16</th>\n",
       "      <td>16</td>\n",
       "      <td>0.746835</td>\n",
       "      <td>2024-06-08 00:04:46.600616</td>\n",
       "      <td>2024-06-08 00:04:46.768659</td>\n",
       "      <td>0 days 00:00:00.168043</td>\n",
       "      <td>66.521091</td>\n",
       "      <td>0.483055</td>\n",
       "      <td>912</td>\n",
       "      <td>elasticnet</td>\n",
       "      <td>saga</td>\n",
       "      <td>COMPLETE</td>\n",
       "    </tr>\n",
       "    <tr>\n",
       "      <th>113</th>\n",
       "      <td>113</td>\n",
       "      <td>0.746835</td>\n",
       "      <td>2024-06-08 00:05:00.037116</td>\n",
       "      <td>2024-06-08 00:05:00.182165</td>\n",
       "      <td>0 days 00:00:00.145049</td>\n",
       "      <td>95.651405</td>\n",
       "      <td>0.086517</td>\n",
       "      <td>668</td>\n",
       "      <td>elasticnet</td>\n",
       "      <td>saga</td>\n",
       "      <td>COMPLETE</td>\n",
       "    </tr>\n",
       "    <tr>\n",
       "      <th>65</th>\n",
       "      <td>65</td>\n",
       "      <td>0.746835</td>\n",
       "      <td>2024-06-08 00:04:53.336906</td>\n",
       "      <td>2024-06-08 00:04:53.475938</td>\n",
       "      <td>0 days 00:00:00.139032</td>\n",
       "      <td>91.867857</td>\n",
       "      <td>0.480687</td>\n",
       "      <td>544</td>\n",
       "      <td>elasticnet</td>\n",
       "      <td>saga</td>\n",
       "      <td>COMPLETE</td>\n",
       "    </tr>\n",
       "    <tr>\n",
       "      <th>151</th>\n",
       "      <td>151</td>\n",
       "      <td>0.746835</td>\n",
       "      <td>2024-06-08 00:05:05.151450</td>\n",
       "      <td>2024-06-08 00:05:05.288418</td>\n",
       "      <td>0 days 00:00:00.136968</td>\n",
       "      <td>54.003560</td>\n",
       "      <td>0.857694</td>\n",
       "      <td>548</td>\n",
       "      <td>elasticnet</td>\n",
       "      <td>saga</td>\n",
       "      <td>COMPLETE</td>\n",
       "    </tr>\n",
       "    <tr>\n",
       "      <th>46</th>\n",
       "      <td>46</td>\n",
       "      <td>0.746835</td>\n",
       "      <td>2024-06-08 00:04:50.789815</td>\n",
       "      <td>2024-06-08 00:04:50.928776</td>\n",
       "      <td>0 days 00:00:00.138961</td>\n",
       "      <td>1.217760</td>\n",
       "      <td>0.760956</td>\n",
       "      <td>210</td>\n",
       "      <td>elasticnet</td>\n",
       "      <td>saga</td>\n",
       "      <td>COMPLETE</td>\n",
       "    </tr>\n",
       "    <tr>\n",
       "      <th>159</th>\n",
       "      <td>159</td>\n",
       "      <td>0.746835</td>\n",
       "      <td>2024-06-08 00:05:06.201450</td>\n",
       "      <td>2024-06-08 00:05:06.333454</td>\n",
       "      <td>0 days 00:00:00.132004</td>\n",
       "      <td>1.416447</td>\n",
       "      <td>0.741395</td>\n",
       "      <td>351</td>\n",
       "      <td>elasticnet</td>\n",
       "      <td>saga</td>\n",
       "      <td>COMPLETE</td>\n",
       "    </tr>\n",
       "    <tr>\n",
       "      <th>160</th>\n",
       "      <td>160</td>\n",
       "      <td>0.746835</td>\n",
       "      <td>2024-06-08 00:05:06.334450</td>\n",
       "      <td>2024-06-08 00:05:06.484417</td>\n",
       "      <td>0 days 00:00:00.149967</td>\n",
       "      <td>55.831869</td>\n",
       "      <td>0.524949</td>\n",
       "      <td>826</td>\n",
       "      <td>elasticnet</td>\n",
       "      <td>saga</td>\n",
       "      <td>COMPLETE</td>\n",
       "    </tr>\n",
       "    <tr>\n",
       "      <th>42</th>\n",
       "      <td>42</td>\n",
       "      <td>0.746835</td>\n",
       "      <td>2024-06-08 00:04:50.219814</td>\n",
       "      <td>2024-06-08 00:04:50.353810</td>\n",
       "      <td>0 days 00:00:00.133996</td>\n",
       "      <td>22.644087</td>\n",
       "      <td>0.849785</td>\n",
       "      <td>357</td>\n",
       "      <td>elasticnet</td>\n",
       "      <td>saga</td>\n",
       "      <td>COMPLETE</td>\n",
       "    </tr>\n",
       "    <tr>\n",
       "      <th>164</th>\n",
       "      <td>164</td>\n",
       "      <td>0.746835</td>\n",
       "      <td>2024-06-08 00:05:06.919115</td>\n",
       "      <td>2024-06-08 00:05:07.075112</td>\n",
       "      <td>0 days 00:00:00.155997</td>\n",
       "      <td>68.568952</td>\n",
       "      <td>0.458114</td>\n",
       "      <td>816</td>\n",
       "      <td>elasticnet</td>\n",
       "      <td>saga</td>\n",
       "      <td>COMPLETE</td>\n",
       "    </tr>\n",
       "  </tbody>\n",
       "</table>\n",
       "</div>"
      ],
      "text/plain": [
       "     number     value             datetime_start          datetime_complete  \\\n",
       "0         0  0.746835 2024-06-08 00:04:44.422704 2024-06-08 00:04:44.575735   \n",
       "16       16  0.746835 2024-06-08 00:04:46.600616 2024-06-08 00:04:46.768659   \n",
       "113     113  0.746835 2024-06-08 00:05:00.037116 2024-06-08 00:05:00.182165   \n",
       "65       65  0.746835 2024-06-08 00:04:53.336906 2024-06-08 00:04:53.475938   \n",
       "151     151  0.746835 2024-06-08 00:05:05.151450 2024-06-08 00:05:05.288418   \n",
       "46       46  0.746835 2024-06-08 00:04:50.789815 2024-06-08 00:04:50.928776   \n",
       "159     159  0.746835 2024-06-08 00:05:06.201450 2024-06-08 00:05:06.333454   \n",
       "160     160  0.746835 2024-06-08 00:05:06.334450 2024-06-08 00:05:06.484417   \n",
       "42       42  0.746835 2024-06-08 00:04:50.219814 2024-06-08 00:04:50.353810   \n",
       "164     164  0.746835 2024-06-08 00:05:06.919115 2024-06-08 00:05:07.075112   \n",
       "\n",
       "                  duration   params_C  params_l1_ratio  params_max_iter  \\\n",
       "0   0 days 00:00:00.153031  61.355064         0.517298              789   \n",
       "16  0 days 00:00:00.168043  66.521091         0.483055              912   \n",
       "113 0 days 00:00:00.145049  95.651405         0.086517              668   \n",
       "65  0 days 00:00:00.139032  91.867857         0.480687              544   \n",
       "151 0 days 00:00:00.136968  54.003560         0.857694              548   \n",
       "46  0 days 00:00:00.138961   1.217760         0.760956              210   \n",
       "159 0 days 00:00:00.132004   1.416447         0.741395              351   \n",
       "160 0 days 00:00:00.149967  55.831869         0.524949              826   \n",
       "42  0 days 00:00:00.133996  22.644087         0.849785              357   \n",
       "164 0 days 00:00:00.155997  68.568952         0.458114              816   \n",
       "\n",
       "    params_penalty params_solver     state  \n",
       "0       elasticnet          saga  COMPLETE  \n",
       "16      elasticnet          saga  COMPLETE  \n",
       "113     elasticnet          saga  COMPLETE  \n",
       "65      elasticnet          saga  COMPLETE  \n",
       "151     elasticnet          saga  COMPLETE  \n",
       "46      elasticnet          saga  COMPLETE  \n",
       "159     elasticnet          saga  COMPLETE  \n",
       "160     elasticnet          saga  COMPLETE  \n",
       "42      elasticnet          saga  COMPLETE  \n",
       "164     elasticnet          saga  COMPLETE  "
      ]
     },
     "execution_count": 31,
     "metadata": {},
     "output_type": "execute_result"
    }
   ],
   "source": [
    "# Get best trials\n",
    "trials_OTP2 = study.trials_dataframe()\n",
    "# Sort the dataframe by value (accuracy) in descending order\n",
    "top_trials_OTP2 = trials_OTP2.sort_values(by='value', ascending=False).head(10)\n",
    "top_trials_OTP2"
   ]
  },
  {
   "cell_type": "code",
   "execution_count": 32,
   "metadata": {},
   "outputs": [
    {
     "name": "stdout",
     "output_type": "stream",
     "text": [
      "Metrics for LR_OPT2_best:\n",
      "Accuracy: 0.7468\n",
      "Weighted F1: 0.7463\n",
      "Weighted Precision: 0.7472\n",
      "Weighted Recall: 0.7468\n",
      "Macro-Averaged Precision: 0.7474\n",
      "Macro-Averaged Recall: 0.7454\n",
      "F1: [0.76264834 0.72876517]\n",
      "Precision: [0.7417983  0.75294985]\n",
      "classification report\n",
      "              precision    recall  f1-score   support\n",
      "\n",
      "     Class 0       0.74      0.78      0.76      1556\n",
      "     Class 1       0.75      0.71      0.73      1446\n",
      "\n",
      "    accuracy                           0.75      3002\n",
      "   macro avg       0.75      0.75      0.75      3002\n",
      "weighted avg       0.75      0.75      0.75      3002\n",
      "\n",
      "Confusion Matrix\n"
     ]
    },
    {
     "data": {
      "image/png": "[encoded data removed]",
      "text/plain": [
       "<Figure size 432x288 with 2 Axes>"
      ]
     },
     "metadata": {
      "needs_background": "light"
     },
     "output_type": "display_data"
    }
   ],
   "source": [
    "best_trial = study.best_trial\n",
    "best_model = LogisticRegression(**best_trial.params, random_state=seed)\n",
    "best_model.fit(X_train, y_train)\n",
    "\n",
    "predictions_opt2 = best_model.predict(X_test)\n",
    "\n",
    "model_metrics = pd.concat([model_metrics, calculate_metrics('LR_OPT2_best', y_test, predictions_opt2)])"
   ]
  },
  {
   "cell_type": "code",
   "execution_count": 33,
   "metadata": {},
   "outputs": [
    {
     "data": {
      "application/vnd.plotly.v1+json": {
       "config": {
        "plotlyServerURL": "https://plot.ly"
       },
       "data": [
        {
         "cliponaxis": false,
         "hovertemplate": [
          "penalty (CategoricalDistribution): 0.0<extra></extra>",
          "solver (CategoricalDistribution): 0.0<extra></extra>",
          "max_iter (IntDistribution): 0.0246975596528313<extra></extra>",
          "l1_ratio (FloatDistribution): 0.02504956501764747<extra></extra>",
          "C (FloatDistribution): 0.9502528753295213<extra></extra>"
         ],
         "name": "Objective Value",
         "orientation": "h",
         "text": [
          "<0.01",
          "<0.01",
          "0.02",
          "0.03",
          "0.95"
         ],
         "textposition": "outside",
         "type": "bar",
         "x": [
          0,
          0,
          0.0246975596528313,
          0.02504956501764747,
          0.9502528753295213
         ],
         "y": [
          "penalty",
          "solver",
          "max_iter",
          "l1_ratio",
          "C"
         ]
        }
       ],
       "layout": {
        "template": {
         "data": {
          "bar": [
           {
            "error_x": {
             "color": "#2a3f5f"
            },
            "error_y": {
             "color": "#2a3f5f"
            },
            "marker": {
             "line": {
              "color": "#E5ECF6",
              "width": 0.5
             },
             "pattern": {
              "fillmode": "overlay",
              "size": 10,
              "solidity": 0.2
             }
            },
            "type": "bar"
           }
          ],
          "barpolar": [
           {
            "marker": {
             "line": {
              "color": "#E5ECF6",
              "width": 0.5
             },
             "pattern": {
              "fillmode": "overlay",
              "size": 10,
              "solidity": 0.2
             }
            },
            "type": "barpolar"
           }
          ],
          "carpet": [
           {
            "aaxis": {
             "endlinecolor": "#2a3f5f",
             "gridcolor": "white",
             "linecolor": "white",
             "minorgridcolor": "white",
             "startlinecolor": "#2a3f5f"
            },
            "baxis": {
             "endlinecolor": "#2a3f5f",
             "gridcolor": "white",
             "linecolor": "white",
             "minorgridcolor": "white",
             "startlinecolor": "#2a3f5f"
            },
            "type": "carpet"
           }
          ],
          "choropleth": [
           {
            "colorbar": {
             "outlinewidth": 0,
             "ticks": ""
            },
            "type": "choropleth"
           }
          ],
          "contour": [
           {
            "colorbar": {
             "outlinewidth": 0,
             "ticks": ""
            },
            "colorscale": [
             [
              0,
              "#0d0887"
             ],
             [
              0.1111111111111111,
              "#46039f"
             ],
             [
              0.2222222222222222,
              "#7201a8"
             ],
             [
              0.3333333333333333,
              "#9c179e"
             ],
             [
              0.4444444444444444,
              "#bd3786"
             ],
             [
              0.5555555555555556,
              "#d8576b"
             ],
             [
              0.6666666666666666,
              "#ed7953"
             ],
             [
              0.7777777777777778,
              "#fb9f3a"
             ],
             [
              0.8888888888888888,
              "#fdca26"
             ],
             [
              1,
              "#f0f921"
             ]
            ],
            "type": "contour"
           }
          ],
          "contourcarpet": [
           {
            "colorbar": {
             "outlinewidth": 0,
             "ticks": ""
            },
            "type": "contourcarpet"
           }
          ],
          "heatmap": [
           {
            "colorbar": {
             "outlinewidth": 0,
             "ticks": ""
            },
            "colorscale": [
             [
              0,
              "#0d0887"
             ],
             [
              0.1111111111111111,
              "#46039f"
             ],
             [
              0.2222222222222222,
              "#7201a8"
             ],
             [
              0.3333333333333333,
              "#9c179e"
             ],
             [
              0.4444444444444444,
              "#bd3786"
             ],
             [
              0.5555555555555556,
              "#d8576b"
             ],
             [
              0.6666666666666666,
              "#ed7953"
             ],
             [
              0.7777777777777778,
              "#fb9f3a"
             ],
             [
              0.8888888888888888,
              "#fdca26"
             ],
             [
              1,
              "#f0f921"
             ]
            ],
            "type": "heatmap"
           }
          ],
          "heatmapgl": [
           {
            "colorbar": {
             "outlinewidth": 0,
             "ticks": ""
            },
            "colorscale": [
             [
              0,
              "#0d0887"
             ],
             [
              0.1111111111111111,
              "#46039f"
             ],
             [
              0.2222222222222222,
              "#7201a8"
             ],
             [
              0.3333333333333333,
              "#9c179e"
             ],
             [
              0.4444444444444444,
              "#bd3786"
             ],
             [
              0.5555555555555556,
              "#d8576b"
             ],
             [
              0.6666666666666666,
              "#ed7953"
             ],
             [
              0.7777777777777778,
              "#fb9f3a"
             ],
             [
              0.8888888888888888,
              "#fdca26"
             ],
             [
              1,
              "#f0f921"
             ]
            ],
            "type": "heatmapgl"
           }
          ],
          "histogram": [
           {
            "marker": {
             "pattern": {
              "fillmode": "overlay",
              "size": 10,
              "solidity": 0.2
             }
            },
            "type": "histogram"
           }
          ],
          "histogram2d": [
           {
            "colorbar": {
             "outlinewidth": 0,
             "ticks": ""
            },
            "colorscale": [
             [
              0,
              "#0d0887"
             ],
             [
              0.1111111111111111,
              "#46039f"
             ],
             [
              0.2222222222222222,
              "#7201a8"
             ],
             [
              0.3333333333333333,
              "#9c179e"
             ],
             [
              0.4444444444444444,
              "#bd3786"
             ],
             [
              0.5555555555555556,
              "#d8576b"
             ],
             [
              0.6666666666666666,
              "#ed7953"
             ],
             [
              0.7777777777777778,
              "#fb9f3a"
             ],
             [
              0.8888888888888888,
              "#fdca26"
             ],
             [
              1,
              "#f0f921"
             ]
            ],
            "type": "histogram2d"
           }
          ],
          "histogram2dcontour": [
           {
            "colorbar": {
             "outlinewidth": 0,
             "ticks": ""
            },
            "colorscale": [
             [
              0,
              "#0d0887"
             ],
             [
              0.1111111111111111,
              "#46039f"
             ],
             [
              0.2222222222222222,
              "#7201a8"
             ],
             [
              0.3333333333333333,
              "#9c179e"
             ],
             [
              0.4444444444444444,
              "#bd3786"
             ],
             [
              0.5555555555555556,
              "#d8576b"
             ],
             [
              0.6666666666666666,
              "#ed7953"
             ],
             [
              0.7777777777777778,
              "#fb9f3a"
             ],
             [
              0.8888888888888888,
              "#fdca26"
             ],
             [
              1,
              "#f0f921"
             ]
            ],
            "type": "histogram2dcontour"
           }
          ],
          "mesh3d": [
           {
            "colorbar": {
             "outlinewidth": 0,
             "ticks": ""
            },
            "type": "mesh3d"
           }
          ],
          "parcoords": [
           {
            "line": {
             "colorbar": {
              "outlinewidth": 0,
              "ticks": ""
             }
            },
            "type": "parcoords"
           }
          ],
          "pie": [
           {
            "automargin": true,
            "type": "pie"
           }
          ],
          "scatter": [
           {
            "fillpattern": {
             "fillmode": "overlay",
             "size": 10,
             "solidity": 0.2
            },
            "type": "scatter"
           }
          ],
          "scatter3d": [
           {
            "line": {
             "colorbar": {
              "outlinewidth": 0,
              "ticks": ""
             }
            },
            "marker": {
             "colorbar": {
              "outlinewidth": 0,
              "ticks": ""
             }
            },
            "type": "scatter3d"
           }
          ],
          "scattercarpet": [
           {
            "marker": {
             "colorbar": {
              "outlinewidth": 0,
              "ticks": ""
             }
            },
            "type": "scattercarpet"
           }
          ],
          "scattergeo": [
           {
            "marker": {
             "colorbar": {
              "outlinewidth": 0,
              "ticks": ""
             }
            },
            "type": "scattergeo"
           }
          ],
          "scattergl": [
           {
            "marker": {
             "colorbar": {
              "outlinewidth": 0,
              "ticks": ""
             }
            },
            "type": "scattergl"
           }
          ],
          "scattermapbox": [
           {
            "marker": {
             "colorbar": {
              "outlinewidth": 0,
              "ticks": ""
             }
            },
            "type": "scattermapbox"
           }
          ],
          "scatterpolar": [
           {
            "marker": {
             "colorbar": {
              "outlinewidth": 0,
              "ticks": ""
             }
            },
            "type": "scatterpolar"
           }
          ],
          "scatterpolargl": [
           {
            "marker": {
             "colorbar": {
              "outlinewidth": 0,
              "ticks": ""
             }
            },
            "type": "scatterpolargl"
           }
          ],
          "scatterternary": [
           {
            "marker": {
             "colorbar": {
              "outlinewidth": 0,
              "ticks": ""
             }
            },
            "type": "scatterternary"
           }
          ],
          "surface": [
           {
            "colorbar": {
             "outlinewidth": 0,
             "ticks": ""
            },
            "colorscale": [
             [
              0,
              "#0d0887"
             ],
             [
              0.1111111111111111,
              "#46039f"
             ],
             [
              0.2222222222222222,
              "#7201a8"
             ],
             [
              0.3333333333333333,
              "#9c179e"
             ],
             [
              0.4444444444444444,
              "#bd3786"
             ],
             [
              0.5555555555555556,
              "#d8576b"
             ],
             [
              0.6666666666666666,
              "#ed7953"
             ],
             [
              0.7777777777777778,
              "#fb9f3a"
             ],
             [
              0.8888888888888888,
              "#fdca26"
             ],
             [
              1,
              "#f0f921"
             ]
            ],
            "type": "surface"
           }
          ],
          "table": [
           {
            "cells": {
             "fill": {
              "color": "#EBF0F8"
             },
             "line": {
              "color": "white"
             }
            },
            "header": {
             "fill": {
              "color": "#C8D4E3"
             },
             "line": {
              "color": "white"
             }
            },
            "type": "table"
           }
          ]
         },
         "layout": {
          "annotationdefaults": {
           "arrowcolor": "#2a3f5f",
           "arrowhead": 0,
           "arrowwidth": 1
          },
          "autotypenumbers": "strict",
          "coloraxis": {
           "colorbar": {
            "outlinewidth": 0,
            "ticks": ""
           }
          },
          "colorscale": {
           "diverging": [
            [
             0,
             "#8e0152"
            ],
            [
             0.1,
             "#c51b7d"
            ],
            [
             0.2,
             "#de77ae"
            ],
            [
             0.3,
             "#f1b6da"
            ],
            [
             0.4,
             "#fde0ef"
            ],
            [
             0.5,
             "#f7f7f7"
            ],
            [
             0.6,
             "#e6f5d0"
            ],
            [
             0.7,
             "#b8e186"
            ],
            [
             0.8,
             "#7fbc41"
            ],
            [
             0.9,
             "#4d9221"
            ],
            [
             1,
             "#276419"
            ]
           ],
           "sequential": [
            [
             0,
             "#0d0887"
            ],
            [
             0.1111111111111111,
             "#46039f"
            ],
            [
             0.2222222222222222,
             "#7201a8"
            ],
            [
             0.3333333333333333,
             "#9c179e"
            ],
            [
             0.4444444444444444,
             "#bd3786"
            ],
            [
             0.5555555555555556,
             "#d8576b"
            ],
            [
             0.6666666666666666,
             "#ed7953"
            ],
            [
             0.7777777777777778,
             "#fb9f3a"
            ],
            [
             0.8888888888888888,
             "#fdca26"
            ],
            [
             1,
             "#f0f921"
            ]
           ],
           "sequentialminus": [
            [
             0,
             "#0d0887"
            ],
            [
             0.1111111111111111,
             "#46039f"
            ],
            [
             0.2222222222222222,
             "#7201a8"
            ],
            [
             0.3333333333333333,
             "#9c179e"
            ],
            [
             0.4444444444444444,
             "#bd3786"
            ],
            [
             0.5555555555555556,
             "#d8576b"
            ],
            [
             0.6666666666666666,
             "#ed7953"
            ],
            [
             0.7777777777777778,
             "#fb9f3a"
            ],
            [
             0.8888888888888888,
             "#fdca26"
            ],
            [
             1,
             "#f0f921"
            ]
           ]
          },
          "colorway": [
           "#636efa",
           "#EF553B",
           "#00cc96",
           "#ab63fa",
           "#FFA15A",
           "#19d3f3",
           "#FF6692",
           "#B6E880",
           "#FF97FF",
           "#FECB52"
          ],
          "font": {
           "color": "#2a3f5f"
          },
          "geo": {
           "bgcolor": "white",
           "lakecolor": "white",
           "landcolor": "#E5ECF6",
           "showlakes": true,
           "showland": true,
           "subunitcolor": "white"
          },
          "hoverlabel": {
           "align": "left"
          },
          "hovermode": "closest",
          "mapbox": {
           "style": "light"
          },
          "paper_bgcolor": "white",
          "plot_bgcolor": "#E5ECF6",
          "polar": {
           "angularaxis": {
            "gridcolor": "white",
            "linecolor": "white",
            "ticks": ""
           },
           "bgcolor": "#E5ECF6",
           "radialaxis": {
            "gridcolor": "white",
            "linecolor": "white",
            "ticks": ""
           }
          },
          "scene": {
           "xaxis": {
            "backgroundcolor": "#E5ECF6",
            "gridcolor": "white",
            "gridwidth": 2,
            "linecolor": "white",
            "showbackground": true,
            "ticks": "",
            "zerolinecolor": "white"
           },
           "yaxis": {
            "backgroundcolor": "#E5ECF6",
            "gridcolor": "white",
            "gridwidth": 2,
            "linecolor": "white",
            "showbackground": true,
            "ticks": "",
            "zerolinecolor": "white"
           },
           "zaxis": {
            "backgroundcolor": "#E5ECF6",
            "gridcolor": "white",
            "gridwidth": 2,
            "linecolor": "white",
            "showbackground": true,
            "ticks": "",
            "zerolinecolor": "white"
           }
          },
          "shapedefaults": {
           "line": {
            "color": "#2a3f5f"
           }
          },
          "ternary": {
           "aaxis": {
            "gridcolor": "white",
            "linecolor": "white",
            "ticks": ""
           },
           "baxis": {
            "gridcolor": "white",
            "linecolor": "white",
            "ticks": ""
           },
           "bgcolor": "#E5ECF6",
           "caxis": {
            "gridcolor": "white",
            "linecolor": "white",
            "ticks": ""
           }
          },
          "title": {
           "x": 0.05
          },
          "xaxis": {
           "automargin": true,
           "gridcolor": "white",
           "linecolor": "white",
           "ticks": "",
           "title": {
            "standoff": 15
           },
           "zerolinecolor": "white",
           "zerolinewidth": 2
          },
          "yaxis": {
           "automargin": true,
           "gridcolor": "white",
           "linecolor": "white",
           "ticks": "",
           "title": {
            "standoff": 15
           },
           "zerolinecolor": "white",
           "zerolinewidth": 2
          }
         }
        },
        "title": {
         "text": "Hyperparameter Importances"
        },
        "xaxis": {
         "title": {
          "text": "Hyperparameter Importance"
         }
        },
        "yaxis": {
         "title": {
          "text": "Hyperparameter"
         }
        }
       }
      }
     },
     "metadata": {},
     "output_type": "display_data"
    }
   ],
   "source": [
    "optuna.visualization.plot_param_importances(study)"
   ]
  },
  {
   "cell_type": "markdown",
   "metadata": {},
   "source": [
    "Make 'C' interval uniform (as it remains the most important hyperparameter)"
   ]
  },
  {
   "cell_type": "code",
   "execution_count": 34,
   "metadata": {},
   "outputs": [],
   "source": [
    "def objective(trial):\n",
    "    # Define the hyperparameters to optimize\n",
    "    l1_ratio = trial.suggest_uniform('l1_ratio', 0, 1)\n",
    "    penalty = trial.suggest_categorical('penalty', ['elasticnet'])\n",
    "    C = trial.suggest_uniform('C', 0.01, 100.0)\n",
    "    max_iter = trial.suggest_int('max_iter', 100, 1000)\n",
    "    solver= trial.suggest_categorical('solver', ['saga'])\n",
    "    \n",
    "    # Create the logistic regression model with the hyperparameters\n",
    "    model = LogisticRegression(penalty=penalty, C=C, max_iter=max_iter,\n",
    "     solver=solver, l1_ratio=l1_ratio, random_state=seed)\n",
    "    \n",
    "    # Train the model\n",
    "    model.fit(X_train, y_train)\n",
    "    \n",
    "    # Make predictions on the test set\n",
    "    y_pred = model.predict(X_test)\n",
    "    \n",
    "    # Calculate the accuracy score\n",
    "    accuracy = accuracy_score(y_test, y_pred)\n",
    "    #score_cross_val = cross_val_score(model, X_train, y_train, cv=5, scoring='precision')\n",
    "\n",
    "    \n",
    "    return accuracy"
   ]
  },
  {
   "cell_type": "code",
   "execution_count": 35,
   "metadata": {},
   "outputs": [
    {
     "name": "stderr",
     "output_type": "stream",
     "text": [
      "[I 2024-06-08 00:05:14,095] A new study created in memory with name: no-name-91293808-9ef2-4647-bbde-b23dfbd23ae9\n",
      "[I 2024-06-08 00:05:14,239] Trial 0 finished with value: 0.7468354430379747 and parameters: {'l1_ratio': 0.5172978838465893, 'penalty': 'elasticnet', 'C': 94.69679075544326, 'max_iter': 789, 'solver': 'saga'}. Best is trial 0 with value: 0.7468354430379747.\n",
      "[I 2024-06-08 00:05:14,381] Trial 1 finished with value: 0.7465023317788141 and parameters: {'l1_ratio': 0.2823958439671127, 'penalty': 'elasticnet', 'C': 22.112325872532644, 'max_iter': 718, 'solver': 'saga'}. Best is trial 0 with value: 0.7468354430379747.\n",
      "[I 2024-06-08 00:05:14,517] Trial 2 finished with value: 0.7465023317788141 and parameters: {'l1_ratio': 0.16713920310005626, 'penalty': 'elasticnet', 'C': 39.25032222183841, 'max_iter': 656, 'solver': 'saga'}. Best is trial 0 with value: 0.7468354430379747.\n",
      "[I 2024-06-08 00:05:14,651] Trial 3 finished with value: 0.7418387741505663 and parameters: {'l1_ratio': 0.411930094858746, 'penalty': 'elasticnet', 'C': 0.25646347127660823, 'max_iter': 896, 'solver': 'saga'}. Best is trial 0 with value: 0.7468354430379747.\n",
      "[I 2024-06-08 00:05:14,806] Trial 4 finished with value: 0.7468354430379747 and parameters: {'l1_ratio': 0.8849475383764736, 'penalty': 'elasticnet', 'C': 30.047964839754428, 'max_iter': 631, 'solver': 'saga'}. Best is trial 0 with value: 0.7468354430379747.\n",
      "[I 2024-06-08 00:05:14,968] Trial 5 finished with value: 0.7468354430379747 and parameters: {'l1_ratio': 0.9784269160148309, 'penalty': 'elasticnet', 'C': 84.51093127440986, 'max_iter': 158, 'solver': 'saga'}. Best is trial 0 with value: 0.7468354430379747.\n",
      "[I 2024-06-08 00:05:15,128] Trial 6 finished with value: 0.7465023317788141 and parameters: {'l1_ratio': 0.2947444647173656, 'penalty': 'elasticnet', 'C': 28.80056475231497, 'max_iter': 841, 'solver': 'saga'}. Best is trial 0 with value: 0.7468354430379747.\n",
      "[I 2024-06-08 00:05:15,289] Trial 7 finished with value: 0.7465023317788141 and parameters: {'l1_ratio': 0.6261830379602461, 'penalty': 'elasticnet', 'C': 11.05666661422824, 'max_iter': 100, 'solver': 'saga'}. Best is trial 0 with value: 0.7468354430379747.\n",
      "[I 2024-06-08 00:05:15,473] Trial 8 finished with value: 0.7465023317788141 and parameters: {'l1_ratio': 0.9421662328554996, 'penalty': 'elasticnet', 'C': 14.158660764941725, 'max_iter': 479, 'solver': 'saga'}. Best is trial 0 with value: 0.7468354430379747.\n",
      "[I 2024-06-08 00:05:15,655] Trial 9 finished with value: 0.7468354430379747 and parameters: {'l1_ratio': 0.3464894401485442, 'penalty': 'elasticnet', 'C': 86.97981058887417, 'max_iter': 486, 'solver': 'saga'}. Best is trial 0 with value: 0.7468354430379747.\n",
      "[I 2024-06-08 00:05:15,805] Trial 10 finished with value: 0.7468354430379747 and parameters: {'l1_ratio': 0.8287514843227557, 'penalty': 'elasticnet', 'C': 71.78800530422157, 'max_iter': 207, 'solver': 'saga'}. Best is trial 0 with value: 0.7468354430379747.\n",
      "[I 2024-06-08 00:05:15,954] Trial 11 finished with value: 0.7465023317788141 and parameters: {'l1_ratio': 0.5963841727096089, 'penalty': 'elasticnet', 'C': 12.984332207540941, 'max_iter': 169, 'solver': 'saga'}. Best is trial 0 with value: 0.7468354430379747.\n",
      "[I 2024-06-08 00:05:16,101] Trial 12 finished with value: 0.7468354430379747 and parameters: {'l1_ratio': 0.831205255690418, 'penalty': 'elasticnet', 'C': 46.44391762187244, 'max_iter': 245, 'solver': 'saga'}. Best is trial 0 with value: 0.7468354430379747.\n",
      "[I 2024-06-08 00:05:16,255] Trial 13 finished with value: 0.7468354430379747 and parameters: {'l1_ratio': 0.5479752920930067, 'penalty': 'elasticnet', 'C': 58.85269732601583, 'max_iter': 797, 'solver': 'saga'}. Best is trial 0 with value: 0.7468354430379747.\n",
      "[I 2024-06-08 00:05:16,403] Trial 14 finished with value: 0.7468354430379747 and parameters: {'l1_ratio': 0.6558454580069033, 'penalty': 'elasticnet', 'C': 55.775098880247505, 'max_iter': 260, 'solver': 'saga'}. Best is trial 0 with value: 0.7468354430379747.\n",
      "[I 2024-06-08 00:05:16,549] Trial 15 finished with value: 0.7465023317788141 and parameters: {'l1_ratio': 0.24058353121801312, 'penalty': 'elasticnet', 'C': 50.61040269056223, 'max_iter': 457, 'solver': 'saga'}. Best is trial 0 with value: 0.7468354430379747.\n",
      "[I 2024-06-08 00:05:16,688] Trial 16 finished with value: 0.7468354430379747 and parameters: {'l1_ratio': 0.48305518544294146, 'penalty': 'elasticnet', 'C': 95.5744267104077, 'max_iter': 912, 'solver': 'saga'}. Best is trial 0 with value: 0.7468354430379747.\n",
      "[I 2024-06-08 00:05:16,836] Trial 17 finished with value: 0.7468354430379747 and parameters: {'l1_ratio': 0.5057593219775152, 'penalty': 'elasticnet', 'C': 82.07194150143985, 'max_iter': 845, 'solver': 'saga'}. Best is trial 0 with value: 0.7468354430379747.\n",
      "[I 2024-06-08 00:05:16,978] Trial 18 finished with value: 0.745836109260493 and parameters: {'l1_ratio': 0.23183334760205443, 'penalty': 'elasticnet', 'C': 7.914758085628993, 'max_iter': 519, 'solver': 'saga'}. Best is trial 0 with value: 0.7468354430379747.\n",
      "[I 2024-06-08 00:05:17,116] Trial 19 finished with value: 0.7465023317788141 and parameters: {'l1_ratio': 0.8789758084042731, 'penalty': 'elasticnet', 'C': 14.758830839998286, 'max_iter': 308, 'solver': 'saga'}. Best is trial 0 with value: 0.7468354430379747.\n",
      "[I 2024-06-08 00:05:17,356] Trial 20 finished with value: 0.7465023317788141 and parameters: {'l1_ratio': 0.9179458057039298, 'penalty': 'elasticnet', 'C': 12.915062125341006, 'max_iter': 925, 'solver': 'saga'}. Best is trial 0 with value: 0.7468354430379747.\n",
      "[I 2024-06-08 00:05:17,499] Trial 21 finished with value: 0.7465023317788141 and parameters: {'l1_ratio': 0.23479755091129706, 'penalty': 'elasticnet', 'C': 61.602516996263844, 'max_iter': 957, 'solver': 'saga'}. Best is trial 0 with value: 0.7468354430379747.\n",
      "[I 2024-06-08 00:05:17,638] Trial 22 finished with value: 0.7465023317788141 and parameters: {'l1_ratio': 0.25513081972233587, 'penalty': 'elasticnet', 'C': 45.031012283015585, 'max_iter': 976, 'solver': 'saga'}. Best is trial 0 with value: 0.7468354430379747.\n",
      "[I 2024-06-08 00:05:17,779] Trial 23 finished with value: 0.7465023317788141 and parameters: {'l1_ratio': 0.23937099816163865, 'penalty': 'elasticnet', 'C': 19.876143456435944, 'max_iter': 719, 'solver': 'saga'}. Best is trial 0 with value: 0.7468354430379747.\n",
      "[I 2024-06-08 00:05:17,920] Trial 24 finished with value: 0.7468354430379747 and parameters: {'l1_ratio': 0.8450091946690719, 'penalty': 'elasticnet', 'C': 45.337085019862336, 'max_iter': 191, 'solver': 'saga'}. Best is trial 0 with value: 0.7468354430379747.\n",
      "[I 2024-06-08 00:05:18,061] Trial 25 finished with value: 0.7465023317788141 and parameters: {'l1_ratio': 0.622847970552664, 'penalty': 'elasticnet', 'C': 8.356758926609873, 'max_iter': 147, 'solver': 'saga'}. Best is trial 0 with value: 0.7468354430379747.\n",
      "[I 2024-06-08 00:05:18,201] Trial 26 finished with value: 0.7468354430379747 and parameters: {'l1_ratio': 0.3454784779791955, 'penalty': 'elasticnet', 'C': 90.54846776952209, 'max_iter': 819, 'solver': 'saga'}. Best is trial 0 with value: 0.7468354430379747.\n",
      "[I 2024-06-08 00:05:18,352] Trial 27 finished with value: 0.7465023317788141 and parameters: {'l1_ratio': 0.3842269427484306, 'penalty': 'elasticnet', 'C': 9.28167318660989, 'max_iter': 214, 'solver': 'saga'}. Best is trial 0 with value: 0.7468354430379747.\n",
      "[I 2024-06-08 00:05:18,505] Trial 28 finished with value: 0.7468354430379747 and parameters: {'l1_ratio': 0.5343972812309752, 'penalty': 'elasticnet', 'C': 50.7353466655461, 'max_iter': 553, 'solver': 'saga'}. Best is trial 0 with value: 0.7468354430379747.\n",
      "[I 2024-06-08 00:05:18,701] Trial 29 finished with value: 0.7468354430379747 and parameters: {'l1_ratio': 0.12660677568465384, 'penalty': 'elasticnet', 'C': 79.13114619972418, 'max_iter': 637, 'solver': 'saga'}. Best is trial 0 with value: 0.7468354430379747.\n",
      "[I 2024-06-08 00:05:18,922] Trial 30 finished with value: 0.7468354430379747 and parameters: {'l1_ratio': 0.75776937269917, 'penalty': 'elasticnet', 'C': 45.941815547894294, 'max_iter': 167, 'solver': 'saga'}. Best is trial 0 with value: 0.7468354430379747.\n",
      "[I 2024-06-08 00:05:19,109] Trial 31 finished with value: 0.7468354430379747 and parameters: {'l1_ratio': 0.6024878434664988, 'penalty': 'elasticnet', 'C': 43.56556095994181, 'max_iter': 105, 'solver': 'saga'}. Best is trial 0 with value: 0.7468354430379747.\n",
      "[I 2024-06-08 00:05:19,270] Trial 32 finished with value: 0.7465023317788141 and parameters: {'l1_ratio': 0.04662987836169319, 'penalty': 'elasticnet', 'C': 41.88005257659126, 'max_iter': 891, 'solver': 'saga'}. Best is trial 0 with value: 0.7468354430379747.\n",
      "[I 2024-06-08 00:05:19,429] Trial 33 finished with value: 0.7468354430379747 and parameters: {'l1_ratio': 0.43301769330849826, 'penalty': 'elasticnet', 'C': 64.34958641486882, 'max_iter': 612, 'solver': 'saga'}. Best is trial 0 with value: 0.7468354430379747.\n",
      "[I 2024-06-08 00:05:19,578] Trial 34 finished with value: 0.7465023317788141 and parameters: {'l1_ratio': 0.24018190154641206, 'penalty': 'elasticnet', 'C': 29.577723242551617, 'max_iter': 104, 'solver': 'saga'}. Best is trial 0 with value: 0.7468354430379747.\n",
      "[I 2024-06-08 00:05:19,726] Trial 35 finished with value: 0.7465023317788141 and parameters: {'l1_ratio': 0.1288935485768078, 'penalty': 'elasticnet', 'C': 52.92021041766975, 'max_iter': 683, 'solver': 'saga'}. Best is trial 0 with value: 0.7468354430379747.\n",
      "[I 2024-06-08 00:05:19,871] Trial 36 finished with value: 0.7465023317788141 and parameters: {'l1_ratio': 0.14536195449419298, 'penalty': 'elasticnet', 'C': 69.1420121534799, 'max_iter': 645, 'solver': 'saga'}. Best is trial 0 with value: 0.7468354430379747.\n",
      "[I 2024-06-08 00:05:20,018] Trial 37 finished with value: 0.7468354430379747 and parameters: {'l1_ratio': 0.963544780062434, 'penalty': 'elasticnet', 'C': 84.2870265593638, 'max_iter': 567, 'solver': 'saga'}. Best is trial 0 with value: 0.7468354430379747.\n",
      "[I 2024-06-08 00:05:20,165] Trial 38 finished with value: 0.7465023317788141 and parameters: {'l1_ratio': 0.6034752072158278, 'penalty': 'elasticnet', 'C': 8.558721313456362, 'max_iter': 960, 'solver': 'saga'}. Best is trial 0 with value: 0.7468354430379747.\n",
      "[I 2024-06-08 00:05:20,304] Trial 39 finished with value: 0.7468354430379747 and parameters: {'l1_ratio': 0.8951009548900523, 'penalty': 'elasticnet', 'C': 55.83913413464438, 'max_iter': 354, 'solver': 'saga'}. Best is trial 0 with value: 0.7468354430379747.\n",
      "[I 2024-06-08 00:05:20,454] Trial 40 finished with value: 0.7468354430379747 and parameters: {'l1_ratio': 0.6393898787142637, 'penalty': 'elasticnet', 'C': 41.70864042530114, 'max_iter': 665, 'solver': 'saga'}. Best is trial 0 with value: 0.7468354430379747.\n",
      "[I 2024-06-08 00:05:20,601] Trial 41 finished with value: 0.7465023317788141 and parameters: {'l1_ratio': 0.3964306441212516, 'penalty': 'elasticnet', 'C': 30.188298259896797, 'max_iter': 458, 'solver': 'saga'}. Best is trial 0 with value: 0.7468354430379747.\n",
      "[I 2024-06-08 00:05:20,741] Trial 42 finished with value: 0.7468354430379747 and parameters: {'l1_ratio': 0.8497845284188781, 'penalty': 'elasticnet', 'C': 83.87548295848951, 'max_iter': 357, 'solver': 'saga'}. Best is trial 0 with value: 0.7468354430379747.\n",
      "[I 2024-06-08 00:05:20,883] Trial 43 finished with value: 0.7465023317788141 and parameters: {'l1_ratio': 0.33885827739248164, 'penalty': 'elasticnet', 'C': 48.39435821312557, 'max_iter': 446, 'solver': 'saga'}. Best is trial 0 with value: 0.7468354430379747.\n",
      "[I 2024-06-08 00:05:21,025] Trial 44 finished with value: 0.7465023317788141 and parameters: {'l1_ratio': 0.32878734994014014, 'penalty': 'elasticnet', 'C': 52.90502811945416, 'max_iter': 187, 'solver': 'saga'}. Best is trial 0 with value: 0.7468354430379747.\n",
      "[I 2024-06-08 00:05:21,168] Trial 45 finished with value: 0.7465023317788141 and parameters: {'l1_ratio': 0.023379930587594244, 'penalty': 'elasticnet', 'C': 19.011964752146625, 'max_iter': 967, 'solver': 'saga'}. Best is trial 0 with value: 0.7468354430379747.\n",
      "[I 2024-06-08 00:05:21,306] Trial 46 finished with value: 0.7468354430379747 and parameters: {'l1_ratio': 0.7609561458372598, 'penalty': 'elasticnet', 'C': 52.14383068269241, 'max_iter': 210, 'solver': 'saga'}. Best is trial 0 with value: 0.7468354430379747.\n",
      "[I 2024-06-08 00:05:21,447] Trial 47 finished with value: 0.7468354430379747 and parameters: {'l1_ratio': 0.9985866810937334, 'penalty': 'elasticnet', 'C': 88.82733256260042, 'max_iter': 964, 'solver': 'saga'}. Best is trial 0 with value: 0.7468354430379747.\n",
      "[I 2024-06-08 00:05:21,583] Trial 48 finished with value: 0.7465023317788141 and parameters: {'l1_ratio': 0.564785449158253, 'penalty': 'elasticnet', 'C': 29.830308081720553, 'max_iter': 266, 'solver': 'saga'}. Best is trial 0 with value: 0.7468354430379747.\n",
      "[I 2024-06-08 00:05:21,719] Trial 49 finished with value: 0.7465023317788141 and parameters: {'l1_ratio': 0.7808527854686921, 'penalty': 'elasticnet', 'C': 15.529922492940079, 'max_iter': 641, 'solver': 'saga'}. Best is trial 0 with value: 0.7468354430379747.\n",
      "[I 2024-06-08 00:05:21,857] Trial 50 finished with value: 0.7468354430379747 and parameters: {'l1_ratio': 0.7380400243015056, 'penalty': 'elasticnet', 'C': 56.635746756744, 'max_iter': 815, 'solver': 'saga'}. Best is trial 0 with value: 0.7468354430379747.\n",
      "[I 2024-06-08 00:05:21,995] Trial 51 finished with value: 0.7465023317788141 and parameters: {'l1_ratio': 0.9272600171485721, 'penalty': 'elasticnet', 'C': 8.095413411801053, 'max_iter': 204, 'solver': 'saga'}. Best is trial 0 with value: 0.7468354430379747.\n",
      "[I 2024-06-08 00:05:22,131] Trial 52 finished with value: 0.7465023317788141 and parameters: {'l1_ratio': 0.11380123623093197, 'penalty': 'elasticnet', 'C': 28.800415781635273, 'max_iter': 596, 'solver': 'saga'}. Best is trial 0 with value: 0.7468354430379747.\n",
      "[I 2024-06-08 00:05:22,269] Trial 53 finished with value: 0.7465023317788141 and parameters: {'l1_ratio': 0.44464358527828296, 'penalty': 'elasticnet', 'C': 44.955203302961046, 'max_iter': 720, 'solver': 'saga'}. Best is trial 0 with value: 0.7468354430379747.\n",
      "[I 2024-06-08 00:05:22,416] Trial 54 finished with value: 0.7465023317788141 and parameters: {'l1_ratio': 0.14884802489269566, 'penalty': 'elasticnet', 'C': 11.974055718702534, 'max_iter': 226, 'solver': 'saga'}. Best is trial 0 with value: 0.7468354430379747.\n",
      "[I 2024-06-08 00:05:22,555] Trial 55 finished with value: 0.7468354430379747 and parameters: {'l1_ratio': 0.8446174837084529, 'penalty': 'elasticnet', 'C': 37.15966237522528, 'max_iter': 650, 'solver': 'saga'}. Best is trial 0 with value: 0.7468354430379747.\n",
      "[I 2024-06-08 00:05:22,720] Trial 56 finished with value: 0.7468354430379747 and parameters: {'l1_ratio': 0.9107078274365592, 'penalty': 'elasticnet', 'C': 18.313101701079, 'max_iter': 145, 'solver': 'saga'}. Best is trial 0 with value: 0.7468354430379747.\n",
      "[I 2024-06-08 00:05:22,886] Trial 57 finished with value: 0.7465023317788141 and parameters: {'l1_ratio': 0.2635543863600527, 'penalty': 'elasticnet', 'C': 38.03693321201164, 'max_iter': 582, 'solver': 'saga'}. Best is trial 0 with value: 0.7468354430379747.\n",
      "[I 2024-06-08 00:05:23,053] Trial 58 finished with value: 0.7468354430379747 and parameters: {'l1_ratio': 0.20593267412957195, 'penalty': 'elasticnet', 'C': 75.7739175707066, 'max_iter': 656, 'solver': 'saga'}. Best is trial 0 with value: 0.7468354430379747.\n",
      "[I 2024-06-08 00:05:23,213] Trial 59 finished with value: 0.7465023317788141 and parameters: {'l1_ratio': 0.7789120822371315, 'penalty': 'elasticnet', 'C': 19.43382375361383, 'max_iter': 321, 'solver': 'saga'}. Best is trial 0 with value: 0.7468354430379747.\n",
      "[I 2024-06-08 00:05:23,366] Trial 60 finished with value: 0.7468354430379747 and parameters: {'l1_ratio': 0.6405635118484496, 'penalty': 'elasticnet', 'C': 40.01673492409534, 'max_iter': 967, 'solver': 'saga'}. Best is trial 0 with value: 0.7468354430379747.\n",
      "[I 2024-06-08 00:05:23,548] Trial 61 finished with value: 0.7465023317788141 and parameters: {'l1_ratio': 0.7636679934989524, 'penalty': 'elasticnet', 'C': 17.08742383217836, 'max_iter': 207, 'solver': 'saga'}. Best is trial 0 with value: 0.7468354430379747.\n",
      "[I 2024-06-08 00:05:23,697] Trial 62 finished with value: 0.7468354430379747 and parameters: {'l1_ratio': 0.33026965314873746, 'penalty': 'elasticnet', 'C': 79.86420816894491, 'max_iter': 645, 'solver': 'saga'}. Best is trial 0 with value: 0.7468354430379747.\n",
      "[I 2024-06-08 00:05:23,830] Trial 63 finished with value: 0.7455029980013325 and parameters: {'l1_ratio': 0.21749415361126012, 'penalty': 'elasticnet', 'C': 2.887111949659405, 'max_iter': 562, 'solver': 'saga'}. Best is trial 0 with value: 0.7468354430379747.\n",
      "[I 2024-06-08 00:05:23,970] Trial 64 finished with value: 0.7468354430379747 and parameters: {'l1_ratio': 0.9395388576438164, 'penalty': 'elasticnet', 'C': 57.659104090589224, 'max_iter': 958, 'solver': 'saga'}. Best is trial 0 with value: 0.7468354430379747.\n",
      "[I 2024-06-08 00:05:24,124] Trial 65 finished with value: 0.7468354430379747 and parameters: {'l1_ratio': 0.480686727057959, 'penalty': 'elasticnet', 'C': 99.07918167992972, 'max_iter': 544, 'solver': 'saga'}. Best is trial 0 with value: 0.7468354430379747.\n",
      "[I 2024-06-08 00:05:24,276] Trial 66 finished with value: 0.7468354430379747 and parameters: {'l1_ratio': 0.8278672160318609, 'penalty': 'elasticnet', 'C': 27.635481901855933, 'max_iter': 161, 'solver': 'saga'}. Best is trial 0 with value: 0.7468354430379747.\n",
      "[I 2024-06-08 00:05:24,419] Trial 67 finished with value: 0.7465023317788141 and parameters: {'l1_ratio': 0.721360101028917, 'penalty': 'elasticnet', 'C': 12.16964721041472, 'max_iter': 829, 'solver': 'saga'}. Best is trial 0 with value: 0.7468354430379747.\n",
      "[I 2024-06-08 00:05:24,564] Trial 68 finished with value: 0.7468354430379747 and parameters: {'l1_ratio': 0.9347922225636194, 'penalty': 'elasticnet', 'C': 34.25309320347991, 'max_iter': 381, 'solver': 'saga'}. Best is trial 0 with value: 0.7468354430379747.\n",
      "[I 2024-06-08 00:05:24,703] Trial 69 finished with value: 0.7468354430379747 and parameters: {'l1_ratio': 0.6002971063674759, 'penalty': 'elasticnet', 'C': 69.45719030064826, 'max_iter': 140, 'solver': 'saga'}. Best is trial 0 with value: 0.7468354430379747.\n",
      "[I 2024-06-08 00:05:24,847] Trial 70 finished with value: 0.7465023317788141 and parameters: {'l1_ratio': 0.6267356759602706, 'penalty': 'elasticnet', 'C': 17.557917118344715, 'max_iter': 172, 'solver': 'saga'}. Best is trial 0 with value: 0.7468354430379747.\n",
      "[I 2024-06-08 00:05:24,985] Trial 71 finished with value: 0.7465023317788141 and parameters: {'l1_ratio': 0.31370103075151023, 'penalty': 'elasticnet', 'C': 41.41822563895284, 'max_iter': 455, 'solver': 'saga'}. Best is trial 0 with value: 0.7468354430379747.\n",
      "[I 2024-06-08 00:05:25,132] Trial 72 finished with value: 0.7468354430379747 and parameters: {'l1_ratio': 0.7230405288992248, 'penalty': 'elasticnet', 'C': 51.16735771732983, 'max_iter': 409, 'solver': 'saga'}. Best is trial 0 with value: 0.7468354430379747.\n",
      "[I 2024-06-08 00:05:25,269] Trial 73 finished with value: 0.7468354430379747 and parameters: {'l1_ratio': 0.4689082800259925, 'penalty': 'elasticnet', 'C': 54.678409375936916, 'max_iter': 852, 'solver': 'saga'}. Best is trial 0 with value: 0.7468354430379747.\n",
      "[I 2024-06-08 00:05:25,414] Trial 74 finished with value: 0.7468354430379747 and parameters: {'l1_ratio': 0.34809190046205274, 'penalty': 'elasticnet', 'C': 78.32077448654299, 'max_iter': 686, 'solver': 'saga'}. Best is trial 0 with value: 0.7468354430379747.\n",
      "[I 2024-06-08 00:05:25,547] Trial 75 finished with value: 0.7468354430379747 and parameters: {'l1_ratio': 0.8730257595537249, 'penalty': 'elasticnet', 'C': 41.07098978464442, 'max_iter': 265, 'solver': 'saga'}. Best is trial 0 with value: 0.7468354430379747.\n",
      "[I 2024-06-08 00:05:25,685] Trial 76 finished with value: 0.7465023317788141 and parameters: {'l1_ratio': 0.09317831284174316, 'penalty': 'elasticnet', 'C': 55.74034131442148, 'max_iter': 980, 'solver': 'saga'}. Best is trial 0 with value: 0.7468354430379747.\n",
      "[I 2024-06-08 00:05:25,824] Trial 77 finished with value: 0.7465023317788141 and parameters: {'l1_ratio': 0.29572214736158386, 'penalty': 'elasticnet', 'C': 39.32197771595846, 'max_iter': 837, 'solver': 'saga'}. Best is trial 0 with value: 0.7468354430379747.\n",
      "[I 2024-06-08 00:05:25,960] Trial 78 finished with value: 0.7468354430379747 and parameters: {'l1_ratio': 0.3940115991448834, 'penalty': 'elasticnet', 'C': 89.08360367472872, 'max_iter': 127, 'solver': 'saga'}. Best is trial 0 with value: 0.7468354430379747.\n",
      "[I 2024-06-08 00:05:26,096] Trial 79 finished with value: 0.7468354430379747 and parameters: {'l1_ratio': 0.8998117453605183, 'penalty': 'elasticnet', 'C': 29.11765064459565, 'max_iter': 983, 'solver': 'saga'}. Best is trial 0 with value: 0.7468354430379747.\n",
      "[I 2024-06-08 00:05:26,230] Trial 80 finished with value: 0.7468354430379747 and parameters: {'l1_ratio': 0.7726044200868316, 'penalty': 'elasticnet', 'C': 81.2462251266082, 'max_iter': 527, 'solver': 'saga'}. Best is trial 0 with value: 0.7468354430379747.\n",
      "[I 2024-06-08 00:05:26,366] Trial 81 finished with value: 0.7465023317788141 and parameters: {'l1_ratio': 0.3024871162472813, 'penalty': 'elasticnet', 'C': 32.419113483880295, 'max_iter': 898, 'solver': 'saga'}. Best is trial 0 with value: 0.7468354430379747.\n",
      "[I 2024-06-08 00:05:26,481] Trial 82 finished with value: 0.7408394403730846 and parameters: {'l1_ratio': 0.42954226359209646, 'penalty': 'elasticnet', 'C': 0.31783301145958553, 'max_iter': 657, 'solver': 'saga'}. Best is trial 0 with value: 0.7468354430379747.\n",
      "[I 2024-06-08 00:05:26,631] Trial 83 finished with value: 0.7468354430379747 and parameters: {'l1_ratio': 0.6384146144413262, 'penalty': 'elasticnet', 'C': 60.217360261034166, 'max_iter': 176, 'solver': 'saga'}. Best is trial 0 with value: 0.7468354430379747.\n",
      "[I 2024-06-08 00:05:26,794] Trial 84 finished with value: 0.7468354430379747 and parameters: {'l1_ratio': 0.18878963262831439, 'penalty': 'elasticnet', 'C': 77.31083533514995, 'max_iter': 631, 'solver': 'saga'}. Best is trial 0 with value: 0.7468354430379747.\n",
      "[I 2024-06-08 00:05:26,952] Trial 85 finished with value: 0.7465023317788141 and parameters: {'l1_ratio': 0.6860361909445178, 'penalty': 'elasticnet', 'C': 7.318380498074019, 'max_iter': 605, 'solver': 'saga'}. Best is trial 0 with value: 0.7468354430379747.\n",
      "[I 2024-06-08 00:05:27,120] Trial 86 finished with value: 0.7465023317788141 and parameters: {'l1_ratio': 0.2586295146537938, 'penalty': 'elasticnet', 'C': 22.12614647625897, 'max_iter': 203, 'solver': 'saga'}. Best is trial 0 with value: 0.7468354430379747.\n",
      "[I 2024-06-08 00:05:27,283] Trial 87 finished with value: 0.7465023317788141 and parameters: {'l1_ratio': 0.09905593656208833, 'penalty': 'elasticnet', 'C': 24.394357559698474, 'max_iter': 772, 'solver': 'saga'}. Best is trial 0 with value: 0.7468354430379747.\n",
      "[I 2024-06-08 00:05:27,433] Trial 88 finished with value: 0.7468354430379747 and parameters: {'l1_ratio': 0.5943825327304895, 'penalty': 'elasticnet', 'C': 53.68161170116727, 'max_iter': 438, 'solver': 'saga'}. Best is trial 0 with value: 0.7468354430379747.\n",
      "[I 2024-06-08 00:05:27,581] Trial 89 finished with value: 0.7465023317788141 and parameters: {'l1_ratio': 0.23501047798661767, 'penalty': 'elasticnet', 'C': 59.08556395025339, 'max_iter': 858, 'solver': 'saga'}. Best is trial 0 with value: 0.7468354430379747.\n",
      "[I 2024-06-08 00:05:27,727] Trial 90 finished with value: 0.7465023317788141 and parameters: {'l1_ratio': 0.47729389039881, 'penalty': 'elasticnet', 'C': 8.383376542362193, 'max_iter': 940, 'solver': 'saga'}. Best is trial 0 with value: 0.7468354430379747.\n",
      "[I 2024-06-08 00:05:27,871] Trial 91 finished with value: 0.7465023317788141 and parameters: {'l1_ratio': 0.4860786085123222, 'penalty': 'elasticnet', 'C': 12.544821213531119, 'max_iter': 856, 'solver': 'saga'}. Best is trial 0 with value: 0.7468354430379747.\n",
      "[I 2024-06-08 00:05:28,021] Trial 92 finished with value: 0.7465023317788141 and parameters: {'l1_ratio': 0.38240464605494207, 'penalty': 'elasticnet', 'C': 10.878337812418717, 'max_iter': 960, 'solver': 'saga'}. Best is trial 0 with value: 0.7468354430379747.\n",
      "[I 2024-06-08 00:05:28,169] Trial 93 finished with value: 0.7465023317788141 and parameters: {'l1_ratio': 0.3436503994506843, 'penalty': 'elasticnet', 'C': 21.403834550117672, 'max_iter': 513, 'solver': 'saga'}. Best is trial 0 with value: 0.7468354430379747.\n",
      "[I 2024-06-08 00:05:28,317] Trial 94 finished with value: 0.7465023317788141 and parameters: {'l1_ratio': 0.02489530628090697, 'penalty': 'elasticnet', 'C': 24.529655414176233, 'max_iter': 688, 'solver': 'saga'}. Best is trial 0 with value: 0.7468354430379747.\n",
      "[I 2024-06-08 00:05:28,446] Trial 95 finished with value: 0.7455029980013325 and parameters: {'l1_ratio': 0.3373767925601705, 'penalty': 'elasticnet', 'C': 2.165747306794232, 'max_iter': 345, 'solver': 'saga'}. Best is trial 0 with value: 0.7468354430379747.\n",
      "[I 2024-06-08 00:05:28,584] Trial 96 finished with value: 0.7468354430379747 and parameters: {'l1_ratio': 0.9614891406278656, 'penalty': 'elasticnet', 'C': 71.25545016581907, 'max_iter': 652, 'solver': 'saga'}. Best is trial 0 with value: 0.7468354430379747.\n",
      "[I 2024-06-08 00:05:28,727] Trial 97 finished with value: 0.7468354430379747 and parameters: {'l1_ratio': 0.0425938640226482, 'penalty': 'elasticnet', 'C': 97.87870122705891, 'max_iter': 593, 'solver': 'saga'}. Best is trial 0 with value: 0.7468354430379747.\n",
      "[I 2024-06-08 00:05:28,886] Trial 98 finished with value: 0.7468354430379747 and parameters: {'l1_ratio': 0.5119850184358926, 'penalty': 'elasticnet', 'C': 81.10327579360515, 'max_iter': 745, 'solver': 'saga'}. Best is trial 0 with value: 0.7468354430379747.\n",
      "[I 2024-06-08 00:05:29,055] Trial 99 finished with value: 0.7465023317788141 and parameters: {'l1_ratio': 0.8308851599474497, 'penalty': 'elasticnet', 'C': 14.704537271210548, 'max_iter': 631, 'solver': 'saga'}. Best is trial 0 with value: 0.7468354430379747.\n",
      "[I 2024-06-08 00:05:29,233] Trial 100 finished with value: 0.7468354430379747 and parameters: {'l1_ratio': 0.8471136501705183, 'penalty': 'elasticnet', 'C': 34.24613848962452, 'max_iter': 230, 'solver': 'saga'}. Best is trial 0 with value: 0.7468354430379747.\n",
      "[I 2024-06-08 00:05:29,388] Trial 101 finished with value: 0.7465023317788141 and parameters: {'l1_ratio': 0.1836483711819311, 'penalty': 'elasticnet', 'C': 16.359070948360472, 'max_iter': 483, 'solver': 'saga'}. Best is trial 0 with value: 0.7468354430379747.\n",
      "[I 2024-06-08 00:05:29,532] Trial 102 finished with value: 0.7465023317788141 and parameters: {'l1_ratio': 0.6055885059878887, 'penalty': 'elasticnet', 'C': 9.421156746962094, 'max_iter': 124, 'solver': 'saga'}. Best is trial 0 with value: 0.7468354430379747.\n",
      "[I 2024-06-08 00:05:29,669] Trial 103 finished with value: 0.7465023317788141 and parameters: {'l1_ratio': 0.08871545457591135, 'penalty': 'elasticnet', 'C': 27.17411176426769, 'max_iter': 408, 'solver': 'saga'}. Best is trial 0 with value: 0.7468354430379747.\n",
      "[I 2024-06-08 00:05:29,807] Trial 104 finished with value: 0.7468354430379747 and parameters: {'l1_ratio': 0.7767253816094082, 'penalty': 'elasticnet', 'C': 74.36530007707485, 'max_iter': 199, 'solver': 'saga'}. Best is trial 0 with value: 0.7468354430379747.\n",
      "[I 2024-06-08 00:05:29,967] Trial 105 finished with value: 0.7468354430379747 and parameters: {'l1_ratio': 0.47806896006875077, 'penalty': 'elasticnet', 'C': 64.79200645755617, 'max_iter': 859, 'solver': 'saga'}. Best is trial 0 with value: 0.7468354430379747.\n",
      "[I 2024-06-08 00:05:30,104] Trial 106 finished with value: 0.7465023317788141 and parameters: {'l1_ratio': 0.388468854806459, 'penalty': 'elasticnet', 'C': 31.52968396858291, 'max_iter': 475, 'solver': 'saga'}. Best is trial 0 with value: 0.7468354430379747.\n",
      "[I 2024-06-08 00:05:30,245] Trial 107 finished with value: 0.7468354430379747 and parameters: {'l1_ratio': 0.44175712345987217, 'penalty': 'elasticnet', 'C': 61.68004444099357, 'max_iter': 997, 'solver': 'saga'}. Best is trial 0 with value: 0.7468354430379747.\n",
      "[I 2024-06-08 00:05:30,384] Trial 108 finished with value: 0.7468354430379747 and parameters: {'l1_ratio': 0.6521830648469973, 'penalty': 'elasticnet', 'C': 63.55479191785618, 'max_iter': 581, 'solver': 'saga'}. Best is trial 0 with value: 0.7468354430379747.\n",
      "[I 2024-06-08 00:05:30,520] Trial 109 finished with value: 0.7468354430379747 and parameters: {'l1_ratio': 0.35557836732536197, 'penalty': 'elasticnet', 'C': 85.49782930473005, 'max_iter': 247, 'solver': 'saga'}. Best is trial 0 with value: 0.7468354430379747.\n",
      "[I 2024-06-08 00:05:30,680] Trial 110 finished with value: 0.7468354430379747 and parameters: {'l1_ratio': 0.7658237880282034, 'penalty': 'elasticnet', 'C': 75.78560753382688, 'max_iter': 144, 'solver': 'saga'}. Best is trial 0 with value: 0.7468354430379747.\n",
      "[I 2024-06-08 00:05:30,836] Trial 111 finished with value: 0.7468354430379747 and parameters: {'l1_ratio': 0.45578849641224983, 'penalty': 'elasticnet', 'C': 71.30249885631548, 'max_iter': 613, 'solver': 'saga'}. Best is trial 0 with value: 0.7468354430379747.\n",
      "[I 2024-06-08 00:05:31,003] Trial 112 finished with value: 0.7465023317788141 and parameters: {'l1_ratio': 0.36095818866319496, 'penalty': 'elasticnet', 'C': 27.267578334572622, 'max_iter': 144, 'solver': 'saga'}. Best is trial 0 with value: 0.7468354430379747.\n",
      "[I 2024-06-08 00:05:31,183] Trial 113 finished with value: 0.7468354430379747 and parameters: {'l1_ratio': 0.08651653838786766, 'penalty': 'elasticnet', 'C': 99.51733206260288, 'max_iter': 668, 'solver': 'saga'}. Best is trial 0 with value: 0.7468354430379747.\n",
      "[I 2024-06-08 00:05:31,323] Trial 114 finished with value: 0.7468354430379747 and parameters: {'l1_ratio': 0.7943292806783894, 'penalty': 'elasticnet', 'C': 1.6547337463103935, 'max_iter': 207, 'solver': 'saga'}. Best is trial 0 with value: 0.7468354430379747.\n",
      "[I 2024-06-08 00:05:31,473] Trial 115 finished with value: 0.7468354430379747 and parameters: {'l1_ratio': 0.39523622294092764, 'penalty': 'elasticnet', 'C': 84.40782928548485, 'max_iter': 368, 'solver': 'saga'}. Best is trial 0 with value: 0.7468354430379747.\n",
      "[I 2024-06-08 00:05:31,619] Trial 116 finished with value: 0.7468354430379747 and parameters: {'l1_ratio': 0.1940476194756442, 'penalty': 'elasticnet', 'C': 87.11647609585441, 'max_iter': 905, 'solver': 'saga'}. Best is trial 0 with value: 0.7468354430379747.\n",
      "[I 2024-06-08 00:05:31,765] Trial 117 finished with value: 0.7465023317788141 and parameters: {'l1_ratio': 0.9790846206910202, 'penalty': 'elasticnet', 'C': 8.372019473857053, 'max_iter': 503, 'solver': 'saga'}. Best is trial 0 with value: 0.7468354430379747.\n",
      "[I 2024-06-08 00:05:31,910] Trial 118 finished with value: 0.7468354430379747 and parameters: {'l1_ratio': 0.2273428595343805, 'penalty': 'elasticnet', 'C': 80.44871204298893, 'max_iter': 414, 'solver': 'saga'}. Best is trial 0 with value: 0.7468354430379747.\n",
      "[I 2024-06-08 00:05:32,051] Trial 119 finished with value: 0.7468354430379747 and parameters: {'l1_ratio': 0.2195151893089342, 'penalty': 'elasticnet', 'C': 80.78793427926625, 'max_iter': 529, 'solver': 'saga'}. Best is trial 0 with value: 0.7468354430379747.\n",
      "[I 2024-06-08 00:05:32,201] Trial 120 finished with value: 0.7465023317788141 and parameters: {'l1_ratio': 0.05167183644896767, 'penalty': 'elasticnet', 'C': 37.902472451882765, 'max_iter': 540, 'solver': 'saga'}. Best is trial 0 with value: 0.7468354430379747.\n",
      "[I 2024-06-08 00:05:32,348] Trial 121 finished with value: 0.7465023317788141 and parameters: {'l1_ratio': 0.6777070409958931, 'penalty': 'elasticnet', 'C': 29.845525751493945, 'max_iter': 113, 'solver': 'saga'}. Best is trial 0 with value: 0.7468354430379747.\n",
      "[I 2024-06-08 00:05:32,485] Trial 122 finished with value: 0.7468354430379747 and parameters: {'l1_ratio': 0.5995989995918588, 'penalty': 'elasticnet', 'C': 81.96029458108791, 'max_iter': 289, 'solver': 'saga'}. Best is trial 0 with value: 0.7468354430379747.\n",
      "[I 2024-06-08 00:05:32,629] Trial 123 finished with value: 0.7468354430379747 and parameters: {'l1_ratio': 0.6337757519736682, 'penalty': 'elasticnet', 'C': 73.17406692912928, 'max_iter': 971, 'solver': 'saga'}. Best is trial 0 with value: 0.7468354430379747.\n",
      "[I 2024-06-08 00:05:32,766] Trial 124 finished with value: 0.7465023317788141 and parameters: {'l1_ratio': 0.08774706063976812, 'penalty': 'elasticnet', 'C': 68.32492134168413, 'max_iter': 612, 'solver': 'saga'}. Best is trial 0 with value: 0.7468354430379747.\n",
      "[I 2024-06-08 00:05:32,911] Trial 125 finished with value: 0.7465023317788141 and parameters: {'l1_ratio': 0.1692741729195425, 'penalty': 'elasticnet', 'C': 46.34225310985671, 'max_iter': 111, 'solver': 'saga'}. Best is trial 0 with value: 0.7468354430379747.\n",
      "[I 2024-06-08 00:05:33,034] Trial 126 finished with value: 0.7435043304463691 and parameters: {'l1_ratio': 0.023169743854271396, 'penalty': 'elasticnet', 'C': 1.9099844675829551, 'max_iter': 462, 'solver': 'saga'}. Best is trial 0 with value: 0.7468354430379747.\n",
      "[I 2024-06-08 00:05:33,284] Trial 127 finished with value: 0.7465023317788141 and parameters: {'l1_ratio': 0.5355132035114978, 'penalty': 'elasticnet', 'C': 26.26262982295894, 'max_iter': 567, 'solver': 'saga'}. Best is trial 0 with value: 0.7468354430379747.\n",
      "[I 2024-06-08 00:05:33,428] Trial 128 finished with value: 0.7465023317788141 and parameters: {'l1_ratio': 0.47779187448209726, 'penalty': 'elasticnet', 'C': 29.230015178646923, 'max_iter': 465, 'solver': 'saga'}. Best is trial 0 with value: 0.7468354430379747.\n",
      "[I 2024-06-08 00:05:33,563] Trial 129 finished with value: 0.7465023317788141 and parameters: {'l1_ratio': 0.47429367431199154, 'penalty': 'elasticnet', 'C': 43.747744680409994, 'max_iter': 114, 'solver': 'saga'}. Best is trial 0 with value: 0.7468354430379747.\n",
      "[I 2024-06-08 00:05:33,701] Trial 130 finished with value: 0.7468354430379747 and parameters: {'l1_ratio': 0.7055617167942578, 'penalty': 'elasticnet', 'C': 75.9306426677022, 'max_iter': 345, 'solver': 'saga'}. Best is trial 0 with value: 0.7468354430379747.\n",
      "[I 2024-06-08 00:05:33,844] Trial 131 finished with value: 0.7468354430379747 and parameters: {'l1_ratio': 0.4656358778024837, 'penalty': 'elasticnet', 'C': 72.45079568898419, 'max_iter': 174, 'solver': 'saga'}. Best is trial 0 with value: 0.7468354430379747.\n",
      "[I 2024-06-08 00:05:33,983] Trial 132 finished with value: 0.7468354430379747 and parameters: {'l1_ratio': 0.8491269748213126, 'penalty': 'elasticnet', 'C': 72.0677126997143, 'max_iter': 992, 'solver': 'saga'}. Best is trial 0 with value: 0.7468354430379747.\n",
      "[I 2024-06-08 00:05:34,118] Trial 133 finished with value: 0.7465023317788141 and parameters: {'l1_ratio': 0.4458445675158459, 'penalty': 'elasticnet', 'C': 25.327685384962855, 'max_iter': 244, 'solver': 'saga'}. Best is trial 0 with value: 0.7468354430379747.\n",
      "[I 2024-06-08 00:05:34,253] Trial 134 finished with value: 0.7468354430379747 and parameters: {'l1_ratio': 0.870727250858279, 'penalty': 'elasticnet', 'C': 68.77709642934451, 'max_iter': 442, 'solver': 'saga'}. Best is trial 0 with value: 0.7468354430379747.\n",
      "[I 2024-06-08 00:05:34,393] Trial 135 finished with value: 0.7468354430379747 and parameters: {'l1_ratio': 0.2282326164835059, 'penalty': 'elasticnet', 'C': 78.1727628307333, 'max_iter': 978, 'solver': 'saga'}. Best is trial 0 with value: 0.7468354430379747.\n",
      "[I 2024-06-08 00:05:34,528] Trial 136 finished with value: 0.7468354430379747 and parameters: {'l1_ratio': 0.8802403479846407, 'penalty': 'elasticnet', 'C': 25.34306361677474, 'max_iter': 665, 'solver': 'saga'}. Best is trial 0 with value: 0.7468354430379747.\n",
      "[I 2024-06-08 00:05:34,682] Trial 137 finished with value: 0.7465023317788141 and parameters: {'l1_ratio': 0.4948518196858104, 'penalty': 'elasticnet', 'C': 7.303381893626658, 'max_iter': 591, 'solver': 'saga'}. Best is trial 0 with value: 0.7468354430379747.\n",
      "[I 2024-06-08 00:05:34,835] Trial 138 finished with value: 0.7461692205196535 and parameters: {'l1_ratio': 0.8716091078716307, 'penalty': 'elasticnet', 'C': 3.0158934816007714, 'max_iter': 180, 'solver': 'saga'}. Best is trial 0 with value: 0.7468354430379747.\n",
      "[I 2024-06-08 00:05:34,985] Trial 139 finished with value: 0.7428381079280479 and parameters: {'l1_ratio': 0.31470430106830216, 'penalty': 'elasticnet', 'C': 0.732726182467647, 'max_iter': 267, 'solver': 'saga'}. Best is trial 0 with value: 0.7468354430379747.\n",
      "[I 2024-06-08 00:05:35,150] Trial 140 finished with value: 0.7465023317788141 and parameters: {'l1_ratio': 0.8743627304570357, 'penalty': 'elasticnet', 'C': 18.73633456624793, 'max_iter': 674, 'solver': 'saga'}. Best is trial 0 with value: 0.7468354430379747.\n",
      "[I 2024-06-08 00:05:35,312] Trial 141 finished with value: 0.7465023317788141 and parameters: {'l1_ratio': 0.6459240523527073, 'penalty': 'elasticnet', 'C': 18.30704433207024, 'max_iter': 680, 'solver': 'saga'}. Best is trial 0 with value: 0.7468354430379747.\n",
      "[I 2024-06-08 00:05:35,478] Trial 142 finished with value: 0.7465023317788141 and parameters: {'l1_ratio': 0.1398182058122156, 'penalty': 'elasticnet', 'C': 67.69123263922812, 'max_iter': 947, 'solver': 'saga'}. Best is trial 0 with value: 0.7468354430379747.\n",
      "[I 2024-06-08 00:05:35,621] Trial 143 finished with value: 0.745836109260493 and parameters: {'l1_ratio': 0.3159174861030116, 'penalty': 'elasticnet', 'C': 7.833317975457274, 'max_iter': 174, 'solver': 'saga'}. Best is trial 0 with value: 0.7468354430379747.\n",
      "[I 2024-06-08 00:05:35,767] Trial 144 finished with value: 0.7468354430379747 and parameters: {'l1_ratio': 0.6822254665259121, 'penalty': 'elasticnet', 'C': 49.097565515455685, 'max_iter': 119, 'solver': 'saga'}. Best is trial 0 with value: 0.7468354430379747.\n",
      "[I 2024-06-08 00:05:35,912] Trial 145 finished with value: 0.7468354430379747 and parameters: {'l1_ratio': 0.45704577934720947, 'penalty': 'elasticnet', 'C': 88.2787391499605, 'max_iter': 429, 'solver': 'saga'}. Best is trial 0 with value: 0.7468354430379747.\n",
      "[I 2024-06-08 00:05:36,071] Trial 146 finished with value: 0.7465023317788141 and parameters: {'l1_ratio': 0.42914109470841655, 'penalty': 'elasticnet', 'C': 28.154154165164076, 'max_iter': 457, 'solver': 'saga'}. Best is trial 0 with value: 0.7468354430379747.\n",
      "[I 2024-06-08 00:05:36,220] Trial 147 finished with value: 0.745836109260493 and parameters: {'l1_ratio': 0.1796720491852063, 'penalty': 'elasticnet', 'C': 9.184013701601298, 'max_iter': 940, 'solver': 'saga'}. Best is trial 0 with value: 0.7468354430379747.\n",
      "[I 2024-06-08 00:05:36,371] Trial 148 finished with value: 0.7465023317788141 and parameters: {'l1_ratio': 0.45462919667860735, 'penalty': 'elasticnet', 'C': 30.134909325561942, 'max_iter': 305, 'solver': 'saga'}. Best is trial 0 with value: 0.7468354430379747.\n",
      "[I 2024-06-08 00:05:36,514] Trial 149 finished with value: 0.7465023317788141 and parameters: {'l1_ratio': 0.7287870275360602, 'penalty': 'elasticnet', 'C': 27.00466721547747, 'max_iter': 775, 'solver': 'saga'}. Best is trial 0 with value: 0.7468354430379747.\n",
      "[I 2024-06-08 00:05:36,655] Trial 150 finished with value: 0.7465023317788141 and parameters: {'l1_ratio': 0.19300320074456478, 'penalty': 'elasticnet', 'C': 42.26142965147881, 'max_iter': 825, 'solver': 'saga'}. Best is trial 0 with value: 0.7468354430379747.\n",
      "[I 2024-06-08 00:05:36,794] Trial 151 finished with value: 0.7468354430379747 and parameters: {'l1_ratio': 0.8576942251664084, 'penalty': 'elasticnet', 'C': 93.31122875552228, 'max_iter': 548, 'solver': 'saga'}. Best is trial 0 with value: 0.7468354430379747.\n",
      "[I 2024-06-08 00:05:36,932] Trial 152 finished with value: 0.7468354430379747 and parameters: {'l1_ratio': 0.7156670487542581, 'penalty': 'elasticnet', 'C': 41.977341453395525, 'max_iter': 187, 'solver': 'saga'}. Best is trial 0 with value: 0.7468354430379747.\n",
      "[I 2024-06-08 00:05:37,072] Trial 153 finished with value: 0.7465023317788141 and parameters: {'l1_ratio': 0.512772506734595, 'penalty': 'elasticnet', 'C': 30.830168168750024, 'max_iter': 159, 'solver': 'saga'}. Best is trial 0 with value: 0.7468354430379747.\n",
      "[I 2024-06-08 00:05:37,212] Trial 154 finished with value: 0.7465023317788141 and parameters: {'l1_ratio': 0.34630026241876444, 'penalty': 'elasticnet', 'C': 32.965490135479264, 'max_iter': 613, 'solver': 'saga'}. Best is trial 0 with value: 0.7468354430379747.\n",
      "[I 2024-06-08 00:05:37,348] Trial 155 finished with value: 0.7468354430379747 and parameters: {'l1_ratio': 0.7696179395720334, 'penalty': 'elasticnet', 'C': 60.946573591728956, 'max_iter': 588, 'solver': 'saga'}. Best is trial 0 with value: 0.7468354430379747.\n",
      "[I 2024-06-08 00:05:37,488] Trial 156 finished with value: 0.7465023317788141 and parameters: {'l1_ratio': 0.16458012282314227, 'penalty': 'elasticnet', 'C': 10.71795084867144, 'max_iter': 272, 'solver': 'saga'}. Best is trial 0 with value: 0.7468354430379747.\n",
      "[I 2024-06-08 00:05:37,625] Trial 157 finished with value: 0.7465023317788141 and parameters: {'l1_ratio': 0.7246209148956595, 'penalty': 'elasticnet', 'C': 24.29251699917993, 'max_iter': 793, 'solver': 'saga'}. Best is trial 0 with value: 0.7468354430379747.\n",
      "[I 2024-06-08 00:05:37,761] Trial 158 finished with value: 0.7468354430379747 and parameters: {'l1_ratio': 0.6599634803874062, 'penalty': 'elasticnet', 'C': 79.38011826509634, 'max_iter': 383, 'solver': 'saga'}. Best is trial 0 with value: 0.7468354430379747.\n",
      "[I 2024-06-08 00:05:37,895] Trial 159 finished with value: 0.7468354430379747 and parameters: {'l1_ratio': 0.741395115770732, 'penalty': 'elasticnet', 'C': 53.78463004284287, 'max_iter': 351, 'solver': 'saga'}. Best is trial 0 with value: 0.7468354430379747.\n",
      "[I 2024-06-08 00:05:38,034] Trial 160 finished with value: 0.7468354430379747 and parameters: {'l1_ratio': 0.5249485314348081, 'penalty': 'elasticnet', 'C': 93.67268704311347, 'max_iter': 826, 'solver': 'saga'}. Best is trial 0 with value: 0.7468354430379747.\n",
      "[I 2024-06-08 00:05:38,176] Trial 161 finished with value: 0.7465023317788141 and parameters: {'l1_ratio': 0.048184948782166837, 'penalty': 'elasticnet', 'C': 13.41480223103558, 'max_iter': 112, 'solver': 'saga'}. Best is trial 0 with value: 0.7468354430379747.\n",
      "[I 2024-06-08 00:05:38,310] Trial 162 finished with value: 0.7465023317788141 and parameters: {'l1_ratio': 0.18085637652095798, 'penalty': 'elasticnet', 'C': 16.33980770492971, 'max_iter': 861, 'solver': 'saga'}. Best is trial 0 with value: 0.7468354430379747.\n",
      "[I 2024-06-08 00:05:38,444] Trial 163 finished with value: 0.7465023317788141 and parameters: {'l1_ratio': 0.22335336112405713, 'penalty': 'elasticnet', 'C': 43.640406332554306, 'max_iter': 290, 'solver': 'saga'}. Best is trial 0 with value: 0.7468354430379747.\n",
      "[I 2024-06-08 00:05:38,587] Trial 164 finished with value: 0.7468354430379747 and parameters: {'l1_ratio': 0.4581142029682954, 'penalty': 'elasticnet', 'C': 95.90359743159726, 'max_iter': 816, 'solver': 'saga'}. Best is trial 0 with value: 0.7468354430379747.\n",
      "[I 2024-06-08 00:05:38,749] Trial 165 finished with value: 0.7468354430379747 and parameters: {'l1_ratio': 0.008540302969749836, 'penalty': 'elasticnet', 'C': 93.40903141022822, 'max_iter': 240, 'solver': 'saga'}. Best is trial 0 with value: 0.7468354430379747.\n",
      "[I 2024-06-08 00:05:38,912] Trial 166 finished with value: 0.7465023317788141 and parameters: {'l1_ratio': 0.21212538395786107, 'penalty': 'elasticnet', 'C': 16.67365202873422, 'max_iter': 892, 'solver': 'saga'}. Best is trial 0 with value: 0.7468354430379747.\n",
      "[I 2024-06-08 00:05:39,068] Trial 167 finished with value: 0.7468354430379747 and parameters: {'l1_ratio': 0.6993404421513147, 'penalty': 'elasticnet', 'C': 57.29567312069172, 'max_iter': 501, 'solver': 'saga'}. Best is trial 0 with value: 0.7468354430379747.\n",
      "[I 2024-06-08 00:05:39,223] Trial 168 finished with value: 0.7468354430379747 and parameters: {'l1_ratio': 0.35765548924698587, 'penalty': 'elasticnet', 'C': 96.56810296169495, 'max_iter': 392, 'solver': 'saga'}. Best is trial 0 with value: 0.7468354430379747.\n",
      "[I 2024-06-08 00:05:39,379] Trial 169 finished with value: 0.7468354430379747 and parameters: {'l1_ratio': 0.2525647588221581, 'penalty': 'elasticnet', 'C': 68.97579304730677, 'max_iter': 901, 'solver': 'saga'}. Best is trial 0 with value: 0.7468354430379747.\n",
      "[I 2024-06-08 00:05:39,530] Trial 170 finished with value: 0.7465023317788141 and parameters: {'l1_ratio': 0.42959084730957575, 'penalty': 'elasticnet', 'C': 36.580429918331035, 'max_iter': 234, 'solver': 'saga'}. Best is trial 0 with value: 0.7468354430379747.\n",
      "[I 2024-06-08 00:05:39,679] Trial 171 finished with value: 0.7468354430379747 and parameters: {'l1_ratio': 0.4057965759814599, 'penalty': 'elasticnet', 'C': 59.553063267903106, 'max_iter': 695, 'solver': 'saga'}. Best is trial 0 with value: 0.7468354430379747.\n",
      "[I 2024-06-08 00:05:39,813] Trial 172 finished with value: 0.7455029980013325 and parameters: {'l1_ratio': 0.25786882263821753, 'penalty': 'elasticnet', 'C': 4.5486215732509345, 'max_iter': 354, 'solver': 'saga'}. Best is trial 0 with value: 0.7468354430379747.\n",
      "[I 2024-06-08 00:05:39,937] Trial 173 finished with value: 0.7425049966688874 and parameters: {'l1_ratio': 0.4262648360638064, 'penalty': 'elasticnet', 'C': 0.11767974171827682, 'max_iter': 138, 'solver': 'saga'}. Best is trial 0 with value: 0.7468354430379747.\n",
      "[I 2024-06-08 00:05:40,068] Trial 174 finished with value: 0.745836109260493 and parameters: {'l1_ratio': 0.8705368937926137, 'penalty': 'elasticnet', 'C': 0.8347974410848631, 'max_iter': 128, 'solver': 'saga'}. Best is trial 0 with value: 0.7468354430379747.\n",
      "[I 2024-06-08 00:05:40,212] Trial 175 finished with value: 0.7465023317788141 and parameters: {'l1_ratio': 0.49765345484315615, 'penalty': 'elasticnet', 'C': 22.401842626449533, 'max_iter': 438, 'solver': 'saga'}. Best is trial 0 with value: 0.7468354430379747.\n",
      "[I 2024-06-08 00:05:40,361] Trial 176 finished with value: 0.7468354430379747 and parameters: {'l1_ratio': 0.3577997907742848, 'penalty': 'elasticnet', 'C': 93.93634696655886, 'max_iter': 726, 'solver': 'saga'}. Best is trial 0 with value: 0.7468354430379747.\n",
      "[I 2024-06-08 00:05:40,502] Trial 177 finished with value: 0.7468354430379747 and parameters: {'l1_ratio': 0.7885721416406517, 'penalty': 'elasticnet', 'C': 50.12206952465031, 'max_iter': 132, 'solver': 'saga'}. Best is trial 0 with value: 0.7468354430379747.\n",
      "[I 2024-06-08 00:05:40,652] Trial 178 finished with value: 0.7465023317788141 and parameters: {'l1_ratio': 0.49078881889177617, 'penalty': 'elasticnet', 'C': 7.2141713177641735, 'max_iter': 683, 'solver': 'saga'}. Best is trial 0 with value: 0.7468354430379747.\n",
      "[I 2024-06-08 00:05:40,796] Trial 179 finished with value: 0.7465023317788141 and parameters: {'l1_ratio': 0.18951097529406513, 'penalty': 'elasticnet', 'C': 51.32604069020252, 'max_iter': 422, 'solver': 'saga'}. Best is trial 0 with value: 0.7468354430379747.\n",
      "[I 2024-06-08 00:05:40,936] Trial 180 finished with value: 0.7468354430379747 and parameters: {'l1_ratio': 0.35560449737706856, 'penalty': 'elasticnet', 'C': 99.48125091698515, 'max_iter': 945, 'solver': 'saga'}. Best is trial 0 with value: 0.7468354430379747.\n",
      "[I 2024-06-08 00:05:41,083] Trial 181 finished with value: 0.7465023317788141 and parameters: {'l1_ratio': 0.3803928316342987, 'penalty': 'elasticnet', 'C': 51.23206656910691, 'max_iter': 211, 'solver': 'saga'}. Best is trial 0 with value: 0.7468354430379747.\n",
      "[I 2024-06-08 00:05:41,223] Trial 182 finished with value: 0.7468354430379747 and parameters: {'l1_ratio': 0.31786624938645336, 'penalty': 'elasticnet', 'C': 92.82708256123098, 'max_iter': 108, 'solver': 'saga'}. Best is trial 0 with value: 0.7468354430379747.\n",
      "[I 2024-06-08 00:05:41,363] Trial 183 finished with value: 0.7465023317788141 and parameters: {'l1_ratio': 0.5766847434366573, 'penalty': 'elasticnet', 'C': 18.232530634199797, 'max_iter': 295, 'solver': 'saga'}. Best is trial 0 with value: 0.7468354430379747.\n",
      "[I 2024-06-08 00:05:41,497] Trial 184 finished with value: 0.7465023317788141 and parameters: {'l1_ratio': 0.5204200584793329, 'penalty': 'elasticnet', 'C': 22.908899819730635, 'max_iter': 819, 'solver': 'saga'}. Best is trial 0 with value: 0.7468354430379747.\n",
      "[I 2024-06-08 00:05:41,642] Trial 185 finished with value: 0.7468354430379747 and parameters: {'l1_ratio': 0.4815508030411725, 'penalty': 'elasticnet', 'C': 70.63075704634761, 'max_iter': 434, 'solver': 'saga'}. Best is trial 0 with value: 0.7468354430379747.\n",
      "[I 2024-06-08 00:05:41,778] Trial 186 finished with value: 0.7465023317788141 and parameters: {'l1_ratio': 0.40680733945979797, 'penalty': 'elasticnet', 'C': 54.03205896293173, 'max_iter': 857, 'solver': 'saga'}. Best is trial 0 with value: 0.7468354430379747.\n",
      "[I 2024-06-08 00:05:41,914] Trial 187 finished with value: 0.7468354430379747 and parameters: {'l1_ratio': 0.4593597234190956, 'penalty': 'elasticnet', 'C': 94.45938856297093, 'max_iter': 480, 'solver': 'saga'}. Best is trial 0 with value: 0.7468354430379747.\n",
      "[I 2024-06-08 00:05:42,051] Trial 188 finished with value: 0.7468354430379747 and parameters: {'l1_ratio': 0.2619967887730157, 'penalty': 'elasticnet', 'C': 75.74958493946616, 'max_iter': 334, 'solver': 'saga'}. Best is trial 0 with value: 0.7468354430379747.\n",
      "[I 2024-06-08 00:05:42,193] Trial 189 finished with value: 0.7468354430379747 and parameters: {'l1_ratio': 0.9164386119520391, 'penalty': 'elasticnet', 'C': 42.848455084638815, 'max_iter': 581, 'solver': 'saga'}. Best is trial 0 with value: 0.7468354430379747.\n",
      "[I 2024-06-08 00:05:42,329] Trial 190 finished with value: 0.7465023317788141 and parameters: {'l1_ratio': 0.18462380207402607, 'penalty': 'elasticnet', 'C': 38.390924682173754, 'max_iter': 898, 'solver': 'saga'}. Best is trial 0 with value: 0.7468354430379747.\n",
      "[I 2024-06-08 00:05:42,442] Trial 191 finished with value: 0.7421718854097269 and parameters: {'l1_ratio': 0.21285193174839834, 'penalty': 'elasticnet', 'C': 0.652427745472789, 'max_iter': 688, 'solver': 'saga'}. Best is trial 0 with value: 0.7468354430379747.\n",
      "[I 2024-06-08 00:05:42,583] Trial 192 finished with value: 0.7465023317788141 and parameters: {'l1_ratio': 0.8599840377691925, 'penalty': 'elasticnet', 'C': 9.220696416442927, 'max_iter': 966, 'solver': 'saga'}. Best is trial 0 with value: 0.7468354430379747.\n",
      "[I 2024-06-08 00:05:42,746] Trial 193 finished with value: 0.7465023317788141 and parameters: {'l1_ratio': 0.1051869255930834, 'penalty': 'elasticnet', 'C': 15.87906072042484, 'max_iter': 871, 'solver': 'saga'}. Best is trial 0 with value: 0.7468354430379747.\n",
      "[I 2024-06-08 00:05:42,899] Trial 194 finished with value: 0.7468354430379747 and parameters: {'l1_ratio': 0.2348524492830083, 'penalty': 'elasticnet', 'C': 74.4075345268888, 'max_iter': 552, 'solver': 'saga'}. Best is trial 0 with value: 0.7468354430379747.\n",
      "[I 2024-06-08 00:05:43,052] Trial 195 finished with value: 0.7468354430379747 and parameters: {'l1_ratio': 0.9269168613193993, 'penalty': 'elasticnet', 'C': 53.79325720996925, 'max_iter': 258, 'solver': 'saga'}. Best is trial 0 with value: 0.7468354430379747.\n",
      "[I 2024-06-08 00:05:43,213] Trial 196 finished with value: 0.7468354430379747 and parameters: {'l1_ratio': 0.5540623103318519, 'penalty': 'elasticnet', 'C': 98.8085521367555, 'max_iter': 530, 'solver': 'saga'}. Best is trial 0 with value: 0.7468354430379747.\n",
      "[I 2024-06-08 00:05:43,363] Trial 197 finished with value: 0.7468354430379747 and parameters: {'l1_ratio': 0.16534047338212798, 'penalty': 'elasticnet', 'C': 96.93662214799808, 'max_iter': 736, 'solver': 'saga'}. Best is trial 0 with value: 0.7468354430379747.\n",
      "[I 2024-06-08 00:05:43,512] Trial 198 finished with value: 0.7468354430379747 and parameters: {'l1_ratio': 0.5583803439006675, 'penalty': 'elasticnet', 'C': 56.330915722847074, 'max_iter': 458, 'solver': 'saga'}. Best is trial 0 with value: 0.7468354430379747.\n",
      "[I 2024-06-08 00:05:43,651] Trial 199 finished with value: 0.7455029980013325 and parameters: {'l1_ratio': 0.12335021229434073, 'penalty': 'elasticnet', 'C': 5.23380828736884, 'max_iter': 276, 'solver': 'saga'}. Best is trial 0 with value: 0.7468354430379747.\n"
     ]
    },
    {
     "name": "stdout",
     "output_type": "stream",
     "text": [
      "Best Hyperparameters: {'l1_ratio': 0.5172978838465893, 'penalty': 'elasticnet', 'C': 94.69679075544326, 'max_iter': 789, 'solver': 'saga'}\n",
      "Best Accuracy: 0.7468354430379747\n"
     ]
    }
   ],
   "source": [
    "# Create a study object and optimize the objective function\n",
    "study = optuna.create_study(direction='maximize', sampler=optuna.samplers.RandomSampler(seed=seed))\n",
    "study.optimize(objective, n_trials=200)\n",
    "\n",
    "# Get the best hyperparameters and accuracy score\n",
    "best_params = study.best_params\n",
    "best_accuracy = study.best_value\n",
    "\n",
    "print(\"Best Hyperparameters:\", best_params)\n",
    "print(\"Best Accuracy:\", best_accuracy)"
   ]
  },
  {
   "cell_type": "code",
   "execution_count": 36,
   "metadata": {},
   "outputs": [
    {
     "data": {
      "text/html": [
       "<div>\n",
       "<style scoped>\n",
       "    .dataframe tbody tr th:only-of-type {\n",
       "        vertical-align: middle;\n",
       "    }\n",
       "\n",
       "    .dataframe tbody tr th {\n",
       "        vertical-align: top;\n",
       "    }\n",
       "\n",
       "    .dataframe thead th {\n",
       "        text-align: right;\n",
       "    }\n",
       "</style>\n",
       "<table border=\"1\" class=\"dataframe\">\n",
       "  <thead>\n",
       "    <tr style=\"text-align: right;\">\n",
       "      <th></th>\n",
       "      <th>number</th>\n",
       "      <th>value</th>\n",
       "      <th>datetime_start</th>\n",
       "      <th>datetime_complete</th>\n",
       "      <th>duration</th>\n",
       "      <th>params_C</th>\n",
       "      <th>params_l1_ratio</th>\n",
       "      <th>params_max_iter</th>\n",
       "      <th>params_penalty</th>\n",
       "      <th>params_solver</th>\n",
       "      <th>state</th>\n",
       "    </tr>\n",
       "  </thead>\n",
       "  <tbody>\n",
       "    <tr>\n",
       "      <th>0</th>\n",
       "      <td>0</td>\n",
       "      <td>0.746835</td>\n",
       "      <td>2024-06-08 00:05:14.098488</td>\n",
       "      <td>2024-06-08 00:05:14.239522</td>\n",
       "      <td>0 days 00:00:00.141034</td>\n",
       "      <td>94.696791</td>\n",
       "      <td>0.517298</td>\n",
       "      <td>789</td>\n",
       "      <td>elasticnet</td>\n",
       "      <td>saga</td>\n",
       "      <td>COMPLETE</td>\n",
       "    </tr>\n",
       "    <tr>\n",
       "      <th>131</th>\n",
       "      <td>131</td>\n",
       "      <td>0.746835</td>\n",
       "      <td>2024-06-08 00:05:33.701534</td>\n",
       "      <td>2024-06-08 00:05:33.844535</td>\n",
       "      <td>0 days 00:00:00.143001</td>\n",
       "      <td>72.450796</td>\n",
       "      <td>0.465636</td>\n",
       "      <td>174</td>\n",
       "      <td>elasticnet</td>\n",
       "      <td>saga</td>\n",
       "      <td>COMPLETE</td>\n",
       "    </tr>\n",
       "    <tr>\n",
       "      <th>123</th>\n",
       "      <td>123</td>\n",
       "      <td>0.746835</td>\n",
       "      <td>2024-06-08 00:05:32.486531</td>\n",
       "      <td>2024-06-08 00:05:32.629538</td>\n",
       "      <td>0 days 00:00:00.143007</td>\n",
       "      <td>73.174067</td>\n",
       "      <td>0.633776</td>\n",
       "      <td>971</td>\n",
       "      <td>elasticnet</td>\n",
       "      <td>saga</td>\n",
       "      <td>COMPLETE</td>\n",
       "    </tr>\n",
       "    <tr>\n",
       "      <th>122</th>\n",
       "      <td>122</td>\n",
       "      <td>0.746835</td>\n",
       "      <td>2024-06-08 00:05:32.348534</td>\n",
       "      <td>2024-06-08 00:05:32.485532</td>\n",
       "      <td>0 days 00:00:00.136998</td>\n",
       "      <td>81.960295</td>\n",
       "      <td>0.599599</td>\n",
       "      <td>289</td>\n",
       "      <td>elasticnet</td>\n",
       "      <td>saga</td>\n",
       "      <td>COMPLETE</td>\n",
       "    </tr>\n",
       "    <tr>\n",
       "      <th>119</th>\n",
       "      <td>119</td>\n",
       "      <td>0.746835</td>\n",
       "      <td>2024-06-08 00:05:31.912545</td>\n",
       "      <td>2024-06-08 00:05:32.051498</td>\n",
       "      <td>0 days 00:00:00.138953</td>\n",
       "      <td>80.787934</td>\n",
       "      <td>0.219515</td>\n",
       "      <td>529</td>\n",
       "      <td>elasticnet</td>\n",
       "      <td>saga</td>\n",
       "      <td>COMPLETE</td>\n",
       "    </tr>\n",
       "    <tr>\n",
       "      <th>118</th>\n",
       "      <td>118</td>\n",
       "      <td>0.746835</td>\n",
       "      <td>2024-06-08 00:05:31.766531</td>\n",
       "      <td>2024-06-08 00:05:31.910541</td>\n",
       "      <td>0 days 00:00:00.144010</td>\n",
       "      <td>80.448712</td>\n",
       "      <td>0.227343</td>\n",
       "      <td>414</td>\n",
       "      <td>elasticnet</td>\n",
       "      <td>saga</td>\n",
       "      <td>COMPLETE</td>\n",
       "    </tr>\n",
       "    <tr>\n",
       "      <th>116</th>\n",
       "      <td>116</td>\n",
       "      <td>0.746835</td>\n",
       "      <td>2024-06-08 00:05:31.475537</td>\n",
       "      <td>2024-06-08 00:05:31.618512</td>\n",
       "      <td>0 days 00:00:00.142975</td>\n",
       "      <td>87.116476</td>\n",
       "      <td>0.194048</td>\n",
       "      <td>905</td>\n",
       "      <td>elasticnet</td>\n",
       "      <td>saga</td>\n",
       "      <td>COMPLETE</td>\n",
       "    </tr>\n",
       "    <tr>\n",
       "      <th>115</th>\n",
       "      <td>115</td>\n",
       "      <td>0.746835</td>\n",
       "      <td>2024-06-08 00:05:31.325535</td>\n",
       "      <td>2024-06-08 00:05:31.473538</td>\n",
       "      <td>0 days 00:00:00.148003</td>\n",
       "      <td>84.407829</td>\n",
       "      <td>0.395236</td>\n",
       "      <td>368</td>\n",
       "      <td>elasticnet</td>\n",
       "      <td>saga</td>\n",
       "      <td>COMPLETE</td>\n",
       "    </tr>\n",
       "    <tr>\n",
       "      <th>114</th>\n",
       "      <td>114</td>\n",
       "      <td>0.746835</td>\n",
       "      <td>2024-06-08 00:05:31.184537</td>\n",
       "      <td>2024-06-08 00:05:31.322497</td>\n",
       "      <td>0 days 00:00:00.137960</td>\n",
       "      <td>1.654734</td>\n",
       "      <td>0.794329</td>\n",
       "      <td>207</td>\n",
       "      <td>elasticnet</td>\n",
       "      <td>saga</td>\n",
       "      <td>COMPLETE</td>\n",
       "    </tr>\n",
       "    <tr>\n",
       "      <th>113</th>\n",
       "      <td>113</td>\n",
       "      <td>0.746835</td>\n",
       "      <td>2024-06-08 00:05:31.003534</td>\n",
       "      <td>2024-06-08 00:05:31.183532</td>\n",
       "      <td>0 days 00:00:00.179998</td>\n",
       "      <td>99.517332</td>\n",
       "      <td>0.086517</td>\n",
       "      <td>668</td>\n",
       "      <td>elasticnet</td>\n",
       "      <td>saga</td>\n",
       "      <td>COMPLETE</td>\n",
       "    </tr>\n",
       "  </tbody>\n",
       "</table>\n",
       "</div>"
      ],
      "text/plain": [
       "     number     value             datetime_start          datetime_complete  \\\n",
       "0         0  0.746835 2024-06-08 00:05:14.098488 2024-06-08 00:05:14.239522   \n",
       "131     131  0.746835 2024-06-08 00:05:33.701534 2024-06-08 00:05:33.844535   \n",
       "123     123  0.746835 2024-06-08 00:05:32.486531 2024-06-08 00:05:32.629538   \n",
       "122     122  0.746835 2024-06-08 00:05:32.348534 2024-06-08 00:05:32.485532   \n",
       "119     119  0.746835 2024-06-08 00:05:31.912545 2024-06-08 00:05:32.051498   \n",
       "118     118  0.746835 2024-06-08 00:05:31.766531 2024-06-08 00:05:31.910541   \n",
       "116     116  0.746835 2024-06-08 00:05:31.475537 2024-06-08 00:05:31.618512   \n",
       "115     115  0.746835 2024-06-08 00:05:31.325535 2024-06-08 00:05:31.473538   \n",
       "114     114  0.746835 2024-06-08 00:05:31.184537 2024-06-08 00:05:31.322497   \n",
       "113     113  0.746835 2024-06-08 00:05:31.003534 2024-06-08 00:05:31.183532   \n",
       "\n",
       "                  duration   params_C  params_l1_ratio  params_max_iter  \\\n",
       "0   0 days 00:00:00.141034  94.696791         0.517298              789   \n",
       "131 0 days 00:00:00.143001  72.450796         0.465636              174   \n",
       "123 0 days 00:00:00.143007  73.174067         0.633776              971   \n",
       "122 0 days 00:00:00.136998  81.960295         0.599599              289   \n",
       "119 0 days 00:00:00.138953  80.787934         0.219515              529   \n",
       "118 0 days 00:00:00.144010  80.448712         0.227343              414   \n",
       "116 0 days 00:00:00.142975  87.116476         0.194048              905   \n",
       "115 0 days 00:00:00.148003  84.407829         0.395236              368   \n",
       "114 0 days 00:00:00.137960   1.654734         0.794329              207   \n",
       "113 0 days 00:00:00.179998  99.517332         0.086517              668   \n",
       "\n",
       "    params_penalty params_solver     state  \n",
       "0       elasticnet          saga  COMPLETE  \n",
       "131     elasticnet          saga  COMPLETE  \n",
       "123     elasticnet          saga  COMPLETE  \n",
       "122     elasticnet          saga  COMPLETE  \n",
       "119     elasticnet          saga  COMPLETE  \n",
       "118     elasticnet          saga  COMPLETE  \n",
       "116     elasticnet          saga  COMPLETE  \n",
       "115     elasticnet          saga  COMPLETE  \n",
       "114     elasticnet          saga  COMPLETE  \n",
       "113     elasticnet          saga  COMPLETE  "
      ]
     },
     "execution_count": 36,
     "metadata": {},
     "output_type": "execute_result"
    }
   ],
   "source": [
    "# Get best trials\n",
    "trials_OTP3 = study.trials_dataframe()\n",
    "# Sort the dataframe by value (accuracy) in descending order\n",
    "top_trials_OTP3 = trials_OTP3.sort_values(by='value', ascending=False).head(10)\n",
    "top_trials_OTP3"
   ]
  },
  {
   "cell_type": "code",
   "execution_count": 37,
   "metadata": {},
   "outputs": [
    {
     "name": "stdout",
     "output_type": "stream",
     "text": [
      "Metrics for LR_OPT3_best:\n",
      "Accuracy: 0.7468\n",
      "Weighted F1: 0.7463\n",
      "Weighted Precision: 0.7472\n",
      "Weighted Recall: 0.7468\n",
      "Macro-Averaged Precision: 0.7474\n",
      "Macro-Averaged Recall: 0.7454\n",
      "F1: [0.76264834 0.72876517]\n",
      "Precision: [0.7417983  0.75294985]\n",
      "classification report\n",
      "              precision    recall  f1-score   support\n",
      "\n",
      "     Class 0       0.74      0.78      0.76      1556\n",
      "     Class 1       0.75      0.71      0.73      1446\n",
      "\n",
      "    accuracy                           0.75      3002\n",
      "   macro avg       0.75      0.75      0.75      3002\n",
      "weighted avg       0.75      0.75      0.75      3002\n",
      "\n",
      "Confusion Matrix\n"
     ]
    },
    {
     "data": {
      "image/png": "[encoded data removed]",
      "text/plain": [
       "<Figure size 432x288 with 2 Axes>"
      ]
     },
     "metadata": {
      "needs_background": "light"
     },
     "output_type": "display_data"
    }
   ],
   "source": [
    "best_trial = study.best_trial\n",
    "best_model = LogisticRegression(**best_trial.params, random_state=seed)\n",
    "best_model.fit(X_train, y_train)\n",
    "\n",
    "predictions_opt3 = best_model.predict(X_test)\n",
    "\n",
    "model_metrics = pd.concat([model_metrics, calculate_metrics('LR_OPT3_best', y_test, predictions_opt3)])"
   ]
  },
  {
   "cell_type": "markdown",
   "metadata": {},
   "source": [
    "end"
   ]
  },
  {
   "cell_type": "code",
   "execution_count": 38,
   "metadata": {},
   "outputs": [
    {
     "data": {
      "text/html": [
       "<div>\n",
       "<style scoped>\n",
       "    .dataframe tbody tr th:only-of-type {\n",
       "        vertical-align: middle;\n",
       "    }\n",
       "\n",
       "    .dataframe tbody tr th {\n",
       "        vertical-align: top;\n",
       "    }\n",
       "\n",
       "    .dataframe thead th {\n",
       "        text-align: right;\n",
       "    }\n",
       "</style>\n",
       "<table border=\"1\" class=\"dataframe\">\n",
       "  <thead>\n",
       "    <tr style=\"text-align: right;\">\n",
       "      <th></th>\n",
       "      <th>Accuracy</th>\n",
       "      <th>Weighted F1</th>\n",
       "      <th>Weighted Precision</th>\n",
       "      <th>Weighted Recall</th>\n",
       "      <th>Macro-Averaged Precision</th>\n",
       "      <th>Macro-Averaged Recall</th>\n",
       "      <th>F1</th>\n",
       "      <th>Precision</th>\n",
       "    </tr>\n",
       "  </thead>\n",
       "  <tbody>\n",
       "    <tr>\n",
       "      <th>LR_original</th>\n",
       "      <td>0.742172</td>\n",
       "      <td>0.741655</td>\n",
       "      <td>0.742479</td>\n",
       "      <td>0.742172</td>\n",
       "      <td>0.742667</td>\n",
       "      <td>0.740725</td>\n",
       "      <td>[0.75827608 0.72376874]</td>\n",
       "      <td>[0.73754557 0.74778761]</td>\n",
       "    </tr>\n",
       "    <tr>\n",
       "      <th>LR_CV1_best</th>\n",
       "      <td>0.746835</td>\n",
       "      <td>0.746328</td>\n",
       "      <td>0.747170</td>\n",
       "      <td>0.746835</td>\n",
       "      <td>0.747374</td>\n",
       "      <td>0.745395</td>\n",
       "      <td>[0.76264834 0.72876517]</td>\n",
       "      <td>[0.7417983  0.75294985]</td>\n",
       "    </tr>\n",
       "    <tr>\n",
       "      <th>LR_skf_best</th>\n",
       "      <td>0.746502</td>\n",
       "      <td>0.745986</td>\n",
       "      <td>0.746848</td>\n",
       "      <td>0.746502</td>\n",
       "      <td>0.747058</td>\n",
       "      <td>0.745049</td>\n",
       "      <td>[0.76241024 0.72831132]</td>\n",
       "      <td>[0.74134791 0.75276753]</td>\n",
       "    </tr>\n",
       "    <tr>\n",
       "      <th>LR_OPT1_best</th>\n",
       "      <td>0.747502</td>\n",
       "      <td>0.746945</td>\n",
       "      <td>0.747927</td>\n",
       "      <td>0.747502</td>\n",
       "      <td>0.748170</td>\n",
       "      <td>0.745989</td>\n",
       "      <td>[0.76371571 0.72889843]</td>\n",
       "      <td>[0.74152542 0.75481481]</td>\n",
       "    </tr>\n",
       "    <tr>\n",
       "      <th>LR_OPT2_best</th>\n",
       "      <td>0.746835</td>\n",
       "      <td>0.746328</td>\n",
       "      <td>0.747170</td>\n",
       "      <td>0.746835</td>\n",
       "      <td>0.747374</td>\n",
       "      <td>0.745395</td>\n",
       "      <td>[0.76264834 0.72876517]</td>\n",
       "      <td>[0.7417983  0.75294985]</td>\n",
       "    </tr>\n",
       "    <tr>\n",
       "      <th>LR_OPT3_best</th>\n",
       "      <td>0.746835</td>\n",
       "      <td>0.746328</td>\n",
       "      <td>0.747170</td>\n",
       "      <td>0.746835</td>\n",
       "      <td>0.747374</td>\n",
       "      <td>0.745395</td>\n",
       "      <td>[0.76264834 0.72876517]</td>\n",
       "      <td>[0.7417983  0.75294985]</td>\n",
       "    </tr>\n",
       "  </tbody>\n",
       "</table>\n",
       "</div>"
      ],
      "text/plain": [
       "              Accuracy  Weighted F1  Weighted Precision  Weighted Recall  \\\n",
       "LR_original   0.742172     0.741655            0.742479         0.742172   \n",
       "LR_CV1_best   0.746835     0.746328            0.747170         0.746835   \n",
       "LR_skf_best   0.746502     0.745986            0.746848         0.746502   \n",
       "LR_OPT1_best  0.747502     0.746945            0.747927         0.747502   \n",
       "LR_OPT2_best  0.746835     0.746328            0.747170         0.746835   \n",
       "LR_OPT3_best  0.746835     0.746328            0.747170         0.746835   \n",
       "\n",
       "              Macro-Averaged Precision  Macro-Averaged Recall  \\\n",
       "LR_original                   0.742667               0.740725   \n",
       "LR_CV1_best                   0.747374               0.745395   \n",
       "LR_skf_best                   0.747058               0.745049   \n",
       "LR_OPT1_best                  0.748170               0.745989   \n",
       "LR_OPT2_best                  0.747374               0.745395   \n",
       "LR_OPT3_best                  0.747374               0.745395   \n",
       "\n",
       "                                   F1                Precision  \n",
       "LR_original   [0.75827608 0.72376874]  [0.73754557 0.74778761]  \n",
       "LR_CV1_best   [0.76264834 0.72876517]  [0.7417983  0.75294985]  \n",
       "LR_skf_best   [0.76241024 0.72831132]  [0.74134791 0.75276753]  \n",
       "LR_OPT1_best  [0.76371571 0.72889843]  [0.74152542 0.75481481]  \n",
       "LR_OPT2_best  [0.76264834 0.72876517]  [0.7417983  0.75294985]  \n",
       "LR_OPT3_best  [0.76264834 0.72876517]  [0.7417983  0.75294985]  "
      ]
     },
     "execution_count": 38,
     "metadata": {},
     "output_type": "execute_result"
    }
   ],
   "source": [
    "model_metrics"
   ]
  }
 ],
 "metadata": {
  "kernelspec": {
   "display_name": "Python 3",
   "language": "python",
   "name": "python3"
  },
  "language_info": {
   "codemirror_mode": {
    "name": "ipython",
    "version": 3
   },
   "file_extension": ".py",
   "mimetype": "text/x-python",
   "name": "python",
   "nbconvert_exporter": "python",
   "pygments_lexer": "ipython3",
   "version": "3.10.11"
  }
 },
 "nbformat": 4,
 "nbformat_minor": 2
}
