{
 "cells": [
  {
   "cell_type": "markdown",
   "metadata": {},
   "source": [
    "## Logistic Regression Implementation on (scaled) Reduced Dataset with t-SNE"
   ]
  },
  {
   "cell_type": "markdown",
   "metadata": {},
   "source": [
    "Imports"
   ]
  },
  {
   "cell_type": "code",
   "execution_count": 1,
   "metadata": {},
   "outputs": [
    {
     "name": "stderr",
     "output_type": "stream",
     "text": [
      "C:\\Users\\movil\\AppData\\Local\\Packages\\PythonSoftwareFoundation.Python.3.10_qbz5n2kfra8p0\\LocalCache\\local-packages\\Python310\\site-packages\\scipy\\__init__.py:155: UserWarning: A NumPy version >=1.18.5 and <1.25.0 is required for this version of SciPy (detected version 1.26.4\n",
      "  warnings.warn(f\"A NumPy version >={np_minversion} and <{np_maxversion}\"\n"
     ]
    }
   ],
   "source": [
    "# Utilities\n",
    "import pandas as pd\n",
    "import warnings\n",
    "import matplotlib.pyplot as plt\n",
    "\n",
    "# Models\n",
    "import optuna\n",
    "from sklearn.model_selection import train_test_split, cross_val_score\n",
    "from sklearn.exceptions import ConvergenceWarning\n",
    "from sklearn.ensemble import RandomForestClassifier\n",
    "from sklearn.linear_model import LogisticRegression\n",
    "from sklearn.model_selection import GridSearchCV\n",
    "from sklearn.metrics import accuracy_score, accuracy_score, f1_score\n",
    "from sklearn.metrics import classification_report, precision_score, recall_score, confusion_matrix, ConfusionMatrixDisplay"
   ]
  },
  {
   "cell_type": "markdown",
   "metadata": {},
   "source": [
    "Set random seed for reproductibility"
   ]
  },
  {
   "cell_type": "code",
   "execution_count": 2,
   "metadata": {},
   "outputs": [],
   "source": [
    "seed = 23"
   ]
  },
  {
   "cell_type": "markdown",
   "metadata": {},
   "source": [
    "Read clean (scaled data) and reduced dataset"
   ]
  },
  {
   "cell_type": "code",
   "execution_count": 3,
   "metadata": {},
   "outputs": [],
   "source": [
    "df_scaled = pd.read_csv('../../Data/dataset_preprocessed.csv')"
   ]
  },
  {
   "cell_type": "code",
   "execution_count": 4,
   "metadata": {},
   "outputs": [],
   "source": [
    "df_tsne = pd.read_csv('../../DimensionalityReductionData/t-SNE.csv')"
   ]
  },
  {
   "cell_type": "code",
   "execution_count": 5,
   "metadata": {},
   "outputs": [
    {
     "data": {
      "text/html": [
       "<div>\n",
       "<style scoped>\n",
       "    .dataframe tbody tr th:only-of-type {\n",
       "        vertical-align: middle;\n",
       "    }\n",
       "\n",
       "    .dataframe tbody tr th {\n",
       "        vertical-align: top;\n",
       "    }\n",
       "\n",
       "    .dataframe thead th {\n",
       "        text-align: right;\n",
       "    }\n",
       "</style>\n",
       "<table border=\"1\" class=\"dataframe\">\n",
       "  <thead>\n",
       "    <tr style=\"text-align: right;\">\n",
       "      <th></th>\n",
       "      <th>Dimension 1</th>\n",
       "      <th>Dimension 2</th>\n",
       "    </tr>\n",
       "  </thead>\n",
       "  <tbody>\n",
       "    <tr>\n",
       "      <th>0</th>\n",
       "      <td>12.275841</td>\n",
       "      <td>-38.495010</td>\n",
       "    </tr>\n",
       "    <tr>\n",
       "      <th>1</th>\n",
       "      <td>-32.319275</td>\n",
       "      <td>-62.973427</td>\n",
       "    </tr>\n",
       "    <tr>\n",
       "      <th>2</th>\n",
       "      <td>-77.908150</td>\n",
       "      <td>-10.463196</td>\n",
       "    </tr>\n",
       "    <tr>\n",
       "      <th>3</th>\n",
       "      <td>-3.411618</td>\n",
       "      <td>-3.128705</td>\n",
       "    </tr>\n",
       "    <tr>\n",
       "      <th>4</th>\n",
       "      <td>0.957163</td>\n",
       "      <td>-16.427937</td>\n",
       "    </tr>\n",
       "  </tbody>\n",
       "</table>\n",
       "</div>"
      ],
      "text/plain": [
       "   Dimension 1  Dimension 2\n",
       "0    12.275841   -38.495010\n",
       "1   -32.319275   -62.973427\n",
       "2   -77.908150   -10.463196\n",
       "3    -3.411618    -3.128705\n",
       "4     0.957163   -16.427937"
      ]
     },
     "execution_count": 5,
     "metadata": {},
     "output_type": "execute_result"
    }
   ],
   "source": [
    "df_tsne.head()"
   ]
  },
  {
   "cell_type": "markdown",
   "metadata": {},
   "source": [
    "Keep only the 'averageRating' column and join with Dimension 1 & Dimension 2 from t-SNE"
   ]
  },
  {
   "cell_type": "code",
   "execution_count": 6,
   "metadata": {},
   "outputs": [],
   "source": [
    "df_scaled = df_scaled[['averageRating']]\n",
    "df_scaled['Dim1'] = df_tsne['Dimension 1']\n",
    "df_scaled['Dim2'] = df_tsne['Dimension 2']"
   ]
  },
  {
   "cell_type": "code",
   "execution_count": 7,
   "metadata": {},
   "outputs": [
    {
     "data": {
      "text/html": [
       "<div>\n",
       "<style scoped>\n",
       "    .dataframe tbody tr th:only-of-type {\n",
       "        vertical-align: middle;\n",
       "    }\n",
       "\n",
       "    .dataframe tbody tr th {\n",
       "        vertical-align: top;\n",
       "    }\n",
       "\n",
       "    .dataframe thead th {\n",
       "        text-align: right;\n",
       "    }\n",
       "</style>\n",
       "<table border=\"1\" class=\"dataframe\">\n",
       "  <thead>\n",
       "    <tr style=\"text-align: right;\">\n",
       "      <th></th>\n",
       "      <th>averageRating</th>\n",
       "      <th>Dim1</th>\n",
       "      <th>Dim2</th>\n",
       "    </tr>\n",
       "  </thead>\n",
       "  <tbody>\n",
       "    <tr>\n",
       "      <th>0</th>\n",
       "      <td>1</td>\n",
       "      <td>12.275841</td>\n",
       "      <td>-38.495010</td>\n",
       "    </tr>\n",
       "    <tr>\n",
       "      <th>1</th>\n",
       "      <td>0</td>\n",
       "      <td>-32.319275</td>\n",
       "      <td>-62.973427</td>\n",
       "    </tr>\n",
       "    <tr>\n",
       "      <th>2</th>\n",
       "      <td>1</td>\n",
       "      <td>-77.908150</td>\n",
       "      <td>-10.463196</td>\n",
       "    </tr>\n",
       "    <tr>\n",
       "      <th>3</th>\n",
       "      <td>0</td>\n",
       "      <td>-3.411618</td>\n",
       "      <td>-3.128705</td>\n",
       "    </tr>\n",
       "    <tr>\n",
       "      <th>4</th>\n",
       "      <td>0</td>\n",
       "      <td>0.957163</td>\n",
       "      <td>-16.427937</td>\n",
       "    </tr>\n",
       "  </tbody>\n",
       "</table>\n",
       "</div>"
      ],
      "text/plain": [
       "   averageRating       Dim1       Dim2\n",
       "0              1  12.275841 -38.495010\n",
       "1              0 -32.319275 -62.973427\n",
       "2              1 -77.908150 -10.463196\n",
       "3              0  -3.411618  -3.128705\n",
       "4              0   0.957163 -16.427937"
      ]
     },
     "execution_count": 7,
     "metadata": {},
     "output_type": "execute_result"
    }
   ],
   "source": [
    "df_scaled.head()"
   ]
  },
  {
   "cell_type": "markdown",
   "metadata": {},
   "source": [
    "Take sample for (initial) tests"
   ]
  },
  {
   "cell_type": "code",
   "execution_count": 8,
   "metadata": {},
   "outputs": [],
   "source": [
    "#df_scaled_sample = df_scaled.sample(n=5000, random_state=seed)\n",
    "df_scaled_sample = df_scaled"
   ]
  },
  {
   "cell_type": "markdown",
   "metadata": {},
   "source": [
    "Train-Test Split"
   ]
  },
  {
   "cell_type": "code",
   "execution_count": 9,
   "metadata": {},
   "outputs": [],
   "source": [
    "test_size = 0.2\n",
    "X_train, X_test, y_train, y_test = train_test_split(\n",
    "    df_scaled_sample.drop('averageRating', axis=1), \n",
    "    df_scaled_sample['averageRating'], test_size=test_size, \n",
    "    random_state=seed\n",
    ")"
   ]
  },
  {
   "cell_type": "markdown",
   "metadata": {},
   "source": [
    "Save and print metrics"
   ]
  },
  {
   "cell_type": "code",
   "execution_count": 10,
   "metadata": {},
   "outputs": [],
   "source": [
    "def calculate_metrics(model_name, y_true, y_pred):\n",
    "    metrics = {\n",
    "        'Accuracy': accuracy_score(y_true, y_pred),\n",
    "        'Weighted F1': f1_score(y_true, y_pred, average='weighted'),\n",
    "        'Weighted Precision': precision_score(y_true, y_pred, average='weighted'),\n",
    "        'Weighted Recall': recall_score(y_true, y_pred, average='weighted'),\n",
    "        'Macro-Averaged Precision': precision_score(y_true, y_pred, average='macro'),\n",
    "        'Macro-Averaged Recall': recall_score(y_true, y_pred, average='macro'),\n",
    "        'F1': str(f1_score(y_true, y_pred, average=None)),\n",
    "        'Precision': str( precision_score(y_true, y_pred, average=None)),\n",
    "    }\n",
    "    \n",
    "    # Print the metrics\n",
    "    print(f\"Metrics for {model_name}:\")\n",
    "    for metric_name, metric_value in metrics.items():\n",
    "        try:\n",
    "            print(f\"{metric_name}: {metric_value:.4f}\")\n",
    "        except:\n",
    "            print(f\"{metric_name}: {metric_value}\")\n",
    "    \n",
    "    # Print the classification report\n",
    "    print(\"classification report\")\n",
    "    report = classification_report(y_true, y_pred, target_names=['Class 0', 'Class 1'])\n",
    "    print(report)\n",
    "\n",
    "    print(\"Confusion Matrix\")\n",
    "    cm = confusion_matrix(y_true, y_pred)\n",
    "    cmd = ConfusionMatrixDisplay(confusion_matrix=cm)\n",
    "    cmd.plot()\n",
    "    \n",
    "    plt.title(f'Confusion matrix for model {model_name} (Accuracy:{metrics[\"Accuracy\"]:.4f})')\n",
    "    plt.show()\n",
    "    \n",
    "    # Create df to store metrics\n",
    "    df_metrics = pd.DataFrame(metrics, index=[model_name])\n",
    "    \n",
    "    return df_metrics"
   ]
  },
  {
   "cell_type": "markdown",
   "metadata": {},
   "source": [
    "Model fit"
   ]
  },
  {
   "cell_type": "code",
   "execution_count": 11,
   "metadata": {},
   "outputs": [
    {
     "data": {
      "text/html": [
       "<style>#sk-container-id-1 {\n",
       "  /* Definition of color scheme common for light and dark mode */\n",
       "  --sklearn-color-text: black;\n",
       "  --sklearn-color-line: gray;\n",
       "  /* Definition of color scheme for unfitted estimators */\n",
       "  --sklearn-color-unfitted-level-0: #fff5e6;\n",
       "  --sklearn-color-unfitted-level-1: #f6e4d2;\n",
       "  --sklearn-color-unfitted-level-2: #ffe0b3;\n",
       "  --sklearn-color-unfitted-level-3: chocolate;\n",
       "  /* Definition of color scheme for fitted estimators */\n",
       "  --sklearn-color-fitted-level-0: #f0f8ff;\n",
       "  --sklearn-color-fitted-level-1: #d4ebff;\n",
       "  --sklearn-color-fitted-level-2: #b3dbfd;\n",
       "  --sklearn-color-fitted-level-3: cornflowerblue;\n",
       "\n",
       "  /* Specific color for light theme */\n",
       "  --sklearn-color-text-on-default-background: var(--sg-text-color, var(--theme-code-foreground, var(--jp-content-font-color1, black)));\n",
       "  --sklearn-color-background: var(--sg-background-color, var(--theme-background, var(--jp-layout-color0, white)));\n",
       "  --sklearn-color-border-box: var(--sg-text-color, var(--theme-code-foreground, var(--jp-content-font-color1, black)));\n",
       "  --sklearn-color-icon: #696969;\n",
       "\n",
       "  @media (prefers-color-scheme: dark) {\n",
       "    /* Redefinition of color scheme for dark theme */\n",
       "    --sklearn-color-text-on-default-background: var(--sg-text-color, var(--theme-code-foreground, var(--jp-content-font-color1, white)));\n",
       "    --sklearn-color-background: var(--sg-background-color, var(--theme-background, var(--jp-layout-color0, #111)));\n",
       "    --sklearn-color-border-box: var(--sg-text-color, var(--theme-code-foreground, var(--jp-content-font-color1, white)));\n",
       "    --sklearn-color-icon: #878787;\n",
       "  }\n",
       "}\n",
       "\n",
       "#sk-container-id-1 {\n",
       "  color: var(--sklearn-color-text);\n",
       "}\n",
       "\n",
       "#sk-container-id-1 pre {\n",
       "  padding: 0;\n",
       "}\n",
       "\n",
       "#sk-container-id-1 input.sk-hidden--visually {\n",
       "  border: 0;\n",
       "  clip: rect(1px 1px 1px 1px);\n",
       "  clip: rect(1px, 1px, 1px, 1px);\n",
       "  height: 1px;\n",
       "  margin: -1px;\n",
       "  overflow: hidden;\n",
       "  padding: 0;\n",
       "  position: absolute;\n",
       "  width: 1px;\n",
       "}\n",
       "\n",
       "#sk-container-id-1 div.sk-dashed-wrapped {\n",
       "  border: 1px dashed var(--sklearn-color-line);\n",
       "  margin: 0 0.4em 0.5em 0.4em;\n",
       "  box-sizing: border-box;\n",
       "  padding-bottom: 0.4em;\n",
       "  background-color: var(--sklearn-color-background);\n",
       "}\n",
       "\n",
       "#sk-container-id-1 div.sk-container {\n",
       "  /* jupyter's `normalize.less` sets `[hidden] { display: none; }`\n",
       "     but bootstrap.min.css set `[hidden] { display: none !important; }`\n",
       "     so we also need the `!important` here to be able to override the\n",
       "     default hidden behavior on the sphinx rendered scikit-learn.org.\n",
       "     See: https://github.com/scikit-learn/scikit-learn/issues/21755 */\n",
       "  display: inline-block !important;\n",
       "  position: relative;\n",
       "}\n",
       "\n",
       "#sk-container-id-1 div.sk-text-repr-fallback {\n",
       "  display: none;\n",
       "}\n",
       "\n",
       "div.sk-parallel-item,\n",
       "div.sk-serial,\n",
       "div.sk-item {\n",
       "  /* draw centered vertical line to link estimators */\n",
       "  background-image: linear-gradient(var(--sklearn-color-text-on-default-background), var(--sklearn-color-text-on-default-background));\n",
       "  background-size: 2px 100%;\n",
       "  background-repeat: no-repeat;\n",
       "  background-position: center center;\n",
       "}\n",
       "\n",
       "/* Parallel-specific style estimator block */\n",
       "\n",
       "#sk-container-id-1 div.sk-parallel-item::after {\n",
       "  content: \"\";\n",
       "  width: 100%;\n",
       "  border-bottom: 2px solid var(--sklearn-color-text-on-default-background);\n",
       "  flex-grow: 1;\n",
       "}\n",
       "\n",
       "#sk-container-id-1 div.sk-parallel {\n",
       "  display: flex;\n",
       "  align-items: stretch;\n",
       "  justify-content: center;\n",
       "  background-color: var(--sklearn-color-background);\n",
       "  position: relative;\n",
       "}\n",
       "\n",
       "#sk-container-id-1 div.sk-parallel-item {\n",
       "  display: flex;\n",
       "  flex-direction: column;\n",
       "}\n",
       "\n",
       "#sk-container-id-1 div.sk-parallel-item:first-child::after {\n",
       "  align-self: flex-end;\n",
       "  width: 50%;\n",
       "}\n",
       "\n",
       "#sk-container-id-1 div.sk-parallel-item:last-child::after {\n",
       "  align-self: flex-start;\n",
       "  width: 50%;\n",
       "}\n",
       "\n",
       "#sk-container-id-1 div.sk-parallel-item:only-child::after {\n",
       "  width: 0;\n",
       "}\n",
       "\n",
       "/* Serial-specific style estimator block */\n",
       "\n",
       "#sk-container-id-1 div.sk-serial {\n",
       "  display: flex;\n",
       "  flex-direction: column;\n",
       "  align-items: center;\n",
       "  background-color: var(--sklearn-color-background);\n",
       "  padding-right: 1em;\n",
       "  padding-left: 1em;\n",
       "}\n",
       "\n",
       "\n",
       "/* Toggleable style: style used for estimator/Pipeline/ColumnTransformer box that is\n",
       "clickable and can be expanded/collapsed.\n",
       "- Pipeline and ColumnTransformer use this feature and define the default style\n",
       "- Estimators will overwrite some part of the style using the `sk-estimator` class\n",
       "*/\n",
       "\n",
       "/* Pipeline and ColumnTransformer style (default) */\n",
       "\n",
       "#sk-container-id-1 div.sk-toggleable {\n",
       "  /* Default theme specific background. It is overwritten whether we have a\n",
       "  specific estimator or a Pipeline/ColumnTransformer */\n",
       "  background-color: var(--sklearn-color-background);\n",
       "}\n",
       "\n",
       "/* Toggleable label */\n",
       "#sk-container-id-1 label.sk-toggleable__label {\n",
       "  cursor: pointer;\n",
       "  display: block;\n",
       "  width: 100%;\n",
       "  margin-bottom: 0;\n",
       "  padding: 0.5em;\n",
       "  box-sizing: border-box;\n",
       "  text-align: center;\n",
       "}\n",
       "\n",
       "#sk-container-id-1 label.sk-toggleable__label-arrow:before {\n",
       "  /* Arrow on the left of the label */\n",
       "  content: \"▸\";\n",
       "  float: left;\n",
       "  margin-right: 0.25em;\n",
       "  color: var(--sklearn-color-icon);\n",
       "}\n",
       "\n",
       "#sk-container-id-1 label.sk-toggleable__label-arrow:hover:before {\n",
       "  color: var(--sklearn-color-text);\n",
       "}\n",
       "\n",
       "/* Toggleable content - dropdown */\n",
       "\n",
       "#sk-container-id-1 div.sk-toggleable__content {\n",
       "  max-height: 0;\n",
       "  max-width: 0;\n",
       "  overflow: hidden;\n",
       "  text-align: left;\n",
       "  /* unfitted */\n",
       "  background-color: var(--sklearn-color-unfitted-level-0);\n",
       "}\n",
       "\n",
       "#sk-container-id-1 div.sk-toggleable__content.fitted {\n",
       "  /* fitted */\n",
       "  background-color: var(--sklearn-color-fitted-level-0);\n",
       "}\n",
       "\n",
       "#sk-container-id-1 div.sk-toggleable__content pre {\n",
       "  margin: 0.2em;\n",
       "  border-radius: 0.25em;\n",
       "  color: var(--sklearn-color-text);\n",
       "  /* unfitted */\n",
       "  background-color: var(--sklearn-color-unfitted-level-0);\n",
       "}\n",
       "\n",
       "#sk-container-id-1 div.sk-toggleable__content.fitted pre {\n",
       "  /* unfitted */\n",
       "  background-color: var(--sklearn-color-fitted-level-0);\n",
       "}\n",
       "\n",
       "#sk-container-id-1 input.sk-toggleable__control:checked~div.sk-toggleable__content {\n",
       "  /* Expand drop-down */\n",
       "  max-height: 200px;\n",
       "  max-width: 100%;\n",
       "  overflow: auto;\n",
       "}\n",
       "\n",
       "#sk-container-id-1 input.sk-toggleable__control:checked~label.sk-toggleable__label-arrow:before {\n",
       "  content: \"▾\";\n",
       "}\n",
       "\n",
       "/* Pipeline/ColumnTransformer-specific style */\n",
       "\n",
       "#sk-container-id-1 div.sk-label input.sk-toggleable__control:checked~label.sk-toggleable__label {\n",
       "  color: var(--sklearn-color-text);\n",
       "  background-color: var(--sklearn-color-unfitted-level-2);\n",
       "}\n",
       "\n",
       "#sk-container-id-1 div.sk-label.fitted input.sk-toggleable__control:checked~label.sk-toggleable__label {\n",
       "  background-color: var(--sklearn-color-fitted-level-2);\n",
       "}\n",
       "\n",
       "/* Estimator-specific style */\n",
       "\n",
       "/* Colorize estimator box */\n",
       "#sk-container-id-1 div.sk-estimator input.sk-toggleable__control:checked~label.sk-toggleable__label {\n",
       "  /* unfitted */\n",
       "  background-color: var(--sklearn-color-unfitted-level-2);\n",
       "}\n",
       "\n",
       "#sk-container-id-1 div.sk-estimator.fitted input.sk-toggleable__control:checked~label.sk-toggleable__label {\n",
       "  /* fitted */\n",
       "  background-color: var(--sklearn-color-fitted-level-2);\n",
       "}\n",
       "\n",
       "#sk-container-id-1 div.sk-label label.sk-toggleable__label,\n",
       "#sk-container-id-1 div.sk-label label {\n",
       "  /* The background is the default theme color */\n",
       "  color: var(--sklearn-color-text-on-default-background);\n",
       "}\n",
       "\n",
       "/* On hover, darken the color of the background */\n",
       "#sk-container-id-1 div.sk-label:hover label.sk-toggleable__label {\n",
       "  color: var(--sklearn-color-text);\n",
       "  background-color: var(--sklearn-color-unfitted-level-2);\n",
       "}\n",
       "\n",
       "/* Label box, darken color on hover, fitted */\n",
       "#sk-container-id-1 div.sk-label.fitted:hover label.sk-toggleable__label.fitted {\n",
       "  color: var(--sklearn-color-text);\n",
       "  background-color: var(--sklearn-color-fitted-level-2);\n",
       "}\n",
       "\n",
       "/* Estimator label */\n",
       "\n",
       "#sk-container-id-1 div.sk-label label {\n",
       "  font-family: monospace;\n",
       "  font-weight: bold;\n",
       "  display: inline-block;\n",
       "  line-height: 1.2em;\n",
       "}\n",
       "\n",
       "#sk-container-id-1 div.sk-label-container {\n",
       "  text-align: center;\n",
       "}\n",
       "\n",
       "/* Estimator-specific */\n",
       "#sk-container-id-1 div.sk-estimator {\n",
       "  font-family: monospace;\n",
       "  border: 1px dotted var(--sklearn-color-border-box);\n",
       "  border-radius: 0.25em;\n",
       "  box-sizing: border-box;\n",
       "  margin-bottom: 0.5em;\n",
       "  /* unfitted */\n",
       "  background-color: var(--sklearn-color-unfitted-level-0);\n",
       "}\n",
       "\n",
       "#sk-container-id-1 div.sk-estimator.fitted {\n",
       "  /* fitted */\n",
       "  background-color: var(--sklearn-color-fitted-level-0);\n",
       "}\n",
       "\n",
       "/* on hover */\n",
       "#sk-container-id-1 div.sk-estimator:hover {\n",
       "  /* unfitted */\n",
       "  background-color: var(--sklearn-color-unfitted-level-2);\n",
       "}\n",
       "\n",
       "#sk-container-id-1 div.sk-estimator.fitted:hover {\n",
       "  /* fitted */\n",
       "  background-color: var(--sklearn-color-fitted-level-2);\n",
       "}\n",
       "\n",
       "/* Specification for estimator info (e.g. \"i\" and \"?\") */\n",
       "\n",
       "/* Common style for \"i\" and \"?\" */\n",
       "\n",
       ".sk-estimator-doc-link,\n",
       "a:link.sk-estimator-doc-link,\n",
       "a:visited.sk-estimator-doc-link {\n",
       "  float: right;\n",
       "  font-size: smaller;\n",
       "  line-height: 1em;\n",
       "  font-family: monospace;\n",
       "  background-color: var(--sklearn-color-background);\n",
       "  border-radius: 1em;\n",
       "  height: 1em;\n",
       "  width: 1em;\n",
       "  text-decoration: none !important;\n",
       "  margin-left: 1ex;\n",
       "  /* unfitted */\n",
       "  border: var(--sklearn-color-unfitted-level-1) 1pt solid;\n",
       "  color: var(--sklearn-color-unfitted-level-1);\n",
       "}\n",
       "\n",
       ".sk-estimator-doc-link.fitted,\n",
       "a:link.sk-estimator-doc-link.fitted,\n",
       "a:visited.sk-estimator-doc-link.fitted {\n",
       "  /* fitted */\n",
       "  border: var(--sklearn-color-fitted-level-1) 1pt solid;\n",
       "  color: var(--sklearn-color-fitted-level-1);\n",
       "}\n",
       "\n",
       "/* On hover */\n",
       "div.sk-estimator:hover .sk-estimator-doc-link:hover,\n",
       ".sk-estimator-doc-link:hover,\n",
       "div.sk-label-container:hover .sk-estimator-doc-link:hover,\n",
       ".sk-estimator-doc-link:hover {\n",
       "  /* unfitted */\n",
       "  background-color: var(--sklearn-color-unfitted-level-3);\n",
       "  color: var(--sklearn-color-background);\n",
       "  text-decoration: none;\n",
       "}\n",
       "\n",
       "div.sk-estimator.fitted:hover .sk-estimator-doc-link.fitted:hover,\n",
       ".sk-estimator-doc-link.fitted:hover,\n",
       "div.sk-label-container:hover .sk-estimator-doc-link.fitted:hover,\n",
       ".sk-estimator-doc-link.fitted:hover {\n",
       "  /* fitted */\n",
       "  background-color: var(--sklearn-color-fitted-level-3);\n",
       "  color: var(--sklearn-color-background);\n",
       "  text-decoration: none;\n",
       "}\n",
       "\n",
       "/* Span, style for the box shown on hovering the info icon */\n",
       ".sk-estimator-doc-link span {\n",
       "  display: none;\n",
       "  z-index: 9999;\n",
       "  position: relative;\n",
       "  font-weight: normal;\n",
       "  right: .2ex;\n",
       "  padding: .5ex;\n",
       "  margin: .5ex;\n",
       "  width: min-content;\n",
       "  min-width: 20ex;\n",
       "  max-width: 50ex;\n",
       "  color: var(--sklearn-color-text);\n",
       "  box-shadow: 2pt 2pt 4pt #999;\n",
       "  /* unfitted */\n",
       "  background: var(--sklearn-color-unfitted-level-0);\n",
       "  border: .5pt solid var(--sklearn-color-unfitted-level-3);\n",
       "}\n",
       "\n",
       ".sk-estimator-doc-link.fitted span {\n",
       "  /* fitted */\n",
       "  background: var(--sklearn-color-fitted-level-0);\n",
       "  border: var(--sklearn-color-fitted-level-3);\n",
       "}\n",
       "\n",
       ".sk-estimator-doc-link:hover span {\n",
       "  display: block;\n",
       "}\n",
       "\n",
       "/* \"?\"-specific style due to the `<a>` HTML tag */\n",
       "\n",
       "#sk-container-id-1 a.estimator_doc_link {\n",
       "  float: right;\n",
       "  font-size: 1rem;\n",
       "  line-height: 1em;\n",
       "  font-family: monospace;\n",
       "  background-color: var(--sklearn-color-background);\n",
       "  border-radius: 1rem;\n",
       "  height: 1rem;\n",
       "  width: 1rem;\n",
       "  text-decoration: none;\n",
       "  /* unfitted */\n",
       "  color: var(--sklearn-color-unfitted-level-1);\n",
       "  border: var(--sklearn-color-unfitted-level-1) 1pt solid;\n",
       "}\n",
       "\n",
       "#sk-container-id-1 a.estimator_doc_link.fitted {\n",
       "  /* fitted */\n",
       "  border: var(--sklearn-color-fitted-level-1) 1pt solid;\n",
       "  color: var(--sklearn-color-fitted-level-1);\n",
       "}\n",
       "\n",
       "/* On hover */\n",
       "#sk-container-id-1 a.estimator_doc_link:hover {\n",
       "  /* unfitted */\n",
       "  background-color: var(--sklearn-color-unfitted-level-3);\n",
       "  color: var(--sklearn-color-background);\n",
       "  text-decoration: none;\n",
       "}\n",
       "\n",
       "#sk-container-id-1 a.estimator_doc_link.fitted:hover {\n",
       "  /* fitted */\n",
       "  background-color: var(--sklearn-color-fitted-level-3);\n",
       "}\n",
       "</style><div id=\"sk-container-id-1\" class=\"sk-top-container\"><div class=\"sk-text-repr-fallback\"><pre>LogisticRegression(random_state=23)</pre><b>In a Jupyter environment, please rerun this cell to show the HTML representation or trust the notebook. <br />On GitHub, the HTML representation is unable to render, please try loading this page with nbviewer.org.</b></div><div class=\"sk-container\" hidden><div class=\"sk-item\"><div class=\"sk-estimator fitted sk-toggleable\"><input class=\"sk-toggleable__control sk-hidden--visually\" id=\"sk-estimator-id-1\" type=\"checkbox\" checked><label for=\"sk-estimator-id-1\" class=\"sk-toggleable__label fitted sk-toggleable__label-arrow fitted\">&nbsp;&nbsp;LogisticRegression<a class=\"sk-estimator-doc-link fitted\" rel=\"noreferrer\" target=\"_blank\" href=\"https://scikit-learn.org/1.5/modules/generated/sklearn.linear_model.LogisticRegression.html\">?<span>Documentation for LogisticRegression</span></a><span class=\"sk-estimator-doc-link fitted\">i<span>Fitted</span></span></label><div class=\"sk-toggleable__content fitted\"><pre>LogisticRegression(random_state=23)</pre></div> </div></div></div></div>"
      ],
      "text/plain": [
       "LogisticRegression(random_state=23)"
      ]
     },
     "execution_count": 11,
     "metadata": {},
     "output_type": "execute_result"
    }
   ],
   "source": [
    "model = LogisticRegression(random_state=seed)\n",
    "model.fit(X_train, y_train)"
   ]
  },
  {
   "cell_type": "code",
   "execution_count": 12,
   "metadata": {},
   "outputs": [],
   "source": [
    "predictions = model.predict(X_test)"
   ]
  },
  {
   "cell_type": "code",
   "execution_count": 13,
   "metadata": {},
   "outputs": [
    {
     "name": "stdout",
     "output_type": "stream",
     "text": [
      "Metrics for LR_original:\n",
      "Accuracy: 0.6739\n",
      "Weighted F1: 0.6740\n",
      "Weighted Precision: 0.6742\n",
      "Weighted Recall: 0.6739\n",
      "Macro-Averaged Precision: 0.6736\n",
      "Macro-Averaged Recall: 0.6738\n",
      "F1: [0.68224602 0.66507013]\n",
      "Precision: [0.68918033 0.65809072]\n",
      "classification report\n",
      "              precision    recall  f1-score   support\n",
      "\n",
      "     Class 0       0.69      0.68      0.68      1556\n",
      "     Class 1       0.66      0.67      0.67      1446\n",
      "\n",
      "    accuracy                           0.67      3002\n",
      "   macro avg       0.67      0.67      0.67      3002\n",
      "weighted avg       0.67      0.67      0.67      3002\n",
      "\n",
      "Confusion Matrix\n"
     ]
    },
    {
     "data": {
      "image/png": "[encoded data removed]",
      "text/plain": [
       "<Figure size 432x288 with 2 Axes>"
      ]
     },
     "metadata": {
      "needs_background": "light"
     },
     "output_type": "display_data"
    }
   ],
   "source": [
    "model_metrics = calculate_metrics('LR_original', y_test, predictions)"
   ]
  },
  {
   "cell_type": "code",
   "execution_count": 14,
   "metadata": {},
   "outputs": [],
   "source": [
    "# Apar warning-uri ptc nu converge daca max_iter e mic (<100)\n",
    "# Maximu pe care l-am pus e 10k si acolo nu apare niciun warning dar am lasat ca lista\n",
    "# Ptc modelele cele mai bune sunt la la max_iter <500\n",
    "warnings.filterwarnings(action='ignore')"
   ]
  },
  {
   "cell_type": "markdown",
   "metadata": {},
   "source": [
    "## Grid Search with Cross-Validation"
   ]
  },
  {
   "cell_type": "code",
   "execution_count": 15,
   "metadata": {},
   "outputs": [],
   "source": [
    "# Define the hyperparameters to tune\n",
    "param_grid = {\n",
    "    'penalty': ['l1', 'l2'],\n",
    "    'C': [0.001, 0.01, 0.1, 1, 10, 100],\n",
    "    'max_iter': [10, 100, 200, 500, 100, 1000, 5000],\n",
    "    'solver': ['liblinear', 'saga']\n",
    "}\n",
    "\n",
    "# Perform grid search cross-validation\n",
    "grid_search_cv = GridSearchCV(estimator=LogisticRegression(random_state=seed),\n",
    "                               param_grid=param_grid, cv=5, scoring='accuracy')\n",
    "grid_search_cv.fit(X_train, y_train)\n",
    "\n",
    "# Get the best hyperparameters and model\n",
    "best_params_cv = grid_search_cv.best_params_\n",
    "best_model_cv = grid_search_cv.best_estimator_"
   ]
  },
  {
   "cell_type": "markdown",
   "metadata": {},
   "source": [
    "Results of the best model "
   ]
  },
  {
   "cell_type": "code",
   "execution_count": 16,
   "metadata": {},
   "outputs": [
    {
     "name": "stdout",
     "output_type": "stream",
     "text": [
      "Best Hyperparameters: {'C': 0.01, 'max_iter': 10, 'penalty': 'l1', 'solver': 'saga'}\n",
      "Accuracy: 0.6735509660226515\n"
     ]
    }
   ],
   "source": [
    "accuracy_cv = best_model_cv.score(X_test, y_test)\n",
    "\n",
    "print(\"Best Hyperparameters:\", best_params_cv)\n",
    "print(\"Accuracy:\", accuracy_cv)"
   ]
  },
  {
   "cell_type": "markdown",
   "metadata": {},
   "source": [
    "Results of best models Grid Search CV"
   ]
  },
  {
   "cell_type": "code",
   "execution_count": 17,
   "metadata": {},
   "outputs": [
    {
     "name": "stdout",
     "output_type": "stream",
     "text": [
      "                                                params  mean_test_score\n",
      "57   {'C': 0.1, 'max_iter': 10, 'penalty': 'l1', 's...         0.651978\n",
      "115  {'C': 10, 'max_iter': 10, 'penalty': 'l2', 'so...         0.651978\n",
      "143  {'C': 100, 'max_iter': 10, 'penalty': 'l2', 's...         0.651978\n",
      "31   {'C': 0.01, 'max_iter': 10, 'penalty': 'l2', '...         0.651978\n",
      "113  {'C': 10, 'max_iter': 10, 'penalty': 'l1', 'so...         0.651978\n"
     ]
    }
   ],
   "source": [
    "df_cv = pd.DataFrame(grid_search_cv.cv_results_)\n",
    "\n",
    "# Show top parameters for LR with Cross Validation Grid Serach\n",
    "df_results_cv = df_cv[['params', 'mean_test_score']]\n",
    "df_results_cv_sorted = df_results_cv.sort_values(by='mean_test_score', ascending=False)\n",
    "\n",
    "print(df_results_cv_sorted.head(5))"
   ]
  },
  {
   "cell_type": "code",
   "execution_count": 18,
   "metadata": {},
   "outputs": [
    {
     "name": "stdout",
     "output_type": "stream",
     "text": [
      "Metrics for LR_CV1_best:\n",
      "Accuracy: 0.6736\n",
      "Weighted F1: 0.6736\n",
      "Weighted Precision: 0.6739\n",
      "Weighted Recall: 0.6736\n",
      "Macro-Averaged Precision: 0.6733\n",
      "Macro-Averaged Recall: 0.6735\n",
      "F1: [0.68202466 0.66461328]\n",
      "Precision: [0.6887287  0.65785908]\n",
      "classification report\n",
      "              precision    recall  f1-score   support\n",
      "\n",
      "     Class 0       0.69      0.68      0.68      1556\n",
      "     Class 1       0.66      0.67      0.66      1446\n",
      "\n",
      "    accuracy                           0.67      3002\n",
      "   macro avg       0.67      0.67      0.67      3002\n",
      "weighted avg       0.67      0.67      0.67      3002\n",
      "\n",
      "Confusion Matrix\n"
     ]
    },
    {
     "data": {
      "image/png": "[encoded data removed]",
      "text/plain": [
       "<Figure size 432x288 with 2 Axes>"
      ]
     },
     "metadata": {
      "needs_background": "light"
     },
     "output_type": "display_data"
    }
   ],
   "source": [
    "# Use best parameters to make predictions\n",
    "predictions_cv = best_model_cv.predict(X_test)\n",
    "model_metrics = pd.concat([model_metrics, calculate_metrics('LR_CV1_best', y_test, predictions_cv)])"
   ]
  },
  {
   "cell_type": "markdown",
   "metadata": {},
   "source": [
    "## Grid Search Stratified K Fold Validation"
   ]
  },
  {
   "cell_type": "code",
   "execution_count": 19,
   "metadata": {},
   "outputs": [
    {
     "name": "stdout",
     "output_type": "stream",
     "text": [
      "Best Hyperparameters with Stratified K-Fold: {'C': 0.001, 'max_iter': 100, 'penalty': 'l1', 'solver': 'saga'}\n",
      "Accuracy with Stratified K-Fold: 0.673217854763491\n"
     ]
    }
   ],
   "source": [
    "from sklearn.model_selection import StratifiedKFold\n",
    "\n",
    "skf = StratifiedKFold(n_splits=5, shuffle=True, random_state=seed)\n",
    "\n",
    "grid_search_skf = GridSearchCV(estimator=LogisticRegression(random_state=seed), \n",
    "                           param_grid=param_grid, cv=skf, scoring='accuracy')\n",
    "grid_search_skf.fit(X_train, y_train)\n",
    "\n",
    "# Get the best hyperparameters and model\n",
    "best_params_skf = grid_search_skf.best_params_\n",
    "best_model_skf = grid_search_skf.best_estimator_\n",
    "\n",
    "# Evaluate the best model on the test set\n",
    "accuracy = best_model_skf.score(X_test, y_test)\n",
    "\n",
    "print(\"Best Hyperparameters with Stratified K-Fold:\", best_params_skf)\n",
    "print(\"Accuracy with Stratified K-Fold:\", accuracy)\n"
   ]
  },
  {
   "cell_type": "markdown",
   "metadata": {},
   "source": [
    "Results of the best model "
   ]
  },
  {
   "cell_type": "code",
   "execution_count": 20,
   "metadata": {},
   "outputs": [
    {
     "name": "stdout",
     "output_type": "stream",
     "text": [
      "Best Hyperparameters: {'C': 0.001, 'max_iter': 100, 'penalty': 'l1', 'solver': 'saga'}\n",
      "Accuracy: 0.673217854763491\n"
     ]
    }
   ],
   "source": [
    "accuracy_skf = best_model_skf.score(X_test, y_test)\n",
    "\n",
    "print(\"Best Hyperparameters:\", best_params_skf)\n",
    "print(\"Accuracy:\", accuracy_skf)"
   ]
  },
  {
   "cell_type": "markdown",
   "metadata": {},
   "source": [
    "Results of best models Grid Search CV"
   ]
  },
  {
   "cell_type": "code",
   "execution_count": 21,
   "metadata": {},
   "outputs": [
    {
     "name": "stdout",
     "output_type": "stream",
     "text": [
      "                                               params  mean_test_score\n",
      "25  {'C': 0.001, 'max_iter': 5000, 'penalty': 'l1'...         0.651479\n",
      "5   {'C': 0.001, 'max_iter': 100, 'penalty': 'l1',...         0.651479\n",
      "21  {'C': 0.001, 'max_iter': 1000, 'penalty': 'l1'...         0.651479\n",
      "17  {'C': 0.001, 'max_iter': 100, 'penalty': 'l1',...         0.651479\n",
      "9   {'C': 0.001, 'max_iter': 200, 'penalty': 'l1',...         0.651479\n"
     ]
    }
   ],
   "source": [
    "df_skf = pd.DataFrame(grid_search_skf.cv_results_)\n",
    "\n",
    "# Show top parameters for LR with Cross Validation Grid Serach\n",
    "df_results_skf = df_skf[['params', 'mean_test_score']]\n",
    "df_results_skf_sorted = df_results_skf.sort_values(by='mean_test_score', ascending=False)\n",
    "\n",
    "print(df_results_skf_sorted.head(5))"
   ]
  },
  {
   "cell_type": "code",
   "execution_count": 22,
   "metadata": {},
   "outputs": [
    {
     "name": "stdout",
     "output_type": "stream",
     "text": [
      "Metrics for LR_skf_best:\n",
      "Accuracy: 0.6732\n",
      "Weighted F1: 0.6733\n",
      "Weighted Precision: 0.6735\n",
      "Weighted Recall: 0.6732\n",
      "Macro-Averaged Precision: 0.6730\n",
      "Macro-Averaged Recall: 0.6731\n",
      "F1: [0.68180344 0.66415611]\n",
      "Precision: [0.68827767 0.65762712]\n",
      "classification report\n",
      "              precision    recall  f1-score   support\n",
      "\n",
      "     Class 0       0.69      0.68      0.68      1556\n",
      "     Class 1       0.66      0.67      0.66      1446\n",
      "\n",
      "    accuracy                           0.67      3002\n",
      "   macro avg       0.67      0.67      0.67      3002\n",
      "weighted avg       0.67      0.67      0.67      3002\n",
      "\n",
      "Confusion Matrix\n"
     ]
    },
    {
     "data": {
      "image/png": "[encoded data removed]",
      "text/plain": [
       "<Figure size 432x288 with 2 Axes>"
      ]
     },
     "metadata": {
      "needs_background": "light"
     },
     "output_type": "display_data"
    }
   ],
   "source": [
    "# Use best parameters to make predictions\n",
    "predictions_skf = best_model_skf.predict(X_test)\n",
    "model_metrics = pd.concat([model_metrics, calculate_metrics('LR_skf_best', y_test, predictions_skf)])"
   ]
  },
  {
   "cell_type": "markdown",
   "metadata": {},
   "source": [
    "Next maybe add elastic search as penalty? only works with saga solver"
   ]
  },
  {
   "cell_type": "markdown",
   "metadata": {},
   "source": [
    "# Tune with Optuna"
   ]
  },
  {
   "cell_type": "code",
   "execution_count": 23,
   "metadata": {},
   "outputs": [],
   "source": [
    "def objective(trial):\n",
    "    # Define the hyperparameters to optimize\n",
    "    penalty = trial.suggest_categorical('penalty', ['l1', 'l2'])\n",
    "    C = trial.suggest_loguniform('C', 0.01, 10.0)\n",
    "    max_iter = trial.suggest_int('max_iter', 100, 1000)\n",
    "    solver= trial.suggest_categorical('solver', ['liblinear', 'saga'])\n",
    "    \n",
    "    # Create the logistic regression model with the hyperparameters\n",
    "    model = LogisticRegression(penalty=penalty, C=C, max_iter=max_iter,\n",
    "     solver=solver, random_state=seed)\n",
    "    \n",
    "    # Train the model\n",
    "    model.fit(X_train, y_train)\n",
    "    \n",
    "    # Make predictions on the test set\n",
    "    y_pred = model.predict(X_test)\n",
    "    \n",
    "    # Calculate the accuracy score\n",
    "    accuracy = accuracy_score(y_test, y_pred)\n",
    "    #score_cross_val = cross_val_score(model, X_train, y_train, cv=5, scoring='precision')\n",
    "\n",
    "    \n",
    "    return accuracy"
   ]
  },
  {
   "cell_type": "code",
   "execution_count": 24,
   "metadata": {},
   "outputs": [
    {
     "name": "stderr",
     "output_type": "stream",
     "text": [
      "[I 2024-06-08 00:27:54,145] A new study created in memory with name: no-name-12e251f4-7de6-4efe-84e7-3bc4a2b1410c\n",
      "[I 2024-06-08 00:27:54,200] Trial 0 finished with value: 0.6738840772818121 and parameters: {'penalty': 'l2', 'C': 1.978696921972353, 'max_iter': 354, 'solver': 'saga'}. Best is trial 0 with value: 0.6738840772818121.\n",
      "[I 2024-06-08 00:27:54,235] Trial 1 finished with value: 0.6738840772818121 and parameters: {'penalty': 'l2', 'C': 0.7147547361025183, 'max_iter': 471, 'solver': 'saga'}. Best is trial 0 with value: 0.6738840772818121.\n",
      "[I 2024-06-08 00:27:54,260] Trial 2 finished with value: 0.6735509660226515 and parameters: {'penalty': 'l1', 'C': 0.5871453092844537, 'max_iter': 981, 'solver': 'liblinear'}. Best is trial 0 with value: 0.6738840772818121.\n",
      "[I 2024-06-08 00:27:54,276] Trial 3 finished with value: 0.6738840772818121 and parameters: {'penalty': 'l1', 'C': 2.9335873033004263, 'max_iter': 664, 'solver': 'liblinear'}. Best is trial 0 with value: 0.6738840772818121.\n",
      "[I 2024-06-08 00:27:54,294] Trial 4 finished with value: 0.673217854763491 and parameters: {'penalty': 'l1', 'C': 0.18398803387733306, 'max_iter': 412, 'solver': 'liblinear'}. Best is trial 0 with value: 0.6738840772818121.\n",
      "[I 2024-06-08 00:27:54,313] Trial 5 finished with value: 0.6715522984676882 and parameters: {'penalty': 'l1', 'C': 0.022786629058688158, 'max_iter': 637, 'solver': 'liblinear'}. Best is trial 0 with value: 0.6738840772818121.\n",
      "[I 2024-06-08 00:27:54,336] Trial 6 finished with value: 0.6738840772818121 and parameters: {'penalty': 'l1', 'C': 0.030622273921242567, 'max_iter': 593, 'solver': 'saga'}. Best is trial 0 with value: 0.6738840772818121.\n",
      "[I 2024-06-08 00:27:54,347] Trial 7 finished with value: 0.6715522984676882 and parameters: {'penalty': 'l1', 'C': 0.03425640620186102, 'max_iter': 316, 'solver': 'liblinear'}. Best is trial 0 with value: 0.6738840772818121.\n",
      "[I 2024-06-08 00:27:54,364] Trial 8 finished with value: 0.6738840772818121 and parameters: {'penalty': 'l2', 'C': 5.067649602789281, 'max_iter': 555, 'solver': 'saga'}. Best is trial 0 with value: 0.6738840772818121.\n",
      "[I 2024-06-08 00:27:54,383] Trial 9 finished with value: 0.6738840772818121 and parameters: {'penalty': 'l1', 'C': 0.2496254032440533, 'max_iter': 891, 'solver': 'saga'}. Best is trial 0 with value: 0.6738840772818121.\n",
      "[I 2024-06-08 00:27:54,405] Trial 10 finished with value: 0.6738840772818121 and parameters: {'penalty': 'l1', 'C': 5.613363497593624, 'max_iter': 311, 'solver': 'saga'}. Best is trial 0 with value: 0.6738840772818121.\n",
      "[I 2024-06-08 00:27:54,421] Trial 11 finished with value: 0.6738840772818121 and parameters: {'penalty': 'l2', 'C': 8.270910880018777, 'max_iter': 315, 'solver': 'saga'}. Best is trial 0 with value: 0.6738840772818121.\n",
      "[I 2024-06-08 00:27:54,430] Trial 12 finished with value: 0.6715522984676882 and parameters: {'penalty': 'l1', 'C': 0.020142347424642024, 'max_iter': 661, 'solver': 'liblinear'}. Best is trial 0 with value: 0.6738840772818121.\n",
      "[I 2024-06-08 00:27:54,450] Trial 13 finished with value: 0.6738840772818121 and parameters: {'penalty': 'l2', 'C': 2.487714984224427, 'max_iter': 446, 'solver': 'saga'}. Best is trial 0 with value: 0.6738840772818121.\n",
      "[I 2024-06-08 00:27:54,461] Trial 14 finished with value: 0.673217854763491 and parameters: {'penalty': 'l1', 'C': 0.3240442511266919, 'max_iter': 214, 'solver': 'liblinear'}. Best is trial 0 with value: 0.6738840772818121.\n",
      "[I 2024-06-08 00:27:54,471] Trial 15 finished with value: 0.6715522984676882 and parameters: {'penalty': 'l1', 'C': 0.016725442423100204, 'max_iter': 642, 'solver': 'liblinear'}. Best is trial 0 with value: 0.6738840772818121.\n",
      "[I 2024-06-08 00:27:54,480] Trial 16 finished with value: 0.6738840772818121 and parameters: {'penalty': 'l2', 'C': 4.313179830047696, 'max_iter': 490, 'solver': 'liblinear'}. Best is trial 0 with value: 0.6738840772818121.\n",
      "[I 2024-06-08 00:27:54,505] Trial 17 finished with value: 0.6738840772818121 and parameters: {'penalty': 'l2', 'C': 0.01035320399341193, 'max_iter': 216, 'solver': 'saga'}. Best is trial 0 with value: 0.6738840772818121.\n",
      "[I 2024-06-08 00:27:54,515] Trial 18 finished with value: 0.6738840772818121 and parameters: {'penalty': 'l2', 'C': 0.6556855070061354, 'max_iter': 968, 'solver': 'liblinear'}. Best is trial 0 with value: 0.6738840772818121.\n",
      "[I 2024-06-08 00:27:54,527] Trial 19 finished with value: 0.6738840772818121 and parameters: {'penalty': 'l1', 'C': 7.305724553412326, 'max_iter': 906, 'solver': 'liblinear'}. Best is trial 0 with value: 0.6738840772818121.\n",
      "[I 2024-06-08 00:27:54,544] Trial 20 finished with value: 0.6738840772818121 and parameters: {'penalty': 'l1', 'C': 0.7615483811595624, 'max_iter': 457, 'solver': 'saga'}. Best is trial 0 with value: 0.6738840772818121.\n",
      "[I 2024-06-08 00:27:54,554] Trial 21 finished with value: 0.6718854097268487 and parameters: {'penalty': 'l1', 'C': 0.07180273843352494, 'max_iter': 405, 'solver': 'liblinear'}. Best is trial 0 with value: 0.6738840772818121.\n",
      "[I 2024-06-08 00:27:54,570] Trial 22 finished with value: 0.6738840772818121 and parameters: {'penalty': 'l2', 'C': 0.019527870791270083, 'max_iter': 121, 'solver': 'saga'}. Best is trial 0 with value: 0.6738840772818121.\n",
      "[I 2024-06-08 00:27:54,587] Trial 23 finished with value: 0.6738840772818121 and parameters: {'penalty': 'l1', 'C': 0.023283147487063578, 'max_iter': 999, 'solver': 'saga'}. Best is trial 0 with value: 0.6738840772818121.\n",
      "[I 2024-06-08 00:27:54,606] Trial 24 finished with value: 0.6738840772818121 and parameters: {'penalty': 'l1', 'C': 0.03594005624665695, 'max_iter': 803, 'solver': 'saga'}. Best is trial 0 with value: 0.6738840772818121.\n",
      "[I 2024-06-08 00:27:54,622] Trial 25 finished with value: 0.6738840772818121 and parameters: {'penalty': 'l1', 'C': 2.41622803522965, 'max_iter': 935, 'solver': 'saga'}. Best is trial 0 with value: 0.6738840772818121.\n",
      "[I 2024-06-08 00:27:54,639] Trial 26 finished with value: 0.6738840772818121 and parameters: {'penalty': 'l2', 'C': 0.45103185164166876, 'max_iter': 500, 'solver': 'saga'}. Best is trial 0 with value: 0.6738840772818121.\n",
      "[I 2024-06-08 00:27:54,656] Trial 27 finished with value: 0.6738840772818121 and parameters: {'penalty': 'l1', 'C': 0.02642168055417163, 'max_iter': 861, 'solver': 'saga'}. Best is trial 0 with value: 0.6738840772818121.\n",
      "[I 2024-06-08 00:27:54,673] Trial 28 finished with value: 0.6735509660226515 and parameters: {'penalty': 'l1', 'C': 0.014136994498500545, 'max_iter': 337, 'solver': 'saga'}. Best is trial 0 with value: 0.6738840772818121.\n",
      "[I 2024-06-08 00:27:54,690] Trial 29 finished with value: 0.6738840772818121 and parameters: {'penalty': 'l2', 'C': 0.7107624591083601, 'max_iter': 801, 'solver': 'saga'}. Best is trial 0 with value: 0.6738840772818121.\n",
      "[I 2024-06-08 00:27:54,702] Trial 30 finished with value: 0.6738840772818121 and parameters: {'penalty': 'l1', 'C': 7.729731502348729, 'max_iter': 788, 'solver': 'liblinear'}. Best is trial 0 with value: 0.6738840772818121.\n",
      "[I 2024-06-08 00:27:54,723] Trial 31 finished with value: 0.6738840772818121 and parameters: {'penalty': 'l2', 'C': 0.6535232131933079, 'max_iter': 295, 'solver': 'saga'}. Best is trial 0 with value: 0.6738840772818121.\n",
      "[I 2024-06-08 00:27:54,734] Trial 32 finished with value: 0.6738840772818121 and parameters: {'penalty': 'l1', 'C': 7.23974467462096, 'max_iter': 533, 'solver': 'liblinear'}. Best is trial 0 with value: 0.6738840772818121.\n",
      "[I 2024-06-08 00:27:54,756] Trial 33 finished with value: 0.6735509660226515 and parameters: {'penalty': 'l1', 'C': 0.015975627089929178, 'max_iter': 749, 'solver': 'saga'}. Best is trial 0 with value: 0.6738840772818121.\n",
      "[I 2024-06-08 00:27:54,767] Trial 34 finished with value: 0.6725516322451699 and parameters: {'penalty': 'l1', 'C': 0.08667715312463047, 'max_iter': 640, 'solver': 'liblinear'}. Best is trial 0 with value: 0.6738840772818121.\n",
      "[I 2024-06-08 00:27:54,781] Trial 35 finished with value: 0.6715522984676882 and parameters: {'penalty': 'l1', 'C': 0.017494363997301608, 'max_iter': 382, 'solver': 'liblinear'}. Best is trial 0 with value: 0.6738840772818121.\n",
      "[I 2024-06-08 00:27:54,804] Trial 36 finished with value: 0.6738840772818121 and parameters: {'penalty': 'l1', 'C': 0.10738333440901057, 'max_iter': 522, 'solver': 'saga'}. Best is trial 0 with value: 0.6738840772818121.\n",
      "[I 2024-06-08 00:27:54,816] Trial 37 finished with value: 0.6738840772818121 and parameters: {'penalty': 'l2', 'C': 0.897499624082285, 'max_iter': 886, 'solver': 'liblinear'}. Best is trial 0 with value: 0.6738840772818121.\n",
      "[I 2024-06-08 00:27:54,838] Trial 38 finished with value: 0.6738840772818121 and parameters: {'penalty': 'l2', 'C': 8.52108809242522, 'max_iter': 366, 'solver': 'saga'}. Best is trial 0 with value: 0.6738840772818121.\n",
      "[I 2024-06-08 00:27:54,865] Trial 39 finished with value: 0.6738840772818121 and parameters: {'penalty': 'l2', 'C': 0.012313380069145318, 'max_iter': 910, 'solver': 'saga'}. Best is trial 0 with value: 0.6738840772818121.\n",
      "[I 2024-06-08 00:27:54,887] Trial 40 finished with value: 0.6738840772818121 and parameters: {'penalty': 'l2', 'C': 0.2655605073199314, 'max_iter': 372, 'solver': 'saga'}. Best is trial 0 with value: 0.6738840772818121.\n",
      "[I 2024-06-08 00:27:54,900] Trial 41 finished with value: 0.6735509660226515 and parameters: {'penalty': 'l1', 'C': 0.7194327583159087, 'max_iter': 675, 'solver': 'liblinear'}. Best is trial 0 with value: 0.6738840772818121.\n",
      "[I 2024-06-08 00:27:54,922] Trial 42 finished with value: 0.6738840772818121 and parameters: {'penalty': 'l2', 'C': 0.5900814795237284, 'max_iter': 718, 'solver': 'saga'}. Best is trial 0 with value: 0.6738840772818121.\n",
      "[I 2024-06-08 00:27:54,942] Trial 43 finished with value: 0.6738840772818121 and parameters: {'penalty': 'l1', 'C': 0.022146324495353406, 'max_iter': 189, 'solver': 'saga'}. Best is trial 0 with value: 0.6738840772818121.\n",
      "[I 2024-06-08 00:27:54,959] Trial 44 finished with value: 0.6738840772818121 and parameters: {'penalty': 'l1', 'C': 0.13388604654839945, 'max_iter': 311, 'solver': 'saga'}. Best is trial 0 with value: 0.6738840772818121.\n",
      "[I 2024-06-08 00:27:54,977] Trial 45 finished with value: 0.6738840772818121 and parameters: {'penalty': 'l1', 'C': 6.305596304990532, 'max_iter': 537, 'solver': 'saga'}. Best is trial 0 with value: 0.6738840772818121.\n",
      "[I 2024-06-08 00:27:54,994] Trial 46 finished with value: 0.6738840772818121 and parameters: {'penalty': 'l1', 'C': 7.348861914638498, 'max_iter': 409, 'solver': 'saga'}. Best is trial 0 with value: 0.6738840772818121.\n",
      "[I 2024-06-08 00:27:55,010] Trial 47 finished with value: 0.6738840772818121 and parameters: {'penalty': 'l2', 'C': 0.9118726704613901, 'max_iter': 403, 'solver': 'saga'}. Best is trial 0 with value: 0.6738840772818121.\n",
      "[I 2024-06-08 00:27:55,021] Trial 48 finished with value: 0.6735509660226515 and parameters: {'penalty': 'l1', 'C': 0.6914945579286461, 'max_iter': 138, 'solver': 'liblinear'}. Best is trial 0 with value: 0.6738840772818121.\n",
      "[I 2024-06-08 00:27:55,039] Trial 49 finished with value: 0.6738840772818121 and parameters: {'penalty': 'l2', 'C': 1.4074822362781039, 'max_iter': 848, 'solver': 'saga'}. Best is trial 0 with value: 0.6738840772818121.\n",
      "[I 2024-06-08 00:27:55,058] Trial 50 finished with value: 0.6738840772818121 and parameters: {'penalty': 'l1', 'C': 0.02720066288766469, 'max_iter': 265, 'solver': 'saga'}. Best is trial 0 with value: 0.6738840772818121.\n",
      "[I 2024-06-08 00:27:55,076] Trial 51 finished with value: 0.6735509660226515 and parameters: {'penalty': 'l1', 'C': 0.012032769971240549, 'max_iter': 179, 'solver': 'saga'}. Best is trial 0 with value: 0.6738840772818121.\n",
      "[I 2024-06-08 00:27:55,092] Trial 52 finished with value: 0.6738840772818121 and parameters: {'penalty': 'l1', 'C': 0.02137629523741644, 'max_iter': 530, 'solver': 'saga'}. Best is trial 0 with value: 0.6738840772818121.\n",
      "[I 2024-06-08 00:27:55,109] Trial 53 finished with value: 0.6738840772818121 and parameters: {'penalty': 'l1', 'C': 0.1780954403469097, 'max_iter': 498, 'solver': 'saga'}. Best is trial 0 with value: 0.6738840772818121.\n",
      "[I 2024-06-08 00:27:55,121] Trial 54 finished with value: 0.673217854763491 and parameters: {'penalty': 'l1', 'C': 0.4013636602280528, 'max_iter': 420, 'solver': 'liblinear'}. Best is trial 0 with value: 0.6738840772818121.\n",
      "[I 2024-06-08 00:27:55,131] Trial 55 finished with value: 0.6715522984676882 and parameters: {'penalty': 'l1', 'C': 0.014073468815611707, 'max_iter': 510, 'solver': 'liblinear'}. Best is trial 0 with value: 0.6738840772818121.\n",
      "[I 2024-06-08 00:27:55,144] Trial 56 finished with value: 0.6715522984676882 and parameters: {'penalty': 'l1', 'C': 0.01402486216774064, 'max_iter': 177, 'solver': 'liblinear'}. Best is trial 0 with value: 0.6738840772818121.\n",
      "[I 2024-06-08 00:27:55,158] Trial 57 finished with value: 0.6715522984676882 and parameters: {'penalty': 'l1', 'C': 0.02286750227364291, 'max_iter': 456, 'solver': 'liblinear'}. Best is trial 0 with value: 0.6738840772818121.\n",
      "[I 2024-06-08 00:27:55,174] Trial 58 finished with value: 0.6738840772818121 and parameters: {'penalty': 'l2', 'C': 4.824358783007409, 'max_iter': 982, 'solver': 'saga'}. Best is trial 0 with value: 0.6738840772818121.\n",
      "[I 2024-06-08 00:27:55,185] Trial 59 finished with value: 0.6738840772818121 and parameters: {'penalty': 'l2', 'C': 0.11169219545985529, 'max_iter': 297, 'solver': 'liblinear'}. Best is trial 0 with value: 0.6738840772818121.\n",
      "[I 2024-06-08 00:27:55,198] Trial 60 finished with value: 0.6738840772818121 and parameters: {'penalty': 'l2', 'C': 0.2927010912336367, 'max_iter': 710, 'solver': 'liblinear'}. Best is trial 0 with value: 0.6738840772818121.\n",
      "[I 2024-06-08 00:27:55,220] Trial 61 finished with value: 0.6738840772818121 and parameters: {'penalty': 'l2', 'C': 0.04277229803475929, 'max_iter': 671, 'solver': 'saga'}. Best is trial 0 with value: 0.6738840772818121.\n",
      "[I 2024-06-08 00:27:55,232] Trial 62 finished with value: 0.6738840772818121 and parameters: {'penalty': 'l2', 'C': 0.507123662445956, 'max_iter': 252, 'solver': 'liblinear'}. Best is trial 0 with value: 0.6738840772818121.\n",
      "[I 2024-06-08 00:27:55,255] Trial 63 finished with value: 0.6738840772818121 and parameters: {'penalty': 'l1', 'C': 0.160647333794055, 'max_iter': 582, 'solver': 'saga'}. Best is trial 0 with value: 0.6738840772818121.\n",
      "[I 2024-06-08 00:27:55,265] Trial 64 finished with value: 0.673217854763491 and parameters: {'penalty': 'l1', 'C': 0.16428641490203766, 'max_iter': 527, 'solver': 'liblinear'}. Best is trial 0 with value: 0.6738840772818121.\n",
      "[I 2024-06-08 00:27:55,280] Trial 65 finished with value: 0.6738840772818121 and parameters: {'penalty': 'l2', 'C': 0.06566271040532483, 'max_iter': 519, 'solver': 'liblinear'}. Best is trial 0 with value: 0.6738840772818121.\n",
      "[I 2024-06-08 00:27:55,295] Trial 66 finished with value: 0.6738840772818121 and parameters: {'penalty': 'l1', 'C': 9.363637716926826, 'max_iter': 501, 'solver': 'liblinear'}. Best is trial 0 with value: 0.6738840772818121.\n",
      "[I 2024-06-08 00:27:55,315] Trial 67 finished with value: 0.6738840772818121 and parameters: {'penalty': 'l1', 'C': 0.1382320920240548, 'max_iter': 305, 'solver': 'saga'}. Best is trial 0 with value: 0.6738840772818121.\n",
      "[I 2024-06-08 00:27:55,339] Trial 68 finished with value: 0.6738840772818121 and parameters: {'penalty': 'l1', 'C': 0.7609887668309826, 'max_iter': 545, 'solver': 'saga'}. Best is trial 0 with value: 0.6738840772818121.\n",
      "[I 2024-06-08 00:27:55,358] Trial 69 finished with value: 0.6735509660226515 and parameters: {'penalty': 'l1', 'C': 0.018470397235606395, 'max_iter': 383, 'solver': 'saga'}. Best is trial 0 with value: 0.6738840772818121.\n",
      "[I 2024-06-08 00:27:55,375] Trial 70 finished with value: 0.6738840772818121 and parameters: {'penalty': 'l1', 'C': 0.8196477474599286, 'max_iter': 681, 'solver': 'saga'}. Best is trial 0 with value: 0.6738840772818121.\n",
      "[I 2024-06-08 00:27:55,391] Trial 71 finished with value: 0.6738840772818121 and parameters: {'penalty': 'l2', 'C': 6.62135117846047, 'max_iter': 384, 'solver': 'saga'}. Best is trial 0 with value: 0.6738840772818121.\n",
      "[I 2024-06-08 00:27:55,403] Trial 72 finished with value: 0.6712191872085277 and parameters: {'penalty': 'l1', 'C': 0.011625733609137401, 'max_iter': 511, 'solver': 'liblinear'}. Best is trial 0 with value: 0.6738840772818121.\n",
      "[I 2024-06-08 00:27:55,423] Trial 73 finished with value: 0.6738840772818121 and parameters: {'penalty': 'l1', 'C': 0.1550235236888625, 'max_iter': 261, 'solver': 'saga'}. Best is trial 0 with value: 0.6738840772818121.\n",
      "[I 2024-06-08 00:27:55,441] Trial 74 finished with value: 0.6738840772818121 and parameters: {'penalty': 'l1', 'C': 0.04825277795261175, 'max_iter': 756, 'solver': 'saga'}. Best is trial 0 with value: 0.6738840772818121.\n",
      "[I 2024-06-08 00:27:55,452] Trial 75 finished with value: 0.6738840772818121 and parameters: {'penalty': 'l2', 'C': 2.6019378622062317, 'max_iter': 872, 'solver': 'liblinear'}. Best is trial 0 with value: 0.6738840772818121.\n",
      "[I 2024-06-08 00:27:55,463] Trial 76 finished with value: 0.6715522984676882 and parameters: {'penalty': 'l1', 'C': 0.019619429034729765, 'max_iter': 562, 'solver': 'liblinear'}. Best is trial 0 with value: 0.6738840772818121.\n",
      "[I 2024-06-08 00:27:55,477] Trial 77 finished with value: 0.6735509660226515 and parameters: {'penalty': 'l1', 'C': 0.5116190172324526, 'max_iter': 793, 'solver': 'liblinear'}. Best is trial 0 with value: 0.6738840772818121.\n",
      "[I 2024-06-08 00:27:55,493] Trial 78 finished with value: 0.6738840772818121 and parameters: {'penalty': 'l1', 'C': 0.037440064937739055, 'max_iter': 752, 'solver': 'saga'}. Best is trial 0 with value: 0.6738840772818121.\n",
      "[I 2024-06-08 00:27:55,505] Trial 79 finished with value: 0.6738840772818121 and parameters: {'penalty': 'l2', 'C': 0.08770998019776095, 'max_iter': 767, 'solver': 'liblinear'}. Best is trial 0 with value: 0.6738840772818121.\n",
      "[I 2024-06-08 00:27:55,515] Trial 80 finished with value: 0.6738840772818121 and parameters: {'penalty': 'l2', 'C': 2.625058921674975, 'max_iter': 143, 'solver': 'liblinear'}. Best is trial 0 with value: 0.6738840772818121.\n",
      "[I 2024-06-08 00:27:55,529] Trial 81 finished with value: 0.6738840772818121 and parameters: {'penalty': 'l1', 'C': 3.4246179739932647, 'max_iter': 301, 'solver': 'liblinear'}. Best is trial 0 with value: 0.6738840772818121.\n",
      "[I 2024-06-08 00:27:55,542] Trial 82 finished with value: 0.6738840772818121 and parameters: {'penalty': 'l2', 'C': 2.4267965274899312, 'max_iter': 107, 'solver': 'liblinear'}. Best is trial 0 with value: 0.6738840772818121.\n",
      "[I 2024-06-08 00:27:55,554] Trial 83 finished with value: 0.6738840772818121 and parameters: {'penalty': 'l1', 'C': 4.343377793250722, 'max_iter': 730, 'solver': 'liblinear'}. Best is trial 0 with value: 0.6738840772818121.\n",
      "[I 2024-06-08 00:27:55,572] Trial 84 finished with value: 0.6738840772818121 and parameters: {'penalty': 'l2', 'C': 0.09449383077328626, 'max_iter': 327, 'solver': 'saga'}. Best is trial 0 with value: 0.6738840772818121.\n",
      "[I 2024-06-08 00:27:55,591] Trial 85 finished with value: 0.6738840772818121 and parameters: {'penalty': 'l1', 'C': 0.028003530764018625, 'max_iter': 465, 'solver': 'saga'}. Best is trial 0 with value: 0.6738840772818121.\n",
      "[I 2024-06-08 00:27:55,608] Trial 86 finished with value: 0.6738840772818121 and parameters: {'penalty': 'l1', 'C': 0.07045654344536163, 'max_iter': 484, 'solver': 'saga'}. Best is trial 0 with value: 0.6738840772818121.\n",
      "[I 2024-06-08 00:27:55,625] Trial 87 finished with value: 0.6735509660226515 and parameters: {'penalty': 'l1', 'C': 0.012404769455793309, 'max_iter': 548, 'solver': 'saga'}. Best is trial 0 with value: 0.6738840772818121.\n",
      "[I 2024-06-08 00:27:55,636] Trial 88 finished with value: 0.6738840772818121 and parameters: {'penalty': 'l2', 'C': 1.2184098366579121, 'max_iter': 810, 'solver': 'liblinear'}. Best is trial 0 with value: 0.6738840772818121.\n",
      "[I 2024-06-08 00:27:55,647] Trial 89 finished with value: 0.6735509660226515 and parameters: {'penalty': 'l1', 'C': 0.8751313316001039, 'max_iter': 270, 'solver': 'liblinear'}. Best is trial 0 with value: 0.6738840772818121.\n",
      "[I 2024-06-08 00:27:55,660] Trial 90 finished with value: 0.6738840772818121 and parameters: {'penalty': 'l2', 'C': 6.53872709038488, 'max_iter': 442, 'solver': 'liblinear'}. Best is trial 0 with value: 0.6738840772818121.\n",
      "[I 2024-06-08 00:27:55,685] Trial 91 finished with value: 0.6738840772818121 and parameters: {'penalty': 'l2', 'C': 0.010633554724178065, 'max_iter': 619, 'solver': 'saga'}. Best is trial 0 with value: 0.6738840772818121.\n",
      "[I 2024-06-08 00:27:55,696] Trial 92 finished with value: 0.6738840772818121 and parameters: {'penalty': 'l1', 'C': 2.484325040028493, 'max_iter': 533, 'solver': 'liblinear'}. Best is trial 0 with value: 0.6738840772818121.\n",
      "[I 2024-06-08 00:27:55,709] Trial 93 finished with value: 0.6738840772818121 and parameters: {'penalty': 'l2', 'C': 3.3323996420526054, 'max_iter': 513, 'solver': 'liblinear'}. Best is trial 0 with value: 0.6738840772818121.\n",
      "[I 2024-06-08 00:27:55,725] Trial 94 finished with value: 0.6738840772818121 and parameters: {'penalty': 'l2', 'C': 0.06059210912132856, 'max_iter': 925, 'solver': 'saga'}. Best is trial 0 with value: 0.6738840772818121.\n",
      "[I 2024-06-08 00:27:55,741] Trial 95 finished with value: 0.6738840772818121 and parameters: {'penalty': 'l2', 'C': 4.547970013708444, 'max_iter': 291, 'solver': 'saga'}. Best is trial 0 with value: 0.6738840772818121.\n",
      "[I 2024-06-08 00:27:55,759] Trial 96 finished with value: 0.6738840772818121 and parameters: {'penalty': 'l1', 'C': 7.679733969285893, 'max_iter': 194, 'solver': 'saga'}. Best is trial 0 with value: 0.6738840772818121.\n",
      "[I 2024-06-08 00:27:55,771] Trial 97 finished with value: 0.6738840772818121 and parameters: {'penalty': 'l2', 'C': 0.32189709041888726, 'max_iter': 935, 'solver': 'liblinear'}. Best is trial 0 with value: 0.6738840772818121.\n",
      "[I 2024-06-08 00:27:55,782] Trial 98 finished with value: 0.6738840772818121 and parameters: {'penalty': 'l2', 'C': 0.2716018664757433, 'max_iter': 248, 'solver': 'liblinear'}. Best is trial 0 with value: 0.6738840772818121.\n",
      "[I 2024-06-08 00:27:55,804] Trial 99 finished with value: 0.6738840772818121 and parameters: {'penalty': 'l2', 'C': 0.1567892260270225, 'max_iter': 211, 'solver': 'saga'}. Best is trial 0 with value: 0.6738840772818121.\n",
      "[I 2024-06-08 00:27:55,823] Trial 100 finished with value: 0.6738840772818121 and parameters: {'penalty': 'l2', 'C': 0.24216801795707713, 'max_iter': 307, 'solver': 'saga'}. Best is trial 0 with value: 0.6738840772818121.\n",
      "[I 2024-06-08 00:27:55,832] Trial 101 finished with value: 0.6712191872085277 and parameters: {'penalty': 'l1', 'C': 0.010719523061562876, 'max_iter': 407, 'solver': 'liblinear'}. Best is trial 0 with value: 0.6738840772818121.\n",
      "[I 2024-06-08 00:27:55,847] Trial 102 finished with value: 0.6738840772818121 and parameters: {'penalty': 'l1', 'C': 4.113770080292592, 'max_iter': 633, 'solver': 'liblinear'}. Best is trial 0 with value: 0.6738840772818121.\n",
      "[I 2024-06-08 00:27:55,867] Trial 103 finished with value: 0.6738840772818121 and parameters: {'penalty': 'l2', 'C': 0.4588590014404327, 'max_iter': 347, 'solver': 'saga'}. Best is trial 0 with value: 0.6738840772818121.\n",
      "[I 2024-06-08 00:27:55,890] Trial 104 finished with value: 0.6738840772818121 and parameters: {'penalty': 'l1', 'C': 0.10710863250732765, 'max_iter': 193, 'solver': 'saga'}. Best is trial 0 with value: 0.6738840772818121.\n",
      "[I 2024-06-08 00:27:55,906] Trial 105 finished with value: 0.6738840772818121 and parameters: {'penalty': 'l2', 'C': 0.17914999526019226, 'max_iter': 491, 'solver': 'saga'}. Best is trial 0 with value: 0.6738840772818121.\n",
      "[I 2024-06-08 00:27:55,915] Trial 106 finished with value: 0.6715522984676882 and parameters: {'penalty': 'l1', 'C': 0.023543419823539486, 'max_iter': 406, 'solver': 'liblinear'}. Best is trial 0 with value: 0.6738840772818121.\n",
      "[I 2024-06-08 00:27:55,928] Trial 107 finished with value: 0.6738840772818121 and parameters: {'penalty': 'l2', 'C': 9.503363044784564, 'max_iter': 999, 'solver': 'liblinear'}. Best is trial 0 with value: 0.6738840772818121.\n",
      "[I 2024-06-08 00:27:55,942] Trial 108 finished with value: 0.6715522984676882 and parameters: {'penalty': 'l1', 'C': 0.032161195128812416, 'max_iter': 601, 'solver': 'liblinear'}. Best is trial 0 with value: 0.6738840772818121.\n",
      "[I 2024-06-08 00:27:55,953] Trial 109 finished with value: 0.6738840772818121 and parameters: {'penalty': 'l2', 'C': 0.030447265733971263, 'max_iter': 546, 'solver': 'liblinear'}. Best is trial 0 with value: 0.6738840772818121.\n",
      "[I 2024-06-08 00:27:55,972] Trial 110 finished with value: 0.6735509660226515 and parameters: {'penalty': 'l1', 'C': 0.01710832393798724, 'max_iter': 177, 'solver': 'saga'}. Best is trial 0 with value: 0.6738840772818121.\n",
      "[I 2024-06-08 00:27:55,989] Trial 111 finished with value: 0.6738840772818121 and parameters: {'penalty': 'l2', 'C': 0.04418892942627004, 'max_iter': 951, 'solver': 'saga'}. Best is trial 0 with value: 0.6738840772818121.\n",
      "[I 2024-06-08 00:27:56,047] Trial 112 finished with value: 0.6738840772818121 and parameters: {'penalty': 'l1', 'C': 3.6066493900282923, 'max_iter': 416, 'solver': 'saga'}. Best is trial 0 with value: 0.6738840772818121.\n",
      "[I 2024-06-08 00:27:56,082] Trial 113 finished with value: 0.6738840772818121 and parameters: {'penalty': 'l2', 'C': 0.06408776041778638, 'max_iter': 408, 'solver': 'liblinear'}. Best is trial 0 with value: 0.6738840772818121.\n",
      "[I 2024-06-08 00:27:56,114] Trial 114 finished with value: 0.6735509660226515 and parameters: {'penalty': 'l1', 'C': 0.8367852800880448, 'max_iter': 678, 'solver': 'liblinear'}. Best is trial 0 with value: 0.6738840772818121.\n",
      "[I 2024-06-08 00:27:56,145] Trial 115 finished with value: 0.6738840772818121 and parameters: {'penalty': 'l1', 'C': 0.1340402204245466, 'max_iter': 346, 'solver': 'saga'}. Best is trial 0 with value: 0.6738840772818121.\n",
      "[I 2024-06-08 00:27:56,182] Trial 116 finished with value: 0.6738840772818121 and parameters: {'penalty': 'l2', 'C': 0.013513345363822152, 'max_iter': 468, 'solver': 'saga'}. Best is trial 0 with value: 0.6738840772818121.\n",
      "[I 2024-06-08 00:27:56,196] Trial 117 finished with value: 0.6735509660226515 and parameters: {'penalty': 'l1', 'C': 0.22362723746871446, 'max_iter': 168, 'solver': 'liblinear'}. Best is trial 0 with value: 0.6738840772818121.\n",
      "[I 2024-06-08 00:27:56,215] Trial 118 finished with value: 0.6738840772818121 and parameters: {'penalty': 'l1', 'C': 0.8048275772815652, 'max_iter': 795, 'solver': 'saga'}. Best is trial 0 with value: 0.6738840772818121.\n",
      "[I 2024-06-08 00:27:56,227] Trial 119 finished with value: 0.6715522984676882 and parameters: {'penalty': 'l1', 'C': 0.04319432508279183, 'max_iter': 242, 'solver': 'liblinear'}. Best is trial 0 with value: 0.6738840772818121.\n",
      "[I 2024-06-08 00:27:56,238] Trial 120 finished with value: 0.6738840772818121 and parameters: {'penalty': 'l2', 'C': 0.5661300875256327, 'max_iter': 786, 'solver': 'liblinear'}. Best is trial 0 with value: 0.6738840772818121.\n",
      "[I 2024-06-08 00:27:56,255] Trial 121 finished with value: 0.6738840772818121 and parameters: {'penalty': 'l2', 'C': 3.3381179800589327, 'max_iter': 157, 'solver': 'saga'}. Best is trial 0 with value: 0.6738840772818121.\n",
      "[I 2024-06-08 00:27:56,265] Trial 122 finished with value: 0.6738840772818121 and parameters: {'penalty': 'l2', 'C': 0.01814898632317917, 'max_iter': 294, 'solver': 'liblinear'}. Best is trial 0 with value: 0.6738840772818121.\n",
      "[I 2024-06-08 00:27:56,277] Trial 123 finished with value: 0.6715522984676882 and parameters: {'penalty': 'l1', 'C': 0.01622977607749056, 'max_iter': 665, 'solver': 'liblinear'}. Best is trial 0 with value: 0.6738840772818121.\n",
      "[I 2024-06-08 00:27:56,289] Trial 124 finished with value: 0.673217854763491 and parameters: {'penalty': 'l1', 'C': 0.3355993439527287, 'max_iter': 278, 'solver': 'liblinear'}. Best is trial 0 with value: 0.6738840772818121.\n",
      "[I 2024-06-08 00:27:56,306] Trial 125 finished with value: 0.6738840772818121 and parameters: {'penalty': 'l2', 'C': 0.1055046365383603, 'max_iter': 164, 'solver': 'saga'}. Best is trial 0 with value: 0.6738840772818121.\n",
      "[I 2024-06-08 00:27:56,315] Trial 126 finished with value: 0.6738840772818121 and parameters: {'penalty': 'l2', 'C': 0.3911432839894509, 'max_iter': 195, 'solver': 'liblinear'}. Best is trial 0 with value: 0.6738840772818121.\n",
      "[I 2024-06-08 00:27:56,337] Trial 127 finished with value: 0.6738840772818121 and parameters: {'penalty': 'l2', 'C': 0.02150458112009587, 'max_iter': 525, 'solver': 'saga'}. Best is trial 0 with value: 0.6738840772818121.\n",
      "[I 2024-06-08 00:27:56,355] Trial 128 finished with value: 0.6738840772818121 and parameters: {'penalty': 'l2', 'C': 0.7045593486636776, 'max_iter': 153, 'solver': 'saga'}. Best is trial 0 with value: 0.6738840772818121.\n",
      "[I 2024-06-08 00:27:56,365] Trial 129 finished with value: 0.6738840772818121 and parameters: {'penalty': 'l2', 'C': 0.05051448616390107, 'max_iter': 648, 'solver': 'liblinear'}. Best is trial 0 with value: 0.6738840772818121.\n",
      "[I 2024-06-08 00:27:56,379] Trial 130 finished with value: 0.6735509660226515 and parameters: {'penalty': 'l1', 'C': 0.45658696088123707, 'max_iter': 533, 'solver': 'liblinear'}. Best is trial 0 with value: 0.6738840772818121.\n",
      "[I 2024-06-08 00:27:56,396] Trial 131 finished with value: 0.6738840772818121 and parameters: {'penalty': 'l2', 'C': 0.09379894918925637, 'max_iter': 934, 'solver': 'saga'}. Best is trial 0 with value: 0.6738840772818121.\n",
      "[I 2024-06-08 00:27:56,409] Trial 132 finished with value: 0.6738840772818121 and parameters: {'penalty': 'l2', 'C': 1.1864264633694679, 'max_iter': 237, 'solver': 'liblinear'}. Best is trial 0 with value: 0.6738840772818121.\n",
      "[I 2024-06-08 00:27:56,420] Trial 133 finished with value: 0.6738840772818121 and parameters: {'penalty': 'l2', 'C': 0.028534777087763762, 'max_iter': 988, 'solver': 'liblinear'}. Best is trial 0 with value: 0.6738840772818121.\n",
      "[I 2024-06-08 00:27:56,430] Trial 134 finished with value: 0.6738840772818121 and parameters: {'penalty': 'l2', 'C': 0.5626786250159912, 'max_iter': 217, 'solver': 'liblinear'}. Best is trial 0 with value: 0.6738840772818121.\n",
      "[I 2024-06-08 00:27:56,443] Trial 135 finished with value: 0.6738840772818121 and parameters: {'penalty': 'l1', 'C': 3.8458773219426696, 'max_iter': 133, 'solver': 'liblinear'}. Best is trial 0 with value: 0.6738840772818121.\n",
      "[I 2024-06-08 00:27:56,454] Trial 136 finished with value: 0.6712191872085277 and parameters: {'penalty': 'l1', 'C': 0.01255556569435987, 'max_iter': 827, 'solver': 'liblinear'}. Best is trial 0 with value: 0.6738840772818121.\n",
      "[I 2024-06-08 00:27:56,463] Trial 137 finished with value: 0.673217854763491 and parameters: {'penalty': 'l1', 'C': 0.15048015178109325, 'max_iter': 671, 'solver': 'liblinear'}. Best is trial 0 with value: 0.6738840772818121.\n",
      "[I 2024-06-08 00:27:56,481] Trial 138 finished with value: 0.6738840772818121 and parameters: {'penalty': 'l2', 'C': 0.5761014588218291, 'max_iter': 643, 'solver': 'saga'}. Best is trial 0 with value: 0.6738840772818121.\n",
      "[I 2024-06-08 00:27:56,494] Trial 139 finished with value: 0.6738840772818121 and parameters: {'penalty': 'l2', 'C': 0.1605530540282818, 'max_iter': 690, 'solver': 'liblinear'}. Best is trial 0 with value: 0.6738840772818121.\n",
      "[I 2024-06-08 00:27:56,505] Trial 140 finished with value: 0.6738840772818121 and parameters: {'penalty': 'l2', 'C': 3.4761490810204365, 'max_iter': 503, 'solver': 'liblinear'}. Best is trial 0 with value: 0.6738840772818121.\n",
      "[I 2024-06-08 00:27:56,522] Trial 141 finished with value: 0.6738840772818121 and parameters: {'penalty': 'l1', 'C': 2.8328795071681525, 'max_iter': 857, 'solver': 'saga'}. Best is trial 0 with value: 0.6738840772818121.\n",
      "[I 2024-06-08 00:27:56,531] Trial 142 finished with value: 0.6738840772818121 and parameters: {'penalty': 'l1', 'C': 3.2642533823486786, 'max_iter': 339, 'solver': 'liblinear'}. Best is trial 0 with value: 0.6738840772818121.\n",
      "[I 2024-06-08 00:27:56,553] Trial 143 finished with value: 0.6738840772818121 and parameters: {'penalty': 'l1', 'C': 3.6147948186243792, 'max_iter': 342, 'solver': 'saga'}. Best is trial 0 with value: 0.6738840772818121.\n",
      "[I 2024-06-08 00:27:56,570] Trial 144 finished with value: 0.6738840772818121 and parameters: {'penalty': 'l2', 'C': 0.5581000855177064, 'max_iter': 987, 'solver': 'saga'}. Best is trial 0 with value: 0.6738840772818121.\n",
      "[I 2024-06-08 00:27:56,580] Trial 145 finished with value: 0.6715522984676882 and parameters: {'penalty': 'l1', 'C': 0.015937454723838992, 'max_iter': 297, 'solver': 'liblinear'}. Best is trial 0 with value: 0.6738840772818121.\n",
      "[I 2024-06-08 00:27:56,592] Trial 146 finished with value: 0.6738840772818121 and parameters: {'penalty': 'l2', 'C': 0.2858343201602987, 'max_iter': 146, 'solver': 'liblinear'}. Best is trial 0 with value: 0.6738840772818121.\n",
      "[I 2024-06-08 00:27:56,608] Trial 147 finished with value: 0.6738840772818121 and parameters: {'penalty': 'l2', 'C': 0.42590588154860654, 'max_iter': 373, 'solver': 'saga'}. Best is trial 0 with value: 0.6738840772818121.\n",
      "[I 2024-06-08 00:27:56,623] Trial 148 finished with value: 0.6738840772818121 and parameters: {'penalty': 'l2', 'C': 8.38176904936794, 'max_iter': 219, 'solver': 'saga'}. Best is trial 0 with value: 0.6738840772818121.\n",
      "[I 2024-06-08 00:27:56,640] Trial 149 finished with value: 0.6738840772818121 and parameters: {'penalty': 'l2', 'C': 0.1265620746042377, 'max_iter': 939, 'solver': 'saga'}. Best is trial 0 with value: 0.6738840772818121.\n",
      "[I 2024-06-08 00:27:56,649] Trial 150 finished with value: 0.6738840772818121 and parameters: {'penalty': 'l1', 'C': 1.514803962662444, 'max_iter': 518, 'solver': 'liblinear'}. Best is trial 0 with value: 0.6738840772818121.\n",
      "[I 2024-06-08 00:27:56,661] Trial 151 finished with value: 0.6715522984676882 and parameters: {'penalty': 'l1', 'C': 0.023454158653051307, 'max_iter': 620, 'solver': 'liblinear'}. Best is trial 0 with value: 0.6738840772818121.\n",
      "[I 2024-06-08 00:27:56,678] Trial 152 finished with value: 0.6738840772818121 and parameters: {'penalty': 'l1', 'C': 1.065373030496576, 'max_iter': 963, 'solver': 'saga'}. Best is trial 0 with value: 0.6738840772818121.\n",
      "[I 2024-06-08 00:27:56,690] Trial 153 finished with value: 0.6738840772818121 and parameters: {'penalty': 'l2', 'C': 1.4658524113174358, 'max_iter': 699, 'solver': 'liblinear'}. Best is trial 0 with value: 0.6738840772818121.\n",
      "[I 2024-06-08 00:27:56,699] Trial 154 finished with value: 0.6738840772818121 and parameters: {'penalty': 'l1', 'C': 3.1662543141065584, 'max_iter': 902, 'solver': 'liblinear'}. Best is trial 0 with value: 0.6738840772818121.\n",
      "[I 2024-06-08 00:27:56,719] Trial 155 finished with value: 0.6738840772818121 and parameters: {'penalty': 'l2', 'C': 2.1309549371203467, 'max_iter': 515, 'solver': 'saga'}. Best is trial 0 with value: 0.6738840772818121.\n",
      "[I 2024-06-08 00:27:56,739] Trial 156 finished with value: 0.6738840772818121 and parameters: {'penalty': 'l1', 'C': 1.1749178764646, 'max_iter': 768, 'solver': 'saga'}. Best is trial 0 with value: 0.6738840772818121.\n",
      "[I 2024-06-08 00:27:56,756] Trial 157 finished with value: 0.6738840772818121 and parameters: {'penalty': 'l1', 'C': 0.08788948403482796, 'max_iter': 490, 'solver': 'saga'}. Best is trial 0 with value: 0.6738840772818121.\n",
      "[I 2024-06-08 00:27:56,765] Trial 158 finished with value: 0.6735509660226515 and parameters: {'penalty': 'l1', 'C': 0.5865011567299384, 'max_iter': 176, 'solver': 'liblinear'}. Best is trial 0 with value: 0.6738840772818121.\n",
      "[I 2024-06-08 00:27:56,776] Trial 159 finished with value: 0.6735509660226515 and parameters: {'penalty': 'l1', 'C': 0.8157109699225752, 'max_iter': 884, 'solver': 'liblinear'}. Best is trial 0 with value: 0.6738840772818121.\n",
      "[I 2024-06-08 00:27:56,793] Trial 160 finished with value: 0.6738840772818121 and parameters: {'penalty': 'l1', 'C': 1.3988159822083082, 'max_iter': 636, 'solver': 'saga'}. Best is trial 0 with value: 0.6738840772818121.\n",
      "[I 2024-06-08 00:27:56,804] Trial 161 finished with value: 0.6738840772818121 and parameters: {'penalty': 'l1', 'C': 9.100395198201442, 'max_iter': 925, 'solver': 'liblinear'}. Best is trial 0 with value: 0.6738840772818121.\n",
      "[I 2024-06-08 00:27:56,821] Trial 162 finished with value: 0.6738840772818121 and parameters: {'penalty': 'l2', 'C': 2.371987901894069, 'max_iter': 817, 'solver': 'saga'}. Best is trial 0 with value: 0.6738840772818121.\n",
      "[I 2024-06-08 00:27:56,830] Trial 163 finished with value: 0.6715522984676882 and parameters: {'penalty': 'l1', 'C': 0.06772465718340923, 'max_iter': 724, 'solver': 'liblinear'}. Best is trial 0 with value: 0.6738840772818121.\n",
      "[I 2024-06-08 00:27:56,844] Trial 164 finished with value: 0.6738840772818121 and parameters: {'penalty': 'l2', 'C': 0.027643783457538054, 'max_iter': 517, 'solver': 'liblinear'}. Best is trial 0 with value: 0.6738840772818121.\n",
      "[I 2024-06-08 00:27:56,857] Trial 165 finished with value: 0.6718854097268487 and parameters: {'penalty': 'l1', 'C': 0.07931698456694951, 'max_iter': 381, 'solver': 'liblinear'}. Best is trial 0 with value: 0.6738840772818121.\n",
      "[I 2024-06-08 00:27:56,866] Trial 166 finished with value: 0.6738840772818121 and parameters: {'penalty': 'l2', 'C': 0.06865463322025443, 'max_iter': 668, 'solver': 'liblinear'}. Best is trial 0 with value: 0.6738840772818121.\n",
      "[I 2024-06-08 00:27:56,878] Trial 167 finished with value: 0.6738840772818121 and parameters: {'penalty': 'l2', 'C': 7.232727518623565, 'max_iter': 735, 'solver': 'liblinear'}. Best is trial 0 with value: 0.6738840772818121.\n",
      "[I 2024-06-08 00:27:56,890] Trial 168 finished with value: 0.6738840772818121 and parameters: {'penalty': 'l2', 'C': 0.8821425852044329, 'max_iter': 281, 'solver': 'liblinear'}. Best is trial 0 with value: 0.6738840772818121.\n",
      "[I 2024-06-08 00:27:56,899] Trial 169 finished with value: 0.6715522984676882 and parameters: {'penalty': 'l1', 'C': 0.060205492355472054, 'max_iter': 397, 'solver': 'liblinear'}. Best is trial 0 with value: 0.6738840772818121.\n",
      "[I 2024-06-08 00:27:56,911] Trial 170 finished with value: 0.6718854097268487 and parameters: {'penalty': 'l1', 'C': 0.07723931950697714, 'max_iter': 873, 'solver': 'liblinear'}. Best is trial 0 with value: 0.6738840772818121.\n",
      "[I 2024-06-08 00:27:56,923] Trial 171 finished with value: 0.6738840772818121 and parameters: {'penalty': 'l2', 'C': 0.08879822158262446, 'max_iter': 499, 'solver': 'liblinear'}. Best is trial 0 with value: 0.6738840772818121.\n",
      "[I 2024-06-08 00:27:56,934] Trial 172 finished with value: 0.6735509660226515 and parameters: {'penalty': 'l2', 'C': 0.010134215338029441, 'max_iter': 615, 'solver': 'liblinear'}. Best is trial 0 with value: 0.6738840772818121.\n",
      "[I 2024-06-08 00:27:56,954] Trial 173 finished with value: 0.6738840772818121 and parameters: {'penalty': 'l1', 'C': 0.07429284993668595, 'max_iter': 533, 'solver': 'saga'}. Best is trial 0 with value: 0.6738840772818121.\n",
      "[I 2024-06-08 00:27:56,964] Trial 174 finished with value: 0.6718854097268487 and parameters: {'penalty': 'l1', 'C': 0.07836818939004365, 'max_iter': 498, 'solver': 'liblinear'}. Best is trial 0 with value: 0.6738840772818121.\n",
      "[I 2024-06-08 00:27:56,976] Trial 175 finished with value: 0.6738840772818121 and parameters: {'penalty': 'l1', 'C': 4.732574177511548, 'max_iter': 518, 'solver': 'liblinear'}. Best is trial 0 with value: 0.6738840772818121.\n",
      "[I 2024-06-08 00:27:56,992] Trial 176 finished with value: 0.6738840772818121 and parameters: {'penalty': 'l1', 'C': 0.6613252201817359, 'max_iter': 151, 'solver': 'saga'}. Best is trial 0 with value: 0.6738840772818121.\n",
      "[I 2024-06-08 00:27:57,008] Trial 177 finished with value: 0.6735509660226515 and parameters: {'penalty': 'l1', 'C': 0.010196202087229395, 'max_iter': 849, 'solver': 'saga'}. Best is trial 0 with value: 0.6738840772818121.\n",
      "[I 2024-06-08 00:27:57,026] Trial 178 finished with value: 0.6738840772818121 and parameters: {'penalty': 'l1', 'C': 9.439981254820681, 'max_iter': 136, 'solver': 'saga'}. Best is trial 0 with value: 0.6738840772818121.\n",
      "[I 2024-06-08 00:27:57,048] Trial 179 finished with value: 0.6738840772818121 and parameters: {'penalty': 'l2', 'C': 0.01027005055530255, 'max_iter': 263, 'solver': 'saga'}. Best is trial 0 with value: 0.6738840772818121.\n",
      "[I 2024-06-08 00:27:57,067] Trial 180 finished with value: 0.6738840772818121 and parameters: {'penalty': 'l2', 'C': 0.192968015205417, 'max_iter': 960, 'solver': 'saga'}. Best is trial 0 with value: 0.6738840772818121.\n",
      "[I 2024-06-08 00:27:57,087] Trial 181 finished with value: 0.6738840772818121 and parameters: {'penalty': 'l1', 'C': 6.612363362982121, 'max_iter': 621, 'solver': 'saga'}. Best is trial 0 with value: 0.6738840772818121.\n",
      "[I 2024-06-08 00:27:57,097] Trial 182 finished with value: 0.6738840772818121 and parameters: {'penalty': 'l2', 'C': 0.017193210605788788, 'max_iter': 184, 'solver': 'liblinear'}. Best is trial 0 with value: 0.6738840772818121.\n",
      "[I 2024-06-08 00:27:57,118] Trial 183 finished with value: 0.6738840772818121 and parameters: {'penalty': 'l1', 'C': 1.9592487877054943, 'max_iter': 365, 'solver': 'saga'}. Best is trial 0 with value: 0.6738840772818121.\n",
      "[I 2024-06-08 00:27:57,136] Trial 184 finished with value: 0.6738840772818121 and parameters: {'penalty': 'l2', 'C': 0.08376188024813663, 'max_iter': 197, 'solver': 'saga'}. Best is trial 0 with value: 0.6738840772818121.\n",
      "[I 2024-06-08 00:27:57,147] Trial 185 finished with value: 0.6738840772818121 and parameters: {'penalty': 'l2', 'C': 0.013313456146033015, 'max_iter': 964, 'solver': 'liblinear'}. Best is trial 0 with value: 0.6738840772818121.\n",
      "[I 2024-06-08 00:27:57,160] Trial 186 finished with value: 0.6738840772818121 and parameters: {'penalty': 'l2', 'C': 0.035315836587124984, 'max_iter': 394, 'solver': 'liblinear'}. Best is trial 0 with value: 0.6738840772818121.\n",
      "[I 2024-06-08 00:27:57,175] Trial 187 finished with value: 0.6738840772818121 and parameters: {'penalty': 'l2', 'C': 2.128916894622956, 'max_iter': 641, 'solver': 'saga'}. Best is trial 0 with value: 0.6738840772818121.\n",
      "[I 2024-06-08 00:27:57,190] Trial 188 finished with value: 0.6738840772818121 and parameters: {'penalty': 'l2', 'C': 3.0914502736264127, 'max_iter': 524, 'solver': 'saga'}. Best is trial 0 with value: 0.6738840772818121.\n",
      "[I 2024-06-08 00:27:57,201] Trial 189 finished with value: 0.6738840772818121 and parameters: {'penalty': 'l1', 'C': 4.67636319903576, 'max_iter': 280, 'solver': 'liblinear'}. Best is trial 0 with value: 0.6738840772818121.\n",
      "[I 2024-06-08 00:27:57,212] Trial 190 finished with value: 0.6738840772818121 and parameters: {'penalty': 'l1', 'C': 1.4521410708874114, 'max_iter': 433, 'solver': 'liblinear'}. Best is trial 0 with value: 0.6738840772818121.\n",
      "[I 2024-06-08 00:27:57,223] Trial 191 finished with value: 0.6738840772818121 and parameters: {'penalty': 'l2', 'C': 0.264376854239444, 'max_iter': 973, 'solver': 'liblinear'}. Best is trial 0 with value: 0.6738840772818121.\n",
      "[I 2024-06-08 00:27:57,240] Trial 192 finished with value: 0.6738840772818121 and parameters: {'penalty': 'l1', 'C': 0.034468490615851, 'max_iter': 725, 'solver': 'saga'}. Best is trial 0 with value: 0.6738840772818121.\n",
      "[I 2024-06-08 00:27:57,249] Trial 193 finished with value: 0.6738840772818121 and parameters: {'penalty': 'l2', 'C': 0.5196208822194063, 'max_iter': 430, 'solver': 'liblinear'}. Best is trial 0 with value: 0.6738840772818121.\n",
      "[I 2024-06-08 00:27:57,261] Trial 194 finished with value: 0.6738840772818121 and parameters: {'penalty': 'l2', 'C': 0.020271523756867773, 'max_iter': 557, 'solver': 'liblinear'}. Best is trial 0 with value: 0.6738840772818121.\n",
      "[I 2024-06-08 00:27:57,277] Trial 195 finished with value: 0.6738840772818121 and parameters: {'penalty': 'l2', 'C': 0.0744301669502829, 'max_iter': 682, 'solver': 'saga'}. Best is trial 0 with value: 0.6738840772818121.\n",
      "[I 2024-06-08 00:27:57,293] Trial 196 finished with value: 0.6738840772818121 and parameters: {'penalty': 'l2', 'C': 0.3889777862508648, 'max_iter': 228, 'solver': 'saga'}. Best is trial 0 with value: 0.6738840772818121.\n",
      "[I 2024-06-08 00:27:57,305] Trial 197 finished with value: 0.6738840772818121 and parameters: {'penalty': 'l2', 'C': 0.12914771572057868, 'max_iter': 937, 'solver': 'liblinear'}. Best is trial 0 with value: 0.6738840772818121.\n",
      "[I 2024-06-08 00:27:57,314] Trial 198 finished with value: 0.6738840772818121 and parameters: {'penalty': 'l1', 'C': 4.246499925677047, 'max_iter': 273, 'solver': 'liblinear'}. Best is trial 0 with value: 0.6738840772818121.\n",
      "[I 2024-06-08 00:27:57,326] Trial 199 finished with value: 0.6715522984676882 and parameters: {'penalty': 'l1', 'C': 0.04682391430633818, 'max_iter': 547, 'solver': 'liblinear'}. Best is trial 0 with value: 0.6738840772818121.\n"
     ]
    },
    {
     "name": "stdout",
     "output_type": "stream",
     "text": [
      "Best Hyperparameters: {'penalty': 'l2', 'C': 1.978696921972353, 'max_iter': 354, 'solver': 'saga'}\n",
      "Best Accuracy: 0.6738840772818121\n"
     ]
    }
   ],
   "source": [
    "# Create a study object and optimize the objective function\n",
    "study = optuna.create_study(direction='maximize', sampler=optuna.samplers.RandomSampler(seed=seed))\n",
    "study.optimize(objective, n_trials=200)\n",
    "\n",
    "# Get the best hyperparameters and accuracy score\n",
    "best_params = study.best_params\n",
    "best_accuracy = study.best_value\n",
    "\n",
    "print(\"Best Hyperparameters:\", best_params)\n",
    "print(\"Best Accuracy:\", best_accuracy)"
   ]
  },
  {
   "cell_type": "code",
   "execution_count": 25,
   "metadata": {},
   "outputs": [
    {
     "data": {
      "text/html": [
       "<div>\n",
       "<style scoped>\n",
       "    .dataframe tbody tr th:only-of-type {\n",
       "        vertical-align: middle;\n",
       "    }\n",
       "\n",
       "    .dataframe tbody tr th {\n",
       "        vertical-align: top;\n",
       "    }\n",
       "\n",
       "    .dataframe thead th {\n",
       "        text-align: right;\n",
       "    }\n",
       "</style>\n",
       "<table border=\"1\" class=\"dataframe\">\n",
       "  <thead>\n",
       "    <tr style=\"text-align: right;\">\n",
       "      <th></th>\n",
       "      <th>number</th>\n",
       "      <th>value</th>\n",
       "      <th>datetime_start</th>\n",
       "      <th>datetime_complete</th>\n",
       "      <th>duration</th>\n",
       "      <th>params_C</th>\n",
       "      <th>params_max_iter</th>\n",
       "      <th>params_penalty</th>\n",
       "      <th>params_solver</th>\n",
       "      <th>state</th>\n",
       "    </tr>\n",
       "  </thead>\n",
       "  <tbody>\n",
       "    <tr>\n",
       "      <th>0</th>\n",
       "      <td>0</td>\n",
       "      <td>0.673884</td>\n",
       "      <td>2024-06-08 00:27:54.146573</td>\n",
       "      <td>2024-06-08 00:27:54.199572</td>\n",
       "      <td>0 days 00:00:00.052999</td>\n",
       "      <td>1.978697</td>\n",
       "      <td>354</td>\n",
       "      <td>l2</td>\n",
       "      <td>saga</td>\n",
       "      <td>COMPLETE</td>\n",
       "    </tr>\n",
       "    <tr>\n",
       "      <th>88</th>\n",
       "      <td>88</td>\n",
       "      <td>0.673884</td>\n",
       "      <td>2024-06-08 00:27:55.625603</td>\n",
       "      <td>2024-06-08 00:27:55.636568</td>\n",
       "      <td>0 days 00:00:00.010965</td>\n",
       "      <td>1.218410</td>\n",
       "      <td>810</td>\n",
       "      <td>l2</td>\n",
       "      <td>liblinear</td>\n",
       "      <td>COMPLETE</td>\n",
       "    </tr>\n",
       "    <tr>\n",
       "      <th>120</th>\n",
       "      <td>120</td>\n",
       "      <td>0.673884</td>\n",
       "      <td>2024-06-08 00:27:56.228603</td>\n",
       "      <td>2024-06-08 00:27:56.238623</td>\n",
       "      <td>0 days 00:00:00.010020</td>\n",
       "      <td>0.566130</td>\n",
       "      <td>786</td>\n",
       "      <td>l2</td>\n",
       "      <td>liblinear</td>\n",
       "      <td>COMPLETE</td>\n",
       "    </tr>\n",
       "    <tr>\n",
       "      <th>121</th>\n",
       "      <td>121</td>\n",
       "      <td>0.673884</td>\n",
       "      <td>2024-06-08 00:27:56.239607</td>\n",
       "      <td>2024-06-08 00:27:56.255621</td>\n",
       "      <td>0 days 00:00:00.016014</td>\n",
       "      <td>3.338118</td>\n",
       "      <td>157</td>\n",
       "      <td>l2</td>\n",
       "      <td>saga</td>\n",
       "      <td>COMPLETE</td>\n",
       "    </tr>\n",
       "    <tr>\n",
       "      <th>122</th>\n",
       "      <td>122</td>\n",
       "      <td>0.673884</td>\n",
       "      <td>2024-06-08 00:27:56.256610</td>\n",
       "      <td>2024-06-08 00:27:56.265592</td>\n",
       "      <td>0 days 00:00:00.008982</td>\n",
       "      <td>0.018149</td>\n",
       "      <td>294</td>\n",
       "      <td>l2</td>\n",
       "      <td>liblinear</td>\n",
       "      <td>COMPLETE</td>\n",
       "    </tr>\n",
       "    <tr>\n",
       "      <th>125</th>\n",
       "      <td>125</td>\n",
       "      <td>0.673884</td>\n",
       "      <td>2024-06-08 00:27:56.289622</td>\n",
       "      <td>2024-06-08 00:27:56.305609</td>\n",
       "      <td>0 days 00:00:00.015987</td>\n",
       "      <td>0.105505</td>\n",
       "      <td>164</td>\n",
       "      <td>l2</td>\n",
       "      <td>saga</td>\n",
       "      <td>COMPLETE</td>\n",
       "    </tr>\n",
       "    <tr>\n",
       "      <th>126</th>\n",
       "      <td>126</td>\n",
       "      <td>0.673884</td>\n",
       "      <td>2024-06-08 00:27:56.307634</td>\n",
       "      <td>2024-06-08 00:27:56.315602</td>\n",
       "      <td>0 days 00:00:00.007968</td>\n",
       "      <td>0.391143</td>\n",
       "      <td>195</td>\n",
       "      <td>l2</td>\n",
       "      <td>liblinear</td>\n",
       "      <td>COMPLETE</td>\n",
       "    </tr>\n",
       "    <tr>\n",
       "      <th>127</th>\n",
       "      <td>127</td>\n",
       "      <td>0.673884</td>\n",
       "      <td>2024-06-08 00:27:56.317613</td>\n",
       "      <td>2024-06-08 00:27:56.337615</td>\n",
       "      <td>0 days 00:00:00.020002</td>\n",
       "      <td>0.021505</td>\n",
       "      <td>525</td>\n",
       "      <td>l2</td>\n",
       "      <td>saga</td>\n",
       "      <td>COMPLETE</td>\n",
       "    </tr>\n",
       "    <tr>\n",
       "      <th>128</th>\n",
       "      <td>128</td>\n",
       "      <td>0.673884</td>\n",
       "      <td>2024-06-08 00:27:56.339605</td>\n",
       "      <td>2024-06-08 00:27:56.355575</td>\n",
       "      <td>0 days 00:00:00.015970</td>\n",
       "      <td>0.704559</td>\n",
       "      <td>153</td>\n",
       "      <td>l2</td>\n",
       "      <td>saga</td>\n",
       "      <td>COMPLETE</td>\n",
       "    </tr>\n",
       "    <tr>\n",
       "      <th>129</th>\n",
       "      <td>129</td>\n",
       "      <td>0.673884</td>\n",
       "      <td>2024-06-08 00:27:56.356570</td>\n",
       "      <td>2024-06-08 00:27:56.365602</td>\n",
       "      <td>0 days 00:00:00.009032</td>\n",
       "      <td>0.050514</td>\n",
       "      <td>648</td>\n",
       "      <td>l2</td>\n",
       "      <td>liblinear</td>\n",
       "      <td>COMPLETE</td>\n",
       "    </tr>\n",
       "  </tbody>\n",
       "</table>\n",
       "</div>"
      ],
      "text/plain": [
       "     number     value             datetime_start          datetime_complete  \\\n",
       "0         0  0.673884 2024-06-08 00:27:54.146573 2024-06-08 00:27:54.199572   \n",
       "88       88  0.673884 2024-06-08 00:27:55.625603 2024-06-08 00:27:55.636568   \n",
       "120     120  0.673884 2024-06-08 00:27:56.228603 2024-06-08 00:27:56.238623   \n",
       "121     121  0.673884 2024-06-08 00:27:56.239607 2024-06-08 00:27:56.255621   \n",
       "122     122  0.673884 2024-06-08 00:27:56.256610 2024-06-08 00:27:56.265592   \n",
       "125     125  0.673884 2024-06-08 00:27:56.289622 2024-06-08 00:27:56.305609   \n",
       "126     126  0.673884 2024-06-08 00:27:56.307634 2024-06-08 00:27:56.315602   \n",
       "127     127  0.673884 2024-06-08 00:27:56.317613 2024-06-08 00:27:56.337615   \n",
       "128     128  0.673884 2024-06-08 00:27:56.339605 2024-06-08 00:27:56.355575   \n",
       "129     129  0.673884 2024-06-08 00:27:56.356570 2024-06-08 00:27:56.365602   \n",
       "\n",
       "                  duration  params_C  params_max_iter params_penalty  \\\n",
       "0   0 days 00:00:00.052999  1.978697              354             l2   \n",
       "88  0 days 00:00:00.010965  1.218410              810             l2   \n",
       "120 0 days 00:00:00.010020  0.566130              786             l2   \n",
       "121 0 days 00:00:00.016014  3.338118              157             l2   \n",
       "122 0 days 00:00:00.008982  0.018149              294             l2   \n",
       "125 0 days 00:00:00.015987  0.105505              164             l2   \n",
       "126 0 days 00:00:00.007968  0.391143              195             l2   \n",
       "127 0 days 00:00:00.020002  0.021505              525             l2   \n",
       "128 0 days 00:00:00.015970  0.704559              153             l2   \n",
       "129 0 days 00:00:00.009032  0.050514              648             l2   \n",
       "\n",
       "    params_solver     state  \n",
       "0            saga  COMPLETE  \n",
       "88      liblinear  COMPLETE  \n",
       "120     liblinear  COMPLETE  \n",
       "121          saga  COMPLETE  \n",
       "122     liblinear  COMPLETE  \n",
       "125          saga  COMPLETE  \n",
       "126     liblinear  COMPLETE  \n",
       "127          saga  COMPLETE  \n",
       "128          saga  COMPLETE  \n",
       "129     liblinear  COMPLETE  "
      ]
     },
     "execution_count": 25,
     "metadata": {},
     "output_type": "execute_result"
    }
   ],
   "source": [
    "# Get best trials\n",
    "trials_OTP1 = study.trials_dataframe()\n",
    "# Sort the dataframe by value (accuracy) in descending order\n",
    "top_trials_OTP1 = trials_OTP1.sort_values(by='value', ascending=False).head(10)\n",
    "top_trials_OTP1"
   ]
  },
  {
   "cell_type": "code",
   "execution_count": 26,
   "metadata": {},
   "outputs": [
    {
     "name": "stdout",
     "output_type": "stream",
     "text": [
      "Metrics for LR_OPT1_best:\n",
      "Accuracy: 0.6739\n",
      "Weighted F1: 0.6740\n",
      "Weighted Precision: 0.6742\n",
      "Weighted Recall: 0.6739\n",
      "Macro-Averaged Precision: 0.6736\n",
      "Macro-Averaged Recall: 0.6738\n",
      "F1: [0.68224602 0.66507013]\n",
      "Precision: [0.68918033 0.65809072]\n",
      "classification report\n",
      "              precision    recall  f1-score   support\n",
      "\n",
      "     Class 0       0.69      0.68      0.68      1556\n",
      "     Class 1       0.66      0.67      0.67      1446\n",
      "\n",
      "    accuracy                           0.67      3002\n",
      "   macro avg       0.67      0.67      0.67      3002\n",
      "weighted avg       0.67      0.67      0.67      3002\n",
      "\n",
      "Confusion Matrix\n"
     ]
    },
    {
     "data": {
      "image/png": "[encoded data removed]",
      "text/plain": [
       "<Figure size 432x288 with 2 Axes>"
      ]
     },
     "metadata": {
      "needs_background": "light"
     },
     "output_type": "display_data"
    }
   ],
   "source": [
    "best_trial = study.best_trial\n",
    "best_model = LogisticRegression(**best_trial.params, random_state=seed)\n",
    "best_model.fit(X_train, y_train)\n",
    "\n",
    "predictions_opt1 = best_model.predict(X_test)\n",
    "model_metrics = pd.concat([model_metrics, calculate_metrics('LR_OPT1_best', y_test, predictions_opt1)])"
   ]
  },
  {
   "cell_type": "code",
   "execution_count": 27,
   "metadata": {},
   "outputs": [
    {
     "data": {
      "text/plain": [
       "{'penalty': 'l2', 'C': 1.978696921972353, 'max_iter': 354, 'solver': 'saga'}"
      ]
     },
     "execution_count": 27,
     "metadata": {},
     "output_type": "execute_result"
    }
   ],
   "source": [
    "study.best_params"
   ]
  },
  {
   "cell_type": "code",
   "execution_count": 28,
   "metadata": {},
   "outputs": [
    {
     "data": {
      "application/vnd.plotly.v1+json": {
       "config": {
        "plotlyServerURL": "https://plot.ly"
       },
       "data": [
        {
         "mode": "markers",
         "name": "Objective Value",
         "type": "scatter",
         "x": [
          0,
          1,
          2,
          3,
          4,
          5,
          6,
          7,
          8,
          9,
          10,
          11,
          12,
          13,
          14,
          15,
          16,
          17,
          18,
          19,
          20,
          21,
          22,
          23,
          24,
          25,
          26,
          27,
          28,
          29,
          30,
          31,
          32,
          33,
          34,
          35,
          36,
          37,
          38,
          39,
          40,
          41,
          42,
          43,
          44,
          45,
          46,
          47,
          48,
          49,
          50,
          51,
          52,
          53,
          54,
          55,
          56,
          57,
          58,
          59,
          60,
          61,
          62,
          63,
          64,
          65,
          66,
          67,
          68,
          69,
          70,
          71,
          72,
          73,
          74,
          75,
          76,
          77,
          78,
          79,
          80,
          81,
          82,
          83,
          84,
          85,
          86,
          87,
          88,
          89,
          90,
          91,
          92,
          93,
          94,
          95,
          96,
          97,
          98,
          99,
          100,
          101,
          102,
          103,
          104,
          105,
          106,
          107,
          108,
          109,
          110,
          111,
          112,
          113,
          114,
          115,
          116,
          117,
          118,
          119,
          120,
          121,
          122,
          123,
          124,
          125,
          126,
          127,
          128,
          129,
          130,
          131,
          132,
          133,
          134,
          135,
          136,
          137,
          138,
          139,
          140,
          141,
          142,
          143,
          144,
          145,
          146,
          147,
          148,
          149,
          150,
          151,
          152,
          153,
          154,
          155,
          156,
          157,
          158,
          159,
          160,
          161,
          162,
          163,
          164,
          165,
          166,
          167,
          168,
          169,
          170,
          171,
          172,
          173,
          174,
          175,
          176,
          177,
          178,
          179,
          180,
          181,
          182,
          183,
          184,
          185,
          186,
          187,
          188,
          189,
          190,
          191,
          192,
          193,
          194,
          195,
          196,
          197,
          198,
          199
         ],
         "y": [
          0.6738840772818121,
          0.6738840772818121,
          0.6735509660226515,
          0.6738840772818121,
          0.673217854763491,
          0.6715522984676882,
          0.6738840772818121,
          0.6715522984676882,
          0.6738840772818121,
          0.6738840772818121,
          0.6738840772818121,
          0.6738840772818121,
          0.6715522984676882,
          0.6738840772818121,
          0.673217854763491,
          0.6715522984676882,
          0.6738840772818121,
          0.6738840772818121,
          0.6738840772818121,
          0.6738840772818121,
          0.6738840772818121,
          0.6718854097268487,
          0.6738840772818121,
          0.6738840772818121,
          0.6738840772818121,
          0.6738840772818121,
          0.6738840772818121,
          0.6738840772818121,
          0.6735509660226515,
          0.6738840772818121,
          0.6738840772818121,
          0.6738840772818121,
          0.6738840772818121,
          0.6735509660226515,
          0.6725516322451699,
          0.6715522984676882,
          0.6738840772818121,
          0.6738840772818121,
          0.6738840772818121,
          0.6738840772818121,
          0.6738840772818121,
          0.6735509660226515,
          0.6738840772818121,
          0.6738840772818121,
          0.6738840772818121,
          0.6738840772818121,
          0.6738840772818121,
          0.6738840772818121,
          0.6735509660226515,
          0.6738840772818121,
          0.6738840772818121,
          0.6735509660226515,
          0.6738840772818121,
          0.6738840772818121,
          0.673217854763491,
          0.6715522984676882,
          0.6715522984676882,
          0.6715522984676882,
          0.6738840772818121,
          0.6738840772818121,
          0.6738840772818121,
          0.6738840772818121,
          0.6738840772818121,
          0.6738840772818121,
          0.673217854763491,
          0.6738840772818121,
          0.6738840772818121,
          0.6738840772818121,
          0.6738840772818121,
          0.6735509660226515,
          0.6738840772818121,
          0.6738840772818121,
          0.6712191872085277,
          0.6738840772818121,
          0.6738840772818121,
          0.6738840772818121,
          0.6715522984676882,
          0.6735509660226515,
          0.6738840772818121,
          0.6738840772818121,
          0.6738840772818121,
          0.6738840772818121,
          0.6738840772818121,
          0.6738840772818121,
          0.6738840772818121,
          0.6738840772818121,
          0.6738840772818121,
          0.6735509660226515,
          0.6738840772818121,
          0.6735509660226515,
          0.6738840772818121,
          0.6738840772818121,
          0.6738840772818121,
          0.6738840772818121,
          0.6738840772818121,
          0.6738840772818121,
          0.6738840772818121,
          0.6738840772818121,
          0.6738840772818121,
          0.6738840772818121,
          0.6738840772818121,
          0.6712191872085277,
          0.6738840772818121,
          0.6738840772818121,
          0.6738840772818121,
          0.6738840772818121,
          0.6715522984676882,
          0.6738840772818121,
          0.6715522984676882,
          0.6738840772818121,
          0.6735509660226515,
          0.6738840772818121,
          0.6738840772818121,
          0.6738840772818121,
          0.6735509660226515,
          0.6738840772818121,
          0.6738840772818121,
          0.6735509660226515,
          0.6738840772818121,
          0.6715522984676882,
          0.6738840772818121,
          0.6738840772818121,
          0.6738840772818121,
          0.6715522984676882,
          0.673217854763491,
          0.6738840772818121,
          0.6738840772818121,
          0.6738840772818121,
          0.6738840772818121,
          0.6738840772818121,
          0.6735509660226515,
          0.6738840772818121,
          0.6738840772818121,
          0.6738840772818121,
          0.6738840772818121,
          0.6738840772818121,
          0.6712191872085277,
          0.673217854763491,
          0.6738840772818121,
          0.6738840772818121,
          0.6738840772818121,
          0.6738840772818121,
          0.6738840772818121,
          0.6738840772818121,
          0.6738840772818121,
          0.6715522984676882,
          0.6738840772818121,
          0.6738840772818121,
          0.6738840772818121,
          0.6738840772818121,
          0.6738840772818121,
          0.6715522984676882,
          0.6738840772818121,
          0.6738840772818121,
          0.6738840772818121,
          0.6738840772818121,
          0.6738840772818121,
          0.6738840772818121,
          0.6735509660226515,
          0.6735509660226515,
          0.6738840772818121,
          0.6738840772818121,
          0.6738840772818121,
          0.6715522984676882,
          0.6738840772818121,
          0.6718854097268487,
          0.6738840772818121,
          0.6738840772818121,
          0.6738840772818121,
          0.6715522984676882,
          0.6718854097268487,
          0.6738840772818121,
          0.6735509660226515,
          0.6738840772818121,
          0.6718854097268487,
          0.6738840772818121,
          0.6738840772818121,
          0.6735509660226515,
          0.6738840772818121,
          0.6738840772818121,
          0.6738840772818121,
          0.6738840772818121,
          0.6738840772818121,
          0.6738840772818121,
          0.6738840772818121,
          0.6738840772818121,
          0.6738840772818121,
          0.6738840772818121,
          0.6738840772818121,
          0.6738840772818121,
          0.6738840772818121,
          0.6738840772818121,
          0.6738840772818121,
          0.6738840772818121,
          0.6738840772818121,
          0.6738840772818121,
          0.6738840772818121,
          0.6738840772818121,
          0.6738840772818121,
          0.6715522984676882
         ]
        },
        {
         "mode": "lines",
         "name": "Best Value",
         "type": "scatter",
         "x": [
          0,
          1,
          2,
          3,
          4,
          5,
          6,
          7,
          8,
          9,
          10,
          11,
          12,
          13,
          14,
          15,
          16,
          17,
          18,
          19,
          20,
          21,
          22,
          23,
          24,
          25,
          26,
          27,
          28,
          29,
          30,
          31,
          32,
          33,
          34,
          35,
          36,
          37,
          38,
          39,
          40,
          41,
          42,
          43,
          44,
          45,
          46,
          47,
          48,
          49,
          50,
          51,
          52,
          53,
          54,
          55,
          56,
          57,
          58,
          59,
          60,
          61,
          62,
          63,
          64,
          65,
          66,
          67,
          68,
          69,
          70,
          71,
          72,
          73,
          74,
          75,
          76,
          77,
          78,
          79,
          80,
          81,
          82,
          83,
          84,
          85,
          86,
          87,
          88,
          89,
          90,
          91,
          92,
          93,
          94,
          95,
          96,
          97,
          98,
          99,
          100,
          101,
          102,
          103,
          104,
          105,
          106,
          107,
          108,
          109,
          110,
          111,
          112,
          113,
          114,
          115,
          116,
          117,
          118,
          119,
          120,
          121,
          122,
          123,
          124,
          125,
          126,
          127,
          128,
          129,
          130,
          131,
          132,
          133,
          134,
          135,
          136,
          137,
          138,
          139,
          140,
          141,
          142,
          143,
          144,
          145,
          146,
          147,
          148,
          149,
          150,
          151,
          152,
          153,
          154,
          155,
          156,
          157,
          158,
          159,
          160,
          161,
          162,
          163,
          164,
          165,
          166,
          167,
          168,
          169,
          170,
          171,
          172,
          173,
          174,
          175,
          176,
          177,
          178,
          179,
          180,
          181,
          182,
          183,
          184,
          185,
          186,
          187,
          188,
          189,
          190,
          191,
          192,
          193,
          194,
          195,
          196,
          197,
          198,
          199
         ],
         "y": [
          0.6738840772818121,
          0.6738840772818121,
          0.6738840772818121,
          0.6738840772818121,
          0.6738840772818121,
          0.6738840772818121,
          0.6738840772818121,
          0.6738840772818121,
          0.6738840772818121,
          0.6738840772818121,
          0.6738840772818121,
          0.6738840772818121,
          0.6738840772818121,
          0.6738840772818121,
          0.6738840772818121,
          0.6738840772818121,
          0.6738840772818121,
          0.6738840772818121,
          0.6738840772818121,
          0.6738840772818121,
          0.6738840772818121,
          0.6738840772818121,
          0.6738840772818121,
          0.6738840772818121,
          0.6738840772818121,
          0.6738840772818121,
          0.6738840772818121,
          0.6738840772818121,
          0.6738840772818121,
          0.6738840772818121,
          0.6738840772818121,
          0.6738840772818121,
          0.6738840772818121,
          0.6738840772818121,
          0.6738840772818121,
          0.6738840772818121,
          0.6738840772818121,
          0.6738840772818121,
          0.6738840772818121,
          0.6738840772818121,
          0.6738840772818121,
          0.6738840772818121,
          0.6738840772818121,
          0.6738840772818121,
          0.6738840772818121,
          0.6738840772818121,
          0.6738840772818121,
          0.6738840772818121,
          0.6738840772818121,
          0.6738840772818121,
          0.6738840772818121,
          0.6738840772818121,
          0.6738840772818121,
          0.6738840772818121,
          0.6738840772818121,
          0.6738840772818121,
          0.6738840772818121,
          0.6738840772818121,
          0.6738840772818121,
          0.6738840772818121,
          0.6738840772818121,
          0.6738840772818121,
          0.6738840772818121,
          0.6738840772818121,
          0.6738840772818121,
          0.6738840772818121,
          0.6738840772818121,
          0.6738840772818121,
          0.6738840772818121,
          0.6738840772818121,
          0.6738840772818121,
          0.6738840772818121,
          0.6738840772818121,
          0.6738840772818121,
          0.6738840772818121,
          0.6738840772818121,
          0.6738840772818121,
          0.6738840772818121,
          0.6738840772818121,
          0.6738840772818121,
          0.6738840772818121,
          0.6738840772818121,
          0.6738840772818121,
          0.6738840772818121,
          0.6738840772818121,
          0.6738840772818121,
          0.6738840772818121,
          0.6738840772818121,
          0.6738840772818121,
          0.6738840772818121,
          0.6738840772818121,
          0.6738840772818121,
          0.6738840772818121,
          0.6738840772818121,
          0.6738840772818121,
          0.6738840772818121,
          0.6738840772818121,
          0.6738840772818121,
          0.6738840772818121,
          0.6738840772818121,
          0.6738840772818121,
          0.6738840772818121,
          0.6738840772818121,
          0.6738840772818121,
          0.6738840772818121,
          0.6738840772818121,
          0.6738840772818121,
          0.6738840772818121,
          0.6738840772818121,
          0.6738840772818121,
          0.6738840772818121,
          0.6738840772818121,
          0.6738840772818121,
          0.6738840772818121,
          0.6738840772818121,
          0.6738840772818121,
          0.6738840772818121,
          0.6738840772818121,
          0.6738840772818121,
          0.6738840772818121,
          0.6738840772818121,
          0.6738840772818121,
          0.6738840772818121,
          0.6738840772818121,
          0.6738840772818121,
          0.6738840772818121,
          0.6738840772818121,
          0.6738840772818121,
          0.6738840772818121,
          0.6738840772818121,
          0.6738840772818121,
          0.6738840772818121,
          0.6738840772818121,
          0.6738840772818121,
          0.6738840772818121,
          0.6738840772818121,
          0.6738840772818121,
          0.6738840772818121,
          0.6738840772818121,
          0.6738840772818121,
          0.6738840772818121,
          0.6738840772818121,
          0.6738840772818121,
          0.6738840772818121,
          0.6738840772818121,
          0.6738840772818121,
          0.6738840772818121,
          0.6738840772818121,
          0.6738840772818121,
          0.6738840772818121,
          0.6738840772818121,
          0.6738840772818121,
          0.6738840772818121,
          0.6738840772818121,
          0.6738840772818121,
          0.6738840772818121,
          0.6738840772818121,
          0.6738840772818121,
          0.6738840772818121,
          0.6738840772818121,
          0.6738840772818121,
          0.6738840772818121,
          0.6738840772818121,
          0.6738840772818121,
          0.6738840772818121,
          0.6738840772818121,
          0.6738840772818121,
          0.6738840772818121,
          0.6738840772818121,
          0.6738840772818121,
          0.6738840772818121,
          0.6738840772818121,
          0.6738840772818121,
          0.6738840772818121,
          0.6738840772818121,
          0.6738840772818121,
          0.6738840772818121,
          0.6738840772818121,
          0.6738840772818121,
          0.6738840772818121,
          0.6738840772818121,
          0.6738840772818121,
          0.6738840772818121,
          0.6738840772818121,
          0.6738840772818121,
          0.6738840772818121,
          0.6738840772818121,
          0.6738840772818121,
          0.6738840772818121,
          0.6738840772818121,
          0.6738840772818121,
          0.6738840772818121,
          0.6738840772818121,
          0.6738840772818121,
          0.6738840772818121,
          0.6738840772818121,
          0.6738840772818121,
          0.6738840772818121,
          0.6738840772818121,
          0.6738840772818121
         ]
        },
        {
         "marker": {
          "color": "#cccccc"
         },
         "mode": "markers",
         "name": "Infeasible Trial",
         "showlegend": false,
         "type": "scatter",
         "x": [],
         "y": []
        }
       ],
       "layout": {
        "template": {
         "data": {
          "bar": [
           {
            "error_x": {
             "color": "#2a3f5f"
            },
            "error_y": {
             "color": "#2a3f5f"
            },
            "marker": {
             "line": {
              "color": "#E5ECF6",
              "width": 0.5
             },
             "pattern": {
              "fillmode": "overlay",
              "size": 10,
              "solidity": 0.2
             }
            },
            "type": "bar"
           }
          ],
          "barpolar": [
           {
            "marker": {
             "line": {
              "color": "#E5ECF6",
              "width": 0.5
             },
             "pattern": {
              "fillmode": "overlay",
              "size": 10,
              "solidity": 0.2
             }
            },
            "type": "barpolar"
           }
          ],
          "carpet": [
           {
            "aaxis": {
             "endlinecolor": "#2a3f5f",
             "gridcolor": "white",
             "linecolor": "white",
             "minorgridcolor": "white",
             "startlinecolor": "#2a3f5f"
            },
            "baxis": {
             "endlinecolor": "#2a3f5f",
             "gridcolor": "white",
             "linecolor": "white",
             "minorgridcolor": "white",
             "startlinecolor": "#2a3f5f"
            },
            "type": "carpet"
           }
          ],
          "choropleth": [
           {
            "colorbar": {
             "outlinewidth": 0,
             "ticks": ""
            },
            "type": "choropleth"
           }
          ],
          "contour": [
           {
            "colorbar": {
             "outlinewidth": 0,
             "ticks": ""
            },
            "colorscale": [
             [
              0,
              "#0d0887"
             ],
             [
              0.1111111111111111,
              "#46039f"
             ],
             [
              0.2222222222222222,
              "#7201a8"
             ],
             [
              0.3333333333333333,
              "#9c179e"
             ],
             [
              0.4444444444444444,
              "#bd3786"
             ],
             [
              0.5555555555555556,
              "#d8576b"
             ],
             [
              0.6666666666666666,
              "#ed7953"
             ],
             [
              0.7777777777777778,
              "#fb9f3a"
             ],
             [
              0.8888888888888888,
              "#fdca26"
             ],
             [
              1,
              "#f0f921"
             ]
            ],
            "type": "contour"
           }
          ],
          "contourcarpet": [
           {
            "colorbar": {
             "outlinewidth": 0,
             "ticks": ""
            },
            "type": "contourcarpet"
           }
          ],
          "heatmap": [
           {
            "colorbar": {
             "outlinewidth": 0,
             "ticks": ""
            },
            "colorscale": [
             [
              0,
              "#0d0887"
             ],
             [
              0.1111111111111111,
              "#46039f"
             ],
             [
              0.2222222222222222,
              "#7201a8"
             ],
             [
              0.3333333333333333,
              "#9c179e"
             ],
             [
              0.4444444444444444,
              "#bd3786"
             ],
             [
              0.5555555555555556,
              "#d8576b"
             ],
             [
              0.6666666666666666,
              "#ed7953"
             ],
             [
              0.7777777777777778,
              "#fb9f3a"
             ],
             [
              0.8888888888888888,
              "#fdca26"
             ],
             [
              1,
              "#f0f921"
             ]
            ],
            "type": "heatmap"
           }
          ],
          "heatmapgl": [
           {
            "colorbar": {
             "outlinewidth": 0,
             "ticks": ""
            },
            "colorscale": [
             [
              0,
              "#0d0887"
             ],
             [
              0.1111111111111111,
              "#46039f"
             ],
             [
              0.2222222222222222,
              "#7201a8"
             ],
             [
              0.3333333333333333,
              "#9c179e"
             ],
             [
              0.4444444444444444,
              "#bd3786"
             ],
             [
              0.5555555555555556,
              "#d8576b"
             ],
             [
              0.6666666666666666,
              "#ed7953"
             ],
             [
              0.7777777777777778,
              "#fb9f3a"
             ],
             [
              0.8888888888888888,
              "#fdca26"
             ],
             [
              1,
              "#f0f921"
             ]
            ],
            "type": "heatmapgl"
           }
          ],
          "histogram": [
           {
            "marker": {
             "pattern": {
              "fillmode": "overlay",
              "size": 10,
              "solidity": 0.2
             }
            },
            "type": "histogram"
           }
          ],
          "histogram2d": [
           {
            "colorbar": {
             "outlinewidth": 0,
             "ticks": ""
            },
            "colorscale": [
             [
              0,
              "#0d0887"
             ],
             [
              0.1111111111111111,
              "#46039f"
             ],
             [
              0.2222222222222222,
              "#7201a8"
             ],
             [
              0.3333333333333333,
              "#9c179e"
             ],
             [
              0.4444444444444444,
              "#bd3786"
             ],
             [
              0.5555555555555556,
              "#d8576b"
             ],
             [
              0.6666666666666666,
              "#ed7953"
             ],
             [
              0.7777777777777778,
              "#fb9f3a"
             ],
             [
              0.8888888888888888,
              "#fdca26"
             ],
             [
              1,
              "#f0f921"
             ]
            ],
            "type": "histogram2d"
           }
          ],
          "histogram2dcontour": [
           {
            "colorbar": {
             "outlinewidth": 0,
             "ticks": ""
            },
            "colorscale": [
             [
              0,
              "#0d0887"
             ],
             [
              0.1111111111111111,
              "#46039f"
             ],
             [
              0.2222222222222222,
              "#7201a8"
             ],
             [
              0.3333333333333333,
              "#9c179e"
             ],
             [
              0.4444444444444444,
              "#bd3786"
             ],
             [
              0.5555555555555556,
              "#d8576b"
             ],
             [
              0.6666666666666666,
              "#ed7953"
             ],
             [
              0.7777777777777778,
              "#fb9f3a"
             ],
             [
              0.8888888888888888,
              "#fdca26"
             ],
             [
              1,
              "#f0f921"
             ]
            ],
            "type": "histogram2dcontour"
           }
          ],
          "mesh3d": [
           {
            "colorbar": {
             "outlinewidth": 0,
             "ticks": ""
            },
            "type": "mesh3d"
           }
          ],
          "parcoords": [
           {
            "line": {
             "colorbar": {
              "outlinewidth": 0,
              "ticks": ""
             }
            },
            "type": "parcoords"
           }
          ],
          "pie": [
           {
            "automargin": true,
            "type": "pie"
           }
          ],
          "scatter": [
           {
            "fillpattern": {
             "fillmode": "overlay",
             "size": 10,
             "solidity": 0.2
            },
            "type": "scatter"
           }
          ],
          "scatter3d": [
           {
            "line": {
             "colorbar": {
              "outlinewidth": 0,
              "ticks": ""
             }
            },
            "marker": {
             "colorbar": {
              "outlinewidth": 0,
              "ticks": ""
             }
            },
            "type": "scatter3d"
           }
          ],
          "scattercarpet": [
           {
            "marker": {
             "colorbar": {
              "outlinewidth": 0,
              "ticks": ""
             }
            },
            "type": "scattercarpet"
           }
          ],
          "scattergeo": [
           {
            "marker": {
             "colorbar": {
              "outlinewidth": 0,
              "ticks": ""
             }
            },
            "type": "scattergeo"
           }
          ],
          "scattergl": [
           {
            "marker": {
             "colorbar": {
              "outlinewidth": 0,
              "ticks": ""
             }
            },
            "type": "scattergl"
           }
          ],
          "scattermapbox": [
           {
            "marker": {
             "colorbar": {
              "outlinewidth": 0,
              "ticks": ""
             }
            },
            "type": "scattermapbox"
           }
          ],
          "scatterpolar": [
           {
            "marker": {
             "colorbar": {
              "outlinewidth": 0,
              "ticks": ""
             }
            },
            "type": "scatterpolar"
           }
          ],
          "scatterpolargl": [
           {
            "marker": {
             "colorbar": {
              "outlinewidth": 0,
              "ticks": ""
             }
            },
            "type": "scatterpolargl"
           }
          ],
          "scatterternary": [
           {
            "marker": {
             "colorbar": {
              "outlinewidth": 0,
              "ticks": ""
             }
            },
            "type": "scatterternary"
           }
          ],
          "surface": [
           {
            "colorbar": {
             "outlinewidth": 0,
             "ticks": ""
            },
            "colorscale": [
             [
              0,
              "#0d0887"
             ],
             [
              0.1111111111111111,
              "#46039f"
             ],
             [
              0.2222222222222222,
              "#7201a8"
             ],
             [
              0.3333333333333333,
              "#9c179e"
             ],
             [
              0.4444444444444444,
              "#bd3786"
             ],
             [
              0.5555555555555556,
              "#d8576b"
             ],
             [
              0.6666666666666666,
              "#ed7953"
             ],
             [
              0.7777777777777778,
              "#fb9f3a"
             ],
             [
              0.8888888888888888,
              "#fdca26"
             ],
             [
              1,
              "#f0f921"
             ]
            ],
            "type": "surface"
           }
          ],
          "table": [
           {
            "cells": {
             "fill": {
              "color": "#EBF0F8"
             },
             "line": {
              "color": "white"
             }
            },
            "header": {
             "fill": {
              "color": "#C8D4E3"
             },
             "line": {
              "color": "white"
             }
            },
            "type": "table"
           }
          ]
         },
         "layout": {
          "annotationdefaults": {
           "arrowcolor": "#2a3f5f",
           "arrowhead": 0,
           "arrowwidth": 1
          },
          "autotypenumbers": "strict",
          "coloraxis": {
           "colorbar": {
            "outlinewidth": 0,
            "ticks": ""
           }
          },
          "colorscale": {
           "diverging": [
            [
             0,
             "#8e0152"
            ],
            [
             0.1,
             "#c51b7d"
            ],
            [
             0.2,
             "#de77ae"
            ],
            [
             0.3,
             "#f1b6da"
            ],
            [
             0.4,
             "#fde0ef"
            ],
            [
             0.5,
             "#f7f7f7"
            ],
            [
             0.6,
             "#e6f5d0"
            ],
            [
             0.7,
             "#b8e186"
            ],
            [
             0.8,
             "#7fbc41"
            ],
            [
             0.9,
             "#4d9221"
            ],
            [
             1,
             "#276419"
            ]
           ],
           "sequential": [
            [
             0,
             "#0d0887"
            ],
            [
             0.1111111111111111,
             "#46039f"
            ],
            [
             0.2222222222222222,
             "#7201a8"
            ],
            [
             0.3333333333333333,
             "#9c179e"
            ],
            [
             0.4444444444444444,
             "#bd3786"
            ],
            [
             0.5555555555555556,
             "#d8576b"
            ],
            [
             0.6666666666666666,
             "#ed7953"
            ],
            [
             0.7777777777777778,
             "#fb9f3a"
            ],
            [
             0.8888888888888888,
             "#fdca26"
            ],
            [
             1,
             "#f0f921"
            ]
           ],
           "sequentialminus": [
            [
             0,
             "#0d0887"
            ],
            [
             0.1111111111111111,
             "#46039f"
            ],
            [
             0.2222222222222222,
             "#7201a8"
            ],
            [
             0.3333333333333333,
             "#9c179e"
            ],
            [
             0.4444444444444444,
             "#bd3786"
            ],
            [
             0.5555555555555556,
             "#d8576b"
            ],
            [
             0.6666666666666666,
             "#ed7953"
            ],
            [
             0.7777777777777778,
             "#fb9f3a"
            ],
            [
             0.8888888888888888,
             "#fdca26"
            ],
            [
             1,
             "#f0f921"
            ]
           ]
          },
          "colorway": [
           "#636efa",
           "#EF553B",
           "#00cc96",
           "#ab63fa",
           "#FFA15A",
           "#19d3f3",
           "#FF6692",
           "#B6E880",
           "#FF97FF",
           "#FECB52"
          ],
          "font": {
           "color": "#2a3f5f"
          },
          "geo": {
           "bgcolor": "white",
           "lakecolor": "white",
           "landcolor": "#E5ECF6",
           "showlakes": true,
           "showland": true,
           "subunitcolor": "white"
          },
          "hoverlabel": {
           "align": "left"
          },
          "hovermode": "closest",
          "mapbox": {
           "style": "light"
          },
          "paper_bgcolor": "white",
          "plot_bgcolor": "#E5ECF6",
          "polar": {
           "angularaxis": {
            "gridcolor": "white",
            "linecolor": "white",
            "ticks": ""
           },
           "bgcolor": "#E5ECF6",
           "radialaxis": {
            "gridcolor": "white",
            "linecolor": "white",
            "ticks": ""
           }
          },
          "scene": {
           "xaxis": {
            "backgroundcolor": "#E5ECF6",
            "gridcolor": "white",
            "gridwidth": 2,
            "linecolor": "white",
            "showbackground": true,
            "ticks": "",
            "zerolinecolor": "white"
           },
           "yaxis": {
            "backgroundcolor": "#E5ECF6",
            "gridcolor": "white",
            "gridwidth": 2,
            "linecolor": "white",
            "showbackground": true,
            "ticks": "",
            "zerolinecolor": "white"
           },
           "zaxis": {
            "backgroundcolor": "#E5ECF6",
            "gridcolor": "white",
            "gridwidth": 2,
            "linecolor": "white",
            "showbackground": true,
            "ticks": "",
            "zerolinecolor": "white"
           }
          },
          "shapedefaults": {
           "line": {
            "color": "#2a3f5f"
           }
          },
          "ternary": {
           "aaxis": {
            "gridcolor": "white",
            "linecolor": "white",
            "ticks": ""
           },
           "baxis": {
            "gridcolor": "white",
            "linecolor": "white",
            "ticks": ""
           },
           "bgcolor": "#E5ECF6",
           "caxis": {
            "gridcolor": "white",
            "linecolor": "white",
            "ticks": ""
           }
          },
          "title": {
           "x": 0.05
          },
          "xaxis": {
           "automargin": true,
           "gridcolor": "white",
           "linecolor": "white",
           "ticks": "",
           "title": {
            "standoff": 15
           },
           "zerolinecolor": "white",
           "zerolinewidth": 2
          },
          "yaxis": {
           "automargin": true,
           "gridcolor": "white",
           "linecolor": "white",
           "ticks": "",
           "title": {
            "standoff": 15
           },
           "zerolinecolor": "white",
           "zerolinewidth": 2
          }
         }
        },
        "title": {
         "text": "Optimization History Plot"
        },
        "xaxis": {
         "title": {
          "text": "Trial"
         }
        },
        "yaxis": {
         "title": {
          "text": "Objective Value"
         }
        }
       }
      }
     },
     "metadata": {},
     "output_type": "display_data"
    }
   ],
   "source": [
    "optuna.visualization.plot_optimization_history(study)"
   ]
  },
  {
   "cell_type": "code",
   "execution_count": 29,
   "metadata": {},
   "outputs": [
    {
     "data": {
      "application/vnd.plotly.v1+json": {
       "config": {
        "plotlyServerURL": "https://plot.ly"
       },
       "data": [
        {
         "dimensions": [
          {
           "label": "Objective Value",
           "range": [
            0.6712191872085277,
            0.6738840772818121
           ],
           "values": [
            0.6738840772818121,
            0.6738840772818121,
            0.6735509660226515,
            0.6738840772818121,
            0.673217854763491,
            0.6715522984676882,
            0.6738840772818121,
            0.6715522984676882,
            0.6738840772818121,
            0.6738840772818121,
            0.6738840772818121,
            0.6738840772818121,
            0.6715522984676882,
            0.6738840772818121,
            0.673217854763491,
            0.6715522984676882,
            0.6738840772818121,
            0.6738840772818121,
            0.6738840772818121,
            0.6738840772818121,
            0.6738840772818121,
            0.6718854097268487,
            0.6738840772818121,
            0.6738840772818121,
            0.6738840772818121,
            0.6738840772818121,
            0.6738840772818121,
            0.6738840772818121,
            0.6735509660226515,
            0.6738840772818121,
            0.6738840772818121,
            0.6738840772818121,
            0.6738840772818121,
            0.6735509660226515,
            0.6725516322451699,
            0.6715522984676882,
            0.6738840772818121,
            0.6738840772818121,
            0.6738840772818121,
            0.6738840772818121,
            0.6738840772818121,
            0.6735509660226515,
            0.6738840772818121,
            0.6738840772818121,
            0.6738840772818121,
            0.6738840772818121,
            0.6738840772818121,
            0.6738840772818121,
            0.6735509660226515,
            0.6738840772818121,
            0.6738840772818121,
            0.6735509660226515,
            0.6738840772818121,
            0.6738840772818121,
            0.673217854763491,
            0.6715522984676882,
            0.6715522984676882,
            0.6715522984676882,
            0.6738840772818121,
            0.6738840772818121,
            0.6738840772818121,
            0.6738840772818121,
            0.6738840772818121,
            0.6738840772818121,
            0.673217854763491,
            0.6738840772818121,
            0.6738840772818121,
            0.6738840772818121,
            0.6738840772818121,
            0.6735509660226515,
            0.6738840772818121,
            0.6738840772818121,
            0.6712191872085277,
            0.6738840772818121,
            0.6738840772818121,
            0.6738840772818121,
            0.6715522984676882,
            0.6735509660226515,
            0.6738840772818121,
            0.6738840772818121,
            0.6738840772818121,
            0.6738840772818121,
            0.6738840772818121,
            0.6738840772818121,
            0.6738840772818121,
            0.6738840772818121,
            0.6738840772818121,
            0.6735509660226515,
            0.6738840772818121,
            0.6735509660226515,
            0.6738840772818121,
            0.6738840772818121,
            0.6738840772818121,
            0.6738840772818121,
            0.6738840772818121,
            0.6738840772818121,
            0.6738840772818121,
            0.6738840772818121,
            0.6738840772818121,
            0.6738840772818121,
            0.6738840772818121,
            0.6712191872085277,
            0.6738840772818121,
            0.6738840772818121,
            0.6738840772818121,
            0.6738840772818121,
            0.6715522984676882,
            0.6738840772818121,
            0.6715522984676882,
            0.6738840772818121,
            0.6735509660226515,
            0.6738840772818121,
            0.6738840772818121,
            0.6738840772818121,
            0.6735509660226515,
            0.6738840772818121,
            0.6738840772818121,
            0.6735509660226515,
            0.6738840772818121,
            0.6715522984676882,
            0.6738840772818121,
            0.6738840772818121,
            0.6738840772818121,
            0.6715522984676882,
            0.673217854763491,
            0.6738840772818121,
            0.6738840772818121,
            0.6738840772818121,
            0.6738840772818121,
            0.6738840772818121,
            0.6735509660226515,
            0.6738840772818121,
            0.6738840772818121,
            0.6738840772818121,
            0.6738840772818121,
            0.6738840772818121,
            0.6712191872085277,
            0.673217854763491,
            0.6738840772818121,
            0.6738840772818121,
            0.6738840772818121,
            0.6738840772818121,
            0.6738840772818121,
            0.6738840772818121,
            0.6738840772818121,
            0.6715522984676882,
            0.6738840772818121,
            0.6738840772818121,
            0.6738840772818121,
            0.6738840772818121,
            0.6738840772818121,
            0.6715522984676882,
            0.6738840772818121,
            0.6738840772818121,
            0.6738840772818121,
            0.6738840772818121,
            0.6738840772818121,
            0.6738840772818121,
            0.6735509660226515,
            0.6735509660226515,
            0.6738840772818121,
            0.6738840772818121,
            0.6738840772818121,
            0.6715522984676882,
            0.6738840772818121,
            0.6718854097268487,
            0.6738840772818121,
            0.6738840772818121,
            0.6738840772818121,
            0.6715522984676882,
            0.6718854097268487,
            0.6738840772818121,
            0.6735509660226515,
            0.6738840772818121,
            0.6718854097268487,
            0.6738840772818121,
            0.6738840772818121,
            0.6735509660226515,
            0.6738840772818121,
            0.6738840772818121,
            0.6738840772818121,
            0.6738840772818121,
            0.6738840772818121,
            0.6738840772818121,
            0.6738840772818121,
            0.6738840772818121,
            0.6738840772818121,
            0.6738840772818121,
            0.6738840772818121,
            0.6738840772818121,
            0.6738840772818121,
            0.6738840772818121,
            0.6738840772818121,
            0.6738840772818121,
            0.6738840772818121,
            0.6738840772818121,
            0.6738840772818121,
            0.6738840772818121,
            0.6738840772818121,
            0.6715522984676882
           ]
          },
          {
           "label": "C",
           "range": [
            -1.9942098717915153,
            0.9778773203764494
           ],
           "ticktext": [
            "0.0101",
            "0.1",
            "1",
            "9.5"
           ],
           "tickvals": [
            -1.9942098717915153,
            -1,
            0,
            0.9778773203764494
           ],
           "values": [
            0.2963792781907207,
            -0.14584295824157226,
            -0.231254404355856,
            0.46739901731029926,
            -0.7352104215015206,
            -1.6423199174476317,
            -1.513962562991753,
            -1.4652582002895698,
            0.7048065784221423,
            -0.6027112205628004,
            0.7492231661975187,
            0.9175533412794812,
            -1.6958899173891147,
            0.39580062205211913,
            -0.4893956789665832,
            -1.77662238540649,
            0.6347975656278139,
            -1.9849252288227786,
            -0.18330441568810357,
            0.8636632940477899,
            -0.1183025007282324,
            -1.1438589921937725,
            -1.7093451071480197,
            -1.6329583107976604,
            -1.4444212475499825,
            0.3831379190916877,
            -0.34579278738198327,
            -1.57803956249017,
            -1.8496429110098505,
            -0.1482755187292046,
            0.8881644086565472,
            -0.18473898163705055,
            0.8597232501255296,
            -1.7965420855106748,
            -1.062095361341233,
            -1.7571018415482162,
            -0.9690631146868952,
            -0.04696572465384766,
            0.9304950551380277,
            -1.9096227152342757,
            -0.5758365103593681,
            -0.14300979110475617,
            -0.229088016045412,
            -1.6546983409460794,
            -0.8732646823068929,
            0.7997261630298549,
            0.8662200870484532,
            -0.04006580024245228,
            -0.16021123344456117,
            0.1484429223616925,
            -1.5654205119604003,
            -1.9196343855654399,
            -1.6700675609310007,
            -0.7493471993325204,
            -0.39646195142220847,
            -1.851598844867683,
            -1.8531013981704683,
            -1.6407812690624002,
            0.6834395984036902,
            -0.951977172337714,
            -0.533575658448123,
            -1.3688374157005374,
            -0.29488612475097775,
            -0.7941264778817645,
            -0.7843983475631838,
            -1.1826811945615723,
            0.971444602313859,
            -0.8593911192557446,
            -0.11862175392499201,
            -1.733523764257824,
            -0.08637275030211013,
            0.8209466222904682,
            -1.9345796326446507,
            -0.8096023958096424,
            -1.3164776789054435,
            0.41529692081004826,
            -1.7073136356244882,
            -0.2910533208673174,
            -1.4266634066733213,
            -1.0569509870420335,
            0.4191390559595439,
            0.5346121317290886,
            0.3850333648392431,
            0.6378276065642108,
            -1.024596544385743,
            -1.5527872081342458,
            -1.152078666852027,
            -1.9064113027345535,
            0.08579339655665233,
            -0.057926767195687685,
            0.8154932114087504,
            -1.973321529547626,
            0.3952084167282694,
            0.5227570791484446,
            -1.2175839300944502,
            0.6578175925759682,
            0.885346176063772,
            -0.49228294882147783,
            -0.5660672498652817,
            -0.8046837837292143,
            -0.6158832127284382,
            -1.9698245370629583,
            0.6142400152025171,
            -0.3383207443180041,
            -0.9701755254406519,
            -0.7467831989880875,
            -1.6281304530210814,
            0.9778773203764494,
            -1.4926678209868822,
            -1.5164517023731887,
            -1.7667925351776517,
            -1.3546865200465659,
            0.5571039256904401,
            -1.1932249048114962,
            -0.07738596809530443,
            -0.8727648666537942,
            -1.8692371237243461,
            -0.650475301134666,
            -0.09429715100581909,
            -1.3645733075166069,
            -0.24708376350592873,
            0.5235016820086255,
            -1.7411476266357866,
            -1.7896874721011304,
            -0.47417889682423203,
            -0.9767284543115139,
            -0.4076641222794215,
            -1.6674690124915532,
            -0.1520824181521534,
            -1.2965840603193641,
            -0.34047649516331674,
            -1.0278020269073294,
            0.07424082511334347,
            -1.5446255157883113,
            -0.24973958247160738,
            0.5849954267425305,
            -1.9011637152565697,
            -0.8225207794083819,
            -0.23950102503823936,
            -0.7943814289014934,
            0.5410983936903679,
            0.4522281027644029,
            0.513783862791626,
            0.5580836510999382,
            -0.25328791093636743,
            -1.797581035992311,
            -0.5438856266249156,
            -0.37068636249383086,
            0.9233356901452938,
            -0.8976964148373276,
            0.18035643254608344,
            -1.6297801414373847,
            0.027501698592262383,
            0.16609024576410858,
            0.5005457945369056,
            0.3285742658723915,
            0.07000751167609526,
            -1.0560630850952522,
            -0.23173112700807016,
            -0.08846369713282011,
            0.14576058570842856,
            0.9590602526146534,
            0.37511246961884964,
            -1.1692531846518335,
            -1.5584025176551979,
            -1.1006338049411128,
            -1.1633301486808103,
            0.8593021040591982,
            -0.054461211962655014,
            -1.2203638876313914,
            -1.1121615610923665,
            -1.0515957320208011,
            -1.9942098717915153,
            -1.1290529814273664,
            -1.1058601870077138,
            0.6750974297423278,
            -0.1795849148025853,
            -1.9915615654645555,
            0.9749711319107783,
            -1.9884274185414863,
            -0.7145146701162819,
            0.8203567109311835,
            -1.7646430169614973,
            0.2920895867182666,
            -1.0769535823771468,
            -1.8757091879282108,
            -1.4520305014086055,
            0.32815870845048156,
            0.4901622652087128,
            0.6699082341432435,
            0.16200880874145102,
            -0.5777765692926662,
            -1.4625777340437323,
            -0.2843134040762516,
            -1.6931136053115563,
            -1.1282510068645668,
            -0.41007519966178807,
            -0.8889132709364334,
            0.6280311208196896,
            -1.3295322837067607
           ]
          },
          {
           "label": "max_iter",
           "range": [
            107,
            999
           ],
           "values": [
            354,
            471,
            981,
            664,
            412,
            637,
            593,
            316,
            555,
            891,
            311,
            315,
            661,
            446,
            214,
            642,
            490,
            216,
            968,
            906,
            457,
            405,
            121,
            999,
            803,
            935,
            500,
            861,
            337,
            801,
            788,
            295,
            533,
            749,
            640,
            382,
            522,
            886,
            366,
            910,
            372,
            675,
            718,
            189,
            311,
            537,
            409,
            403,
            138,
            848,
            265,
            179,
            530,
            498,
            420,
            510,
            177,
            456,
            982,
            297,
            710,
            671,
            252,
            582,
            527,
            519,
            501,
            305,
            545,
            383,
            681,
            384,
            511,
            261,
            756,
            872,
            562,
            793,
            752,
            767,
            143,
            301,
            107,
            730,
            327,
            465,
            484,
            548,
            810,
            270,
            442,
            619,
            533,
            513,
            925,
            291,
            194,
            935,
            248,
            211,
            307,
            407,
            633,
            347,
            193,
            491,
            406,
            999,
            601,
            546,
            177,
            951,
            416,
            408,
            678,
            346,
            468,
            168,
            795,
            242,
            786,
            157,
            294,
            665,
            278,
            164,
            195,
            525,
            153,
            648,
            533,
            934,
            237,
            988,
            217,
            133,
            827,
            671,
            643,
            690,
            503,
            857,
            339,
            342,
            987,
            297,
            146,
            373,
            219,
            939,
            518,
            620,
            963,
            699,
            902,
            515,
            768,
            490,
            176,
            884,
            636,
            925,
            817,
            724,
            517,
            381,
            668,
            735,
            281,
            397,
            873,
            499,
            615,
            533,
            498,
            518,
            151,
            849,
            136,
            263,
            960,
            621,
            184,
            365,
            197,
            964,
            394,
            641,
            524,
            280,
            433,
            973,
            725,
            430,
            557,
            682,
            228,
            937,
            273,
            547
           ]
          },
          {
           "label": "penalty",
           "range": [
            0,
            1
           ],
           "ticktext": [
            "l2",
            "l1"
           ],
           "tickvals": [
            0,
            1
           ],
           "values": [
            0,
            0,
            1,
            1,
            1,
            1,
            1,
            1,
            0,
            1,
            1,
            0,
            1,
            0,
            1,
            1,
            0,
            0,
            0,
            1,
            1,
            1,
            0,
            1,
            1,
            1,
            0,
            1,
            1,
            0,
            1,
            0,
            1,
            1,
            1,
            1,
            1,
            0,
            0,
            0,
            0,
            1,
            0,
            1,
            1,
            1,
            1,
            0,
            1,
            0,
            1,
            1,
            1,
            1,
            1,
            1,
            1,
            1,
            0,
            0,
            0,
            0,
            0,
            1,
            1,
            0,
            1,
            1,
            1,
            1,
            1,
            0,
            1,
            1,
            1,
            0,
            1,
            1,
            1,
            0,
            0,
            1,
            0,
            1,
            0,
            1,
            1,
            1,
            0,
            1,
            0,
            0,
            1,
            0,
            0,
            0,
            1,
            0,
            0,
            0,
            0,
            1,
            1,
            0,
            1,
            0,
            1,
            0,
            1,
            0,
            1,
            0,
            1,
            0,
            1,
            1,
            0,
            1,
            1,
            1,
            0,
            0,
            0,
            1,
            1,
            0,
            0,
            0,
            0,
            0,
            1,
            0,
            0,
            0,
            0,
            1,
            1,
            1,
            0,
            0,
            0,
            1,
            1,
            1,
            0,
            1,
            0,
            0,
            0,
            0,
            1,
            1,
            1,
            0,
            1,
            0,
            1,
            1,
            1,
            1,
            1,
            1,
            0,
            1,
            0,
            1,
            0,
            0,
            0,
            1,
            1,
            0,
            0,
            1,
            1,
            1,
            1,
            1,
            1,
            0,
            0,
            1,
            0,
            1,
            0,
            0,
            0,
            0,
            0,
            1,
            1,
            0,
            1,
            0,
            0,
            0,
            0,
            0,
            1,
            1
           ]
          },
          {
           "label": "solver",
           "range": [
            0,
            1
           ],
           "ticktext": [
            "saga",
            "liblinear"
           ],
           "tickvals": [
            0,
            1
           ],
           "values": [
            0,
            0,
            1,
            1,
            1,
            1,
            0,
            1,
            0,
            0,
            0,
            0,
            1,
            0,
            1,
            1,
            1,
            0,
            1,
            1,
            0,
            1,
            0,
            0,
            0,
            0,
            0,
            0,
            0,
            0,
            1,
            0,
            1,
            0,
            1,
            1,
            0,
            1,
            0,
            0,
            0,
            1,
            0,
            0,
            0,
            0,
            0,
            0,
            1,
            0,
            0,
            0,
            0,
            0,
            1,
            1,
            1,
            1,
            0,
            1,
            1,
            0,
            1,
            0,
            1,
            1,
            1,
            0,
            0,
            0,
            0,
            0,
            1,
            0,
            0,
            1,
            1,
            1,
            0,
            1,
            1,
            1,
            1,
            1,
            0,
            0,
            0,
            0,
            1,
            1,
            1,
            0,
            1,
            1,
            0,
            0,
            0,
            1,
            1,
            0,
            0,
            1,
            1,
            0,
            0,
            0,
            1,
            1,
            1,
            1,
            0,
            0,
            0,
            1,
            1,
            0,
            0,
            1,
            0,
            1,
            1,
            0,
            1,
            1,
            1,
            0,
            1,
            0,
            0,
            1,
            1,
            0,
            1,
            1,
            1,
            1,
            1,
            1,
            0,
            1,
            1,
            0,
            1,
            0,
            0,
            1,
            1,
            0,
            0,
            0,
            1,
            1,
            0,
            1,
            1,
            0,
            0,
            0,
            1,
            1,
            0,
            1,
            0,
            1,
            1,
            1,
            1,
            1,
            1,
            1,
            1,
            1,
            1,
            0,
            1,
            1,
            0,
            0,
            0,
            0,
            0,
            0,
            1,
            0,
            0,
            1,
            1,
            0,
            0,
            1,
            1,
            1,
            0,
            1,
            1,
            0,
            0,
            1,
            1,
            1
           ]
          }
         ],
         "labelangle": 30,
         "labelside": "bottom",
         "line": {
          "color": [
           0.6738840772818121,
           0.6738840772818121,
           0.6735509660226515,
           0.6738840772818121,
           0.673217854763491,
           0.6715522984676882,
           0.6738840772818121,
           0.6715522984676882,
           0.6738840772818121,
           0.6738840772818121,
           0.6738840772818121,
           0.6738840772818121,
           0.6715522984676882,
           0.6738840772818121,
           0.673217854763491,
           0.6715522984676882,
           0.6738840772818121,
           0.6738840772818121,
           0.6738840772818121,
           0.6738840772818121,
           0.6738840772818121,
           0.6718854097268487,
           0.6738840772818121,
           0.6738840772818121,
           0.6738840772818121,
           0.6738840772818121,
           0.6738840772818121,
           0.6738840772818121,
           0.6735509660226515,
           0.6738840772818121,
           0.6738840772818121,
           0.6738840772818121,
           0.6738840772818121,
           0.6735509660226515,
           0.6725516322451699,
           0.6715522984676882,
           0.6738840772818121,
           0.6738840772818121,
           0.6738840772818121,
           0.6738840772818121,
           0.6738840772818121,
           0.6735509660226515,
           0.6738840772818121,
           0.6738840772818121,
           0.6738840772818121,
           0.6738840772818121,
           0.6738840772818121,
           0.6738840772818121,
           0.6735509660226515,
           0.6738840772818121,
           0.6738840772818121,
           0.6735509660226515,
           0.6738840772818121,
           0.6738840772818121,
           0.673217854763491,
           0.6715522984676882,
           0.6715522984676882,
           0.6715522984676882,
           0.6738840772818121,
           0.6738840772818121,
           0.6738840772818121,
           0.6738840772818121,
           0.6738840772818121,
           0.6738840772818121,
           0.673217854763491,
           0.6738840772818121,
           0.6738840772818121,
           0.6738840772818121,
           0.6738840772818121,
           0.6735509660226515,
           0.6738840772818121,
           0.6738840772818121,
           0.6712191872085277,
           0.6738840772818121,
           0.6738840772818121,
           0.6738840772818121,
           0.6715522984676882,
           0.6735509660226515,
           0.6738840772818121,
           0.6738840772818121,
           0.6738840772818121,
           0.6738840772818121,
           0.6738840772818121,
           0.6738840772818121,
           0.6738840772818121,
           0.6738840772818121,
           0.6738840772818121,
           0.6735509660226515,
           0.6738840772818121,
           0.6735509660226515,
           0.6738840772818121,
           0.6738840772818121,
           0.6738840772818121,
           0.6738840772818121,
           0.6738840772818121,
           0.6738840772818121,
           0.6738840772818121,
           0.6738840772818121,
           0.6738840772818121,
           0.6738840772818121,
           0.6738840772818121,
           0.6712191872085277,
           0.6738840772818121,
           0.6738840772818121,
           0.6738840772818121,
           0.6738840772818121,
           0.6715522984676882,
           0.6738840772818121,
           0.6715522984676882,
           0.6738840772818121,
           0.6735509660226515,
           0.6738840772818121,
           0.6738840772818121,
           0.6738840772818121,
           0.6735509660226515,
           0.6738840772818121,
           0.6738840772818121,
           0.6735509660226515,
           0.6738840772818121,
           0.6715522984676882,
           0.6738840772818121,
           0.6738840772818121,
           0.6738840772818121,
           0.6715522984676882,
           0.673217854763491,
           0.6738840772818121,
           0.6738840772818121,
           0.6738840772818121,
           0.6738840772818121,
           0.6738840772818121,
           0.6735509660226515,
           0.6738840772818121,
           0.6738840772818121,
           0.6738840772818121,
           0.6738840772818121,
           0.6738840772818121,
           0.6712191872085277,
           0.673217854763491,
           0.6738840772818121,
           0.6738840772818121,
           0.6738840772818121,
           0.6738840772818121,
           0.6738840772818121,
           0.6738840772818121,
           0.6738840772818121,
           0.6715522984676882,
           0.6738840772818121,
           0.6738840772818121,
           0.6738840772818121,
           0.6738840772818121,
           0.6738840772818121,
           0.6715522984676882,
           0.6738840772818121,
           0.6738840772818121,
           0.6738840772818121,
           0.6738840772818121,
           0.6738840772818121,
           0.6738840772818121,
           0.6735509660226515,
           0.6735509660226515,
           0.6738840772818121,
           0.6738840772818121,
           0.6738840772818121,
           0.6715522984676882,
           0.6738840772818121,
           0.6718854097268487,
           0.6738840772818121,
           0.6738840772818121,
           0.6738840772818121,
           0.6715522984676882,
           0.6718854097268487,
           0.6738840772818121,
           0.6735509660226515,
           0.6738840772818121,
           0.6718854097268487,
           0.6738840772818121,
           0.6738840772818121,
           0.6735509660226515,
           0.6738840772818121,
           0.6738840772818121,
           0.6738840772818121,
           0.6738840772818121,
           0.6738840772818121,
           0.6738840772818121,
           0.6738840772818121,
           0.6738840772818121,
           0.6738840772818121,
           0.6738840772818121,
           0.6738840772818121,
           0.6738840772818121,
           0.6738840772818121,
           0.6738840772818121,
           0.6738840772818121,
           0.6738840772818121,
           0.6738840772818121,
           0.6738840772818121,
           0.6738840772818121,
           0.6738840772818121,
           0.6738840772818121,
           0.6715522984676882
          ],
          "colorbar": {
           "title": {
            "text": "Objective Value"
           }
          },
          "colorscale": [
           [
            0,
            "rgb(247,251,255)"
           ],
           [
            0.125,
            "rgb(222,235,247)"
           ],
           [
            0.25,
            "rgb(198,219,239)"
           ],
           [
            0.375,
            "rgb(158,202,225)"
           ],
           [
            0.5,
            "rgb(107,174,214)"
           ],
           [
            0.625,
            "rgb(66,146,198)"
           ],
           [
            0.75,
            "rgb(33,113,181)"
           ],
           [
            0.875,
            "rgb(8,81,156)"
           ],
           [
            1,
            "rgb(8,48,107)"
           ]
          ],
          "reversescale": false,
          "showscale": true
         },
         "type": "parcoords"
        }
       ],
       "layout": {
        "template": {
         "data": {
          "bar": [
           {
            "error_x": {
             "color": "#2a3f5f"
            },
            "error_y": {
             "color": "#2a3f5f"
            },
            "marker": {
             "line": {
              "color": "#E5ECF6",
              "width": 0.5
             },
             "pattern": {
              "fillmode": "overlay",
              "size": 10,
              "solidity": 0.2
             }
            },
            "type": "bar"
           }
          ],
          "barpolar": [
           {
            "marker": {
             "line": {
              "color": "#E5ECF6",
              "width": 0.5
             },
             "pattern": {
              "fillmode": "overlay",
              "size": 10,
              "solidity": 0.2
             }
            },
            "type": "barpolar"
           }
          ],
          "carpet": [
           {
            "aaxis": {
             "endlinecolor": "#2a3f5f",
             "gridcolor": "white",
             "linecolor": "white",
             "minorgridcolor": "white",
             "startlinecolor": "#2a3f5f"
            },
            "baxis": {
             "endlinecolor": "#2a3f5f",
             "gridcolor": "white",
             "linecolor": "white",
             "minorgridcolor": "white",
             "startlinecolor": "#2a3f5f"
            },
            "type": "carpet"
           }
          ],
          "choropleth": [
           {
            "colorbar": {
             "outlinewidth": 0,
             "ticks": ""
            },
            "type": "choropleth"
           }
          ],
          "contour": [
           {
            "colorbar": {
             "outlinewidth": 0,
             "ticks": ""
            },
            "colorscale": [
             [
              0,
              "#0d0887"
             ],
             [
              0.1111111111111111,
              "#46039f"
             ],
             [
              0.2222222222222222,
              "#7201a8"
             ],
             [
              0.3333333333333333,
              "#9c179e"
             ],
             [
              0.4444444444444444,
              "#bd3786"
             ],
             [
              0.5555555555555556,
              "#d8576b"
             ],
             [
              0.6666666666666666,
              "#ed7953"
             ],
             [
              0.7777777777777778,
              "#fb9f3a"
             ],
             [
              0.8888888888888888,
              "#fdca26"
             ],
             [
              1,
              "#f0f921"
             ]
            ],
            "type": "contour"
           }
          ],
          "contourcarpet": [
           {
            "colorbar": {
             "outlinewidth": 0,
             "ticks": ""
            },
            "type": "contourcarpet"
           }
          ],
          "heatmap": [
           {
            "colorbar": {
             "outlinewidth": 0,
             "ticks": ""
            },
            "colorscale": [
             [
              0,
              "#0d0887"
             ],
             [
              0.1111111111111111,
              "#46039f"
             ],
             [
              0.2222222222222222,
              "#7201a8"
             ],
             [
              0.3333333333333333,
              "#9c179e"
             ],
             [
              0.4444444444444444,
              "#bd3786"
             ],
             [
              0.5555555555555556,
              "#d8576b"
             ],
             [
              0.6666666666666666,
              "#ed7953"
             ],
             [
              0.7777777777777778,
              "#fb9f3a"
             ],
             [
              0.8888888888888888,
              "#fdca26"
             ],
             [
              1,
              "#f0f921"
             ]
            ],
            "type": "heatmap"
           }
          ],
          "heatmapgl": [
           {
            "colorbar": {
             "outlinewidth": 0,
             "ticks": ""
            },
            "colorscale": [
             [
              0,
              "#0d0887"
             ],
             [
              0.1111111111111111,
              "#46039f"
             ],
             [
              0.2222222222222222,
              "#7201a8"
             ],
             [
              0.3333333333333333,
              "#9c179e"
             ],
             [
              0.4444444444444444,
              "#bd3786"
             ],
             [
              0.5555555555555556,
              "#d8576b"
             ],
             [
              0.6666666666666666,
              "#ed7953"
             ],
             [
              0.7777777777777778,
              "#fb9f3a"
             ],
             [
              0.8888888888888888,
              "#fdca26"
             ],
             [
              1,
              "#f0f921"
             ]
            ],
            "type": "heatmapgl"
           }
          ],
          "histogram": [
           {
            "marker": {
             "pattern": {
              "fillmode": "overlay",
              "size": 10,
              "solidity": 0.2
             }
            },
            "type": "histogram"
           }
          ],
          "histogram2d": [
           {
            "colorbar": {
             "outlinewidth": 0,
             "ticks": ""
            },
            "colorscale": [
             [
              0,
              "#0d0887"
             ],
             [
              0.1111111111111111,
              "#46039f"
             ],
             [
              0.2222222222222222,
              "#7201a8"
             ],
             [
              0.3333333333333333,
              "#9c179e"
             ],
             [
              0.4444444444444444,
              "#bd3786"
             ],
             [
              0.5555555555555556,
              "#d8576b"
             ],
             [
              0.6666666666666666,
              "#ed7953"
             ],
             [
              0.7777777777777778,
              "#fb9f3a"
             ],
             [
              0.8888888888888888,
              "#fdca26"
             ],
             [
              1,
              "#f0f921"
             ]
            ],
            "type": "histogram2d"
           }
          ],
          "histogram2dcontour": [
           {
            "colorbar": {
             "outlinewidth": 0,
             "ticks": ""
            },
            "colorscale": [
             [
              0,
              "#0d0887"
             ],
             [
              0.1111111111111111,
              "#46039f"
             ],
             [
              0.2222222222222222,
              "#7201a8"
             ],
             [
              0.3333333333333333,
              "#9c179e"
             ],
             [
              0.4444444444444444,
              "#bd3786"
             ],
             [
              0.5555555555555556,
              "#d8576b"
             ],
             [
              0.6666666666666666,
              "#ed7953"
             ],
             [
              0.7777777777777778,
              "#fb9f3a"
             ],
             [
              0.8888888888888888,
              "#fdca26"
             ],
             [
              1,
              "#f0f921"
             ]
            ],
            "type": "histogram2dcontour"
           }
          ],
          "mesh3d": [
           {
            "colorbar": {
             "outlinewidth": 0,
             "ticks": ""
            },
            "type": "mesh3d"
           }
          ],
          "parcoords": [
           {
            "line": {
             "colorbar": {
              "outlinewidth": 0,
              "ticks": ""
             }
            },
            "type": "parcoords"
           }
          ],
          "pie": [
           {
            "automargin": true,
            "type": "pie"
           }
          ],
          "scatter": [
           {
            "fillpattern": {
             "fillmode": "overlay",
             "size": 10,
             "solidity": 0.2
            },
            "type": "scatter"
           }
          ],
          "scatter3d": [
           {
            "line": {
             "colorbar": {
              "outlinewidth": 0,
              "ticks": ""
             }
            },
            "marker": {
             "colorbar": {
              "outlinewidth": 0,
              "ticks": ""
             }
            },
            "type": "scatter3d"
           }
          ],
          "scattercarpet": [
           {
            "marker": {
             "colorbar": {
              "outlinewidth": 0,
              "ticks": ""
             }
            },
            "type": "scattercarpet"
           }
          ],
          "scattergeo": [
           {
            "marker": {
             "colorbar": {
              "outlinewidth": 0,
              "ticks": ""
             }
            },
            "type": "scattergeo"
           }
          ],
          "scattergl": [
           {
            "marker": {
             "colorbar": {
              "outlinewidth": 0,
              "ticks": ""
             }
            },
            "type": "scattergl"
           }
          ],
          "scattermapbox": [
           {
            "marker": {
             "colorbar": {
              "outlinewidth": 0,
              "ticks": ""
             }
            },
            "type": "scattermapbox"
           }
          ],
          "scatterpolar": [
           {
            "marker": {
             "colorbar": {
              "outlinewidth": 0,
              "ticks": ""
             }
            },
            "type": "scatterpolar"
           }
          ],
          "scatterpolargl": [
           {
            "marker": {
             "colorbar": {
              "outlinewidth": 0,
              "ticks": ""
             }
            },
            "type": "scatterpolargl"
           }
          ],
          "scatterternary": [
           {
            "marker": {
             "colorbar": {
              "outlinewidth": 0,
              "ticks": ""
             }
            },
            "type": "scatterternary"
           }
          ],
          "surface": [
           {
            "colorbar": {
             "outlinewidth": 0,
             "ticks": ""
            },
            "colorscale": [
             [
              0,
              "#0d0887"
             ],
             [
              0.1111111111111111,
              "#46039f"
             ],
             [
              0.2222222222222222,
              "#7201a8"
             ],
             [
              0.3333333333333333,
              "#9c179e"
             ],
             [
              0.4444444444444444,
              "#bd3786"
             ],
             [
              0.5555555555555556,
              "#d8576b"
             ],
             [
              0.6666666666666666,
              "#ed7953"
             ],
             [
              0.7777777777777778,
              "#fb9f3a"
             ],
             [
              0.8888888888888888,
              "#fdca26"
             ],
             [
              1,
              "#f0f921"
             ]
            ],
            "type": "surface"
           }
          ],
          "table": [
           {
            "cells": {
             "fill": {
              "color": "#EBF0F8"
             },
             "line": {
              "color": "white"
             }
            },
            "header": {
             "fill": {
              "color": "#C8D4E3"
             },
             "line": {
              "color": "white"
             }
            },
            "type": "table"
           }
          ]
         },
         "layout": {
          "annotationdefaults": {
           "arrowcolor": "#2a3f5f",
           "arrowhead": 0,
           "arrowwidth": 1
          },
          "autotypenumbers": "strict",
          "coloraxis": {
           "colorbar": {
            "outlinewidth": 0,
            "ticks": ""
           }
          },
          "colorscale": {
           "diverging": [
            [
             0,
             "#8e0152"
            ],
            [
             0.1,
             "#c51b7d"
            ],
            [
             0.2,
             "#de77ae"
            ],
            [
             0.3,
             "#f1b6da"
            ],
            [
             0.4,
             "#fde0ef"
            ],
            [
             0.5,
             "#f7f7f7"
            ],
            [
             0.6,
             "#e6f5d0"
            ],
            [
             0.7,
             "#b8e186"
            ],
            [
             0.8,
             "#7fbc41"
            ],
            [
             0.9,
             "#4d9221"
            ],
            [
             1,
             "#276419"
            ]
           ],
           "sequential": [
            [
             0,
             "#0d0887"
            ],
            [
             0.1111111111111111,
             "#46039f"
            ],
            [
             0.2222222222222222,
             "#7201a8"
            ],
            [
             0.3333333333333333,
             "#9c179e"
            ],
            [
             0.4444444444444444,
             "#bd3786"
            ],
            [
             0.5555555555555556,
             "#d8576b"
            ],
            [
             0.6666666666666666,
             "#ed7953"
            ],
            [
             0.7777777777777778,
             "#fb9f3a"
            ],
            [
             0.8888888888888888,
             "#fdca26"
            ],
            [
             1,
             "#f0f921"
            ]
           ],
           "sequentialminus": [
            [
             0,
             "#0d0887"
            ],
            [
             0.1111111111111111,
             "#46039f"
            ],
            [
             0.2222222222222222,
             "#7201a8"
            ],
            [
             0.3333333333333333,
             "#9c179e"
            ],
            [
             0.4444444444444444,
             "#bd3786"
            ],
            [
             0.5555555555555556,
             "#d8576b"
            ],
            [
             0.6666666666666666,
             "#ed7953"
            ],
            [
             0.7777777777777778,
             "#fb9f3a"
            ],
            [
             0.8888888888888888,
             "#fdca26"
            ],
            [
             1,
             "#f0f921"
            ]
           ]
          },
          "colorway": [
           "#636efa",
           "#EF553B",
           "#00cc96",
           "#ab63fa",
           "#FFA15A",
           "#19d3f3",
           "#FF6692",
           "#B6E880",
           "#FF97FF",
           "#FECB52"
          ],
          "font": {
           "color": "#2a3f5f"
          },
          "geo": {
           "bgcolor": "white",
           "lakecolor": "white",
           "landcolor": "#E5ECF6",
           "showlakes": true,
           "showland": true,
           "subunitcolor": "white"
          },
          "hoverlabel": {
           "align": "left"
          },
          "hovermode": "closest",
          "mapbox": {
           "style": "light"
          },
          "paper_bgcolor": "white",
          "plot_bgcolor": "#E5ECF6",
          "polar": {
           "angularaxis": {
            "gridcolor": "white",
            "linecolor": "white",
            "ticks": ""
           },
           "bgcolor": "#E5ECF6",
           "radialaxis": {
            "gridcolor": "white",
            "linecolor": "white",
            "ticks": ""
           }
          },
          "scene": {
           "xaxis": {
            "backgroundcolor": "#E5ECF6",
            "gridcolor": "white",
            "gridwidth": 2,
            "linecolor": "white",
            "showbackground": true,
            "ticks": "",
            "zerolinecolor": "white"
           },
           "yaxis": {
            "backgroundcolor": "#E5ECF6",
            "gridcolor": "white",
            "gridwidth": 2,
            "linecolor": "white",
            "showbackground": true,
            "ticks": "",
            "zerolinecolor": "white"
           },
           "zaxis": {
            "backgroundcolor": "#E5ECF6",
            "gridcolor": "white",
            "gridwidth": 2,
            "linecolor": "white",
            "showbackground": true,
            "ticks": "",
            "zerolinecolor": "white"
           }
          },
          "shapedefaults": {
           "line": {
            "color": "#2a3f5f"
           }
          },
          "ternary": {
           "aaxis": {
            "gridcolor": "white",
            "linecolor": "white",
            "ticks": ""
           },
           "baxis": {
            "gridcolor": "white",
            "linecolor": "white",
            "ticks": ""
           },
           "bgcolor": "#E5ECF6",
           "caxis": {
            "gridcolor": "white",
            "linecolor": "white",
            "ticks": ""
           }
          },
          "title": {
           "x": 0.05
          },
          "xaxis": {
           "automargin": true,
           "gridcolor": "white",
           "linecolor": "white",
           "ticks": "",
           "title": {
            "standoff": 15
           },
           "zerolinecolor": "white",
           "zerolinewidth": 2
          },
          "yaxis": {
           "automargin": true,
           "gridcolor": "white",
           "linecolor": "white",
           "ticks": "",
           "title": {
            "standoff": 15
           },
           "zerolinecolor": "white",
           "zerolinewidth": 2
          }
         }
        },
        "title": {
         "text": "Parallel Coordinate Plot"
        }
       }
      }
     },
     "metadata": {},
     "output_type": "display_data"
    }
   ],
   "source": [
    "optuna.visualization.plot_parallel_coordinate(study)"
   ]
  },
  {
   "cell_type": "code",
   "execution_count": 30,
   "metadata": {},
   "outputs": [
    {
     "data": {
      "application/vnd.plotly.v1+json": {
       "config": {
        "plotlyServerURL": "https://plot.ly"
       },
       "data": [
        {
         "marker": {
          "color": [
           0,
           1,
           2,
           3,
           4,
           5,
           6,
           7,
           8,
           9,
           10,
           11,
           12,
           13,
           14,
           15,
           16,
           17,
           18,
           19,
           20,
           21,
           22,
           23,
           24,
           25,
           26,
           27,
           28,
           29,
           30,
           31,
           32,
           33,
           34,
           35,
           36,
           37,
           38,
           39,
           40,
           41,
           42,
           43,
           44,
           45,
           46,
           47,
           48,
           49,
           50,
           51,
           52,
           53,
           54,
           55,
           56,
           57,
           58,
           59,
           60,
           61,
           62,
           63,
           64,
           65,
           66,
           67,
           68,
           69,
           70,
           71,
           72,
           73,
           74,
           75,
           76,
           77,
           78,
           79,
           80,
           81,
           82,
           83,
           84,
           85,
           86,
           87,
           88,
           89,
           90,
           91,
           92,
           93,
           94,
           95,
           96,
           97,
           98,
           99,
           100,
           101,
           102,
           103,
           104,
           105,
           106,
           107,
           108,
           109,
           110,
           111,
           112,
           113,
           114,
           115,
           116,
           117,
           118,
           119,
           120,
           121,
           122,
           123,
           124,
           125,
           126,
           127,
           128,
           129,
           130,
           131,
           132,
           133,
           134,
           135,
           136,
           137,
           138,
           139,
           140,
           141,
           142,
           143,
           144,
           145,
           146,
           147,
           148,
           149,
           150,
           151,
           152,
           153,
           154,
           155,
           156,
           157,
           158,
           159,
           160,
           161,
           162,
           163,
           164,
           165,
           166,
           167,
           168,
           169,
           170,
           171,
           172,
           173,
           174,
           175,
           176,
           177,
           178,
           179,
           180,
           181,
           182,
           183,
           184,
           185,
           186,
           187,
           188,
           189,
           190,
           191,
           192,
           193,
           194,
           195,
           196,
           197,
           198,
           199
          ],
          "colorbar": {
           "title": {
            "text": "Trial"
           },
           "x": 1,
           "xpad": 40
          },
          "colorscale": [
           [
            0,
            "rgb(247,251,255)"
           ],
           [
            0.125,
            "rgb(222,235,247)"
           ],
           [
            0.25,
            "rgb(198,219,239)"
           ],
           [
            0.375,
            "rgb(158,202,225)"
           ],
           [
            0.5,
            "rgb(107,174,214)"
           ],
           [
            0.625,
            "rgb(66,146,198)"
           ],
           [
            0.75,
            "rgb(33,113,181)"
           ],
           [
            0.875,
            "rgb(8,81,156)"
           ],
           [
            1,
            "rgb(8,48,107)"
           ]
          ],
          "line": {
           "color": "Grey",
           "width": 0.5
          },
          "showscale": true
         },
         "mode": "markers",
         "name": "Feasible Trial",
         "showlegend": false,
         "type": "scatter",
         "x": [
          1.978696921972353,
          0.7147547361025183,
          0.5871453092844537,
          2.9335873033004263,
          0.18398803387733306,
          0.022786629058688158,
          0.030622273921242567,
          0.03425640620186102,
          5.067649602789281,
          0.2496254032440533,
          5.613363497593624,
          8.270910880018777,
          0.020142347424642024,
          2.487714984224427,
          0.3240442511266919,
          0.016725442423100204,
          4.313179830047696,
          0.01035320399341193,
          0.6556855070061354,
          7.305724553412326,
          0.7615483811595624,
          0.07180273843352494,
          0.019527870791270083,
          0.023283147487063578,
          0.03594005624665695,
          2.41622803522965,
          0.45103185164166876,
          0.02642168055417163,
          0.014136994498500545,
          0.7107624591083601,
          7.729731502348729,
          0.6535232131933079,
          7.23974467462096,
          0.015975627089929178,
          0.08667715312463047,
          0.017494363997301608,
          0.10738333440901057,
          0.897499624082285,
          8.52108809242522,
          0.012313380069145318,
          0.2655605073199314,
          0.7194327583159087,
          0.5900814795237284,
          0.022146324495353406,
          0.13388604654839945,
          6.305596304990532,
          7.348861914638498,
          0.9118726704613901,
          0.6914945579286461,
          1.4074822362781039,
          0.02720066288766469,
          0.012032769971240549,
          0.02137629523741644,
          0.1780954403469097,
          0.4013636602280528,
          0.014073468815611707,
          0.01402486216774064,
          0.02286750227364291,
          4.824358783007409,
          0.11169219545985529,
          0.2927010912336367,
          0.04277229803475929,
          0.507123662445956,
          0.160647333794055,
          0.16428641490203766,
          0.06566271040532483,
          9.363637716926826,
          0.1382320920240548,
          0.7609887668309826,
          0.018470397235606395,
          0.8196477474599286,
          6.62135117846047,
          0.011625733609137401,
          0.1550235236888625,
          0.04825277795261175,
          2.6019378622062317,
          0.019619429034729765,
          0.5116190172324526,
          0.037440064937739055,
          0.08770998019776095,
          2.625058921674975,
          3.4246179739932647,
          2.4267965274899312,
          4.343377793250722,
          0.09449383077328626,
          0.028003530764018625,
          0.07045654344536163,
          0.012404769455793309,
          1.2184098366579121,
          0.8751313316001039,
          6.53872709038488,
          0.010633554724178065,
          2.484325040028493,
          3.3323996420526054,
          0.06059210912132856,
          4.547970013708444,
          7.679733969285893,
          0.32189709041888726,
          0.2716018664757433,
          0.1567892260270225,
          0.24216801795707713,
          0.010719523061562876,
          4.113770080292592,
          0.4588590014404327,
          0.10710863250732765,
          0.17914999526019226,
          0.023543419823539486,
          9.503363044784564,
          0.032161195128812416,
          0.030447265733971263,
          0.01710832393798724,
          0.04418892942627004,
          3.6066493900282923,
          0.06408776041778638,
          0.8367852800880448,
          0.1340402204245466,
          0.013513345363822152,
          0.22362723746871446,
          0.8048275772815652,
          0.04319432508279183,
          0.5661300875256327,
          3.3381179800589327,
          0.01814898632317917,
          0.01622977607749056,
          0.3355993439527287,
          0.1055046365383603,
          0.3911432839894509,
          0.02150458112009587,
          0.7045593486636776,
          0.05051448616390107,
          0.45658696088123707,
          0.09379894918925637,
          1.1864264633694679,
          0.028534777087763762,
          0.5626786250159912,
          3.8458773219426696,
          0.01255556569435987,
          0.15048015178109325,
          0.5761014588218291,
          0.1605530540282818,
          3.4761490810204365,
          2.8328795071681525,
          3.2642533823486786,
          3.6147948186243792,
          0.5581000855177064,
          0.015937454723838992,
          0.2858343201602987,
          0.42590588154860654,
          8.38176904936794,
          0.1265620746042377,
          1.514803962662444,
          0.023454158653051307,
          1.065373030496576,
          1.4658524113174358,
          3.1662543141065584,
          2.1309549371203467,
          1.1749178764646,
          0.08788948403482796,
          0.5865011567299384,
          0.8157109699225752,
          1.3988159822083082,
          9.100395198201442,
          2.371987901894069,
          0.06772465718340923,
          0.027643783457538054,
          0.07931698456694951,
          0.06865463322025443,
          7.232727518623565,
          0.8821425852044329,
          0.060205492355472054,
          0.07723931950697714,
          0.08879822158262446,
          0.010134215338029441,
          0.07429284993668595,
          0.07836818939004365,
          4.732574177511548,
          0.6613252201817359,
          0.010196202087229395,
          9.439981254820681,
          0.01027005055530255,
          0.192968015205417,
          6.612363362982121,
          0.017193210605788788,
          1.9592487877054943,
          0.08376188024813663,
          0.013313456146033015,
          0.035315836587124984,
          2.128916894622956,
          3.0914502736264127,
          4.67636319903576,
          1.4521410708874114,
          0.264376854239444,
          0.034468490615851,
          0.5196208822194063,
          0.020271523756867773,
          0.0744301669502829,
          0.3889777862508648,
          0.12914771572057868,
          4.246499925677047,
          0.04682391430633818
         ],
         "xaxis": "x",
         "y": [
          0.6738840772818121,
          0.6738840772818121,
          0.6735509660226515,
          0.6738840772818121,
          0.673217854763491,
          0.6715522984676882,
          0.6738840772818121,
          0.6715522984676882,
          0.6738840772818121,
          0.6738840772818121,
          0.6738840772818121,
          0.6738840772818121,
          0.6715522984676882,
          0.6738840772818121,
          0.673217854763491,
          0.6715522984676882,
          0.6738840772818121,
          0.6738840772818121,
          0.6738840772818121,
          0.6738840772818121,
          0.6738840772818121,
          0.6718854097268487,
          0.6738840772818121,
          0.6738840772818121,
          0.6738840772818121,
          0.6738840772818121,
          0.6738840772818121,
          0.6738840772818121,
          0.6735509660226515,
          0.6738840772818121,
          0.6738840772818121,
          0.6738840772818121,
          0.6738840772818121,
          0.6735509660226515,
          0.6725516322451699,
          0.6715522984676882,
          0.6738840772818121,
          0.6738840772818121,
          0.6738840772818121,
          0.6738840772818121,
          0.6738840772818121,
          0.6735509660226515,
          0.6738840772818121,
          0.6738840772818121,
          0.6738840772818121,
          0.6738840772818121,
          0.6738840772818121,
          0.6738840772818121,
          0.6735509660226515,
          0.6738840772818121,
          0.6738840772818121,
          0.6735509660226515,
          0.6738840772818121,
          0.6738840772818121,
          0.673217854763491,
          0.6715522984676882,
          0.6715522984676882,
          0.6715522984676882,
          0.6738840772818121,
          0.6738840772818121,
          0.6738840772818121,
          0.6738840772818121,
          0.6738840772818121,
          0.6738840772818121,
          0.673217854763491,
          0.6738840772818121,
          0.6738840772818121,
          0.6738840772818121,
          0.6738840772818121,
          0.6735509660226515,
          0.6738840772818121,
          0.6738840772818121,
          0.6712191872085277,
          0.6738840772818121,
          0.6738840772818121,
          0.6738840772818121,
          0.6715522984676882,
          0.6735509660226515,
          0.6738840772818121,
          0.6738840772818121,
          0.6738840772818121,
          0.6738840772818121,
          0.6738840772818121,
          0.6738840772818121,
          0.6738840772818121,
          0.6738840772818121,
          0.6738840772818121,
          0.6735509660226515,
          0.6738840772818121,
          0.6735509660226515,
          0.6738840772818121,
          0.6738840772818121,
          0.6738840772818121,
          0.6738840772818121,
          0.6738840772818121,
          0.6738840772818121,
          0.6738840772818121,
          0.6738840772818121,
          0.6738840772818121,
          0.6738840772818121,
          0.6738840772818121,
          0.6712191872085277,
          0.6738840772818121,
          0.6738840772818121,
          0.6738840772818121,
          0.6738840772818121,
          0.6715522984676882,
          0.6738840772818121,
          0.6715522984676882,
          0.6738840772818121,
          0.6735509660226515,
          0.6738840772818121,
          0.6738840772818121,
          0.6738840772818121,
          0.6735509660226515,
          0.6738840772818121,
          0.6738840772818121,
          0.6735509660226515,
          0.6738840772818121,
          0.6715522984676882,
          0.6738840772818121,
          0.6738840772818121,
          0.6738840772818121,
          0.6715522984676882,
          0.673217854763491,
          0.6738840772818121,
          0.6738840772818121,
          0.6738840772818121,
          0.6738840772818121,
          0.6738840772818121,
          0.6735509660226515,
          0.6738840772818121,
          0.6738840772818121,
          0.6738840772818121,
          0.6738840772818121,
          0.6738840772818121,
          0.6712191872085277,
          0.673217854763491,
          0.6738840772818121,
          0.6738840772818121,
          0.6738840772818121,
          0.6738840772818121,
          0.6738840772818121,
          0.6738840772818121,
          0.6738840772818121,
          0.6715522984676882,
          0.6738840772818121,
          0.6738840772818121,
          0.6738840772818121,
          0.6738840772818121,
          0.6738840772818121,
          0.6715522984676882,
          0.6738840772818121,
          0.6738840772818121,
          0.6738840772818121,
          0.6738840772818121,
          0.6738840772818121,
          0.6738840772818121,
          0.6735509660226515,
          0.6735509660226515,
          0.6738840772818121,
          0.6738840772818121,
          0.6738840772818121,
          0.6715522984676882,
          0.6738840772818121,
          0.6718854097268487,
          0.6738840772818121,
          0.6738840772818121,
          0.6738840772818121,
          0.6715522984676882,
          0.6718854097268487,
          0.6738840772818121,
          0.6735509660226515,
          0.6738840772818121,
          0.6718854097268487,
          0.6738840772818121,
          0.6738840772818121,
          0.6735509660226515,
          0.6738840772818121,
          0.6738840772818121,
          0.6738840772818121,
          0.6738840772818121,
          0.6738840772818121,
          0.6738840772818121,
          0.6738840772818121,
          0.6738840772818121,
          0.6738840772818121,
          0.6738840772818121,
          0.6738840772818121,
          0.6738840772818121,
          0.6738840772818121,
          0.6738840772818121,
          0.6738840772818121,
          0.6738840772818121,
          0.6738840772818121,
          0.6738840772818121,
          0.6738840772818121,
          0.6738840772818121,
          0.6738840772818121,
          0.6715522984676882
         ],
         "yaxis": "y"
        },
        {
         "marker": {
          "color": [
           0,
           1,
           2,
           3,
           4,
           5,
           6,
           7,
           8,
           9,
           10,
           11,
           12,
           13,
           14,
           15,
           16,
           17,
           18,
           19,
           20,
           21,
           22,
           23,
           24,
           25,
           26,
           27,
           28,
           29,
           30,
           31,
           32,
           33,
           34,
           35,
           36,
           37,
           38,
           39,
           40,
           41,
           42,
           43,
           44,
           45,
           46,
           47,
           48,
           49,
           50,
           51,
           52,
           53,
           54,
           55,
           56,
           57,
           58,
           59,
           60,
           61,
           62,
           63,
           64,
           65,
           66,
           67,
           68,
           69,
           70,
           71,
           72,
           73,
           74,
           75,
           76,
           77,
           78,
           79,
           80,
           81,
           82,
           83,
           84,
           85,
           86,
           87,
           88,
           89,
           90,
           91,
           92,
           93,
           94,
           95,
           96,
           97,
           98,
           99,
           100,
           101,
           102,
           103,
           104,
           105,
           106,
           107,
           108,
           109,
           110,
           111,
           112,
           113,
           114,
           115,
           116,
           117,
           118,
           119,
           120,
           121,
           122,
           123,
           124,
           125,
           126,
           127,
           128,
           129,
           130,
           131,
           132,
           133,
           134,
           135,
           136,
           137,
           138,
           139,
           140,
           141,
           142,
           143,
           144,
           145,
           146,
           147,
           148,
           149,
           150,
           151,
           152,
           153,
           154,
           155,
           156,
           157,
           158,
           159,
           160,
           161,
           162,
           163,
           164,
           165,
           166,
           167,
           168,
           169,
           170,
           171,
           172,
           173,
           174,
           175,
           176,
           177,
           178,
           179,
           180,
           181,
           182,
           183,
           184,
           185,
           186,
           187,
           188,
           189,
           190,
           191,
           192,
           193,
           194,
           195,
           196,
           197,
           198,
           199
          ],
          "colorbar": {
           "title": {
            "text": "Trial"
           },
           "x": 1,
           "xpad": 40
          },
          "colorscale": [
           [
            0,
            "rgb(247,251,255)"
           ],
           [
            0.125,
            "rgb(222,235,247)"
           ],
           [
            0.25,
            "rgb(198,219,239)"
           ],
           [
            0.375,
            "rgb(158,202,225)"
           ],
           [
            0.5,
            "rgb(107,174,214)"
           ],
           [
            0.625,
            "rgb(66,146,198)"
           ],
           [
            0.75,
            "rgb(33,113,181)"
           ],
           [
            0.875,
            "rgb(8,81,156)"
           ],
           [
            1,
            "rgb(8,48,107)"
           ]
          ],
          "line": {
           "color": "Grey",
           "width": 0.5
          },
          "showscale": false
         },
         "mode": "markers",
         "name": "Feasible Trial",
         "showlegend": false,
         "type": "scatter",
         "x": [
          354,
          471,
          981,
          664,
          412,
          637,
          593,
          316,
          555,
          891,
          311,
          315,
          661,
          446,
          214,
          642,
          490,
          216,
          968,
          906,
          457,
          405,
          121,
          999,
          803,
          935,
          500,
          861,
          337,
          801,
          788,
          295,
          533,
          749,
          640,
          382,
          522,
          886,
          366,
          910,
          372,
          675,
          718,
          189,
          311,
          537,
          409,
          403,
          138,
          848,
          265,
          179,
          530,
          498,
          420,
          510,
          177,
          456,
          982,
          297,
          710,
          671,
          252,
          582,
          527,
          519,
          501,
          305,
          545,
          383,
          681,
          384,
          511,
          261,
          756,
          872,
          562,
          793,
          752,
          767,
          143,
          301,
          107,
          730,
          327,
          465,
          484,
          548,
          810,
          270,
          442,
          619,
          533,
          513,
          925,
          291,
          194,
          935,
          248,
          211,
          307,
          407,
          633,
          347,
          193,
          491,
          406,
          999,
          601,
          546,
          177,
          951,
          416,
          408,
          678,
          346,
          468,
          168,
          795,
          242,
          786,
          157,
          294,
          665,
          278,
          164,
          195,
          525,
          153,
          648,
          533,
          934,
          237,
          988,
          217,
          133,
          827,
          671,
          643,
          690,
          503,
          857,
          339,
          342,
          987,
          297,
          146,
          373,
          219,
          939,
          518,
          620,
          963,
          699,
          902,
          515,
          768,
          490,
          176,
          884,
          636,
          925,
          817,
          724,
          517,
          381,
          668,
          735,
          281,
          397,
          873,
          499,
          615,
          533,
          498,
          518,
          151,
          849,
          136,
          263,
          960,
          621,
          184,
          365,
          197,
          964,
          394,
          641,
          524,
          280,
          433,
          973,
          725,
          430,
          557,
          682,
          228,
          937,
          273,
          547
         ],
         "xaxis": "x2",
         "y": [
          0.6738840772818121,
          0.6738840772818121,
          0.6735509660226515,
          0.6738840772818121,
          0.673217854763491,
          0.6715522984676882,
          0.6738840772818121,
          0.6715522984676882,
          0.6738840772818121,
          0.6738840772818121,
          0.6738840772818121,
          0.6738840772818121,
          0.6715522984676882,
          0.6738840772818121,
          0.673217854763491,
          0.6715522984676882,
          0.6738840772818121,
          0.6738840772818121,
          0.6738840772818121,
          0.6738840772818121,
          0.6738840772818121,
          0.6718854097268487,
          0.6738840772818121,
          0.6738840772818121,
          0.6738840772818121,
          0.6738840772818121,
          0.6738840772818121,
          0.6738840772818121,
          0.6735509660226515,
          0.6738840772818121,
          0.6738840772818121,
          0.6738840772818121,
          0.6738840772818121,
          0.6735509660226515,
          0.6725516322451699,
          0.6715522984676882,
          0.6738840772818121,
          0.6738840772818121,
          0.6738840772818121,
          0.6738840772818121,
          0.6738840772818121,
          0.6735509660226515,
          0.6738840772818121,
          0.6738840772818121,
          0.6738840772818121,
          0.6738840772818121,
          0.6738840772818121,
          0.6738840772818121,
          0.6735509660226515,
          0.6738840772818121,
          0.6738840772818121,
          0.6735509660226515,
          0.6738840772818121,
          0.6738840772818121,
          0.673217854763491,
          0.6715522984676882,
          0.6715522984676882,
          0.6715522984676882,
          0.6738840772818121,
          0.6738840772818121,
          0.6738840772818121,
          0.6738840772818121,
          0.6738840772818121,
          0.6738840772818121,
          0.673217854763491,
          0.6738840772818121,
          0.6738840772818121,
          0.6738840772818121,
          0.6738840772818121,
          0.6735509660226515,
          0.6738840772818121,
          0.6738840772818121,
          0.6712191872085277,
          0.6738840772818121,
          0.6738840772818121,
          0.6738840772818121,
          0.6715522984676882,
          0.6735509660226515,
          0.6738840772818121,
          0.6738840772818121,
          0.6738840772818121,
          0.6738840772818121,
          0.6738840772818121,
          0.6738840772818121,
          0.6738840772818121,
          0.6738840772818121,
          0.6738840772818121,
          0.6735509660226515,
          0.6738840772818121,
          0.6735509660226515,
          0.6738840772818121,
          0.6738840772818121,
          0.6738840772818121,
          0.6738840772818121,
          0.6738840772818121,
          0.6738840772818121,
          0.6738840772818121,
          0.6738840772818121,
          0.6738840772818121,
          0.6738840772818121,
          0.6738840772818121,
          0.6712191872085277,
          0.6738840772818121,
          0.6738840772818121,
          0.6738840772818121,
          0.6738840772818121,
          0.6715522984676882,
          0.6738840772818121,
          0.6715522984676882,
          0.6738840772818121,
          0.6735509660226515,
          0.6738840772818121,
          0.6738840772818121,
          0.6738840772818121,
          0.6735509660226515,
          0.6738840772818121,
          0.6738840772818121,
          0.6735509660226515,
          0.6738840772818121,
          0.6715522984676882,
          0.6738840772818121,
          0.6738840772818121,
          0.6738840772818121,
          0.6715522984676882,
          0.673217854763491,
          0.6738840772818121,
          0.6738840772818121,
          0.6738840772818121,
          0.6738840772818121,
          0.6738840772818121,
          0.6735509660226515,
          0.6738840772818121,
          0.6738840772818121,
          0.6738840772818121,
          0.6738840772818121,
          0.6738840772818121,
          0.6712191872085277,
          0.673217854763491,
          0.6738840772818121,
          0.6738840772818121,
          0.6738840772818121,
          0.6738840772818121,
          0.6738840772818121,
          0.6738840772818121,
          0.6738840772818121,
          0.6715522984676882,
          0.6738840772818121,
          0.6738840772818121,
          0.6738840772818121,
          0.6738840772818121,
          0.6738840772818121,
          0.6715522984676882,
          0.6738840772818121,
          0.6738840772818121,
          0.6738840772818121,
          0.6738840772818121,
          0.6738840772818121,
          0.6738840772818121,
          0.6735509660226515,
          0.6735509660226515,
          0.6738840772818121,
          0.6738840772818121,
          0.6738840772818121,
          0.6715522984676882,
          0.6738840772818121,
          0.6718854097268487,
          0.6738840772818121,
          0.6738840772818121,
          0.6738840772818121,
          0.6715522984676882,
          0.6718854097268487,
          0.6738840772818121,
          0.6735509660226515,
          0.6738840772818121,
          0.6718854097268487,
          0.6738840772818121,
          0.6738840772818121,
          0.6735509660226515,
          0.6738840772818121,
          0.6738840772818121,
          0.6738840772818121,
          0.6738840772818121,
          0.6738840772818121,
          0.6738840772818121,
          0.6738840772818121,
          0.6738840772818121,
          0.6738840772818121,
          0.6738840772818121,
          0.6738840772818121,
          0.6738840772818121,
          0.6738840772818121,
          0.6738840772818121,
          0.6738840772818121,
          0.6738840772818121,
          0.6738840772818121,
          0.6738840772818121,
          0.6738840772818121,
          0.6738840772818121,
          0.6738840772818121,
          0.6715522984676882
         ],
         "yaxis": "y2"
        },
        {
         "marker": {
          "color": [
           0,
           1,
           2,
           3,
           4,
           5,
           6,
           7,
           8,
           9,
           10,
           11,
           12,
           13,
           14,
           15,
           16,
           17,
           18,
           19,
           20,
           21,
           22,
           23,
           24,
           25,
           26,
           27,
           28,
           29,
           30,
           31,
           32,
           33,
           34,
           35,
           36,
           37,
           38,
           39,
           40,
           41,
           42,
           43,
           44,
           45,
           46,
           47,
           48,
           49,
           50,
           51,
           52,
           53,
           54,
           55,
           56,
           57,
           58,
           59,
           60,
           61,
           62,
           63,
           64,
           65,
           66,
           67,
           68,
           69,
           70,
           71,
           72,
           73,
           74,
           75,
           76,
           77,
           78,
           79,
           80,
           81,
           82,
           83,
           84,
           85,
           86,
           87,
           88,
           89,
           90,
           91,
           92,
           93,
           94,
           95,
           96,
           97,
           98,
           99,
           100,
           101,
           102,
           103,
           104,
           105,
           106,
           107,
           108,
           109,
           110,
           111,
           112,
           113,
           114,
           115,
           116,
           117,
           118,
           119,
           120,
           121,
           122,
           123,
           124,
           125,
           126,
           127,
           128,
           129,
           130,
           131,
           132,
           133,
           134,
           135,
           136,
           137,
           138,
           139,
           140,
           141,
           142,
           143,
           144,
           145,
           146,
           147,
           148,
           149,
           150,
           151,
           152,
           153,
           154,
           155,
           156,
           157,
           158,
           159,
           160,
           161,
           162,
           163,
           164,
           165,
           166,
           167,
           168,
           169,
           170,
           171,
           172,
           173,
           174,
           175,
           176,
           177,
           178,
           179,
           180,
           181,
           182,
           183,
           184,
           185,
           186,
           187,
           188,
           189,
           190,
           191,
           192,
           193,
           194,
           195,
           196,
           197,
           198,
           199
          ],
          "colorbar": {
           "title": {
            "text": "Trial"
           },
           "x": 1,
           "xpad": 40
          },
          "colorscale": [
           [
            0,
            "rgb(247,251,255)"
           ],
           [
            0.125,
            "rgb(222,235,247)"
           ],
           [
            0.25,
            "rgb(198,219,239)"
           ],
           [
            0.375,
            "rgb(158,202,225)"
           ],
           [
            0.5,
            "rgb(107,174,214)"
           ],
           [
            0.625,
            "rgb(66,146,198)"
           ],
           [
            0.75,
            "rgb(33,113,181)"
           ],
           [
            0.875,
            "rgb(8,81,156)"
           ],
           [
            1,
            "rgb(8,48,107)"
           ]
          ],
          "line": {
           "color": "Grey",
           "width": 0.5
          },
          "showscale": false
         },
         "mode": "markers",
         "name": "Feasible Trial",
         "showlegend": false,
         "type": "scatter",
         "x": [
          "l2",
          "l2",
          "l1",
          "l1",
          "l1",
          "l1",
          "l1",
          "l1",
          "l2",
          "l1",
          "l1",
          "l2",
          "l1",
          "l2",
          "l1",
          "l1",
          "l2",
          "l2",
          "l2",
          "l1",
          "l1",
          "l1",
          "l2",
          "l1",
          "l1",
          "l1",
          "l2",
          "l1",
          "l1",
          "l2",
          "l1",
          "l2",
          "l1",
          "l1",
          "l1",
          "l1",
          "l1",
          "l2",
          "l2",
          "l2",
          "l2",
          "l1",
          "l2",
          "l1",
          "l1",
          "l1",
          "l1",
          "l2",
          "l1",
          "l2",
          "l1",
          "l1",
          "l1",
          "l1",
          "l1",
          "l1",
          "l1",
          "l1",
          "l2",
          "l2",
          "l2",
          "l2",
          "l2",
          "l1",
          "l1",
          "l2",
          "l1",
          "l1",
          "l1",
          "l1",
          "l1",
          "l2",
          "l1",
          "l1",
          "l1",
          "l2",
          "l1",
          "l1",
          "l1",
          "l2",
          "l2",
          "l1",
          "l2",
          "l1",
          "l2",
          "l1",
          "l1",
          "l1",
          "l2",
          "l1",
          "l2",
          "l2",
          "l1",
          "l2",
          "l2",
          "l2",
          "l1",
          "l2",
          "l2",
          "l2",
          "l2",
          "l1",
          "l1",
          "l2",
          "l1",
          "l2",
          "l1",
          "l2",
          "l1",
          "l2",
          "l1",
          "l2",
          "l1",
          "l2",
          "l1",
          "l1",
          "l2",
          "l1",
          "l1",
          "l1",
          "l2",
          "l2",
          "l2",
          "l1",
          "l1",
          "l2",
          "l2",
          "l2",
          "l2",
          "l2",
          "l1",
          "l2",
          "l2",
          "l2",
          "l2",
          "l1",
          "l1",
          "l1",
          "l2",
          "l2",
          "l2",
          "l1",
          "l1",
          "l1",
          "l2",
          "l1",
          "l2",
          "l2",
          "l2",
          "l2",
          "l1",
          "l1",
          "l1",
          "l2",
          "l1",
          "l2",
          "l1",
          "l1",
          "l1",
          "l1",
          "l1",
          "l1",
          "l2",
          "l1",
          "l2",
          "l1",
          "l2",
          "l2",
          "l2",
          "l1",
          "l1",
          "l2",
          "l2",
          "l1",
          "l1",
          "l1",
          "l1",
          "l1",
          "l1",
          "l2",
          "l2",
          "l1",
          "l2",
          "l1",
          "l2",
          "l2",
          "l2",
          "l2",
          "l2",
          "l1",
          "l1",
          "l2",
          "l1",
          "l2",
          "l2",
          "l2",
          "l2",
          "l2",
          "l1",
          "l1"
         ],
         "xaxis": "x3",
         "y": [
          0.6738840772818121,
          0.6738840772818121,
          0.6735509660226515,
          0.6738840772818121,
          0.673217854763491,
          0.6715522984676882,
          0.6738840772818121,
          0.6715522984676882,
          0.6738840772818121,
          0.6738840772818121,
          0.6738840772818121,
          0.6738840772818121,
          0.6715522984676882,
          0.6738840772818121,
          0.673217854763491,
          0.6715522984676882,
          0.6738840772818121,
          0.6738840772818121,
          0.6738840772818121,
          0.6738840772818121,
          0.6738840772818121,
          0.6718854097268487,
          0.6738840772818121,
          0.6738840772818121,
          0.6738840772818121,
          0.6738840772818121,
          0.6738840772818121,
          0.6738840772818121,
          0.6735509660226515,
          0.6738840772818121,
          0.6738840772818121,
          0.6738840772818121,
          0.6738840772818121,
          0.6735509660226515,
          0.6725516322451699,
          0.6715522984676882,
          0.6738840772818121,
          0.6738840772818121,
          0.6738840772818121,
          0.6738840772818121,
          0.6738840772818121,
          0.6735509660226515,
          0.6738840772818121,
          0.6738840772818121,
          0.6738840772818121,
          0.6738840772818121,
          0.6738840772818121,
          0.6738840772818121,
          0.6735509660226515,
          0.6738840772818121,
          0.6738840772818121,
          0.6735509660226515,
          0.6738840772818121,
          0.6738840772818121,
          0.673217854763491,
          0.6715522984676882,
          0.6715522984676882,
          0.6715522984676882,
          0.6738840772818121,
          0.6738840772818121,
          0.6738840772818121,
          0.6738840772818121,
          0.6738840772818121,
          0.6738840772818121,
          0.673217854763491,
          0.6738840772818121,
          0.6738840772818121,
          0.6738840772818121,
          0.6738840772818121,
          0.6735509660226515,
          0.6738840772818121,
          0.6738840772818121,
          0.6712191872085277,
          0.6738840772818121,
          0.6738840772818121,
          0.6738840772818121,
          0.6715522984676882,
          0.6735509660226515,
          0.6738840772818121,
          0.6738840772818121,
          0.6738840772818121,
          0.6738840772818121,
          0.6738840772818121,
          0.6738840772818121,
          0.6738840772818121,
          0.6738840772818121,
          0.6738840772818121,
          0.6735509660226515,
          0.6738840772818121,
          0.6735509660226515,
          0.6738840772818121,
          0.6738840772818121,
          0.6738840772818121,
          0.6738840772818121,
          0.6738840772818121,
          0.6738840772818121,
          0.6738840772818121,
          0.6738840772818121,
          0.6738840772818121,
          0.6738840772818121,
          0.6738840772818121,
          0.6712191872085277,
          0.6738840772818121,
          0.6738840772818121,
          0.6738840772818121,
          0.6738840772818121,
          0.6715522984676882,
          0.6738840772818121,
          0.6715522984676882,
          0.6738840772818121,
          0.6735509660226515,
          0.6738840772818121,
          0.6738840772818121,
          0.6738840772818121,
          0.6735509660226515,
          0.6738840772818121,
          0.6738840772818121,
          0.6735509660226515,
          0.6738840772818121,
          0.6715522984676882,
          0.6738840772818121,
          0.6738840772818121,
          0.6738840772818121,
          0.6715522984676882,
          0.673217854763491,
          0.6738840772818121,
          0.6738840772818121,
          0.6738840772818121,
          0.6738840772818121,
          0.6738840772818121,
          0.6735509660226515,
          0.6738840772818121,
          0.6738840772818121,
          0.6738840772818121,
          0.6738840772818121,
          0.6738840772818121,
          0.6712191872085277,
          0.673217854763491,
          0.6738840772818121,
          0.6738840772818121,
          0.6738840772818121,
          0.6738840772818121,
          0.6738840772818121,
          0.6738840772818121,
          0.6738840772818121,
          0.6715522984676882,
          0.6738840772818121,
          0.6738840772818121,
          0.6738840772818121,
          0.6738840772818121,
          0.6738840772818121,
          0.6715522984676882,
          0.6738840772818121,
          0.6738840772818121,
          0.6738840772818121,
          0.6738840772818121,
          0.6738840772818121,
          0.6738840772818121,
          0.6735509660226515,
          0.6735509660226515,
          0.6738840772818121,
          0.6738840772818121,
          0.6738840772818121,
          0.6715522984676882,
          0.6738840772818121,
          0.6718854097268487,
          0.6738840772818121,
          0.6738840772818121,
          0.6738840772818121,
          0.6715522984676882,
          0.6718854097268487,
          0.6738840772818121,
          0.6735509660226515,
          0.6738840772818121,
          0.6718854097268487,
          0.6738840772818121,
          0.6738840772818121,
          0.6735509660226515,
          0.6738840772818121,
          0.6738840772818121,
          0.6738840772818121,
          0.6738840772818121,
          0.6738840772818121,
          0.6738840772818121,
          0.6738840772818121,
          0.6738840772818121,
          0.6738840772818121,
          0.6738840772818121,
          0.6738840772818121,
          0.6738840772818121,
          0.6738840772818121,
          0.6738840772818121,
          0.6738840772818121,
          0.6738840772818121,
          0.6738840772818121,
          0.6738840772818121,
          0.6738840772818121,
          0.6738840772818121,
          0.6738840772818121,
          0.6715522984676882
         ],
         "yaxis": "y3"
        },
        {
         "marker": {
          "color": [
           0,
           1,
           2,
           3,
           4,
           5,
           6,
           7,
           8,
           9,
           10,
           11,
           12,
           13,
           14,
           15,
           16,
           17,
           18,
           19,
           20,
           21,
           22,
           23,
           24,
           25,
           26,
           27,
           28,
           29,
           30,
           31,
           32,
           33,
           34,
           35,
           36,
           37,
           38,
           39,
           40,
           41,
           42,
           43,
           44,
           45,
           46,
           47,
           48,
           49,
           50,
           51,
           52,
           53,
           54,
           55,
           56,
           57,
           58,
           59,
           60,
           61,
           62,
           63,
           64,
           65,
           66,
           67,
           68,
           69,
           70,
           71,
           72,
           73,
           74,
           75,
           76,
           77,
           78,
           79,
           80,
           81,
           82,
           83,
           84,
           85,
           86,
           87,
           88,
           89,
           90,
           91,
           92,
           93,
           94,
           95,
           96,
           97,
           98,
           99,
           100,
           101,
           102,
           103,
           104,
           105,
           106,
           107,
           108,
           109,
           110,
           111,
           112,
           113,
           114,
           115,
           116,
           117,
           118,
           119,
           120,
           121,
           122,
           123,
           124,
           125,
           126,
           127,
           128,
           129,
           130,
           131,
           132,
           133,
           134,
           135,
           136,
           137,
           138,
           139,
           140,
           141,
           142,
           143,
           144,
           145,
           146,
           147,
           148,
           149,
           150,
           151,
           152,
           153,
           154,
           155,
           156,
           157,
           158,
           159,
           160,
           161,
           162,
           163,
           164,
           165,
           166,
           167,
           168,
           169,
           170,
           171,
           172,
           173,
           174,
           175,
           176,
           177,
           178,
           179,
           180,
           181,
           182,
           183,
           184,
           185,
           186,
           187,
           188,
           189,
           190,
           191,
           192,
           193,
           194,
           195,
           196,
           197,
           198,
           199
          ],
          "colorbar": {
           "title": {
            "text": "Trial"
           },
           "x": 1,
           "xpad": 40
          },
          "colorscale": [
           [
            0,
            "rgb(247,251,255)"
           ],
           [
            0.125,
            "rgb(222,235,247)"
           ],
           [
            0.25,
            "rgb(198,219,239)"
           ],
           [
            0.375,
            "rgb(158,202,225)"
           ],
           [
            0.5,
            "rgb(107,174,214)"
           ],
           [
            0.625,
            "rgb(66,146,198)"
           ],
           [
            0.75,
            "rgb(33,113,181)"
           ],
           [
            0.875,
            "rgb(8,81,156)"
           ],
           [
            1,
            "rgb(8,48,107)"
           ]
          ],
          "line": {
           "color": "Grey",
           "width": 0.5
          },
          "showscale": false
         },
         "mode": "markers",
         "name": "Feasible Trial",
         "showlegend": false,
         "type": "scatter",
         "x": [
          "saga",
          "saga",
          "liblinear",
          "liblinear",
          "liblinear",
          "liblinear",
          "saga",
          "liblinear",
          "saga",
          "saga",
          "saga",
          "saga",
          "liblinear",
          "saga",
          "liblinear",
          "liblinear",
          "liblinear",
          "saga",
          "liblinear",
          "liblinear",
          "saga",
          "liblinear",
          "saga",
          "saga",
          "saga",
          "saga",
          "saga",
          "saga",
          "saga",
          "saga",
          "liblinear",
          "saga",
          "liblinear",
          "saga",
          "liblinear",
          "liblinear",
          "saga",
          "liblinear",
          "saga",
          "saga",
          "saga",
          "liblinear",
          "saga",
          "saga",
          "saga",
          "saga",
          "saga",
          "saga",
          "liblinear",
          "saga",
          "saga",
          "saga",
          "saga",
          "saga",
          "liblinear",
          "liblinear",
          "liblinear",
          "liblinear",
          "saga",
          "liblinear",
          "liblinear",
          "saga",
          "liblinear",
          "saga",
          "liblinear",
          "liblinear",
          "liblinear",
          "saga",
          "saga",
          "saga",
          "saga",
          "saga",
          "liblinear",
          "saga",
          "saga",
          "liblinear",
          "liblinear",
          "liblinear",
          "saga",
          "liblinear",
          "liblinear",
          "liblinear",
          "liblinear",
          "liblinear",
          "saga",
          "saga",
          "saga",
          "saga",
          "liblinear",
          "liblinear",
          "liblinear",
          "saga",
          "liblinear",
          "liblinear",
          "saga",
          "saga",
          "saga",
          "liblinear",
          "liblinear",
          "saga",
          "saga",
          "liblinear",
          "liblinear",
          "saga",
          "saga",
          "saga",
          "liblinear",
          "liblinear",
          "liblinear",
          "liblinear",
          "saga",
          "saga",
          "saga",
          "liblinear",
          "liblinear",
          "saga",
          "saga",
          "liblinear",
          "saga",
          "liblinear",
          "liblinear",
          "saga",
          "liblinear",
          "liblinear",
          "liblinear",
          "saga",
          "liblinear",
          "saga",
          "saga",
          "liblinear",
          "liblinear",
          "saga",
          "liblinear",
          "liblinear",
          "liblinear",
          "liblinear",
          "liblinear",
          "liblinear",
          "saga",
          "liblinear",
          "liblinear",
          "saga",
          "liblinear",
          "saga",
          "saga",
          "liblinear",
          "liblinear",
          "saga",
          "saga",
          "saga",
          "liblinear",
          "liblinear",
          "saga",
          "liblinear",
          "liblinear",
          "saga",
          "saga",
          "saga",
          "liblinear",
          "liblinear",
          "saga",
          "liblinear",
          "saga",
          "liblinear",
          "liblinear",
          "liblinear",
          "liblinear",
          "liblinear",
          "liblinear",
          "liblinear",
          "liblinear",
          "liblinear",
          "liblinear",
          "saga",
          "liblinear",
          "liblinear",
          "saga",
          "saga",
          "saga",
          "saga",
          "saga",
          "saga",
          "liblinear",
          "saga",
          "saga",
          "liblinear",
          "liblinear",
          "saga",
          "saga",
          "liblinear",
          "liblinear",
          "liblinear",
          "saga",
          "liblinear",
          "liblinear",
          "saga",
          "saga",
          "liblinear",
          "liblinear",
          "liblinear"
         ],
         "xaxis": "x4",
         "y": [
          0.6738840772818121,
          0.6738840772818121,
          0.6735509660226515,
          0.6738840772818121,
          0.673217854763491,
          0.6715522984676882,
          0.6738840772818121,
          0.6715522984676882,
          0.6738840772818121,
          0.6738840772818121,
          0.6738840772818121,
          0.6738840772818121,
          0.6715522984676882,
          0.6738840772818121,
          0.673217854763491,
          0.6715522984676882,
          0.6738840772818121,
          0.6738840772818121,
          0.6738840772818121,
          0.6738840772818121,
          0.6738840772818121,
          0.6718854097268487,
          0.6738840772818121,
          0.6738840772818121,
          0.6738840772818121,
          0.6738840772818121,
          0.6738840772818121,
          0.6738840772818121,
          0.6735509660226515,
          0.6738840772818121,
          0.6738840772818121,
          0.6738840772818121,
          0.6738840772818121,
          0.6735509660226515,
          0.6725516322451699,
          0.6715522984676882,
          0.6738840772818121,
          0.6738840772818121,
          0.6738840772818121,
          0.6738840772818121,
          0.6738840772818121,
          0.6735509660226515,
          0.6738840772818121,
          0.6738840772818121,
          0.6738840772818121,
          0.6738840772818121,
          0.6738840772818121,
          0.6738840772818121,
          0.6735509660226515,
          0.6738840772818121,
          0.6738840772818121,
          0.6735509660226515,
          0.6738840772818121,
          0.6738840772818121,
          0.673217854763491,
          0.6715522984676882,
          0.6715522984676882,
          0.6715522984676882,
          0.6738840772818121,
          0.6738840772818121,
          0.6738840772818121,
          0.6738840772818121,
          0.6738840772818121,
          0.6738840772818121,
          0.673217854763491,
          0.6738840772818121,
          0.6738840772818121,
          0.6738840772818121,
          0.6738840772818121,
          0.6735509660226515,
          0.6738840772818121,
          0.6738840772818121,
          0.6712191872085277,
          0.6738840772818121,
          0.6738840772818121,
          0.6738840772818121,
          0.6715522984676882,
          0.6735509660226515,
          0.6738840772818121,
          0.6738840772818121,
          0.6738840772818121,
          0.6738840772818121,
          0.6738840772818121,
          0.6738840772818121,
          0.6738840772818121,
          0.6738840772818121,
          0.6738840772818121,
          0.6735509660226515,
          0.6738840772818121,
          0.6735509660226515,
          0.6738840772818121,
          0.6738840772818121,
          0.6738840772818121,
          0.6738840772818121,
          0.6738840772818121,
          0.6738840772818121,
          0.6738840772818121,
          0.6738840772818121,
          0.6738840772818121,
          0.6738840772818121,
          0.6738840772818121,
          0.6712191872085277,
          0.6738840772818121,
          0.6738840772818121,
          0.6738840772818121,
          0.6738840772818121,
          0.6715522984676882,
          0.6738840772818121,
          0.6715522984676882,
          0.6738840772818121,
          0.6735509660226515,
          0.6738840772818121,
          0.6738840772818121,
          0.6738840772818121,
          0.6735509660226515,
          0.6738840772818121,
          0.6738840772818121,
          0.6735509660226515,
          0.6738840772818121,
          0.6715522984676882,
          0.6738840772818121,
          0.6738840772818121,
          0.6738840772818121,
          0.6715522984676882,
          0.673217854763491,
          0.6738840772818121,
          0.6738840772818121,
          0.6738840772818121,
          0.6738840772818121,
          0.6738840772818121,
          0.6735509660226515,
          0.6738840772818121,
          0.6738840772818121,
          0.6738840772818121,
          0.6738840772818121,
          0.6738840772818121,
          0.6712191872085277,
          0.673217854763491,
          0.6738840772818121,
          0.6738840772818121,
          0.6738840772818121,
          0.6738840772818121,
          0.6738840772818121,
          0.6738840772818121,
          0.6738840772818121,
          0.6715522984676882,
          0.6738840772818121,
          0.6738840772818121,
          0.6738840772818121,
          0.6738840772818121,
          0.6738840772818121,
          0.6715522984676882,
          0.6738840772818121,
          0.6738840772818121,
          0.6738840772818121,
          0.6738840772818121,
          0.6738840772818121,
          0.6738840772818121,
          0.6735509660226515,
          0.6735509660226515,
          0.6738840772818121,
          0.6738840772818121,
          0.6738840772818121,
          0.6715522984676882,
          0.6738840772818121,
          0.6718854097268487,
          0.6738840772818121,
          0.6738840772818121,
          0.6738840772818121,
          0.6715522984676882,
          0.6718854097268487,
          0.6738840772818121,
          0.6735509660226515,
          0.6738840772818121,
          0.6718854097268487,
          0.6738840772818121,
          0.6738840772818121,
          0.6735509660226515,
          0.6738840772818121,
          0.6738840772818121,
          0.6738840772818121,
          0.6738840772818121,
          0.6738840772818121,
          0.6738840772818121,
          0.6738840772818121,
          0.6738840772818121,
          0.6738840772818121,
          0.6738840772818121,
          0.6738840772818121,
          0.6738840772818121,
          0.6738840772818121,
          0.6738840772818121,
          0.6738840772818121,
          0.6738840772818121,
          0.6738840772818121,
          0.6738840772818121,
          0.6738840772818121,
          0.6738840772818121,
          0.6738840772818121,
          0.6715522984676882
         ],
         "yaxis": "y4"
        }
       ],
       "layout": {
        "template": {
         "data": {
          "bar": [
           {
            "error_x": {
             "color": "#2a3f5f"
            },
            "error_y": {
             "color": "#2a3f5f"
            },
            "marker": {
             "line": {
              "color": "#E5ECF6",
              "width": 0.5
             },
             "pattern": {
              "fillmode": "overlay",
              "size": 10,
              "solidity": 0.2
             }
            },
            "type": "bar"
           }
          ],
          "barpolar": [
           {
            "marker": {
             "line": {
              "color": "#E5ECF6",
              "width": 0.5
             },
             "pattern": {
              "fillmode": "overlay",
              "size": 10,
              "solidity": 0.2
             }
            },
            "type": "barpolar"
           }
          ],
          "carpet": [
           {
            "aaxis": {
             "endlinecolor": "#2a3f5f",
             "gridcolor": "white",
             "linecolor": "white",
             "minorgridcolor": "white",
             "startlinecolor": "#2a3f5f"
            },
            "baxis": {
             "endlinecolor": "#2a3f5f",
             "gridcolor": "white",
             "linecolor": "white",
             "minorgridcolor": "white",
             "startlinecolor": "#2a3f5f"
            },
            "type": "carpet"
           }
          ],
          "choropleth": [
           {
            "colorbar": {
             "outlinewidth": 0,
             "ticks": ""
            },
            "type": "choropleth"
           }
          ],
          "contour": [
           {
            "colorbar": {
             "outlinewidth": 0,
             "ticks": ""
            },
            "colorscale": [
             [
              0,
              "#0d0887"
             ],
             [
              0.1111111111111111,
              "#46039f"
             ],
             [
              0.2222222222222222,
              "#7201a8"
             ],
             [
              0.3333333333333333,
              "#9c179e"
             ],
             [
              0.4444444444444444,
              "#bd3786"
             ],
             [
              0.5555555555555556,
              "#d8576b"
             ],
             [
              0.6666666666666666,
              "#ed7953"
             ],
             [
              0.7777777777777778,
              "#fb9f3a"
             ],
             [
              0.8888888888888888,
              "#fdca26"
             ],
             [
              1,
              "#f0f921"
             ]
            ],
            "type": "contour"
           }
          ],
          "contourcarpet": [
           {
            "colorbar": {
             "outlinewidth": 0,
             "ticks": ""
            },
            "type": "contourcarpet"
           }
          ],
          "heatmap": [
           {
            "colorbar": {
             "outlinewidth": 0,
             "ticks": ""
            },
            "colorscale": [
             [
              0,
              "#0d0887"
             ],
             [
              0.1111111111111111,
              "#46039f"
             ],
             [
              0.2222222222222222,
              "#7201a8"
             ],
             [
              0.3333333333333333,
              "#9c179e"
             ],
             [
              0.4444444444444444,
              "#bd3786"
             ],
             [
              0.5555555555555556,
              "#d8576b"
             ],
             [
              0.6666666666666666,
              "#ed7953"
             ],
             [
              0.7777777777777778,
              "#fb9f3a"
             ],
             [
              0.8888888888888888,
              "#fdca26"
             ],
             [
              1,
              "#f0f921"
             ]
            ],
            "type": "heatmap"
           }
          ],
          "heatmapgl": [
           {
            "colorbar": {
             "outlinewidth": 0,
             "ticks": ""
            },
            "colorscale": [
             [
              0,
              "#0d0887"
             ],
             [
              0.1111111111111111,
              "#46039f"
             ],
             [
              0.2222222222222222,
              "#7201a8"
             ],
             [
              0.3333333333333333,
              "#9c179e"
             ],
             [
              0.4444444444444444,
              "#bd3786"
             ],
             [
              0.5555555555555556,
              "#d8576b"
             ],
             [
              0.6666666666666666,
              "#ed7953"
             ],
             [
              0.7777777777777778,
              "#fb9f3a"
             ],
             [
              0.8888888888888888,
              "#fdca26"
             ],
             [
              1,
              "#f0f921"
             ]
            ],
            "type": "heatmapgl"
           }
          ],
          "histogram": [
           {
            "marker": {
             "pattern": {
              "fillmode": "overlay",
              "size": 10,
              "solidity": 0.2
             }
            },
            "type": "histogram"
           }
          ],
          "histogram2d": [
           {
            "colorbar": {
             "outlinewidth": 0,
             "ticks": ""
            },
            "colorscale": [
             [
              0,
              "#0d0887"
             ],
             [
              0.1111111111111111,
              "#46039f"
             ],
             [
              0.2222222222222222,
              "#7201a8"
             ],
             [
              0.3333333333333333,
              "#9c179e"
             ],
             [
              0.4444444444444444,
              "#bd3786"
             ],
             [
              0.5555555555555556,
              "#d8576b"
             ],
             [
              0.6666666666666666,
              "#ed7953"
             ],
             [
              0.7777777777777778,
              "#fb9f3a"
             ],
             [
              0.8888888888888888,
              "#fdca26"
             ],
             [
              1,
              "#f0f921"
             ]
            ],
            "type": "histogram2d"
           }
          ],
          "histogram2dcontour": [
           {
            "colorbar": {
             "outlinewidth": 0,
             "ticks": ""
            },
            "colorscale": [
             [
              0,
              "#0d0887"
             ],
             [
              0.1111111111111111,
              "#46039f"
             ],
             [
              0.2222222222222222,
              "#7201a8"
             ],
             [
              0.3333333333333333,
              "#9c179e"
             ],
             [
              0.4444444444444444,
              "#bd3786"
             ],
             [
              0.5555555555555556,
              "#d8576b"
             ],
             [
              0.6666666666666666,
              "#ed7953"
             ],
             [
              0.7777777777777778,
              "#fb9f3a"
             ],
             [
              0.8888888888888888,
              "#fdca26"
             ],
             [
              1,
              "#f0f921"
             ]
            ],
            "type": "histogram2dcontour"
           }
          ],
          "mesh3d": [
           {
            "colorbar": {
             "outlinewidth": 0,
             "ticks": ""
            },
            "type": "mesh3d"
           }
          ],
          "parcoords": [
           {
            "line": {
             "colorbar": {
              "outlinewidth": 0,
              "ticks": ""
             }
            },
            "type": "parcoords"
           }
          ],
          "pie": [
           {
            "automargin": true,
            "type": "pie"
           }
          ],
          "scatter": [
           {
            "fillpattern": {
             "fillmode": "overlay",
             "size": 10,
             "solidity": 0.2
            },
            "type": "scatter"
           }
          ],
          "scatter3d": [
           {
            "line": {
             "colorbar": {
              "outlinewidth": 0,
              "ticks": ""
             }
            },
            "marker": {
             "colorbar": {
              "outlinewidth": 0,
              "ticks": ""
             }
            },
            "type": "scatter3d"
           }
          ],
          "scattercarpet": [
           {
            "marker": {
             "colorbar": {
              "outlinewidth": 0,
              "ticks": ""
             }
            },
            "type": "scattercarpet"
           }
          ],
          "scattergeo": [
           {
            "marker": {
             "colorbar": {
              "outlinewidth": 0,
              "ticks": ""
             }
            },
            "type": "scattergeo"
           }
          ],
          "scattergl": [
           {
            "marker": {
             "colorbar": {
              "outlinewidth": 0,
              "ticks": ""
             }
            },
            "type": "scattergl"
           }
          ],
          "scattermapbox": [
           {
            "marker": {
             "colorbar": {
              "outlinewidth": 0,
              "ticks": ""
             }
            },
            "type": "scattermapbox"
           }
          ],
          "scatterpolar": [
           {
            "marker": {
             "colorbar": {
              "outlinewidth": 0,
              "ticks": ""
             }
            },
            "type": "scatterpolar"
           }
          ],
          "scatterpolargl": [
           {
            "marker": {
             "colorbar": {
              "outlinewidth": 0,
              "ticks": ""
             }
            },
            "type": "scatterpolargl"
           }
          ],
          "scatterternary": [
           {
            "marker": {
             "colorbar": {
              "outlinewidth": 0,
              "ticks": ""
             }
            },
            "type": "scatterternary"
           }
          ],
          "surface": [
           {
            "colorbar": {
             "outlinewidth": 0,
             "ticks": ""
            },
            "colorscale": [
             [
              0,
              "#0d0887"
             ],
             [
              0.1111111111111111,
              "#46039f"
             ],
             [
              0.2222222222222222,
              "#7201a8"
             ],
             [
              0.3333333333333333,
              "#9c179e"
             ],
             [
              0.4444444444444444,
              "#bd3786"
             ],
             [
              0.5555555555555556,
              "#d8576b"
             ],
             [
              0.6666666666666666,
              "#ed7953"
             ],
             [
              0.7777777777777778,
              "#fb9f3a"
             ],
             [
              0.8888888888888888,
              "#fdca26"
             ],
             [
              1,
              "#f0f921"
             ]
            ],
            "type": "surface"
           }
          ],
          "table": [
           {
            "cells": {
             "fill": {
              "color": "#EBF0F8"
             },
             "line": {
              "color": "white"
             }
            },
            "header": {
             "fill": {
              "color": "#C8D4E3"
             },
             "line": {
              "color": "white"
             }
            },
            "type": "table"
           }
          ]
         },
         "layout": {
          "annotationdefaults": {
           "arrowcolor": "#2a3f5f",
           "arrowhead": 0,
           "arrowwidth": 1
          },
          "autotypenumbers": "strict",
          "coloraxis": {
           "colorbar": {
            "outlinewidth": 0,
            "ticks": ""
           }
          },
          "colorscale": {
           "diverging": [
            [
             0,
             "#8e0152"
            ],
            [
             0.1,
             "#c51b7d"
            ],
            [
             0.2,
             "#de77ae"
            ],
            [
             0.3,
             "#f1b6da"
            ],
            [
             0.4,
             "#fde0ef"
            ],
            [
             0.5,
             "#f7f7f7"
            ],
            [
             0.6,
             "#e6f5d0"
            ],
            [
             0.7,
             "#b8e186"
            ],
            [
             0.8,
             "#7fbc41"
            ],
            [
             0.9,
             "#4d9221"
            ],
            [
             1,
             "#276419"
            ]
           ],
           "sequential": [
            [
             0,
             "#0d0887"
            ],
            [
             0.1111111111111111,
             "#46039f"
            ],
            [
             0.2222222222222222,
             "#7201a8"
            ],
            [
             0.3333333333333333,
             "#9c179e"
            ],
            [
             0.4444444444444444,
             "#bd3786"
            ],
            [
             0.5555555555555556,
             "#d8576b"
            ],
            [
             0.6666666666666666,
             "#ed7953"
            ],
            [
             0.7777777777777778,
             "#fb9f3a"
            ],
            [
             0.8888888888888888,
             "#fdca26"
            ],
            [
             1,
             "#f0f921"
            ]
           ],
           "sequentialminus": [
            [
             0,
             "#0d0887"
            ],
            [
             0.1111111111111111,
             "#46039f"
            ],
            [
             0.2222222222222222,
             "#7201a8"
            ],
            [
             0.3333333333333333,
             "#9c179e"
            ],
            [
             0.4444444444444444,
             "#bd3786"
            ],
            [
             0.5555555555555556,
             "#d8576b"
            ],
            [
             0.6666666666666666,
             "#ed7953"
            ],
            [
             0.7777777777777778,
             "#fb9f3a"
            ],
            [
             0.8888888888888888,
             "#fdca26"
            ],
            [
             1,
             "#f0f921"
            ]
           ]
          },
          "colorway": [
           "#636efa",
           "#EF553B",
           "#00cc96",
           "#ab63fa",
           "#FFA15A",
           "#19d3f3",
           "#FF6692",
           "#B6E880",
           "#FF97FF",
           "#FECB52"
          ],
          "font": {
           "color": "#2a3f5f"
          },
          "geo": {
           "bgcolor": "white",
           "lakecolor": "white",
           "landcolor": "#E5ECF6",
           "showlakes": true,
           "showland": true,
           "subunitcolor": "white"
          },
          "hoverlabel": {
           "align": "left"
          },
          "hovermode": "closest",
          "mapbox": {
           "style": "light"
          },
          "paper_bgcolor": "white",
          "plot_bgcolor": "#E5ECF6",
          "polar": {
           "angularaxis": {
            "gridcolor": "white",
            "linecolor": "white",
            "ticks": ""
           },
           "bgcolor": "#E5ECF6",
           "radialaxis": {
            "gridcolor": "white",
            "linecolor": "white",
            "ticks": ""
           }
          },
          "scene": {
           "xaxis": {
            "backgroundcolor": "#E5ECF6",
            "gridcolor": "white",
            "gridwidth": 2,
            "linecolor": "white",
            "showbackground": true,
            "ticks": "",
            "zerolinecolor": "white"
           },
           "yaxis": {
            "backgroundcolor": "#E5ECF6",
            "gridcolor": "white",
            "gridwidth": 2,
            "linecolor": "white",
            "showbackground": true,
            "ticks": "",
            "zerolinecolor": "white"
           },
           "zaxis": {
            "backgroundcolor": "#E5ECF6",
            "gridcolor": "white",
            "gridwidth": 2,
            "linecolor": "white",
            "showbackground": true,
            "ticks": "",
            "zerolinecolor": "white"
           }
          },
          "shapedefaults": {
           "line": {
            "color": "#2a3f5f"
           }
          },
          "ternary": {
           "aaxis": {
            "gridcolor": "white",
            "linecolor": "white",
            "ticks": ""
           },
           "baxis": {
            "gridcolor": "white",
            "linecolor": "white",
            "ticks": ""
           },
           "bgcolor": "#E5ECF6",
           "caxis": {
            "gridcolor": "white",
            "linecolor": "white",
            "ticks": ""
           }
          },
          "title": {
           "x": 0.05
          },
          "xaxis": {
           "automargin": true,
           "gridcolor": "white",
           "linecolor": "white",
           "ticks": "",
           "title": {
            "standoff": 15
           },
           "zerolinecolor": "white",
           "zerolinewidth": 2
          },
          "yaxis": {
           "automargin": true,
           "gridcolor": "white",
           "linecolor": "white",
           "ticks": "",
           "title": {
            "standoff": 15
           },
           "zerolinecolor": "white",
           "zerolinewidth": 2
          }
         }
        },
        "title": {
         "text": "Slice Plot"
        },
        "width": 1200,
        "xaxis": {
         "anchor": "y",
         "domain": [
          0,
          0.2125
         ],
         "title": {
          "text": "C"
         },
         "type": "log"
        },
        "xaxis2": {
         "anchor": "y2",
         "domain": [
          0.2625,
          0.475
         ],
         "title": {
          "text": "max_iter"
         }
        },
        "xaxis3": {
         "anchor": "y3",
         "categoryarray": [
          "l1",
          "l2"
         ],
         "categoryorder": "array",
         "domain": [
          0.525,
          0.7375
         ],
         "title": {
          "text": "penalty"
         },
         "type": "category"
        },
        "xaxis4": {
         "anchor": "y4",
         "categoryarray": [
          "liblinear",
          "saga"
         ],
         "categoryorder": "array",
         "domain": [
          0.7875,
          1
         ],
         "title": {
          "text": "solver"
         },
         "type": "category"
        },
        "yaxis": {
         "anchor": "x",
         "domain": [
          0,
          1
         ],
         "title": {
          "text": "Objective Value"
         }
        },
        "yaxis2": {
         "anchor": "x2",
         "domain": [
          0,
          1
         ],
         "matches": "y",
         "showticklabels": false
        },
        "yaxis3": {
         "anchor": "x3",
         "domain": [
          0,
          1
         ],
         "matches": "y",
         "showticklabels": false
        },
        "yaxis4": {
         "anchor": "x4",
         "domain": [
          0,
          1
         ],
         "matches": "y",
         "showticklabels": false
        }
       }
      }
     },
     "metadata": {},
     "output_type": "display_data"
    }
   ],
   "source": [
    "optuna.visualization.plot_slice(study, params=['penalty', 'C', 'max_iter', 'solver'])"
   ]
  },
  {
   "cell_type": "code",
   "execution_count": 31,
   "metadata": {},
   "outputs": [
    {
     "data": {
      "application/vnd.plotly.v1+json": {
       "config": {
        "plotlyServerURL": "https://plot.ly"
       },
       "data": [
        {
         "cliponaxis": false,
         "hovertemplate": [
          "max_iter (IntDistribution): 0.021498644204833148<extra></extra>",
          "solver (CategoricalDistribution): 0.03986034047365337<extra></extra>",
          "penalty (CategoricalDistribution): 0.04194166152640953<extra></extra>",
          "C (FloatDistribution): 0.8966993537951039<extra></extra>"
         ],
         "name": "Objective Value",
         "orientation": "h",
         "text": [
          "0.02",
          "0.04",
          "0.04",
          "0.90"
         ],
         "textposition": "outside",
         "type": "bar",
         "x": [
          0.021498644204833148,
          0.03986034047365337,
          0.04194166152640953,
          0.8966993537951039
         ],
         "y": [
          "max_iter",
          "solver",
          "penalty",
          "C"
         ]
        }
       ],
       "layout": {
        "template": {
         "data": {
          "bar": [
           {
            "error_x": {
             "color": "#2a3f5f"
            },
            "error_y": {
             "color": "#2a3f5f"
            },
            "marker": {
             "line": {
              "color": "#E5ECF6",
              "width": 0.5
             },
             "pattern": {
              "fillmode": "overlay",
              "size": 10,
              "solidity": 0.2
             }
            },
            "type": "bar"
           }
          ],
          "barpolar": [
           {
            "marker": {
             "line": {
              "color": "#E5ECF6",
              "width": 0.5
             },
             "pattern": {
              "fillmode": "overlay",
              "size": 10,
              "solidity": 0.2
             }
            },
            "type": "barpolar"
           }
          ],
          "carpet": [
           {
            "aaxis": {
             "endlinecolor": "#2a3f5f",
             "gridcolor": "white",
             "linecolor": "white",
             "minorgridcolor": "white",
             "startlinecolor": "#2a3f5f"
            },
            "baxis": {
             "endlinecolor": "#2a3f5f",
             "gridcolor": "white",
             "linecolor": "white",
             "minorgridcolor": "white",
             "startlinecolor": "#2a3f5f"
            },
            "type": "carpet"
           }
          ],
          "choropleth": [
           {
            "colorbar": {
             "outlinewidth": 0,
             "ticks": ""
            },
            "type": "choropleth"
           }
          ],
          "contour": [
           {
            "colorbar": {
             "outlinewidth": 0,
             "ticks": ""
            },
            "colorscale": [
             [
              0,
              "#0d0887"
             ],
             [
              0.1111111111111111,
              "#46039f"
             ],
             [
              0.2222222222222222,
              "#7201a8"
             ],
             [
              0.3333333333333333,
              "#9c179e"
             ],
             [
              0.4444444444444444,
              "#bd3786"
             ],
             [
              0.5555555555555556,
              "#d8576b"
             ],
             [
              0.6666666666666666,
              "#ed7953"
             ],
             [
              0.7777777777777778,
              "#fb9f3a"
             ],
             [
              0.8888888888888888,
              "#fdca26"
             ],
             [
              1,
              "#f0f921"
             ]
            ],
            "type": "contour"
           }
          ],
          "contourcarpet": [
           {
            "colorbar": {
             "outlinewidth": 0,
             "ticks": ""
            },
            "type": "contourcarpet"
           }
          ],
          "heatmap": [
           {
            "colorbar": {
             "outlinewidth": 0,
             "ticks": ""
            },
            "colorscale": [
             [
              0,
              "#0d0887"
             ],
             [
              0.1111111111111111,
              "#46039f"
             ],
             [
              0.2222222222222222,
              "#7201a8"
             ],
             [
              0.3333333333333333,
              "#9c179e"
             ],
             [
              0.4444444444444444,
              "#bd3786"
             ],
             [
              0.5555555555555556,
              "#d8576b"
             ],
             [
              0.6666666666666666,
              "#ed7953"
             ],
             [
              0.7777777777777778,
              "#fb9f3a"
             ],
             [
              0.8888888888888888,
              "#fdca26"
             ],
             [
              1,
              "#f0f921"
             ]
            ],
            "type": "heatmap"
           }
          ],
          "heatmapgl": [
           {
            "colorbar": {
             "outlinewidth": 0,
             "ticks": ""
            },
            "colorscale": [
             [
              0,
              "#0d0887"
             ],
             [
              0.1111111111111111,
              "#46039f"
             ],
             [
              0.2222222222222222,
              "#7201a8"
             ],
             [
              0.3333333333333333,
              "#9c179e"
             ],
             [
              0.4444444444444444,
              "#bd3786"
             ],
             [
              0.5555555555555556,
              "#d8576b"
             ],
             [
              0.6666666666666666,
              "#ed7953"
             ],
             [
              0.7777777777777778,
              "#fb9f3a"
             ],
             [
              0.8888888888888888,
              "#fdca26"
             ],
             [
              1,
              "#f0f921"
             ]
            ],
            "type": "heatmapgl"
           }
          ],
          "histogram": [
           {
            "marker": {
             "pattern": {
              "fillmode": "overlay",
              "size": 10,
              "solidity": 0.2
             }
            },
            "type": "histogram"
           }
          ],
          "histogram2d": [
           {
            "colorbar": {
             "outlinewidth": 0,
             "ticks": ""
            },
            "colorscale": [
             [
              0,
              "#0d0887"
             ],
             [
              0.1111111111111111,
              "#46039f"
             ],
             [
              0.2222222222222222,
              "#7201a8"
             ],
             [
              0.3333333333333333,
              "#9c179e"
             ],
             [
              0.4444444444444444,
              "#bd3786"
             ],
             [
              0.5555555555555556,
              "#d8576b"
             ],
             [
              0.6666666666666666,
              "#ed7953"
             ],
             [
              0.7777777777777778,
              "#fb9f3a"
             ],
             [
              0.8888888888888888,
              "#fdca26"
             ],
             [
              1,
              "#f0f921"
             ]
            ],
            "type": "histogram2d"
           }
          ],
          "histogram2dcontour": [
           {
            "colorbar": {
             "outlinewidth": 0,
             "ticks": ""
            },
            "colorscale": [
             [
              0,
              "#0d0887"
             ],
             [
              0.1111111111111111,
              "#46039f"
             ],
             [
              0.2222222222222222,
              "#7201a8"
             ],
             [
              0.3333333333333333,
              "#9c179e"
             ],
             [
              0.4444444444444444,
              "#bd3786"
             ],
             [
              0.5555555555555556,
              "#d8576b"
             ],
             [
              0.6666666666666666,
              "#ed7953"
             ],
             [
              0.7777777777777778,
              "#fb9f3a"
             ],
             [
              0.8888888888888888,
              "#fdca26"
             ],
             [
              1,
              "#f0f921"
             ]
            ],
            "type": "histogram2dcontour"
           }
          ],
          "mesh3d": [
           {
            "colorbar": {
             "outlinewidth": 0,
             "ticks": ""
            },
            "type": "mesh3d"
           }
          ],
          "parcoords": [
           {
            "line": {
             "colorbar": {
              "outlinewidth": 0,
              "ticks": ""
             }
            },
            "type": "parcoords"
           }
          ],
          "pie": [
           {
            "automargin": true,
            "type": "pie"
           }
          ],
          "scatter": [
           {
            "fillpattern": {
             "fillmode": "overlay",
             "size": 10,
             "solidity": 0.2
            },
            "type": "scatter"
           }
          ],
          "scatter3d": [
           {
            "line": {
             "colorbar": {
              "outlinewidth": 0,
              "ticks": ""
             }
            },
            "marker": {
             "colorbar": {
              "outlinewidth": 0,
              "ticks": ""
             }
            },
            "type": "scatter3d"
           }
          ],
          "scattercarpet": [
           {
            "marker": {
             "colorbar": {
              "outlinewidth": 0,
              "ticks": ""
             }
            },
            "type": "scattercarpet"
           }
          ],
          "scattergeo": [
           {
            "marker": {
             "colorbar": {
              "outlinewidth": 0,
              "ticks": ""
             }
            },
            "type": "scattergeo"
           }
          ],
          "scattergl": [
           {
            "marker": {
             "colorbar": {
              "outlinewidth": 0,
              "ticks": ""
             }
            },
            "type": "scattergl"
           }
          ],
          "scattermapbox": [
           {
            "marker": {
             "colorbar": {
              "outlinewidth": 0,
              "ticks": ""
             }
            },
            "type": "scattermapbox"
           }
          ],
          "scatterpolar": [
           {
            "marker": {
             "colorbar": {
              "outlinewidth": 0,
              "ticks": ""
             }
            },
            "type": "scatterpolar"
           }
          ],
          "scatterpolargl": [
           {
            "marker": {
             "colorbar": {
              "outlinewidth": 0,
              "ticks": ""
             }
            },
            "type": "scatterpolargl"
           }
          ],
          "scatterternary": [
           {
            "marker": {
             "colorbar": {
              "outlinewidth": 0,
              "ticks": ""
             }
            },
            "type": "scatterternary"
           }
          ],
          "surface": [
           {
            "colorbar": {
             "outlinewidth": 0,
             "ticks": ""
            },
            "colorscale": [
             [
              0,
              "#0d0887"
             ],
             [
              0.1111111111111111,
              "#46039f"
             ],
             [
              0.2222222222222222,
              "#7201a8"
             ],
             [
              0.3333333333333333,
              "#9c179e"
             ],
             [
              0.4444444444444444,
              "#bd3786"
             ],
             [
              0.5555555555555556,
              "#d8576b"
             ],
             [
              0.6666666666666666,
              "#ed7953"
             ],
             [
              0.7777777777777778,
              "#fb9f3a"
             ],
             [
              0.8888888888888888,
              "#fdca26"
             ],
             [
              1,
              "#f0f921"
             ]
            ],
            "type": "surface"
           }
          ],
          "table": [
           {
            "cells": {
             "fill": {
              "color": "#EBF0F8"
             },
             "line": {
              "color": "white"
             }
            },
            "header": {
             "fill": {
              "color": "#C8D4E3"
             },
             "line": {
              "color": "white"
             }
            },
            "type": "table"
           }
          ]
         },
         "layout": {
          "annotationdefaults": {
           "arrowcolor": "#2a3f5f",
           "arrowhead": 0,
           "arrowwidth": 1
          },
          "autotypenumbers": "strict",
          "coloraxis": {
           "colorbar": {
            "outlinewidth": 0,
            "ticks": ""
           }
          },
          "colorscale": {
           "diverging": [
            [
             0,
             "#8e0152"
            ],
            [
             0.1,
             "#c51b7d"
            ],
            [
             0.2,
             "#de77ae"
            ],
            [
             0.3,
             "#f1b6da"
            ],
            [
             0.4,
             "#fde0ef"
            ],
            [
             0.5,
             "#f7f7f7"
            ],
            [
             0.6,
             "#e6f5d0"
            ],
            [
             0.7,
             "#b8e186"
            ],
            [
             0.8,
             "#7fbc41"
            ],
            [
             0.9,
             "#4d9221"
            ],
            [
             1,
             "#276419"
            ]
           ],
           "sequential": [
            [
             0,
             "#0d0887"
            ],
            [
             0.1111111111111111,
             "#46039f"
            ],
            [
             0.2222222222222222,
             "#7201a8"
            ],
            [
             0.3333333333333333,
             "#9c179e"
            ],
            [
             0.4444444444444444,
             "#bd3786"
            ],
            [
             0.5555555555555556,
             "#d8576b"
            ],
            [
             0.6666666666666666,
             "#ed7953"
            ],
            [
             0.7777777777777778,
             "#fb9f3a"
            ],
            [
             0.8888888888888888,
             "#fdca26"
            ],
            [
             1,
             "#f0f921"
            ]
           ],
           "sequentialminus": [
            [
             0,
             "#0d0887"
            ],
            [
             0.1111111111111111,
             "#46039f"
            ],
            [
             0.2222222222222222,
             "#7201a8"
            ],
            [
             0.3333333333333333,
             "#9c179e"
            ],
            [
             0.4444444444444444,
             "#bd3786"
            ],
            [
             0.5555555555555556,
             "#d8576b"
            ],
            [
             0.6666666666666666,
             "#ed7953"
            ],
            [
             0.7777777777777778,
             "#fb9f3a"
            ],
            [
             0.8888888888888888,
             "#fdca26"
            ],
            [
             1,
             "#f0f921"
            ]
           ]
          },
          "colorway": [
           "#636efa",
           "#EF553B",
           "#00cc96",
           "#ab63fa",
           "#FFA15A",
           "#19d3f3",
           "#FF6692",
           "#B6E880",
           "#FF97FF",
           "#FECB52"
          ],
          "font": {
           "color": "#2a3f5f"
          },
          "geo": {
           "bgcolor": "white",
           "lakecolor": "white",
           "landcolor": "#E5ECF6",
           "showlakes": true,
           "showland": true,
           "subunitcolor": "white"
          },
          "hoverlabel": {
           "align": "left"
          },
          "hovermode": "closest",
          "mapbox": {
           "style": "light"
          },
          "paper_bgcolor": "white",
          "plot_bgcolor": "#E5ECF6",
          "polar": {
           "angularaxis": {
            "gridcolor": "white",
            "linecolor": "white",
            "ticks": ""
           },
           "bgcolor": "#E5ECF6",
           "radialaxis": {
            "gridcolor": "white",
            "linecolor": "white",
            "ticks": ""
           }
          },
          "scene": {
           "xaxis": {
            "backgroundcolor": "#E5ECF6",
            "gridcolor": "white",
            "gridwidth": 2,
            "linecolor": "white",
            "showbackground": true,
            "ticks": "",
            "zerolinecolor": "white"
           },
           "yaxis": {
            "backgroundcolor": "#E5ECF6",
            "gridcolor": "white",
            "gridwidth": 2,
            "linecolor": "white",
            "showbackground": true,
            "ticks": "",
            "zerolinecolor": "white"
           },
           "zaxis": {
            "backgroundcolor": "#E5ECF6",
            "gridcolor": "white",
            "gridwidth": 2,
            "linecolor": "white",
            "showbackground": true,
            "ticks": "",
            "zerolinecolor": "white"
           }
          },
          "shapedefaults": {
           "line": {
            "color": "#2a3f5f"
           }
          },
          "ternary": {
           "aaxis": {
            "gridcolor": "white",
            "linecolor": "white",
            "ticks": ""
           },
           "baxis": {
            "gridcolor": "white",
            "linecolor": "white",
            "ticks": ""
           },
           "bgcolor": "#E5ECF6",
           "caxis": {
            "gridcolor": "white",
            "linecolor": "white",
            "ticks": ""
           }
          },
          "title": {
           "x": 0.05
          },
          "xaxis": {
           "automargin": true,
           "gridcolor": "white",
           "linecolor": "white",
           "ticks": "",
           "title": {
            "standoff": 15
           },
           "zerolinecolor": "white",
           "zerolinewidth": 2
          },
          "yaxis": {
           "automargin": true,
           "gridcolor": "white",
           "linecolor": "white",
           "ticks": "",
           "title": {
            "standoff": 15
           },
           "zerolinecolor": "white",
           "zerolinewidth": 2
          }
         }
        },
        "title": {
         "text": "Hyperparameter Importances"
        },
        "xaxis": {
         "title": {
          "text": "Hyperparameter Importance"
         }
        },
        "yaxis": {
         "title": {
          "text": "Hyperparameter"
         }
        }
       }
      }
     },
     "metadata": {},
     "output_type": "display_data"
    }
   ],
   "source": [
    "optuna.visualization.plot_param_importances(study)"
   ]
  },
  {
   "cell_type": "code",
   "execution_count": 32,
   "metadata": {},
   "outputs": [
    {
     "data": {
      "application/vnd.plotly.v1+json": {
       "config": {
        "plotlyServerURL": "https://plot.ly"
       },
       "data": [
        {
         "mode": "lines",
         "name": "no-name-12e251f4-7de6-4efe-84e7-3bc4a2b1410c",
         "type": "scatter",
         "x": [
          0.6712191872085277,
          0.671246105290076,
          0.6712730233716243,
          0.6712999414531726,
          0.671326859534721,
          0.6713537776162694,
          0.6713806956978177,
          0.671407613779366,
          0.6714345318609143,
          0.6714614499424626,
          0.671488368024011,
          0.6715152861055593,
          0.6715422041871076,
          0.671569122268656,
          0.6715960403502043,
          0.6716229584317526,
          0.6716498765133009,
          0.6716767945948493,
          0.6717037126763976,
          0.6717306307579459,
          0.6717575488394942,
          0.6717844669210425,
          0.6718113850025909,
          0.6718383030841392,
          0.6718652211656876,
          0.6718921392472359,
          0.6719190573287842,
          0.6719459754103325,
          0.6719728934918808,
          0.6719998115734291,
          0.6720267296549776,
          0.6720536477365259,
          0.6720805658180742,
          0.6721074838996225,
          0.6721344019811708,
          0.6721613200627191,
          0.6721882381442674,
          0.6722151562258158,
          0.6722420743073642,
          0.6722689923889125,
          0.6722959104704608,
          0.6723228285520091,
          0.6723497466335574,
          0.6723766647151058,
          0.6724035827966541,
          0.6724305008782024,
          0.6724574189597508,
          0.6724843370412991,
          0.6725112551228474,
          0.6725381732043957,
          0.6725650912859441,
          0.6725920093674924,
          0.6726189274490407,
          0.672645845530589,
          0.6726727636121373,
          0.6726996816936857,
          0.672726599775234,
          0.6727535178567824,
          0.6727804359383307,
          0.672807354019879,
          0.6728342721014273,
          0.6728611901829756,
          0.6728881082645239,
          0.6729150263460724,
          0.6729419444276207,
          0.672968862509169,
          0.6729957805907173,
          0.6730226986722656,
          0.6730496167538139,
          0.6730765348353622,
          0.6731034529169106,
          0.673130370998459,
          0.6731572890800073,
          0.6731842071615556,
          0.6732111252431039,
          0.6732380433246522,
          0.6732649614062006,
          0.6732918794877489,
          0.6733187975692972,
          0.6733457156508456,
          0.6733726337323939,
          0.6733995518139422,
          0.6734264698954905,
          0.6734533879770389,
          0.6734803060585872,
          0.6735072241401355,
          0.6735341422216838,
          0.6735610603032322,
          0.6735879783847805,
          0.6736148964663288,
          0.6736418145478772,
          0.6736687326294255,
          0.6736956507109738,
          0.6737225687925221,
          0.6737494868740704,
          0.6737764049556187,
          0.6738033230371672,
          0.6738302411187155,
          0.6738571592002638,
          0.6738840772818121
         ],
         "y": [
          0.015,
          0.015,
          0.015,
          0.015,
          0.015,
          0.015,
          0.015,
          0.015,
          0.015,
          0.015,
          0.015,
          0.015,
          0.015,
          0.105,
          0.105,
          0.105,
          0.105,
          0.105,
          0.105,
          0.105,
          0.105,
          0.105,
          0.105,
          0.105,
          0.105,
          0.125,
          0.125,
          0.125,
          0.125,
          0.125,
          0.125,
          0.125,
          0.125,
          0.125,
          0.125,
          0.125,
          0.125,
          0.125,
          0.125,
          0.125,
          0.125,
          0.125,
          0.125,
          0.125,
          0.125,
          0.125,
          0.125,
          0.125,
          0.125,
          0.125,
          0.13,
          0.13,
          0.13,
          0.13,
          0.13,
          0.13,
          0.13,
          0.13,
          0.13,
          0.13,
          0.13,
          0.13,
          0.13,
          0.13,
          0.13,
          0.13,
          0.13,
          0.13,
          0.13,
          0.13,
          0.13,
          0.13,
          0.13,
          0.13,
          0.13,
          0.16,
          0.16,
          0.16,
          0.16,
          0.16,
          0.16,
          0.16,
          0.16,
          0.16,
          0.16,
          0.16,
          0.16,
          0.25,
          0.25,
          0.25,
          0.25,
          0.25,
          0.25,
          0.25,
          0.25,
          0.25,
          0.25,
          0.25,
          0.25,
          1
         ]
        }
       ],
       "layout": {
        "template": {
         "data": {
          "bar": [
           {
            "error_x": {
             "color": "#2a3f5f"
            },
            "error_y": {
             "color": "#2a3f5f"
            },
            "marker": {
             "line": {
              "color": "#E5ECF6",
              "width": 0.5
             },
             "pattern": {
              "fillmode": "overlay",
              "size": 10,
              "solidity": 0.2
             }
            },
            "type": "bar"
           }
          ],
          "barpolar": [
           {
            "marker": {
             "line": {
              "color": "#E5ECF6",
              "width": 0.5
             },
             "pattern": {
              "fillmode": "overlay",
              "size": 10,
              "solidity": 0.2
             }
            },
            "type": "barpolar"
           }
          ],
          "carpet": [
           {
            "aaxis": {
             "endlinecolor": "#2a3f5f",
             "gridcolor": "white",
             "linecolor": "white",
             "minorgridcolor": "white",
             "startlinecolor": "#2a3f5f"
            },
            "baxis": {
             "endlinecolor": "#2a3f5f",
             "gridcolor": "white",
             "linecolor": "white",
             "minorgridcolor": "white",
             "startlinecolor": "#2a3f5f"
            },
            "type": "carpet"
           }
          ],
          "choropleth": [
           {
            "colorbar": {
             "outlinewidth": 0,
             "ticks": ""
            },
            "type": "choropleth"
           }
          ],
          "contour": [
           {
            "colorbar": {
             "outlinewidth": 0,
             "ticks": ""
            },
            "colorscale": [
             [
              0,
              "#0d0887"
             ],
             [
              0.1111111111111111,
              "#46039f"
             ],
             [
              0.2222222222222222,
              "#7201a8"
             ],
             [
              0.3333333333333333,
              "#9c179e"
             ],
             [
              0.4444444444444444,
              "#bd3786"
             ],
             [
              0.5555555555555556,
              "#d8576b"
             ],
             [
              0.6666666666666666,
              "#ed7953"
             ],
             [
              0.7777777777777778,
              "#fb9f3a"
             ],
             [
              0.8888888888888888,
              "#fdca26"
             ],
             [
              1,
              "#f0f921"
             ]
            ],
            "type": "contour"
           }
          ],
          "contourcarpet": [
           {
            "colorbar": {
             "outlinewidth": 0,
             "ticks": ""
            },
            "type": "contourcarpet"
           }
          ],
          "heatmap": [
           {
            "colorbar": {
             "outlinewidth": 0,
             "ticks": ""
            },
            "colorscale": [
             [
              0,
              "#0d0887"
             ],
             [
              0.1111111111111111,
              "#46039f"
             ],
             [
              0.2222222222222222,
              "#7201a8"
             ],
             [
              0.3333333333333333,
              "#9c179e"
             ],
             [
              0.4444444444444444,
              "#bd3786"
             ],
             [
              0.5555555555555556,
              "#d8576b"
             ],
             [
              0.6666666666666666,
              "#ed7953"
             ],
             [
              0.7777777777777778,
              "#fb9f3a"
             ],
             [
              0.8888888888888888,
              "#fdca26"
             ],
             [
              1,
              "#f0f921"
             ]
            ],
            "type": "heatmap"
           }
          ],
          "heatmapgl": [
           {
            "colorbar": {
             "outlinewidth": 0,
             "ticks": ""
            },
            "colorscale": [
             [
              0,
              "#0d0887"
             ],
             [
              0.1111111111111111,
              "#46039f"
             ],
             [
              0.2222222222222222,
              "#7201a8"
             ],
             [
              0.3333333333333333,
              "#9c179e"
             ],
             [
              0.4444444444444444,
              "#bd3786"
             ],
             [
              0.5555555555555556,
              "#d8576b"
             ],
             [
              0.6666666666666666,
              "#ed7953"
             ],
             [
              0.7777777777777778,
              "#fb9f3a"
             ],
             [
              0.8888888888888888,
              "#fdca26"
             ],
             [
              1,
              "#f0f921"
             ]
            ],
            "type": "heatmapgl"
           }
          ],
          "histogram": [
           {
            "marker": {
             "pattern": {
              "fillmode": "overlay",
              "size": 10,
              "solidity": 0.2
             }
            },
            "type": "histogram"
           }
          ],
          "histogram2d": [
           {
            "colorbar": {
             "outlinewidth": 0,
             "ticks": ""
            },
            "colorscale": [
             [
              0,
              "#0d0887"
             ],
             [
              0.1111111111111111,
              "#46039f"
             ],
             [
              0.2222222222222222,
              "#7201a8"
             ],
             [
              0.3333333333333333,
              "#9c179e"
             ],
             [
              0.4444444444444444,
              "#bd3786"
             ],
             [
              0.5555555555555556,
              "#d8576b"
             ],
             [
              0.6666666666666666,
              "#ed7953"
             ],
             [
              0.7777777777777778,
              "#fb9f3a"
             ],
             [
              0.8888888888888888,
              "#fdca26"
             ],
             [
              1,
              "#f0f921"
             ]
            ],
            "type": "histogram2d"
           }
          ],
          "histogram2dcontour": [
           {
            "colorbar": {
             "outlinewidth": 0,
             "ticks": ""
            },
            "colorscale": [
             [
              0,
              "#0d0887"
             ],
             [
              0.1111111111111111,
              "#46039f"
             ],
             [
              0.2222222222222222,
              "#7201a8"
             ],
             [
              0.3333333333333333,
              "#9c179e"
             ],
             [
              0.4444444444444444,
              "#bd3786"
             ],
             [
              0.5555555555555556,
              "#d8576b"
             ],
             [
              0.6666666666666666,
              "#ed7953"
             ],
             [
              0.7777777777777778,
              "#fb9f3a"
             ],
             [
              0.8888888888888888,
              "#fdca26"
             ],
             [
              1,
              "#f0f921"
             ]
            ],
            "type": "histogram2dcontour"
           }
          ],
          "mesh3d": [
           {
            "colorbar": {
             "outlinewidth": 0,
             "ticks": ""
            },
            "type": "mesh3d"
           }
          ],
          "parcoords": [
           {
            "line": {
             "colorbar": {
              "outlinewidth": 0,
              "ticks": ""
             }
            },
            "type": "parcoords"
           }
          ],
          "pie": [
           {
            "automargin": true,
            "type": "pie"
           }
          ],
          "scatter": [
           {
            "fillpattern": {
             "fillmode": "overlay",
             "size": 10,
             "solidity": 0.2
            },
            "type": "scatter"
           }
          ],
          "scatter3d": [
           {
            "line": {
             "colorbar": {
              "outlinewidth": 0,
              "ticks": ""
             }
            },
            "marker": {
             "colorbar": {
              "outlinewidth": 0,
              "ticks": ""
             }
            },
            "type": "scatter3d"
           }
          ],
          "scattercarpet": [
           {
            "marker": {
             "colorbar": {
              "outlinewidth": 0,
              "ticks": ""
             }
            },
            "type": "scattercarpet"
           }
          ],
          "scattergeo": [
           {
            "marker": {
             "colorbar": {
              "outlinewidth": 0,
              "ticks": ""
             }
            },
            "type": "scattergeo"
           }
          ],
          "scattergl": [
           {
            "marker": {
             "colorbar": {
              "outlinewidth": 0,
              "ticks": ""
             }
            },
            "type": "scattergl"
           }
          ],
          "scattermapbox": [
           {
            "marker": {
             "colorbar": {
              "outlinewidth": 0,
              "ticks": ""
             }
            },
            "type": "scattermapbox"
           }
          ],
          "scatterpolar": [
           {
            "marker": {
             "colorbar": {
              "outlinewidth": 0,
              "ticks": ""
             }
            },
            "type": "scatterpolar"
           }
          ],
          "scatterpolargl": [
           {
            "marker": {
             "colorbar": {
              "outlinewidth": 0,
              "ticks": ""
             }
            },
            "type": "scatterpolargl"
           }
          ],
          "scatterternary": [
           {
            "marker": {
             "colorbar": {
              "outlinewidth": 0,
              "ticks": ""
             }
            },
            "type": "scatterternary"
           }
          ],
          "surface": [
           {
            "colorbar": {
             "outlinewidth": 0,
             "ticks": ""
            },
            "colorscale": [
             [
              0,
              "#0d0887"
             ],
             [
              0.1111111111111111,
              "#46039f"
             ],
             [
              0.2222222222222222,
              "#7201a8"
             ],
             [
              0.3333333333333333,
              "#9c179e"
             ],
             [
              0.4444444444444444,
              "#bd3786"
             ],
             [
              0.5555555555555556,
              "#d8576b"
             ],
             [
              0.6666666666666666,
              "#ed7953"
             ],
             [
              0.7777777777777778,
              "#fb9f3a"
             ],
             [
              0.8888888888888888,
              "#fdca26"
             ],
             [
              1,
              "#f0f921"
             ]
            ],
            "type": "surface"
           }
          ],
          "table": [
           {
            "cells": {
             "fill": {
              "color": "#EBF0F8"
             },
             "line": {
              "color": "white"
             }
            },
            "header": {
             "fill": {
              "color": "#C8D4E3"
             },
             "line": {
              "color": "white"
             }
            },
            "type": "table"
           }
          ]
         },
         "layout": {
          "annotationdefaults": {
           "arrowcolor": "#2a3f5f",
           "arrowhead": 0,
           "arrowwidth": 1
          },
          "autotypenumbers": "strict",
          "coloraxis": {
           "colorbar": {
            "outlinewidth": 0,
            "ticks": ""
           }
          },
          "colorscale": {
           "diverging": [
            [
             0,
             "#8e0152"
            ],
            [
             0.1,
             "#c51b7d"
            ],
            [
             0.2,
             "#de77ae"
            ],
            [
             0.3,
             "#f1b6da"
            ],
            [
             0.4,
             "#fde0ef"
            ],
            [
             0.5,
             "#f7f7f7"
            ],
            [
             0.6,
             "#e6f5d0"
            ],
            [
             0.7,
             "#b8e186"
            ],
            [
             0.8,
             "#7fbc41"
            ],
            [
             0.9,
             "#4d9221"
            ],
            [
             1,
             "#276419"
            ]
           ],
           "sequential": [
            [
             0,
             "#0d0887"
            ],
            [
             0.1111111111111111,
             "#46039f"
            ],
            [
             0.2222222222222222,
             "#7201a8"
            ],
            [
             0.3333333333333333,
             "#9c179e"
            ],
            [
             0.4444444444444444,
             "#bd3786"
            ],
            [
             0.5555555555555556,
             "#d8576b"
            ],
            [
             0.6666666666666666,
             "#ed7953"
            ],
            [
             0.7777777777777778,
             "#fb9f3a"
            ],
            [
             0.8888888888888888,
             "#fdca26"
            ],
            [
             1,
             "#f0f921"
            ]
           ],
           "sequentialminus": [
            [
             0,
             "#0d0887"
            ],
            [
             0.1111111111111111,
             "#46039f"
            ],
            [
             0.2222222222222222,
             "#7201a8"
            ],
            [
             0.3333333333333333,
             "#9c179e"
            ],
            [
             0.4444444444444444,
             "#bd3786"
            ],
            [
             0.5555555555555556,
             "#d8576b"
            ],
            [
             0.6666666666666666,
             "#ed7953"
            ],
            [
             0.7777777777777778,
             "#fb9f3a"
            ],
            [
             0.8888888888888888,
             "#fdca26"
            ],
            [
             1,
             "#f0f921"
            ]
           ]
          },
          "colorway": [
           "#636efa",
           "#EF553B",
           "#00cc96",
           "#ab63fa",
           "#FFA15A",
           "#19d3f3",
           "#FF6692",
           "#B6E880",
           "#FF97FF",
           "#FECB52"
          ],
          "font": {
           "color": "#2a3f5f"
          },
          "geo": {
           "bgcolor": "white",
           "lakecolor": "white",
           "landcolor": "#E5ECF6",
           "showlakes": true,
           "showland": true,
           "subunitcolor": "white"
          },
          "hoverlabel": {
           "align": "left"
          },
          "hovermode": "closest",
          "mapbox": {
           "style": "light"
          },
          "paper_bgcolor": "white",
          "plot_bgcolor": "#E5ECF6",
          "polar": {
           "angularaxis": {
            "gridcolor": "white",
            "linecolor": "white",
            "ticks": ""
           },
           "bgcolor": "#E5ECF6",
           "radialaxis": {
            "gridcolor": "white",
            "linecolor": "white",
            "ticks": ""
           }
          },
          "scene": {
           "xaxis": {
            "backgroundcolor": "#E5ECF6",
            "gridcolor": "white",
            "gridwidth": 2,
            "linecolor": "white",
            "showbackground": true,
            "ticks": "",
            "zerolinecolor": "white"
           },
           "yaxis": {
            "backgroundcolor": "#E5ECF6",
            "gridcolor": "white",
            "gridwidth": 2,
            "linecolor": "white",
            "showbackground": true,
            "ticks": "",
            "zerolinecolor": "white"
           },
           "zaxis": {
            "backgroundcolor": "#E5ECF6",
            "gridcolor": "white",
            "gridwidth": 2,
            "linecolor": "white",
            "showbackground": true,
            "ticks": "",
            "zerolinecolor": "white"
           }
          },
          "shapedefaults": {
           "line": {
            "color": "#2a3f5f"
           }
          },
          "ternary": {
           "aaxis": {
            "gridcolor": "white",
            "linecolor": "white",
            "ticks": ""
           },
           "baxis": {
            "gridcolor": "white",
            "linecolor": "white",
            "ticks": ""
           },
           "bgcolor": "#E5ECF6",
           "caxis": {
            "gridcolor": "white",
            "linecolor": "white",
            "ticks": ""
           }
          },
          "title": {
           "x": 0.05
          },
          "xaxis": {
           "automargin": true,
           "gridcolor": "white",
           "linecolor": "white",
           "ticks": "",
           "title": {
            "standoff": 15
           },
           "zerolinecolor": "white",
           "zerolinewidth": 2
          },
          "yaxis": {
           "automargin": true,
           "gridcolor": "white",
           "linecolor": "white",
           "ticks": "",
           "title": {
            "standoff": 15
           },
           "zerolinecolor": "white",
           "zerolinewidth": 2
          }
         }
        },
        "title": {
         "text": "Empirical Distribution Function Plot"
        },
        "xaxis": {
         "title": {
          "text": "Objective Value"
         }
        },
        "yaxis": {
         "range": [
          0,
          1
         ],
         "title": {
          "text": "Cumulative Probability"
         }
        }
       }
      }
     },
     "metadata": {},
     "output_type": "display_data"
    }
   ],
   "source": [
    "optuna.visualization.plot_edf(study)"
   ]
  },
  {
   "cell_type": "markdown",
   "metadata": {},
   "source": [
    "Enlarge 'C' range and add elasticnet parameter (comes with l1_ratio)"
   ]
  },
  {
   "cell_type": "code",
   "execution_count": 33,
   "metadata": {},
   "outputs": [],
   "source": [
    "def objective(trial):\n",
    "    # Define the hyperparameters to optimize\n",
    "    l1_ratio = trial.suggest_uniform('l1_ratio', 0, 1)\n",
    "    penalty = trial.suggest_categorical('penalty', ['elasticnet'])\n",
    "    C = trial.suggest_loguniform('C', 0.01, 100.0)\n",
    "    max_iter = trial.suggest_int('max_iter', 100, 1000)\n",
    "    solver= trial.suggest_categorical('solver', ['saga'])\n",
    "    \n",
    "    # Create the logistic regression model with the hyperparameters\n",
    "    model = LogisticRegression(penalty=penalty, C=C, max_iter=max_iter,\n",
    "     solver=solver, l1_ratio=l1_ratio, random_state=seed)\n",
    "    \n",
    "    # Train the model\n",
    "    model.fit(X_train, y_train)\n",
    "    \n",
    "    # Make predictions on the test set\n",
    "    y_pred = model.predict(X_test)\n",
    "    \n",
    "    # Calculate the accuracy score\n",
    "    accuracy = accuracy_score(y_test, y_pred)\n",
    "    #score_cross_val = cross_val_score(model, X_train, y_train, cv=5, scoring='precision')\n",
    "\n",
    "    \n",
    "    return accuracy"
   ]
  },
  {
   "cell_type": "code",
   "execution_count": 34,
   "metadata": {},
   "outputs": [
    {
     "name": "stderr",
     "output_type": "stream",
     "text": [
      "[I 2024-06-08 00:27:58,875] A new study created in memory with name: no-name-22d47f88-d2c4-469d-8766-1fdc3f1917cf\n",
      "[I 2024-06-08 00:27:58,908] Trial 0 finished with value: 0.6738840772818121 and parameters: {'l1_ratio': 0.5172978838465893, 'penalty': 'elasticnet', 'C': 61.35506425409843, 'max_iter': 789, 'solver': 'saga'}. Best is trial 0 with value: 0.6738840772818121.\n",
      "[I 2024-06-08 00:27:58,928] Trial 1 finished with value: 0.6738840772818121 and parameters: {'l1_ratio': 0.2823958439671127, 'penalty': 'elasticnet', 'C': 0.07659165484895042, 'max_iter': 718, 'solver': 'saga'}. Best is trial 0 with value: 0.6738840772818121.\n",
      "[I 2024-06-08 00:27:58,945] Trial 2 finished with value: 0.6738840772818121 and parameters: {'l1_ratio': 0.16713920310005626, 'penalty': 'elasticnet', 'C': 0.37133840345513924, 'max_iter': 656, 'solver': 'saga'}. Best is trial 0 with value: 0.6738840772818121.\n",
      "[I 2024-06-08 00:27:58,963] Trial 3 finished with value: 0.6738840772818121 and parameters: {'l1_ratio': 0.411930094858746, 'penalty': 'elasticnet', 'C': 0.010229620554518289, 'max_iter': 896, 'solver': 'saga'}. Best is trial 0 with value: 0.6738840772818121.\n",
      "[I 2024-06-08 00:27:58,988] Trial 4 finished with value: 0.6738840772818121 and parameters: {'l1_ratio': 0.8849475383764736, 'penalty': 'elasticnet', 'C': 0.15908848917427898, 'max_iter': 631, 'solver': 'saga'}. Best is trial 0 with value: 0.6738840772818121.\n",
      "[I 2024-06-08 00:27:59,008] Trial 5 finished with value: 0.6738840772818121 and parameters: {'l1_ratio': 0.9784269160148309, 'penalty': 'elasticnet', 'C': 24.009067273228535, 'max_iter': 158, 'solver': 'saga'}. Best is trial 0 with value: 0.6738840772818121.\n",
      "[I 2024-06-08 00:27:59,026] Trial 6 finished with value: 0.6738840772818121 and parameters: {'l1_ratio': 0.2947444647173656, 'penalty': 'elasticnet', 'C': 0.14182009235905965, 'max_iter': 841, 'solver': 'saga'}. Best is trial 0 with value: 0.6738840772818121.\n",
      "[I 2024-06-08 00:27:59,042] Trial 7 finished with value: 0.6738840772818121 and parameters: {'l1_ratio': 0.6261830379602461, 'penalty': 'elasticnet', 'C': 0.027663737545016442, 'max_iter': 100, 'solver': 'saga'}. Best is trial 0 with value: 0.6738840772818121.\n",
      "[I 2024-06-08 00:27:59,060] Trial 8 finished with value: 0.6738840772818121 and parameters: {'l1_ratio': 0.9421662328554996, 'penalty': 'elasticnet', 'C': 0.03681315427893331, 'max_iter': 479, 'solver': 'saga'}. Best is trial 0 with value: 0.6738840772818121.\n",
      "[I 2024-06-08 00:27:59,076] Trial 9 finished with value: 0.6738840772818121 and parameters: {'l1_ratio': 0.3464894401485442, 'penalty': 'elasticnet', 'C': 30.139798019866884, 'max_iter': 486, 'solver': 'saga'}. Best is trial 0 with value: 0.6738840772818121.\n",
      "[I 2024-06-08 00:27:59,093] Trial 10 finished with value: 0.6738840772818121 and parameters: {'l1_ratio': 0.8287514843227557, 'penalty': 'elasticnet', 'C': 7.43716390585914, 'max_iter': 207, 'solver': 'saga'}. Best is trial 0 with value: 0.6738840772818121.\n",
      "[I 2024-06-08 00:27:59,111] Trial 11 finished with value: 0.6738840772818121 and parameters: {'l1_ratio': 0.5963841727096089, 'penalty': 'elasticnet', 'C': 0.03303887043501745, 'max_iter': 169, 'solver': 'saga'}. Best is trial 0 with value: 0.6738840772818121.\n",
      "[I 2024-06-08 00:27:59,128] Trial 12 finished with value: 0.6738840772818121 and parameters: {'l1_ratio': 0.831205255690418, 'penalty': 'elasticnet', 'C': 0.720348173167086, 'max_iter': 245, 'solver': 'saga'}. Best is trial 0 with value: 0.6738840772818121.\n",
      "[I 2024-06-08 00:27:59,148] Trial 13 finished with value: 0.6738840772818121 and parameters: {'l1_ratio': 0.5479752920930067, 'penalty': 'elasticnet', 'C': 2.259140739578309, 'max_iter': 797, 'solver': 'saga'}. Best is trial 0 with value: 0.6738840772818121.\n",
      "[I 2024-06-08 00:27:59,171] Trial 14 finished with value: 0.6738840772818121 and parameters: {'l1_ratio': 0.6558454580069033, 'penalty': 'elasticnet', 'C': 1.7014807418534552, 'max_iter': 260, 'solver': 'saga'}. Best is trial 0 with value: 0.6738840772818121.\n",
      "[I 2024-06-08 00:27:59,215] Trial 15 finished with value: 0.6738840772818121 and parameters: {'l1_ratio': 0.24058353121801312, 'penalty': 'elasticnet', 'C': 1.0573494153263432, 'max_iter': 457, 'solver': 'saga'}. Best is trial 0 with value: 0.6738840772818121.\n",
      "[I 2024-06-08 00:27:59,286] Trial 16 finished with value: 0.6738840772818121 and parameters: {'l1_ratio': 0.48305518544294146, 'penalty': 'elasticnet', 'C': 66.52109114767141, 'max_iter': 912, 'solver': 'saga'}. Best is trial 0 with value: 0.6738840772818121.\n",
      "[I 2024-06-08 00:27:59,335] Trial 17 finished with value: 0.6738840772818121 and parameters: {'l1_ratio': 0.5057593219775152, 'penalty': 'elasticnet', 'C': 19.178115977718267, 'max_iter': 845, 'solver': 'saga'}. Best is trial 0 with value: 0.6738840772818121.\n",
      "[I 2024-06-08 00:27:59,364] Trial 18 finished with value: 0.6738840772818121 and parameters: {'l1_ratio': 0.23183334760205443, 'penalty': 'elasticnet', 'C': 0.02071199562161528, 'max_iter': 519, 'solver': 'saga'}. Best is trial 0 with value: 0.6738840772818121.\n",
      "[I 2024-06-08 00:27:59,398] Trial 19 finished with value: 0.6738840772818121 and parameters: {'l1_ratio': 0.8789758084042731, 'penalty': 'elasticnet', 'C': 0.03890561052203377, 'max_iter': 308, 'solver': 'saga'}. Best is trial 0 with value: 0.6738840772818121.\n",
      "[I 2024-06-08 00:27:59,423] Trial 20 finished with value: 0.6738840772818121 and parameters: {'l1_ratio': 0.9179458057039298, 'penalty': 'elasticnet', 'C': 0.032828732141087884, 'max_iter': 925, 'solver': 'saga'}. Best is trial 0 with value: 0.6738840772818121.\n",
      "[I 2024-06-08 00:27:59,441] Trial 21 finished with value: 0.6738840772818121 and parameters: {'l1_ratio': 0.23479755091129706, 'penalty': 'elasticnet', 'C': 2.9103624241663972, 'max_iter': 957, 'solver': 'saga'}. Best is trial 0 with value: 0.6738840772818121.\n",
      "[I 2024-06-08 00:27:59,458] Trial 22 finished with value: 0.6738840772818121 and parameters: {'l1_ratio': 0.25513081972233587, 'penalty': 'elasticnet', 'C': 0.6324418397985214, 'max_iter': 976, 'solver': 'saga'}. Best is trial 0 with value: 0.6738840772818121.\n",
      "[I 2024-06-08 00:27:59,476] Trial 23 finished with value: 0.6738840772818121 and parameters: {'l1_ratio': 0.23937099816163865, 'penalty': 'elasticnet', 'C': 0.06233403073333485, 'max_iter': 719, 'solver': 'saga'}. Best is trial 0 with value: 0.6738840772818121.\n",
      "[I 2024-06-08 00:27:59,494] Trial 24 finished with value: 0.6738840772818121 and parameters: {'l1_ratio': 0.8450091946690719, 'penalty': 'elasticnet', 'C': 0.6505261022908185, 'max_iter': 191, 'solver': 'saga'}. Best is trial 0 with value: 0.6738840772818121.\n",
      "[I 2024-06-08 00:27:59,511] Trial 25 finished with value: 0.6738840772818121 and parameters: {'l1_ratio': 0.622847970552664, 'penalty': 'elasticnet', 'C': 0.02157266241871122, 'max_iter': 147, 'solver': 'saga'}. Best is trial 0 with value: 0.6738840772818121.\n",
      "[I 2024-06-08 00:27:59,529] Trial 26 finished with value: 0.6738840772818121 and parameters: {'l1_ratio': 0.3454784779791955, 'penalty': 'elasticnet', 'C': 41.86980139548788, 'max_iter': 819, 'solver': 'saga'}. Best is trial 0 with value: 0.6738840772818121.\n",
      "[I 2024-06-08 00:27:59,549] Trial 27 finished with value: 0.6738840772818121 and parameters: {'l1_ratio': 0.3842269427484306, 'penalty': 'elasticnet', 'C': 0.023491135928543867, 'max_iter': 214, 'solver': 'saga'}. Best is trial 0 with value: 0.6738840772818121.\n",
      "[I 2024-06-08 00:27:59,573] Trial 28 finished with value: 0.6738840772818121 and parameters: {'l1_ratio': 0.5343972812309752, 'penalty': 'elasticnet', 'C': 1.0695886563111425, 'max_iter': 553, 'solver': 'saga'}. Best is trial 0 with value: 0.6738840772818121.\n",
      "[I 2024-06-08 00:27:59,591] Trial 29 finished with value: 0.6738840772818121 and parameters: {'l1_ratio': 0.12660677568465384, 'penalty': 'elasticnet', 'C': 14.627239224758664, 'max_iter': 637, 'solver': 'saga'}. Best is trial 0 with value: 0.6738840772818121.\n",
      "[I 2024-06-08 00:27:59,608] Trial 30 finished with value: 0.6738840772818121 and parameters: {'l1_ratio': 0.75776937269917, 'penalty': 'elasticnet', 'C': 0.6877908082673599, 'max_iter': 167, 'solver': 'saga'}. Best is trial 0 with value: 0.6738840772818121.\n",
      "[I 2024-06-08 00:27:59,625] Trial 31 finished with value: 0.6738840772818121 and parameters: {'l1_ratio': 0.6024878434664988, 'penalty': 'elasticnet', 'C': 0.5525819288943451, 'max_iter': 105, 'solver': 'saga'}. Best is trial 0 with value: 0.6738840772818121.\n",
      "[I 2024-06-08 00:27:59,642] Trial 32 finished with value: 0.6738840772818121 and parameters: {'l1_ratio': 0.04662987836169319, 'penalty': 'elasticnet', 'C': 0.47311814022691223, 'max_iter': 891, 'solver': 'saga'}. Best is trial 0 with value: 0.6738840772818121.\n",
      "[I 2024-06-08 00:27:59,658] Trial 33 finished with value: 0.6738840772818121 and parameters: {'l1_ratio': 0.43301769330849826, 'penalty': 'elasticnet', 'C': 3.7483560811192262, 'max_iter': 612, 'solver': 'saga'}. Best is trial 0 with value: 0.6738840772818121.\n",
      "[I 2024-06-08 00:27:59,675] Trial 34 finished with value: 0.6738840772818121 and parameters: {'l1_ratio': 0.24018190154641206, 'penalty': 'elasticnet', 'C': 0.1523446517672857, 'max_iter': 104, 'solver': 'saga'}. Best is trial 0 with value: 0.6738840772818121.\n",
      "[I 2024-06-08 00:27:59,692] Trial 35 finished with value: 0.6738840772818121 and parameters: {'l1_ratio': 0.1288935485768078, 'penalty': 'elasticnet', 'C': 1.3080371500259338, 'max_iter': 683, 'solver': 'saga'}. Best is trial 0 with value: 0.6738840772818121.\n",
      "[I 2024-06-08 00:27:59,709] Trial 36 finished with value: 0.6738840772818121 and parameters: {'l1_ratio': 0.14536195449419298, 'penalty': 'elasticnet', 'C': 5.828503234861743, 'max_iter': 645, 'solver': 'saga'}. Best is trial 0 with value: 0.6738840772818121.\n",
      "[I 2024-06-08 00:27:59,727] Trial 37 finished with value: 0.6738840772818121 and parameters: {'l1_ratio': 0.963544780062434, 'penalty': 'elasticnet', 'C': 23.518964912506494, 'max_iter': 567, 'solver': 'saga'}. Best is trial 0 with value: 0.6738840772818121.\n",
      "[I 2024-06-08 00:27:59,744] Trial 38 finished with value: 0.6738840772818121 and parameters: {'l1_ratio': 0.6034752072158278, 'penalty': 'elasticnet', 'C': 0.02197774098855032, 'max_iter': 960, 'solver': 'saga'}. Best is trial 0 with value: 0.6738840772818121.\n",
      "[I 2024-06-08 00:27:59,760] Trial 39 finished with value: 0.6738840772818121 and parameters: {'l1_ratio': 0.8951009548900523, 'penalty': 'elasticnet', 'C': 1.7115465060325654, 'max_iter': 354, 'solver': 'saga'}. Best is trial 0 with value: 0.6738840772818121.\n",
      "[I 2024-06-08 00:27:59,777] Trial 40 finished with value: 0.6738840772818121 and parameters: {'l1_ratio': 0.6393898787142637, 'penalty': 'elasticnet', 'C': 0.46570663801564743, 'max_iter': 665, 'solver': 'saga'}. Best is trial 0 with value: 0.6738840772818121.\n",
      "[I 2024-06-08 00:27:59,794] Trial 41 finished with value: 0.6738840772818121 and parameters: {'l1_ratio': 0.3964306441212516, 'penalty': 'elasticnet', 'C': 0.16115829188620256, 'max_iter': 458, 'solver': 'saga'}. Best is trial 0 with value: 0.6738840772818121.\n",
      "[I 2024-06-08 00:27:59,813] Trial 42 finished with value: 0.6738840772818121 and parameters: {'l1_ratio': 0.8497845284188781, 'penalty': 'elasticnet', 'C': 22.644086948830452, 'max_iter': 357, 'solver': 'saga'}. Best is trial 0 with value: 0.6738840772818121.\n",
      "[I 2024-06-08 00:27:59,837] Trial 43 finished with value: 0.6738840772818121 and parameters: {'l1_ratio': 0.33885827739248164, 'penalty': 'elasticnet', 'C': 0.8621203276775906, 'max_iter': 446, 'solver': 'saga'}. Best is trial 0 with value: 0.6738840772818121.\n",
      "[I 2024-06-08 00:27:59,858] Trial 44 finished with value: 0.6738840772818121 and parameters: {'l1_ratio': 0.32878734994014014, 'penalty': 'elasticnet', 'C': 1.306209163176254, 'max_iter': 187, 'solver': 'saga'}. Best is trial 0 with value: 0.6738840772818121.\n",
      "[I 2024-06-08 00:27:59,877] Trial 45 finished with value: 0.6738840772818121 and parameters: {'l1_ratio': 0.023379930587594244, 'penalty': 'elasticnet', 'C': 0.05756448260639972, 'max_iter': 967, 'solver': 'saga'}. Best is trial 0 with value: 0.6738840772818121.\n",
      "[I 2024-06-08 00:27:59,893] Trial 46 finished with value: 0.6738840772818121 and parameters: {'l1_ratio': 0.7609561458372598, 'penalty': 'elasticnet', 'C': 1.2177602212036982, 'max_iter': 210, 'solver': 'saga'}. Best is trial 0 with value: 0.6738840772818121.\n",
      "[I 2024-06-08 00:27:59,910] Trial 47 finished with value: 0.6738840772818121 and parameters: {'l1_ratio': 0.9985866810937334, 'penalty': 'elasticnet', 'C': 35.73128272923617, 'max_iter': 964, 'solver': 'saga'}. Best is trial 0 with value: 0.6738840772818121.\n",
      "[I 2024-06-08 00:27:59,927] Trial 48 finished with value: 0.6738840772818121 and parameters: {'l1_ratio': 0.564785449158253, 'penalty': 'elasticnet', 'C': 0.15593069566006496, 'max_iter': 266, 'solver': 'saga'}. Best is trial 0 with value: 0.6738840772818121.\n",
      "[I 2024-06-08 00:27:59,945] Trial 49 finished with value: 0.6738840772818121 and parameters: {'l1_ratio': 0.7808527854686921, 'penalty': 'elasticnet', 'C': 0.041769472014503484, 'max_iter': 641, 'solver': 'saga'}. Best is trial 0 with value: 0.6738840772818121.\n",
      "[I 2024-06-08 00:27:59,968] Trial 50 finished with value: 0.6738840772818121 and parameters: {'l1_ratio': 0.7380400243015056, 'penalty': 'elasticnet', 'C': 1.841859065147003, 'max_iter': 815, 'solver': 'saga'}. Best is trial 0 with value: 0.6738840772818121.\n",
      "[I 2024-06-08 00:27:59,987] Trial 51 finished with value: 0.6738840772818121 and parameters: {'l1_ratio': 0.9272600171485721, 'penalty': 'elasticnet', 'C': 0.021059540030483385, 'max_iter': 204, 'solver': 'saga'}. Best is trial 0 with value: 0.6738840772818121.\n",
      "[I 2024-06-08 00:28:00,006] Trial 52 finished with value: 0.6738840772818121 and parameters: {'l1_ratio': 0.11380123623093197, 'penalty': 'elasticnet', 'C': 0.14181814630592005, 'max_iter': 596, 'solver': 'saga'}. Best is trial 0 with value: 0.6738840772818121.\n",
      "[I 2024-06-08 00:28:00,025] Trial 53 finished with value: 0.6738840772818121 and parameters: {'l1_ratio': 0.44464358527828296, 'penalty': 'elasticnet', 'C': 0.6280409052492372, 'max_iter': 720, 'solver': 'saga'}. Best is trial 0 with value: 0.6738840772818121.\n",
      "[I 2024-06-08 00:28:00,043] Trial 54 finished with value: 0.6738840772818121 and parameters: {'l1_ratio': 0.14884802489269566, 'penalty': 'elasticnet', 'C': 0.030103021567687998, 'max_iter': 226, 'solver': 'saga'}. Best is trial 0 with value: 0.6738840772818121.\n",
      "[I 2024-06-08 00:28:00,061] Trial 55 finished with value: 0.6738840772818121 and parameters: {'l1_ratio': 0.8446174837084529, 'penalty': 'elasticnet', 'C': 0.30629161552234263, 'max_iter': 650, 'solver': 'saga'}. Best is trial 0 with value: 0.6738840772818121.\n",
      "[I 2024-06-08 00:28:00,078] Trial 56 finished with value: 0.6738840772818121 and parameters: {'l1_ratio': 0.9107078274365592, 'penalty': 'elasticnet', 'C': 0.05397557626972808, 'max_iter': 145, 'solver': 'saga'}. Best is trial 0 with value: 0.6738840772818121.\n",
      "[I 2024-06-08 00:28:00,096] Trial 57 finished with value: 0.6738840772818121 and parameters: {'l1_ratio': 0.2635543863600527, 'penalty': 'elasticnet', 'C': 0.3320698541563889, 'max_iter': 582, 'solver': 'saga'}. Best is trial 0 with value: 0.6738840772818121.\n",
      "[I 2024-06-08 00:28:00,116] Trial 58 finished with value: 0.6738840772818121 and parameters: {'l1_ratio': 0.20593267412957195, 'penalty': 'elasticnet', 'C': 10.736427327553779, 'max_iter': 656, 'solver': 'saga'}. Best is trial 0 with value: 0.6738840772818121.\n",
      "[I 2024-06-08 00:28:00,138] Trial 59 finished with value: 0.6738840772818121 and parameters: {'l1_ratio': 0.7789120822371315, 'penalty': 'elasticnet', 'C': 0.0598453833413193, 'max_iter': 321, 'solver': 'saga'}. Best is trial 0 with value: 0.6738840772818121.\n",
      "[I 2024-06-08 00:28:00,156] Trial 60 finished with value: 0.6738840772818121 and parameters: {'l1_ratio': 0.6405635118484496, 'penalty': 'elasticnet', 'C': 0.3985010223468039, 'max_iter': 967, 'solver': 'saga'}. Best is trial 0 with value: 0.6738840772818121.\n",
      "[I 2024-06-08 00:28:00,173] Trial 61 finished with value: 0.6738840772818121 and parameters: {'l1_ratio': 0.7636679934989524, 'penalty': 'elasticnet', 'C': 0.048213123670565156, 'max_iter': 207, 'solver': 'saga'}. Best is trial 0 with value: 0.6738840772818121.\n",
      "[I 2024-06-08 00:28:00,190] Trial 62 finished with value: 0.6738840772818121 and parameters: {'l1_ratio': 0.33026965314873746, 'penalty': 'elasticnet', 'C': 15.64904269882861, 'max_iter': 645, 'solver': 'saga'}. Best is trial 0 with value: 0.6738840772818121.\n",
      "[I 2024-06-08 00:28:00,207] Trial 63 finished with value: 0.6738840772818121 and parameters: {'l1_ratio': 0.21749415361126012, 'penalty': 'elasticnet', 'C': 0.01303454835661758, 'max_iter': 562, 'solver': 'saga'}. Best is trial 0 with value: 0.6738840772818121.\n",
      "[I 2024-06-08 00:28:00,223] Trial 64 finished with value: 0.6738840772818121 and parameters: {'l1_ratio': 0.9395388576438164, 'penalty': 'elasticnet', 'C': 2.0239267157229315, 'max_iter': 958, 'solver': 'saga'}. Best is trial 0 with value: 0.6738840772818121.\n",
      "[I 2024-06-08 00:28:00,240] Trial 65 finished with value: 0.6738840772818121 and parameters: {'l1_ratio': 0.480686727057959, 'penalty': 'elasticnet', 'C': 91.86785654359976, 'max_iter': 544, 'solver': 'saga'}. Best is trial 0 with value: 0.6738840772818121.\n",
      "[I 2024-06-08 00:28:00,257] Trial 66 finished with value: 0.6738840772818121 and parameters: {'l1_ratio': 0.8278672160318609, 'penalty': 'elasticnet', 'C': 0.12738837247190585, 'max_iter': 161, 'solver': 'saga'}. Best is trial 0 with value: 0.6738840772818121.\n",
      "[I 2024-06-08 00:28:00,274] Trial 67 finished with value: 0.6738840772818121 and parameters: {'l1_ratio': 0.721360101028917, 'penalty': 'elasticnet', 'C': 0.030650286039784234, 'max_iter': 829, 'solver': 'saga'}. Best is trial 0 with value: 0.6738840772818121.\n",
      "[I 2024-06-08 00:28:00,290] Trial 68 finished with value: 0.6738840772818121 and parameters: {'l1_ratio': 0.9347922225636194, 'penalty': 'elasticnet', 'C': 0.23434771009411434, 'max_iter': 381, 'solver': 'saga'}. Best is trial 0 with value: 0.6738840772818121.\n",
      "[I 2024-06-08 00:28:00,307] Trial 69 finished with value: 0.6738840772818121 and parameters: {'l1_ratio': 0.6002971063674759, 'penalty': 'elasticnet', 'C': 6.00019588206396, 'max_iter': 140, 'solver': 'saga'}. Best is trial 0 with value: 0.6738840772818121.\n",
      "[I 2024-06-08 00:28:00,324] Trial 70 finished with value: 0.6738840772818121 and parameters: {'l1_ratio': 0.6267356759602706, 'penalty': 'elasticnet', 'C': 0.050348540227368885, 'max_iter': 172, 'solver': 'saga'}. Best is trial 0 with value: 0.6738840772818121.\n",
      "[I 2024-06-08 00:28:00,342] Trial 71 finished with value: 0.6738840772818121 and parameters: {'l1_ratio': 0.31370103075151023, 'penalty': 'elasticnet', 'C': 0.453413738345394, 'max_iter': 455, 'solver': 'saga'}. Best is trial 0 with value: 0.6738840772818121.\n",
      "[I 2024-06-08 00:28:00,359] Trial 72 finished with value: 0.6738840772818121 and parameters: {'l1_ratio': 0.7230405288992248, 'penalty': 'elasticnet', 'C': 1.113009723871034, 'max_iter': 409, 'solver': 'saga'}. Best is trial 0 with value: 0.6738840772818121.\n",
      "[I 2024-06-08 00:28:00,375] Trial 73 finished with value: 0.6738840772818121 and parameters: {'l1_ratio': 0.4689082800259925, 'penalty': 'elasticnet', 'C': 1.5379955204462366, 'max_iter': 852, 'solver': 'saga'}. Best is trial 0 with value: 0.6738840772818121.\n",
      "[I 2024-06-08 00:28:00,392] Trial 74 finished with value: 0.6738840772818121 and parameters: {'l1_ratio': 0.34809190046205274, 'penalty': 'elasticnet', 'C': 13.575138022547424, 'max_iter': 686, 'solver': 'saga'}. Best is trial 0 with value: 0.6738840772818121.\n",
      "[I 2024-06-08 00:28:00,408] Trial 75 finished with value: 0.6738840772818121 and parameters: {'l1_ratio': 0.8730257595537249, 'penalty': 'elasticnet', 'C': 0.4391408637607976, 'max_iter': 265, 'solver': 'saga'}. Best is trial 0 with value: 0.6738840772818121.\n",
      "[I 2024-06-08 00:28:00,425] Trial 76 finished with value: 0.6738840772818121 and parameters: {'l1_ratio': 0.09317831284174316, 'penalty': 'elasticnet', 'C': 1.6960419746736697, 'max_iter': 980, 'solver': 'saga'}. Best is trial 0 with value: 0.6738840772818121.\n",
      "[I 2024-06-08 00:28:00,441] Trial 77 finished with value: 0.6738840772818121 and parameters: {'l1_ratio': 0.29572214736158386, 'penalty': 'elasticnet', 'C': 0.3737974826428585, 'max_iter': 837, 'solver': 'saga'}. Best is trial 0 with value: 0.6738840772818121.\n",
      "[I 2024-06-08 00:28:00,458] Trial 78 finished with value: 0.6738840772818121 and parameters: {'l1_ratio': 0.3940115991448834, 'penalty': 'elasticnet', 'C': 36.58478246475672, 'max_iter': 127, 'solver': 'saga'}. Best is trial 0 with value: 0.6738840772818121.\n",
      "[I 2024-06-08 00:28:00,475] Trial 79 finished with value: 0.6738840772818121 and parameters: {'l1_ratio': 0.8998117453605183, 'penalty': 'elasticnet', 'C': 0.14602340394121105, 'max_iter': 983, 'solver': 'saga'}. Best is trial 0 with value: 0.6738840772818121.\n",
      "[I 2024-06-08 00:28:00,492] Trial 80 finished with value: 0.6738840772818121 and parameters: {'l1_ratio': 0.7726044200868316, 'penalty': 'elasticnet', 'C': 17.773541904405658, 'max_iter': 527, 'solver': 'saga'}. Best is trial 0 with value: 0.6738840772818121.\n",
      "[I 2024-06-08 00:28:00,508] Trial 81 finished with value: 0.6738840772818121 and parameters: {'l1_ratio': 0.3024871162472813, 'penalty': 'elasticnet', 'C': 0.19792205374227942, 'max_iter': 898, 'solver': 'saga'}. Best is trial 0 with value: 0.6738840772818121.\n",
      "[I 2024-06-08 00:28:00,524] Trial 82 finished with value: 0.6738840772818121 and parameters: {'l1_ratio': 0.42954226359209646, 'penalty': 'elasticnet', 'C': 0.010287611420955958, 'max_iter': 657, 'solver': 'saga'}. Best is trial 0 with value: 0.6738840772818121.\n",
      "[I 2024-06-08 00:28:00,541] Trial 83 finished with value: 0.6738840772818121 and parameters: {'l1_ratio': 0.6384146144413262, 'penalty': 'elasticnet', 'C': 2.561741264644319, 'max_iter': 176, 'solver': 'saga'}. Best is trial 0 with value: 0.6738840772818121.\n",
      "[I 2024-06-08 00:28:00,558] Trial 84 finished with value: 0.6738840772818121 and parameters: {'l1_ratio': 0.18878963262831439, 'penalty': 'elasticnet', 'C': 12.369229503673267, 'max_iter': 631, 'solver': 'saga'}. Best is trial 0 with value: 0.6738840772818121.\n",
      "[I 2024-06-08 00:28:00,574] Trial 85 finished with value: 0.6738840772818121 and parameters: {'l1_ratio': 0.6860361909445178, 'penalty': 'elasticnet', 'C': 0.01960489209840365, 'max_iter': 605, 'solver': 'saga'}. Best is trial 0 with value: 0.6738840772818121.\n",
      "[I 2024-06-08 00:28:00,591] Trial 86 finished with value: 0.6738840772818121 and parameters: {'l1_ratio': 0.2586295146537938, 'penalty': 'elasticnet', 'C': 0.076689222095408, 'max_iter': 203, 'solver': 'saga'}. Best is trial 0 with value: 0.6738840772818121.\n",
      "[I 2024-06-08 00:28:00,609] Trial 87 finished with value: 0.6738840772818121 and parameters: {'l1_ratio': 0.09905593656208833, 'penalty': 'elasticnet', 'C': 0.094508713108523, 'max_iter': 772, 'solver': 'saga'}. Best is trial 0 with value: 0.6738840772818121.\n",
      "[I 2024-06-08 00:28:00,626] Trial 88 finished with value: 0.6738840772818121 and parameters: {'l1_ratio': 0.5943825327304895, 'penalty': 'elasticnet', 'C': 1.4030694739937408, 'max_iter': 438, 'solver': 'saga'}. Best is trial 0 with value: 0.6738840772818121.\n",
      "[I 2024-06-08 00:28:00,643] Trial 89 finished with value: 0.6738840772818121 and parameters: {'l1_ratio': 0.23501047798661767, 'penalty': 'elasticnet', 'C': 2.3081226557256684, 'max_iter': 858, 'solver': 'saga'}. Best is trial 0 with value: 0.6738840772818121.\n",
      "[I 2024-06-08 00:28:00,659] Trial 90 finished with value: 0.6738840772818121 and parameters: {'l1_ratio': 0.47729389039881, 'penalty': 'elasticnet', 'C': 0.021625619558979785, 'max_iter': 940, 'solver': 'saga'}. Best is trial 0 with value: 0.6738840772818121.\n",
      "[I 2024-06-08 00:28:00,676] Trial 91 finished with value: 0.6738840772818121 and parameters: {'l1_ratio': 0.4860786085123222, 'penalty': 'elasticnet', 'C': 0.03172802162319548, 'max_iter': 856, 'solver': 'saga'}. Best is trial 0 with value: 0.6738840772818121.\n",
      "[I 2024-06-08 00:28:00,693] Trial 92 finished with value: 0.6738840772818121 and parameters: {'l1_ratio': 0.38240464605494207, 'penalty': 'elasticnet', 'C': 0.02721303562441804, 'max_iter': 960, 'solver': 'saga'}. Best is trial 0 with value: 0.6738840772818121.\n",
      "[I 2024-06-08 00:28:00,709] Trial 93 finished with value: 0.6738840772818121 and parameters: {'l1_ratio': 0.3436503994506843, 'penalty': 'elasticnet', 'C': 0.07175281862798143, 'max_iter': 513, 'solver': 'saga'}. Best is trial 0 with value: 0.6738840772818121.\n",
      "[I 2024-06-08 00:28:00,726] Trial 94 finished with value: 0.6738840772818121 and parameters: {'l1_ratio': 0.02489530628090697, 'penalty': 'elasticnet', 'C': 0.09569391110649288, 'max_iter': 688, 'solver': 'saga'}. Best is trial 0 with value: 0.6738840772818121.\n",
      "[I 2024-06-08 00:28:00,743] Trial 95 finished with value: 0.6738840772818121 and parameters: {'l1_ratio': 0.3373767925601705, 'penalty': 'elasticnet', 'C': 0.012196592563587835, 'max_iter': 345, 'solver': 'saga'}. Best is trial 0 with value: 0.6738840772818121.\n",
      "[I 2024-06-08 00:28:00,759] Trial 96 finished with value: 0.6738840772818121 and parameters: {'l1_ratio': 0.9614891406278656, 'penalty': 'elasticnet', 'C': 7.081137327646262, 'max_iter': 652, 'solver': 'saga'}. Best is trial 0 with value: 0.6738840772818121.\n",
      "[I 2024-06-08 00:28:00,776] Trial 97 finished with value: 0.6738840772818121 and parameters: {'l1_ratio': 0.0425938640226482, 'penalty': 'elasticnet', 'C': 82.25069248297623, 'max_iter': 593, 'solver': 'saga'}. Best is trial 0 with value: 0.6738840772818121.\n",
      "[I 2024-06-08 00:28:00,793] Trial 98 finished with value: 0.6738840772818121 and parameters: {'l1_ratio': 0.5119850184358926, 'penalty': 'elasticnet', 'C': 17.541043973513382, 'max_iter': 745, 'solver': 'saga'}. Best is trial 0 with value: 0.6738840772818121.\n",
      "[I 2024-06-08 00:28:00,809] Trial 99 finished with value: 0.6738840772818121 and parameters: {'l1_ratio': 0.8308851599474497, 'penalty': 'elasticnet', 'C': 0.038711524522540806, 'max_iter': 631, 'solver': 'saga'}. Best is trial 0 with value: 0.6738840772818121.\n",
      "[I 2024-06-08 00:28:00,827] Trial 100 finished with value: 0.6738840772818121 and parameters: {'l1_ratio': 0.8471136501705183, 'penalty': 'elasticnet', 'C': 0.234197631072027, 'max_iter': 230, 'solver': 'saga'}. Best is trial 0 with value: 0.6738840772818121.\n",
      "[I 2024-06-08 00:28:00,844] Trial 101 finished with value: 0.6738840772818121 and parameters: {'l1_ratio': 0.1836483711819311, 'penalty': 'elasticnet', 'C': 0.04508460206395431, 'max_iter': 483, 'solver': 'saga'}. Best is trial 0 with value: 0.6738840772818121.\n",
      "[I 2024-06-08 00:28:00,861] Trial 102 finished with value: 0.6738840772818121 and parameters: {'l1_ratio': 0.6055885059878887, 'penalty': 'elasticnet', 'C': 0.023794901878716246, 'max_iter': 124, 'solver': 'saga'}. Best is trial 0 with value: 0.6738840772818121.\n",
      "[I 2024-06-08 00:28:00,886] Trial 103 finished with value: 0.6738840772818121 and parameters: {'l1_ratio': 0.08871545457591135, 'penalty': 'elasticnet', 'C': 0.12208804456888893, 'max_iter': 408, 'solver': 'saga'}. Best is trial 0 with value: 0.6738840772818121.\n",
      "[I 2024-06-08 00:28:00,905] Trial 104 finished with value: 0.6738840772818121 and parameters: {'l1_ratio': 0.7767253816094082, 'penalty': 'elasticnet', 'C': 9.429951390193311, 'max_iter': 199, 'solver': 'saga'}. Best is trial 0 with value: 0.6738840772818121.\n",
      "[I 2024-06-08 00:28:00,922] Trial 105 finished with value: 0.6738840772818121 and parameters: {'l1_ratio': 0.47806896006875077, 'penalty': 'elasticnet', 'C': 3.904266121323621, 'max_iter': 859, 'solver': 'saga'}. Best is trial 0 with value: 0.6738840772818121.\n",
      "[I 2024-06-08 00:28:00,940] Trial 106 finished with value: 0.6738840772818121 and parameters: {'l1_ratio': 0.388468854806459, 'penalty': 'elasticnet', 'C': 0.18235322570309798, 'max_iter': 475, 'solver': 'saga'}. Best is trial 0 with value: 0.6738840772818121.\n",
      "[I 2024-06-08 00:28:00,957] Trial 107 finished with value: 0.6738840772818121 and parameters: {'l1_ratio': 0.44175712345987217, 'penalty': 'elasticnet', 'C': 2.931220453940021, 'max_iter': 997, 'solver': 'saga'}. Best is trial 0 with value: 0.6738840772818121.\n",
      "[I 2024-06-08 00:28:00,973] Trial 108 finished with value: 0.6738840772818121 and parameters: {'l1_ratio': 0.6521830648469973, 'penalty': 'elasticnet', 'C': 3.4837411728563605, 'max_iter': 581, 'solver': 'saga'}. Best is trial 0 with value: 0.6738840772818121.\n",
      "[I 2024-06-08 00:28:00,990] Trial 109 finished with value: 0.6738840772818121 and parameters: {'l1_ratio': 0.35557836732536197, 'penalty': 'elasticnet', 'C': 26.293909129874912, 'max_iter': 247, 'solver': 'saga'}. Best is trial 0 with value: 0.6738840772818121.\n",
      "[I 2024-06-08 00:28:01,007] Trial 110 finished with value: 0.6738840772818121 and parameters: {'l1_ratio': 0.7658237880282034, 'penalty': 'elasticnet', 'C': 10.747994464707489, 'max_iter': 144, 'solver': 'saga'}. Best is trial 0 with value: 0.6738840772818121.\n",
      "[I 2024-06-08 00:28:01,024] Trial 111 finished with value: 0.6738840772818121 and parameters: {'l1_ratio': 0.45578849641224983, 'penalty': 'elasticnet', 'C': 7.1118919980165805, 'max_iter': 613, 'solver': 'saga'}. Best is trial 0 with value: 0.6738840772818121.\n",
      "[I 2024-06-08 00:28:01,041] Trial 112 finished with value: 0.6738840772818121 and parameters: {'l1_ratio': 0.36095818866319496, 'penalty': 'elasticnet', 'C': 0.12314369326595438, 'max_iter': 144, 'solver': 'saga'}. Best is trial 0 with value: 0.6738840772818121.\n",
      "[I 2024-06-08 00:28:01,057] Trial 113 finished with value: 0.6738840772818121 and parameters: {'l1_ratio': 0.08651653838786766, 'penalty': 'elasticnet', 'C': 95.65140455600996, 'max_iter': 668, 'solver': 'saga'}. Best is trial 0 with value: 0.6738840772818121.\n",
      "[I 2024-06-08 00:28:01,074] Trial 114 finished with value: 0.6735509660226515 and parameters: {'l1_ratio': 0.7943292806783894, 'penalty': 'elasticnet', 'C': 0.011635791469408439, 'max_iter': 207, 'solver': 'saga'}. Best is trial 0 with value: 0.6738840772818121.\n",
      "[I 2024-06-08 00:28:01,091] Trial 115 finished with value: 0.6738840772818121 and parameters: {'l1_ratio': 0.39523622294092764, 'penalty': 'elasticnet', 'C': 23.782132614140657, 'max_iter': 368, 'solver': 'saga'}. Best is trial 0 with value: 0.6738840772818121.\n",
      "[I 2024-06-08 00:28:01,108] Trial 116 finished with value: 0.6738840772818121 and parameters: {'l1_ratio': 0.1940476194756442, 'penalty': 'elasticnet', 'C': 30.521614629676527, 'max_iter': 905, 'solver': 'saga'}. Best is trial 0 with value: 0.6738840772818121.\n",
      "[I 2024-06-08 00:28:01,124] Trial 117 finished with value: 0.6738840772818121 and parameters: {'l1_ratio': 0.9790846206910202, 'penalty': 'elasticnet', 'C': 0.021603008194460146, 'max_iter': 503, 'solver': 'saga'}. Best is trial 0 with value: 0.6738840772818121.\n",
      "[I 2024-06-08 00:28:01,143] Trial 118 finished with value: 0.6738840772818121 and parameters: {'l1_ratio': 0.2273428595343805, 'penalty': 'elasticnet', 'C': 16.51468402439202, 'max_iter': 414, 'solver': 'saga'}. Best is trial 0 with value: 0.6738840772818121.\n",
      "[I 2024-06-08 00:28:01,160] Trial 119 finished with value: 0.6738840772818121 and parameters: {'l1_ratio': 0.2195151893089342, 'penalty': 'elasticnet', 'C': 17.03885924185188, 'max_iter': 529, 'solver': 'saga'}. Best is trial 0 with value: 0.6738840772818121.\n",
      "[I 2024-06-08 00:28:01,226] Trial 120 finished with value: 0.6738840772818121 and parameters: {'l1_ratio': 0.05167183644896767, 'penalty': 'elasticnet', 'C': 0.3279823574391817, 'max_iter': 540, 'solver': 'saga'}. Best is trial 0 with value: 0.6738840772818121.\n",
      "[I 2024-06-08 00:28:01,276] Trial 121 finished with value: 0.6738840772818121 and parameters: {'l1_ratio': 0.6777070409958931, 'penalty': 'elasticnet', 'C': 0.15614942311672478, 'max_iter': 113, 'solver': 'saga'}. Best is trial 0 with value: 0.6738840772818121.\n",
      "[I 2024-06-08 00:28:01,311] Trial 122 finished with value: 0.6738840772818121 and parameters: {'l1_ratio': 0.5995989995918588, 'penalty': 'elasticnet', 'C': 18.981897206146257, 'max_iter': 289, 'solver': 'saga'}. Best is trial 0 with value: 0.6738840772818121.\n",
      "[I 2024-06-08 00:28:01,345] Trial 123 finished with value: 0.6738840772818121 and parameters: {'l1_ratio': 0.6337757519736682, 'penalty': 'elasticnet', 'C': 8.449973806298349, 'max_iter': 971, 'solver': 'saga'}. Best is trial 0 with value: 0.6738840772818121.\n",
      "[I 2024-06-08 00:28:01,367] Trial 124 finished with value: 0.6738840772818121 and parameters: {'l1_ratio': 0.08774706063976812, 'penalty': 'elasticnet', 'C': 5.40592655014607, 'max_iter': 612, 'solver': 'saga'}. Best is trial 0 with value: 0.6738840772818121.\n",
      "[I 2024-06-08 00:28:01,387] Trial 125 finished with value: 0.6738840772818121 and parameters: {'l1_ratio': 0.1692741729195425, 'penalty': 'elasticnet', 'C': 0.7136338994103509, 'max_iter': 111, 'solver': 'saga'}. Best is trial 0 with value: 0.6738840772818121.\n",
      "[I 2024-06-08 00:28:01,412] Trial 126 finished with value: 0.6738840772818121 and parameters: {'l1_ratio': 0.023169743854271396, 'penalty': 'elasticnet', 'C': 0.011912611522328018, 'max_iter': 462, 'solver': 'saga'}. Best is trial 0 with value: 0.6738840772818121.\n",
      "[I 2024-06-08 00:28:01,430] Trial 127 finished with value: 0.6738840772818121 and parameters: {'l1_ratio': 0.5355132035114978, 'penalty': 'elasticnet', 'C': 0.11225616825078197, 'max_iter': 567, 'solver': 'saga'}. Best is trial 0 with value: 0.6738840772818121.\n",
      "[I 2024-06-08 00:28:01,452] Trial 128 finished with value: 0.6738840772818121 and parameters: {'l1_ratio': 0.47779187448209726, 'penalty': 'elasticnet', 'C': 0.1475426226110133, 'max_iter': 465, 'solver': 'saga'}. Best is trial 0 with value: 0.6738840772818121.\n",
      "[I 2024-06-08 00:28:01,471] Trial 129 finished with value: 0.6738840772818121 and parameters: {'l1_ratio': 0.47429367431199154, 'penalty': 'elasticnet', 'C': 0.5619332827559818, 'max_iter': 114, 'solver': 'saga'}. Best is trial 0 with value: 0.6738840772818121.\n",
      "[I 2024-06-08 00:28:01,489] Trial 130 finished with value: 0.6738840772818121 and parameters: {'l1_ratio': 0.7055617167942578, 'penalty': 'elasticnet', 'C': 10.892546425919848, 'max_iter': 345, 'solver': 'saga'}. Best is trial 0 with value: 0.6738840772818121.\n",
      "[I 2024-06-08 00:28:01,506] Trial 131 finished with value: 0.6738840772818121 and parameters: {'l1_ratio': 0.4656358778024837, 'penalty': 'elasticnet', 'C': 7.905359413627673, 'max_iter': 174, 'solver': 'saga'}. Best is trial 0 with value: 0.6738840772818121.\n",
      "[I 2024-06-08 00:28:01,523] Trial 132 finished with value: 0.6738840772818121 and parameters: {'l1_ratio': 0.8491269748213126, 'penalty': 'elasticnet', 'C': 7.631269089397811, 'max_iter': 992, 'solver': 'saga'}. Best is trial 0 with value: 0.6738840772818121.\n",
      "[I 2024-06-08 00:28:01,540] Trial 133 finished with value: 0.6738840772818121 and parameters: {'l1_ratio': 0.4458445675158459, 'penalty': 'elasticnet', 'C': 0.10299323423937613, 'max_iter': 244, 'solver': 'saga'}. Best is trial 0 with value: 0.6738840772818121.\n",
      "[I 2024-06-08 00:28:01,557] Trial 134 finished with value: 0.6738840772818121 and parameters: {'l1_ratio': 0.870727250858279, 'penalty': 'elasticnet', 'C': 5.6358438666505775, 'max_iter': 442, 'solver': 'saga'}. Best is trial 0 with value: 0.6738840772818121.\n",
      "[I 2024-06-08 00:28:01,573] Trial 135 finished with value: 0.6738840772818121 and parameters: {'l1_ratio': 0.2282326164835059, 'penalty': 'elasticnet', 'C': 13.3913140627704, 'max_iter': 978, 'solver': 'saga'}. Best is trial 0 with value: 0.6738840772818121.\n",
      "[I 2024-06-08 00:28:01,590] Trial 136 finished with value: 0.6738840772818121 and parameters: {'l1_ratio': 0.8802403479846407, 'penalty': 'elasticnet', 'C': 0.10313923053710798, 'max_iter': 665, 'solver': 'saga'}. Best is trial 0 with value: 0.6738840772818121.\n",
      "[I 2024-06-08 00:28:01,606] Trial 137 finished with value: 0.6738840772818121 and parameters: {'l1_ratio': 0.4948518196858104, 'penalty': 'elasticnet', 'C': 0.019577825451821716, 'max_iter': 591, 'solver': 'saga'}. Best is trial 0 with value: 0.6738840772818121.\n",
      "[I 2024-06-08 00:28:01,623] Trial 138 finished with value: 0.6735509660226515 and parameters: {'l1_ratio': 0.8716091078716307, 'penalty': 'elasticnet', 'C': 0.013190090156730578, 'max_iter': 180, 'solver': 'saga'}. Best is trial 0 with value: 0.6738840772818121.\n",
      "[I 2024-06-08 00:28:01,639] Trial 139 finished with value: 0.6738840772818121 and parameters: {'l1_ratio': 0.31470430106830216, 'penalty': 'elasticnet', 'C': 0.010688381298874287, 'max_iter': 267, 'solver': 'saga'}. Best is trial 0 with value: 0.6738840772818121.\n",
      "[I 2024-06-08 00:28:01,656] Trial 140 finished with value: 0.6738840772818121 and parameters: {'l1_ratio': 0.8743627304570357, 'penalty': 'elasticnet', 'C': 0.05612137404042831, 'max_iter': 674, 'solver': 'saga'}. Best is trial 0 with value: 0.6738840772818121.\n",
      "[I 2024-06-08 00:28:01,673] Trial 141 finished with value: 0.6738840772818121 and parameters: {'l1_ratio': 0.6459240523527073, 'penalty': 'elasticnet', 'C': 0.05394546845209425, 'max_iter': 680, 'solver': 'saga'}. Best is trial 0 with value: 0.6738840772818121.\n",
      "[I 2024-06-08 00:28:01,690] Trial 142 finished with value: 0.6738840772818121 and parameters: {'l1_ratio': 0.1398182058122156, 'penalty': 'elasticnet', 'C': 5.099411482921982, 'max_iter': 947, 'solver': 'saga'}. Best is trial 0 with value: 0.6738840772818121.\n",
      "[I 2024-06-08 00:28:01,707] Trial 143 finished with value: 0.6738840772818121 and parameters: {'l1_ratio': 0.3159174861030116, 'penalty': 'elasticnet', 'C': 0.020557202569671466, 'max_iter': 174, 'solver': 'saga'}. Best is trial 0 with value: 0.6738840772818121.\n",
      "[I 2024-06-08 00:28:01,723] Trial 144 finished with value: 0.6738840772818121 and parameters: {'l1_ratio': 0.6822254665259121, 'penalty': 'elasticnet', 'C': 0.9198118292382542, 'max_iter': 119, 'solver': 'saga'}. Best is trial 0 with value: 0.6738840772818121.\n",
      "[I 2024-06-08 00:28:01,740] Trial 145 finished with value: 0.6738840772818121 and parameters: {'l1_ratio': 0.45704577934720947, 'penalty': 'elasticnet', 'C': 33.97055765748985, 'max_iter': 429, 'solver': 'saga'}. Best is trial 0 with value: 0.6738840772818121.\n",
      "[I 2024-06-08 00:28:01,757] Trial 146 finished with value: 0.6738840772818121 and parameters: {'l1_ratio': 0.42914109470841655, 'penalty': 'elasticnet', 'C': 0.1336222420402405, 'max_iter': 457, 'solver': 'saga'}. Best is trial 0 with value: 0.6738840772818121.\n",
      "[I 2024-06-08 00:28:01,774] Trial 147 finished with value: 0.6738840772818121 and parameters: {'l1_ratio': 0.1796720491852063, 'penalty': 'elasticnet', 'C': 0.023280765041308823, 'max_iter': 940, 'solver': 'saga'}. Best is trial 0 with value: 0.6738840772818121.\n",
      "[I 2024-06-08 00:28:01,790] Trial 148 finished with value: 0.6738840772818121 and parameters: {'l1_ratio': 0.45462919667860735, 'penalty': 'elasticnet', 'C': 0.16036769414041072, 'max_iter': 305, 'solver': 'saga'}. Best is trial 0 with value: 0.6738840772818121.\n",
      "[I 2024-06-08 00:28:01,807] Trial 149 finished with value: 0.6738840772818121 and parameters: {'l1_ratio': 0.7287870275360602, 'penalty': 'elasticnet', 'C': 0.12019729056140388, 'max_iter': 775, 'solver': 'saga'}. Best is trial 0 with value: 0.6738840772818121.\n",
      "[I 2024-06-08 00:28:01,823] Trial 150 finished with value: 0.6738840772818121 and parameters: {'l1_ratio': 0.19300320074456478, 'penalty': 'elasticnet', 'C': 0.49003399433322187, 'max_iter': 825, 'solver': 'saga'}. Best is trial 0 with value: 0.6738840772818121.\n",
      "[I 2024-06-08 00:28:01,841] Trial 151 finished with value: 0.6738840772818121 and parameters: {'l1_ratio': 0.8576942251664084, 'penalty': 'elasticnet', 'C': 54.003560287872034, 'max_iter': 548, 'solver': 'saga'}. Best is trial 0 with value: 0.6738840772818121.\n",
      "[I 2024-06-08 00:28:01,858] Trial 152 finished with value: 0.6738840772818121 and parameters: {'l1_ratio': 0.7156670487542581, 'penalty': 'elasticnet', 'C': 0.47737705869943065, 'max_iter': 187, 'solver': 'saga'}. Best is trial 0 with value: 0.6738840772818121.\n",
      "[I 2024-06-08 00:28:01,874] Trial 153 finished with value: 0.6738840772818121 and parameters: {'l1_ratio': 0.512772506734595, 'penalty': 'elasticnet', 'C': 0.1709739793157464, 'max_iter': 159, 'solver': 'saga'}. Best is trial 0 with value: 0.6738840772818121.\n",
      "[I 2024-06-08 00:28:01,891] Trial 154 finished with value: 0.6738840772818121 and parameters: {'l1_ratio': 0.34630026241876444, 'penalty': 'elasticnet', 'C': 0.20813803041222895, 'max_iter': 613, 'solver': 'saga'}. Best is trial 0 with value: 0.6738840772818121.\n",
      "[I 2024-06-08 00:28:01,907] Trial 155 finished with value: 0.6738840772818121 and parameters: {'l1_ratio': 0.7696179395720334, 'penalty': 'elasticnet', 'C': 2.739723370259937, 'max_iter': 588, 'solver': 'saga'}. Best is trial 0 with value: 0.6738840772818121.\n",
      "[I 2024-06-08 00:28:01,924] Trial 156 finished with value: 0.6738840772818121 and parameters: {'l1_ratio': 0.16458012282314227, 'penalty': 'elasticnet', 'C': 0.026813954619397493, 'max_iter': 272, 'solver': 'saga'}. Best is trial 0 with value: 0.6738840772818121.\n",
      "[I 2024-06-08 00:28:01,940] Trial 157 finished with value: 0.6738840772818121 and parameters: {'l1_ratio': 0.7246209148956595, 'penalty': 'elasticnet', 'C': 0.09362629112368243, 'max_iter': 793, 'solver': 'saga'}. Best is trial 0 with value: 0.6738840772818121.\n",
      "[I 2024-06-08 00:28:01,957] Trial 158 finished with value: 0.6738840772818121 and parameters: {'l1_ratio': 0.6599634803874062, 'penalty': 'elasticnet', 'C': 14.966568675756214, 'max_iter': 383, 'solver': 'saga'}. Best is trial 0 with value: 0.6738840772818121.\n",
      "[I 2024-06-08 00:28:01,974] Trial 159 finished with value: 0.6738840772818121 and parameters: {'l1_ratio': 0.741395115770732, 'penalty': 'elasticnet', 'C': 1.4164469766090297, 'max_iter': 351, 'solver': 'saga'}. Best is trial 0 with value: 0.6738840772818121.\n",
      "[I 2024-06-08 00:28:01,990] Trial 160 finished with value: 0.6738840772818121 and parameters: {'l1_ratio': 0.5249485314348081, 'penalty': 'elasticnet', 'C': 55.83186946547343, 'max_iter': 826, 'solver': 'saga'}. Best is trial 0 with value: 0.6738840772818121.\n",
      "[I 2024-06-08 00:28:02,007] Trial 161 finished with value: 0.6738840772818121 and parameters: {'l1_ratio': 0.048184948782166837, 'penalty': 'elasticnet', 'C': 0.034375238006951726, 'max_iter': 112, 'solver': 'saga'}. Best is trial 0 with value: 0.6738840772818121.\n",
      "[I 2024-06-08 00:28:02,025] Trial 162 finished with value: 0.6738840772818121 and parameters: {'l1_ratio': 0.18085637652095798, 'penalty': 'elasticnet', 'C': 0.04500467543083502, 'max_iter': 861, 'solver': 'saga'}. Best is trial 0 with value: 0.6738840772818121.\n",
      "[I 2024-06-08 00:28:02,042] Trial 163 finished with value: 0.6738840772818121 and parameters: {'l1_ratio': 0.22335336112405713, 'penalty': 'elasticnet', 'C': 0.5564047032308311, 'max_iter': 290, 'solver': 'saga'}. Best is trial 0 with value: 0.6738840772818121.\n",
      "[I 2024-06-08 00:28:02,059] Trial 164 finished with value: 0.6738840772818121 and parameters: {'l1_ratio': 0.4581142029682954, 'penalty': 'elasticnet', 'C': 68.56895171673015, 'max_iter': 816, 'solver': 'saga'}. Best is trial 0 with value: 0.6738840772818121.\n",
      "[I 2024-06-08 00:28:02,075] Trial 165 finished with value: 0.6738840772818121 and parameters: {'l1_ratio': 0.008540302969749836, 'penalty': 'elasticnet', 'C': 54.49226875635392, 'max_iter': 240, 'solver': 'saga'}. Best is trial 0 with value: 0.6738840772818121.\n",
      "[I 2024-06-08 00:28:02,092] Trial 166 finished with value: 0.6738840772818121 and parameters: {'l1_ratio': 0.21212538395786107, 'penalty': 'elasticnet', 'C': 0.04641012545779085, 'max_iter': 892, 'solver': 'saga'}. Best is trial 0 with value: 0.6738840772818121.\n",
      "[I 2024-06-08 00:28:02,108] Trial 167 finished with value: 0.6738840772818121 and parameters: {'l1_ratio': 0.6993404421513147, 'penalty': 'elasticnet', 'C': 1.9572941155706889, 'max_iter': 501, 'solver': 'saga'}. Best is trial 0 with value: 0.6738840772818121.\n",
      "[I 2024-06-08 00:28:02,125] Trial 168 finished with value: 0.6738840772818121 and parameters: {'l1_ratio': 0.35765548924698587, 'penalty': 'elasticnet', 'C': 72.89712316242216, 'max_iter': 392, 'solver': 'saga'}. Best is trial 0 with value: 0.6738840772818121.\n",
      "[I 2024-06-08 00:28:02,141] Trial 169 finished with value: 0.6738840772818121 and parameters: {'l1_ratio': 0.2525647588221581, 'penalty': 'elasticnet', 'C': 5.739943435587947, 'max_iter': 901, 'solver': 'saga'}. Best is trial 0 with value: 0.6738840772818121.\n",
      "[I 2024-06-08 00:28:02,158] Trial 170 finished with value: 0.6738840772818121 and parameters: {'l1_ratio': 0.42959084730957575, 'penalty': 'elasticnet', 'C': 0.29037785517554454, 'max_iter': 234, 'solver': 'saga'}. Best is trial 0 with value: 0.6738840772818121.\n",
      "[I 2024-06-08 00:28:02,175] Trial 171 finished with value: 0.6738840772818121 and parameters: {'l1_ratio': 0.4057965759814599, 'penalty': 'elasticnet', 'C': 2.40968751100728, 'max_iter': 695, 'solver': 'saga'}. Best is trial 0 with value: 0.6738840772818121.\n",
      "[I 2024-06-08 00:28:02,192] Trial 172 finished with value: 0.6738840772818121 and parameters: {'l1_ratio': 0.25786882263821753, 'penalty': 'elasticnet', 'C': 0.015190183464543648, 'max_iter': 354, 'solver': 'saga'}. Best is trial 0 with value: 0.6738840772818121.\n",
      "[I 2024-06-08 00:28:02,208] Trial 173 finished with value: 0.6738840772818121 and parameters: {'l1_ratio': 0.4262648360638064, 'penalty': 'elasticnet', 'C': 0.010099680155608283, 'max_iter': 138, 'solver': 'saga'}. Best is trial 0 with value: 0.6738840772818121.\n",
      "[I 2024-06-08 00:28:02,224] Trial 174 finished with value: 0.6735509660226515 and parameters: {'l1_ratio': 0.8705368937926137, 'penalty': 'elasticnet', 'C': 0.010789347902880676, 'max_iter': 128, 'solver': 'saga'}. Best is trial 0 with value: 0.6738840772818121.\n",
      "[I 2024-06-08 00:28:02,240] Trial 175 finished with value: 0.6738840772818121 and parameters: {'l1_ratio': 0.49765345484315615, 'penalty': 'elasticnet', 'C': 0.07866169156699519, 'max_iter': 438, 'solver': 'saga'}. Best is trial 0 with value: 0.6738840772818121.\n",
      "[I 2024-06-08 00:28:02,258] Trial 176 finished with value: 0.6738840772818121 and parameters: {'l1_ratio': 0.3577997907742848, 'penalty': 'elasticnet', 'C': 57.20442461131358, 'max_iter': 726, 'solver': 'saga'}. Best is trial 0 with value: 0.6738840772818121.\n",
      "[I 2024-06-08 00:28:02,275] Trial 177 finished with value: 0.6738840772818121 and parameters: {'l1_ratio': 0.7885721416406517, 'penalty': 'elasticnet', 'C': 1.0108419324099946, 'max_iter': 132, 'solver': 'saga'}. Best is trial 0 with value: 0.6738840772818121.\n",
      "[I 2024-06-08 00:28:02,292] Trial 178 finished with value: 0.6738840772818121 and parameters: {'l1_ratio': 0.49078881889177617, 'penalty': 'elasticnet', 'C': 0.019417605447692464, 'max_iter': 683, 'solver': 'saga'}. Best is trial 0 with value: 0.6738840772818121.\n",
      "[I 2024-06-08 00:28:02,309] Trial 179 finished with value: 0.6738840772818121 and parameters: {'l1_ratio': 0.18951097529406513, 'penalty': 'elasticnet', 'C': 1.1293977346682467, 'max_iter': 422, 'solver': 'saga'}. Best is trial 0 with value: 0.6738840772818121.\n",
      "[I 2024-06-08 00:28:02,326] Trial 180 finished with value: 0.6738840772818121 and parameters: {'l1_ratio': 0.35560449737706856, 'penalty': 'elasticnet', 'C': 95.33403206065601, 'max_iter': 945, 'solver': 'saga'}. Best is trial 0 with value: 0.6738840772818121.\n",
      "[I 2024-06-08 00:28:02,343] Trial 181 finished with value: 0.6738840772818121 and parameters: {'l1_ratio': 0.3803928316342987, 'penalty': 'elasticnet', 'C': 1.1196636306660384, 'max_iter': 211, 'solver': 'saga'}. Best is trial 0 with value: 0.6738840772818121.\n",
      "[I 2024-06-08 00:28:02,361] Trial 182 finished with value: 0.6738840772818121 and parameters: {'l1_ratio': 0.31786624938645336, 'penalty': 'elasticnet', 'C': 51.64813072181702, 'max_iter': 108, 'solver': 'saga'}. Best is trial 0 with value: 0.6738840772818121.\n",
      "[I 2024-06-08 00:28:02,378] Trial 183 finished with value: 0.6738840772818121 and parameters: {'l1_ratio': 0.5766847434366573, 'penalty': 'elasticnet', 'C': 0.05357647332882928, 'max_iter': 295, 'solver': 'saga'}. Best is trial 0 with value: 0.6738840772818121.\n",
      "[I 2024-06-08 00:28:02,395] Trial 184 finished with value: 0.6738840772818121 and parameters: {'l1_ratio': 0.5204200584793329, 'penalty': 'elasticnet', 'C': 0.08242284433629943, 'max_iter': 819, 'solver': 'saga'}. Best is trial 0 with value: 0.6738840772818121.\n",
      "[I 2024-06-08 00:28:02,414] Trial 185 finished with value: 0.6738840772818121 and parameters: {'l1_ratio': 0.4815508030411725, 'penalty': 'elasticnet', 'C': 6.685175195778614, 'max_iter': 434, 'solver': 'saga'}. Best is trial 0 with value: 0.6738840772818121.\n",
      "[I 2024-06-08 00:28:02,432] Trial 186 finished with value: 0.6738840772818121 and parameters: {'l1_ratio': 0.40680733945979797, 'penalty': 'elasticnet', 'C': 1.4491003734180792, 'max_iter': 857, 'solver': 'saga'}. Best is trial 0 with value: 0.6738840772818121.\n",
      "[I 2024-06-08 00:28:02,453] Trial 187 finished with value: 0.6738840772818121 and parameters: {'l1_ratio': 0.4593597234190956, 'penalty': 'elasticnet', 'C': 60.02793144173173, 'max_iter': 480, 'solver': 'saga'}. Best is trial 0 with value: 0.6738840772818121.\n",
      "[I 2024-06-08 00:28:02,469] Trial 188 finished with value: 0.6738840772818121 and parameters: {'l1_ratio': 0.2619967887730157, 'penalty': 'elasticnet', 'C': 10.712390266612925, 'max_iter': 334, 'solver': 'saga'}. Best is trial 0 with value: 0.6738840772818121.\n",
      "[I 2024-06-08 00:28:02,488] Trial 189 finished with value: 0.6738840772818121 and parameters: {'l1_ratio': 0.9164386119520391, 'penalty': 'elasticnet', 'C': 0.5172608085543032, 'max_iter': 581, 'solver': 'saga'}. Best is trial 0 with value: 0.6738840772818121.\n",
      "[I 2024-06-08 00:28:02,505] Trial 190 finished with value: 0.6738840772818121 and parameters: {'l1_ratio': 0.18462380207402607, 'penalty': 'elasticnet', 'C': 0.34307614886134724, 'max_iter': 898, 'solver': 'saga'}. Best is trial 0 with value: 0.6738840772818121.\n",
      "[I 2024-06-08 00:28:02,529] Trial 191 finished with value: 0.6738840772818121 and parameters: {'l1_ratio': 0.21285193174839834, 'penalty': 'elasticnet', 'C': 0.010609616348701658, 'max_iter': 688, 'solver': 'saga'}. Best is trial 0 with value: 0.6738840772818121.\n",
      "[I 2024-06-08 00:28:02,552] Trial 192 finished with value: 0.6738840772818121 and parameters: {'l1_ratio': 0.8599840377691925, 'penalty': 'elasticnet', 'C': 0.023359562418764107, 'max_iter': 966, 'solver': 'saga'}. Best is trial 0 with value: 0.6738840772818121.\n",
      "[I 2024-06-08 00:28:02,577] Trial 193 finished with value: 0.6738840772818121 and parameters: {'l1_ratio': 0.1051869255930834, 'penalty': 'elasticnet', 'C': 0.043134613543198454, 'max_iter': 871, 'solver': 'saga'}. Best is trial 0 with value: 0.6738840772818121.\n",
      "[I 2024-06-08 00:28:02,602] Trial 194 finished with value: 0.6738840772818121 and parameters: {'l1_ratio': 0.2348524492830083, 'penalty': 'elasticnet', 'C': 9.466708423687347, 'max_iter': 552, 'solver': 'saga'}. Best is trial 0 with value: 0.6738840772818121.\n",
      "[I 2024-06-08 00:28:02,625] Trial 195 finished with value: 0.6738840772818121 and parameters: {'l1_ratio': 0.9269168613193993, 'penalty': 'elasticnet', 'C': 1.4175730331995302, 'max_iter': 258, 'solver': 'saga'}. Best is trial 0 with value: 0.6738840772818121.\n",
      "[I 2024-06-08 00:28:02,647] Trial 196 finished with value: 0.6738840772818121 and parameters: {'l1_ratio': 0.5540623103318519, 'penalty': 'elasticnet', 'C': 89.6060471028593, 'max_iter': 530, 'solver': 'saga'}. Best is trial 0 with value: 0.6738840772818121.\n",
      "[I 2024-06-08 00:28:02,673] Trial 197 finished with value: 0.6738840772818121 and parameters: {'l1_ratio': 0.16534047338212798, 'penalty': 'elasticnet', 'C': 75.41411366359625, 'max_iter': 736, 'solver': 'saga'}. Best is trial 0 with value: 0.6738840772818121.\n",
      "[I 2024-06-08 00:28:02,699] Trial 198 finished with value: 0.6738840772818121 and parameters: {'l1_ratio': 0.5583803439006675, 'penalty': 'elasticnet', 'C': 1.790861232076548, 'max_iter': 458, 'solver': 'saga'}. Best is trial 0 with value: 0.6738840772818121.\n",
      "[I 2024-06-08 00:28:02,728] Trial 199 finished with value: 0.6738840772818121 and parameters: {'l1_ratio': 0.12335021229434073, 'penalty': 'elasticnet', 'C': 0.01617980297530127, 'max_iter': 276, 'solver': 'saga'}. Best is trial 0 with value: 0.6738840772818121.\n"
     ]
    },
    {
     "name": "stdout",
     "output_type": "stream",
     "text": [
      "Best Hyperparameters: {'l1_ratio': 0.5172978838465893, 'penalty': 'elasticnet', 'C': 61.35506425409843, 'max_iter': 789, 'solver': 'saga'}\n",
      "Best Accuracy: 0.6738840772818121\n"
     ]
    }
   ],
   "source": [
    "# Create a study object and optimize the objective function\n",
    "study = optuna.create_study(direction='maximize', sampler=optuna.samplers.RandomSampler(seed=seed))\n",
    "study.optimize(objective, n_trials=200)\n",
    "\n",
    "# Get the best hyperparameters and accuracy score\n",
    "best_params = study.best_params\n",
    "best_accuracy = study.best_value\n",
    "\n",
    "print(\"Best Hyperparameters:\", best_params)\n",
    "print(\"Best Accuracy:\", best_accuracy)"
   ]
  },
  {
   "cell_type": "code",
   "execution_count": 35,
   "metadata": {},
   "outputs": [
    {
     "data": {
      "text/html": [
       "<div>\n",
       "<style scoped>\n",
       "    .dataframe tbody tr th:only-of-type {\n",
       "        vertical-align: middle;\n",
       "    }\n",
       "\n",
       "    .dataframe tbody tr th {\n",
       "        vertical-align: top;\n",
       "    }\n",
       "\n",
       "    .dataframe thead th {\n",
       "        text-align: right;\n",
       "    }\n",
       "</style>\n",
       "<table border=\"1\" class=\"dataframe\">\n",
       "  <thead>\n",
       "    <tr style=\"text-align: right;\">\n",
       "      <th></th>\n",
       "      <th>number</th>\n",
       "      <th>value</th>\n",
       "      <th>datetime_start</th>\n",
       "      <th>datetime_complete</th>\n",
       "      <th>duration</th>\n",
       "      <th>params_C</th>\n",
       "      <th>params_l1_ratio</th>\n",
       "      <th>params_max_iter</th>\n",
       "      <th>params_penalty</th>\n",
       "      <th>params_solver</th>\n",
       "      <th>state</th>\n",
       "    </tr>\n",
       "  </thead>\n",
       "  <tbody>\n",
       "    <tr>\n",
       "      <th>0</th>\n",
       "      <td>0</td>\n",
       "      <td>0.673884</td>\n",
       "      <td>2024-06-08 00:27:58.880176</td>\n",
       "      <td>2024-06-08 00:27:58.908152</td>\n",
       "      <td>0 days 00:00:00.027976</td>\n",
       "      <td>61.355064</td>\n",
       "      <td>0.517298</td>\n",
       "      <td>789</td>\n",
       "      <td>elasticnet</td>\n",
       "      <td>saga</td>\n",
       "      <td>COMPLETE</td>\n",
       "    </tr>\n",
       "    <tr>\n",
       "      <th>125</th>\n",
       "      <td>125</td>\n",
       "      <td>0.673884</td>\n",
       "      <td>2024-06-08 00:28:01.369149</td>\n",
       "      <td>2024-06-08 00:28:01.387143</td>\n",
       "      <td>0 days 00:00:00.017994</td>\n",
       "      <td>0.713634</td>\n",
       "      <td>0.169274</td>\n",
       "      <td>111</td>\n",
       "      <td>elasticnet</td>\n",
       "      <td>saga</td>\n",
       "      <td>COMPLETE</td>\n",
       "    </tr>\n",
       "    <tr>\n",
       "      <th>127</th>\n",
       "      <td>127</td>\n",
       "      <td>0.673884</td>\n",
       "      <td>2024-06-08 00:28:01.413141</td>\n",
       "      <td>2024-06-08 00:28:01.430140</td>\n",
       "      <td>0 days 00:00:00.016999</td>\n",
       "      <td>0.112256</td>\n",
       "      <td>0.535513</td>\n",
       "      <td>567</td>\n",
       "      <td>elasticnet</td>\n",
       "      <td>saga</td>\n",
       "      <td>COMPLETE</td>\n",
       "    </tr>\n",
       "    <tr>\n",
       "      <th>128</th>\n",
       "      <td>128</td>\n",
       "      <td>0.673884</td>\n",
       "      <td>2024-06-08 00:28:01.431140</td>\n",
       "      <td>2024-06-08 00:28:01.452139</td>\n",
       "      <td>0 days 00:00:00.020999</td>\n",
       "      <td>0.147543</td>\n",
       "      <td>0.477792</td>\n",
       "      <td>465</td>\n",
       "      <td>elasticnet</td>\n",
       "      <td>saga</td>\n",
       "      <td>COMPLETE</td>\n",
       "    </tr>\n",
       "    <tr>\n",
       "      <th>129</th>\n",
       "      <td>129</td>\n",
       "      <td>0.673884</td>\n",
       "      <td>2024-06-08 00:28:01.453145</td>\n",
       "      <td>2024-06-08 00:28:01.470142</td>\n",
       "      <td>0 days 00:00:00.016997</td>\n",
       "      <td>0.561933</td>\n",
       "      <td>0.474294</td>\n",
       "      <td>114</td>\n",
       "      <td>elasticnet</td>\n",
       "      <td>saga</td>\n",
       "      <td>COMPLETE</td>\n",
       "    </tr>\n",
       "    <tr>\n",
       "      <th>130</th>\n",
       "      <td>130</td>\n",
       "      <td>0.673884</td>\n",
       "      <td>2024-06-08 00:28:01.472150</td>\n",
       "      <td>2024-06-08 00:28:01.489144</td>\n",
       "      <td>0 days 00:00:00.016994</td>\n",
       "      <td>10.892546</td>\n",
       "      <td>0.705562</td>\n",
       "      <td>345</td>\n",
       "      <td>elasticnet</td>\n",
       "      <td>saga</td>\n",
       "      <td>COMPLETE</td>\n",
       "    </tr>\n",
       "    <tr>\n",
       "      <th>131</th>\n",
       "      <td>131</td>\n",
       "      <td>0.673884</td>\n",
       "      <td>2024-06-08 00:28:01.490142</td>\n",
       "      <td>2024-06-08 00:28:01.506142</td>\n",
       "      <td>0 days 00:00:00.016000</td>\n",
       "      <td>7.905359</td>\n",
       "      <td>0.465636</td>\n",
       "      <td>174</td>\n",
       "      <td>elasticnet</td>\n",
       "      <td>saga</td>\n",
       "      <td>COMPLETE</td>\n",
       "    </tr>\n",
       "    <tr>\n",
       "      <th>132</th>\n",
       "      <td>132</td>\n",
       "      <td>0.673884</td>\n",
       "      <td>2024-06-08 00:28:01.507141</td>\n",
       "      <td>2024-06-08 00:28:01.523140</td>\n",
       "      <td>0 days 00:00:00.015999</td>\n",
       "      <td>7.631269</td>\n",
       "      <td>0.849127</td>\n",
       "      <td>992</td>\n",
       "      <td>elasticnet</td>\n",
       "      <td>saga</td>\n",
       "      <td>COMPLETE</td>\n",
       "    </tr>\n",
       "    <tr>\n",
       "      <th>133</th>\n",
       "      <td>133</td>\n",
       "      <td>0.673884</td>\n",
       "      <td>2024-06-08 00:28:01.524140</td>\n",
       "      <td>2024-06-08 00:28:01.540174</td>\n",
       "      <td>0 days 00:00:00.016034</td>\n",
       "      <td>0.102993</td>\n",
       "      <td>0.445845</td>\n",
       "      <td>244</td>\n",
       "      <td>elasticnet</td>\n",
       "      <td>saga</td>\n",
       "      <td>COMPLETE</td>\n",
       "    </tr>\n",
       "    <tr>\n",
       "      <th>134</th>\n",
       "      <td>134</td>\n",
       "      <td>0.673884</td>\n",
       "      <td>2024-06-08 00:28:01.541176</td>\n",
       "      <td>2024-06-08 00:28:01.557178</td>\n",
       "      <td>0 days 00:00:00.016002</td>\n",
       "      <td>5.635844</td>\n",
       "      <td>0.870727</td>\n",
       "      <td>442</td>\n",
       "      <td>elasticnet</td>\n",
       "      <td>saga</td>\n",
       "      <td>COMPLETE</td>\n",
       "    </tr>\n",
       "  </tbody>\n",
       "</table>\n",
       "</div>"
      ],
      "text/plain": [
       "     number     value             datetime_start          datetime_complete  \\\n",
       "0         0  0.673884 2024-06-08 00:27:58.880176 2024-06-08 00:27:58.908152   \n",
       "125     125  0.673884 2024-06-08 00:28:01.369149 2024-06-08 00:28:01.387143   \n",
       "127     127  0.673884 2024-06-08 00:28:01.413141 2024-06-08 00:28:01.430140   \n",
       "128     128  0.673884 2024-06-08 00:28:01.431140 2024-06-08 00:28:01.452139   \n",
       "129     129  0.673884 2024-06-08 00:28:01.453145 2024-06-08 00:28:01.470142   \n",
       "130     130  0.673884 2024-06-08 00:28:01.472150 2024-06-08 00:28:01.489144   \n",
       "131     131  0.673884 2024-06-08 00:28:01.490142 2024-06-08 00:28:01.506142   \n",
       "132     132  0.673884 2024-06-08 00:28:01.507141 2024-06-08 00:28:01.523140   \n",
       "133     133  0.673884 2024-06-08 00:28:01.524140 2024-06-08 00:28:01.540174   \n",
       "134     134  0.673884 2024-06-08 00:28:01.541176 2024-06-08 00:28:01.557178   \n",
       "\n",
       "                  duration   params_C  params_l1_ratio  params_max_iter  \\\n",
       "0   0 days 00:00:00.027976  61.355064         0.517298              789   \n",
       "125 0 days 00:00:00.017994   0.713634         0.169274              111   \n",
       "127 0 days 00:00:00.016999   0.112256         0.535513              567   \n",
       "128 0 days 00:00:00.020999   0.147543         0.477792              465   \n",
       "129 0 days 00:00:00.016997   0.561933         0.474294              114   \n",
       "130 0 days 00:00:00.016994  10.892546         0.705562              345   \n",
       "131 0 days 00:00:00.016000   7.905359         0.465636              174   \n",
       "132 0 days 00:00:00.015999   7.631269         0.849127              992   \n",
       "133 0 days 00:00:00.016034   0.102993         0.445845              244   \n",
       "134 0 days 00:00:00.016002   5.635844         0.870727              442   \n",
       "\n",
       "    params_penalty params_solver     state  \n",
       "0       elasticnet          saga  COMPLETE  \n",
       "125     elasticnet          saga  COMPLETE  \n",
       "127     elasticnet          saga  COMPLETE  \n",
       "128     elasticnet          saga  COMPLETE  \n",
       "129     elasticnet          saga  COMPLETE  \n",
       "130     elasticnet          saga  COMPLETE  \n",
       "131     elasticnet          saga  COMPLETE  \n",
       "132     elasticnet          saga  COMPLETE  \n",
       "133     elasticnet          saga  COMPLETE  \n",
       "134     elasticnet          saga  COMPLETE  "
      ]
     },
     "execution_count": 35,
     "metadata": {},
     "output_type": "execute_result"
    }
   ],
   "source": [
    "# Get best trials\n",
    "trials_OTP2 = study.trials_dataframe()\n",
    "# Sort the dataframe by value (accuracy) in descending order\n",
    "top_trials_OTP2 = trials_OTP2.sort_values(by='value', ascending=False).head(10)\n",
    "top_trials_OTP2"
   ]
  },
  {
   "cell_type": "code",
   "execution_count": 36,
   "metadata": {},
   "outputs": [
    {
     "name": "stdout",
     "output_type": "stream",
     "text": [
      "Metrics for LR_OPT2_best:\n",
      "Accuracy: 0.6739\n",
      "Weighted F1: 0.6740\n",
      "Weighted Precision: 0.6742\n",
      "Weighted Recall: 0.6739\n",
      "Macro-Averaged Precision: 0.6736\n",
      "Macro-Averaged Recall: 0.6738\n",
      "F1: [0.68224602 0.66507013]\n",
      "Precision: [0.68918033 0.65809072]\n",
      "classification report\n",
      "              precision    recall  f1-score   support\n",
      "\n",
      "     Class 0       0.69      0.68      0.68      1556\n",
      "     Class 1       0.66      0.67      0.67      1446\n",
      "\n",
      "    accuracy                           0.67      3002\n",
      "   macro avg       0.67      0.67      0.67      3002\n",
      "weighted avg       0.67      0.67      0.67      3002\n",
      "\n",
      "Confusion Matrix\n"
     ]
    },
    {
     "data": {
      "image/png": "[encoded data removed]",
      "text/plain": [
       "<Figure size 432x288 with 2 Axes>"
      ]
     },
     "metadata": {
      "needs_background": "light"
     },
     "output_type": "display_data"
    }
   ],
   "source": [
    "best_trial = study.best_trial\n",
    "best_model = LogisticRegression(**best_trial.params, random_state=seed)\n",
    "best_model.fit(X_train, y_train)\n",
    "\n",
    "predictions_opt2 = best_model.predict(X_test)\n",
    "\n",
    "model_metrics = pd.concat([model_metrics, calculate_metrics('LR_OPT2_best', y_test, predictions_opt2)])"
   ]
  },
  {
   "cell_type": "code",
   "execution_count": 37,
   "metadata": {},
   "outputs": [
    {
     "data": {
      "application/vnd.plotly.v1+json": {
       "config": {
        "plotlyServerURL": "https://plot.ly"
       },
       "data": [
        {
         "cliponaxis": false,
         "hovertemplate": [
          "penalty (CategoricalDistribution): 0.0<extra></extra>",
          "solver (CategoricalDistribution): 0.0<extra></extra>",
          "max_iter (IntDistribution): 0.002117164800153365<extra></extra>",
          "l1_ratio (FloatDistribution): 0.047448370666056894<extra></extra>",
          "C (FloatDistribution): 0.9504344645337898<extra></extra>"
         ],
         "name": "Objective Value",
         "orientation": "h",
         "text": [
          "<0.01",
          "<0.01",
          "<0.01",
          "0.05",
          "0.95"
         ],
         "textposition": "outside",
         "type": "bar",
         "x": [
          0,
          0,
          0.002117164800153365,
          0.047448370666056894,
          0.9504344645337898
         ],
         "y": [
          "penalty",
          "solver",
          "max_iter",
          "l1_ratio",
          "C"
         ]
        }
       ],
       "layout": {
        "template": {
         "data": {
          "bar": [
           {
            "error_x": {
             "color": "#2a3f5f"
            },
            "error_y": {
             "color": "#2a3f5f"
            },
            "marker": {
             "line": {
              "color": "#E5ECF6",
              "width": 0.5
             },
             "pattern": {
              "fillmode": "overlay",
              "size": 10,
              "solidity": 0.2
             }
            },
            "type": "bar"
           }
          ],
          "barpolar": [
           {
            "marker": {
             "line": {
              "color": "#E5ECF6",
              "width": 0.5
             },
             "pattern": {
              "fillmode": "overlay",
              "size": 10,
              "solidity": 0.2
             }
            },
            "type": "barpolar"
           }
          ],
          "carpet": [
           {
            "aaxis": {
             "endlinecolor": "#2a3f5f",
             "gridcolor": "white",
             "linecolor": "white",
             "minorgridcolor": "white",
             "startlinecolor": "#2a3f5f"
            },
            "baxis": {
             "endlinecolor": "#2a3f5f",
             "gridcolor": "white",
             "linecolor": "white",
             "minorgridcolor": "white",
             "startlinecolor": "#2a3f5f"
            },
            "type": "carpet"
           }
          ],
          "choropleth": [
           {
            "colorbar": {
             "outlinewidth": 0,
             "ticks": ""
            },
            "type": "choropleth"
           }
          ],
          "contour": [
           {
            "colorbar": {
             "outlinewidth": 0,
             "ticks": ""
            },
            "colorscale": [
             [
              0,
              "#0d0887"
             ],
             [
              0.1111111111111111,
              "#46039f"
             ],
             [
              0.2222222222222222,
              "#7201a8"
             ],
             [
              0.3333333333333333,
              "#9c179e"
             ],
             [
              0.4444444444444444,
              "#bd3786"
             ],
             [
              0.5555555555555556,
              "#d8576b"
             ],
             [
              0.6666666666666666,
              "#ed7953"
             ],
             [
              0.7777777777777778,
              "#fb9f3a"
             ],
             [
              0.8888888888888888,
              "#fdca26"
             ],
             [
              1,
              "#f0f921"
             ]
            ],
            "type": "contour"
           }
          ],
          "contourcarpet": [
           {
            "colorbar": {
             "outlinewidth": 0,
             "ticks": ""
            },
            "type": "contourcarpet"
           }
          ],
          "heatmap": [
           {
            "colorbar": {
             "outlinewidth": 0,
             "ticks": ""
            },
            "colorscale": [
             [
              0,
              "#0d0887"
             ],
             [
              0.1111111111111111,
              "#46039f"
             ],
             [
              0.2222222222222222,
              "#7201a8"
             ],
             [
              0.3333333333333333,
              "#9c179e"
             ],
             [
              0.4444444444444444,
              "#bd3786"
             ],
             [
              0.5555555555555556,
              "#d8576b"
             ],
             [
              0.6666666666666666,
              "#ed7953"
             ],
             [
              0.7777777777777778,
              "#fb9f3a"
             ],
             [
              0.8888888888888888,
              "#fdca26"
             ],
             [
              1,
              "#f0f921"
             ]
            ],
            "type": "heatmap"
           }
          ],
          "heatmapgl": [
           {
            "colorbar": {
             "outlinewidth": 0,
             "ticks": ""
            },
            "colorscale": [
             [
              0,
              "#0d0887"
             ],
             [
              0.1111111111111111,
              "#46039f"
             ],
             [
              0.2222222222222222,
              "#7201a8"
             ],
             [
              0.3333333333333333,
              "#9c179e"
             ],
             [
              0.4444444444444444,
              "#bd3786"
             ],
             [
              0.5555555555555556,
              "#d8576b"
             ],
             [
              0.6666666666666666,
              "#ed7953"
             ],
             [
              0.7777777777777778,
              "#fb9f3a"
             ],
             [
              0.8888888888888888,
              "#fdca26"
             ],
             [
              1,
              "#f0f921"
             ]
            ],
            "type": "heatmapgl"
           }
          ],
          "histogram": [
           {
            "marker": {
             "pattern": {
              "fillmode": "overlay",
              "size": 10,
              "solidity": 0.2
             }
            },
            "type": "histogram"
           }
          ],
          "histogram2d": [
           {
            "colorbar": {
             "outlinewidth": 0,
             "ticks": ""
            },
            "colorscale": [
             [
              0,
              "#0d0887"
             ],
             [
              0.1111111111111111,
              "#46039f"
             ],
             [
              0.2222222222222222,
              "#7201a8"
             ],
             [
              0.3333333333333333,
              "#9c179e"
             ],
             [
              0.4444444444444444,
              "#bd3786"
             ],
             [
              0.5555555555555556,
              "#d8576b"
             ],
             [
              0.6666666666666666,
              "#ed7953"
             ],
             [
              0.7777777777777778,
              "#fb9f3a"
             ],
             [
              0.8888888888888888,
              "#fdca26"
             ],
             [
              1,
              "#f0f921"
             ]
            ],
            "type": "histogram2d"
           }
          ],
          "histogram2dcontour": [
           {
            "colorbar": {
             "outlinewidth": 0,
             "ticks": ""
            },
            "colorscale": [
             [
              0,
              "#0d0887"
             ],
             [
              0.1111111111111111,
              "#46039f"
             ],
             [
              0.2222222222222222,
              "#7201a8"
             ],
             [
              0.3333333333333333,
              "#9c179e"
             ],
             [
              0.4444444444444444,
              "#bd3786"
             ],
             [
              0.5555555555555556,
              "#d8576b"
             ],
             [
              0.6666666666666666,
              "#ed7953"
             ],
             [
              0.7777777777777778,
              "#fb9f3a"
             ],
             [
              0.8888888888888888,
              "#fdca26"
             ],
             [
              1,
              "#f0f921"
             ]
            ],
            "type": "histogram2dcontour"
           }
          ],
          "mesh3d": [
           {
            "colorbar": {
             "outlinewidth": 0,
             "ticks": ""
            },
            "type": "mesh3d"
           }
          ],
          "parcoords": [
           {
            "line": {
             "colorbar": {
              "outlinewidth": 0,
              "ticks": ""
             }
            },
            "type": "parcoords"
           }
          ],
          "pie": [
           {
            "automargin": true,
            "type": "pie"
           }
          ],
          "scatter": [
           {
            "fillpattern": {
             "fillmode": "overlay",
             "size": 10,
             "solidity": 0.2
            },
            "type": "scatter"
           }
          ],
          "scatter3d": [
           {
            "line": {
             "colorbar": {
              "outlinewidth": 0,
              "ticks": ""
             }
            },
            "marker": {
             "colorbar": {
              "outlinewidth": 0,
              "ticks": ""
             }
            },
            "type": "scatter3d"
           }
          ],
          "scattercarpet": [
           {
            "marker": {
             "colorbar": {
              "outlinewidth": 0,
              "ticks": ""
             }
            },
            "type": "scattercarpet"
           }
          ],
          "scattergeo": [
           {
            "marker": {
             "colorbar": {
              "outlinewidth": 0,
              "ticks": ""
             }
            },
            "type": "scattergeo"
           }
          ],
          "scattergl": [
           {
            "marker": {
             "colorbar": {
              "outlinewidth": 0,
              "ticks": ""
             }
            },
            "type": "scattergl"
           }
          ],
          "scattermapbox": [
           {
            "marker": {
             "colorbar": {
              "outlinewidth": 0,
              "ticks": ""
             }
            },
            "type": "scattermapbox"
           }
          ],
          "scatterpolar": [
           {
            "marker": {
             "colorbar": {
              "outlinewidth": 0,
              "ticks": ""
             }
            },
            "type": "scatterpolar"
           }
          ],
          "scatterpolargl": [
           {
            "marker": {
             "colorbar": {
              "outlinewidth": 0,
              "ticks": ""
             }
            },
            "type": "scatterpolargl"
           }
          ],
          "scatterternary": [
           {
            "marker": {
             "colorbar": {
              "outlinewidth": 0,
              "ticks": ""
             }
            },
            "type": "scatterternary"
           }
          ],
          "surface": [
           {
            "colorbar": {
             "outlinewidth": 0,
             "ticks": ""
            },
            "colorscale": [
             [
              0,
              "#0d0887"
             ],
             [
              0.1111111111111111,
              "#46039f"
             ],
             [
              0.2222222222222222,
              "#7201a8"
             ],
             [
              0.3333333333333333,
              "#9c179e"
             ],
             [
              0.4444444444444444,
              "#bd3786"
             ],
             [
              0.5555555555555556,
              "#d8576b"
             ],
             [
              0.6666666666666666,
              "#ed7953"
             ],
             [
              0.7777777777777778,
              "#fb9f3a"
             ],
             [
              0.8888888888888888,
              "#fdca26"
             ],
             [
              1,
              "#f0f921"
             ]
            ],
            "type": "surface"
           }
          ],
          "table": [
           {
            "cells": {
             "fill": {
              "color": "#EBF0F8"
             },
             "line": {
              "color": "white"
             }
            },
            "header": {
             "fill": {
              "color": "#C8D4E3"
             },
             "line": {
              "color": "white"
             }
            },
            "type": "table"
           }
          ]
         },
         "layout": {
          "annotationdefaults": {
           "arrowcolor": "#2a3f5f",
           "arrowhead": 0,
           "arrowwidth": 1
          },
          "autotypenumbers": "strict",
          "coloraxis": {
           "colorbar": {
            "outlinewidth": 0,
            "ticks": ""
           }
          },
          "colorscale": {
           "diverging": [
            [
             0,
             "#8e0152"
            ],
            [
             0.1,
             "#c51b7d"
            ],
            [
             0.2,
             "#de77ae"
            ],
            [
             0.3,
             "#f1b6da"
            ],
            [
             0.4,
             "#fde0ef"
            ],
            [
             0.5,
             "#f7f7f7"
            ],
            [
             0.6,
             "#e6f5d0"
            ],
            [
             0.7,
             "#b8e186"
            ],
            [
             0.8,
             "#7fbc41"
            ],
            [
             0.9,
             "#4d9221"
            ],
            [
             1,
             "#276419"
            ]
           ],
           "sequential": [
            [
             0,
             "#0d0887"
            ],
            [
             0.1111111111111111,
             "#46039f"
            ],
            [
             0.2222222222222222,
             "#7201a8"
            ],
            [
             0.3333333333333333,
             "#9c179e"
            ],
            [
             0.4444444444444444,
             "#bd3786"
            ],
            [
             0.5555555555555556,
             "#d8576b"
            ],
            [
             0.6666666666666666,
             "#ed7953"
            ],
            [
             0.7777777777777778,
             "#fb9f3a"
            ],
            [
             0.8888888888888888,
             "#fdca26"
            ],
            [
             1,
             "#f0f921"
            ]
           ],
           "sequentialminus": [
            [
             0,
             "#0d0887"
            ],
            [
             0.1111111111111111,
             "#46039f"
            ],
            [
             0.2222222222222222,
             "#7201a8"
            ],
            [
             0.3333333333333333,
             "#9c179e"
            ],
            [
             0.4444444444444444,
             "#bd3786"
            ],
            [
             0.5555555555555556,
             "#d8576b"
            ],
            [
             0.6666666666666666,
             "#ed7953"
            ],
            [
             0.7777777777777778,
             "#fb9f3a"
            ],
            [
             0.8888888888888888,
             "#fdca26"
            ],
            [
             1,
             "#f0f921"
            ]
           ]
          },
          "colorway": [
           "#636efa",
           "#EF553B",
           "#00cc96",
           "#ab63fa",
           "#FFA15A",
           "#19d3f3",
           "#FF6692",
           "#B6E880",
           "#FF97FF",
           "#FECB52"
          ],
          "font": {
           "color": "#2a3f5f"
          },
          "geo": {
           "bgcolor": "white",
           "lakecolor": "white",
           "landcolor": "#E5ECF6",
           "showlakes": true,
           "showland": true,
           "subunitcolor": "white"
          },
          "hoverlabel": {
           "align": "left"
          },
          "hovermode": "closest",
          "mapbox": {
           "style": "light"
          },
          "paper_bgcolor": "white",
          "plot_bgcolor": "#E5ECF6",
          "polar": {
           "angularaxis": {
            "gridcolor": "white",
            "linecolor": "white",
            "ticks": ""
           },
           "bgcolor": "#E5ECF6",
           "radialaxis": {
            "gridcolor": "white",
            "linecolor": "white",
            "ticks": ""
           }
          },
          "scene": {
           "xaxis": {
            "backgroundcolor": "#E5ECF6",
            "gridcolor": "white",
            "gridwidth": 2,
            "linecolor": "white",
            "showbackground": true,
            "ticks": "",
            "zerolinecolor": "white"
           },
           "yaxis": {
            "backgroundcolor": "#E5ECF6",
            "gridcolor": "white",
            "gridwidth": 2,
            "linecolor": "white",
            "showbackground": true,
            "ticks": "",
            "zerolinecolor": "white"
           },
           "zaxis": {
            "backgroundcolor": "#E5ECF6",
            "gridcolor": "white",
            "gridwidth": 2,
            "linecolor": "white",
            "showbackground": true,
            "ticks": "",
            "zerolinecolor": "white"
           }
          },
          "shapedefaults": {
           "line": {
            "color": "#2a3f5f"
           }
          },
          "ternary": {
           "aaxis": {
            "gridcolor": "white",
            "linecolor": "white",
            "ticks": ""
           },
           "baxis": {
            "gridcolor": "white",
            "linecolor": "white",
            "ticks": ""
           },
           "bgcolor": "#E5ECF6",
           "caxis": {
            "gridcolor": "white",
            "linecolor": "white",
            "ticks": ""
           }
          },
          "title": {
           "x": 0.05
          },
          "xaxis": {
           "automargin": true,
           "gridcolor": "white",
           "linecolor": "white",
           "ticks": "",
           "title": {
            "standoff": 15
           },
           "zerolinecolor": "white",
           "zerolinewidth": 2
          },
          "yaxis": {
           "automargin": true,
           "gridcolor": "white",
           "linecolor": "white",
           "ticks": "",
           "title": {
            "standoff": 15
           },
           "zerolinecolor": "white",
           "zerolinewidth": 2
          }
         }
        },
        "title": {
         "text": "Hyperparameter Importances"
        },
        "xaxis": {
         "title": {
          "text": "Hyperparameter Importance"
         }
        },
        "yaxis": {
         "title": {
          "text": "Hyperparameter"
         }
        }
       }
      }
     },
     "metadata": {},
     "output_type": "display_data"
    }
   ],
   "source": [
    "optuna.visualization.plot_param_importances(study)"
   ]
  },
  {
   "cell_type": "markdown",
   "metadata": {},
   "source": [
    "Make 'C' interval uniform (as it remains the most important hyperparameter)"
   ]
  },
  {
   "cell_type": "code",
   "execution_count": 38,
   "metadata": {},
   "outputs": [],
   "source": [
    "def objective(trial):\n",
    "    # Define the hyperparameters to optimize\n",
    "    l1_ratio = trial.suggest_uniform('l1_ratio', 0, 1)\n",
    "    penalty = trial.suggest_categorical('penalty', ['elasticnet'])\n",
    "    C = trial.suggest_uniform('C', 0.01, 100.0)\n",
    "    max_iter = trial.suggest_int('max_iter', 100, 1000)\n",
    "    solver= trial.suggest_categorical('solver', ['saga'])\n",
    "    \n",
    "    # Create the logistic regression model with the hyperparameters\n",
    "    model = LogisticRegression(penalty=penalty, C=C, max_iter=max_iter,\n",
    "     solver=solver, l1_ratio=l1_ratio, random_state=seed)\n",
    "    \n",
    "    # Train the model\n",
    "    model.fit(X_train, y_train)\n",
    "    \n",
    "    # Make predictions on the test set\n",
    "    y_pred = model.predict(X_test)\n",
    "    \n",
    "    # Calculate the accuracy score\n",
    "    accuracy = accuracy_score(y_test, y_pred)\n",
    "    #score_cross_val = cross_val_score(model, X_train, y_train, cv=5, scoring='precision')\n",
    "\n",
    "    \n",
    "    return accuracy"
   ]
  },
  {
   "cell_type": "code",
   "execution_count": 39,
   "metadata": {},
   "outputs": [
    {
     "name": "stderr",
     "output_type": "stream",
     "text": [
      "[I 2024-06-08 00:28:03,600] A new study created in memory with name: no-name-b762b037-a418-465c-999c-f4e3084b551d\n",
      "[I 2024-06-08 00:28:03,626] Trial 0 finished with value: 0.6738840772818121 and parameters: {'l1_ratio': 0.5172978838465893, 'penalty': 'elasticnet', 'C': 94.69679075544326, 'max_iter': 789, 'solver': 'saga'}. Best is trial 0 with value: 0.6738840772818121.\n",
      "[I 2024-06-08 00:28:03,643] Trial 1 finished with value: 0.6738840772818121 and parameters: {'l1_ratio': 0.2823958439671127, 'penalty': 'elasticnet', 'C': 22.112325872532644, 'max_iter': 718, 'solver': 'saga'}. Best is trial 0 with value: 0.6738840772818121.\n",
      "[I 2024-06-08 00:28:03,660] Trial 2 finished with value: 0.6738840772818121 and parameters: {'l1_ratio': 0.16713920310005626, 'penalty': 'elasticnet', 'C': 39.25032222183841, 'max_iter': 656, 'solver': 'saga'}. Best is trial 0 with value: 0.6738840772818121.\n",
      "[I 2024-06-08 00:28:03,679] Trial 3 finished with value: 0.6738840772818121 and parameters: {'l1_ratio': 0.411930094858746, 'penalty': 'elasticnet', 'C': 0.25646347127660823, 'max_iter': 896, 'solver': 'saga'}. Best is trial 0 with value: 0.6738840772818121.\n",
      "[I 2024-06-08 00:28:03,702] Trial 4 finished with value: 0.6738840772818121 and parameters: {'l1_ratio': 0.8849475383764736, 'penalty': 'elasticnet', 'C': 30.047964839754428, 'max_iter': 631, 'solver': 'saga'}. Best is trial 0 with value: 0.6738840772818121.\n",
      "[I 2024-06-08 00:28:03,722] Trial 5 finished with value: 0.6738840772818121 and parameters: {'l1_ratio': 0.9784269160148309, 'penalty': 'elasticnet', 'C': 84.51093127440986, 'max_iter': 158, 'solver': 'saga'}. Best is trial 0 with value: 0.6738840772818121.\n",
      "[I 2024-06-08 00:28:03,739] Trial 6 finished with value: 0.6738840772818121 and parameters: {'l1_ratio': 0.2947444647173656, 'penalty': 'elasticnet', 'C': 28.80056475231497, 'max_iter': 841, 'solver': 'saga'}. Best is trial 0 with value: 0.6738840772818121.\n",
      "[I 2024-06-08 00:28:03,757] Trial 7 finished with value: 0.6738840772818121 and parameters: {'l1_ratio': 0.6261830379602461, 'penalty': 'elasticnet', 'C': 11.05666661422824, 'max_iter': 100, 'solver': 'saga'}. Best is trial 0 with value: 0.6738840772818121.\n",
      "[I 2024-06-08 00:28:03,774] Trial 8 finished with value: 0.6738840772818121 and parameters: {'l1_ratio': 0.9421662328554996, 'penalty': 'elasticnet', 'C': 14.158660764941725, 'max_iter': 479, 'solver': 'saga'}. Best is trial 0 with value: 0.6738840772818121.\n",
      "[I 2024-06-08 00:28:03,791] Trial 9 finished with value: 0.6738840772818121 and parameters: {'l1_ratio': 0.3464894401485442, 'penalty': 'elasticnet', 'C': 86.97981058887417, 'max_iter': 486, 'solver': 'saga'}. Best is trial 0 with value: 0.6738840772818121.\n",
      "[I 2024-06-08 00:28:03,809] Trial 10 finished with value: 0.6738840772818121 and parameters: {'l1_ratio': 0.8287514843227557, 'penalty': 'elasticnet', 'C': 71.78800530422157, 'max_iter': 207, 'solver': 'saga'}. Best is trial 0 with value: 0.6738840772818121.\n",
      "[I 2024-06-08 00:28:03,826] Trial 11 finished with value: 0.6738840772818121 and parameters: {'l1_ratio': 0.5963841727096089, 'penalty': 'elasticnet', 'C': 12.984332207540941, 'max_iter': 169, 'solver': 'saga'}. Best is trial 0 with value: 0.6738840772818121.\n",
      "[I 2024-06-08 00:28:03,844] Trial 12 finished with value: 0.6738840772818121 and parameters: {'l1_ratio': 0.831205255690418, 'penalty': 'elasticnet', 'C': 46.44391762187244, 'max_iter': 245, 'solver': 'saga'}. Best is trial 0 with value: 0.6738840772818121.\n",
      "[I 2024-06-08 00:28:03,861] Trial 13 finished with value: 0.6738840772818121 and parameters: {'l1_ratio': 0.5479752920930067, 'penalty': 'elasticnet', 'C': 58.85269732601583, 'max_iter': 797, 'solver': 'saga'}. Best is trial 0 with value: 0.6738840772818121.\n",
      "[I 2024-06-08 00:28:03,880] Trial 14 finished with value: 0.6738840772818121 and parameters: {'l1_ratio': 0.6558454580069033, 'penalty': 'elasticnet', 'C': 55.775098880247505, 'max_iter': 260, 'solver': 'saga'}. Best is trial 0 with value: 0.6738840772818121.\n",
      "[I 2024-06-08 00:28:03,904] Trial 15 finished with value: 0.6738840772818121 and parameters: {'l1_ratio': 0.24058353121801312, 'penalty': 'elasticnet', 'C': 50.61040269056223, 'max_iter': 457, 'solver': 'saga'}. Best is trial 0 with value: 0.6738840772818121.\n",
      "[I 2024-06-08 00:28:03,922] Trial 16 finished with value: 0.6738840772818121 and parameters: {'l1_ratio': 0.48305518544294146, 'penalty': 'elasticnet', 'C': 95.5744267104077, 'max_iter': 912, 'solver': 'saga'}. Best is trial 0 with value: 0.6738840772818121.\n",
      "[I 2024-06-08 00:28:03,940] Trial 17 finished with value: 0.6738840772818121 and parameters: {'l1_ratio': 0.5057593219775152, 'penalty': 'elasticnet', 'C': 82.07194150143985, 'max_iter': 845, 'solver': 'saga'}. Best is trial 0 with value: 0.6738840772818121.\n",
      "[I 2024-06-08 00:28:03,957] Trial 18 finished with value: 0.6738840772818121 and parameters: {'l1_ratio': 0.23183334760205443, 'penalty': 'elasticnet', 'C': 7.914758085628993, 'max_iter': 519, 'solver': 'saga'}. Best is trial 0 with value: 0.6738840772818121.\n",
      "[I 2024-06-08 00:28:03,973] Trial 19 finished with value: 0.6738840772818121 and parameters: {'l1_ratio': 0.8789758084042731, 'penalty': 'elasticnet', 'C': 14.758830839998286, 'max_iter': 308, 'solver': 'saga'}. Best is trial 0 with value: 0.6738840772818121.\n",
      "[I 2024-06-08 00:28:03,990] Trial 20 finished with value: 0.6738840772818121 and parameters: {'l1_ratio': 0.9179458057039298, 'penalty': 'elasticnet', 'C': 12.915062125341006, 'max_iter': 925, 'solver': 'saga'}. Best is trial 0 with value: 0.6738840772818121.\n",
      "[I 2024-06-08 00:28:04,007] Trial 21 finished with value: 0.6738840772818121 and parameters: {'l1_ratio': 0.23479755091129706, 'penalty': 'elasticnet', 'C': 61.602516996263844, 'max_iter': 957, 'solver': 'saga'}. Best is trial 0 with value: 0.6738840772818121.\n",
      "[I 2024-06-08 00:28:04,024] Trial 22 finished with value: 0.6738840772818121 and parameters: {'l1_ratio': 0.25513081972233587, 'penalty': 'elasticnet', 'C': 45.031012283015585, 'max_iter': 976, 'solver': 'saga'}. Best is trial 0 with value: 0.6738840772818121.\n",
      "[I 2024-06-08 00:28:04,041] Trial 23 finished with value: 0.6738840772818121 and parameters: {'l1_ratio': 0.23937099816163865, 'penalty': 'elasticnet', 'C': 19.876143456435944, 'max_iter': 719, 'solver': 'saga'}. Best is trial 0 with value: 0.6738840772818121.\n",
      "[I 2024-06-08 00:28:04,058] Trial 24 finished with value: 0.6738840772818121 and parameters: {'l1_ratio': 0.8450091946690719, 'penalty': 'elasticnet', 'C': 45.337085019862336, 'max_iter': 191, 'solver': 'saga'}. Best is trial 0 with value: 0.6738840772818121.\n",
      "[I 2024-06-08 00:28:04,075] Trial 25 finished with value: 0.6738840772818121 and parameters: {'l1_ratio': 0.622847970552664, 'penalty': 'elasticnet', 'C': 8.356758926609873, 'max_iter': 147, 'solver': 'saga'}. Best is trial 0 with value: 0.6738840772818121.\n",
      "[I 2024-06-08 00:28:04,092] Trial 26 finished with value: 0.6738840772818121 and parameters: {'l1_ratio': 0.3454784779791955, 'penalty': 'elasticnet', 'C': 90.54846776952209, 'max_iter': 819, 'solver': 'saga'}. Best is trial 0 with value: 0.6738840772818121.\n",
      "[I 2024-06-08 00:28:04,110] Trial 27 finished with value: 0.6738840772818121 and parameters: {'l1_ratio': 0.3842269427484306, 'penalty': 'elasticnet', 'C': 9.28167318660989, 'max_iter': 214, 'solver': 'saga'}. Best is trial 0 with value: 0.6738840772818121.\n",
      "[I 2024-06-08 00:28:04,128] Trial 28 finished with value: 0.6738840772818121 and parameters: {'l1_ratio': 0.5343972812309752, 'penalty': 'elasticnet', 'C': 50.7353466655461, 'max_iter': 553, 'solver': 'saga'}. Best is trial 0 with value: 0.6738840772818121.\n",
      "[I 2024-06-08 00:28:04,145] Trial 29 finished with value: 0.6738840772818121 and parameters: {'l1_ratio': 0.12660677568465384, 'penalty': 'elasticnet', 'C': 79.13114619972418, 'max_iter': 637, 'solver': 'saga'}. Best is trial 0 with value: 0.6738840772818121.\n",
      "[I 2024-06-08 00:28:04,166] Trial 30 finished with value: 0.6738840772818121 and parameters: {'l1_ratio': 0.75776937269917, 'penalty': 'elasticnet', 'C': 45.941815547894294, 'max_iter': 167, 'solver': 'saga'}. Best is trial 0 with value: 0.6738840772818121.\n",
      "[I 2024-06-08 00:28:04,186] Trial 31 finished with value: 0.6738840772818121 and parameters: {'l1_ratio': 0.6024878434664988, 'penalty': 'elasticnet', 'C': 43.56556095994181, 'max_iter': 105, 'solver': 'saga'}. Best is trial 0 with value: 0.6738840772818121.\n",
      "[I 2024-06-08 00:28:04,205] Trial 32 finished with value: 0.6738840772818121 and parameters: {'l1_ratio': 0.04662987836169319, 'penalty': 'elasticnet', 'C': 41.88005257659126, 'max_iter': 891, 'solver': 'saga'}. Best is trial 0 with value: 0.6738840772818121.\n",
      "[I 2024-06-08 00:28:04,223] Trial 33 finished with value: 0.6738840772818121 and parameters: {'l1_ratio': 0.43301769330849826, 'penalty': 'elasticnet', 'C': 64.34958641486882, 'max_iter': 612, 'solver': 'saga'}. Best is trial 0 with value: 0.6738840772818121.\n",
      "[I 2024-06-08 00:28:04,240] Trial 34 finished with value: 0.6738840772818121 and parameters: {'l1_ratio': 0.24018190154641206, 'penalty': 'elasticnet', 'C': 29.577723242551617, 'max_iter': 104, 'solver': 'saga'}. Best is trial 0 with value: 0.6738840772818121.\n",
      "[I 2024-06-08 00:28:04,256] Trial 35 finished with value: 0.6738840772818121 and parameters: {'l1_ratio': 0.1288935485768078, 'penalty': 'elasticnet', 'C': 52.92021041766975, 'max_iter': 683, 'solver': 'saga'}. Best is trial 0 with value: 0.6738840772818121.\n",
      "[I 2024-06-08 00:28:04,273] Trial 36 finished with value: 0.6738840772818121 and parameters: {'l1_ratio': 0.14536195449419298, 'penalty': 'elasticnet', 'C': 69.1420121534799, 'max_iter': 645, 'solver': 'saga'}. Best is trial 0 with value: 0.6738840772818121.\n",
      "[I 2024-06-08 00:28:04,290] Trial 37 finished with value: 0.6738840772818121 and parameters: {'l1_ratio': 0.963544780062434, 'penalty': 'elasticnet', 'C': 84.2870265593638, 'max_iter': 567, 'solver': 'saga'}. Best is trial 0 with value: 0.6738840772818121.\n",
      "[I 2024-06-08 00:28:04,307] Trial 38 finished with value: 0.6738840772818121 and parameters: {'l1_ratio': 0.6034752072158278, 'penalty': 'elasticnet', 'C': 8.558721313456362, 'max_iter': 960, 'solver': 'saga'}. Best is trial 0 with value: 0.6738840772818121.\n",
      "[I 2024-06-08 00:28:04,323] Trial 39 finished with value: 0.6738840772818121 and parameters: {'l1_ratio': 0.8951009548900523, 'penalty': 'elasticnet', 'C': 55.83913413464438, 'max_iter': 354, 'solver': 'saga'}. Best is trial 0 with value: 0.6738840772818121.\n",
      "[I 2024-06-08 00:28:04,340] Trial 40 finished with value: 0.6738840772818121 and parameters: {'l1_ratio': 0.6393898787142637, 'penalty': 'elasticnet', 'C': 41.70864042530114, 'max_iter': 665, 'solver': 'saga'}. Best is trial 0 with value: 0.6738840772818121.\n",
      "[I 2024-06-08 00:28:04,358] Trial 41 finished with value: 0.6738840772818121 and parameters: {'l1_ratio': 0.3964306441212516, 'penalty': 'elasticnet', 'C': 30.188298259896797, 'max_iter': 458, 'solver': 'saga'}. Best is trial 0 with value: 0.6738840772818121.\n",
      "[I 2024-06-08 00:28:04,374] Trial 42 finished with value: 0.6738840772818121 and parameters: {'l1_ratio': 0.8497845284188781, 'penalty': 'elasticnet', 'C': 83.87548295848951, 'max_iter': 357, 'solver': 'saga'}. Best is trial 0 with value: 0.6738840772818121.\n",
      "[I 2024-06-08 00:28:04,391] Trial 43 finished with value: 0.6738840772818121 and parameters: {'l1_ratio': 0.33885827739248164, 'penalty': 'elasticnet', 'C': 48.39435821312557, 'max_iter': 446, 'solver': 'saga'}. Best is trial 0 with value: 0.6738840772818121.\n",
      "[I 2024-06-08 00:28:04,408] Trial 44 finished with value: 0.6738840772818121 and parameters: {'l1_ratio': 0.32878734994014014, 'penalty': 'elasticnet', 'C': 52.90502811945416, 'max_iter': 187, 'solver': 'saga'}. Best is trial 0 with value: 0.6738840772818121.\n",
      "[I 2024-06-08 00:28:04,425] Trial 45 finished with value: 0.6738840772818121 and parameters: {'l1_ratio': 0.023379930587594244, 'penalty': 'elasticnet', 'C': 19.011964752146625, 'max_iter': 967, 'solver': 'saga'}. Best is trial 0 with value: 0.6738840772818121.\n",
      "[I 2024-06-08 00:28:04,442] Trial 46 finished with value: 0.6738840772818121 and parameters: {'l1_ratio': 0.7609561458372598, 'penalty': 'elasticnet', 'C': 52.14383068269241, 'max_iter': 210, 'solver': 'saga'}. Best is trial 0 with value: 0.6738840772818121.\n",
      "[I 2024-06-08 00:28:04,458] Trial 47 finished with value: 0.6738840772818121 and parameters: {'l1_ratio': 0.9985866810937334, 'penalty': 'elasticnet', 'C': 88.82733256260042, 'max_iter': 964, 'solver': 'saga'}. Best is trial 0 with value: 0.6738840772818121.\n",
      "[I 2024-06-08 00:28:04,475] Trial 48 finished with value: 0.6738840772818121 and parameters: {'l1_ratio': 0.564785449158253, 'penalty': 'elasticnet', 'C': 29.830308081720553, 'max_iter': 266, 'solver': 'saga'}. Best is trial 0 with value: 0.6738840772818121.\n",
      "[I 2024-06-08 00:28:04,491] Trial 49 finished with value: 0.6738840772818121 and parameters: {'l1_ratio': 0.7808527854686921, 'penalty': 'elasticnet', 'C': 15.529922492940079, 'max_iter': 641, 'solver': 'saga'}. Best is trial 0 with value: 0.6738840772818121.\n",
      "[I 2024-06-08 00:28:04,508] Trial 50 finished with value: 0.6738840772818121 and parameters: {'l1_ratio': 0.7380400243015056, 'penalty': 'elasticnet', 'C': 56.635746756744, 'max_iter': 815, 'solver': 'saga'}. Best is trial 0 with value: 0.6738840772818121.\n",
      "[I 2024-06-08 00:28:04,524] Trial 51 finished with value: 0.6738840772818121 and parameters: {'l1_ratio': 0.9272600171485721, 'penalty': 'elasticnet', 'C': 8.095413411801053, 'max_iter': 204, 'solver': 'saga'}. Best is trial 0 with value: 0.6738840772818121.\n",
      "[I 2024-06-08 00:28:04,541] Trial 52 finished with value: 0.6738840772818121 and parameters: {'l1_ratio': 0.11380123623093197, 'penalty': 'elasticnet', 'C': 28.800415781635273, 'max_iter': 596, 'solver': 'saga'}. Best is trial 0 with value: 0.6738840772818121.\n",
      "[I 2024-06-08 00:28:04,557] Trial 53 finished with value: 0.6738840772818121 and parameters: {'l1_ratio': 0.44464358527828296, 'penalty': 'elasticnet', 'C': 44.955203302961046, 'max_iter': 720, 'solver': 'saga'}. Best is trial 0 with value: 0.6738840772818121.\n",
      "[I 2024-06-08 00:28:04,574] Trial 54 finished with value: 0.6738840772818121 and parameters: {'l1_ratio': 0.14884802489269566, 'penalty': 'elasticnet', 'C': 11.974055718702534, 'max_iter': 226, 'solver': 'saga'}. Best is trial 0 with value: 0.6738840772818121.\n",
      "[I 2024-06-08 00:28:04,591] Trial 55 finished with value: 0.6738840772818121 and parameters: {'l1_ratio': 0.8446174837084529, 'penalty': 'elasticnet', 'C': 37.15966237522528, 'max_iter': 650, 'solver': 'saga'}. Best is trial 0 with value: 0.6738840772818121.\n",
      "[I 2024-06-08 00:28:04,607] Trial 56 finished with value: 0.6738840772818121 and parameters: {'l1_ratio': 0.9107078274365592, 'penalty': 'elasticnet', 'C': 18.313101701079, 'max_iter': 145, 'solver': 'saga'}. Best is trial 0 with value: 0.6738840772818121.\n",
      "[I 2024-06-08 00:28:04,625] Trial 57 finished with value: 0.6738840772818121 and parameters: {'l1_ratio': 0.2635543863600527, 'penalty': 'elasticnet', 'C': 38.03693321201164, 'max_iter': 582, 'solver': 'saga'}. Best is trial 0 with value: 0.6738840772818121.\n",
      "[I 2024-06-08 00:28:04,642] Trial 58 finished with value: 0.6738840772818121 and parameters: {'l1_ratio': 0.20593267412957195, 'penalty': 'elasticnet', 'C': 75.7739175707066, 'max_iter': 656, 'solver': 'saga'}. Best is trial 0 with value: 0.6738840772818121.\n",
      "[I 2024-06-08 00:28:04,659] Trial 59 finished with value: 0.6738840772818121 and parameters: {'l1_ratio': 0.7789120822371315, 'penalty': 'elasticnet', 'C': 19.43382375361383, 'max_iter': 321, 'solver': 'saga'}. Best is trial 0 with value: 0.6738840772818121.\n",
      "[I 2024-06-08 00:28:04,676] Trial 60 finished with value: 0.6738840772818121 and parameters: {'l1_ratio': 0.6405635118484496, 'penalty': 'elasticnet', 'C': 40.01673492409534, 'max_iter': 967, 'solver': 'saga'}. Best is trial 0 with value: 0.6738840772818121.\n",
      "[I 2024-06-08 00:28:04,694] Trial 61 finished with value: 0.6738840772818121 and parameters: {'l1_ratio': 0.7636679934989524, 'penalty': 'elasticnet', 'C': 17.08742383217836, 'max_iter': 207, 'solver': 'saga'}. Best is trial 0 with value: 0.6738840772818121.\n",
      "[I 2024-06-08 00:28:04,711] Trial 62 finished with value: 0.6738840772818121 and parameters: {'l1_ratio': 0.33026965314873746, 'penalty': 'elasticnet', 'C': 79.86420816894491, 'max_iter': 645, 'solver': 'saga'}. Best is trial 0 with value: 0.6738840772818121.\n",
      "[I 2024-06-08 00:28:04,729] Trial 63 finished with value: 0.6738840772818121 and parameters: {'l1_ratio': 0.21749415361126012, 'penalty': 'elasticnet', 'C': 2.887111949659405, 'max_iter': 562, 'solver': 'saga'}. Best is trial 0 with value: 0.6738840772818121.\n",
      "[I 2024-06-08 00:28:04,751] Trial 64 finished with value: 0.6738840772818121 and parameters: {'l1_ratio': 0.9395388576438164, 'penalty': 'elasticnet', 'C': 57.659104090589224, 'max_iter': 958, 'solver': 'saga'}. Best is trial 0 with value: 0.6738840772818121.\n",
      "[I 2024-06-08 00:28:04,770] Trial 65 finished with value: 0.6738840772818121 and parameters: {'l1_ratio': 0.480686727057959, 'penalty': 'elasticnet', 'C': 99.07918167992972, 'max_iter': 544, 'solver': 'saga'}. Best is trial 0 with value: 0.6738840772818121.\n",
      "[I 2024-06-08 00:28:04,788] Trial 66 finished with value: 0.6738840772818121 and parameters: {'l1_ratio': 0.8278672160318609, 'penalty': 'elasticnet', 'C': 27.635481901855933, 'max_iter': 161, 'solver': 'saga'}. Best is trial 0 with value: 0.6738840772818121.\n",
      "[I 2024-06-08 00:28:04,806] Trial 67 finished with value: 0.6738840772818121 and parameters: {'l1_ratio': 0.721360101028917, 'penalty': 'elasticnet', 'C': 12.16964721041472, 'max_iter': 829, 'solver': 'saga'}. Best is trial 0 with value: 0.6738840772818121.\n",
      "[I 2024-06-08 00:28:04,822] Trial 68 finished with value: 0.6738840772818121 and parameters: {'l1_ratio': 0.9347922225636194, 'penalty': 'elasticnet', 'C': 34.25309320347991, 'max_iter': 381, 'solver': 'saga'}. Best is trial 0 with value: 0.6738840772818121.\n",
      "[I 2024-06-08 00:28:04,840] Trial 69 finished with value: 0.6738840772818121 and parameters: {'l1_ratio': 0.6002971063674759, 'penalty': 'elasticnet', 'C': 69.45719030064826, 'max_iter': 140, 'solver': 'saga'}. Best is trial 0 with value: 0.6738840772818121.\n",
      "[I 2024-06-08 00:28:04,856] Trial 70 finished with value: 0.6738840772818121 and parameters: {'l1_ratio': 0.6267356759602706, 'penalty': 'elasticnet', 'C': 17.557917118344715, 'max_iter': 172, 'solver': 'saga'}. Best is trial 0 with value: 0.6738840772818121.\n",
      "[I 2024-06-08 00:28:04,873] Trial 71 finished with value: 0.6738840772818121 and parameters: {'l1_ratio': 0.31370103075151023, 'penalty': 'elasticnet', 'C': 41.41822563895284, 'max_iter': 455, 'solver': 'saga'}. Best is trial 0 with value: 0.6738840772818121.\n",
      "[I 2024-06-08 00:28:04,890] Trial 72 finished with value: 0.6738840772818121 and parameters: {'l1_ratio': 0.7230405288992248, 'penalty': 'elasticnet', 'C': 51.16735771732983, 'max_iter': 409, 'solver': 'saga'}. Best is trial 0 with value: 0.6738840772818121.\n",
      "[I 2024-06-08 00:28:04,906] Trial 73 finished with value: 0.6738840772818121 and parameters: {'l1_ratio': 0.4689082800259925, 'penalty': 'elasticnet', 'C': 54.678409375936916, 'max_iter': 852, 'solver': 'saga'}. Best is trial 0 with value: 0.6738840772818121.\n",
      "[I 2024-06-08 00:28:04,923] Trial 74 finished with value: 0.6738840772818121 and parameters: {'l1_ratio': 0.34809190046205274, 'penalty': 'elasticnet', 'C': 78.32077448654299, 'max_iter': 686, 'solver': 'saga'}. Best is trial 0 with value: 0.6738840772818121.\n",
      "[I 2024-06-08 00:28:04,939] Trial 75 finished with value: 0.6738840772818121 and parameters: {'l1_ratio': 0.8730257595537249, 'penalty': 'elasticnet', 'C': 41.07098978464442, 'max_iter': 265, 'solver': 'saga'}. Best is trial 0 with value: 0.6738840772818121.\n",
      "[I 2024-06-08 00:28:04,956] Trial 76 finished with value: 0.6738840772818121 and parameters: {'l1_ratio': 0.09317831284174316, 'penalty': 'elasticnet', 'C': 55.74034131442148, 'max_iter': 980, 'solver': 'saga'}. Best is trial 0 with value: 0.6738840772818121.\n",
      "[I 2024-06-08 00:28:04,973] Trial 77 finished with value: 0.6738840772818121 and parameters: {'l1_ratio': 0.29572214736158386, 'penalty': 'elasticnet', 'C': 39.32197771595846, 'max_iter': 837, 'solver': 'saga'}. Best is trial 0 with value: 0.6738840772818121.\n",
      "[I 2024-06-08 00:28:04,989] Trial 78 finished with value: 0.6738840772818121 and parameters: {'l1_ratio': 0.3940115991448834, 'penalty': 'elasticnet', 'C': 89.08360367472872, 'max_iter': 127, 'solver': 'saga'}. Best is trial 0 with value: 0.6738840772818121.\n",
      "[I 2024-06-08 00:28:05,039] Trial 79 finished with value: 0.6738840772818121 and parameters: {'l1_ratio': 0.8998117453605183, 'penalty': 'elasticnet', 'C': 29.11765064459565, 'max_iter': 983, 'solver': 'saga'}. Best is trial 0 with value: 0.6738840772818121.\n",
      "[I 2024-06-08 00:28:05,077] Trial 80 finished with value: 0.6738840772818121 and parameters: {'l1_ratio': 0.7726044200868316, 'penalty': 'elasticnet', 'C': 81.2462251266082, 'max_iter': 527, 'solver': 'saga'}. Best is trial 0 with value: 0.6738840772818121.\n",
      "[I 2024-06-08 00:28:05,113] Trial 81 finished with value: 0.6738840772818121 and parameters: {'l1_ratio': 0.3024871162472813, 'penalty': 'elasticnet', 'C': 32.419113483880295, 'max_iter': 898, 'solver': 'saga'}. Best is trial 0 with value: 0.6738840772818121.\n",
      "[I 2024-06-08 00:28:05,154] Trial 82 finished with value: 0.6738840772818121 and parameters: {'l1_ratio': 0.42954226359209646, 'penalty': 'elasticnet', 'C': 0.31783301145958553, 'max_iter': 657, 'solver': 'saga'}. Best is trial 0 with value: 0.6738840772818121.\n",
      "[I 2024-06-08 00:28:05,174] Trial 83 finished with value: 0.6738840772818121 and parameters: {'l1_ratio': 0.6384146144413262, 'penalty': 'elasticnet', 'C': 60.217360261034166, 'max_iter': 176, 'solver': 'saga'}. Best is trial 0 with value: 0.6738840772818121.\n",
      "[I 2024-06-08 00:28:05,191] Trial 84 finished with value: 0.6738840772818121 and parameters: {'l1_ratio': 0.18878963262831439, 'penalty': 'elasticnet', 'C': 77.31083533514995, 'max_iter': 631, 'solver': 'saga'}. Best is trial 0 with value: 0.6738840772818121.\n",
      "[I 2024-06-08 00:28:05,208] Trial 85 finished with value: 0.6738840772818121 and parameters: {'l1_ratio': 0.6860361909445178, 'penalty': 'elasticnet', 'C': 7.318380498074019, 'max_iter': 605, 'solver': 'saga'}. Best is trial 0 with value: 0.6738840772818121.\n",
      "[I 2024-06-08 00:28:05,225] Trial 86 finished with value: 0.6738840772818121 and parameters: {'l1_ratio': 0.2586295146537938, 'penalty': 'elasticnet', 'C': 22.12614647625897, 'max_iter': 203, 'solver': 'saga'}. Best is trial 0 with value: 0.6738840772818121.\n",
      "[I 2024-06-08 00:28:05,242] Trial 87 finished with value: 0.6738840772818121 and parameters: {'l1_ratio': 0.09905593656208833, 'penalty': 'elasticnet', 'C': 24.394357559698474, 'max_iter': 772, 'solver': 'saga'}. Best is trial 0 with value: 0.6738840772818121.\n",
      "[I 2024-06-08 00:28:05,260] Trial 88 finished with value: 0.6738840772818121 and parameters: {'l1_ratio': 0.5943825327304895, 'penalty': 'elasticnet', 'C': 53.68161170116727, 'max_iter': 438, 'solver': 'saga'}. Best is trial 0 with value: 0.6738840772818121.\n",
      "[I 2024-06-08 00:28:05,277] Trial 89 finished with value: 0.6738840772818121 and parameters: {'l1_ratio': 0.23501047798661767, 'penalty': 'elasticnet', 'C': 59.08556395025339, 'max_iter': 858, 'solver': 'saga'}. Best is trial 0 with value: 0.6738840772818121.\n",
      "[I 2024-06-08 00:28:05,297] Trial 90 finished with value: 0.6738840772818121 and parameters: {'l1_ratio': 0.47729389039881, 'penalty': 'elasticnet', 'C': 8.383376542362193, 'max_iter': 940, 'solver': 'saga'}. Best is trial 0 with value: 0.6738840772818121.\n",
      "[I 2024-06-08 00:28:05,318] Trial 91 finished with value: 0.6738840772818121 and parameters: {'l1_ratio': 0.4860786085123222, 'penalty': 'elasticnet', 'C': 12.544821213531119, 'max_iter': 856, 'solver': 'saga'}. Best is trial 0 with value: 0.6738840772818121.\n",
      "[I 2024-06-08 00:28:05,336] Trial 92 finished with value: 0.6738840772818121 and parameters: {'l1_ratio': 0.38240464605494207, 'penalty': 'elasticnet', 'C': 10.878337812418717, 'max_iter': 960, 'solver': 'saga'}. Best is trial 0 with value: 0.6738840772818121.\n",
      "[I 2024-06-08 00:28:05,354] Trial 93 finished with value: 0.6738840772818121 and parameters: {'l1_ratio': 0.3436503994506843, 'penalty': 'elasticnet', 'C': 21.403834550117672, 'max_iter': 513, 'solver': 'saga'}. Best is trial 0 with value: 0.6738840772818121.\n",
      "[I 2024-06-08 00:28:05,371] Trial 94 finished with value: 0.6738840772818121 and parameters: {'l1_ratio': 0.02489530628090697, 'penalty': 'elasticnet', 'C': 24.529655414176233, 'max_iter': 688, 'solver': 'saga'}. Best is trial 0 with value: 0.6738840772818121.\n",
      "[I 2024-06-08 00:28:05,389] Trial 95 finished with value: 0.6738840772818121 and parameters: {'l1_ratio': 0.3373767925601705, 'penalty': 'elasticnet', 'C': 2.165747306794232, 'max_iter': 345, 'solver': 'saga'}. Best is trial 0 with value: 0.6738840772818121.\n",
      "[I 2024-06-08 00:28:05,406] Trial 96 finished with value: 0.6738840772818121 and parameters: {'l1_ratio': 0.9614891406278656, 'penalty': 'elasticnet', 'C': 71.25545016581907, 'max_iter': 652, 'solver': 'saga'}. Best is trial 0 with value: 0.6738840772818121.\n",
      "[I 2024-06-08 00:28:05,423] Trial 97 finished with value: 0.6738840772818121 and parameters: {'l1_ratio': 0.0425938640226482, 'penalty': 'elasticnet', 'C': 97.87870122705891, 'max_iter': 593, 'solver': 'saga'}. Best is trial 0 with value: 0.6738840772818121.\n",
      "[I 2024-06-08 00:28:05,439] Trial 98 finished with value: 0.6738840772818121 and parameters: {'l1_ratio': 0.5119850184358926, 'penalty': 'elasticnet', 'C': 81.10327579360515, 'max_iter': 745, 'solver': 'saga'}. Best is trial 0 with value: 0.6738840772818121.\n",
      "[I 2024-06-08 00:28:05,456] Trial 99 finished with value: 0.6738840772818121 and parameters: {'l1_ratio': 0.8308851599474497, 'penalty': 'elasticnet', 'C': 14.704537271210548, 'max_iter': 631, 'solver': 'saga'}. Best is trial 0 with value: 0.6738840772818121.\n",
      "[I 2024-06-08 00:28:05,473] Trial 100 finished with value: 0.6738840772818121 and parameters: {'l1_ratio': 0.8471136501705183, 'penalty': 'elasticnet', 'C': 34.24613848962452, 'max_iter': 230, 'solver': 'saga'}. Best is trial 0 with value: 0.6738840772818121.\n",
      "[I 2024-06-08 00:28:05,490] Trial 101 finished with value: 0.6738840772818121 and parameters: {'l1_ratio': 0.1836483711819311, 'penalty': 'elasticnet', 'C': 16.359070948360472, 'max_iter': 483, 'solver': 'saga'}. Best is trial 0 with value: 0.6738840772818121.\n",
      "[I 2024-06-08 00:28:05,506] Trial 102 finished with value: 0.6738840772818121 and parameters: {'l1_ratio': 0.6055885059878887, 'penalty': 'elasticnet', 'C': 9.421156746962094, 'max_iter': 124, 'solver': 'saga'}. Best is trial 0 with value: 0.6738840772818121.\n",
      "[I 2024-06-08 00:28:05,523] Trial 103 finished with value: 0.6738840772818121 and parameters: {'l1_ratio': 0.08871545457591135, 'penalty': 'elasticnet', 'C': 27.17411176426769, 'max_iter': 408, 'solver': 'saga'}. Best is trial 0 with value: 0.6738840772818121.\n",
      "[I 2024-06-08 00:28:05,540] Trial 104 finished with value: 0.6738840772818121 and parameters: {'l1_ratio': 0.7767253816094082, 'penalty': 'elasticnet', 'C': 74.36530007707485, 'max_iter': 199, 'solver': 'saga'}. Best is trial 0 with value: 0.6738840772818121.\n",
      "[I 2024-06-08 00:28:05,556] Trial 105 finished with value: 0.6738840772818121 and parameters: {'l1_ratio': 0.47806896006875077, 'penalty': 'elasticnet', 'C': 64.79200645755617, 'max_iter': 859, 'solver': 'saga'}. Best is trial 0 with value: 0.6738840772818121.\n",
      "[I 2024-06-08 00:28:05,573] Trial 106 finished with value: 0.6738840772818121 and parameters: {'l1_ratio': 0.388468854806459, 'penalty': 'elasticnet', 'C': 31.52968396858291, 'max_iter': 475, 'solver': 'saga'}. Best is trial 0 with value: 0.6738840772818121.\n",
      "[I 2024-06-08 00:28:05,589] Trial 107 finished with value: 0.6738840772818121 and parameters: {'l1_ratio': 0.44175712345987217, 'penalty': 'elasticnet', 'C': 61.68004444099357, 'max_iter': 997, 'solver': 'saga'}. Best is trial 0 with value: 0.6738840772818121.\n",
      "[I 2024-06-08 00:28:05,606] Trial 108 finished with value: 0.6738840772818121 and parameters: {'l1_ratio': 0.6521830648469973, 'penalty': 'elasticnet', 'C': 63.55479191785618, 'max_iter': 581, 'solver': 'saga'}. Best is trial 0 with value: 0.6738840772818121.\n",
      "[I 2024-06-08 00:28:05,622] Trial 109 finished with value: 0.6738840772818121 and parameters: {'l1_ratio': 0.35557836732536197, 'penalty': 'elasticnet', 'C': 85.49782930473005, 'max_iter': 247, 'solver': 'saga'}. Best is trial 0 with value: 0.6738840772818121.\n",
      "[I 2024-06-08 00:28:05,639] Trial 110 finished with value: 0.6738840772818121 and parameters: {'l1_ratio': 0.7658237880282034, 'penalty': 'elasticnet', 'C': 75.78560753382688, 'max_iter': 144, 'solver': 'saga'}. Best is trial 0 with value: 0.6738840772818121.\n",
      "[I 2024-06-08 00:28:05,655] Trial 111 finished with value: 0.6738840772818121 and parameters: {'l1_ratio': 0.45578849641224983, 'penalty': 'elasticnet', 'C': 71.30249885631548, 'max_iter': 613, 'solver': 'saga'}. Best is trial 0 with value: 0.6738840772818121.\n",
      "[I 2024-06-08 00:28:05,673] Trial 112 finished with value: 0.6738840772818121 and parameters: {'l1_ratio': 0.36095818866319496, 'penalty': 'elasticnet', 'C': 27.267578334572622, 'max_iter': 144, 'solver': 'saga'}. Best is trial 0 with value: 0.6738840772818121.\n",
      "[I 2024-06-08 00:28:05,690] Trial 113 finished with value: 0.6738840772818121 and parameters: {'l1_ratio': 0.08651653838786766, 'penalty': 'elasticnet', 'C': 99.51733206260288, 'max_iter': 668, 'solver': 'saga'}. Best is trial 0 with value: 0.6738840772818121.\n",
      "[I 2024-06-08 00:28:05,707] Trial 114 finished with value: 0.6738840772818121 and parameters: {'l1_ratio': 0.7943292806783894, 'penalty': 'elasticnet', 'C': 1.6547337463103935, 'max_iter': 207, 'solver': 'saga'}. Best is trial 0 with value: 0.6738840772818121.\n",
      "[I 2024-06-08 00:28:05,724] Trial 115 finished with value: 0.6738840772818121 and parameters: {'l1_ratio': 0.39523622294092764, 'penalty': 'elasticnet', 'C': 84.40782928548485, 'max_iter': 368, 'solver': 'saga'}. Best is trial 0 with value: 0.6738840772818121.\n",
      "[I 2024-06-08 00:28:05,740] Trial 116 finished with value: 0.6738840772818121 and parameters: {'l1_ratio': 0.1940476194756442, 'penalty': 'elasticnet', 'C': 87.11647609585441, 'max_iter': 905, 'solver': 'saga'}. Best is trial 0 with value: 0.6738840772818121.\n",
      "[I 2024-06-08 00:28:05,757] Trial 117 finished with value: 0.6738840772818121 and parameters: {'l1_ratio': 0.9790846206910202, 'penalty': 'elasticnet', 'C': 8.372019473857053, 'max_iter': 503, 'solver': 'saga'}. Best is trial 0 with value: 0.6738840772818121.\n",
      "[I 2024-06-08 00:28:05,773] Trial 118 finished with value: 0.6738840772818121 and parameters: {'l1_ratio': 0.2273428595343805, 'penalty': 'elasticnet', 'C': 80.44871204298893, 'max_iter': 414, 'solver': 'saga'}. Best is trial 0 with value: 0.6738840772818121.\n",
      "[I 2024-06-08 00:28:05,791] Trial 119 finished with value: 0.6738840772818121 and parameters: {'l1_ratio': 0.2195151893089342, 'penalty': 'elasticnet', 'C': 80.78793427926625, 'max_iter': 529, 'solver': 'saga'}. Best is trial 0 with value: 0.6738840772818121.\n",
      "[I 2024-06-08 00:28:05,807] Trial 120 finished with value: 0.6738840772818121 and parameters: {'l1_ratio': 0.05167183644896767, 'penalty': 'elasticnet', 'C': 37.902472451882765, 'max_iter': 540, 'solver': 'saga'}. Best is trial 0 with value: 0.6738840772818121.\n",
      "[I 2024-06-08 00:28:05,824] Trial 121 finished with value: 0.6738840772818121 and parameters: {'l1_ratio': 0.6777070409958931, 'penalty': 'elasticnet', 'C': 29.845525751493945, 'max_iter': 113, 'solver': 'saga'}. Best is trial 0 with value: 0.6738840772818121.\n",
      "[I 2024-06-08 00:28:05,840] Trial 122 finished with value: 0.6738840772818121 and parameters: {'l1_ratio': 0.5995989995918588, 'penalty': 'elasticnet', 'C': 81.96029458108791, 'max_iter': 289, 'solver': 'saga'}. Best is trial 0 with value: 0.6738840772818121.\n",
      "[I 2024-06-08 00:28:05,857] Trial 123 finished with value: 0.6738840772818121 and parameters: {'l1_ratio': 0.6337757519736682, 'penalty': 'elasticnet', 'C': 73.17406692912928, 'max_iter': 971, 'solver': 'saga'}. Best is trial 0 with value: 0.6738840772818121.\n",
      "[I 2024-06-08 00:28:05,873] Trial 124 finished with value: 0.6738840772818121 and parameters: {'l1_ratio': 0.08774706063976812, 'penalty': 'elasticnet', 'C': 68.32492134168413, 'max_iter': 612, 'solver': 'saga'}. Best is trial 0 with value: 0.6738840772818121.\n",
      "[I 2024-06-08 00:28:05,890] Trial 125 finished with value: 0.6738840772818121 and parameters: {'l1_ratio': 0.1692741729195425, 'penalty': 'elasticnet', 'C': 46.34225310985671, 'max_iter': 111, 'solver': 'saga'}. Best is trial 0 with value: 0.6738840772818121.\n",
      "[I 2024-06-08 00:28:05,907] Trial 126 finished with value: 0.6738840772818121 and parameters: {'l1_ratio': 0.023169743854271396, 'penalty': 'elasticnet', 'C': 1.9099844675829551, 'max_iter': 462, 'solver': 'saga'}. Best is trial 0 with value: 0.6738840772818121.\n",
      "[I 2024-06-08 00:28:05,924] Trial 127 finished with value: 0.6738840772818121 and parameters: {'l1_ratio': 0.5355132035114978, 'penalty': 'elasticnet', 'C': 26.26262982295894, 'max_iter': 567, 'solver': 'saga'}. Best is trial 0 with value: 0.6738840772818121.\n",
      "[I 2024-06-08 00:28:05,941] Trial 128 finished with value: 0.6738840772818121 and parameters: {'l1_ratio': 0.47779187448209726, 'penalty': 'elasticnet', 'C': 29.230015178646923, 'max_iter': 465, 'solver': 'saga'}. Best is trial 0 with value: 0.6738840772818121.\n",
      "[I 2024-06-08 00:28:05,957] Trial 129 finished with value: 0.6738840772818121 and parameters: {'l1_ratio': 0.47429367431199154, 'penalty': 'elasticnet', 'C': 43.747744680409994, 'max_iter': 114, 'solver': 'saga'}. Best is trial 0 with value: 0.6738840772818121.\n",
      "[I 2024-06-08 00:28:05,974] Trial 130 finished with value: 0.6738840772818121 and parameters: {'l1_ratio': 0.7055617167942578, 'penalty': 'elasticnet', 'C': 75.9306426677022, 'max_iter': 345, 'solver': 'saga'}. Best is trial 0 with value: 0.6738840772818121.\n",
      "[I 2024-06-08 00:28:05,991] Trial 131 finished with value: 0.6738840772818121 and parameters: {'l1_ratio': 0.4656358778024837, 'penalty': 'elasticnet', 'C': 72.45079568898419, 'max_iter': 174, 'solver': 'saga'}. Best is trial 0 with value: 0.6738840772818121.\n",
      "[I 2024-06-08 00:28:06,007] Trial 132 finished with value: 0.6738840772818121 and parameters: {'l1_ratio': 0.8491269748213126, 'penalty': 'elasticnet', 'C': 72.0677126997143, 'max_iter': 992, 'solver': 'saga'}. Best is trial 0 with value: 0.6738840772818121.\n",
      "[I 2024-06-08 00:28:06,024] Trial 133 finished with value: 0.6738840772818121 and parameters: {'l1_ratio': 0.4458445675158459, 'penalty': 'elasticnet', 'C': 25.327685384962855, 'max_iter': 244, 'solver': 'saga'}. Best is trial 0 with value: 0.6738840772818121.\n",
      "[I 2024-06-08 00:28:06,041] Trial 134 finished with value: 0.6738840772818121 and parameters: {'l1_ratio': 0.870727250858279, 'penalty': 'elasticnet', 'C': 68.77709642934451, 'max_iter': 442, 'solver': 'saga'}. Best is trial 0 with value: 0.6738840772818121.\n",
      "[I 2024-06-08 00:28:06,057] Trial 135 finished with value: 0.6738840772818121 and parameters: {'l1_ratio': 0.2282326164835059, 'penalty': 'elasticnet', 'C': 78.1727628307333, 'max_iter': 978, 'solver': 'saga'}. Best is trial 0 with value: 0.6738840772818121.\n",
      "[I 2024-06-08 00:28:06,074] Trial 136 finished with value: 0.6738840772818121 and parameters: {'l1_ratio': 0.8802403479846407, 'penalty': 'elasticnet', 'C': 25.34306361677474, 'max_iter': 665, 'solver': 'saga'}. Best is trial 0 with value: 0.6738840772818121.\n",
      "[I 2024-06-08 00:28:06,090] Trial 137 finished with value: 0.6738840772818121 and parameters: {'l1_ratio': 0.4948518196858104, 'penalty': 'elasticnet', 'C': 7.303381893626658, 'max_iter': 591, 'solver': 'saga'}. Best is trial 0 with value: 0.6738840772818121.\n",
      "[I 2024-06-08 00:28:06,107] Trial 138 finished with value: 0.6738840772818121 and parameters: {'l1_ratio': 0.8716091078716307, 'penalty': 'elasticnet', 'C': 3.0158934816007714, 'max_iter': 180, 'solver': 'saga'}. Best is trial 0 with value: 0.6738840772818121.\n",
      "[I 2024-06-08 00:28:06,124] Trial 139 finished with value: 0.6738840772818121 and parameters: {'l1_ratio': 0.31470430106830216, 'penalty': 'elasticnet', 'C': 0.732726182467647, 'max_iter': 267, 'solver': 'saga'}. Best is trial 0 with value: 0.6738840772818121.\n",
      "[I 2024-06-08 00:28:06,142] Trial 140 finished with value: 0.6738840772818121 and parameters: {'l1_ratio': 0.8743627304570357, 'penalty': 'elasticnet', 'C': 18.73633456624793, 'max_iter': 674, 'solver': 'saga'}. Best is trial 0 with value: 0.6738840772818121.\n",
      "[I 2024-06-08 00:28:06,159] Trial 141 finished with value: 0.6738840772818121 and parameters: {'l1_ratio': 0.6459240523527073, 'penalty': 'elasticnet', 'C': 18.30704433207024, 'max_iter': 680, 'solver': 'saga'}. Best is trial 0 with value: 0.6738840772818121.\n",
      "[I 2024-06-08 00:28:06,176] Trial 142 finished with value: 0.6738840772818121 and parameters: {'l1_ratio': 0.1398182058122156, 'penalty': 'elasticnet', 'C': 67.69123263922812, 'max_iter': 947, 'solver': 'saga'}. Best is trial 0 with value: 0.6738840772818121.\n",
      "[I 2024-06-08 00:28:06,195] Trial 143 finished with value: 0.6738840772818121 and parameters: {'l1_ratio': 0.3159174861030116, 'penalty': 'elasticnet', 'C': 7.833317975457274, 'max_iter': 174, 'solver': 'saga'}. Best is trial 0 with value: 0.6738840772818121.\n",
      "[I 2024-06-08 00:28:06,213] Trial 144 finished with value: 0.6738840772818121 and parameters: {'l1_ratio': 0.6822254665259121, 'penalty': 'elasticnet', 'C': 49.097565515455685, 'max_iter': 119, 'solver': 'saga'}. Best is trial 0 with value: 0.6738840772818121.\n",
      "[I 2024-06-08 00:28:06,234] Trial 145 finished with value: 0.6738840772818121 and parameters: {'l1_ratio': 0.45704577934720947, 'penalty': 'elasticnet', 'C': 88.2787391499605, 'max_iter': 429, 'solver': 'saga'}. Best is trial 0 with value: 0.6738840772818121.\n",
      "[I 2024-06-08 00:28:06,253] Trial 146 finished with value: 0.6738840772818121 and parameters: {'l1_ratio': 0.42914109470841655, 'penalty': 'elasticnet', 'C': 28.154154165164076, 'max_iter': 457, 'solver': 'saga'}. Best is trial 0 with value: 0.6738840772818121.\n",
      "[I 2024-06-08 00:28:06,269] Trial 147 finished with value: 0.6738840772818121 and parameters: {'l1_ratio': 0.1796720491852063, 'penalty': 'elasticnet', 'C': 9.184013701601298, 'max_iter': 940, 'solver': 'saga'}. Best is trial 0 with value: 0.6738840772818121.\n",
      "[I 2024-06-08 00:28:06,288] Trial 148 finished with value: 0.6738840772818121 and parameters: {'l1_ratio': 0.45462919667860735, 'penalty': 'elasticnet', 'C': 30.134909325561942, 'max_iter': 305, 'solver': 'saga'}. Best is trial 0 with value: 0.6738840772818121.\n",
      "[I 2024-06-08 00:28:06,305] Trial 149 finished with value: 0.6738840772818121 and parameters: {'l1_ratio': 0.7287870275360602, 'penalty': 'elasticnet', 'C': 27.00466721547747, 'max_iter': 775, 'solver': 'saga'}. Best is trial 0 with value: 0.6738840772818121.\n",
      "[I 2024-06-08 00:28:06,322] Trial 150 finished with value: 0.6738840772818121 and parameters: {'l1_ratio': 0.19300320074456478, 'penalty': 'elasticnet', 'C': 42.26142965147881, 'max_iter': 825, 'solver': 'saga'}. Best is trial 0 with value: 0.6738840772818121.\n",
      "[I 2024-06-08 00:28:06,339] Trial 151 finished with value: 0.6738840772818121 and parameters: {'l1_ratio': 0.8576942251664084, 'penalty': 'elasticnet', 'C': 93.31122875552228, 'max_iter': 548, 'solver': 'saga'}. Best is trial 0 with value: 0.6738840772818121.\n",
      "[I 2024-06-08 00:28:06,355] Trial 152 finished with value: 0.6738840772818121 and parameters: {'l1_ratio': 0.7156670487542581, 'penalty': 'elasticnet', 'C': 41.977341453395525, 'max_iter': 187, 'solver': 'saga'}. Best is trial 0 with value: 0.6738840772818121.\n",
      "[I 2024-06-08 00:28:06,372] Trial 153 finished with value: 0.6738840772818121 and parameters: {'l1_ratio': 0.512772506734595, 'penalty': 'elasticnet', 'C': 30.830168168750024, 'max_iter': 159, 'solver': 'saga'}. Best is trial 0 with value: 0.6738840772818121.\n",
      "[I 2024-06-08 00:28:06,389] Trial 154 finished with value: 0.6738840772818121 and parameters: {'l1_ratio': 0.34630026241876444, 'penalty': 'elasticnet', 'C': 32.965490135479264, 'max_iter': 613, 'solver': 'saga'}. Best is trial 0 with value: 0.6738840772818121.\n",
      "[I 2024-06-08 00:28:06,406] Trial 155 finished with value: 0.6738840772818121 and parameters: {'l1_ratio': 0.7696179395720334, 'penalty': 'elasticnet', 'C': 60.946573591728956, 'max_iter': 588, 'solver': 'saga'}. Best is trial 0 with value: 0.6738840772818121.\n",
      "[I 2024-06-08 00:28:06,422] Trial 156 finished with value: 0.6738840772818121 and parameters: {'l1_ratio': 0.16458012282314227, 'penalty': 'elasticnet', 'C': 10.71795084867144, 'max_iter': 272, 'solver': 'saga'}. Best is trial 0 with value: 0.6738840772818121.\n",
      "[I 2024-06-08 00:28:06,439] Trial 157 finished with value: 0.6738840772818121 and parameters: {'l1_ratio': 0.7246209148956595, 'penalty': 'elasticnet', 'C': 24.29251699917993, 'max_iter': 793, 'solver': 'saga'}. Best is trial 0 with value: 0.6738840772818121.\n",
      "[I 2024-06-08 00:28:06,455] Trial 158 finished with value: 0.6738840772818121 and parameters: {'l1_ratio': 0.6599634803874062, 'penalty': 'elasticnet', 'C': 79.38011826509634, 'max_iter': 383, 'solver': 'saga'}. Best is trial 0 with value: 0.6738840772818121.\n",
      "[I 2024-06-08 00:28:06,472] Trial 159 finished with value: 0.6738840772818121 and parameters: {'l1_ratio': 0.741395115770732, 'penalty': 'elasticnet', 'C': 53.78463004284287, 'max_iter': 351, 'solver': 'saga'}. Best is trial 0 with value: 0.6738840772818121.\n",
      "[I 2024-06-08 00:28:06,488] Trial 160 finished with value: 0.6738840772818121 and parameters: {'l1_ratio': 0.5249485314348081, 'penalty': 'elasticnet', 'C': 93.67268704311347, 'max_iter': 826, 'solver': 'saga'}. Best is trial 0 with value: 0.6738840772818121.\n",
      "[I 2024-06-08 00:28:06,505] Trial 161 finished with value: 0.6738840772818121 and parameters: {'l1_ratio': 0.048184948782166837, 'penalty': 'elasticnet', 'C': 13.41480223103558, 'max_iter': 112, 'solver': 'saga'}. Best is trial 0 with value: 0.6738840772818121.\n",
      "[I 2024-06-08 00:28:06,521] Trial 162 finished with value: 0.6738840772818121 and parameters: {'l1_ratio': 0.18085637652095798, 'penalty': 'elasticnet', 'C': 16.33980770492971, 'max_iter': 861, 'solver': 'saga'}. Best is trial 0 with value: 0.6738840772818121.\n",
      "[I 2024-06-08 00:28:06,539] Trial 163 finished with value: 0.6738840772818121 and parameters: {'l1_ratio': 0.22335336112405713, 'penalty': 'elasticnet', 'C': 43.640406332554306, 'max_iter': 290, 'solver': 'saga'}. Best is trial 0 with value: 0.6738840772818121.\n",
      "[I 2024-06-08 00:28:06,555] Trial 164 finished with value: 0.6738840772818121 and parameters: {'l1_ratio': 0.4581142029682954, 'penalty': 'elasticnet', 'C': 95.90359743159726, 'max_iter': 816, 'solver': 'saga'}. Best is trial 0 with value: 0.6738840772818121.\n",
      "[I 2024-06-08 00:28:06,615] Trial 165 finished with value: 0.6738840772818121 and parameters: {'l1_ratio': 0.008540302969749836, 'penalty': 'elasticnet', 'C': 93.40903141022822, 'max_iter': 240, 'solver': 'saga'}. Best is trial 0 with value: 0.6738840772818121.\n",
      "[I 2024-06-08 00:28:06,657] Trial 166 finished with value: 0.6738840772818121 and parameters: {'l1_ratio': 0.21212538395786107, 'penalty': 'elasticnet', 'C': 16.67365202873422, 'max_iter': 892, 'solver': 'saga'}. Best is trial 0 with value: 0.6738840772818121.\n",
      "[I 2024-06-08 00:28:06,682] Trial 167 finished with value: 0.6738840772818121 and parameters: {'l1_ratio': 0.6993404421513147, 'penalty': 'elasticnet', 'C': 57.29567312069172, 'max_iter': 501, 'solver': 'saga'}. Best is trial 0 with value: 0.6738840772818121.\n",
      "[I 2024-06-08 00:28:06,724] Trial 168 finished with value: 0.6738840772818121 and parameters: {'l1_ratio': 0.35765548924698587, 'penalty': 'elasticnet', 'C': 96.56810296169495, 'max_iter': 392, 'solver': 'saga'}. Best is trial 0 with value: 0.6738840772818121.\n",
      "[I 2024-06-08 00:28:06,747] Trial 169 finished with value: 0.6738840772818121 and parameters: {'l1_ratio': 0.2525647588221581, 'penalty': 'elasticnet', 'C': 68.97579304730677, 'max_iter': 901, 'solver': 'saga'}. Best is trial 0 with value: 0.6738840772818121.\n",
      "[I 2024-06-08 00:28:06,771] Trial 170 finished with value: 0.6738840772818121 and parameters: {'l1_ratio': 0.42959084730957575, 'penalty': 'elasticnet', 'C': 36.580429918331035, 'max_iter': 234, 'solver': 'saga'}. Best is trial 0 with value: 0.6738840772818121.\n",
      "[I 2024-06-08 00:28:06,791] Trial 171 finished with value: 0.6738840772818121 and parameters: {'l1_ratio': 0.4057965759814599, 'penalty': 'elasticnet', 'C': 59.553063267903106, 'max_iter': 695, 'solver': 'saga'}. Best is trial 0 with value: 0.6738840772818121.\n",
      "[I 2024-06-08 00:28:06,809] Trial 172 finished with value: 0.6738840772818121 and parameters: {'l1_ratio': 0.25786882263821753, 'penalty': 'elasticnet', 'C': 4.5486215732509345, 'max_iter': 354, 'solver': 'saga'}. Best is trial 0 with value: 0.6738840772818121.\n",
      "[I 2024-06-08 00:28:06,826] Trial 173 finished with value: 0.6738840772818121 and parameters: {'l1_ratio': 0.4262648360638064, 'penalty': 'elasticnet', 'C': 0.11767974171827682, 'max_iter': 138, 'solver': 'saga'}. Best is trial 0 with value: 0.6738840772818121.\n",
      "[I 2024-06-08 00:28:06,844] Trial 174 finished with value: 0.6738840772818121 and parameters: {'l1_ratio': 0.8705368937926137, 'penalty': 'elasticnet', 'C': 0.8347974410848631, 'max_iter': 128, 'solver': 'saga'}. Best is trial 0 with value: 0.6738840772818121.\n",
      "[I 2024-06-08 00:28:06,864] Trial 175 finished with value: 0.6738840772818121 and parameters: {'l1_ratio': 0.49765345484315615, 'penalty': 'elasticnet', 'C': 22.401842626449533, 'max_iter': 438, 'solver': 'saga'}. Best is trial 0 with value: 0.6738840772818121.\n",
      "[I 2024-06-08 00:28:06,888] Trial 176 finished with value: 0.6738840772818121 and parameters: {'l1_ratio': 0.3577997907742848, 'penalty': 'elasticnet', 'C': 93.93634696655886, 'max_iter': 726, 'solver': 'saga'}. Best is trial 0 with value: 0.6738840772818121.\n",
      "[I 2024-06-08 00:28:06,908] Trial 177 finished with value: 0.6738840772818121 and parameters: {'l1_ratio': 0.7885721416406517, 'penalty': 'elasticnet', 'C': 50.12206952465031, 'max_iter': 132, 'solver': 'saga'}. Best is trial 0 with value: 0.6738840772818121.\n",
      "[I 2024-06-08 00:28:06,926] Trial 178 finished with value: 0.6738840772818121 and parameters: {'l1_ratio': 0.49078881889177617, 'penalty': 'elasticnet', 'C': 7.2141713177641735, 'max_iter': 683, 'solver': 'saga'}. Best is trial 0 with value: 0.6738840772818121.\n",
      "[I 2024-06-08 00:28:06,943] Trial 179 finished with value: 0.6738840772818121 and parameters: {'l1_ratio': 0.18951097529406513, 'penalty': 'elasticnet', 'C': 51.32604069020252, 'max_iter': 422, 'solver': 'saga'}. Best is trial 0 with value: 0.6738840772818121.\n",
      "[I 2024-06-08 00:28:06,960] Trial 180 finished with value: 0.6738840772818121 and parameters: {'l1_ratio': 0.35560449737706856, 'penalty': 'elasticnet', 'C': 99.48125091698515, 'max_iter': 945, 'solver': 'saga'}. Best is trial 0 with value: 0.6738840772818121.\n",
      "[I 2024-06-08 00:28:06,978] Trial 181 finished with value: 0.6738840772818121 and parameters: {'l1_ratio': 0.3803928316342987, 'penalty': 'elasticnet', 'C': 51.23206656910691, 'max_iter': 211, 'solver': 'saga'}. Best is trial 0 with value: 0.6738840772818121.\n",
      "[I 2024-06-08 00:28:06,996] Trial 182 finished with value: 0.6738840772818121 and parameters: {'l1_ratio': 0.31786624938645336, 'penalty': 'elasticnet', 'C': 92.82708256123098, 'max_iter': 108, 'solver': 'saga'}. Best is trial 0 with value: 0.6738840772818121.\n",
      "[I 2024-06-08 00:28:07,021] Trial 183 finished with value: 0.6738840772818121 and parameters: {'l1_ratio': 0.5766847434366573, 'penalty': 'elasticnet', 'C': 18.232530634199797, 'max_iter': 295, 'solver': 'saga'}. Best is trial 0 with value: 0.6738840772818121.\n",
      "[I 2024-06-08 00:28:07,040] Trial 184 finished with value: 0.6738840772818121 and parameters: {'l1_ratio': 0.5204200584793329, 'penalty': 'elasticnet', 'C': 22.908899819730635, 'max_iter': 819, 'solver': 'saga'}. Best is trial 0 with value: 0.6738840772818121.\n",
      "[I 2024-06-08 00:28:07,058] Trial 185 finished with value: 0.6738840772818121 and parameters: {'l1_ratio': 0.4815508030411725, 'penalty': 'elasticnet', 'C': 70.63075704634761, 'max_iter': 434, 'solver': 'saga'}. Best is trial 0 with value: 0.6738840772818121.\n",
      "[I 2024-06-08 00:28:07,075] Trial 186 finished with value: 0.6738840772818121 and parameters: {'l1_ratio': 0.40680733945979797, 'penalty': 'elasticnet', 'C': 54.03205896293173, 'max_iter': 857, 'solver': 'saga'}. Best is trial 0 with value: 0.6738840772818121.\n",
      "[I 2024-06-08 00:28:07,092] Trial 187 finished with value: 0.6738840772818121 and parameters: {'l1_ratio': 0.4593597234190956, 'penalty': 'elasticnet', 'C': 94.45938856297093, 'max_iter': 480, 'solver': 'saga'}. Best is trial 0 with value: 0.6738840772818121.\n",
      "[I 2024-06-08 00:28:07,109] Trial 188 finished with value: 0.6738840772818121 and parameters: {'l1_ratio': 0.2619967887730157, 'penalty': 'elasticnet', 'C': 75.74958493946616, 'max_iter': 334, 'solver': 'saga'}. Best is trial 0 with value: 0.6738840772818121.\n",
      "[I 2024-06-08 00:28:07,126] Trial 189 finished with value: 0.6738840772818121 and parameters: {'l1_ratio': 0.9164386119520391, 'penalty': 'elasticnet', 'C': 42.848455084638815, 'max_iter': 581, 'solver': 'saga'}. Best is trial 0 with value: 0.6738840772818121.\n",
      "[I 2024-06-08 00:28:07,143] Trial 190 finished with value: 0.6738840772818121 and parameters: {'l1_ratio': 0.18462380207402607, 'penalty': 'elasticnet', 'C': 38.390924682173754, 'max_iter': 898, 'solver': 'saga'}. Best is trial 0 with value: 0.6738840772818121.\n",
      "[I 2024-06-08 00:28:07,160] Trial 191 finished with value: 0.6738840772818121 and parameters: {'l1_ratio': 0.21285193174839834, 'penalty': 'elasticnet', 'C': 0.652427745472789, 'max_iter': 688, 'solver': 'saga'}. Best is trial 0 with value: 0.6738840772818121.\n",
      "[I 2024-06-08 00:28:07,177] Trial 192 finished with value: 0.6738840772818121 and parameters: {'l1_ratio': 0.8599840377691925, 'penalty': 'elasticnet', 'C': 9.220696416442927, 'max_iter': 966, 'solver': 'saga'}. Best is trial 0 with value: 0.6738840772818121.\n",
      "[I 2024-06-08 00:28:07,195] Trial 193 finished with value: 0.6738840772818121 and parameters: {'l1_ratio': 0.1051869255930834, 'penalty': 'elasticnet', 'C': 15.87906072042484, 'max_iter': 871, 'solver': 'saga'}. Best is trial 0 with value: 0.6738840772818121.\n",
      "[I 2024-06-08 00:28:07,214] Trial 194 finished with value: 0.6738840772818121 and parameters: {'l1_ratio': 0.2348524492830083, 'penalty': 'elasticnet', 'C': 74.4075345268888, 'max_iter': 552, 'solver': 'saga'}. Best is trial 0 with value: 0.6738840772818121.\n",
      "[I 2024-06-08 00:28:07,239] Trial 195 finished with value: 0.6738840772818121 and parameters: {'l1_ratio': 0.9269168613193993, 'penalty': 'elasticnet', 'C': 53.79325720996925, 'max_iter': 258, 'solver': 'saga'}. Best is trial 0 with value: 0.6738840772818121.\n",
      "[I 2024-06-08 00:28:07,257] Trial 196 finished with value: 0.6738840772818121 and parameters: {'l1_ratio': 0.5540623103318519, 'penalty': 'elasticnet', 'C': 98.8085521367555, 'max_iter': 530, 'solver': 'saga'}. Best is trial 0 with value: 0.6738840772818121.\n",
      "[I 2024-06-08 00:28:07,274] Trial 197 finished with value: 0.6738840772818121 and parameters: {'l1_ratio': 0.16534047338212798, 'penalty': 'elasticnet', 'C': 96.93662214799808, 'max_iter': 736, 'solver': 'saga'}. Best is trial 0 with value: 0.6738840772818121.\n",
      "[I 2024-06-08 00:28:07,291] Trial 198 finished with value: 0.6738840772818121 and parameters: {'l1_ratio': 0.5583803439006675, 'penalty': 'elasticnet', 'C': 56.330915722847074, 'max_iter': 458, 'solver': 'saga'}. Best is trial 0 with value: 0.6738840772818121.\n",
      "[I 2024-06-08 00:28:07,308] Trial 199 finished with value: 0.6738840772818121 and parameters: {'l1_ratio': 0.12335021229434073, 'penalty': 'elasticnet', 'C': 5.23380828736884, 'max_iter': 276, 'solver': 'saga'}. Best is trial 0 with value: 0.6738840772818121.\n"
     ]
    },
    {
     "name": "stdout",
     "output_type": "stream",
     "text": [
      "Best Hyperparameters: {'l1_ratio': 0.5172978838465893, 'penalty': 'elasticnet', 'C': 94.69679075544326, 'max_iter': 789, 'solver': 'saga'}\n",
      "Best Accuracy: 0.6738840772818121\n"
     ]
    }
   ],
   "source": [
    "# Create a study object and optimize the objective function\n",
    "study = optuna.create_study(direction='maximize', sampler=optuna.samplers.RandomSampler(seed=seed))\n",
    "study.optimize(objective, n_trials=200)\n",
    "\n",
    "# Get the best hyperparameters and accuracy score\n",
    "best_params = study.best_params\n",
    "best_accuracy = study.best_value\n",
    "\n",
    "print(\"Best Hyperparameters:\", best_params)\n",
    "print(\"Best Accuracy:\", best_accuracy)"
   ]
  },
  {
   "cell_type": "code",
   "execution_count": 40,
   "metadata": {},
   "outputs": [
    {
     "data": {
      "text/html": [
       "<div>\n",
       "<style scoped>\n",
       "    .dataframe tbody tr th:only-of-type {\n",
       "        vertical-align: middle;\n",
       "    }\n",
       "\n",
       "    .dataframe tbody tr th {\n",
       "        vertical-align: top;\n",
       "    }\n",
       "\n",
       "    .dataframe thead th {\n",
       "        text-align: right;\n",
       "    }\n",
       "</style>\n",
       "<table border=\"1\" class=\"dataframe\">\n",
       "  <thead>\n",
       "    <tr style=\"text-align: right;\">\n",
       "      <th></th>\n",
       "      <th>number</th>\n",
       "      <th>value</th>\n",
       "      <th>datetime_start</th>\n",
       "      <th>datetime_complete</th>\n",
       "      <th>duration</th>\n",
       "      <th>params_C</th>\n",
       "      <th>params_l1_ratio</th>\n",
       "      <th>params_max_iter</th>\n",
       "      <th>params_penalty</th>\n",
       "      <th>params_solver</th>\n",
       "      <th>state</th>\n",
       "    </tr>\n",
       "  </thead>\n",
       "  <tbody>\n",
       "    <tr>\n",
       "      <th>0</th>\n",
       "      <td>0</td>\n",
       "      <td>0.673884</td>\n",
       "      <td>2024-06-08 00:28:03.605146</td>\n",
       "      <td>2024-06-08 00:28:03.626175</td>\n",
       "      <td>0 days 00:00:00.021029</td>\n",
       "      <td>94.696791</td>\n",
       "      <td>0.517298</td>\n",
       "      <td>789</td>\n",
       "      <td>elasticnet</td>\n",
       "      <td>saga</td>\n",
       "      <td>COMPLETE</td>\n",
       "    </tr>\n",
       "    <tr>\n",
       "      <th>137</th>\n",
       "      <td>137</td>\n",
       "      <td>0.673884</td>\n",
       "      <td>2024-06-08 00:28:06.075174</td>\n",
       "      <td>2024-06-08 00:28:06.090175</td>\n",
       "      <td>0 days 00:00:00.015001</td>\n",
       "      <td>7.303382</td>\n",
       "      <td>0.494852</td>\n",
       "      <td>591</td>\n",
       "      <td>elasticnet</td>\n",
       "      <td>saga</td>\n",
       "      <td>COMPLETE</td>\n",
       "    </tr>\n",
       "    <tr>\n",
       "      <th>127</th>\n",
       "      <td>127</td>\n",
       "      <td>0.673884</td>\n",
       "      <td>2024-06-08 00:28:05.908179</td>\n",
       "      <td>2024-06-08 00:28:05.924175</td>\n",
       "      <td>0 days 00:00:00.015996</td>\n",
       "      <td>26.262630</td>\n",
       "      <td>0.535513</td>\n",
       "      <td>567</td>\n",
       "      <td>elasticnet</td>\n",
       "      <td>saga</td>\n",
       "      <td>COMPLETE</td>\n",
       "    </tr>\n",
       "    <tr>\n",
       "      <th>128</th>\n",
       "      <td>128</td>\n",
       "      <td>0.673884</td>\n",
       "      <td>2024-06-08 00:28:05.925141</td>\n",
       "      <td>2024-06-08 00:28:05.940174</td>\n",
       "      <td>0 days 00:00:00.015033</td>\n",
       "      <td>29.230015</td>\n",
       "      <td>0.477792</td>\n",
       "      <td>465</td>\n",
       "      <td>elasticnet</td>\n",
       "      <td>saga</td>\n",
       "      <td>COMPLETE</td>\n",
       "    </tr>\n",
       "    <tr>\n",
       "      <th>129</th>\n",
       "      <td>129</td>\n",
       "      <td>0.673884</td>\n",
       "      <td>2024-06-08 00:28:05.941176</td>\n",
       "      <td>2024-06-08 00:28:05.957183</td>\n",
       "      <td>0 days 00:00:00.016007</td>\n",
       "      <td>43.747745</td>\n",
       "      <td>0.474294</td>\n",
       "      <td>114</td>\n",
       "      <td>elasticnet</td>\n",
       "      <td>saga</td>\n",
       "      <td>COMPLETE</td>\n",
       "    </tr>\n",
       "    <tr>\n",
       "      <th>130</th>\n",
       "      <td>130</td>\n",
       "      <td>0.673884</td>\n",
       "      <td>2024-06-08 00:28:05.958174</td>\n",
       "      <td>2024-06-08 00:28:05.974175</td>\n",
       "      <td>0 days 00:00:00.016001</td>\n",
       "      <td>75.930643</td>\n",
       "      <td>0.705562</td>\n",
       "      <td>345</td>\n",
       "      <td>elasticnet</td>\n",
       "      <td>saga</td>\n",
       "      <td>COMPLETE</td>\n",
       "    </tr>\n",
       "    <tr>\n",
       "      <th>131</th>\n",
       "      <td>131</td>\n",
       "      <td>0.673884</td>\n",
       "      <td>2024-06-08 00:28:05.975140</td>\n",
       "      <td>2024-06-08 00:28:05.991176</td>\n",
       "      <td>0 days 00:00:00.016036</td>\n",
       "      <td>72.450796</td>\n",
       "      <td>0.465636</td>\n",
       "      <td>174</td>\n",
       "      <td>elasticnet</td>\n",
       "      <td>saga</td>\n",
       "      <td>COMPLETE</td>\n",
       "    </tr>\n",
       "    <tr>\n",
       "      <th>132</th>\n",
       "      <td>132</td>\n",
       "      <td>0.673884</td>\n",
       "      <td>2024-06-08 00:28:05.991176</td>\n",
       "      <td>2024-06-08 00:28:06.007177</td>\n",
       "      <td>0 days 00:00:00.016001</td>\n",
       "      <td>72.067713</td>\n",
       "      <td>0.849127</td>\n",
       "      <td>992</td>\n",
       "      <td>elasticnet</td>\n",
       "      <td>saga</td>\n",
       "      <td>COMPLETE</td>\n",
       "    </tr>\n",
       "    <tr>\n",
       "      <th>133</th>\n",
       "      <td>133</td>\n",
       "      <td>0.673884</td>\n",
       "      <td>2024-06-08 00:28:06.008179</td>\n",
       "      <td>2024-06-08 00:28:06.024174</td>\n",
       "      <td>0 days 00:00:00.015995</td>\n",
       "      <td>25.327685</td>\n",
       "      <td>0.445845</td>\n",
       "      <td>244</td>\n",
       "      <td>elasticnet</td>\n",
       "      <td>saga</td>\n",
       "      <td>COMPLETE</td>\n",
       "    </tr>\n",
       "    <tr>\n",
       "      <th>134</th>\n",
       "      <td>134</td>\n",
       "      <td>0.673884</td>\n",
       "      <td>2024-06-08 00:28:06.024174</td>\n",
       "      <td>2024-06-08 00:28:06.040174</td>\n",
       "      <td>0 days 00:00:00.016000</td>\n",
       "      <td>68.777096</td>\n",
       "      <td>0.870727</td>\n",
       "      <td>442</td>\n",
       "      <td>elasticnet</td>\n",
       "      <td>saga</td>\n",
       "      <td>COMPLETE</td>\n",
       "    </tr>\n",
       "  </tbody>\n",
       "</table>\n",
       "</div>"
      ],
      "text/plain": [
       "     number     value             datetime_start          datetime_complete  \\\n",
       "0         0  0.673884 2024-06-08 00:28:03.605146 2024-06-08 00:28:03.626175   \n",
       "137     137  0.673884 2024-06-08 00:28:06.075174 2024-06-08 00:28:06.090175   \n",
       "127     127  0.673884 2024-06-08 00:28:05.908179 2024-06-08 00:28:05.924175   \n",
       "128     128  0.673884 2024-06-08 00:28:05.925141 2024-06-08 00:28:05.940174   \n",
       "129     129  0.673884 2024-06-08 00:28:05.941176 2024-06-08 00:28:05.957183   \n",
       "130     130  0.673884 2024-06-08 00:28:05.958174 2024-06-08 00:28:05.974175   \n",
       "131     131  0.673884 2024-06-08 00:28:05.975140 2024-06-08 00:28:05.991176   \n",
       "132     132  0.673884 2024-06-08 00:28:05.991176 2024-06-08 00:28:06.007177   \n",
       "133     133  0.673884 2024-06-08 00:28:06.008179 2024-06-08 00:28:06.024174   \n",
       "134     134  0.673884 2024-06-08 00:28:06.024174 2024-06-08 00:28:06.040174   \n",
       "\n",
       "                  duration   params_C  params_l1_ratio  params_max_iter  \\\n",
       "0   0 days 00:00:00.021029  94.696791         0.517298              789   \n",
       "137 0 days 00:00:00.015001   7.303382         0.494852              591   \n",
       "127 0 days 00:00:00.015996  26.262630         0.535513              567   \n",
       "128 0 days 00:00:00.015033  29.230015         0.477792              465   \n",
       "129 0 days 00:00:00.016007  43.747745         0.474294              114   \n",
       "130 0 days 00:00:00.016001  75.930643         0.705562              345   \n",
       "131 0 days 00:00:00.016036  72.450796         0.465636              174   \n",
       "132 0 days 00:00:00.016001  72.067713         0.849127              992   \n",
       "133 0 days 00:00:00.015995  25.327685         0.445845              244   \n",
       "134 0 days 00:00:00.016000  68.777096         0.870727              442   \n",
       "\n",
       "    params_penalty params_solver     state  \n",
       "0       elasticnet          saga  COMPLETE  \n",
       "137     elasticnet          saga  COMPLETE  \n",
       "127     elasticnet          saga  COMPLETE  \n",
       "128     elasticnet          saga  COMPLETE  \n",
       "129     elasticnet          saga  COMPLETE  \n",
       "130     elasticnet          saga  COMPLETE  \n",
       "131     elasticnet          saga  COMPLETE  \n",
       "132     elasticnet          saga  COMPLETE  \n",
       "133     elasticnet          saga  COMPLETE  \n",
       "134     elasticnet          saga  COMPLETE  "
      ]
     },
     "execution_count": 40,
     "metadata": {},
     "output_type": "execute_result"
    }
   ],
   "source": [
    "# Get best trials\n",
    "trials_OTP3 = study.trials_dataframe()\n",
    "# Sort the dataframe by value (accuracy) in descending order\n",
    "top_trials_OTP3 = trials_OTP3.sort_values(by='value', ascending=False).head(10)\n",
    "top_trials_OTP3"
   ]
  },
  {
   "cell_type": "code",
   "execution_count": 41,
   "metadata": {},
   "outputs": [
    {
     "name": "stdout",
     "output_type": "stream",
     "text": [
      "Metrics for LR_OPT3_best:\n",
      "Accuracy: 0.6739\n",
      "Weighted F1: 0.6740\n",
      "Weighted Precision: 0.6742\n",
      "Weighted Recall: 0.6739\n",
      "Macro-Averaged Precision: 0.6736\n",
      "Macro-Averaged Recall: 0.6738\n",
      "F1: [0.68224602 0.66507013]\n",
      "Precision: [0.68918033 0.65809072]\n",
      "classification report\n",
      "              precision    recall  f1-score   support\n",
      "\n",
      "     Class 0       0.69      0.68      0.68      1556\n",
      "     Class 1       0.66      0.67      0.67      1446\n",
      "\n",
      "    accuracy                           0.67      3002\n",
      "   macro avg       0.67      0.67      0.67      3002\n",
      "weighted avg       0.67      0.67      0.67      3002\n",
      "\n",
      "Confusion Matrix\n"
     ]
    },
    {
     "data": {
      "image/png": "[encoded data removed]",
      "text/plain": [
       "<Figure size 432x288 with 2 Axes>"
      ]
     },
     "metadata": {
      "needs_background": "light"
     },
     "output_type": "display_data"
    }
   ],
   "source": [
    "best_trial = study.best_trial\n",
    "best_model = LogisticRegression(**best_trial.params, random_state=seed)\n",
    "best_model.fit(X_train, y_train)\n",
    "\n",
    "predictions_opt3 = best_model.predict(X_test)\n",
    "\n",
    "model_metrics = pd.concat([model_metrics, calculate_metrics('LR_OPT3_best', y_test, predictions_opt3)])"
   ]
  },
  {
   "cell_type": "markdown",
   "metadata": {},
   "source": [
    "end"
   ]
  },
  {
   "cell_type": "code",
   "execution_count": 42,
   "metadata": {},
   "outputs": [
    {
     "data": {
      "text/html": [
       "<div>\n",
       "<style scoped>\n",
       "    .dataframe tbody tr th:only-of-type {\n",
       "        vertical-align: middle;\n",
       "    }\n",
       "\n",
       "    .dataframe tbody tr th {\n",
       "        vertical-align: top;\n",
       "    }\n",
       "\n",
       "    .dataframe thead th {\n",
       "        text-align: right;\n",
       "    }\n",
       "</style>\n",
       "<table border=\"1\" class=\"dataframe\">\n",
       "  <thead>\n",
       "    <tr style=\"text-align: right;\">\n",
       "      <th></th>\n",
       "      <th>Accuracy</th>\n",
       "      <th>Weighted F1</th>\n",
       "      <th>Weighted Precision</th>\n",
       "      <th>Weighted Recall</th>\n",
       "      <th>Macro-Averaged Precision</th>\n",
       "      <th>Macro-Averaged Recall</th>\n",
       "      <th>F1</th>\n",
       "      <th>Precision</th>\n",
       "    </tr>\n",
       "  </thead>\n",
       "  <tbody>\n",
       "    <tr>\n",
       "      <th>LR_original</th>\n",
       "      <td>0.673884</td>\n",
       "      <td>0.673973</td>\n",
       "      <td>0.674205</td>\n",
       "      <td>0.673884</td>\n",
       "      <td>0.673636</td>\n",
       "      <td>0.673825</td>\n",
       "      <td>[0.68224602 0.66507013]</td>\n",
       "      <td>[0.68918033 0.65809072]</td>\n",
       "    </tr>\n",
       "    <tr>\n",
       "      <th>LR_CV1_best</th>\n",
       "      <td>0.673551</td>\n",
       "      <td>0.673638</td>\n",
       "      <td>0.673859</td>\n",
       "      <td>0.673551</td>\n",
       "      <td>0.673294</td>\n",
       "      <td>0.673479</td>\n",
       "      <td>[0.68202466 0.66461328]</td>\n",
       "      <td>[0.6887287  0.65785908]</td>\n",
       "    </tr>\n",
       "    <tr>\n",
       "      <th>LR_skf_best</th>\n",
       "      <td>0.673218</td>\n",
       "      <td>0.673303</td>\n",
       "      <td>0.673514</td>\n",
       "      <td>0.673218</td>\n",
       "      <td>0.672952</td>\n",
       "      <td>0.673133</td>\n",
       "      <td>[0.68180344 0.66415611]</td>\n",
       "      <td>[0.68827767 0.65762712]</td>\n",
       "    </tr>\n",
       "    <tr>\n",
       "      <th>LR_OPT1_best</th>\n",
       "      <td>0.673884</td>\n",
       "      <td>0.673973</td>\n",
       "      <td>0.674205</td>\n",
       "      <td>0.673884</td>\n",
       "      <td>0.673636</td>\n",
       "      <td>0.673825</td>\n",
       "      <td>[0.68224602 0.66507013]</td>\n",
       "      <td>[0.68918033 0.65809072]</td>\n",
       "    </tr>\n",
       "    <tr>\n",
       "      <th>LR_OPT2_best</th>\n",
       "      <td>0.673884</td>\n",
       "      <td>0.673973</td>\n",
       "      <td>0.674205</td>\n",
       "      <td>0.673884</td>\n",
       "      <td>0.673636</td>\n",
       "      <td>0.673825</td>\n",
       "      <td>[0.68224602 0.66507013]</td>\n",
       "      <td>[0.68918033 0.65809072]</td>\n",
       "    </tr>\n",
       "    <tr>\n",
       "      <th>LR_OPT3_best</th>\n",
       "      <td>0.673884</td>\n",
       "      <td>0.673973</td>\n",
       "      <td>0.674205</td>\n",
       "      <td>0.673884</td>\n",
       "      <td>0.673636</td>\n",
       "      <td>0.673825</td>\n",
       "      <td>[0.68224602 0.66507013]</td>\n",
       "      <td>[0.68918033 0.65809072]</td>\n",
       "    </tr>\n",
       "  </tbody>\n",
       "</table>\n",
       "</div>"
      ],
      "text/plain": [
       "              Accuracy  Weighted F1  Weighted Precision  Weighted Recall  \\\n",
       "LR_original   0.673884     0.673973            0.674205         0.673884   \n",
       "LR_CV1_best   0.673551     0.673638            0.673859         0.673551   \n",
       "LR_skf_best   0.673218     0.673303            0.673514         0.673218   \n",
       "LR_OPT1_best  0.673884     0.673973            0.674205         0.673884   \n",
       "LR_OPT2_best  0.673884     0.673973            0.674205         0.673884   \n",
       "LR_OPT3_best  0.673884     0.673973            0.674205         0.673884   \n",
       "\n",
       "              Macro-Averaged Precision  Macro-Averaged Recall  \\\n",
       "LR_original                   0.673636               0.673825   \n",
       "LR_CV1_best                   0.673294               0.673479   \n",
       "LR_skf_best                   0.672952               0.673133   \n",
       "LR_OPT1_best                  0.673636               0.673825   \n",
       "LR_OPT2_best                  0.673636               0.673825   \n",
       "LR_OPT3_best                  0.673636               0.673825   \n",
       "\n",
       "                                   F1                Precision  \n",
       "LR_original   [0.68224602 0.66507013]  [0.68918033 0.65809072]  \n",
       "LR_CV1_best   [0.68202466 0.66461328]  [0.6887287  0.65785908]  \n",
       "LR_skf_best   [0.68180344 0.66415611]  [0.68827767 0.65762712]  \n",
       "LR_OPT1_best  [0.68224602 0.66507013]  [0.68918033 0.65809072]  \n",
       "LR_OPT2_best  [0.68224602 0.66507013]  [0.68918033 0.65809072]  \n",
       "LR_OPT3_best  [0.68224602 0.66507013]  [0.68918033 0.65809072]  "
      ]
     },
     "execution_count": 42,
     "metadata": {},
     "output_type": "execute_result"
    }
   ],
   "source": [
    "model_metrics"
   ]
  }
 ],
 "metadata": {
  "kernelspec": {
   "display_name": "Python 3",
   "language": "python",
   "name": "python3"
  },
  "language_info": {
   "codemirror_mode": {
    "name": "ipython",
    "version": 3
   },
   "file_extension": ".py",
   "mimetype": "text/x-python",
   "name": "python",
   "nbconvert_exporter": "python",
   "pygments_lexer": "ipython3",
   "version": "3.10.11"
  }
 },
 "nbformat": 4,
 "nbformat_minor": 2
}
