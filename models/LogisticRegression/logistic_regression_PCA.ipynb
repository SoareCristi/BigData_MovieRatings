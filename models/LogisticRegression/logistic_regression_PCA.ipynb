{
 "cells": [
  {
   "cell_type": "markdown",
   "metadata": {},
   "source": [
    "## Logistic Regression Implementation on (scaled) Reduced Dataset with PCA"
   ]
  },
  {
   "cell_type": "markdown",
   "metadata": {},
   "source": [
    "Imports"
   ]
  },
  {
   "cell_type": "code",
   "execution_count": 1,
   "metadata": {},
   "outputs": [
    {
     "name": "stderr",
     "output_type": "stream",
     "text": [
      "C:\\Users\\movil\\AppData\\Local\\Packages\\PythonSoftwareFoundation.Python.3.10_qbz5n2kfra8p0\\LocalCache\\local-packages\\Python310\\site-packages\\scipy\\__init__.py:155: UserWarning: A NumPy version >=1.18.5 and <1.25.0 is required for this version of SciPy (detected version 1.26.4\n",
      "  warnings.warn(f\"A NumPy version >={np_minversion} and <{np_maxversion}\"\n"
     ]
    }
   ],
   "source": [
    "# Utilities\n",
    "import pandas as pd\n",
    "import warnings\n",
    "import matplotlib.pyplot as plt\n",
    "\n",
    "# Models\n",
    "import optuna\n",
    "from sklearn.model_selection import train_test_split, cross_val_score\n",
    "from sklearn.exceptions import ConvergenceWarning\n",
    "from sklearn.ensemble import RandomForestClassifier\n",
    "from sklearn.linear_model import LogisticRegression\n",
    "from sklearn.model_selection import GridSearchCV\n",
    "from sklearn.metrics import accuracy_score, accuracy_score, f1_score\n",
    "from sklearn.metrics import classification_report, precision_score, recall_score, confusion_matrix, ConfusionMatrixDisplay"
   ]
  },
  {
   "cell_type": "markdown",
   "metadata": {},
   "source": [
    "Set random seed for reproductibility"
   ]
  },
  {
   "cell_type": "code",
   "execution_count": 2,
   "metadata": {},
   "outputs": [],
   "source": [
    "seed = 23"
   ]
  },
  {
   "cell_type": "markdown",
   "metadata": {},
   "source": [
    "Read clean (scaled data) and reduced dataset"
   ]
  },
  {
   "cell_type": "code",
   "execution_count": 3,
   "metadata": {},
   "outputs": [],
   "source": [
    "df_scaled = pd.read_csv('../../Data/dataset_preprocessed.csv')"
   ]
  },
  {
   "cell_type": "code",
   "execution_count": 4,
   "metadata": {},
   "outputs": [],
   "source": [
    "df_pca = pd.read_csv('../../DimensionalityReductionData/PCA.csv')"
   ]
  },
  {
   "cell_type": "code",
   "execution_count": 5,
   "metadata": {},
   "outputs": [
    {
     "data": {
      "text/html": [
       "<div>\n",
       "<style scoped>\n",
       "    .dataframe tbody tr th:only-of-type {\n",
       "        vertical-align: middle;\n",
       "    }\n",
       "\n",
       "    .dataframe tbody tr th {\n",
       "        vertical-align: top;\n",
       "    }\n",
       "\n",
       "    .dataframe thead th {\n",
       "        text-align: right;\n",
       "    }\n",
       "</style>\n",
       "<table border=\"1\" class=\"dataframe\">\n",
       "  <thead>\n",
       "    <tr style=\"text-align: right;\">\n",
       "      <th></th>\n",
       "      <th>PC1</th>\n",
       "      <th>PC2</th>\n",
       "      <th>PC3</th>\n",
       "      <th>PC4</th>\n",
       "      <th>PC5</th>\n",
       "      <th>PC6</th>\n",
       "      <th>PC7</th>\n",
       "      <th>PC8</th>\n",
       "      <th>PC9</th>\n",
       "      <th>PC10</th>\n",
       "      <th>PC11</th>\n",
       "      <th>PC12</th>\n",
       "      <th>PC13</th>\n",
       "      <th>PC14</th>\n",
       "      <th>PC15</th>\n",
       "      <th>PC16</th>\n",
       "      <th>PC17</th>\n",
       "      <th>PC18</th>\n",
       "    </tr>\n",
       "  </thead>\n",
       "  <tbody>\n",
       "    <tr>\n",
       "      <th>0</th>\n",
       "      <td>0.073496</td>\n",
       "      <td>0.581127</td>\n",
       "      <td>-0.306591</td>\n",
       "      <td>-0.458056</td>\n",
       "      <td>-0.326569</td>\n",
       "      <td>-0.432148</td>\n",
       "      <td>0.285284</td>\n",
       "      <td>0.120601</td>\n",
       "      <td>-0.382754</td>\n",
       "      <td>-0.220533</td>\n",
       "      <td>-0.173304</td>\n",
       "      <td>-0.237751</td>\n",
       "      <td>-0.278836</td>\n",
       "      <td>-0.255647</td>\n",
       "      <td>-0.126061</td>\n",
       "      <td>-0.138865</td>\n",
       "      <td>0.025244</td>\n",
       "      <td>-0.275903</td>\n",
       "    </tr>\n",
       "    <tr>\n",
       "      <th>1</th>\n",
       "      <td>-0.674232</td>\n",
       "      <td>0.297946</td>\n",
       "      <td>0.299652</td>\n",
       "      <td>-0.247368</td>\n",
       "      <td>0.350443</td>\n",
       "      <td>0.430246</td>\n",
       "      <td>-0.511015</td>\n",
       "      <td>0.180800</td>\n",
       "      <td>-0.014047</td>\n",
       "      <td>-0.185657</td>\n",
       "      <td>0.105798</td>\n",
       "      <td>-0.102234</td>\n",
       "      <td>-0.070109</td>\n",
       "      <td>0.002179</td>\n",
       "      <td>0.138295</td>\n",
       "      <td>0.010346</td>\n",
       "      <td>0.088212</td>\n",
       "      <td>0.026563</td>\n",
       "    </tr>\n",
       "    <tr>\n",
       "      <th>2</th>\n",
       "      <td>-0.602295</td>\n",
       "      <td>-0.213501</td>\n",
       "      <td>-0.367282</td>\n",
       "      <td>0.446712</td>\n",
       "      <td>-0.379628</td>\n",
       "      <td>0.201488</td>\n",
       "      <td>0.226710</td>\n",
       "      <td>0.332919</td>\n",
       "      <td>-0.030743</td>\n",
       "      <td>-0.052051</td>\n",
       "      <td>0.197735</td>\n",
       "      <td>-0.145173</td>\n",
       "      <td>0.140576</td>\n",
       "      <td>0.062989</td>\n",
       "      <td>-0.117784</td>\n",
       "      <td>0.002612</td>\n",
       "      <td>-0.020744</td>\n",
       "      <td>0.096351</td>\n",
       "    </tr>\n",
       "    <tr>\n",
       "      <th>3</th>\n",
       "      <td>-0.308130</td>\n",
       "      <td>-0.303248</td>\n",
       "      <td>-0.099318</td>\n",
       "      <td>-0.550675</td>\n",
       "      <td>0.147219</td>\n",
       "      <td>-0.608601</td>\n",
       "      <td>-0.045995</td>\n",
       "      <td>0.519164</td>\n",
       "      <td>0.094052</td>\n",
       "      <td>-0.122320</td>\n",
       "      <td>0.207885</td>\n",
       "      <td>-0.691366</td>\n",
       "      <td>-0.326278</td>\n",
       "      <td>-0.371787</td>\n",
       "      <td>-0.147163</td>\n",
       "      <td>0.056105</td>\n",
       "      <td>-0.315359</td>\n",
       "      <td>-0.211726</td>\n",
       "    </tr>\n",
       "    <tr>\n",
       "      <th>4</th>\n",
       "      <td>-0.548584</td>\n",
       "      <td>-0.107256</td>\n",
       "      <td>0.301375</td>\n",
       "      <td>-0.134301</td>\n",
       "      <td>-0.221954</td>\n",
       "      <td>-0.139591</td>\n",
       "      <td>-0.175504</td>\n",
       "      <td>-0.064892</td>\n",
       "      <td>0.043229</td>\n",
       "      <td>-0.271392</td>\n",
       "      <td>0.054528</td>\n",
       "      <td>-0.095603</td>\n",
       "      <td>-0.064297</td>\n",
       "      <td>0.011336</td>\n",
       "      <td>0.107454</td>\n",
       "      <td>-0.038404</td>\n",
       "      <td>0.111143</td>\n",
       "      <td>0.080739</td>\n",
       "    </tr>\n",
       "  </tbody>\n",
       "</table>\n",
       "</div>"
      ],
      "text/plain": [
       "        PC1       PC2       PC3       PC4       PC5       PC6       PC7  \\\n",
       "0  0.073496  0.581127 -0.306591 -0.458056 -0.326569 -0.432148  0.285284   \n",
       "1 -0.674232  0.297946  0.299652 -0.247368  0.350443  0.430246 -0.511015   \n",
       "2 -0.602295 -0.213501 -0.367282  0.446712 -0.379628  0.201488  0.226710   \n",
       "3 -0.308130 -0.303248 -0.099318 -0.550675  0.147219 -0.608601 -0.045995   \n",
       "4 -0.548584 -0.107256  0.301375 -0.134301 -0.221954 -0.139591 -0.175504   \n",
       "\n",
       "        PC8       PC9      PC10      PC11      PC12      PC13      PC14  \\\n",
       "0  0.120601 -0.382754 -0.220533 -0.173304 -0.237751 -0.278836 -0.255647   \n",
       "1  0.180800 -0.014047 -0.185657  0.105798 -0.102234 -0.070109  0.002179   \n",
       "2  0.332919 -0.030743 -0.052051  0.197735 -0.145173  0.140576  0.062989   \n",
       "3  0.519164  0.094052 -0.122320  0.207885 -0.691366 -0.326278 -0.371787   \n",
       "4 -0.064892  0.043229 -0.271392  0.054528 -0.095603 -0.064297  0.011336   \n",
       "\n",
       "       PC15      PC16      PC17      PC18  \n",
       "0 -0.126061 -0.138865  0.025244 -0.275903  \n",
       "1  0.138295  0.010346  0.088212  0.026563  \n",
       "2 -0.117784  0.002612 -0.020744  0.096351  \n",
       "3 -0.147163  0.056105 -0.315359 -0.211726  \n",
       "4  0.107454 -0.038404  0.111143  0.080739  "
      ]
     },
     "execution_count": 5,
     "metadata": {},
     "output_type": "execute_result"
    }
   ],
   "source": [
    "df_pca.head()"
   ]
  },
  {
   "cell_type": "markdown",
   "metadata": {},
   "source": [
    "Keep only the 'averageRating' column and join with PC1,PC2, ... PC18 from PCA (components)"
   ]
  },
  {
   "cell_type": "code",
   "execution_count": 6,
   "metadata": {},
   "outputs": [],
   "source": [
    "df_scaled_copy = df_scaled[['averageRating']]\n",
    "df_scaled = df_pca\n",
    "df_scaled['averageRating'] = df_scaled_copy['averageRating']\n",
    "del df_scaled_copy"
   ]
  },
  {
   "cell_type": "code",
   "execution_count": 7,
   "metadata": {},
   "outputs": [
    {
     "data": {
      "text/html": [
       "<div>\n",
       "<style scoped>\n",
       "    .dataframe tbody tr th:only-of-type {\n",
       "        vertical-align: middle;\n",
       "    }\n",
       "\n",
       "    .dataframe tbody tr th {\n",
       "        vertical-align: top;\n",
       "    }\n",
       "\n",
       "    .dataframe thead th {\n",
       "        text-align: right;\n",
       "    }\n",
       "</style>\n",
       "<table border=\"1\" class=\"dataframe\">\n",
       "  <thead>\n",
       "    <tr style=\"text-align: right;\">\n",
       "      <th></th>\n",
       "      <th>PC1</th>\n",
       "      <th>PC2</th>\n",
       "      <th>PC3</th>\n",
       "      <th>PC4</th>\n",
       "      <th>PC5</th>\n",
       "      <th>PC6</th>\n",
       "      <th>PC7</th>\n",
       "      <th>PC8</th>\n",
       "      <th>PC9</th>\n",
       "      <th>PC10</th>\n",
       "      <th>PC11</th>\n",
       "      <th>PC12</th>\n",
       "      <th>PC13</th>\n",
       "      <th>PC14</th>\n",
       "      <th>PC15</th>\n",
       "      <th>PC16</th>\n",
       "      <th>PC17</th>\n",
       "      <th>PC18</th>\n",
       "      <th>averageRating</th>\n",
       "    </tr>\n",
       "  </thead>\n",
       "  <tbody>\n",
       "    <tr>\n",
       "      <th>0</th>\n",
       "      <td>0.073496</td>\n",
       "      <td>0.581127</td>\n",
       "      <td>-0.306591</td>\n",
       "      <td>-0.458056</td>\n",
       "      <td>-0.326569</td>\n",
       "      <td>-0.432148</td>\n",
       "      <td>0.285284</td>\n",
       "      <td>0.120601</td>\n",
       "      <td>-0.382754</td>\n",
       "      <td>-0.220533</td>\n",
       "      <td>-0.173304</td>\n",
       "      <td>-0.237751</td>\n",
       "      <td>-0.278836</td>\n",
       "      <td>-0.255647</td>\n",
       "      <td>-0.126061</td>\n",
       "      <td>-0.138865</td>\n",
       "      <td>0.025244</td>\n",
       "      <td>-0.275903</td>\n",
       "      <td>1</td>\n",
       "    </tr>\n",
       "    <tr>\n",
       "      <th>1</th>\n",
       "      <td>-0.674232</td>\n",
       "      <td>0.297946</td>\n",
       "      <td>0.299652</td>\n",
       "      <td>-0.247368</td>\n",
       "      <td>0.350443</td>\n",
       "      <td>0.430246</td>\n",
       "      <td>-0.511015</td>\n",
       "      <td>0.180800</td>\n",
       "      <td>-0.014047</td>\n",
       "      <td>-0.185657</td>\n",
       "      <td>0.105798</td>\n",
       "      <td>-0.102234</td>\n",
       "      <td>-0.070109</td>\n",
       "      <td>0.002179</td>\n",
       "      <td>0.138295</td>\n",
       "      <td>0.010346</td>\n",
       "      <td>0.088212</td>\n",
       "      <td>0.026563</td>\n",
       "      <td>0</td>\n",
       "    </tr>\n",
       "    <tr>\n",
       "      <th>2</th>\n",
       "      <td>-0.602295</td>\n",
       "      <td>-0.213501</td>\n",
       "      <td>-0.367282</td>\n",
       "      <td>0.446712</td>\n",
       "      <td>-0.379628</td>\n",
       "      <td>0.201488</td>\n",
       "      <td>0.226710</td>\n",
       "      <td>0.332919</td>\n",
       "      <td>-0.030743</td>\n",
       "      <td>-0.052051</td>\n",
       "      <td>0.197735</td>\n",
       "      <td>-0.145173</td>\n",
       "      <td>0.140576</td>\n",
       "      <td>0.062989</td>\n",
       "      <td>-0.117784</td>\n",
       "      <td>0.002612</td>\n",
       "      <td>-0.020744</td>\n",
       "      <td>0.096351</td>\n",
       "      <td>1</td>\n",
       "    </tr>\n",
       "    <tr>\n",
       "      <th>3</th>\n",
       "      <td>-0.308130</td>\n",
       "      <td>-0.303248</td>\n",
       "      <td>-0.099318</td>\n",
       "      <td>-0.550675</td>\n",
       "      <td>0.147219</td>\n",
       "      <td>-0.608601</td>\n",
       "      <td>-0.045995</td>\n",
       "      <td>0.519164</td>\n",
       "      <td>0.094052</td>\n",
       "      <td>-0.122320</td>\n",
       "      <td>0.207885</td>\n",
       "      <td>-0.691366</td>\n",
       "      <td>-0.326278</td>\n",
       "      <td>-0.371787</td>\n",
       "      <td>-0.147163</td>\n",
       "      <td>0.056105</td>\n",
       "      <td>-0.315359</td>\n",
       "      <td>-0.211726</td>\n",
       "      <td>0</td>\n",
       "    </tr>\n",
       "    <tr>\n",
       "      <th>4</th>\n",
       "      <td>-0.548584</td>\n",
       "      <td>-0.107256</td>\n",
       "      <td>0.301375</td>\n",
       "      <td>-0.134301</td>\n",
       "      <td>-0.221954</td>\n",
       "      <td>-0.139591</td>\n",
       "      <td>-0.175504</td>\n",
       "      <td>-0.064892</td>\n",
       "      <td>0.043229</td>\n",
       "      <td>-0.271392</td>\n",
       "      <td>0.054528</td>\n",
       "      <td>-0.095603</td>\n",
       "      <td>-0.064297</td>\n",
       "      <td>0.011336</td>\n",
       "      <td>0.107454</td>\n",
       "      <td>-0.038404</td>\n",
       "      <td>0.111143</td>\n",
       "      <td>0.080739</td>\n",
       "      <td>0</td>\n",
       "    </tr>\n",
       "  </tbody>\n",
       "</table>\n",
       "</div>"
      ],
      "text/plain": [
       "        PC1       PC2       PC3       PC4       PC5       PC6       PC7  \\\n",
       "0  0.073496  0.581127 -0.306591 -0.458056 -0.326569 -0.432148  0.285284   \n",
       "1 -0.674232  0.297946  0.299652 -0.247368  0.350443  0.430246 -0.511015   \n",
       "2 -0.602295 -0.213501 -0.367282  0.446712 -0.379628  0.201488  0.226710   \n",
       "3 -0.308130 -0.303248 -0.099318 -0.550675  0.147219 -0.608601 -0.045995   \n",
       "4 -0.548584 -0.107256  0.301375 -0.134301 -0.221954 -0.139591 -0.175504   \n",
       "\n",
       "        PC8       PC9      PC10      PC11      PC12      PC13      PC14  \\\n",
       "0  0.120601 -0.382754 -0.220533 -0.173304 -0.237751 -0.278836 -0.255647   \n",
       "1  0.180800 -0.014047 -0.185657  0.105798 -0.102234 -0.070109  0.002179   \n",
       "2  0.332919 -0.030743 -0.052051  0.197735 -0.145173  0.140576  0.062989   \n",
       "3  0.519164  0.094052 -0.122320  0.207885 -0.691366 -0.326278 -0.371787   \n",
       "4 -0.064892  0.043229 -0.271392  0.054528 -0.095603 -0.064297  0.011336   \n",
       "\n",
       "       PC15      PC16      PC17      PC18  averageRating  \n",
       "0 -0.126061 -0.138865  0.025244 -0.275903              1  \n",
       "1  0.138295  0.010346  0.088212  0.026563              0  \n",
       "2 -0.117784  0.002612 -0.020744  0.096351              1  \n",
       "3 -0.147163  0.056105 -0.315359 -0.211726              0  \n",
       "4  0.107454 -0.038404  0.111143  0.080739              0  "
      ]
     },
     "execution_count": 7,
     "metadata": {},
     "output_type": "execute_result"
    }
   ],
   "source": [
    "df_scaled.head()"
   ]
  },
  {
   "cell_type": "markdown",
   "metadata": {},
   "source": [
    "Take sample for (initial) tests"
   ]
  },
  {
   "cell_type": "code",
   "execution_count": 8,
   "metadata": {},
   "outputs": [],
   "source": [
    "#df_scaled_sample = df_scaled.sample(n=5000, random_state=seed)\n",
    "df_scaled_sample = df_scaled"
   ]
  },
  {
   "cell_type": "markdown",
   "metadata": {},
   "source": [
    "Train-Test Split"
   ]
  },
  {
   "cell_type": "code",
   "execution_count": 9,
   "metadata": {},
   "outputs": [],
   "source": [
    "test_size = 0.2\n",
    "X_train, X_test, y_train, y_test = train_test_split(\n",
    "    df_scaled_sample.drop('averageRating', axis=1), \n",
    "    df_scaled_sample['averageRating'], test_size=test_size, \n",
    "    random_state=seed\n",
    ")"
   ]
  },
  {
   "cell_type": "markdown",
   "metadata": {},
   "source": [
    "Save and print metrics"
   ]
  },
  {
   "cell_type": "code",
   "execution_count": 10,
   "metadata": {},
   "outputs": [],
   "source": [
    "def calculate_metrics(model_name, y_true, y_pred):\n",
    "    metrics = {\n",
    "        'Accuracy': accuracy_score(y_true, y_pred),\n",
    "        'Weighted F1': f1_score(y_true, y_pred, average='weighted'),\n",
    "        'Weighted Precision': precision_score(y_true, y_pred, average='weighted'),\n",
    "        'Weighted Recall': recall_score(y_true, y_pred, average='weighted'),\n",
    "        'Macro-Averaged Precision': precision_score(y_true, y_pred, average='macro'),\n",
    "        'Macro-Averaged Recall': recall_score(y_true, y_pred, average='macro'),\n",
    "        'F1': str(f1_score(y_true, y_pred, average=None)),\n",
    "        'Precision': str( precision_score(y_true, y_pred, average=None)),\n",
    "    }\n",
    "    \n",
    "    # Print the metrics\n",
    "    print(f\"Metrics for {model_name}:\")\n",
    "    for metric_name, metric_value in metrics.items():\n",
    "        try:\n",
    "            print(f\"{metric_name}: {metric_value:.4f}\")\n",
    "        except:\n",
    "            print(f\"{metric_name}: {metric_value}\")\n",
    "    \n",
    "    # Print the classification report\n",
    "    print(\"classification report\")\n",
    "    report = classification_report(y_true, y_pred, target_names=['Class 0', 'Class 1'])\n",
    "    print(report)\n",
    "\n",
    "    print(\"Confusion Matrix\")\n",
    "    cm = confusion_matrix(y_true, y_pred)\n",
    "    cmd = ConfusionMatrixDisplay(confusion_matrix=cm)\n",
    "    cmd.plot()\n",
    "    \n",
    "    plt.title(f'Confusion matrix for model {model_name} (Accuracy:{metrics[\"Accuracy\"]:.4f})')\n",
    "    plt.show()\n",
    "    \n",
    "    # Create df to store metrics\n",
    "    df_metrics = pd.DataFrame(metrics, index=[model_name])\n",
    "    \n",
    "    return df_metrics"
   ]
  },
  {
   "cell_type": "markdown",
   "metadata": {},
   "source": [
    "Model fit"
   ]
  },
  {
   "cell_type": "code",
   "execution_count": 11,
   "metadata": {},
   "outputs": [
    {
     "data": {
      "text/html": [
       "<style>#sk-container-id-1 {\n",
       "  /* Definition of color scheme common for light and dark mode */\n",
       "  --sklearn-color-text: black;\n",
       "  --sklearn-color-line: gray;\n",
       "  /* Definition of color scheme for unfitted estimators */\n",
       "  --sklearn-color-unfitted-level-0: #fff5e6;\n",
       "  --sklearn-color-unfitted-level-1: #f6e4d2;\n",
       "  --sklearn-color-unfitted-level-2: #ffe0b3;\n",
       "  --sklearn-color-unfitted-level-3: chocolate;\n",
       "  /* Definition of color scheme for fitted estimators */\n",
       "  --sklearn-color-fitted-level-0: #f0f8ff;\n",
       "  --sklearn-color-fitted-level-1: #d4ebff;\n",
       "  --sklearn-color-fitted-level-2: #b3dbfd;\n",
       "  --sklearn-color-fitted-level-3: cornflowerblue;\n",
       "\n",
       "  /* Specific color for light theme */\n",
       "  --sklearn-color-text-on-default-background: var(--sg-text-color, var(--theme-code-foreground, var(--jp-content-font-color1, black)));\n",
       "  --sklearn-color-background: var(--sg-background-color, var(--theme-background, var(--jp-layout-color0, white)));\n",
       "  --sklearn-color-border-box: var(--sg-text-color, var(--theme-code-foreground, var(--jp-content-font-color1, black)));\n",
       "  --sklearn-color-icon: #696969;\n",
       "\n",
       "  @media (prefers-color-scheme: dark) {\n",
       "    /* Redefinition of color scheme for dark theme */\n",
       "    --sklearn-color-text-on-default-background: var(--sg-text-color, var(--theme-code-foreground, var(--jp-content-font-color1, white)));\n",
       "    --sklearn-color-background: var(--sg-background-color, var(--theme-background, var(--jp-layout-color0, #111)));\n",
       "    --sklearn-color-border-box: var(--sg-text-color, var(--theme-code-foreground, var(--jp-content-font-color1, white)));\n",
       "    --sklearn-color-icon: #878787;\n",
       "  }\n",
       "}\n",
       "\n",
       "#sk-container-id-1 {\n",
       "  color: var(--sklearn-color-text);\n",
       "}\n",
       "\n",
       "#sk-container-id-1 pre {\n",
       "  padding: 0;\n",
       "}\n",
       "\n",
       "#sk-container-id-1 input.sk-hidden--visually {\n",
       "  border: 0;\n",
       "  clip: rect(1px 1px 1px 1px);\n",
       "  clip: rect(1px, 1px, 1px, 1px);\n",
       "  height: 1px;\n",
       "  margin: -1px;\n",
       "  overflow: hidden;\n",
       "  padding: 0;\n",
       "  position: absolute;\n",
       "  width: 1px;\n",
       "}\n",
       "\n",
       "#sk-container-id-1 div.sk-dashed-wrapped {\n",
       "  border: 1px dashed var(--sklearn-color-line);\n",
       "  margin: 0 0.4em 0.5em 0.4em;\n",
       "  box-sizing: border-box;\n",
       "  padding-bottom: 0.4em;\n",
       "  background-color: var(--sklearn-color-background);\n",
       "}\n",
       "\n",
       "#sk-container-id-1 div.sk-container {\n",
       "  /* jupyter's `normalize.less` sets `[hidden] { display: none; }`\n",
       "     but bootstrap.min.css set `[hidden] { display: none !important; }`\n",
       "     so we also need the `!important` here to be able to override the\n",
       "     default hidden behavior on the sphinx rendered scikit-learn.org.\n",
       "     See: https://github.com/scikit-learn/scikit-learn/issues/21755 */\n",
       "  display: inline-block !important;\n",
       "  position: relative;\n",
       "}\n",
       "\n",
       "#sk-container-id-1 div.sk-text-repr-fallback {\n",
       "  display: none;\n",
       "}\n",
       "\n",
       "div.sk-parallel-item,\n",
       "div.sk-serial,\n",
       "div.sk-item {\n",
       "  /* draw centered vertical line to link estimators */\n",
       "  background-image: linear-gradient(var(--sklearn-color-text-on-default-background), var(--sklearn-color-text-on-default-background));\n",
       "  background-size: 2px 100%;\n",
       "  background-repeat: no-repeat;\n",
       "  background-position: center center;\n",
       "}\n",
       "\n",
       "/* Parallel-specific style estimator block */\n",
       "\n",
       "#sk-container-id-1 div.sk-parallel-item::after {\n",
       "  content: \"\";\n",
       "  width: 100%;\n",
       "  border-bottom: 2px solid var(--sklearn-color-text-on-default-background);\n",
       "  flex-grow: 1;\n",
       "}\n",
       "\n",
       "#sk-container-id-1 div.sk-parallel {\n",
       "  display: flex;\n",
       "  align-items: stretch;\n",
       "  justify-content: center;\n",
       "  background-color: var(--sklearn-color-background);\n",
       "  position: relative;\n",
       "}\n",
       "\n",
       "#sk-container-id-1 div.sk-parallel-item {\n",
       "  display: flex;\n",
       "  flex-direction: column;\n",
       "}\n",
       "\n",
       "#sk-container-id-1 div.sk-parallel-item:first-child::after {\n",
       "  align-self: flex-end;\n",
       "  width: 50%;\n",
       "}\n",
       "\n",
       "#sk-container-id-1 div.sk-parallel-item:last-child::after {\n",
       "  align-self: flex-start;\n",
       "  width: 50%;\n",
       "}\n",
       "\n",
       "#sk-container-id-1 div.sk-parallel-item:only-child::after {\n",
       "  width: 0;\n",
       "}\n",
       "\n",
       "/* Serial-specific style estimator block */\n",
       "\n",
       "#sk-container-id-1 div.sk-serial {\n",
       "  display: flex;\n",
       "  flex-direction: column;\n",
       "  align-items: center;\n",
       "  background-color: var(--sklearn-color-background);\n",
       "  padding-right: 1em;\n",
       "  padding-left: 1em;\n",
       "}\n",
       "\n",
       "\n",
       "/* Toggleable style: style used for estimator/Pipeline/ColumnTransformer box that is\n",
       "clickable and can be expanded/collapsed.\n",
       "- Pipeline and ColumnTransformer use this feature and define the default style\n",
       "- Estimators will overwrite some part of the style using the `sk-estimator` class\n",
       "*/\n",
       "\n",
       "/* Pipeline and ColumnTransformer style (default) */\n",
       "\n",
       "#sk-container-id-1 div.sk-toggleable {\n",
       "  /* Default theme specific background. It is overwritten whether we have a\n",
       "  specific estimator or a Pipeline/ColumnTransformer */\n",
       "  background-color: var(--sklearn-color-background);\n",
       "}\n",
       "\n",
       "/* Toggleable label */\n",
       "#sk-container-id-1 label.sk-toggleable__label {\n",
       "  cursor: pointer;\n",
       "  display: block;\n",
       "  width: 100%;\n",
       "  margin-bottom: 0;\n",
       "  padding: 0.5em;\n",
       "  box-sizing: border-box;\n",
       "  text-align: center;\n",
       "}\n",
       "\n",
       "#sk-container-id-1 label.sk-toggleable__label-arrow:before {\n",
       "  /* Arrow on the left of the label */\n",
       "  content: \"▸\";\n",
       "  float: left;\n",
       "  margin-right: 0.25em;\n",
       "  color: var(--sklearn-color-icon);\n",
       "}\n",
       "\n",
       "#sk-container-id-1 label.sk-toggleable__label-arrow:hover:before {\n",
       "  color: var(--sklearn-color-text);\n",
       "}\n",
       "\n",
       "/* Toggleable content - dropdown */\n",
       "\n",
       "#sk-container-id-1 div.sk-toggleable__content {\n",
       "  max-height: 0;\n",
       "  max-width: 0;\n",
       "  overflow: hidden;\n",
       "  text-align: left;\n",
       "  /* unfitted */\n",
       "  background-color: var(--sklearn-color-unfitted-level-0);\n",
       "}\n",
       "\n",
       "#sk-container-id-1 div.sk-toggleable__content.fitted {\n",
       "  /* fitted */\n",
       "  background-color: var(--sklearn-color-fitted-level-0);\n",
       "}\n",
       "\n",
       "#sk-container-id-1 div.sk-toggleable__content pre {\n",
       "  margin: 0.2em;\n",
       "  border-radius: 0.25em;\n",
       "  color: var(--sklearn-color-text);\n",
       "  /* unfitted */\n",
       "  background-color: var(--sklearn-color-unfitted-level-0);\n",
       "}\n",
       "\n",
       "#sk-container-id-1 div.sk-toggleable__content.fitted pre {\n",
       "  /* unfitted */\n",
       "  background-color: var(--sklearn-color-fitted-level-0);\n",
       "}\n",
       "\n",
       "#sk-container-id-1 input.sk-toggleable__control:checked~div.sk-toggleable__content {\n",
       "  /* Expand drop-down */\n",
       "  max-height: 200px;\n",
       "  max-width: 100%;\n",
       "  overflow: auto;\n",
       "}\n",
       "\n",
       "#sk-container-id-1 input.sk-toggleable__control:checked~label.sk-toggleable__label-arrow:before {\n",
       "  content: \"▾\";\n",
       "}\n",
       "\n",
       "/* Pipeline/ColumnTransformer-specific style */\n",
       "\n",
       "#sk-container-id-1 div.sk-label input.sk-toggleable__control:checked~label.sk-toggleable__label {\n",
       "  color: var(--sklearn-color-text);\n",
       "  background-color: var(--sklearn-color-unfitted-level-2);\n",
       "}\n",
       "\n",
       "#sk-container-id-1 div.sk-label.fitted input.sk-toggleable__control:checked~label.sk-toggleable__label {\n",
       "  background-color: var(--sklearn-color-fitted-level-2);\n",
       "}\n",
       "\n",
       "/* Estimator-specific style */\n",
       "\n",
       "/* Colorize estimator box */\n",
       "#sk-container-id-1 div.sk-estimator input.sk-toggleable__control:checked~label.sk-toggleable__label {\n",
       "  /* unfitted */\n",
       "  background-color: var(--sklearn-color-unfitted-level-2);\n",
       "}\n",
       "\n",
       "#sk-container-id-1 div.sk-estimator.fitted input.sk-toggleable__control:checked~label.sk-toggleable__label {\n",
       "  /* fitted */\n",
       "  background-color: var(--sklearn-color-fitted-level-2);\n",
       "}\n",
       "\n",
       "#sk-container-id-1 div.sk-label label.sk-toggleable__label,\n",
       "#sk-container-id-1 div.sk-label label {\n",
       "  /* The background is the default theme color */\n",
       "  color: var(--sklearn-color-text-on-default-background);\n",
       "}\n",
       "\n",
       "/* On hover, darken the color of the background */\n",
       "#sk-container-id-1 div.sk-label:hover label.sk-toggleable__label {\n",
       "  color: var(--sklearn-color-text);\n",
       "  background-color: var(--sklearn-color-unfitted-level-2);\n",
       "}\n",
       "\n",
       "/* Label box, darken color on hover, fitted */\n",
       "#sk-container-id-1 div.sk-label.fitted:hover label.sk-toggleable__label.fitted {\n",
       "  color: var(--sklearn-color-text);\n",
       "  background-color: var(--sklearn-color-fitted-level-2);\n",
       "}\n",
       "\n",
       "/* Estimator label */\n",
       "\n",
       "#sk-container-id-1 div.sk-label label {\n",
       "  font-family: monospace;\n",
       "  font-weight: bold;\n",
       "  display: inline-block;\n",
       "  line-height: 1.2em;\n",
       "}\n",
       "\n",
       "#sk-container-id-1 div.sk-label-container {\n",
       "  text-align: center;\n",
       "}\n",
       "\n",
       "/* Estimator-specific */\n",
       "#sk-container-id-1 div.sk-estimator {\n",
       "  font-family: monospace;\n",
       "  border: 1px dotted var(--sklearn-color-border-box);\n",
       "  border-radius: 0.25em;\n",
       "  box-sizing: border-box;\n",
       "  margin-bottom: 0.5em;\n",
       "  /* unfitted */\n",
       "  background-color: var(--sklearn-color-unfitted-level-0);\n",
       "}\n",
       "\n",
       "#sk-container-id-1 div.sk-estimator.fitted {\n",
       "  /* fitted */\n",
       "  background-color: var(--sklearn-color-fitted-level-0);\n",
       "}\n",
       "\n",
       "/* on hover */\n",
       "#sk-container-id-1 div.sk-estimator:hover {\n",
       "  /* unfitted */\n",
       "  background-color: var(--sklearn-color-unfitted-level-2);\n",
       "}\n",
       "\n",
       "#sk-container-id-1 div.sk-estimator.fitted:hover {\n",
       "  /* fitted */\n",
       "  background-color: var(--sklearn-color-fitted-level-2);\n",
       "}\n",
       "\n",
       "/* Specification for estimator info (e.g. \"i\" and \"?\") */\n",
       "\n",
       "/* Common style for \"i\" and \"?\" */\n",
       "\n",
       ".sk-estimator-doc-link,\n",
       "a:link.sk-estimator-doc-link,\n",
       "a:visited.sk-estimator-doc-link {\n",
       "  float: right;\n",
       "  font-size: smaller;\n",
       "  line-height: 1em;\n",
       "  font-family: monospace;\n",
       "  background-color: var(--sklearn-color-background);\n",
       "  border-radius: 1em;\n",
       "  height: 1em;\n",
       "  width: 1em;\n",
       "  text-decoration: none !important;\n",
       "  margin-left: 1ex;\n",
       "  /* unfitted */\n",
       "  border: var(--sklearn-color-unfitted-level-1) 1pt solid;\n",
       "  color: var(--sklearn-color-unfitted-level-1);\n",
       "}\n",
       "\n",
       ".sk-estimator-doc-link.fitted,\n",
       "a:link.sk-estimator-doc-link.fitted,\n",
       "a:visited.sk-estimator-doc-link.fitted {\n",
       "  /* fitted */\n",
       "  border: var(--sklearn-color-fitted-level-1) 1pt solid;\n",
       "  color: var(--sklearn-color-fitted-level-1);\n",
       "}\n",
       "\n",
       "/* On hover */\n",
       "div.sk-estimator:hover .sk-estimator-doc-link:hover,\n",
       ".sk-estimator-doc-link:hover,\n",
       "div.sk-label-container:hover .sk-estimator-doc-link:hover,\n",
       ".sk-estimator-doc-link:hover {\n",
       "  /* unfitted */\n",
       "  background-color: var(--sklearn-color-unfitted-level-3);\n",
       "  color: var(--sklearn-color-background);\n",
       "  text-decoration: none;\n",
       "}\n",
       "\n",
       "div.sk-estimator.fitted:hover .sk-estimator-doc-link.fitted:hover,\n",
       ".sk-estimator-doc-link.fitted:hover,\n",
       "div.sk-label-container:hover .sk-estimator-doc-link.fitted:hover,\n",
       ".sk-estimator-doc-link.fitted:hover {\n",
       "  /* fitted */\n",
       "  background-color: var(--sklearn-color-fitted-level-3);\n",
       "  color: var(--sklearn-color-background);\n",
       "  text-decoration: none;\n",
       "}\n",
       "\n",
       "/* Span, style for the box shown on hovering the info icon */\n",
       ".sk-estimator-doc-link span {\n",
       "  display: none;\n",
       "  z-index: 9999;\n",
       "  position: relative;\n",
       "  font-weight: normal;\n",
       "  right: .2ex;\n",
       "  padding: .5ex;\n",
       "  margin: .5ex;\n",
       "  width: min-content;\n",
       "  min-width: 20ex;\n",
       "  max-width: 50ex;\n",
       "  color: var(--sklearn-color-text);\n",
       "  box-shadow: 2pt 2pt 4pt #999;\n",
       "  /* unfitted */\n",
       "  background: var(--sklearn-color-unfitted-level-0);\n",
       "  border: .5pt solid var(--sklearn-color-unfitted-level-3);\n",
       "}\n",
       "\n",
       ".sk-estimator-doc-link.fitted span {\n",
       "  /* fitted */\n",
       "  background: var(--sklearn-color-fitted-level-0);\n",
       "  border: var(--sklearn-color-fitted-level-3);\n",
       "}\n",
       "\n",
       ".sk-estimator-doc-link:hover span {\n",
       "  display: block;\n",
       "}\n",
       "\n",
       "/* \"?\"-specific style due to the `<a>` HTML tag */\n",
       "\n",
       "#sk-container-id-1 a.estimator_doc_link {\n",
       "  float: right;\n",
       "  font-size: 1rem;\n",
       "  line-height: 1em;\n",
       "  font-family: monospace;\n",
       "  background-color: var(--sklearn-color-background);\n",
       "  border-radius: 1rem;\n",
       "  height: 1rem;\n",
       "  width: 1rem;\n",
       "  text-decoration: none;\n",
       "  /* unfitted */\n",
       "  color: var(--sklearn-color-unfitted-level-1);\n",
       "  border: var(--sklearn-color-unfitted-level-1) 1pt solid;\n",
       "}\n",
       "\n",
       "#sk-container-id-1 a.estimator_doc_link.fitted {\n",
       "  /* fitted */\n",
       "  border: var(--sklearn-color-fitted-level-1) 1pt solid;\n",
       "  color: var(--sklearn-color-fitted-level-1);\n",
       "}\n",
       "\n",
       "/* On hover */\n",
       "#sk-container-id-1 a.estimator_doc_link:hover {\n",
       "  /* unfitted */\n",
       "  background-color: var(--sklearn-color-unfitted-level-3);\n",
       "  color: var(--sklearn-color-background);\n",
       "  text-decoration: none;\n",
       "}\n",
       "\n",
       "#sk-container-id-1 a.estimator_doc_link.fitted:hover {\n",
       "  /* fitted */\n",
       "  background-color: var(--sklearn-color-fitted-level-3);\n",
       "}\n",
       "</style><div id=\"sk-container-id-1\" class=\"sk-top-container\"><div class=\"sk-text-repr-fallback\"><pre>LogisticRegression(random_state=23)</pre><b>In a Jupyter environment, please rerun this cell to show the HTML representation or trust the notebook. <br />On GitHub, the HTML representation is unable to render, please try loading this page with nbviewer.org.</b></div><div class=\"sk-container\" hidden><div class=\"sk-item\"><div class=\"sk-estimator fitted sk-toggleable\"><input class=\"sk-toggleable__control sk-hidden--visually\" id=\"sk-estimator-id-1\" type=\"checkbox\" checked><label for=\"sk-estimator-id-1\" class=\"sk-toggleable__label fitted sk-toggleable__label-arrow fitted\">&nbsp;&nbsp;LogisticRegression<a class=\"sk-estimator-doc-link fitted\" rel=\"noreferrer\" target=\"_blank\" href=\"https://scikit-learn.org/1.5/modules/generated/sklearn.linear_model.LogisticRegression.html\">?<span>Documentation for LogisticRegression</span></a><span class=\"sk-estimator-doc-link fitted\">i<span>Fitted</span></span></label><div class=\"sk-toggleable__content fitted\"><pre>LogisticRegression(random_state=23)</pre></div> </div></div></div></div>"
      ],
      "text/plain": [
       "LogisticRegression(random_state=23)"
      ]
     },
     "execution_count": 11,
     "metadata": {},
     "output_type": "execute_result"
    }
   ],
   "source": [
    "model = LogisticRegression(random_state=seed)\n",
    "model.fit(X_train, y_train)"
   ]
  },
  {
   "cell_type": "code",
   "execution_count": 12,
   "metadata": {},
   "outputs": [],
   "source": [
    "predictions = model.predict(X_test)"
   ]
  },
  {
   "cell_type": "code",
   "execution_count": 13,
   "metadata": {},
   "outputs": [
    {
     "name": "stdout",
     "output_type": "stream",
     "text": [
      "Metrics for LR_original:\n",
      "Accuracy: 0.7255\n",
      "Weighted F1: 0.7249\n",
      "Weighted Precision: 0.7259\n",
      "Weighted Recall: 0.7255\n",
      "Macro-Averaged Precision: 0.7260\n",
      "Macro-Averaged Recall: 0.7239\n",
      "F1: [0.74346202 0.70487106]\n",
      "Precision: [0.72101449 0.73105498]\n",
      "classification report\n",
      "              precision    recall  f1-score   support\n",
      "\n",
      "     Class 0       0.72      0.77      0.74      1556\n",
      "     Class 1       0.73      0.68      0.70      1446\n",
      "\n",
      "    accuracy                           0.73      3002\n",
      "   macro avg       0.73      0.72      0.72      3002\n",
      "weighted avg       0.73      0.73      0.72      3002\n",
      "\n",
      "Confusion Matrix\n"
     ]
    },
    {
     "data": {
      "image/png": "[encoded data removed]",
      "text/plain": [
       "<Figure size 432x288 with 2 Axes>"
      ]
     },
     "metadata": {
      "needs_background": "light"
     },
     "output_type": "display_data"
    }
   ],
   "source": [
    "model_metrics = calculate_metrics('LR_original', y_test, predictions)"
   ]
  },
  {
   "cell_type": "code",
   "execution_count": 14,
   "metadata": {},
   "outputs": [],
   "source": [
    "# Apar warning-uri ptc nu converge daca max_iter e mic (<100)\n",
    "# Maximu pe care l-am pus e 10k si acolo nu apare niciun warning dar am lasat ca lista\n",
    "# Ptc modelele cele mai bune sunt la la max_iter <500\n",
    "warnings.filterwarnings(action='ignore')"
   ]
  },
  {
   "cell_type": "markdown",
   "metadata": {},
   "source": [
    "## Grid Search with Cross-Validation"
   ]
  },
  {
   "cell_type": "code",
   "execution_count": 15,
   "metadata": {},
   "outputs": [],
   "source": [
    "# Define the hyperparameters to tune\n",
    "param_grid = {\n",
    "    'penalty': ['l1', 'l2'],\n",
    "    'C': [0.001, 0.01, 0.1, 1, 10, 100],\n",
    "    'max_iter': [10, 100, 200, 500, 100, 1000, 5000],\n",
    "    'solver': ['liblinear', 'saga']\n",
    "}\n",
    "\n",
    "# Perform grid search cross-validation\n",
    "grid_search_cv = GridSearchCV(estimator=LogisticRegression(random_state=seed),\n",
    "                               param_grid=param_grid, cv=5, scoring='accuracy')\n",
    "grid_search_cv.fit(X_train, y_train)\n",
    "\n",
    "# Get the best hyperparameters and model\n",
    "best_params_cv = grid_search_cv.best_params_\n",
    "best_model_cv = grid_search_cv.best_estimator_"
   ]
  },
  {
   "cell_type": "markdown",
   "metadata": {},
   "source": [
    "Results of the best model "
   ]
  },
  {
   "cell_type": "code",
   "execution_count": 16,
   "metadata": {},
   "outputs": [
    {
     "name": "stdout",
     "output_type": "stream",
     "text": [
      "Best Hyperparameters: {'C': 1, 'max_iter': 10, 'penalty': 'l1', 'solver': 'liblinear'}\n",
      "Accuracy: 0.7251832111925383\n"
     ]
    }
   ],
   "source": [
    "accuracy_cv = best_model_cv.score(X_test, y_test)\n",
    "\n",
    "print(\"Best Hyperparameters:\", best_params_cv)\n",
    "print(\"Accuracy:\", accuracy_cv)"
   ]
  },
  {
   "cell_type": "markdown",
   "metadata": {},
   "source": [
    "Results of best models Grid Search CV"
   ]
  },
  {
   "cell_type": "code",
   "execution_count": 17,
   "metadata": {},
   "outputs": [
    {
     "name": "stdout",
     "output_type": "stream",
     "text": [
      "                                                params  mean_test_score\n",
      "84   {'C': 1, 'max_iter': 10, 'penalty': 'l1', 'sol...         0.716451\n",
      "119  {'C': 10, 'max_iter': 100, 'penalty': 'l2', 's...         0.716451\n",
      "135  {'C': 10, 'max_iter': 1000, 'penalty': 'l2', '...         0.716451\n",
      "134  {'C': 10, 'max_iter': 1000, 'penalty': 'l2', '...         0.716451\n",
      "131  {'C': 10, 'max_iter': 100, 'penalty': 'l2', 's...         0.716451\n"
     ]
    }
   ],
   "source": [
    "df_cv = pd.DataFrame(grid_search_cv.cv_results_)\n",
    "\n",
    "# Show top parameters for LR with Cross Validation Grid Serach\n",
    "df_results_cv = df_cv[['params', 'mean_test_score']]\n",
    "df_results_cv_sorted = df_results_cv.sort_values(by='mean_test_score', ascending=False)\n",
    "\n",
    "print(df_results_cv_sorted.head(5))"
   ]
  },
  {
   "cell_type": "code",
   "execution_count": 18,
   "metadata": {},
   "outputs": [
    {
     "name": "stdout",
     "output_type": "stream",
     "text": [
      "Metrics for LR_CV1_best:\n",
      "Accuracy: 0.7252\n",
      "Weighted F1: 0.7246\n",
      "Weighted Precision: 0.7255\n",
      "Weighted Recall: 0.7252\n",
      "Macro-Averaged Precision: 0.7256\n",
      "Macro-Averaged Recall: 0.7236\n",
      "F1: [0.74291056 0.70483005]\n",
      "Precision: [0.72111313 0.7301705 ]\n",
      "classification report\n",
      "              precision    recall  f1-score   support\n",
      "\n",
      "     Class 0       0.72      0.77      0.74      1556\n",
      "     Class 1       0.73      0.68      0.70      1446\n",
      "\n",
      "    accuracy                           0.73      3002\n",
      "   macro avg       0.73      0.72      0.72      3002\n",
      "weighted avg       0.73      0.73      0.72      3002\n",
      "\n",
      "Confusion Matrix\n"
     ]
    },
    {
     "data": {
      "image/png": "[encoded data removed]",
      "text/plain": [
       "<Figure size 432x288 with 2 Axes>"
      ]
     },
     "metadata": {
      "needs_background": "light"
     },
     "output_type": "display_data"
    }
   ],
   "source": [
    "# Use best parameters to make predictions\n",
    "predictions_cv = best_model_cv.predict(X_test)\n",
    "model_metrics = pd.concat([model_metrics, calculate_metrics('LR_CV1_best', y_test, predictions_cv)])"
   ]
  },
  {
   "cell_type": "markdown",
   "metadata": {},
   "source": [
    "## Grid Search Stratified K Fold Validation"
   ]
  },
  {
   "cell_type": "code",
   "execution_count": 19,
   "metadata": {},
   "outputs": [
    {
     "name": "stdout",
     "output_type": "stream",
     "text": [
      "Best Hyperparameters with Stratified K-Fold: {'C': 1, 'max_iter': 10, 'penalty': 'l2', 'solver': 'liblinear'}\n",
      "Accuracy with Stratified K-Fold: 0.7258494337108594\n"
     ]
    }
   ],
   "source": [
    "from sklearn.model_selection import StratifiedKFold\n",
    "\n",
    "skf = StratifiedKFold(n_splits=5, shuffle=True, random_state=seed)\n",
    "\n",
    "grid_search_skf = GridSearchCV(estimator=LogisticRegression(random_state=seed), \n",
    "                           param_grid=param_grid, cv=skf, scoring='accuracy')\n",
    "grid_search_skf.fit(X_train, y_train)\n",
    "\n",
    "# Get the best hyperparameters and model\n",
    "best_params_skf = grid_search_skf.best_params_\n",
    "best_model_skf = grid_search_skf.best_estimator_\n",
    "\n",
    "# Evaluate the best model on the test set\n",
    "accuracy = best_model_skf.score(X_test, y_test)\n",
    "\n",
    "print(\"Best Hyperparameters with Stratified K-Fold:\", best_params_skf)\n",
    "print(\"Accuracy with Stratified K-Fold:\", accuracy)\n"
   ]
  },
  {
   "cell_type": "markdown",
   "metadata": {},
   "source": [
    "Results of the best model "
   ]
  },
  {
   "cell_type": "code",
   "execution_count": 20,
   "metadata": {},
   "outputs": [
    {
     "name": "stdout",
     "output_type": "stream",
     "text": [
      "Best Hyperparameters: {'C': 1, 'max_iter': 10, 'penalty': 'l2', 'solver': 'liblinear'}\n",
      "Accuracy: 0.7258494337108594\n"
     ]
    }
   ],
   "source": [
    "accuracy_skf = best_model_skf.score(X_test, y_test)\n",
    "\n",
    "print(\"Best Hyperparameters:\", best_params_skf)\n",
    "print(\"Accuracy:\", accuracy_skf)"
   ]
  },
  {
   "cell_type": "markdown",
   "metadata": {},
   "source": [
    "Results of best models Grid Search CV"
   ]
  },
  {
   "cell_type": "code",
   "execution_count": 21,
   "metadata": {},
   "outputs": [
    {
     "name": "stdout",
     "output_type": "stream",
     "text": [
      "                                                params  mean_test_score\n",
      "106  {'C': 1, 'max_iter': 1000, 'penalty': 'l2', 's...         0.716701\n",
      "86   {'C': 1, 'max_iter': 10, 'penalty': 'l2', 'sol...         0.716701\n",
      "90   {'C': 1, 'max_iter': 100, 'penalty': 'l2', 'so...         0.716701\n",
      "94   {'C': 1, 'max_iter': 200, 'penalty': 'l2', 'so...         0.716701\n",
      "110  {'C': 1, 'max_iter': 5000, 'penalty': 'l2', 's...         0.716701\n"
     ]
    }
   ],
   "source": [
    "df_skf = pd.DataFrame(grid_search_skf.cv_results_)\n",
    "\n",
    "# Show top parameters for LR with Cross Validation Grid Serach\n",
    "df_results_skf = df_skf[['params', 'mean_test_score']]\n",
    "df_results_skf_sorted = df_results_skf.sort_values(by='mean_test_score', ascending=False)\n",
    "\n",
    "print(df_results_skf_sorted.head(5))"
   ]
  },
  {
   "cell_type": "code",
   "execution_count": 22,
   "metadata": {},
   "outputs": [
    {
     "name": "stdout",
     "output_type": "stream",
     "text": [
      "Metrics for LR_skf_best:\n",
      "Accuracy: 0.7258\n",
      "Weighted F1: 0.7252\n",
      "Weighted Precision: 0.7262\n",
      "Weighted Recall: 0.7258\n",
      "Macro-Averaged Precision: 0.7264\n",
      "Macro-Averaged Recall: 0.7243\n",
      "F1: [0.74369355 0.70533477]\n",
      "Precision: [0.72145015 0.73125464]\n",
      "classification report\n",
      "              precision    recall  f1-score   support\n",
      "\n",
      "     Class 0       0.72      0.77      0.74      1556\n",
      "     Class 1       0.73      0.68      0.71      1446\n",
      "\n",
      "    accuracy                           0.73      3002\n",
      "   macro avg       0.73      0.72      0.72      3002\n",
      "weighted avg       0.73      0.73      0.73      3002\n",
      "\n",
      "Confusion Matrix\n"
     ]
    },
    {
     "data": {
      "image/png": "[encoded data removed]",
      "text/plain": [
       "<Figure size 432x288 with 2 Axes>"
      ]
     },
     "metadata": {
      "needs_background": "light"
     },
     "output_type": "display_data"
    }
   ],
   "source": [
    "# Use best parameters to make predictions\n",
    "predictions_skf = best_model_skf.predict(X_test)\n",
    "model_metrics = pd.concat([model_metrics, calculate_metrics('LR_skf_best', y_test, predictions_skf)])"
   ]
  },
  {
   "cell_type": "markdown",
   "metadata": {},
   "source": [
    "Next maybe add elastic search as penalty? only works with saga solver"
   ]
  },
  {
   "cell_type": "markdown",
   "metadata": {},
   "source": [
    "# Tune with Optuna"
   ]
  },
  {
   "cell_type": "code",
   "execution_count": 23,
   "metadata": {},
   "outputs": [],
   "source": [
    "def objective(trial):\n",
    "    # Define the hyperparameters to optimize\n",
    "    penalty = trial.suggest_categorical('penalty', ['l1', 'l2'])\n",
    "    C = trial.suggest_loguniform('C', 0.01, 10.0)\n",
    "    max_iter = trial.suggest_int('max_iter', 100, 1000)\n",
    "    solver= trial.suggest_categorical('solver', ['liblinear', 'saga'])\n",
    "    \n",
    "    # Create the logistic regression model with the hyperparameters\n",
    "    model = LogisticRegression(penalty=penalty, C=C, max_iter=max_iter,\n",
    "     solver=solver, random_state=seed)\n",
    "    \n",
    "    # Train the model\n",
    "    model.fit(X_train, y_train)\n",
    "    \n",
    "    # Make predictions on the test set\n",
    "    y_pred = model.predict(X_test)\n",
    "    \n",
    "    # Calculate the accuracy score\n",
    "    accuracy = accuracy_score(y_test, y_pred)\n",
    "    #score_cross_val = cross_val_score(model, X_train, y_train, cv=5, scoring='precision')\n",
    "\n",
    "    \n",
    "    return accuracy"
   ]
  },
  {
   "cell_type": "code",
   "execution_count": 24,
   "metadata": {},
   "outputs": [
    {
     "name": "stderr",
     "output_type": "stream",
     "text": [
      "[I 2024-06-08 00:23:28,475] A new study created in memory with name: no-name-f9ce98d0-5d95-4407-9ddc-4b678983625a\n",
      "[I 2024-06-08 00:23:28,563] Trial 0 finished with value: 0.7258494337108594 and parameters: {'penalty': 'l2', 'C': 1.978696921972353, 'max_iter': 354, 'solver': 'saga'}. Best is trial 0 with value: 0.7258494337108594.\n",
      "[I 2024-06-08 00:23:28,634] Trial 1 finished with value: 0.7255163224516988 and parameters: {'penalty': 'l2', 'C': 0.7147547361025183, 'max_iter': 471, 'solver': 'saga'}. Best is trial 0 with value: 0.7258494337108594.\n",
      "[I 2024-06-08 00:23:28,665] Trial 2 finished with value: 0.7245169886742172 and parameters: {'penalty': 'l1', 'C': 0.5871453092844537, 'max_iter': 981, 'solver': 'liblinear'}. Best is trial 0 with value: 0.7258494337108594.\n",
      "[I 2024-06-08 00:23:28,695] Trial 3 finished with value: 0.7251832111925383 and parameters: {'penalty': 'l1', 'C': 2.9335873033004263, 'max_iter': 664, 'solver': 'liblinear'}. Best is trial 0 with value: 0.7258494337108594.\n",
      "[I 2024-06-08 00:23:28,727] Trial 4 finished with value: 0.7241838774150566 and parameters: {'penalty': 'l1', 'C': 0.18398803387733306, 'max_iter': 412, 'solver': 'liblinear'}. Best is trial 0 with value: 0.7258494337108594.\n",
      "[I 2024-06-08 00:23:28,755] Trial 5 finished with value: 0.7215189873417721 and parameters: {'penalty': 'l1', 'C': 0.022786629058688158, 'max_iter': 637, 'solver': 'liblinear'}. Best is trial 0 with value: 0.7258494337108594.\n",
      "[I 2024-06-08 00:23:28,854] Trial 6 finished with value: 0.7211858760826116 and parameters: {'penalty': 'l1', 'C': 0.030622273921242567, 'max_iter': 593, 'solver': 'saga'}. Best is trial 0 with value: 0.7258494337108594.\n",
      "[I 2024-06-08 00:23:28,888] Trial 7 finished with value: 0.7231845436375749 and parameters: {'penalty': 'l1', 'C': 0.03425640620186102, 'max_iter': 316, 'solver': 'liblinear'}. Best is trial 0 with value: 0.7258494337108594.\n",
      "[I 2024-06-08 00:23:28,965] Trial 8 finished with value: 0.7251832111925383 and parameters: {'penalty': 'l2', 'C': 5.067649602789281, 'max_iter': 555, 'solver': 'saga'}. Best is trial 0 with value: 0.7258494337108594.\n",
      "[I 2024-06-08 00:23:29,060] Trial 9 finished with value: 0.7248500999333778 and parameters: {'penalty': 'l1', 'C': 0.2496254032440533, 'max_iter': 891, 'solver': 'saga'}. Best is trial 0 with value: 0.7258494337108594.\n",
      "[I 2024-06-08 00:23:29,161] Trial 10 finished with value: 0.7251832111925383 and parameters: {'penalty': 'l1', 'C': 5.613363497593624, 'max_iter': 311, 'solver': 'saga'}. Best is trial 0 with value: 0.7258494337108594.\n",
      "[I 2024-06-08 00:23:29,233] Trial 11 finished with value: 0.7251832111925383 and parameters: {'penalty': 'l2', 'C': 8.270910880018777, 'max_iter': 315, 'solver': 'saga'}. Best is trial 0 with value: 0.7258494337108594.\n",
      "[I 2024-06-08 00:23:29,256] Trial 12 finished with value: 0.7211858760826116 and parameters: {'penalty': 'l1', 'C': 0.020142347424642024, 'max_iter': 661, 'solver': 'liblinear'}. Best is trial 0 with value: 0.7258494337108594.\n",
      "[I 2024-06-08 00:23:29,329] Trial 13 finished with value: 0.7258494337108594 and parameters: {'penalty': 'l2', 'C': 2.487714984224427, 'max_iter': 446, 'solver': 'saga'}. Best is trial 0 with value: 0.7258494337108594.\n",
      "[I 2024-06-08 00:23:29,356] Trial 14 finished with value: 0.7241838774150566 and parameters: {'penalty': 'l1', 'C': 0.3240442511266919, 'max_iter': 214, 'solver': 'liblinear'}. Best is trial 0 with value: 0.7258494337108594.\n",
      "[I 2024-06-08 00:23:29,383] Trial 15 finished with value: 0.7201865423051299 and parameters: {'penalty': 'l1', 'C': 0.016725442423100204, 'max_iter': 642, 'solver': 'liblinear'}. Best is trial 0 with value: 0.7258494337108594.\n",
      "[I 2024-06-08 00:23:29,423] Trial 16 finished with value: 0.7251832111925383 and parameters: {'penalty': 'l2', 'C': 4.313179830047696, 'max_iter': 490, 'solver': 'liblinear'}. Best is trial 0 with value: 0.7258494337108594.\n",
      "[I 2024-06-08 00:23:29,498] Trial 17 finished with value: 0.7221852098600933 and parameters: {'penalty': 'l2', 'C': 0.01035320399341193, 'max_iter': 216, 'solver': 'saga'}. Best is trial 0 with value: 0.7258494337108594.\n",
      "[I 2024-06-08 00:23:29,561] Trial 18 finished with value: 0.72618254497002 and parameters: {'penalty': 'l2', 'C': 0.6556855070061354, 'max_iter': 968, 'solver': 'liblinear'}. Best is trial 18 with value: 0.72618254497002.\n",
      "[I 2024-06-08 00:23:29,595] Trial 19 finished with value: 0.7248500999333778 and parameters: {'penalty': 'l1', 'C': 7.305724553412326, 'max_iter': 906, 'solver': 'liblinear'}. Best is trial 18 with value: 0.72618254497002.\n",
      "[I 2024-06-08 00:23:29,689] Trial 20 finished with value: 0.7251832111925383 and parameters: {'penalty': 'l1', 'C': 0.7615483811595624, 'max_iter': 457, 'solver': 'saga'}. Best is trial 18 with value: 0.72618254497002.\n",
      "[I 2024-06-08 00:23:29,717] Trial 21 finished with value: 0.723850766155896 and parameters: {'penalty': 'l1', 'C': 0.07180273843352494, 'max_iter': 405, 'solver': 'liblinear'}. Best is trial 18 with value: 0.72618254497002.\n",
      "[I 2024-06-08 00:23:29,785] Trial 22 finished with value: 0.7255163224516988 and parameters: {'penalty': 'l2', 'C': 0.019527870791270083, 'max_iter': 121, 'solver': 'saga'}. Best is trial 18 with value: 0.72618254497002.\n",
      "[I 2024-06-08 00:23:29,869] Trial 23 finished with value: 0.7231845436375749 and parameters: {'penalty': 'l1', 'C': 0.023283147487063578, 'max_iter': 999, 'solver': 'saga'}. Best is trial 18 with value: 0.72618254497002.\n",
      "[I 2024-06-08 00:23:29,967] Trial 24 finished with value: 0.7225183211192538 and parameters: {'penalty': 'l1', 'C': 0.03594005624665695, 'max_iter': 803, 'solver': 'saga'}. Best is trial 18 with value: 0.72618254497002.\n",
      "[I 2024-06-08 00:23:30,058] Trial 25 finished with value: 0.7251832111925383 and parameters: {'penalty': 'l1', 'C': 2.41622803522965, 'max_iter': 935, 'solver': 'saga'}. Best is trial 18 with value: 0.72618254497002.\n",
      "[I 2024-06-08 00:23:30,127] Trial 26 finished with value: 0.7255163224516988 and parameters: {'penalty': 'l2', 'C': 0.45103185164166876, 'max_iter': 500, 'solver': 'saga'}. Best is trial 18 with value: 0.72618254497002.\n",
      "[I 2024-06-08 00:23:30,213] Trial 27 finished with value: 0.7218520986009327 and parameters: {'penalty': 'l1', 'C': 0.02642168055417163, 'max_iter': 861, 'solver': 'saga'}. Best is trial 18 with value: 0.72618254497002.\n",
      "[I 2024-06-08 00:23:30,303] Trial 28 finished with value: 0.7175216522318454 and parameters: {'penalty': 'l1', 'C': 0.014136994498500545, 'max_iter': 337, 'solver': 'saga'}. Best is trial 18 with value: 0.72618254497002.\n",
      "[I 2024-06-08 00:23:30,371] Trial 29 finished with value: 0.7255163224516988 and parameters: {'penalty': 'l2', 'C': 0.7107624591083601, 'max_iter': 801, 'solver': 'saga'}. Best is trial 18 with value: 0.72618254497002.\n",
      "[I 2024-06-08 00:23:30,401] Trial 30 finished with value: 0.7248500999333778 and parameters: {'penalty': 'l1', 'C': 7.729731502348729, 'max_iter': 788, 'solver': 'liblinear'}. Best is trial 18 with value: 0.72618254497002.\n",
      "[I 2024-06-08 00:23:30,466] Trial 31 finished with value: 0.72618254497002 and parameters: {'penalty': 'l2', 'C': 0.6535232131933079, 'max_iter': 295, 'solver': 'saga'}. Best is trial 18 with value: 0.72618254497002.\n",
      "[I 2024-06-08 00:23:30,492] Trial 32 finished with value: 0.7248500999333778 and parameters: {'penalty': 'l1', 'C': 7.23974467462096, 'max_iter': 533, 'solver': 'liblinear'}. Best is trial 18 with value: 0.72618254497002.\n",
      "[I 2024-06-08 00:23:30,583] Trial 33 finished with value: 0.7201865423051299 and parameters: {'penalty': 'l1', 'C': 0.015975627089929178, 'max_iter': 749, 'solver': 'saga'}. Best is trial 18 with value: 0.72618254497002.\n",
      "[I 2024-06-08 00:23:30,607] Trial 34 finished with value: 0.7235176548967355 and parameters: {'penalty': 'l1', 'C': 0.08667715312463047, 'max_iter': 640, 'solver': 'liblinear'}. Best is trial 18 with value: 0.72618254497002.\n",
      "[I 2024-06-08 00:23:30,633] Trial 35 finished with value: 0.7215189873417721 and parameters: {'penalty': 'l1', 'C': 0.017494363997301608, 'max_iter': 382, 'solver': 'liblinear'}. Best is trial 18 with value: 0.72618254497002.\n",
      "[I 2024-06-08 00:23:30,717] Trial 36 finished with value: 0.7248500999333778 and parameters: {'penalty': 'l1', 'C': 0.10738333440901057, 'max_iter': 522, 'solver': 'saga'}. Best is trial 18 with value: 0.72618254497002.\n",
      "[I 2024-06-08 00:23:30,754] Trial 37 finished with value: 0.7251832111925383 and parameters: {'penalty': 'l2', 'C': 0.897499624082285, 'max_iter': 886, 'solver': 'liblinear'}. Best is trial 18 with value: 0.72618254497002.\n",
      "[I 2024-06-08 00:23:30,822] Trial 38 finished with value: 0.7251832111925383 and parameters: {'penalty': 'l2', 'C': 8.52108809242522, 'max_iter': 366, 'solver': 'saga'}. Best is trial 18 with value: 0.72618254497002.\n",
      "[I 2024-06-08 00:23:30,889] Trial 39 finished with value: 0.7228514323784144 and parameters: {'penalty': 'l2', 'C': 0.012313380069145318, 'max_iter': 910, 'solver': 'saga'}. Best is trial 18 with value: 0.72618254497002.\n",
      "[I 2024-06-08 00:23:30,956] Trial 40 finished with value: 0.7255163224516988 and parameters: {'penalty': 'l2', 'C': 0.2655605073199314, 'max_iter': 372, 'solver': 'saga'}. Best is trial 18 with value: 0.72618254497002.\n",
      "[I 2024-06-08 00:23:30,988] Trial 41 finished with value: 0.7251832111925383 and parameters: {'penalty': 'l1', 'C': 0.7194327583159087, 'max_iter': 675, 'solver': 'liblinear'}. Best is trial 18 with value: 0.72618254497002.\n",
      "[I 2024-06-08 00:23:31,085] Trial 42 finished with value: 0.7255163224516988 and parameters: {'penalty': 'l2', 'C': 0.5900814795237284, 'max_iter': 718, 'solver': 'saga'}. Best is trial 18 with value: 0.72618254497002.\n",
      "[I 2024-06-08 00:23:31,190] Trial 43 finished with value: 0.7221852098600933 and parameters: {'penalty': 'l1', 'C': 0.022146324495353406, 'max_iter': 189, 'solver': 'saga'}. Best is trial 18 with value: 0.72618254497002.\n",
      "[I 2024-06-08 00:23:31,273] Trial 44 finished with value: 0.7255163224516988 and parameters: {'penalty': 'l1', 'C': 0.13388604654839945, 'max_iter': 311, 'solver': 'saga'}. Best is trial 18 with value: 0.72618254497002.\n",
      "[I 2024-06-08 00:23:31,362] Trial 45 finished with value: 0.7251832111925383 and parameters: {'penalty': 'l1', 'C': 6.305596304990532, 'max_iter': 537, 'solver': 'saga'}. Best is trial 18 with value: 0.72618254497002.\n",
      "[I 2024-06-08 00:23:31,448] Trial 46 finished with value: 0.7251832111925383 and parameters: {'penalty': 'l1', 'C': 7.348861914638498, 'max_iter': 409, 'solver': 'saga'}. Best is trial 18 with value: 0.72618254497002.\n",
      "[I 2024-06-08 00:23:31,512] Trial 47 finished with value: 0.7251832111925383 and parameters: {'penalty': 'l2', 'C': 0.9118726704613901, 'max_iter': 403, 'solver': 'saga'}. Best is trial 18 with value: 0.72618254497002.\n",
      "[I 2024-06-08 00:23:31,535] Trial 48 finished with value: 0.7251832111925383 and parameters: {'penalty': 'l1', 'C': 0.6914945579286461, 'max_iter': 138, 'solver': 'liblinear'}. Best is trial 18 with value: 0.72618254497002.\n",
      "[I 2024-06-08 00:23:31,598] Trial 49 finished with value: 0.72618254497002 and parameters: {'penalty': 'l2', 'C': 1.4074822362781039, 'max_iter': 848, 'solver': 'saga'}. Best is trial 18 with value: 0.72618254497002.\n",
      "[I 2024-06-08 00:23:31,676] Trial 50 finished with value: 0.7211858760826116 and parameters: {'penalty': 'l1', 'C': 0.02720066288766469, 'max_iter': 265, 'solver': 'saga'}. Best is trial 18 with value: 0.72618254497002.\n",
      "[I 2024-06-08 00:23:31,764] Trial 51 finished with value: 0.7135243171219188 and parameters: {'penalty': 'l1', 'C': 0.012032769971240549, 'max_iter': 179, 'solver': 'saga'}. Best is trial 18 with value: 0.72618254497002.\n",
      "[I 2024-06-08 00:23:31,870] Trial 52 finished with value: 0.7211858760826116 and parameters: {'penalty': 'l1', 'C': 0.02137629523741644, 'max_iter': 530, 'solver': 'saga'}. Best is trial 18 with value: 0.72618254497002.\n",
      "[I 2024-06-08 00:23:31,961] Trial 53 finished with value: 0.7251832111925383 and parameters: {'penalty': 'l1', 'C': 0.1780954403469097, 'max_iter': 498, 'solver': 'saga'}. Best is trial 18 with value: 0.72618254497002.\n",
      "[I 2024-06-08 00:23:31,986] Trial 54 finished with value: 0.7241838774150566 and parameters: {'penalty': 'l1', 'C': 0.4013636602280528, 'max_iter': 420, 'solver': 'liblinear'}. Best is trial 18 with value: 0.72618254497002.\n",
      "[I 2024-06-08 00:23:32,007] Trial 55 finished with value: 0.7171885409726849 and parameters: {'penalty': 'l1', 'C': 0.014073468815611707, 'max_iter': 510, 'solver': 'liblinear'}. Best is trial 18 with value: 0.72618254497002.\n",
      "[I 2024-06-08 00:23:32,030] Trial 56 finished with value: 0.7171885409726849 and parameters: {'penalty': 'l1', 'C': 0.01402486216774064, 'max_iter': 177, 'solver': 'liblinear'}. Best is trial 18 with value: 0.72618254497002.\n",
      "[I 2024-06-08 00:23:32,051] Trial 57 finished with value: 0.7215189873417721 and parameters: {'penalty': 'l1', 'C': 0.02286750227364291, 'max_iter': 456, 'solver': 'liblinear'}. Best is trial 18 with value: 0.72618254497002.\n",
      "[I 2024-06-08 00:23:32,118] Trial 58 finished with value: 0.7251832111925383 and parameters: {'penalty': 'l2', 'C': 4.824358783007409, 'max_iter': 982, 'solver': 'saga'}. Best is trial 18 with value: 0.72618254497002.\n",
      "[I 2024-06-08 00:23:32,153] Trial 59 finished with value: 0.7235176548967355 and parameters: {'penalty': 'l2', 'C': 0.11169219545985529, 'max_iter': 297, 'solver': 'liblinear'}. Best is trial 18 with value: 0.72618254497002.\n",
      "[I 2024-06-08 00:23:32,190] Trial 60 finished with value: 0.7251832111925383 and parameters: {'penalty': 'l2', 'C': 0.2927010912336367, 'max_iter': 710, 'solver': 'liblinear'}. Best is trial 18 with value: 0.72618254497002.\n",
      "[I 2024-06-08 00:23:32,261] Trial 61 finished with value: 0.7225183211192538 and parameters: {'penalty': 'l2', 'C': 0.04277229803475929, 'max_iter': 671, 'solver': 'saga'}. Best is trial 18 with value: 0.72618254497002.\n",
      "[I 2024-06-08 00:23:32,307] Trial 62 finished with value: 0.7255163224516988 and parameters: {'penalty': 'l2', 'C': 0.507123662445956, 'max_iter': 252, 'solver': 'liblinear'}. Best is trial 18 with value: 0.72618254497002.\n",
      "[I 2024-06-08 00:23:32,403] Trial 63 finished with value: 0.7248500999333778 and parameters: {'penalty': 'l1', 'C': 0.160647333794055, 'max_iter': 582, 'solver': 'saga'}. Best is trial 18 with value: 0.72618254497002.\n",
      "[I 2024-06-08 00:23:32,435] Trial 64 finished with value: 0.7241838774150566 and parameters: {'penalty': 'l1', 'C': 0.16428641490203766, 'max_iter': 527, 'solver': 'liblinear'}. Best is trial 18 with value: 0.72618254497002.\n",
      "[I 2024-06-08 00:23:32,485] Trial 65 finished with value: 0.7245169886742172 and parameters: {'penalty': 'l2', 'C': 0.06566271040532483, 'max_iter': 519, 'solver': 'liblinear'}. Best is trial 18 with value: 0.72618254497002.\n",
      "[I 2024-06-08 00:23:32,517] Trial 66 finished with value: 0.7248500999333778 and parameters: {'penalty': 'l1', 'C': 9.363637716926826, 'max_iter': 501, 'solver': 'liblinear'}. Best is trial 18 with value: 0.72618254497002.\n",
      "[I 2024-06-08 00:23:32,611] Trial 67 finished with value: 0.7255163224516988 and parameters: {'penalty': 'l1', 'C': 0.1382320920240548, 'max_iter': 305, 'solver': 'saga'}. Best is trial 18 with value: 0.72618254497002.\n",
      "[I 2024-06-08 00:23:32,706] Trial 68 finished with value: 0.7251832111925383 and parameters: {'penalty': 'l1', 'C': 0.7609887668309826, 'max_iter': 545, 'solver': 'saga'}. Best is trial 18 with value: 0.72618254497002.\n",
      "[I 2024-06-08 00:23:32,797] Trial 69 finished with value: 0.7215189873417721 and parameters: {'penalty': 'l1', 'C': 0.018470397235606395, 'max_iter': 383, 'solver': 'saga'}. Best is trial 18 with value: 0.72618254497002.\n",
      "[I 2024-06-08 00:23:32,891] Trial 70 finished with value: 0.7251832111925383 and parameters: {'penalty': 'l1', 'C': 0.8196477474599286, 'max_iter': 681, 'solver': 'saga'}. Best is trial 18 with value: 0.72618254497002.\n",
      "[I 2024-06-08 00:23:32,968] Trial 71 finished with value: 0.7251832111925383 and parameters: {'penalty': 'l2', 'C': 6.62135117846047, 'max_iter': 384, 'solver': 'saga'}. Best is trial 18 with value: 0.72618254497002.\n",
      "[I 2024-06-08 00:23:33,028] Trial 72 finished with value: 0.7115256495669554 and parameters: {'penalty': 'l1', 'C': 0.011625733609137401, 'max_iter': 511, 'solver': 'liblinear'}. Best is trial 18 with value: 0.72618254497002.\n",
      "[I 2024-06-08 00:23:33,220] Trial 73 finished with value: 0.7251832111925383 and parameters: {'penalty': 'l1', 'C': 0.1550235236888625, 'max_iter': 261, 'solver': 'saga'}. Best is trial 18 with value: 0.72618254497002.\n",
      "[I 2024-06-08 00:23:33,312] Trial 74 finished with value: 0.723850766155896 and parameters: {'penalty': 'l1', 'C': 0.04825277795261175, 'max_iter': 756, 'solver': 'saga'}. Best is trial 18 with value: 0.72618254497002.\n",
      "[I 2024-06-08 00:23:33,352] Trial 75 finished with value: 0.7258494337108594 and parameters: {'penalty': 'l2', 'C': 2.6019378622062317, 'max_iter': 872, 'solver': 'liblinear'}. Best is trial 18 with value: 0.72618254497002.\n",
      "[I 2024-06-08 00:23:33,378] Trial 76 finished with value: 0.7211858760826116 and parameters: {'penalty': 'l1', 'C': 0.019619429034729765, 'max_iter': 562, 'solver': 'liblinear'}. Best is trial 18 with value: 0.72618254497002.\n",
      "[I 2024-06-08 00:23:33,407] Trial 77 finished with value: 0.7245169886742172 and parameters: {'penalty': 'l1', 'C': 0.5116190172324526, 'max_iter': 793, 'solver': 'liblinear'}. Best is trial 18 with value: 0.72618254497002.\n",
      "[I 2024-06-08 00:23:33,513] Trial 78 finished with value: 0.7228514323784144 and parameters: {'penalty': 'l1', 'C': 0.037440064937739055, 'max_iter': 752, 'solver': 'saga'}. Best is trial 18 with value: 0.72618254497002.\n",
      "[I 2024-06-08 00:23:33,551] Trial 79 finished with value: 0.7241838774150566 and parameters: {'penalty': 'l2', 'C': 0.08770998019776095, 'max_iter': 767, 'solver': 'liblinear'}. Best is trial 18 with value: 0.72618254497002.\n",
      "[I 2024-06-08 00:23:33,589] Trial 80 finished with value: 0.7258494337108594 and parameters: {'penalty': 'l2', 'C': 2.625058921674975, 'max_iter': 143, 'solver': 'liblinear'}. Best is trial 18 with value: 0.72618254497002.\n",
      "[I 2024-06-08 00:23:33,620] Trial 81 finished with value: 0.7251832111925383 and parameters: {'penalty': 'l1', 'C': 3.4246179739932647, 'max_iter': 301, 'solver': 'liblinear'}. Best is trial 18 with value: 0.72618254497002.\n",
      "[I 2024-06-08 00:23:33,655] Trial 82 finished with value: 0.7258494337108594 and parameters: {'penalty': 'l2', 'C': 2.4267965274899312, 'max_iter': 107, 'solver': 'liblinear'}. Best is trial 18 with value: 0.72618254497002.\n",
      "[I 2024-06-08 00:23:33,686] Trial 83 finished with value: 0.7251832111925383 and parameters: {'penalty': 'l1', 'C': 4.343377793250722, 'max_iter': 730, 'solver': 'liblinear'}. Best is trial 18 with value: 0.72618254497002.\n",
      "[I 2024-06-08 00:23:33,754] Trial 84 finished with value: 0.7235176548967355 and parameters: {'penalty': 'l2', 'C': 0.09449383077328626, 'max_iter': 327, 'solver': 'saga'}. Best is trial 18 with value: 0.72618254497002.\n",
      "[I 2024-06-08 00:23:33,840] Trial 85 finished with value: 0.7208527648234511 and parameters: {'penalty': 'l1', 'C': 0.028003530764018625, 'max_iter': 465, 'solver': 'saga'}. Best is trial 18 with value: 0.72618254497002.\n",
      "[I 2024-06-08 00:23:33,927] Trial 86 finished with value: 0.7241838774150566 and parameters: {'penalty': 'l1', 'C': 0.07045654344536163, 'max_iter': 484, 'solver': 'saga'}. Best is trial 18 with value: 0.72618254497002.\n",
      "[I 2024-06-08 00:23:34,013] Trial 87 finished with value: 0.7138574283810792 and parameters: {'penalty': 'l1', 'C': 0.012404769455793309, 'max_iter': 548, 'solver': 'saga'}. Best is trial 18 with value: 0.72618254497002.\n",
      "[I 2024-06-08 00:23:34,052] Trial 88 finished with value: 0.7258494337108594 and parameters: {'penalty': 'l2', 'C': 1.2184098366579121, 'max_iter': 810, 'solver': 'liblinear'}. Best is trial 18 with value: 0.72618254497002.\n",
      "[I 2024-06-08 00:23:34,077] Trial 89 finished with value: 0.7251832111925383 and parameters: {'penalty': 'l1', 'C': 0.8751313316001039, 'max_iter': 270, 'solver': 'liblinear'}. Best is trial 18 with value: 0.72618254497002.\n",
      "[I 2024-06-08 00:23:34,115] Trial 90 finished with value: 0.7251832111925383 and parameters: {'penalty': 'l2', 'C': 6.53872709038488, 'max_iter': 442, 'solver': 'liblinear'}. Best is trial 18 with value: 0.72618254497002.\n",
      "[I 2024-06-08 00:23:34,185] Trial 91 finished with value: 0.7221852098600933 and parameters: {'penalty': 'l2', 'C': 0.010633554724178065, 'max_iter': 619, 'solver': 'saga'}. Best is trial 18 with value: 0.72618254497002.\n",
      "[I 2024-06-08 00:23:34,212] Trial 92 finished with value: 0.7251832111925383 and parameters: {'penalty': 'l1', 'C': 2.484325040028493, 'max_iter': 533, 'solver': 'liblinear'}. Best is trial 18 with value: 0.72618254497002.\n",
      "[I 2024-06-08 00:23:34,248] Trial 93 finished with value: 0.7251832111925383 and parameters: {'penalty': 'l2', 'C': 3.3323996420526054, 'max_iter': 513, 'solver': 'liblinear'}. Best is trial 18 with value: 0.72618254497002.\n",
      "[I 2024-06-08 00:23:34,313] Trial 94 finished with value: 0.7228514323784144 and parameters: {'penalty': 'l2', 'C': 0.06059210912132856, 'max_iter': 925, 'solver': 'saga'}. Best is trial 18 with value: 0.72618254497002.\n",
      "[I 2024-06-08 00:23:34,381] Trial 95 finished with value: 0.7251832111925383 and parameters: {'penalty': 'l2', 'C': 4.547970013708444, 'max_iter': 291, 'solver': 'saga'}. Best is trial 18 with value: 0.72618254497002.\n",
      "[I 2024-06-08 00:23:34,468] Trial 96 finished with value: 0.7251832111925383 and parameters: {'penalty': 'l1', 'C': 7.679733969285893, 'max_iter': 194, 'solver': 'saga'}. Best is trial 18 with value: 0.72618254497002.\n",
      "[I 2024-06-08 00:23:34,504] Trial 97 finished with value: 0.7248500999333778 and parameters: {'penalty': 'l2', 'C': 0.32189709041888726, 'max_iter': 935, 'solver': 'liblinear'}. Best is trial 18 with value: 0.72618254497002.\n",
      "[I 2024-06-08 00:23:34,545] Trial 98 finished with value: 0.7251832111925383 and parameters: {'penalty': 'l2', 'C': 0.2716018664757433, 'max_iter': 248, 'solver': 'liblinear'}. Best is trial 18 with value: 0.72618254497002.\n",
      "[I 2024-06-08 00:23:34,612] Trial 99 finished with value: 0.7248500999333778 and parameters: {'penalty': 'l2', 'C': 0.1567892260270225, 'max_iter': 211, 'solver': 'saga'}. Best is trial 18 with value: 0.72618254497002.\n",
      "[I 2024-06-08 00:23:34,677] Trial 100 finished with value: 0.7258494337108594 and parameters: {'penalty': 'l2', 'C': 0.24216801795707713, 'max_iter': 307, 'solver': 'saga'}. Best is trial 18 with value: 0.72618254497002.\n",
      "[I 2024-06-08 00:23:34,697] Trial 101 finished with value: 0.7071952031978681 and parameters: {'penalty': 'l1', 'C': 0.010719523061562876, 'max_iter': 407, 'solver': 'liblinear'}. Best is trial 18 with value: 0.72618254497002.\n",
      "[I 2024-06-08 00:23:34,722] Trial 102 finished with value: 0.7251832111925383 and parameters: {'penalty': 'l1', 'C': 4.113770080292592, 'max_iter': 633, 'solver': 'liblinear'}. Best is trial 18 with value: 0.72618254497002.\n",
      "[I 2024-06-08 00:23:34,787] Trial 103 finished with value: 0.7255163224516988 and parameters: {'penalty': 'l2', 'C': 0.4588590014404327, 'max_iter': 347, 'solver': 'saga'}. Best is trial 18 with value: 0.72618254497002.\n",
      "[I 2024-06-08 00:23:34,870] Trial 104 finished with value: 0.7248500999333778 and parameters: {'penalty': 'l1', 'C': 0.10710863250732765, 'max_iter': 193, 'solver': 'saga'}. Best is trial 18 with value: 0.72618254497002.\n",
      "[I 2024-06-08 00:23:34,940] Trial 105 finished with value: 0.7248500999333778 and parameters: {'penalty': 'l2', 'C': 0.17914999526019226, 'max_iter': 491, 'solver': 'saga'}. Best is trial 18 with value: 0.72618254497002.\n",
      "[I 2024-06-08 00:23:34,963] Trial 106 finished with value: 0.7228514323784144 and parameters: {'penalty': 'l1', 'C': 0.023543419823539486, 'max_iter': 406, 'solver': 'liblinear'}. Best is trial 18 with value: 0.72618254497002.\n",
      "[I 2024-06-08 00:23:34,999] Trial 107 finished with value: 0.7251832111925383 and parameters: {'penalty': 'l2', 'C': 9.503363044784564, 'max_iter': 999, 'solver': 'liblinear'}. Best is trial 18 with value: 0.72618254497002.\n",
      "[I 2024-06-08 00:23:35,020] Trial 108 finished with value: 0.7225183211192538 and parameters: {'penalty': 'l1', 'C': 0.032161195128812416, 'max_iter': 601, 'solver': 'liblinear'}. Best is trial 18 with value: 0.72618254497002.\n",
      "[I 2024-06-08 00:23:35,054] Trial 109 finished with value: 0.7228514323784144 and parameters: {'penalty': 'l2', 'C': 0.030447265733971263, 'max_iter': 546, 'solver': 'liblinear'}. Best is trial 18 with value: 0.72618254497002.\n",
      "[I 2024-06-08 00:23:35,148] Trial 110 finished with value: 0.7208527648234511 and parameters: {'penalty': 'l1', 'C': 0.01710832393798724, 'max_iter': 177, 'solver': 'saga'}. Best is trial 18 with value: 0.72618254497002.\n",
      "[I 2024-06-08 00:23:35,217] Trial 111 finished with value: 0.723850766155896 and parameters: {'penalty': 'l2', 'C': 0.04418892942627004, 'max_iter': 951, 'solver': 'saga'}. Best is trial 18 with value: 0.72618254497002.\n",
      "[I 2024-06-08 00:23:35,307] Trial 112 finished with value: 0.7251832111925383 and parameters: {'penalty': 'l1', 'C': 3.6066493900282923, 'max_iter': 416, 'solver': 'saga'}. Best is trial 18 with value: 0.72618254497002.\n",
      "[I 2024-06-08 00:23:35,341] Trial 113 finished with value: 0.723850766155896 and parameters: {'penalty': 'l2', 'C': 0.06408776041778638, 'max_iter': 408, 'solver': 'liblinear'}. Best is trial 18 with value: 0.72618254497002.\n",
      "[I 2024-06-08 00:23:35,364] Trial 114 finished with value: 0.7251832111925383 and parameters: {'penalty': 'l1', 'C': 0.8367852800880448, 'max_iter': 678, 'solver': 'liblinear'}. Best is trial 18 with value: 0.72618254497002.\n",
      "[I 2024-06-08 00:23:35,446] Trial 115 finished with value: 0.7255163224516988 and parameters: {'penalty': 'l1', 'C': 0.1340402204245466, 'max_iter': 346, 'solver': 'saga'}. Best is trial 18 with value: 0.72618254497002.\n",
      "[I 2024-06-08 00:23:35,508] Trial 116 finished with value: 0.7241838774150566 and parameters: {'penalty': 'l2', 'C': 0.013513345363822152, 'max_iter': 468, 'solver': 'saga'}. Best is trial 18 with value: 0.72618254497002.\n",
      "[I 2024-06-08 00:23:35,535] Trial 117 finished with value: 0.7241838774150566 and parameters: {'penalty': 'l1', 'C': 0.22362723746871446, 'max_iter': 168, 'solver': 'liblinear'}. Best is trial 18 with value: 0.72618254497002.\n",
      "[I 2024-06-08 00:23:35,623] Trial 118 finished with value: 0.7251832111925383 and parameters: {'penalty': 'l1', 'C': 0.8048275772815652, 'max_iter': 795, 'solver': 'saga'}. Best is trial 18 with value: 0.72618254497002.\n",
      "[I 2024-06-08 00:23:35,648] Trial 119 finished with value: 0.7225183211192538 and parameters: {'penalty': 'l1', 'C': 0.04319432508279183, 'max_iter': 242, 'solver': 'liblinear'}. Best is trial 18 with value: 0.72618254497002.\n",
      "[I 2024-06-08 00:23:35,683] Trial 120 finished with value: 0.7258494337108594 and parameters: {'penalty': 'l2', 'C': 0.5661300875256327, 'max_iter': 786, 'solver': 'liblinear'}. Best is trial 18 with value: 0.72618254497002.\n",
      "[I 2024-06-08 00:23:35,751] Trial 121 finished with value: 0.7251832111925383 and parameters: {'penalty': 'l2', 'C': 3.3381179800589327, 'max_iter': 157, 'solver': 'saga'}. Best is trial 18 with value: 0.72618254497002.\n",
      "[I 2024-06-08 00:23:35,776] Trial 122 finished with value: 0.7255163224516988 and parameters: {'penalty': 'l2', 'C': 0.01814898632317917, 'max_iter': 294, 'solver': 'liblinear'}. Best is trial 18 with value: 0.72618254497002.\n",
      "[I 2024-06-08 00:23:35,799] Trial 123 finished with value: 0.7195203197868087 and parameters: {'penalty': 'l1', 'C': 0.01622977607749056, 'max_iter': 665, 'solver': 'liblinear'}. Best is trial 18 with value: 0.72618254497002.\n",
      "[I 2024-06-08 00:23:35,821] Trial 124 finished with value: 0.7241838774150566 and parameters: {'penalty': 'l1', 'C': 0.3355993439527287, 'max_iter': 278, 'solver': 'liblinear'}. Best is trial 18 with value: 0.72618254497002.\n",
      "[I 2024-06-08 00:23:35,889] Trial 125 finished with value: 0.7228514323784144 and parameters: {'penalty': 'l2', 'C': 0.1055046365383603, 'max_iter': 164, 'solver': 'saga'}. Best is trial 18 with value: 0.72618254497002.\n",
      "[I 2024-06-08 00:23:35,920] Trial 126 finished with value: 0.7255163224516988 and parameters: {'penalty': 'l2', 'C': 0.3911432839894509, 'max_iter': 195, 'solver': 'liblinear'}. Best is trial 18 with value: 0.72618254497002.\n",
      "[I 2024-06-08 00:23:35,984] Trial 127 finished with value: 0.7235176548967355 and parameters: {'penalty': 'l2', 'C': 0.02150458112009587, 'max_iter': 525, 'solver': 'saga'}. Best is trial 18 with value: 0.72618254497002.\n",
      "[I 2024-06-08 00:23:36,047] Trial 128 finished with value: 0.7255163224516988 and parameters: {'penalty': 'l2', 'C': 0.7045593486636776, 'max_iter': 153, 'solver': 'saga'}. Best is trial 18 with value: 0.72618254497002.\n",
      "[I 2024-06-08 00:23:36,074] Trial 129 finished with value: 0.7235176548967355 and parameters: {'penalty': 'l2', 'C': 0.05051448616390107, 'max_iter': 648, 'solver': 'liblinear'}. Best is trial 18 with value: 0.72618254497002.\n",
      "[I 2024-06-08 00:23:36,102] Trial 130 finished with value: 0.7245169886742172 and parameters: {'penalty': 'l1', 'C': 0.45658696088123707, 'max_iter': 533, 'solver': 'liblinear'}. Best is trial 18 with value: 0.72618254497002.\n",
      "[I 2024-06-08 00:23:36,167] Trial 131 finished with value: 0.723850766155896 and parameters: {'penalty': 'l2', 'C': 0.09379894918925637, 'max_iter': 934, 'solver': 'saga'}. Best is trial 18 with value: 0.72618254497002.\n",
      "[I 2024-06-08 00:23:36,203] Trial 132 finished with value: 0.7258494337108594 and parameters: {'penalty': 'l2', 'C': 1.1864264633694679, 'max_iter': 237, 'solver': 'liblinear'}. Best is trial 18 with value: 0.72618254497002.\n",
      "[I 2024-06-08 00:23:36,242] Trial 133 finished with value: 0.7231845436375749 and parameters: {'penalty': 'l2', 'C': 0.028534777087763762, 'max_iter': 988, 'solver': 'liblinear'}. Best is trial 18 with value: 0.72618254497002.\n",
      "[I 2024-06-08 00:23:36,296] Trial 134 finished with value: 0.7258494337108594 and parameters: {'penalty': 'l2', 'C': 0.5626786250159912, 'max_iter': 217, 'solver': 'liblinear'}. Best is trial 18 with value: 0.72618254497002.\n",
      "[I 2024-06-08 00:23:36,330] Trial 135 finished with value: 0.7251832111925383 and parameters: {'penalty': 'l1', 'C': 3.8458773219426696, 'max_iter': 133, 'solver': 'liblinear'}. Best is trial 18 with value: 0.72618254497002.\n",
      "[I 2024-06-08 00:23:36,367] Trial 136 finished with value: 0.714856762158561 and parameters: {'penalty': 'l1', 'C': 0.01255556569435987, 'max_iter': 827, 'solver': 'liblinear'}. Best is trial 18 with value: 0.72618254497002.\n",
      "[I 2024-06-08 00:23:36,413] Trial 137 finished with value: 0.7245169886742172 and parameters: {'penalty': 'l1', 'C': 0.15048015178109325, 'max_iter': 671, 'solver': 'liblinear'}. Best is trial 18 with value: 0.72618254497002.\n",
      "[I 2024-06-08 00:23:36,562] Trial 138 finished with value: 0.7255163224516988 and parameters: {'penalty': 'l2', 'C': 0.5761014588218291, 'max_iter': 643, 'solver': 'saga'}. Best is trial 18 with value: 0.72618254497002.\n",
      "[I 2024-06-08 00:23:36,756] Trial 139 finished with value: 0.7248500999333778 and parameters: {'penalty': 'l2', 'C': 0.1605530540282818, 'max_iter': 690, 'solver': 'liblinear'}. Best is trial 18 with value: 0.72618254497002.\n",
      "[I 2024-06-08 00:23:36,924] Trial 140 finished with value: 0.7251832111925383 and parameters: {'penalty': 'l2', 'C': 3.4761490810204365, 'max_iter': 503, 'solver': 'liblinear'}. Best is trial 18 with value: 0.72618254497002.\n",
      "[I 2024-06-08 00:23:37,121] Trial 141 finished with value: 0.7251832111925383 and parameters: {'penalty': 'l1', 'C': 2.8328795071681525, 'max_iter': 857, 'solver': 'saga'}. Best is trial 18 with value: 0.72618254497002.\n",
      "[I 2024-06-08 00:23:37,167] Trial 142 finished with value: 0.7251832111925383 and parameters: {'penalty': 'l1', 'C': 3.2642533823486786, 'max_iter': 339, 'solver': 'liblinear'}. Best is trial 18 with value: 0.72618254497002.\n",
      "[I 2024-06-08 00:23:37,335] Trial 143 finished with value: 0.7251832111925383 and parameters: {'penalty': 'l1', 'C': 3.6147948186243792, 'max_iter': 342, 'solver': 'saga'}. Best is trial 18 with value: 0.72618254497002.\n",
      "[I 2024-06-08 00:23:37,407] Trial 144 finished with value: 0.7258494337108594 and parameters: {'penalty': 'l2', 'C': 0.5581000855177064, 'max_iter': 987, 'solver': 'saga'}. Best is trial 18 with value: 0.72618254497002.\n",
      "[I 2024-06-08 00:23:37,427] Trial 145 finished with value: 0.7191872085276483 and parameters: {'penalty': 'l1', 'C': 0.015937454723838992, 'max_iter': 297, 'solver': 'liblinear'}. Best is trial 18 with value: 0.72618254497002.\n",
      "[I 2024-06-08 00:23:37,490] Trial 146 finished with value: 0.7251832111925383 and parameters: {'penalty': 'l2', 'C': 0.2858343201602987, 'max_iter': 146, 'solver': 'liblinear'}. Best is trial 18 with value: 0.72618254497002.\n",
      "[I 2024-06-08 00:23:37,618] Trial 147 finished with value: 0.7255163224516988 and parameters: {'penalty': 'l2', 'C': 0.42590588154860654, 'max_iter': 373, 'solver': 'saga'}. Best is trial 18 with value: 0.72618254497002.\n",
      "[I 2024-06-08 00:23:37,758] Trial 148 finished with value: 0.7251832111925383 and parameters: {'penalty': 'l2', 'C': 8.38176904936794, 'max_iter': 219, 'solver': 'saga'}. Best is trial 18 with value: 0.72618254497002.\n",
      "[I 2024-06-08 00:23:37,876] Trial 149 finished with value: 0.7241838774150566 and parameters: {'penalty': 'l2', 'C': 0.1265620746042377, 'max_iter': 939, 'solver': 'saga'}. Best is trial 18 with value: 0.72618254497002.\n",
      "[I 2024-06-08 00:23:37,926] Trial 150 finished with value: 0.7248500999333778 and parameters: {'penalty': 'l1', 'C': 1.514803962662444, 'max_iter': 518, 'solver': 'liblinear'}. Best is trial 18 with value: 0.72618254497002.\n",
      "[I 2024-06-08 00:23:37,969] Trial 151 finished with value: 0.7231845436375749 and parameters: {'penalty': 'l1', 'C': 0.023454158653051307, 'max_iter': 620, 'solver': 'liblinear'}. Best is trial 18 with value: 0.72618254497002.\n",
      "[I 2024-06-08 00:23:38,162] Trial 152 finished with value: 0.7251832111925383 and parameters: {'penalty': 'l1', 'C': 1.065373030496576, 'max_iter': 963, 'solver': 'saga'}. Best is trial 18 with value: 0.72618254497002.\n",
      "[I 2024-06-08 00:23:38,275] Trial 153 finished with value: 0.72618254497002 and parameters: {'penalty': 'l2', 'C': 1.4658524113174358, 'max_iter': 699, 'solver': 'liblinear'}. Best is trial 18 with value: 0.72618254497002.\n",
      "[I 2024-06-08 00:23:38,332] Trial 154 finished with value: 0.7251832111925383 and parameters: {'penalty': 'l1', 'C': 3.1662543141065584, 'max_iter': 902, 'solver': 'liblinear'}. Best is trial 18 with value: 0.72618254497002.\n",
      "[I 2024-06-08 00:23:38,495] Trial 155 finished with value: 0.7258494337108594 and parameters: {'penalty': 'l2', 'C': 2.1309549371203467, 'max_iter': 515, 'solver': 'saga'}. Best is trial 18 with value: 0.72618254497002.\n",
      "[I 2024-06-08 00:23:38,653] Trial 156 finished with value: 0.7248500999333778 and parameters: {'penalty': 'l1', 'C': 1.1749178764646, 'max_iter': 768, 'solver': 'saga'}. Best is trial 18 with value: 0.72618254497002.\n",
      "[I 2024-06-08 00:23:38,750] Trial 157 finished with value: 0.7251832111925383 and parameters: {'penalty': 'l1', 'C': 0.08788948403482796, 'max_iter': 490, 'solver': 'saga'}. Best is trial 18 with value: 0.72618254497002.\n",
      "[I 2024-06-08 00:23:38,775] Trial 158 finished with value: 0.7245169886742172 and parameters: {'penalty': 'l1', 'C': 0.5865011567299384, 'max_iter': 176, 'solver': 'liblinear'}. Best is trial 18 with value: 0.72618254497002.\n",
      "[I 2024-06-08 00:23:38,807] Trial 159 finished with value: 0.7251832111925383 and parameters: {'penalty': 'l1', 'C': 0.8157109699225752, 'max_iter': 884, 'solver': 'liblinear'}. Best is trial 18 with value: 0.72618254497002.\n",
      "[I 2024-06-08 00:23:38,961] Trial 160 finished with value: 0.7248500999333778 and parameters: {'penalty': 'l1', 'C': 1.3988159822083082, 'max_iter': 636, 'solver': 'saga'}. Best is trial 18 with value: 0.72618254497002.\n",
      "[I 2024-06-08 00:23:38,981] Trial 161 finished with value: 0.7248500999333778 and parameters: {'penalty': 'l1', 'C': 9.100395198201442, 'max_iter': 925, 'solver': 'liblinear'}. Best is trial 18 with value: 0.72618254497002.\n",
      "[I 2024-06-08 00:23:39,124] Trial 162 finished with value: 0.7258494337108594 and parameters: {'penalty': 'l2', 'C': 2.371987901894069, 'max_iter': 817, 'solver': 'saga'}. Best is trial 18 with value: 0.72618254497002.\n",
      "[I 2024-06-08 00:23:39,170] Trial 163 finished with value: 0.7235176548967355 and parameters: {'penalty': 'l1', 'C': 0.06772465718340923, 'max_iter': 724, 'solver': 'liblinear'}. Best is trial 18 with value: 0.72618254497002.\n",
      "[I 2024-06-08 00:23:39,282] Trial 164 finished with value: 0.723850766155896 and parameters: {'penalty': 'l2', 'C': 0.027643783457538054, 'max_iter': 517, 'solver': 'liblinear'}. Best is trial 18 with value: 0.72618254497002.\n",
      "[I 2024-06-08 00:23:39,326] Trial 165 finished with value: 0.7241838774150566 and parameters: {'penalty': 'l1', 'C': 0.07931698456694951, 'max_iter': 381, 'solver': 'liblinear'}. Best is trial 18 with value: 0.72618254497002.\n",
      "[I 2024-06-08 00:23:39,424] Trial 166 finished with value: 0.7245169886742172 and parameters: {'penalty': 'l2', 'C': 0.06865463322025443, 'max_iter': 668, 'solver': 'liblinear'}. Best is trial 18 with value: 0.72618254497002.\n",
      "[I 2024-06-08 00:23:39,606] Trial 167 finished with value: 0.7251832111925383 and parameters: {'penalty': 'l2', 'C': 7.232727518623565, 'max_iter': 735, 'solver': 'liblinear'}. Best is trial 18 with value: 0.72618254497002.\n",
      "[I 2024-06-08 00:23:39,847] Trial 168 finished with value: 0.7255163224516988 and parameters: {'penalty': 'l2', 'C': 0.8821425852044329, 'max_iter': 281, 'solver': 'liblinear'}. Best is trial 18 with value: 0.72618254497002.\n",
      "[I 2024-06-08 00:23:39,909] Trial 169 finished with value: 0.723850766155896 and parameters: {'penalty': 'l1', 'C': 0.060205492355472054, 'max_iter': 397, 'solver': 'liblinear'}. Best is trial 18 with value: 0.72618254497002.\n",
      "[I 2024-06-08 00:23:39,967] Trial 170 finished with value: 0.7241838774150566 and parameters: {'penalty': 'l1', 'C': 0.07723931950697714, 'max_iter': 873, 'solver': 'liblinear'}. Best is trial 18 with value: 0.72618254497002.\n",
      "[I 2024-06-08 00:23:40,088] Trial 171 finished with value: 0.7241838774150566 and parameters: {'penalty': 'l2', 'C': 0.08879822158262446, 'max_iter': 499, 'solver': 'liblinear'}. Best is trial 18 with value: 0.72618254497002.\n",
      "[I 2024-06-08 00:23:40,185] Trial 172 finished with value: 0.7221852098600933 and parameters: {'penalty': 'l2', 'C': 0.010134215338029441, 'max_iter': 615, 'solver': 'liblinear'}. Best is trial 18 with value: 0.72618254497002.\n",
      "[I 2024-06-08 00:23:40,297] Trial 173 finished with value: 0.7241838774150566 and parameters: {'penalty': 'l1', 'C': 0.07429284993668595, 'max_iter': 533, 'solver': 'saga'}. Best is trial 18 with value: 0.72618254497002.\n",
      "[I 2024-06-08 00:23:40,328] Trial 174 finished with value: 0.723850766155896 and parameters: {'penalty': 'l1', 'C': 0.07836818939004365, 'max_iter': 498, 'solver': 'liblinear'}. Best is trial 18 with value: 0.72618254497002.\n",
      "[I 2024-06-08 00:23:40,364] Trial 175 finished with value: 0.7251832111925383 and parameters: {'penalty': 'l1', 'C': 4.732574177511548, 'max_iter': 518, 'solver': 'liblinear'}. Best is trial 18 with value: 0.72618254497002.\n",
      "[I 2024-06-08 00:23:40,467] Trial 176 finished with value: 0.7248500999333778 and parameters: {'penalty': 'l1', 'C': 0.6613252201817359, 'max_iter': 151, 'solver': 'saga'}. Best is trial 18 with value: 0.72618254497002.\n",
      "[I 2024-06-08 00:23:40,579] Trial 177 finished with value: 0.7098600932711525 and parameters: {'penalty': 'l1', 'C': 0.010196202087229395, 'max_iter': 849, 'solver': 'saga'}. Best is trial 18 with value: 0.72618254497002.\n",
      "[I 2024-06-08 00:23:40,781] Trial 178 finished with value: 0.7251832111925383 and parameters: {'penalty': 'l1', 'C': 9.439981254820681, 'max_iter': 136, 'solver': 'saga'}. Best is trial 18 with value: 0.72618254497002.\n",
      "[I 2024-06-08 00:23:40,921] Trial 179 finished with value: 0.7225183211192538 and parameters: {'penalty': 'l2', 'C': 0.01027005055530255, 'max_iter': 263, 'solver': 'saga'}. Best is trial 18 with value: 0.72618254497002.\n",
      "[I 2024-06-08 00:23:41,058] Trial 180 finished with value: 0.7248500999333778 and parameters: {'penalty': 'l2', 'C': 0.192968015205417, 'max_iter': 960, 'solver': 'saga'}. Best is trial 18 with value: 0.72618254497002.\n",
      "[I 2024-06-08 00:23:41,186] Trial 181 finished with value: 0.7251832111925383 and parameters: {'penalty': 'l1', 'C': 6.612363362982121, 'max_iter': 621, 'solver': 'saga'}. Best is trial 18 with value: 0.72618254497002.\n",
      "[I 2024-06-08 00:23:41,273] Trial 182 finished with value: 0.7248500999333778 and parameters: {'penalty': 'l2', 'C': 0.017193210605788788, 'max_iter': 184, 'solver': 'liblinear'}. Best is trial 18 with value: 0.72618254497002.\n",
      "[I 2024-06-08 00:23:41,448] Trial 183 finished with value: 0.7248500999333778 and parameters: {'penalty': 'l1', 'C': 1.9592487877054943, 'max_iter': 365, 'solver': 'saga'}. Best is trial 18 with value: 0.72618254497002.\n",
      "[I 2024-06-08 00:23:41,582] Trial 184 finished with value: 0.7235176548967355 and parameters: {'penalty': 'l2', 'C': 0.08376188024813663, 'max_iter': 197, 'solver': 'saga'}. Best is trial 18 with value: 0.72618254497002.\n",
      "[I 2024-06-08 00:23:41,653] Trial 185 finished with value: 0.7228514323784144 and parameters: {'penalty': 'l2', 'C': 0.013313456146033015, 'max_iter': 964, 'solver': 'liblinear'}. Best is trial 18 with value: 0.72618254497002.\n",
      "[I 2024-06-08 00:23:41,730] Trial 186 finished with value: 0.7221852098600933 and parameters: {'penalty': 'l2', 'C': 0.035315836587124984, 'max_iter': 394, 'solver': 'liblinear'}. Best is trial 18 with value: 0.72618254497002.\n",
      "[I 2024-06-08 00:23:41,843] Trial 187 finished with value: 0.7258494337108594 and parameters: {'penalty': 'l2', 'C': 2.128916894622956, 'max_iter': 641, 'solver': 'saga'}. Best is trial 18 with value: 0.72618254497002.\n",
      "[I 2024-06-08 00:23:41,937] Trial 188 finished with value: 0.7251832111925383 and parameters: {'penalty': 'l2', 'C': 3.0914502736264127, 'max_iter': 524, 'solver': 'saga'}. Best is trial 18 with value: 0.72618254497002.\n",
      "[I 2024-06-08 00:23:41,972] Trial 189 finished with value: 0.7251832111925383 and parameters: {'penalty': 'l1', 'C': 4.67636319903576, 'max_iter': 280, 'solver': 'liblinear'}. Best is trial 18 with value: 0.72618254497002.\n",
      "[I 2024-06-08 00:23:42,010] Trial 190 finished with value: 0.7245169886742172 and parameters: {'penalty': 'l1', 'C': 1.4521410708874114, 'max_iter': 433, 'solver': 'liblinear'}. Best is trial 18 with value: 0.72618254497002.\n",
      "[I 2024-06-08 00:23:42,082] Trial 191 finished with value: 0.7255163224516988 and parameters: {'penalty': 'l2', 'C': 0.264376854239444, 'max_iter': 973, 'solver': 'liblinear'}. Best is trial 18 with value: 0.72618254497002.\n",
      "[I 2024-06-08 00:23:42,203] Trial 192 finished with value: 0.7225183211192538 and parameters: {'penalty': 'l1', 'C': 0.034468490615851, 'max_iter': 725, 'solver': 'saga'}. Best is trial 18 with value: 0.72618254497002.\n",
      "[I 2024-06-08 00:23:42,269] Trial 193 finished with value: 0.7255163224516988 and parameters: {'penalty': 'l2', 'C': 0.5196208822194063, 'max_iter': 430, 'solver': 'liblinear'}. Best is trial 18 with value: 0.72618254497002.\n",
      "[I 2024-06-08 00:23:42,318] Trial 194 finished with value: 0.7248500999333778 and parameters: {'penalty': 'l2', 'C': 0.020271523756867773, 'max_iter': 557, 'solver': 'liblinear'}. Best is trial 18 with value: 0.72618254497002.\n",
      "[I 2024-06-08 00:23:42,402] Trial 195 finished with value: 0.7245169886742172 and parameters: {'penalty': 'l2', 'C': 0.0744301669502829, 'max_iter': 682, 'solver': 'saga'}. Best is trial 18 with value: 0.72618254497002.\n",
      "[I 2024-06-08 00:23:42,480] Trial 196 finished with value: 0.7255163224516988 and parameters: {'penalty': 'l2', 'C': 0.3889777862508648, 'max_iter': 228, 'solver': 'saga'}. Best is trial 18 with value: 0.72618254497002.\n",
      "[I 2024-06-08 00:23:42,535] Trial 197 finished with value: 0.7241838774150566 and parameters: {'penalty': 'l2', 'C': 0.12914771572057868, 'max_iter': 937, 'solver': 'liblinear'}. Best is trial 18 with value: 0.72618254497002.\n",
      "[I 2024-06-08 00:23:42,563] Trial 198 finished with value: 0.7251832111925383 and parameters: {'penalty': 'l1', 'C': 4.246499925677047, 'max_iter': 273, 'solver': 'liblinear'}. Best is trial 18 with value: 0.72618254497002.\n",
      "[I 2024-06-08 00:23:42,600] Trial 199 finished with value: 0.7228514323784144 and parameters: {'penalty': 'l1', 'C': 0.04682391430633818, 'max_iter': 547, 'solver': 'liblinear'}. Best is trial 18 with value: 0.72618254497002.\n"
     ]
    },
    {
     "name": "stdout",
     "output_type": "stream",
     "text": [
      "Best Hyperparameters: {'penalty': 'l2', 'C': 0.6556855070061354, 'max_iter': 968, 'solver': 'liblinear'}\n",
      "Best Accuracy: 0.72618254497002\n"
     ]
    }
   ],
   "source": [
    "# Create a study object and optimize the objective function\n",
    "study = optuna.create_study(direction='maximize', sampler=optuna.samplers.RandomSampler(seed=seed))\n",
    "study.optimize(objective, n_trials=200)\n",
    "\n",
    "# Get the best hyperparameters and accuracy score\n",
    "best_params = study.best_params\n",
    "best_accuracy = study.best_value\n",
    "\n",
    "print(\"Best Hyperparameters:\", best_params)\n",
    "print(\"Best Accuracy:\", best_accuracy)"
   ]
  },
  {
   "cell_type": "code",
   "execution_count": 25,
   "metadata": {},
   "outputs": [
    {
     "data": {
      "text/html": [
       "<div>\n",
       "<style scoped>\n",
       "    .dataframe tbody tr th:only-of-type {\n",
       "        vertical-align: middle;\n",
       "    }\n",
       "\n",
       "    .dataframe tbody tr th {\n",
       "        vertical-align: top;\n",
       "    }\n",
       "\n",
       "    .dataframe thead th {\n",
       "        text-align: right;\n",
       "    }\n",
       "</style>\n",
       "<table border=\"1\" class=\"dataframe\">\n",
       "  <thead>\n",
       "    <tr style=\"text-align: right;\">\n",
       "      <th></th>\n",
       "      <th>number</th>\n",
       "      <th>value</th>\n",
       "      <th>datetime_start</th>\n",
       "      <th>datetime_complete</th>\n",
       "      <th>duration</th>\n",
       "      <th>params_C</th>\n",
       "      <th>params_max_iter</th>\n",
       "      <th>params_penalty</th>\n",
       "      <th>params_solver</th>\n",
       "      <th>state</th>\n",
       "    </tr>\n",
       "  </thead>\n",
       "  <tbody>\n",
       "    <tr>\n",
       "      <th>18</th>\n",
       "      <td>18</td>\n",
       "      <td>0.726183</td>\n",
       "      <td>2024-06-08 00:23:29.498872</td>\n",
       "      <td>2024-06-08 00:23:29.561941</td>\n",
       "      <td>0 days 00:00:00.063069</td>\n",
       "      <td>0.655686</td>\n",
       "      <td>968</td>\n",
       "      <td>l2</td>\n",
       "      <td>liblinear</td>\n",
       "      <td>COMPLETE</td>\n",
       "    </tr>\n",
       "    <tr>\n",
       "      <th>153</th>\n",
       "      <td>153</td>\n",
       "      <td>0.726183</td>\n",
       "      <td>2024-06-08 00:23:38.165616</td>\n",
       "      <td>2024-06-08 00:23:38.274627</td>\n",
       "      <td>0 days 00:00:00.109011</td>\n",
       "      <td>1.465852</td>\n",
       "      <td>699</td>\n",
       "      <td>l2</td>\n",
       "      <td>liblinear</td>\n",
       "      <td>COMPLETE</td>\n",
       "    </tr>\n",
       "    <tr>\n",
       "      <th>49</th>\n",
       "      <td>49</td>\n",
       "      <td>0.726183</td>\n",
       "      <td>2024-06-08 00:23:31.535738</td>\n",
       "      <td>2024-06-08 00:23:31.598736</td>\n",
       "      <td>0 days 00:00:00.062998</td>\n",
       "      <td>1.407482</td>\n",
       "      <td>848</td>\n",
       "      <td>l2</td>\n",
       "      <td>saga</td>\n",
       "      <td>COMPLETE</td>\n",
       "    </tr>\n",
       "    <tr>\n",
       "      <th>31</th>\n",
       "      <td>31</td>\n",
       "      <td>0.726183</td>\n",
       "      <td>2024-06-08 00:23:30.402739</td>\n",
       "      <td>2024-06-08 00:23:30.466774</td>\n",
       "      <td>0 days 00:00:00.064035</td>\n",
       "      <td>0.653523</td>\n",
       "      <td>295</td>\n",
       "      <td>l2</td>\n",
       "      <td>saga</td>\n",
       "      <td>COMPLETE</td>\n",
       "    </tr>\n",
       "    <tr>\n",
       "      <th>0</th>\n",
       "      <td>0</td>\n",
       "      <td>0.725849</td>\n",
       "      <td>2024-06-08 00:23:28.478742</td>\n",
       "      <td>2024-06-08 00:23:28.563764</td>\n",
       "      <td>0 days 00:00:00.085022</td>\n",
       "      <td>1.978697</td>\n",
       "      <td>354</td>\n",
       "      <td>l2</td>\n",
       "      <td>saga</td>\n",
       "      <td>COMPLETE</td>\n",
       "    </tr>\n",
       "    <tr>\n",
       "      <th>187</th>\n",
       "      <td>187</td>\n",
       "      <td>0.725849</td>\n",
       "      <td>2024-06-08 00:23:41.731653</td>\n",
       "      <td>2024-06-08 00:23:41.843650</td>\n",
       "      <td>0 days 00:00:00.111997</td>\n",
       "      <td>2.128917</td>\n",
       "      <td>641</td>\n",
       "      <td>l2</td>\n",
       "      <td>saga</td>\n",
       "      <td>COMPLETE</td>\n",
       "    </tr>\n",
       "    <tr>\n",
       "      <th>162</th>\n",
       "      <td>162</td>\n",
       "      <td>0.725849</td>\n",
       "      <td>2024-06-08 00:23:38.982621</td>\n",
       "      <td>2024-06-08 00:23:39.123583</td>\n",
       "      <td>0 days 00:00:00.140962</td>\n",
       "      <td>2.371988</td>\n",
       "      <td>817</td>\n",
       "      <td>l2</td>\n",
       "      <td>saga</td>\n",
       "      <td>COMPLETE</td>\n",
       "    </tr>\n",
       "    <tr>\n",
       "      <th>155</th>\n",
       "      <td>155</td>\n",
       "      <td>0.725849</td>\n",
       "      <td>2024-06-08 00:23:38.334602</td>\n",
       "      <td>2024-06-08 00:23:38.495612</td>\n",
       "      <td>0 days 00:00:00.161010</td>\n",
       "      <td>2.130955</td>\n",
       "      <td>515</td>\n",
       "      <td>l2</td>\n",
       "      <td>saga</td>\n",
       "      <td>COMPLETE</td>\n",
       "    </tr>\n",
       "    <tr>\n",
       "      <th>144</th>\n",
       "      <td>144</td>\n",
       "      <td>0.725849</td>\n",
       "      <td>2024-06-08 00:23:37.336138</td>\n",
       "      <td>2024-06-08 00:23:37.407750</td>\n",
       "      <td>0 days 00:00:00.071612</td>\n",
       "      <td>0.558100</td>\n",
       "      <td>987</td>\n",
       "      <td>l2</td>\n",
       "      <td>saga</td>\n",
       "      <td>COMPLETE</td>\n",
       "    </tr>\n",
       "    <tr>\n",
       "      <th>134</th>\n",
       "      <td>134</td>\n",
       "      <td>0.725849</td>\n",
       "      <td>2024-06-08 00:23:36.244145</td>\n",
       "      <td>2024-06-08 00:23:36.296150</td>\n",
       "      <td>0 days 00:00:00.052005</td>\n",
       "      <td>0.562679</td>\n",
       "      <td>217</td>\n",
       "      <td>l2</td>\n",
       "      <td>liblinear</td>\n",
       "      <td>COMPLETE</td>\n",
       "    </tr>\n",
       "  </tbody>\n",
       "</table>\n",
       "</div>"
      ],
      "text/plain": [
       "     number     value             datetime_start          datetime_complete  \\\n",
       "18       18  0.726183 2024-06-08 00:23:29.498872 2024-06-08 00:23:29.561941   \n",
       "153     153  0.726183 2024-06-08 00:23:38.165616 2024-06-08 00:23:38.274627   \n",
       "49       49  0.726183 2024-06-08 00:23:31.535738 2024-06-08 00:23:31.598736   \n",
       "31       31  0.726183 2024-06-08 00:23:30.402739 2024-06-08 00:23:30.466774   \n",
       "0         0  0.725849 2024-06-08 00:23:28.478742 2024-06-08 00:23:28.563764   \n",
       "187     187  0.725849 2024-06-08 00:23:41.731653 2024-06-08 00:23:41.843650   \n",
       "162     162  0.725849 2024-06-08 00:23:38.982621 2024-06-08 00:23:39.123583   \n",
       "155     155  0.725849 2024-06-08 00:23:38.334602 2024-06-08 00:23:38.495612   \n",
       "144     144  0.725849 2024-06-08 00:23:37.336138 2024-06-08 00:23:37.407750   \n",
       "134     134  0.725849 2024-06-08 00:23:36.244145 2024-06-08 00:23:36.296150   \n",
       "\n",
       "                  duration  params_C  params_max_iter params_penalty  \\\n",
       "18  0 days 00:00:00.063069  0.655686              968             l2   \n",
       "153 0 days 00:00:00.109011  1.465852              699             l2   \n",
       "49  0 days 00:00:00.062998  1.407482              848             l2   \n",
       "31  0 days 00:00:00.064035  0.653523              295             l2   \n",
       "0   0 days 00:00:00.085022  1.978697              354             l2   \n",
       "187 0 days 00:00:00.111997  2.128917              641             l2   \n",
       "162 0 days 00:00:00.140962  2.371988              817             l2   \n",
       "155 0 days 00:00:00.161010  2.130955              515             l2   \n",
       "144 0 days 00:00:00.071612  0.558100              987             l2   \n",
       "134 0 days 00:00:00.052005  0.562679              217             l2   \n",
       "\n",
       "    params_solver     state  \n",
       "18      liblinear  COMPLETE  \n",
       "153     liblinear  COMPLETE  \n",
       "49           saga  COMPLETE  \n",
       "31           saga  COMPLETE  \n",
       "0            saga  COMPLETE  \n",
       "187          saga  COMPLETE  \n",
       "162          saga  COMPLETE  \n",
       "155          saga  COMPLETE  \n",
       "144          saga  COMPLETE  \n",
       "134     liblinear  COMPLETE  "
      ]
     },
     "execution_count": 25,
     "metadata": {},
     "output_type": "execute_result"
    }
   ],
   "source": [
    "# Get best trials\n",
    "trials_OTP1 = study.trials_dataframe()\n",
    "# Sort the dataframe by value (accuracy) in descending order\n",
    "top_trials_OTP1 = trials_OTP1.sort_values(by='value', ascending=False).head(10)\n",
    "top_trials_OTP1"
   ]
  },
  {
   "cell_type": "code",
   "execution_count": 26,
   "metadata": {},
   "outputs": [
    {
     "name": "stdout",
     "output_type": "stream",
     "text": [
      "Metrics for LR_OPT1_best:\n",
      "Accuracy: 0.7262\n",
      "Weighted F1: 0.7256\n",
      "Weighted Precision: 0.7265\n",
      "Weighted Recall: 0.7262\n",
      "Macro-Averaged Precision: 0.7267\n",
      "Macro-Averaged Recall: 0.7246\n",
      "F1: [0.74392523 0.70579814]\n",
      "Precision: [0.72188634 0.73145401]\n",
      "classification report\n",
      "              precision    recall  f1-score   support\n",
      "\n",
      "     Class 0       0.72      0.77      0.74      1556\n",
      "     Class 1       0.73      0.68      0.71      1446\n",
      "\n",
      "    accuracy                           0.73      3002\n",
      "   macro avg       0.73      0.72      0.72      3002\n",
      "weighted avg       0.73      0.73      0.73      3002\n",
      "\n",
      "Confusion Matrix\n"
     ]
    },
    {
     "data": {
      "image/png": "[encoded data removed]",
      "text/plain": [
       "<Figure size 432x288 with 2 Axes>"
      ]
     },
     "metadata": {
      "needs_background": "light"
     },
     "output_type": "display_data"
    }
   ],
   "source": [
    "best_trial = study.best_trial\n",
    "best_model = LogisticRegression(**best_trial.params, random_state=seed)\n",
    "best_model.fit(X_train, y_train)\n",
    "\n",
    "predictions_opt1 = best_model.predict(X_test)\n",
    "model_metrics = pd.concat([model_metrics, calculate_metrics('LR_OPT1_best', y_test, predictions_opt1)])"
   ]
  },
  {
   "cell_type": "code",
   "execution_count": 27,
   "metadata": {},
   "outputs": [
    {
     "data": {
      "text/plain": [
       "{'penalty': 'l2',\n",
       " 'C': 0.6556855070061354,\n",
       " 'max_iter': 968,\n",
       " 'solver': 'liblinear'}"
      ]
     },
     "execution_count": 27,
     "metadata": {},
     "output_type": "execute_result"
    }
   ],
   "source": [
    "study.best_params"
   ]
  },
  {
   "cell_type": "code",
   "execution_count": 28,
   "metadata": {},
   "outputs": [
    {
     "data": {
      "application/vnd.plotly.v1+json": {
       "config": {
        "plotlyServerURL": "https://plot.ly"
       },
       "data": [
        {
         "mode": "markers",
         "name": "Objective Value",
         "type": "scatter",
         "x": [
          0,
          1,
          2,
          3,
          4,
          5,
          6,
          7,
          8,
          9,
          10,
          11,
          12,
          13,
          14,
          15,
          16,
          17,
          18,
          19,
          20,
          21,
          22,
          23,
          24,
          25,
          26,
          27,
          28,
          29,
          30,
          31,
          32,
          33,
          34,
          35,
          36,
          37,
          38,
          39,
          40,
          41,
          42,
          43,
          44,
          45,
          46,
          47,
          48,
          49,
          50,
          51,
          52,
          53,
          54,
          55,
          56,
          57,
          58,
          59,
          60,
          61,
          62,
          63,
          64,
          65,
          66,
          67,
          68,
          69,
          70,
          71,
          72,
          73,
          74,
          75,
          76,
          77,
          78,
          79,
          80,
          81,
          82,
          83,
          84,
          85,
          86,
          87,
          88,
          89,
          90,
          91,
          92,
          93,
          94,
          95,
          96,
          97,
          98,
          99,
          100,
          101,
          102,
          103,
          104,
          105,
          106,
          107,
          108,
          109,
          110,
          111,
          112,
          113,
          114,
          115,
          116,
          117,
          118,
          119,
          120,
          121,
          122,
          123,
          124,
          125,
          126,
          127,
          128,
          129,
          130,
          131,
          132,
          133,
          134,
          135,
          136,
          137,
          138,
          139,
          140,
          141,
          142,
          143,
          144,
          145,
          146,
          147,
          148,
          149,
          150,
          151,
          152,
          153,
          154,
          155,
          156,
          157,
          158,
          159,
          160,
          161,
          162,
          163,
          164,
          165,
          166,
          167,
          168,
          169,
          170,
          171,
          172,
          173,
          174,
          175,
          176,
          177,
          178,
          179,
          180,
          181,
          182,
          183,
          184,
          185,
          186,
          187,
          188,
          189,
          190,
          191,
          192,
          193,
          194,
          195,
          196,
          197,
          198,
          199
         ],
         "y": [
          0.7258494337108594,
          0.7255163224516988,
          0.7245169886742172,
          0.7251832111925383,
          0.7241838774150566,
          0.7215189873417721,
          0.7211858760826116,
          0.7231845436375749,
          0.7251832111925383,
          0.7248500999333778,
          0.7251832111925383,
          0.7251832111925383,
          0.7211858760826116,
          0.7258494337108594,
          0.7241838774150566,
          0.7201865423051299,
          0.7251832111925383,
          0.7221852098600933,
          0.72618254497002,
          0.7248500999333778,
          0.7251832111925383,
          0.723850766155896,
          0.7255163224516988,
          0.7231845436375749,
          0.7225183211192538,
          0.7251832111925383,
          0.7255163224516988,
          0.7218520986009327,
          0.7175216522318454,
          0.7255163224516988,
          0.7248500999333778,
          0.72618254497002,
          0.7248500999333778,
          0.7201865423051299,
          0.7235176548967355,
          0.7215189873417721,
          0.7248500999333778,
          0.7251832111925383,
          0.7251832111925383,
          0.7228514323784144,
          0.7255163224516988,
          0.7251832111925383,
          0.7255163224516988,
          0.7221852098600933,
          0.7255163224516988,
          0.7251832111925383,
          0.7251832111925383,
          0.7251832111925383,
          0.7251832111925383,
          0.72618254497002,
          0.7211858760826116,
          0.7135243171219188,
          0.7211858760826116,
          0.7251832111925383,
          0.7241838774150566,
          0.7171885409726849,
          0.7171885409726849,
          0.7215189873417721,
          0.7251832111925383,
          0.7235176548967355,
          0.7251832111925383,
          0.7225183211192538,
          0.7255163224516988,
          0.7248500999333778,
          0.7241838774150566,
          0.7245169886742172,
          0.7248500999333778,
          0.7255163224516988,
          0.7251832111925383,
          0.7215189873417721,
          0.7251832111925383,
          0.7251832111925383,
          0.7115256495669554,
          0.7251832111925383,
          0.723850766155896,
          0.7258494337108594,
          0.7211858760826116,
          0.7245169886742172,
          0.7228514323784144,
          0.7241838774150566,
          0.7258494337108594,
          0.7251832111925383,
          0.7258494337108594,
          0.7251832111925383,
          0.7235176548967355,
          0.7208527648234511,
          0.7241838774150566,
          0.7138574283810792,
          0.7258494337108594,
          0.7251832111925383,
          0.7251832111925383,
          0.7221852098600933,
          0.7251832111925383,
          0.7251832111925383,
          0.7228514323784144,
          0.7251832111925383,
          0.7251832111925383,
          0.7248500999333778,
          0.7251832111925383,
          0.7248500999333778,
          0.7258494337108594,
          0.7071952031978681,
          0.7251832111925383,
          0.7255163224516988,
          0.7248500999333778,
          0.7248500999333778,
          0.7228514323784144,
          0.7251832111925383,
          0.7225183211192538,
          0.7228514323784144,
          0.7208527648234511,
          0.723850766155896,
          0.7251832111925383,
          0.723850766155896,
          0.7251832111925383,
          0.7255163224516988,
          0.7241838774150566,
          0.7241838774150566,
          0.7251832111925383,
          0.7225183211192538,
          0.7258494337108594,
          0.7251832111925383,
          0.7255163224516988,
          0.7195203197868087,
          0.7241838774150566,
          0.7228514323784144,
          0.7255163224516988,
          0.7235176548967355,
          0.7255163224516988,
          0.7235176548967355,
          0.7245169886742172,
          0.723850766155896,
          0.7258494337108594,
          0.7231845436375749,
          0.7258494337108594,
          0.7251832111925383,
          0.714856762158561,
          0.7245169886742172,
          0.7255163224516988,
          0.7248500999333778,
          0.7251832111925383,
          0.7251832111925383,
          0.7251832111925383,
          0.7251832111925383,
          0.7258494337108594,
          0.7191872085276483,
          0.7251832111925383,
          0.7255163224516988,
          0.7251832111925383,
          0.7241838774150566,
          0.7248500999333778,
          0.7231845436375749,
          0.7251832111925383,
          0.72618254497002,
          0.7251832111925383,
          0.7258494337108594,
          0.7248500999333778,
          0.7251832111925383,
          0.7245169886742172,
          0.7251832111925383,
          0.7248500999333778,
          0.7248500999333778,
          0.7258494337108594,
          0.7235176548967355,
          0.723850766155896,
          0.7241838774150566,
          0.7245169886742172,
          0.7251832111925383,
          0.7255163224516988,
          0.723850766155896,
          0.7241838774150566,
          0.7241838774150566,
          0.7221852098600933,
          0.7241838774150566,
          0.723850766155896,
          0.7251832111925383,
          0.7248500999333778,
          0.7098600932711525,
          0.7251832111925383,
          0.7225183211192538,
          0.7248500999333778,
          0.7251832111925383,
          0.7248500999333778,
          0.7248500999333778,
          0.7235176548967355,
          0.7228514323784144,
          0.7221852098600933,
          0.7258494337108594,
          0.7251832111925383,
          0.7251832111925383,
          0.7245169886742172,
          0.7255163224516988,
          0.7225183211192538,
          0.7255163224516988,
          0.7248500999333778,
          0.7245169886742172,
          0.7255163224516988,
          0.7241838774150566,
          0.7251832111925383,
          0.7228514323784144
         ]
        },
        {
         "mode": "lines",
         "name": "Best Value",
         "type": "scatter",
         "x": [
          0,
          1,
          2,
          3,
          4,
          5,
          6,
          7,
          8,
          9,
          10,
          11,
          12,
          13,
          14,
          15,
          16,
          17,
          18,
          19,
          20,
          21,
          22,
          23,
          24,
          25,
          26,
          27,
          28,
          29,
          30,
          31,
          32,
          33,
          34,
          35,
          36,
          37,
          38,
          39,
          40,
          41,
          42,
          43,
          44,
          45,
          46,
          47,
          48,
          49,
          50,
          51,
          52,
          53,
          54,
          55,
          56,
          57,
          58,
          59,
          60,
          61,
          62,
          63,
          64,
          65,
          66,
          67,
          68,
          69,
          70,
          71,
          72,
          73,
          74,
          75,
          76,
          77,
          78,
          79,
          80,
          81,
          82,
          83,
          84,
          85,
          86,
          87,
          88,
          89,
          90,
          91,
          92,
          93,
          94,
          95,
          96,
          97,
          98,
          99,
          100,
          101,
          102,
          103,
          104,
          105,
          106,
          107,
          108,
          109,
          110,
          111,
          112,
          113,
          114,
          115,
          116,
          117,
          118,
          119,
          120,
          121,
          122,
          123,
          124,
          125,
          126,
          127,
          128,
          129,
          130,
          131,
          132,
          133,
          134,
          135,
          136,
          137,
          138,
          139,
          140,
          141,
          142,
          143,
          144,
          145,
          146,
          147,
          148,
          149,
          150,
          151,
          152,
          153,
          154,
          155,
          156,
          157,
          158,
          159,
          160,
          161,
          162,
          163,
          164,
          165,
          166,
          167,
          168,
          169,
          170,
          171,
          172,
          173,
          174,
          175,
          176,
          177,
          178,
          179,
          180,
          181,
          182,
          183,
          184,
          185,
          186,
          187,
          188,
          189,
          190,
          191,
          192,
          193,
          194,
          195,
          196,
          197,
          198,
          199
         ],
         "y": [
          0.7258494337108594,
          0.7258494337108594,
          0.7258494337108594,
          0.7258494337108594,
          0.7258494337108594,
          0.7258494337108594,
          0.7258494337108594,
          0.7258494337108594,
          0.7258494337108594,
          0.7258494337108594,
          0.7258494337108594,
          0.7258494337108594,
          0.7258494337108594,
          0.7258494337108594,
          0.7258494337108594,
          0.7258494337108594,
          0.7258494337108594,
          0.7258494337108594,
          0.72618254497002,
          0.72618254497002,
          0.72618254497002,
          0.72618254497002,
          0.72618254497002,
          0.72618254497002,
          0.72618254497002,
          0.72618254497002,
          0.72618254497002,
          0.72618254497002,
          0.72618254497002,
          0.72618254497002,
          0.72618254497002,
          0.72618254497002,
          0.72618254497002,
          0.72618254497002,
          0.72618254497002,
          0.72618254497002,
          0.72618254497002,
          0.72618254497002,
          0.72618254497002,
          0.72618254497002,
          0.72618254497002,
          0.72618254497002,
          0.72618254497002,
          0.72618254497002,
          0.72618254497002,
          0.72618254497002,
          0.72618254497002,
          0.72618254497002,
          0.72618254497002,
          0.72618254497002,
          0.72618254497002,
          0.72618254497002,
          0.72618254497002,
          0.72618254497002,
          0.72618254497002,
          0.72618254497002,
          0.72618254497002,
          0.72618254497002,
          0.72618254497002,
          0.72618254497002,
          0.72618254497002,
          0.72618254497002,
          0.72618254497002,
          0.72618254497002,
          0.72618254497002,
          0.72618254497002,
          0.72618254497002,
          0.72618254497002,
          0.72618254497002,
          0.72618254497002,
          0.72618254497002,
          0.72618254497002,
          0.72618254497002,
          0.72618254497002,
          0.72618254497002,
          0.72618254497002,
          0.72618254497002,
          0.72618254497002,
          0.72618254497002,
          0.72618254497002,
          0.72618254497002,
          0.72618254497002,
          0.72618254497002,
          0.72618254497002,
          0.72618254497002,
          0.72618254497002,
          0.72618254497002,
          0.72618254497002,
          0.72618254497002,
          0.72618254497002,
          0.72618254497002,
          0.72618254497002,
          0.72618254497002,
          0.72618254497002,
          0.72618254497002,
          0.72618254497002,
          0.72618254497002,
          0.72618254497002,
          0.72618254497002,
          0.72618254497002,
          0.72618254497002,
          0.72618254497002,
          0.72618254497002,
          0.72618254497002,
          0.72618254497002,
          0.72618254497002,
          0.72618254497002,
          0.72618254497002,
          0.72618254497002,
          0.72618254497002,
          0.72618254497002,
          0.72618254497002,
          0.72618254497002,
          0.72618254497002,
          0.72618254497002,
          0.72618254497002,
          0.72618254497002,
          0.72618254497002,
          0.72618254497002,
          0.72618254497002,
          0.72618254497002,
          0.72618254497002,
          0.72618254497002,
          0.72618254497002,
          0.72618254497002,
          0.72618254497002,
          0.72618254497002,
          0.72618254497002,
          0.72618254497002,
          0.72618254497002,
          0.72618254497002,
          0.72618254497002,
          0.72618254497002,
          0.72618254497002,
          0.72618254497002,
          0.72618254497002,
          0.72618254497002,
          0.72618254497002,
          0.72618254497002,
          0.72618254497002,
          0.72618254497002,
          0.72618254497002,
          0.72618254497002,
          0.72618254497002,
          0.72618254497002,
          0.72618254497002,
          0.72618254497002,
          0.72618254497002,
          0.72618254497002,
          0.72618254497002,
          0.72618254497002,
          0.72618254497002,
          0.72618254497002,
          0.72618254497002,
          0.72618254497002,
          0.72618254497002,
          0.72618254497002,
          0.72618254497002,
          0.72618254497002,
          0.72618254497002,
          0.72618254497002,
          0.72618254497002,
          0.72618254497002,
          0.72618254497002,
          0.72618254497002,
          0.72618254497002,
          0.72618254497002,
          0.72618254497002,
          0.72618254497002,
          0.72618254497002,
          0.72618254497002,
          0.72618254497002,
          0.72618254497002,
          0.72618254497002,
          0.72618254497002,
          0.72618254497002,
          0.72618254497002,
          0.72618254497002,
          0.72618254497002,
          0.72618254497002,
          0.72618254497002,
          0.72618254497002,
          0.72618254497002,
          0.72618254497002,
          0.72618254497002,
          0.72618254497002,
          0.72618254497002,
          0.72618254497002,
          0.72618254497002,
          0.72618254497002,
          0.72618254497002,
          0.72618254497002,
          0.72618254497002,
          0.72618254497002,
          0.72618254497002,
          0.72618254497002,
          0.72618254497002,
          0.72618254497002,
          0.72618254497002,
          0.72618254497002
         ]
        },
        {
         "marker": {
          "color": "#cccccc"
         },
         "mode": "markers",
         "name": "Infeasible Trial",
         "showlegend": false,
         "type": "scatter",
         "x": [],
         "y": []
        }
       ],
       "layout": {
        "template": {
         "data": {
          "bar": [
           {
            "error_x": {
             "color": "#2a3f5f"
            },
            "error_y": {
             "color": "#2a3f5f"
            },
            "marker": {
             "line": {
              "color": "#E5ECF6",
              "width": 0.5
             },
             "pattern": {
              "fillmode": "overlay",
              "size": 10,
              "solidity": 0.2
             }
            },
            "type": "bar"
           }
          ],
          "barpolar": [
           {
            "marker": {
             "line": {
              "color": "#E5ECF6",
              "width": 0.5
             },
             "pattern": {
              "fillmode": "overlay",
              "size": 10,
              "solidity": 0.2
             }
            },
            "type": "barpolar"
           }
          ],
          "carpet": [
           {
            "aaxis": {
             "endlinecolor": "#2a3f5f",
             "gridcolor": "white",
             "linecolor": "white",
             "minorgridcolor": "white",
             "startlinecolor": "#2a3f5f"
            },
            "baxis": {
             "endlinecolor": "#2a3f5f",
             "gridcolor": "white",
             "linecolor": "white",
             "minorgridcolor": "white",
             "startlinecolor": "#2a3f5f"
            },
            "type": "carpet"
           }
          ],
          "choropleth": [
           {
            "colorbar": {
             "outlinewidth": 0,
             "ticks": ""
            },
            "type": "choropleth"
           }
          ],
          "contour": [
           {
            "colorbar": {
             "outlinewidth": 0,
             "ticks": ""
            },
            "colorscale": [
             [
              0,
              "#0d0887"
             ],
             [
              0.1111111111111111,
              "#46039f"
             ],
             [
              0.2222222222222222,
              "#7201a8"
             ],
             [
              0.3333333333333333,
              "#9c179e"
             ],
             [
              0.4444444444444444,
              "#bd3786"
             ],
             [
              0.5555555555555556,
              "#d8576b"
             ],
             [
              0.6666666666666666,
              "#ed7953"
             ],
             [
              0.7777777777777778,
              "#fb9f3a"
             ],
             [
              0.8888888888888888,
              "#fdca26"
             ],
             [
              1,
              "#f0f921"
             ]
            ],
            "type": "contour"
           }
          ],
          "contourcarpet": [
           {
            "colorbar": {
             "outlinewidth": 0,
             "ticks": ""
            },
            "type": "contourcarpet"
           }
          ],
          "heatmap": [
           {
            "colorbar": {
             "outlinewidth": 0,
             "ticks": ""
            },
            "colorscale": [
             [
              0,
              "#0d0887"
             ],
             [
              0.1111111111111111,
              "#46039f"
             ],
             [
              0.2222222222222222,
              "#7201a8"
             ],
             [
              0.3333333333333333,
              "#9c179e"
             ],
             [
              0.4444444444444444,
              "#bd3786"
             ],
             [
              0.5555555555555556,
              "#d8576b"
             ],
             [
              0.6666666666666666,
              "#ed7953"
             ],
             [
              0.7777777777777778,
              "#fb9f3a"
             ],
             [
              0.8888888888888888,
              "#fdca26"
             ],
             [
              1,
              "#f0f921"
             ]
            ],
            "type": "heatmap"
           }
          ],
          "heatmapgl": [
           {
            "colorbar": {
             "outlinewidth": 0,
             "ticks": ""
            },
            "colorscale": [
             [
              0,
              "#0d0887"
             ],
             [
              0.1111111111111111,
              "#46039f"
             ],
             [
              0.2222222222222222,
              "#7201a8"
             ],
             [
              0.3333333333333333,
              "#9c179e"
             ],
             [
              0.4444444444444444,
              "#bd3786"
             ],
             [
              0.5555555555555556,
              "#d8576b"
             ],
             [
              0.6666666666666666,
              "#ed7953"
             ],
             [
              0.7777777777777778,
              "#fb9f3a"
             ],
             [
              0.8888888888888888,
              "#fdca26"
             ],
             [
              1,
              "#f0f921"
             ]
            ],
            "type": "heatmapgl"
           }
          ],
          "histogram": [
           {
            "marker": {
             "pattern": {
              "fillmode": "overlay",
              "size": 10,
              "solidity": 0.2
             }
            },
            "type": "histogram"
           }
          ],
          "histogram2d": [
           {
            "colorbar": {
             "outlinewidth": 0,
             "ticks": ""
            },
            "colorscale": [
             [
              0,
              "#0d0887"
             ],
             [
              0.1111111111111111,
              "#46039f"
             ],
             [
              0.2222222222222222,
              "#7201a8"
             ],
             [
              0.3333333333333333,
              "#9c179e"
             ],
             [
              0.4444444444444444,
              "#bd3786"
             ],
             [
              0.5555555555555556,
              "#d8576b"
             ],
             [
              0.6666666666666666,
              "#ed7953"
             ],
             [
              0.7777777777777778,
              "#fb9f3a"
             ],
             [
              0.8888888888888888,
              "#fdca26"
             ],
             [
              1,
              "#f0f921"
             ]
            ],
            "type": "histogram2d"
           }
          ],
          "histogram2dcontour": [
           {
            "colorbar": {
             "outlinewidth": 0,
             "ticks": ""
            },
            "colorscale": [
             [
              0,
              "#0d0887"
             ],
             [
              0.1111111111111111,
              "#46039f"
             ],
             [
              0.2222222222222222,
              "#7201a8"
             ],
             [
              0.3333333333333333,
              "#9c179e"
             ],
             [
              0.4444444444444444,
              "#bd3786"
             ],
             [
              0.5555555555555556,
              "#d8576b"
             ],
             [
              0.6666666666666666,
              "#ed7953"
             ],
             [
              0.7777777777777778,
              "#fb9f3a"
             ],
             [
              0.8888888888888888,
              "#fdca26"
             ],
             [
              1,
              "#f0f921"
             ]
            ],
            "type": "histogram2dcontour"
           }
          ],
          "mesh3d": [
           {
            "colorbar": {
             "outlinewidth": 0,
             "ticks": ""
            },
            "type": "mesh3d"
           }
          ],
          "parcoords": [
           {
            "line": {
             "colorbar": {
              "outlinewidth": 0,
              "ticks": ""
             }
            },
            "type": "parcoords"
           }
          ],
          "pie": [
           {
            "automargin": true,
            "type": "pie"
           }
          ],
          "scatter": [
           {
            "fillpattern": {
             "fillmode": "overlay",
             "size": 10,
             "solidity": 0.2
            },
            "type": "scatter"
           }
          ],
          "scatter3d": [
           {
            "line": {
             "colorbar": {
              "outlinewidth": 0,
              "ticks": ""
             }
            },
            "marker": {
             "colorbar": {
              "outlinewidth": 0,
              "ticks": ""
             }
            },
            "type": "scatter3d"
           }
          ],
          "scattercarpet": [
           {
            "marker": {
             "colorbar": {
              "outlinewidth": 0,
              "ticks": ""
             }
            },
            "type": "scattercarpet"
           }
          ],
          "scattergeo": [
           {
            "marker": {
             "colorbar": {
              "outlinewidth": 0,
              "ticks": ""
             }
            },
            "type": "scattergeo"
           }
          ],
          "scattergl": [
           {
            "marker": {
             "colorbar": {
              "outlinewidth": 0,
              "ticks": ""
             }
            },
            "type": "scattergl"
           }
          ],
          "scattermapbox": [
           {
            "marker": {
             "colorbar": {
              "outlinewidth": 0,
              "ticks": ""
             }
            },
            "type": "scattermapbox"
           }
          ],
          "scatterpolar": [
           {
            "marker": {
             "colorbar": {
              "outlinewidth": 0,
              "ticks": ""
             }
            },
            "type": "scatterpolar"
           }
          ],
          "scatterpolargl": [
           {
            "marker": {
             "colorbar": {
              "outlinewidth": 0,
              "ticks": ""
             }
            },
            "type": "scatterpolargl"
           }
          ],
          "scatterternary": [
           {
            "marker": {
             "colorbar": {
              "outlinewidth": 0,
              "ticks": ""
             }
            },
            "type": "scatterternary"
           }
          ],
          "surface": [
           {
            "colorbar": {
             "outlinewidth": 0,
             "ticks": ""
            },
            "colorscale": [
             [
              0,
              "#0d0887"
             ],
             [
              0.1111111111111111,
              "#46039f"
             ],
             [
              0.2222222222222222,
              "#7201a8"
             ],
             [
              0.3333333333333333,
              "#9c179e"
             ],
             [
              0.4444444444444444,
              "#bd3786"
             ],
             [
              0.5555555555555556,
              "#d8576b"
             ],
             [
              0.6666666666666666,
              "#ed7953"
             ],
             [
              0.7777777777777778,
              "#fb9f3a"
             ],
             [
              0.8888888888888888,
              "#fdca26"
             ],
             [
              1,
              "#f0f921"
             ]
            ],
            "type": "surface"
           }
          ],
          "table": [
           {
            "cells": {
             "fill": {
              "color": "#EBF0F8"
             },
             "line": {
              "color": "white"
             }
            },
            "header": {
             "fill": {
              "color": "#C8D4E3"
             },
             "line": {
              "color": "white"
             }
            },
            "type": "table"
           }
          ]
         },
         "layout": {
          "annotationdefaults": {
           "arrowcolor": "#2a3f5f",
           "arrowhead": 0,
           "arrowwidth": 1
          },
          "autotypenumbers": "strict",
          "coloraxis": {
           "colorbar": {
            "outlinewidth": 0,
            "ticks": ""
           }
          },
          "colorscale": {
           "diverging": [
            [
             0,
             "#8e0152"
            ],
            [
             0.1,
             "#c51b7d"
            ],
            [
             0.2,
             "#de77ae"
            ],
            [
             0.3,
             "#f1b6da"
            ],
            [
             0.4,
             "#fde0ef"
            ],
            [
             0.5,
             "#f7f7f7"
            ],
            [
             0.6,
             "#e6f5d0"
            ],
            [
             0.7,
             "#b8e186"
            ],
            [
             0.8,
             "#7fbc41"
            ],
            [
             0.9,
             "#4d9221"
            ],
            [
             1,
             "#276419"
            ]
           ],
           "sequential": [
            [
             0,
             "#0d0887"
            ],
            [
             0.1111111111111111,
             "#46039f"
            ],
            [
             0.2222222222222222,
             "#7201a8"
            ],
            [
             0.3333333333333333,
             "#9c179e"
            ],
            [
             0.4444444444444444,
             "#bd3786"
            ],
            [
             0.5555555555555556,
             "#d8576b"
            ],
            [
             0.6666666666666666,
             "#ed7953"
            ],
            [
             0.7777777777777778,
             "#fb9f3a"
            ],
            [
             0.8888888888888888,
             "#fdca26"
            ],
            [
             1,
             "#f0f921"
            ]
           ],
           "sequentialminus": [
            [
             0,
             "#0d0887"
            ],
            [
             0.1111111111111111,
             "#46039f"
            ],
            [
             0.2222222222222222,
             "#7201a8"
            ],
            [
             0.3333333333333333,
             "#9c179e"
            ],
            [
             0.4444444444444444,
             "#bd3786"
            ],
            [
             0.5555555555555556,
             "#d8576b"
            ],
            [
             0.6666666666666666,
             "#ed7953"
            ],
            [
             0.7777777777777778,
             "#fb9f3a"
            ],
            [
             0.8888888888888888,
             "#fdca26"
            ],
            [
             1,
             "#f0f921"
            ]
           ]
          },
          "colorway": [
           "#636efa",
           "#EF553B",
           "#00cc96",
           "#ab63fa",
           "#FFA15A",
           "#19d3f3",
           "#FF6692",
           "#B6E880",
           "#FF97FF",
           "#FECB52"
          ],
          "font": {
           "color": "#2a3f5f"
          },
          "geo": {
           "bgcolor": "white",
           "lakecolor": "white",
           "landcolor": "#E5ECF6",
           "showlakes": true,
           "showland": true,
           "subunitcolor": "white"
          },
          "hoverlabel": {
           "align": "left"
          },
          "hovermode": "closest",
          "mapbox": {
           "style": "light"
          },
          "paper_bgcolor": "white",
          "plot_bgcolor": "#E5ECF6",
          "polar": {
           "angularaxis": {
            "gridcolor": "white",
            "linecolor": "white",
            "ticks": ""
           },
           "bgcolor": "#E5ECF6",
           "radialaxis": {
            "gridcolor": "white",
            "linecolor": "white",
            "ticks": ""
           }
          },
          "scene": {
           "xaxis": {
            "backgroundcolor": "#E5ECF6",
            "gridcolor": "white",
            "gridwidth": 2,
            "linecolor": "white",
            "showbackground": true,
            "ticks": "",
            "zerolinecolor": "white"
           },
           "yaxis": {
            "backgroundcolor": "#E5ECF6",
            "gridcolor": "white",
            "gridwidth": 2,
            "linecolor": "white",
            "showbackground": true,
            "ticks": "",
            "zerolinecolor": "white"
           },
           "zaxis": {
            "backgroundcolor": "#E5ECF6",
            "gridcolor": "white",
            "gridwidth": 2,
            "linecolor": "white",
            "showbackground": true,
            "ticks": "",
            "zerolinecolor": "white"
           }
          },
          "shapedefaults": {
           "line": {
            "color": "#2a3f5f"
           }
          },
          "ternary": {
           "aaxis": {
            "gridcolor": "white",
            "linecolor": "white",
            "ticks": ""
           },
           "baxis": {
            "gridcolor": "white",
            "linecolor": "white",
            "ticks": ""
           },
           "bgcolor": "#E5ECF6",
           "caxis": {
            "gridcolor": "white",
            "linecolor": "white",
            "ticks": ""
           }
          },
          "title": {
           "x": 0.05
          },
          "xaxis": {
           "automargin": true,
           "gridcolor": "white",
           "linecolor": "white",
           "ticks": "",
           "title": {
            "standoff": 15
           },
           "zerolinecolor": "white",
           "zerolinewidth": 2
          },
          "yaxis": {
           "automargin": true,
           "gridcolor": "white",
           "linecolor": "white",
           "ticks": "",
           "title": {
            "standoff": 15
           },
           "zerolinecolor": "white",
           "zerolinewidth": 2
          }
         }
        },
        "title": {
         "text": "Optimization History Plot"
        },
        "xaxis": {
         "title": {
          "text": "Trial"
         }
        },
        "yaxis": {
         "title": {
          "text": "Objective Value"
         }
        }
       }
      }
     },
     "metadata": {},
     "output_type": "display_data"
    }
   ],
   "source": [
    "optuna.visualization.plot_optimization_history(study)"
   ]
  },
  {
   "cell_type": "code",
   "execution_count": 29,
   "metadata": {},
   "outputs": [
    {
     "data": {
      "application/vnd.plotly.v1+json": {
       "config": {
        "plotlyServerURL": "https://plot.ly"
       },
       "data": [
        {
         "dimensions": [
          {
           "label": "Objective Value",
           "range": [
            0.7071952031978681,
            0.72618254497002
           ],
           "values": [
            0.7258494337108594,
            0.7255163224516988,
            0.7245169886742172,
            0.7251832111925383,
            0.7241838774150566,
            0.7215189873417721,
            0.7211858760826116,
            0.7231845436375749,
            0.7251832111925383,
            0.7248500999333778,
            0.7251832111925383,
            0.7251832111925383,
            0.7211858760826116,
            0.7258494337108594,
            0.7241838774150566,
            0.7201865423051299,
            0.7251832111925383,
            0.7221852098600933,
            0.72618254497002,
            0.7248500999333778,
            0.7251832111925383,
            0.723850766155896,
            0.7255163224516988,
            0.7231845436375749,
            0.7225183211192538,
            0.7251832111925383,
            0.7255163224516988,
            0.7218520986009327,
            0.7175216522318454,
            0.7255163224516988,
            0.7248500999333778,
            0.72618254497002,
            0.7248500999333778,
            0.7201865423051299,
            0.7235176548967355,
            0.7215189873417721,
            0.7248500999333778,
            0.7251832111925383,
            0.7251832111925383,
            0.7228514323784144,
            0.7255163224516988,
            0.7251832111925383,
            0.7255163224516988,
            0.7221852098600933,
            0.7255163224516988,
            0.7251832111925383,
            0.7251832111925383,
            0.7251832111925383,
            0.7251832111925383,
            0.72618254497002,
            0.7211858760826116,
            0.7135243171219188,
            0.7211858760826116,
            0.7251832111925383,
            0.7241838774150566,
            0.7171885409726849,
            0.7171885409726849,
            0.7215189873417721,
            0.7251832111925383,
            0.7235176548967355,
            0.7251832111925383,
            0.7225183211192538,
            0.7255163224516988,
            0.7248500999333778,
            0.7241838774150566,
            0.7245169886742172,
            0.7248500999333778,
            0.7255163224516988,
            0.7251832111925383,
            0.7215189873417721,
            0.7251832111925383,
            0.7251832111925383,
            0.7115256495669554,
            0.7251832111925383,
            0.723850766155896,
            0.7258494337108594,
            0.7211858760826116,
            0.7245169886742172,
            0.7228514323784144,
            0.7241838774150566,
            0.7258494337108594,
            0.7251832111925383,
            0.7258494337108594,
            0.7251832111925383,
            0.7235176548967355,
            0.7208527648234511,
            0.7241838774150566,
            0.7138574283810792,
            0.7258494337108594,
            0.7251832111925383,
            0.7251832111925383,
            0.7221852098600933,
            0.7251832111925383,
            0.7251832111925383,
            0.7228514323784144,
            0.7251832111925383,
            0.7251832111925383,
            0.7248500999333778,
            0.7251832111925383,
            0.7248500999333778,
            0.7258494337108594,
            0.7071952031978681,
            0.7251832111925383,
            0.7255163224516988,
            0.7248500999333778,
            0.7248500999333778,
            0.7228514323784144,
            0.7251832111925383,
            0.7225183211192538,
            0.7228514323784144,
            0.7208527648234511,
            0.723850766155896,
            0.7251832111925383,
            0.723850766155896,
            0.7251832111925383,
            0.7255163224516988,
            0.7241838774150566,
            0.7241838774150566,
            0.7251832111925383,
            0.7225183211192538,
            0.7258494337108594,
            0.7251832111925383,
            0.7255163224516988,
            0.7195203197868087,
            0.7241838774150566,
            0.7228514323784144,
            0.7255163224516988,
            0.7235176548967355,
            0.7255163224516988,
            0.7235176548967355,
            0.7245169886742172,
            0.723850766155896,
            0.7258494337108594,
            0.7231845436375749,
            0.7258494337108594,
            0.7251832111925383,
            0.714856762158561,
            0.7245169886742172,
            0.7255163224516988,
            0.7248500999333778,
            0.7251832111925383,
            0.7251832111925383,
            0.7251832111925383,
            0.7251832111925383,
            0.7258494337108594,
            0.7191872085276483,
            0.7251832111925383,
            0.7255163224516988,
            0.7251832111925383,
            0.7241838774150566,
            0.7248500999333778,
            0.7231845436375749,
            0.7251832111925383,
            0.72618254497002,
            0.7251832111925383,
            0.7258494337108594,
            0.7248500999333778,
            0.7251832111925383,
            0.7245169886742172,
            0.7251832111925383,
            0.7248500999333778,
            0.7248500999333778,
            0.7258494337108594,
            0.7235176548967355,
            0.723850766155896,
            0.7241838774150566,
            0.7245169886742172,
            0.7251832111925383,
            0.7255163224516988,
            0.723850766155896,
            0.7241838774150566,
            0.7241838774150566,
            0.7221852098600933,
            0.7241838774150566,
            0.723850766155896,
            0.7251832111925383,
            0.7248500999333778,
            0.7098600932711525,
            0.7251832111925383,
            0.7225183211192538,
            0.7248500999333778,
            0.7251832111925383,
            0.7248500999333778,
            0.7248500999333778,
            0.7235176548967355,
            0.7228514323784144,
            0.7221852098600933,
            0.7258494337108594,
            0.7251832111925383,
            0.7251832111925383,
            0.7245169886742172,
            0.7255163224516988,
            0.7225183211192538,
            0.7255163224516988,
            0.7248500999333778,
            0.7245169886742172,
            0.7255163224516988,
            0.7241838774150566,
            0.7251832111925383,
            0.7228514323784144
           ]
          },
          {
           "label": "C",
           "range": [
            -1.9942098717915153,
            0.9778773203764494
           ],
           "ticktext": [
            "0.0101",
            "0.1",
            "1",
            "9.5"
           ],
           "tickvals": [
            -1.9942098717915153,
            -1,
            0,
            0.9778773203764494
           ],
           "values": [
            0.2963792781907207,
            -0.14584295824157226,
            -0.231254404355856,
            0.46739901731029926,
            -0.7352104215015206,
            -1.6423199174476317,
            -1.513962562991753,
            -1.4652582002895698,
            0.7048065784221423,
            -0.6027112205628004,
            0.7492231661975187,
            0.9175533412794812,
            -1.6958899173891147,
            0.39580062205211913,
            -0.4893956789665832,
            -1.77662238540649,
            0.6347975656278139,
            -1.9849252288227786,
            -0.18330441568810357,
            0.8636632940477899,
            -0.1183025007282324,
            -1.1438589921937725,
            -1.7093451071480197,
            -1.6329583107976604,
            -1.4444212475499825,
            0.3831379190916877,
            -0.34579278738198327,
            -1.57803956249017,
            -1.8496429110098505,
            -0.1482755187292046,
            0.8881644086565472,
            -0.18473898163705055,
            0.8597232501255296,
            -1.7965420855106748,
            -1.062095361341233,
            -1.7571018415482162,
            -0.9690631146868952,
            -0.04696572465384766,
            0.9304950551380277,
            -1.9096227152342757,
            -0.5758365103593681,
            -0.14300979110475617,
            -0.229088016045412,
            -1.6546983409460794,
            -0.8732646823068929,
            0.7997261630298549,
            0.8662200870484532,
            -0.04006580024245228,
            -0.16021123344456117,
            0.1484429223616925,
            -1.5654205119604003,
            -1.9196343855654399,
            -1.6700675609310007,
            -0.7493471993325204,
            -0.39646195142220847,
            -1.851598844867683,
            -1.8531013981704683,
            -1.6407812690624002,
            0.6834395984036902,
            -0.951977172337714,
            -0.533575658448123,
            -1.3688374157005374,
            -0.29488612475097775,
            -0.7941264778817645,
            -0.7843983475631838,
            -1.1826811945615723,
            0.971444602313859,
            -0.8593911192557446,
            -0.11862175392499201,
            -1.733523764257824,
            -0.08637275030211013,
            0.8209466222904682,
            -1.9345796326446507,
            -0.8096023958096424,
            -1.3164776789054435,
            0.41529692081004826,
            -1.7073136356244882,
            -0.2910533208673174,
            -1.4266634066733213,
            -1.0569509870420335,
            0.4191390559595439,
            0.5346121317290886,
            0.3850333648392431,
            0.6378276065642108,
            -1.024596544385743,
            -1.5527872081342458,
            -1.152078666852027,
            -1.9064113027345535,
            0.08579339655665233,
            -0.057926767195687685,
            0.8154932114087504,
            -1.973321529547626,
            0.3952084167282694,
            0.5227570791484446,
            -1.2175839300944502,
            0.6578175925759682,
            0.885346176063772,
            -0.49228294882147783,
            -0.5660672498652817,
            -0.8046837837292143,
            -0.6158832127284382,
            -1.9698245370629583,
            0.6142400152025171,
            -0.3383207443180041,
            -0.9701755254406519,
            -0.7467831989880875,
            -1.6281304530210814,
            0.9778773203764494,
            -1.4926678209868822,
            -1.5164517023731887,
            -1.7667925351776517,
            -1.3546865200465659,
            0.5571039256904401,
            -1.1932249048114962,
            -0.07738596809530443,
            -0.8727648666537942,
            -1.8692371237243461,
            -0.650475301134666,
            -0.09429715100581909,
            -1.3645733075166069,
            -0.24708376350592873,
            0.5235016820086255,
            -1.7411476266357866,
            -1.7896874721011304,
            -0.47417889682423203,
            -0.9767284543115139,
            -0.4076641222794215,
            -1.6674690124915532,
            -0.1520824181521534,
            -1.2965840603193641,
            -0.34047649516331674,
            -1.0278020269073294,
            0.07424082511334347,
            -1.5446255157883113,
            -0.24973958247160738,
            0.5849954267425305,
            -1.9011637152565697,
            -0.8225207794083819,
            -0.23950102503823936,
            -0.7943814289014934,
            0.5410983936903679,
            0.4522281027644029,
            0.513783862791626,
            0.5580836510999382,
            -0.25328791093636743,
            -1.797581035992311,
            -0.5438856266249156,
            -0.37068636249383086,
            0.9233356901452938,
            -0.8976964148373276,
            0.18035643254608344,
            -1.6297801414373847,
            0.027501698592262383,
            0.16609024576410858,
            0.5005457945369056,
            0.3285742658723915,
            0.07000751167609526,
            -1.0560630850952522,
            -0.23173112700807016,
            -0.08846369713282011,
            0.14576058570842856,
            0.9590602526146534,
            0.37511246961884964,
            -1.1692531846518335,
            -1.5584025176551979,
            -1.1006338049411128,
            -1.1633301486808103,
            0.8593021040591982,
            -0.054461211962655014,
            -1.2203638876313914,
            -1.1121615610923665,
            -1.0515957320208011,
            -1.9942098717915153,
            -1.1290529814273664,
            -1.1058601870077138,
            0.6750974297423278,
            -0.1795849148025853,
            -1.9915615654645555,
            0.9749711319107783,
            -1.9884274185414863,
            -0.7145146701162819,
            0.8203567109311835,
            -1.7646430169614973,
            0.2920895867182666,
            -1.0769535823771468,
            -1.8757091879282108,
            -1.4520305014086055,
            0.32815870845048156,
            0.4901622652087128,
            0.6699082341432435,
            0.16200880874145102,
            -0.5777765692926662,
            -1.4625777340437323,
            -0.2843134040762516,
            -1.6931136053115563,
            -1.1282510068645668,
            -0.41007519966178807,
            -0.8889132709364334,
            0.6280311208196896,
            -1.3295322837067607
           ]
          },
          {
           "label": "max_iter",
           "range": [
            107,
            999
           ],
           "values": [
            354,
            471,
            981,
            664,
            412,
            637,
            593,
            316,
            555,
            891,
            311,
            315,
            661,
            446,
            214,
            642,
            490,
            216,
            968,
            906,
            457,
            405,
            121,
            999,
            803,
            935,
            500,
            861,
            337,
            801,
            788,
            295,
            533,
            749,
            640,
            382,
            522,
            886,
            366,
            910,
            372,
            675,
            718,
            189,
            311,
            537,
            409,
            403,
            138,
            848,
            265,
            179,
            530,
            498,
            420,
            510,
            177,
            456,
            982,
            297,
            710,
            671,
            252,
            582,
            527,
            519,
            501,
            305,
            545,
            383,
            681,
            384,
            511,
            261,
            756,
            872,
            562,
            793,
            752,
            767,
            143,
            301,
            107,
            730,
            327,
            465,
            484,
            548,
            810,
            270,
            442,
            619,
            533,
            513,
            925,
            291,
            194,
            935,
            248,
            211,
            307,
            407,
            633,
            347,
            193,
            491,
            406,
            999,
            601,
            546,
            177,
            951,
            416,
            408,
            678,
            346,
            468,
            168,
            795,
            242,
            786,
            157,
            294,
            665,
            278,
            164,
            195,
            525,
            153,
            648,
            533,
            934,
            237,
            988,
            217,
            133,
            827,
            671,
            643,
            690,
            503,
            857,
            339,
            342,
            987,
            297,
            146,
            373,
            219,
            939,
            518,
            620,
            963,
            699,
            902,
            515,
            768,
            490,
            176,
            884,
            636,
            925,
            817,
            724,
            517,
            381,
            668,
            735,
            281,
            397,
            873,
            499,
            615,
            533,
            498,
            518,
            151,
            849,
            136,
            263,
            960,
            621,
            184,
            365,
            197,
            964,
            394,
            641,
            524,
            280,
            433,
            973,
            725,
            430,
            557,
            682,
            228,
            937,
            273,
            547
           ]
          },
          {
           "label": "penalty",
           "range": [
            0,
            1
           ],
           "ticktext": [
            "l2",
            "l1"
           ],
           "tickvals": [
            0,
            1
           ],
           "values": [
            0,
            0,
            1,
            1,
            1,
            1,
            1,
            1,
            0,
            1,
            1,
            0,
            1,
            0,
            1,
            1,
            0,
            0,
            0,
            1,
            1,
            1,
            0,
            1,
            1,
            1,
            0,
            1,
            1,
            0,
            1,
            0,
            1,
            1,
            1,
            1,
            1,
            0,
            0,
            0,
            0,
            1,
            0,
            1,
            1,
            1,
            1,
            0,
            1,
            0,
            1,
            1,
            1,
            1,
            1,
            1,
            1,
            1,
            0,
            0,
            0,
            0,
            0,
            1,
            1,
            0,
            1,
            1,
            1,
            1,
            1,
            0,
            1,
            1,
            1,
            0,
            1,
            1,
            1,
            0,
            0,
            1,
            0,
            1,
            0,
            1,
            1,
            1,
            0,
            1,
            0,
            0,
            1,
            0,
            0,
            0,
            1,
            0,
            0,
            0,
            0,
            1,
            1,
            0,
            1,
            0,
            1,
            0,
            1,
            0,
            1,
            0,
            1,
            0,
            1,
            1,
            0,
            1,
            1,
            1,
            0,
            0,
            0,
            1,
            1,
            0,
            0,
            0,
            0,
            0,
            1,
            0,
            0,
            0,
            0,
            1,
            1,
            1,
            0,
            0,
            0,
            1,
            1,
            1,
            0,
            1,
            0,
            0,
            0,
            0,
            1,
            1,
            1,
            0,
            1,
            0,
            1,
            1,
            1,
            1,
            1,
            1,
            0,
            1,
            0,
            1,
            0,
            0,
            0,
            1,
            1,
            0,
            0,
            1,
            1,
            1,
            1,
            1,
            1,
            0,
            0,
            1,
            0,
            1,
            0,
            0,
            0,
            0,
            0,
            1,
            1,
            0,
            1,
            0,
            0,
            0,
            0,
            0,
            1,
            1
           ]
          },
          {
           "label": "solver",
           "range": [
            0,
            1
           ],
           "ticktext": [
            "saga",
            "liblinear"
           ],
           "tickvals": [
            0,
            1
           ],
           "values": [
            0,
            0,
            1,
            1,
            1,
            1,
            0,
            1,
            0,
            0,
            0,
            0,
            1,
            0,
            1,
            1,
            1,
            0,
            1,
            1,
            0,
            1,
            0,
            0,
            0,
            0,
            0,
            0,
            0,
            0,
            1,
            0,
            1,
            0,
            1,
            1,
            0,
            1,
            0,
            0,
            0,
            1,
            0,
            0,
            0,
            0,
            0,
            0,
            1,
            0,
            0,
            0,
            0,
            0,
            1,
            1,
            1,
            1,
            0,
            1,
            1,
            0,
            1,
            0,
            1,
            1,
            1,
            0,
            0,
            0,
            0,
            0,
            1,
            0,
            0,
            1,
            1,
            1,
            0,
            1,
            1,
            1,
            1,
            1,
            0,
            0,
            0,
            0,
            1,
            1,
            1,
            0,
            1,
            1,
            0,
            0,
            0,
            1,
            1,
            0,
            0,
            1,
            1,
            0,
            0,
            0,
            1,
            1,
            1,
            1,
            0,
            0,
            0,
            1,
            1,
            0,
            0,
            1,
            0,
            1,
            1,
            0,
            1,
            1,
            1,
            0,
            1,
            0,
            0,
            1,
            1,
            0,
            1,
            1,
            1,
            1,
            1,
            1,
            0,
            1,
            1,
            0,
            1,
            0,
            0,
            1,
            1,
            0,
            0,
            0,
            1,
            1,
            0,
            1,
            1,
            0,
            0,
            0,
            1,
            1,
            0,
            1,
            0,
            1,
            1,
            1,
            1,
            1,
            1,
            1,
            1,
            1,
            1,
            0,
            1,
            1,
            0,
            0,
            0,
            0,
            0,
            0,
            1,
            0,
            0,
            1,
            1,
            0,
            0,
            1,
            1,
            1,
            0,
            1,
            1,
            0,
            0,
            1,
            1,
            1
           ]
          }
         ],
         "labelangle": 30,
         "labelside": "bottom",
         "line": {
          "color": [
           0.7258494337108594,
           0.7255163224516988,
           0.7245169886742172,
           0.7251832111925383,
           0.7241838774150566,
           0.7215189873417721,
           0.7211858760826116,
           0.7231845436375749,
           0.7251832111925383,
           0.7248500999333778,
           0.7251832111925383,
           0.7251832111925383,
           0.7211858760826116,
           0.7258494337108594,
           0.7241838774150566,
           0.7201865423051299,
           0.7251832111925383,
           0.7221852098600933,
           0.72618254497002,
           0.7248500999333778,
           0.7251832111925383,
           0.723850766155896,
           0.7255163224516988,
           0.7231845436375749,
           0.7225183211192538,
           0.7251832111925383,
           0.7255163224516988,
           0.7218520986009327,
           0.7175216522318454,
           0.7255163224516988,
           0.7248500999333778,
           0.72618254497002,
           0.7248500999333778,
           0.7201865423051299,
           0.7235176548967355,
           0.7215189873417721,
           0.7248500999333778,
           0.7251832111925383,
           0.7251832111925383,
           0.7228514323784144,
           0.7255163224516988,
           0.7251832111925383,
           0.7255163224516988,
           0.7221852098600933,
           0.7255163224516988,
           0.7251832111925383,
           0.7251832111925383,
           0.7251832111925383,
           0.7251832111925383,
           0.72618254497002,
           0.7211858760826116,
           0.7135243171219188,
           0.7211858760826116,
           0.7251832111925383,
           0.7241838774150566,
           0.7171885409726849,
           0.7171885409726849,
           0.7215189873417721,
           0.7251832111925383,
           0.7235176548967355,
           0.7251832111925383,
           0.7225183211192538,
           0.7255163224516988,
           0.7248500999333778,
           0.7241838774150566,
           0.7245169886742172,
           0.7248500999333778,
           0.7255163224516988,
           0.7251832111925383,
           0.7215189873417721,
           0.7251832111925383,
           0.7251832111925383,
           0.7115256495669554,
           0.7251832111925383,
           0.723850766155896,
           0.7258494337108594,
           0.7211858760826116,
           0.7245169886742172,
           0.7228514323784144,
           0.7241838774150566,
           0.7258494337108594,
           0.7251832111925383,
           0.7258494337108594,
           0.7251832111925383,
           0.7235176548967355,
           0.7208527648234511,
           0.7241838774150566,
           0.7138574283810792,
           0.7258494337108594,
           0.7251832111925383,
           0.7251832111925383,
           0.7221852098600933,
           0.7251832111925383,
           0.7251832111925383,
           0.7228514323784144,
           0.7251832111925383,
           0.7251832111925383,
           0.7248500999333778,
           0.7251832111925383,
           0.7248500999333778,
           0.7258494337108594,
           0.7071952031978681,
           0.7251832111925383,
           0.7255163224516988,
           0.7248500999333778,
           0.7248500999333778,
           0.7228514323784144,
           0.7251832111925383,
           0.7225183211192538,
           0.7228514323784144,
           0.7208527648234511,
           0.723850766155896,
           0.7251832111925383,
           0.723850766155896,
           0.7251832111925383,
           0.7255163224516988,
           0.7241838774150566,
           0.7241838774150566,
           0.7251832111925383,
           0.7225183211192538,
           0.7258494337108594,
           0.7251832111925383,
           0.7255163224516988,
           0.7195203197868087,
           0.7241838774150566,
           0.7228514323784144,
           0.7255163224516988,
           0.7235176548967355,
           0.7255163224516988,
           0.7235176548967355,
           0.7245169886742172,
           0.723850766155896,
           0.7258494337108594,
           0.7231845436375749,
           0.7258494337108594,
           0.7251832111925383,
           0.714856762158561,
           0.7245169886742172,
           0.7255163224516988,
           0.7248500999333778,
           0.7251832111925383,
           0.7251832111925383,
           0.7251832111925383,
           0.7251832111925383,
           0.7258494337108594,
           0.7191872085276483,
           0.7251832111925383,
           0.7255163224516988,
           0.7251832111925383,
           0.7241838774150566,
           0.7248500999333778,
           0.7231845436375749,
           0.7251832111925383,
           0.72618254497002,
           0.7251832111925383,
           0.7258494337108594,
           0.7248500999333778,
           0.7251832111925383,
           0.7245169886742172,
           0.7251832111925383,
           0.7248500999333778,
           0.7248500999333778,
           0.7258494337108594,
           0.7235176548967355,
           0.723850766155896,
           0.7241838774150566,
           0.7245169886742172,
           0.7251832111925383,
           0.7255163224516988,
           0.723850766155896,
           0.7241838774150566,
           0.7241838774150566,
           0.7221852098600933,
           0.7241838774150566,
           0.723850766155896,
           0.7251832111925383,
           0.7248500999333778,
           0.7098600932711525,
           0.7251832111925383,
           0.7225183211192538,
           0.7248500999333778,
           0.7251832111925383,
           0.7248500999333778,
           0.7248500999333778,
           0.7235176548967355,
           0.7228514323784144,
           0.7221852098600933,
           0.7258494337108594,
           0.7251832111925383,
           0.7251832111925383,
           0.7245169886742172,
           0.7255163224516988,
           0.7225183211192538,
           0.7255163224516988,
           0.7248500999333778,
           0.7245169886742172,
           0.7255163224516988,
           0.7241838774150566,
           0.7251832111925383,
           0.7228514323784144
          ],
          "colorbar": {
           "title": {
            "text": "Objective Value"
           }
          },
          "colorscale": [
           [
            0,
            "rgb(247,251,255)"
           ],
           [
            0.125,
            "rgb(222,235,247)"
           ],
           [
            0.25,
            "rgb(198,219,239)"
           ],
           [
            0.375,
            "rgb(158,202,225)"
           ],
           [
            0.5,
            "rgb(107,174,214)"
           ],
           [
            0.625,
            "rgb(66,146,198)"
           ],
           [
            0.75,
            "rgb(33,113,181)"
           ],
           [
            0.875,
            "rgb(8,81,156)"
           ],
           [
            1,
            "rgb(8,48,107)"
           ]
          ],
          "reversescale": false,
          "showscale": true
         },
         "type": "parcoords"
        }
       ],
       "layout": {
        "template": {
         "data": {
          "bar": [
           {
            "error_x": {
             "color": "#2a3f5f"
            },
            "error_y": {
             "color": "#2a3f5f"
            },
            "marker": {
             "line": {
              "color": "#E5ECF6",
              "width": 0.5
             },
             "pattern": {
              "fillmode": "overlay",
              "size": 10,
              "solidity": 0.2
             }
            },
            "type": "bar"
           }
          ],
          "barpolar": [
           {
            "marker": {
             "line": {
              "color": "#E5ECF6",
              "width": 0.5
             },
             "pattern": {
              "fillmode": "overlay",
              "size": 10,
              "solidity": 0.2
             }
            },
            "type": "barpolar"
           }
          ],
          "carpet": [
           {
            "aaxis": {
             "endlinecolor": "#2a3f5f",
             "gridcolor": "white",
             "linecolor": "white",
             "minorgridcolor": "white",
             "startlinecolor": "#2a3f5f"
            },
            "baxis": {
             "endlinecolor": "#2a3f5f",
             "gridcolor": "white",
             "linecolor": "white",
             "minorgridcolor": "white",
             "startlinecolor": "#2a3f5f"
            },
            "type": "carpet"
           }
          ],
          "choropleth": [
           {
            "colorbar": {
             "outlinewidth": 0,
             "ticks": ""
            },
            "type": "choropleth"
           }
          ],
          "contour": [
           {
            "colorbar": {
             "outlinewidth": 0,
             "ticks": ""
            },
            "colorscale": [
             [
              0,
              "#0d0887"
             ],
             [
              0.1111111111111111,
              "#46039f"
             ],
             [
              0.2222222222222222,
              "#7201a8"
             ],
             [
              0.3333333333333333,
              "#9c179e"
             ],
             [
              0.4444444444444444,
              "#bd3786"
             ],
             [
              0.5555555555555556,
              "#d8576b"
             ],
             [
              0.6666666666666666,
              "#ed7953"
             ],
             [
              0.7777777777777778,
              "#fb9f3a"
             ],
             [
              0.8888888888888888,
              "#fdca26"
             ],
             [
              1,
              "#f0f921"
             ]
            ],
            "type": "contour"
           }
          ],
          "contourcarpet": [
           {
            "colorbar": {
             "outlinewidth": 0,
             "ticks": ""
            },
            "type": "contourcarpet"
           }
          ],
          "heatmap": [
           {
            "colorbar": {
             "outlinewidth": 0,
             "ticks": ""
            },
            "colorscale": [
             [
              0,
              "#0d0887"
             ],
             [
              0.1111111111111111,
              "#46039f"
             ],
             [
              0.2222222222222222,
              "#7201a8"
             ],
             [
              0.3333333333333333,
              "#9c179e"
             ],
             [
              0.4444444444444444,
              "#bd3786"
             ],
             [
              0.5555555555555556,
              "#d8576b"
             ],
             [
              0.6666666666666666,
              "#ed7953"
             ],
             [
              0.7777777777777778,
              "#fb9f3a"
             ],
             [
              0.8888888888888888,
              "#fdca26"
             ],
             [
              1,
              "#f0f921"
             ]
            ],
            "type": "heatmap"
           }
          ],
          "heatmapgl": [
           {
            "colorbar": {
             "outlinewidth": 0,
             "ticks": ""
            },
            "colorscale": [
             [
              0,
              "#0d0887"
             ],
             [
              0.1111111111111111,
              "#46039f"
             ],
             [
              0.2222222222222222,
              "#7201a8"
             ],
             [
              0.3333333333333333,
              "#9c179e"
             ],
             [
              0.4444444444444444,
              "#bd3786"
             ],
             [
              0.5555555555555556,
              "#d8576b"
             ],
             [
              0.6666666666666666,
              "#ed7953"
             ],
             [
              0.7777777777777778,
              "#fb9f3a"
             ],
             [
              0.8888888888888888,
              "#fdca26"
             ],
             [
              1,
              "#f0f921"
             ]
            ],
            "type": "heatmapgl"
           }
          ],
          "histogram": [
           {
            "marker": {
             "pattern": {
              "fillmode": "overlay",
              "size": 10,
              "solidity": 0.2
             }
            },
            "type": "histogram"
           }
          ],
          "histogram2d": [
           {
            "colorbar": {
             "outlinewidth": 0,
             "ticks": ""
            },
            "colorscale": [
             [
              0,
              "#0d0887"
             ],
             [
              0.1111111111111111,
              "#46039f"
             ],
             [
              0.2222222222222222,
              "#7201a8"
             ],
             [
              0.3333333333333333,
              "#9c179e"
             ],
             [
              0.4444444444444444,
              "#bd3786"
             ],
             [
              0.5555555555555556,
              "#d8576b"
             ],
             [
              0.6666666666666666,
              "#ed7953"
             ],
             [
              0.7777777777777778,
              "#fb9f3a"
             ],
             [
              0.8888888888888888,
              "#fdca26"
             ],
             [
              1,
              "#f0f921"
             ]
            ],
            "type": "histogram2d"
           }
          ],
          "histogram2dcontour": [
           {
            "colorbar": {
             "outlinewidth": 0,
             "ticks": ""
            },
            "colorscale": [
             [
              0,
              "#0d0887"
             ],
             [
              0.1111111111111111,
              "#46039f"
             ],
             [
              0.2222222222222222,
              "#7201a8"
             ],
             [
              0.3333333333333333,
              "#9c179e"
             ],
             [
              0.4444444444444444,
              "#bd3786"
             ],
             [
              0.5555555555555556,
              "#d8576b"
             ],
             [
              0.6666666666666666,
              "#ed7953"
             ],
             [
              0.7777777777777778,
              "#fb9f3a"
             ],
             [
              0.8888888888888888,
              "#fdca26"
             ],
             [
              1,
              "#f0f921"
             ]
            ],
            "type": "histogram2dcontour"
           }
          ],
          "mesh3d": [
           {
            "colorbar": {
             "outlinewidth": 0,
             "ticks": ""
            },
            "type": "mesh3d"
           }
          ],
          "parcoords": [
           {
            "line": {
             "colorbar": {
              "outlinewidth": 0,
              "ticks": ""
             }
            },
            "type": "parcoords"
           }
          ],
          "pie": [
           {
            "automargin": true,
            "type": "pie"
           }
          ],
          "scatter": [
           {
            "fillpattern": {
             "fillmode": "overlay",
             "size": 10,
             "solidity": 0.2
            },
            "type": "scatter"
           }
          ],
          "scatter3d": [
           {
            "line": {
             "colorbar": {
              "outlinewidth": 0,
              "ticks": ""
             }
            },
            "marker": {
             "colorbar": {
              "outlinewidth": 0,
              "ticks": ""
             }
            },
            "type": "scatter3d"
           }
          ],
          "scattercarpet": [
           {
            "marker": {
             "colorbar": {
              "outlinewidth": 0,
              "ticks": ""
             }
            },
            "type": "scattercarpet"
           }
          ],
          "scattergeo": [
           {
            "marker": {
             "colorbar": {
              "outlinewidth": 0,
              "ticks": ""
             }
            },
            "type": "scattergeo"
           }
          ],
          "scattergl": [
           {
            "marker": {
             "colorbar": {
              "outlinewidth": 0,
              "ticks": ""
             }
            },
            "type": "scattergl"
           }
          ],
          "scattermapbox": [
           {
            "marker": {
             "colorbar": {
              "outlinewidth": 0,
              "ticks": ""
             }
            },
            "type": "scattermapbox"
           }
          ],
          "scatterpolar": [
           {
            "marker": {
             "colorbar": {
              "outlinewidth": 0,
              "ticks": ""
             }
            },
            "type": "scatterpolar"
           }
          ],
          "scatterpolargl": [
           {
            "marker": {
             "colorbar": {
              "outlinewidth": 0,
              "ticks": ""
             }
            },
            "type": "scatterpolargl"
           }
          ],
          "scatterternary": [
           {
            "marker": {
             "colorbar": {
              "outlinewidth": 0,
              "ticks": ""
             }
            },
            "type": "scatterternary"
           }
          ],
          "surface": [
           {
            "colorbar": {
             "outlinewidth": 0,
             "ticks": ""
            },
            "colorscale": [
             [
              0,
              "#0d0887"
             ],
             [
              0.1111111111111111,
              "#46039f"
             ],
             [
              0.2222222222222222,
              "#7201a8"
             ],
             [
              0.3333333333333333,
              "#9c179e"
             ],
             [
              0.4444444444444444,
              "#bd3786"
             ],
             [
              0.5555555555555556,
              "#d8576b"
             ],
             [
              0.6666666666666666,
              "#ed7953"
             ],
             [
              0.7777777777777778,
              "#fb9f3a"
             ],
             [
              0.8888888888888888,
              "#fdca26"
             ],
             [
              1,
              "#f0f921"
             ]
            ],
            "type": "surface"
           }
          ],
          "table": [
           {
            "cells": {
             "fill": {
              "color": "#EBF0F8"
             },
             "line": {
              "color": "white"
             }
            },
            "header": {
             "fill": {
              "color": "#C8D4E3"
             },
             "line": {
              "color": "white"
             }
            },
            "type": "table"
           }
          ]
         },
         "layout": {
          "annotationdefaults": {
           "arrowcolor": "#2a3f5f",
           "arrowhead": 0,
           "arrowwidth": 1
          },
          "autotypenumbers": "strict",
          "coloraxis": {
           "colorbar": {
            "outlinewidth": 0,
            "ticks": ""
           }
          },
          "colorscale": {
           "diverging": [
            [
             0,
             "#8e0152"
            ],
            [
             0.1,
             "#c51b7d"
            ],
            [
             0.2,
             "#de77ae"
            ],
            [
             0.3,
             "#f1b6da"
            ],
            [
             0.4,
             "#fde0ef"
            ],
            [
             0.5,
             "#f7f7f7"
            ],
            [
             0.6,
             "#e6f5d0"
            ],
            [
             0.7,
             "#b8e186"
            ],
            [
             0.8,
             "#7fbc41"
            ],
            [
             0.9,
             "#4d9221"
            ],
            [
             1,
             "#276419"
            ]
           ],
           "sequential": [
            [
             0,
             "#0d0887"
            ],
            [
             0.1111111111111111,
             "#46039f"
            ],
            [
             0.2222222222222222,
             "#7201a8"
            ],
            [
             0.3333333333333333,
             "#9c179e"
            ],
            [
             0.4444444444444444,
             "#bd3786"
            ],
            [
             0.5555555555555556,
             "#d8576b"
            ],
            [
             0.6666666666666666,
             "#ed7953"
            ],
            [
             0.7777777777777778,
             "#fb9f3a"
            ],
            [
             0.8888888888888888,
             "#fdca26"
            ],
            [
             1,
             "#f0f921"
            ]
           ],
           "sequentialminus": [
            [
             0,
             "#0d0887"
            ],
            [
             0.1111111111111111,
             "#46039f"
            ],
            [
             0.2222222222222222,
             "#7201a8"
            ],
            [
             0.3333333333333333,
             "#9c179e"
            ],
            [
             0.4444444444444444,
             "#bd3786"
            ],
            [
             0.5555555555555556,
             "#d8576b"
            ],
            [
             0.6666666666666666,
             "#ed7953"
            ],
            [
             0.7777777777777778,
             "#fb9f3a"
            ],
            [
             0.8888888888888888,
             "#fdca26"
            ],
            [
             1,
             "#f0f921"
            ]
           ]
          },
          "colorway": [
           "#636efa",
           "#EF553B",
           "#00cc96",
           "#ab63fa",
           "#FFA15A",
           "#19d3f3",
           "#FF6692",
           "#B6E880",
           "#FF97FF",
           "#FECB52"
          ],
          "font": {
           "color": "#2a3f5f"
          },
          "geo": {
           "bgcolor": "white",
           "lakecolor": "white",
           "landcolor": "#E5ECF6",
           "showlakes": true,
           "showland": true,
           "subunitcolor": "white"
          },
          "hoverlabel": {
           "align": "left"
          },
          "hovermode": "closest",
          "mapbox": {
           "style": "light"
          },
          "paper_bgcolor": "white",
          "plot_bgcolor": "#E5ECF6",
          "polar": {
           "angularaxis": {
            "gridcolor": "white",
            "linecolor": "white",
            "ticks": ""
           },
           "bgcolor": "#E5ECF6",
           "radialaxis": {
            "gridcolor": "white",
            "linecolor": "white",
            "ticks": ""
           }
          },
          "scene": {
           "xaxis": {
            "backgroundcolor": "#E5ECF6",
            "gridcolor": "white",
            "gridwidth": 2,
            "linecolor": "white",
            "showbackground": true,
            "ticks": "",
            "zerolinecolor": "white"
           },
           "yaxis": {
            "backgroundcolor": "#E5ECF6",
            "gridcolor": "white",
            "gridwidth": 2,
            "linecolor": "white",
            "showbackground": true,
            "ticks": "",
            "zerolinecolor": "white"
           },
           "zaxis": {
            "backgroundcolor": "#E5ECF6",
            "gridcolor": "white",
            "gridwidth": 2,
            "linecolor": "white",
            "showbackground": true,
            "ticks": "",
            "zerolinecolor": "white"
           }
          },
          "shapedefaults": {
           "line": {
            "color": "#2a3f5f"
           }
          },
          "ternary": {
           "aaxis": {
            "gridcolor": "white",
            "linecolor": "white",
            "ticks": ""
           },
           "baxis": {
            "gridcolor": "white",
            "linecolor": "white",
            "ticks": ""
           },
           "bgcolor": "#E5ECF6",
           "caxis": {
            "gridcolor": "white",
            "linecolor": "white",
            "ticks": ""
           }
          },
          "title": {
           "x": 0.05
          },
          "xaxis": {
           "automargin": true,
           "gridcolor": "white",
           "linecolor": "white",
           "ticks": "",
           "title": {
            "standoff": 15
           },
           "zerolinecolor": "white",
           "zerolinewidth": 2
          },
          "yaxis": {
           "automargin": true,
           "gridcolor": "white",
           "linecolor": "white",
           "ticks": "",
           "title": {
            "standoff": 15
           },
           "zerolinecolor": "white",
           "zerolinewidth": 2
          }
         }
        },
        "title": {
         "text": "Parallel Coordinate Plot"
        }
       }
      }
     },
     "metadata": {},
     "output_type": "display_data"
    }
   ],
   "source": [
    "optuna.visualization.plot_parallel_coordinate(study)"
   ]
  },
  {
   "cell_type": "code",
   "execution_count": 30,
   "metadata": {},
   "outputs": [
    {
     "data": {
      "application/vnd.plotly.v1+json": {
       "config": {
        "plotlyServerURL": "https://plot.ly"
       },
       "data": [
        {
         "marker": {
          "color": [
           0,
           1,
           2,
           3,
           4,
           5,
           6,
           7,
           8,
           9,
           10,
           11,
           12,
           13,
           14,
           15,
           16,
           17,
           18,
           19,
           20,
           21,
           22,
           23,
           24,
           25,
           26,
           27,
           28,
           29,
           30,
           31,
           32,
           33,
           34,
           35,
           36,
           37,
           38,
           39,
           40,
           41,
           42,
           43,
           44,
           45,
           46,
           47,
           48,
           49,
           50,
           51,
           52,
           53,
           54,
           55,
           56,
           57,
           58,
           59,
           60,
           61,
           62,
           63,
           64,
           65,
           66,
           67,
           68,
           69,
           70,
           71,
           72,
           73,
           74,
           75,
           76,
           77,
           78,
           79,
           80,
           81,
           82,
           83,
           84,
           85,
           86,
           87,
           88,
           89,
           90,
           91,
           92,
           93,
           94,
           95,
           96,
           97,
           98,
           99,
           100,
           101,
           102,
           103,
           104,
           105,
           106,
           107,
           108,
           109,
           110,
           111,
           112,
           113,
           114,
           115,
           116,
           117,
           118,
           119,
           120,
           121,
           122,
           123,
           124,
           125,
           126,
           127,
           128,
           129,
           130,
           131,
           132,
           133,
           134,
           135,
           136,
           137,
           138,
           139,
           140,
           141,
           142,
           143,
           144,
           145,
           146,
           147,
           148,
           149,
           150,
           151,
           152,
           153,
           154,
           155,
           156,
           157,
           158,
           159,
           160,
           161,
           162,
           163,
           164,
           165,
           166,
           167,
           168,
           169,
           170,
           171,
           172,
           173,
           174,
           175,
           176,
           177,
           178,
           179,
           180,
           181,
           182,
           183,
           184,
           185,
           186,
           187,
           188,
           189,
           190,
           191,
           192,
           193,
           194,
           195,
           196,
           197,
           198,
           199
          ],
          "colorbar": {
           "title": {
            "text": "Trial"
           },
           "x": 1,
           "xpad": 40
          },
          "colorscale": [
           [
            0,
            "rgb(247,251,255)"
           ],
           [
            0.125,
            "rgb(222,235,247)"
           ],
           [
            0.25,
            "rgb(198,219,239)"
           ],
           [
            0.375,
            "rgb(158,202,225)"
           ],
           [
            0.5,
            "rgb(107,174,214)"
           ],
           [
            0.625,
            "rgb(66,146,198)"
           ],
           [
            0.75,
            "rgb(33,113,181)"
           ],
           [
            0.875,
            "rgb(8,81,156)"
           ],
           [
            1,
            "rgb(8,48,107)"
           ]
          ],
          "line": {
           "color": "Grey",
           "width": 0.5
          },
          "showscale": true
         },
         "mode": "markers",
         "name": "Feasible Trial",
         "showlegend": false,
         "type": "scatter",
         "x": [
          1.978696921972353,
          0.7147547361025183,
          0.5871453092844537,
          2.9335873033004263,
          0.18398803387733306,
          0.022786629058688158,
          0.030622273921242567,
          0.03425640620186102,
          5.067649602789281,
          0.2496254032440533,
          5.613363497593624,
          8.270910880018777,
          0.020142347424642024,
          2.487714984224427,
          0.3240442511266919,
          0.016725442423100204,
          4.313179830047696,
          0.01035320399341193,
          0.6556855070061354,
          7.305724553412326,
          0.7615483811595624,
          0.07180273843352494,
          0.019527870791270083,
          0.023283147487063578,
          0.03594005624665695,
          2.41622803522965,
          0.45103185164166876,
          0.02642168055417163,
          0.014136994498500545,
          0.7107624591083601,
          7.729731502348729,
          0.6535232131933079,
          7.23974467462096,
          0.015975627089929178,
          0.08667715312463047,
          0.017494363997301608,
          0.10738333440901057,
          0.897499624082285,
          8.52108809242522,
          0.012313380069145318,
          0.2655605073199314,
          0.7194327583159087,
          0.5900814795237284,
          0.022146324495353406,
          0.13388604654839945,
          6.305596304990532,
          7.348861914638498,
          0.9118726704613901,
          0.6914945579286461,
          1.4074822362781039,
          0.02720066288766469,
          0.012032769971240549,
          0.02137629523741644,
          0.1780954403469097,
          0.4013636602280528,
          0.014073468815611707,
          0.01402486216774064,
          0.02286750227364291,
          4.824358783007409,
          0.11169219545985529,
          0.2927010912336367,
          0.04277229803475929,
          0.507123662445956,
          0.160647333794055,
          0.16428641490203766,
          0.06566271040532483,
          9.363637716926826,
          0.1382320920240548,
          0.7609887668309826,
          0.018470397235606395,
          0.8196477474599286,
          6.62135117846047,
          0.011625733609137401,
          0.1550235236888625,
          0.04825277795261175,
          2.6019378622062317,
          0.019619429034729765,
          0.5116190172324526,
          0.037440064937739055,
          0.08770998019776095,
          2.625058921674975,
          3.4246179739932647,
          2.4267965274899312,
          4.343377793250722,
          0.09449383077328626,
          0.028003530764018625,
          0.07045654344536163,
          0.012404769455793309,
          1.2184098366579121,
          0.8751313316001039,
          6.53872709038488,
          0.010633554724178065,
          2.484325040028493,
          3.3323996420526054,
          0.06059210912132856,
          4.547970013708444,
          7.679733969285893,
          0.32189709041888726,
          0.2716018664757433,
          0.1567892260270225,
          0.24216801795707713,
          0.010719523061562876,
          4.113770080292592,
          0.4588590014404327,
          0.10710863250732765,
          0.17914999526019226,
          0.023543419823539486,
          9.503363044784564,
          0.032161195128812416,
          0.030447265733971263,
          0.01710832393798724,
          0.04418892942627004,
          3.6066493900282923,
          0.06408776041778638,
          0.8367852800880448,
          0.1340402204245466,
          0.013513345363822152,
          0.22362723746871446,
          0.8048275772815652,
          0.04319432508279183,
          0.5661300875256327,
          3.3381179800589327,
          0.01814898632317917,
          0.01622977607749056,
          0.3355993439527287,
          0.1055046365383603,
          0.3911432839894509,
          0.02150458112009587,
          0.7045593486636776,
          0.05051448616390107,
          0.45658696088123707,
          0.09379894918925637,
          1.1864264633694679,
          0.028534777087763762,
          0.5626786250159912,
          3.8458773219426696,
          0.01255556569435987,
          0.15048015178109325,
          0.5761014588218291,
          0.1605530540282818,
          3.4761490810204365,
          2.8328795071681525,
          3.2642533823486786,
          3.6147948186243792,
          0.5581000855177064,
          0.015937454723838992,
          0.2858343201602987,
          0.42590588154860654,
          8.38176904936794,
          0.1265620746042377,
          1.514803962662444,
          0.023454158653051307,
          1.065373030496576,
          1.4658524113174358,
          3.1662543141065584,
          2.1309549371203467,
          1.1749178764646,
          0.08788948403482796,
          0.5865011567299384,
          0.8157109699225752,
          1.3988159822083082,
          9.100395198201442,
          2.371987901894069,
          0.06772465718340923,
          0.027643783457538054,
          0.07931698456694951,
          0.06865463322025443,
          7.232727518623565,
          0.8821425852044329,
          0.060205492355472054,
          0.07723931950697714,
          0.08879822158262446,
          0.010134215338029441,
          0.07429284993668595,
          0.07836818939004365,
          4.732574177511548,
          0.6613252201817359,
          0.010196202087229395,
          9.439981254820681,
          0.01027005055530255,
          0.192968015205417,
          6.612363362982121,
          0.017193210605788788,
          1.9592487877054943,
          0.08376188024813663,
          0.013313456146033015,
          0.035315836587124984,
          2.128916894622956,
          3.0914502736264127,
          4.67636319903576,
          1.4521410708874114,
          0.264376854239444,
          0.034468490615851,
          0.5196208822194063,
          0.020271523756867773,
          0.0744301669502829,
          0.3889777862508648,
          0.12914771572057868,
          4.246499925677047,
          0.04682391430633818
         ],
         "xaxis": "x",
         "y": [
          0.7258494337108594,
          0.7255163224516988,
          0.7245169886742172,
          0.7251832111925383,
          0.7241838774150566,
          0.7215189873417721,
          0.7211858760826116,
          0.7231845436375749,
          0.7251832111925383,
          0.7248500999333778,
          0.7251832111925383,
          0.7251832111925383,
          0.7211858760826116,
          0.7258494337108594,
          0.7241838774150566,
          0.7201865423051299,
          0.7251832111925383,
          0.7221852098600933,
          0.72618254497002,
          0.7248500999333778,
          0.7251832111925383,
          0.723850766155896,
          0.7255163224516988,
          0.7231845436375749,
          0.7225183211192538,
          0.7251832111925383,
          0.7255163224516988,
          0.7218520986009327,
          0.7175216522318454,
          0.7255163224516988,
          0.7248500999333778,
          0.72618254497002,
          0.7248500999333778,
          0.7201865423051299,
          0.7235176548967355,
          0.7215189873417721,
          0.7248500999333778,
          0.7251832111925383,
          0.7251832111925383,
          0.7228514323784144,
          0.7255163224516988,
          0.7251832111925383,
          0.7255163224516988,
          0.7221852098600933,
          0.7255163224516988,
          0.7251832111925383,
          0.7251832111925383,
          0.7251832111925383,
          0.7251832111925383,
          0.72618254497002,
          0.7211858760826116,
          0.7135243171219188,
          0.7211858760826116,
          0.7251832111925383,
          0.7241838774150566,
          0.7171885409726849,
          0.7171885409726849,
          0.7215189873417721,
          0.7251832111925383,
          0.7235176548967355,
          0.7251832111925383,
          0.7225183211192538,
          0.7255163224516988,
          0.7248500999333778,
          0.7241838774150566,
          0.7245169886742172,
          0.7248500999333778,
          0.7255163224516988,
          0.7251832111925383,
          0.7215189873417721,
          0.7251832111925383,
          0.7251832111925383,
          0.7115256495669554,
          0.7251832111925383,
          0.723850766155896,
          0.7258494337108594,
          0.7211858760826116,
          0.7245169886742172,
          0.7228514323784144,
          0.7241838774150566,
          0.7258494337108594,
          0.7251832111925383,
          0.7258494337108594,
          0.7251832111925383,
          0.7235176548967355,
          0.7208527648234511,
          0.7241838774150566,
          0.7138574283810792,
          0.7258494337108594,
          0.7251832111925383,
          0.7251832111925383,
          0.7221852098600933,
          0.7251832111925383,
          0.7251832111925383,
          0.7228514323784144,
          0.7251832111925383,
          0.7251832111925383,
          0.7248500999333778,
          0.7251832111925383,
          0.7248500999333778,
          0.7258494337108594,
          0.7071952031978681,
          0.7251832111925383,
          0.7255163224516988,
          0.7248500999333778,
          0.7248500999333778,
          0.7228514323784144,
          0.7251832111925383,
          0.7225183211192538,
          0.7228514323784144,
          0.7208527648234511,
          0.723850766155896,
          0.7251832111925383,
          0.723850766155896,
          0.7251832111925383,
          0.7255163224516988,
          0.7241838774150566,
          0.7241838774150566,
          0.7251832111925383,
          0.7225183211192538,
          0.7258494337108594,
          0.7251832111925383,
          0.7255163224516988,
          0.7195203197868087,
          0.7241838774150566,
          0.7228514323784144,
          0.7255163224516988,
          0.7235176548967355,
          0.7255163224516988,
          0.7235176548967355,
          0.7245169886742172,
          0.723850766155896,
          0.7258494337108594,
          0.7231845436375749,
          0.7258494337108594,
          0.7251832111925383,
          0.714856762158561,
          0.7245169886742172,
          0.7255163224516988,
          0.7248500999333778,
          0.7251832111925383,
          0.7251832111925383,
          0.7251832111925383,
          0.7251832111925383,
          0.7258494337108594,
          0.7191872085276483,
          0.7251832111925383,
          0.7255163224516988,
          0.7251832111925383,
          0.7241838774150566,
          0.7248500999333778,
          0.7231845436375749,
          0.7251832111925383,
          0.72618254497002,
          0.7251832111925383,
          0.7258494337108594,
          0.7248500999333778,
          0.7251832111925383,
          0.7245169886742172,
          0.7251832111925383,
          0.7248500999333778,
          0.7248500999333778,
          0.7258494337108594,
          0.7235176548967355,
          0.723850766155896,
          0.7241838774150566,
          0.7245169886742172,
          0.7251832111925383,
          0.7255163224516988,
          0.723850766155896,
          0.7241838774150566,
          0.7241838774150566,
          0.7221852098600933,
          0.7241838774150566,
          0.723850766155896,
          0.7251832111925383,
          0.7248500999333778,
          0.7098600932711525,
          0.7251832111925383,
          0.7225183211192538,
          0.7248500999333778,
          0.7251832111925383,
          0.7248500999333778,
          0.7248500999333778,
          0.7235176548967355,
          0.7228514323784144,
          0.7221852098600933,
          0.7258494337108594,
          0.7251832111925383,
          0.7251832111925383,
          0.7245169886742172,
          0.7255163224516988,
          0.7225183211192538,
          0.7255163224516988,
          0.7248500999333778,
          0.7245169886742172,
          0.7255163224516988,
          0.7241838774150566,
          0.7251832111925383,
          0.7228514323784144
         ],
         "yaxis": "y"
        },
        {
         "marker": {
          "color": [
           0,
           1,
           2,
           3,
           4,
           5,
           6,
           7,
           8,
           9,
           10,
           11,
           12,
           13,
           14,
           15,
           16,
           17,
           18,
           19,
           20,
           21,
           22,
           23,
           24,
           25,
           26,
           27,
           28,
           29,
           30,
           31,
           32,
           33,
           34,
           35,
           36,
           37,
           38,
           39,
           40,
           41,
           42,
           43,
           44,
           45,
           46,
           47,
           48,
           49,
           50,
           51,
           52,
           53,
           54,
           55,
           56,
           57,
           58,
           59,
           60,
           61,
           62,
           63,
           64,
           65,
           66,
           67,
           68,
           69,
           70,
           71,
           72,
           73,
           74,
           75,
           76,
           77,
           78,
           79,
           80,
           81,
           82,
           83,
           84,
           85,
           86,
           87,
           88,
           89,
           90,
           91,
           92,
           93,
           94,
           95,
           96,
           97,
           98,
           99,
           100,
           101,
           102,
           103,
           104,
           105,
           106,
           107,
           108,
           109,
           110,
           111,
           112,
           113,
           114,
           115,
           116,
           117,
           118,
           119,
           120,
           121,
           122,
           123,
           124,
           125,
           126,
           127,
           128,
           129,
           130,
           131,
           132,
           133,
           134,
           135,
           136,
           137,
           138,
           139,
           140,
           141,
           142,
           143,
           144,
           145,
           146,
           147,
           148,
           149,
           150,
           151,
           152,
           153,
           154,
           155,
           156,
           157,
           158,
           159,
           160,
           161,
           162,
           163,
           164,
           165,
           166,
           167,
           168,
           169,
           170,
           171,
           172,
           173,
           174,
           175,
           176,
           177,
           178,
           179,
           180,
           181,
           182,
           183,
           184,
           185,
           186,
           187,
           188,
           189,
           190,
           191,
           192,
           193,
           194,
           195,
           196,
           197,
           198,
           199
          ],
          "colorbar": {
           "title": {
            "text": "Trial"
           },
           "x": 1,
           "xpad": 40
          },
          "colorscale": [
           [
            0,
            "rgb(247,251,255)"
           ],
           [
            0.125,
            "rgb(222,235,247)"
           ],
           [
            0.25,
            "rgb(198,219,239)"
           ],
           [
            0.375,
            "rgb(158,202,225)"
           ],
           [
            0.5,
            "rgb(107,174,214)"
           ],
           [
            0.625,
            "rgb(66,146,198)"
           ],
           [
            0.75,
            "rgb(33,113,181)"
           ],
           [
            0.875,
            "rgb(8,81,156)"
           ],
           [
            1,
            "rgb(8,48,107)"
           ]
          ],
          "line": {
           "color": "Grey",
           "width": 0.5
          },
          "showscale": false
         },
         "mode": "markers",
         "name": "Feasible Trial",
         "showlegend": false,
         "type": "scatter",
         "x": [
          354,
          471,
          981,
          664,
          412,
          637,
          593,
          316,
          555,
          891,
          311,
          315,
          661,
          446,
          214,
          642,
          490,
          216,
          968,
          906,
          457,
          405,
          121,
          999,
          803,
          935,
          500,
          861,
          337,
          801,
          788,
          295,
          533,
          749,
          640,
          382,
          522,
          886,
          366,
          910,
          372,
          675,
          718,
          189,
          311,
          537,
          409,
          403,
          138,
          848,
          265,
          179,
          530,
          498,
          420,
          510,
          177,
          456,
          982,
          297,
          710,
          671,
          252,
          582,
          527,
          519,
          501,
          305,
          545,
          383,
          681,
          384,
          511,
          261,
          756,
          872,
          562,
          793,
          752,
          767,
          143,
          301,
          107,
          730,
          327,
          465,
          484,
          548,
          810,
          270,
          442,
          619,
          533,
          513,
          925,
          291,
          194,
          935,
          248,
          211,
          307,
          407,
          633,
          347,
          193,
          491,
          406,
          999,
          601,
          546,
          177,
          951,
          416,
          408,
          678,
          346,
          468,
          168,
          795,
          242,
          786,
          157,
          294,
          665,
          278,
          164,
          195,
          525,
          153,
          648,
          533,
          934,
          237,
          988,
          217,
          133,
          827,
          671,
          643,
          690,
          503,
          857,
          339,
          342,
          987,
          297,
          146,
          373,
          219,
          939,
          518,
          620,
          963,
          699,
          902,
          515,
          768,
          490,
          176,
          884,
          636,
          925,
          817,
          724,
          517,
          381,
          668,
          735,
          281,
          397,
          873,
          499,
          615,
          533,
          498,
          518,
          151,
          849,
          136,
          263,
          960,
          621,
          184,
          365,
          197,
          964,
          394,
          641,
          524,
          280,
          433,
          973,
          725,
          430,
          557,
          682,
          228,
          937,
          273,
          547
         ],
         "xaxis": "x2",
         "y": [
          0.7258494337108594,
          0.7255163224516988,
          0.7245169886742172,
          0.7251832111925383,
          0.7241838774150566,
          0.7215189873417721,
          0.7211858760826116,
          0.7231845436375749,
          0.7251832111925383,
          0.7248500999333778,
          0.7251832111925383,
          0.7251832111925383,
          0.7211858760826116,
          0.7258494337108594,
          0.7241838774150566,
          0.7201865423051299,
          0.7251832111925383,
          0.7221852098600933,
          0.72618254497002,
          0.7248500999333778,
          0.7251832111925383,
          0.723850766155896,
          0.7255163224516988,
          0.7231845436375749,
          0.7225183211192538,
          0.7251832111925383,
          0.7255163224516988,
          0.7218520986009327,
          0.7175216522318454,
          0.7255163224516988,
          0.7248500999333778,
          0.72618254497002,
          0.7248500999333778,
          0.7201865423051299,
          0.7235176548967355,
          0.7215189873417721,
          0.7248500999333778,
          0.7251832111925383,
          0.7251832111925383,
          0.7228514323784144,
          0.7255163224516988,
          0.7251832111925383,
          0.7255163224516988,
          0.7221852098600933,
          0.7255163224516988,
          0.7251832111925383,
          0.7251832111925383,
          0.7251832111925383,
          0.7251832111925383,
          0.72618254497002,
          0.7211858760826116,
          0.7135243171219188,
          0.7211858760826116,
          0.7251832111925383,
          0.7241838774150566,
          0.7171885409726849,
          0.7171885409726849,
          0.7215189873417721,
          0.7251832111925383,
          0.7235176548967355,
          0.7251832111925383,
          0.7225183211192538,
          0.7255163224516988,
          0.7248500999333778,
          0.7241838774150566,
          0.7245169886742172,
          0.7248500999333778,
          0.7255163224516988,
          0.7251832111925383,
          0.7215189873417721,
          0.7251832111925383,
          0.7251832111925383,
          0.7115256495669554,
          0.7251832111925383,
          0.723850766155896,
          0.7258494337108594,
          0.7211858760826116,
          0.7245169886742172,
          0.7228514323784144,
          0.7241838774150566,
          0.7258494337108594,
          0.7251832111925383,
          0.7258494337108594,
          0.7251832111925383,
          0.7235176548967355,
          0.7208527648234511,
          0.7241838774150566,
          0.7138574283810792,
          0.7258494337108594,
          0.7251832111925383,
          0.7251832111925383,
          0.7221852098600933,
          0.7251832111925383,
          0.7251832111925383,
          0.7228514323784144,
          0.7251832111925383,
          0.7251832111925383,
          0.7248500999333778,
          0.7251832111925383,
          0.7248500999333778,
          0.7258494337108594,
          0.7071952031978681,
          0.7251832111925383,
          0.7255163224516988,
          0.7248500999333778,
          0.7248500999333778,
          0.7228514323784144,
          0.7251832111925383,
          0.7225183211192538,
          0.7228514323784144,
          0.7208527648234511,
          0.723850766155896,
          0.7251832111925383,
          0.723850766155896,
          0.7251832111925383,
          0.7255163224516988,
          0.7241838774150566,
          0.7241838774150566,
          0.7251832111925383,
          0.7225183211192538,
          0.7258494337108594,
          0.7251832111925383,
          0.7255163224516988,
          0.7195203197868087,
          0.7241838774150566,
          0.7228514323784144,
          0.7255163224516988,
          0.7235176548967355,
          0.7255163224516988,
          0.7235176548967355,
          0.7245169886742172,
          0.723850766155896,
          0.7258494337108594,
          0.7231845436375749,
          0.7258494337108594,
          0.7251832111925383,
          0.714856762158561,
          0.7245169886742172,
          0.7255163224516988,
          0.7248500999333778,
          0.7251832111925383,
          0.7251832111925383,
          0.7251832111925383,
          0.7251832111925383,
          0.7258494337108594,
          0.7191872085276483,
          0.7251832111925383,
          0.7255163224516988,
          0.7251832111925383,
          0.7241838774150566,
          0.7248500999333778,
          0.7231845436375749,
          0.7251832111925383,
          0.72618254497002,
          0.7251832111925383,
          0.7258494337108594,
          0.7248500999333778,
          0.7251832111925383,
          0.7245169886742172,
          0.7251832111925383,
          0.7248500999333778,
          0.7248500999333778,
          0.7258494337108594,
          0.7235176548967355,
          0.723850766155896,
          0.7241838774150566,
          0.7245169886742172,
          0.7251832111925383,
          0.7255163224516988,
          0.723850766155896,
          0.7241838774150566,
          0.7241838774150566,
          0.7221852098600933,
          0.7241838774150566,
          0.723850766155896,
          0.7251832111925383,
          0.7248500999333778,
          0.7098600932711525,
          0.7251832111925383,
          0.7225183211192538,
          0.7248500999333778,
          0.7251832111925383,
          0.7248500999333778,
          0.7248500999333778,
          0.7235176548967355,
          0.7228514323784144,
          0.7221852098600933,
          0.7258494337108594,
          0.7251832111925383,
          0.7251832111925383,
          0.7245169886742172,
          0.7255163224516988,
          0.7225183211192538,
          0.7255163224516988,
          0.7248500999333778,
          0.7245169886742172,
          0.7255163224516988,
          0.7241838774150566,
          0.7251832111925383,
          0.7228514323784144
         ],
         "yaxis": "y2"
        },
        {
         "marker": {
          "color": [
           0,
           1,
           2,
           3,
           4,
           5,
           6,
           7,
           8,
           9,
           10,
           11,
           12,
           13,
           14,
           15,
           16,
           17,
           18,
           19,
           20,
           21,
           22,
           23,
           24,
           25,
           26,
           27,
           28,
           29,
           30,
           31,
           32,
           33,
           34,
           35,
           36,
           37,
           38,
           39,
           40,
           41,
           42,
           43,
           44,
           45,
           46,
           47,
           48,
           49,
           50,
           51,
           52,
           53,
           54,
           55,
           56,
           57,
           58,
           59,
           60,
           61,
           62,
           63,
           64,
           65,
           66,
           67,
           68,
           69,
           70,
           71,
           72,
           73,
           74,
           75,
           76,
           77,
           78,
           79,
           80,
           81,
           82,
           83,
           84,
           85,
           86,
           87,
           88,
           89,
           90,
           91,
           92,
           93,
           94,
           95,
           96,
           97,
           98,
           99,
           100,
           101,
           102,
           103,
           104,
           105,
           106,
           107,
           108,
           109,
           110,
           111,
           112,
           113,
           114,
           115,
           116,
           117,
           118,
           119,
           120,
           121,
           122,
           123,
           124,
           125,
           126,
           127,
           128,
           129,
           130,
           131,
           132,
           133,
           134,
           135,
           136,
           137,
           138,
           139,
           140,
           141,
           142,
           143,
           144,
           145,
           146,
           147,
           148,
           149,
           150,
           151,
           152,
           153,
           154,
           155,
           156,
           157,
           158,
           159,
           160,
           161,
           162,
           163,
           164,
           165,
           166,
           167,
           168,
           169,
           170,
           171,
           172,
           173,
           174,
           175,
           176,
           177,
           178,
           179,
           180,
           181,
           182,
           183,
           184,
           185,
           186,
           187,
           188,
           189,
           190,
           191,
           192,
           193,
           194,
           195,
           196,
           197,
           198,
           199
          ],
          "colorbar": {
           "title": {
            "text": "Trial"
           },
           "x": 1,
           "xpad": 40
          },
          "colorscale": [
           [
            0,
            "rgb(247,251,255)"
           ],
           [
            0.125,
            "rgb(222,235,247)"
           ],
           [
            0.25,
            "rgb(198,219,239)"
           ],
           [
            0.375,
            "rgb(158,202,225)"
           ],
           [
            0.5,
            "rgb(107,174,214)"
           ],
           [
            0.625,
            "rgb(66,146,198)"
           ],
           [
            0.75,
            "rgb(33,113,181)"
           ],
           [
            0.875,
            "rgb(8,81,156)"
           ],
           [
            1,
            "rgb(8,48,107)"
           ]
          ],
          "line": {
           "color": "Grey",
           "width": 0.5
          },
          "showscale": false
         },
         "mode": "markers",
         "name": "Feasible Trial",
         "showlegend": false,
         "type": "scatter",
         "x": [
          "l2",
          "l2",
          "l1",
          "l1",
          "l1",
          "l1",
          "l1",
          "l1",
          "l2",
          "l1",
          "l1",
          "l2",
          "l1",
          "l2",
          "l1",
          "l1",
          "l2",
          "l2",
          "l2",
          "l1",
          "l1",
          "l1",
          "l2",
          "l1",
          "l1",
          "l1",
          "l2",
          "l1",
          "l1",
          "l2",
          "l1",
          "l2",
          "l1",
          "l1",
          "l1",
          "l1",
          "l1",
          "l2",
          "l2",
          "l2",
          "l2",
          "l1",
          "l2",
          "l1",
          "l1",
          "l1",
          "l1",
          "l2",
          "l1",
          "l2",
          "l1",
          "l1",
          "l1",
          "l1",
          "l1",
          "l1",
          "l1",
          "l1",
          "l2",
          "l2",
          "l2",
          "l2",
          "l2",
          "l1",
          "l1",
          "l2",
          "l1",
          "l1",
          "l1",
          "l1",
          "l1",
          "l2",
          "l1",
          "l1",
          "l1",
          "l2",
          "l1",
          "l1",
          "l1",
          "l2",
          "l2",
          "l1",
          "l2",
          "l1",
          "l2",
          "l1",
          "l1",
          "l1",
          "l2",
          "l1",
          "l2",
          "l2",
          "l1",
          "l2",
          "l2",
          "l2",
          "l1",
          "l2",
          "l2",
          "l2",
          "l2",
          "l1",
          "l1",
          "l2",
          "l1",
          "l2",
          "l1",
          "l2",
          "l1",
          "l2",
          "l1",
          "l2",
          "l1",
          "l2",
          "l1",
          "l1",
          "l2",
          "l1",
          "l1",
          "l1",
          "l2",
          "l2",
          "l2",
          "l1",
          "l1",
          "l2",
          "l2",
          "l2",
          "l2",
          "l2",
          "l1",
          "l2",
          "l2",
          "l2",
          "l2",
          "l1",
          "l1",
          "l1",
          "l2",
          "l2",
          "l2",
          "l1",
          "l1",
          "l1",
          "l2",
          "l1",
          "l2",
          "l2",
          "l2",
          "l2",
          "l1",
          "l1",
          "l1",
          "l2",
          "l1",
          "l2",
          "l1",
          "l1",
          "l1",
          "l1",
          "l1",
          "l1",
          "l2",
          "l1",
          "l2",
          "l1",
          "l2",
          "l2",
          "l2",
          "l1",
          "l1",
          "l2",
          "l2",
          "l1",
          "l1",
          "l1",
          "l1",
          "l1",
          "l1",
          "l2",
          "l2",
          "l1",
          "l2",
          "l1",
          "l2",
          "l2",
          "l2",
          "l2",
          "l2",
          "l1",
          "l1",
          "l2",
          "l1",
          "l2",
          "l2",
          "l2",
          "l2",
          "l2",
          "l1",
          "l1"
         ],
         "xaxis": "x3",
         "y": [
          0.7258494337108594,
          0.7255163224516988,
          0.7245169886742172,
          0.7251832111925383,
          0.7241838774150566,
          0.7215189873417721,
          0.7211858760826116,
          0.7231845436375749,
          0.7251832111925383,
          0.7248500999333778,
          0.7251832111925383,
          0.7251832111925383,
          0.7211858760826116,
          0.7258494337108594,
          0.7241838774150566,
          0.7201865423051299,
          0.7251832111925383,
          0.7221852098600933,
          0.72618254497002,
          0.7248500999333778,
          0.7251832111925383,
          0.723850766155896,
          0.7255163224516988,
          0.7231845436375749,
          0.7225183211192538,
          0.7251832111925383,
          0.7255163224516988,
          0.7218520986009327,
          0.7175216522318454,
          0.7255163224516988,
          0.7248500999333778,
          0.72618254497002,
          0.7248500999333778,
          0.7201865423051299,
          0.7235176548967355,
          0.7215189873417721,
          0.7248500999333778,
          0.7251832111925383,
          0.7251832111925383,
          0.7228514323784144,
          0.7255163224516988,
          0.7251832111925383,
          0.7255163224516988,
          0.7221852098600933,
          0.7255163224516988,
          0.7251832111925383,
          0.7251832111925383,
          0.7251832111925383,
          0.7251832111925383,
          0.72618254497002,
          0.7211858760826116,
          0.7135243171219188,
          0.7211858760826116,
          0.7251832111925383,
          0.7241838774150566,
          0.7171885409726849,
          0.7171885409726849,
          0.7215189873417721,
          0.7251832111925383,
          0.7235176548967355,
          0.7251832111925383,
          0.7225183211192538,
          0.7255163224516988,
          0.7248500999333778,
          0.7241838774150566,
          0.7245169886742172,
          0.7248500999333778,
          0.7255163224516988,
          0.7251832111925383,
          0.7215189873417721,
          0.7251832111925383,
          0.7251832111925383,
          0.7115256495669554,
          0.7251832111925383,
          0.723850766155896,
          0.7258494337108594,
          0.7211858760826116,
          0.7245169886742172,
          0.7228514323784144,
          0.7241838774150566,
          0.7258494337108594,
          0.7251832111925383,
          0.7258494337108594,
          0.7251832111925383,
          0.7235176548967355,
          0.7208527648234511,
          0.7241838774150566,
          0.7138574283810792,
          0.7258494337108594,
          0.7251832111925383,
          0.7251832111925383,
          0.7221852098600933,
          0.7251832111925383,
          0.7251832111925383,
          0.7228514323784144,
          0.7251832111925383,
          0.7251832111925383,
          0.7248500999333778,
          0.7251832111925383,
          0.7248500999333778,
          0.7258494337108594,
          0.7071952031978681,
          0.7251832111925383,
          0.7255163224516988,
          0.7248500999333778,
          0.7248500999333778,
          0.7228514323784144,
          0.7251832111925383,
          0.7225183211192538,
          0.7228514323784144,
          0.7208527648234511,
          0.723850766155896,
          0.7251832111925383,
          0.723850766155896,
          0.7251832111925383,
          0.7255163224516988,
          0.7241838774150566,
          0.7241838774150566,
          0.7251832111925383,
          0.7225183211192538,
          0.7258494337108594,
          0.7251832111925383,
          0.7255163224516988,
          0.7195203197868087,
          0.7241838774150566,
          0.7228514323784144,
          0.7255163224516988,
          0.7235176548967355,
          0.7255163224516988,
          0.7235176548967355,
          0.7245169886742172,
          0.723850766155896,
          0.7258494337108594,
          0.7231845436375749,
          0.7258494337108594,
          0.7251832111925383,
          0.714856762158561,
          0.7245169886742172,
          0.7255163224516988,
          0.7248500999333778,
          0.7251832111925383,
          0.7251832111925383,
          0.7251832111925383,
          0.7251832111925383,
          0.7258494337108594,
          0.7191872085276483,
          0.7251832111925383,
          0.7255163224516988,
          0.7251832111925383,
          0.7241838774150566,
          0.7248500999333778,
          0.7231845436375749,
          0.7251832111925383,
          0.72618254497002,
          0.7251832111925383,
          0.7258494337108594,
          0.7248500999333778,
          0.7251832111925383,
          0.7245169886742172,
          0.7251832111925383,
          0.7248500999333778,
          0.7248500999333778,
          0.7258494337108594,
          0.7235176548967355,
          0.723850766155896,
          0.7241838774150566,
          0.7245169886742172,
          0.7251832111925383,
          0.7255163224516988,
          0.723850766155896,
          0.7241838774150566,
          0.7241838774150566,
          0.7221852098600933,
          0.7241838774150566,
          0.723850766155896,
          0.7251832111925383,
          0.7248500999333778,
          0.7098600932711525,
          0.7251832111925383,
          0.7225183211192538,
          0.7248500999333778,
          0.7251832111925383,
          0.7248500999333778,
          0.7248500999333778,
          0.7235176548967355,
          0.7228514323784144,
          0.7221852098600933,
          0.7258494337108594,
          0.7251832111925383,
          0.7251832111925383,
          0.7245169886742172,
          0.7255163224516988,
          0.7225183211192538,
          0.7255163224516988,
          0.7248500999333778,
          0.7245169886742172,
          0.7255163224516988,
          0.7241838774150566,
          0.7251832111925383,
          0.7228514323784144
         ],
         "yaxis": "y3"
        },
        {
         "marker": {
          "color": [
           0,
           1,
           2,
           3,
           4,
           5,
           6,
           7,
           8,
           9,
           10,
           11,
           12,
           13,
           14,
           15,
           16,
           17,
           18,
           19,
           20,
           21,
           22,
           23,
           24,
           25,
           26,
           27,
           28,
           29,
           30,
           31,
           32,
           33,
           34,
           35,
           36,
           37,
           38,
           39,
           40,
           41,
           42,
           43,
           44,
           45,
           46,
           47,
           48,
           49,
           50,
           51,
           52,
           53,
           54,
           55,
           56,
           57,
           58,
           59,
           60,
           61,
           62,
           63,
           64,
           65,
           66,
           67,
           68,
           69,
           70,
           71,
           72,
           73,
           74,
           75,
           76,
           77,
           78,
           79,
           80,
           81,
           82,
           83,
           84,
           85,
           86,
           87,
           88,
           89,
           90,
           91,
           92,
           93,
           94,
           95,
           96,
           97,
           98,
           99,
           100,
           101,
           102,
           103,
           104,
           105,
           106,
           107,
           108,
           109,
           110,
           111,
           112,
           113,
           114,
           115,
           116,
           117,
           118,
           119,
           120,
           121,
           122,
           123,
           124,
           125,
           126,
           127,
           128,
           129,
           130,
           131,
           132,
           133,
           134,
           135,
           136,
           137,
           138,
           139,
           140,
           141,
           142,
           143,
           144,
           145,
           146,
           147,
           148,
           149,
           150,
           151,
           152,
           153,
           154,
           155,
           156,
           157,
           158,
           159,
           160,
           161,
           162,
           163,
           164,
           165,
           166,
           167,
           168,
           169,
           170,
           171,
           172,
           173,
           174,
           175,
           176,
           177,
           178,
           179,
           180,
           181,
           182,
           183,
           184,
           185,
           186,
           187,
           188,
           189,
           190,
           191,
           192,
           193,
           194,
           195,
           196,
           197,
           198,
           199
          ],
          "colorbar": {
           "title": {
            "text": "Trial"
           },
           "x": 1,
           "xpad": 40
          },
          "colorscale": [
           [
            0,
            "rgb(247,251,255)"
           ],
           [
            0.125,
            "rgb(222,235,247)"
           ],
           [
            0.25,
            "rgb(198,219,239)"
           ],
           [
            0.375,
            "rgb(158,202,225)"
           ],
           [
            0.5,
            "rgb(107,174,214)"
           ],
           [
            0.625,
            "rgb(66,146,198)"
           ],
           [
            0.75,
            "rgb(33,113,181)"
           ],
           [
            0.875,
            "rgb(8,81,156)"
           ],
           [
            1,
            "rgb(8,48,107)"
           ]
          ],
          "line": {
           "color": "Grey",
           "width": 0.5
          },
          "showscale": false
         },
         "mode": "markers",
         "name": "Feasible Trial",
         "showlegend": false,
         "type": "scatter",
         "x": [
          "saga",
          "saga",
          "liblinear",
          "liblinear",
          "liblinear",
          "liblinear",
          "saga",
          "liblinear",
          "saga",
          "saga",
          "saga",
          "saga",
          "liblinear",
          "saga",
          "liblinear",
          "liblinear",
          "liblinear",
          "saga",
          "liblinear",
          "liblinear",
          "saga",
          "liblinear",
          "saga",
          "saga",
          "saga",
          "saga",
          "saga",
          "saga",
          "saga",
          "saga",
          "liblinear",
          "saga",
          "liblinear",
          "saga",
          "liblinear",
          "liblinear",
          "saga",
          "liblinear",
          "saga",
          "saga",
          "saga",
          "liblinear",
          "saga",
          "saga",
          "saga",
          "saga",
          "saga",
          "saga",
          "liblinear",
          "saga",
          "saga",
          "saga",
          "saga",
          "saga",
          "liblinear",
          "liblinear",
          "liblinear",
          "liblinear",
          "saga",
          "liblinear",
          "liblinear",
          "saga",
          "liblinear",
          "saga",
          "liblinear",
          "liblinear",
          "liblinear",
          "saga",
          "saga",
          "saga",
          "saga",
          "saga",
          "liblinear",
          "saga",
          "saga",
          "liblinear",
          "liblinear",
          "liblinear",
          "saga",
          "liblinear",
          "liblinear",
          "liblinear",
          "liblinear",
          "liblinear",
          "saga",
          "saga",
          "saga",
          "saga",
          "liblinear",
          "liblinear",
          "liblinear",
          "saga",
          "liblinear",
          "liblinear",
          "saga",
          "saga",
          "saga",
          "liblinear",
          "liblinear",
          "saga",
          "saga",
          "liblinear",
          "liblinear",
          "saga",
          "saga",
          "saga",
          "liblinear",
          "liblinear",
          "liblinear",
          "liblinear",
          "saga",
          "saga",
          "saga",
          "liblinear",
          "liblinear",
          "saga",
          "saga",
          "liblinear",
          "saga",
          "liblinear",
          "liblinear",
          "saga",
          "liblinear",
          "liblinear",
          "liblinear",
          "saga",
          "liblinear",
          "saga",
          "saga",
          "liblinear",
          "liblinear",
          "saga",
          "liblinear",
          "liblinear",
          "liblinear",
          "liblinear",
          "liblinear",
          "liblinear",
          "saga",
          "liblinear",
          "liblinear",
          "saga",
          "liblinear",
          "saga",
          "saga",
          "liblinear",
          "liblinear",
          "saga",
          "saga",
          "saga",
          "liblinear",
          "liblinear",
          "saga",
          "liblinear",
          "liblinear",
          "saga",
          "saga",
          "saga",
          "liblinear",
          "liblinear",
          "saga",
          "liblinear",
          "saga",
          "liblinear",
          "liblinear",
          "liblinear",
          "liblinear",
          "liblinear",
          "liblinear",
          "liblinear",
          "liblinear",
          "liblinear",
          "liblinear",
          "saga",
          "liblinear",
          "liblinear",
          "saga",
          "saga",
          "saga",
          "saga",
          "saga",
          "saga",
          "liblinear",
          "saga",
          "saga",
          "liblinear",
          "liblinear",
          "saga",
          "saga",
          "liblinear",
          "liblinear",
          "liblinear",
          "saga",
          "liblinear",
          "liblinear",
          "saga",
          "saga",
          "liblinear",
          "liblinear",
          "liblinear"
         ],
         "xaxis": "x4",
         "y": [
          0.7258494337108594,
          0.7255163224516988,
          0.7245169886742172,
          0.7251832111925383,
          0.7241838774150566,
          0.7215189873417721,
          0.7211858760826116,
          0.7231845436375749,
          0.7251832111925383,
          0.7248500999333778,
          0.7251832111925383,
          0.7251832111925383,
          0.7211858760826116,
          0.7258494337108594,
          0.7241838774150566,
          0.7201865423051299,
          0.7251832111925383,
          0.7221852098600933,
          0.72618254497002,
          0.7248500999333778,
          0.7251832111925383,
          0.723850766155896,
          0.7255163224516988,
          0.7231845436375749,
          0.7225183211192538,
          0.7251832111925383,
          0.7255163224516988,
          0.7218520986009327,
          0.7175216522318454,
          0.7255163224516988,
          0.7248500999333778,
          0.72618254497002,
          0.7248500999333778,
          0.7201865423051299,
          0.7235176548967355,
          0.7215189873417721,
          0.7248500999333778,
          0.7251832111925383,
          0.7251832111925383,
          0.7228514323784144,
          0.7255163224516988,
          0.7251832111925383,
          0.7255163224516988,
          0.7221852098600933,
          0.7255163224516988,
          0.7251832111925383,
          0.7251832111925383,
          0.7251832111925383,
          0.7251832111925383,
          0.72618254497002,
          0.7211858760826116,
          0.7135243171219188,
          0.7211858760826116,
          0.7251832111925383,
          0.7241838774150566,
          0.7171885409726849,
          0.7171885409726849,
          0.7215189873417721,
          0.7251832111925383,
          0.7235176548967355,
          0.7251832111925383,
          0.7225183211192538,
          0.7255163224516988,
          0.7248500999333778,
          0.7241838774150566,
          0.7245169886742172,
          0.7248500999333778,
          0.7255163224516988,
          0.7251832111925383,
          0.7215189873417721,
          0.7251832111925383,
          0.7251832111925383,
          0.7115256495669554,
          0.7251832111925383,
          0.723850766155896,
          0.7258494337108594,
          0.7211858760826116,
          0.7245169886742172,
          0.7228514323784144,
          0.7241838774150566,
          0.7258494337108594,
          0.7251832111925383,
          0.7258494337108594,
          0.7251832111925383,
          0.7235176548967355,
          0.7208527648234511,
          0.7241838774150566,
          0.7138574283810792,
          0.7258494337108594,
          0.7251832111925383,
          0.7251832111925383,
          0.7221852098600933,
          0.7251832111925383,
          0.7251832111925383,
          0.7228514323784144,
          0.7251832111925383,
          0.7251832111925383,
          0.7248500999333778,
          0.7251832111925383,
          0.7248500999333778,
          0.7258494337108594,
          0.7071952031978681,
          0.7251832111925383,
          0.7255163224516988,
          0.7248500999333778,
          0.7248500999333778,
          0.7228514323784144,
          0.7251832111925383,
          0.7225183211192538,
          0.7228514323784144,
          0.7208527648234511,
          0.723850766155896,
          0.7251832111925383,
          0.723850766155896,
          0.7251832111925383,
          0.7255163224516988,
          0.7241838774150566,
          0.7241838774150566,
          0.7251832111925383,
          0.7225183211192538,
          0.7258494337108594,
          0.7251832111925383,
          0.7255163224516988,
          0.7195203197868087,
          0.7241838774150566,
          0.7228514323784144,
          0.7255163224516988,
          0.7235176548967355,
          0.7255163224516988,
          0.7235176548967355,
          0.7245169886742172,
          0.723850766155896,
          0.7258494337108594,
          0.7231845436375749,
          0.7258494337108594,
          0.7251832111925383,
          0.714856762158561,
          0.7245169886742172,
          0.7255163224516988,
          0.7248500999333778,
          0.7251832111925383,
          0.7251832111925383,
          0.7251832111925383,
          0.7251832111925383,
          0.7258494337108594,
          0.7191872085276483,
          0.7251832111925383,
          0.7255163224516988,
          0.7251832111925383,
          0.7241838774150566,
          0.7248500999333778,
          0.7231845436375749,
          0.7251832111925383,
          0.72618254497002,
          0.7251832111925383,
          0.7258494337108594,
          0.7248500999333778,
          0.7251832111925383,
          0.7245169886742172,
          0.7251832111925383,
          0.7248500999333778,
          0.7248500999333778,
          0.7258494337108594,
          0.7235176548967355,
          0.723850766155896,
          0.7241838774150566,
          0.7245169886742172,
          0.7251832111925383,
          0.7255163224516988,
          0.723850766155896,
          0.7241838774150566,
          0.7241838774150566,
          0.7221852098600933,
          0.7241838774150566,
          0.723850766155896,
          0.7251832111925383,
          0.7248500999333778,
          0.7098600932711525,
          0.7251832111925383,
          0.7225183211192538,
          0.7248500999333778,
          0.7251832111925383,
          0.7248500999333778,
          0.7248500999333778,
          0.7235176548967355,
          0.7228514323784144,
          0.7221852098600933,
          0.7258494337108594,
          0.7251832111925383,
          0.7251832111925383,
          0.7245169886742172,
          0.7255163224516988,
          0.7225183211192538,
          0.7255163224516988,
          0.7248500999333778,
          0.7245169886742172,
          0.7255163224516988,
          0.7241838774150566,
          0.7251832111925383,
          0.7228514323784144
         ],
         "yaxis": "y4"
        }
       ],
       "layout": {
        "template": {
         "data": {
          "bar": [
           {
            "error_x": {
             "color": "#2a3f5f"
            },
            "error_y": {
             "color": "#2a3f5f"
            },
            "marker": {
             "line": {
              "color": "#E5ECF6",
              "width": 0.5
             },
             "pattern": {
              "fillmode": "overlay",
              "size": 10,
              "solidity": 0.2
             }
            },
            "type": "bar"
           }
          ],
          "barpolar": [
           {
            "marker": {
             "line": {
              "color": "#E5ECF6",
              "width": 0.5
             },
             "pattern": {
              "fillmode": "overlay",
              "size": 10,
              "solidity": 0.2
             }
            },
            "type": "barpolar"
           }
          ],
          "carpet": [
           {
            "aaxis": {
             "endlinecolor": "#2a3f5f",
             "gridcolor": "white",
             "linecolor": "white",
             "minorgridcolor": "white",
             "startlinecolor": "#2a3f5f"
            },
            "baxis": {
             "endlinecolor": "#2a3f5f",
             "gridcolor": "white",
             "linecolor": "white",
             "minorgridcolor": "white",
             "startlinecolor": "#2a3f5f"
            },
            "type": "carpet"
           }
          ],
          "choropleth": [
           {
            "colorbar": {
             "outlinewidth": 0,
             "ticks": ""
            },
            "type": "choropleth"
           }
          ],
          "contour": [
           {
            "colorbar": {
             "outlinewidth": 0,
             "ticks": ""
            },
            "colorscale": [
             [
              0,
              "#0d0887"
             ],
             [
              0.1111111111111111,
              "#46039f"
             ],
             [
              0.2222222222222222,
              "#7201a8"
             ],
             [
              0.3333333333333333,
              "#9c179e"
             ],
             [
              0.4444444444444444,
              "#bd3786"
             ],
             [
              0.5555555555555556,
              "#d8576b"
             ],
             [
              0.6666666666666666,
              "#ed7953"
             ],
             [
              0.7777777777777778,
              "#fb9f3a"
             ],
             [
              0.8888888888888888,
              "#fdca26"
             ],
             [
              1,
              "#f0f921"
             ]
            ],
            "type": "contour"
           }
          ],
          "contourcarpet": [
           {
            "colorbar": {
             "outlinewidth": 0,
             "ticks": ""
            },
            "type": "contourcarpet"
           }
          ],
          "heatmap": [
           {
            "colorbar": {
             "outlinewidth": 0,
             "ticks": ""
            },
            "colorscale": [
             [
              0,
              "#0d0887"
             ],
             [
              0.1111111111111111,
              "#46039f"
             ],
             [
              0.2222222222222222,
              "#7201a8"
             ],
             [
              0.3333333333333333,
              "#9c179e"
             ],
             [
              0.4444444444444444,
              "#bd3786"
             ],
             [
              0.5555555555555556,
              "#d8576b"
             ],
             [
              0.6666666666666666,
              "#ed7953"
             ],
             [
              0.7777777777777778,
              "#fb9f3a"
             ],
             [
              0.8888888888888888,
              "#fdca26"
             ],
             [
              1,
              "#f0f921"
             ]
            ],
            "type": "heatmap"
           }
          ],
          "heatmapgl": [
           {
            "colorbar": {
             "outlinewidth": 0,
             "ticks": ""
            },
            "colorscale": [
             [
              0,
              "#0d0887"
             ],
             [
              0.1111111111111111,
              "#46039f"
             ],
             [
              0.2222222222222222,
              "#7201a8"
             ],
             [
              0.3333333333333333,
              "#9c179e"
             ],
             [
              0.4444444444444444,
              "#bd3786"
             ],
             [
              0.5555555555555556,
              "#d8576b"
             ],
             [
              0.6666666666666666,
              "#ed7953"
             ],
             [
              0.7777777777777778,
              "#fb9f3a"
             ],
             [
              0.8888888888888888,
              "#fdca26"
             ],
             [
              1,
              "#f0f921"
             ]
            ],
            "type": "heatmapgl"
           }
          ],
          "histogram": [
           {
            "marker": {
             "pattern": {
              "fillmode": "overlay",
              "size": 10,
              "solidity": 0.2
             }
            },
            "type": "histogram"
           }
          ],
          "histogram2d": [
           {
            "colorbar": {
             "outlinewidth": 0,
             "ticks": ""
            },
            "colorscale": [
             [
              0,
              "#0d0887"
             ],
             [
              0.1111111111111111,
              "#46039f"
             ],
             [
              0.2222222222222222,
              "#7201a8"
             ],
             [
              0.3333333333333333,
              "#9c179e"
             ],
             [
              0.4444444444444444,
              "#bd3786"
             ],
             [
              0.5555555555555556,
              "#d8576b"
             ],
             [
              0.6666666666666666,
              "#ed7953"
             ],
             [
              0.7777777777777778,
              "#fb9f3a"
             ],
             [
              0.8888888888888888,
              "#fdca26"
             ],
             [
              1,
              "#f0f921"
             ]
            ],
            "type": "histogram2d"
           }
          ],
          "histogram2dcontour": [
           {
            "colorbar": {
             "outlinewidth": 0,
             "ticks": ""
            },
            "colorscale": [
             [
              0,
              "#0d0887"
             ],
             [
              0.1111111111111111,
              "#46039f"
             ],
             [
              0.2222222222222222,
              "#7201a8"
             ],
             [
              0.3333333333333333,
              "#9c179e"
             ],
             [
              0.4444444444444444,
              "#bd3786"
             ],
             [
              0.5555555555555556,
              "#d8576b"
             ],
             [
              0.6666666666666666,
              "#ed7953"
             ],
             [
              0.7777777777777778,
              "#fb9f3a"
             ],
             [
              0.8888888888888888,
              "#fdca26"
             ],
             [
              1,
              "#f0f921"
             ]
            ],
            "type": "histogram2dcontour"
           }
          ],
          "mesh3d": [
           {
            "colorbar": {
             "outlinewidth": 0,
             "ticks": ""
            },
            "type": "mesh3d"
           }
          ],
          "parcoords": [
           {
            "line": {
             "colorbar": {
              "outlinewidth": 0,
              "ticks": ""
             }
            },
            "type": "parcoords"
           }
          ],
          "pie": [
           {
            "automargin": true,
            "type": "pie"
           }
          ],
          "scatter": [
           {
            "fillpattern": {
             "fillmode": "overlay",
             "size": 10,
             "solidity": 0.2
            },
            "type": "scatter"
           }
          ],
          "scatter3d": [
           {
            "line": {
             "colorbar": {
              "outlinewidth": 0,
              "ticks": ""
             }
            },
            "marker": {
             "colorbar": {
              "outlinewidth": 0,
              "ticks": ""
             }
            },
            "type": "scatter3d"
           }
          ],
          "scattercarpet": [
           {
            "marker": {
             "colorbar": {
              "outlinewidth": 0,
              "ticks": ""
             }
            },
            "type": "scattercarpet"
           }
          ],
          "scattergeo": [
           {
            "marker": {
             "colorbar": {
              "outlinewidth": 0,
              "ticks": ""
             }
            },
            "type": "scattergeo"
           }
          ],
          "scattergl": [
           {
            "marker": {
             "colorbar": {
              "outlinewidth": 0,
              "ticks": ""
             }
            },
            "type": "scattergl"
           }
          ],
          "scattermapbox": [
           {
            "marker": {
             "colorbar": {
              "outlinewidth": 0,
              "ticks": ""
             }
            },
            "type": "scattermapbox"
           }
          ],
          "scatterpolar": [
           {
            "marker": {
             "colorbar": {
              "outlinewidth": 0,
              "ticks": ""
             }
            },
            "type": "scatterpolar"
           }
          ],
          "scatterpolargl": [
           {
            "marker": {
             "colorbar": {
              "outlinewidth": 0,
              "ticks": ""
             }
            },
            "type": "scatterpolargl"
           }
          ],
          "scatterternary": [
           {
            "marker": {
             "colorbar": {
              "outlinewidth": 0,
              "ticks": ""
             }
            },
            "type": "scatterternary"
           }
          ],
          "surface": [
           {
            "colorbar": {
             "outlinewidth": 0,
             "ticks": ""
            },
            "colorscale": [
             [
              0,
              "#0d0887"
             ],
             [
              0.1111111111111111,
              "#46039f"
             ],
             [
              0.2222222222222222,
              "#7201a8"
             ],
             [
              0.3333333333333333,
              "#9c179e"
             ],
             [
              0.4444444444444444,
              "#bd3786"
             ],
             [
              0.5555555555555556,
              "#d8576b"
             ],
             [
              0.6666666666666666,
              "#ed7953"
             ],
             [
              0.7777777777777778,
              "#fb9f3a"
             ],
             [
              0.8888888888888888,
              "#fdca26"
             ],
             [
              1,
              "#f0f921"
             ]
            ],
            "type": "surface"
           }
          ],
          "table": [
           {
            "cells": {
             "fill": {
              "color": "#EBF0F8"
             },
             "line": {
              "color": "white"
             }
            },
            "header": {
             "fill": {
              "color": "#C8D4E3"
             },
             "line": {
              "color": "white"
             }
            },
            "type": "table"
           }
          ]
         },
         "layout": {
          "annotationdefaults": {
           "arrowcolor": "#2a3f5f",
           "arrowhead": 0,
           "arrowwidth": 1
          },
          "autotypenumbers": "strict",
          "coloraxis": {
           "colorbar": {
            "outlinewidth": 0,
            "ticks": ""
           }
          },
          "colorscale": {
           "diverging": [
            [
             0,
             "#8e0152"
            ],
            [
             0.1,
             "#c51b7d"
            ],
            [
             0.2,
             "#de77ae"
            ],
            [
             0.3,
             "#f1b6da"
            ],
            [
             0.4,
             "#fde0ef"
            ],
            [
             0.5,
             "#f7f7f7"
            ],
            [
             0.6,
             "#e6f5d0"
            ],
            [
             0.7,
             "#b8e186"
            ],
            [
             0.8,
             "#7fbc41"
            ],
            [
             0.9,
             "#4d9221"
            ],
            [
             1,
             "#276419"
            ]
           ],
           "sequential": [
            [
             0,
             "#0d0887"
            ],
            [
             0.1111111111111111,
             "#46039f"
            ],
            [
             0.2222222222222222,
             "#7201a8"
            ],
            [
             0.3333333333333333,
             "#9c179e"
            ],
            [
             0.4444444444444444,
             "#bd3786"
            ],
            [
             0.5555555555555556,
             "#d8576b"
            ],
            [
             0.6666666666666666,
             "#ed7953"
            ],
            [
             0.7777777777777778,
             "#fb9f3a"
            ],
            [
             0.8888888888888888,
             "#fdca26"
            ],
            [
             1,
             "#f0f921"
            ]
           ],
           "sequentialminus": [
            [
             0,
             "#0d0887"
            ],
            [
             0.1111111111111111,
             "#46039f"
            ],
            [
             0.2222222222222222,
             "#7201a8"
            ],
            [
             0.3333333333333333,
             "#9c179e"
            ],
            [
             0.4444444444444444,
             "#bd3786"
            ],
            [
             0.5555555555555556,
             "#d8576b"
            ],
            [
             0.6666666666666666,
             "#ed7953"
            ],
            [
             0.7777777777777778,
             "#fb9f3a"
            ],
            [
             0.8888888888888888,
             "#fdca26"
            ],
            [
             1,
             "#f0f921"
            ]
           ]
          },
          "colorway": [
           "#636efa",
           "#EF553B",
           "#00cc96",
           "#ab63fa",
           "#FFA15A",
           "#19d3f3",
           "#FF6692",
           "#B6E880",
           "#FF97FF",
           "#FECB52"
          ],
          "font": {
           "color": "#2a3f5f"
          },
          "geo": {
           "bgcolor": "white",
           "lakecolor": "white",
           "landcolor": "#E5ECF6",
           "showlakes": true,
           "showland": true,
           "subunitcolor": "white"
          },
          "hoverlabel": {
           "align": "left"
          },
          "hovermode": "closest",
          "mapbox": {
           "style": "light"
          },
          "paper_bgcolor": "white",
          "plot_bgcolor": "#E5ECF6",
          "polar": {
           "angularaxis": {
            "gridcolor": "white",
            "linecolor": "white",
            "ticks": ""
           },
           "bgcolor": "#E5ECF6",
           "radialaxis": {
            "gridcolor": "white",
            "linecolor": "white",
            "ticks": ""
           }
          },
          "scene": {
           "xaxis": {
            "backgroundcolor": "#E5ECF6",
            "gridcolor": "white",
            "gridwidth": 2,
            "linecolor": "white",
            "showbackground": true,
            "ticks": "",
            "zerolinecolor": "white"
           },
           "yaxis": {
            "backgroundcolor": "#E5ECF6",
            "gridcolor": "white",
            "gridwidth": 2,
            "linecolor": "white",
            "showbackground": true,
            "ticks": "",
            "zerolinecolor": "white"
           },
           "zaxis": {
            "backgroundcolor": "#E5ECF6",
            "gridcolor": "white",
            "gridwidth": 2,
            "linecolor": "white",
            "showbackground": true,
            "ticks": "",
            "zerolinecolor": "white"
           }
          },
          "shapedefaults": {
           "line": {
            "color": "#2a3f5f"
           }
          },
          "ternary": {
           "aaxis": {
            "gridcolor": "white",
            "linecolor": "white",
            "ticks": ""
           },
           "baxis": {
            "gridcolor": "white",
            "linecolor": "white",
            "ticks": ""
           },
           "bgcolor": "#E5ECF6",
           "caxis": {
            "gridcolor": "white",
            "linecolor": "white",
            "ticks": ""
           }
          },
          "title": {
           "x": 0.05
          },
          "xaxis": {
           "automargin": true,
           "gridcolor": "white",
           "linecolor": "white",
           "ticks": "",
           "title": {
            "standoff": 15
           },
           "zerolinecolor": "white",
           "zerolinewidth": 2
          },
          "yaxis": {
           "automargin": true,
           "gridcolor": "white",
           "linecolor": "white",
           "ticks": "",
           "title": {
            "standoff": 15
           },
           "zerolinecolor": "white",
           "zerolinewidth": 2
          }
         }
        },
        "title": {
         "text": "Slice Plot"
        },
        "width": 1200,
        "xaxis": {
         "anchor": "y",
         "domain": [
          0,
          0.2125
         ],
         "title": {
          "text": "C"
         },
         "type": "log"
        },
        "xaxis2": {
         "anchor": "y2",
         "domain": [
          0.2625,
          0.475
         ],
         "title": {
          "text": "max_iter"
         }
        },
        "xaxis3": {
         "anchor": "y3",
         "categoryarray": [
          "l1",
          "l2"
         ],
         "categoryorder": "array",
         "domain": [
          0.525,
          0.7375
         ],
         "title": {
          "text": "penalty"
         },
         "type": "category"
        },
        "xaxis4": {
         "anchor": "y4",
         "categoryarray": [
          "liblinear",
          "saga"
         ],
         "categoryorder": "array",
         "domain": [
          0.7875,
          1
         ],
         "title": {
          "text": "solver"
         },
         "type": "category"
        },
        "yaxis": {
         "anchor": "x",
         "domain": [
          0,
          1
         ],
         "title": {
          "text": "Objective Value"
         }
        },
        "yaxis2": {
         "anchor": "x2",
         "domain": [
          0,
          1
         ],
         "matches": "y",
         "showticklabels": false
        },
        "yaxis3": {
         "anchor": "x3",
         "domain": [
          0,
          1
         ],
         "matches": "y",
         "showticklabels": false
        },
        "yaxis4": {
         "anchor": "x4",
         "domain": [
          0,
          1
         ],
         "matches": "y",
         "showticklabels": false
        }
       }
      }
     },
     "metadata": {},
     "output_type": "display_data"
    }
   ],
   "source": [
    "optuna.visualization.plot_slice(study, params=['penalty', 'C', 'max_iter', 'solver'])"
   ]
  },
  {
   "cell_type": "code",
   "execution_count": 31,
   "metadata": {},
   "outputs": [
    {
     "data": {
      "application/vnd.plotly.v1+json": {
       "config": {
        "plotlyServerURL": "https://plot.ly"
       },
       "data": [
        {
         "cliponaxis": false,
         "hovertemplate": [
          "solver (CategoricalDistribution): 0.006415270821899578<extra></extra>",
          "max_iter (IntDistribution): 0.008839106697088078<extra></extra>",
          "penalty (CategoricalDistribution): 0.20140468148185312<extra></extra>",
          "C (FloatDistribution): 0.7833409409991592<extra></extra>"
         ],
         "name": "Objective Value",
         "orientation": "h",
         "text": [
          "<0.01",
          "<0.01",
          "0.20",
          "0.78"
         ],
         "textposition": "outside",
         "type": "bar",
         "x": [
          0.006415270821899578,
          0.008839106697088078,
          0.20140468148185312,
          0.7833409409991592
         ],
         "y": [
          "solver",
          "max_iter",
          "penalty",
          "C"
         ]
        }
       ],
       "layout": {
        "template": {
         "data": {
          "bar": [
           {
            "error_x": {
             "color": "#2a3f5f"
            },
            "error_y": {
             "color": "#2a3f5f"
            },
            "marker": {
             "line": {
              "color": "#E5ECF6",
              "width": 0.5
             },
             "pattern": {
              "fillmode": "overlay",
              "size": 10,
              "solidity": 0.2
             }
            },
            "type": "bar"
           }
          ],
          "barpolar": [
           {
            "marker": {
             "line": {
              "color": "#E5ECF6",
              "width": 0.5
             },
             "pattern": {
              "fillmode": "overlay",
              "size": 10,
              "solidity": 0.2
             }
            },
            "type": "barpolar"
           }
          ],
          "carpet": [
           {
            "aaxis": {
             "endlinecolor": "#2a3f5f",
             "gridcolor": "white",
             "linecolor": "white",
             "minorgridcolor": "white",
             "startlinecolor": "#2a3f5f"
            },
            "baxis": {
             "endlinecolor": "#2a3f5f",
             "gridcolor": "white",
             "linecolor": "white",
             "minorgridcolor": "white",
             "startlinecolor": "#2a3f5f"
            },
            "type": "carpet"
           }
          ],
          "choropleth": [
           {
            "colorbar": {
             "outlinewidth": 0,
             "ticks": ""
            },
            "type": "choropleth"
           }
          ],
          "contour": [
           {
            "colorbar": {
             "outlinewidth": 0,
             "ticks": ""
            },
            "colorscale": [
             [
              0,
              "#0d0887"
             ],
             [
              0.1111111111111111,
              "#46039f"
             ],
             [
              0.2222222222222222,
              "#7201a8"
             ],
             [
              0.3333333333333333,
              "#9c179e"
             ],
             [
              0.4444444444444444,
              "#bd3786"
             ],
             [
              0.5555555555555556,
              "#d8576b"
             ],
             [
              0.6666666666666666,
              "#ed7953"
             ],
             [
              0.7777777777777778,
              "#fb9f3a"
             ],
             [
              0.8888888888888888,
              "#fdca26"
             ],
             [
              1,
              "#f0f921"
             ]
            ],
            "type": "contour"
           }
          ],
          "contourcarpet": [
           {
            "colorbar": {
             "outlinewidth": 0,
             "ticks": ""
            },
            "type": "contourcarpet"
           }
          ],
          "heatmap": [
           {
            "colorbar": {
             "outlinewidth": 0,
             "ticks": ""
            },
            "colorscale": [
             [
              0,
              "#0d0887"
             ],
             [
              0.1111111111111111,
              "#46039f"
             ],
             [
              0.2222222222222222,
              "#7201a8"
             ],
             [
              0.3333333333333333,
              "#9c179e"
             ],
             [
              0.4444444444444444,
              "#bd3786"
             ],
             [
              0.5555555555555556,
              "#d8576b"
             ],
             [
              0.6666666666666666,
              "#ed7953"
             ],
             [
              0.7777777777777778,
              "#fb9f3a"
             ],
             [
              0.8888888888888888,
              "#fdca26"
             ],
             [
              1,
              "#f0f921"
             ]
            ],
            "type": "heatmap"
           }
          ],
          "heatmapgl": [
           {
            "colorbar": {
             "outlinewidth": 0,
             "ticks": ""
            },
            "colorscale": [
             [
              0,
              "#0d0887"
             ],
             [
              0.1111111111111111,
              "#46039f"
             ],
             [
              0.2222222222222222,
              "#7201a8"
             ],
             [
              0.3333333333333333,
              "#9c179e"
             ],
             [
              0.4444444444444444,
              "#bd3786"
             ],
             [
              0.5555555555555556,
              "#d8576b"
             ],
             [
              0.6666666666666666,
              "#ed7953"
             ],
             [
              0.7777777777777778,
              "#fb9f3a"
             ],
             [
              0.8888888888888888,
              "#fdca26"
             ],
             [
              1,
              "#f0f921"
             ]
            ],
            "type": "heatmapgl"
           }
          ],
          "histogram": [
           {
            "marker": {
             "pattern": {
              "fillmode": "overlay",
              "size": 10,
              "solidity": 0.2
             }
            },
            "type": "histogram"
           }
          ],
          "histogram2d": [
           {
            "colorbar": {
             "outlinewidth": 0,
             "ticks": ""
            },
            "colorscale": [
             [
              0,
              "#0d0887"
             ],
             [
              0.1111111111111111,
              "#46039f"
             ],
             [
              0.2222222222222222,
              "#7201a8"
             ],
             [
              0.3333333333333333,
              "#9c179e"
             ],
             [
              0.4444444444444444,
              "#bd3786"
             ],
             [
              0.5555555555555556,
              "#d8576b"
             ],
             [
              0.6666666666666666,
              "#ed7953"
             ],
             [
              0.7777777777777778,
              "#fb9f3a"
             ],
             [
              0.8888888888888888,
              "#fdca26"
             ],
             [
              1,
              "#f0f921"
             ]
            ],
            "type": "histogram2d"
           }
          ],
          "histogram2dcontour": [
           {
            "colorbar": {
             "outlinewidth": 0,
             "ticks": ""
            },
            "colorscale": [
             [
              0,
              "#0d0887"
             ],
             [
              0.1111111111111111,
              "#46039f"
             ],
             [
              0.2222222222222222,
              "#7201a8"
             ],
             [
              0.3333333333333333,
              "#9c179e"
             ],
             [
              0.4444444444444444,
              "#bd3786"
             ],
             [
              0.5555555555555556,
              "#d8576b"
             ],
             [
              0.6666666666666666,
              "#ed7953"
             ],
             [
              0.7777777777777778,
              "#fb9f3a"
             ],
             [
              0.8888888888888888,
              "#fdca26"
             ],
             [
              1,
              "#f0f921"
             ]
            ],
            "type": "histogram2dcontour"
           }
          ],
          "mesh3d": [
           {
            "colorbar": {
             "outlinewidth": 0,
             "ticks": ""
            },
            "type": "mesh3d"
           }
          ],
          "parcoords": [
           {
            "line": {
             "colorbar": {
              "outlinewidth": 0,
              "ticks": ""
             }
            },
            "type": "parcoords"
           }
          ],
          "pie": [
           {
            "automargin": true,
            "type": "pie"
           }
          ],
          "scatter": [
           {
            "fillpattern": {
             "fillmode": "overlay",
             "size": 10,
             "solidity": 0.2
            },
            "type": "scatter"
           }
          ],
          "scatter3d": [
           {
            "line": {
             "colorbar": {
              "outlinewidth": 0,
              "ticks": ""
             }
            },
            "marker": {
             "colorbar": {
              "outlinewidth": 0,
              "ticks": ""
             }
            },
            "type": "scatter3d"
           }
          ],
          "scattercarpet": [
           {
            "marker": {
             "colorbar": {
              "outlinewidth": 0,
              "ticks": ""
             }
            },
            "type": "scattercarpet"
           }
          ],
          "scattergeo": [
           {
            "marker": {
             "colorbar": {
              "outlinewidth": 0,
              "ticks": ""
             }
            },
            "type": "scattergeo"
           }
          ],
          "scattergl": [
           {
            "marker": {
             "colorbar": {
              "outlinewidth": 0,
              "ticks": ""
             }
            },
            "type": "scattergl"
           }
          ],
          "scattermapbox": [
           {
            "marker": {
             "colorbar": {
              "outlinewidth": 0,
              "ticks": ""
             }
            },
            "type": "scattermapbox"
           }
          ],
          "scatterpolar": [
           {
            "marker": {
             "colorbar": {
              "outlinewidth": 0,
              "ticks": ""
             }
            },
            "type": "scatterpolar"
           }
          ],
          "scatterpolargl": [
           {
            "marker": {
             "colorbar": {
              "outlinewidth": 0,
              "ticks": ""
             }
            },
            "type": "scatterpolargl"
           }
          ],
          "scatterternary": [
           {
            "marker": {
             "colorbar": {
              "outlinewidth": 0,
              "ticks": ""
             }
            },
            "type": "scatterternary"
           }
          ],
          "surface": [
           {
            "colorbar": {
             "outlinewidth": 0,
             "ticks": ""
            },
            "colorscale": [
             [
              0,
              "#0d0887"
             ],
             [
              0.1111111111111111,
              "#46039f"
             ],
             [
              0.2222222222222222,
              "#7201a8"
             ],
             [
              0.3333333333333333,
              "#9c179e"
             ],
             [
              0.4444444444444444,
              "#bd3786"
             ],
             [
              0.5555555555555556,
              "#d8576b"
             ],
             [
              0.6666666666666666,
              "#ed7953"
             ],
             [
              0.7777777777777778,
              "#fb9f3a"
             ],
             [
              0.8888888888888888,
              "#fdca26"
             ],
             [
              1,
              "#f0f921"
             ]
            ],
            "type": "surface"
           }
          ],
          "table": [
           {
            "cells": {
             "fill": {
              "color": "#EBF0F8"
             },
             "line": {
              "color": "white"
             }
            },
            "header": {
             "fill": {
              "color": "#C8D4E3"
             },
             "line": {
              "color": "white"
             }
            },
            "type": "table"
           }
          ]
         },
         "layout": {
          "annotationdefaults": {
           "arrowcolor": "#2a3f5f",
           "arrowhead": 0,
           "arrowwidth": 1
          },
          "autotypenumbers": "strict",
          "coloraxis": {
           "colorbar": {
            "outlinewidth": 0,
            "ticks": ""
           }
          },
          "colorscale": {
           "diverging": [
            [
             0,
             "#8e0152"
            ],
            [
             0.1,
             "#c51b7d"
            ],
            [
             0.2,
             "#de77ae"
            ],
            [
             0.3,
             "#f1b6da"
            ],
            [
             0.4,
             "#fde0ef"
            ],
            [
             0.5,
             "#f7f7f7"
            ],
            [
             0.6,
             "#e6f5d0"
            ],
            [
             0.7,
             "#b8e186"
            ],
            [
             0.8,
             "#7fbc41"
            ],
            [
             0.9,
             "#4d9221"
            ],
            [
             1,
             "#276419"
            ]
           ],
           "sequential": [
            [
             0,
             "#0d0887"
            ],
            [
             0.1111111111111111,
             "#46039f"
            ],
            [
             0.2222222222222222,
             "#7201a8"
            ],
            [
             0.3333333333333333,
             "#9c179e"
            ],
            [
             0.4444444444444444,
             "#bd3786"
            ],
            [
             0.5555555555555556,
             "#d8576b"
            ],
            [
             0.6666666666666666,
             "#ed7953"
            ],
            [
             0.7777777777777778,
             "#fb9f3a"
            ],
            [
             0.8888888888888888,
             "#fdca26"
            ],
            [
             1,
             "#f0f921"
            ]
           ],
           "sequentialminus": [
            [
             0,
             "#0d0887"
            ],
            [
             0.1111111111111111,
             "#46039f"
            ],
            [
             0.2222222222222222,
             "#7201a8"
            ],
            [
             0.3333333333333333,
             "#9c179e"
            ],
            [
             0.4444444444444444,
             "#bd3786"
            ],
            [
             0.5555555555555556,
             "#d8576b"
            ],
            [
             0.6666666666666666,
             "#ed7953"
            ],
            [
             0.7777777777777778,
             "#fb9f3a"
            ],
            [
             0.8888888888888888,
             "#fdca26"
            ],
            [
             1,
             "#f0f921"
            ]
           ]
          },
          "colorway": [
           "#636efa",
           "#EF553B",
           "#00cc96",
           "#ab63fa",
           "#FFA15A",
           "#19d3f3",
           "#FF6692",
           "#B6E880",
           "#FF97FF",
           "#FECB52"
          ],
          "font": {
           "color": "#2a3f5f"
          },
          "geo": {
           "bgcolor": "white",
           "lakecolor": "white",
           "landcolor": "#E5ECF6",
           "showlakes": true,
           "showland": true,
           "subunitcolor": "white"
          },
          "hoverlabel": {
           "align": "left"
          },
          "hovermode": "closest",
          "mapbox": {
           "style": "light"
          },
          "paper_bgcolor": "white",
          "plot_bgcolor": "#E5ECF6",
          "polar": {
           "angularaxis": {
            "gridcolor": "white",
            "linecolor": "white",
            "ticks": ""
           },
           "bgcolor": "#E5ECF6",
           "radialaxis": {
            "gridcolor": "white",
            "linecolor": "white",
            "ticks": ""
           }
          },
          "scene": {
           "xaxis": {
            "backgroundcolor": "#E5ECF6",
            "gridcolor": "white",
            "gridwidth": 2,
            "linecolor": "white",
            "showbackground": true,
            "ticks": "",
            "zerolinecolor": "white"
           },
           "yaxis": {
            "backgroundcolor": "#E5ECF6",
            "gridcolor": "white",
            "gridwidth": 2,
            "linecolor": "white",
            "showbackground": true,
            "ticks": "",
            "zerolinecolor": "white"
           },
           "zaxis": {
            "backgroundcolor": "#E5ECF6",
            "gridcolor": "white",
            "gridwidth": 2,
            "linecolor": "white",
            "showbackground": true,
            "ticks": "",
            "zerolinecolor": "white"
           }
          },
          "shapedefaults": {
           "line": {
            "color": "#2a3f5f"
           }
          },
          "ternary": {
           "aaxis": {
            "gridcolor": "white",
            "linecolor": "white",
            "ticks": ""
           },
           "baxis": {
            "gridcolor": "white",
            "linecolor": "white",
            "ticks": ""
           },
           "bgcolor": "#E5ECF6",
           "caxis": {
            "gridcolor": "white",
            "linecolor": "white",
            "ticks": ""
           }
          },
          "title": {
           "x": 0.05
          },
          "xaxis": {
           "automargin": true,
           "gridcolor": "white",
           "linecolor": "white",
           "ticks": "",
           "title": {
            "standoff": 15
           },
           "zerolinecolor": "white",
           "zerolinewidth": 2
          },
          "yaxis": {
           "automargin": true,
           "gridcolor": "white",
           "linecolor": "white",
           "ticks": "",
           "title": {
            "standoff": 15
           },
           "zerolinecolor": "white",
           "zerolinewidth": 2
          }
         }
        },
        "title": {
         "text": "Hyperparameter Importances"
        },
        "xaxis": {
         "title": {
          "text": "Hyperparameter Importance"
         }
        },
        "yaxis": {
         "title": {
          "text": "Hyperparameter"
         }
        }
       }
      }
     },
     "metadata": {},
     "output_type": "display_data"
    }
   ],
   "source": [
    "optuna.visualization.plot_param_importances(study)"
   ]
  },
  {
   "cell_type": "code",
   "execution_count": 32,
   "metadata": {},
   "outputs": [
    {
     "data": {
      "application/vnd.plotly.v1+json": {
       "config": {
        "plotlyServerURL": "https://plot.ly"
       },
       "data": [
        {
         "mode": "lines",
         "name": "no-name-f9ce98d0-5d95-4407-9ddc-4b678983625a",
         "type": "scatter",
         "x": [
          0.7071952031978681,
          0.7073869945289,
          0.7075787858599317,
          0.7077705771909636,
          0.7079623685219955,
          0.7081541598530273,
          0.7083459511840591,
          0.7085377425150909,
          0.7087295338461228,
          0.7089213251771547,
          0.7091131165081864,
          0.7093049078392183,
          0.7094966991702502,
          0.709688490501282,
          0.7098802818323138,
          0.7100720731633456,
          0.7102638644943775,
          0.7104556558254094,
          0.7106474471564411,
          0.710839238487473,
          0.7110310298185049,
          0.7112228211495367,
          0.7114146124805685,
          0.7116064038116003,
          0.7117981951426322,
          0.7119899864736641,
          0.7121817778046958,
          0.7123735691357277,
          0.7125653604667596,
          0.7127571517977914,
          0.7129489431288232,
          0.713140734459855,
          0.7133325257908869,
          0.7135243171219188,
          0.7137161084529505,
          0.7139078997839824,
          0.7140996911150143,
          0.7142914824460461,
          0.7144832737770779,
          0.7146750651081097,
          0.7148668564391416,
          0.7150586477701735,
          0.7152504391012052,
          0.7154422304322371,
          0.715634021763269,
          0.7158258130943008,
          0.7160176044253326,
          0.7162093957563644,
          0.7164011870873963,
          0.7165929784184282,
          0.7167847697494599,
          0.7169765610804918,
          0.7171683524115237,
          0.7173601437425555,
          0.7175519350735873,
          0.7177437264046191,
          0.717935517735651,
          0.7181273090666829,
          0.7183191003977146,
          0.7185108917287465,
          0.7187026830597784,
          0.7188944743908102,
          0.719086265721842,
          0.7192780570528738,
          0.7194698483839057,
          0.7196616397149376,
          0.7198534310459693,
          0.7200452223770012,
          0.7202370137080331,
          0.7204288050390649,
          0.7206205963700967,
          0.7208123877011285,
          0.7210041790321604,
          0.7211959703631923,
          0.721387761694224,
          0.7215795530252559,
          0.7217713443562878,
          0.7219631356873196,
          0.7221549270183514,
          0.7223467183493832,
          0.7225385096804151,
          0.722730301011447,
          0.7229220923424787,
          0.7231138836735106,
          0.7233056750045425,
          0.7234974663355743,
          0.7236892576666061,
          0.7238810489976379,
          0.7240728403286698,
          0.7242646316597017,
          0.7244564229907334,
          0.7246482143217653,
          0.7248400056527972,
          0.725031796983829,
          0.7252235883148608,
          0.7254153796458926,
          0.7256071709769245,
          0.7257989623079564,
          0.7259907536389881,
          0.72618254497002
         ],
         "y": [
          0.005,
          0.005,
          0.005,
          0.005,
          0.005,
          0.005,
          0.005,
          0.005,
          0.005,
          0.005,
          0.005,
          0.005,
          0.005,
          0.005,
          0.01,
          0.01,
          0.01,
          0.01,
          0.01,
          0.01,
          0.01,
          0.01,
          0.01,
          0.015,
          0.015,
          0.015,
          0.015,
          0.015,
          0.015,
          0.015,
          0.015,
          0.015,
          0.015,
          0.02,
          0.02,
          0.025,
          0.025,
          0.025,
          0.025,
          0.025,
          0.03,
          0.03,
          0.03,
          0.03,
          0.03,
          0.03,
          0.03,
          0.03,
          0.03,
          0.03,
          0.03,
          0.03,
          0.03,
          0.04,
          0.045,
          0.045,
          0.045,
          0.045,
          0.045,
          0.045,
          0.045,
          0.045,
          0.045,
          0.05,
          0.05,
          0.055,
          0.055,
          0.055,
          0.065,
          0.065,
          0.065,
          0.065,
          0.075,
          0.1,
          0.1,
          0.12,
          0.12,
          0.125,
          0.125,
          0.15,
          0.18,
          0.18,
          0.22,
          0.22,
          0.24,
          0.24,
          0.275,
          0.315,
          0.315,
          0.39,
          0.39,
          0.435,
          0.435,
          0.54,
          0.81,
          0.81,
          0.91,
          0.91,
          0.98,
          1
         ]
        }
       ],
       "layout": {
        "template": {
         "data": {
          "bar": [
           {
            "error_x": {
             "color": "#2a3f5f"
            },
            "error_y": {
             "color": "#2a3f5f"
            },
            "marker": {
             "line": {
              "color": "#E5ECF6",
              "width": 0.5
             },
             "pattern": {
              "fillmode": "overlay",
              "size": 10,
              "solidity": 0.2
             }
            },
            "type": "bar"
           }
          ],
          "barpolar": [
           {
            "marker": {
             "line": {
              "color": "#E5ECF6",
              "width": 0.5
             },
             "pattern": {
              "fillmode": "overlay",
              "size": 10,
              "solidity": 0.2
             }
            },
            "type": "barpolar"
           }
          ],
          "carpet": [
           {
            "aaxis": {
             "endlinecolor": "#2a3f5f",
             "gridcolor": "white",
             "linecolor": "white",
             "minorgridcolor": "white",
             "startlinecolor": "#2a3f5f"
            },
            "baxis": {
             "endlinecolor": "#2a3f5f",
             "gridcolor": "white",
             "linecolor": "white",
             "minorgridcolor": "white",
             "startlinecolor": "#2a3f5f"
            },
            "type": "carpet"
           }
          ],
          "choropleth": [
           {
            "colorbar": {
             "outlinewidth": 0,
             "ticks": ""
            },
            "type": "choropleth"
           }
          ],
          "contour": [
           {
            "colorbar": {
             "outlinewidth": 0,
             "ticks": ""
            },
            "colorscale": [
             [
              0,
              "#0d0887"
             ],
             [
              0.1111111111111111,
              "#46039f"
             ],
             [
              0.2222222222222222,
              "#7201a8"
             ],
             [
              0.3333333333333333,
              "#9c179e"
             ],
             [
              0.4444444444444444,
              "#bd3786"
             ],
             [
              0.5555555555555556,
              "#d8576b"
             ],
             [
              0.6666666666666666,
              "#ed7953"
             ],
             [
              0.7777777777777778,
              "#fb9f3a"
             ],
             [
              0.8888888888888888,
              "#fdca26"
             ],
             [
              1,
              "#f0f921"
             ]
            ],
            "type": "contour"
           }
          ],
          "contourcarpet": [
           {
            "colorbar": {
             "outlinewidth": 0,
             "ticks": ""
            },
            "type": "contourcarpet"
           }
          ],
          "heatmap": [
           {
            "colorbar": {
             "outlinewidth": 0,
             "ticks": ""
            },
            "colorscale": [
             [
              0,
              "#0d0887"
             ],
             [
              0.1111111111111111,
              "#46039f"
             ],
             [
              0.2222222222222222,
              "#7201a8"
             ],
             [
              0.3333333333333333,
              "#9c179e"
             ],
             [
              0.4444444444444444,
              "#bd3786"
             ],
             [
              0.5555555555555556,
              "#d8576b"
             ],
             [
              0.6666666666666666,
              "#ed7953"
             ],
             [
              0.7777777777777778,
              "#fb9f3a"
             ],
             [
              0.8888888888888888,
              "#fdca26"
             ],
             [
              1,
              "#f0f921"
             ]
            ],
            "type": "heatmap"
           }
          ],
          "heatmapgl": [
           {
            "colorbar": {
             "outlinewidth": 0,
             "ticks": ""
            },
            "colorscale": [
             [
              0,
              "#0d0887"
             ],
             [
              0.1111111111111111,
              "#46039f"
             ],
             [
              0.2222222222222222,
              "#7201a8"
             ],
             [
              0.3333333333333333,
              "#9c179e"
             ],
             [
              0.4444444444444444,
              "#bd3786"
             ],
             [
              0.5555555555555556,
              "#d8576b"
             ],
             [
              0.6666666666666666,
              "#ed7953"
             ],
             [
              0.7777777777777778,
              "#fb9f3a"
             ],
             [
              0.8888888888888888,
              "#fdca26"
             ],
             [
              1,
              "#f0f921"
             ]
            ],
            "type": "heatmapgl"
           }
          ],
          "histogram": [
           {
            "marker": {
             "pattern": {
              "fillmode": "overlay",
              "size": 10,
              "solidity": 0.2
             }
            },
            "type": "histogram"
           }
          ],
          "histogram2d": [
           {
            "colorbar": {
             "outlinewidth": 0,
             "ticks": ""
            },
            "colorscale": [
             [
              0,
              "#0d0887"
             ],
             [
              0.1111111111111111,
              "#46039f"
             ],
             [
              0.2222222222222222,
              "#7201a8"
             ],
             [
              0.3333333333333333,
              "#9c179e"
             ],
             [
              0.4444444444444444,
              "#bd3786"
             ],
             [
              0.5555555555555556,
              "#d8576b"
             ],
             [
              0.6666666666666666,
              "#ed7953"
             ],
             [
              0.7777777777777778,
              "#fb9f3a"
             ],
             [
              0.8888888888888888,
              "#fdca26"
             ],
             [
              1,
              "#f0f921"
             ]
            ],
            "type": "histogram2d"
           }
          ],
          "histogram2dcontour": [
           {
            "colorbar": {
             "outlinewidth": 0,
             "ticks": ""
            },
            "colorscale": [
             [
              0,
              "#0d0887"
             ],
             [
              0.1111111111111111,
              "#46039f"
             ],
             [
              0.2222222222222222,
              "#7201a8"
             ],
             [
              0.3333333333333333,
              "#9c179e"
             ],
             [
              0.4444444444444444,
              "#bd3786"
             ],
             [
              0.5555555555555556,
              "#d8576b"
             ],
             [
              0.6666666666666666,
              "#ed7953"
             ],
             [
              0.7777777777777778,
              "#fb9f3a"
             ],
             [
              0.8888888888888888,
              "#fdca26"
             ],
             [
              1,
              "#f0f921"
             ]
            ],
            "type": "histogram2dcontour"
           }
          ],
          "mesh3d": [
           {
            "colorbar": {
             "outlinewidth": 0,
             "ticks": ""
            },
            "type": "mesh3d"
           }
          ],
          "parcoords": [
           {
            "line": {
             "colorbar": {
              "outlinewidth": 0,
              "ticks": ""
             }
            },
            "type": "parcoords"
           }
          ],
          "pie": [
           {
            "automargin": true,
            "type": "pie"
           }
          ],
          "scatter": [
           {
            "fillpattern": {
             "fillmode": "overlay",
             "size": 10,
             "solidity": 0.2
            },
            "type": "scatter"
           }
          ],
          "scatter3d": [
           {
            "line": {
             "colorbar": {
              "outlinewidth": 0,
              "ticks": ""
             }
            },
            "marker": {
             "colorbar": {
              "outlinewidth": 0,
              "ticks": ""
             }
            },
            "type": "scatter3d"
           }
          ],
          "scattercarpet": [
           {
            "marker": {
             "colorbar": {
              "outlinewidth": 0,
              "ticks": ""
             }
            },
            "type": "scattercarpet"
           }
          ],
          "scattergeo": [
           {
            "marker": {
             "colorbar": {
              "outlinewidth": 0,
              "ticks": ""
             }
            },
            "type": "scattergeo"
           }
          ],
          "scattergl": [
           {
            "marker": {
             "colorbar": {
              "outlinewidth": 0,
              "ticks": ""
             }
            },
            "type": "scattergl"
           }
          ],
          "scattermapbox": [
           {
            "marker": {
             "colorbar": {
              "outlinewidth": 0,
              "ticks": ""
             }
            },
            "type": "scattermapbox"
           }
          ],
          "scatterpolar": [
           {
            "marker": {
             "colorbar": {
              "outlinewidth": 0,
              "ticks": ""
             }
            },
            "type": "scatterpolar"
           }
          ],
          "scatterpolargl": [
           {
            "marker": {
             "colorbar": {
              "outlinewidth": 0,
              "ticks": ""
             }
            },
            "type": "scatterpolargl"
           }
          ],
          "scatterternary": [
           {
            "marker": {
             "colorbar": {
              "outlinewidth": 0,
              "ticks": ""
             }
            },
            "type": "scatterternary"
           }
          ],
          "surface": [
           {
            "colorbar": {
             "outlinewidth": 0,
             "ticks": ""
            },
            "colorscale": [
             [
              0,
              "#0d0887"
             ],
             [
              0.1111111111111111,
              "#46039f"
             ],
             [
              0.2222222222222222,
              "#7201a8"
             ],
             [
              0.3333333333333333,
              "#9c179e"
             ],
             [
              0.4444444444444444,
              "#bd3786"
             ],
             [
              0.5555555555555556,
              "#d8576b"
             ],
             [
              0.6666666666666666,
              "#ed7953"
             ],
             [
              0.7777777777777778,
              "#fb9f3a"
             ],
             [
              0.8888888888888888,
              "#fdca26"
             ],
             [
              1,
              "#f0f921"
             ]
            ],
            "type": "surface"
           }
          ],
          "table": [
           {
            "cells": {
             "fill": {
              "color": "#EBF0F8"
             },
             "line": {
              "color": "white"
             }
            },
            "header": {
             "fill": {
              "color": "#C8D4E3"
             },
             "line": {
              "color": "white"
             }
            },
            "type": "table"
           }
          ]
         },
         "layout": {
          "annotationdefaults": {
           "arrowcolor": "#2a3f5f",
           "arrowhead": 0,
           "arrowwidth": 1
          },
          "autotypenumbers": "strict",
          "coloraxis": {
           "colorbar": {
            "outlinewidth": 0,
            "ticks": ""
           }
          },
          "colorscale": {
           "diverging": [
            [
             0,
             "#8e0152"
            ],
            [
             0.1,
             "#c51b7d"
            ],
            [
             0.2,
             "#de77ae"
            ],
            [
             0.3,
             "#f1b6da"
            ],
            [
             0.4,
             "#fde0ef"
            ],
            [
             0.5,
             "#f7f7f7"
            ],
            [
             0.6,
             "#e6f5d0"
            ],
            [
             0.7,
             "#b8e186"
            ],
            [
             0.8,
             "#7fbc41"
            ],
            [
             0.9,
             "#4d9221"
            ],
            [
             1,
             "#276419"
            ]
           ],
           "sequential": [
            [
             0,
             "#0d0887"
            ],
            [
             0.1111111111111111,
             "#46039f"
            ],
            [
             0.2222222222222222,
             "#7201a8"
            ],
            [
             0.3333333333333333,
             "#9c179e"
            ],
            [
             0.4444444444444444,
             "#bd3786"
            ],
            [
             0.5555555555555556,
             "#d8576b"
            ],
            [
             0.6666666666666666,
             "#ed7953"
            ],
            [
             0.7777777777777778,
             "#fb9f3a"
            ],
            [
             0.8888888888888888,
             "#fdca26"
            ],
            [
             1,
             "#f0f921"
            ]
           ],
           "sequentialminus": [
            [
             0,
             "#0d0887"
            ],
            [
             0.1111111111111111,
             "#46039f"
            ],
            [
             0.2222222222222222,
             "#7201a8"
            ],
            [
             0.3333333333333333,
             "#9c179e"
            ],
            [
             0.4444444444444444,
             "#bd3786"
            ],
            [
             0.5555555555555556,
             "#d8576b"
            ],
            [
             0.6666666666666666,
             "#ed7953"
            ],
            [
             0.7777777777777778,
             "#fb9f3a"
            ],
            [
             0.8888888888888888,
             "#fdca26"
            ],
            [
             1,
             "#f0f921"
            ]
           ]
          },
          "colorway": [
           "#636efa",
           "#EF553B",
           "#00cc96",
           "#ab63fa",
           "#FFA15A",
           "#19d3f3",
           "#FF6692",
           "#B6E880",
           "#FF97FF",
           "#FECB52"
          ],
          "font": {
           "color": "#2a3f5f"
          },
          "geo": {
           "bgcolor": "white",
           "lakecolor": "white",
           "landcolor": "#E5ECF6",
           "showlakes": true,
           "showland": true,
           "subunitcolor": "white"
          },
          "hoverlabel": {
           "align": "left"
          },
          "hovermode": "closest",
          "mapbox": {
           "style": "light"
          },
          "paper_bgcolor": "white",
          "plot_bgcolor": "#E5ECF6",
          "polar": {
           "angularaxis": {
            "gridcolor": "white",
            "linecolor": "white",
            "ticks": ""
           },
           "bgcolor": "#E5ECF6",
           "radialaxis": {
            "gridcolor": "white",
            "linecolor": "white",
            "ticks": ""
           }
          },
          "scene": {
           "xaxis": {
            "backgroundcolor": "#E5ECF6",
            "gridcolor": "white",
            "gridwidth": 2,
            "linecolor": "white",
            "showbackground": true,
            "ticks": "",
            "zerolinecolor": "white"
           },
           "yaxis": {
            "backgroundcolor": "#E5ECF6",
            "gridcolor": "white",
            "gridwidth": 2,
            "linecolor": "white",
            "showbackground": true,
            "ticks": "",
            "zerolinecolor": "white"
           },
           "zaxis": {
            "backgroundcolor": "#E5ECF6",
            "gridcolor": "white",
            "gridwidth": 2,
            "linecolor": "white",
            "showbackground": true,
            "ticks": "",
            "zerolinecolor": "white"
           }
          },
          "shapedefaults": {
           "line": {
            "color": "#2a3f5f"
           }
          },
          "ternary": {
           "aaxis": {
            "gridcolor": "white",
            "linecolor": "white",
            "ticks": ""
           },
           "baxis": {
            "gridcolor": "white",
            "linecolor": "white",
            "ticks": ""
           },
           "bgcolor": "#E5ECF6",
           "caxis": {
            "gridcolor": "white",
            "linecolor": "white",
            "ticks": ""
           }
          },
          "title": {
           "x": 0.05
          },
          "xaxis": {
           "automargin": true,
           "gridcolor": "white",
           "linecolor": "white",
           "ticks": "",
           "title": {
            "standoff": 15
           },
           "zerolinecolor": "white",
           "zerolinewidth": 2
          },
          "yaxis": {
           "automargin": true,
           "gridcolor": "white",
           "linecolor": "white",
           "ticks": "",
           "title": {
            "standoff": 15
           },
           "zerolinecolor": "white",
           "zerolinewidth": 2
          }
         }
        },
        "title": {
         "text": "Empirical Distribution Function Plot"
        },
        "xaxis": {
         "title": {
          "text": "Objective Value"
         }
        },
        "yaxis": {
         "range": [
          0,
          1
         ],
         "title": {
          "text": "Cumulative Probability"
         }
        }
       }
      }
     },
     "metadata": {},
     "output_type": "display_data"
    }
   ],
   "source": [
    "optuna.visualization.plot_edf(study)"
   ]
  },
  {
   "cell_type": "markdown",
   "metadata": {},
   "source": [
    "Enlarge 'C' range and add elasticnet parameter (comes with l1_ratio)"
   ]
  },
  {
   "cell_type": "code",
   "execution_count": 33,
   "metadata": {},
   "outputs": [],
   "source": [
    "def objective(trial):\n",
    "    # Define the hyperparameters to optimize\n",
    "    l1_ratio = trial.suggest_uniform('l1_ratio', 0, 1)\n",
    "    penalty = trial.suggest_categorical('penalty', ['elasticnet'])\n",
    "    C = trial.suggest_loguniform('C', 0.01, 100.0)\n",
    "    max_iter = trial.suggest_int('max_iter', 100, 1000)\n",
    "    solver= trial.suggest_categorical('solver', ['saga'])\n",
    "    \n",
    "    # Create the logistic regression model with the hyperparameters\n",
    "    model = LogisticRegression(penalty=penalty, C=C, max_iter=max_iter,\n",
    "     solver=solver, l1_ratio=l1_ratio, random_state=seed)\n",
    "    \n",
    "    # Train the model\n",
    "    model.fit(X_train, y_train)\n",
    "    \n",
    "    # Make predictions on the test set\n",
    "    y_pred = model.predict(X_test)\n",
    "    \n",
    "    # Calculate the accuracy score\n",
    "    accuracy = accuracy_score(y_test, y_pred)\n",
    "    #score_cross_val = cross_val_score(model, X_train, y_train, cv=5, scoring='precision')\n",
    "\n",
    "    \n",
    "    return accuracy"
   ]
  },
  {
   "cell_type": "code",
   "execution_count": 34,
   "metadata": {},
   "outputs": [
    {
     "name": "stderr",
     "output_type": "stream",
     "text": [
      "[I 2024-06-08 00:23:45,105] A new study created in memory with name: no-name-40ea9af9-199f-4f26-8e0a-105659f57631\n",
      "[I 2024-06-08 00:23:45,208] Trial 0 finished with value: 0.7251832111925383 and parameters: {'l1_ratio': 0.5172978838465893, 'penalty': 'elasticnet', 'C': 61.35506425409843, 'max_iter': 789, 'solver': 'saga'}. Best is trial 0 with value: 0.7251832111925383.\n",
      "[I 2024-06-08 00:23:45,297] Trial 1 finished with value: 0.7248500999333778 and parameters: {'l1_ratio': 0.2823958439671127, 'penalty': 'elasticnet', 'C': 0.07659165484895042, 'max_iter': 718, 'solver': 'saga'}. Best is trial 0 with value: 0.7251832111925383.\n",
      "[I 2024-06-08 00:23:45,384] Trial 2 finished with value: 0.7258494337108594 and parameters: {'l1_ratio': 0.16713920310005626, 'penalty': 'elasticnet', 'C': 0.37133840345513924, 'max_iter': 656, 'solver': 'saga'}. Best is trial 2 with value: 0.7258494337108594.\n",
      "[I 2024-06-08 00:23:45,477] Trial 3 finished with value: 0.7231845436375749 and parameters: {'l1_ratio': 0.411930094858746, 'penalty': 'elasticnet', 'C': 0.010229620554518289, 'max_iter': 896, 'solver': 'saga'}. Best is trial 2 with value: 0.7258494337108594.\n",
      "[I 2024-06-08 00:23:45,563] Trial 4 finished with value: 0.7248500999333778 and parameters: {'l1_ratio': 0.8849475383764736, 'penalty': 'elasticnet', 'C': 0.15908848917427898, 'max_iter': 631, 'solver': 'saga'}. Best is trial 2 with value: 0.7258494337108594.\n",
      "[I 2024-06-08 00:23:45,651] Trial 5 finished with value: 0.7251832111925383 and parameters: {'l1_ratio': 0.9784269160148309, 'penalty': 'elasticnet', 'C': 24.009067273228535, 'max_iter': 158, 'solver': 'saga'}. Best is trial 2 with value: 0.7258494337108594.\n",
      "[I 2024-06-08 00:23:45,744] Trial 6 finished with value: 0.7258494337108594 and parameters: {'l1_ratio': 0.2947444647173656, 'penalty': 'elasticnet', 'C': 0.14182009235905965, 'max_iter': 841, 'solver': 'saga'}. Best is trial 2 with value: 0.7258494337108594.\n",
      "[I 2024-06-08 00:23:45,831] Trial 7 finished with value: 0.7235176548967355 and parameters: {'l1_ratio': 0.6261830379602461, 'penalty': 'elasticnet', 'C': 0.027663737545016442, 'max_iter': 100, 'solver': 'saga'}. Best is trial 2 with value: 0.7258494337108594.\n",
      "[I 2024-06-08 00:23:45,913] Trial 8 finished with value: 0.7231845436375749 and parameters: {'l1_ratio': 0.9421662328554996, 'penalty': 'elasticnet', 'C': 0.03681315427893331, 'max_iter': 479, 'solver': 'saga'}. Best is trial 2 with value: 0.7258494337108594.\n",
      "[I 2024-06-08 00:23:46,003] Trial 9 finished with value: 0.7251832111925383 and parameters: {'l1_ratio': 0.3464894401485442, 'penalty': 'elasticnet', 'C': 30.139798019866884, 'max_iter': 486, 'solver': 'saga'}. Best is trial 2 with value: 0.7258494337108594.\n",
      "[I 2024-06-08 00:23:46,095] Trial 10 finished with value: 0.7251832111925383 and parameters: {'l1_ratio': 0.8287514843227557, 'penalty': 'elasticnet', 'C': 7.43716390585914, 'max_iter': 207, 'solver': 'saga'}. Best is trial 2 with value: 0.7258494337108594.\n",
      "[I 2024-06-08 00:23:46,177] Trial 11 finished with value: 0.7245169886742172 and parameters: {'l1_ratio': 0.5963841727096089, 'penalty': 'elasticnet', 'C': 0.03303887043501745, 'max_iter': 169, 'solver': 'saga'}. Best is trial 2 with value: 0.7258494337108594.\n",
      "[I 2024-06-08 00:23:46,263] Trial 12 finished with value: 0.7255163224516988 and parameters: {'l1_ratio': 0.831205255690418, 'penalty': 'elasticnet', 'C': 0.720348173167086, 'max_iter': 245, 'solver': 'saga'}. Best is trial 2 with value: 0.7258494337108594.\n",
      "[I 2024-06-08 00:23:46,351] Trial 13 finished with value: 0.7251832111925383 and parameters: {'l1_ratio': 0.5479752920930067, 'penalty': 'elasticnet', 'C': 2.259140739578309, 'max_iter': 797, 'solver': 'saga'}. Best is trial 2 with value: 0.7258494337108594.\n",
      "[I 2024-06-08 00:23:46,443] Trial 14 finished with value: 0.7251832111925383 and parameters: {'l1_ratio': 0.6558454580069033, 'penalty': 'elasticnet', 'C': 1.7014807418534552, 'max_iter': 260, 'solver': 'saga'}. Best is trial 2 with value: 0.7258494337108594.\n",
      "[I 2024-06-08 00:23:46,526] Trial 15 finished with value: 0.7258494337108594 and parameters: {'l1_ratio': 0.24058353121801312, 'penalty': 'elasticnet', 'C': 1.0573494153263432, 'max_iter': 457, 'solver': 'saga'}. Best is trial 2 with value: 0.7258494337108594.\n",
      "[I 2024-06-08 00:23:46,614] Trial 16 finished with value: 0.7251832111925383 and parameters: {'l1_ratio': 0.48305518544294146, 'penalty': 'elasticnet', 'C': 66.52109114767141, 'max_iter': 912, 'solver': 'saga'}. Best is trial 2 with value: 0.7258494337108594.\n",
      "[I 2024-06-08 00:23:46,701] Trial 17 finished with value: 0.7251832111925383 and parameters: {'l1_ratio': 0.5057593219775152, 'penalty': 'elasticnet', 'C': 19.178115977718267, 'max_iter': 845, 'solver': 'saga'}. Best is trial 2 with value: 0.7258494337108594.\n",
      "[I 2024-06-08 00:23:46,788] Trial 18 finished with value: 0.7225183211192538 and parameters: {'l1_ratio': 0.23183334760205443, 'penalty': 'elasticnet', 'C': 0.02071199562161528, 'max_iter': 519, 'solver': 'saga'}. Best is trial 2 with value: 0.7258494337108594.\n",
      "[I 2024-06-08 00:23:46,868] Trial 19 finished with value: 0.7231845436375749 and parameters: {'l1_ratio': 0.8789758084042731, 'penalty': 'elasticnet', 'C': 0.03890561052203377, 'max_iter': 308, 'solver': 'saga'}. Best is trial 2 with value: 0.7258494337108594.\n",
      "[I 2024-06-08 00:23:46,949] Trial 20 finished with value: 0.7228514323784144 and parameters: {'l1_ratio': 0.9179458057039298, 'penalty': 'elasticnet', 'C': 0.032828732141087884, 'max_iter': 925, 'solver': 'saga'}. Best is trial 2 with value: 0.7258494337108594.\n",
      "[I 2024-06-08 00:23:47,035] Trial 21 finished with value: 0.7251832111925383 and parameters: {'l1_ratio': 0.23479755091129706, 'penalty': 'elasticnet', 'C': 2.9103624241663972, 'max_iter': 957, 'solver': 'saga'}. Best is trial 2 with value: 0.7258494337108594.\n",
      "[I 2024-06-08 00:23:47,118] Trial 22 finished with value: 0.7258494337108594 and parameters: {'l1_ratio': 0.25513081972233587, 'penalty': 'elasticnet', 'C': 0.6324418397985214, 'max_iter': 976, 'solver': 'saga'}. Best is trial 2 with value: 0.7258494337108594.\n",
      "[I 2024-06-08 00:23:47,207] Trial 23 finished with value: 0.7245169886742172 and parameters: {'l1_ratio': 0.23937099816163865, 'penalty': 'elasticnet', 'C': 0.06233403073333485, 'max_iter': 719, 'solver': 'saga'}. Best is trial 2 with value: 0.7258494337108594.\n",
      "[I 2024-06-08 00:23:47,311] Trial 24 finished with value: 0.7258494337108594 and parameters: {'l1_ratio': 0.8450091946690719, 'penalty': 'elasticnet', 'C': 0.6505261022908185, 'max_iter': 191, 'solver': 'saga'}. Best is trial 2 with value: 0.7258494337108594.\n",
      "[I 2024-06-08 00:23:47,403] Trial 25 finished with value: 0.7211858760826116 and parameters: {'l1_ratio': 0.622847970552664, 'penalty': 'elasticnet', 'C': 0.02157266241871122, 'max_iter': 147, 'solver': 'saga'}. Best is trial 2 with value: 0.7258494337108594.\n",
      "[I 2024-06-08 00:23:47,508] Trial 26 finished with value: 0.7251832111925383 and parameters: {'l1_ratio': 0.3454784779791955, 'penalty': 'elasticnet', 'C': 41.86980139548788, 'max_iter': 819, 'solver': 'saga'}. Best is trial 2 with value: 0.7258494337108594.\n",
      "[I 2024-06-08 00:23:47,606] Trial 27 finished with value: 0.7218520986009327 and parameters: {'l1_ratio': 0.3842269427484306, 'penalty': 'elasticnet', 'C': 0.023491135928543867, 'max_iter': 214, 'solver': 'saga'}. Best is trial 2 with value: 0.7258494337108594.\n",
      "[I 2024-06-08 00:23:47,701] Trial 28 finished with value: 0.7255163224516988 and parameters: {'l1_ratio': 0.5343972812309752, 'penalty': 'elasticnet', 'C': 1.0695886563111425, 'max_iter': 553, 'solver': 'saga'}. Best is trial 2 with value: 0.7258494337108594.\n",
      "[I 2024-06-08 00:23:47,802] Trial 29 finished with value: 0.7251832111925383 and parameters: {'l1_ratio': 0.12660677568465384, 'penalty': 'elasticnet', 'C': 14.627239224758664, 'max_iter': 637, 'solver': 'saga'}. Best is trial 2 with value: 0.7258494337108594.\n",
      "[I 2024-06-08 00:23:47,896] Trial 30 finished with value: 0.7258494337108594 and parameters: {'l1_ratio': 0.75776937269917, 'penalty': 'elasticnet', 'C': 0.6877908082673599, 'max_iter': 167, 'solver': 'saga'}. Best is trial 2 with value: 0.7258494337108594.\n",
      "[I 2024-06-08 00:23:47,985] Trial 31 finished with value: 0.72618254497002 and parameters: {'l1_ratio': 0.6024878434664988, 'penalty': 'elasticnet', 'C': 0.5525819288943451, 'max_iter': 105, 'solver': 'saga'}. Best is trial 31 with value: 0.72618254497002.\n",
      "[I 2024-06-08 00:23:48,081] Trial 32 finished with value: 0.7255163224516988 and parameters: {'l1_ratio': 0.04662987836169319, 'penalty': 'elasticnet', 'C': 0.47311814022691223, 'max_iter': 891, 'solver': 'saga'}. Best is trial 31 with value: 0.72618254497002.\n",
      "[I 2024-06-08 00:23:48,180] Trial 33 finished with value: 0.7251832111925383 and parameters: {'l1_ratio': 0.43301769330849826, 'penalty': 'elasticnet', 'C': 3.7483560811192262, 'max_iter': 612, 'solver': 'saga'}. Best is trial 31 with value: 0.72618254497002.\n",
      "[I 2024-06-08 00:23:48,268] Trial 34 finished with value: 0.7258494337108594 and parameters: {'l1_ratio': 0.24018190154641206, 'penalty': 'elasticnet', 'C': 0.1523446517672857, 'max_iter': 104, 'solver': 'saga'}. Best is trial 31 with value: 0.72618254497002.\n",
      "[I 2024-06-08 00:23:48,361] Trial 35 finished with value: 0.7258494337108594 and parameters: {'l1_ratio': 0.1288935485768078, 'penalty': 'elasticnet', 'C': 1.3080371500259338, 'max_iter': 683, 'solver': 'saga'}. Best is trial 31 with value: 0.72618254497002.\n",
      "[I 2024-06-08 00:23:48,460] Trial 36 finished with value: 0.7251832111925383 and parameters: {'l1_ratio': 0.14536195449419298, 'penalty': 'elasticnet', 'C': 5.828503234861743, 'max_iter': 645, 'solver': 'saga'}. Best is trial 31 with value: 0.72618254497002.\n",
      "[I 2024-06-08 00:23:48,553] Trial 37 finished with value: 0.7251832111925383 and parameters: {'l1_ratio': 0.963544780062434, 'penalty': 'elasticnet', 'C': 23.518964912506494, 'max_iter': 567, 'solver': 'saga'}. Best is trial 31 with value: 0.72618254497002.\n",
      "[I 2024-06-08 00:23:48,643] Trial 38 finished with value: 0.7228514323784144 and parameters: {'l1_ratio': 0.6034752072158278, 'penalty': 'elasticnet', 'C': 0.02197774098855032, 'max_iter': 960, 'solver': 'saga'}. Best is trial 31 with value: 0.72618254497002.\n",
      "[I 2024-06-08 00:23:48,740] Trial 39 finished with value: 0.7251832111925383 and parameters: {'l1_ratio': 0.8951009548900523, 'penalty': 'elasticnet', 'C': 1.7115465060325654, 'max_iter': 354, 'solver': 'saga'}. Best is trial 31 with value: 0.72618254497002.\n",
      "[I 2024-06-08 00:23:48,829] Trial 40 finished with value: 0.7265156562291806 and parameters: {'l1_ratio': 0.6393898787142637, 'penalty': 'elasticnet', 'C': 0.46570663801564743, 'max_iter': 665, 'solver': 'saga'}. Best is trial 40 with value: 0.7265156562291806.\n",
      "[I 2024-06-08 00:23:48,914] Trial 41 finished with value: 0.7265156562291806 and parameters: {'l1_ratio': 0.3964306441212516, 'penalty': 'elasticnet', 'C': 0.16115829188620256, 'max_iter': 458, 'solver': 'saga'}. Best is trial 40 with value: 0.7265156562291806.\n",
      "[I 2024-06-08 00:23:49,005] Trial 42 finished with value: 0.7251832111925383 and parameters: {'l1_ratio': 0.8497845284188781, 'penalty': 'elasticnet', 'C': 22.644086948830452, 'max_iter': 357, 'solver': 'saga'}. Best is trial 40 with value: 0.7265156562291806.\n",
      "[I 2024-06-08 00:23:49,096] Trial 43 finished with value: 0.7258494337108594 and parameters: {'l1_ratio': 0.33885827739248164, 'penalty': 'elasticnet', 'C': 0.8621203276775906, 'max_iter': 446, 'solver': 'saga'}. Best is trial 40 with value: 0.7265156562291806.\n",
      "[I 2024-06-08 00:23:49,182] Trial 44 finished with value: 0.7255163224516988 and parameters: {'l1_ratio': 0.32878734994014014, 'penalty': 'elasticnet', 'C': 1.306209163176254, 'max_iter': 187, 'solver': 'saga'}. Best is trial 40 with value: 0.7265156562291806.\n",
      "[I 2024-06-08 00:23:49,269] Trial 45 finished with value: 0.7228514323784144 and parameters: {'l1_ratio': 0.023379930587594244, 'penalty': 'elasticnet', 'C': 0.05756448260639972, 'max_iter': 967, 'solver': 'saga'}. Best is trial 40 with value: 0.7265156562291806.\n",
      "[I 2024-06-08 00:23:49,365] Trial 46 finished with value: 0.7248500999333778 and parameters: {'l1_ratio': 0.7609561458372598, 'penalty': 'elasticnet', 'C': 1.2177602212036982, 'max_iter': 210, 'solver': 'saga'}. Best is trial 40 with value: 0.7265156562291806.\n",
      "[I 2024-06-08 00:23:49,453] Trial 47 finished with value: 0.7251832111925383 and parameters: {'l1_ratio': 0.9985866810937334, 'penalty': 'elasticnet', 'C': 35.73128272923617, 'max_iter': 964, 'solver': 'saga'}. Best is trial 40 with value: 0.7265156562291806.\n",
      "[I 2024-06-08 00:23:49,539] Trial 48 finished with value: 0.7258494337108594 and parameters: {'l1_ratio': 0.564785449158253, 'penalty': 'elasticnet', 'C': 0.15593069566006496, 'max_iter': 266, 'solver': 'saga'}. Best is trial 40 with value: 0.7265156562291806.\n",
      "[I 2024-06-08 00:23:49,628] Trial 49 finished with value: 0.7235176548967355 and parameters: {'l1_ratio': 0.7808527854686921, 'penalty': 'elasticnet', 'C': 0.041769472014503484, 'max_iter': 641, 'solver': 'saga'}. Best is trial 40 with value: 0.7265156562291806.\n",
      "[I 2024-06-08 00:23:49,716] Trial 50 finished with value: 0.7251832111925383 and parameters: {'l1_ratio': 0.7380400243015056, 'penalty': 'elasticnet', 'C': 1.841859065147003, 'max_iter': 815, 'solver': 'saga'}. Best is trial 40 with value: 0.7265156562291806.\n",
      "[I 2024-06-08 00:23:49,800] Trial 51 finished with value: 0.7218520986009327 and parameters: {'l1_ratio': 0.9272600171485721, 'penalty': 'elasticnet', 'C': 0.021059540030483385, 'max_iter': 204, 'solver': 'saga'}. Best is trial 40 with value: 0.7265156562291806.\n",
      "[I 2024-06-08 00:23:49,888] Trial 52 finished with value: 0.7255163224516988 and parameters: {'l1_ratio': 0.11380123623093197, 'penalty': 'elasticnet', 'C': 0.14181814630592005, 'max_iter': 596, 'solver': 'saga'}. Best is trial 40 with value: 0.7265156562291806.\n",
      "[I 2024-06-08 00:23:49,976] Trial 53 finished with value: 0.72618254497002 and parameters: {'l1_ratio': 0.44464358527828296, 'penalty': 'elasticnet', 'C': 0.6280409052492372, 'max_iter': 720, 'solver': 'saga'}. Best is trial 40 with value: 0.7265156562291806.\n",
      "[I 2024-06-08 00:23:50,060] Trial 54 finished with value: 0.723850766155896 and parameters: {'l1_ratio': 0.14884802489269566, 'penalty': 'elasticnet', 'C': 0.030103021567687998, 'max_iter': 226, 'solver': 'saga'}. Best is trial 40 with value: 0.7265156562291806.\n",
      "[I 2024-06-08 00:23:50,146] Trial 55 finished with value: 0.7248500999333778 and parameters: {'l1_ratio': 0.8446174837084529, 'penalty': 'elasticnet', 'C': 0.30629161552234263, 'max_iter': 650, 'solver': 'saga'}. Best is trial 40 with value: 0.7265156562291806.\n",
      "[I 2024-06-08 00:23:50,229] Trial 56 finished with value: 0.7248500999333778 and parameters: {'l1_ratio': 0.9107078274365592, 'penalty': 'elasticnet', 'C': 0.05397557626972808, 'max_iter': 145, 'solver': 'saga'}. Best is trial 40 with value: 0.7265156562291806.\n",
      "[I 2024-06-08 00:23:50,311] Trial 57 finished with value: 0.72618254497002 and parameters: {'l1_ratio': 0.2635543863600527, 'penalty': 'elasticnet', 'C': 0.3320698541563889, 'max_iter': 582, 'solver': 'saga'}. Best is trial 40 with value: 0.7265156562291806.\n",
      "[I 2024-06-08 00:23:50,399] Trial 58 finished with value: 0.7251832111925383 and parameters: {'l1_ratio': 0.20593267412957195, 'penalty': 'elasticnet', 'C': 10.736427327553779, 'max_iter': 656, 'solver': 'saga'}. Best is trial 40 with value: 0.7265156562291806.\n",
      "[I 2024-06-08 00:23:50,482] Trial 59 finished with value: 0.7241838774150566 and parameters: {'l1_ratio': 0.7789120822371315, 'penalty': 'elasticnet', 'C': 0.0598453833413193, 'max_iter': 321, 'solver': 'saga'}. Best is trial 40 with value: 0.7265156562291806.\n",
      "[I 2024-06-08 00:23:50,564] Trial 60 finished with value: 0.72618254497002 and parameters: {'l1_ratio': 0.6405635118484496, 'penalty': 'elasticnet', 'C': 0.3985010223468039, 'max_iter': 967, 'solver': 'saga'}. Best is trial 40 with value: 0.7265156562291806.\n",
      "[I 2024-06-08 00:23:50,647] Trial 61 finished with value: 0.7228514323784144 and parameters: {'l1_ratio': 0.7636679934989524, 'penalty': 'elasticnet', 'C': 0.048213123670565156, 'max_iter': 207, 'solver': 'saga'}. Best is trial 40 with value: 0.7265156562291806.\n",
      "[I 2024-06-08 00:23:50,739] Trial 62 finished with value: 0.7251832111925383 and parameters: {'l1_ratio': 0.33026965314873746, 'penalty': 'elasticnet', 'C': 15.64904269882861, 'max_iter': 645, 'solver': 'saga'}. Best is trial 40 with value: 0.7265156562291806.\n",
      "[I 2024-06-08 00:23:50,822] Trial 63 finished with value: 0.723850766155896 and parameters: {'l1_ratio': 0.21749415361126012, 'penalty': 'elasticnet', 'C': 0.01303454835661758, 'max_iter': 562, 'solver': 'saga'}. Best is trial 40 with value: 0.7265156562291806.\n",
      "[I 2024-06-08 00:23:50,910] Trial 64 finished with value: 0.7251832111925383 and parameters: {'l1_ratio': 0.9395388576438164, 'penalty': 'elasticnet', 'C': 2.0239267157229315, 'max_iter': 958, 'solver': 'saga'}. Best is trial 40 with value: 0.7265156562291806.\n",
      "[I 2024-06-08 00:23:50,998] Trial 65 finished with value: 0.7251832111925383 and parameters: {'l1_ratio': 0.480686727057959, 'penalty': 'elasticnet', 'C': 91.86785654359976, 'max_iter': 544, 'solver': 'saga'}. Best is trial 40 with value: 0.7265156562291806.\n",
      "[I 2024-06-08 00:23:51,078] Trial 66 finished with value: 0.7255163224516988 and parameters: {'l1_ratio': 0.8278672160318609, 'penalty': 'elasticnet', 'C': 0.12738837247190585, 'max_iter': 161, 'solver': 'saga'}. Best is trial 40 with value: 0.7265156562291806.\n",
      "[I 2024-06-08 00:23:51,160] Trial 67 finished with value: 0.7241838774150566 and parameters: {'l1_ratio': 0.721360101028917, 'penalty': 'elasticnet', 'C': 0.030650286039784234, 'max_iter': 829, 'solver': 'saga'}. Best is trial 40 with value: 0.7265156562291806.\n",
      "[I 2024-06-08 00:23:51,254] Trial 68 finished with value: 0.7251832111925383 and parameters: {'l1_ratio': 0.9347922225636194, 'penalty': 'elasticnet', 'C': 0.23434771009411434, 'max_iter': 381, 'solver': 'saga'}. Best is trial 40 with value: 0.7265156562291806.\n",
      "[I 2024-06-08 00:23:51,363] Trial 69 finished with value: 0.7251832111925383 and parameters: {'l1_ratio': 0.6002971063674759, 'penalty': 'elasticnet', 'C': 6.00019588206396, 'max_iter': 140, 'solver': 'saga'}. Best is trial 40 with value: 0.7265156562291806.\n",
      "[I 2024-06-08 00:23:51,458] Trial 70 finished with value: 0.7228514323784144 and parameters: {'l1_ratio': 0.6267356759602706, 'penalty': 'elasticnet', 'C': 0.050348540227368885, 'max_iter': 172, 'solver': 'saga'}. Best is trial 40 with value: 0.7265156562291806.\n",
      "[I 2024-06-08 00:23:51,553] Trial 71 finished with value: 0.72618254497002 and parameters: {'l1_ratio': 0.31370103075151023, 'penalty': 'elasticnet', 'C': 0.453413738345394, 'max_iter': 455, 'solver': 'saga'}. Best is trial 40 with value: 0.7265156562291806.\n",
      "[I 2024-06-08 00:23:51,654] Trial 72 finished with value: 0.7248500999333778 and parameters: {'l1_ratio': 0.7230405288992248, 'penalty': 'elasticnet', 'C': 1.113009723871034, 'max_iter': 409, 'solver': 'saga'}. Best is trial 40 with value: 0.7265156562291806.\n",
      "[I 2024-06-08 00:23:51,759] Trial 73 finished with value: 0.7258494337108594 and parameters: {'l1_ratio': 0.4689082800259925, 'penalty': 'elasticnet', 'C': 1.5379955204462366, 'max_iter': 852, 'solver': 'saga'}. Best is trial 40 with value: 0.7265156562291806.\n",
      "[I 2024-06-08 00:23:51,858] Trial 74 finished with value: 0.7251832111925383 and parameters: {'l1_ratio': 0.34809190046205274, 'penalty': 'elasticnet', 'C': 13.575138022547424, 'max_iter': 686, 'solver': 'saga'}. Best is trial 40 with value: 0.7265156562291806.\n",
      "[I 2024-06-08 00:23:51,953] Trial 75 finished with value: 0.7251832111925383 and parameters: {'l1_ratio': 0.8730257595537249, 'penalty': 'elasticnet', 'C': 0.4391408637607976, 'max_iter': 265, 'solver': 'saga'}. Best is trial 40 with value: 0.7265156562291806.\n",
      "[I 2024-06-08 00:23:52,049] Trial 76 finished with value: 0.7258494337108594 and parameters: {'l1_ratio': 0.09317831284174316, 'penalty': 'elasticnet', 'C': 1.6960419746736697, 'max_iter': 980, 'solver': 'saga'}. Best is trial 40 with value: 0.7265156562291806.\n",
      "[I 2024-06-08 00:23:52,150] Trial 77 finished with value: 0.7258494337108594 and parameters: {'l1_ratio': 0.29572214736158386, 'penalty': 'elasticnet', 'C': 0.3737974826428585, 'max_iter': 837, 'solver': 'saga'}. Best is trial 40 with value: 0.7265156562291806.\n",
      "[I 2024-06-08 00:23:52,247] Trial 78 finished with value: 0.7251832111925383 and parameters: {'l1_ratio': 0.3940115991448834, 'penalty': 'elasticnet', 'C': 36.58478246475672, 'max_iter': 127, 'solver': 'saga'}. Best is trial 40 with value: 0.7265156562291806.\n",
      "[I 2024-06-08 00:23:52,333] Trial 79 finished with value: 0.7248500999333778 and parameters: {'l1_ratio': 0.8998117453605183, 'penalty': 'elasticnet', 'C': 0.14602340394121105, 'max_iter': 983, 'solver': 'saga'}. Best is trial 40 with value: 0.7265156562291806.\n",
      "[I 2024-06-08 00:23:52,430] Trial 80 finished with value: 0.7251832111925383 and parameters: {'l1_ratio': 0.7726044200868316, 'penalty': 'elasticnet', 'C': 17.773541904405658, 'max_iter': 527, 'solver': 'saga'}. Best is trial 40 with value: 0.7265156562291806.\n",
      "[I 2024-06-08 00:23:52,517] Trial 81 finished with value: 0.7268487674883412 and parameters: {'l1_ratio': 0.3024871162472813, 'penalty': 'elasticnet', 'C': 0.19792205374227942, 'max_iter': 898, 'solver': 'saga'}. Best is trial 81 with value: 0.7268487674883412.\n",
      "[I 2024-06-08 00:23:52,606] Trial 82 finished with value: 0.7235176548967355 and parameters: {'l1_ratio': 0.42954226359209646, 'penalty': 'elasticnet', 'C': 0.010287611420955958, 'max_iter': 657, 'solver': 'saga'}. Best is trial 81 with value: 0.7268487674883412.\n",
      "[I 2024-06-08 00:23:52,701] Trial 83 finished with value: 0.7251832111925383 and parameters: {'l1_ratio': 0.6384146144413262, 'penalty': 'elasticnet', 'C': 2.561741264644319, 'max_iter': 176, 'solver': 'saga'}. Best is trial 81 with value: 0.7268487674883412.\n",
      "[I 2024-06-08 00:23:52,798] Trial 84 finished with value: 0.7251832111925383 and parameters: {'l1_ratio': 0.18878963262831439, 'penalty': 'elasticnet', 'C': 12.369229503673267, 'max_iter': 631, 'solver': 'saga'}. Best is trial 81 with value: 0.7268487674883412.\n",
      "[I 2024-06-08 00:23:52,887] Trial 85 finished with value: 0.7215189873417721 and parameters: {'l1_ratio': 0.6860361909445178, 'penalty': 'elasticnet', 'C': 0.01960489209840365, 'max_iter': 605, 'solver': 'saga'}. Best is trial 81 with value: 0.7268487674883412.\n",
      "[I 2024-06-08 00:23:52,976] Trial 86 finished with value: 0.7251832111925383 and parameters: {'l1_ratio': 0.2586295146537938, 'penalty': 'elasticnet', 'C': 0.076689222095408, 'max_iter': 203, 'solver': 'saga'}. Best is trial 81 with value: 0.7268487674883412.\n",
      "[I 2024-06-08 00:23:53,063] Trial 87 finished with value: 0.723850766155896 and parameters: {'l1_ratio': 0.09905593656208833, 'penalty': 'elasticnet', 'C': 0.094508713108523, 'max_iter': 772, 'solver': 'saga'}. Best is trial 81 with value: 0.7268487674883412.\n",
      "[I 2024-06-08 00:23:53,154] Trial 88 finished with value: 0.7251832111925383 and parameters: {'l1_ratio': 0.5943825327304895, 'penalty': 'elasticnet', 'C': 1.4030694739937408, 'max_iter': 438, 'solver': 'saga'}. Best is trial 81 with value: 0.7268487674883412.\n",
      "[I 2024-06-08 00:23:53,248] Trial 89 finished with value: 0.7251832111925383 and parameters: {'l1_ratio': 0.23501047798661767, 'penalty': 'elasticnet', 'C': 2.3081226557256684, 'max_iter': 858, 'solver': 'saga'}. Best is trial 81 with value: 0.7268487674883412.\n",
      "[I 2024-06-08 00:23:53,333] Trial 90 finished with value: 0.7231845436375749 and parameters: {'l1_ratio': 0.47729389039881, 'penalty': 'elasticnet', 'C': 0.021625619558979785, 'max_iter': 940, 'solver': 'saga'}. Best is trial 81 with value: 0.7268487674883412.\n",
      "[I 2024-06-08 00:23:53,420] Trial 91 finished with value: 0.723850766155896 and parameters: {'l1_ratio': 0.4860786085123222, 'penalty': 'elasticnet', 'C': 0.03172802162319548, 'max_iter': 856, 'solver': 'saga'}. Best is trial 81 with value: 0.7268487674883412.\n",
      "[I 2024-06-08 00:23:53,508] Trial 92 finished with value: 0.7221852098600933 and parameters: {'l1_ratio': 0.38240464605494207, 'penalty': 'elasticnet', 'C': 0.02721303562441804, 'max_iter': 960, 'solver': 'saga'}. Best is trial 81 with value: 0.7268487674883412.\n",
      "[I 2024-06-08 00:23:53,594] Trial 93 finished with value: 0.723850766155896 and parameters: {'l1_ratio': 0.3436503994506843, 'penalty': 'elasticnet', 'C': 0.07175281862798143, 'max_iter': 513, 'solver': 'saga'}. Best is trial 81 with value: 0.7268487674883412.\n",
      "[I 2024-06-08 00:23:53,680] Trial 94 finished with value: 0.7235176548967355 and parameters: {'l1_ratio': 0.02489530628090697, 'penalty': 'elasticnet', 'C': 0.09569391110649288, 'max_iter': 688, 'solver': 'saga'}. Best is trial 81 with value: 0.7268487674883412.\n",
      "[I 2024-06-08 00:23:53,764] Trial 95 finished with value: 0.7241838774150566 and parameters: {'l1_ratio': 0.3373767925601705, 'penalty': 'elasticnet', 'C': 0.012196592563587835, 'max_iter': 345, 'solver': 'saga'}. Best is trial 81 with value: 0.7268487674883412.\n",
      "[I 2024-06-08 00:23:53,855] Trial 96 finished with value: 0.7251832111925383 and parameters: {'l1_ratio': 0.9614891406278656, 'penalty': 'elasticnet', 'C': 7.081137327646262, 'max_iter': 652, 'solver': 'saga'}. Best is trial 81 with value: 0.7268487674883412.\n",
      "[I 2024-06-08 00:23:53,946] Trial 97 finished with value: 0.7251832111925383 and parameters: {'l1_ratio': 0.0425938640226482, 'penalty': 'elasticnet', 'C': 82.25069248297623, 'max_iter': 593, 'solver': 'saga'}. Best is trial 81 with value: 0.7268487674883412.\n",
      "[I 2024-06-08 00:23:54,033] Trial 98 finished with value: 0.7251832111925383 and parameters: {'l1_ratio': 0.5119850184358926, 'penalty': 'elasticnet', 'C': 17.541043973513382, 'max_iter': 745, 'solver': 'saga'}. Best is trial 81 with value: 0.7268487674883412.\n",
      "[I 2024-06-08 00:23:54,117] Trial 99 finished with value: 0.7231845436375749 and parameters: {'l1_ratio': 0.8308851599474497, 'penalty': 'elasticnet', 'C': 0.038711524522540806, 'max_iter': 631, 'solver': 'saga'}. Best is trial 81 with value: 0.7268487674883412.\n",
      "[I 2024-06-08 00:23:54,202] Trial 100 finished with value: 0.7245169886742172 and parameters: {'l1_ratio': 0.8471136501705183, 'penalty': 'elasticnet', 'C': 0.234197631072027, 'max_iter': 230, 'solver': 'saga'}. Best is trial 81 with value: 0.7268487674883412.\n",
      "[I 2024-06-08 00:23:54,290] Trial 101 finished with value: 0.7241838774150566 and parameters: {'l1_ratio': 0.1836483711819311, 'penalty': 'elasticnet', 'C': 0.04508460206395431, 'max_iter': 483, 'solver': 'saga'}. Best is trial 81 with value: 0.7268487674883412.\n",
      "[I 2024-06-08 00:23:54,373] Trial 102 finished with value: 0.7235176548967355 and parameters: {'l1_ratio': 0.6055885059878887, 'penalty': 'elasticnet', 'C': 0.023794901878716246, 'max_iter': 124, 'solver': 'saga'}. Best is trial 81 with value: 0.7268487674883412.\n",
      "[I 2024-06-08 00:23:54,458] Trial 103 finished with value: 0.7241838774150566 and parameters: {'l1_ratio': 0.08871545457591135, 'penalty': 'elasticnet', 'C': 0.12208804456888893, 'max_iter': 408, 'solver': 'saga'}. Best is trial 81 with value: 0.7268487674883412.\n",
      "[I 2024-06-08 00:23:54,547] Trial 104 finished with value: 0.7251832111925383 and parameters: {'l1_ratio': 0.7767253816094082, 'penalty': 'elasticnet', 'C': 9.429951390193311, 'max_iter': 199, 'solver': 'saga'}. Best is trial 81 with value: 0.7268487674883412.\n",
      "[I 2024-06-08 00:23:54,635] Trial 105 finished with value: 0.7251832111925383 and parameters: {'l1_ratio': 0.47806896006875077, 'penalty': 'elasticnet', 'C': 3.904266121323621, 'max_iter': 859, 'solver': 'saga'}. Best is trial 81 with value: 0.7268487674883412.\n",
      "[I 2024-06-08 00:23:54,717] Trial 106 finished with value: 0.7265156562291806 and parameters: {'l1_ratio': 0.388468854806459, 'penalty': 'elasticnet', 'C': 0.18235322570309798, 'max_iter': 475, 'solver': 'saga'}. Best is trial 81 with value: 0.7268487674883412.\n",
      "[I 2024-06-08 00:23:54,807] Trial 107 finished with value: 0.7251832111925383 and parameters: {'l1_ratio': 0.44175712345987217, 'penalty': 'elasticnet', 'C': 2.931220453940021, 'max_iter': 997, 'solver': 'saga'}. Best is trial 81 with value: 0.7268487674883412.\n",
      "[I 2024-06-08 00:23:54,894] Trial 108 finished with value: 0.7251832111925383 and parameters: {'l1_ratio': 0.6521830648469973, 'penalty': 'elasticnet', 'C': 3.4837411728563605, 'max_iter': 581, 'solver': 'saga'}. Best is trial 81 with value: 0.7268487674883412.\n",
      "[I 2024-06-08 00:23:54,979] Trial 109 finished with value: 0.7251832111925383 and parameters: {'l1_ratio': 0.35557836732536197, 'penalty': 'elasticnet', 'C': 26.293909129874912, 'max_iter': 247, 'solver': 'saga'}. Best is trial 81 with value: 0.7268487674883412.\n",
      "[I 2024-06-08 00:23:55,065] Trial 110 finished with value: 0.7251832111925383 and parameters: {'l1_ratio': 0.7658237880282034, 'penalty': 'elasticnet', 'C': 10.747994464707489, 'max_iter': 144, 'solver': 'saga'}. Best is trial 81 with value: 0.7268487674883412.\n",
      "[I 2024-06-08 00:23:55,162] Trial 111 finished with value: 0.7251832111925383 and parameters: {'l1_ratio': 0.45578849641224983, 'penalty': 'elasticnet', 'C': 7.1118919980165805, 'max_iter': 613, 'solver': 'saga'}. Best is trial 81 with value: 0.7268487674883412.\n",
      "[I 2024-06-08 00:23:55,279] Trial 112 finished with value: 0.72618254497002 and parameters: {'l1_ratio': 0.36095818866319496, 'penalty': 'elasticnet', 'C': 0.12314369326595438, 'max_iter': 144, 'solver': 'saga'}. Best is trial 81 with value: 0.7268487674883412.\n",
      "[I 2024-06-08 00:23:55,408] Trial 113 finished with value: 0.7251832111925383 and parameters: {'l1_ratio': 0.08651653838786766, 'penalty': 'elasticnet', 'C': 95.65140455600996, 'max_iter': 668, 'solver': 'saga'}. Best is trial 81 with value: 0.7268487674883412.\n",
      "[I 2024-06-08 00:23:55,534] Trial 114 finished with value: 0.7168554297135243 and parameters: {'l1_ratio': 0.7943292806783894, 'penalty': 'elasticnet', 'C': 0.011635791469408439, 'max_iter': 207, 'solver': 'saga'}. Best is trial 81 with value: 0.7268487674883412.\n",
      "[I 2024-06-08 00:23:55,650] Trial 115 finished with value: 0.7251832111925383 and parameters: {'l1_ratio': 0.39523622294092764, 'penalty': 'elasticnet', 'C': 23.782132614140657, 'max_iter': 368, 'solver': 'saga'}. Best is trial 81 with value: 0.7268487674883412.\n",
      "[I 2024-06-08 00:23:55,764] Trial 116 finished with value: 0.7251832111925383 and parameters: {'l1_ratio': 0.1940476194756442, 'penalty': 'elasticnet', 'C': 30.521614629676527, 'max_iter': 905, 'solver': 'saga'}. Best is trial 81 with value: 0.7268487674883412.\n",
      "[I 2024-06-08 00:23:55,918] Trial 117 finished with value: 0.7215189873417721 and parameters: {'l1_ratio': 0.9790846206910202, 'penalty': 'elasticnet', 'C': 0.021603008194460146, 'max_iter': 503, 'solver': 'saga'}. Best is trial 81 with value: 0.7268487674883412.\n",
      "[I 2024-06-08 00:23:56,134] Trial 118 finished with value: 0.7251832111925383 and parameters: {'l1_ratio': 0.2273428595343805, 'penalty': 'elasticnet', 'C': 16.51468402439202, 'max_iter': 414, 'solver': 'saga'}. Best is trial 81 with value: 0.7268487674883412.\n",
      "[I 2024-06-08 00:23:56,335] Trial 119 finished with value: 0.7251832111925383 and parameters: {'l1_ratio': 0.2195151893089342, 'penalty': 'elasticnet', 'C': 17.03885924185188, 'max_iter': 529, 'solver': 'saga'}. Best is trial 81 with value: 0.7268487674883412.\n",
      "[I 2024-06-08 00:23:56,451] Trial 120 finished with value: 0.7255163224516988 and parameters: {'l1_ratio': 0.05167183644896767, 'penalty': 'elasticnet', 'C': 0.3279823574391817, 'max_iter': 540, 'solver': 'saga'}. Best is trial 81 with value: 0.7268487674883412.\n",
      "[I 2024-06-08 00:23:56,544] Trial 121 finished with value: 0.7255163224516988 and parameters: {'l1_ratio': 0.6777070409958931, 'penalty': 'elasticnet', 'C': 0.15614942311672478, 'max_iter': 113, 'solver': 'saga'}. Best is trial 81 with value: 0.7268487674883412.\n",
      "[I 2024-06-08 00:23:56,641] Trial 122 finished with value: 0.7251832111925383 and parameters: {'l1_ratio': 0.5995989995918588, 'penalty': 'elasticnet', 'C': 18.981897206146257, 'max_iter': 289, 'solver': 'saga'}. Best is trial 81 with value: 0.7268487674883412.\n",
      "[I 2024-06-08 00:23:56,735] Trial 123 finished with value: 0.7251832111925383 and parameters: {'l1_ratio': 0.6337757519736682, 'penalty': 'elasticnet', 'C': 8.449973806298349, 'max_iter': 971, 'solver': 'saga'}. Best is trial 81 with value: 0.7268487674883412.\n",
      "[I 2024-06-08 00:23:56,834] Trial 124 finished with value: 0.7251832111925383 and parameters: {'l1_ratio': 0.08774706063976812, 'penalty': 'elasticnet', 'C': 5.40592655014607, 'max_iter': 612, 'solver': 'saga'}. Best is trial 81 with value: 0.7268487674883412.\n",
      "[I 2024-06-08 00:23:56,926] Trial 125 finished with value: 0.7258494337108594 and parameters: {'l1_ratio': 0.1692741729195425, 'penalty': 'elasticnet', 'C': 0.7136338994103509, 'max_iter': 111, 'solver': 'saga'}. Best is trial 81 with value: 0.7268487674883412.\n",
      "[I 2024-06-08 00:23:57,014] Trial 126 finished with value: 0.7228514323784144 and parameters: {'l1_ratio': 0.023169743854271396, 'penalty': 'elasticnet', 'C': 0.011912611522328018, 'max_iter': 462, 'solver': 'saga'}. Best is trial 81 with value: 0.7268487674883412.\n",
      "[I 2024-06-08 00:23:57,099] Trial 127 finished with value: 0.72618254497002 and parameters: {'l1_ratio': 0.5355132035114978, 'penalty': 'elasticnet', 'C': 0.11225616825078197, 'max_iter': 567, 'solver': 'saga'}. Best is trial 81 with value: 0.7268487674883412.\n",
      "[I 2024-06-08 00:23:57,189] Trial 128 finished with value: 0.72618254497002 and parameters: {'l1_ratio': 0.47779187448209726, 'penalty': 'elasticnet', 'C': 0.1475426226110133, 'max_iter': 465, 'solver': 'saga'}. Best is trial 81 with value: 0.7268487674883412.\n",
      "[I 2024-06-08 00:23:57,277] Trial 129 finished with value: 0.72618254497002 and parameters: {'l1_ratio': 0.47429367431199154, 'penalty': 'elasticnet', 'C': 0.5619332827559818, 'max_iter': 114, 'solver': 'saga'}. Best is trial 81 with value: 0.7268487674883412.\n",
      "[I 2024-06-08 00:23:57,370] Trial 130 finished with value: 0.7251832111925383 and parameters: {'l1_ratio': 0.7055617167942578, 'penalty': 'elasticnet', 'C': 10.892546425919848, 'max_iter': 345, 'solver': 'saga'}. Best is trial 81 with value: 0.7268487674883412.\n",
      "[I 2024-06-08 00:23:57,461] Trial 131 finished with value: 0.7251832111925383 and parameters: {'l1_ratio': 0.4656358778024837, 'penalty': 'elasticnet', 'C': 7.905359413627673, 'max_iter': 174, 'solver': 'saga'}. Best is trial 81 with value: 0.7268487674883412.\n",
      "[I 2024-06-08 00:23:57,551] Trial 132 finished with value: 0.7251832111925383 and parameters: {'l1_ratio': 0.8491269748213126, 'penalty': 'elasticnet', 'C': 7.631269089397811, 'max_iter': 992, 'solver': 'saga'}. Best is trial 81 with value: 0.7268487674883412.\n",
      "[I 2024-06-08 00:23:57,649] Trial 133 finished with value: 0.7255163224516988 and parameters: {'l1_ratio': 0.4458445675158459, 'penalty': 'elasticnet', 'C': 0.10299323423937613, 'max_iter': 244, 'solver': 'saga'}. Best is trial 81 with value: 0.7268487674883412.\n",
      "[I 2024-06-08 00:23:57,848] Trial 134 finished with value: 0.7251832111925383 and parameters: {'l1_ratio': 0.870727250858279, 'penalty': 'elasticnet', 'C': 5.6358438666505775, 'max_iter': 442, 'solver': 'saga'}. Best is trial 81 with value: 0.7268487674883412.\n",
      "[I 2024-06-08 00:23:58,058] Trial 135 finished with value: 0.7251832111925383 and parameters: {'l1_ratio': 0.2282326164835059, 'penalty': 'elasticnet', 'C': 13.3913140627704, 'max_iter': 978, 'solver': 'saga'}. Best is trial 81 with value: 0.7268487674883412.\n",
      "[I 2024-06-08 00:23:58,176] Trial 136 finished with value: 0.7251832111925383 and parameters: {'l1_ratio': 0.8802403479846407, 'penalty': 'elasticnet', 'C': 0.10313923053710798, 'max_iter': 665, 'solver': 'saga'}. Best is trial 81 with value: 0.7268487674883412.\n",
      "[I 2024-06-08 00:23:58,493] Trial 137 finished with value: 0.7231845436375749 and parameters: {'l1_ratio': 0.4948518196858104, 'penalty': 'elasticnet', 'C': 0.019577825451821716, 'max_iter': 591, 'solver': 'saga'}. Best is trial 81 with value: 0.7268487674883412.\n",
      "[I 2024-06-08 00:23:58,593] Trial 138 finished with value: 0.7211858760826116 and parameters: {'l1_ratio': 0.8716091078716307, 'penalty': 'elasticnet', 'C': 0.013190090156730578, 'max_iter': 180, 'solver': 'saga'}. Best is trial 81 with value: 0.7268487674883412.\n",
      "[I 2024-06-08 00:23:58,681] Trial 139 finished with value: 0.7231845436375749 and parameters: {'l1_ratio': 0.31470430106830216, 'penalty': 'elasticnet', 'C': 0.010688381298874287, 'max_iter': 267, 'solver': 'saga'}. Best is trial 81 with value: 0.7268487674883412.\n",
      "[I 2024-06-08 00:23:58,786] Trial 140 finished with value: 0.7245169886742172 and parameters: {'l1_ratio': 0.8743627304570357, 'penalty': 'elasticnet', 'C': 0.05612137404042831, 'max_iter': 674, 'solver': 'saga'}. Best is trial 81 with value: 0.7268487674883412.\n",
      "[I 2024-06-08 00:23:58,991] Trial 141 finished with value: 0.7231845436375749 and parameters: {'l1_ratio': 0.6459240523527073, 'penalty': 'elasticnet', 'C': 0.05394546845209425, 'max_iter': 680, 'solver': 'saga'}. Best is trial 81 with value: 0.7268487674883412.\n",
      "[I 2024-06-08 00:23:59,105] Trial 142 finished with value: 0.7251832111925383 and parameters: {'l1_ratio': 0.1398182058122156, 'penalty': 'elasticnet', 'C': 5.099411482921982, 'max_iter': 947, 'solver': 'saga'}. Best is trial 81 with value: 0.7268487674883412.\n",
      "[I 2024-06-08 00:23:59,209] Trial 143 finished with value: 0.723850766155896 and parameters: {'l1_ratio': 0.3159174861030116, 'penalty': 'elasticnet', 'C': 0.020557202569671466, 'max_iter': 174, 'solver': 'saga'}. Best is trial 81 with value: 0.7268487674883412.\n",
      "[I 2024-06-08 00:23:59,312] Trial 144 finished with value: 0.7258494337108594 and parameters: {'l1_ratio': 0.6822254665259121, 'penalty': 'elasticnet', 'C': 0.9198118292382542, 'max_iter': 119, 'solver': 'saga'}. Best is trial 81 with value: 0.7268487674883412.\n",
      "[I 2024-06-08 00:23:59,431] Trial 145 finished with value: 0.7251832111925383 and parameters: {'l1_ratio': 0.45704577934720947, 'penalty': 'elasticnet', 'C': 33.97055765748985, 'max_iter': 429, 'solver': 'saga'}. Best is trial 81 with value: 0.7268487674883412.\n",
      "[I 2024-06-08 00:23:59,537] Trial 146 finished with value: 0.7265156562291806 and parameters: {'l1_ratio': 0.42914109470841655, 'penalty': 'elasticnet', 'C': 0.1336222420402405, 'max_iter': 457, 'solver': 'saga'}. Best is trial 81 with value: 0.7268487674883412.\n",
      "[I 2024-06-08 00:23:59,778] Trial 147 finished with value: 0.7231845436375749 and parameters: {'l1_ratio': 0.1796720491852063, 'penalty': 'elasticnet', 'C': 0.023280765041308823, 'max_iter': 940, 'solver': 'saga'}. Best is trial 81 with value: 0.7268487674883412.\n",
      "[I 2024-06-08 00:24:00,000] Trial 148 finished with value: 0.7258494337108594 and parameters: {'l1_ratio': 0.45462919667860735, 'penalty': 'elasticnet', 'C': 0.16036769414041072, 'max_iter': 305, 'solver': 'saga'}. Best is trial 81 with value: 0.7268487674883412.\n",
      "[I 2024-06-08 00:24:00,104] Trial 149 finished with value: 0.7255163224516988 and parameters: {'l1_ratio': 0.7287870275360602, 'penalty': 'elasticnet', 'C': 0.12019729056140388, 'max_iter': 775, 'solver': 'saga'}. Best is trial 81 with value: 0.7268487674883412.\n",
      "[I 2024-06-08 00:24:00,253] Trial 150 finished with value: 0.7258494337108594 and parameters: {'l1_ratio': 0.19300320074456478, 'penalty': 'elasticnet', 'C': 0.49003399433322187, 'max_iter': 825, 'solver': 'saga'}. Best is trial 81 with value: 0.7268487674883412.\n",
      "[I 2024-06-08 00:24:00,429] Trial 151 finished with value: 0.7251832111925383 and parameters: {'l1_ratio': 0.8576942251664084, 'penalty': 'elasticnet', 'C': 54.003560287872034, 'max_iter': 548, 'solver': 'saga'}. Best is trial 81 with value: 0.7268487674883412.\n",
      "[I 2024-06-08 00:24:00,614] Trial 152 finished with value: 0.7258494337108594 and parameters: {'l1_ratio': 0.7156670487542581, 'penalty': 'elasticnet', 'C': 0.47737705869943065, 'max_iter': 187, 'solver': 'saga'}. Best is trial 81 with value: 0.7268487674883412.\n",
      "[I 2024-06-08 00:24:00,809] Trial 153 finished with value: 0.7258494337108594 and parameters: {'l1_ratio': 0.512772506734595, 'penalty': 'elasticnet', 'C': 0.1709739793157464, 'max_iter': 159, 'solver': 'saga'}. Best is trial 81 with value: 0.7268487674883412.\n",
      "[I 2024-06-08 00:24:01,006] Trial 154 finished with value: 0.7271818787475016 and parameters: {'l1_ratio': 0.34630026241876444, 'penalty': 'elasticnet', 'C': 0.20813803041222895, 'max_iter': 613, 'solver': 'saga'}. Best is trial 154 with value: 0.7271818787475016.\n",
      "[I 2024-06-08 00:24:01,211] Trial 155 finished with value: 0.7251832111925383 and parameters: {'l1_ratio': 0.7696179395720334, 'penalty': 'elasticnet', 'C': 2.739723370259937, 'max_iter': 588, 'solver': 'saga'}. Best is trial 154 with value: 0.7271818787475016.\n",
      "[I 2024-06-08 00:24:01,407] Trial 156 finished with value: 0.7241838774150566 and parameters: {'l1_ratio': 0.16458012282314227, 'penalty': 'elasticnet', 'C': 0.026813954619397493, 'max_iter': 272, 'solver': 'saga'}. Best is trial 154 with value: 0.7271818787475016.\n",
      "[I 2024-06-08 00:24:01,589] Trial 157 finished with value: 0.72618254497002 and parameters: {'l1_ratio': 0.7246209148956595, 'penalty': 'elasticnet', 'C': 0.09362629112368243, 'max_iter': 793, 'solver': 'saga'}. Best is trial 154 with value: 0.7271818787475016.\n",
      "[I 2024-06-08 00:24:01,700] Trial 158 finished with value: 0.7251832111925383 and parameters: {'l1_ratio': 0.6599634803874062, 'penalty': 'elasticnet', 'C': 14.966568675756214, 'max_iter': 383, 'solver': 'saga'}. Best is trial 154 with value: 0.7271818787475016.\n",
      "[I 2024-06-08 00:24:01,798] Trial 159 finished with value: 0.7251832111925383 and parameters: {'l1_ratio': 0.741395115770732, 'penalty': 'elasticnet', 'C': 1.4164469766090297, 'max_iter': 351, 'solver': 'saga'}. Best is trial 154 with value: 0.7271818787475016.\n",
      "[I 2024-06-08 00:24:01,891] Trial 160 finished with value: 0.7251832111925383 and parameters: {'l1_ratio': 0.5249485314348081, 'penalty': 'elasticnet', 'C': 55.83186946547343, 'max_iter': 826, 'solver': 'saga'}. Best is trial 154 with value: 0.7271818787475016.\n",
      "[I 2024-06-08 00:24:01,976] Trial 161 finished with value: 0.7228514323784144 and parameters: {'l1_ratio': 0.048184948782166837, 'penalty': 'elasticnet', 'C': 0.034375238006951726, 'max_iter': 112, 'solver': 'saga'}. Best is trial 154 with value: 0.7271818787475016.\n",
      "[I 2024-06-08 00:24:02,064] Trial 162 finished with value: 0.7241838774150566 and parameters: {'l1_ratio': 0.18085637652095798, 'penalty': 'elasticnet', 'C': 0.04500467543083502, 'max_iter': 861, 'solver': 'saga'}. Best is trial 154 with value: 0.7271818787475016.\n",
      "[I 2024-06-08 00:24:02,148] Trial 163 finished with value: 0.7258494337108594 and parameters: {'l1_ratio': 0.22335336112405713, 'penalty': 'elasticnet', 'C': 0.5564047032308311, 'max_iter': 290, 'solver': 'saga'}. Best is trial 154 with value: 0.7271818787475016.\n",
      "[I 2024-06-08 00:24:02,241] Trial 164 finished with value: 0.7251832111925383 and parameters: {'l1_ratio': 0.4581142029682954, 'penalty': 'elasticnet', 'C': 68.56895171673015, 'max_iter': 816, 'solver': 'saga'}. Best is trial 154 with value: 0.7271818787475016.\n",
      "[I 2024-06-08 00:24:02,332] Trial 165 finished with value: 0.7251832111925383 and parameters: {'l1_ratio': 0.008540302969749836, 'penalty': 'elasticnet', 'C': 54.49226875635392, 'max_iter': 240, 'solver': 'saga'}. Best is trial 154 with value: 0.7271818787475016.\n",
      "[I 2024-06-08 00:24:02,497] Trial 166 finished with value: 0.7241838774150566 and parameters: {'l1_ratio': 0.21212538395786107, 'penalty': 'elasticnet', 'C': 0.04641012545779085, 'max_iter': 892, 'solver': 'saga'}. Best is trial 154 with value: 0.7271818787475016.\n",
      "[I 2024-06-08 00:24:02,643] Trial 167 finished with value: 0.7251832111925383 and parameters: {'l1_ratio': 0.6993404421513147, 'penalty': 'elasticnet', 'C': 1.9572941155706889, 'max_iter': 501, 'solver': 'saga'}. Best is trial 154 with value: 0.7271818787475016.\n",
      "[I 2024-06-08 00:24:02,740] Trial 168 finished with value: 0.7251832111925383 and parameters: {'l1_ratio': 0.35765548924698587, 'penalty': 'elasticnet', 'C': 72.89712316242216, 'max_iter': 392, 'solver': 'saga'}. Best is trial 154 with value: 0.7271818787475016.\n",
      "[I 2024-06-08 00:24:02,827] Trial 169 finished with value: 0.7251832111925383 and parameters: {'l1_ratio': 0.2525647588221581, 'penalty': 'elasticnet', 'C': 5.739943435587947, 'max_iter': 901, 'solver': 'saga'}. Best is trial 154 with value: 0.7271818787475016.\n",
      "[I 2024-06-08 00:24:02,910] Trial 170 finished with value: 0.7265156562291806 and parameters: {'l1_ratio': 0.42959084730957575, 'penalty': 'elasticnet', 'C': 0.29037785517554454, 'max_iter': 234, 'solver': 'saga'}. Best is trial 154 with value: 0.7271818787475016.\n",
      "[I 2024-06-08 00:24:02,998] Trial 171 finished with value: 0.7251832111925383 and parameters: {'l1_ratio': 0.4057965759814599, 'penalty': 'elasticnet', 'C': 2.40968751100728, 'max_iter': 695, 'solver': 'saga'}. Best is trial 154 with value: 0.7271818787475016.\n",
      "[I 2024-06-08 00:24:03,095] Trial 172 finished with value: 0.7265156562291806 and parameters: {'l1_ratio': 0.25786882263821753, 'penalty': 'elasticnet', 'C': 0.015190183464543648, 'max_iter': 354, 'solver': 'saga'}. Best is trial 154 with value: 0.7271818787475016.\n",
      "[I 2024-06-08 00:24:03,254] Trial 173 finished with value: 0.7231845436375749 and parameters: {'l1_ratio': 0.4262648360638064, 'penalty': 'elasticnet', 'C': 0.010099680155608283, 'max_iter': 138, 'solver': 'saga'}. Best is trial 154 with value: 0.7271818787475016.\n",
      "[I 2024-06-08 00:24:03,365] Trial 174 finished with value: 0.7141905396402398 and parameters: {'l1_ratio': 0.8705368937926137, 'penalty': 'elasticnet', 'C': 0.010789347902880676, 'max_iter': 128, 'solver': 'saga'}. Best is trial 154 with value: 0.7271818787475016.\n",
      "[I 2024-06-08 00:24:03,476] Trial 175 finished with value: 0.7251832111925383 and parameters: {'l1_ratio': 0.49765345484315615, 'penalty': 'elasticnet', 'C': 0.07866169156699519, 'max_iter': 438, 'solver': 'saga'}. Best is trial 154 with value: 0.7271818787475016.\n",
      "[I 2024-06-08 00:24:03,584] Trial 176 finished with value: 0.7251832111925383 and parameters: {'l1_ratio': 0.3577997907742848, 'penalty': 'elasticnet', 'C': 57.20442461131358, 'max_iter': 726, 'solver': 'saga'}. Best is trial 154 with value: 0.7271818787475016.\n",
      "[I 2024-06-08 00:24:03,691] Trial 177 finished with value: 0.7248500999333778 and parameters: {'l1_ratio': 0.7885721416406517, 'penalty': 'elasticnet', 'C': 1.0108419324099946, 'max_iter': 132, 'solver': 'saga'}. Best is trial 154 with value: 0.7271818787475016.\n",
      "[I 2024-06-08 00:24:03,790] Trial 178 finished with value: 0.7235176548967355 and parameters: {'l1_ratio': 0.49078881889177617, 'penalty': 'elasticnet', 'C': 0.019417605447692464, 'max_iter': 683, 'solver': 'saga'}. Best is trial 154 with value: 0.7271818787475016.\n",
      "[I 2024-06-08 00:24:03,891] Trial 179 finished with value: 0.7258494337108594 and parameters: {'l1_ratio': 0.18951097529406513, 'penalty': 'elasticnet', 'C': 1.1293977346682467, 'max_iter': 422, 'solver': 'saga'}. Best is trial 154 with value: 0.7271818787475016.\n",
      "[I 2024-06-08 00:24:03,993] Trial 180 finished with value: 0.7251832111925383 and parameters: {'l1_ratio': 0.35560449737706856, 'penalty': 'elasticnet', 'C': 95.33403206065601, 'max_iter': 945, 'solver': 'saga'}. Best is trial 154 with value: 0.7271818787475016.\n",
      "[I 2024-06-08 00:24:04,089] Trial 181 finished with value: 0.7255163224516988 and parameters: {'l1_ratio': 0.3803928316342987, 'penalty': 'elasticnet', 'C': 1.1196636306660384, 'max_iter': 211, 'solver': 'saga'}. Best is trial 154 with value: 0.7271818787475016.\n",
      "[I 2024-06-08 00:24:04,195] Trial 182 finished with value: 0.7251832111925383 and parameters: {'l1_ratio': 0.31786624938645336, 'penalty': 'elasticnet', 'C': 51.64813072181702, 'max_iter': 108, 'solver': 'saga'}. Best is trial 154 with value: 0.7271818787475016.\n",
      "[I 2024-06-08 00:24:04,289] Trial 183 finished with value: 0.7228514323784144 and parameters: {'l1_ratio': 0.5766847434366573, 'penalty': 'elasticnet', 'C': 0.05357647332882928, 'max_iter': 295, 'solver': 'saga'}. Best is trial 154 with value: 0.7271818787475016.\n",
      "[I 2024-06-08 00:24:04,382] Trial 184 finished with value: 0.7251832111925383 and parameters: {'l1_ratio': 0.5204200584793329, 'penalty': 'elasticnet', 'C': 0.08242284433629943, 'max_iter': 819, 'solver': 'saga'}. Best is trial 154 with value: 0.7271818787475016.\n",
      "[I 2024-06-08 00:24:04,524] Trial 185 finished with value: 0.7251832111925383 and parameters: {'l1_ratio': 0.4815508030411725, 'penalty': 'elasticnet', 'C': 6.685175195778614, 'max_iter': 434, 'solver': 'saga'}. Best is trial 154 with value: 0.7271818787475016.\n",
      "[I 2024-06-08 00:24:04,698] Trial 186 finished with value: 0.7258494337108594 and parameters: {'l1_ratio': 0.40680733945979797, 'penalty': 'elasticnet', 'C': 1.4491003734180792, 'max_iter': 857, 'solver': 'saga'}. Best is trial 154 with value: 0.7271818787475016.\n",
      "[I 2024-06-08 00:24:04,809] Trial 187 finished with value: 0.7251832111925383 and parameters: {'l1_ratio': 0.4593597234190956, 'penalty': 'elasticnet', 'C': 60.02793144173173, 'max_iter': 480, 'solver': 'saga'}. Best is trial 154 with value: 0.7271818787475016.\n",
      "[I 2024-06-08 00:24:04,906] Trial 188 finished with value: 0.7251832111925383 and parameters: {'l1_ratio': 0.2619967887730157, 'penalty': 'elasticnet', 'C': 10.712390266612925, 'max_iter': 334, 'solver': 'saga'}. Best is trial 154 with value: 0.7271818787475016.\n",
      "[I 2024-06-08 00:24:05,006] Trial 189 finished with value: 0.7248500999333778 and parameters: {'l1_ratio': 0.9164386119520391, 'penalty': 'elasticnet', 'C': 0.5172608085543032, 'max_iter': 581, 'solver': 'saga'}. Best is trial 154 with value: 0.7271818787475016.\n",
      "[I 2024-06-08 00:24:05,109] Trial 190 finished with value: 0.7258494337108594 and parameters: {'l1_ratio': 0.18462380207402607, 'penalty': 'elasticnet', 'C': 0.34307614886134724, 'max_iter': 898, 'solver': 'saga'}. Best is trial 154 with value: 0.7271818787475016.\n",
      "[I 2024-06-08 00:24:05,197] Trial 191 finished with value: 0.7215189873417721 and parameters: {'l1_ratio': 0.21285193174839834, 'penalty': 'elasticnet', 'C': 0.010609616348701658, 'max_iter': 688, 'solver': 'saga'}. Best is trial 154 with value: 0.7271818787475016.\n",
      "[I 2024-06-08 00:24:05,286] Trial 192 finished with value: 0.7215189873417721 and parameters: {'l1_ratio': 0.8599840377691925, 'penalty': 'elasticnet', 'C': 0.023359562418764107, 'max_iter': 966, 'solver': 'saga'}. Best is trial 154 with value: 0.7271818787475016.\n",
      "[I 2024-06-08 00:24:05,409] Trial 193 finished with value: 0.7248500999333778 and parameters: {'l1_ratio': 0.1051869255930834, 'penalty': 'elasticnet', 'C': 0.043134613543198454, 'max_iter': 871, 'solver': 'saga'}. Best is trial 154 with value: 0.7271818787475016.\n",
      "[I 2024-06-08 00:24:05,556] Trial 194 finished with value: 0.7251832111925383 and parameters: {'l1_ratio': 0.2348524492830083, 'penalty': 'elasticnet', 'C': 9.466708423687347, 'max_iter': 552, 'solver': 'saga'}. Best is trial 154 with value: 0.7271818787475016.\n",
      "[I 2024-06-08 00:24:05,651] Trial 195 finished with value: 0.7245169886742172 and parameters: {'l1_ratio': 0.9269168613193993, 'penalty': 'elasticnet', 'C': 1.4175730331995302, 'max_iter': 258, 'solver': 'saga'}. Best is trial 154 with value: 0.7271818787475016.\n",
      "[I 2024-06-08 00:24:05,752] Trial 196 finished with value: 0.7251832111925383 and parameters: {'l1_ratio': 0.5540623103318519, 'penalty': 'elasticnet', 'C': 89.6060471028593, 'max_iter': 530, 'solver': 'saga'}. Best is trial 154 with value: 0.7271818787475016.\n",
      "[I 2024-06-08 00:24:05,845] Trial 197 finished with value: 0.7251832111925383 and parameters: {'l1_ratio': 0.16534047338212798, 'penalty': 'elasticnet', 'C': 75.41411366359625, 'max_iter': 736, 'solver': 'saga'}. Best is trial 154 with value: 0.7271818787475016.\n",
      "[I 2024-06-08 00:24:05,992] Trial 198 finished with value: 0.7251832111925383 and parameters: {'l1_ratio': 0.5583803439006675, 'penalty': 'elasticnet', 'C': 1.790861232076548, 'max_iter': 458, 'solver': 'saga'}. Best is trial 154 with value: 0.7271818787475016.\n",
      "[I 2024-06-08 00:24:06,170] Trial 199 finished with value: 0.72618254497002 and parameters: {'l1_ratio': 0.12335021229434073, 'penalty': 'elasticnet', 'C': 0.01617980297530127, 'max_iter': 276, 'solver': 'saga'}. Best is trial 154 with value: 0.7271818787475016.\n"
     ]
    },
    {
     "name": "stdout",
     "output_type": "stream",
     "text": [
      "Best Hyperparameters: {'l1_ratio': 0.34630026241876444, 'penalty': 'elasticnet', 'C': 0.20813803041222895, 'max_iter': 613, 'solver': 'saga'}\n",
      "Best Accuracy: 0.7271818787475016\n"
     ]
    }
   ],
   "source": [
    "# Create a study object and optimize the objective function\n",
    "study = optuna.create_study(direction='maximize', sampler=optuna.samplers.RandomSampler(seed=seed))\n",
    "study.optimize(objective, n_trials=200)\n",
    "\n",
    "# Get the best hyperparameters and accuracy score\n",
    "best_params = study.best_params\n",
    "best_accuracy = study.best_value\n",
    "\n",
    "print(\"Best Hyperparameters:\", best_params)\n",
    "print(\"Best Accuracy:\", best_accuracy)"
   ]
  },
  {
   "cell_type": "code",
   "execution_count": 35,
   "metadata": {},
   "outputs": [
    {
     "data": {
      "text/html": [
       "<div>\n",
       "<style scoped>\n",
       "    .dataframe tbody tr th:only-of-type {\n",
       "        vertical-align: middle;\n",
       "    }\n",
       "\n",
       "    .dataframe tbody tr th {\n",
       "        vertical-align: top;\n",
       "    }\n",
       "\n",
       "    .dataframe thead th {\n",
       "        text-align: right;\n",
       "    }\n",
       "</style>\n",
       "<table border=\"1\" class=\"dataframe\">\n",
       "  <thead>\n",
       "    <tr style=\"text-align: right;\">\n",
       "      <th></th>\n",
       "      <th>number</th>\n",
       "      <th>value</th>\n",
       "      <th>datetime_start</th>\n",
       "      <th>datetime_complete</th>\n",
       "      <th>duration</th>\n",
       "      <th>params_C</th>\n",
       "      <th>params_l1_ratio</th>\n",
       "      <th>params_max_iter</th>\n",
       "      <th>params_penalty</th>\n",
       "      <th>params_solver</th>\n",
       "      <th>state</th>\n",
       "    </tr>\n",
       "  </thead>\n",
       "  <tbody>\n",
       "    <tr>\n",
       "      <th>154</th>\n",
       "      <td>154</td>\n",
       "      <td>0.727182</td>\n",
       "      <td>2024-06-08 00:24:00.811928</td>\n",
       "      <td>2024-06-08 00:24:01.006929</td>\n",
       "      <td>0 days 00:00:00.195001</td>\n",
       "      <td>0.208138</td>\n",
       "      <td>0.346300</td>\n",
       "      <td>613</td>\n",
       "      <td>elasticnet</td>\n",
       "      <td>saga</td>\n",
       "      <td>COMPLETE</td>\n",
       "    </tr>\n",
       "    <tr>\n",
       "      <th>81</th>\n",
       "      <td>81</td>\n",
       "      <td>0.726849</td>\n",
       "      <td>2024-06-08 00:23:52.430106</td>\n",
       "      <td>2024-06-08 00:23:52.517106</td>\n",
       "      <td>0 days 00:00:00.087000</td>\n",
       "      <td>0.197922</td>\n",
       "      <td>0.302487</td>\n",
       "      <td>898</td>\n",
       "      <td>elasticnet</td>\n",
       "      <td>saga</td>\n",
       "      <td>COMPLETE</td>\n",
       "    </tr>\n",
       "    <tr>\n",
       "      <th>172</th>\n",
       "      <td>172</td>\n",
       "      <td>0.726516</td>\n",
       "      <td>2024-06-08 00:24:02.999527</td>\n",
       "      <td>2024-06-08 00:24:03.095563</td>\n",
       "      <td>0 days 00:00:00.096036</td>\n",
       "      <td>0.015190</td>\n",
       "      <td>0.257869</td>\n",
       "      <td>354</td>\n",
       "      <td>elasticnet</td>\n",
       "      <td>saga</td>\n",
       "      <td>COMPLETE</td>\n",
       "    </tr>\n",
       "    <tr>\n",
       "      <th>40</th>\n",
       "      <td>40</td>\n",
       "      <td>0.726516</td>\n",
       "      <td>2024-06-08 00:23:48.742085</td>\n",
       "      <td>2024-06-08 00:23:48.828037</td>\n",
       "      <td>0 days 00:00:00.085952</td>\n",
       "      <td>0.465707</td>\n",
       "      <td>0.639390</td>\n",
       "      <td>665</td>\n",
       "      <td>elasticnet</td>\n",
       "      <td>saga</td>\n",
       "      <td>COMPLETE</td>\n",
       "    </tr>\n",
       "    <tr>\n",
       "      <th>41</th>\n",
       "      <td>41</td>\n",
       "      <td>0.726516</td>\n",
       "      <td>2024-06-08 00:23:48.829076</td>\n",
       "      <td>2024-06-08 00:23:48.914075</td>\n",
       "      <td>0 days 00:00:00.084999</td>\n",
       "      <td>0.161158</td>\n",
       "      <td>0.396431</td>\n",
       "      <td>458</td>\n",
       "      <td>elasticnet</td>\n",
       "      <td>saga</td>\n",
       "      <td>COMPLETE</td>\n",
       "    </tr>\n",
       "    <tr>\n",
       "      <th>146</th>\n",
       "      <td>146</td>\n",
       "      <td>0.726516</td>\n",
       "      <td>2024-06-08 00:23:59.431922</td>\n",
       "      <td>2024-06-08 00:23:59.536925</td>\n",
       "      <td>0 days 00:00:00.105003</td>\n",
       "      <td>0.133622</td>\n",
       "      <td>0.429141</td>\n",
       "      <td>457</td>\n",
       "      <td>elasticnet</td>\n",
       "      <td>saga</td>\n",
       "      <td>COMPLETE</td>\n",
       "    </tr>\n",
       "    <tr>\n",
       "      <th>170</th>\n",
       "      <td>170</td>\n",
       "      <td>0.726516</td>\n",
       "      <td>2024-06-08 00:24:02.828529</td>\n",
       "      <td>2024-06-08 00:24:02.910559</td>\n",
       "      <td>0 days 00:00:00.082030</td>\n",
       "      <td>0.290378</td>\n",
       "      <td>0.429591</td>\n",
       "      <td>234</td>\n",
       "      <td>elasticnet</td>\n",
       "      <td>saga</td>\n",
       "      <td>COMPLETE</td>\n",
       "    </tr>\n",
       "    <tr>\n",
       "      <th>106</th>\n",
       "      <td>106</td>\n",
       "      <td>0.726516</td>\n",
       "      <td>2024-06-08 00:23:54.637656</td>\n",
       "      <td>2024-06-08 00:23:54.717678</td>\n",
       "      <td>0 days 00:00:00.080022</td>\n",
       "      <td>0.182353</td>\n",
       "      <td>0.388469</td>\n",
       "      <td>475</td>\n",
       "      <td>elasticnet</td>\n",
       "      <td>saga</td>\n",
       "      <td>COMPLETE</td>\n",
       "    </tr>\n",
       "    <tr>\n",
       "      <th>129</th>\n",
       "      <td>129</td>\n",
       "      <td>0.726183</td>\n",
       "      <td>2024-06-08 00:23:57.190959</td>\n",
       "      <td>2024-06-08 00:23:57.277957</td>\n",
       "      <td>0 days 00:00:00.086998</td>\n",
       "      <td>0.561933</td>\n",
       "      <td>0.474294</td>\n",
       "      <td>114</td>\n",
       "      <td>elasticnet</td>\n",
       "      <td>saga</td>\n",
       "      <td>COMPLETE</td>\n",
       "    </tr>\n",
       "    <tr>\n",
       "      <th>71</th>\n",
       "      <td>71</td>\n",
       "      <td>0.726183</td>\n",
       "      <td>2024-06-08 00:23:51.460792</td>\n",
       "      <td>2024-06-08 00:23:51.552746</td>\n",
       "      <td>0 days 00:00:00.091954</td>\n",
       "      <td>0.453414</td>\n",
       "      <td>0.313701</td>\n",
       "      <td>455</td>\n",
       "      <td>elasticnet</td>\n",
       "      <td>saga</td>\n",
       "      <td>COMPLETE</td>\n",
       "    </tr>\n",
       "  </tbody>\n",
       "</table>\n",
       "</div>"
      ],
      "text/plain": [
       "     number     value             datetime_start          datetime_complete  \\\n",
       "154     154  0.727182 2024-06-08 00:24:00.811928 2024-06-08 00:24:01.006929   \n",
       "81       81  0.726849 2024-06-08 00:23:52.430106 2024-06-08 00:23:52.517106   \n",
       "172     172  0.726516 2024-06-08 00:24:02.999527 2024-06-08 00:24:03.095563   \n",
       "40       40  0.726516 2024-06-08 00:23:48.742085 2024-06-08 00:23:48.828037   \n",
       "41       41  0.726516 2024-06-08 00:23:48.829076 2024-06-08 00:23:48.914075   \n",
       "146     146  0.726516 2024-06-08 00:23:59.431922 2024-06-08 00:23:59.536925   \n",
       "170     170  0.726516 2024-06-08 00:24:02.828529 2024-06-08 00:24:02.910559   \n",
       "106     106  0.726516 2024-06-08 00:23:54.637656 2024-06-08 00:23:54.717678   \n",
       "129     129  0.726183 2024-06-08 00:23:57.190959 2024-06-08 00:23:57.277957   \n",
       "71       71  0.726183 2024-06-08 00:23:51.460792 2024-06-08 00:23:51.552746   \n",
       "\n",
       "                  duration  params_C  params_l1_ratio  params_max_iter  \\\n",
       "154 0 days 00:00:00.195001  0.208138         0.346300              613   \n",
       "81  0 days 00:00:00.087000  0.197922         0.302487              898   \n",
       "172 0 days 00:00:00.096036  0.015190         0.257869              354   \n",
       "40  0 days 00:00:00.085952  0.465707         0.639390              665   \n",
       "41  0 days 00:00:00.084999  0.161158         0.396431              458   \n",
       "146 0 days 00:00:00.105003  0.133622         0.429141              457   \n",
       "170 0 days 00:00:00.082030  0.290378         0.429591              234   \n",
       "106 0 days 00:00:00.080022  0.182353         0.388469              475   \n",
       "129 0 days 00:00:00.086998  0.561933         0.474294              114   \n",
       "71  0 days 00:00:00.091954  0.453414         0.313701              455   \n",
       "\n",
       "    params_penalty params_solver     state  \n",
       "154     elasticnet          saga  COMPLETE  \n",
       "81      elasticnet          saga  COMPLETE  \n",
       "172     elasticnet          saga  COMPLETE  \n",
       "40      elasticnet          saga  COMPLETE  \n",
       "41      elasticnet          saga  COMPLETE  \n",
       "146     elasticnet          saga  COMPLETE  \n",
       "170     elasticnet          saga  COMPLETE  \n",
       "106     elasticnet          saga  COMPLETE  \n",
       "129     elasticnet          saga  COMPLETE  \n",
       "71      elasticnet          saga  COMPLETE  "
      ]
     },
     "execution_count": 35,
     "metadata": {},
     "output_type": "execute_result"
    }
   ],
   "source": [
    "# Get best trials\n",
    "trials_OTP2 = study.trials_dataframe()\n",
    "# Sort the dataframe by value (accuracy) in descending order\n",
    "top_trials_OTP2 = trials_OTP2.sort_values(by='value', ascending=False).head(10)\n",
    "top_trials_OTP2"
   ]
  },
  {
   "cell_type": "code",
   "execution_count": 36,
   "metadata": {},
   "outputs": [
    {
     "name": "stdout",
     "output_type": "stream",
     "text": [
      "Metrics for LR_OPT2_best:\n",
      "Accuracy: 0.7272\n",
      "Weighted F1: 0.7266\n",
      "Weighted Precision: 0.7275\n",
      "Weighted Recall: 0.7272\n",
      "Macro-Averaged Precision: 0.7277\n",
      "Macro-Averaged Recall: 0.7256\n",
      "F1: [0.74478031 0.70697674]\n",
      "Precision: [0.72292801 0.73239437]\n",
      "classification report\n",
      "              precision    recall  f1-score   support\n",
      "\n",
      "     Class 0       0.72      0.77      0.74      1556\n",
      "     Class 1       0.73      0.68      0.71      1446\n",
      "\n",
      "    accuracy                           0.73      3002\n",
      "   macro avg       0.73      0.73      0.73      3002\n",
      "weighted avg       0.73      0.73      0.73      3002\n",
      "\n",
      "Confusion Matrix\n"
     ]
    },
    {
     "data": {
      "image/png": "[encoded data removed]",
      "text/plain": [
       "<Figure size 432x288 with 2 Axes>"
      ]
     },
     "metadata": {
      "needs_background": "light"
     },
     "output_type": "display_data"
    }
   ],
   "source": [
    "best_trial = study.best_trial\n",
    "best_model = LogisticRegression(**best_trial.params, random_state=seed)\n",
    "best_model.fit(X_train, y_train)\n",
    "\n",
    "predictions_opt2 = best_model.predict(X_test)\n",
    "\n",
    "model_metrics = pd.concat([model_metrics, calculate_metrics('LR_OPT2_best', y_test, predictions_opt2)])"
   ]
  },
  {
   "cell_type": "code",
   "execution_count": 37,
   "metadata": {},
   "outputs": [
    {
     "data": {
      "application/vnd.plotly.v1+json": {
       "config": {
        "plotlyServerURL": "https://plot.ly"
       },
       "data": [
        {
         "cliponaxis": false,
         "hovertemplate": [
          "penalty (CategoricalDistribution): 0.0<extra></extra>",
          "solver (CategoricalDistribution): 0.0<extra></extra>",
          "max_iter (IntDistribution): 0.020511485649838054<extra></extra>",
          "l1_ratio (FloatDistribution): 0.2858764422864288<extra></extra>",
          "C (FloatDistribution): 0.6936120720637332<extra></extra>"
         ],
         "name": "Objective Value",
         "orientation": "h",
         "text": [
          "<0.01",
          "<0.01",
          "0.02",
          "0.29",
          "0.69"
         ],
         "textposition": "outside",
         "type": "bar",
         "x": [
          0,
          0,
          0.020511485649838054,
          0.2858764422864288,
          0.6936120720637332
         ],
         "y": [
          "penalty",
          "solver",
          "max_iter",
          "l1_ratio",
          "C"
         ]
        }
       ],
       "layout": {
        "template": {
         "data": {
          "bar": [
           {
            "error_x": {
             "color": "#2a3f5f"
            },
            "error_y": {
             "color": "#2a3f5f"
            },
            "marker": {
             "line": {
              "color": "#E5ECF6",
              "width": 0.5
             },
             "pattern": {
              "fillmode": "overlay",
              "size": 10,
              "solidity": 0.2
             }
            },
            "type": "bar"
           }
          ],
          "barpolar": [
           {
            "marker": {
             "line": {
              "color": "#E5ECF6",
              "width": 0.5
             },
             "pattern": {
              "fillmode": "overlay",
              "size": 10,
              "solidity": 0.2
             }
            },
            "type": "barpolar"
           }
          ],
          "carpet": [
           {
            "aaxis": {
             "endlinecolor": "#2a3f5f",
             "gridcolor": "white",
             "linecolor": "white",
             "minorgridcolor": "white",
             "startlinecolor": "#2a3f5f"
            },
            "baxis": {
             "endlinecolor": "#2a3f5f",
             "gridcolor": "white",
             "linecolor": "white",
             "minorgridcolor": "white",
             "startlinecolor": "#2a3f5f"
            },
            "type": "carpet"
           }
          ],
          "choropleth": [
           {
            "colorbar": {
             "outlinewidth": 0,
             "ticks": ""
            },
            "type": "choropleth"
           }
          ],
          "contour": [
           {
            "colorbar": {
             "outlinewidth": 0,
             "ticks": ""
            },
            "colorscale": [
             [
              0,
              "#0d0887"
             ],
             [
              0.1111111111111111,
              "#46039f"
             ],
             [
              0.2222222222222222,
              "#7201a8"
             ],
             [
              0.3333333333333333,
              "#9c179e"
             ],
             [
              0.4444444444444444,
              "#bd3786"
             ],
             [
              0.5555555555555556,
              "#d8576b"
             ],
             [
              0.6666666666666666,
              "#ed7953"
             ],
             [
              0.7777777777777778,
              "#fb9f3a"
             ],
             [
              0.8888888888888888,
              "#fdca26"
             ],
             [
              1,
              "#f0f921"
             ]
            ],
            "type": "contour"
           }
          ],
          "contourcarpet": [
           {
            "colorbar": {
             "outlinewidth": 0,
             "ticks": ""
            },
            "type": "contourcarpet"
           }
          ],
          "heatmap": [
           {
            "colorbar": {
             "outlinewidth": 0,
             "ticks": ""
            },
            "colorscale": [
             [
              0,
              "#0d0887"
             ],
             [
              0.1111111111111111,
              "#46039f"
             ],
             [
              0.2222222222222222,
              "#7201a8"
             ],
             [
              0.3333333333333333,
              "#9c179e"
             ],
             [
              0.4444444444444444,
              "#bd3786"
             ],
             [
              0.5555555555555556,
              "#d8576b"
             ],
             [
              0.6666666666666666,
              "#ed7953"
             ],
             [
              0.7777777777777778,
              "#fb9f3a"
             ],
             [
              0.8888888888888888,
              "#fdca26"
             ],
             [
              1,
              "#f0f921"
             ]
            ],
            "type": "heatmap"
           }
          ],
          "heatmapgl": [
           {
            "colorbar": {
             "outlinewidth": 0,
             "ticks": ""
            },
            "colorscale": [
             [
              0,
              "#0d0887"
             ],
             [
              0.1111111111111111,
              "#46039f"
             ],
             [
              0.2222222222222222,
              "#7201a8"
             ],
             [
              0.3333333333333333,
              "#9c179e"
             ],
             [
              0.4444444444444444,
              "#bd3786"
             ],
             [
              0.5555555555555556,
              "#d8576b"
             ],
             [
              0.6666666666666666,
              "#ed7953"
             ],
             [
              0.7777777777777778,
              "#fb9f3a"
             ],
             [
              0.8888888888888888,
              "#fdca26"
             ],
             [
              1,
              "#f0f921"
             ]
            ],
            "type": "heatmapgl"
           }
          ],
          "histogram": [
           {
            "marker": {
             "pattern": {
              "fillmode": "overlay",
              "size": 10,
              "solidity": 0.2
             }
            },
            "type": "histogram"
           }
          ],
          "histogram2d": [
           {
            "colorbar": {
             "outlinewidth": 0,
             "ticks": ""
            },
            "colorscale": [
             [
              0,
              "#0d0887"
             ],
             [
              0.1111111111111111,
              "#46039f"
             ],
             [
              0.2222222222222222,
              "#7201a8"
             ],
             [
              0.3333333333333333,
              "#9c179e"
             ],
             [
              0.4444444444444444,
              "#bd3786"
             ],
             [
              0.5555555555555556,
              "#d8576b"
             ],
             [
              0.6666666666666666,
              "#ed7953"
             ],
             [
              0.7777777777777778,
              "#fb9f3a"
             ],
             [
              0.8888888888888888,
              "#fdca26"
             ],
             [
              1,
              "#f0f921"
             ]
            ],
            "type": "histogram2d"
           }
          ],
          "histogram2dcontour": [
           {
            "colorbar": {
             "outlinewidth": 0,
             "ticks": ""
            },
            "colorscale": [
             [
              0,
              "#0d0887"
             ],
             [
              0.1111111111111111,
              "#46039f"
             ],
             [
              0.2222222222222222,
              "#7201a8"
             ],
             [
              0.3333333333333333,
              "#9c179e"
             ],
             [
              0.4444444444444444,
              "#bd3786"
             ],
             [
              0.5555555555555556,
              "#d8576b"
             ],
             [
              0.6666666666666666,
              "#ed7953"
             ],
             [
              0.7777777777777778,
              "#fb9f3a"
             ],
             [
              0.8888888888888888,
              "#fdca26"
             ],
             [
              1,
              "#f0f921"
             ]
            ],
            "type": "histogram2dcontour"
           }
          ],
          "mesh3d": [
           {
            "colorbar": {
             "outlinewidth": 0,
             "ticks": ""
            },
            "type": "mesh3d"
           }
          ],
          "parcoords": [
           {
            "line": {
             "colorbar": {
              "outlinewidth": 0,
              "ticks": ""
             }
            },
            "type": "parcoords"
           }
          ],
          "pie": [
           {
            "automargin": true,
            "type": "pie"
           }
          ],
          "scatter": [
           {
            "fillpattern": {
             "fillmode": "overlay",
             "size": 10,
             "solidity": 0.2
            },
            "type": "scatter"
           }
          ],
          "scatter3d": [
           {
            "line": {
             "colorbar": {
              "outlinewidth": 0,
              "ticks": ""
             }
            },
            "marker": {
             "colorbar": {
              "outlinewidth": 0,
              "ticks": ""
             }
            },
            "type": "scatter3d"
           }
          ],
          "scattercarpet": [
           {
            "marker": {
             "colorbar": {
              "outlinewidth": 0,
              "ticks": ""
             }
            },
            "type": "scattercarpet"
           }
          ],
          "scattergeo": [
           {
            "marker": {
             "colorbar": {
              "outlinewidth": 0,
              "ticks": ""
             }
            },
            "type": "scattergeo"
           }
          ],
          "scattergl": [
           {
            "marker": {
             "colorbar": {
              "outlinewidth": 0,
              "ticks": ""
             }
            },
            "type": "scattergl"
           }
          ],
          "scattermapbox": [
           {
            "marker": {
             "colorbar": {
              "outlinewidth": 0,
              "ticks": ""
             }
            },
            "type": "scattermapbox"
           }
          ],
          "scatterpolar": [
           {
            "marker": {
             "colorbar": {
              "outlinewidth": 0,
              "ticks": ""
             }
            },
            "type": "scatterpolar"
           }
          ],
          "scatterpolargl": [
           {
            "marker": {
             "colorbar": {
              "outlinewidth": 0,
              "ticks": ""
             }
            },
            "type": "scatterpolargl"
           }
          ],
          "scatterternary": [
           {
            "marker": {
             "colorbar": {
              "outlinewidth": 0,
              "ticks": ""
             }
            },
            "type": "scatterternary"
           }
          ],
          "surface": [
           {
            "colorbar": {
             "outlinewidth": 0,
             "ticks": ""
            },
            "colorscale": [
             [
              0,
              "#0d0887"
             ],
             [
              0.1111111111111111,
              "#46039f"
             ],
             [
              0.2222222222222222,
              "#7201a8"
             ],
             [
              0.3333333333333333,
              "#9c179e"
             ],
             [
              0.4444444444444444,
              "#bd3786"
             ],
             [
              0.5555555555555556,
              "#d8576b"
             ],
             [
              0.6666666666666666,
              "#ed7953"
             ],
             [
              0.7777777777777778,
              "#fb9f3a"
             ],
             [
              0.8888888888888888,
              "#fdca26"
             ],
             [
              1,
              "#f0f921"
             ]
            ],
            "type": "surface"
           }
          ],
          "table": [
           {
            "cells": {
             "fill": {
              "color": "#EBF0F8"
             },
             "line": {
              "color": "white"
             }
            },
            "header": {
             "fill": {
              "color": "#C8D4E3"
             },
             "line": {
              "color": "white"
             }
            },
            "type": "table"
           }
          ]
         },
         "layout": {
          "annotationdefaults": {
           "arrowcolor": "#2a3f5f",
           "arrowhead": 0,
           "arrowwidth": 1
          },
          "autotypenumbers": "strict",
          "coloraxis": {
           "colorbar": {
            "outlinewidth": 0,
            "ticks": ""
           }
          },
          "colorscale": {
           "diverging": [
            [
             0,
             "#8e0152"
            ],
            [
             0.1,
             "#c51b7d"
            ],
            [
             0.2,
             "#de77ae"
            ],
            [
             0.3,
             "#f1b6da"
            ],
            [
             0.4,
             "#fde0ef"
            ],
            [
             0.5,
             "#f7f7f7"
            ],
            [
             0.6,
             "#e6f5d0"
            ],
            [
             0.7,
             "#b8e186"
            ],
            [
             0.8,
             "#7fbc41"
            ],
            [
             0.9,
             "#4d9221"
            ],
            [
             1,
             "#276419"
            ]
           ],
           "sequential": [
            [
             0,
             "#0d0887"
            ],
            [
             0.1111111111111111,
             "#46039f"
            ],
            [
             0.2222222222222222,
             "#7201a8"
            ],
            [
             0.3333333333333333,
             "#9c179e"
            ],
            [
             0.4444444444444444,
             "#bd3786"
            ],
            [
             0.5555555555555556,
             "#d8576b"
            ],
            [
             0.6666666666666666,
             "#ed7953"
            ],
            [
             0.7777777777777778,
             "#fb9f3a"
            ],
            [
             0.8888888888888888,
             "#fdca26"
            ],
            [
             1,
             "#f0f921"
            ]
           ],
           "sequentialminus": [
            [
             0,
             "#0d0887"
            ],
            [
             0.1111111111111111,
             "#46039f"
            ],
            [
             0.2222222222222222,
             "#7201a8"
            ],
            [
             0.3333333333333333,
             "#9c179e"
            ],
            [
             0.4444444444444444,
             "#bd3786"
            ],
            [
             0.5555555555555556,
             "#d8576b"
            ],
            [
             0.6666666666666666,
             "#ed7953"
            ],
            [
             0.7777777777777778,
             "#fb9f3a"
            ],
            [
             0.8888888888888888,
             "#fdca26"
            ],
            [
             1,
             "#f0f921"
            ]
           ]
          },
          "colorway": [
           "#636efa",
           "#EF553B",
           "#00cc96",
           "#ab63fa",
           "#FFA15A",
           "#19d3f3",
           "#FF6692",
           "#B6E880",
           "#FF97FF",
           "#FECB52"
          ],
          "font": {
           "color": "#2a3f5f"
          },
          "geo": {
           "bgcolor": "white",
           "lakecolor": "white",
           "landcolor": "#E5ECF6",
           "showlakes": true,
           "showland": true,
           "subunitcolor": "white"
          },
          "hoverlabel": {
           "align": "left"
          },
          "hovermode": "closest",
          "mapbox": {
           "style": "light"
          },
          "paper_bgcolor": "white",
          "plot_bgcolor": "#E5ECF6",
          "polar": {
           "angularaxis": {
            "gridcolor": "white",
            "linecolor": "white",
            "ticks": ""
           },
           "bgcolor": "#E5ECF6",
           "radialaxis": {
            "gridcolor": "white",
            "linecolor": "white",
            "ticks": ""
           }
          },
          "scene": {
           "xaxis": {
            "backgroundcolor": "#E5ECF6",
            "gridcolor": "white",
            "gridwidth": 2,
            "linecolor": "white",
            "showbackground": true,
            "ticks": "",
            "zerolinecolor": "white"
           },
           "yaxis": {
            "backgroundcolor": "#E5ECF6",
            "gridcolor": "white",
            "gridwidth": 2,
            "linecolor": "white",
            "showbackground": true,
            "ticks": "",
            "zerolinecolor": "white"
           },
           "zaxis": {
            "backgroundcolor": "#E5ECF6",
            "gridcolor": "white",
            "gridwidth": 2,
            "linecolor": "white",
            "showbackground": true,
            "ticks": "",
            "zerolinecolor": "white"
           }
          },
          "shapedefaults": {
           "line": {
            "color": "#2a3f5f"
           }
          },
          "ternary": {
           "aaxis": {
            "gridcolor": "white",
            "linecolor": "white",
            "ticks": ""
           },
           "baxis": {
            "gridcolor": "white",
            "linecolor": "white",
            "ticks": ""
           },
           "bgcolor": "#E5ECF6",
           "caxis": {
            "gridcolor": "white",
            "linecolor": "white",
            "ticks": ""
           }
          },
          "title": {
           "x": 0.05
          },
          "xaxis": {
           "automargin": true,
           "gridcolor": "white",
           "linecolor": "white",
           "ticks": "",
           "title": {
            "standoff": 15
           },
           "zerolinecolor": "white",
           "zerolinewidth": 2
          },
          "yaxis": {
           "automargin": true,
           "gridcolor": "white",
           "linecolor": "white",
           "ticks": "",
           "title": {
            "standoff": 15
           },
           "zerolinecolor": "white",
           "zerolinewidth": 2
          }
         }
        },
        "title": {
         "text": "Hyperparameter Importances"
        },
        "xaxis": {
         "title": {
          "text": "Hyperparameter Importance"
         }
        },
        "yaxis": {
         "title": {
          "text": "Hyperparameter"
         }
        }
       }
      }
     },
     "metadata": {},
     "output_type": "display_data"
    }
   ],
   "source": [
    "optuna.visualization.plot_param_importances(study)"
   ]
  },
  {
   "cell_type": "markdown",
   "metadata": {},
   "source": [
    "Make 'C' interval uniform (as it remains the most important hyperparameter)"
   ]
  },
  {
   "cell_type": "code",
   "execution_count": 46,
   "metadata": {},
   "outputs": [],
   "source": [
    "def objective(trial):\n",
    "    # Define the hyperparameters to optimize\n",
    "    l1_ratio = trial.suggest_uniform('l1_ratio', 0, 1)\n",
    "    penalty = trial.suggest_categorical('penalty', ['elasticnet'])\n",
    "    C = trial.suggest_uniform('C', 0.01, 100)\n",
    "    max_iter = trial.suggest_int('max_iter', 100, 1000)\n",
    "    solver= trial.suggest_categorical('solver', ['saga'])\n",
    "    \n",
    "    # Create the logistic regression model with the hyperparameters\n",
    "    model = LogisticRegression(penalty=penalty, C=C, max_iter=max_iter,\n",
    "     solver=solver, l1_ratio=l1_ratio, random_state=seed)\n",
    "    \n",
    "    # Train the model\n",
    "    model.fit(X_train, y_train)\n",
    "    \n",
    "    # Make predictions on the test set\n",
    "    y_pred = model.predict(X_test)\n",
    "    \n",
    "    # Calculate the accuracy score\n",
    "    accuracy = accuracy_score(y_test, y_pred)\n",
    "    #score_cross_val = cross_val_score(model, X_train, y_train, cv=5, scoring='precision')\n",
    "\n",
    "    \n",
    "    return accuracy"
   ]
  },
  {
   "cell_type": "code",
   "execution_count": 47,
   "metadata": {},
   "outputs": [
    {
     "name": "stderr",
     "output_type": "stream",
     "text": [
      "[I 2024-06-08 00:26:05,944] A new study created in memory with name: no-name-b01b0e41-2738-41fa-910a-f259ee37c7c3\n",
      "[I 2024-06-08 00:26:06,079] Trial 0 finished with value: 0.7251832111925383 and parameters: {'l1_ratio': 0.5172978838465893, 'penalty': 'elasticnet', 'C': 94.69679075544326, 'max_iter': 789, 'solver': 'saga'}. Best is trial 0 with value: 0.7251832111925383.\n",
      "[I 2024-06-08 00:26:06,204] Trial 1 finished with value: 0.7251832111925383 and parameters: {'l1_ratio': 0.2823958439671127, 'penalty': 'elasticnet', 'C': 22.112325872532644, 'max_iter': 718, 'solver': 'saga'}. Best is trial 0 with value: 0.7251832111925383.\n",
      "[I 2024-06-08 00:26:06,314] Trial 2 finished with value: 0.7251832111925383 and parameters: {'l1_ratio': 0.16713920310005626, 'penalty': 'elasticnet', 'C': 39.25032222183841, 'max_iter': 656, 'solver': 'saga'}. Best is trial 0 with value: 0.7251832111925383.\n",
      "[I 2024-06-08 00:26:06,426] Trial 3 finished with value: 0.72618254497002 and parameters: {'l1_ratio': 0.411930094858746, 'penalty': 'elasticnet', 'C': 0.25646347127660823, 'max_iter': 896, 'solver': 'saga'}. Best is trial 3 with value: 0.72618254497002.\n",
      "[I 2024-06-08 00:26:06,577] Trial 4 finished with value: 0.7251832111925383 and parameters: {'l1_ratio': 0.8849475383764736, 'penalty': 'elasticnet', 'C': 30.047964839754428, 'max_iter': 631, 'solver': 'saga'}. Best is trial 3 with value: 0.72618254497002.\n",
      "[I 2024-06-08 00:26:06,799] Trial 5 finished with value: 0.7251832111925383 and parameters: {'l1_ratio': 0.9784269160148309, 'penalty': 'elasticnet', 'C': 84.51093127440986, 'max_iter': 158, 'solver': 'saga'}. Best is trial 3 with value: 0.72618254497002.\n",
      "[I 2024-06-08 00:26:07,122] Trial 6 finished with value: 0.7251832111925383 and parameters: {'l1_ratio': 0.2947444647173656, 'penalty': 'elasticnet', 'C': 28.80056475231497, 'max_iter': 841, 'solver': 'saga'}. Best is trial 3 with value: 0.72618254497002.\n",
      "[I 2024-06-08 00:26:07,316] Trial 7 finished with value: 0.7251832111925383 and parameters: {'l1_ratio': 0.6261830379602461, 'penalty': 'elasticnet', 'C': 11.05666661422824, 'max_iter': 100, 'solver': 'saga'}. Best is trial 3 with value: 0.72618254497002.\n",
      "[I 2024-06-08 00:26:07,501] Trial 8 finished with value: 0.7251832111925383 and parameters: {'l1_ratio': 0.9421662328554996, 'penalty': 'elasticnet', 'C': 14.158660764941725, 'max_iter': 479, 'solver': 'saga'}. Best is trial 3 with value: 0.72618254497002.\n",
      "[I 2024-06-08 00:26:07,646] Trial 9 finished with value: 0.7251832111925383 and parameters: {'l1_ratio': 0.3464894401485442, 'penalty': 'elasticnet', 'C': 86.97981058887417, 'max_iter': 486, 'solver': 'saga'}. Best is trial 3 with value: 0.72618254497002.\n",
      "[I 2024-06-08 00:26:07,828] Trial 10 finished with value: 0.7251832111925383 and parameters: {'l1_ratio': 0.8287514843227557, 'penalty': 'elasticnet', 'C': 71.78800530422157, 'max_iter': 207, 'solver': 'saga'}. Best is trial 3 with value: 0.72618254497002.\n",
      "[I 2024-06-08 00:26:07,983] Trial 11 finished with value: 0.7251832111925383 and parameters: {'l1_ratio': 0.5963841727096089, 'penalty': 'elasticnet', 'C': 12.984332207540941, 'max_iter': 169, 'solver': 'saga'}. Best is trial 3 with value: 0.72618254497002.\n",
      "[I 2024-06-08 00:26:08,114] Trial 12 finished with value: 0.7251832111925383 and parameters: {'l1_ratio': 0.831205255690418, 'penalty': 'elasticnet', 'C': 46.44391762187244, 'max_iter': 245, 'solver': 'saga'}. Best is trial 3 with value: 0.72618254497002.\n",
      "[I 2024-06-08 00:26:08,297] Trial 13 finished with value: 0.7251832111925383 and parameters: {'l1_ratio': 0.5479752920930067, 'penalty': 'elasticnet', 'C': 58.85269732601583, 'max_iter': 797, 'solver': 'saga'}. Best is trial 3 with value: 0.72618254497002.\n",
      "[I 2024-06-08 00:26:08,443] Trial 14 finished with value: 0.7251832111925383 and parameters: {'l1_ratio': 0.6558454580069033, 'penalty': 'elasticnet', 'C': 55.775098880247505, 'max_iter': 260, 'solver': 'saga'}. Best is trial 3 with value: 0.72618254497002.\n",
      "[I 2024-06-08 00:26:08,539] Trial 15 finished with value: 0.7251832111925383 and parameters: {'l1_ratio': 0.24058353121801312, 'penalty': 'elasticnet', 'C': 50.61040269056223, 'max_iter': 457, 'solver': 'saga'}. Best is trial 3 with value: 0.72618254497002.\n",
      "[I 2024-06-08 00:26:08,689] Trial 16 finished with value: 0.7251832111925383 and parameters: {'l1_ratio': 0.48305518544294146, 'penalty': 'elasticnet', 'C': 95.5744267104077, 'max_iter': 912, 'solver': 'saga'}. Best is trial 3 with value: 0.72618254497002.\n",
      "[I 2024-06-08 00:26:08,789] Trial 17 finished with value: 0.7251832111925383 and parameters: {'l1_ratio': 0.5057593219775152, 'penalty': 'elasticnet', 'C': 82.07194150143985, 'max_iter': 845, 'solver': 'saga'}. Best is trial 3 with value: 0.72618254497002.\n",
      "[I 2024-06-08 00:26:08,888] Trial 18 finished with value: 0.7251832111925383 and parameters: {'l1_ratio': 0.23183334760205443, 'penalty': 'elasticnet', 'C': 7.914758085628993, 'max_iter': 519, 'solver': 'saga'}. Best is trial 3 with value: 0.72618254497002.\n",
      "[I 2024-06-08 00:26:08,985] Trial 19 finished with value: 0.7251832111925383 and parameters: {'l1_ratio': 0.8789758084042731, 'penalty': 'elasticnet', 'C': 14.758830839998286, 'max_iter': 308, 'solver': 'saga'}. Best is trial 3 with value: 0.72618254497002.\n",
      "[I 2024-06-08 00:26:09,082] Trial 20 finished with value: 0.7251832111925383 and parameters: {'l1_ratio': 0.9179458057039298, 'penalty': 'elasticnet', 'C': 12.915062125341006, 'max_iter': 925, 'solver': 'saga'}. Best is trial 3 with value: 0.72618254497002.\n",
      "[I 2024-06-08 00:26:09,177] Trial 21 finished with value: 0.7251832111925383 and parameters: {'l1_ratio': 0.23479755091129706, 'penalty': 'elasticnet', 'C': 61.602516996263844, 'max_iter': 957, 'solver': 'saga'}. Best is trial 3 with value: 0.72618254497002.\n",
      "[I 2024-06-08 00:26:09,279] Trial 22 finished with value: 0.7251832111925383 and parameters: {'l1_ratio': 0.25513081972233587, 'penalty': 'elasticnet', 'C': 45.031012283015585, 'max_iter': 976, 'solver': 'saga'}. Best is trial 3 with value: 0.72618254497002.\n",
      "[I 2024-06-08 00:26:09,374] Trial 23 finished with value: 0.7251832111925383 and parameters: {'l1_ratio': 0.23937099816163865, 'penalty': 'elasticnet', 'C': 19.876143456435944, 'max_iter': 719, 'solver': 'saga'}. Best is trial 3 with value: 0.72618254497002.\n",
      "[I 2024-06-08 00:26:09,482] Trial 24 finished with value: 0.7251832111925383 and parameters: {'l1_ratio': 0.8450091946690719, 'penalty': 'elasticnet', 'C': 45.337085019862336, 'max_iter': 191, 'solver': 'saga'}. Best is trial 3 with value: 0.72618254497002.\n",
      "[I 2024-06-08 00:26:09,577] Trial 25 finished with value: 0.7251832111925383 and parameters: {'l1_ratio': 0.622847970552664, 'penalty': 'elasticnet', 'C': 8.356758926609873, 'max_iter': 147, 'solver': 'saga'}. Best is trial 3 with value: 0.72618254497002.\n",
      "[I 2024-06-08 00:26:09,679] Trial 26 finished with value: 0.7251832111925383 and parameters: {'l1_ratio': 0.3454784779791955, 'penalty': 'elasticnet', 'C': 90.54846776952209, 'max_iter': 819, 'solver': 'saga'}. Best is trial 3 with value: 0.72618254497002.\n",
      "[I 2024-06-08 00:26:09,772] Trial 27 finished with value: 0.7251832111925383 and parameters: {'l1_ratio': 0.3842269427484306, 'penalty': 'elasticnet', 'C': 9.28167318660989, 'max_iter': 214, 'solver': 'saga'}. Best is trial 3 with value: 0.72618254497002.\n",
      "[I 2024-06-08 00:26:09,871] Trial 28 finished with value: 0.7251832111925383 and parameters: {'l1_ratio': 0.5343972812309752, 'penalty': 'elasticnet', 'C': 50.7353466655461, 'max_iter': 553, 'solver': 'saga'}. Best is trial 3 with value: 0.72618254497002.\n",
      "[I 2024-06-08 00:26:09,965] Trial 29 finished with value: 0.7251832111925383 and parameters: {'l1_ratio': 0.12660677568465384, 'penalty': 'elasticnet', 'C': 79.13114619972418, 'max_iter': 637, 'solver': 'saga'}. Best is trial 3 with value: 0.72618254497002.\n",
      "[I 2024-06-08 00:26:10,059] Trial 30 finished with value: 0.7251832111925383 and parameters: {'l1_ratio': 0.75776937269917, 'penalty': 'elasticnet', 'C': 45.941815547894294, 'max_iter': 167, 'solver': 'saga'}. Best is trial 3 with value: 0.72618254497002.\n",
      "[I 2024-06-08 00:26:10,163] Trial 31 finished with value: 0.7251832111925383 and parameters: {'l1_ratio': 0.6024878434664988, 'penalty': 'elasticnet', 'C': 43.56556095994181, 'max_iter': 105, 'solver': 'saga'}. Best is trial 3 with value: 0.72618254497002.\n",
      "[I 2024-06-08 00:26:10,254] Trial 32 finished with value: 0.7251832111925383 and parameters: {'l1_ratio': 0.04662987836169319, 'penalty': 'elasticnet', 'C': 41.88005257659126, 'max_iter': 891, 'solver': 'saga'}. Best is trial 3 with value: 0.72618254497002.\n",
      "[I 2024-06-08 00:26:10,360] Trial 33 finished with value: 0.7251832111925383 and parameters: {'l1_ratio': 0.43301769330849826, 'penalty': 'elasticnet', 'C': 64.34958641486882, 'max_iter': 612, 'solver': 'saga'}. Best is trial 3 with value: 0.72618254497002.\n",
      "[I 2024-06-08 00:26:10,470] Trial 34 finished with value: 0.7251832111925383 and parameters: {'l1_ratio': 0.24018190154641206, 'penalty': 'elasticnet', 'C': 29.577723242551617, 'max_iter': 104, 'solver': 'saga'}. Best is trial 3 with value: 0.72618254497002.\n",
      "[I 2024-06-08 00:26:10,557] Trial 35 finished with value: 0.7251832111925383 and parameters: {'l1_ratio': 0.1288935485768078, 'penalty': 'elasticnet', 'C': 52.92021041766975, 'max_iter': 683, 'solver': 'saga'}. Best is trial 3 with value: 0.72618254497002.\n",
      "[I 2024-06-08 00:26:10,645] Trial 36 finished with value: 0.7251832111925383 and parameters: {'l1_ratio': 0.14536195449419298, 'penalty': 'elasticnet', 'C': 69.1420121534799, 'max_iter': 645, 'solver': 'saga'}. Best is trial 3 with value: 0.72618254497002.\n",
      "[I 2024-06-08 00:26:10,738] Trial 37 finished with value: 0.7251832111925383 and parameters: {'l1_ratio': 0.963544780062434, 'penalty': 'elasticnet', 'C': 84.2870265593638, 'max_iter': 567, 'solver': 'saga'}. Best is trial 3 with value: 0.72618254497002.\n",
      "[I 2024-06-08 00:26:10,827] Trial 38 finished with value: 0.7251832111925383 and parameters: {'l1_ratio': 0.6034752072158278, 'penalty': 'elasticnet', 'C': 8.558721313456362, 'max_iter': 960, 'solver': 'saga'}. Best is trial 3 with value: 0.72618254497002.\n",
      "[I 2024-06-08 00:26:10,912] Trial 39 finished with value: 0.7251832111925383 and parameters: {'l1_ratio': 0.8951009548900523, 'penalty': 'elasticnet', 'C': 55.83913413464438, 'max_iter': 354, 'solver': 'saga'}. Best is trial 3 with value: 0.72618254497002.\n",
      "[I 2024-06-08 00:26:11,008] Trial 40 finished with value: 0.7251832111925383 and parameters: {'l1_ratio': 0.6393898787142637, 'penalty': 'elasticnet', 'C': 41.70864042530114, 'max_iter': 665, 'solver': 'saga'}. Best is trial 3 with value: 0.72618254497002.\n",
      "[I 2024-06-08 00:26:11,096] Trial 41 finished with value: 0.7251832111925383 and parameters: {'l1_ratio': 0.3964306441212516, 'penalty': 'elasticnet', 'C': 30.188298259896797, 'max_iter': 458, 'solver': 'saga'}. Best is trial 3 with value: 0.72618254497002.\n",
      "[I 2024-06-08 00:26:11,184] Trial 42 finished with value: 0.7251832111925383 and parameters: {'l1_ratio': 0.8497845284188781, 'penalty': 'elasticnet', 'C': 83.87548295848951, 'max_iter': 357, 'solver': 'saga'}. Best is trial 3 with value: 0.72618254497002.\n",
      "[I 2024-06-08 00:26:11,272] Trial 43 finished with value: 0.7251832111925383 and parameters: {'l1_ratio': 0.33885827739248164, 'penalty': 'elasticnet', 'C': 48.39435821312557, 'max_iter': 446, 'solver': 'saga'}. Best is trial 3 with value: 0.72618254497002.\n",
      "[I 2024-06-08 00:26:11,398] Trial 44 finished with value: 0.7251832111925383 and parameters: {'l1_ratio': 0.32878734994014014, 'penalty': 'elasticnet', 'C': 52.90502811945416, 'max_iter': 187, 'solver': 'saga'}. Best is trial 3 with value: 0.72618254497002.\n",
      "[I 2024-06-08 00:26:11,546] Trial 45 finished with value: 0.7251832111925383 and parameters: {'l1_ratio': 0.023379930587594244, 'penalty': 'elasticnet', 'C': 19.011964752146625, 'max_iter': 967, 'solver': 'saga'}. Best is trial 3 with value: 0.72618254497002.\n",
      "[I 2024-06-08 00:26:11,670] Trial 46 finished with value: 0.7251832111925383 and parameters: {'l1_ratio': 0.7609561458372598, 'penalty': 'elasticnet', 'C': 52.14383068269241, 'max_iter': 210, 'solver': 'saga'}. Best is trial 3 with value: 0.72618254497002.\n",
      "[I 2024-06-08 00:26:11,782] Trial 47 finished with value: 0.7251832111925383 and parameters: {'l1_ratio': 0.9985866810937334, 'penalty': 'elasticnet', 'C': 88.82733256260042, 'max_iter': 964, 'solver': 'saga'}. Best is trial 3 with value: 0.72618254497002.\n",
      "[I 2024-06-08 00:26:11,895] Trial 48 finished with value: 0.7251832111925383 and parameters: {'l1_ratio': 0.564785449158253, 'penalty': 'elasticnet', 'C': 29.830308081720553, 'max_iter': 266, 'solver': 'saga'}. Best is trial 3 with value: 0.72618254497002.\n",
      "[I 2024-06-08 00:26:12,018] Trial 49 finished with value: 0.7251832111925383 and parameters: {'l1_ratio': 0.7808527854686921, 'penalty': 'elasticnet', 'C': 15.529922492940079, 'max_iter': 641, 'solver': 'saga'}. Best is trial 3 with value: 0.72618254497002.\n",
      "[I 2024-06-08 00:26:12,188] Trial 50 finished with value: 0.7251832111925383 and parameters: {'l1_ratio': 0.7380400243015056, 'penalty': 'elasticnet', 'C': 56.635746756744, 'max_iter': 815, 'solver': 'saga'}. Best is trial 3 with value: 0.72618254497002.\n",
      "[I 2024-06-08 00:26:12,320] Trial 51 finished with value: 0.7251832111925383 and parameters: {'l1_ratio': 0.9272600171485721, 'penalty': 'elasticnet', 'C': 8.095413411801053, 'max_iter': 204, 'solver': 'saga'}. Best is trial 3 with value: 0.72618254497002.\n",
      "[I 2024-06-08 00:26:12,507] Trial 52 finished with value: 0.7251832111925383 and parameters: {'l1_ratio': 0.11380123623093197, 'penalty': 'elasticnet', 'C': 28.800415781635273, 'max_iter': 596, 'solver': 'saga'}. Best is trial 3 with value: 0.72618254497002.\n",
      "[I 2024-06-08 00:26:12,624] Trial 53 finished with value: 0.7251832111925383 and parameters: {'l1_ratio': 0.44464358527828296, 'penalty': 'elasticnet', 'C': 44.955203302961046, 'max_iter': 720, 'solver': 'saga'}. Best is trial 3 with value: 0.72618254497002.\n",
      "[I 2024-06-08 00:26:12,729] Trial 54 finished with value: 0.7251832111925383 and parameters: {'l1_ratio': 0.14884802489269566, 'penalty': 'elasticnet', 'C': 11.974055718702534, 'max_iter': 226, 'solver': 'saga'}. Best is trial 3 with value: 0.72618254497002.\n",
      "[I 2024-06-08 00:26:12,843] Trial 55 finished with value: 0.7251832111925383 and parameters: {'l1_ratio': 0.8446174837084529, 'penalty': 'elasticnet', 'C': 37.15966237522528, 'max_iter': 650, 'solver': 'saga'}. Best is trial 3 with value: 0.72618254497002.\n",
      "[I 2024-06-08 00:26:12,947] Trial 56 finished with value: 0.7251832111925383 and parameters: {'l1_ratio': 0.9107078274365592, 'penalty': 'elasticnet', 'C': 18.313101701079, 'max_iter': 145, 'solver': 'saga'}. Best is trial 3 with value: 0.72618254497002.\n",
      "[I 2024-06-08 00:26:13,054] Trial 57 finished with value: 0.7251832111925383 and parameters: {'l1_ratio': 0.2635543863600527, 'penalty': 'elasticnet', 'C': 38.03693321201164, 'max_iter': 582, 'solver': 'saga'}. Best is trial 3 with value: 0.72618254497002.\n",
      "[I 2024-06-08 00:26:13,158] Trial 58 finished with value: 0.7251832111925383 and parameters: {'l1_ratio': 0.20593267412957195, 'penalty': 'elasticnet', 'C': 75.7739175707066, 'max_iter': 656, 'solver': 'saga'}. Best is trial 3 with value: 0.72618254497002.\n",
      "[I 2024-06-08 00:26:13,259] Trial 59 finished with value: 0.7251832111925383 and parameters: {'l1_ratio': 0.7789120822371315, 'penalty': 'elasticnet', 'C': 19.43382375361383, 'max_iter': 321, 'solver': 'saga'}. Best is trial 3 with value: 0.72618254497002.\n",
      "[I 2024-06-08 00:26:13,361] Trial 60 finished with value: 0.7251832111925383 and parameters: {'l1_ratio': 0.6405635118484496, 'penalty': 'elasticnet', 'C': 40.01673492409534, 'max_iter': 967, 'solver': 'saga'}. Best is trial 3 with value: 0.72618254497002.\n",
      "[I 2024-06-08 00:26:13,468] Trial 61 finished with value: 0.7251832111925383 and parameters: {'l1_ratio': 0.7636679934989524, 'penalty': 'elasticnet', 'C': 17.08742383217836, 'max_iter': 207, 'solver': 'saga'}. Best is trial 3 with value: 0.72618254497002.\n",
      "[I 2024-06-08 00:26:13,568] Trial 62 finished with value: 0.7251832111925383 and parameters: {'l1_ratio': 0.33026965314873746, 'penalty': 'elasticnet', 'C': 79.86420816894491, 'max_iter': 645, 'solver': 'saga'}. Best is trial 3 with value: 0.72618254497002.\n",
      "[I 2024-06-08 00:26:13,667] Trial 63 finished with value: 0.7251832111925383 and parameters: {'l1_ratio': 0.21749415361126012, 'penalty': 'elasticnet', 'C': 2.887111949659405, 'max_iter': 562, 'solver': 'saga'}. Best is trial 3 with value: 0.72618254497002.\n",
      "[I 2024-06-08 00:26:13,769] Trial 64 finished with value: 0.7251832111925383 and parameters: {'l1_ratio': 0.9395388576438164, 'penalty': 'elasticnet', 'C': 57.659104090589224, 'max_iter': 958, 'solver': 'saga'}. Best is trial 3 with value: 0.72618254497002.\n",
      "[I 2024-06-08 00:26:13,871] Trial 65 finished with value: 0.7251832111925383 and parameters: {'l1_ratio': 0.480686727057959, 'penalty': 'elasticnet', 'C': 99.07918167992972, 'max_iter': 544, 'solver': 'saga'}. Best is trial 3 with value: 0.72618254497002.\n",
      "[I 2024-06-08 00:26:13,970] Trial 66 finished with value: 0.7251832111925383 and parameters: {'l1_ratio': 0.8278672160318609, 'penalty': 'elasticnet', 'C': 27.635481901855933, 'max_iter': 161, 'solver': 'saga'}. Best is trial 3 with value: 0.72618254497002.\n",
      "[I 2024-06-08 00:26:14,072] Trial 67 finished with value: 0.7251832111925383 and parameters: {'l1_ratio': 0.721360101028917, 'penalty': 'elasticnet', 'C': 12.16964721041472, 'max_iter': 829, 'solver': 'saga'}. Best is trial 3 with value: 0.72618254497002.\n",
      "[I 2024-06-08 00:26:14,171] Trial 68 finished with value: 0.7251832111925383 and parameters: {'l1_ratio': 0.9347922225636194, 'penalty': 'elasticnet', 'C': 34.25309320347991, 'max_iter': 381, 'solver': 'saga'}. Best is trial 3 with value: 0.72618254497002.\n",
      "[I 2024-06-08 00:26:14,271] Trial 69 finished with value: 0.7251832111925383 and parameters: {'l1_ratio': 0.6002971063674759, 'penalty': 'elasticnet', 'C': 69.45719030064826, 'max_iter': 140, 'solver': 'saga'}. Best is trial 3 with value: 0.72618254497002.\n",
      "[I 2024-06-08 00:26:14,375] Trial 70 finished with value: 0.7251832111925383 and parameters: {'l1_ratio': 0.6267356759602706, 'penalty': 'elasticnet', 'C': 17.557917118344715, 'max_iter': 172, 'solver': 'saga'}. Best is trial 3 with value: 0.72618254497002.\n",
      "[I 2024-06-08 00:26:14,475] Trial 71 finished with value: 0.7251832111925383 and parameters: {'l1_ratio': 0.31370103075151023, 'penalty': 'elasticnet', 'C': 41.41822563895284, 'max_iter': 455, 'solver': 'saga'}. Best is trial 3 with value: 0.72618254497002.\n",
      "[I 2024-06-08 00:26:14,573] Trial 72 finished with value: 0.7251832111925383 and parameters: {'l1_ratio': 0.7230405288992248, 'penalty': 'elasticnet', 'C': 51.16735771732983, 'max_iter': 409, 'solver': 'saga'}. Best is trial 3 with value: 0.72618254497002.\n",
      "[I 2024-06-08 00:26:14,673] Trial 73 finished with value: 0.7251832111925383 and parameters: {'l1_ratio': 0.4689082800259925, 'penalty': 'elasticnet', 'C': 54.678409375936916, 'max_iter': 852, 'solver': 'saga'}. Best is trial 3 with value: 0.72618254497002.\n",
      "[I 2024-06-08 00:26:14,771] Trial 74 finished with value: 0.7251832111925383 and parameters: {'l1_ratio': 0.34809190046205274, 'penalty': 'elasticnet', 'C': 78.32077448654299, 'max_iter': 686, 'solver': 'saga'}. Best is trial 3 with value: 0.72618254497002.\n",
      "[I 2024-06-08 00:26:14,872] Trial 75 finished with value: 0.7251832111925383 and parameters: {'l1_ratio': 0.8730257595537249, 'penalty': 'elasticnet', 'C': 41.07098978464442, 'max_iter': 265, 'solver': 'saga'}. Best is trial 3 with value: 0.72618254497002.\n",
      "[I 2024-06-08 00:26:14,967] Trial 76 finished with value: 0.7251832111925383 and parameters: {'l1_ratio': 0.09317831284174316, 'penalty': 'elasticnet', 'C': 55.74034131442148, 'max_iter': 980, 'solver': 'saga'}. Best is trial 3 with value: 0.72618254497002.\n",
      "[I 2024-06-08 00:26:15,066] Trial 77 finished with value: 0.7251832111925383 and parameters: {'l1_ratio': 0.29572214736158386, 'penalty': 'elasticnet', 'C': 39.32197771595846, 'max_iter': 837, 'solver': 'saga'}. Best is trial 3 with value: 0.72618254497002.\n",
      "[I 2024-06-08 00:26:15,190] Trial 78 finished with value: 0.7251832111925383 and parameters: {'l1_ratio': 0.3940115991448834, 'penalty': 'elasticnet', 'C': 89.08360367472872, 'max_iter': 127, 'solver': 'saga'}. Best is trial 3 with value: 0.72618254497002.\n",
      "[I 2024-06-08 00:26:15,291] Trial 79 finished with value: 0.7251832111925383 and parameters: {'l1_ratio': 0.8998117453605183, 'penalty': 'elasticnet', 'C': 29.11765064459565, 'max_iter': 983, 'solver': 'saga'}. Best is trial 3 with value: 0.72618254497002.\n",
      "[I 2024-06-08 00:26:15,390] Trial 80 finished with value: 0.7251832111925383 and parameters: {'l1_ratio': 0.7726044200868316, 'penalty': 'elasticnet', 'C': 81.2462251266082, 'max_iter': 527, 'solver': 'saga'}. Best is trial 3 with value: 0.72618254497002.\n",
      "[I 2024-06-08 00:26:15,494] Trial 81 finished with value: 0.7251832111925383 and parameters: {'l1_ratio': 0.3024871162472813, 'penalty': 'elasticnet', 'C': 32.419113483880295, 'max_iter': 898, 'solver': 'saga'}. Best is trial 3 with value: 0.72618254497002.\n",
      "[I 2024-06-08 00:26:15,607] Trial 82 finished with value: 0.7265156562291806 and parameters: {'l1_ratio': 0.42954226359209646, 'penalty': 'elasticnet', 'C': 0.31783301145958553, 'max_iter': 657, 'solver': 'saga'}. Best is trial 82 with value: 0.7265156562291806.\n",
      "[I 2024-06-08 00:26:15,722] Trial 83 finished with value: 0.7251832111925383 and parameters: {'l1_ratio': 0.6384146144413262, 'penalty': 'elasticnet', 'C': 60.217360261034166, 'max_iter': 176, 'solver': 'saga'}. Best is trial 82 with value: 0.7265156562291806.\n",
      "[I 2024-06-08 00:26:15,839] Trial 84 finished with value: 0.7251832111925383 and parameters: {'l1_ratio': 0.18878963262831439, 'penalty': 'elasticnet', 'C': 77.31083533514995, 'max_iter': 631, 'solver': 'saga'}. Best is trial 82 with value: 0.7265156562291806.\n",
      "[I 2024-06-08 00:26:15,988] Trial 85 finished with value: 0.7251832111925383 and parameters: {'l1_ratio': 0.6860361909445178, 'penalty': 'elasticnet', 'C': 7.318380498074019, 'max_iter': 605, 'solver': 'saga'}. Best is trial 82 with value: 0.7265156562291806.\n",
      "[I 2024-06-08 00:26:16,099] Trial 86 finished with value: 0.7251832111925383 and parameters: {'l1_ratio': 0.2586295146537938, 'penalty': 'elasticnet', 'C': 22.12614647625897, 'max_iter': 203, 'solver': 'saga'}. Best is trial 82 with value: 0.7265156562291806.\n",
      "[I 2024-06-08 00:26:16,211] Trial 87 finished with value: 0.7251832111925383 and parameters: {'l1_ratio': 0.09905593656208833, 'penalty': 'elasticnet', 'C': 24.394357559698474, 'max_iter': 772, 'solver': 'saga'}. Best is trial 82 with value: 0.7265156562291806.\n",
      "[I 2024-06-08 00:26:16,321] Trial 88 finished with value: 0.7251832111925383 and parameters: {'l1_ratio': 0.5943825327304895, 'penalty': 'elasticnet', 'C': 53.68161170116727, 'max_iter': 438, 'solver': 'saga'}. Best is trial 82 with value: 0.7265156562291806.\n",
      "[I 2024-06-08 00:26:16,436] Trial 89 finished with value: 0.7251832111925383 and parameters: {'l1_ratio': 0.23501047798661767, 'penalty': 'elasticnet', 'C': 59.08556395025339, 'max_iter': 858, 'solver': 'saga'}. Best is trial 82 with value: 0.7265156562291806.\n",
      "[I 2024-06-08 00:26:16,543] Trial 90 finished with value: 0.7251832111925383 and parameters: {'l1_ratio': 0.47729389039881, 'penalty': 'elasticnet', 'C': 8.383376542362193, 'max_iter': 940, 'solver': 'saga'}. Best is trial 82 with value: 0.7265156562291806.\n",
      "[I 2024-06-08 00:26:16,646] Trial 91 finished with value: 0.7251832111925383 and parameters: {'l1_ratio': 0.4860786085123222, 'penalty': 'elasticnet', 'C': 12.544821213531119, 'max_iter': 856, 'solver': 'saga'}. Best is trial 82 with value: 0.7265156562291806.\n",
      "[I 2024-06-08 00:26:16,755] Trial 92 finished with value: 0.7251832111925383 and parameters: {'l1_ratio': 0.38240464605494207, 'penalty': 'elasticnet', 'C': 10.878337812418717, 'max_iter': 960, 'solver': 'saga'}. Best is trial 82 with value: 0.7265156562291806.\n",
      "[I 2024-06-08 00:26:16,861] Trial 93 finished with value: 0.7251832111925383 and parameters: {'l1_ratio': 0.3436503994506843, 'penalty': 'elasticnet', 'C': 21.403834550117672, 'max_iter': 513, 'solver': 'saga'}. Best is trial 82 with value: 0.7265156562291806.\n",
      "[I 2024-06-08 00:26:16,969] Trial 94 finished with value: 0.7251832111925383 and parameters: {'l1_ratio': 0.02489530628090697, 'penalty': 'elasticnet', 'C': 24.529655414176233, 'max_iter': 688, 'solver': 'saga'}. Best is trial 82 with value: 0.7265156562291806.\n",
      "[I 2024-06-08 00:26:17,181] Trial 95 finished with value: 0.7251832111925383 and parameters: {'l1_ratio': 0.3373767925601705, 'penalty': 'elasticnet', 'C': 2.165747306794232, 'max_iter': 345, 'solver': 'saga'}. Best is trial 82 with value: 0.7265156562291806.\n",
      "[I 2024-06-08 00:26:17,316] Trial 96 finished with value: 0.7251832111925383 and parameters: {'l1_ratio': 0.9614891406278656, 'penalty': 'elasticnet', 'C': 71.25545016581907, 'max_iter': 652, 'solver': 'saga'}. Best is trial 82 with value: 0.7265156562291806.\n",
      "[I 2024-06-08 00:26:17,431] Trial 97 finished with value: 0.7251832111925383 and parameters: {'l1_ratio': 0.0425938640226482, 'penalty': 'elasticnet', 'C': 97.87870122705891, 'max_iter': 593, 'solver': 'saga'}. Best is trial 82 with value: 0.7265156562291806.\n",
      "[I 2024-06-08 00:26:17,532] Trial 98 finished with value: 0.7251832111925383 and parameters: {'l1_ratio': 0.5119850184358926, 'penalty': 'elasticnet', 'C': 81.10327579360515, 'max_iter': 745, 'solver': 'saga'}. Best is trial 82 with value: 0.7265156562291806.\n",
      "[I 2024-06-08 00:26:17,635] Trial 99 finished with value: 0.7251832111925383 and parameters: {'l1_ratio': 0.8308851599474497, 'penalty': 'elasticnet', 'C': 14.704537271210548, 'max_iter': 631, 'solver': 'saga'}. Best is trial 82 with value: 0.7265156562291806.\n",
      "[I 2024-06-08 00:26:17,739] Trial 100 finished with value: 0.7251832111925383 and parameters: {'l1_ratio': 0.8471136501705183, 'penalty': 'elasticnet', 'C': 34.24613848962452, 'max_iter': 230, 'solver': 'saga'}. Best is trial 82 with value: 0.7265156562291806.\n",
      "[I 2024-06-08 00:26:17,838] Trial 101 finished with value: 0.7251832111925383 and parameters: {'l1_ratio': 0.1836483711819311, 'penalty': 'elasticnet', 'C': 16.359070948360472, 'max_iter': 483, 'solver': 'saga'}. Best is trial 82 with value: 0.7265156562291806.\n",
      "[I 2024-06-08 00:26:17,941] Trial 102 finished with value: 0.7251832111925383 and parameters: {'l1_ratio': 0.6055885059878887, 'penalty': 'elasticnet', 'C': 9.421156746962094, 'max_iter': 124, 'solver': 'saga'}. Best is trial 82 with value: 0.7265156562291806.\n",
      "[I 2024-06-08 00:26:18,040] Trial 103 finished with value: 0.7251832111925383 and parameters: {'l1_ratio': 0.08871545457591135, 'penalty': 'elasticnet', 'C': 27.17411176426769, 'max_iter': 408, 'solver': 'saga'}. Best is trial 82 with value: 0.7265156562291806.\n",
      "[I 2024-06-08 00:26:18,137] Trial 104 finished with value: 0.7251832111925383 and parameters: {'l1_ratio': 0.7767253816094082, 'penalty': 'elasticnet', 'C': 74.36530007707485, 'max_iter': 199, 'solver': 'saga'}. Best is trial 82 with value: 0.7265156562291806.\n",
      "[I 2024-06-08 00:26:18,237] Trial 105 finished with value: 0.7251832111925383 and parameters: {'l1_ratio': 0.47806896006875077, 'penalty': 'elasticnet', 'C': 64.79200645755617, 'max_iter': 859, 'solver': 'saga'}. Best is trial 82 with value: 0.7265156562291806.\n",
      "[I 2024-06-08 00:26:18,339] Trial 106 finished with value: 0.7251832111925383 and parameters: {'l1_ratio': 0.388468854806459, 'penalty': 'elasticnet', 'C': 31.52968396858291, 'max_iter': 475, 'solver': 'saga'}. Best is trial 82 with value: 0.7265156562291806.\n",
      "[I 2024-06-08 00:26:18,441] Trial 107 finished with value: 0.7251832111925383 and parameters: {'l1_ratio': 0.44175712345987217, 'penalty': 'elasticnet', 'C': 61.68004444099357, 'max_iter': 997, 'solver': 'saga'}. Best is trial 82 with value: 0.7265156562291806.\n",
      "[I 2024-06-08 00:26:18,542] Trial 108 finished with value: 0.7251832111925383 and parameters: {'l1_ratio': 0.6521830648469973, 'penalty': 'elasticnet', 'C': 63.55479191785618, 'max_iter': 581, 'solver': 'saga'}. Best is trial 82 with value: 0.7265156562291806.\n",
      "[I 2024-06-08 00:26:18,639] Trial 109 finished with value: 0.7251832111925383 and parameters: {'l1_ratio': 0.35557836732536197, 'penalty': 'elasticnet', 'C': 85.49782930473005, 'max_iter': 247, 'solver': 'saga'}. Best is trial 82 with value: 0.7265156562291806.\n",
      "[I 2024-06-08 00:26:18,738] Trial 110 finished with value: 0.7251832111925383 and parameters: {'l1_ratio': 0.7658237880282034, 'penalty': 'elasticnet', 'C': 75.78560753382688, 'max_iter': 144, 'solver': 'saga'}. Best is trial 82 with value: 0.7265156562291806.\n",
      "[I 2024-06-08 00:26:18,839] Trial 111 finished with value: 0.7251832111925383 and parameters: {'l1_ratio': 0.45578849641224983, 'penalty': 'elasticnet', 'C': 71.30249885631548, 'max_iter': 613, 'solver': 'saga'}. Best is trial 82 with value: 0.7265156562291806.\n",
      "[I 2024-06-08 00:26:18,940] Trial 112 finished with value: 0.7251832111925383 and parameters: {'l1_ratio': 0.36095818866319496, 'penalty': 'elasticnet', 'C': 27.267578334572622, 'max_iter': 144, 'solver': 'saga'}. Best is trial 82 with value: 0.7265156562291806.\n",
      "[I 2024-06-08 00:26:19,039] Trial 113 finished with value: 0.7251832111925383 and parameters: {'l1_ratio': 0.08651653838786766, 'penalty': 'elasticnet', 'C': 99.51733206260288, 'max_iter': 668, 'solver': 'saga'}. Best is trial 82 with value: 0.7265156562291806.\n",
      "[I 2024-06-08 00:26:19,137] Trial 114 finished with value: 0.7251832111925383 and parameters: {'l1_ratio': 0.7943292806783894, 'penalty': 'elasticnet', 'C': 1.6547337463103935, 'max_iter': 207, 'solver': 'saga'}. Best is trial 82 with value: 0.7265156562291806.\n",
      "[I 2024-06-08 00:26:19,237] Trial 115 finished with value: 0.7251832111925383 and parameters: {'l1_ratio': 0.39523622294092764, 'penalty': 'elasticnet', 'C': 84.40782928548485, 'max_iter': 368, 'solver': 'saga'}. Best is trial 82 with value: 0.7265156562291806.\n",
      "[I 2024-06-08 00:26:19,339] Trial 116 finished with value: 0.7251832111925383 and parameters: {'l1_ratio': 0.1940476194756442, 'penalty': 'elasticnet', 'C': 87.11647609585441, 'max_iter': 905, 'solver': 'saga'}. Best is trial 82 with value: 0.7265156562291806.\n",
      "[I 2024-06-08 00:26:19,444] Trial 117 finished with value: 0.7251832111925383 and parameters: {'l1_ratio': 0.9790846206910202, 'penalty': 'elasticnet', 'C': 8.372019473857053, 'max_iter': 503, 'solver': 'saga'}. Best is trial 82 with value: 0.7265156562291806.\n",
      "[I 2024-06-08 00:26:19,558] Trial 118 finished with value: 0.7251832111925383 and parameters: {'l1_ratio': 0.2273428595343805, 'penalty': 'elasticnet', 'C': 80.44871204298893, 'max_iter': 414, 'solver': 'saga'}. Best is trial 82 with value: 0.7265156562291806.\n",
      "[I 2024-06-08 00:26:19,676] Trial 119 finished with value: 0.7251832111925383 and parameters: {'l1_ratio': 0.2195151893089342, 'penalty': 'elasticnet', 'C': 80.78793427926625, 'max_iter': 529, 'solver': 'saga'}. Best is trial 82 with value: 0.7265156562291806.\n",
      "[I 2024-06-08 00:26:19,795] Trial 120 finished with value: 0.7251832111925383 and parameters: {'l1_ratio': 0.05167183644896767, 'penalty': 'elasticnet', 'C': 37.902472451882765, 'max_iter': 540, 'solver': 'saga'}. Best is trial 82 with value: 0.7265156562291806.\n",
      "[I 2024-06-08 00:26:19,909] Trial 121 finished with value: 0.7251832111925383 and parameters: {'l1_ratio': 0.6777070409958931, 'penalty': 'elasticnet', 'C': 29.845525751493945, 'max_iter': 113, 'solver': 'saga'}. Best is trial 82 with value: 0.7265156562291806.\n",
      "[I 2024-06-08 00:26:20,022] Trial 122 finished with value: 0.7251832111925383 and parameters: {'l1_ratio': 0.5995989995918588, 'penalty': 'elasticnet', 'C': 81.96029458108791, 'max_iter': 289, 'solver': 'saga'}. Best is trial 82 with value: 0.7265156562291806.\n",
      "[I 2024-06-08 00:26:20,132] Trial 123 finished with value: 0.7251832111925383 and parameters: {'l1_ratio': 0.6337757519736682, 'penalty': 'elasticnet', 'C': 73.17406692912928, 'max_iter': 971, 'solver': 'saga'}. Best is trial 82 with value: 0.7265156562291806.\n",
      "[I 2024-06-08 00:26:20,245] Trial 124 finished with value: 0.7251832111925383 and parameters: {'l1_ratio': 0.08774706063976812, 'penalty': 'elasticnet', 'C': 68.32492134168413, 'max_iter': 612, 'solver': 'saga'}. Best is trial 82 with value: 0.7265156562291806.\n",
      "[I 2024-06-08 00:26:20,357] Trial 125 finished with value: 0.7251832111925383 and parameters: {'l1_ratio': 0.1692741729195425, 'penalty': 'elasticnet', 'C': 46.34225310985671, 'max_iter': 111, 'solver': 'saga'}. Best is trial 82 with value: 0.7265156562291806.\n",
      "[I 2024-06-08 00:26:20,462] Trial 126 finished with value: 0.7258494337108594 and parameters: {'l1_ratio': 0.023169743854271396, 'penalty': 'elasticnet', 'C': 1.9099844675829551, 'max_iter': 462, 'solver': 'saga'}. Best is trial 82 with value: 0.7265156562291806.\n",
      "[I 2024-06-08 00:26:20,571] Trial 127 finished with value: 0.7251832111925383 and parameters: {'l1_ratio': 0.5355132035114978, 'penalty': 'elasticnet', 'C': 26.26262982295894, 'max_iter': 567, 'solver': 'saga'}. Best is trial 82 with value: 0.7265156562291806.\n",
      "[I 2024-06-08 00:26:20,678] Trial 128 finished with value: 0.7251832111925383 and parameters: {'l1_ratio': 0.47779187448209726, 'penalty': 'elasticnet', 'C': 29.230015178646923, 'max_iter': 465, 'solver': 'saga'}. Best is trial 82 with value: 0.7265156562291806.\n",
      "[I 2024-06-08 00:26:20,779] Trial 129 finished with value: 0.7251832111925383 and parameters: {'l1_ratio': 0.47429367431199154, 'penalty': 'elasticnet', 'C': 43.747744680409994, 'max_iter': 114, 'solver': 'saga'}. Best is trial 82 with value: 0.7265156562291806.\n",
      "[I 2024-06-08 00:26:20,884] Trial 130 finished with value: 0.7251832111925383 and parameters: {'l1_ratio': 0.7055617167942578, 'penalty': 'elasticnet', 'C': 75.9306426677022, 'max_iter': 345, 'solver': 'saga'}. Best is trial 82 with value: 0.7265156562291806.\n",
      "[I 2024-06-08 00:26:20,988] Trial 131 finished with value: 0.7251832111925383 and parameters: {'l1_ratio': 0.4656358778024837, 'penalty': 'elasticnet', 'C': 72.45079568898419, 'max_iter': 174, 'solver': 'saga'}. Best is trial 82 with value: 0.7265156562291806.\n",
      "[I 2024-06-08 00:26:21,092] Trial 132 finished with value: 0.7251832111925383 and parameters: {'l1_ratio': 0.8491269748213126, 'penalty': 'elasticnet', 'C': 72.0677126997143, 'max_iter': 992, 'solver': 'saga'}. Best is trial 82 with value: 0.7265156562291806.\n",
      "[I 2024-06-08 00:26:21,196] Trial 133 finished with value: 0.7251832111925383 and parameters: {'l1_ratio': 0.4458445675158459, 'penalty': 'elasticnet', 'C': 25.327685384962855, 'max_iter': 244, 'solver': 'saga'}. Best is trial 82 with value: 0.7265156562291806.\n",
      "[I 2024-06-08 00:26:21,304] Trial 134 finished with value: 0.7251832111925383 and parameters: {'l1_ratio': 0.870727250858279, 'penalty': 'elasticnet', 'C': 68.77709642934451, 'max_iter': 442, 'solver': 'saga'}. Best is trial 82 with value: 0.7265156562291806.\n",
      "[I 2024-06-08 00:26:21,405] Trial 135 finished with value: 0.7251832111925383 and parameters: {'l1_ratio': 0.2282326164835059, 'penalty': 'elasticnet', 'C': 78.1727628307333, 'max_iter': 978, 'solver': 'saga'}. Best is trial 82 with value: 0.7265156562291806.\n",
      "[I 2024-06-08 00:26:21,508] Trial 136 finished with value: 0.7251832111925383 and parameters: {'l1_ratio': 0.8802403479846407, 'penalty': 'elasticnet', 'C': 25.34306361677474, 'max_iter': 665, 'solver': 'saga'}. Best is trial 82 with value: 0.7265156562291806.\n",
      "[I 2024-06-08 00:26:21,612] Trial 137 finished with value: 0.7251832111925383 and parameters: {'l1_ratio': 0.4948518196858104, 'penalty': 'elasticnet', 'C': 7.303381893626658, 'max_iter': 591, 'solver': 'saga'}. Best is trial 82 with value: 0.7265156562291806.\n",
      "[I 2024-06-08 00:26:21,718] Trial 138 finished with value: 0.7251832111925383 and parameters: {'l1_ratio': 0.8716091078716307, 'penalty': 'elasticnet', 'C': 3.0158934816007714, 'max_iter': 180, 'solver': 'saga'}. Best is trial 82 with value: 0.7265156562291806.\n",
      "[I 2024-06-08 00:26:21,836] Trial 139 finished with value: 0.7258494337108594 and parameters: {'l1_ratio': 0.31470430106830216, 'penalty': 'elasticnet', 'C': 0.732726182467647, 'max_iter': 267, 'solver': 'saga'}. Best is trial 82 with value: 0.7265156562291806.\n",
      "[I 2024-06-08 00:26:21,939] Trial 140 finished with value: 0.7251832111925383 and parameters: {'l1_ratio': 0.8743627304570357, 'penalty': 'elasticnet', 'C': 18.73633456624793, 'max_iter': 674, 'solver': 'saga'}. Best is trial 82 with value: 0.7265156562291806.\n",
      "[I 2024-06-08 00:26:22,038] Trial 141 finished with value: 0.7251832111925383 and parameters: {'l1_ratio': 0.6459240523527073, 'penalty': 'elasticnet', 'C': 18.30704433207024, 'max_iter': 680, 'solver': 'saga'}. Best is trial 82 with value: 0.7265156562291806.\n",
      "[I 2024-06-08 00:26:22,138] Trial 142 finished with value: 0.7251832111925383 and parameters: {'l1_ratio': 0.1398182058122156, 'penalty': 'elasticnet', 'C': 67.69123263922812, 'max_iter': 947, 'solver': 'saga'}. Best is trial 82 with value: 0.7265156562291806.\n",
      "[I 2024-06-08 00:26:22,237] Trial 143 finished with value: 0.7251832111925383 and parameters: {'l1_ratio': 0.3159174861030116, 'penalty': 'elasticnet', 'C': 7.833317975457274, 'max_iter': 174, 'solver': 'saga'}. Best is trial 82 with value: 0.7265156562291806.\n",
      "[I 2024-06-08 00:26:22,339] Trial 144 finished with value: 0.7251832111925383 and parameters: {'l1_ratio': 0.6822254665259121, 'penalty': 'elasticnet', 'C': 49.097565515455685, 'max_iter': 119, 'solver': 'saga'}. Best is trial 82 with value: 0.7265156562291806.\n",
      "[I 2024-06-08 00:26:22,438] Trial 145 finished with value: 0.7251832111925383 and parameters: {'l1_ratio': 0.45704577934720947, 'penalty': 'elasticnet', 'C': 88.2787391499605, 'max_iter': 429, 'solver': 'saga'}. Best is trial 82 with value: 0.7265156562291806.\n",
      "[I 2024-06-08 00:26:22,536] Trial 146 finished with value: 0.7251832111925383 and parameters: {'l1_ratio': 0.42914109470841655, 'penalty': 'elasticnet', 'C': 28.154154165164076, 'max_iter': 457, 'solver': 'saga'}. Best is trial 82 with value: 0.7265156562291806.\n",
      "[I 2024-06-08 00:26:22,637] Trial 147 finished with value: 0.7251832111925383 and parameters: {'l1_ratio': 0.1796720491852063, 'penalty': 'elasticnet', 'C': 9.184013701601298, 'max_iter': 940, 'solver': 'saga'}. Best is trial 82 with value: 0.7265156562291806.\n",
      "[I 2024-06-08 00:26:22,740] Trial 148 finished with value: 0.7251832111925383 and parameters: {'l1_ratio': 0.45462919667860735, 'penalty': 'elasticnet', 'C': 30.134909325561942, 'max_iter': 305, 'solver': 'saga'}. Best is trial 82 with value: 0.7265156562291806.\n",
      "[I 2024-06-08 00:26:22,838] Trial 149 finished with value: 0.7251832111925383 and parameters: {'l1_ratio': 0.7287870275360602, 'penalty': 'elasticnet', 'C': 27.00466721547747, 'max_iter': 775, 'solver': 'saga'}. Best is trial 82 with value: 0.7265156562291806.\n",
      "[I 2024-06-08 00:26:22,937] Trial 150 finished with value: 0.7251832111925383 and parameters: {'l1_ratio': 0.19300320074456478, 'penalty': 'elasticnet', 'C': 42.26142965147881, 'max_iter': 825, 'solver': 'saga'}. Best is trial 82 with value: 0.7265156562291806.\n",
      "[I 2024-06-08 00:26:23,039] Trial 151 finished with value: 0.7251832111925383 and parameters: {'l1_ratio': 0.8576942251664084, 'penalty': 'elasticnet', 'C': 93.31122875552228, 'max_iter': 548, 'solver': 'saga'}. Best is trial 82 with value: 0.7265156562291806.\n",
      "[I 2024-06-08 00:26:23,141] Trial 152 finished with value: 0.7251832111925383 and parameters: {'l1_ratio': 0.7156670487542581, 'penalty': 'elasticnet', 'C': 41.977341453395525, 'max_iter': 187, 'solver': 'saga'}. Best is trial 82 with value: 0.7265156562291806.\n",
      "[I 2024-06-08 00:26:23,242] Trial 153 finished with value: 0.7251832111925383 and parameters: {'l1_ratio': 0.512772506734595, 'penalty': 'elasticnet', 'C': 30.830168168750024, 'max_iter': 159, 'solver': 'saga'}. Best is trial 82 with value: 0.7265156562291806.\n",
      "[I 2024-06-08 00:26:23,339] Trial 154 finished with value: 0.7251832111925383 and parameters: {'l1_ratio': 0.34630026241876444, 'penalty': 'elasticnet', 'C': 32.965490135479264, 'max_iter': 613, 'solver': 'saga'}. Best is trial 82 with value: 0.7265156562291806.\n",
      "[I 2024-06-08 00:26:23,437] Trial 155 finished with value: 0.7251832111925383 and parameters: {'l1_ratio': 0.7696179395720334, 'penalty': 'elasticnet', 'C': 60.946573591728956, 'max_iter': 588, 'solver': 'saga'}. Best is trial 82 with value: 0.7265156562291806.\n",
      "[I 2024-06-08 00:26:23,545] Trial 156 finished with value: 0.7251832111925383 and parameters: {'l1_ratio': 0.16458012282314227, 'penalty': 'elasticnet', 'C': 10.71795084867144, 'max_iter': 272, 'solver': 'saga'}. Best is trial 82 with value: 0.7265156562291806.\n",
      "[I 2024-06-08 00:26:23,664] Trial 157 finished with value: 0.7251832111925383 and parameters: {'l1_ratio': 0.7246209148956595, 'penalty': 'elasticnet', 'C': 24.29251699917993, 'max_iter': 793, 'solver': 'saga'}. Best is trial 82 with value: 0.7265156562291806.\n",
      "[I 2024-06-08 00:26:23,776] Trial 158 finished with value: 0.7251832111925383 and parameters: {'l1_ratio': 0.6599634803874062, 'penalty': 'elasticnet', 'C': 79.38011826509634, 'max_iter': 383, 'solver': 'saga'}. Best is trial 82 with value: 0.7265156562291806.\n",
      "[I 2024-06-08 00:26:23,889] Trial 159 finished with value: 0.7251832111925383 and parameters: {'l1_ratio': 0.741395115770732, 'penalty': 'elasticnet', 'C': 53.78463004284287, 'max_iter': 351, 'solver': 'saga'}. Best is trial 82 with value: 0.7265156562291806.\n",
      "[I 2024-06-08 00:26:23,993] Trial 160 finished with value: 0.7251832111925383 and parameters: {'l1_ratio': 0.5249485314348081, 'penalty': 'elasticnet', 'C': 93.67268704311347, 'max_iter': 826, 'solver': 'saga'}. Best is trial 82 with value: 0.7265156562291806.\n",
      "[I 2024-06-08 00:26:24,104] Trial 161 finished with value: 0.7251832111925383 and parameters: {'l1_ratio': 0.048184948782166837, 'penalty': 'elasticnet', 'C': 13.41480223103558, 'max_iter': 112, 'solver': 'saga'}. Best is trial 82 with value: 0.7265156562291806.\n",
      "[I 2024-06-08 00:26:24,210] Trial 162 finished with value: 0.7251832111925383 and parameters: {'l1_ratio': 0.18085637652095798, 'penalty': 'elasticnet', 'C': 16.33980770492971, 'max_iter': 861, 'solver': 'saga'}. Best is trial 82 with value: 0.7265156562291806.\n",
      "[I 2024-06-08 00:26:24,312] Trial 163 finished with value: 0.7251832111925383 and parameters: {'l1_ratio': 0.22335336112405713, 'penalty': 'elasticnet', 'C': 43.640406332554306, 'max_iter': 290, 'solver': 'saga'}. Best is trial 82 with value: 0.7265156562291806.\n",
      "[I 2024-06-08 00:26:24,424] Trial 164 finished with value: 0.7251832111925383 and parameters: {'l1_ratio': 0.4581142029682954, 'penalty': 'elasticnet', 'C': 95.90359743159726, 'max_iter': 816, 'solver': 'saga'}. Best is trial 82 with value: 0.7265156562291806.\n",
      "[I 2024-06-08 00:26:24,532] Trial 165 finished with value: 0.7251832111925383 and parameters: {'l1_ratio': 0.008540302969749836, 'penalty': 'elasticnet', 'C': 93.40903141022822, 'max_iter': 240, 'solver': 'saga'}. Best is trial 82 with value: 0.7265156562291806.\n",
      "[I 2024-06-08 00:26:24,640] Trial 166 finished with value: 0.7251832111925383 and parameters: {'l1_ratio': 0.21212538395786107, 'penalty': 'elasticnet', 'C': 16.67365202873422, 'max_iter': 892, 'solver': 'saga'}. Best is trial 82 with value: 0.7265156562291806.\n",
      "[I 2024-06-08 00:26:24,742] Trial 167 finished with value: 0.7251832111925383 and parameters: {'l1_ratio': 0.6993404421513147, 'penalty': 'elasticnet', 'C': 57.29567312069172, 'max_iter': 501, 'solver': 'saga'}. Best is trial 82 with value: 0.7265156562291806.\n",
      "[I 2024-06-08 00:26:24,849] Trial 168 finished with value: 0.7251832111925383 and parameters: {'l1_ratio': 0.35765548924698587, 'penalty': 'elasticnet', 'C': 96.56810296169495, 'max_iter': 392, 'solver': 'saga'}. Best is trial 82 with value: 0.7265156562291806.\n",
      "[I 2024-06-08 00:26:24,954] Trial 169 finished with value: 0.7251832111925383 and parameters: {'l1_ratio': 0.2525647588221581, 'penalty': 'elasticnet', 'C': 68.97579304730677, 'max_iter': 901, 'solver': 'saga'}. Best is trial 82 with value: 0.7265156562291806.\n",
      "[I 2024-06-08 00:26:25,056] Trial 170 finished with value: 0.7251832111925383 and parameters: {'l1_ratio': 0.42959084730957575, 'penalty': 'elasticnet', 'C': 36.580429918331035, 'max_iter': 234, 'solver': 'saga'}. Best is trial 82 with value: 0.7265156562291806.\n",
      "[I 2024-06-08 00:26:25,159] Trial 171 finished with value: 0.7251832111925383 and parameters: {'l1_ratio': 0.4057965759814599, 'penalty': 'elasticnet', 'C': 59.553063267903106, 'max_iter': 695, 'solver': 'saga'}. Best is trial 82 with value: 0.7265156562291806.\n",
      "[I 2024-06-08 00:26:25,262] Trial 172 finished with value: 0.7251832111925383 and parameters: {'l1_ratio': 0.25786882263821753, 'penalty': 'elasticnet', 'C': 4.5486215732509345, 'max_iter': 354, 'solver': 'saga'}. Best is trial 82 with value: 0.7265156562291806.\n",
      "[I 2024-06-08 00:26:25,359] Trial 173 finished with value: 0.7258494337108594 and parameters: {'l1_ratio': 0.4262648360638064, 'penalty': 'elasticnet', 'C': 0.11767974171827682, 'max_iter': 138, 'solver': 'saga'}. Best is trial 82 with value: 0.7265156562291806.\n",
      "[I 2024-06-08 00:26:25,458] Trial 174 finished with value: 0.7251832111925383 and parameters: {'l1_ratio': 0.8705368937926137, 'penalty': 'elasticnet', 'C': 0.8347974410848631, 'max_iter': 128, 'solver': 'saga'}. Best is trial 82 with value: 0.7265156562291806.\n",
      "[I 2024-06-08 00:26:25,562] Trial 175 finished with value: 0.7251832111925383 and parameters: {'l1_ratio': 0.49765345484315615, 'penalty': 'elasticnet', 'C': 22.401842626449533, 'max_iter': 438, 'solver': 'saga'}. Best is trial 82 with value: 0.7265156562291806.\n",
      "[I 2024-06-08 00:26:25,663] Trial 176 finished with value: 0.7251832111925383 and parameters: {'l1_ratio': 0.3577997907742848, 'penalty': 'elasticnet', 'C': 93.93634696655886, 'max_iter': 726, 'solver': 'saga'}. Best is trial 82 with value: 0.7265156562291806.\n",
      "[I 2024-06-08 00:26:25,764] Trial 177 finished with value: 0.7251832111925383 and parameters: {'l1_ratio': 0.7885721416406517, 'penalty': 'elasticnet', 'C': 50.12206952465031, 'max_iter': 132, 'solver': 'saga'}. Best is trial 82 with value: 0.7265156562291806.\n",
      "[I 2024-06-08 00:26:25,864] Trial 178 finished with value: 0.7251832111925383 and parameters: {'l1_ratio': 0.49078881889177617, 'penalty': 'elasticnet', 'C': 7.2141713177641735, 'max_iter': 683, 'solver': 'saga'}. Best is trial 82 with value: 0.7265156562291806.\n",
      "[I 2024-06-08 00:26:25,986] Trial 179 finished with value: 0.7251832111925383 and parameters: {'l1_ratio': 0.18951097529406513, 'penalty': 'elasticnet', 'C': 51.32604069020252, 'max_iter': 422, 'solver': 'saga'}. Best is trial 82 with value: 0.7265156562291806.\n",
      "[I 2024-06-08 00:26:26,092] Trial 180 finished with value: 0.7251832111925383 and parameters: {'l1_ratio': 0.35560449737706856, 'penalty': 'elasticnet', 'C': 99.48125091698515, 'max_iter': 945, 'solver': 'saga'}. Best is trial 82 with value: 0.7265156562291806.\n",
      "[I 2024-06-08 00:26:26,194] Trial 181 finished with value: 0.7251832111925383 and parameters: {'l1_ratio': 0.3803928316342987, 'penalty': 'elasticnet', 'C': 51.23206656910691, 'max_iter': 211, 'solver': 'saga'}. Best is trial 82 with value: 0.7265156562291806.\n",
      "[I 2024-06-08 00:26:26,407] Trial 182 finished with value: 0.7251832111925383 and parameters: {'l1_ratio': 0.31786624938645336, 'penalty': 'elasticnet', 'C': 92.82708256123098, 'max_iter': 108, 'solver': 'saga'}. Best is trial 82 with value: 0.7265156562291806.\n",
      "[I 2024-06-08 00:26:26,512] Trial 183 finished with value: 0.7251832111925383 and parameters: {'l1_ratio': 0.5766847434366573, 'penalty': 'elasticnet', 'C': 18.232530634199797, 'max_iter': 295, 'solver': 'saga'}. Best is trial 82 with value: 0.7265156562291806.\n",
      "[I 2024-06-08 00:26:26,613] Trial 184 finished with value: 0.7251832111925383 and parameters: {'l1_ratio': 0.5204200584793329, 'penalty': 'elasticnet', 'C': 22.908899819730635, 'max_iter': 819, 'solver': 'saga'}. Best is trial 82 with value: 0.7265156562291806.\n",
      "[I 2024-06-08 00:26:26,715] Trial 185 finished with value: 0.7251832111925383 and parameters: {'l1_ratio': 0.4815508030411725, 'penalty': 'elasticnet', 'C': 70.63075704634761, 'max_iter': 434, 'solver': 'saga'}. Best is trial 82 with value: 0.7265156562291806.\n",
      "[I 2024-06-08 00:26:26,816] Trial 186 finished with value: 0.7251832111925383 and parameters: {'l1_ratio': 0.40680733945979797, 'penalty': 'elasticnet', 'C': 54.03205896293173, 'max_iter': 857, 'solver': 'saga'}. Best is trial 82 with value: 0.7265156562291806.\n",
      "[I 2024-06-08 00:26:26,917] Trial 187 finished with value: 0.7251832111925383 and parameters: {'l1_ratio': 0.4593597234190956, 'penalty': 'elasticnet', 'C': 94.45938856297093, 'max_iter': 480, 'solver': 'saga'}. Best is trial 82 with value: 0.7265156562291806.\n",
      "[I 2024-06-08 00:26:27,015] Trial 188 finished with value: 0.7251832111925383 and parameters: {'l1_ratio': 0.2619967887730157, 'penalty': 'elasticnet', 'C': 75.74958493946616, 'max_iter': 334, 'solver': 'saga'}. Best is trial 82 with value: 0.7265156562291806.\n",
      "[I 2024-06-08 00:26:27,112] Trial 189 finished with value: 0.7251832111925383 and parameters: {'l1_ratio': 0.9164386119520391, 'penalty': 'elasticnet', 'C': 42.848455084638815, 'max_iter': 581, 'solver': 'saga'}. Best is trial 82 with value: 0.7265156562291806.\n",
      "[I 2024-06-08 00:26:27,209] Trial 190 finished with value: 0.7251832111925383 and parameters: {'l1_ratio': 0.18462380207402607, 'penalty': 'elasticnet', 'C': 38.390924682173754, 'max_iter': 898, 'solver': 'saga'}. Best is trial 82 with value: 0.7265156562291806.\n",
      "[I 2024-06-08 00:26:27,306] Trial 191 finished with value: 0.7258494337108594 and parameters: {'l1_ratio': 0.21285193174839834, 'penalty': 'elasticnet', 'C': 0.652427745472789, 'max_iter': 688, 'solver': 'saga'}. Best is trial 82 with value: 0.7265156562291806.\n",
      "[I 2024-06-08 00:26:27,404] Trial 192 finished with value: 0.7251832111925383 and parameters: {'l1_ratio': 0.8599840377691925, 'penalty': 'elasticnet', 'C': 9.220696416442927, 'max_iter': 966, 'solver': 'saga'}. Best is trial 82 with value: 0.7265156562291806.\n",
      "[I 2024-06-08 00:26:27,507] Trial 193 finished with value: 0.7251832111925383 and parameters: {'l1_ratio': 0.1051869255930834, 'penalty': 'elasticnet', 'C': 15.87906072042484, 'max_iter': 871, 'solver': 'saga'}. Best is trial 82 with value: 0.7265156562291806.\n",
      "[I 2024-06-08 00:26:27,618] Trial 194 finished with value: 0.7251832111925383 and parameters: {'l1_ratio': 0.2348524492830083, 'penalty': 'elasticnet', 'C': 74.4075345268888, 'max_iter': 552, 'solver': 'saga'}. Best is trial 82 with value: 0.7265156562291806.\n",
      "[I 2024-06-08 00:26:27,735] Trial 195 finished with value: 0.7251832111925383 and parameters: {'l1_ratio': 0.9269168613193993, 'penalty': 'elasticnet', 'C': 53.79325720996925, 'max_iter': 258, 'solver': 'saga'}. Best is trial 82 with value: 0.7265156562291806.\n",
      "[I 2024-06-08 00:26:27,842] Trial 196 finished with value: 0.7251832111925383 and parameters: {'l1_ratio': 0.5540623103318519, 'penalty': 'elasticnet', 'C': 98.8085521367555, 'max_iter': 530, 'solver': 'saga'}. Best is trial 82 with value: 0.7265156562291806.\n",
      "[I 2024-06-08 00:26:27,950] Trial 197 finished with value: 0.7251832111925383 and parameters: {'l1_ratio': 0.16534047338212798, 'penalty': 'elasticnet', 'C': 96.93662214799808, 'max_iter': 736, 'solver': 'saga'}. Best is trial 82 with value: 0.7265156562291806.\n",
      "[I 2024-06-08 00:26:28,070] Trial 198 finished with value: 0.7251832111925383 and parameters: {'l1_ratio': 0.5583803439006675, 'penalty': 'elasticnet', 'C': 56.330915722847074, 'max_iter': 458, 'solver': 'saga'}. Best is trial 82 with value: 0.7265156562291806.\n",
      "[I 2024-06-08 00:26:28,176] Trial 199 finished with value: 0.7251832111925383 and parameters: {'l1_ratio': 0.12335021229434073, 'penalty': 'elasticnet', 'C': 5.23380828736884, 'max_iter': 276, 'solver': 'saga'}. Best is trial 82 with value: 0.7265156562291806.\n"
     ]
    },
    {
     "name": "stdout",
     "output_type": "stream",
     "text": [
      "Best Hyperparameters: {'l1_ratio': 0.42954226359209646, 'penalty': 'elasticnet', 'C': 0.31783301145958553, 'max_iter': 657, 'solver': 'saga'}\n",
      "Best Accuracy: 0.7265156562291806\n"
     ]
    }
   ],
   "source": [
    "# Create a study object and optimize the objective function\n",
    "study = optuna.create_study(direction='maximize', sampler=optuna.samplers.RandomSampler(seed=seed))\n",
    "study.optimize(objective, n_trials=200)\n",
    "\n",
    "# Get the best hyperparameters and accuracy score\n",
    "best_params = study.best_params\n",
    "best_accuracy = study.best_value\n",
    "\n",
    "print(\"Best Hyperparameters:\", best_params)\n",
    "print(\"Best Accuracy:\", best_accuracy)"
   ]
  },
  {
   "cell_type": "code",
   "execution_count": 40,
   "metadata": {},
   "outputs": [
    {
     "data": {
      "text/html": [
       "<div>\n",
       "<style scoped>\n",
       "    .dataframe tbody tr th:only-of-type {\n",
       "        vertical-align: middle;\n",
       "    }\n",
       "\n",
       "    .dataframe tbody tr th {\n",
       "        vertical-align: top;\n",
       "    }\n",
       "\n",
       "    .dataframe thead th {\n",
       "        text-align: right;\n",
       "    }\n",
       "</style>\n",
       "<table border=\"1\" class=\"dataframe\">\n",
       "  <thead>\n",
       "    <tr style=\"text-align: right;\">\n",
       "      <th></th>\n",
       "      <th>number</th>\n",
       "      <th>value</th>\n",
       "      <th>datetime_start</th>\n",
       "      <th>datetime_complete</th>\n",
       "      <th>duration</th>\n",
       "      <th>params_C</th>\n",
       "      <th>params_l1_ratio</th>\n",
       "      <th>params_max_iter</th>\n",
       "      <th>params_penalty</th>\n",
       "      <th>params_solver</th>\n",
       "      <th>state</th>\n",
       "    </tr>\n",
       "  </thead>\n",
       "  <tbody>\n",
       "    <tr>\n",
       "      <th>82</th>\n",
       "      <td>82</td>\n",
       "      <td>0.726516</td>\n",
       "      <td>2024-06-08 00:24:16.901390</td>\n",
       "      <td>2024-06-08 00:24:17.019418</td>\n",
       "      <td>0 days 00:00:00.118028</td>\n",
       "      <td>0.317833</td>\n",
       "      <td>0.429542</td>\n",
       "      <td>657</td>\n",
       "      <td>elasticnet</td>\n",
       "      <td>saga</td>\n",
       "      <td>COMPLETE</td>\n",
       "    </tr>\n",
       "    <tr>\n",
       "      <th>3</th>\n",
       "      <td>3</td>\n",
       "      <td>0.726183</td>\n",
       "      <td>2024-06-08 00:24:08.644363</td>\n",
       "      <td>2024-06-08 00:24:08.808392</td>\n",
       "      <td>0 days 00:00:00.164029</td>\n",
       "      <td>0.256463</td>\n",
       "      <td>0.411930</td>\n",
       "      <td>896</td>\n",
       "      <td>elasticnet</td>\n",
       "      <td>saga</td>\n",
       "      <td>COMPLETE</td>\n",
       "    </tr>\n",
       "    <tr>\n",
       "      <th>126</th>\n",
       "      <td>126</td>\n",
       "      <td>0.725849</td>\n",
       "      <td>2024-06-08 00:24:22.605581</td>\n",
       "      <td>2024-06-08 00:24:22.688221</td>\n",
       "      <td>0 days 00:00:00.082640</td>\n",
       "      <td>1.909984</td>\n",
       "      <td>0.023170</td>\n",
       "      <td>462</td>\n",
       "      <td>elasticnet</td>\n",
       "      <td>saga</td>\n",
       "      <td>COMPLETE</td>\n",
       "    </tr>\n",
       "    <tr>\n",
       "      <th>191</th>\n",
       "      <td>191</td>\n",
       "      <td>0.725849</td>\n",
       "      <td>2024-06-08 00:24:29.059943</td>\n",
       "      <td>2024-06-08 00:24:29.153946</td>\n",
       "      <td>0 days 00:00:00.094003</td>\n",
       "      <td>0.652428</td>\n",
       "      <td>0.212852</td>\n",
       "      <td>688</td>\n",
       "      <td>elasticnet</td>\n",
       "      <td>saga</td>\n",
       "      <td>COMPLETE</td>\n",
       "    </tr>\n",
       "    <tr>\n",
       "      <th>139</th>\n",
       "      <td>139</td>\n",
       "      <td>0.725849</td>\n",
       "      <td>2024-06-08 00:24:23.761450</td>\n",
       "      <td>2024-06-08 00:24:23.844450</td>\n",
       "      <td>0 days 00:00:00.083000</td>\n",
       "      <td>0.732726</td>\n",
       "      <td>0.314704</td>\n",
       "      <td>267</td>\n",
       "      <td>elasticnet</td>\n",
       "      <td>saga</td>\n",
       "      <td>COMPLETE</td>\n",
       "    </tr>\n",
       "    <tr>\n",
       "      <th>173</th>\n",
       "      <td>173</td>\n",
       "      <td>0.725849</td>\n",
       "      <td>2024-06-08 00:24:27.378826</td>\n",
       "      <td>2024-06-08 00:24:27.463860</td>\n",
       "      <td>0 days 00:00:00.085034</td>\n",
       "      <td>0.117680</td>\n",
       "      <td>0.426265</td>\n",
       "      <td>138</td>\n",
       "      <td>elasticnet</td>\n",
       "      <td>saga</td>\n",
       "      <td>COMPLETE</td>\n",
       "    </tr>\n",
       "    <tr>\n",
       "      <th>135</th>\n",
       "      <td>135</td>\n",
       "      <td>0.725183</td>\n",
       "      <td>2024-06-08 00:24:23.412457</td>\n",
       "      <td>2024-06-08 00:24:23.498450</td>\n",
       "      <td>0 days 00:00:00.085993</td>\n",
       "      <td>78.172763</td>\n",
       "      <td>0.228233</td>\n",
       "      <td>978</td>\n",
       "      <td>elasticnet</td>\n",
       "      <td>saga</td>\n",
       "      <td>COMPLETE</td>\n",
       "    </tr>\n",
       "    <tr>\n",
       "      <th>127</th>\n",
       "      <td>127</td>\n",
       "      <td>0.725183</td>\n",
       "      <td>2024-06-08 00:24:22.689266</td>\n",
       "      <td>2024-06-08 00:24:22.777276</td>\n",
       "      <td>0 days 00:00:00.088010</td>\n",
       "      <td>26.262630</td>\n",
       "      <td>0.535513</td>\n",
       "      <td>567</td>\n",
       "      <td>elasticnet</td>\n",
       "      <td>saga</td>\n",
       "      <td>COMPLETE</td>\n",
       "    </tr>\n",
       "    <tr>\n",
       "      <th>128</th>\n",
       "      <td>128</td>\n",
       "      <td>0.725183</td>\n",
       "      <td>2024-06-08 00:24:22.778264</td>\n",
       "      <td>2024-06-08 00:24:22.870266</td>\n",
       "      <td>0 days 00:00:00.092002</td>\n",
       "      <td>29.230015</td>\n",
       "      <td>0.477792</td>\n",
       "      <td>465</td>\n",
       "      <td>elasticnet</td>\n",
       "      <td>saga</td>\n",
       "      <td>COMPLETE</td>\n",
       "    </tr>\n",
       "    <tr>\n",
       "      <th>129</th>\n",
       "      <td>129</td>\n",
       "      <td>0.725183</td>\n",
       "      <td>2024-06-08 00:24:22.871263</td>\n",
       "      <td>2024-06-08 00:24:22.960230</td>\n",
       "      <td>0 days 00:00:00.088967</td>\n",
       "      <td>43.747745</td>\n",
       "      <td>0.474294</td>\n",
       "      <td>114</td>\n",
       "      <td>elasticnet</td>\n",
       "      <td>saga</td>\n",
       "      <td>COMPLETE</td>\n",
       "    </tr>\n",
       "  </tbody>\n",
       "</table>\n",
       "</div>"
      ],
      "text/plain": [
       "     number     value             datetime_start          datetime_complete  \\\n",
       "82       82  0.726516 2024-06-08 00:24:16.901390 2024-06-08 00:24:17.019418   \n",
       "3         3  0.726183 2024-06-08 00:24:08.644363 2024-06-08 00:24:08.808392   \n",
       "126     126  0.725849 2024-06-08 00:24:22.605581 2024-06-08 00:24:22.688221   \n",
       "191     191  0.725849 2024-06-08 00:24:29.059943 2024-06-08 00:24:29.153946   \n",
       "139     139  0.725849 2024-06-08 00:24:23.761450 2024-06-08 00:24:23.844450   \n",
       "173     173  0.725849 2024-06-08 00:24:27.378826 2024-06-08 00:24:27.463860   \n",
       "135     135  0.725183 2024-06-08 00:24:23.412457 2024-06-08 00:24:23.498450   \n",
       "127     127  0.725183 2024-06-08 00:24:22.689266 2024-06-08 00:24:22.777276   \n",
       "128     128  0.725183 2024-06-08 00:24:22.778264 2024-06-08 00:24:22.870266   \n",
       "129     129  0.725183 2024-06-08 00:24:22.871263 2024-06-08 00:24:22.960230   \n",
       "\n",
       "                  duration   params_C  params_l1_ratio  params_max_iter  \\\n",
       "82  0 days 00:00:00.118028   0.317833         0.429542              657   \n",
       "3   0 days 00:00:00.164029   0.256463         0.411930              896   \n",
       "126 0 days 00:00:00.082640   1.909984         0.023170              462   \n",
       "191 0 days 00:00:00.094003   0.652428         0.212852              688   \n",
       "139 0 days 00:00:00.083000   0.732726         0.314704              267   \n",
       "173 0 days 00:00:00.085034   0.117680         0.426265              138   \n",
       "135 0 days 00:00:00.085993  78.172763         0.228233              978   \n",
       "127 0 days 00:00:00.088010  26.262630         0.535513              567   \n",
       "128 0 days 00:00:00.092002  29.230015         0.477792              465   \n",
       "129 0 days 00:00:00.088967  43.747745         0.474294              114   \n",
       "\n",
       "    params_penalty params_solver     state  \n",
       "82      elasticnet          saga  COMPLETE  \n",
       "3       elasticnet          saga  COMPLETE  \n",
       "126     elasticnet          saga  COMPLETE  \n",
       "191     elasticnet          saga  COMPLETE  \n",
       "139     elasticnet          saga  COMPLETE  \n",
       "173     elasticnet          saga  COMPLETE  \n",
       "135     elasticnet          saga  COMPLETE  \n",
       "127     elasticnet          saga  COMPLETE  \n",
       "128     elasticnet          saga  COMPLETE  \n",
       "129     elasticnet          saga  COMPLETE  "
      ]
     },
     "execution_count": 40,
     "metadata": {},
     "output_type": "execute_result"
    }
   ],
   "source": [
    "# Get best trials\n",
    "trials_OTP3 = study.trials_dataframe()\n",
    "# Sort the dataframe by value (accuracy) in descending order\n",
    "top_trials_OTP3 = trials_OTP3.sort_values(by='value', ascending=False).head(10)\n",
    "top_trials_OTP3"
   ]
  },
  {
   "cell_type": "code",
   "execution_count": 41,
   "metadata": {},
   "outputs": [
    {
     "name": "stdout",
     "output_type": "stream",
     "text": [
      "Metrics for LR_OPT3_best:\n",
      "Accuracy: 0.7265\n",
      "Weighted F1: 0.7259\n",
      "Weighted Precision: 0.7268\n",
      "Weighted Recall: 0.7265\n",
      "Macro-Averaged Precision: 0.7270\n",
      "Macro-Averaged Recall: 0.7250\n",
      "F1: [0.74399751 0.70647122]\n",
      "Precision: [0.72259237 0.73131014]\n",
      "classification report\n",
      "              precision    recall  f1-score   support\n",
      "\n",
      "     Class 0       0.72      0.77      0.74      1556\n",
      "     Class 1       0.73      0.68      0.71      1446\n",
      "\n",
      "    accuracy                           0.73      3002\n",
      "   macro avg       0.73      0.72      0.73      3002\n",
      "weighted avg       0.73      0.73      0.73      3002\n",
      "\n",
      "Confusion Matrix\n"
     ]
    },
    {
     "data": {
      "image/png": "[encoded data removed]",
      "text/plain": [
       "<Figure size 432x288 with 2 Axes>"
      ]
     },
     "metadata": {
      "needs_background": "light"
     },
     "output_type": "display_data"
    }
   ],
   "source": [
    "best_trial = study.best_trial\n",
    "best_model = LogisticRegression(**best_trial.params, random_state=seed)\n",
    "best_model.fit(X_train, y_train)\n",
    "\n",
    "predictions_opt3 = best_model.predict(X_test)\n",
    "\n",
    "model_metrics = pd.concat([model_metrics, calculate_metrics('LR_OPT3_best', y_test, predictions_opt3)])"
   ]
  },
  {
   "cell_type": "markdown",
   "metadata": {},
   "source": [
    "end"
   ]
  },
  {
   "cell_type": "code",
   "execution_count": 42,
   "metadata": {},
   "outputs": [
    {
     "data": {
      "text/html": [
       "<div>\n",
       "<style scoped>\n",
       "    .dataframe tbody tr th:only-of-type {\n",
       "        vertical-align: middle;\n",
       "    }\n",
       "\n",
       "    .dataframe tbody tr th {\n",
       "        vertical-align: top;\n",
       "    }\n",
       "\n",
       "    .dataframe thead th {\n",
       "        text-align: right;\n",
       "    }\n",
       "</style>\n",
       "<table border=\"1\" class=\"dataframe\">\n",
       "  <thead>\n",
       "    <tr style=\"text-align: right;\">\n",
       "      <th></th>\n",
       "      <th>Accuracy</th>\n",
       "      <th>Weighted F1</th>\n",
       "      <th>Weighted Precision</th>\n",
       "      <th>Weighted Recall</th>\n",
       "      <th>Macro-Averaged Precision</th>\n",
       "      <th>Macro-Averaged Recall</th>\n",
       "      <th>F1</th>\n",
       "      <th>Precision</th>\n",
       "    </tr>\n",
       "  </thead>\n",
       "  <tbody>\n",
       "    <tr>\n",
       "      <th>LR_original</th>\n",
       "      <td>0.725516</td>\n",
       "      <td>0.724874</td>\n",
       "      <td>0.725851</td>\n",
       "      <td>0.725516</td>\n",
       "      <td>0.726035</td>\n",
       "      <td>0.723925</td>\n",
       "      <td>[0.74346202 0.70487106]</td>\n",
       "      <td>[0.72101449 0.73105498]</td>\n",
       "    </tr>\n",
       "    <tr>\n",
       "      <th>LR_CV1_best</th>\n",
       "      <td>0.725183</td>\n",
       "      <td>0.724568</td>\n",
       "      <td>0.725476</td>\n",
       "      <td>0.725183</td>\n",
       "      <td>0.725642</td>\n",
       "      <td>0.723628</td>\n",
       "      <td>[0.74291056 0.70483005]</td>\n",
       "      <td>[0.72111313 0.7301705 ]</td>\n",
       "    </tr>\n",
       "    <tr>\n",
       "      <th>LR_skf_best</th>\n",
       "      <td>0.725849</td>\n",
       "      <td>0.725217</td>\n",
       "      <td>0.726173</td>\n",
       "      <td>0.725849</td>\n",
       "      <td>0.726352</td>\n",
       "      <td>0.724271</td>\n",
       "      <td>[0.74369355 0.70533477]</td>\n",
       "      <td>[0.72145015 0.73125464]</td>\n",
       "    </tr>\n",
       "    <tr>\n",
       "      <th>LR_OPT1_best</th>\n",
       "      <td>0.726183</td>\n",
       "      <td>0.725560</td>\n",
       "      <td>0.726495</td>\n",
       "      <td>0.726183</td>\n",
       "      <td>0.726670</td>\n",
       "      <td>0.724617</td>\n",
       "      <td>[0.74392523 0.70579814]</td>\n",
       "      <td>[0.72188634 0.73145401]</td>\n",
       "    </tr>\n",
       "    <tr>\n",
       "      <th>LR_OPT2_best</th>\n",
       "      <td>0.727182</td>\n",
       "      <td>0.726571</td>\n",
       "      <td>0.727488</td>\n",
       "      <td>0.727182</td>\n",
       "      <td>0.727661</td>\n",
       "      <td>0.725630</td>\n",
       "      <td>[0.74478031 0.70697674]</td>\n",
       "      <td>[0.72292801 0.73239437]</td>\n",
       "    </tr>\n",
       "    <tr>\n",
       "      <th>LR_OPT3_best</th>\n",
       "      <td>0.726516</td>\n",
       "      <td>0.725922</td>\n",
       "      <td>0.726792</td>\n",
       "      <td>0.726516</td>\n",
       "      <td>0.726951</td>\n",
       "      <td>0.724987</td>\n",
       "      <td>[0.74399751 0.70647122]</td>\n",
       "      <td>[0.72259237 0.73131014]</td>\n",
       "    </tr>\n",
       "  </tbody>\n",
       "</table>\n",
       "</div>"
      ],
      "text/plain": [
       "              Accuracy  Weighted F1  Weighted Precision  Weighted Recall  \\\n",
       "LR_original   0.725516     0.724874            0.725851         0.725516   \n",
       "LR_CV1_best   0.725183     0.724568            0.725476         0.725183   \n",
       "LR_skf_best   0.725849     0.725217            0.726173         0.725849   \n",
       "LR_OPT1_best  0.726183     0.725560            0.726495         0.726183   \n",
       "LR_OPT2_best  0.727182     0.726571            0.727488         0.727182   \n",
       "LR_OPT3_best  0.726516     0.725922            0.726792         0.726516   \n",
       "\n",
       "              Macro-Averaged Precision  Macro-Averaged Recall  \\\n",
       "LR_original                   0.726035               0.723925   \n",
       "LR_CV1_best                   0.725642               0.723628   \n",
       "LR_skf_best                   0.726352               0.724271   \n",
       "LR_OPT1_best                  0.726670               0.724617   \n",
       "LR_OPT2_best                  0.727661               0.725630   \n",
       "LR_OPT3_best                  0.726951               0.724987   \n",
       "\n",
       "                                   F1                Precision  \n",
       "LR_original   [0.74346202 0.70487106]  [0.72101449 0.73105498]  \n",
       "LR_CV1_best   [0.74291056 0.70483005]  [0.72111313 0.7301705 ]  \n",
       "LR_skf_best   [0.74369355 0.70533477]  [0.72145015 0.73125464]  \n",
       "LR_OPT1_best  [0.74392523 0.70579814]  [0.72188634 0.73145401]  \n",
       "LR_OPT2_best  [0.74478031 0.70697674]  [0.72292801 0.73239437]  \n",
       "LR_OPT3_best  [0.74399751 0.70647122]  [0.72259237 0.73131014]  "
      ]
     },
     "execution_count": 42,
     "metadata": {},
     "output_type": "execute_result"
    }
   ],
   "source": [
    "model_metrics"
   ]
  }
 ],
 "metadata": {
  "kernelspec": {
   "display_name": "Python 3",
   "language": "python",
   "name": "python3"
  },
  "language_info": {
   "codemirror_mode": {
    "name": "ipython",
    "version": 3
   },
   "file_extension": ".py",
   "mimetype": "text/x-python",
   "name": "python",
   "nbconvert_exporter": "python",
   "pygments_lexer": "ipython3",
   "version": "3.10.11"
  }
 },
 "nbformat": 4,
 "nbformat_minor": 2
}
