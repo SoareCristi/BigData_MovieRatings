{
 "cells": [
  {
   "cell_type": "code",
   "execution_count": 1,
   "metadata": {},
   "outputs": [],
   "source": [
    "import requests\n",
    "import pandas as pd\n",
    "import os"
   ]
  },
  {
   "cell_type": "code",
   "execution_count": 2,
   "metadata": {},
   "outputs": [],
   "source": [
    "def get_movie_info(api_key, tconst):\n",
    "    url = f\"http://www.omdbapi.com/?apikey={api_key}&i={tconst}&plot=full\"\n",
    "    response = requests.get(url)\n",
    "    if response.status_code == 200:\n",
    "        data = response.json()\n",
    "        if data['Response'] == 'True':\n",
    "            return data\n",
    "        else:\n",
    "            return {'Error': data.get('Error', 'Unknown error occurred')}\n",
    "    else:\n",
    "        return {'Error': 'Failed to reach the OMDB API'}"
   ]
  },
  {
   "cell_type": "code",
   "execution_count": null,
   "metadata": {},
   "outputs": [],
   "source": [
    "api_key = 'api_key'\n",
    "\n",
    "input_csv = 'CleanedData/tconst_not_in_dataset_csv_filtered.csv'\n",
    "df = pd.read_csv(input_csv)\n",
    "\n",
    "output_csv = 'CleanedData/data_api.csv'\n",
    "\n",
    "os.makedirs(os.path.dirname(output_csv), exist_ok=True)\n",
    "\n",
    "batch_size = 100\n",
    "num_batches = len(df) // batch_size + (1 if len(df) % batch_size > 0 else 0)\n",
    "\n",
    "for batch in range(num_batches):\n",
    "    start_index = batch * batch_size\n",
    "    end_index = start_index + batch_size\n",
    "    current_batch = df['tconst'][start_index:end_index]\n",
    "    \n",
    "    batch_results = []\n",
    "    \n",
    "    for i, tconst in enumerate(current_batch):\n",
    "        movie_info = get_movie_info(api_key, tconst)\n",
    "        if 'Error' not in movie_info:\n",
    "            box_office = movie_info.get('BoxOffice', 'N/A')\n",
    "            if box_office != 'N/A':\n",
    "                box_office = int(box_office.replace(\",\", \"\").replace(\"$\", \"\"))\n",
    "                print(f\"Value found for {tconst}, {box_office}\")\n",
    "            batch_results.append({'tconst': tconst, 'BoxOffice': box_office})\n",
    "        else:\n",
    "            print(f\"Error retrieving data for {tconst}: {movie_info['Error']}\")\n",
    "        print(f\"Processed {start_index + i + 1} of {len(df)}\")\n",
    "        \n",
    "\n",
    "    batch_df = pd.DataFrame(batch_results)\n",
    "    \n",
    "    if not batch_df.empty:\n",
    "        if not os.path.isfile(output_csv):\n",
    "            batch_df.to_csv(output_csv, index=False)\n",
    "        else:\n",
    "            batch_df.to_csv(output_csv, mode='a', header=False, index=False)\n",
    "\n",
    "    print('##############################################')\n",
    "    print(f\"Batch {batch + 1} results saved to {output_csv}\")\n",
    "\n",
    "print(f\"All results saved to {output_csv}\")\n"
   ]
  }
 ],
 "metadata": {
  "kernelspec": {
   "display_name": "Python 3",
   "language": "python",
   "name": "python3"
  },
  "language_info": {
   "codemirror_mode": {
    "name": "ipython",
    "version": 3
   },
   "file_extension": ".py",
   "mimetype": "text/x-python",
   "name": "python",
   "nbconvert_exporter": "python",
   "pygments_lexer": "ipython3",
   "version": "3.9.6"
  }
 },
 "nbformat": 4,
 "nbformat_minor": 2
}
