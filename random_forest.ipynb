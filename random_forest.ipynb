{
 "cells": [
  {
   "cell_type": "markdown",
   "metadata": {},
   "source": [
    "## Random Forest Implementation (reused from previous) on scaled non-reduced dataset"
   ]
  },
  {
   "cell_type": "markdown",
   "metadata": {},
   "source": [
    "Imports"
   ]
  },
  {
   "cell_type": "code",
   "execution_count": 1,
   "metadata": {},
   "outputs": [
    {
     "name": "stderr",
     "output_type": "stream",
     "text": [
      "C:\\Users\\movil\\AppData\\Local\\Packages\\PythonSoftwareFoundation.Python.3.10_qbz5n2kfra8p0\\LocalCache\\local-packages\\Python310\\site-packages\\scipy\\__init__.py:155: UserWarning: A NumPy version >=1.18.5 and <1.25.0 is required for this version of SciPy (detected version 1.26.4\n",
      "  warnings.warn(f\"A NumPy version >={np_minversion} and <{np_maxversion}\"\n"
     ]
    }
   ],
   "source": [
    "# Utilities\n",
    "import pandas as pd\n",
    "import warnings\n",
    "import numpy as np\n",
    "import matplotlib.pyplot as plt\n",
    "\n",
    "# Models\n",
    "import optuna\n",
    "from sklearn.model_selection import train_test_split, cross_val_score\n",
    "from sklearn.ensemble import RandomForestClassifier\n",
    "from sklearn.model_selection import GridSearchCV\n",
    "from sklearn.metrics import accuracy_score, accuracy_score, f1_score\n",
    "from sklearn.metrics import classification_report, precision_score, recall_score, confusion_matrix, ConfusionMatrixDisplay"
   ]
  },
  {
   "cell_type": "markdown",
   "metadata": {},
   "source": [
    "Set random seed for reproductibility"
   ]
  },
  {
   "cell_type": "code",
   "execution_count": 2,
   "metadata": {},
   "outputs": [],
   "source": [
    "seed = 42"
   ]
  },
  {
   "cell_type": "markdown",
   "metadata": {},
   "source": [
    "Read clean (scaled data)"
   ]
  },
  {
   "cell_type": "code",
   "execution_count": 3,
   "metadata": {},
   "outputs": [],
   "source": [
    "df_scaled = pd.read_csv('CleanedData/dataset_preprocessed.csv')"
   ]
  },
  {
   "cell_type": "markdown",
   "metadata": {},
   "source": [
    "Take sample for (initial) tests"
   ]
  },
  {
   "cell_type": "code",
   "execution_count": 4,
   "metadata": {},
   "outputs": [],
   "source": [
    "#df_scaled_sample = df_scaled.sample(n=1000, random_state=seed)\n",
    "df_scaled_sample = df_scaled"
   ]
  },
  {
   "cell_type": "markdown",
   "metadata": {},
   "source": [
    "Train-Test Split"
   ]
  },
  {
   "cell_type": "code",
   "execution_count": 5,
   "metadata": {},
   "outputs": [],
   "source": [
    "test_size = 0.2\n",
    "X_train, X_test, y_train, y_test = train_test_split(\n",
    "    df_scaled_sample.drop('averageRating', axis=1), \n",
    "    df_scaled_sample['averageRating'], test_size=test_size, \n",
    "    random_state=seed\n",
    ")"
   ]
  },
  {
   "cell_type": "markdown",
   "metadata": {},
   "source": [
    "Save and print metrics"
   ]
  },
  {
   "cell_type": "code",
   "execution_count": 6,
   "metadata": {},
   "outputs": [],
   "source": [
    "def calculate_metrics(model_name, y_true, y_pred):\n",
    "    metrics = {\n",
    "        'Accuracy': accuracy_score(y_true, y_pred),\n",
    "        'Weighted F1': f1_score(y_true, y_pred, average='weighted'),\n",
    "        'Weighted Precision': precision_score(y_true, y_pred, average='weighted', zero_division=0),\n",
    "        'Weighted Recall': recall_score(y_true, y_pred, average='weighted'),\n",
    "        'Macro-Averaged Precision': precision_score(y_true, y_pred, average='macro', zero_division=0),\n",
    "        'Macro-Averaged Recall': recall_score(y_true, y_pred, average='macro'),\n",
    "        'F1': str(f1_score(y_true, y_pred, average=None)),\n",
    "        'Precision': str( precision_score(y_true, y_pred, average=None, zero_division=0)),\n",
    "    }\n",
    "    \n",
    "    # Print the metrics\n",
    "    print(f\"Metrics for {model_name}:\")\n",
    "    for metric_name, metric_value in metrics.items():\n",
    "        try:\n",
    "            print(f\"{metric_name}: {metric_value:.4f}\")\n",
    "        except:\n",
    "            print(f\"{metric_name}: {metric_value}\")\n",
    "    \n",
    "    # Print the classification report\n",
    "    print(\"classification report\")\n",
    "    report = classification_report(y_true, y_pred, target_names=['Class 0', 'Class 1', 'Class 2'], zero_division=0)\n",
    "    print(report)\n",
    "\n",
    "    print(\"Confusion Matrix\")\n",
    "    cm = confusion_matrix(y_true, y_pred)\n",
    "    cmd = ConfusionMatrixDisplay(confusion_matrix=cm)\n",
    "    cmd.plot()\n",
    "    \n",
    "    plt.title(f'Confusion matrix for model {model_name} (Accuracy:{metrics[\"Accuracy\"]:.4f})')\n",
    "    plt.show()\n",
    "    \n",
    "    # Create df to store metrics\n",
    "    df_metrics = pd.DataFrame(metrics, index=[model_name])\n",
    "    \n",
    "    return df_metrics"
   ]
  },
  {
   "cell_type": "code",
   "execution_count": 7,
   "metadata": {},
   "outputs": [
    {
     "name": "stdout",
     "output_type": "stream",
     "text": [
      "Accuracy: 0.7747188832880961\n",
      "F1 score: [0.         0.81132075 0.73268293]\n"
     ]
    }
   ],
   "source": [
    "model = RandomForestClassifier(n_estimators=100, random_state=seed)\n",
    "model.fit(X_train, y_train)\n",
    "\n",
    "predictions = model.predict(X_test)\n",
    "print(\"Accuracy:\", accuracy_score(y_test, predictions))\n",
    "\n",
    "print(\"F1 score:\", f1_score(y_test, predictions, average=None))"
   ]
  },
  {
   "cell_type": "markdown",
   "metadata": {},
   "source": [
    "## Grid Search CV - 1"
   ]
  },
  {
   "cell_type": "code",
   "execution_count": 8,
   "metadata": {},
   "outputs": [
    {
     "name": "stdout",
     "output_type": "stream",
     "text": [
      "Fitting 3 folds for each of 288 candidates, totalling 864 fits\n",
      "The parameters with the highest score:  {'bootstrap': False, 'max_depth': None, 'min_samples_leaf': 1, 'min_samples_split': 5, 'n_estimators': 200}\n"
     ]
    }
   ],
   "source": [
    "param_grid = {\n",
    "    'n_estimators': [10, 50, 100, 200],  # Number of trees in the forest\n",
    "    'max_depth': [None, 10, 20, 30],  # Maximum depth of the tree\n",
    "    'min_samples_split': [2, 5, 10],  # Minimum number of samples required to split an internal node\n",
    "    'min_samples_leaf': [1, 2, 4],  # Minimum number of samples required to be at a leaf node\n",
    "    'bootstrap': [True, False]  # Method of selecting samples for training each tree\n",
    "}\n",
    "\n",
    "model = RandomForestClassifier(random_state=seed)\n",
    "\n",
    "grid_search = GridSearchCV(estimator=model, param_grid=param_grid, cv=3, n_jobs=-1, verbose=2, scoring='accuracy')\n",
    "grid_search.fit(X_train, y_train)\n",
    "\n",
    "print(\"The parameters with the highest score: \", grid_search.best_params_)"
   ]
  },
  {
   "cell_type": "code",
   "execution_count": 9,
   "metadata": {},
   "outputs": [
    {
     "name": "stdout",
     "output_type": "stream",
     "text": [
      "                                                params  mean_test_score\n",
      "151  {'bootstrap': False, 'max_depth': None, 'min_s...         0.789005\n",
      "262  {'bootstrap': False, 'max_depth': 30, 'min_sam...         0.788325\n",
      "271  {'bootstrap': False, 'max_depth': 30, 'min_sam...         0.788229\n",
      "15   {'bootstrap': True, 'max_depth': None, 'min_sa...         0.788035\n",
      "163  {'bootstrap': False, 'max_depth': None, 'min_s...         0.787938\n",
      "219  {'bootstrap': False, 'max_depth': 20, 'min_sam...         0.787841\n",
      "270  {'bootstrap': False, 'max_depth': 30, 'min_sam...         0.787453\n",
      "162  {'bootstrap': False, 'max_depth': None, 'min_s...         0.787453\n",
      "263  {'bootstrap': False, 'max_depth': 30, 'min_sam...         0.787259\n",
      "159  {'bootstrap': False, 'max_depth': None, 'min_s...         0.787259\n"
     ]
    }
   ],
   "source": [
    "cv_results_df = pd.DataFrame(grid_search.cv_results_)\n",
    "\n",
    "# Show top 10 parameters for this model\n",
    "minimalistic_results = cv_results_df[['params', 'mean_test_score']]\n",
    "sorted_results = minimalistic_results.sort_values(by='mean_test_score', ascending=False)\n",
    "\n",
    "print(sorted_results.head(10))"
   ]
  },
  {
   "cell_type": "code",
   "execution_count": 10,
   "metadata": {},
   "outputs": [
    {
     "name": "stdout",
     "output_type": "stream",
     "text": [
      "Metrics for RF-GS-CV1:\n",
      "Accuracy: 0.7728\n",
      "Weighted F1: 0.7665\n",
      "Weighted Precision: 0.7620\n",
      "Weighted Recall: 0.7728\n",
      "Macro-Averaged Precision: 0.5139\n",
      "Macro-Averaged Recall: 0.5160\n",
      "F1: [0.         0.80647292 0.73664122]\n",
      "Precision: [0.         0.77969349 0.76209279]\n",
      "classification report\n",
      "              precision    recall  f1-score   support\n",
      "\n",
      "     Class 0       0.00      0.00      0.00        34\n",
      "     Class 1       0.78      0.84      0.81      1462\n",
      "     Class 2       0.76      0.71      0.74      1083\n",
      "\n",
      "    accuracy                           0.77      2579\n",
      "   macro avg       0.51      0.52      0.51      2579\n",
      "weighted avg       0.76      0.77      0.77      2579\n",
      "\n",
      "Confusion Matrix\n"
     ]
    },
    {
     "data": {
      "image/png": "[encoded data removed]",
      "text/plain": [
       "<Figure size 432x288 with 2 Axes>"
      ]
     },
     "metadata": {
      "needs_background": "light"
     },
     "output_type": "display_data"
    }
   ],
   "source": [
    "best_model = grid_search.best_estimator_\n",
    "predictions = best_model.predict(X_test)\n",
    "_ = calculate_metrics('RF-GS-CV1', y_test, predictions)"
   ]
  },
  {
   "cell_type": "code",
   "execution_count": 11,
   "metadata": {},
   "outputs": [
    {
     "name": "stdout",
     "output_type": "stream",
     "text": [
      "Parameters from place:  0   {'bootstrap': False, 'max_depth': None, 'min_samples_leaf': 1, 'min_samples_split': 5, 'n_estimators': 200}\n",
      "Accuracy for chosen parameters: 0.7727801473439317\n",
      "Parameters from place:  1   {'bootstrap': False, 'max_depth': 30, 'min_samples_leaf': 1, 'min_samples_split': 10, 'n_estimators': 100}\n",
      "Accuracy for chosen parameters: 0.7712291585886002\n",
      "Parameters from place:  2   {'bootstrap': False, 'max_depth': 30, 'min_samples_leaf': 2, 'min_samples_split': 5, 'n_estimators': 200}\n",
      "Accuracy for chosen parameters: 0.7727801473439317\n",
      "Parameters from place:  3   {'bootstrap': True, 'max_depth': None, 'min_samples_leaf': 2, 'min_samples_split': 2, 'n_estimators': 200}\n",
      "Accuracy for chosen parameters: 0.7770453664210935\n",
      "Parameters from place:  4   {'bootstrap': False, 'max_depth': None, 'min_samples_leaf': 2, 'min_samples_split': 5, 'n_estimators': 200}\n",
      "Accuracy for chosen parameters: 0.7751066304769291\n",
      "Parameters from place:  5   {'bootstrap': False, 'max_depth': 20, 'min_samples_leaf': 1, 'min_samples_split': 2, 'n_estimators': 200}\n",
      "Accuracy for chosen parameters: 0.7778208607987592\n",
      "Parameters from place:  6   {'bootstrap': False, 'max_depth': 30, 'min_samples_leaf': 2, 'min_samples_split': 5, 'n_estimators': 100}\n",
      "Accuracy for chosen parameters: 0.7762698720434277\n",
      "Parameters from place:  7   {'bootstrap': False, 'max_depth': None, 'min_samples_leaf': 2, 'min_samples_split': 5, 'n_estimators': 100}\n",
      "Accuracy for chosen parameters: 0.7743311360992633\n",
      "Parameters from place:  8   {'bootstrap': False, 'max_depth': 30, 'min_samples_leaf': 1, 'min_samples_split': 10, 'n_estimators': 200}\n",
      "Accuracy for chosen parameters: 0.7708414113997674\n",
      "Parameters from place:  9   {'bootstrap': False, 'max_depth': None, 'min_samples_leaf': 2, 'min_samples_split': 2, 'n_estimators': 200}\n",
      "Accuracy for chosen parameters: 0.7751066304769291\n"
     ]
    }
   ],
   "source": [
    "# Predicting using other alternatives of fine-tuning from top 10 performances\n",
    "\n",
    "# Choose a set of parameters from sorted_results\n",
    "for i in range(10):\n",
    "\n",
    "  params = sorted_results.iloc[i]['params']\n",
    "  print(\"Parameters from place: \", i, \" \", params)\n",
    "\n",
    "  model = RandomForestClassifier(random_state=seed, **params)\n",
    "  model.fit(X_train, y_train)\n",
    "\n",
    "  predictions = model.predict(X_test)\n",
    "\n",
    "  chosen_accuracy = accuracy_score(y_test, predictions)\n",
    "  print(\"Accuracy for chosen parameters:\", chosen_accuracy)\n"
   ]
  },
  {
   "cell_type": "code",
   "execution_count": 12,
   "metadata": {},
   "outputs": [
    {
     "name": "stdout",
     "output_type": "stream",
     "text": [
      "Parameters from place:  0   {'bootstrap': False, 'max_depth': None, 'min_samples_leaf': 1, 'min_samples_split': 5, 'n_estimators': 200}\n",
      "Accuracy for chosen parameters: 1.0\n",
      "Parameters from place:  1   {'bootstrap': False, 'max_depth': 30, 'min_samples_leaf': 1, 'min_samples_split': 10, 'n_estimators': 100}\n",
      "Accuracy for chosen parameters: 0.9908852904101619\n",
      "Parameters from place:  2   {'bootstrap': False, 'max_depth': 30, 'min_samples_leaf': 2, 'min_samples_split': 5, 'n_estimators': 200}\n",
      "Accuracy for chosen parameters: 0.993600310287986\n",
      "Parameters from place:  3   {'bootstrap': True, 'max_depth': None, 'min_samples_leaf': 2, 'min_samples_split': 2, 'n_estimators': 200}\n",
      "Accuracy for chosen parameters: 0.9584989818675458\n",
      "Parameters from place:  4   {'bootstrap': False, 'max_depth': None, 'min_samples_leaf': 2, 'min_samples_split': 5, 'n_estimators': 200}\n",
      "Accuracy for chosen parameters: 0.9941821002618055\n",
      "Parameters from place:  5   {'bootstrap': False, 'max_depth': 20, 'min_samples_leaf': 1, 'min_samples_split': 2, 'n_estimators': 200}\n",
      "Accuracy for chosen parameters: 0.9886550955105207\n",
      "Parameters from place:  6   {'bootstrap': False, 'max_depth': 30, 'min_samples_leaf': 2, 'min_samples_split': 5, 'n_estimators': 100}\n",
      "Accuracy for chosen parameters: 0.9934063802967129\n",
      "Parameters from place:  7   {'bootstrap': False, 'max_depth': None, 'min_samples_leaf': 2, 'min_samples_split': 5, 'n_estimators': 100}\n",
      "Accuracy for chosen parameters: 0.993600310287986\n",
      "Parameters from place:  8   {'bootstrap': False, 'max_depth': 30, 'min_samples_leaf': 1, 'min_samples_split': 10, 'n_estimators': 200}\n",
      "Accuracy for chosen parameters: 0.9905943954232522\n",
      "Parameters from place:  9   {'bootstrap': False, 'max_depth': None, 'min_samples_leaf': 2, 'min_samples_split': 2, 'n_estimators': 200}\n",
      "Accuracy for chosen parameters: 0.9970910501309027\n"
     ]
    }
   ],
   "source": [
    "# Run on training sample\n",
    "\n",
    "# Choose a set of parameters from sorted_results\n",
    "for i in range(10):\n",
    "\n",
    "  params = sorted_results.iloc[i]['params']\n",
    "  print(\"Parameters from place: \", i, \" \", params)\n",
    "\n",
    "  model = RandomForestClassifier(random_state=42, **params)\n",
    "  model.fit(X_train, y_train)\n",
    "\n",
    "  predictions = model.predict(X_train)\n",
    "\n",
    "  chosen_accuracy = accuracy_score(y_train, predictions)\n",
    "  print(\"Accuracy for chosen parameters:\", chosen_accuracy)"
   ]
  },
  {
   "cell_type": "code",
   "execution_count": 13,
   "metadata": {},
   "outputs": [
    {
     "name": "stdout",
     "output_type": "stream",
     "text": [
      "Accuracy for max depth : 14   0.8927567148259479\n",
      "Accuracy for max depth : 13   0.8731697857073596\n",
      "Accuracy for max depth : 12   0.8519344516629497\n",
      "Accuracy for max depth : 11   0.8327353825269078\n",
      "Accuracy for max depth : 10   0.8133423833995927\n",
      "Accuracy for max depth : 9   0.7927858043246389\n",
      "Accuracy for max depth : 8   0.7785319499660622\n",
      "Accuracy for max depth : 7   0.7637932706293028\n",
      "Accuracy for max depth : 6   0.751672646174731\n",
      "Accuracy for max depth : 5   0.7369339668379715\n",
      "Accuracy for max depth : 4   0.7254920973528556\n",
      "Accuracy for max depth : 3   0.7118200329680985\n",
      "Accuracy for max depth : 2   0.6871909240764085\n",
      "Accuracy for max depth : 1   0.6513138756908756\n"
     ]
    }
   ],
   "source": [
    "accuracies=[]\n",
    "max_depths=[]\n",
    "for i in reversed(range(1,15)):\n",
    "  model = RandomForestClassifier(random_state=42, max_depth=i)\n",
    "  model.fit(X_train, y_train)\n",
    "  predictions = model.predict(X_train)\n",
    "  accuracy = accuracy_score(y_train, predictions)\n",
    "  max_depths.append(i)\n",
    "  accuracies.append(accuracy)\n",
    "  print(\"Accuracy for max depth :\", i, \" \", accuracy)"
   ]
  },
  {
   "cell_type": "code",
   "execution_count": 14,
   "metadata": {},
   "outputs": [
    {
     "data": {
      "image/png": "[encoded data removed]",
      "text/plain": [
       "<Figure size 720x432 with 1 Axes>"
      ]
     },
     "metadata": {
      "needs_background": "light"
     },
     "output_type": "display_data"
    }
   ],
   "source": [
    "plt.figure(figsize=(10, 6))\n",
    "plt.plot(max_depths, accuracies, marker='o', linestyle='-', color='b')\n",
    "\n",
    "plt.title('Accuracy related to the maximum depth of the model')\n",
    "plt.xlabel('Maximum depth')\n",
    "plt.ylabel('Accuracy')\n",
    "plt.grid(True)\n",
    "\n",
    "plt.show()"
   ]
  },
  {
   "cell_type": "code",
   "execution_count": 15,
   "metadata": {},
   "outputs": [
    {
     "name": "stdout",
     "output_type": "stream",
     "text": [
      "0.7789841023652578\n",
      "0.7902287708414114\n",
      "0.7983714618069019\n",
      "0.7828615742535867\n",
      "0.7844125630089182\n",
      "0.7739433889104304\n",
      "0.7879022877084141\n",
      "0.7820860798759209\n",
      "0.7840248158200853\n",
      "0.7964327258627375\n",
      "0.7766576192322606\n",
      "0.7824738270647538\n",
      "0.7855758045754169\n",
      "0.7890655292749128\n",
      "0.7890655292749128\n",
      "0.7832493214424195\n",
      "0.7820860798759209\n",
      "0.7859635517642497\n",
      "0.7727801473439317\n",
      "0.7952694842962389\n",
      "0.781698332687088\n",
      "0.768902675455603\n",
      "0.781698332687088\n",
      "0.7871267933307483\n",
      "0.7828615742535867\n",
      "0.778596355176425\n",
      "0.7770453664210935\n",
      "0.7638619620007755\n",
      "0.7712291585886002\n",
      "0.7708414113997674\n",
      "0.7968204730515703\n",
      "0.801085692128732\n",
      "0.7851880573865839\n",
      "0.7983714618069019\n",
      "0.7836370686312524\n",
      "0.7782086079875921\n",
      "0.7782086079875921\n",
      "0.7747188832880961\n",
      "0.7580457541682822\n",
      "0.7739433889104304\n",
      "0.7848003101977511\n",
      "0.7863512989530826\n",
      "0.7774331136099263\n",
      "0.7824738270647538\n",
      "0.7871267933307483\n",
      "0.791779759596743\n",
      "0.7723924001550989\n",
      "0.7770453664210935\n",
      "0.7890655292749128\n",
      "0.7809228383094222\n",
      "0.7813105854982552\n",
      "0.7871267933307483\n",
      "0.7952694842962389\n",
      "0.7867390461419155\n",
      "0.7793718495540908\n",
      "0.7937184955409073\n",
      "0.7863512989530826\n",
      "0.7762698720434277\n",
      "0.7851880573865839\n",
      "0.7820860798759209\n",
      "0.781698332687088\n",
      "0.7828615742535867\n",
      "0.7840248158200853\n",
      "0.7902287708414114\n",
      "0.7956572314850717\n",
      "0.7754943776657619\n",
      "0.7875145405195813\n",
      "0.7952694842962389\n",
      "0.7824738270647538\n",
      "0.7867390461419155\n",
      "0.7933307483520744\n",
      "0.772004652966266\n",
      "0.7809228383094222\n",
      "0.7801473439317564\n",
      "0.7848003101977511\n",
      "0.7832493214424195\n",
      "0.7708414113997674\n",
      "0.7805350911205894\n",
      "0.7809228383094222\n",
      "0.7630864676231097\n",
      "0.7824738270647538\n",
      "0.788290034897247\n",
      "0.7739433889104304\n",
      "0.7824738270647538\n",
      "0.778596355176425\n",
      "0.7855758045754169\n",
      "0.7809228383094222\n",
      "0.7762698720434277\n",
      "0.7762698720434277\n",
      "0.778596355176425\n",
      "0.7851880573865839\n",
      "0.7708414113997674\n",
      "0.781698332687088\n",
      "0.7813105854982552\n",
      "0.7820860798759209\n",
      "0.7960449786739047\n",
      "0.7875145405195813\n",
      "0.7731678945327647\n",
      "0.7863512989530826\n",
      "0.772004652966266\n",
      "Best Classification Report:\n",
      "              precision    recall  f1-score   support\n",
      "\n",
      "           0       0.00      0.00      0.00        27\n",
      "           1       0.81      0.87      0.84      1503\n",
      "           2       0.79      0.72      0.76      1049\n",
      "\n",
      "    accuracy                           0.80      2579\n",
      "   macro avg       0.53      0.53      0.53      2579\n",
      "weighted avg       0.79      0.80      0.80      2579\n",
      "\n",
      "Best Accuracy: 0.801085692128732\n",
      "\n",
      "Average Classification Report:\n",
      "precision: 0.5675\n",
      "recall: 0.5206\n",
      "f1-score: 0.5221\n",
      "accuracy: 0.7825\n"
     ]
    }
   ],
   "source": [
    "best_accuracy = 0\n",
    "best_report = None\n",
    "best_predictions = None\n",
    "y_best_predictions = None\n",
    "all_reports = []\n",
    "\n",
    "for i in range(100):\n",
    "  random_state_fit = np.random.randint(1000)\n",
    "\n",
    "  test_size = 0.2\n",
    "  X_train, X_test, y_train, y_test = train_test_split(\n",
    "    df_scaled_sample.drop('averageRating', axis=1), \n",
    "    df_scaled_sample['averageRating'], test_size=test_size, \n",
    "    random_state=random_state_fit)\n",
    "  \n",
    "  # Best performing parameters\n",
    "  model = RandomForestClassifier(n_estimators=100, random_state=seed, bootstrap=False, max_depth=20,\n",
    "                                  min_samples_leaf=1, min_samples_split=2)\n",
    "  model.fit(X_train, y_train)\n",
    "\n",
    "  predictions = model.predict(X_test)\n",
    "  current_accuracy = accuracy_score(y_test, predictions)\n",
    "\n",
    "  report = classification_report(y_test, predictions, output_dict=True, zero_division=0)\n",
    "  all_reports.append(report)\n",
    "  print(current_accuracy)\n",
    "\n",
    "  if current_accuracy > best_accuracy:\n",
    "        best_accuracy = current_accuracy\n",
    "        best_report = report\n",
    "        best_predictions = predictions\n",
    "        y_best_predictions = y_test\n",
    "\n",
    "def average_classification_report(reports):\n",
    "    metrics = ['precision', 'recall', 'f1-score']\n",
    "    avg_report = {}\n",
    "    for metric in metrics:\n",
    "        avg_report[metric] = sum(r['macro avg'][metric] for r in reports) / len(reports)\n",
    "    avg_report['accuracy'] = sum(r['accuracy'] for r in reports) / len(reports)\n",
    "    return avg_report\n",
    "\n",
    "avg_report = average_classification_report(all_reports)\n",
    "\n",
    "print(\"Best Classification Report:\")\n",
    "print(classification_report(y_best_predictions, best_predictions, zero_division=0))\n",
    "print(\"Best Accuracy:\", best_accuracy)\n",
    "print()\n",
    "print(\"Average Classification Report:\")\n",
    "for metric, score in avg_report.items():\n",
    "    print(f\"{metric}: {score:.4f}\")"
   ]
  },
  {
   "cell_type": "code",
   "execution_count": 16,
   "metadata": {},
   "outputs": [
    {
     "name": "stdout",
     "output_type": "stream",
     "text": [
      "Metrics for RF-Shuffled_best:\n",
      "Accuracy: 0.8011\n",
      "Weighted F1: 0.7953\n",
      "Weighted Precision: 0.7922\n",
      "Weighted Recall: 0.8011\n",
      "Macro-Averaged Precision: 0.5330\n",
      "Macro-Averaged Recall: 0.5311\n",
      "F1: [0.         0.83610755 0.75734928]\n",
      "Precision: [0.         0.80567551 0.79331942]\n",
      "classification report\n",
      "              precision    recall  f1-score   support\n",
      "\n",
      "     Class 0       0.00      0.00      0.00        27\n",
      "     Class 1       0.81      0.87      0.84      1503\n",
      "     Class 2       0.79      0.72      0.76      1049\n",
      "\n",
      "    accuracy                           0.80      2579\n",
      "   macro avg       0.53      0.53      0.53      2579\n",
      "weighted avg       0.79      0.80      0.80      2579\n",
      "\n",
      "Confusion Matrix\n"
     ]
    },
    {
     "data": {
      "image/png": "[encoded data removed]",
      "text/plain": [
       "<Figure size 432x288 with 2 Axes>"
      ]
     },
     "metadata": {
      "needs_background": "light"
     },
     "output_type": "display_data"
    },
    {
     "data": {
      "text/html": [
       "<div>\n",
       "<style scoped>\n",
       "    .dataframe tbody tr th:only-of-type {\n",
       "        vertical-align: middle;\n",
       "    }\n",
       "\n",
       "    .dataframe tbody tr th {\n",
       "        vertical-align: top;\n",
       "    }\n",
       "\n",
       "    .dataframe thead th {\n",
       "        text-align: right;\n",
       "    }\n",
       "</style>\n",
       "<table border=\"1\" class=\"dataframe\">\n",
       "  <thead>\n",
       "    <tr style=\"text-align: right;\">\n",
       "      <th></th>\n",
       "      <th>Accuracy</th>\n",
       "      <th>Weighted F1</th>\n",
       "      <th>Weighted Precision</th>\n",
       "      <th>Weighted Recall</th>\n",
       "      <th>Macro-Averaged Precision</th>\n",
       "      <th>Macro-Averaged Recall</th>\n",
       "      <th>F1</th>\n",
       "      <th>Precision</th>\n",
       "    </tr>\n",
       "  </thead>\n",
       "  <tbody>\n",
       "    <tr>\n",
       "      <th>RF-Shuffled_best</th>\n",
       "      <td>0.801086</td>\n",
       "      <td>0.79532</td>\n",
       "      <td>0.792215</td>\n",
       "      <td>0.801086</td>\n",
       "      <td>0.532998</td>\n",
       "      <td>0.531143</td>\n",
       "      <td>[0.         0.83610755 0.75734928]</td>\n",
       "      <td>[0.         0.80567551 0.79331942]</td>\n",
       "    </tr>\n",
       "  </tbody>\n",
       "</table>\n",
       "</div>"
      ],
      "text/plain": [
       "                  Accuracy  Weighted F1  Weighted Precision  Weighted Recall  \\\n",
       "RF-Shuffled_best  0.801086      0.79532            0.792215         0.801086   \n",
       "\n",
       "                  Macro-Averaged Precision  Macro-Averaged Recall  \\\n",
       "RF-Shuffled_best                  0.532998               0.531143   \n",
       "\n",
       "                                                  F1  \\\n",
       "RF-Shuffled_best  [0.         0.83610755 0.75734928]   \n",
       "\n",
       "                                           Precision  \n",
       "RF-Shuffled_best  [0.         0.80567551 0.79331942]  "
      ]
     },
     "execution_count": 16,
     "metadata": {},
     "output_type": "execute_result"
    }
   ],
   "source": [
    "calculate_metrics('RF-Shuffled_best', y_best_predictions, best_predictions)"
   ]
  }
 ],
 "metadata": {
  "kernelspec": {
   "display_name": "Python 3",
   "language": "python",
   "name": "python3"
  },
  "language_info": {
   "codemirror_mode": {
    "name": "ipython",
    "version": 3
   },
   "file_extension": ".py",
   "mimetype": "text/x-python",
   "name": "python",
   "nbconvert_exporter": "python",
   "pygments_lexer": "ipython3",
   "version": "3.10.11"
  }
 },
 "nbformat": 4,
 "nbformat_minor": 2
}
