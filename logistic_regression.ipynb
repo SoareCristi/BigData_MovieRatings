{
 "cells": [
  {
   "cell_type": "markdown",
   "metadata": {},
   "source": [
    "## Logistic Regression Implementation on (scaled) non-reduced dataset"
   ]
  },
  {
   "cell_type": "markdown",
   "metadata": {},
   "source": [
    "Imports"
   ]
  },
  {
   "cell_type": "code",
   "execution_count": 1,
   "metadata": {},
   "outputs": [
    {
     "name": "stderr",
     "output_type": "stream",
     "text": [
      "C:\\Users\\movil\\AppData\\Local\\Packages\\PythonSoftwareFoundation.Python.3.10_qbz5n2kfra8p0\\LocalCache\\local-packages\\Python310\\site-packages\\scipy\\__init__.py:155: UserWarning: A NumPy version >=1.18.5 and <1.25.0 is required for this version of SciPy (detected version 1.26.4\n",
      "  warnings.warn(f\"A NumPy version >={np_minversion} and <{np_maxversion}\"\n"
     ]
    }
   ],
   "source": [
    "# Utilities\n",
    "import pandas as pd\n",
    "import warnings\n",
    "import matplotlib.pyplot as plt\n",
    "\n",
    "# Models\n",
    "import optuna\n",
    "from sklearn.model_selection import train_test_split, cross_val_score\n",
    "from sklearn.exceptions import ConvergenceWarning\n",
    "from sklearn.ensemble import RandomForestClassifier\n",
    "from sklearn.linear_model import LogisticRegression\n",
    "from sklearn.model_selection import GridSearchCV\n",
    "from sklearn.metrics import accuracy_score, accuracy_score, f1_score\n",
    "from sklearn.metrics import classification_report, precision_score, recall_score, confusion_matrix, ConfusionMatrixDisplay"
   ]
  },
  {
   "cell_type": "markdown",
   "metadata": {},
   "source": [
    "Set random seed for reproductibility"
   ]
  },
  {
   "cell_type": "code",
   "execution_count": 2,
   "metadata": {},
   "outputs": [],
   "source": [
    "seed = 42"
   ]
  },
  {
   "cell_type": "markdown",
   "metadata": {},
   "source": [
    "Read clean (scaled data)"
   ]
  },
  {
   "cell_type": "code",
   "execution_count": 3,
   "metadata": {},
   "outputs": [],
   "source": [
    "df_scaled = pd.read_csv('CleanedData/dataset_preprocessed.csv')"
   ]
  },
  {
   "cell_type": "markdown",
   "metadata": {},
   "source": [
    "Take sample for (initial) tests"
   ]
  },
  {
   "cell_type": "code",
   "execution_count": 4,
   "metadata": {},
   "outputs": [],
   "source": [
    "df_scaled_sample = df_scaled.sample(n=1000, random_state=seed)\n",
    "#df_scaled_sample = df_scaled"
   ]
  },
  {
   "cell_type": "markdown",
   "metadata": {},
   "source": [
    "Train-Test Split"
   ]
  },
  {
   "cell_type": "code",
   "execution_count": 5,
   "metadata": {},
   "outputs": [],
   "source": [
    "test_size = 0.2\n",
    "X_train, X_test, y_train, y_test = train_test_split(\n",
    "    df_scaled_sample.drop('averageRating', axis=1), \n",
    "    df_scaled_sample['averageRating'], test_size=test_size, \n",
    "    random_state=seed\n",
    ")"
   ]
  },
  {
   "cell_type": "markdown",
   "metadata": {},
   "source": [
    "Save and print metrics"
   ]
  },
  {
   "cell_type": "code",
   "execution_count": 6,
   "metadata": {},
   "outputs": [],
   "source": [
    "def calculate_metrics(model_name, y_true, y_pred):\n",
    "    metrics = {\n",
    "        'Accuracy': accuracy_score(y_true, y_pred),\n",
    "        'Weighted F1': f1_score(y_true, y_pred, average='weighted'),\n",
    "        'Weighted Precision': precision_score(y_true, y_pred, average='weighted'),\n",
    "        'Weighted Recall': recall_score(y_true, y_pred, average='weighted'),\n",
    "        'Macro-Averaged Precision': precision_score(y_true, y_pred, average='macro'),\n",
    "        'Macro-Averaged Recall': recall_score(y_true, y_pred, average='macro'),\n",
    "        'F1': str(f1_score(y_true, y_pred, average=None)),\n",
    "        'Precision': str( precision_score(y_true, y_pred, average=None)),\n",
    "    }\n",
    "    \n",
    "    # Print the metrics\n",
    "    print(f\"Metrics for {model_name}:\")\n",
    "    for metric_name, metric_value in metrics.items():\n",
    "        try:\n",
    "            print(f\"{metric_name}: {metric_value:.4f}\")\n",
    "        except:\n",
    "            print(f\"{metric_name}: {metric_value}\")\n",
    "    \n",
    "    # Print the classification report\n",
    "    print(\"classification report\")\n",
    "    report = classification_report(y_true, y_pred, target_names=['Class 0', 'Class 1', 'Class 2'])\n",
    "    print(report)\n",
    "\n",
    "    print(\"Confusion Matrix\")\n",
    "    cm = confusion_matrix(y_true, y_pred)\n",
    "    cmd = ConfusionMatrixDisplay(confusion_matrix=cm)\n",
    "    cmd.plot()\n",
    "    \n",
    "    plt.title(f'Confusion matrix for model {model_name} (Accuracy:{metrics[\"Accuracy\"]:.4f})')\n",
    "    plt.show()\n",
    "    \n",
    "    # Create df to store metrics\n",
    "    df_metrics = pd.DataFrame(metrics, index=[model_name])\n",
    "    \n",
    "    return df_metrics"
   ]
  },
  {
   "cell_type": "markdown",
   "metadata": {},
   "source": [
    "Model fit"
   ]
  },
  {
   "cell_type": "code",
   "execution_count": 7,
   "metadata": {},
   "outputs": [
    {
     "data": {
      "text/html": [
       "<style>#sk-container-id-1 {\n",
       "  /* Definition of color scheme common for light and dark mode */\n",
       "  --sklearn-color-text: black;\n",
       "  --sklearn-color-line: gray;\n",
       "  /* Definition of color scheme for unfitted estimators */\n",
       "  --sklearn-color-unfitted-level-0: #fff5e6;\n",
       "  --sklearn-color-unfitted-level-1: #f6e4d2;\n",
       "  --sklearn-color-unfitted-level-2: #ffe0b3;\n",
       "  --sklearn-color-unfitted-level-3: chocolate;\n",
       "  /* Definition of color scheme for fitted estimators */\n",
       "  --sklearn-color-fitted-level-0: #f0f8ff;\n",
       "  --sklearn-color-fitted-level-1: #d4ebff;\n",
       "  --sklearn-color-fitted-level-2: #b3dbfd;\n",
       "  --sklearn-color-fitted-level-3: cornflowerblue;\n",
       "\n",
       "  /* Specific color for light theme */\n",
       "  --sklearn-color-text-on-default-background: var(--sg-text-color, var(--theme-code-foreground, var(--jp-content-font-color1, black)));\n",
       "  --sklearn-color-background: var(--sg-background-color, var(--theme-background, var(--jp-layout-color0, white)));\n",
       "  --sklearn-color-border-box: var(--sg-text-color, var(--theme-code-foreground, var(--jp-content-font-color1, black)));\n",
       "  --sklearn-color-icon: #696969;\n",
       "\n",
       "  @media (prefers-color-scheme: dark) {\n",
       "    /* Redefinition of color scheme for dark theme */\n",
       "    --sklearn-color-text-on-default-background: var(--sg-text-color, var(--theme-code-foreground, var(--jp-content-font-color1, white)));\n",
       "    --sklearn-color-background: var(--sg-background-color, var(--theme-background, var(--jp-layout-color0, #111)));\n",
       "    --sklearn-color-border-box: var(--sg-text-color, var(--theme-code-foreground, var(--jp-content-font-color1, white)));\n",
       "    --sklearn-color-icon: #878787;\n",
       "  }\n",
       "}\n",
       "\n",
       "#sk-container-id-1 {\n",
       "  color: var(--sklearn-color-text);\n",
       "}\n",
       "\n",
       "#sk-container-id-1 pre {\n",
       "  padding: 0;\n",
       "}\n",
       "\n",
       "#sk-container-id-1 input.sk-hidden--visually {\n",
       "  border: 0;\n",
       "  clip: rect(1px 1px 1px 1px);\n",
       "  clip: rect(1px, 1px, 1px, 1px);\n",
       "  height: 1px;\n",
       "  margin: -1px;\n",
       "  overflow: hidden;\n",
       "  padding: 0;\n",
       "  position: absolute;\n",
       "  width: 1px;\n",
       "}\n",
       "\n",
       "#sk-container-id-1 div.sk-dashed-wrapped {\n",
       "  border: 1px dashed var(--sklearn-color-line);\n",
       "  margin: 0 0.4em 0.5em 0.4em;\n",
       "  box-sizing: border-box;\n",
       "  padding-bottom: 0.4em;\n",
       "  background-color: var(--sklearn-color-background);\n",
       "}\n",
       "\n",
       "#sk-container-id-1 div.sk-container {\n",
       "  /* jupyter's `normalize.less` sets `[hidden] { display: none; }`\n",
       "     but bootstrap.min.css set `[hidden] { display: none !important; }`\n",
       "     so we also need the `!important` here to be able to override the\n",
       "     default hidden behavior on the sphinx rendered scikit-learn.org.\n",
       "     See: https://github.com/scikit-learn/scikit-learn/issues/21755 */\n",
       "  display: inline-block !important;\n",
       "  position: relative;\n",
       "}\n",
       "\n",
       "#sk-container-id-1 div.sk-text-repr-fallback {\n",
       "  display: none;\n",
       "}\n",
       "\n",
       "div.sk-parallel-item,\n",
       "div.sk-serial,\n",
       "div.sk-item {\n",
       "  /* draw centered vertical line to link estimators */\n",
       "  background-image: linear-gradient(var(--sklearn-color-text-on-default-background), var(--sklearn-color-text-on-default-background));\n",
       "  background-size: 2px 100%;\n",
       "  background-repeat: no-repeat;\n",
       "  background-position: center center;\n",
       "}\n",
       "\n",
       "/* Parallel-specific style estimator block */\n",
       "\n",
       "#sk-container-id-1 div.sk-parallel-item::after {\n",
       "  content: \"\";\n",
       "  width: 100%;\n",
       "  border-bottom: 2px solid var(--sklearn-color-text-on-default-background);\n",
       "  flex-grow: 1;\n",
       "}\n",
       "\n",
       "#sk-container-id-1 div.sk-parallel {\n",
       "  display: flex;\n",
       "  align-items: stretch;\n",
       "  justify-content: center;\n",
       "  background-color: var(--sklearn-color-background);\n",
       "  position: relative;\n",
       "}\n",
       "\n",
       "#sk-container-id-1 div.sk-parallel-item {\n",
       "  display: flex;\n",
       "  flex-direction: column;\n",
       "}\n",
       "\n",
       "#sk-container-id-1 div.sk-parallel-item:first-child::after {\n",
       "  align-self: flex-end;\n",
       "  width: 50%;\n",
       "}\n",
       "\n",
       "#sk-container-id-1 div.sk-parallel-item:last-child::after {\n",
       "  align-self: flex-start;\n",
       "  width: 50%;\n",
       "}\n",
       "\n",
       "#sk-container-id-1 div.sk-parallel-item:only-child::after {\n",
       "  width: 0;\n",
       "}\n",
       "\n",
       "/* Serial-specific style estimator block */\n",
       "\n",
       "#sk-container-id-1 div.sk-serial {\n",
       "  display: flex;\n",
       "  flex-direction: column;\n",
       "  align-items: center;\n",
       "  background-color: var(--sklearn-color-background);\n",
       "  padding-right: 1em;\n",
       "  padding-left: 1em;\n",
       "}\n",
       "\n",
       "\n",
       "/* Toggleable style: style used for estimator/Pipeline/ColumnTransformer box that is\n",
       "clickable and can be expanded/collapsed.\n",
       "- Pipeline and ColumnTransformer use this feature and define the default style\n",
       "- Estimators will overwrite some part of the style using the `sk-estimator` class\n",
       "*/\n",
       "\n",
       "/* Pipeline and ColumnTransformer style (default) */\n",
       "\n",
       "#sk-container-id-1 div.sk-toggleable {\n",
       "  /* Default theme specific background. It is overwritten whether we have a\n",
       "  specific estimator or a Pipeline/ColumnTransformer */\n",
       "  background-color: var(--sklearn-color-background);\n",
       "}\n",
       "\n",
       "/* Toggleable label */\n",
       "#sk-container-id-1 label.sk-toggleable__label {\n",
       "  cursor: pointer;\n",
       "  display: block;\n",
       "  width: 100%;\n",
       "  margin-bottom: 0;\n",
       "  padding: 0.5em;\n",
       "  box-sizing: border-box;\n",
       "  text-align: center;\n",
       "}\n",
       "\n",
       "#sk-container-id-1 label.sk-toggleable__label-arrow:before {\n",
       "  /* Arrow on the left of the label */\n",
       "  content: \"▸\";\n",
       "  float: left;\n",
       "  margin-right: 0.25em;\n",
       "  color: var(--sklearn-color-icon);\n",
       "}\n",
       "\n",
       "#sk-container-id-1 label.sk-toggleable__label-arrow:hover:before {\n",
       "  color: var(--sklearn-color-text);\n",
       "}\n",
       "\n",
       "/* Toggleable content - dropdown */\n",
       "\n",
       "#sk-container-id-1 div.sk-toggleable__content {\n",
       "  max-height: 0;\n",
       "  max-width: 0;\n",
       "  overflow: hidden;\n",
       "  text-align: left;\n",
       "  /* unfitted */\n",
       "  background-color: var(--sklearn-color-unfitted-level-0);\n",
       "}\n",
       "\n",
       "#sk-container-id-1 div.sk-toggleable__content.fitted {\n",
       "  /* fitted */\n",
       "  background-color: var(--sklearn-color-fitted-level-0);\n",
       "}\n",
       "\n",
       "#sk-container-id-1 div.sk-toggleable__content pre {\n",
       "  margin: 0.2em;\n",
       "  border-radius: 0.25em;\n",
       "  color: var(--sklearn-color-text);\n",
       "  /* unfitted */\n",
       "  background-color: var(--sklearn-color-unfitted-level-0);\n",
       "}\n",
       "\n",
       "#sk-container-id-1 div.sk-toggleable__content.fitted pre {\n",
       "  /* unfitted */\n",
       "  background-color: var(--sklearn-color-fitted-level-0);\n",
       "}\n",
       "\n",
       "#sk-container-id-1 input.sk-toggleable__control:checked~div.sk-toggleable__content {\n",
       "  /* Expand drop-down */\n",
       "  max-height: 200px;\n",
       "  max-width: 100%;\n",
       "  overflow: auto;\n",
       "}\n",
       "\n",
       "#sk-container-id-1 input.sk-toggleable__control:checked~label.sk-toggleable__label-arrow:before {\n",
       "  content: \"▾\";\n",
       "}\n",
       "\n",
       "/* Pipeline/ColumnTransformer-specific style */\n",
       "\n",
       "#sk-container-id-1 div.sk-label input.sk-toggleable__control:checked~label.sk-toggleable__label {\n",
       "  color: var(--sklearn-color-text);\n",
       "  background-color: var(--sklearn-color-unfitted-level-2);\n",
       "}\n",
       "\n",
       "#sk-container-id-1 div.sk-label.fitted input.sk-toggleable__control:checked~label.sk-toggleable__label {\n",
       "  background-color: var(--sklearn-color-fitted-level-2);\n",
       "}\n",
       "\n",
       "/* Estimator-specific style */\n",
       "\n",
       "/* Colorize estimator box */\n",
       "#sk-container-id-1 div.sk-estimator input.sk-toggleable__control:checked~label.sk-toggleable__label {\n",
       "  /* unfitted */\n",
       "  background-color: var(--sklearn-color-unfitted-level-2);\n",
       "}\n",
       "\n",
       "#sk-container-id-1 div.sk-estimator.fitted input.sk-toggleable__control:checked~label.sk-toggleable__label {\n",
       "  /* fitted */\n",
       "  background-color: var(--sklearn-color-fitted-level-2);\n",
       "}\n",
       "\n",
       "#sk-container-id-1 div.sk-label label.sk-toggleable__label,\n",
       "#sk-container-id-1 div.sk-label label {\n",
       "  /* The background is the default theme color */\n",
       "  color: var(--sklearn-color-text-on-default-background);\n",
       "}\n",
       "\n",
       "/* On hover, darken the color of the background */\n",
       "#sk-container-id-1 div.sk-label:hover label.sk-toggleable__label {\n",
       "  color: var(--sklearn-color-text);\n",
       "  background-color: var(--sklearn-color-unfitted-level-2);\n",
       "}\n",
       "\n",
       "/* Label box, darken color on hover, fitted */\n",
       "#sk-container-id-1 div.sk-label.fitted:hover label.sk-toggleable__label.fitted {\n",
       "  color: var(--sklearn-color-text);\n",
       "  background-color: var(--sklearn-color-fitted-level-2);\n",
       "}\n",
       "\n",
       "/* Estimator label */\n",
       "\n",
       "#sk-container-id-1 div.sk-label label {\n",
       "  font-family: monospace;\n",
       "  font-weight: bold;\n",
       "  display: inline-block;\n",
       "  line-height: 1.2em;\n",
       "}\n",
       "\n",
       "#sk-container-id-1 div.sk-label-container {\n",
       "  text-align: center;\n",
       "}\n",
       "\n",
       "/* Estimator-specific */\n",
       "#sk-container-id-1 div.sk-estimator {\n",
       "  font-family: monospace;\n",
       "  border: 1px dotted var(--sklearn-color-border-box);\n",
       "  border-radius: 0.25em;\n",
       "  box-sizing: border-box;\n",
       "  margin-bottom: 0.5em;\n",
       "  /* unfitted */\n",
       "  background-color: var(--sklearn-color-unfitted-level-0);\n",
       "}\n",
       "\n",
       "#sk-container-id-1 div.sk-estimator.fitted {\n",
       "  /* fitted */\n",
       "  background-color: var(--sklearn-color-fitted-level-0);\n",
       "}\n",
       "\n",
       "/* on hover */\n",
       "#sk-container-id-1 div.sk-estimator:hover {\n",
       "  /* unfitted */\n",
       "  background-color: var(--sklearn-color-unfitted-level-2);\n",
       "}\n",
       "\n",
       "#sk-container-id-1 div.sk-estimator.fitted:hover {\n",
       "  /* fitted */\n",
       "  background-color: var(--sklearn-color-fitted-level-2);\n",
       "}\n",
       "\n",
       "/* Specification for estimator info (e.g. \"i\" and \"?\") */\n",
       "\n",
       "/* Common style for \"i\" and \"?\" */\n",
       "\n",
       ".sk-estimator-doc-link,\n",
       "a:link.sk-estimator-doc-link,\n",
       "a:visited.sk-estimator-doc-link {\n",
       "  float: right;\n",
       "  font-size: smaller;\n",
       "  line-height: 1em;\n",
       "  font-family: monospace;\n",
       "  background-color: var(--sklearn-color-background);\n",
       "  border-radius: 1em;\n",
       "  height: 1em;\n",
       "  width: 1em;\n",
       "  text-decoration: none !important;\n",
       "  margin-left: 1ex;\n",
       "  /* unfitted */\n",
       "  border: var(--sklearn-color-unfitted-level-1) 1pt solid;\n",
       "  color: var(--sklearn-color-unfitted-level-1);\n",
       "}\n",
       "\n",
       ".sk-estimator-doc-link.fitted,\n",
       "a:link.sk-estimator-doc-link.fitted,\n",
       "a:visited.sk-estimator-doc-link.fitted {\n",
       "  /* fitted */\n",
       "  border: var(--sklearn-color-fitted-level-1) 1pt solid;\n",
       "  color: var(--sklearn-color-fitted-level-1);\n",
       "}\n",
       "\n",
       "/* On hover */\n",
       "div.sk-estimator:hover .sk-estimator-doc-link:hover,\n",
       ".sk-estimator-doc-link:hover,\n",
       "div.sk-label-container:hover .sk-estimator-doc-link:hover,\n",
       ".sk-estimator-doc-link:hover {\n",
       "  /* unfitted */\n",
       "  background-color: var(--sklearn-color-unfitted-level-3);\n",
       "  color: var(--sklearn-color-background);\n",
       "  text-decoration: none;\n",
       "}\n",
       "\n",
       "div.sk-estimator.fitted:hover .sk-estimator-doc-link.fitted:hover,\n",
       ".sk-estimator-doc-link.fitted:hover,\n",
       "div.sk-label-container:hover .sk-estimator-doc-link.fitted:hover,\n",
       ".sk-estimator-doc-link.fitted:hover {\n",
       "  /* fitted */\n",
       "  background-color: var(--sklearn-color-fitted-level-3);\n",
       "  color: var(--sklearn-color-background);\n",
       "  text-decoration: none;\n",
       "}\n",
       "\n",
       "/* Span, style for the box shown on hovering the info icon */\n",
       ".sk-estimator-doc-link span {\n",
       "  display: none;\n",
       "  z-index: 9999;\n",
       "  position: relative;\n",
       "  font-weight: normal;\n",
       "  right: .2ex;\n",
       "  padding: .5ex;\n",
       "  margin: .5ex;\n",
       "  width: min-content;\n",
       "  min-width: 20ex;\n",
       "  max-width: 50ex;\n",
       "  color: var(--sklearn-color-text);\n",
       "  box-shadow: 2pt 2pt 4pt #999;\n",
       "  /* unfitted */\n",
       "  background: var(--sklearn-color-unfitted-level-0);\n",
       "  border: .5pt solid var(--sklearn-color-unfitted-level-3);\n",
       "}\n",
       "\n",
       ".sk-estimator-doc-link.fitted span {\n",
       "  /* fitted */\n",
       "  background: var(--sklearn-color-fitted-level-0);\n",
       "  border: var(--sklearn-color-fitted-level-3);\n",
       "}\n",
       "\n",
       ".sk-estimator-doc-link:hover span {\n",
       "  display: block;\n",
       "}\n",
       "\n",
       "/* \"?\"-specific style due to the `<a>` HTML tag */\n",
       "\n",
       "#sk-container-id-1 a.estimator_doc_link {\n",
       "  float: right;\n",
       "  font-size: 1rem;\n",
       "  line-height: 1em;\n",
       "  font-family: monospace;\n",
       "  background-color: var(--sklearn-color-background);\n",
       "  border-radius: 1rem;\n",
       "  height: 1rem;\n",
       "  width: 1rem;\n",
       "  text-decoration: none;\n",
       "  /* unfitted */\n",
       "  color: var(--sklearn-color-unfitted-level-1);\n",
       "  border: var(--sklearn-color-unfitted-level-1) 1pt solid;\n",
       "}\n",
       "\n",
       "#sk-container-id-1 a.estimator_doc_link.fitted {\n",
       "  /* fitted */\n",
       "  border: var(--sklearn-color-fitted-level-1) 1pt solid;\n",
       "  color: var(--sklearn-color-fitted-level-1);\n",
       "}\n",
       "\n",
       "/* On hover */\n",
       "#sk-container-id-1 a.estimator_doc_link:hover {\n",
       "  /* unfitted */\n",
       "  background-color: var(--sklearn-color-unfitted-level-3);\n",
       "  color: var(--sklearn-color-background);\n",
       "  text-decoration: none;\n",
       "}\n",
       "\n",
       "#sk-container-id-1 a.estimator_doc_link.fitted:hover {\n",
       "  /* fitted */\n",
       "  background-color: var(--sklearn-color-fitted-level-3);\n",
       "}\n",
       "</style><div id=\"sk-container-id-1\" class=\"sk-top-container\"><div class=\"sk-text-repr-fallback\"><pre>LogisticRegression(random_state=42)</pre><b>In a Jupyter environment, please rerun this cell to show the HTML representation or trust the notebook. <br />On GitHub, the HTML representation is unable to render, please try loading this page with nbviewer.org.</b></div><div class=\"sk-container\" hidden><div class=\"sk-item\"><div class=\"sk-estimator fitted sk-toggleable\"><input class=\"sk-toggleable__control sk-hidden--visually\" id=\"sk-estimator-id-1\" type=\"checkbox\" checked><label for=\"sk-estimator-id-1\" class=\"sk-toggleable__label fitted sk-toggleable__label-arrow fitted\">&nbsp;&nbsp;LogisticRegression<a class=\"sk-estimator-doc-link fitted\" rel=\"noreferrer\" target=\"_blank\" href=\"https://scikit-learn.org/1.5/modules/generated/sklearn.linear_model.LogisticRegression.html\">?<span>Documentation for LogisticRegression</span></a><span class=\"sk-estimator-doc-link fitted\">i<span>Fitted</span></span></label><div class=\"sk-toggleable__content fitted\"><pre>LogisticRegression(random_state=42)</pre></div> </div></div></div></div>"
      ],
      "text/plain": [
       "LogisticRegression(random_state=42)"
      ]
     },
     "execution_count": 7,
     "metadata": {},
     "output_type": "execute_result"
    }
   ],
   "source": [
    "model = LogisticRegression(random_state=seed)\n",
    "model.fit(X_train, y_train)"
   ]
  },
  {
   "cell_type": "code",
   "execution_count": 8,
   "metadata": {},
   "outputs": [],
   "source": [
    "predictions = model.predict(X_test)"
   ]
  },
  {
   "cell_type": "code",
   "execution_count": 9,
   "metadata": {},
   "outputs": [
    {
     "name": "stderr",
     "output_type": "stream",
     "text": [
      "C:\\Users\\movil\\AppData\\Local\\Packages\\PythonSoftwareFoundation.Python.3.10_qbz5n2kfra8p0\\LocalCache\\local-packages\\Python310\\site-packages\\sklearn\\metrics\\_classification.py:1517: UndefinedMetricWarning: Precision is ill-defined and being set to 0.0 in labels with no predicted samples. Use `zero_division` parameter to control this behavior.\n",
      "  _warn_prf(average, modifier, f\"{metric.capitalize()} is\", len(result))\n",
      "C:\\Users\\movil\\AppData\\Local\\Packages\\PythonSoftwareFoundation.Python.3.10_qbz5n2kfra8p0\\LocalCache\\local-packages\\Python310\\site-packages\\sklearn\\metrics\\_classification.py:1517: UndefinedMetricWarning: Precision is ill-defined and being set to 0.0 in labels with no predicted samples. Use `zero_division` parameter to control this behavior.\n",
      "  _warn_prf(average, modifier, f\"{metric.capitalize()} is\", len(result))\n",
      "C:\\Users\\movil\\AppData\\Local\\Packages\\PythonSoftwareFoundation.Python.3.10_qbz5n2kfra8p0\\LocalCache\\local-packages\\Python310\\site-packages\\sklearn\\metrics\\_classification.py:1517: UndefinedMetricWarning: Precision is ill-defined and being set to 0.0 in labels with no predicted samples. Use `zero_division` parameter to control this behavior.\n",
      "  _warn_prf(average, modifier, f\"{metric.capitalize()} is\", len(result))\n",
      "C:\\Users\\movil\\AppData\\Local\\Packages\\PythonSoftwareFoundation.Python.3.10_qbz5n2kfra8p0\\LocalCache\\local-packages\\Python310\\site-packages\\sklearn\\metrics\\_classification.py:1517: UndefinedMetricWarning: Precision is ill-defined and being set to 0.0 in labels with no predicted samples. Use `zero_division` parameter to control this behavior.\n",
      "  _warn_prf(average, modifier, f\"{metric.capitalize()} is\", len(result))\n",
      "C:\\Users\\movil\\AppData\\Local\\Packages\\PythonSoftwareFoundation.Python.3.10_qbz5n2kfra8p0\\LocalCache\\local-packages\\Python310\\site-packages\\sklearn\\metrics\\_classification.py:1517: UndefinedMetricWarning: Precision is ill-defined and being set to 0.0 in labels with no predicted samples. Use `zero_division` parameter to control this behavior.\n",
      "  _warn_prf(average, modifier, f\"{metric.capitalize()} is\", len(result))\n",
      "C:\\Users\\movil\\AppData\\Local\\Packages\\PythonSoftwareFoundation.Python.3.10_qbz5n2kfra8p0\\LocalCache\\local-packages\\Python310\\site-packages\\sklearn\\metrics\\_classification.py:1517: UndefinedMetricWarning: Precision is ill-defined and being set to 0.0 in labels with no predicted samples. Use `zero_division` parameter to control this behavior.\n",
      "  _warn_prf(average, modifier, f\"{metric.capitalize()} is\", len(result))\n"
     ]
    },
    {
     "name": "stdout",
     "output_type": "stream",
     "text": [
      "Metrics for LR_original:\n",
      "Accuracy: 0.7650\n",
      "Weighted F1: 0.7465\n",
      "Weighted Precision: 0.7628\n",
      "Weighted Recall: 0.7650\n",
      "Macro-Averaged Precision: 0.5285\n",
      "Macro-Averaged Recall: 0.5034\n",
      "F1: [0.         0.81853282 0.69117647]\n",
      "Precision: [0.         0.73103448 0.85454545]\n",
      "classification report\n",
      "              precision    recall  f1-score   support\n",
      "\n",
      "     Class 0       0.00      0.00      0.00         5\n",
      "     Class 1       0.73      0.93      0.82       114\n",
      "     Class 2       0.85      0.58      0.69        81\n",
      "\n",
      "    accuracy                           0.77       200\n",
      "   macro avg       0.53      0.50      0.50       200\n",
      "weighted avg       0.76      0.77      0.75       200\n",
      "\n",
      "Confusion Matrix\n"
     ]
    },
    {
     "data": {
      "image/png": "[encoded data removed]",
      "text/plain": [
       "<Figure size 432x288 with 2 Axes>"
      ]
     },
     "metadata": {
      "needs_background": "light"
     },
     "output_type": "display_data"
    }
   ],
   "source": [
    "model_metrics = calculate_metrics('LR_original', y_test, predictions)"
   ]
  },
  {
   "cell_type": "code",
   "execution_count": 10,
   "metadata": {},
   "outputs": [],
   "source": [
    "# Apar warning-uri ptc nu converge daca max_iter e mic (<100)\n",
    "# Maximu pe care l-am pus e 10k si acolo nu apare niciun warning dar am lasat ca lista\n",
    "# Ptc modelele cele mai bune sunt la la max_iter <500\n",
    "warnings.filterwarnings(action='ignore')"
   ]
  },
  {
   "cell_type": "markdown",
   "metadata": {},
   "source": [
    "## Grid Search with Cross-Validation"
   ]
  },
  {
   "cell_type": "code",
   "execution_count": 11,
   "metadata": {},
   "outputs": [],
   "source": [
    "# Define the hyperparameters to tune\n",
    "param_grid = {\n",
    "    'penalty': ['l1', 'l2'],\n",
    "    'C': [0.001, 0.01, 0.1, 1, 10, 100],\n",
    "    'max_iter': [10, 100, 200, 500, 100, 1000, 5000],\n",
    "    'solver': ['liblinear', 'saga']\n",
    "}\n",
    "\n",
    "# Perform grid search cross-validation\n",
    "grid_search_cv = GridSearchCV(estimator=LogisticRegression(random_state=seed),\n",
    "                               param_grid=param_grid, cv=5, scoring='accuracy')\n",
    "grid_search_cv.fit(X_train, y_train)\n",
    "\n",
    "# Get the best hyperparameters and model\n",
    "best_params_cv = grid_search_cv.best_params_\n",
    "best_model_cv = grid_search_cv.best_estimator_"
   ]
  },
  {
   "cell_type": "markdown",
   "metadata": {},
   "source": [
    "Results of the best model "
   ]
  },
  {
   "cell_type": "code",
   "execution_count": 12,
   "metadata": {},
   "outputs": [
    {
     "name": "stdout",
     "output_type": "stream",
     "text": [
      "Best Hyperparameters: {'C': 100, 'max_iter': 10, 'penalty': 'l2', 'solver': 'liblinear'}\n",
      "Accuracy: 0.78\n"
     ]
    }
   ],
   "source": [
    "accuracy_cv = best_model_cv.score(X_test, y_test)\n",
    "\n",
    "print(\"Best Hyperparameters:\", best_params_cv)\n",
    "print(\"Accuracy:\", accuracy_cv)"
   ]
  },
  {
   "cell_type": "markdown",
   "metadata": {},
   "source": [
    "Results of best models Grid Search CV"
   ]
  },
  {
   "cell_type": "code",
   "execution_count": 13,
   "metadata": {},
   "outputs": [
    {
     "name": "stdout",
     "output_type": "stream",
     "text": [
      "                                                params  mean_test_score\n",
      "154  {'C': 100, 'max_iter': 500, 'penalty': 'l2', '...          0.75625\n",
      "166  {'C': 100, 'max_iter': 5000, 'penalty': 'l2', ...          0.75625\n",
      "142  {'C': 100, 'max_iter': 10, 'penalty': 'l2', 's...          0.75625\n",
      "164  {'C': 100, 'max_iter': 5000, 'penalty': 'l1', ...          0.75625\n",
      "144  {'C': 100, 'max_iter': 100, 'penalty': 'l1', '...          0.75625\n"
     ]
    }
   ],
   "source": [
    "df_cv = pd.DataFrame(grid_search_cv.cv_results_)\n",
    "\n",
    "# Show top parameters for LR with Cross Validation Grid Serach\n",
    "df_results_cv = df_cv[['params', 'mean_test_score']]\n",
    "df_results_cv_sorted = df_results_cv.sort_values(by='mean_test_score', ascending=False)\n",
    "\n",
    "print(df_results_cv_sorted.head(5))"
   ]
  },
  {
   "cell_type": "code",
   "execution_count": 14,
   "metadata": {},
   "outputs": [
    {
     "name": "stdout",
     "output_type": "stream",
     "text": [
      "Metrics for LR_CV1_best:\n",
      "Accuracy: 0.7800\n",
      "Weighted F1: 0.7676\n",
      "Weighted Precision: 0.7625\n",
      "Weighted Recall: 0.7800\n",
      "Macro-Averaged Precision: 0.5231\n",
      "Macro-Averaged Recall: 0.5229\n",
      "F1: [0.         0.81967213 0.74172185]\n",
      "Precision: [0.         0.76923077 0.8       ]\n",
      "classification report\n",
      "              precision    recall  f1-score   support\n",
      "\n",
      "     Class 0       0.00      0.00      0.00         5\n",
      "     Class 1       0.77      0.88      0.82       114\n",
      "     Class 2       0.80      0.69      0.74        81\n",
      "\n",
      "    accuracy                           0.78       200\n",
      "   macro avg       0.52      0.52      0.52       200\n",
      "weighted avg       0.76      0.78      0.77       200\n",
      "\n",
      "Confusion Matrix\n"
     ]
    },
    {
     "data": {
      "image/png": "[encoded data removed]",
      "text/plain": [
       "<Figure size 432x288 with 2 Axes>"
      ]
     },
     "metadata": {
      "needs_background": "light"
     },
     "output_type": "display_data"
    }
   ],
   "source": [
    "# Use best parameters to make predictions\n",
    "predictions_cv = best_model_cv.predict(X_test)\n",
    "model_metrics = pd.concat([model_metrics, calculate_metrics('LR_CV1_best', y_test, predictions_cv)])"
   ]
  },
  {
   "cell_type": "markdown",
   "metadata": {},
   "source": [
    "## Grid Search Stratified K Fold Validation"
   ]
  },
  {
   "cell_type": "code",
   "execution_count": 15,
   "metadata": {},
   "outputs": [
    {
     "name": "stdout",
     "output_type": "stream",
     "text": [
      "Best Hyperparameters with Stratified K-Fold: {'C': 1, 'max_iter': 10, 'penalty': 'l1', 'solver': 'liblinear'}\n",
      "Accuracy with Stratified K-Fold: 0.79\n"
     ]
    }
   ],
   "source": [
    "from sklearn.model_selection import StratifiedKFold\n",
    "\n",
    "skf = StratifiedKFold(n_splits=5, shuffle=True, random_state=seed)\n",
    "\n",
    "grid_search_skf = GridSearchCV(estimator=LogisticRegression(random_state=seed), \n",
    "                           param_grid=param_grid, cv=skf, scoring='accuracy')\n",
    "grid_search_skf.fit(X_train, y_train)\n",
    "\n",
    "# Get the best hyperparameters and model\n",
    "best_params_skf = grid_search_skf.best_params_\n",
    "best_model_skf = grid_search_skf.best_estimator_\n",
    "\n",
    "# Evaluate the best model on the test set\n",
    "accuracy = best_model_skf.score(X_test, y_test)\n",
    "\n",
    "print(\"Best Hyperparameters with Stratified K-Fold:\", best_params_skf)\n",
    "print(\"Accuracy with Stratified K-Fold:\", accuracy)\n"
   ]
  },
  {
   "cell_type": "markdown",
   "metadata": {},
   "source": [
    "Results of the best model "
   ]
  },
  {
   "cell_type": "code",
   "execution_count": 16,
   "metadata": {},
   "outputs": [
    {
     "name": "stdout",
     "output_type": "stream",
     "text": [
      "Best Hyperparameters: {'C': 1, 'max_iter': 10, 'penalty': 'l1', 'solver': 'liblinear'}\n",
      "Accuracy: 0.79\n"
     ]
    }
   ],
   "source": [
    "accuracy_skf = best_model_skf.score(X_test, y_test)\n",
    "\n",
    "print(\"Best Hyperparameters:\", best_params_skf)\n",
    "print(\"Accuracy:\", accuracy_skf)"
   ]
  },
  {
   "cell_type": "markdown",
   "metadata": {},
   "source": [
    "Results of best models Grid Search CV"
   ]
  },
  {
   "cell_type": "code",
   "execution_count": 17,
   "metadata": {},
   "outputs": [
    {
     "name": "stdout",
     "output_type": "stream",
     "text": [
      "                                                params  mean_test_score\n",
      "84   {'C': 1, 'max_iter': 10, 'penalty': 'l1', 'sol...          0.74250\n",
      "108  {'C': 1, 'max_iter': 5000, 'penalty': 'l1', 's...          0.74125\n",
      "92   {'C': 1, 'max_iter': 200, 'penalty': 'l1', 'so...          0.74125\n",
      "96   {'C': 1, 'max_iter': 500, 'penalty': 'l1', 'so...          0.74125\n",
      "100  {'C': 1, 'max_iter': 100, 'penalty': 'l1', 'so...          0.74125\n"
     ]
    }
   ],
   "source": [
    "df_skf = pd.DataFrame(grid_search_skf.cv_results_)\n",
    "\n",
    "# Show top parameters for LR with Cross Validation Grid Serach\n",
    "df_results_skf = df_skf[['params', 'mean_test_score']]\n",
    "df_results_skf_sorted = df_results_skf.sort_values(by='mean_test_score', ascending=False)\n",
    "\n",
    "print(df_results_skf_sorted.head(5))"
   ]
  },
  {
   "cell_type": "code",
   "execution_count": 18,
   "metadata": {},
   "outputs": [
    {
     "name": "stdout",
     "output_type": "stream",
     "text": [
      "Metrics for LR_skf_best:\n",
      "Accuracy: 0.7900\n",
      "Weighted F1: 0.7745\n",
      "Weighted Precision: 0.7826\n",
      "Weighted Recall: 0.7900\n",
      "Macro-Averaged Precision: 0.5413\n",
      "Macro-Averaged Recall: 0.5239\n",
      "F1: [0.         0.83464567 0.73758865]\n",
      "Precision: [0.         0.75714286 0.86666667]\n",
      "classification report\n",
      "              precision    recall  f1-score   support\n",
      "\n",
      "     Class 0       0.00      0.00      0.00         5\n",
      "     Class 1       0.76      0.93      0.83       114\n",
      "     Class 2       0.87      0.64      0.74        81\n",
      "\n",
      "    accuracy                           0.79       200\n",
      "   macro avg       0.54      0.52      0.52       200\n",
      "weighted avg       0.78      0.79      0.77       200\n",
      "\n",
      "Confusion Matrix\n"
     ]
    },
    {
     "data": {
      "image/png": "[encoded data removed]",
      "text/plain": [
       "<Figure size 432x288 with 2 Axes>"
      ]
     },
     "metadata": {
      "needs_background": "light"
     },
     "output_type": "display_data"
    }
   ],
   "source": [
    "# Use best parameters to make predictions\n",
    "predictions_skf = best_model_skf.predict(X_test)\n",
    "model_metrics = pd.concat([model_metrics, calculate_metrics('LR_skf_best', y_test, predictions_skf)])"
   ]
  },
  {
   "cell_type": "markdown",
   "metadata": {},
   "source": [
    "Next maybe add elastic search as penalty? only works with saga solver"
   ]
  },
  {
   "cell_type": "markdown",
   "metadata": {},
   "source": [
    "# Tune with Optuna"
   ]
  },
  {
   "cell_type": "code",
   "execution_count": 19,
   "metadata": {},
   "outputs": [],
   "source": [
    "def objective(trial):\n",
    "    # Define the hyperparameters to optimize\n",
    "    penalty = trial.suggest_categorical('penalty', ['l1', 'l2'])\n",
    "    C = trial.suggest_loguniform('C', 0.01, 10.0)\n",
    "    max_iter = trial.suggest_int('max_iter', 100, 1000)\n",
    "    solver= trial.suggest_categorical('solver', ['liblinear', 'saga'])\n",
    "    \n",
    "    # Create the logistic regression model with the hyperparameters\n",
    "    model = LogisticRegression(penalty=penalty, C=C, max_iter=max_iter,\n",
    "     solver=solver, random_state=seed)\n",
    "    \n",
    "    # Train the model\n",
    "    model.fit(X_train, y_train)\n",
    "    \n",
    "    # Make predictions on the test set\n",
    "    y_pred = model.predict(X_test)\n",
    "    \n",
    "    # Calculate the accuracy score\n",
    "    accuracy = accuracy_score(y_test, y_pred)\n",
    "    #score_cross_val = cross_val_score(model, X_train, y_train, cv=5, scoring='precision')\n",
    "\n",
    "    \n",
    "    return accuracy"
   ]
  },
  {
   "cell_type": "code",
   "execution_count": 20,
   "metadata": {},
   "outputs": [
    {
     "name": "stderr",
     "output_type": "stream",
     "text": [
      "[I 2024-06-04 23:06:33,455] A new study created in memory with name: no-name-606132d9-d2ca-46ef-b4d4-191a62c70eed\n",
      "[I 2024-06-04 23:06:33,490] Trial 0 finished with value: 0.76 and parameters: {'penalty': 'l2', 'C': 1.5702970884055387, 'max_iter': 639, 'solver': 'liblinear'}. Best is trial 0 with value: 0.76.\n",
      "[I 2024-06-04 23:06:33,560] Trial 1 finished with value: 0.745 and parameters: {'penalty': 'l2', 'C': 0.6358358856676253, 'max_iter': 737, 'solver': 'saga'}. Best is trial 0 with value: 0.76.\n",
      "[I 2024-06-04 23:06:33,591] Trial 2 finished with value: 0.57 and parameters: {'penalty': 'l1', 'C': 0.035113563139704075, 'max_iter': 265, 'solver': 'saga'}. Best is trial 0 with value: 0.76.\n",
      "[I 2024-06-04 23:06:33,775] Trial 3 finished with value: 0.77 and parameters: {'penalty': 'l1', 'C': 0.6847920095574779, 'max_iter': 225, 'solver': 'saga'}. Best is trial 3 with value: 0.77.\n",
      "[I 2024-06-04 23:06:33,784] Trial 4 finished with value: 0.685 and parameters: {'penalty': 'l2', 'C': 0.039721107273819126, 'max_iter': 563, 'solver': 'liblinear'}. Best is trial 3 with value: 0.77.\n",
      "[I 2024-06-04 23:06:33,791] Trial 5 finished with value: 0.57 and parameters: {'penalty': 'l1', 'C': 0.015673095467235415, 'max_iter': 954, 'solver': 'liblinear'}. Best is trial 3 with value: 0.77.\n",
      "[I 2024-06-04 23:06:34,152] Trial 6 finished with value: 0.775 and parameters: {'penalty': 'l1', 'C': 1.1290133559092674, 'max_iter': 496, 'solver': 'saga'}. Best is trial 6 with value: 0.775.\n",
      "[I 2024-06-04 23:06:34,169] Trial 7 finished with value: 0.715 and parameters: {'penalty': 'l2', 'C': 0.059750279999602945, 'max_iter': 696, 'solver': 'saga'}. Best is trial 6 with value: 0.775.\n",
      "[I 2024-06-04 23:06:34,276] Trial 8 finished with value: 0.785 and parameters: {'penalty': 'l1', 'C': 8.10501612641158, 'max_iter': 798, 'solver': 'liblinear'}. Best is trial 8 with value: 0.785.\n",
      "[I 2024-06-04 23:06:34,293] Trial 9 finished with value: 0.685 and parameters: {'penalty': 'l2', 'C': 0.01842797040686454, 'max_iter': 276, 'solver': 'saga'}. Best is trial 8 with value: 0.785.\n",
      "[I 2024-06-04 23:06:34,613] Trial 10 finished with value: 0.8 and parameters: {'penalty': 'l1', 'C': 3.063462210622083, 'max_iter': 421, 'solver': 'saga'}. Best is trial 10 with value: 0.8.\n",
      "[I 2024-06-04 23:06:34,621] Trial 11 finished with value: 0.675 and parameters: {'penalty': 'l2', 'C': 0.01673601016782578, 'max_iter': 989, 'solver': 'liblinear'}. Best is trial 10 with value: 0.8.\n",
      "[I 2024-06-04 23:06:34,631] Trial 12 finished with value: 0.755 and parameters: {'penalty': 'l2', 'C': 1.3199942261535018, 'max_iter': 756, 'solver': 'liblinear'}. Best is trial 10 with value: 0.8.\n",
      "[I 2024-06-04 23:06:34,686] Trial 13 finished with value: 0.805 and parameters: {'penalty': 'l1', 'C': 3.8842777547031417, 'max_iter': 661, 'solver': 'liblinear'}. Best is trial 13 with value: 0.805.\n",
      "[I 2024-06-04 23:06:34,695] Trial 14 finished with value: 0.76 and parameters: {'penalty': 'l2', 'C': 1.5446089075047076, 'max_iter': 674, 'solver': 'liblinear'}. Best is trial 13 with value: 0.805.\n",
      "[I 2024-06-04 23:06:34,705] Trial 15 finished with value: 0.77 and parameters: {'penalty': 'l2', 'C': 1.9158219548093167, 'max_iter': 605, 'solver': 'liblinear'}. Best is trial 13 with value: 0.805.\n",
      "[I 2024-06-04 23:06:34,716] Trial 16 finished with value: 0.57 and parameters: {'penalty': 'l1', 'C': 0.011919481947918732, 'max_iter': 197, 'solver': 'saga'}. Best is trial 13 with value: 0.805.\n",
      "[I 2024-06-04 23:06:34,768] Trial 17 finished with value: 0.79 and parameters: {'penalty': 'l2', 'C': 5.280796376895363, 'max_iter': 324, 'solver': 'saga'}. Best is trial 13 with value: 0.805.\n",
      "[I 2024-06-04 23:06:34,777] Trial 18 finished with value: 0.64 and parameters: {'penalty': 'l1', 'C': 0.07400385759087375, 'max_iter': 245, 'solver': 'liblinear'}. Best is trial 13 with value: 0.805.\n",
      "[I 2024-06-04 23:06:34,787] Trial 19 finished with value: 0.765 and parameters: {'penalty': 'l2', 'C': 2.5764174425233164, 'max_iter': 268, 'solver': 'liblinear'}. Best is trial 13 with value: 0.805.\n",
      "[I 2024-06-04 23:06:34,804] Trial 20 finished with value: 0.725 and parameters: {'penalty': 'l2', 'C': 0.08995191735587167, 'max_iter': 199, 'solver': 'saga'}. Best is trial 13 with value: 0.805.\n",
      "[I 2024-06-04 23:06:34,811] Trial 21 finished with value: 0.665 and parameters: {'penalty': 'l2', 'C': 0.010491954332267909, 'max_iter': 560, 'solver': 'liblinear'}. Best is trial 13 with value: 0.805.\n",
      "[I 2024-06-04 23:06:34,873] Trial 22 finished with value: 0.795 and parameters: {'penalty': 'l2', 'C': 6.741074265640696, 'max_iter': 391, 'solver': 'saga'}. Best is trial 13 with value: 0.805.\n",
      "[I 2024-06-04 23:06:34,885] Trial 23 finished with value: 0.795 and parameters: {'penalty': 'l2', 'C': 7.715105777813049, 'max_iter': 326, 'solver': 'liblinear'}. Best is trial 13 with value: 0.805.\n",
      "[I 2024-06-04 23:06:35,108] Trial 24 finished with value: 0.77 and parameters: {'penalty': 'l1', 'C': 0.6740513796374044, 'max_iter': 552, 'solver': 'saga'}. Best is trial 13 with value: 0.805.\n",
      "[I 2024-06-04 23:06:35,115] Trial 25 finished with value: 0.57 and parameters: {'penalty': 'l1', 'C': 0.027207248059486704, 'max_iter': 540, 'solver': 'liblinear'}. Best is trial 13 with value: 0.805.\n",
      "[I 2024-06-04 23:06:35,132] Trial 26 finished with value: 0.715 and parameters: {'penalty': 'l2', 'C': 0.0516312491048802, 'max_iter': 756, 'solver': 'saga'}. Best is trial 13 with value: 0.805.\n",
      "[I 2024-06-04 23:06:35,138] Trial 27 finished with value: 0.57 and parameters: {'penalty': 'l1', 'C': 0.01865818136012486, 'max_iter': 852, 'solver': 'liblinear'}. Best is trial 13 with value: 0.805.\n",
      "[I 2024-06-04 23:06:35,149] Trial 28 finished with value: 0.745 and parameters: {'penalty': 'l2', 'C': 1.0781845035122266, 'max_iter': 114, 'solver': 'liblinear'}. Best is trial 13 with value: 0.805.\n",
      "[I 2024-06-04 23:06:35,187] Trial 29 finished with value: 0.785 and parameters: {'penalty': 'l1', 'C': 1.182532850842265, 'max_iter': 448, 'solver': 'liblinear'}. Best is trial 13 with value: 0.805.\n",
      "[I 2024-06-04 23:06:35,869] Trial 30 finished with value: 0.79 and parameters: {'penalty': 'l1', 'C': 5.94402811341093, 'max_iter': 890, 'solver': 'saga'}. Best is trial 13 with value: 0.805.\n",
      "[I 2024-06-04 23:06:35,966] Trial 31 finished with value: 0.75 and parameters: {'penalty': 'l1', 'C': 0.3881072316409482, 'max_iter': 317, 'solver': 'saga'}. Best is trial 13 with value: 0.805.\n",
      "[I 2024-06-04 23:06:36,000] Trial 32 finished with value: 0.665 and parameters: {'penalty': 'l1', 'C': 0.10401341922663464, 'max_iter': 414, 'solver': 'saga'}. Best is trial 13 with value: 0.805.\n",
      "[I 2024-06-04 23:06:36,134] Trial 33 finished with value: 0.77 and parameters: {'penalty': 'l1', 'C': 0.8435191341743051, 'max_iter': 175, 'solver': 'saga'}. Best is trial 13 with value: 0.805.\n",
      "[I 2024-06-04 23:06:36,144] Trial 34 finished with value: 0.57 and parameters: {'penalty': 'l1', 'C': 0.020156477059365012, 'max_iter': 697, 'solver': 'saga'}. Best is trial 13 with value: 0.805.\n",
      "[I 2024-06-04 23:06:36,153] Trial 35 finished with value: 0.735 and parameters: {'penalty': 'l2', 'C': 0.9034076805537772, 'max_iter': 302, 'solver': 'liblinear'}. Best is trial 13 with value: 0.805.\n",
      "[I 2024-06-04 23:06:36,163] Trial 36 finished with value: 0.735 and parameters: {'penalty': 'l2', 'C': 0.8889937283707159, 'max_iter': 865, 'solver': 'liblinear'}. Best is trial 13 with value: 0.805.\n",
      "[I 2024-06-04 23:06:36,172] Trial 37 finished with value: 0.7 and parameters: {'penalty': 'l2', 'C': 0.0624607368131809, 'max_iter': 319, 'solver': 'liblinear'}. Best is trial 13 with value: 0.805.\n",
      "[I 2024-06-04 23:06:36,203] Trial 38 finished with value: 0.795 and parameters: {'penalty': 'l1', 'C': 2.423449144702316, 'max_iter': 552, 'solver': 'liblinear'}. Best is trial 13 with value: 0.805.\n",
      "[I 2024-06-04 23:06:36,210] Trial 39 finished with value: 0.71 and parameters: {'penalty': 'l2', 'C': 0.06955319544158291, 'max_iter': 121, 'solver': 'liblinear'}. Best is trial 13 with value: 0.805.\n",
      "[I 2024-06-04 23:06:36,265] Trial 40 finished with value: 0.79 and parameters: {'penalty': 'l2', 'C': 5.553837526912236, 'max_iter': 433, 'solver': 'saga'}. Best is trial 13 with value: 0.805.\n",
      "[I 2024-06-04 23:06:36,331] Trial 41 finished with value: 0.79 and parameters: {'penalty': 'l2', 'C': 7.777856590163644, 'max_iter': 868, 'solver': 'saga'}. Best is trial 13 with value: 0.805.\n",
      "[I 2024-06-04 23:06:36,338] Trial 42 finished with value: 0.57 and parameters: {'penalty': 'l1', 'C': 0.032246177486423735, 'max_iter': 601, 'solver': 'liblinear'}. Best is trial 13 with value: 0.805.\n",
      "[I 2024-06-04 23:06:36,569] Trial 43 finished with value: 0.775 and parameters: {'penalty': 'l1', 'C': 0.6998769331752381, 'max_iter': 992, 'solver': 'saga'}. Best is trial 13 with value: 0.805.\n",
      "[I 2024-06-04 23:06:36,610] Trial 44 finished with value: 0.785 and parameters: {'penalty': 'l1', 'C': 1.2332389221028008, 'max_iter': 732, 'solver': 'liblinear'}. Best is trial 13 with value: 0.805.\n",
      "[I 2024-06-04 23:06:36,621] Trial 45 finished with value: 0.775 and parameters: {'penalty': 'l2', 'C': 3.9922428866315034, 'max_iter': 922, 'solver': 'liblinear'}. Best is trial 13 with value: 0.805.\n",
      "[I 2024-06-04 23:06:36,666] Trial 46 finished with value: 0.78 and parameters: {'penalty': 'l1', 'C': 1.2761467881730217, 'max_iter': 817, 'solver': 'liblinear'}. Best is trial 13 with value: 0.805.\n",
      "[I 2024-06-04 23:06:36,767] Trial 47 finished with value: 0.76 and parameters: {'penalty': 'l1', 'C': 0.543050756450092, 'max_iter': 132, 'solver': 'saga'}. Best is trial 13 with value: 0.805.\n",
      "[I 2024-06-04 23:06:36,773] Trial 48 finished with value: 0.665 and parameters: {'penalty': 'l2', 'C': 0.012345274466024474, 'max_iter': 133, 'solver': 'liblinear'}. Best is trial 13 with value: 0.805.\n",
      "[I 2024-06-04 23:06:36,784] Trial 49 finished with value: 0.77 and parameters: {'penalty': 'l2', 'C': 2.0416470207182766, 'max_iter': 294, 'solver': 'liblinear'}. Best is trial 13 with value: 0.805.\n",
      "[I 2024-06-04 23:06:36,807] Trial 50 finished with value: 0.735 and parameters: {'penalty': 'l2', 'C': 0.4187023176257686, 'max_iter': 674, 'solver': 'saga'}. Best is trial 13 with value: 0.805.\n",
      "[I 2024-06-04 23:06:36,836] Trial 51 finished with value: 0.795 and parameters: {'penalty': 'l1', 'C': 2.4297331796223, 'max_iter': 344, 'solver': 'liblinear'}. Best is trial 13 with value: 0.805.\n",
      "[I 2024-06-04 23:06:36,846] Trial 52 finished with value: 0.765 and parameters: {'penalty': 'l2', 'C': 3.220626495993124, 'max_iter': 727, 'solver': 'liblinear'}. Best is trial 13 with value: 0.805.\n",
      "[I 2024-06-04 23:06:36,855] Trial 53 finished with value: 0.74 and parameters: {'penalty': 'l2', 'C': 0.44430376569555396, 'max_iter': 743, 'solver': 'liblinear'}. Best is trial 13 with value: 0.805.\n",
      "[I 2024-06-04 23:06:36,883] Trial 54 finished with value: 0.75 and parameters: {'penalty': 'l1', 'C': 0.46032245160252633, 'max_iter': 651, 'solver': 'liblinear'}. Best is trial 13 with value: 0.805.\n",
      "[I 2024-06-04 23:06:36,890] Trial 55 finished with value: 0.66 and parameters: {'penalty': 'l2', 'C': 0.011045375019318382, 'max_iter': 204, 'solver': 'liblinear'}. Best is trial 13 with value: 0.805.\n",
      "[I 2024-06-04 23:06:36,902] Trial 56 finished with value: 0.735 and parameters: {'penalty': 'l1', 'C': 0.2645583585038549, 'max_iter': 188, 'solver': 'liblinear'}. Best is trial 13 with value: 0.805.\n",
      "[I 2024-06-04 23:06:36,910] Trial 57 finished with value: 0.725 and parameters: {'penalty': 'l2', 'C': 0.1568607196662889, 'max_iter': 654, 'solver': 'liblinear'}. Best is trial 13 with value: 0.805.\n",
      "[I 2024-06-04 23:06:36,918] Trial 58 finished with value: 0.745 and parameters: {'penalty': 'l2', 'C': 0.3231534343074976, 'max_iter': 871, 'solver': 'liblinear'}. Best is trial 13 with value: 0.805.\n",
      "[I 2024-06-04 23:06:36,926] Trial 59 finished with value: 0.665 and parameters: {'penalty': 'l2', 'C': 0.012009749020630274, 'max_iter': 627, 'solver': 'liblinear'}. Best is trial 13 with value: 0.805.\n",
      "[I 2024-06-04 23:06:36,934] Trial 60 finished with value: 0.74 and parameters: {'penalty': 'l2', 'C': 0.23700563480372555, 'max_iter': 591, 'solver': 'liblinear'}. Best is trial 13 with value: 0.805.\n",
      "[I 2024-06-04 23:06:36,941] Trial 61 finished with value: 0.64 and parameters: {'penalty': 'l1', 'C': 0.038669931642850285, 'max_iter': 162, 'solver': 'liblinear'}. Best is trial 13 with value: 0.805.\n",
      "[I 2024-06-04 23:06:36,948] Trial 62 finished with value: 0.675 and parameters: {'penalty': 'l2', 'C': 0.016351814261589406, 'max_iter': 387, 'solver': 'liblinear'}. Best is trial 13 with value: 0.805.\n",
      "[I 2024-06-04 23:06:36,959] Trial 63 finished with value: 0.57 and parameters: {'penalty': 'l1', 'C': 0.022620098037544993, 'max_iter': 727, 'solver': 'saga'}. Best is trial 13 with value: 0.805.\n",
      "[I 2024-06-04 23:06:36,977] Trial 64 finished with value: 0.72 and parameters: {'penalty': 'l2', 'C': 0.07016228391812, 'max_iter': 259, 'solver': 'saga'}. Best is trial 13 with value: 0.805.\n",
      "[I 2024-06-04 23:06:37,008] Trial 65 finished with value: 0.665 and parameters: {'penalty': 'l1', 'C': 0.1306334081168228, 'max_iter': 799, 'solver': 'saga'}. Best is trial 13 with value: 0.805.\n",
      "[I 2024-06-04 23:06:37,594] Trial 66 finished with value: 0.79 and parameters: {'penalty': 'l1', 'C': 1.789011792871036, 'max_iter': 779, 'solver': 'saga'}. Best is trial 13 with value: 0.805.\n",
      "[I 2024-06-04 23:06:37,604] Trial 67 finished with value: 0.715 and parameters: {'penalty': 'l2', 'C': 0.09123233767937085, 'max_iter': 906, 'solver': 'liblinear'}. Best is trial 13 with value: 0.805.\n",
      "[I 2024-06-04 23:06:37,611] Trial 68 finished with value: 0.665 and parameters: {'penalty': 'l1', 'C': 0.0907697026535511, 'max_iter': 956, 'solver': 'liblinear'}. Best is trial 13 with value: 0.805.\n",
      "[I 2024-06-04 23:06:37,636] Trial 69 finished with value: 0.64 and parameters: {'penalty': 'l1', 'C': 0.07579356154838335, 'max_iter': 396, 'solver': 'saga'}. Best is trial 13 with value: 0.805.\n",
      "[I 2024-06-04 23:06:37,645] Trial 70 finished with value: 0.57 and parameters: {'penalty': 'l1', 'C': 0.01877665856576686, 'max_iter': 545, 'solver': 'saga'}. Best is trial 13 with value: 0.805.\n",
      "[I 2024-06-04 23:06:37,662] Trial 71 finished with value: 0.74 and parameters: {'penalty': 'l2', 'C': 0.1129132837226, 'max_iter': 205, 'solver': 'saga'}. Best is trial 13 with value: 0.805.\n",
      "[I 2024-06-04 23:06:37,672] Trial 72 finished with value: 0.57 and parameters: {'penalty': 'l1', 'C': 0.017878061147648464, 'max_iter': 731, 'solver': 'saga'}. Best is trial 13 with value: 0.805.\n",
      "[I 2024-06-04 23:06:37,678] Trial 73 finished with value: 0.57 and parameters: {'penalty': 'l1', 'C': 0.017968554542843712, 'max_iter': 988, 'solver': 'liblinear'}. Best is trial 13 with value: 0.805.\n",
      "[I 2024-06-04 23:06:37,690] Trial 74 finished with value: 0.795 and parameters: {'penalty': 'l2', 'C': 9.078272014381131, 'max_iter': 778, 'solver': 'liblinear'}. Best is trial 13 with value: 0.805.\n",
      "[I 2024-06-04 23:06:37,728] Trial 75 finished with value: 0.72 and parameters: {'penalty': 'l1', 'C': 0.18735531924000176, 'max_iter': 916, 'solver': 'saga'}. Best is trial 13 with value: 0.805.\n",
      "[I 2024-06-04 23:06:37,745] Trial 76 finished with value: 0.685 and parameters: {'penalty': 'l2', 'C': 0.014754001628061711, 'max_iter': 207, 'solver': 'saga'}. Best is trial 13 with value: 0.805.\n",
      "[I 2024-06-04 23:06:38,098] Trial 77 finished with value: 0.78 and parameters: {'penalty': 'l1', 'C': 7.700477308294277, 'max_iter': 437, 'solver': 'saga'}. Best is trial 13 with value: 0.805.\n",
      "[I 2024-06-04 23:06:38,115] Trial 78 finished with value: 0.68 and parameters: {'penalty': 'l2', 'C': 0.010875855381980925, 'max_iter': 973, 'solver': 'saga'}. Best is trial 13 with value: 0.805.\n",
      "[I 2024-06-04 23:06:38,122] Trial 79 finished with value: 0.675 and parameters: {'penalty': 'l2', 'C': 0.016649059071639678, 'max_iter': 599, 'solver': 'liblinear'}. Best is trial 13 with value: 0.805.\n",
      "[I 2024-06-04 23:06:38,141] Trial 80 finished with value: 0.74 and parameters: {'penalty': 'l2', 'C': 0.23100596499042997, 'max_iter': 665, 'solver': 'saga'}. Best is trial 13 with value: 0.805.\n",
      "[I 2024-06-04 23:06:38,203] Trial 81 finished with value: 0.795 and parameters: {'penalty': 'l2', 'C': 7.09960934247593, 'max_iter': 902, 'solver': 'saga'}. Best is trial 13 with value: 0.805.\n",
      "[I 2024-06-04 23:06:38,215] Trial 82 finished with value: 0.735 and parameters: {'penalty': 'l1', 'C': 0.24609070748295203, 'max_iter': 418, 'solver': 'liblinear'}. Best is trial 13 with value: 0.805.\n",
      "[I 2024-06-04 23:06:38,249] Trial 83 finished with value: 0.76 and parameters: {'penalty': 'l2', 'C': 1.2430401086355434, 'max_iter': 583, 'solver': 'saga'}. Best is trial 13 with value: 0.805.\n",
      "[I 2024-06-04 23:06:38,335] Trial 84 finished with value: 0.78 and parameters: {'penalty': 'l1', 'C': 5.404823964051239, 'max_iter': 841, 'solver': 'liblinear'}. Best is trial 13 with value: 0.805.\n",
      "[I 2024-06-04 23:06:38,442] Trial 85 finished with value: 0.79 and parameters: {'penalty': 'l1', 'C': 6.283266061384215, 'max_iter': 880, 'solver': 'liblinear'}. Best is trial 13 with value: 0.805.\n",
      "[I 2024-06-04 23:06:38,454] Trial 86 finished with value: 0.795 and parameters: {'penalty': 'l2', 'C': 9.158585158712828, 'max_iter': 235, 'solver': 'liblinear'}. Best is trial 13 with value: 0.805.\n",
      "[I 2024-06-04 23:06:38,500] Trial 87 finished with value: 0.805 and parameters: {'penalty': 'l1', 'C': 3.2733022885465073, 'max_iter': 522, 'solver': 'liblinear'}. Best is trial 13 with value: 0.805.\n",
      "[I 2024-06-04 23:06:38,510] Trial 88 finished with value: 0.765 and parameters: {'penalty': 'l2', 'C': 2.746015772449605, 'max_iter': 1000, 'solver': 'liblinear'}. Best is trial 13 with value: 0.805.\n",
      "[I 2024-06-04 23:06:38,522] Trial 89 finished with value: 0.775 and parameters: {'penalty': 'l2', 'C': 3.5395020812446245, 'max_iter': 322, 'solver': 'liblinear'}. Best is trial 13 with value: 0.805.\n",
      "[I 2024-06-04 23:06:38,529] Trial 90 finished with value: 0.64 and parameters: {'penalty': 'l1', 'C': 0.04852085180693703, 'max_iter': 705, 'solver': 'liblinear'}. Best is trial 13 with value: 0.805.\n",
      "[I 2024-06-04 23:06:38,551] Trial 91 finished with value: 0.74 and parameters: {'penalty': 'l2', 'C': 0.36385060610699704, 'max_iter': 795, 'solver': 'saga'}. Best is trial 13 with value: 0.805.\n",
      "[I 2024-06-04 23:06:38,562] Trial 92 finished with value: 0.775 and parameters: {'penalty': 'l2', 'C': 4.265410247347661, 'max_iter': 463, 'solver': 'liblinear'}. Best is trial 13 with value: 0.805.\n",
      "[I 2024-06-04 23:06:38,593] Trial 93 finished with value: 0.78 and parameters: {'penalty': 'l1', 'C': 1.2949091638211225, 'max_iter': 291, 'solver': 'liblinear'}. Best is trial 13 with value: 0.805.\n",
      "[I 2024-06-04 23:06:38,601] Trial 94 finished with value: 0.725 and parameters: {'penalty': 'l2', 'C': 0.15022151421368923, 'max_iter': 494, 'solver': 'liblinear'}. Best is trial 13 with value: 0.805.\n",
      "[I 2024-06-04 23:06:38,618] Trial 95 finished with value: 0.745 and parameters: {'penalty': 'l2', 'C': 0.15474917663181323, 'max_iter': 660, 'solver': 'saga'}. Best is trial 13 with value: 0.805.\n",
      "[I 2024-06-04 23:06:38,638] Trial 96 finished with value: 0.74 and parameters: {'penalty': 'l2', 'C': 0.2994669360763513, 'max_iter': 332, 'solver': 'saga'}. Best is trial 13 with value: 0.805.\n",
      "[I 2024-06-04 23:06:38,871] Trial 97 finished with value: 0.775 and parameters: {'penalty': 'l1', 'C': 0.7946988104669667, 'max_iter': 316, 'solver': 'saga'}. Best is trial 13 with value: 0.805.\n",
      "[I 2024-06-04 23:06:38,888] Trial 98 finished with value: 0.695 and parameters: {'penalty': 'l2', 'C': 0.026090446888493463, 'max_iter': 677, 'solver': 'saga'}. Best is trial 13 with value: 0.805.\n",
      "[I 2024-06-04 23:06:38,962] Trial 99 finished with value: 0.79 and parameters: {'penalty': 'l1', 'C': 1.0061742891321552, 'max_iter': 255, 'solver': 'liblinear'}. Best is trial 13 with value: 0.805.\n",
      "[I 2024-06-04 23:06:39,000] Trial 100 finished with value: 0.705 and parameters: {'penalty': 'l2', 'C': 0.03396498701004283, 'max_iter': 179, 'solver': 'saga'}. Best is trial 13 with value: 0.805.\n",
      "[I 2024-06-04 23:06:39,032] Trial 101 finished with value: 0.74 and parameters: {'penalty': 'l2', 'C': 0.32378133736281073, 'max_iter': 722, 'solver': 'saga'}. Best is trial 13 with value: 0.805.\n",
      "[I 2024-06-04 23:06:39,735] Trial 102 finished with value: 0.785 and parameters: {'penalty': 'l1', 'C': 4.175763293118453, 'max_iter': 929, 'solver': 'saga'}. Best is trial 13 with value: 0.805.\n",
      "[I 2024-06-04 23:06:39,756] Trial 103 finished with value: 0.64 and parameters: {'penalty': 'l1', 'C': 0.03577363388951147, 'max_iter': 288, 'solver': 'saga'}. Best is trial 13 with value: 0.805.\n",
      "[I 2024-06-04 23:06:39,814] Trial 104 finished with value: 0.74 and parameters: {'penalty': 'l1', 'C': 0.24412044244324688, 'max_iter': 773, 'solver': 'saga'}. Best is trial 13 with value: 0.805.\n",
      "[I 2024-06-04 23:06:39,835] Trial 105 finished with value: 0.74 and parameters: {'penalty': 'l2', 'C': 0.34279330112989786, 'max_iter': 579, 'solver': 'saga'}. Best is trial 13 with value: 0.805.\n",
      "[I 2024-06-04 23:06:39,857] Trial 106 finished with value: 0.64 and parameters: {'penalty': 'l1', 'C': 0.06422878295869772, 'max_iter': 439, 'solver': 'saga'}. Best is trial 13 with value: 0.805.\n",
      "[I 2024-06-04 23:06:39,874] Trial 107 finished with value: 0.7 and parameters: {'penalty': 'l2', 'C': 0.022871065383877762, 'max_iter': 902, 'solver': 'saga'}. Best is trial 13 with value: 0.805.\n",
      "[I 2024-06-04 23:06:39,884] Trial 108 finished with value: 0.57 and parameters: {'penalty': 'l1', 'C': 0.0182289168637327, 'max_iter': 583, 'solver': 'saga'}. Best is trial 13 with value: 0.805.\n",
      "[I 2024-06-04 23:06:39,894] Trial 109 finished with value: 0.64 and parameters: {'penalty': 'l1', 'C': 0.07101134154276112, 'max_iter': 427, 'solver': 'liblinear'}. Best is trial 13 with value: 0.805.\n",
      "[I 2024-06-04 23:06:39,923] Trial 110 finished with value: 0.745 and parameters: {'penalty': 'l2', 'C': 0.6566356505484117, 'max_iter': 313, 'solver': 'saga'}. Best is trial 13 with value: 0.805.\n",
      "[I 2024-06-04 23:06:39,944] Trial 111 finished with value: 0.64 and parameters: {'penalty': 'l1', 'C': 0.03628282316625832, 'max_iter': 356, 'solver': 'saga'}. Best is trial 13 with value: 0.805.\n",
      "[I 2024-06-04 23:06:39,962] Trial 112 finished with value: 0.745 and parameters: {'penalty': 'l2', 'C': 0.17029052365462627, 'max_iter': 985, 'solver': 'saga'}. Best is trial 13 with value: 0.805.\n",
      "[I 2024-06-04 23:06:40,221] Trial 113 finished with value: 0.795 and parameters: {'penalty': 'l1', 'C': 2.8262866872541355, 'max_iter': 332, 'solver': 'saga'}. Best is trial 13 with value: 0.805.\n",
      "[I 2024-06-04 23:06:40,264] Trial 114 finished with value: 0.755 and parameters: {'penalty': 'l1', 'C': 0.5186066345484336, 'max_iter': 352, 'solver': 'liblinear'}. Best is trial 13 with value: 0.805.\n",
      "[I 2024-06-04 23:06:40,285] Trial 115 finished with value: 0.74 and parameters: {'penalty': 'l2', 'C': 0.33329679390406936, 'max_iter': 318, 'solver': 'saga'}. Best is trial 13 with value: 0.805.\n",
      "[I 2024-06-04 23:06:40,292] Trial 116 finished with value: 0.685 and parameters: {'penalty': 'l2', 'C': 0.029046121241795463, 'max_iter': 533, 'solver': 'liblinear'}. Best is trial 13 with value: 0.805.\n",
      "[I 2024-06-04 23:06:40,302] Trial 117 finished with value: 0.57 and parameters: {'penalty': 'l1', 'C': 0.015492621523313821, 'max_iter': 991, 'solver': 'saga'}. Best is trial 13 with value: 0.805.\n",
      "[I 2024-06-04 23:06:40,314] Trial 118 finished with value: 0.77 and parameters: {'penalty': 'l2', 'C': 1.9084622754179417, 'max_iter': 636, 'solver': 'liblinear'}. Best is trial 13 with value: 0.805.\n",
      "[I 2024-06-04 23:06:40,360] Trial 119 finished with value: 0.785 and parameters: {'penalty': 'l2', 'C': 3.1035462614604032, 'max_iter': 969, 'solver': 'saga'}. Best is trial 13 with value: 0.805.\n",
      "[I 2024-06-04 23:06:40,369] Trial 120 finished with value: 0.57 and parameters: {'penalty': 'l1', 'C': 0.015830287491819788, 'max_iter': 767, 'solver': 'saga'}. Best is trial 13 with value: 0.805.\n",
      "[I 2024-06-04 23:06:40,386] Trial 121 finished with value: 0.71 and parameters: {'penalty': 'l2', 'C': 0.04026075919920692, 'max_iter': 247, 'solver': 'saga'}. Best is trial 13 with value: 0.805.\n",
      "[I 2024-06-04 23:06:40,417] Trial 122 finished with value: 0.665 and parameters: {'penalty': 'l1', 'C': 0.11925907934771024, 'max_iter': 890, 'solver': 'saga'}. Best is trial 13 with value: 0.805.\n",
      "[I 2024-06-04 23:06:40,427] Trial 123 finished with value: 0.735 and parameters: {'penalty': 'l1', 'C': 0.24436519933969406, 'max_iter': 371, 'solver': 'liblinear'}. Best is trial 13 with value: 0.805.\n",
      "[I 2024-06-04 23:06:40,435] Trial 124 finished with value: 0.725 and parameters: {'penalty': 'l2', 'C': 0.14179916194912245, 'max_iter': 589, 'solver': 'liblinear'}. Best is trial 13 with value: 0.805.\n",
      "[I 2024-06-04 23:06:40,465] Trial 125 finished with value: 0.76 and parameters: {'penalty': 'l2', 'C': 0.7640541856351153, 'max_iter': 401, 'solver': 'saga'}. Best is trial 13 with value: 0.805.\n",
      "[I 2024-06-04 23:06:41,088] Trial 126 finished with value: 0.79 and parameters: {'penalty': 'l1', 'C': 4.804826931835747, 'max_iter': 810, 'solver': 'saga'}. Best is trial 13 with value: 0.805.\n",
      "[I 2024-06-04 23:06:41,106] Trial 127 finished with value: 0.685 and parameters: {'penalty': 'l2', 'C': 0.01260658058227482, 'max_iter': 613, 'solver': 'saga'}. Best is trial 13 with value: 0.805.\n",
      "[I 2024-06-04 23:06:41,124] Trial 128 finished with value: 0.695 and parameters: {'penalty': 'l2', 'C': 0.0214731229544139, 'max_iter': 862, 'solver': 'saga'}. Best is trial 13 with value: 0.805.\n",
      "[I 2024-06-04 23:06:41,132] Trial 129 finished with value: 0.64 and parameters: {'penalty': 'l1', 'C': 0.04872526229872034, 'max_iter': 750, 'solver': 'liblinear'}. Best is trial 13 with value: 0.805.\n",
      "[I 2024-06-04 23:06:41,155] Trial 130 finished with value: 0.64 and parameters: {'penalty': 'l1', 'C': 0.056937340369173015, 'max_iter': 411, 'solver': 'saga'}. Best is trial 13 with value: 0.805.\n",
      "[I 2024-06-04 23:06:41,213] Trial 131 finished with value: 0.74 and parameters: {'penalty': 'l1', 'C': 0.24323015184601973, 'max_iter': 953, 'solver': 'saga'}. Best is trial 13 with value: 0.805.\n",
      "[I 2024-06-04 23:06:41,220] Trial 132 finished with value: 0.66 and parameters: {'penalty': 'l2', 'C': 0.011332625871376317, 'max_iter': 885, 'solver': 'liblinear'}. Best is trial 13 with value: 0.805.\n",
      "[I 2024-06-04 23:06:41,255] Trial 133 finished with value: 0.76 and parameters: {'penalty': 'l2', 'C': 1.3234754903375765, 'max_iter': 237, 'solver': 'saga'}. Best is trial 13 with value: 0.805.\n",
      "[I 2024-06-04 23:06:41,267] Trial 134 finished with value: 0.785 and parameters: {'penalty': 'l2', 'C': 6.35478767122729, 'max_iter': 933, 'solver': 'liblinear'}. Best is trial 13 with value: 0.805.\n",
      "[I 2024-06-04 23:06:41,273] Trial 135 finished with value: 0.57 and parameters: {'penalty': 'l1', 'C': 0.02365854563179718, 'max_iter': 929, 'solver': 'liblinear'}. Best is trial 13 with value: 0.805.\n",
      "[I 2024-06-04 23:06:41,280] Trial 136 finished with value: 0.57 and parameters: {'penalty': 'l1', 'C': 0.014597716212138042, 'max_iter': 402, 'solver': 'liblinear'}. Best is trial 13 with value: 0.805.\n",
      "[I 2024-06-04 23:06:41,304] Trial 137 finished with value: 0.735 and parameters: {'penalty': 'l2', 'C': 0.4094367382824368, 'max_iter': 928, 'solver': 'saga'}. Best is trial 13 with value: 0.805.\n",
      "[I 2024-06-04 23:06:41,325] Trial 138 finished with value: 0.64 and parameters: {'penalty': 'l1', 'C': 0.04718614183746149, 'max_iter': 507, 'solver': 'saga'}. Best is trial 13 with value: 0.805.\n",
      "[I 2024-06-04 23:06:41,666] Trial 139 finished with value: 0.79 and parameters: {'penalty': 'l1', 'C': 5.553128244188594, 'max_iter': 426, 'solver': 'saga'}. Best is trial 13 with value: 0.805.\n",
      "[I 2024-06-04 23:06:41,683] Trial 140 finished with value: 0.705 and parameters: {'penalty': 'l2', 'C': 0.034206441797621126, 'max_iter': 965, 'solver': 'saga'}. Best is trial 13 with value: 0.805.\n",
      "[I 2024-06-04 23:06:41,705] Trial 141 finished with value: 0.74 and parameters: {'penalty': 'l2', 'C': 0.3210591347884213, 'max_iter': 636, 'solver': 'saga'}. Best is trial 13 with value: 0.805.\n",
      "[I 2024-06-04 23:06:41,722] Trial 142 finished with value: 0.71 and parameters: {'penalty': 'l2', 'C': 0.041249522108377616, 'max_iter': 271, 'solver': 'saga'}. Best is trial 13 with value: 0.805.\n",
      "[I 2024-06-04 23:06:41,747] Trial 143 finished with value: 0.795 and parameters: {'penalty': 'l1', 'C': 2.121206015630901, 'max_iter': 508, 'solver': 'liblinear'}. Best is trial 13 with value: 0.805.\n",
      "[I 2024-06-04 23:06:41,764] Trial 144 finished with value: 0.695 and parameters: {'penalty': 'l2', 'C': 0.029222726791811347, 'max_iter': 263, 'solver': 'saga'}. Best is trial 13 with value: 0.805.\n",
      "[I 2024-06-04 23:06:42,053] Trial 145 finished with value: 0.775 and parameters: {'penalty': 'l1', 'C': 0.8550640149883475, 'max_iter': 468, 'solver': 'saga'}. Best is trial 13 with value: 0.805.\n",
      "[I 2024-06-04 23:06:42,062] Trial 146 finished with value: 0.57 and parameters: {'penalty': 'l1', 'C': 0.012058352559152993, 'max_iter': 299, 'solver': 'saga'}. Best is trial 13 with value: 0.805.\n",
      "[I 2024-06-04 23:06:42,071] Trial 147 finished with value: 0.76 and parameters: {'penalty': 'l2', 'C': 2.5104308090596277, 'max_iter': 260, 'solver': 'liblinear'}. Best is trial 13 with value: 0.805.\n",
      "[I 2024-06-04 23:06:42,082] Trial 148 finished with value: 0.76 and parameters: {'penalty': 'l2', 'C': 1.468252657463809, 'max_iter': 870, 'solver': 'liblinear'}. Best is trial 13 with value: 0.805.\n",
      "[I 2024-06-04 23:06:42,104] Trial 149 finished with value: 0.64 and parameters: {'penalty': 'l1', 'C': 0.07576056254648099, 'max_iter': 907, 'solver': 'saga'}. Best is trial 13 with value: 0.805.\n",
      "[I 2024-06-04 23:06:42,126] Trial 150 finished with value: 0.57 and parameters: {'penalty': 'l1', 'C': 0.03501920682952667, 'max_iter': 625, 'solver': 'saga'}. Best is trial 13 with value: 0.805.\n",
      "[I 2024-06-04 23:06:42,134] Trial 151 finished with value: 0.64 and parameters: {'penalty': 'l1', 'C': 0.06001644960741879, 'max_iter': 442, 'solver': 'liblinear'}. Best is trial 13 with value: 0.805.\n",
      "[I 2024-06-04 23:06:42,261] Trial 152 finished with value: 0.76 and parameters: {'penalty': 'l1', 'C': 0.4530452095214948, 'max_iter': 492, 'solver': 'saga'}. Best is trial 13 with value: 0.805.\n",
      "[I 2024-06-04 23:06:42,318] Trial 153 finished with value: 0.805 and parameters: {'penalty': 'l1', 'C': 4.030917667716689, 'max_iter': 539, 'solver': 'liblinear'}. Best is trial 13 with value: 0.805.\n",
      "[I 2024-06-04 23:06:42,325] Trial 154 finished with value: 0.64 and parameters: {'penalty': 'l1', 'C': 0.0639782089757959, 'max_iter': 588, 'solver': 'liblinear'}. Best is trial 13 with value: 0.805.\n",
      "[I 2024-06-04 23:06:42,397] Trial 155 finished with value: 0.795 and parameters: {'penalty': 'l2', 'C': 8.978556958963887, 'max_iter': 573, 'solver': 'saga'}. Best is trial 13 with value: 0.805.\n",
      "[I 2024-06-04 23:06:42,415] Trial 156 finished with value: 0.7 and parameters: {'penalty': 'l2', 'C': 0.022555541023663448, 'max_iter': 619, 'solver': 'saga'}. Best is trial 13 with value: 0.805.\n",
      "[I 2024-06-04 23:06:42,432] Trial 157 finished with value: 0.71 and parameters: {'penalty': 'l2', 'C': 0.04161633351138873, 'max_iter': 109, 'solver': 'saga'}. Best is trial 13 with value: 0.805.\n",
      "[I 2024-06-04 23:06:42,642] Trial 158 finished with value: 0.77 and parameters: {'penalty': 'l1', 'C': 0.6332141064382677, 'max_iter': 699, 'solver': 'saga'}. Best is trial 13 with value: 0.805.\n",
      "[I 2024-06-04 23:06:42,729] Trial 159 finished with value: 0.75 and parameters: {'penalty': 'l1', 'C': 0.36037372249461913, 'max_iter': 142, 'solver': 'saga'}. Best is trial 13 with value: 0.805.\n",
      "[I 2024-06-04 23:06:42,746] Trial 160 finished with value: 0.72 and parameters: {'penalty': 'l2', 'C': 0.0544561995512795, 'max_iter': 450, 'solver': 'saga'}. Best is trial 13 with value: 0.805.\n",
      "[I 2024-06-04 23:06:42,898] Trial 161 finished with value: 0.765 and parameters: {'penalty': 'l1', 'C': 0.5002808981856133, 'max_iter': 528, 'solver': 'saga'}. Best is trial 13 with value: 0.805.\n",
      "[I 2024-06-04 23:06:42,904] Trial 162 finished with value: 0.57 and parameters: {'penalty': 'l1', 'C': 0.012403647205371562, 'max_iter': 336, 'solver': 'liblinear'}. Best is trial 13 with value: 0.805.\n",
      "[I 2024-06-04 23:06:42,912] Trial 163 finished with value: 0.715 and parameters: {'penalty': 'l2', 'C': 0.10063097312771815, 'max_iter': 794, 'solver': 'liblinear'}. Best is trial 13 with value: 0.805.\n",
      "[I 2024-06-04 23:06:43,359] Trial 164 finished with value: 0.78 and parameters: {'penalty': 'l1', 'C': 1.1620028394316197, 'max_iter': 491, 'solver': 'saga'}. Best is trial 13 with value: 0.805.\n",
      "[I 2024-06-04 23:06:43,367] Trial 165 finished with value: 0.64 and parameters: {'penalty': 'l1', 'C': 0.06552928233851989, 'max_iter': 631, 'solver': 'liblinear'}. Best is trial 13 with value: 0.805.\n",
      "[I 2024-06-04 23:06:43,768] Trial 166 finished with value: 0.785 and parameters: {'penalty': 'l1', 'C': 7.0910747170673245, 'max_iter': 501, 'solver': 'saga'}. Best is trial 13 with value: 0.805.\n",
      "[I 2024-06-04 23:06:44,304] Trial 167 finished with value: 0.795 and parameters: {'penalty': 'l1', 'C': 2.628351493147274, 'max_iter': 693, 'solver': 'saga'}. Best is trial 13 with value: 0.805.\n",
      "[I 2024-06-04 23:06:44,312] Trial 168 finished with value: 0.7 and parameters: {'penalty': 'l2', 'C': 0.04609229422149268, 'max_iter': 989, 'solver': 'liblinear'}. Best is trial 13 with value: 0.805.\n",
      "[I 2024-06-04 23:06:44,320] Trial 169 finished with value: 0.685 and parameters: {'penalty': 'l2', 'C': 0.034811764380096887, 'max_iter': 611, 'solver': 'liblinear'}. Best is trial 13 with value: 0.805.\n",
      "[I 2024-06-04 23:06:44,428] Trial 170 finished with value: 0.785 and parameters: {'penalty': 'l1', 'C': 5.931828497797028, 'max_iter': 974, 'solver': 'liblinear'}. Best is trial 13 with value: 0.805.\n",
      "[I 2024-06-04 23:06:44,465] Trial 171 finished with value: 0.665 and parameters: {'penalty': 'l1', 'C': 0.09063614378928193, 'max_iter': 846, 'solver': 'saga'}. Best is trial 13 with value: 0.805.\n",
      "[I 2024-06-04 23:06:44,474] Trial 172 finished with value: 0.57 and parameters: {'penalty': 'l1', 'C': 0.01701608337664498, 'max_iter': 727, 'solver': 'saga'}. Best is trial 13 with value: 0.805.\n",
      "[I 2024-06-04 23:06:44,499] Trial 173 finished with value: 0.735 and parameters: {'penalty': 'l2', 'C': 0.415407063697232, 'max_iter': 812, 'solver': 'saga'}. Best is trial 13 with value: 0.805.\n",
      "[I 2024-06-04 23:06:44,506] Trial 174 finished with value: 0.64 and parameters: {'penalty': 'l1', 'C': 0.049989457565796404, 'max_iter': 121, 'solver': 'liblinear'}. Best is trial 13 with value: 0.805.\n",
      "[I 2024-06-04 23:06:44,616] Trial 175 finished with value: 0.79 and parameters: {'penalty': 'l1', 'C': 6.5645218095630575, 'max_iter': 819, 'solver': 'liblinear'}. Best is trial 13 with value: 0.805.\n",
      "[I 2024-06-04 23:06:44,672] Trial 176 finished with value: 0.735 and parameters: {'penalty': 'l1', 'C': 0.2751863329012538, 'max_iter': 665, 'solver': 'saga'}. Best is trial 13 with value: 0.805.\n",
      "[I 2024-06-04 23:06:44,682] Trial 177 finished with value: 0.705 and parameters: {'penalty': 'l1', 'C': 0.1836838640577253, 'max_iter': 764, 'solver': 'liblinear'}. Best is trial 13 with value: 0.805.\n",
      "[I 2024-06-04 23:06:44,690] Trial 178 finished with value: 0.645 and parameters: {'penalty': 'l1', 'C': 0.07743269258838692, 'max_iter': 310, 'solver': 'liblinear'}. Best is trial 13 with value: 0.805.\n",
      "[I 2024-06-04 23:06:44,717] Trial 179 finished with value: 0.665 and parameters: {'penalty': 'l1', 'C': 0.14222630963205307, 'max_iter': 712, 'solver': 'saga'}. Best is trial 13 with value: 0.805.\n",
      "[I 2024-06-04 23:06:44,730] Trial 180 finished with value: 0.705 and parameters: {'penalty': 'l1', 'C': 0.1789543779063583, 'max_iter': 892, 'solver': 'liblinear'}. Best is trial 13 with value: 0.805.\n",
      "[I 2024-06-04 23:06:44,855] Trial 181 finished with value: 0.78 and parameters: {'penalty': 'l1', 'C': 9.408185644390125, 'max_iter': 308, 'solver': 'liblinear'}. Best is trial 13 with value: 0.805.\n",
      "[I 2024-06-04 23:06:44,863] Trial 182 finished with value: 0.64 and parameters: {'penalty': 'l1', 'C': 0.04920502254761878, 'max_iter': 259, 'solver': 'liblinear'}. Best is trial 13 with value: 0.805.\n",
      "[I 2024-06-04 23:06:44,872] Trial 183 finished with value: 0.57 and parameters: {'penalty': 'l1', 'C': 0.0149117299376565, 'max_iter': 973, 'solver': 'saga'}. Best is trial 13 with value: 0.805.\n",
      "[I 2024-06-04 23:06:44,881] Trial 184 finished with value: 0.67 and parameters: {'penalty': 'l1', 'C': 0.15442800347832064, 'max_iter': 783, 'solver': 'liblinear'}. Best is trial 13 with value: 0.805.\n",
      "[I 2024-06-04 23:06:44,887] Trial 185 finished with value: 0.64 and parameters: {'penalty': 'l1', 'C': 0.0469302474863776, 'max_iter': 583, 'solver': 'liblinear'}. Best is trial 13 with value: 0.805.\n",
      "[I 2024-06-04 23:06:44,904] Trial 186 finished with value: 0.715 and parameters: {'penalty': 'l2', 'C': 0.06263255490183867, 'max_iter': 216, 'solver': 'saga'}. Best is trial 13 with value: 0.805.\n",
      "[I 2024-06-04 23:06:45,205] Trial 187 finished with value: 0.77 and parameters: {'penalty': 'l1', 'C': 0.924114834576203, 'max_iter': 596, 'solver': 'saga'}. Best is trial 13 with value: 0.805.\n",
      "[I 2024-06-04 23:06:45,607] Trial 188 finished with value: 0.785 and parameters: {'penalty': 'l1', 'C': 1.4799953165327082, 'max_iter': 546, 'solver': 'saga'}. Best is trial 13 with value: 0.805.\n",
      "[I 2024-06-04 23:06:46,019] Trial 189 finished with value: 0.795 and parameters: {'penalty': 'l1', 'C': 3.577838574843289, 'max_iter': 546, 'solver': 'saga'}. Best is trial 13 with value: 0.805.\n",
      "[I 2024-06-04 23:06:46,364] Trial 190 finished with value: 0.775 and parameters: {'penalty': 'l1', 'C': 1.0815546221863792, 'max_iter': 609, 'solver': 'saga'}. Best is trial 13 with value: 0.805.\n",
      "[I 2024-06-04 23:06:47,020] Trial 191 finished with value: 0.795 and parameters: {'penalty': 'l1', 'C': 3.562420549204573, 'max_iter': 881, 'solver': 'saga'}. Best is trial 13 with value: 0.805.\n",
      "[I 2024-06-04 23:06:47,256] Trial 192 finished with value: 0.775 and parameters: {'penalty': 'l1', 'C': 0.7175202042698314, 'max_iter': 778, 'solver': 'saga'}. Best is trial 13 with value: 0.805.\n",
      "[I 2024-06-04 23:06:47,430] Trial 193 finished with value: 0.8 and parameters: {'penalty': 'l1', 'C': 3.0022734916139453, 'max_iter': 216, 'solver': 'saga'}. Best is trial 13 with value: 0.805.\n",
      "[I 2024-06-04 23:06:47,477] Trial 194 finished with value: 0.785 and parameters: {'penalty': 'l2', 'C': 3.1361912144377797, 'max_iter': 557, 'solver': 'saga'}. Best is trial 13 with value: 0.805.\n",
      "[I 2024-06-04 23:06:47,486] Trial 195 finished with value: 0.735 and parameters: {'penalty': 'l2', 'C': 0.7860326410149306, 'max_iter': 334, 'solver': 'liblinear'}. Best is trial 13 with value: 0.805.\n",
      "[I 2024-06-04 23:06:47,515] Trial 196 finished with value: 0.785 and parameters: {'penalty': 'l1', 'C': 1.9190385875390803, 'max_iter': 587, 'solver': 'liblinear'}. Best is trial 13 with value: 0.805.\n",
      "[I 2024-06-04 23:06:47,522] Trial 197 finished with value: 0.68 and parameters: {'penalty': 'l2', 'C': 0.020301549388030277, 'max_iter': 944, 'solver': 'liblinear'}. Best is trial 13 with value: 0.805.\n",
      "[I 2024-06-04 23:06:47,540] Trial 198 finished with value: 0.685 and parameters: {'penalty': 'l2', 'C': 0.01592398663490491, 'max_iter': 624, 'solver': 'saga'}. Best is trial 13 with value: 0.805.\n",
      "[I 2024-06-04 23:06:47,551] Trial 199 finished with value: 0.79 and parameters: {'penalty': 'l2', 'C': 8.326584764715722, 'max_iter': 972, 'solver': 'liblinear'}. Best is trial 13 with value: 0.805.\n"
     ]
    },
    {
     "name": "stdout",
     "output_type": "stream",
     "text": [
      "Best Hyperparameters: {'penalty': 'l1', 'C': 3.8842777547031417, 'max_iter': 661, 'solver': 'liblinear'}\n",
      "Best Accuracy: 0.805\n"
     ]
    }
   ],
   "source": [
    "# Create a study object and optimize the objective function\n",
    "study = optuna.create_study(direction='maximize', sampler=optuna.samplers.RandomSampler(seed=seed))\n",
    "study.optimize(objective, n_trials=200)\n",
    "\n",
    "# Get the best hyperparameters and accuracy score\n",
    "best_params = study.best_params\n",
    "best_accuracy = study.best_value\n",
    "\n",
    "print(\"Best Hyperparameters:\", best_params)\n",
    "print(\"Best Accuracy:\", best_accuracy)"
   ]
  },
  {
   "cell_type": "code",
   "execution_count": 21,
   "metadata": {},
   "outputs": [
    {
     "data": {
      "text/html": [
       "<div>\n",
       "<style scoped>\n",
       "    .dataframe tbody tr th:only-of-type {\n",
       "        vertical-align: middle;\n",
       "    }\n",
       "\n",
       "    .dataframe tbody tr th {\n",
       "        vertical-align: top;\n",
       "    }\n",
       "\n",
       "    .dataframe thead th {\n",
       "        text-align: right;\n",
       "    }\n",
       "</style>\n",
       "<table border=\"1\" class=\"dataframe\">\n",
       "  <thead>\n",
       "    <tr style=\"text-align: right;\">\n",
       "      <th></th>\n",
       "      <th>number</th>\n",
       "      <th>value</th>\n",
       "      <th>datetime_start</th>\n",
       "      <th>datetime_complete</th>\n",
       "      <th>duration</th>\n",
       "      <th>params_C</th>\n",
       "      <th>params_max_iter</th>\n",
       "      <th>params_penalty</th>\n",
       "      <th>params_solver</th>\n",
       "      <th>state</th>\n",
       "    </tr>\n",
       "  </thead>\n",
       "  <tbody>\n",
       "    <tr>\n",
       "      <th>87</th>\n",
       "      <td>87</td>\n",
       "      <td>0.805</td>\n",
       "      <td>2024-06-04 23:06:38.455979</td>\n",
       "      <td>2024-06-04 23:06:38.499976</td>\n",
       "      <td>0 days 00:00:00.043997</td>\n",
       "      <td>3.273302</td>\n",
       "      <td>522</td>\n",
       "      <td>l1</td>\n",
       "      <td>liblinear</td>\n",
       "      <td>COMPLETE</td>\n",
       "    </tr>\n",
       "    <tr>\n",
       "      <th>153</th>\n",
       "      <td>153</td>\n",
       "      <td>0.805</td>\n",
       "      <td>2024-06-04 23:06:42.262634</td>\n",
       "      <td>2024-06-04 23:06:42.318664</td>\n",
       "      <td>0 days 00:00:00.056030</td>\n",
       "      <td>4.030918</td>\n",
       "      <td>539</td>\n",
       "      <td>l1</td>\n",
       "      <td>liblinear</td>\n",
       "      <td>COMPLETE</td>\n",
       "    </tr>\n",
       "    <tr>\n",
       "      <th>13</th>\n",
       "      <td>13</td>\n",
       "      <td>0.805</td>\n",
       "      <td>2024-06-04 23:06:34.632292</td>\n",
       "      <td>2024-06-04 23:06:34.686288</td>\n",
       "      <td>0 days 00:00:00.053996</td>\n",
       "      <td>3.884278</td>\n",
       "      <td>661</td>\n",
       "      <td>l1</td>\n",
       "      <td>liblinear</td>\n",
       "      <td>COMPLETE</td>\n",
       "    </tr>\n",
       "    <tr>\n",
       "      <th>193</th>\n",
       "      <td>193</td>\n",
       "      <td>0.800</td>\n",
       "      <td>2024-06-04 23:06:47.256985</td>\n",
       "      <td>2024-06-04 23:06:47.430957</td>\n",
       "      <td>0 days 00:00:00.173972</td>\n",
       "      <td>3.002273</td>\n",
       "      <td>216</td>\n",
       "      <td>l1</td>\n",
       "      <td>saga</td>\n",
       "      <td>COMPLETE</td>\n",
       "    </tr>\n",
       "    <tr>\n",
       "      <th>10</th>\n",
       "      <td>10</td>\n",
       "      <td>0.800</td>\n",
       "      <td>2024-06-04 23:06:34.294320</td>\n",
       "      <td>2024-06-04 23:06:34.613297</td>\n",
       "      <td>0 days 00:00:00.318977</td>\n",
       "      <td>3.063462</td>\n",
       "      <td>421</td>\n",
       "      <td>l1</td>\n",
       "      <td>saga</td>\n",
       "      <td>COMPLETE</td>\n",
       "    </tr>\n",
       "    <tr>\n",
       "      <th>143</th>\n",
       "      <td>143</td>\n",
       "      <td>0.795</td>\n",
       "      <td>2024-06-04 23:06:41.723723</td>\n",
       "      <td>2024-06-04 23:06:41.747711</td>\n",
       "      <td>0 days 00:00:00.023988</td>\n",
       "      <td>2.121206</td>\n",
       "      <td>508</td>\n",
       "      <td>l1</td>\n",
       "      <td>liblinear</td>\n",
       "      <td>COMPLETE</td>\n",
       "    </tr>\n",
       "    <tr>\n",
       "      <th>189</th>\n",
       "      <td>189</td>\n",
       "      <td>0.795</td>\n",
       "      <td>2024-06-04 23:06:45.608110</td>\n",
       "      <td>2024-06-04 23:06:46.019073</td>\n",
       "      <td>0 days 00:00:00.410963</td>\n",
       "      <td>3.577839</td>\n",
       "      <td>546</td>\n",
       "      <td>l1</td>\n",
       "      <td>saga</td>\n",
       "      <td>COMPLETE</td>\n",
       "    </tr>\n",
       "    <tr>\n",
       "      <th>167</th>\n",
       "      <td>167</td>\n",
       "      <td>0.795</td>\n",
       "      <td>2024-06-04 23:06:43.769546</td>\n",
       "      <td>2024-06-04 23:06:44.304471</td>\n",
       "      <td>0 days 00:00:00.534925</td>\n",
       "      <td>2.628351</td>\n",
       "      <td>693</td>\n",
       "      <td>l1</td>\n",
       "      <td>saga</td>\n",
       "      <td>COMPLETE</td>\n",
       "    </tr>\n",
       "    <tr>\n",
       "      <th>113</th>\n",
       "      <td>113</td>\n",
       "      <td>0.795</td>\n",
       "      <td>2024-06-04 23:06:39.963822</td>\n",
       "      <td>2024-06-04 23:06:40.220835</td>\n",
       "      <td>0 days 00:00:00.257013</td>\n",
       "      <td>2.826287</td>\n",
       "      <td>332</td>\n",
       "      <td>l1</td>\n",
       "      <td>saga</td>\n",
       "      <td>COMPLETE</td>\n",
       "    </tr>\n",
       "    <tr>\n",
       "      <th>155</th>\n",
       "      <td>155</td>\n",
       "      <td>0.795</td>\n",
       "      <td>2024-06-04 23:06:42.326651</td>\n",
       "      <td>2024-06-04 23:06:42.397667</td>\n",
       "      <td>0 days 00:00:00.071016</td>\n",
       "      <td>8.978557</td>\n",
       "      <td>573</td>\n",
       "      <td>l2</td>\n",
       "      <td>saga</td>\n",
       "      <td>COMPLETE</td>\n",
       "    </tr>\n",
       "  </tbody>\n",
       "</table>\n",
       "</div>"
      ],
      "text/plain": [
       "     number  value             datetime_start          datetime_complete  \\\n",
       "87       87  0.805 2024-06-04 23:06:38.455979 2024-06-04 23:06:38.499976   \n",
       "153     153  0.805 2024-06-04 23:06:42.262634 2024-06-04 23:06:42.318664   \n",
       "13       13  0.805 2024-06-04 23:06:34.632292 2024-06-04 23:06:34.686288   \n",
       "193     193  0.800 2024-06-04 23:06:47.256985 2024-06-04 23:06:47.430957   \n",
       "10       10  0.800 2024-06-04 23:06:34.294320 2024-06-04 23:06:34.613297   \n",
       "143     143  0.795 2024-06-04 23:06:41.723723 2024-06-04 23:06:41.747711   \n",
       "189     189  0.795 2024-06-04 23:06:45.608110 2024-06-04 23:06:46.019073   \n",
       "167     167  0.795 2024-06-04 23:06:43.769546 2024-06-04 23:06:44.304471   \n",
       "113     113  0.795 2024-06-04 23:06:39.963822 2024-06-04 23:06:40.220835   \n",
       "155     155  0.795 2024-06-04 23:06:42.326651 2024-06-04 23:06:42.397667   \n",
       "\n",
       "                  duration  params_C  params_max_iter params_penalty  \\\n",
       "87  0 days 00:00:00.043997  3.273302              522             l1   \n",
       "153 0 days 00:00:00.056030  4.030918              539             l1   \n",
       "13  0 days 00:00:00.053996  3.884278              661             l1   \n",
       "193 0 days 00:00:00.173972  3.002273              216             l1   \n",
       "10  0 days 00:00:00.318977  3.063462              421             l1   \n",
       "143 0 days 00:00:00.023988  2.121206              508             l1   \n",
       "189 0 days 00:00:00.410963  3.577839              546             l1   \n",
       "167 0 days 00:00:00.534925  2.628351              693             l1   \n",
       "113 0 days 00:00:00.257013  2.826287              332             l1   \n",
       "155 0 days 00:00:00.071016  8.978557              573             l2   \n",
       "\n",
       "    params_solver     state  \n",
       "87      liblinear  COMPLETE  \n",
       "153     liblinear  COMPLETE  \n",
       "13      liblinear  COMPLETE  \n",
       "193          saga  COMPLETE  \n",
       "10           saga  COMPLETE  \n",
       "143     liblinear  COMPLETE  \n",
       "189          saga  COMPLETE  \n",
       "167          saga  COMPLETE  \n",
       "113          saga  COMPLETE  \n",
       "155          saga  COMPLETE  "
      ]
     },
     "execution_count": 21,
     "metadata": {},
     "output_type": "execute_result"
    }
   ],
   "source": [
    "# Get best trials\n",
    "trials_OTP1 = study.trials_dataframe()\n",
    "# Sort the dataframe by value (accuracy) in descending order\n",
    "top_trials_OTP1 = trials_OTP1.sort_values(by='value', ascending=False).head(10)\n",
    "top_trials_OTP1"
   ]
  },
  {
   "cell_type": "code",
   "execution_count": 22,
   "metadata": {},
   "outputs": [
    {
     "name": "stdout",
     "output_type": "stream",
     "text": [
      "Metrics for LR_OPT1_best:\n",
      "Accuracy: 0.8050\n",
      "Weighted F1: 0.7925\n",
      "Weighted Precision: 0.7886\n",
      "Weighted Recall: 0.8050\n",
      "Macro-Averaged Precision: 0.5423\n",
      "Macro-Averaged Recall: 0.5399\n",
      "F1: [0.         0.84081633 0.77333333]\n",
      "Precision: [0.         0.78625954 0.84057971]\n",
      "classification report\n",
      "              precision    recall  f1-score   support\n",
      "\n",
      "     Class 0       0.00      0.00      0.00         5\n",
      "     Class 1       0.79      0.90      0.84       114\n",
      "     Class 2       0.84      0.72      0.77        81\n",
      "\n",
      "    accuracy                           0.81       200\n",
      "   macro avg       0.54      0.54      0.54       200\n",
      "weighted avg       0.79      0.81      0.79       200\n",
      "\n",
      "Confusion Matrix\n"
     ]
    },
    {
     "data": {
      "image/png": "[encoded data removed]",
      "text/plain": [
       "<Figure size 432x288 with 2 Axes>"
      ]
     },
     "metadata": {
      "needs_background": "light"
     },
     "output_type": "display_data"
    }
   ],
   "source": [
    "best_trial = study.best_trial\n",
    "best_model = LogisticRegression(**best_trial.params, random_state=seed)\n",
    "best_model.fit(X_train, y_train)\n",
    "\n",
    "predictions_opt1 = best_model.predict(X_test)\n",
    "model_metrics = pd.concat([model_metrics, calculate_metrics('LR_OPT1_best', y_test, predictions_opt1)])"
   ]
  },
  {
   "cell_type": "code",
   "execution_count": 23,
   "metadata": {},
   "outputs": [
    {
     "data": {
      "text/plain": [
       "{'penalty': 'l1',\n",
       " 'C': 3.8842777547031417,\n",
       " 'max_iter': 661,\n",
       " 'solver': 'liblinear'}"
      ]
     },
     "execution_count": 23,
     "metadata": {},
     "output_type": "execute_result"
    }
   ],
   "source": [
    "study.best_params"
   ]
  },
  {
   "cell_type": "code",
   "execution_count": 24,
   "metadata": {},
   "outputs": [
    {
     "data": {
      "application/vnd.plotly.v1+json": {
       "config": {
        "plotlyServerURL": "https://plot.ly"
       },
       "data": [
        {
         "mode": "markers",
         "name": "Objective Value",
         "type": "scatter",
         "x": [
          0,
          1,
          2,
          3,
          4,
          5,
          6,
          7,
          8,
          9,
          10,
          11,
          12,
          13,
          14,
          15,
          16,
          17,
          18,
          19,
          20,
          21,
          22,
          23,
          24,
          25,
          26,
          27,
          28,
          29,
          30,
          31,
          32,
          33,
          34,
          35,
          36,
          37,
          38,
          39,
          40,
          41,
          42,
          43,
          44,
          45,
          46,
          47,
          48,
          49,
          50,
          51,
          52,
          53,
          54,
          55,
          56,
          57,
          58,
          59,
          60,
          61,
          62,
          63,
          64,
          65,
          66,
          67,
          68,
          69,
          70,
          71,
          72,
          73,
          74,
          75,
          76,
          77,
          78,
          79,
          80,
          81,
          82,
          83,
          84,
          85,
          86,
          87,
          88,
          89,
          90,
          91,
          92,
          93,
          94,
          95,
          96,
          97,
          98,
          99,
          100,
          101,
          102,
          103,
          104,
          105,
          106,
          107,
          108,
          109,
          110,
          111,
          112,
          113,
          114,
          115,
          116,
          117,
          118,
          119,
          120,
          121,
          122,
          123,
          124,
          125,
          126,
          127,
          128,
          129,
          130,
          131,
          132,
          133,
          134,
          135,
          136,
          137,
          138,
          139,
          140,
          141,
          142,
          143,
          144,
          145,
          146,
          147,
          148,
          149,
          150,
          151,
          152,
          153,
          154,
          155,
          156,
          157,
          158,
          159,
          160,
          161,
          162,
          163,
          164,
          165,
          166,
          167,
          168,
          169,
          170,
          171,
          172,
          173,
          174,
          175,
          176,
          177,
          178,
          179,
          180,
          181,
          182,
          183,
          184,
          185,
          186,
          187,
          188,
          189,
          190,
          191,
          192,
          193,
          194,
          195,
          196,
          197,
          198,
          199
         ],
         "y": [
          0.76,
          0.745,
          0.57,
          0.77,
          0.685,
          0.57,
          0.775,
          0.715,
          0.785,
          0.685,
          0.8,
          0.675,
          0.755,
          0.805,
          0.76,
          0.77,
          0.57,
          0.79,
          0.64,
          0.765,
          0.725,
          0.665,
          0.795,
          0.795,
          0.77,
          0.57,
          0.715,
          0.57,
          0.745,
          0.785,
          0.79,
          0.75,
          0.665,
          0.77,
          0.57,
          0.735,
          0.735,
          0.7,
          0.795,
          0.71,
          0.79,
          0.79,
          0.57,
          0.775,
          0.785,
          0.775,
          0.78,
          0.76,
          0.665,
          0.77,
          0.735,
          0.795,
          0.765,
          0.74,
          0.75,
          0.66,
          0.735,
          0.725,
          0.745,
          0.665,
          0.74,
          0.64,
          0.675,
          0.57,
          0.72,
          0.665,
          0.79,
          0.715,
          0.665,
          0.64,
          0.57,
          0.74,
          0.57,
          0.57,
          0.795,
          0.72,
          0.685,
          0.78,
          0.68,
          0.675,
          0.74,
          0.795,
          0.735,
          0.76,
          0.78,
          0.79,
          0.795,
          0.805,
          0.765,
          0.775,
          0.64,
          0.74,
          0.775,
          0.78,
          0.725,
          0.745,
          0.74,
          0.775,
          0.695,
          0.79,
          0.705,
          0.74,
          0.785,
          0.64,
          0.74,
          0.74,
          0.64,
          0.7,
          0.57,
          0.64,
          0.745,
          0.64,
          0.745,
          0.795,
          0.755,
          0.74,
          0.685,
          0.57,
          0.77,
          0.785,
          0.57,
          0.71,
          0.665,
          0.735,
          0.725,
          0.76,
          0.79,
          0.685,
          0.695,
          0.64,
          0.64,
          0.74,
          0.66,
          0.76,
          0.785,
          0.57,
          0.57,
          0.735,
          0.64,
          0.79,
          0.705,
          0.74,
          0.71,
          0.795,
          0.695,
          0.775,
          0.57,
          0.76,
          0.76,
          0.64,
          0.57,
          0.64,
          0.76,
          0.805,
          0.64,
          0.795,
          0.7,
          0.71,
          0.77,
          0.75,
          0.72,
          0.765,
          0.57,
          0.715,
          0.78,
          0.64,
          0.785,
          0.795,
          0.7,
          0.685,
          0.785,
          0.665,
          0.57,
          0.735,
          0.64,
          0.79,
          0.735,
          0.705,
          0.645,
          0.665,
          0.705,
          0.78,
          0.64,
          0.57,
          0.67,
          0.64,
          0.715,
          0.77,
          0.785,
          0.795,
          0.775,
          0.795,
          0.775,
          0.8,
          0.785,
          0.735,
          0.785,
          0.68,
          0.685,
          0.79
         ]
        },
        {
         "mode": "lines",
         "name": "Best Value",
         "type": "scatter",
         "x": [
          0,
          1,
          2,
          3,
          4,
          5,
          6,
          7,
          8,
          9,
          10,
          11,
          12,
          13,
          14,
          15,
          16,
          17,
          18,
          19,
          20,
          21,
          22,
          23,
          24,
          25,
          26,
          27,
          28,
          29,
          30,
          31,
          32,
          33,
          34,
          35,
          36,
          37,
          38,
          39,
          40,
          41,
          42,
          43,
          44,
          45,
          46,
          47,
          48,
          49,
          50,
          51,
          52,
          53,
          54,
          55,
          56,
          57,
          58,
          59,
          60,
          61,
          62,
          63,
          64,
          65,
          66,
          67,
          68,
          69,
          70,
          71,
          72,
          73,
          74,
          75,
          76,
          77,
          78,
          79,
          80,
          81,
          82,
          83,
          84,
          85,
          86,
          87,
          88,
          89,
          90,
          91,
          92,
          93,
          94,
          95,
          96,
          97,
          98,
          99,
          100,
          101,
          102,
          103,
          104,
          105,
          106,
          107,
          108,
          109,
          110,
          111,
          112,
          113,
          114,
          115,
          116,
          117,
          118,
          119,
          120,
          121,
          122,
          123,
          124,
          125,
          126,
          127,
          128,
          129,
          130,
          131,
          132,
          133,
          134,
          135,
          136,
          137,
          138,
          139,
          140,
          141,
          142,
          143,
          144,
          145,
          146,
          147,
          148,
          149,
          150,
          151,
          152,
          153,
          154,
          155,
          156,
          157,
          158,
          159,
          160,
          161,
          162,
          163,
          164,
          165,
          166,
          167,
          168,
          169,
          170,
          171,
          172,
          173,
          174,
          175,
          176,
          177,
          178,
          179,
          180,
          181,
          182,
          183,
          184,
          185,
          186,
          187,
          188,
          189,
          190,
          191,
          192,
          193,
          194,
          195,
          196,
          197,
          198,
          199
         ],
         "y": [
          0.76,
          0.76,
          0.76,
          0.77,
          0.77,
          0.77,
          0.775,
          0.775,
          0.785,
          0.785,
          0.8,
          0.8,
          0.8,
          0.805,
          0.805,
          0.805,
          0.805,
          0.805,
          0.805,
          0.805,
          0.805,
          0.805,
          0.805,
          0.805,
          0.805,
          0.805,
          0.805,
          0.805,
          0.805,
          0.805,
          0.805,
          0.805,
          0.805,
          0.805,
          0.805,
          0.805,
          0.805,
          0.805,
          0.805,
          0.805,
          0.805,
          0.805,
          0.805,
          0.805,
          0.805,
          0.805,
          0.805,
          0.805,
          0.805,
          0.805,
          0.805,
          0.805,
          0.805,
          0.805,
          0.805,
          0.805,
          0.805,
          0.805,
          0.805,
          0.805,
          0.805,
          0.805,
          0.805,
          0.805,
          0.805,
          0.805,
          0.805,
          0.805,
          0.805,
          0.805,
          0.805,
          0.805,
          0.805,
          0.805,
          0.805,
          0.805,
          0.805,
          0.805,
          0.805,
          0.805,
          0.805,
          0.805,
          0.805,
          0.805,
          0.805,
          0.805,
          0.805,
          0.805,
          0.805,
          0.805,
          0.805,
          0.805,
          0.805,
          0.805,
          0.805,
          0.805,
          0.805,
          0.805,
          0.805,
          0.805,
          0.805,
          0.805,
          0.805,
          0.805,
          0.805,
          0.805,
          0.805,
          0.805,
          0.805,
          0.805,
          0.805,
          0.805,
          0.805,
          0.805,
          0.805,
          0.805,
          0.805,
          0.805,
          0.805,
          0.805,
          0.805,
          0.805,
          0.805,
          0.805,
          0.805,
          0.805,
          0.805,
          0.805,
          0.805,
          0.805,
          0.805,
          0.805,
          0.805,
          0.805,
          0.805,
          0.805,
          0.805,
          0.805,
          0.805,
          0.805,
          0.805,
          0.805,
          0.805,
          0.805,
          0.805,
          0.805,
          0.805,
          0.805,
          0.805,
          0.805,
          0.805,
          0.805,
          0.805,
          0.805,
          0.805,
          0.805,
          0.805,
          0.805,
          0.805,
          0.805,
          0.805,
          0.805,
          0.805,
          0.805,
          0.805,
          0.805,
          0.805,
          0.805,
          0.805,
          0.805,
          0.805,
          0.805,
          0.805,
          0.805,
          0.805,
          0.805,
          0.805,
          0.805,
          0.805,
          0.805,
          0.805,
          0.805,
          0.805,
          0.805,
          0.805,
          0.805,
          0.805,
          0.805,
          0.805,
          0.805,
          0.805,
          0.805,
          0.805,
          0.805,
          0.805,
          0.805,
          0.805,
          0.805,
          0.805,
          0.805
         ]
        },
        {
         "marker": {
          "color": "#cccccc"
         },
         "mode": "markers",
         "name": "Infeasible Trial",
         "showlegend": false,
         "type": "scatter",
         "x": [],
         "y": []
        }
       ],
       "layout": {
        "template": {
         "data": {
          "bar": [
           {
            "error_x": {
             "color": "#2a3f5f"
            },
            "error_y": {
             "color": "#2a3f5f"
            },
            "marker": {
             "line": {
              "color": "#E5ECF6",
              "width": 0.5
             },
             "pattern": {
              "fillmode": "overlay",
              "size": 10,
              "solidity": 0.2
             }
            },
            "type": "bar"
           }
          ],
          "barpolar": [
           {
            "marker": {
             "line": {
              "color": "#E5ECF6",
              "width": 0.5
             },
             "pattern": {
              "fillmode": "overlay",
              "size": 10,
              "solidity": 0.2
             }
            },
            "type": "barpolar"
           }
          ],
          "carpet": [
           {
            "aaxis": {
             "endlinecolor": "#2a3f5f",
             "gridcolor": "white",
             "linecolor": "white",
             "minorgridcolor": "white",
             "startlinecolor": "#2a3f5f"
            },
            "baxis": {
             "endlinecolor": "#2a3f5f",
             "gridcolor": "white",
             "linecolor": "white",
             "minorgridcolor": "white",
             "startlinecolor": "#2a3f5f"
            },
            "type": "carpet"
           }
          ],
          "choropleth": [
           {
            "colorbar": {
             "outlinewidth": 0,
             "ticks": ""
            },
            "type": "choropleth"
           }
          ],
          "contour": [
           {
            "colorbar": {
             "outlinewidth": 0,
             "ticks": ""
            },
            "colorscale": [
             [
              0,
              "#0d0887"
             ],
             [
              0.1111111111111111,
              "#46039f"
             ],
             [
              0.2222222222222222,
              "#7201a8"
             ],
             [
              0.3333333333333333,
              "#9c179e"
             ],
             [
              0.4444444444444444,
              "#bd3786"
             ],
             [
              0.5555555555555556,
              "#d8576b"
             ],
             [
              0.6666666666666666,
              "#ed7953"
             ],
             [
              0.7777777777777778,
              "#fb9f3a"
             ],
             [
              0.8888888888888888,
              "#fdca26"
             ],
             [
              1,
              "#f0f921"
             ]
            ],
            "type": "contour"
           }
          ],
          "contourcarpet": [
           {
            "colorbar": {
             "outlinewidth": 0,
             "ticks": ""
            },
            "type": "contourcarpet"
           }
          ],
          "heatmap": [
           {
            "colorbar": {
             "outlinewidth": 0,
             "ticks": ""
            },
            "colorscale": [
             [
              0,
              "#0d0887"
             ],
             [
              0.1111111111111111,
              "#46039f"
             ],
             [
              0.2222222222222222,
              "#7201a8"
             ],
             [
              0.3333333333333333,
              "#9c179e"
             ],
             [
              0.4444444444444444,
              "#bd3786"
             ],
             [
              0.5555555555555556,
              "#d8576b"
             ],
             [
              0.6666666666666666,
              "#ed7953"
             ],
             [
              0.7777777777777778,
              "#fb9f3a"
             ],
             [
              0.8888888888888888,
              "#fdca26"
             ],
             [
              1,
              "#f0f921"
             ]
            ],
            "type": "heatmap"
           }
          ],
          "heatmapgl": [
           {
            "colorbar": {
             "outlinewidth": 0,
             "ticks": ""
            },
            "colorscale": [
             [
              0,
              "#0d0887"
             ],
             [
              0.1111111111111111,
              "#46039f"
             ],
             [
              0.2222222222222222,
              "#7201a8"
             ],
             [
              0.3333333333333333,
              "#9c179e"
             ],
             [
              0.4444444444444444,
              "#bd3786"
             ],
             [
              0.5555555555555556,
              "#d8576b"
             ],
             [
              0.6666666666666666,
              "#ed7953"
             ],
             [
              0.7777777777777778,
              "#fb9f3a"
             ],
             [
              0.8888888888888888,
              "#fdca26"
             ],
             [
              1,
              "#f0f921"
             ]
            ],
            "type": "heatmapgl"
           }
          ],
          "histogram": [
           {
            "marker": {
             "pattern": {
              "fillmode": "overlay",
              "size": 10,
              "solidity": 0.2
             }
            },
            "type": "histogram"
           }
          ],
          "histogram2d": [
           {
            "colorbar": {
             "outlinewidth": 0,
             "ticks": ""
            },
            "colorscale": [
             [
              0,
              "#0d0887"
             ],
             [
              0.1111111111111111,
              "#46039f"
             ],
             [
              0.2222222222222222,
              "#7201a8"
             ],
             [
              0.3333333333333333,
              "#9c179e"
             ],
             [
              0.4444444444444444,
              "#bd3786"
             ],
             [
              0.5555555555555556,
              "#d8576b"
             ],
             [
              0.6666666666666666,
              "#ed7953"
             ],
             [
              0.7777777777777778,
              "#fb9f3a"
             ],
             [
              0.8888888888888888,
              "#fdca26"
             ],
             [
              1,
              "#f0f921"
             ]
            ],
            "type": "histogram2d"
           }
          ],
          "histogram2dcontour": [
           {
            "colorbar": {
             "outlinewidth": 0,
             "ticks": ""
            },
            "colorscale": [
             [
              0,
              "#0d0887"
             ],
             [
              0.1111111111111111,
              "#46039f"
             ],
             [
              0.2222222222222222,
              "#7201a8"
             ],
             [
              0.3333333333333333,
              "#9c179e"
             ],
             [
              0.4444444444444444,
              "#bd3786"
             ],
             [
              0.5555555555555556,
              "#d8576b"
             ],
             [
              0.6666666666666666,
              "#ed7953"
             ],
             [
              0.7777777777777778,
              "#fb9f3a"
             ],
             [
              0.8888888888888888,
              "#fdca26"
             ],
             [
              1,
              "#f0f921"
             ]
            ],
            "type": "histogram2dcontour"
           }
          ],
          "mesh3d": [
           {
            "colorbar": {
             "outlinewidth": 0,
             "ticks": ""
            },
            "type": "mesh3d"
           }
          ],
          "parcoords": [
           {
            "line": {
             "colorbar": {
              "outlinewidth": 0,
              "ticks": ""
             }
            },
            "type": "parcoords"
           }
          ],
          "pie": [
           {
            "automargin": true,
            "type": "pie"
           }
          ],
          "scatter": [
           {
            "fillpattern": {
             "fillmode": "overlay",
             "size": 10,
             "solidity": 0.2
            },
            "type": "scatter"
           }
          ],
          "scatter3d": [
           {
            "line": {
             "colorbar": {
              "outlinewidth": 0,
              "ticks": ""
             }
            },
            "marker": {
             "colorbar": {
              "outlinewidth": 0,
              "ticks": ""
             }
            },
            "type": "scatter3d"
           }
          ],
          "scattercarpet": [
           {
            "marker": {
             "colorbar": {
              "outlinewidth": 0,
              "ticks": ""
             }
            },
            "type": "scattercarpet"
           }
          ],
          "scattergeo": [
           {
            "marker": {
             "colorbar": {
              "outlinewidth": 0,
              "ticks": ""
             }
            },
            "type": "scattergeo"
           }
          ],
          "scattergl": [
           {
            "marker": {
             "colorbar": {
              "outlinewidth": 0,
              "ticks": ""
             }
            },
            "type": "scattergl"
           }
          ],
          "scattermapbox": [
           {
            "marker": {
             "colorbar": {
              "outlinewidth": 0,
              "ticks": ""
             }
            },
            "type": "scattermapbox"
           }
          ],
          "scatterpolar": [
           {
            "marker": {
             "colorbar": {
              "outlinewidth": 0,
              "ticks": ""
             }
            },
            "type": "scatterpolar"
           }
          ],
          "scatterpolargl": [
           {
            "marker": {
             "colorbar": {
              "outlinewidth": 0,
              "ticks": ""
             }
            },
            "type": "scatterpolargl"
           }
          ],
          "scatterternary": [
           {
            "marker": {
             "colorbar": {
              "outlinewidth": 0,
              "ticks": ""
             }
            },
            "type": "scatterternary"
           }
          ],
          "surface": [
           {
            "colorbar": {
             "outlinewidth": 0,
             "ticks": ""
            },
            "colorscale": [
             [
              0,
              "#0d0887"
             ],
             [
              0.1111111111111111,
              "#46039f"
             ],
             [
              0.2222222222222222,
              "#7201a8"
             ],
             [
              0.3333333333333333,
              "#9c179e"
             ],
             [
              0.4444444444444444,
              "#bd3786"
             ],
             [
              0.5555555555555556,
              "#d8576b"
             ],
             [
              0.6666666666666666,
              "#ed7953"
             ],
             [
              0.7777777777777778,
              "#fb9f3a"
             ],
             [
              0.8888888888888888,
              "#fdca26"
             ],
             [
              1,
              "#f0f921"
             ]
            ],
            "type": "surface"
           }
          ],
          "table": [
           {
            "cells": {
             "fill": {
              "color": "#EBF0F8"
             },
             "line": {
              "color": "white"
             }
            },
            "header": {
             "fill": {
              "color": "#C8D4E3"
             },
             "line": {
              "color": "white"
             }
            },
            "type": "table"
           }
          ]
         },
         "layout": {
          "annotationdefaults": {
           "arrowcolor": "#2a3f5f",
           "arrowhead": 0,
           "arrowwidth": 1
          },
          "autotypenumbers": "strict",
          "coloraxis": {
           "colorbar": {
            "outlinewidth": 0,
            "ticks": ""
           }
          },
          "colorscale": {
           "diverging": [
            [
             0,
             "#8e0152"
            ],
            [
             0.1,
             "#c51b7d"
            ],
            [
             0.2,
             "#de77ae"
            ],
            [
             0.3,
             "#f1b6da"
            ],
            [
             0.4,
             "#fde0ef"
            ],
            [
             0.5,
             "#f7f7f7"
            ],
            [
             0.6,
             "#e6f5d0"
            ],
            [
             0.7,
             "#b8e186"
            ],
            [
             0.8,
             "#7fbc41"
            ],
            [
             0.9,
             "#4d9221"
            ],
            [
             1,
             "#276419"
            ]
           ],
           "sequential": [
            [
             0,
             "#0d0887"
            ],
            [
             0.1111111111111111,
             "#46039f"
            ],
            [
             0.2222222222222222,
             "#7201a8"
            ],
            [
             0.3333333333333333,
             "#9c179e"
            ],
            [
             0.4444444444444444,
             "#bd3786"
            ],
            [
             0.5555555555555556,
             "#d8576b"
            ],
            [
             0.6666666666666666,
             "#ed7953"
            ],
            [
             0.7777777777777778,
             "#fb9f3a"
            ],
            [
             0.8888888888888888,
             "#fdca26"
            ],
            [
             1,
             "#f0f921"
            ]
           ],
           "sequentialminus": [
            [
             0,
             "#0d0887"
            ],
            [
             0.1111111111111111,
             "#46039f"
            ],
            [
             0.2222222222222222,
             "#7201a8"
            ],
            [
             0.3333333333333333,
             "#9c179e"
            ],
            [
             0.4444444444444444,
             "#bd3786"
            ],
            [
             0.5555555555555556,
             "#d8576b"
            ],
            [
             0.6666666666666666,
             "#ed7953"
            ],
            [
             0.7777777777777778,
             "#fb9f3a"
            ],
            [
             0.8888888888888888,
             "#fdca26"
            ],
            [
             1,
             "#f0f921"
            ]
           ]
          },
          "colorway": [
           "#636efa",
           "#EF553B",
           "#00cc96",
           "#ab63fa",
           "#FFA15A",
           "#19d3f3",
           "#FF6692",
           "#B6E880",
           "#FF97FF",
           "#FECB52"
          ],
          "font": {
           "color": "#2a3f5f"
          },
          "geo": {
           "bgcolor": "white",
           "lakecolor": "white",
           "landcolor": "#E5ECF6",
           "showlakes": true,
           "showland": true,
           "subunitcolor": "white"
          },
          "hoverlabel": {
           "align": "left"
          },
          "hovermode": "closest",
          "mapbox": {
           "style": "light"
          },
          "paper_bgcolor": "white",
          "plot_bgcolor": "#E5ECF6",
          "polar": {
           "angularaxis": {
            "gridcolor": "white",
            "linecolor": "white",
            "ticks": ""
           },
           "bgcolor": "#E5ECF6",
           "radialaxis": {
            "gridcolor": "white",
            "linecolor": "white",
            "ticks": ""
           }
          },
          "scene": {
           "xaxis": {
            "backgroundcolor": "#E5ECF6",
            "gridcolor": "white",
            "gridwidth": 2,
            "linecolor": "white",
            "showbackground": true,
            "ticks": "",
            "zerolinecolor": "white"
           },
           "yaxis": {
            "backgroundcolor": "#E5ECF6",
            "gridcolor": "white",
            "gridwidth": 2,
            "linecolor": "white",
            "showbackground": true,
            "ticks": "",
            "zerolinecolor": "white"
           },
           "zaxis": {
            "backgroundcolor": "#E5ECF6",
            "gridcolor": "white",
            "gridwidth": 2,
            "linecolor": "white",
            "showbackground": true,
            "ticks": "",
            "zerolinecolor": "white"
           }
          },
          "shapedefaults": {
           "line": {
            "color": "#2a3f5f"
           }
          },
          "ternary": {
           "aaxis": {
            "gridcolor": "white",
            "linecolor": "white",
            "ticks": ""
           },
           "baxis": {
            "gridcolor": "white",
            "linecolor": "white",
            "ticks": ""
           },
           "bgcolor": "#E5ECF6",
           "caxis": {
            "gridcolor": "white",
            "linecolor": "white",
            "ticks": ""
           }
          },
          "title": {
           "x": 0.05
          },
          "xaxis": {
           "automargin": true,
           "gridcolor": "white",
           "linecolor": "white",
           "ticks": "",
           "title": {
            "standoff": 15
           },
           "zerolinecolor": "white",
           "zerolinewidth": 2
          },
          "yaxis": {
           "automargin": true,
           "gridcolor": "white",
           "linecolor": "white",
           "ticks": "",
           "title": {
            "standoff": 15
           },
           "zerolinecolor": "white",
           "zerolinewidth": 2
          }
         }
        },
        "title": {
         "text": "Optimization History Plot"
        },
        "xaxis": {
         "title": {
          "text": "Trial"
         }
        },
        "yaxis": {
         "title": {
          "text": "Objective Value"
         }
        }
       }
      }
     },
     "metadata": {},
     "output_type": "display_data"
    }
   ],
   "source": [
    "optuna.visualization.plot_optimization_history(study)"
   ]
  },
  {
   "cell_type": "code",
   "execution_count": 25,
   "metadata": {},
   "outputs": [
    {
     "data": {
      "application/vnd.plotly.v1+json": {
       "config": {
        "plotlyServerURL": "https://plot.ly"
       },
       "data": [
        {
         "dimensions": [
          {
           "label": "Objective Value",
           "range": [
            0.57,
            0.805
           ],
           "values": [
            0.76,
            0.745,
            0.57,
            0.77,
            0.685,
            0.57,
            0.775,
            0.715,
            0.785,
            0.685,
            0.8,
            0.675,
            0.755,
            0.805,
            0.76,
            0.77,
            0.57,
            0.79,
            0.64,
            0.765,
            0.725,
            0.665,
            0.795,
            0.795,
            0.77,
            0.57,
            0.715,
            0.57,
            0.745,
            0.785,
            0.79,
            0.75,
            0.665,
            0.77,
            0.57,
            0.735,
            0.735,
            0.7,
            0.795,
            0.71,
            0.79,
            0.79,
            0.57,
            0.775,
            0.785,
            0.775,
            0.78,
            0.76,
            0.665,
            0.77,
            0.735,
            0.795,
            0.765,
            0.74,
            0.75,
            0.66,
            0.735,
            0.725,
            0.745,
            0.665,
            0.74,
            0.64,
            0.675,
            0.57,
            0.72,
            0.665,
            0.79,
            0.715,
            0.665,
            0.64,
            0.57,
            0.74,
            0.57,
            0.57,
            0.795,
            0.72,
            0.685,
            0.78,
            0.68,
            0.675,
            0.74,
            0.795,
            0.735,
            0.76,
            0.78,
            0.79,
            0.795,
            0.805,
            0.765,
            0.775,
            0.64,
            0.74,
            0.775,
            0.78,
            0.725,
            0.745,
            0.74,
            0.775,
            0.695,
            0.79,
            0.705,
            0.74,
            0.785,
            0.64,
            0.74,
            0.74,
            0.64,
            0.7,
            0.57,
            0.64,
            0.745,
            0.64,
            0.745,
            0.795,
            0.755,
            0.74,
            0.685,
            0.57,
            0.77,
            0.785,
            0.57,
            0.71,
            0.665,
            0.735,
            0.725,
            0.76,
            0.79,
            0.685,
            0.695,
            0.64,
            0.64,
            0.74,
            0.66,
            0.76,
            0.785,
            0.57,
            0.57,
            0.735,
            0.64,
            0.79,
            0.705,
            0.74,
            0.71,
            0.795,
            0.695,
            0.775,
            0.57,
            0.76,
            0.76,
            0.64,
            0.57,
            0.64,
            0.76,
            0.805,
            0.64,
            0.795,
            0.7,
            0.71,
            0.77,
            0.75,
            0.72,
            0.765,
            0.57,
            0.715,
            0.78,
            0.64,
            0.785,
            0.795,
            0.7,
            0.685,
            0.785,
            0.665,
            0.57,
            0.735,
            0.64,
            0.79,
            0.735,
            0.705,
            0.645,
            0.665,
            0.705,
            0.78,
            0.64,
            0.57,
            0.67,
            0.64,
            0.715,
            0.77,
            0.785,
            0.795,
            0.775,
            0.795,
            0.775,
            0.8,
            0.785,
            0.735,
            0.785,
            0.68,
            0.685,
            0.79
           ]
          },
          {
           "label": "C",
           "range": [
            -1.9791436084064278,
            0.9735058784109295
           ],
           "ticktext": [
            "0.0105",
            "0.1",
            "1",
            "9.41"
           ],
           "tickvals": [
            -1.9791436084064278,
            -1,
            0,
            0.9735058784109295
           ],
           "values": [
            0.1959818254342155,
            -0.19665496477037342,
            -1.454525098378698,
            -0.16444131583286165,
            -1.4009786535249207,
            -1.8048452210441612,
            0.05269907953647094,
            -1.223660055199949,
            0.9087538832936757,
            -1.7345224938442414,
            0.4862125274557883,
            -1.7763480689606874,
            0.12057203154285161,
            0.5893102776267807,
            0.1888185350141924,
            0.28235514585069255,
            -1.9237426197677143,
            0.7226994217782791,
            -1.1307456412586958,
            0.41101623069734367,
            -1.0459895750844084,
            -1.9791436084064278,
            0.8287291117375577,
            0.8873418848263339,
            -0.17130699806030944,
            -1.5653153837263305,
            -1.2870873680228008,
            -1.7291306898367749,
            0.03269308552684742,
            0.07281321430739798,
            0.7740808548356886,
            -0.4110482649319805,
            -0.9829106268538979,
            -0.07390506153713657,
            -1.6955853714019036,
            -0.04411622149219818,
            -0.051101302858355756,
            -1.2043928969548234,
            0.3844339106249453,
            -1.1576829126774326,
            0.7445931706613456,
            0.8908599312677585,
            -1.4915217599417223,
            -0.15497831990249084,
            0.09104722298580424,
            0.6012169557403111,
            0.10590063177311017,
            -0.2651595770114779,
            -1.9084992501828513,
            0.3099806592958327,
            -0.37809463516968017,
            0.3855585843061112,
            0.5079403615366176,
            -0.3523200058816384,
            -0.3369378424657979,
            -1.956819534110732,
            -0.5774785127380242,
            -0.8044857968078796,
            -0.4905912242597367,
            -1.9204660683751342,
            -0.6252413285254499,
            -1.4126265956321107,
            -1.786434054619313,
            -1.645505517135031,
            -1.1538962822860803,
            -0.8839457426216503,
            0.2526132033744923,
            -1.0398511969081647,
            -1.0420590872287552,
            -1.1203676849058062,
            -1.7263816908539287,
            -0.9472549623437637,
            -1.7476795816550077,
            -1.745486857744424,
            0.9580031914686129,
            -0.7273339722590709,
            -1.8310901729544877,
            0.8865176454236258,
            -1.963536575930551,
            -1.7786103057938034,
            -0.6363768056966801,
            0.8512344522296764,
            -0.6089047851800534,
            0.09448514205923537,
            0.7327815534815276,
            0.7981854500620397,
            0.9618283879448335,
            0.5149861141334137,
            0.4387030273902328,
            0.5489421720322344,
            -1.3140715834896117,
            -0.43907689728861987,
            0.6299608079750352,
            0.11223930429767068,
            -0.8232678647008028,
            -0.8103716530361894,
            -0.5236511207613854,
            -0.09979743704982236,
            -1.5835184820517696,
            0.002673215563081811,
            -1.4689685471697593,
            -0.4897481874354292,
            0.6207358723203317,
            -1.446436941930868,
            -0.6123958516005562,
            -0.46496767365300157,
            -1.192270307151857,
            -1.6407136045422461,
            -1.7392391357377288,
            -1.1486722826038263,
            -0.18267554192933846,
            -1.4402989278460825,
            -0.7688095190310154,
            0.45121621284783997,
            -0.28516193159030023,
            -0.4771688639466348,
            -1.536911854177393,
            -1.8098750885816965,
            0.2806835796690599,
            0.49185822336318746,
            -1.8005111978996673,
            -1.3951180398567662,
            -0.9235085476294923,
            -0.6119606429911806,
            -0.8483263358803655,
            -0.11687584078574623,
            0.6816777491528729,
            -1.8994026957926617,
            -1.668104789134378,
            -1.3122458143020754,
            -1.2446028232791415,
            -0.6139825890676018,
            -1.9456694485374784,
            0.12171590294019585,
            0.8031010443070445,
            -1.6260119563901994,
            -1.8357150835339056,
            -0.3878131911862312,
            -1.326185531180054,
            0.7445377032043003,
            -1.4658920993907456,
            -0.4934149690062722,
            -1.3845810785539783,
            0.326582850085032,
            -1.5342792622078625,
            -0.0680013702829524,
            -1.9187120224895495,
            0.3997482561195683,
            0.16680079556697747,
            -1.1205568092169602,
            -1.4556936947306078,
            -1.2217296997061222,
            -0.34385845744405913,
            0.6054039276937387,
            -1.1939679218451615,
            0.9532065421106566,
            -1.6467467513295764,
            -1.38073618471819,
            -0.19844941869903965,
            -0.44324688415148716,
            -1.2639526709560371,
            -0.3007860791093084,
            -1.9064505948161456,
            -0.9972683275491175,
            0.06520718928320828,
            -1.1835645883101116,
            0.8507120614624074,
            0.41968344358434917,
            -1.336371674541193,
            -1.4582739646179992,
            0.7731885861295912,
            -1.0426985802702329,
            -1.7691403951123725,
            -0.38152612287398824,
            -1.3011215757390986,
            0.8172030955386885,
            -0.5603731390882732,
            -0.7359289931687892,
            -1.1110756386320295,
            -0.8470200585209549,
            -0.7472576726452148,
            0.9735058784109295,
            -1.3079905648467236,
            -1.8264719703098107,
            -0.8112739432920236,
            -1.3285471555321307,
            -1.2031998722338817,
            -0.03427405808293464,
            0.17026034106575516,
            0.5536207421463064,
            0.03404845767719089,
            0.5517451872827258,
            -0.14416586535444695,
            0.477450251694288,
            0.496402533873226,
            -0.10455941894999464,
            0.28308370750608397,
            -1.692470816027962,
            -1.7979481955936847,
            0.9204669075321908
           ]
          },
          {
           "label": "max_iter",
           "range": [
            109,
            1000
           ],
           "values": [
            639,
            737,
            265,
            225,
            563,
            954,
            496,
            696,
            798,
            276,
            421,
            989,
            756,
            661,
            674,
            605,
            197,
            324,
            245,
            268,
            199,
            560,
            391,
            326,
            552,
            540,
            756,
            852,
            114,
            448,
            890,
            317,
            414,
            175,
            697,
            302,
            865,
            319,
            552,
            121,
            433,
            868,
            601,
            992,
            732,
            922,
            817,
            132,
            133,
            294,
            674,
            344,
            727,
            743,
            651,
            204,
            188,
            654,
            871,
            627,
            591,
            162,
            387,
            727,
            259,
            799,
            779,
            906,
            956,
            396,
            545,
            205,
            731,
            988,
            778,
            916,
            207,
            437,
            973,
            599,
            665,
            902,
            418,
            583,
            841,
            880,
            235,
            522,
            1000,
            322,
            705,
            795,
            463,
            291,
            494,
            660,
            332,
            316,
            677,
            255,
            179,
            722,
            929,
            288,
            773,
            579,
            439,
            902,
            583,
            427,
            313,
            356,
            985,
            332,
            352,
            318,
            533,
            991,
            636,
            969,
            767,
            247,
            890,
            371,
            589,
            401,
            810,
            613,
            862,
            750,
            411,
            953,
            885,
            237,
            933,
            929,
            402,
            928,
            507,
            426,
            965,
            636,
            271,
            508,
            263,
            468,
            299,
            260,
            870,
            907,
            625,
            442,
            492,
            539,
            588,
            573,
            619,
            109,
            699,
            142,
            450,
            528,
            336,
            794,
            491,
            631,
            501,
            693,
            989,
            611,
            974,
            846,
            727,
            812,
            121,
            819,
            665,
            764,
            310,
            712,
            892,
            308,
            259,
            973,
            783,
            583,
            216,
            596,
            546,
            546,
            609,
            881,
            778,
            216,
            557,
            334,
            587,
            944,
            624,
            972
           ]
          },
          {
           "label": "penalty",
           "range": [
            0,
            1
           ],
           "ticktext": [
            "l2",
            "l1"
           ],
           "tickvals": [
            0,
            1
           ],
           "values": [
            0,
            0,
            1,
            1,
            0,
            1,
            1,
            0,
            1,
            0,
            1,
            0,
            0,
            1,
            0,
            0,
            1,
            0,
            1,
            0,
            0,
            0,
            0,
            0,
            1,
            1,
            0,
            1,
            0,
            1,
            1,
            1,
            1,
            1,
            1,
            0,
            0,
            0,
            1,
            0,
            0,
            0,
            1,
            1,
            1,
            0,
            1,
            1,
            0,
            0,
            0,
            1,
            0,
            0,
            1,
            0,
            1,
            0,
            0,
            0,
            0,
            1,
            0,
            1,
            0,
            1,
            1,
            0,
            1,
            1,
            1,
            0,
            1,
            1,
            0,
            1,
            0,
            1,
            0,
            0,
            0,
            0,
            1,
            0,
            1,
            1,
            0,
            1,
            0,
            0,
            1,
            0,
            0,
            1,
            0,
            0,
            0,
            1,
            0,
            1,
            0,
            0,
            1,
            1,
            1,
            0,
            1,
            0,
            1,
            1,
            0,
            1,
            0,
            1,
            1,
            0,
            0,
            1,
            0,
            0,
            1,
            0,
            1,
            1,
            0,
            0,
            1,
            0,
            0,
            1,
            1,
            1,
            0,
            0,
            0,
            1,
            1,
            0,
            1,
            1,
            0,
            0,
            0,
            1,
            0,
            1,
            1,
            0,
            0,
            1,
            1,
            1,
            1,
            1,
            1,
            0,
            0,
            0,
            1,
            1,
            0,
            1,
            1,
            0,
            1,
            1,
            1,
            1,
            0,
            0,
            1,
            1,
            1,
            0,
            1,
            1,
            1,
            1,
            1,
            1,
            1,
            1,
            1,
            1,
            1,
            1,
            0,
            1,
            1,
            1,
            1,
            1,
            1,
            1,
            0,
            0,
            1,
            0,
            0,
            0
           ]
          },
          {
           "label": "solver",
           "range": [
            0,
            1
           ],
           "ticktext": [
            "liblinear",
            "saga"
           ],
           "tickvals": [
            0,
            1
           ],
           "values": [
            0,
            1,
            1,
            1,
            0,
            0,
            1,
            1,
            0,
            1,
            1,
            0,
            0,
            0,
            0,
            0,
            1,
            1,
            0,
            0,
            1,
            0,
            1,
            0,
            1,
            0,
            1,
            0,
            0,
            0,
            1,
            1,
            1,
            1,
            1,
            0,
            0,
            0,
            0,
            0,
            1,
            1,
            0,
            1,
            0,
            0,
            0,
            1,
            0,
            0,
            1,
            0,
            0,
            0,
            0,
            0,
            0,
            0,
            0,
            0,
            0,
            0,
            0,
            1,
            1,
            1,
            1,
            0,
            0,
            1,
            1,
            1,
            1,
            0,
            0,
            1,
            1,
            1,
            1,
            0,
            1,
            1,
            0,
            1,
            0,
            0,
            0,
            0,
            0,
            0,
            0,
            1,
            0,
            0,
            0,
            1,
            1,
            1,
            1,
            0,
            1,
            1,
            1,
            1,
            1,
            1,
            1,
            1,
            1,
            0,
            1,
            1,
            1,
            1,
            0,
            1,
            0,
            1,
            0,
            1,
            1,
            1,
            1,
            0,
            0,
            1,
            1,
            1,
            1,
            0,
            1,
            1,
            0,
            1,
            0,
            0,
            0,
            1,
            1,
            1,
            1,
            1,
            1,
            0,
            1,
            1,
            1,
            0,
            0,
            1,
            1,
            0,
            1,
            0,
            0,
            1,
            1,
            1,
            1,
            1,
            1,
            1,
            0,
            0,
            1,
            0,
            1,
            1,
            0,
            0,
            0,
            1,
            1,
            1,
            0,
            0,
            1,
            0,
            0,
            1,
            0,
            0,
            0,
            1,
            0,
            0,
            1,
            1,
            1,
            1,
            1,
            1,
            1,
            1,
            1,
            0,
            0,
            0,
            1,
            0
           ]
          }
         ],
         "labelangle": 30,
         "labelside": "bottom",
         "line": {
          "color": [
           0.76,
           0.745,
           0.57,
           0.77,
           0.685,
           0.57,
           0.775,
           0.715,
           0.785,
           0.685,
           0.8,
           0.675,
           0.755,
           0.805,
           0.76,
           0.77,
           0.57,
           0.79,
           0.64,
           0.765,
           0.725,
           0.665,
           0.795,
           0.795,
           0.77,
           0.57,
           0.715,
           0.57,
           0.745,
           0.785,
           0.79,
           0.75,
           0.665,
           0.77,
           0.57,
           0.735,
           0.735,
           0.7,
           0.795,
           0.71,
           0.79,
           0.79,
           0.57,
           0.775,
           0.785,
           0.775,
           0.78,
           0.76,
           0.665,
           0.77,
           0.735,
           0.795,
           0.765,
           0.74,
           0.75,
           0.66,
           0.735,
           0.725,
           0.745,
           0.665,
           0.74,
           0.64,
           0.675,
           0.57,
           0.72,
           0.665,
           0.79,
           0.715,
           0.665,
           0.64,
           0.57,
           0.74,
           0.57,
           0.57,
           0.795,
           0.72,
           0.685,
           0.78,
           0.68,
           0.675,
           0.74,
           0.795,
           0.735,
           0.76,
           0.78,
           0.79,
           0.795,
           0.805,
           0.765,
           0.775,
           0.64,
           0.74,
           0.775,
           0.78,
           0.725,
           0.745,
           0.74,
           0.775,
           0.695,
           0.79,
           0.705,
           0.74,
           0.785,
           0.64,
           0.74,
           0.74,
           0.64,
           0.7,
           0.57,
           0.64,
           0.745,
           0.64,
           0.745,
           0.795,
           0.755,
           0.74,
           0.685,
           0.57,
           0.77,
           0.785,
           0.57,
           0.71,
           0.665,
           0.735,
           0.725,
           0.76,
           0.79,
           0.685,
           0.695,
           0.64,
           0.64,
           0.74,
           0.66,
           0.76,
           0.785,
           0.57,
           0.57,
           0.735,
           0.64,
           0.79,
           0.705,
           0.74,
           0.71,
           0.795,
           0.695,
           0.775,
           0.57,
           0.76,
           0.76,
           0.64,
           0.57,
           0.64,
           0.76,
           0.805,
           0.64,
           0.795,
           0.7,
           0.71,
           0.77,
           0.75,
           0.72,
           0.765,
           0.57,
           0.715,
           0.78,
           0.64,
           0.785,
           0.795,
           0.7,
           0.685,
           0.785,
           0.665,
           0.57,
           0.735,
           0.64,
           0.79,
           0.735,
           0.705,
           0.645,
           0.665,
           0.705,
           0.78,
           0.64,
           0.57,
           0.67,
           0.64,
           0.715,
           0.77,
           0.785,
           0.795,
           0.775,
           0.795,
           0.775,
           0.8,
           0.785,
           0.735,
           0.785,
           0.68,
           0.685,
           0.79
          ],
          "colorbar": {
           "title": {
            "text": "Objective Value"
           }
          },
          "colorscale": [
           [
            0,
            "rgb(247,251,255)"
           ],
           [
            0.125,
            "rgb(222,235,247)"
           ],
           [
            0.25,
            "rgb(198,219,239)"
           ],
           [
            0.375,
            "rgb(158,202,225)"
           ],
           [
            0.5,
            "rgb(107,174,214)"
           ],
           [
            0.625,
            "rgb(66,146,198)"
           ],
           [
            0.75,
            "rgb(33,113,181)"
           ],
           [
            0.875,
            "rgb(8,81,156)"
           ],
           [
            1,
            "rgb(8,48,107)"
           ]
          ],
          "reversescale": false,
          "showscale": true
         },
         "type": "parcoords"
        }
       ],
       "layout": {
        "template": {
         "data": {
          "bar": [
           {
            "error_x": {
             "color": "#2a3f5f"
            },
            "error_y": {
             "color": "#2a3f5f"
            },
            "marker": {
             "line": {
              "color": "#E5ECF6",
              "width": 0.5
             },
             "pattern": {
              "fillmode": "overlay",
              "size": 10,
              "solidity": 0.2
             }
            },
            "type": "bar"
           }
          ],
          "barpolar": [
           {
            "marker": {
             "line": {
              "color": "#E5ECF6",
              "width": 0.5
             },
             "pattern": {
              "fillmode": "overlay",
              "size": 10,
              "solidity": 0.2
             }
            },
            "type": "barpolar"
           }
          ],
          "carpet": [
           {
            "aaxis": {
             "endlinecolor": "#2a3f5f",
             "gridcolor": "white",
             "linecolor": "white",
             "minorgridcolor": "white",
             "startlinecolor": "#2a3f5f"
            },
            "baxis": {
             "endlinecolor": "#2a3f5f",
             "gridcolor": "white",
             "linecolor": "white",
             "minorgridcolor": "white",
             "startlinecolor": "#2a3f5f"
            },
            "type": "carpet"
           }
          ],
          "choropleth": [
           {
            "colorbar": {
             "outlinewidth": 0,
             "ticks": ""
            },
            "type": "choropleth"
           }
          ],
          "contour": [
           {
            "colorbar": {
             "outlinewidth": 0,
             "ticks": ""
            },
            "colorscale": [
             [
              0,
              "#0d0887"
             ],
             [
              0.1111111111111111,
              "#46039f"
             ],
             [
              0.2222222222222222,
              "#7201a8"
             ],
             [
              0.3333333333333333,
              "#9c179e"
             ],
             [
              0.4444444444444444,
              "#bd3786"
             ],
             [
              0.5555555555555556,
              "#d8576b"
             ],
             [
              0.6666666666666666,
              "#ed7953"
             ],
             [
              0.7777777777777778,
              "#fb9f3a"
             ],
             [
              0.8888888888888888,
              "#fdca26"
             ],
             [
              1,
              "#f0f921"
             ]
            ],
            "type": "contour"
           }
          ],
          "contourcarpet": [
           {
            "colorbar": {
             "outlinewidth": 0,
             "ticks": ""
            },
            "type": "contourcarpet"
           }
          ],
          "heatmap": [
           {
            "colorbar": {
             "outlinewidth": 0,
             "ticks": ""
            },
            "colorscale": [
             [
              0,
              "#0d0887"
             ],
             [
              0.1111111111111111,
              "#46039f"
             ],
             [
              0.2222222222222222,
              "#7201a8"
             ],
             [
              0.3333333333333333,
              "#9c179e"
             ],
             [
              0.4444444444444444,
              "#bd3786"
             ],
             [
              0.5555555555555556,
              "#d8576b"
             ],
             [
              0.6666666666666666,
              "#ed7953"
             ],
             [
              0.7777777777777778,
              "#fb9f3a"
             ],
             [
              0.8888888888888888,
              "#fdca26"
             ],
             [
              1,
              "#f0f921"
             ]
            ],
            "type": "heatmap"
           }
          ],
          "heatmapgl": [
           {
            "colorbar": {
             "outlinewidth": 0,
             "ticks": ""
            },
            "colorscale": [
             [
              0,
              "#0d0887"
             ],
             [
              0.1111111111111111,
              "#46039f"
             ],
             [
              0.2222222222222222,
              "#7201a8"
             ],
             [
              0.3333333333333333,
              "#9c179e"
             ],
             [
              0.4444444444444444,
              "#bd3786"
             ],
             [
              0.5555555555555556,
              "#d8576b"
             ],
             [
              0.6666666666666666,
              "#ed7953"
             ],
             [
              0.7777777777777778,
              "#fb9f3a"
             ],
             [
              0.8888888888888888,
              "#fdca26"
             ],
             [
              1,
              "#f0f921"
             ]
            ],
            "type": "heatmapgl"
           }
          ],
          "histogram": [
           {
            "marker": {
             "pattern": {
              "fillmode": "overlay",
              "size": 10,
              "solidity": 0.2
             }
            },
            "type": "histogram"
           }
          ],
          "histogram2d": [
           {
            "colorbar": {
             "outlinewidth": 0,
             "ticks": ""
            },
            "colorscale": [
             [
              0,
              "#0d0887"
             ],
             [
              0.1111111111111111,
              "#46039f"
             ],
             [
              0.2222222222222222,
              "#7201a8"
             ],
             [
              0.3333333333333333,
              "#9c179e"
             ],
             [
              0.4444444444444444,
              "#bd3786"
             ],
             [
              0.5555555555555556,
              "#d8576b"
             ],
             [
              0.6666666666666666,
              "#ed7953"
             ],
             [
              0.7777777777777778,
              "#fb9f3a"
             ],
             [
              0.8888888888888888,
              "#fdca26"
             ],
             [
              1,
              "#f0f921"
             ]
            ],
            "type": "histogram2d"
           }
          ],
          "histogram2dcontour": [
           {
            "colorbar": {
             "outlinewidth": 0,
             "ticks": ""
            },
            "colorscale": [
             [
              0,
              "#0d0887"
             ],
             [
              0.1111111111111111,
              "#46039f"
             ],
             [
              0.2222222222222222,
              "#7201a8"
             ],
             [
              0.3333333333333333,
              "#9c179e"
             ],
             [
              0.4444444444444444,
              "#bd3786"
             ],
             [
              0.5555555555555556,
              "#d8576b"
             ],
             [
              0.6666666666666666,
              "#ed7953"
             ],
             [
              0.7777777777777778,
              "#fb9f3a"
             ],
             [
              0.8888888888888888,
              "#fdca26"
             ],
             [
              1,
              "#f0f921"
             ]
            ],
            "type": "histogram2dcontour"
           }
          ],
          "mesh3d": [
           {
            "colorbar": {
             "outlinewidth": 0,
             "ticks": ""
            },
            "type": "mesh3d"
           }
          ],
          "parcoords": [
           {
            "line": {
             "colorbar": {
              "outlinewidth": 0,
              "ticks": ""
             }
            },
            "type": "parcoords"
           }
          ],
          "pie": [
           {
            "automargin": true,
            "type": "pie"
           }
          ],
          "scatter": [
           {
            "fillpattern": {
             "fillmode": "overlay",
             "size": 10,
             "solidity": 0.2
            },
            "type": "scatter"
           }
          ],
          "scatter3d": [
           {
            "line": {
             "colorbar": {
              "outlinewidth": 0,
              "ticks": ""
             }
            },
            "marker": {
             "colorbar": {
              "outlinewidth": 0,
              "ticks": ""
             }
            },
            "type": "scatter3d"
           }
          ],
          "scattercarpet": [
           {
            "marker": {
             "colorbar": {
              "outlinewidth": 0,
              "ticks": ""
             }
            },
            "type": "scattercarpet"
           }
          ],
          "scattergeo": [
           {
            "marker": {
             "colorbar": {
              "outlinewidth": 0,
              "ticks": ""
             }
            },
            "type": "scattergeo"
           }
          ],
          "scattergl": [
           {
            "marker": {
             "colorbar": {
              "outlinewidth": 0,
              "ticks": ""
             }
            },
            "type": "scattergl"
           }
          ],
          "scattermapbox": [
           {
            "marker": {
             "colorbar": {
              "outlinewidth": 0,
              "ticks": ""
             }
            },
            "type": "scattermapbox"
           }
          ],
          "scatterpolar": [
           {
            "marker": {
             "colorbar": {
              "outlinewidth": 0,
              "ticks": ""
             }
            },
            "type": "scatterpolar"
           }
          ],
          "scatterpolargl": [
           {
            "marker": {
             "colorbar": {
              "outlinewidth": 0,
              "ticks": ""
             }
            },
            "type": "scatterpolargl"
           }
          ],
          "scatterternary": [
           {
            "marker": {
             "colorbar": {
              "outlinewidth": 0,
              "ticks": ""
             }
            },
            "type": "scatterternary"
           }
          ],
          "surface": [
           {
            "colorbar": {
             "outlinewidth": 0,
             "ticks": ""
            },
            "colorscale": [
             [
              0,
              "#0d0887"
             ],
             [
              0.1111111111111111,
              "#46039f"
             ],
             [
              0.2222222222222222,
              "#7201a8"
             ],
             [
              0.3333333333333333,
              "#9c179e"
             ],
             [
              0.4444444444444444,
              "#bd3786"
             ],
             [
              0.5555555555555556,
              "#d8576b"
             ],
             [
              0.6666666666666666,
              "#ed7953"
             ],
             [
              0.7777777777777778,
              "#fb9f3a"
             ],
             [
              0.8888888888888888,
              "#fdca26"
             ],
             [
              1,
              "#f0f921"
             ]
            ],
            "type": "surface"
           }
          ],
          "table": [
           {
            "cells": {
             "fill": {
              "color": "#EBF0F8"
             },
             "line": {
              "color": "white"
             }
            },
            "header": {
             "fill": {
              "color": "#C8D4E3"
             },
             "line": {
              "color": "white"
             }
            },
            "type": "table"
           }
          ]
         },
         "layout": {
          "annotationdefaults": {
           "arrowcolor": "#2a3f5f",
           "arrowhead": 0,
           "arrowwidth": 1
          },
          "autotypenumbers": "strict",
          "coloraxis": {
           "colorbar": {
            "outlinewidth": 0,
            "ticks": ""
           }
          },
          "colorscale": {
           "diverging": [
            [
             0,
             "#8e0152"
            ],
            [
             0.1,
             "#c51b7d"
            ],
            [
             0.2,
             "#de77ae"
            ],
            [
             0.3,
             "#f1b6da"
            ],
            [
             0.4,
             "#fde0ef"
            ],
            [
             0.5,
             "#f7f7f7"
            ],
            [
             0.6,
             "#e6f5d0"
            ],
            [
             0.7,
             "#b8e186"
            ],
            [
             0.8,
             "#7fbc41"
            ],
            [
             0.9,
             "#4d9221"
            ],
            [
             1,
             "#276419"
            ]
           ],
           "sequential": [
            [
             0,
             "#0d0887"
            ],
            [
             0.1111111111111111,
             "#46039f"
            ],
            [
             0.2222222222222222,
             "#7201a8"
            ],
            [
             0.3333333333333333,
             "#9c179e"
            ],
            [
             0.4444444444444444,
             "#bd3786"
            ],
            [
             0.5555555555555556,
             "#d8576b"
            ],
            [
             0.6666666666666666,
             "#ed7953"
            ],
            [
             0.7777777777777778,
             "#fb9f3a"
            ],
            [
             0.8888888888888888,
             "#fdca26"
            ],
            [
             1,
             "#f0f921"
            ]
           ],
           "sequentialminus": [
            [
             0,
             "#0d0887"
            ],
            [
             0.1111111111111111,
             "#46039f"
            ],
            [
             0.2222222222222222,
             "#7201a8"
            ],
            [
             0.3333333333333333,
             "#9c179e"
            ],
            [
             0.4444444444444444,
             "#bd3786"
            ],
            [
             0.5555555555555556,
             "#d8576b"
            ],
            [
             0.6666666666666666,
             "#ed7953"
            ],
            [
             0.7777777777777778,
             "#fb9f3a"
            ],
            [
             0.8888888888888888,
             "#fdca26"
            ],
            [
             1,
             "#f0f921"
            ]
           ]
          },
          "colorway": [
           "#636efa",
           "#EF553B",
           "#00cc96",
           "#ab63fa",
           "#FFA15A",
           "#19d3f3",
           "#FF6692",
           "#B6E880",
           "#FF97FF",
           "#FECB52"
          ],
          "font": {
           "color": "#2a3f5f"
          },
          "geo": {
           "bgcolor": "white",
           "lakecolor": "white",
           "landcolor": "#E5ECF6",
           "showlakes": true,
           "showland": true,
           "subunitcolor": "white"
          },
          "hoverlabel": {
           "align": "left"
          },
          "hovermode": "closest",
          "mapbox": {
           "style": "light"
          },
          "paper_bgcolor": "white",
          "plot_bgcolor": "#E5ECF6",
          "polar": {
           "angularaxis": {
            "gridcolor": "white",
            "linecolor": "white",
            "ticks": ""
           },
           "bgcolor": "#E5ECF6",
           "radialaxis": {
            "gridcolor": "white",
            "linecolor": "white",
            "ticks": ""
           }
          },
          "scene": {
           "xaxis": {
            "backgroundcolor": "#E5ECF6",
            "gridcolor": "white",
            "gridwidth": 2,
            "linecolor": "white",
            "showbackground": true,
            "ticks": "",
            "zerolinecolor": "white"
           },
           "yaxis": {
            "backgroundcolor": "#E5ECF6",
            "gridcolor": "white",
            "gridwidth": 2,
            "linecolor": "white",
            "showbackground": true,
            "ticks": "",
            "zerolinecolor": "white"
           },
           "zaxis": {
            "backgroundcolor": "#E5ECF6",
            "gridcolor": "white",
            "gridwidth": 2,
            "linecolor": "white",
            "showbackground": true,
            "ticks": "",
            "zerolinecolor": "white"
           }
          },
          "shapedefaults": {
           "line": {
            "color": "#2a3f5f"
           }
          },
          "ternary": {
           "aaxis": {
            "gridcolor": "white",
            "linecolor": "white",
            "ticks": ""
           },
           "baxis": {
            "gridcolor": "white",
            "linecolor": "white",
            "ticks": ""
           },
           "bgcolor": "#E5ECF6",
           "caxis": {
            "gridcolor": "white",
            "linecolor": "white",
            "ticks": ""
           }
          },
          "title": {
           "x": 0.05
          },
          "xaxis": {
           "automargin": true,
           "gridcolor": "white",
           "linecolor": "white",
           "ticks": "",
           "title": {
            "standoff": 15
           },
           "zerolinecolor": "white",
           "zerolinewidth": 2
          },
          "yaxis": {
           "automargin": true,
           "gridcolor": "white",
           "linecolor": "white",
           "ticks": "",
           "title": {
            "standoff": 15
           },
           "zerolinecolor": "white",
           "zerolinewidth": 2
          }
         }
        },
        "title": {
         "text": "Parallel Coordinate Plot"
        }
       }
      }
     },
     "metadata": {},
     "output_type": "display_data"
    }
   ],
   "source": [
    "optuna.visualization.plot_parallel_coordinate(study)"
   ]
  },
  {
   "cell_type": "code",
   "execution_count": 26,
   "metadata": {},
   "outputs": [
    {
     "data": {
      "application/vnd.plotly.v1+json": {
       "config": {
        "plotlyServerURL": "https://plot.ly"
       },
       "data": [
        {
         "marker": {
          "color": [
           0,
           1,
           2,
           3,
           4,
           5,
           6,
           7,
           8,
           9,
           10,
           11,
           12,
           13,
           14,
           15,
           16,
           17,
           18,
           19,
           20,
           21,
           22,
           23,
           24,
           25,
           26,
           27,
           28,
           29,
           30,
           31,
           32,
           33,
           34,
           35,
           36,
           37,
           38,
           39,
           40,
           41,
           42,
           43,
           44,
           45,
           46,
           47,
           48,
           49,
           50,
           51,
           52,
           53,
           54,
           55,
           56,
           57,
           58,
           59,
           60,
           61,
           62,
           63,
           64,
           65,
           66,
           67,
           68,
           69,
           70,
           71,
           72,
           73,
           74,
           75,
           76,
           77,
           78,
           79,
           80,
           81,
           82,
           83,
           84,
           85,
           86,
           87,
           88,
           89,
           90,
           91,
           92,
           93,
           94,
           95,
           96,
           97,
           98,
           99,
           100,
           101,
           102,
           103,
           104,
           105,
           106,
           107,
           108,
           109,
           110,
           111,
           112,
           113,
           114,
           115,
           116,
           117,
           118,
           119,
           120,
           121,
           122,
           123,
           124,
           125,
           126,
           127,
           128,
           129,
           130,
           131,
           132,
           133,
           134,
           135,
           136,
           137,
           138,
           139,
           140,
           141,
           142,
           143,
           144,
           145,
           146,
           147,
           148,
           149,
           150,
           151,
           152,
           153,
           154,
           155,
           156,
           157,
           158,
           159,
           160,
           161,
           162,
           163,
           164,
           165,
           166,
           167,
           168,
           169,
           170,
           171,
           172,
           173,
           174,
           175,
           176,
           177,
           178,
           179,
           180,
           181,
           182,
           183,
           184,
           185,
           186,
           187,
           188,
           189,
           190,
           191,
           192,
           193,
           194,
           195,
           196,
           197,
           198,
           199
          ],
          "colorbar": {
           "title": {
            "text": "Trial"
           },
           "x": 1,
           "xpad": 40
          },
          "colorscale": [
           [
            0,
            "rgb(247,251,255)"
           ],
           [
            0.125,
            "rgb(222,235,247)"
           ],
           [
            0.25,
            "rgb(198,219,239)"
           ],
           [
            0.375,
            "rgb(158,202,225)"
           ],
           [
            0.5,
            "rgb(107,174,214)"
           ],
           [
            0.625,
            "rgb(66,146,198)"
           ],
           [
            0.75,
            "rgb(33,113,181)"
           ],
           [
            0.875,
            "rgb(8,81,156)"
           ],
           [
            1,
            "rgb(8,48,107)"
           ]
          ],
          "line": {
           "color": "Grey",
           "width": 0.5
          },
          "showscale": true
         },
         "mode": "markers",
         "name": "Feasible Trial",
         "showlegend": false,
         "type": "scatter",
         "x": [
          1.5702970884055387,
          0.6358358856676253,
          0.035113563139704075,
          0.6847920095574779,
          0.039721107273819126,
          0.015673095467235415,
          1.1290133559092674,
          0.059750279999602945,
          8.10501612641158,
          0.01842797040686454,
          3.063462210622083,
          0.01673601016782578,
          1.3199942261535018,
          3.8842777547031417,
          1.5446089075047076,
          1.9158219548093167,
          0.011919481947918732,
          5.280796376895363,
          0.07400385759087375,
          2.5764174425233164,
          0.08995191735587167,
          0.010491954332267909,
          6.741074265640696,
          7.715105777813049,
          0.6740513796374044,
          0.027207248059486704,
          0.0516312491048802,
          0.01865818136012486,
          1.0781845035122266,
          1.182532850842265,
          5.94402811341093,
          0.3881072316409482,
          0.10401341922663464,
          0.8435191341743051,
          0.020156477059365012,
          0.9034076805537772,
          0.8889937283707159,
          0.0624607368131809,
          2.423449144702316,
          0.06955319544158291,
          5.553837526912236,
          7.777856590163644,
          0.032246177486423735,
          0.6998769331752381,
          1.2332389221028008,
          3.9922428866315034,
          1.2761467881730217,
          0.543050756450092,
          0.012345274466024474,
          2.0416470207182766,
          0.4187023176257686,
          2.4297331796223,
          3.220626495993124,
          0.44430376569555396,
          0.46032245160252633,
          0.011045375019318382,
          0.2645583585038549,
          0.1568607196662889,
          0.3231534343074976,
          0.012009749020630274,
          0.23700563480372555,
          0.038669931642850285,
          0.016351814261589406,
          0.022620098037544993,
          0.07016228391812,
          0.1306334081168228,
          1.789011792871036,
          0.09123233767937085,
          0.0907697026535511,
          0.07579356154838335,
          0.01877665856576686,
          0.1129132837226,
          0.017878061147648464,
          0.017968554542843712,
          9.078272014381131,
          0.18735531924000176,
          0.014754001628061711,
          7.700477308294277,
          0.010875855381980925,
          0.016649059071639678,
          0.23100596499042997,
          7.09960934247593,
          0.24609070748295203,
          1.2430401086355434,
          5.404823964051239,
          6.283266061384215,
          9.158585158712828,
          3.2733022885465073,
          2.746015772449605,
          3.5395020812446245,
          0.04852085180693703,
          0.36385060610699704,
          4.265410247347661,
          1.2949091638211225,
          0.15022151421368923,
          0.15474917663181323,
          0.2994669360763513,
          0.7946988104669667,
          0.026090446888493463,
          1.0061742891321552,
          0.03396498701004283,
          0.32378133736281073,
          4.175763293118453,
          0.03577363388951147,
          0.24412044244324688,
          0.34279330112989786,
          0.06422878295869772,
          0.022871065383877762,
          0.0182289168637327,
          0.07101134154276112,
          0.6566356505484117,
          0.03628282316625832,
          0.17029052365462627,
          2.8262866872541355,
          0.5186066345484336,
          0.33329679390406936,
          0.029046121241795463,
          0.015492621523313821,
          1.9084622754179417,
          3.1035462614604032,
          0.015830287491819788,
          0.04026075919920692,
          0.11925907934771024,
          0.24436519933969406,
          0.14179916194912245,
          0.7640541856351153,
          4.804826931835747,
          0.01260658058227482,
          0.0214731229544139,
          0.04872526229872034,
          0.056937340369173015,
          0.24323015184601973,
          0.011332625871376317,
          1.3234754903375765,
          6.35478767122729,
          0.02365854563179718,
          0.014597716212138042,
          0.4094367382824368,
          0.04718614183746149,
          5.553128244188594,
          0.034206441797621126,
          0.3210591347884213,
          0.041249522108377616,
          2.121206015630901,
          0.029222726791811347,
          0.8550640149883475,
          0.012058352559152993,
          2.5104308090596277,
          1.468252657463809,
          0.07576056254648099,
          0.03501920682952667,
          0.06001644960741879,
          0.4530452095214948,
          4.030917667716689,
          0.0639782089757959,
          8.978556958963887,
          0.022555541023663448,
          0.04161633351138873,
          0.6332141064382677,
          0.36037372249461913,
          0.0544561995512795,
          0.5002808981856133,
          0.012403647205371562,
          0.10063097312771815,
          1.1620028394316197,
          0.06552928233851989,
          7.0910747170673245,
          2.628351493147274,
          0.04609229422149268,
          0.034811764380096887,
          5.931828497797028,
          0.09063614378928193,
          0.01701608337664498,
          0.415407063697232,
          0.049989457565796404,
          6.5645218095630575,
          0.2751863329012538,
          0.1836838640577253,
          0.07743269258838692,
          0.14222630963205307,
          0.1789543779063583,
          9.408185644390125,
          0.04920502254761878,
          0.0149117299376565,
          0.15442800347832064,
          0.0469302474863776,
          0.06263255490183867,
          0.924114834576203,
          1.4799953165327082,
          3.577838574843289,
          1.0815546221863792,
          3.562420549204573,
          0.7175202042698314,
          3.0022734916139453,
          3.1361912144377797,
          0.7860326410149306,
          1.9190385875390803,
          0.020301549388030277,
          0.01592398663490491,
          8.326584764715722
         ],
         "xaxis": "x",
         "y": [
          0.76,
          0.745,
          0.57,
          0.77,
          0.685,
          0.57,
          0.775,
          0.715,
          0.785,
          0.685,
          0.8,
          0.675,
          0.755,
          0.805,
          0.76,
          0.77,
          0.57,
          0.79,
          0.64,
          0.765,
          0.725,
          0.665,
          0.795,
          0.795,
          0.77,
          0.57,
          0.715,
          0.57,
          0.745,
          0.785,
          0.79,
          0.75,
          0.665,
          0.77,
          0.57,
          0.735,
          0.735,
          0.7,
          0.795,
          0.71,
          0.79,
          0.79,
          0.57,
          0.775,
          0.785,
          0.775,
          0.78,
          0.76,
          0.665,
          0.77,
          0.735,
          0.795,
          0.765,
          0.74,
          0.75,
          0.66,
          0.735,
          0.725,
          0.745,
          0.665,
          0.74,
          0.64,
          0.675,
          0.57,
          0.72,
          0.665,
          0.79,
          0.715,
          0.665,
          0.64,
          0.57,
          0.74,
          0.57,
          0.57,
          0.795,
          0.72,
          0.685,
          0.78,
          0.68,
          0.675,
          0.74,
          0.795,
          0.735,
          0.76,
          0.78,
          0.79,
          0.795,
          0.805,
          0.765,
          0.775,
          0.64,
          0.74,
          0.775,
          0.78,
          0.725,
          0.745,
          0.74,
          0.775,
          0.695,
          0.79,
          0.705,
          0.74,
          0.785,
          0.64,
          0.74,
          0.74,
          0.64,
          0.7,
          0.57,
          0.64,
          0.745,
          0.64,
          0.745,
          0.795,
          0.755,
          0.74,
          0.685,
          0.57,
          0.77,
          0.785,
          0.57,
          0.71,
          0.665,
          0.735,
          0.725,
          0.76,
          0.79,
          0.685,
          0.695,
          0.64,
          0.64,
          0.74,
          0.66,
          0.76,
          0.785,
          0.57,
          0.57,
          0.735,
          0.64,
          0.79,
          0.705,
          0.74,
          0.71,
          0.795,
          0.695,
          0.775,
          0.57,
          0.76,
          0.76,
          0.64,
          0.57,
          0.64,
          0.76,
          0.805,
          0.64,
          0.795,
          0.7,
          0.71,
          0.77,
          0.75,
          0.72,
          0.765,
          0.57,
          0.715,
          0.78,
          0.64,
          0.785,
          0.795,
          0.7,
          0.685,
          0.785,
          0.665,
          0.57,
          0.735,
          0.64,
          0.79,
          0.735,
          0.705,
          0.645,
          0.665,
          0.705,
          0.78,
          0.64,
          0.57,
          0.67,
          0.64,
          0.715,
          0.77,
          0.785,
          0.795,
          0.775,
          0.795,
          0.775,
          0.8,
          0.785,
          0.735,
          0.785,
          0.68,
          0.685,
          0.79
         ],
         "yaxis": "y"
        },
        {
         "marker": {
          "color": [
           0,
           1,
           2,
           3,
           4,
           5,
           6,
           7,
           8,
           9,
           10,
           11,
           12,
           13,
           14,
           15,
           16,
           17,
           18,
           19,
           20,
           21,
           22,
           23,
           24,
           25,
           26,
           27,
           28,
           29,
           30,
           31,
           32,
           33,
           34,
           35,
           36,
           37,
           38,
           39,
           40,
           41,
           42,
           43,
           44,
           45,
           46,
           47,
           48,
           49,
           50,
           51,
           52,
           53,
           54,
           55,
           56,
           57,
           58,
           59,
           60,
           61,
           62,
           63,
           64,
           65,
           66,
           67,
           68,
           69,
           70,
           71,
           72,
           73,
           74,
           75,
           76,
           77,
           78,
           79,
           80,
           81,
           82,
           83,
           84,
           85,
           86,
           87,
           88,
           89,
           90,
           91,
           92,
           93,
           94,
           95,
           96,
           97,
           98,
           99,
           100,
           101,
           102,
           103,
           104,
           105,
           106,
           107,
           108,
           109,
           110,
           111,
           112,
           113,
           114,
           115,
           116,
           117,
           118,
           119,
           120,
           121,
           122,
           123,
           124,
           125,
           126,
           127,
           128,
           129,
           130,
           131,
           132,
           133,
           134,
           135,
           136,
           137,
           138,
           139,
           140,
           141,
           142,
           143,
           144,
           145,
           146,
           147,
           148,
           149,
           150,
           151,
           152,
           153,
           154,
           155,
           156,
           157,
           158,
           159,
           160,
           161,
           162,
           163,
           164,
           165,
           166,
           167,
           168,
           169,
           170,
           171,
           172,
           173,
           174,
           175,
           176,
           177,
           178,
           179,
           180,
           181,
           182,
           183,
           184,
           185,
           186,
           187,
           188,
           189,
           190,
           191,
           192,
           193,
           194,
           195,
           196,
           197,
           198,
           199
          ],
          "colorbar": {
           "title": {
            "text": "Trial"
           },
           "x": 1,
           "xpad": 40
          },
          "colorscale": [
           [
            0,
            "rgb(247,251,255)"
           ],
           [
            0.125,
            "rgb(222,235,247)"
           ],
           [
            0.25,
            "rgb(198,219,239)"
           ],
           [
            0.375,
            "rgb(158,202,225)"
           ],
           [
            0.5,
            "rgb(107,174,214)"
           ],
           [
            0.625,
            "rgb(66,146,198)"
           ],
           [
            0.75,
            "rgb(33,113,181)"
           ],
           [
            0.875,
            "rgb(8,81,156)"
           ],
           [
            1,
            "rgb(8,48,107)"
           ]
          ],
          "line": {
           "color": "Grey",
           "width": 0.5
          },
          "showscale": false
         },
         "mode": "markers",
         "name": "Feasible Trial",
         "showlegend": false,
         "type": "scatter",
         "x": [
          639,
          737,
          265,
          225,
          563,
          954,
          496,
          696,
          798,
          276,
          421,
          989,
          756,
          661,
          674,
          605,
          197,
          324,
          245,
          268,
          199,
          560,
          391,
          326,
          552,
          540,
          756,
          852,
          114,
          448,
          890,
          317,
          414,
          175,
          697,
          302,
          865,
          319,
          552,
          121,
          433,
          868,
          601,
          992,
          732,
          922,
          817,
          132,
          133,
          294,
          674,
          344,
          727,
          743,
          651,
          204,
          188,
          654,
          871,
          627,
          591,
          162,
          387,
          727,
          259,
          799,
          779,
          906,
          956,
          396,
          545,
          205,
          731,
          988,
          778,
          916,
          207,
          437,
          973,
          599,
          665,
          902,
          418,
          583,
          841,
          880,
          235,
          522,
          1000,
          322,
          705,
          795,
          463,
          291,
          494,
          660,
          332,
          316,
          677,
          255,
          179,
          722,
          929,
          288,
          773,
          579,
          439,
          902,
          583,
          427,
          313,
          356,
          985,
          332,
          352,
          318,
          533,
          991,
          636,
          969,
          767,
          247,
          890,
          371,
          589,
          401,
          810,
          613,
          862,
          750,
          411,
          953,
          885,
          237,
          933,
          929,
          402,
          928,
          507,
          426,
          965,
          636,
          271,
          508,
          263,
          468,
          299,
          260,
          870,
          907,
          625,
          442,
          492,
          539,
          588,
          573,
          619,
          109,
          699,
          142,
          450,
          528,
          336,
          794,
          491,
          631,
          501,
          693,
          989,
          611,
          974,
          846,
          727,
          812,
          121,
          819,
          665,
          764,
          310,
          712,
          892,
          308,
          259,
          973,
          783,
          583,
          216,
          596,
          546,
          546,
          609,
          881,
          778,
          216,
          557,
          334,
          587,
          944,
          624,
          972
         ],
         "xaxis": "x2",
         "y": [
          0.76,
          0.745,
          0.57,
          0.77,
          0.685,
          0.57,
          0.775,
          0.715,
          0.785,
          0.685,
          0.8,
          0.675,
          0.755,
          0.805,
          0.76,
          0.77,
          0.57,
          0.79,
          0.64,
          0.765,
          0.725,
          0.665,
          0.795,
          0.795,
          0.77,
          0.57,
          0.715,
          0.57,
          0.745,
          0.785,
          0.79,
          0.75,
          0.665,
          0.77,
          0.57,
          0.735,
          0.735,
          0.7,
          0.795,
          0.71,
          0.79,
          0.79,
          0.57,
          0.775,
          0.785,
          0.775,
          0.78,
          0.76,
          0.665,
          0.77,
          0.735,
          0.795,
          0.765,
          0.74,
          0.75,
          0.66,
          0.735,
          0.725,
          0.745,
          0.665,
          0.74,
          0.64,
          0.675,
          0.57,
          0.72,
          0.665,
          0.79,
          0.715,
          0.665,
          0.64,
          0.57,
          0.74,
          0.57,
          0.57,
          0.795,
          0.72,
          0.685,
          0.78,
          0.68,
          0.675,
          0.74,
          0.795,
          0.735,
          0.76,
          0.78,
          0.79,
          0.795,
          0.805,
          0.765,
          0.775,
          0.64,
          0.74,
          0.775,
          0.78,
          0.725,
          0.745,
          0.74,
          0.775,
          0.695,
          0.79,
          0.705,
          0.74,
          0.785,
          0.64,
          0.74,
          0.74,
          0.64,
          0.7,
          0.57,
          0.64,
          0.745,
          0.64,
          0.745,
          0.795,
          0.755,
          0.74,
          0.685,
          0.57,
          0.77,
          0.785,
          0.57,
          0.71,
          0.665,
          0.735,
          0.725,
          0.76,
          0.79,
          0.685,
          0.695,
          0.64,
          0.64,
          0.74,
          0.66,
          0.76,
          0.785,
          0.57,
          0.57,
          0.735,
          0.64,
          0.79,
          0.705,
          0.74,
          0.71,
          0.795,
          0.695,
          0.775,
          0.57,
          0.76,
          0.76,
          0.64,
          0.57,
          0.64,
          0.76,
          0.805,
          0.64,
          0.795,
          0.7,
          0.71,
          0.77,
          0.75,
          0.72,
          0.765,
          0.57,
          0.715,
          0.78,
          0.64,
          0.785,
          0.795,
          0.7,
          0.685,
          0.785,
          0.665,
          0.57,
          0.735,
          0.64,
          0.79,
          0.735,
          0.705,
          0.645,
          0.665,
          0.705,
          0.78,
          0.64,
          0.57,
          0.67,
          0.64,
          0.715,
          0.77,
          0.785,
          0.795,
          0.775,
          0.795,
          0.775,
          0.8,
          0.785,
          0.735,
          0.785,
          0.68,
          0.685,
          0.79
         ],
         "yaxis": "y2"
        },
        {
         "marker": {
          "color": [
           0,
           1,
           2,
           3,
           4,
           5,
           6,
           7,
           8,
           9,
           10,
           11,
           12,
           13,
           14,
           15,
           16,
           17,
           18,
           19,
           20,
           21,
           22,
           23,
           24,
           25,
           26,
           27,
           28,
           29,
           30,
           31,
           32,
           33,
           34,
           35,
           36,
           37,
           38,
           39,
           40,
           41,
           42,
           43,
           44,
           45,
           46,
           47,
           48,
           49,
           50,
           51,
           52,
           53,
           54,
           55,
           56,
           57,
           58,
           59,
           60,
           61,
           62,
           63,
           64,
           65,
           66,
           67,
           68,
           69,
           70,
           71,
           72,
           73,
           74,
           75,
           76,
           77,
           78,
           79,
           80,
           81,
           82,
           83,
           84,
           85,
           86,
           87,
           88,
           89,
           90,
           91,
           92,
           93,
           94,
           95,
           96,
           97,
           98,
           99,
           100,
           101,
           102,
           103,
           104,
           105,
           106,
           107,
           108,
           109,
           110,
           111,
           112,
           113,
           114,
           115,
           116,
           117,
           118,
           119,
           120,
           121,
           122,
           123,
           124,
           125,
           126,
           127,
           128,
           129,
           130,
           131,
           132,
           133,
           134,
           135,
           136,
           137,
           138,
           139,
           140,
           141,
           142,
           143,
           144,
           145,
           146,
           147,
           148,
           149,
           150,
           151,
           152,
           153,
           154,
           155,
           156,
           157,
           158,
           159,
           160,
           161,
           162,
           163,
           164,
           165,
           166,
           167,
           168,
           169,
           170,
           171,
           172,
           173,
           174,
           175,
           176,
           177,
           178,
           179,
           180,
           181,
           182,
           183,
           184,
           185,
           186,
           187,
           188,
           189,
           190,
           191,
           192,
           193,
           194,
           195,
           196,
           197,
           198,
           199
          ],
          "colorbar": {
           "title": {
            "text": "Trial"
           },
           "x": 1,
           "xpad": 40
          },
          "colorscale": [
           [
            0,
            "rgb(247,251,255)"
           ],
           [
            0.125,
            "rgb(222,235,247)"
           ],
           [
            0.25,
            "rgb(198,219,239)"
           ],
           [
            0.375,
            "rgb(158,202,225)"
           ],
           [
            0.5,
            "rgb(107,174,214)"
           ],
           [
            0.625,
            "rgb(66,146,198)"
           ],
           [
            0.75,
            "rgb(33,113,181)"
           ],
           [
            0.875,
            "rgb(8,81,156)"
           ],
           [
            1,
            "rgb(8,48,107)"
           ]
          ],
          "line": {
           "color": "Grey",
           "width": 0.5
          },
          "showscale": false
         },
         "mode": "markers",
         "name": "Feasible Trial",
         "showlegend": false,
         "type": "scatter",
         "x": [
          "l2",
          "l2",
          "l1",
          "l1",
          "l2",
          "l1",
          "l1",
          "l2",
          "l1",
          "l2",
          "l1",
          "l2",
          "l2",
          "l1",
          "l2",
          "l2",
          "l1",
          "l2",
          "l1",
          "l2",
          "l2",
          "l2",
          "l2",
          "l2",
          "l1",
          "l1",
          "l2",
          "l1",
          "l2",
          "l1",
          "l1",
          "l1",
          "l1",
          "l1",
          "l1",
          "l2",
          "l2",
          "l2",
          "l1",
          "l2",
          "l2",
          "l2",
          "l1",
          "l1",
          "l1",
          "l2",
          "l1",
          "l1",
          "l2",
          "l2",
          "l2",
          "l1",
          "l2",
          "l2",
          "l1",
          "l2",
          "l1",
          "l2",
          "l2",
          "l2",
          "l2",
          "l1",
          "l2",
          "l1",
          "l2",
          "l1",
          "l1",
          "l2",
          "l1",
          "l1",
          "l1",
          "l2",
          "l1",
          "l1",
          "l2",
          "l1",
          "l2",
          "l1",
          "l2",
          "l2",
          "l2",
          "l2",
          "l1",
          "l2",
          "l1",
          "l1",
          "l2",
          "l1",
          "l2",
          "l2",
          "l1",
          "l2",
          "l2",
          "l1",
          "l2",
          "l2",
          "l2",
          "l1",
          "l2",
          "l1",
          "l2",
          "l2",
          "l1",
          "l1",
          "l1",
          "l2",
          "l1",
          "l2",
          "l1",
          "l1",
          "l2",
          "l1",
          "l2",
          "l1",
          "l1",
          "l2",
          "l2",
          "l1",
          "l2",
          "l2",
          "l1",
          "l2",
          "l1",
          "l1",
          "l2",
          "l2",
          "l1",
          "l2",
          "l2",
          "l1",
          "l1",
          "l1",
          "l2",
          "l2",
          "l2",
          "l1",
          "l1",
          "l2",
          "l1",
          "l1",
          "l2",
          "l2",
          "l2",
          "l1",
          "l2",
          "l1",
          "l1",
          "l2",
          "l2",
          "l1",
          "l1",
          "l1",
          "l1",
          "l1",
          "l1",
          "l2",
          "l2",
          "l2",
          "l1",
          "l1",
          "l2",
          "l1",
          "l1",
          "l2",
          "l1",
          "l1",
          "l1",
          "l1",
          "l2",
          "l2",
          "l1",
          "l1",
          "l1",
          "l2",
          "l1",
          "l1",
          "l1",
          "l1",
          "l1",
          "l1",
          "l1",
          "l1",
          "l1",
          "l1",
          "l1",
          "l1",
          "l2",
          "l1",
          "l1",
          "l1",
          "l1",
          "l1",
          "l1",
          "l1",
          "l2",
          "l2",
          "l1",
          "l2",
          "l2",
          "l2"
         ],
         "xaxis": "x3",
         "y": [
          0.76,
          0.745,
          0.57,
          0.77,
          0.685,
          0.57,
          0.775,
          0.715,
          0.785,
          0.685,
          0.8,
          0.675,
          0.755,
          0.805,
          0.76,
          0.77,
          0.57,
          0.79,
          0.64,
          0.765,
          0.725,
          0.665,
          0.795,
          0.795,
          0.77,
          0.57,
          0.715,
          0.57,
          0.745,
          0.785,
          0.79,
          0.75,
          0.665,
          0.77,
          0.57,
          0.735,
          0.735,
          0.7,
          0.795,
          0.71,
          0.79,
          0.79,
          0.57,
          0.775,
          0.785,
          0.775,
          0.78,
          0.76,
          0.665,
          0.77,
          0.735,
          0.795,
          0.765,
          0.74,
          0.75,
          0.66,
          0.735,
          0.725,
          0.745,
          0.665,
          0.74,
          0.64,
          0.675,
          0.57,
          0.72,
          0.665,
          0.79,
          0.715,
          0.665,
          0.64,
          0.57,
          0.74,
          0.57,
          0.57,
          0.795,
          0.72,
          0.685,
          0.78,
          0.68,
          0.675,
          0.74,
          0.795,
          0.735,
          0.76,
          0.78,
          0.79,
          0.795,
          0.805,
          0.765,
          0.775,
          0.64,
          0.74,
          0.775,
          0.78,
          0.725,
          0.745,
          0.74,
          0.775,
          0.695,
          0.79,
          0.705,
          0.74,
          0.785,
          0.64,
          0.74,
          0.74,
          0.64,
          0.7,
          0.57,
          0.64,
          0.745,
          0.64,
          0.745,
          0.795,
          0.755,
          0.74,
          0.685,
          0.57,
          0.77,
          0.785,
          0.57,
          0.71,
          0.665,
          0.735,
          0.725,
          0.76,
          0.79,
          0.685,
          0.695,
          0.64,
          0.64,
          0.74,
          0.66,
          0.76,
          0.785,
          0.57,
          0.57,
          0.735,
          0.64,
          0.79,
          0.705,
          0.74,
          0.71,
          0.795,
          0.695,
          0.775,
          0.57,
          0.76,
          0.76,
          0.64,
          0.57,
          0.64,
          0.76,
          0.805,
          0.64,
          0.795,
          0.7,
          0.71,
          0.77,
          0.75,
          0.72,
          0.765,
          0.57,
          0.715,
          0.78,
          0.64,
          0.785,
          0.795,
          0.7,
          0.685,
          0.785,
          0.665,
          0.57,
          0.735,
          0.64,
          0.79,
          0.735,
          0.705,
          0.645,
          0.665,
          0.705,
          0.78,
          0.64,
          0.57,
          0.67,
          0.64,
          0.715,
          0.77,
          0.785,
          0.795,
          0.775,
          0.795,
          0.775,
          0.8,
          0.785,
          0.735,
          0.785,
          0.68,
          0.685,
          0.79
         ],
         "yaxis": "y3"
        },
        {
         "marker": {
          "color": [
           0,
           1,
           2,
           3,
           4,
           5,
           6,
           7,
           8,
           9,
           10,
           11,
           12,
           13,
           14,
           15,
           16,
           17,
           18,
           19,
           20,
           21,
           22,
           23,
           24,
           25,
           26,
           27,
           28,
           29,
           30,
           31,
           32,
           33,
           34,
           35,
           36,
           37,
           38,
           39,
           40,
           41,
           42,
           43,
           44,
           45,
           46,
           47,
           48,
           49,
           50,
           51,
           52,
           53,
           54,
           55,
           56,
           57,
           58,
           59,
           60,
           61,
           62,
           63,
           64,
           65,
           66,
           67,
           68,
           69,
           70,
           71,
           72,
           73,
           74,
           75,
           76,
           77,
           78,
           79,
           80,
           81,
           82,
           83,
           84,
           85,
           86,
           87,
           88,
           89,
           90,
           91,
           92,
           93,
           94,
           95,
           96,
           97,
           98,
           99,
           100,
           101,
           102,
           103,
           104,
           105,
           106,
           107,
           108,
           109,
           110,
           111,
           112,
           113,
           114,
           115,
           116,
           117,
           118,
           119,
           120,
           121,
           122,
           123,
           124,
           125,
           126,
           127,
           128,
           129,
           130,
           131,
           132,
           133,
           134,
           135,
           136,
           137,
           138,
           139,
           140,
           141,
           142,
           143,
           144,
           145,
           146,
           147,
           148,
           149,
           150,
           151,
           152,
           153,
           154,
           155,
           156,
           157,
           158,
           159,
           160,
           161,
           162,
           163,
           164,
           165,
           166,
           167,
           168,
           169,
           170,
           171,
           172,
           173,
           174,
           175,
           176,
           177,
           178,
           179,
           180,
           181,
           182,
           183,
           184,
           185,
           186,
           187,
           188,
           189,
           190,
           191,
           192,
           193,
           194,
           195,
           196,
           197,
           198,
           199
          ],
          "colorbar": {
           "title": {
            "text": "Trial"
           },
           "x": 1,
           "xpad": 40
          },
          "colorscale": [
           [
            0,
            "rgb(247,251,255)"
           ],
           [
            0.125,
            "rgb(222,235,247)"
           ],
           [
            0.25,
            "rgb(198,219,239)"
           ],
           [
            0.375,
            "rgb(158,202,225)"
           ],
           [
            0.5,
            "rgb(107,174,214)"
           ],
           [
            0.625,
            "rgb(66,146,198)"
           ],
           [
            0.75,
            "rgb(33,113,181)"
           ],
           [
            0.875,
            "rgb(8,81,156)"
           ],
           [
            1,
            "rgb(8,48,107)"
           ]
          ],
          "line": {
           "color": "Grey",
           "width": 0.5
          },
          "showscale": false
         },
         "mode": "markers",
         "name": "Feasible Trial",
         "showlegend": false,
         "type": "scatter",
         "x": [
          "liblinear",
          "saga",
          "saga",
          "saga",
          "liblinear",
          "liblinear",
          "saga",
          "saga",
          "liblinear",
          "saga",
          "saga",
          "liblinear",
          "liblinear",
          "liblinear",
          "liblinear",
          "liblinear",
          "saga",
          "saga",
          "liblinear",
          "liblinear",
          "saga",
          "liblinear",
          "saga",
          "liblinear",
          "saga",
          "liblinear",
          "saga",
          "liblinear",
          "liblinear",
          "liblinear",
          "saga",
          "saga",
          "saga",
          "saga",
          "saga",
          "liblinear",
          "liblinear",
          "liblinear",
          "liblinear",
          "liblinear",
          "saga",
          "saga",
          "liblinear",
          "saga",
          "liblinear",
          "liblinear",
          "liblinear",
          "saga",
          "liblinear",
          "liblinear",
          "saga",
          "liblinear",
          "liblinear",
          "liblinear",
          "liblinear",
          "liblinear",
          "liblinear",
          "liblinear",
          "liblinear",
          "liblinear",
          "liblinear",
          "liblinear",
          "liblinear",
          "saga",
          "saga",
          "saga",
          "saga",
          "liblinear",
          "liblinear",
          "saga",
          "saga",
          "saga",
          "saga",
          "liblinear",
          "liblinear",
          "saga",
          "saga",
          "saga",
          "saga",
          "liblinear",
          "saga",
          "saga",
          "liblinear",
          "saga",
          "liblinear",
          "liblinear",
          "liblinear",
          "liblinear",
          "liblinear",
          "liblinear",
          "liblinear",
          "saga",
          "liblinear",
          "liblinear",
          "liblinear",
          "saga",
          "saga",
          "saga",
          "saga",
          "liblinear",
          "saga",
          "saga",
          "saga",
          "saga",
          "saga",
          "saga",
          "saga",
          "saga",
          "saga",
          "liblinear",
          "saga",
          "saga",
          "saga",
          "saga",
          "liblinear",
          "saga",
          "liblinear",
          "saga",
          "liblinear",
          "saga",
          "saga",
          "saga",
          "saga",
          "liblinear",
          "liblinear",
          "saga",
          "saga",
          "saga",
          "saga",
          "liblinear",
          "saga",
          "saga",
          "liblinear",
          "saga",
          "liblinear",
          "liblinear",
          "liblinear",
          "saga",
          "saga",
          "saga",
          "saga",
          "saga",
          "saga",
          "liblinear",
          "saga",
          "saga",
          "saga",
          "liblinear",
          "liblinear",
          "saga",
          "saga",
          "liblinear",
          "saga",
          "liblinear",
          "liblinear",
          "saga",
          "saga",
          "saga",
          "saga",
          "saga",
          "saga",
          "saga",
          "liblinear",
          "liblinear",
          "saga",
          "liblinear",
          "saga",
          "saga",
          "liblinear",
          "liblinear",
          "liblinear",
          "saga",
          "saga",
          "saga",
          "liblinear",
          "liblinear",
          "saga",
          "liblinear",
          "liblinear",
          "saga",
          "liblinear",
          "liblinear",
          "liblinear",
          "saga",
          "liblinear",
          "liblinear",
          "saga",
          "saga",
          "saga",
          "saga",
          "saga",
          "saga",
          "saga",
          "saga",
          "saga",
          "liblinear",
          "liblinear",
          "liblinear",
          "saga",
          "liblinear"
         ],
         "xaxis": "x4",
         "y": [
          0.76,
          0.745,
          0.57,
          0.77,
          0.685,
          0.57,
          0.775,
          0.715,
          0.785,
          0.685,
          0.8,
          0.675,
          0.755,
          0.805,
          0.76,
          0.77,
          0.57,
          0.79,
          0.64,
          0.765,
          0.725,
          0.665,
          0.795,
          0.795,
          0.77,
          0.57,
          0.715,
          0.57,
          0.745,
          0.785,
          0.79,
          0.75,
          0.665,
          0.77,
          0.57,
          0.735,
          0.735,
          0.7,
          0.795,
          0.71,
          0.79,
          0.79,
          0.57,
          0.775,
          0.785,
          0.775,
          0.78,
          0.76,
          0.665,
          0.77,
          0.735,
          0.795,
          0.765,
          0.74,
          0.75,
          0.66,
          0.735,
          0.725,
          0.745,
          0.665,
          0.74,
          0.64,
          0.675,
          0.57,
          0.72,
          0.665,
          0.79,
          0.715,
          0.665,
          0.64,
          0.57,
          0.74,
          0.57,
          0.57,
          0.795,
          0.72,
          0.685,
          0.78,
          0.68,
          0.675,
          0.74,
          0.795,
          0.735,
          0.76,
          0.78,
          0.79,
          0.795,
          0.805,
          0.765,
          0.775,
          0.64,
          0.74,
          0.775,
          0.78,
          0.725,
          0.745,
          0.74,
          0.775,
          0.695,
          0.79,
          0.705,
          0.74,
          0.785,
          0.64,
          0.74,
          0.74,
          0.64,
          0.7,
          0.57,
          0.64,
          0.745,
          0.64,
          0.745,
          0.795,
          0.755,
          0.74,
          0.685,
          0.57,
          0.77,
          0.785,
          0.57,
          0.71,
          0.665,
          0.735,
          0.725,
          0.76,
          0.79,
          0.685,
          0.695,
          0.64,
          0.64,
          0.74,
          0.66,
          0.76,
          0.785,
          0.57,
          0.57,
          0.735,
          0.64,
          0.79,
          0.705,
          0.74,
          0.71,
          0.795,
          0.695,
          0.775,
          0.57,
          0.76,
          0.76,
          0.64,
          0.57,
          0.64,
          0.76,
          0.805,
          0.64,
          0.795,
          0.7,
          0.71,
          0.77,
          0.75,
          0.72,
          0.765,
          0.57,
          0.715,
          0.78,
          0.64,
          0.785,
          0.795,
          0.7,
          0.685,
          0.785,
          0.665,
          0.57,
          0.735,
          0.64,
          0.79,
          0.735,
          0.705,
          0.645,
          0.665,
          0.705,
          0.78,
          0.64,
          0.57,
          0.67,
          0.64,
          0.715,
          0.77,
          0.785,
          0.795,
          0.775,
          0.795,
          0.775,
          0.8,
          0.785,
          0.735,
          0.785,
          0.68,
          0.685,
          0.79
         ],
         "yaxis": "y4"
        }
       ],
       "layout": {
        "template": {
         "data": {
          "bar": [
           {
            "error_x": {
             "color": "#2a3f5f"
            },
            "error_y": {
             "color": "#2a3f5f"
            },
            "marker": {
             "line": {
              "color": "#E5ECF6",
              "width": 0.5
             },
             "pattern": {
              "fillmode": "overlay",
              "size": 10,
              "solidity": 0.2
             }
            },
            "type": "bar"
           }
          ],
          "barpolar": [
           {
            "marker": {
             "line": {
              "color": "#E5ECF6",
              "width": 0.5
             },
             "pattern": {
              "fillmode": "overlay",
              "size": 10,
              "solidity": 0.2
             }
            },
            "type": "barpolar"
           }
          ],
          "carpet": [
           {
            "aaxis": {
             "endlinecolor": "#2a3f5f",
             "gridcolor": "white",
             "linecolor": "white",
             "minorgridcolor": "white",
             "startlinecolor": "#2a3f5f"
            },
            "baxis": {
             "endlinecolor": "#2a3f5f",
             "gridcolor": "white",
             "linecolor": "white",
             "minorgridcolor": "white",
             "startlinecolor": "#2a3f5f"
            },
            "type": "carpet"
           }
          ],
          "choropleth": [
           {
            "colorbar": {
             "outlinewidth": 0,
             "ticks": ""
            },
            "type": "choropleth"
           }
          ],
          "contour": [
           {
            "colorbar": {
             "outlinewidth": 0,
             "ticks": ""
            },
            "colorscale": [
             [
              0,
              "#0d0887"
             ],
             [
              0.1111111111111111,
              "#46039f"
             ],
             [
              0.2222222222222222,
              "#7201a8"
             ],
             [
              0.3333333333333333,
              "#9c179e"
             ],
             [
              0.4444444444444444,
              "#bd3786"
             ],
             [
              0.5555555555555556,
              "#d8576b"
             ],
             [
              0.6666666666666666,
              "#ed7953"
             ],
             [
              0.7777777777777778,
              "#fb9f3a"
             ],
             [
              0.8888888888888888,
              "#fdca26"
             ],
             [
              1,
              "#f0f921"
             ]
            ],
            "type": "contour"
           }
          ],
          "contourcarpet": [
           {
            "colorbar": {
             "outlinewidth": 0,
             "ticks": ""
            },
            "type": "contourcarpet"
           }
          ],
          "heatmap": [
           {
            "colorbar": {
             "outlinewidth": 0,
             "ticks": ""
            },
            "colorscale": [
             [
              0,
              "#0d0887"
             ],
             [
              0.1111111111111111,
              "#46039f"
             ],
             [
              0.2222222222222222,
              "#7201a8"
             ],
             [
              0.3333333333333333,
              "#9c179e"
             ],
             [
              0.4444444444444444,
              "#bd3786"
             ],
             [
              0.5555555555555556,
              "#d8576b"
             ],
             [
              0.6666666666666666,
              "#ed7953"
             ],
             [
              0.7777777777777778,
              "#fb9f3a"
             ],
             [
              0.8888888888888888,
              "#fdca26"
             ],
             [
              1,
              "#f0f921"
             ]
            ],
            "type": "heatmap"
           }
          ],
          "heatmapgl": [
           {
            "colorbar": {
             "outlinewidth": 0,
             "ticks": ""
            },
            "colorscale": [
             [
              0,
              "#0d0887"
             ],
             [
              0.1111111111111111,
              "#46039f"
             ],
             [
              0.2222222222222222,
              "#7201a8"
             ],
             [
              0.3333333333333333,
              "#9c179e"
             ],
             [
              0.4444444444444444,
              "#bd3786"
             ],
             [
              0.5555555555555556,
              "#d8576b"
             ],
             [
              0.6666666666666666,
              "#ed7953"
             ],
             [
              0.7777777777777778,
              "#fb9f3a"
             ],
             [
              0.8888888888888888,
              "#fdca26"
             ],
             [
              1,
              "#f0f921"
             ]
            ],
            "type": "heatmapgl"
           }
          ],
          "histogram": [
           {
            "marker": {
             "pattern": {
              "fillmode": "overlay",
              "size": 10,
              "solidity": 0.2
             }
            },
            "type": "histogram"
           }
          ],
          "histogram2d": [
           {
            "colorbar": {
             "outlinewidth": 0,
             "ticks": ""
            },
            "colorscale": [
             [
              0,
              "#0d0887"
             ],
             [
              0.1111111111111111,
              "#46039f"
             ],
             [
              0.2222222222222222,
              "#7201a8"
             ],
             [
              0.3333333333333333,
              "#9c179e"
             ],
             [
              0.4444444444444444,
              "#bd3786"
             ],
             [
              0.5555555555555556,
              "#d8576b"
             ],
             [
              0.6666666666666666,
              "#ed7953"
             ],
             [
              0.7777777777777778,
              "#fb9f3a"
             ],
             [
              0.8888888888888888,
              "#fdca26"
             ],
             [
              1,
              "#f0f921"
             ]
            ],
            "type": "histogram2d"
           }
          ],
          "histogram2dcontour": [
           {
            "colorbar": {
             "outlinewidth": 0,
             "ticks": ""
            },
            "colorscale": [
             [
              0,
              "#0d0887"
             ],
             [
              0.1111111111111111,
              "#46039f"
             ],
             [
              0.2222222222222222,
              "#7201a8"
             ],
             [
              0.3333333333333333,
              "#9c179e"
             ],
             [
              0.4444444444444444,
              "#bd3786"
             ],
             [
              0.5555555555555556,
              "#d8576b"
             ],
             [
              0.6666666666666666,
              "#ed7953"
             ],
             [
              0.7777777777777778,
              "#fb9f3a"
             ],
             [
              0.8888888888888888,
              "#fdca26"
             ],
             [
              1,
              "#f0f921"
             ]
            ],
            "type": "histogram2dcontour"
           }
          ],
          "mesh3d": [
           {
            "colorbar": {
             "outlinewidth": 0,
             "ticks": ""
            },
            "type": "mesh3d"
           }
          ],
          "parcoords": [
           {
            "line": {
             "colorbar": {
              "outlinewidth": 0,
              "ticks": ""
             }
            },
            "type": "parcoords"
           }
          ],
          "pie": [
           {
            "automargin": true,
            "type": "pie"
           }
          ],
          "scatter": [
           {
            "fillpattern": {
             "fillmode": "overlay",
             "size": 10,
             "solidity": 0.2
            },
            "type": "scatter"
           }
          ],
          "scatter3d": [
           {
            "line": {
             "colorbar": {
              "outlinewidth": 0,
              "ticks": ""
             }
            },
            "marker": {
             "colorbar": {
              "outlinewidth": 0,
              "ticks": ""
             }
            },
            "type": "scatter3d"
           }
          ],
          "scattercarpet": [
           {
            "marker": {
             "colorbar": {
              "outlinewidth": 0,
              "ticks": ""
             }
            },
            "type": "scattercarpet"
           }
          ],
          "scattergeo": [
           {
            "marker": {
             "colorbar": {
              "outlinewidth": 0,
              "ticks": ""
             }
            },
            "type": "scattergeo"
           }
          ],
          "scattergl": [
           {
            "marker": {
             "colorbar": {
              "outlinewidth": 0,
              "ticks": ""
             }
            },
            "type": "scattergl"
           }
          ],
          "scattermapbox": [
           {
            "marker": {
             "colorbar": {
              "outlinewidth": 0,
              "ticks": ""
             }
            },
            "type": "scattermapbox"
           }
          ],
          "scatterpolar": [
           {
            "marker": {
             "colorbar": {
              "outlinewidth": 0,
              "ticks": ""
             }
            },
            "type": "scatterpolar"
           }
          ],
          "scatterpolargl": [
           {
            "marker": {
             "colorbar": {
              "outlinewidth": 0,
              "ticks": ""
             }
            },
            "type": "scatterpolargl"
           }
          ],
          "scatterternary": [
           {
            "marker": {
             "colorbar": {
              "outlinewidth": 0,
              "ticks": ""
             }
            },
            "type": "scatterternary"
           }
          ],
          "surface": [
           {
            "colorbar": {
             "outlinewidth": 0,
             "ticks": ""
            },
            "colorscale": [
             [
              0,
              "#0d0887"
             ],
             [
              0.1111111111111111,
              "#46039f"
             ],
             [
              0.2222222222222222,
              "#7201a8"
             ],
             [
              0.3333333333333333,
              "#9c179e"
             ],
             [
              0.4444444444444444,
              "#bd3786"
             ],
             [
              0.5555555555555556,
              "#d8576b"
             ],
             [
              0.6666666666666666,
              "#ed7953"
             ],
             [
              0.7777777777777778,
              "#fb9f3a"
             ],
             [
              0.8888888888888888,
              "#fdca26"
             ],
             [
              1,
              "#f0f921"
             ]
            ],
            "type": "surface"
           }
          ],
          "table": [
           {
            "cells": {
             "fill": {
              "color": "#EBF0F8"
             },
             "line": {
              "color": "white"
             }
            },
            "header": {
             "fill": {
              "color": "#C8D4E3"
             },
             "line": {
              "color": "white"
             }
            },
            "type": "table"
           }
          ]
         },
         "layout": {
          "annotationdefaults": {
           "arrowcolor": "#2a3f5f",
           "arrowhead": 0,
           "arrowwidth": 1
          },
          "autotypenumbers": "strict",
          "coloraxis": {
           "colorbar": {
            "outlinewidth": 0,
            "ticks": ""
           }
          },
          "colorscale": {
           "diverging": [
            [
             0,
             "#8e0152"
            ],
            [
             0.1,
             "#c51b7d"
            ],
            [
             0.2,
             "#de77ae"
            ],
            [
             0.3,
             "#f1b6da"
            ],
            [
             0.4,
             "#fde0ef"
            ],
            [
             0.5,
             "#f7f7f7"
            ],
            [
             0.6,
             "#e6f5d0"
            ],
            [
             0.7,
             "#b8e186"
            ],
            [
             0.8,
             "#7fbc41"
            ],
            [
             0.9,
             "#4d9221"
            ],
            [
             1,
             "#276419"
            ]
           ],
           "sequential": [
            [
             0,
             "#0d0887"
            ],
            [
             0.1111111111111111,
             "#46039f"
            ],
            [
             0.2222222222222222,
             "#7201a8"
            ],
            [
             0.3333333333333333,
             "#9c179e"
            ],
            [
             0.4444444444444444,
             "#bd3786"
            ],
            [
             0.5555555555555556,
             "#d8576b"
            ],
            [
             0.6666666666666666,
             "#ed7953"
            ],
            [
             0.7777777777777778,
             "#fb9f3a"
            ],
            [
             0.8888888888888888,
             "#fdca26"
            ],
            [
             1,
             "#f0f921"
            ]
           ],
           "sequentialminus": [
            [
             0,
             "#0d0887"
            ],
            [
             0.1111111111111111,
             "#46039f"
            ],
            [
             0.2222222222222222,
             "#7201a8"
            ],
            [
             0.3333333333333333,
             "#9c179e"
            ],
            [
             0.4444444444444444,
             "#bd3786"
            ],
            [
             0.5555555555555556,
             "#d8576b"
            ],
            [
             0.6666666666666666,
             "#ed7953"
            ],
            [
             0.7777777777777778,
             "#fb9f3a"
            ],
            [
             0.8888888888888888,
             "#fdca26"
            ],
            [
             1,
             "#f0f921"
            ]
           ]
          },
          "colorway": [
           "#636efa",
           "#EF553B",
           "#00cc96",
           "#ab63fa",
           "#FFA15A",
           "#19d3f3",
           "#FF6692",
           "#B6E880",
           "#FF97FF",
           "#FECB52"
          ],
          "font": {
           "color": "#2a3f5f"
          },
          "geo": {
           "bgcolor": "white",
           "lakecolor": "white",
           "landcolor": "#E5ECF6",
           "showlakes": true,
           "showland": true,
           "subunitcolor": "white"
          },
          "hoverlabel": {
           "align": "left"
          },
          "hovermode": "closest",
          "mapbox": {
           "style": "light"
          },
          "paper_bgcolor": "white",
          "plot_bgcolor": "#E5ECF6",
          "polar": {
           "angularaxis": {
            "gridcolor": "white",
            "linecolor": "white",
            "ticks": ""
           },
           "bgcolor": "#E5ECF6",
           "radialaxis": {
            "gridcolor": "white",
            "linecolor": "white",
            "ticks": ""
           }
          },
          "scene": {
           "xaxis": {
            "backgroundcolor": "#E5ECF6",
            "gridcolor": "white",
            "gridwidth": 2,
            "linecolor": "white",
            "showbackground": true,
            "ticks": "",
            "zerolinecolor": "white"
           },
           "yaxis": {
            "backgroundcolor": "#E5ECF6",
            "gridcolor": "white",
            "gridwidth": 2,
            "linecolor": "white",
            "showbackground": true,
            "ticks": "",
            "zerolinecolor": "white"
           },
           "zaxis": {
            "backgroundcolor": "#E5ECF6",
            "gridcolor": "white",
            "gridwidth": 2,
            "linecolor": "white",
            "showbackground": true,
            "ticks": "",
            "zerolinecolor": "white"
           }
          },
          "shapedefaults": {
           "line": {
            "color": "#2a3f5f"
           }
          },
          "ternary": {
           "aaxis": {
            "gridcolor": "white",
            "linecolor": "white",
            "ticks": ""
           },
           "baxis": {
            "gridcolor": "white",
            "linecolor": "white",
            "ticks": ""
           },
           "bgcolor": "#E5ECF6",
           "caxis": {
            "gridcolor": "white",
            "linecolor": "white",
            "ticks": ""
           }
          },
          "title": {
           "x": 0.05
          },
          "xaxis": {
           "automargin": true,
           "gridcolor": "white",
           "linecolor": "white",
           "ticks": "",
           "title": {
            "standoff": 15
           },
           "zerolinecolor": "white",
           "zerolinewidth": 2
          },
          "yaxis": {
           "automargin": true,
           "gridcolor": "white",
           "linecolor": "white",
           "ticks": "",
           "title": {
            "standoff": 15
           },
           "zerolinecolor": "white",
           "zerolinewidth": 2
          }
         }
        },
        "title": {
         "text": "Slice Plot"
        },
        "width": 1200,
        "xaxis": {
         "anchor": "y",
         "domain": [
          0,
          0.2125
         ],
         "title": {
          "text": "C"
         },
         "type": "log"
        },
        "xaxis2": {
         "anchor": "y2",
         "domain": [
          0.2625,
          0.475
         ],
         "title": {
          "text": "max_iter"
         }
        },
        "xaxis3": {
         "anchor": "y3",
         "categoryarray": [
          "l1",
          "l2"
         ],
         "categoryorder": "array",
         "domain": [
          0.525,
          0.7375
         ],
         "title": {
          "text": "penalty"
         },
         "type": "category"
        },
        "xaxis4": {
         "anchor": "y4",
         "categoryarray": [
          "liblinear",
          "saga"
         ],
         "categoryorder": "array",
         "domain": [
          0.7875,
          1
         ],
         "title": {
          "text": "solver"
         },
         "type": "category"
        },
        "yaxis": {
         "anchor": "x",
         "domain": [
          0,
          1
         ],
         "title": {
          "text": "Objective Value"
         }
        },
        "yaxis2": {
         "anchor": "x2",
         "domain": [
          0,
          1
         ],
         "matches": "y",
         "showticklabels": false
        },
        "yaxis3": {
         "anchor": "x3",
         "domain": [
          0,
          1
         ],
         "matches": "y",
         "showticklabels": false
        },
        "yaxis4": {
         "anchor": "x4",
         "domain": [
          0,
          1
         ],
         "matches": "y",
         "showticklabels": false
        }
       }
      }
     },
     "metadata": {},
     "output_type": "display_data"
    }
   ],
   "source": [
    "optuna.visualization.plot_slice(study, params=['penalty', 'C', 'max_iter', 'solver'])"
   ]
  },
  {
   "cell_type": "code",
   "execution_count": 27,
   "metadata": {},
   "outputs": [
    {
     "data": {
      "application/vnd.plotly.v1+json": {
       "config": {
        "plotlyServerURL": "https://plot.ly"
       },
       "data": [
        {
         "cliponaxis": false,
         "hovertemplate": [
          "solver (CategoricalDistribution): 0.0029552675199543722<extra></extra>",
          "penalty (CategoricalDistribution): 0.01616438767767998<extra></extra>",
          "max_iter (IntDistribution): 0.04178828643010478<extra></extra>",
          "C (FloatDistribution): 0.9390920583722607<extra></extra>"
         ],
         "name": "Objective Value",
         "orientation": "h",
         "text": [
          "<0.01",
          "0.02",
          "0.04",
          "0.94"
         ],
         "textposition": "outside",
         "type": "bar",
         "x": [
          0.0029552675199543722,
          0.01616438767767998,
          0.04178828643010478,
          0.9390920583722607
         ],
         "y": [
          "solver",
          "penalty",
          "max_iter",
          "C"
         ]
        }
       ],
       "layout": {
        "template": {
         "data": {
          "bar": [
           {
            "error_x": {
             "color": "#2a3f5f"
            },
            "error_y": {
             "color": "#2a3f5f"
            },
            "marker": {
             "line": {
              "color": "#E5ECF6",
              "width": 0.5
             },
             "pattern": {
              "fillmode": "overlay",
              "size": 10,
              "solidity": 0.2
             }
            },
            "type": "bar"
           }
          ],
          "barpolar": [
           {
            "marker": {
             "line": {
              "color": "#E5ECF6",
              "width": 0.5
             },
             "pattern": {
              "fillmode": "overlay",
              "size": 10,
              "solidity": 0.2
             }
            },
            "type": "barpolar"
           }
          ],
          "carpet": [
           {
            "aaxis": {
             "endlinecolor": "#2a3f5f",
             "gridcolor": "white",
             "linecolor": "white",
             "minorgridcolor": "white",
             "startlinecolor": "#2a3f5f"
            },
            "baxis": {
             "endlinecolor": "#2a3f5f",
             "gridcolor": "white",
             "linecolor": "white",
             "minorgridcolor": "white",
             "startlinecolor": "#2a3f5f"
            },
            "type": "carpet"
           }
          ],
          "choropleth": [
           {
            "colorbar": {
             "outlinewidth": 0,
             "ticks": ""
            },
            "type": "choropleth"
           }
          ],
          "contour": [
           {
            "colorbar": {
             "outlinewidth": 0,
             "ticks": ""
            },
            "colorscale": [
             [
              0,
              "#0d0887"
             ],
             [
              0.1111111111111111,
              "#46039f"
             ],
             [
              0.2222222222222222,
              "#7201a8"
             ],
             [
              0.3333333333333333,
              "#9c179e"
             ],
             [
              0.4444444444444444,
              "#bd3786"
             ],
             [
              0.5555555555555556,
              "#d8576b"
             ],
             [
              0.6666666666666666,
              "#ed7953"
             ],
             [
              0.7777777777777778,
              "#fb9f3a"
             ],
             [
              0.8888888888888888,
              "#fdca26"
             ],
             [
              1,
              "#f0f921"
             ]
            ],
            "type": "contour"
           }
          ],
          "contourcarpet": [
           {
            "colorbar": {
             "outlinewidth": 0,
             "ticks": ""
            },
            "type": "contourcarpet"
           }
          ],
          "heatmap": [
           {
            "colorbar": {
             "outlinewidth": 0,
             "ticks": ""
            },
            "colorscale": [
             [
              0,
              "#0d0887"
             ],
             [
              0.1111111111111111,
              "#46039f"
             ],
             [
              0.2222222222222222,
              "#7201a8"
             ],
             [
              0.3333333333333333,
              "#9c179e"
             ],
             [
              0.4444444444444444,
              "#bd3786"
             ],
             [
              0.5555555555555556,
              "#d8576b"
             ],
             [
              0.6666666666666666,
              "#ed7953"
             ],
             [
              0.7777777777777778,
              "#fb9f3a"
             ],
             [
              0.8888888888888888,
              "#fdca26"
             ],
             [
              1,
              "#f0f921"
             ]
            ],
            "type": "heatmap"
           }
          ],
          "heatmapgl": [
           {
            "colorbar": {
             "outlinewidth": 0,
             "ticks": ""
            },
            "colorscale": [
             [
              0,
              "#0d0887"
             ],
             [
              0.1111111111111111,
              "#46039f"
             ],
             [
              0.2222222222222222,
              "#7201a8"
             ],
             [
              0.3333333333333333,
              "#9c179e"
             ],
             [
              0.4444444444444444,
              "#bd3786"
             ],
             [
              0.5555555555555556,
              "#d8576b"
             ],
             [
              0.6666666666666666,
              "#ed7953"
             ],
             [
              0.7777777777777778,
              "#fb9f3a"
             ],
             [
              0.8888888888888888,
              "#fdca26"
             ],
             [
              1,
              "#f0f921"
             ]
            ],
            "type": "heatmapgl"
           }
          ],
          "histogram": [
           {
            "marker": {
             "pattern": {
              "fillmode": "overlay",
              "size": 10,
              "solidity": 0.2
             }
            },
            "type": "histogram"
           }
          ],
          "histogram2d": [
           {
            "colorbar": {
             "outlinewidth": 0,
             "ticks": ""
            },
            "colorscale": [
             [
              0,
              "#0d0887"
             ],
             [
              0.1111111111111111,
              "#46039f"
             ],
             [
              0.2222222222222222,
              "#7201a8"
             ],
             [
              0.3333333333333333,
              "#9c179e"
             ],
             [
              0.4444444444444444,
              "#bd3786"
             ],
             [
              0.5555555555555556,
              "#d8576b"
             ],
             [
              0.6666666666666666,
              "#ed7953"
             ],
             [
              0.7777777777777778,
              "#fb9f3a"
             ],
             [
              0.8888888888888888,
              "#fdca26"
             ],
             [
              1,
              "#f0f921"
             ]
            ],
            "type": "histogram2d"
           }
          ],
          "histogram2dcontour": [
           {
            "colorbar": {
             "outlinewidth": 0,
             "ticks": ""
            },
            "colorscale": [
             [
              0,
              "#0d0887"
             ],
             [
              0.1111111111111111,
              "#46039f"
             ],
             [
              0.2222222222222222,
              "#7201a8"
             ],
             [
              0.3333333333333333,
              "#9c179e"
             ],
             [
              0.4444444444444444,
              "#bd3786"
             ],
             [
              0.5555555555555556,
              "#d8576b"
             ],
             [
              0.6666666666666666,
              "#ed7953"
             ],
             [
              0.7777777777777778,
              "#fb9f3a"
             ],
             [
              0.8888888888888888,
              "#fdca26"
             ],
             [
              1,
              "#f0f921"
             ]
            ],
            "type": "histogram2dcontour"
           }
          ],
          "mesh3d": [
           {
            "colorbar": {
             "outlinewidth": 0,
             "ticks": ""
            },
            "type": "mesh3d"
           }
          ],
          "parcoords": [
           {
            "line": {
             "colorbar": {
              "outlinewidth": 0,
              "ticks": ""
             }
            },
            "type": "parcoords"
           }
          ],
          "pie": [
           {
            "automargin": true,
            "type": "pie"
           }
          ],
          "scatter": [
           {
            "fillpattern": {
             "fillmode": "overlay",
             "size": 10,
             "solidity": 0.2
            },
            "type": "scatter"
           }
          ],
          "scatter3d": [
           {
            "line": {
             "colorbar": {
              "outlinewidth": 0,
              "ticks": ""
             }
            },
            "marker": {
             "colorbar": {
              "outlinewidth": 0,
              "ticks": ""
             }
            },
            "type": "scatter3d"
           }
          ],
          "scattercarpet": [
           {
            "marker": {
             "colorbar": {
              "outlinewidth": 0,
              "ticks": ""
             }
            },
            "type": "scattercarpet"
           }
          ],
          "scattergeo": [
           {
            "marker": {
             "colorbar": {
              "outlinewidth": 0,
              "ticks": ""
             }
            },
            "type": "scattergeo"
           }
          ],
          "scattergl": [
           {
            "marker": {
             "colorbar": {
              "outlinewidth": 0,
              "ticks": ""
             }
            },
            "type": "scattergl"
           }
          ],
          "scattermapbox": [
           {
            "marker": {
             "colorbar": {
              "outlinewidth": 0,
              "ticks": ""
             }
            },
            "type": "scattermapbox"
           }
          ],
          "scatterpolar": [
           {
            "marker": {
             "colorbar": {
              "outlinewidth": 0,
              "ticks": ""
             }
            },
            "type": "scatterpolar"
           }
          ],
          "scatterpolargl": [
           {
            "marker": {
             "colorbar": {
              "outlinewidth": 0,
              "ticks": ""
             }
            },
            "type": "scatterpolargl"
           }
          ],
          "scatterternary": [
           {
            "marker": {
             "colorbar": {
              "outlinewidth": 0,
              "ticks": ""
             }
            },
            "type": "scatterternary"
           }
          ],
          "surface": [
           {
            "colorbar": {
             "outlinewidth": 0,
             "ticks": ""
            },
            "colorscale": [
             [
              0,
              "#0d0887"
             ],
             [
              0.1111111111111111,
              "#46039f"
             ],
             [
              0.2222222222222222,
              "#7201a8"
             ],
             [
              0.3333333333333333,
              "#9c179e"
             ],
             [
              0.4444444444444444,
              "#bd3786"
             ],
             [
              0.5555555555555556,
              "#d8576b"
             ],
             [
              0.6666666666666666,
              "#ed7953"
             ],
             [
              0.7777777777777778,
              "#fb9f3a"
             ],
             [
              0.8888888888888888,
              "#fdca26"
             ],
             [
              1,
              "#f0f921"
             ]
            ],
            "type": "surface"
           }
          ],
          "table": [
           {
            "cells": {
             "fill": {
              "color": "#EBF0F8"
             },
             "line": {
              "color": "white"
             }
            },
            "header": {
             "fill": {
              "color": "#C8D4E3"
             },
             "line": {
              "color": "white"
             }
            },
            "type": "table"
           }
          ]
         },
         "layout": {
          "annotationdefaults": {
           "arrowcolor": "#2a3f5f",
           "arrowhead": 0,
           "arrowwidth": 1
          },
          "autotypenumbers": "strict",
          "coloraxis": {
           "colorbar": {
            "outlinewidth": 0,
            "ticks": ""
           }
          },
          "colorscale": {
           "diverging": [
            [
             0,
             "#8e0152"
            ],
            [
             0.1,
             "#c51b7d"
            ],
            [
             0.2,
             "#de77ae"
            ],
            [
             0.3,
             "#f1b6da"
            ],
            [
             0.4,
             "#fde0ef"
            ],
            [
             0.5,
             "#f7f7f7"
            ],
            [
             0.6,
             "#e6f5d0"
            ],
            [
             0.7,
             "#b8e186"
            ],
            [
             0.8,
             "#7fbc41"
            ],
            [
             0.9,
             "#4d9221"
            ],
            [
             1,
             "#276419"
            ]
           ],
           "sequential": [
            [
             0,
             "#0d0887"
            ],
            [
             0.1111111111111111,
             "#46039f"
            ],
            [
             0.2222222222222222,
             "#7201a8"
            ],
            [
             0.3333333333333333,
             "#9c179e"
            ],
            [
             0.4444444444444444,
             "#bd3786"
            ],
            [
             0.5555555555555556,
             "#d8576b"
            ],
            [
             0.6666666666666666,
             "#ed7953"
            ],
            [
             0.7777777777777778,
             "#fb9f3a"
            ],
            [
             0.8888888888888888,
             "#fdca26"
            ],
            [
             1,
             "#f0f921"
            ]
           ],
           "sequentialminus": [
            [
             0,
             "#0d0887"
            ],
            [
             0.1111111111111111,
             "#46039f"
            ],
            [
             0.2222222222222222,
             "#7201a8"
            ],
            [
             0.3333333333333333,
             "#9c179e"
            ],
            [
             0.4444444444444444,
             "#bd3786"
            ],
            [
             0.5555555555555556,
             "#d8576b"
            ],
            [
             0.6666666666666666,
             "#ed7953"
            ],
            [
             0.7777777777777778,
             "#fb9f3a"
            ],
            [
             0.8888888888888888,
             "#fdca26"
            ],
            [
             1,
             "#f0f921"
            ]
           ]
          },
          "colorway": [
           "#636efa",
           "#EF553B",
           "#00cc96",
           "#ab63fa",
           "#FFA15A",
           "#19d3f3",
           "#FF6692",
           "#B6E880",
           "#FF97FF",
           "#FECB52"
          ],
          "font": {
           "color": "#2a3f5f"
          },
          "geo": {
           "bgcolor": "white",
           "lakecolor": "white",
           "landcolor": "#E5ECF6",
           "showlakes": true,
           "showland": true,
           "subunitcolor": "white"
          },
          "hoverlabel": {
           "align": "left"
          },
          "hovermode": "closest",
          "mapbox": {
           "style": "light"
          },
          "paper_bgcolor": "white",
          "plot_bgcolor": "#E5ECF6",
          "polar": {
           "angularaxis": {
            "gridcolor": "white",
            "linecolor": "white",
            "ticks": ""
           },
           "bgcolor": "#E5ECF6",
           "radialaxis": {
            "gridcolor": "white",
            "linecolor": "white",
            "ticks": ""
           }
          },
          "scene": {
           "xaxis": {
            "backgroundcolor": "#E5ECF6",
            "gridcolor": "white",
            "gridwidth": 2,
            "linecolor": "white",
            "showbackground": true,
            "ticks": "",
            "zerolinecolor": "white"
           },
           "yaxis": {
            "backgroundcolor": "#E5ECF6",
            "gridcolor": "white",
            "gridwidth": 2,
            "linecolor": "white",
            "showbackground": true,
            "ticks": "",
            "zerolinecolor": "white"
           },
           "zaxis": {
            "backgroundcolor": "#E5ECF6",
            "gridcolor": "white",
            "gridwidth": 2,
            "linecolor": "white",
            "showbackground": true,
            "ticks": "",
            "zerolinecolor": "white"
           }
          },
          "shapedefaults": {
           "line": {
            "color": "#2a3f5f"
           }
          },
          "ternary": {
           "aaxis": {
            "gridcolor": "white",
            "linecolor": "white",
            "ticks": ""
           },
           "baxis": {
            "gridcolor": "white",
            "linecolor": "white",
            "ticks": ""
           },
           "bgcolor": "#E5ECF6",
           "caxis": {
            "gridcolor": "white",
            "linecolor": "white",
            "ticks": ""
           }
          },
          "title": {
           "x": 0.05
          },
          "xaxis": {
           "automargin": true,
           "gridcolor": "white",
           "linecolor": "white",
           "ticks": "",
           "title": {
            "standoff": 15
           },
           "zerolinecolor": "white",
           "zerolinewidth": 2
          },
          "yaxis": {
           "automargin": true,
           "gridcolor": "white",
           "linecolor": "white",
           "ticks": "",
           "title": {
            "standoff": 15
           },
           "zerolinecolor": "white",
           "zerolinewidth": 2
          }
         }
        },
        "title": {
         "text": "Hyperparameter Importances"
        },
        "xaxis": {
         "title": {
          "text": "Hyperparameter Importance"
         }
        },
        "yaxis": {
         "title": {
          "text": "Hyperparameter"
         }
        }
       }
      }
     },
     "metadata": {},
     "output_type": "display_data"
    }
   ],
   "source": [
    "optuna.visualization.plot_param_importances(study)"
   ]
  },
  {
   "cell_type": "code",
   "execution_count": 28,
   "metadata": {},
   "outputs": [
    {
     "data": {
      "application/vnd.plotly.v1+json": {
       "config": {
        "plotlyServerURL": "https://plot.ly"
       },
       "data": [
        {
         "mode": "lines",
         "name": "no-name-606132d9-d2ca-46ef-b4d4-191a62c70eed",
         "type": "scatter",
         "x": [
          0.57,
          0.5723737373737373,
          0.5747474747474747,
          0.577121212121212,
          0.5794949494949494,
          0.5818686868686869,
          0.5842424242424242,
          0.5866161616161616,
          0.588989898989899,
          0.5913636363636363,
          0.5937373737373737,
          0.596111111111111,
          0.5984848484848484,
          0.6008585858585859,
          0.6032323232323232,
          0.6056060606060606,
          0.607979797979798,
          0.6103535353535353,
          0.6127272727272727,
          0.61510101010101,
          0.6174747474747474,
          0.6198484848484849,
          0.6222222222222222,
          0.6245959595959596,
          0.626969696969697,
          0.6293434343434343,
          0.6317171717171717,
          0.634090909090909,
          0.6364646464646464,
          0.6388383838383838,
          0.6412121212121212,
          0.6435858585858586,
          0.645959595959596,
          0.6483333333333333,
          0.6507070707070707,
          0.653080808080808,
          0.6554545454545454,
          0.6578282828282829,
          0.6602020202020202,
          0.6625757575757576,
          0.664949494949495,
          0.6673232323232323,
          0.6696969696969697,
          0.672070707070707,
          0.6744444444444444,
          0.6768181818181818,
          0.6791919191919192,
          0.6815656565656566,
          0.683939393939394,
          0.6863131313131313,
          0.6886868686868687,
          0.691060606060606,
          0.6934343434343434,
          0.6958080808080809,
          0.6981818181818182,
          0.7005555555555556,
          0.702929292929293,
          0.7053030303030303,
          0.7076767676767677,
          0.710050505050505,
          0.7124242424242424,
          0.7147979797979798,
          0.7171717171717171,
          0.7195454545454546,
          0.721919191919192,
          0.7242929292929293,
          0.7266666666666667,
          0.729040404040404,
          0.7314141414141414,
          0.7337878787878788,
          0.7361616161616162,
          0.7385353535353536,
          0.740909090909091,
          0.7432828282828283,
          0.7456565656565657,
          0.748030303030303,
          0.7504040404040404,
          0.7527777777777778,
          0.7551515151515151,
          0.7575252525252525,
          0.75989898989899,
          0.7622727272727273,
          0.7646464646464647,
          0.767020202020202,
          0.7693939393939394,
          0.7717676767676768,
          0.7741414141414142,
          0.7765151515151516,
          0.778888888888889,
          0.7812626262626263,
          0.7836363636363637,
          0.786010101010101,
          0.7883838383838384,
          0.7907575757575758,
          0.7931313131313131,
          0.7955050505050505,
          0.7978787878787879,
          0.8002525252525253,
          0.8026262626262627,
          0.805
         ],
         "y": [
          0.105,
          0.105,
          0.105,
          0.105,
          0.105,
          0.105,
          0.105,
          0.105,
          0.105,
          0.105,
          0.105,
          0.105,
          0.105,
          0.105,
          0.105,
          0.105,
          0.105,
          0.105,
          0.105,
          0.105,
          0.105,
          0.105,
          0.105,
          0.105,
          0.105,
          0.105,
          0.105,
          0.105,
          0.105,
          0.105,
          0.195,
          0.195,
          0.2,
          0.2,
          0.2,
          0.2,
          0.2,
          0.2,
          0.21,
          0.21,
          0.21,
          0.255,
          0.255,
          0.26,
          0.26,
          0.275,
          0.275,
          0.285,
          0.285,
          0.32,
          0.32,
          0.32,
          0.32,
          0.335,
          0.335,
          0.355,
          0.355,
          0.375,
          0.375,
          0.395,
          0.395,
          0.395,
          0.42,
          0.42,
          0.435,
          0.435,
          0.455,
          0.455,
          0.455,
          0.455,
          0.505,
          0.505,
          0.565,
          0.565,
          0.595,
          0.595,
          0.61,
          0.61,
          0.62,
          0.62,
          0.62,
          0.665,
          0.665,
          0.685,
          0.685,
          0.725,
          0.725,
          0.77,
          0.77,
          0.8,
          0.8,
          0.855,
          0.855,
          0.91,
          0.91,
          0.975,
          0.975,
          0.985,
          0.985,
          1
         ]
        }
       ],
       "layout": {
        "template": {
         "data": {
          "bar": [
           {
            "error_x": {
             "color": "#2a3f5f"
            },
            "error_y": {
             "color": "#2a3f5f"
            },
            "marker": {
             "line": {
              "color": "#E5ECF6",
              "width": 0.5
             },
             "pattern": {
              "fillmode": "overlay",
              "size": 10,
              "solidity": 0.2
             }
            },
            "type": "bar"
           }
          ],
          "barpolar": [
           {
            "marker": {
             "line": {
              "color": "#E5ECF6",
              "width": 0.5
             },
             "pattern": {
              "fillmode": "overlay",
              "size": 10,
              "solidity": 0.2
             }
            },
            "type": "barpolar"
           }
          ],
          "carpet": [
           {
            "aaxis": {
             "endlinecolor": "#2a3f5f",
             "gridcolor": "white",
             "linecolor": "white",
             "minorgridcolor": "white",
             "startlinecolor": "#2a3f5f"
            },
            "baxis": {
             "endlinecolor": "#2a3f5f",
             "gridcolor": "white",
             "linecolor": "white",
             "minorgridcolor": "white",
             "startlinecolor": "#2a3f5f"
            },
            "type": "carpet"
           }
          ],
          "choropleth": [
           {
            "colorbar": {
             "outlinewidth": 0,
             "ticks": ""
            },
            "type": "choropleth"
           }
          ],
          "contour": [
           {
            "colorbar": {
             "outlinewidth": 0,
             "ticks": ""
            },
            "colorscale": [
             [
              0,
              "#0d0887"
             ],
             [
              0.1111111111111111,
              "#46039f"
             ],
             [
              0.2222222222222222,
              "#7201a8"
             ],
             [
              0.3333333333333333,
              "#9c179e"
             ],
             [
              0.4444444444444444,
              "#bd3786"
             ],
             [
              0.5555555555555556,
              "#d8576b"
             ],
             [
              0.6666666666666666,
              "#ed7953"
             ],
             [
              0.7777777777777778,
              "#fb9f3a"
             ],
             [
              0.8888888888888888,
              "#fdca26"
             ],
             [
              1,
              "#f0f921"
             ]
            ],
            "type": "contour"
           }
          ],
          "contourcarpet": [
           {
            "colorbar": {
             "outlinewidth": 0,
             "ticks": ""
            },
            "type": "contourcarpet"
           }
          ],
          "heatmap": [
           {
            "colorbar": {
             "outlinewidth": 0,
             "ticks": ""
            },
            "colorscale": [
             [
              0,
              "#0d0887"
             ],
             [
              0.1111111111111111,
              "#46039f"
             ],
             [
              0.2222222222222222,
              "#7201a8"
             ],
             [
              0.3333333333333333,
              "#9c179e"
             ],
             [
              0.4444444444444444,
              "#bd3786"
             ],
             [
              0.5555555555555556,
              "#d8576b"
             ],
             [
              0.6666666666666666,
              "#ed7953"
             ],
             [
              0.7777777777777778,
              "#fb9f3a"
             ],
             [
              0.8888888888888888,
              "#fdca26"
             ],
             [
              1,
              "#f0f921"
             ]
            ],
            "type": "heatmap"
           }
          ],
          "heatmapgl": [
           {
            "colorbar": {
             "outlinewidth": 0,
             "ticks": ""
            },
            "colorscale": [
             [
              0,
              "#0d0887"
             ],
             [
              0.1111111111111111,
              "#46039f"
             ],
             [
              0.2222222222222222,
              "#7201a8"
             ],
             [
              0.3333333333333333,
              "#9c179e"
             ],
             [
              0.4444444444444444,
              "#bd3786"
             ],
             [
              0.5555555555555556,
              "#d8576b"
             ],
             [
              0.6666666666666666,
              "#ed7953"
             ],
             [
              0.7777777777777778,
              "#fb9f3a"
             ],
             [
              0.8888888888888888,
              "#fdca26"
             ],
             [
              1,
              "#f0f921"
             ]
            ],
            "type": "heatmapgl"
           }
          ],
          "histogram": [
           {
            "marker": {
             "pattern": {
              "fillmode": "overlay",
              "size": 10,
              "solidity": 0.2
             }
            },
            "type": "histogram"
           }
          ],
          "histogram2d": [
           {
            "colorbar": {
             "outlinewidth": 0,
             "ticks": ""
            },
            "colorscale": [
             [
              0,
              "#0d0887"
             ],
             [
              0.1111111111111111,
              "#46039f"
             ],
             [
              0.2222222222222222,
              "#7201a8"
             ],
             [
              0.3333333333333333,
              "#9c179e"
             ],
             [
              0.4444444444444444,
              "#bd3786"
             ],
             [
              0.5555555555555556,
              "#d8576b"
             ],
             [
              0.6666666666666666,
              "#ed7953"
             ],
             [
              0.7777777777777778,
              "#fb9f3a"
             ],
             [
              0.8888888888888888,
              "#fdca26"
             ],
             [
              1,
              "#f0f921"
             ]
            ],
            "type": "histogram2d"
           }
          ],
          "histogram2dcontour": [
           {
            "colorbar": {
             "outlinewidth": 0,
             "ticks": ""
            },
            "colorscale": [
             [
              0,
              "#0d0887"
             ],
             [
              0.1111111111111111,
              "#46039f"
             ],
             [
              0.2222222222222222,
              "#7201a8"
             ],
             [
              0.3333333333333333,
              "#9c179e"
             ],
             [
              0.4444444444444444,
              "#bd3786"
             ],
             [
              0.5555555555555556,
              "#d8576b"
             ],
             [
              0.6666666666666666,
              "#ed7953"
             ],
             [
              0.7777777777777778,
              "#fb9f3a"
             ],
             [
              0.8888888888888888,
              "#fdca26"
             ],
             [
              1,
              "#f0f921"
             ]
            ],
            "type": "histogram2dcontour"
           }
          ],
          "mesh3d": [
           {
            "colorbar": {
             "outlinewidth": 0,
             "ticks": ""
            },
            "type": "mesh3d"
           }
          ],
          "parcoords": [
           {
            "line": {
             "colorbar": {
              "outlinewidth": 0,
              "ticks": ""
             }
            },
            "type": "parcoords"
           }
          ],
          "pie": [
           {
            "automargin": true,
            "type": "pie"
           }
          ],
          "scatter": [
           {
            "fillpattern": {
             "fillmode": "overlay",
             "size": 10,
             "solidity": 0.2
            },
            "type": "scatter"
           }
          ],
          "scatter3d": [
           {
            "line": {
             "colorbar": {
              "outlinewidth": 0,
              "ticks": ""
             }
            },
            "marker": {
             "colorbar": {
              "outlinewidth": 0,
              "ticks": ""
             }
            },
            "type": "scatter3d"
           }
          ],
          "scattercarpet": [
           {
            "marker": {
             "colorbar": {
              "outlinewidth": 0,
              "ticks": ""
             }
            },
            "type": "scattercarpet"
           }
          ],
          "scattergeo": [
           {
            "marker": {
             "colorbar": {
              "outlinewidth": 0,
              "ticks": ""
             }
            },
            "type": "scattergeo"
           }
          ],
          "scattergl": [
           {
            "marker": {
             "colorbar": {
              "outlinewidth": 0,
              "ticks": ""
             }
            },
            "type": "scattergl"
           }
          ],
          "scattermapbox": [
           {
            "marker": {
             "colorbar": {
              "outlinewidth": 0,
              "ticks": ""
             }
            },
            "type": "scattermapbox"
           }
          ],
          "scatterpolar": [
           {
            "marker": {
             "colorbar": {
              "outlinewidth": 0,
              "ticks": ""
             }
            },
            "type": "scatterpolar"
           }
          ],
          "scatterpolargl": [
           {
            "marker": {
             "colorbar": {
              "outlinewidth": 0,
              "ticks": ""
             }
            },
            "type": "scatterpolargl"
           }
          ],
          "scatterternary": [
           {
            "marker": {
             "colorbar": {
              "outlinewidth": 0,
              "ticks": ""
             }
            },
            "type": "scatterternary"
           }
          ],
          "surface": [
           {
            "colorbar": {
             "outlinewidth": 0,
             "ticks": ""
            },
            "colorscale": [
             [
              0,
              "#0d0887"
             ],
             [
              0.1111111111111111,
              "#46039f"
             ],
             [
              0.2222222222222222,
              "#7201a8"
             ],
             [
              0.3333333333333333,
              "#9c179e"
             ],
             [
              0.4444444444444444,
              "#bd3786"
             ],
             [
              0.5555555555555556,
              "#d8576b"
             ],
             [
              0.6666666666666666,
              "#ed7953"
             ],
             [
              0.7777777777777778,
              "#fb9f3a"
             ],
             [
              0.8888888888888888,
              "#fdca26"
             ],
             [
              1,
              "#f0f921"
             ]
            ],
            "type": "surface"
           }
          ],
          "table": [
           {
            "cells": {
             "fill": {
              "color": "#EBF0F8"
             },
             "line": {
              "color": "white"
             }
            },
            "header": {
             "fill": {
              "color": "#C8D4E3"
             },
             "line": {
              "color": "white"
             }
            },
            "type": "table"
           }
          ]
         },
         "layout": {
          "annotationdefaults": {
           "arrowcolor": "#2a3f5f",
           "arrowhead": 0,
           "arrowwidth": 1
          },
          "autotypenumbers": "strict",
          "coloraxis": {
           "colorbar": {
            "outlinewidth": 0,
            "ticks": ""
           }
          },
          "colorscale": {
           "diverging": [
            [
             0,
             "#8e0152"
            ],
            [
             0.1,
             "#c51b7d"
            ],
            [
             0.2,
             "#de77ae"
            ],
            [
             0.3,
             "#f1b6da"
            ],
            [
             0.4,
             "#fde0ef"
            ],
            [
             0.5,
             "#f7f7f7"
            ],
            [
             0.6,
             "#e6f5d0"
            ],
            [
             0.7,
             "#b8e186"
            ],
            [
             0.8,
             "#7fbc41"
            ],
            [
             0.9,
             "#4d9221"
            ],
            [
             1,
             "#276419"
            ]
           ],
           "sequential": [
            [
             0,
             "#0d0887"
            ],
            [
             0.1111111111111111,
             "#46039f"
            ],
            [
             0.2222222222222222,
             "#7201a8"
            ],
            [
             0.3333333333333333,
             "#9c179e"
            ],
            [
             0.4444444444444444,
             "#bd3786"
            ],
            [
             0.5555555555555556,
             "#d8576b"
            ],
            [
             0.6666666666666666,
             "#ed7953"
            ],
            [
             0.7777777777777778,
             "#fb9f3a"
            ],
            [
             0.8888888888888888,
             "#fdca26"
            ],
            [
             1,
             "#f0f921"
            ]
           ],
           "sequentialminus": [
            [
             0,
             "#0d0887"
            ],
            [
             0.1111111111111111,
             "#46039f"
            ],
            [
             0.2222222222222222,
             "#7201a8"
            ],
            [
             0.3333333333333333,
             "#9c179e"
            ],
            [
             0.4444444444444444,
             "#bd3786"
            ],
            [
             0.5555555555555556,
             "#d8576b"
            ],
            [
             0.6666666666666666,
             "#ed7953"
            ],
            [
             0.7777777777777778,
             "#fb9f3a"
            ],
            [
             0.8888888888888888,
             "#fdca26"
            ],
            [
             1,
             "#f0f921"
            ]
           ]
          },
          "colorway": [
           "#636efa",
           "#EF553B",
           "#00cc96",
           "#ab63fa",
           "#FFA15A",
           "#19d3f3",
           "#FF6692",
           "#B6E880",
           "#FF97FF",
           "#FECB52"
          ],
          "font": {
           "color": "#2a3f5f"
          },
          "geo": {
           "bgcolor": "white",
           "lakecolor": "white",
           "landcolor": "#E5ECF6",
           "showlakes": true,
           "showland": true,
           "subunitcolor": "white"
          },
          "hoverlabel": {
           "align": "left"
          },
          "hovermode": "closest",
          "mapbox": {
           "style": "light"
          },
          "paper_bgcolor": "white",
          "plot_bgcolor": "#E5ECF6",
          "polar": {
           "angularaxis": {
            "gridcolor": "white",
            "linecolor": "white",
            "ticks": ""
           },
           "bgcolor": "#E5ECF6",
           "radialaxis": {
            "gridcolor": "white",
            "linecolor": "white",
            "ticks": ""
           }
          },
          "scene": {
           "xaxis": {
            "backgroundcolor": "#E5ECF6",
            "gridcolor": "white",
            "gridwidth": 2,
            "linecolor": "white",
            "showbackground": true,
            "ticks": "",
            "zerolinecolor": "white"
           },
           "yaxis": {
            "backgroundcolor": "#E5ECF6",
            "gridcolor": "white",
            "gridwidth": 2,
            "linecolor": "white",
            "showbackground": true,
            "ticks": "",
            "zerolinecolor": "white"
           },
           "zaxis": {
            "backgroundcolor": "#E5ECF6",
            "gridcolor": "white",
            "gridwidth": 2,
            "linecolor": "white",
            "showbackground": true,
            "ticks": "",
            "zerolinecolor": "white"
           }
          },
          "shapedefaults": {
           "line": {
            "color": "#2a3f5f"
           }
          },
          "ternary": {
           "aaxis": {
            "gridcolor": "white",
            "linecolor": "white",
            "ticks": ""
           },
           "baxis": {
            "gridcolor": "white",
            "linecolor": "white",
            "ticks": ""
           },
           "bgcolor": "#E5ECF6",
           "caxis": {
            "gridcolor": "white",
            "linecolor": "white",
            "ticks": ""
           }
          },
          "title": {
           "x": 0.05
          },
          "xaxis": {
           "automargin": true,
           "gridcolor": "white",
           "linecolor": "white",
           "ticks": "",
           "title": {
            "standoff": 15
           },
           "zerolinecolor": "white",
           "zerolinewidth": 2
          },
          "yaxis": {
           "automargin": true,
           "gridcolor": "white",
           "linecolor": "white",
           "ticks": "",
           "title": {
            "standoff": 15
           },
           "zerolinecolor": "white",
           "zerolinewidth": 2
          }
         }
        },
        "title": {
         "text": "Empirical Distribution Function Plot"
        },
        "xaxis": {
         "title": {
          "text": "Objective Value"
         }
        },
        "yaxis": {
         "range": [
          0,
          1
         ],
         "title": {
          "text": "Cumulative Probability"
         }
        }
       }
      }
     },
     "metadata": {},
     "output_type": "display_data"
    }
   ],
   "source": [
    "optuna.visualization.plot_edf(study)"
   ]
  },
  {
   "cell_type": "markdown",
   "metadata": {},
   "source": [
    "Enlarge 'C' range and add elasticnet parameter (comes with l1_ratio)"
   ]
  },
  {
   "cell_type": "code",
   "execution_count": 29,
   "metadata": {},
   "outputs": [],
   "source": [
    "def objective(trial):\n",
    "    # Define the hyperparameters to optimize\n",
    "    l1_ratio = trial.suggest_uniform('l1_ratio', 0, 1)\n",
    "    penalty = trial.suggest_categorical('penalty', ['elasticnet'])\n",
    "    C = trial.suggest_loguniform('C', 0.01, 100.0)\n",
    "    max_iter = trial.suggest_int('max_iter', 100, 1000)\n",
    "    solver= trial.suggest_categorical('solver', ['saga'])\n",
    "    \n",
    "    # Create the logistic regression model with the hyperparameters\n",
    "    model = LogisticRegression(penalty=penalty, C=C, max_iter=max_iter,\n",
    "     solver=solver, l1_ratio=l1_ratio, random_state=seed)\n",
    "    \n",
    "    # Train the model\n",
    "    model.fit(X_train, y_train)\n",
    "    \n",
    "    # Make predictions on the test set\n",
    "    y_pred = model.predict(X_test)\n",
    "    \n",
    "    # Calculate the accuracy score\n",
    "    accuracy = accuracy_score(y_test, y_pred)\n",
    "    #score_cross_val = cross_val_score(model, X_train, y_train, cv=5, scoring='precision')\n",
    "\n",
    "    \n",
    "    return accuracy"
   ]
  },
  {
   "cell_type": "code",
   "execution_count": 30,
   "metadata": {},
   "outputs": [
    {
     "name": "stderr",
     "output_type": "stream",
     "text": [
      "[I 2024-06-04 23:06:49,830] A new study created in memory with name: no-name-15a888bc-e9ee-4f00-a1d3-54fba43f209e\n",
      "[I 2024-06-04 23:06:50,240] Trial 0 finished with value: 0.78 and parameters: {'l1_ratio': 0.3745401188473625, 'penalty': 'elasticnet', 'C': 63.512210106407046, 'max_iter': 759, 'solver': 'saga'}. Best is trial 0 with value: 0.78.\n",
      "[I 2024-06-04 23:06:50,261] Trial 1 finished with value: 0.64 and parameters: {'l1_ratio': 0.5986584841970366, 'penalty': 'elasticnet', 'C': 0.04207988669606638, 'max_iter': 240, 'solver': 'saga'}. Best is trial 0 with value: 0.78.\n",
      "[I 2024-06-04 23:06:50,492] Trial 2 finished with value: 0.785 and parameters: {'l1_ratio': 0.05808361216819946, 'penalty': 'elasticnet', 'C': 29.154431891537552, 'max_iter': 641, 'solver': 'saga'}. Best is trial 2 with value: 0.785.\n",
      "[I 2024-06-04 23:06:50,502] Trial 3 finished with value: 0.57 and parameters: {'l1_ratio': 0.7080725777960455, 'penalty': 'elasticnet', 'C': 0.012087541473056965, 'max_iter': 973, 'solver': 'saga'}. Best is trial 2 with value: 0.785.\n",
      "[I 2024-06-04 23:06:50,522] Trial 4 finished with value: 0.64 and parameters: {'l1_ratio': 0.8324426408004217, 'penalty': 'elasticnet', 'C': 0.07068974950624607, 'max_iter': 263, 'solver': 'saga'}. Best is trial 2 with value: 0.785.\n",
      "[I 2024-06-04 23:06:50,547] Trial 5 finished with value: 0.74 and parameters: {'l1_ratio': 0.18340450985343382, 'penalty': 'elasticnet', 'C': 0.1648044642797898, 'max_iter': 572, 'solver': 'saga'}. Best is trial 2 with value: 0.785.\n",
      "[I 2024-06-04 23:06:50,570] Trial 6 finished with value: 0.73 and parameters: {'l1_ratio': 0.43194501864211576, 'penalty': 'elasticnet', 'C': 0.14618962793704965, 'max_iter': 651, 'solver': 'saga'}. Best is trial 2 with value: 0.785.\n",
      "[I 2024-06-04 23:06:50,595] Trial 7 finished with value: 0.735 and parameters: {'l1_ratio': 0.13949386065204183, 'penalty': 'elasticnet', 'C': 0.14742753159914673, 'max_iter': 430, 'solver': 'saga'}. Best is trial 2 with value: 0.785.\n",
      "[I 2024-06-04 23:06:50,793] Trial 8 finished with value: 0.785 and parameters: {'l1_ratio': 0.45606998421703593, 'penalty': 'elasticnet', 'C': 13.826232179369875, 'max_iter': 279, 'solver': 'saga'}. Best is trial 2 with value: 0.785.\n",
      "[I 2024-06-04 23:06:50,874] Trial 9 finished with value: 0.785 and parameters: {'l1_ratio': 0.5142344384136116, 'penalty': 'elasticnet', 'C': 2.342384984711291, 'max_iter': 141, 'solver': 'saga'}. Best is trial 2 with value: 0.785.\n",
      "[I 2024-06-04 23:06:50,895] Trial 10 finished with value: 0.64 and parameters: {'l1_ratio': 0.6075448519014384, 'penalty': 'elasticnet', 'C': 0.04809461967501574, 'max_iter': 158, 'solver': 'saga'}. Best is trial 2 with value: 0.785.\n",
      "[I 2024-06-04 23:06:51,565] Trial 11 finished with value: 0.765 and parameters: {'l1_ratio': 0.9488855372533332, 'penalty': 'elasticnet', 'C': 72.86653737491046, 'max_iter': 828, 'solver': 'saga'}. Best is trial 2 with value: 0.785.\n",
      "[I 2024-06-04 23:06:51,586] Trial 12 finished with value: 0.64 and parameters: {'l1_ratio': 0.3046137691733707, 'penalty': 'elasticnet', 'C': 0.024586032763280065, 'max_iter': 716, 'solver': 'saga'}. Best is trial 2 with value: 0.785.\n",
      "[I 2024-06-04 23:06:51,607] Trial 13 finished with value: 0.64 and parameters: {'l1_ratio': 0.4401524937396013, 'penalty': 'elasticnet', 'C': 0.030771802712506867, 'max_iter': 546, 'solver': 'saga'}. Best is trial 2 with value: 0.785.\n",
      "[I 2024-06-04 23:06:51,888] Trial 14 finished with value: 0.785 and parameters: {'l1_ratio': 0.034388521115218396, 'penalty': 'elasticnet', 'C': 43.37920697490943, 'max_iter': 333, 'solver': 'saga'}. Best is trial 2 with value: 0.785.\n",
      "[I 2024-06-04 23:06:51,911] Trial 15 finished with value: 0.72 and parameters: {'l1_ratio': 0.662522284353982, 'penalty': 'elasticnet', 'C': 0.17654048052495078, 'max_iter': 568, 'solver': 'saga'}. Best is trial 2 with value: 0.785.\n",
      "[I 2024-06-04 23:06:51,932] Trial 16 finished with value: 0.665 and parameters: {'l1_ratio': 0.5467102793432796, 'penalty': 'elasticnet', 'C': 0.05488047000766046, 'max_iter': 973, 'solver': 'saga'}. Best is trial 2 with value: 0.785.\n",
      "[I 2024-06-04 23:06:52,497] Trial 17 finished with value: 0.77 and parameters: {'l1_ratio': 0.7751328233611146, 'penalty': 'elasticnet', 'C': 57.27904470799624, 'max_iter': 906, 'solver': 'saga'}. Best is trial 2 with value: 0.785.\n",
      "[I 2024-06-04 23:06:52,662] Trial 18 finished with value: 0.78 and parameters: {'l1_ratio': 0.5978999788110851, 'penalty': 'elasticnet', 'C': 48.696409415209004, 'max_iter': 179, 'solver': 'saga'}. Best is trial 2 with value: 0.785.\n",
      "[I 2024-06-04 23:06:52,683] Trial 19 finished with value: 0.64 and parameters: {'l1_ratio': 0.1959828624191452, 'penalty': 'elasticnet', 'C': 0.015167330688076212, 'max_iter': 393, 'solver': 'saga'}. Best is trial 2 with value: 0.785.\n",
      "[I 2024-06-04 23:06:52,711] Trial 20 finished with value: 0.725 and parameters: {'l1_ratio': 0.388677289689482, 'penalty': 'elasticnet', 'C': 0.12172958098369972, 'max_iter': 846, 'solver': 'saga'}. Best is trial 2 with value: 0.785.\n",
      "[I 2024-06-04 23:06:52,733] Trial 21 finished with value: 0.73 and parameters: {'l1_ratio': 0.3567533266935893, 'penalty': 'elasticnet', 'C': 0.13296521457299515, 'max_iter': 588, 'solver': 'saga'}. Best is trial 2 with value: 0.785.\n",
      "[I 2024-06-04 23:06:52,887] Trial 22 finished with value: 0.79 and parameters: {'l1_ratio': 0.14092422497476265, 'penalty': 'elasticnet', 'C': 16.172900811143155, 'max_iter': 167, 'solver': 'saga'}. Best is trial 22 with value: 0.79.\n",
      "[I 2024-06-04 23:06:53,118] Trial 23 finished with value: 0.78 and parameters: {'l1_ratio': 0.9868869366005173, 'penalty': 'elasticnet', 'C': 12.273800987852969, 'max_iter': 279, 'solver': 'saga'}. Best is trial 22 with value: 0.79.\n",
      "[I 2024-06-04 23:06:53,298] Trial 24 finished with value: 0.79 and parameters: {'l1_ratio': 0.005522117123602399, 'penalty': 'elasticnet', 'C': 18.27450885981603, 'max_iter': 736, 'solver': 'saga'}. Best is trial 22 with value: 0.79.\n",
      "[I 2024-06-04 23:06:53,442] Trial 25 finished with value: 0.79 and parameters: {'l1_ratio': 0.7290071680409873, 'penalty': 'elasticnet', 'C': 12.164139351417068, 'max_iter': 166, 'solver': 'saga'}. Best is trial 22 with value: 0.79.\n",
      "[I 2024-06-04 23:06:53,463] Trial 26 finished with value: 0.64 and parameters: {'l1_ratio': 0.3584657285442726, 'penalty': 'elasticnet', 'C': 0.029072088906598452, 'max_iter': 877, 'solver': 'saga'}. Best is trial 22 with value: 0.79.\n",
      "[I 2024-06-04 23:06:53,487] Trial 27 finished with value: 0.745 and parameters: {'l1_ratio': 0.6232981268275579, 'penalty': 'elasticnet', 'C': 0.2106648601704221, 'max_iter': 157, 'solver': 'saga'}. Best is trial 22 with value: 0.79.\n",
      "[I 2024-06-04 23:06:53,511] Trial 28 finished with value: 0.745 and parameters: {'l1_ratio': 0.3109823217156622, 'penalty': 'elasticnet', 'C': 0.19986340778528885, 'max_iter': 757, 'solver': 'saga'}. Best is trial 22 with value: 0.79.\n",
      "[I 2024-06-04 23:06:53,907] Trial 29 finished with value: 0.78 and parameters: {'l1_ratio': 0.6375574713552131, 'penalty': 'elasticnet', 'C': 35.387588647792406, 'max_iter': 525, 'solver': 'saga'}. Best is trial 22 with value: 0.79.\n",
      "[I 2024-06-04 23:06:54,021] Trial 30 finished with value: 0.79 and parameters: {'l1_ratio': 0.1195942459383017, 'penalty': 'elasticnet', 'C': 7.128188058401368, 'max_iter': 785, 'solver': 'saga'}. Best is trial 22 with value: 0.79.\n",
      "[I 2024-06-04 23:06:54,242] Trial 31 finished with value: 0.785 and parameters: {'l1_ratio': 0.5612771975694962, 'penalty': 'elasticnet', 'C': 12.130221181165163, 'max_iter': 544, 'solver': 'saga'}. Best is trial 22 with value: 0.79.\n",
      "[I 2024-06-04 23:06:54,278] Trial 32 finished with value: 0.76 and parameters: {'l1_ratio': 0.5227328293819941, 'penalty': 'elasticnet', 'C': 0.5130551760589835, 'max_iter': 122, 'solver': 'saga'}. Best is trial 22 with value: 0.79.\n",
      "[I 2024-06-04 23:06:54,299] Trial 33 finished with value: 0.65 and parameters: {'l1_ratio': 0.10789142699330445, 'penalty': 'elasticnet', 'C': 0.0133572404119741, 'max_iter': 673, 'solver': 'saga'}. Best is trial 22 with value: 0.79.\n",
      "[I 2024-06-04 23:06:54,348] Trial 34 finished with value: 0.775 and parameters: {'l1_ratio': 0.3143559810763267, 'penalty': 'elasticnet', 'C': 1.0821382910613992, 'max_iter': 917, 'solver': 'saga'}. Best is trial 22 with value: 0.79.\n",
      "[I 2024-06-04 23:06:54,381] Trial 35 finished with value: 0.75 and parameters: {'l1_ratio': 0.24929222914887494, 'penalty': 'elasticnet', 'C': 0.4380580767905656, 'max_iter': 780, 'solver': 'saga'}. Best is trial 22 with value: 0.79.\n",
      "[I 2024-06-04 23:06:54,402] Trial 36 finished with value: 0.64 and parameters: {'l1_ratio': 0.22879816549162246, 'penalty': 'elasticnet', 'C': 0.020319809838424987, 'max_iter': 361, 'solver': 'saga'}. Best is trial 22 with value: 0.79.\n",
      "[I 2024-06-04 23:06:54,724] Trial 37 finished with value: 0.78 and parameters: {'l1_ratio': 0.16122128725400442, 'penalty': 'elasticnet', 'C': 52.334804885400885, 'max_iter': 828, 'solver': 'saga'}. Best is trial 22 with value: 0.79.\n",
      "[I 2024-06-04 23:06:55,103] Trial 38 finished with value: 0.775 and parameters: {'l1_ratio': 0.6334037565104235, 'penalty': 'elasticnet', 'C': 30.608522106722507, 'max_iter': 824, 'solver': 'saga'}. Best is trial 22 with value: 0.79.\n",
      "[I 2024-06-04 23:06:55,377] Trial 39 finished with value: 0.785 and parameters: {'l1_ratio': 0.18657005888603584, 'penalty': 'elasticnet', 'C': 37.173717478250516, 'max_iter': 585, 'solver': 'saga'}. Best is trial 22 with value: 0.79.\n",
      "[I 2024-06-04 23:06:55,700] Trial 40 finished with value: 0.78 and parameters: {'l1_ratio': 0.8074401551640625, 'penalty': 'elasticnet', 'C': 38.403004190988575, 'max_iter': 386, 'solver': 'saga'}. Best is trial 22 with value: 0.79.\n",
      "[I 2024-06-04 23:06:55,725] Trial 41 finished with value: 0.735 and parameters: {'l1_ratio': 0.11005192452767676, 'penalty': 'elasticnet', 'C': 0.08160948743089923, 'max_iter': 484, 'solver': 'saga'}. Best is trial 22 with value: 0.79.\n",
      "[I 2024-06-04 23:06:55,822] Trial 42 finished with value: 0.795 and parameters: {'l1_ratio': 0.8180147659224931, 'penalty': 'elasticnet', 'C': 27.728241828010635, 'max_iter': 106, 'solver': 'saga'}. Best is trial 42 with value: 0.795.\n",
      "[I 2024-06-04 23:06:55,858] Trial 43 finished with value: 0.755 and parameters: {'l1_ratio': 0.5107473025775657, 'penalty': 'elasticnet', 'C': 0.4673518999562751, 'max_iter': 300, 'solver': 'saga'}. Best is trial 42 with value: 0.795.\n",
      "[I 2024-06-04 23:06:55,883] Trial 44 finished with value: 0.74 and parameters: {'l1_ratio': 0.1198653673336828, 'penalty': 'elasticnet', 'C': 0.2241097161910952, 'max_iter': 949, 'solver': 'saga'}. Best is trial 42 with value: 0.795.\n",
      "[I 2024-06-04 23:06:55,934] Trial 45 finished with value: 0.775 and parameters: {'l1_ratio': 0.32320293202075523, 'penalty': 'elasticnet', 'C': 1.1889469769530472, 'max_iter': 733, 'solver': 'saga'}. Best is trial 42 with value: 0.795.\n",
      "[I 2024-06-04 23:06:56,393] Trial 46 finished with value: 0.78 and parameters: {'l1_ratio': 0.363629602379294, 'penalty': 'elasticnet', 'C': 77.11312991331113, 'max_iter': 967, 'solver': 'saga'}. Best is trial 42 with value: 0.795.\n",
      "[I 2024-06-04 23:06:56,444] Trial 47 finished with value: 0.775 and parameters: {'l1_ratio': 0.25178229582536416, 'penalty': 'elasticnet', 'C': 0.9749762207436125, 'max_iter': 371, 'solver': 'saga'}. Best is trial 42 with value: 0.795.\n",
      "[I 2024-06-04 23:06:56,467] Trial 48 finished with value: 0.64 and parameters: {'l1_ratio': 0.2848404943774676, 'penalty': 'elasticnet', 'C': 0.014045842344024706, 'max_iter': 649, 'solver': 'saga'}. Best is trial 42 with value: 0.795.\n",
      "[I 2024-06-04 23:06:56,491] Trial 49 finished with value: 0.57 and parameters: {'l1_ratio': 0.5026790232288615, 'penalty': 'elasticnet', 'C': 0.016066267921727714, 'max_iter': 351, 'solver': 'saga'}. Best is trial 42 with value: 0.795.\n",
      "[I 2024-06-04 23:06:56,517] Trial 50 finished with value: 0.665 and parameters: {'l1_ratio': 0.9082658859666537, 'penalty': 'elasticnet', 'C': 0.09083381663660589, 'max_iter': 230, 'solver': 'saga'}. Best is trial 42 with value: 0.795.\n",
      "[I 2024-06-04 23:06:56,795] Trial 51 finished with value: 0.775 and parameters: {'l1_ratio': 0.489452760277563, 'penalty': 'elasticnet', 'C': 87.61971101023695, 'max_iter': 318, 'solver': 'saga'}. Best is trial 42 with value: 0.795.\n",
      "[I 2024-06-04 23:06:57,040] Trial 52 finished with value: 0.785 and parameters: {'l1_ratio': 0.6721355474058786, 'penalty': 'elasticnet', 'C': 11.129571947046015, 'max_iter': 314, 'solver': 'saga'}. Best is trial 42 with value: 0.795.\n",
      "[I 2024-06-04 23:06:57,071] Trial 53 finished with value: 0.75 and parameters: {'l1_ratio': 0.7282163486118596, 'penalty': 'elasticnet', 'C': 0.295891528209531, 'max_iter': 669, 'solver': 'saga'}. Best is trial 42 with value: 0.795.\n",
      "[I 2024-06-04 23:06:57,144] Trial 54 finished with value: 0.775 and parameters: {'l1_ratio': 0.6335297107608947, 'penalty': 'elasticnet', 'C': 1.390268671103501, 'max_iter': 181, 'solver': 'saga'}. Best is trial 42 with value: 0.795.\n",
      "[I 2024-06-04 23:06:57,173] Trial 55 finished with value: 0.72 and parameters: {'l1_ratio': 0.835302495589238, 'penalty': 'elasticnet', 'C': 0.19192001101561892, 'max_iter': 268, 'solver': 'saga'}. Best is trial 42 with value: 0.795.\n",
      "[I 2024-06-04 23:06:57,240] Trial 56 finished with value: 0.78 and parameters: {'l1_ratio': 0.040775141554763916, 'penalty': 'elasticnet', 'C': 2.3097861492693577, 'max_iter': 710, 'solver': 'saga'}. Best is trial 42 with value: 0.795.\n",
      "[I 2024-06-04 23:06:57,293] Trial 57 finished with value: 0.755 and parameters: {'l1_ratio': 0.016587828927856152, 'penalty': 'elasticnet', 'C': 1.117820920069873, 'max_iter': 304, 'solver': 'saga'}. Best is trial 42 with value: 0.795.\n",
      "[I 2024-06-04 23:06:57,313] Trial 58 finished with value: 0.64 and parameters: {'l1_ratio': 0.6451727904094499, 'penalty': 'elasticnet', 'C': 0.04982711200081135, 'max_iter': 722, 'solver': 'saga'}. Best is trial 42 with value: 0.795.\n",
      "[I 2024-06-04 23:06:57,513] Trial 59 finished with value: 0.78 and parameters: {'l1_ratio': 0.3867353463005374, 'penalty': 'elasticnet', 'C': 55.836727227548245, 'max_iter': 223, 'solver': 'saga'}. Best is trial 42 with value: 0.795.\n",
      "[I 2024-06-04 23:06:57,534] Trial 60 finished with value: 0.64 and parameters: {'l1_ratio': 0.3410663510502585, 'penalty': 'elasticnet', 'C': 0.028437674894443682, 'max_iter': 933, 'solver': 'saga'}. Best is trial 42 with value: 0.795.\n",
      "[I 2024-06-04 23:06:57,561] Trial 61 finished with value: 0.665 and parameters: {'l1_ratio': 0.877339353380981, 'penalty': 'elasticnet', 'C': 0.10758866306767922, 'max_iter': 694, 'solver': 'saga'}. Best is trial 42 with value: 0.795.\n",
      "[I 2024-06-04 23:06:57,688] Trial 62 finished with value: 0.78 and parameters: {'l1_ratio': 0.8172222002012158, 'penalty': 'elasticnet', 'C': 1.6626592254031876, 'max_iter': 577, 'solver': 'saga'}. Best is trial 42 with value: 0.795.\n",
      "[I 2024-06-04 23:06:57,709] Trial 63 finished with value: 0.64 and parameters: {'l1_ratio': 0.24185229090045168, 'penalty': 'elasticnet', 'C': 0.023572794556769815, 'max_iter': 908, 'solver': 'saga'}. Best is trial 42 with value: 0.795.\n",
      "[I 2024-06-04 23:06:57,958] Trial 64 finished with value: 0.79 and parameters: {'l1_ratio': 0.9004180571633305, 'penalty': 'elasticnet', 'C': 3.4072643485301923, 'max_iter': 405, 'solver': 'saga'}. Best is trial 42 with value: 0.795.\n",
      "[I 2024-06-04 23:06:58,099] Trial 65 finished with value: 0.79 and parameters: {'l1_ratio': 0.3492095746126609, 'penalty': 'elasticnet', 'C': 8.013508750140629, 'max_iter': 908, 'solver': 'saga'}. Best is trial 42 with value: 0.795.\n",
      "[I 2024-06-04 23:06:58,620] Trial 66 finished with value: 0.775 and parameters: {'l1_ratio': 0.8870864242651173, 'penalty': 'elasticnet', 'C': 13.16746532693615, 'max_iter': 678, 'solver': 'saga'}. Best is trial 42 with value: 0.795.\n",
      "[I 2024-06-04 23:06:58,644] Trial 67 finished with value: 0.71 and parameters: {'l1_ratio': 0.08413996499504883, 'penalty': 'elasticnet', 'C': 0.04431133722857618, 'max_iter': 909, 'solver': 'saga'}. Best is trial 42 with value: 0.795.\n",
      "[I 2024-06-04 23:06:58,653] Trial 68 finished with value: 0.57 and parameters: {'l1_ratio': 0.6064290596595899, 'penalty': 'elasticnet', 'C': 0.01088399181393813, 'max_iter': 191, 'solver': 'saga'}. Best is trial 42 with value: 0.795.\n",
      "[I 2024-06-04 23:06:58,663] Trial 69 finished with value: 0.57 and parameters: {'l1_ratio': 0.6635017691080558, 'penalty': 'elasticnet', 'C': 0.010477226564098292, 'max_iter': 244, 'solver': 'saga'}. Best is trial 42 with value: 0.795.\n",
      "[I 2024-06-04 23:06:58,802] Trial 70 finished with value: 0.795 and parameters: {'l1_ratio': 0.5487337893665861, 'penalty': 'elasticnet', 'C': 5.855726588796257, 'max_iter': 687, 'solver': 'saga'}. Best is trial 42 with value: 0.795.\n",
      "[I 2024-06-04 23:06:58,920] Trial 71 finished with value: 0.79 and parameters: {'l1_ratio': 0.22426930946055978, 'penalty': 'elasticnet', 'C': 7.058572590901793, 'max_iter': 313, 'solver': 'saga'}. Best is trial 42 with value: 0.795.\n",
      "[I 2024-06-04 23:06:59,070] Trial 72 finished with value: 0.785 and parameters: {'l1_ratio': 0.3253996981592677, 'penalty': 'elasticnet', 'C': 9.682012086882475, 'max_iter': 685, 'solver': 'saga'}. Best is trial 42 with value: 0.795.\n",
      "[I 2024-06-04 23:06:59,270] Trial 73 finished with value: 0.79 and parameters: {'l1_ratio': 0.8492234104941779, 'penalty': 'elasticnet', 'C': 4.270232968405545, 'max_iter': 612, 'solver': 'saga'}. Best is trial 42 with value: 0.795.\n",
      "[I 2024-06-04 23:06:59,297] Trial 74 finished with value: 0.74 and parameters: {'l1_ratio': 0.09367476782809248, 'penalty': 'elasticnet', 'C': 0.295708094149435, 'max_iter': 338, 'solver': 'saga'}. Best is trial 42 with value: 0.795.\n",
      "[I 2024-06-04 23:06:59,693] Trial 75 finished with value: 0.78 and parameters: {'l1_ratio': 0.24398964337908358, 'penalty': 'elasticnet', 'C': 77.99059237255682, 'max_iter': 454, 'solver': 'saga'}. Best is trial 42 with value: 0.795.\n",
      "[I 2024-06-04 23:06:59,987] Trial 76 finished with value: 0.79 and parameters: {'l1_ratio': 0.8920465551771133, 'penalty': 'elasticnet', 'C': 3.346220103048383, 'max_iter': 816, 'solver': 'saga'}. Best is trial 42 with value: 0.795.\n",
      "[I 2024-06-04 23:07:00,056] Trial 77 finished with value: 0.78 and parameters: {'l1_ratio': 0.5026370931051921, 'penalty': 'elasticnet', 'C': 2.0305586522289136, 'max_iter': 543, 'solver': 'saga'}. Best is trial 42 with value: 0.795.\n",
      "[I 2024-06-04 23:07:00,176] Trial 78 finished with value: 0.795 and parameters: {'l1_ratio': 0.1952429877980445, 'penalty': 'elasticnet', 'C': 7.75904840166764, 'max_iter': 352, 'solver': 'saga'}. Best is trial 42 with value: 0.795.\n",
      "[I 2024-06-04 23:07:00,255] Trial 79 finished with value: 0.785 and parameters: {'l1_ratio': 0.02431596643145384, 'penalty': 'elasticnet', 'C': 3.8184682479739696, 'max_iter': 259, 'solver': 'saga'}. Best is trial 42 with value: 0.795.\n",
      "[I 2024-06-04 23:07:00,988] Trial 80 finished with value: 0.77 and parameters: {'l1_ratio': 0.9404585843529143, 'penalty': 'elasticnet', 'C': 65.42056762893132, 'max_iter': 924, 'solver': 'saga'}. Best is trial 42 with value: 0.795.\n",
      "[I 2024-06-04 23:07:01,009] Trial 81 finished with value: 0.57 and parameters: {'l1_ratio': 0.3701587002554444, 'penalty': 'elasticnet', 'C': 0.011529924570330224, 'max_iter': 936, 'solver': 'saga'}. Best is trial 42 with value: 0.795.\n",
      "[I 2024-06-04 23:07:01,480] Trial 82 finished with value: 0.78 and parameters: {'l1_ratio': 0.42818414831731433, 'penalty': 'elasticnet', 'C': 73.55619850853313, 'max_iter': 968, 'solver': 'saga'}. Best is trial 42 with value: 0.795.\n",
      "[I 2024-06-04 23:07:01,507] Trial 83 finished with value: 0.7 and parameters: {'l1_ratio': 0.8530094554673601, 'penalty': 'elasticnet', 'C': 0.15058980408366401, 'max_iter': 446, 'solver': 'saga'}. Best is trial 42 with value: 0.795.\n",
      "[I 2024-06-04 23:07:01,540] Trial 84 finished with value: 0.715 and parameters: {'l1_ratio': 0.8511366715168569, 'penalty': 'elasticnet', 'C': 0.1852200600317439, 'max_iter': 252, 'solver': 'saga'}. Best is trial 42 with value: 0.795.\n",
      "[I 2024-06-04 23:07:01,973] Trial 85 finished with value: 0.78 and parameters: {'l1_ratio': 0.5568012624583502, 'penalty': 'elasticnet', 'C': 55.54169083020914, 'max_iter': 727, 'solver': 'saga'}. Best is trial 42 with value: 0.795.\n",
      "[I 2024-06-04 23:07:01,994] Trial 86 finished with value: 0.64 and parameters: {'l1_ratio': 0.570061170089365, 'penalty': 'elasticnet', 'C': 0.024474057445796837, 'max_iter': 654, 'solver': 'saga'}. Best is trial 42 with value: 0.795.\n",
      "[I 2024-06-04 23:07:02,015] Trial 87 finished with value: 0.64 and parameters: {'l1_ratio': 0.9900538501042633, 'penalty': 'elasticnet', 'C': 0.03633591165393165, 'max_iter': 567, 'solver': 'saga'}. Best is trial 42 with value: 0.795.\n",
      "[I 2024-06-04 23:07:02,388] Trial 88 finished with value: 0.785 and parameters: {'l1_ratio': 0.8773730719279554, 'penalty': 'elasticnet', 'C': 9.184900818511545, 'max_iter': 728, 'solver': 'saga'}. Best is trial 42 with value: 0.795.\n",
      "[I 2024-06-04 23:07:02,414] Trial 89 finished with value: 0.75 and parameters: {'l1_ratio': 0.7024840839871093, 'penalty': 'elasticnet', 'C': 0.27413507419758276, 'max_iter': 364, 'solver': 'saga'}. Best is trial 42 with value: 0.795.\n",
      "[I 2024-06-04 23:07:02,839] Trial 90 finished with value: 0.78 and parameters: {'l1_ratio': 0.8093611554785136, 'penalty': 'elasticnet', 'C': 17.39616742284699, 'max_iter': 881, 'solver': 'saga'}. Best is trial 42 with value: 0.795.\n",
      "[I 2024-06-04 23:07:02,961] Trial 91 finished with value: 0.77 and parameters: {'l1_ratio': 0.9132405525564713, 'penalty': 'elasticnet', 'C': 1.1101191524846075, 'max_iter': 551, 'solver': 'saga'}. Best is trial 42 with value: 0.795.\n",
      "[I 2024-06-04 23:07:03,125] Trial 92 finished with value: 0.795 and parameters: {'l1_ratio': 0.7982951789667752, 'penalty': 'elasticnet', 'C': 3.979749374103115, 'max_iter': 732, 'solver': 'saga'}. Best is trial 42 with value: 0.795.\n",
      "[I 2024-06-04 23:07:03,455] Trial 93 finished with value: 0.78 and parameters: {'l1_ratio': 0.795792669436101, 'penalty': 'elasticnet', 'C': 36.309591863459104, 'max_iter': 404, 'solver': 'saga'}. Best is trial 42 with value: 0.795.\n",
      "[I 2024-06-04 23:07:03,475] Trial 94 finished with value: 0.64 and parameters: {'l1_ratio': 0.375582952639944, 'penalty': 'elasticnet', 'C': 0.023764449553865363, 'max_iter': 621, 'solver': 'saga'}. Best is trial 42 with value: 0.795.\n",
      "[I 2024-06-04 23:07:03,518] Trial 95 finished with value: 0.76 and parameters: {'l1_ratio': 0.035942273796742086, 'penalty': 'elasticnet', 'C': 0.7284371265166892, 'max_iter': 588, 'solver': 'saga'}. Best is trial 42 with value: 0.795.\n",
      "[I 2024-06-04 23:07:03,580] Trial 96 finished with value: 0.785 and parameters: {'l1_ratio': 0.2865412521282844, 'penalty': 'elasticnet', 'C': 2.308516815110802, 'max_iter': 127, 'solver': 'saga'}. Best is trial 42 with value: 0.795.\n",
      "[I 2024-06-04 23:07:03,769] Trial 97 finished with value: 0.785 and parameters: {'l1_ratio': 0.03734818874921442, 'penalty': 'elasticnet', 'C': 19.516513783265605, 'max_iter': 424, 'solver': 'saga'}. Best is trial 42 with value: 0.795.\n",
      "[I 2024-06-04 23:07:03,822] Trial 98 finished with value: 0.77 and parameters: {'l1_ratio': 0.12706051265188478, 'penalty': 'elasticnet', 'C': 1.2273630375458198, 'max_iter': 793, 'solver': 'saga'}. Best is trial 42 with value: 0.795.\n",
      "[I 2024-06-04 23:07:03,893] Trial 99 finished with value: 0.785 and parameters: {'l1_ratio': 0.21582102749684318, 'penalty': 'elasticnet', 'C': 3.101429427212745, 'max_iter': 176, 'solver': 'saga'}. Best is trial 42 with value: 0.795.\n",
      "[I 2024-06-04 23:07:03,948] Trial 100 finished with value: 0.765 and parameters: {'l1_ratio': 0.0516817211686077, 'penalty': 'elasticnet', 'C': 1.3348071559960695, 'max_iter': 587, 'solver': 'saga'}. Best is trial 42 with value: 0.795.\n",
      "[I 2024-06-04 23:07:04,145] Trial 101 finished with value: 0.785 and parameters: {'l1_ratio': 0.6374299014982066, 'penalty': 'elasticnet', 'C': 8.023527304678847, 'max_iter': 979, 'solver': 'saga'}. Best is trial 42 with value: 0.795.\n",
      "[I 2024-06-04 23:07:04,167] Trial 102 finished with value: 0.74 and parameters: {'l1_ratio': 0.5163003483011953, 'penalty': 'elasticnet', 'C': 0.1958059531975041, 'max_iter': 816, 'solver': 'saga'}. Best is trial 42 with value: 0.795.\n",
      "[I 2024-06-04 23:07:04,204] Trial 103 finished with value: 0.76 and parameters: {'l1_ratio': 0.2708322512620742, 'penalty': 'elasticnet', 'C': 0.5700142105246945, 'max_iter': 170, 'solver': 'saga'}. Best is trial 42 with value: 0.795.\n",
      "[I 2024-06-04 23:07:04,566] Trial 104 finished with value: 0.775 and parameters: {'l1_ratio': 0.02535074341545751, 'penalty': 'elasticnet', 'C': 70.8914172379689, 'max_iter': 853, 'solver': 'saga'}. Best is trial 42 with value: 0.795.\n",
      "[I 2024-06-04 23:07:04,599] Trial 105 finished with value: 0.76 and parameters: {'l1_ratio': 0.695974206093698, 'penalty': 'elasticnet', 'C': 0.43232642103703317, 'max_iter': 256, 'solver': 'saga'}. Best is trial 42 with value: 0.795.\n",
      "[I 2024-06-04 23:07:04,623] Trial 106 finished with value: 0.735 and parameters: {'l1_ratio': 0.15643704267108605, 'penalty': 'elasticnet', 'C': 0.10022396791143341, 'max_iter': 594, 'solver': 'saga'}. Best is trial 42 with value: 0.795.\n",
      "[I 2024-06-04 23:07:04,783] Trial 107 finished with value: 0.795 and parameters: {'l1_ratio': 0.7145959227000623, 'penalty': 'elasticnet', 'C': 4.373100990516268, 'max_iter': 352, 'solver': 'saga'}. Best is trial 42 with value: 0.795.\n",
      "[I 2024-06-04 23:07:05,248] Trial 108 finished with value: 0.78 and parameters: {'l1_ratio': 0.9548652806631941, 'penalty': 'elasticnet', 'C': 8.945150807271533, 'max_iter': 599, 'solver': 'saga'}. Best is trial 42 with value: 0.795.\n",
      "[I 2024-06-04 23:07:05,283] Trial 109 finished with value: 0.76 and parameters: {'l1_ratio': 0.6117207462343522, 'penalty': 'elasticnet', 'C': 0.4768702722931378, 'max_iter': 323, 'solver': 'saga'}. Best is trial 42 with value: 0.795.\n",
      "[I 2024-06-04 23:07:05,382] Trial 110 finished with value: 0.785 and parameters: {'l1_ratio': 0.3559726786512616, 'penalty': 'elasticnet', 'C': 10.749405395173415, 'max_iter': 112, 'solver': 'saga'}. Best is trial 42 with value: 0.795.\n",
      "[I 2024-06-04 23:07:05,404] Trial 111 finished with value: 0.665 and parameters: {'l1_ratio': 0.11607264050691624, 'penalty': 'elasticnet', 'C': 0.015276032303600078, 'max_iter': 136, 'solver': 'saga'}. Best is trial 42 with value: 0.795.\n",
      "[I 2024-06-04 23:07:05,694] Trial 112 finished with value: 0.785 and parameters: {'l1_ratio': 0.8554605840110072, 'penalty': 'elasticnet', 'C': 6.525765108342368, 'max_iter': 527, 'solver': 'saga'}. Best is trial 42 with value: 0.795.\n",
      "[I 2024-06-04 23:07:05,741] Trial 113 finished with value: 0.765 and parameters: {'l1_ratio': 0.09783416065100148, 'penalty': 'elasticnet', 'C': 0.9256855841989637, 'max_iter': 526, 'solver': 'saga'}. Best is trial 42 with value: 0.795.\n",
      "[I 2024-06-04 23:07:05,777] Trial 114 finished with value: 0.745 and parameters: {'l1_ratio': 0.17320186991001518, 'penalty': 'elasticnet', 'C': 0.543759173692392, 'max_iter': 459, 'solver': 'saga'}. Best is trial 42 with value: 0.795.\n",
      "[I 2024-06-04 23:07:05,885] Trial 115 finished with value: 0.795 and parameters: {'l1_ratio': 0.6158500980522165, 'penalty': 'elasticnet', 'C': 3.470360595544153, 'max_iter': 140, 'solver': 'saga'}. Best is trial 42 with value: 0.795.\n",
      "[I 2024-06-04 23:07:05,965] Trial 116 finished with value: 0.795 and parameters: {'l1_ratio': 0.3746126146264712, 'penalty': 'elasticnet', 'C': 3.187422711813416, 'max_iter': 553, 'solver': 'saga'}. Best is trial 42 with value: 0.795.\n",
      "[I 2024-06-04 23:07:06,168] Trial 117 finished with value: 0.79 and parameters: {'l1_ratio': 0.8564898411883223, 'penalty': 'elasticnet', 'C': 4.31295102361746, 'max_iter': 246, 'solver': 'saga'}. Best is trial 42 with value: 0.795.\n",
      "[I 2024-06-04 23:07:06,238] Trial 118 finished with value: 0.785 and parameters: {'l1_ratio': 0.07056874740042984, 'penalty': 'elasticnet', 'C': 3.71259104528773, 'max_iter': 123, 'solver': 'saga'}. Best is trial 42 with value: 0.795.\n",
      "[I 2024-06-04 23:07:06,692] Trial 119 finished with value: 0.78 and parameters: {'l1_ratio': 0.5857755812734633, 'penalty': 'elasticnet', 'C': 57.6661511134843, 'max_iter': 618, 'solver': 'saga'}. Best is trial 42 with value: 0.795.\n",
      "[I 2024-06-04 23:07:06,782] Trial 120 finished with value: 0.795 and parameters: {'l1_ratio': 0.3881699262065219, 'penalty': 'elasticnet', 'C': 3.7424230019851983, 'max_iter': 512, 'solver': 'saga'}. Best is trial 42 with value: 0.795.\n",
      "[I 2024-06-04 23:07:07,159] Trial 121 finished with value: 0.78 and parameters: {'l1_ratio': 0.5456167893159349, 'penalty': 'elasticnet', 'C': 58.32560268546891, 'max_iter': 447, 'solver': 'saga'}. Best is trial 42 with value: 0.795.\n",
      "[I 2024-06-04 23:07:07,388] Trial 122 finished with value: 0.775 and parameters: {'l1_ratio': 0.9611905638239142, 'penalty': 'elasticnet', 'C': 41.821785267574555, 'max_iter': 276, 'solver': 'saga'}. Best is trial 42 with value: 0.795.\n",
      "[I 2024-06-04 23:07:07,413] Trial 123 finished with value: 0.685 and parameters: {'l1_ratio': 0.06936130087516545, 'penalty': 'elasticnet', 'C': 0.025299503921303725, 'max_iter': 116, 'solver': 'saga'}. Best is trial 42 with value: 0.795.\n",
      "[I 2024-06-04 23:07:07,503] Trial 124 finished with value: 0.79 and parameters: {'l1_ratio': 0.0944429607559284, 'penalty': 'elasticnet', 'C': 5.395442811888481, 'max_iter': 164, 'solver': 'saga'}. Best is trial 42 with value: 0.795.\n",
      "[I 2024-06-04 23:07:07,608] Trial 125 finished with value: 0.785 and parameters: {'l1_ratio': 0.3189756302937613, 'penalty': 'elasticnet', 'C': 23.960796124300757, 'max_iter': 120, 'solver': 'saga'}. Best is trial 42 with value: 0.795.\n",
      "[I 2024-06-04 23:07:07,632] Trial 126 finished with value: 0.665 and parameters: {'l1_ratio': 0.8144684825889358, 'penalty': 'elasticnet', 'C': 0.13409701145872444, 'max_iter': 206, 'solver': 'saga'}. Best is trial 42 with value: 0.795.\n",
      "[I 2024-06-04 23:07:07,755] Trial 127 finished with value: 0.8 and parameters: {'l1_ratio': 0.6967371653641506, 'penalty': 'elasticnet', 'C': 3.2792262899971663, 'max_iter': 890, 'solver': 'saga'}. Best is trial 127 with value: 0.8.\n",
      "[I 2024-06-04 23:07:08,053] Trial 128 finished with value: 0.785 and parameters: {'l1_ratio': 0.7350710438038858, 'penalty': 'elasticnet', 'C': 16.365290600718073, 'max_iter': 354, 'solver': 'saga'}. Best is trial 127 with value: 0.8.\n",
      "[I 2024-06-04 23:07:08,194] Trial 129 finished with value: 0.79 and parameters: {'l1_ratio': 0.17743954377972282, 'penalty': 'elasticnet', 'C': 10.056781316817123, 'max_iter': 826, 'solver': 'saga'}. Best is trial 127 with value: 0.8.\n",
      "[I 2024-06-04 23:07:08,360] Trial 130 finished with value: 0.76 and parameters: {'l1_ratio': 0.9905051420006733, 'penalty': 'elasticnet', 'C': 0.447167990123131, 'max_iter': 435, 'solver': 'saga'}. Best is trial 127 with value: 0.8.\n",
      "[I 2024-06-04 23:07:08,386] Trial 131 finished with value: 0.745 and parameters: {'l1_ratio': 0.7764129607419968, 'penalty': 'elasticnet', 'C': 0.23078849815277985, 'max_iter': 938, 'solver': 'saga'}. Best is trial 127 with value: 0.8.\n",
      "[I 2024-06-04 23:07:08,448] Trial 132 finished with value: 0.745 and parameters: {'l1_ratio': 0.8584127518430118, 'penalty': 'elasticnet', 'C': 0.5199673923878322, 'max_iter': 776, 'solver': 'saga'}. Best is trial 127 with value: 0.8.\n",
      "[I 2024-06-04 23:07:08,469] Trial 133 finished with value: 0.57 and parameters: {'l1_ratio': 0.7545428740846823, 'penalty': 'elasticnet', 'C': 0.025852079056761335, 'max_iter': 913, 'solver': 'saga'}. Best is trial 127 with value: 0.8.\n",
      "[I 2024-06-04 23:07:08,755] Trial 134 finished with value: 0.79 and parameters: {'l1_ratio': 0.5052523724478571, 'penalty': 'elasticnet', 'C': 20.22226812842965, 'max_iter': 388, 'solver': 'saga'}. Best is trial 127 with value: 0.8.\n",
      "[I 2024-06-04 23:07:08,813] Trial 135 finished with value: 0.75 and parameters: {'l1_ratio': 0.8955232284962005, 'penalty': 'elasticnet', 'C': 0.3604182012888639, 'max_iter': 109, 'solver': 'saga'}. Best is trial 127 with value: 0.8.\n",
      "[I 2024-06-04 23:07:08,825] Trial 136 finished with value: 0.57 and parameters: {'l1_ratio': 0.9053819764192637, 'penalty': 'elasticnet', 'C': 0.02318177611290351, 'max_iter': 387, 'solver': 'saga'}. Best is trial 127 with value: 0.8.\n",
      "[I 2024-06-04 23:07:09,315] Trial 137 finished with value: 0.77 and parameters: {'l1_ratio': 0.9500619670508049, 'penalty': 'elasticnet', 'C': 63.44955605329755, 'max_iter': 616, 'solver': 'saga'}. Best is trial 127 with value: 0.8.\n",
      "[I 2024-06-04 23:07:09,422] Trial 138 finished with value: 0.77 and parameters: {'l1_ratio': 0.6318372121697993, 'penalty': 'elasticnet', 'C': 0.6219881174029359, 'max_iter': 364, 'solver': 'saga'}. Best is trial 127 with value: 0.8.\n",
      "[I 2024-06-04 23:07:09,550] Trial 139 finished with value: 0.8 and parameters: {'l1_ratio': 0.32866454536991596, 'penalty': 'elasticnet', 'C': 4.898620823554848, 'max_iter': 777, 'solver': 'saga'}. Best is trial 127 with value: 0.8.\n",
      "[I 2024-06-04 23:07:09,704] Trial 140 finished with value: 0.795 and parameters: {'l1_ratio': 0.7915790437258485, 'penalty': 'elasticnet', 'C': 14.403650379563883, 'max_iter': 182, 'solver': 'saga'}. Best is trial 127 with value: 0.8.\n",
      "[I 2024-06-04 23:07:09,725] Trial 141 finished with value: 0.57 and parameters: {'l1_ratio': 0.49442030470258147, 'penalty': 'elasticnet', 'C': 0.016991629902581913, 'max_iter': 595, 'solver': 'saga'}. Best is trial 127 with value: 0.8.\n",
      "[I 2024-06-04 23:07:10,044] Trial 142 finished with value: 0.78 and parameters: {'l1_ratio': 0.441530501373377, 'penalty': 'elasticnet', 'C': 35.548127651908956, 'max_iter': 416, 'solver': 'saga'}. Best is trial 127 with value: 0.8.\n",
      "[I 2024-06-04 23:07:10,068] Trial 143 finished with value: 0.69 and parameters: {'l1_ratio': 0.11706701642760586, 'penalty': 'elasticnet', 'C': 0.0373221563776707, 'max_iter': 786, 'solver': 'saga'}. Best is trial 127 with value: 0.8.\n",
      "[I 2024-06-04 23:07:10,088] Trial 144 finished with value: 0.64 and parameters: {'l1_ratio': 0.6182180633162611, 'penalty': 'elasticnet', 'C': 0.02537994662905845, 'max_iter': 175, 'solver': 'saga'}. Best is trial 127 with value: 0.8.\n",
      "[I 2024-06-04 23:07:10,101] Trial 145 finished with value: 0.57 and parameters: {'l1_ratio': 0.70096913145912, 'penalty': 'elasticnet', 'C': 0.01954573586065697, 'max_iter': 840, 'solver': 'saga'}. Best is trial 127 with value: 0.8.\n",
      "[I 2024-06-04 23:07:10,114] Trial 146 finished with value: 0.57 and parameters: {'l1_ratio': 0.7062422271564962, 'penalty': 'elasticnet', 'C': 0.021154127741888563, 'max_iter': 176, 'solver': 'saga'}. Best is trial 127 with value: 0.8.\n",
      "[I 2024-06-04 23:07:10,200] Trial 147 finished with value: 0.75 and parameters: {'l1_ratio': 0.9866395785011755, 'penalty': 'elasticnet', 'C': 0.31411102719348766, 'max_iter': 433, 'solver': 'saga'}. Best is trial 127 with value: 0.8.\n",
      "[I 2024-06-04 23:07:10,814] Trial 148 finished with value: 0.77 and parameters: {'l1_ratio': 0.8127995672575026, 'penalty': 'elasticnet', 'C': 61.51688122361411, 'max_iter': 988, 'solver': 'saga'}. Best is trial 127 with value: 0.8.\n",
      "[I 2024-06-04 23:07:10,844] Trial 149 finished with value: 0.75 and parameters: {'l1_ratio': 0.7533781852589416, 'penalty': 'elasticnet', 'C': 0.3199177539819799, 'max_iter': 175, 'solver': 'saga'}. Best is trial 127 with value: 0.8.\n",
      "[I 2024-06-04 23:07:10,950] Trial 150 finished with value: 0.775 and parameters: {'l1_ratio': 0.7771469159274368, 'penalty': 'elasticnet', 'C': 1.7124464476784946, 'max_iter': 482, 'solver': 'saga'}. Best is trial 127 with value: 0.8.\n",
      "[I 2024-06-04 23:07:10,971] Trial 151 finished with value: 0.57 and parameters: {'l1_ratio': 0.906354385094736, 'penalty': 'elasticnet', 'C': 0.027847738314446886, 'max_iter': 543, 'solver': 'saga'}. Best is trial 127 with value: 0.8.\n",
      "[I 2024-06-04 23:07:11,018] Trial 152 finished with value: 0.76 and parameters: {'l1_ratio': 0.011353644767419069, 'penalty': 'elasticnet', 'C': 0.7492772870670286, 'max_iter': 150, 'solver': 'saga'}. Best is trial 127 with value: 0.8.\n",
      "[I 2024-06-04 23:07:11,040] Trial 153 finished with value: 0.675 and parameters: {'l1_ratio': 0.11881791626807192, 'penalty': 'elasticnet', 'C': 0.02951922743391746, 'max_iter': 684, 'solver': 'saga'}. Best is trial 127 with value: 0.8.\n",
      "[I 2024-06-04 23:07:11,155] Trial 154 finished with value: 0.78 and parameters: {'l1_ratio': 0.7460448792654233, 'penalty': 'elasticnet', 'C': 2.1551378799755785, 'max_iter': 966, 'solver': 'saga'}. Best is trial 127 with value: 0.8.\n",
      "[I 2024-06-04 23:07:11,181] Trial 155 finished with value: 0.735 and parameters: {'l1_ratio': 0.37487057952370406, 'penalty': 'elasticnet', 'C': 0.13894673469237215, 'max_iter': 882, 'solver': 'saga'}. Best is trial 127 with value: 0.8.\n",
      "[I 2024-06-04 23:07:11,283] Trial 156 finished with value: 0.79 and parameters: {'l1_ratio': 0.22359583851945264, 'penalty': 'elasticnet', 'C': 71.26727573532315, 'max_iter': 110, 'solver': 'saga'}. Best is trial 127 with value: 0.8.\n",
      "[I 2024-06-04 23:07:11,292] Trial 157 finished with value: 0.57 and parameters: {'l1_ratio': 0.969878826707639, 'penalty': 'elasticnet', 'C': 0.014881258054186164, 'max_iter': 902, 'solver': 'saga'}. Best is trial 127 with value: 0.8.\n",
      "[I 2024-06-04 23:07:11,438] Trial 158 finished with value: 0.775 and parameters: {'l1_ratio': 0.5277011090862999, 'penalty': 'elasticnet', 'C': 93.72580613581192, 'max_iter': 166, 'solver': 'saga'}. Best is trial 127 with value: 0.8.\n",
      "[I 2024-06-04 23:07:11,908] Trial 159 finished with value: 0.775 and parameters: {'l1_ratio': 0.5538542844013208, 'penalty': 'elasticnet', 'C': 75.3720178799843, 'max_iter': 571, 'solver': 'saga'}. Best is trial 127 with value: 0.8.\n",
      "[I 2024-06-04 23:07:12,070] Trial 160 finished with value: 0.785 and parameters: {'l1_ratio': 0.6293986381352625, 'penalty': 'elasticnet', 'C': 6.0672900335350075, 'max_iter': 509, 'solver': 'saga'}. Best is trial 127 with value: 0.8.\n",
      "[I 2024-06-04 23:07:12,155] Trial 161 finished with value: 0.78 and parameters: {'l1_ratio': 0.6275580800840634, 'penalty': 'elasticnet', 'C': 2.1739885264011463, 'max_iter': 911, 'solver': 'saga'}. Best is trial 127 with value: 0.8.\n",
      "[I 2024-06-04 23:07:12,180] Trial 162 finished with value: 0.735 and parameters: {'l1_ratio': 0.04544638034145787, 'penalty': 'elasticnet', 'C': 0.13300034219784396, 'max_iter': 956, 'solver': 'saga'}. Best is trial 127 with value: 0.8.\n",
      "[I 2024-06-04 23:07:12,266] Trial 163 finished with value: 0.76 and parameters: {'l1_ratio': 0.8902637838909163, 'penalty': 'elasticnet', 'C': 0.664702039231162, 'max_iter': 658, 'solver': 'saga'}. Best is trial 127 with value: 0.8.\n",
      "[I 2024-06-04 23:07:12,288] Trial 164 finished with value: 0.665 and parameters: {'l1_ratio': 0.2773811829811327, 'penalty': 'elasticnet', 'C': 0.056556775246185104, 'max_iter': 517, 'solver': 'saga'}. Best is trial 127 with value: 0.8.\n",
      "[I 2024-06-04 23:07:12,351] Trial 165 finished with value: 0.785 and parameters: {'l1_ratio': 0.3533522280260528, 'penalty': 'elasticnet', 'C': 2.1608491389795748, 'max_iter': 170, 'solver': 'saga'}. Best is trial 127 with value: 0.8.\n",
      "[I 2024-06-04 23:07:12,927] Trial 166 finished with value: 0.765 and parameters: {'l1_ratio': 0.9743948076661665, 'penalty': 'elasticnet', 'C': 88.07303814609772, 'max_iter': 729, 'solver': 'saga'}. Best is trial 127 with value: 0.8.\n",
      "[I 2024-06-04 23:07:12,950] Trial 167 finished with value: 0.735 and parameters: {'l1_ratio': 0.5360963663441204, 'penalty': 'elasticnet', 'C': 0.17302564033031173, 'max_iter': 833, 'solver': 'saga'}. Best is trial 127 with value: 0.8.\n",
      "[I 2024-06-04 23:07:12,971] Trial 168 finished with value: 0.64 and parameters: {'l1_ratio': 0.6847311725538793, 'penalty': 'elasticnet', 'C': 0.04471649524144922, 'max_iter': 920, 'solver': 'saga'}. Best is trial 127 with value: 0.8.\n",
      "[I 2024-06-04 23:07:13,577] Trial 169 finished with value: 0.77 and parameters: {'l1_ratio': 0.822537242923169, 'penalty': 'elasticnet', 'C': 62.979564496765455, 'max_iter': 753, 'solver': 'saga'}. Best is trial 127 with value: 0.8.\n",
      "[I 2024-06-04 23:07:13,612] Trial 170 finished with value: 0.76 and parameters: {'l1_ratio': 0.6134151959357899, 'penalty': 'elasticnet', 'C': 0.470947119758955, 'max_iter': 940, 'solver': 'saga'}. Best is trial 127 with value: 0.8.\n",
      "[I 2024-06-04 23:07:13,621] Trial 171 finished with value: 0.57 and parameters: {'l1_ratio': 0.8660638895004084, 'penalty': 'elasticnet', 'C': 0.01516612672097377, 'max_iter': 123, 'solver': 'saga'}. Best is trial 127 with value: 0.8.\n",
      "[I 2024-06-04 23:07:13,831] Trial 172 finished with value: 0.785 and parameters: {'l1_ratio': 0.3764633668780496, 'penalty': 'elasticnet', 'C': 17.466799020707345, 'max_iter': 989, 'solver': 'saga'}. Best is trial 127 with value: 0.8.\n",
      "[I 2024-06-04 23:07:13,894] Trial 173 finished with value: 0.785 and parameters: {'l1_ratio': 0.15041689110352818, 'penalty': 'elasticnet', 'C': 2.3797035660606434, 'max_iter': 443, 'solver': 'saga'}. Best is trial 127 with value: 0.8.\n",
      "[I 2024-06-04 23:07:14,594] Trial 174 finished with value: 0.775 and parameters: {'l1_ratio': 0.9699143978146032, 'penalty': 'elasticnet', 'C': 23.360153518075034, 'max_iter': 855, 'solver': 'saga'}. Best is trial 127 with value: 0.8.\n",
      "[I 2024-06-04 23:07:14,628] Trial 175 finished with value: 0.755 and parameters: {'l1_ratio': 0.4686931597949703, 'penalty': 'elasticnet', 'C': 0.45632893696496574, 'max_iter': 346, 'solver': 'saga'}. Best is trial 127 with value: 0.8.\n",
      "[I 2024-06-04 23:07:14,855] Trial 176 finished with value: 0.785 and parameters: {'l1_ratio': 0.056375496650927115, 'penalty': 'elasticnet', 'C': 28.76666428374347, 'max_iter': 832, 'solver': 'saga'}. Best is trial 127 with value: 0.8.\n",
      "[I 2024-06-04 23:07:15,334] Trial 177 finished with value: 0.765 and parameters: {'l1_ratio': 0.9997176732861306, 'penalty': 'elasticnet', 'C': 96.94989616890221, 'max_iter': 600, 'solver': 'saga'}. Best is trial 127 with value: 0.8.\n",
      "[I 2024-06-04 23:07:15,912] Trial 178 finished with value: 0.77 and parameters: {'l1_ratio': 0.7689874151805105, 'penalty': 'elasticnet', 'C': 60.126084038369456, 'max_iter': 865, 'solver': 'saga'}. Best is trial 127 with value: 0.8.\n",
      "[I 2024-06-04 23:07:15,951] Trial 179 finished with value: 0.76 and parameters: {'l1_ratio': 0.24734810174319766, 'penalty': 'elasticnet', 'C': 0.634127432451631, 'max_iter': 216, 'solver': 'saga'}. Best is trial 127 with value: 0.8.\n",
      "[I 2024-06-04 23:07:16,193] Trial 180 finished with value: 0.79 and parameters: {'l1_ratio': 0.9540510272587224, 'penalty': 'elasticnet', 'C': 2.6588787786923436, 'max_iter': 306, 'solver': 'saga'}. Best is trial 127 with value: 0.8.\n",
      "[I 2024-06-04 23:07:16,307] Trial 181 finished with value: 0.795 and parameters: {'l1_ratio': 0.6717006844058567, 'penalty': 'elasticnet', 'C': 2.968335334247001, 'max_iter': 422, 'solver': 'saga'}. Best is trial 127 with value: 0.8.\n",
      "[I 2024-06-04 23:07:16,392] Trial 182 finished with value: 0.795 and parameters: {'l1_ratio': 0.11355759219962902, 'penalty': 'elasticnet', 'C': 4.856157707765676, 'max_iter': 568, 'solver': 'saga'}. Best is trial 127 with value: 0.8.\n",
      "[I 2024-06-04 23:07:16,473] Trial 183 finished with value: 0.765 and parameters: {'l1_ratio': 0.7723183917356393, 'penalty': 'elasticnet', 'C': 1.2040762895973272, 'max_iter': 867, 'solver': 'saga'}. Best is trial 127 with value: 0.8.\n",
      "[I 2024-06-04 23:07:16,535] Trial 184 finished with value: 0.775 and parameters: {'l1_ratio': 0.5519068387744855, 'penalty': 'elasticnet', 'C': 1.7528787903404126, 'max_iter': 889, 'solver': 'saga'}. Best is trial 127 with value: 0.8.\n",
      "[I 2024-06-04 23:07:16,557] Trial 185 finished with value: 0.64 and parameters: {'l1_ratio': 0.40348286621239704, 'penalty': 'elasticnet', 'C': 0.034360613844702625, 'max_iter': 125, 'solver': 'saga'}. Best is trial 127 with value: 0.8.\n",
      "[I 2024-06-04 23:07:16,695] Trial 186 finished with value: 0.8 and parameters: {'l1_ratio': 0.755137255673619, 'penalty': 'elasticnet', 'C': 3.0285741098956294, 'max_iter': 734, 'solver': 'saga'}. Best is trial 127 with value: 0.8.\n",
      "[I 2024-06-04 23:07:16,721] Trial 187 finished with value: 0.665 and parameters: {'l1_ratio': 0.21296416150891073, 'penalty': 'elasticnet', 'C': 0.0351144525812869, 'max_iter': 113, 'solver': 'saga'}. Best is trial 127 with value: 0.8.\n",
      "[I 2024-06-04 23:07:16,784] Trial 188 finished with value: 0.785 and parameters: {'l1_ratio': 0.350587558806597, 'penalty': 'elasticnet', 'C': 2.289131530683705, 'max_iter': 453, 'solver': 'saga'}. Best is trial 127 with value: 0.8.\n",
      "[I 2024-06-04 23:07:17,123] Trial 189 finished with value: 0.78 and parameters: {'l1_ratio': 0.43747492202372906, 'penalty': 'elasticnet', 'C': 41.365166616024624, 'max_iter': 413, 'solver': 'saga'}. Best is trial 127 with value: 0.8.\n",
      "[I 2024-06-04 23:07:17,339] Trial 190 finished with value: 0.785 and parameters: {'l1_ratio': 0.5139894891598108, 'penalty': 'elasticnet', 'C': 13.633647183120068, 'max_iter': 457, 'solver': 'saga'}. Best is trial 127 with value: 0.8.\n",
      "[I 2024-06-04 23:07:17,698] Trial 191 finished with value: 0.78 and parameters: {'l1_ratio': 0.6220867002278735, 'penalty': 'elasticnet', 'C': 28.14847266250657, 'max_iter': 955, 'solver': 'saga'}. Best is trial 127 with value: 0.8.\n",
      "[I 2024-06-04 23:07:18,006] Trial 192 finished with value: 0.78 and parameters: {'l1_ratio': 0.14707348092903794, 'penalty': 'elasticnet', 'C': 50.85697220189425, 'max_iter': 543, 'solver': 'saga'}. Best is trial 127 with value: 0.8.\n",
      "[I 2024-06-04 23:07:18,047] Trial 193 finished with value: 0.76 and parameters: {'l1_ratio': 0.25824438829895835, 'penalty': 'elasticnet', 'C': 0.6863458703786216, 'max_iter': 983, 'solver': 'saga'}. Best is trial 127 with value: 0.8.\n",
      "[I 2024-06-04 23:07:18,070] Trial 194 finished with value: 0.75 and parameters: {'l1_ratio': 0.4926180939928696, 'penalty': 'elasticnet', 'C': 0.20654107883022313, 'max_iter': 670, 'solver': 'saga'}. Best is trial 127 with value: 0.8.\n",
      "[I 2024-06-04 23:07:18,091] Trial 195 finished with value: 0.64 and parameters: {'l1_ratio': 0.24014561877819307, 'penalty': 'elasticnet', 'C': 0.020111909793414567, 'max_iter': 216, 'solver': 'saga'}. Best is trial 127 with value: 0.8.\n",
      "[I 2024-06-04 23:07:18,113] Trial 196 finished with value: 0.69 and parameters: {'l1_ratio': 0.12804583895777244, 'penalty': 'elasticnet', 'C': 0.0405145271015336, 'max_iter': 225, 'solver': 'saga'}. Best is trial 127 with value: 0.8.\n",
      "[I 2024-06-04 23:07:18,134] Trial 197 finished with value: 0.64 and parameters: {'l1_ratio': 0.6408747448032146, 'penalty': 'elasticnet', 'C': 0.0533974278495124, 'max_iter': 411, 'solver': 'saga'}. Best is trial 127 with value: 0.8.\n",
      "[I 2024-06-04 23:07:18,236] Trial 198 finished with value: 0.77 and parameters: {'l1_ratio': 0.8967884099060118, 'penalty': 'elasticnet', 'C': 0.7867677706257833, 'max_iter': 701, 'solver': 'saga'}. Best is trial 127 with value: 0.8.\n",
      "[I 2024-06-04 23:07:18,260] Trial 199 finished with value: 0.71 and parameters: {'l1_ratio': 0.17231987120162984, 'penalty': 'elasticnet', 'C': 0.058770052034433, 'max_iter': 136, 'solver': 'saga'}. Best is trial 127 with value: 0.8.\n"
     ]
    },
    {
     "name": "stdout",
     "output_type": "stream",
     "text": [
      "Best Hyperparameters: {'l1_ratio': 0.6967371653641506, 'penalty': 'elasticnet', 'C': 3.2792262899971663, 'max_iter': 890, 'solver': 'saga'}\n",
      "Best Accuracy: 0.8\n"
     ]
    }
   ],
   "source": [
    "# Create a study object and optimize the objective function\n",
    "study = optuna.create_study(direction='maximize', sampler=optuna.samplers.RandomSampler(seed=seed))\n",
    "study.optimize(objective, n_trials=200)\n",
    "\n",
    "# Get the best hyperparameters and accuracy score\n",
    "best_params = study.best_params\n",
    "best_accuracy = study.best_value\n",
    "\n",
    "print(\"Best Hyperparameters:\", best_params)\n",
    "print(\"Best Accuracy:\", best_accuracy)"
   ]
  },
  {
   "cell_type": "code",
   "execution_count": 31,
   "metadata": {},
   "outputs": [
    {
     "data": {
      "text/html": [
       "<div>\n",
       "<style scoped>\n",
       "    .dataframe tbody tr th:only-of-type {\n",
       "        vertical-align: middle;\n",
       "    }\n",
       "\n",
       "    .dataframe tbody tr th {\n",
       "        vertical-align: top;\n",
       "    }\n",
       "\n",
       "    .dataframe thead th {\n",
       "        text-align: right;\n",
       "    }\n",
       "</style>\n",
       "<table border=\"1\" class=\"dataframe\">\n",
       "  <thead>\n",
       "    <tr style=\"text-align: right;\">\n",
       "      <th></th>\n",
       "      <th>number</th>\n",
       "      <th>value</th>\n",
       "      <th>datetime_start</th>\n",
       "      <th>datetime_complete</th>\n",
       "      <th>duration</th>\n",
       "      <th>params_C</th>\n",
       "      <th>params_l1_ratio</th>\n",
       "      <th>params_max_iter</th>\n",
       "      <th>params_penalty</th>\n",
       "      <th>params_solver</th>\n",
       "      <th>state</th>\n",
       "    </tr>\n",
       "  </thead>\n",
       "  <tbody>\n",
       "    <tr>\n",
       "      <th>127</th>\n",
       "      <td>127</td>\n",
       "      <td>0.800</td>\n",
       "      <td>2024-06-04 23:07:07.632592</td>\n",
       "      <td>2024-06-04 23:07:07.755582</td>\n",
       "      <td>0 days 00:00:00.122990</td>\n",
       "      <td>3.279226</td>\n",
       "      <td>0.696737</td>\n",
       "      <td>890</td>\n",
       "      <td>elasticnet</td>\n",
       "      <td>saga</td>\n",
       "      <td>COMPLETE</td>\n",
       "    </tr>\n",
       "    <tr>\n",
       "      <th>139</th>\n",
       "      <td>139</td>\n",
       "      <td>0.800</td>\n",
       "      <td>2024-06-04 23:07:09.424451</td>\n",
       "      <td>2024-06-04 23:07:09.550438</td>\n",
       "      <td>0 days 00:00:00.125987</td>\n",
       "      <td>4.898621</td>\n",
       "      <td>0.328665</td>\n",
       "      <td>777</td>\n",
       "      <td>elasticnet</td>\n",
       "      <td>saga</td>\n",
       "      <td>COMPLETE</td>\n",
       "    </tr>\n",
       "    <tr>\n",
       "      <th>186</th>\n",
       "      <td>186</td>\n",
       "      <td>0.800</td>\n",
       "      <td>2024-06-04 23:07:16.558692</td>\n",
       "      <td>2024-06-04 23:07:16.695716</td>\n",
       "      <td>0 days 00:00:00.137024</td>\n",
       "      <td>3.028574</td>\n",
       "      <td>0.755137</td>\n",
       "      <td>734</td>\n",
       "      <td>elasticnet</td>\n",
       "      <td>saga</td>\n",
       "      <td>COMPLETE</td>\n",
       "    </tr>\n",
       "    <tr>\n",
       "      <th>107</th>\n",
       "      <td>107</td>\n",
       "      <td>0.795</td>\n",
       "      <td>2024-06-04 23:07:04.625219</td>\n",
       "      <td>2024-06-04 23:07:04.783205</td>\n",
       "      <td>0 days 00:00:00.157986</td>\n",
       "      <td>4.373101</td>\n",
       "      <td>0.714596</td>\n",
       "      <td>352</td>\n",
       "      <td>elasticnet</td>\n",
       "      <td>saga</td>\n",
       "      <td>COMPLETE</td>\n",
       "    </tr>\n",
       "    <tr>\n",
       "      <th>120</th>\n",
       "      <td>120</td>\n",
       "      <td>0.795</td>\n",
       "      <td>2024-06-04 23:07:06.693701</td>\n",
       "      <td>2024-06-04 23:07:06.782694</td>\n",
       "      <td>0 days 00:00:00.088993</td>\n",
       "      <td>3.742423</td>\n",
       "      <td>0.388170</td>\n",
       "      <td>512</td>\n",
       "      <td>elasticnet</td>\n",
       "      <td>saga</td>\n",
       "      <td>COMPLETE</td>\n",
       "    </tr>\n",
       "    <tr>\n",
       "      <th>42</th>\n",
       "      <td>42</td>\n",
       "      <td>0.795</td>\n",
       "      <td>2024-06-04 23:06:55.726283</td>\n",
       "      <td>2024-06-04 23:06:55.822307</td>\n",
       "      <td>0 days 00:00:00.096024</td>\n",
       "      <td>27.728242</td>\n",
       "      <td>0.818015</td>\n",
       "      <td>106</td>\n",
       "      <td>elasticnet</td>\n",
       "      <td>saga</td>\n",
       "      <td>COMPLETE</td>\n",
       "    </tr>\n",
       "    <tr>\n",
       "      <th>78</th>\n",
       "      <td>78</td>\n",
       "      <td>0.795</td>\n",
       "      <td>2024-06-04 23:07:00.056964</td>\n",
       "      <td>2024-06-04 23:07:00.176954</td>\n",
       "      <td>0 days 00:00:00.119990</td>\n",
       "      <td>7.759048</td>\n",
       "      <td>0.195243</td>\n",
       "      <td>352</td>\n",
       "      <td>elasticnet</td>\n",
       "      <td>saga</td>\n",
       "      <td>COMPLETE</td>\n",
       "    </tr>\n",
       "    <tr>\n",
       "      <th>181</th>\n",
       "      <td>181</td>\n",
       "      <td>0.795</td>\n",
       "      <td>2024-06-04 23:07:16.193755</td>\n",
       "      <td>2024-06-04 23:07:16.306746</td>\n",
       "      <td>0 days 00:00:00.112991</td>\n",
       "      <td>2.968335</td>\n",
       "      <td>0.671701</td>\n",
       "      <td>422</td>\n",
       "      <td>elasticnet</td>\n",
       "      <td>saga</td>\n",
       "      <td>COMPLETE</td>\n",
       "    </tr>\n",
       "    <tr>\n",
       "      <th>182</th>\n",
       "      <td>182</td>\n",
       "      <td>0.795</td>\n",
       "      <td>2024-06-04 23:07:16.307745</td>\n",
       "      <td>2024-06-04 23:07:16.392739</td>\n",
       "      <td>0 days 00:00:00.084994</td>\n",
       "      <td>4.856158</td>\n",
       "      <td>0.113558</td>\n",
       "      <td>568</td>\n",
       "      <td>elasticnet</td>\n",
       "      <td>saga</td>\n",
       "      <td>COMPLETE</td>\n",
       "    </tr>\n",
       "    <tr>\n",
       "      <th>116</th>\n",
       "      <td>116</td>\n",
       "      <td>0.795</td>\n",
       "      <td>2024-06-04 23:07:05.886734</td>\n",
       "      <td>2024-06-04 23:07:05.964728</td>\n",
       "      <td>0 days 00:00:00.077994</td>\n",
       "      <td>3.187423</td>\n",
       "      <td>0.374613</td>\n",
       "      <td>553</td>\n",
       "      <td>elasticnet</td>\n",
       "      <td>saga</td>\n",
       "      <td>COMPLETE</td>\n",
       "    </tr>\n",
       "  </tbody>\n",
       "</table>\n",
       "</div>"
      ],
      "text/plain": [
       "     number  value             datetime_start          datetime_complete  \\\n",
       "127     127  0.800 2024-06-04 23:07:07.632592 2024-06-04 23:07:07.755582   \n",
       "139     139  0.800 2024-06-04 23:07:09.424451 2024-06-04 23:07:09.550438   \n",
       "186     186  0.800 2024-06-04 23:07:16.558692 2024-06-04 23:07:16.695716   \n",
       "107     107  0.795 2024-06-04 23:07:04.625219 2024-06-04 23:07:04.783205   \n",
       "120     120  0.795 2024-06-04 23:07:06.693701 2024-06-04 23:07:06.782694   \n",
       "42       42  0.795 2024-06-04 23:06:55.726283 2024-06-04 23:06:55.822307   \n",
       "78       78  0.795 2024-06-04 23:07:00.056964 2024-06-04 23:07:00.176954   \n",
       "181     181  0.795 2024-06-04 23:07:16.193755 2024-06-04 23:07:16.306746   \n",
       "182     182  0.795 2024-06-04 23:07:16.307745 2024-06-04 23:07:16.392739   \n",
       "116     116  0.795 2024-06-04 23:07:05.886734 2024-06-04 23:07:05.964728   \n",
       "\n",
       "                  duration   params_C  params_l1_ratio  params_max_iter  \\\n",
       "127 0 days 00:00:00.122990   3.279226         0.696737              890   \n",
       "139 0 days 00:00:00.125987   4.898621         0.328665              777   \n",
       "186 0 days 00:00:00.137024   3.028574         0.755137              734   \n",
       "107 0 days 00:00:00.157986   4.373101         0.714596              352   \n",
       "120 0 days 00:00:00.088993   3.742423         0.388170              512   \n",
       "42  0 days 00:00:00.096024  27.728242         0.818015              106   \n",
       "78  0 days 00:00:00.119990   7.759048         0.195243              352   \n",
       "181 0 days 00:00:00.112991   2.968335         0.671701              422   \n",
       "182 0 days 00:00:00.084994   4.856158         0.113558              568   \n",
       "116 0 days 00:00:00.077994   3.187423         0.374613              553   \n",
       "\n",
       "    params_penalty params_solver     state  \n",
       "127     elasticnet          saga  COMPLETE  \n",
       "139     elasticnet          saga  COMPLETE  \n",
       "186     elasticnet          saga  COMPLETE  \n",
       "107     elasticnet          saga  COMPLETE  \n",
       "120     elasticnet          saga  COMPLETE  \n",
       "42      elasticnet          saga  COMPLETE  \n",
       "78      elasticnet          saga  COMPLETE  \n",
       "181     elasticnet          saga  COMPLETE  \n",
       "182     elasticnet          saga  COMPLETE  \n",
       "116     elasticnet          saga  COMPLETE  "
      ]
     },
     "execution_count": 31,
     "metadata": {},
     "output_type": "execute_result"
    }
   ],
   "source": [
    "# Get best trials\n",
    "trials_OTP2 = study.trials_dataframe()\n",
    "# Sort the dataframe by value (accuracy) in descending order\n",
    "top_trials_OTP2 = trials_OTP2.sort_values(by='value', ascending=False).head(10)\n",
    "top_trials_OTP2"
   ]
  },
  {
   "cell_type": "code",
   "execution_count": 32,
   "metadata": {},
   "outputs": [
    {
     "name": "stdout",
     "output_type": "stream",
     "text": [
      "Metrics for LR_OPT2_best:\n",
      "Accuracy: 0.8000\n",
      "Weighted F1: 0.7860\n",
      "Weighted Precision: 0.7881\n",
      "Weighted Recall: 0.8000\n",
      "Macro-Averaged Precision: 0.5438\n",
      "Macro-Averaged Recall: 0.5334\n",
      "F1: [0.         0.84       0.75862069]\n",
      "Precision: [0.         0.77205882 0.859375  ]\n",
      "classification report\n",
      "              precision    recall  f1-score   support\n",
      "\n",
      "     Class 0       0.00      0.00      0.00         5\n",
      "     Class 1       0.77      0.92      0.84       114\n",
      "     Class 2       0.86      0.68      0.76        81\n",
      "\n",
      "    accuracy                           0.80       200\n",
      "   macro avg       0.54      0.53      0.53       200\n",
      "weighted avg       0.79      0.80      0.79       200\n",
      "\n",
      "Confusion Matrix\n"
     ]
    },
    {
     "data": {
      "image/png": "[encoded data removed]",
      "text/plain": [
       "<Figure size 432x288 with 2 Axes>"
      ]
     },
     "metadata": {
      "needs_background": "light"
     },
     "output_type": "display_data"
    }
   ],
   "source": [
    "best_trial = study.best_trial\n",
    "best_model = LogisticRegression(**best_trial.params, random_state=seed)\n",
    "best_model.fit(X_train, y_train)\n",
    "\n",
    "predictions_opt2 = best_model.predict(X_test)\n",
    "\n",
    "model_metrics = pd.concat([model_metrics, calculate_metrics('LR_OPT2_best', y_test, predictions_opt2)])"
   ]
  },
  {
   "cell_type": "code",
   "execution_count": 33,
   "metadata": {},
   "outputs": [
    {
     "data": {
      "application/vnd.plotly.v1+json": {
       "config": {
        "plotlyServerURL": "https://plot.ly"
       },
       "data": [
        {
         "cliponaxis": false,
         "hovertemplate": [
          "penalty (CategoricalDistribution): 0.0<extra></extra>",
          "solver (CategoricalDistribution): 0.0<extra></extra>",
          "max_iter (IntDistribution): 0.025672816926964374<extra></extra>",
          "l1_ratio (FloatDistribution): 0.19811663498949733<extra></extra>",
          "C (FloatDistribution): 0.7762105480835384<extra></extra>"
         ],
         "name": "Objective Value",
         "orientation": "h",
         "text": [
          "<0.01",
          "<0.01",
          "0.03",
          "0.20",
          "0.78"
         ],
         "textposition": "outside",
         "type": "bar",
         "x": [
          0,
          0,
          0.025672816926964374,
          0.19811663498949733,
          0.7762105480835384
         ],
         "y": [
          "penalty",
          "solver",
          "max_iter",
          "l1_ratio",
          "C"
         ]
        }
       ],
       "layout": {
        "template": {
         "data": {
          "bar": [
           {
            "error_x": {
             "color": "#2a3f5f"
            },
            "error_y": {
             "color": "#2a3f5f"
            },
            "marker": {
             "line": {
              "color": "#E5ECF6",
              "width": 0.5
             },
             "pattern": {
              "fillmode": "overlay",
              "size": 10,
              "solidity": 0.2
             }
            },
            "type": "bar"
           }
          ],
          "barpolar": [
           {
            "marker": {
             "line": {
              "color": "#E5ECF6",
              "width": 0.5
             },
             "pattern": {
              "fillmode": "overlay",
              "size": 10,
              "solidity": 0.2
             }
            },
            "type": "barpolar"
           }
          ],
          "carpet": [
           {
            "aaxis": {
             "endlinecolor": "#2a3f5f",
             "gridcolor": "white",
             "linecolor": "white",
             "minorgridcolor": "white",
             "startlinecolor": "#2a3f5f"
            },
            "baxis": {
             "endlinecolor": "#2a3f5f",
             "gridcolor": "white",
             "linecolor": "white",
             "minorgridcolor": "white",
             "startlinecolor": "#2a3f5f"
            },
            "type": "carpet"
           }
          ],
          "choropleth": [
           {
            "colorbar": {
             "outlinewidth": 0,
             "ticks": ""
            },
            "type": "choropleth"
           }
          ],
          "contour": [
           {
            "colorbar": {
             "outlinewidth": 0,
             "ticks": ""
            },
            "colorscale": [
             [
              0,
              "#0d0887"
             ],
             [
              0.1111111111111111,
              "#46039f"
             ],
             [
              0.2222222222222222,
              "#7201a8"
             ],
             [
              0.3333333333333333,
              "#9c179e"
             ],
             [
              0.4444444444444444,
              "#bd3786"
             ],
             [
              0.5555555555555556,
              "#d8576b"
             ],
             [
              0.6666666666666666,
              "#ed7953"
             ],
             [
              0.7777777777777778,
              "#fb9f3a"
             ],
             [
              0.8888888888888888,
              "#fdca26"
             ],
             [
              1,
              "#f0f921"
             ]
            ],
            "type": "contour"
           }
          ],
          "contourcarpet": [
           {
            "colorbar": {
             "outlinewidth": 0,
             "ticks": ""
            },
            "type": "contourcarpet"
           }
          ],
          "heatmap": [
           {
            "colorbar": {
             "outlinewidth": 0,
             "ticks": ""
            },
            "colorscale": [
             [
              0,
              "#0d0887"
             ],
             [
              0.1111111111111111,
              "#46039f"
             ],
             [
              0.2222222222222222,
              "#7201a8"
             ],
             [
              0.3333333333333333,
              "#9c179e"
             ],
             [
              0.4444444444444444,
              "#bd3786"
             ],
             [
              0.5555555555555556,
              "#d8576b"
             ],
             [
              0.6666666666666666,
              "#ed7953"
             ],
             [
              0.7777777777777778,
              "#fb9f3a"
             ],
             [
              0.8888888888888888,
              "#fdca26"
             ],
             [
              1,
              "#f0f921"
             ]
            ],
            "type": "heatmap"
           }
          ],
          "heatmapgl": [
           {
            "colorbar": {
             "outlinewidth": 0,
             "ticks": ""
            },
            "colorscale": [
             [
              0,
              "#0d0887"
             ],
             [
              0.1111111111111111,
              "#46039f"
             ],
             [
              0.2222222222222222,
              "#7201a8"
             ],
             [
              0.3333333333333333,
              "#9c179e"
             ],
             [
              0.4444444444444444,
              "#bd3786"
             ],
             [
              0.5555555555555556,
              "#d8576b"
             ],
             [
              0.6666666666666666,
              "#ed7953"
             ],
             [
              0.7777777777777778,
              "#fb9f3a"
             ],
             [
              0.8888888888888888,
              "#fdca26"
             ],
             [
              1,
              "#f0f921"
             ]
            ],
            "type": "heatmapgl"
           }
          ],
          "histogram": [
           {
            "marker": {
             "pattern": {
              "fillmode": "overlay",
              "size": 10,
              "solidity": 0.2
             }
            },
            "type": "histogram"
           }
          ],
          "histogram2d": [
           {
            "colorbar": {
             "outlinewidth": 0,
             "ticks": ""
            },
            "colorscale": [
             [
              0,
              "#0d0887"
             ],
             [
              0.1111111111111111,
              "#46039f"
             ],
             [
              0.2222222222222222,
              "#7201a8"
             ],
             [
              0.3333333333333333,
              "#9c179e"
             ],
             [
              0.4444444444444444,
              "#bd3786"
             ],
             [
              0.5555555555555556,
              "#d8576b"
             ],
             [
              0.6666666666666666,
              "#ed7953"
             ],
             [
              0.7777777777777778,
              "#fb9f3a"
             ],
             [
              0.8888888888888888,
              "#fdca26"
             ],
             [
              1,
              "#f0f921"
             ]
            ],
            "type": "histogram2d"
           }
          ],
          "histogram2dcontour": [
           {
            "colorbar": {
             "outlinewidth": 0,
             "ticks": ""
            },
            "colorscale": [
             [
              0,
              "#0d0887"
             ],
             [
              0.1111111111111111,
              "#46039f"
             ],
             [
              0.2222222222222222,
              "#7201a8"
             ],
             [
              0.3333333333333333,
              "#9c179e"
             ],
             [
              0.4444444444444444,
              "#bd3786"
             ],
             [
              0.5555555555555556,
              "#d8576b"
             ],
             [
              0.6666666666666666,
              "#ed7953"
             ],
             [
              0.7777777777777778,
              "#fb9f3a"
             ],
             [
              0.8888888888888888,
              "#fdca26"
             ],
             [
              1,
              "#f0f921"
             ]
            ],
            "type": "histogram2dcontour"
           }
          ],
          "mesh3d": [
           {
            "colorbar": {
             "outlinewidth": 0,
             "ticks": ""
            },
            "type": "mesh3d"
           }
          ],
          "parcoords": [
           {
            "line": {
             "colorbar": {
              "outlinewidth": 0,
              "ticks": ""
             }
            },
            "type": "parcoords"
           }
          ],
          "pie": [
           {
            "automargin": true,
            "type": "pie"
           }
          ],
          "scatter": [
           {
            "fillpattern": {
             "fillmode": "overlay",
             "size": 10,
             "solidity": 0.2
            },
            "type": "scatter"
           }
          ],
          "scatter3d": [
           {
            "line": {
             "colorbar": {
              "outlinewidth": 0,
              "ticks": ""
             }
            },
            "marker": {
             "colorbar": {
              "outlinewidth": 0,
              "ticks": ""
             }
            },
            "type": "scatter3d"
           }
          ],
          "scattercarpet": [
           {
            "marker": {
             "colorbar": {
              "outlinewidth": 0,
              "ticks": ""
             }
            },
            "type": "scattercarpet"
           }
          ],
          "scattergeo": [
           {
            "marker": {
             "colorbar": {
              "outlinewidth": 0,
              "ticks": ""
             }
            },
            "type": "scattergeo"
           }
          ],
          "scattergl": [
           {
            "marker": {
             "colorbar": {
              "outlinewidth": 0,
              "ticks": ""
             }
            },
            "type": "scattergl"
           }
          ],
          "scattermapbox": [
           {
            "marker": {
             "colorbar": {
              "outlinewidth": 0,
              "ticks": ""
             }
            },
            "type": "scattermapbox"
           }
          ],
          "scatterpolar": [
           {
            "marker": {
             "colorbar": {
              "outlinewidth": 0,
              "ticks": ""
             }
            },
            "type": "scatterpolar"
           }
          ],
          "scatterpolargl": [
           {
            "marker": {
             "colorbar": {
              "outlinewidth": 0,
              "ticks": ""
             }
            },
            "type": "scatterpolargl"
           }
          ],
          "scatterternary": [
           {
            "marker": {
             "colorbar": {
              "outlinewidth": 0,
              "ticks": ""
             }
            },
            "type": "scatterternary"
           }
          ],
          "surface": [
           {
            "colorbar": {
             "outlinewidth": 0,
             "ticks": ""
            },
            "colorscale": [
             [
              0,
              "#0d0887"
             ],
             [
              0.1111111111111111,
              "#46039f"
             ],
             [
              0.2222222222222222,
              "#7201a8"
             ],
             [
              0.3333333333333333,
              "#9c179e"
             ],
             [
              0.4444444444444444,
              "#bd3786"
             ],
             [
              0.5555555555555556,
              "#d8576b"
             ],
             [
              0.6666666666666666,
              "#ed7953"
             ],
             [
              0.7777777777777778,
              "#fb9f3a"
             ],
             [
              0.8888888888888888,
              "#fdca26"
             ],
             [
              1,
              "#f0f921"
             ]
            ],
            "type": "surface"
           }
          ],
          "table": [
           {
            "cells": {
             "fill": {
              "color": "#EBF0F8"
             },
             "line": {
              "color": "white"
             }
            },
            "header": {
             "fill": {
              "color": "#C8D4E3"
             },
             "line": {
              "color": "white"
             }
            },
            "type": "table"
           }
          ]
         },
         "layout": {
          "annotationdefaults": {
           "arrowcolor": "#2a3f5f",
           "arrowhead": 0,
           "arrowwidth": 1
          },
          "autotypenumbers": "strict",
          "coloraxis": {
           "colorbar": {
            "outlinewidth": 0,
            "ticks": ""
           }
          },
          "colorscale": {
           "diverging": [
            [
             0,
             "#8e0152"
            ],
            [
             0.1,
             "#c51b7d"
            ],
            [
             0.2,
             "#de77ae"
            ],
            [
             0.3,
             "#f1b6da"
            ],
            [
             0.4,
             "#fde0ef"
            ],
            [
             0.5,
             "#f7f7f7"
            ],
            [
             0.6,
             "#e6f5d0"
            ],
            [
             0.7,
             "#b8e186"
            ],
            [
             0.8,
             "#7fbc41"
            ],
            [
             0.9,
             "#4d9221"
            ],
            [
             1,
             "#276419"
            ]
           ],
           "sequential": [
            [
             0,
             "#0d0887"
            ],
            [
             0.1111111111111111,
             "#46039f"
            ],
            [
             0.2222222222222222,
             "#7201a8"
            ],
            [
             0.3333333333333333,
             "#9c179e"
            ],
            [
             0.4444444444444444,
             "#bd3786"
            ],
            [
             0.5555555555555556,
             "#d8576b"
            ],
            [
             0.6666666666666666,
             "#ed7953"
            ],
            [
             0.7777777777777778,
             "#fb9f3a"
            ],
            [
             0.8888888888888888,
             "#fdca26"
            ],
            [
             1,
             "#f0f921"
            ]
           ],
           "sequentialminus": [
            [
             0,
             "#0d0887"
            ],
            [
             0.1111111111111111,
             "#46039f"
            ],
            [
             0.2222222222222222,
             "#7201a8"
            ],
            [
             0.3333333333333333,
             "#9c179e"
            ],
            [
             0.4444444444444444,
             "#bd3786"
            ],
            [
             0.5555555555555556,
             "#d8576b"
            ],
            [
             0.6666666666666666,
             "#ed7953"
            ],
            [
             0.7777777777777778,
             "#fb9f3a"
            ],
            [
             0.8888888888888888,
             "#fdca26"
            ],
            [
             1,
             "#f0f921"
            ]
           ]
          },
          "colorway": [
           "#636efa",
           "#EF553B",
           "#00cc96",
           "#ab63fa",
           "#FFA15A",
           "#19d3f3",
           "#FF6692",
           "#B6E880",
           "#FF97FF",
           "#FECB52"
          ],
          "font": {
           "color": "#2a3f5f"
          },
          "geo": {
           "bgcolor": "white",
           "lakecolor": "white",
           "landcolor": "#E5ECF6",
           "showlakes": true,
           "showland": true,
           "subunitcolor": "white"
          },
          "hoverlabel": {
           "align": "left"
          },
          "hovermode": "closest",
          "mapbox": {
           "style": "light"
          },
          "paper_bgcolor": "white",
          "plot_bgcolor": "#E5ECF6",
          "polar": {
           "angularaxis": {
            "gridcolor": "white",
            "linecolor": "white",
            "ticks": ""
           },
           "bgcolor": "#E5ECF6",
           "radialaxis": {
            "gridcolor": "white",
            "linecolor": "white",
            "ticks": ""
           }
          },
          "scene": {
           "xaxis": {
            "backgroundcolor": "#E5ECF6",
            "gridcolor": "white",
            "gridwidth": 2,
            "linecolor": "white",
            "showbackground": true,
            "ticks": "",
            "zerolinecolor": "white"
           },
           "yaxis": {
            "backgroundcolor": "#E5ECF6",
            "gridcolor": "white",
            "gridwidth": 2,
            "linecolor": "white",
            "showbackground": true,
            "ticks": "",
            "zerolinecolor": "white"
           },
           "zaxis": {
            "backgroundcolor": "#E5ECF6",
            "gridcolor": "white",
            "gridwidth": 2,
            "linecolor": "white",
            "showbackground": true,
            "ticks": "",
            "zerolinecolor": "white"
           }
          },
          "shapedefaults": {
           "line": {
            "color": "#2a3f5f"
           }
          },
          "ternary": {
           "aaxis": {
            "gridcolor": "white",
            "linecolor": "white",
            "ticks": ""
           },
           "baxis": {
            "gridcolor": "white",
            "linecolor": "white",
            "ticks": ""
           },
           "bgcolor": "#E5ECF6",
           "caxis": {
            "gridcolor": "white",
            "linecolor": "white",
            "ticks": ""
           }
          },
          "title": {
           "x": 0.05
          },
          "xaxis": {
           "automargin": true,
           "gridcolor": "white",
           "linecolor": "white",
           "ticks": "",
           "title": {
            "standoff": 15
           },
           "zerolinecolor": "white",
           "zerolinewidth": 2
          },
          "yaxis": {
           "automargin": true,
           "gridcolor": "white",
           "linecolor": "white",
           "ticks": "",
           "title": {
            "standoff": 15
           },
           "zerolinecolor": "white",
           "zerolinewidth": 2
          }
         }
        },
        "title": {
         "text": "Hyperparameter Importances"
        },
        "xaxis": {
         "title": {
          "text": "Hyperparameter Importance"
         }
        },
        "yaxis": {
         "title": {
          "text": "Hyperparameter"
         }
        }
       }
      }
     },
     "metadata": {},
     "output_type": "display_data"
    }
   ],
   "source": [
    "optuna.visualization.plot_param_importances(study)"
   ]
  },
  {
   "cell_type": "markdown",
   "metadata": {},
   "source": [
    "Make 'C' interval uniform (as it remains the most important hyperparameter)"
   ]
  },
  {
   "cell_type": "code",
   "execution_count": 34,
   "metadata": {},
   "outputs": [],
   "source": [
    "def objective(trial):\n",
    "    # Define the hyperparameters to optimize\n",
    "    l1_ratio = trial.suggest_uniform('l1_ratio', 0, 1)\n",
    "    penalty = trial.suggest_categorical('penalty', ['elasticnet'])\n",
    "    C = trial.suggest_uniform('C', 0.01, 100.0)\n",
    "    max_iter = trial.suggest_int('max_iter', 100, 1000)\n",
    "    solver= trial.suggest_categorical('solver', ['saga'])\n",
    "    \n",
    "    # Create the logistic regression model with the hyperparameters\n",
    "    model = LogisticRegression(penalty=penalty, C=C, max_iter=max_iter,\n",
    "     solver=solver, l1_ratio=l1_ratio, random_state=seed)\n",
    "    \n",
    "    # Train the model\n",
    "    model.fit(X_train, y_train)\n",
    "    \n",
    "    # Make predictions on the test set\n",
    "    y_pred = model.predict(X_test)\n",
    "    \n",
    "    # Calculate the accuracy score\n",
    "    accuracy = accuracy_score(y_test, y_pred)\n",
    "    #score_cross_val = cross_val_score(model, X_train, y_train, cv=5, scoring='precision')\n",
    "\n",
    "    \n",
    "    return accuracy"
   ]
  },
  {
   "cell_type": "code",
   "execution_count": 35,
   "metadata": {},
   "outputs": [
    {
     "name": "stderr",
     "output_type": "stream",
     "text": [
      "[I 2024-06-04 23:07:19,776] A new study created in memory with name: no-name-80e34a24-fa38-4fe8-9024-648767c8f07d\n",
      "[I 2024-06-04 23:07:20,399] Trial 0 finished with value: 0.775 and parameters: {'l1_ratio': 0.3745401188473625, 'penalty': 'elasticnet', 'C': 95.07192349792751, 'max_iter': 759, 'solver': 'saga'}. Best is trial 0 with value: 0.775.\n",
      "[I 2024-06-04 23:07:20,602] Trial 1 finished with value: 0.79 and parameters: {'l1_ratio': 0.5986584841970366, 'penalty': 'elasticnet', 'C': 15.610303857839227, 'max_iter': 240, 'solver': 'saga'}. Best is trial 1 with value: 0.79.\n",
      "[I 2024-06-04 23:07:21,018] Trial 2 finished with value: 0.78 and parameters: {'l1_ratio': 0.05808361216819946, 'penalty': 'elasticnet', 'C': 86.61895281603577, 'max_iter': 641, 'solver': 'saga'}. Best is trial 1 with value: 0.79.\n",
      "[I 2024-06-04 23:07:21,115] Trial 3 finished with value: 0.78 and parameters: {'l1_ratio': 0.7080725777960455, 'penalty': 'elasticnet', 'C': 2.0682435846372864, 'max_iter': 973, 'solver': 'saga'}. Best is trial 1 with value: 0.79.\n",
      "[I 2024-06-04 23:07:21,335] Trial 4 finished with value: 0.78 and parameters: {'l1_ratio': 0.8324426408004217, 'penalty': 'elasticnet', 'C': 21.241787676720833, 'max_iter': 263, 'solver': 'saga'}. Best is trial 1 with value: 0.79.\n",
      "[I 2024-06-04 23:07:21,590] Trial 5 finished with value: 0.795 and parameters: {'l1_ratio': 0.18340450985343382, 'penalty': 'elasticnet', 'C': 30.431181873524178, 'max_iter': 572, 'solver': 'saga'}. Best is trial 5 with value: 0.795.\n",
      "[I 2024-06-04 23:07:21,900] Trial 6 finished with value: 0.785 and parameters: {'l1_ratio': 0.43194501864211576, 'penalty': 'elasticnet', 'C': 29.13000172840221, 'max_iter': 651, 'solver': 'saga'}. Best is trial 5 with value: 0.795.\n",
      "[I 2024-06-04 23:07:22,135] Trial 7 finished with value: 0.79 and parameters: {'l1_ratio': 0.13949386065204183, 'penalty': 'elasticnet', 'C': 29.221543407036464, 'max_iter': 430, 'solver': 'saga'}. Best is trial 5 with value: 0.795.\n",
      "[I 2024-06-04 23:07:22,376] Trial 8 finished with value: 0.78 and parameters: {'l1_ratio': 0.45606998421703593, 'penalty': 'elasticnet', 'C': 78.51974437968742, 'max_iter': 279, 'solver': 'saga'}. Best is trial 5 with value: 0.795.\n",
      "[I 2024-06-04 23:07:22,498] Trial 9 finished with value: 0.78 and parameters: {'l1_ratio': 0.5142344384136116, 'penalty': 'elasticnet', 'C': 59.24553274051562, 'max_iter': 141, 'solver': 'saga'}. Best is trial 5 with value: 0.795.\n",
      "[I 2024-06-04 23:07:22,643] Trial 10 finished with value: 0.79 and parameters: {'l1_ratio': 0.6075448519014384, 'penalty': 'elasticnet', 'C': 17.060707127492282, 'max_iter': 158, 'solver': 'saga'}. Best is trial 5 with value: 0.795.\n",
      "[I 2024-06-04 23:07:23,311] Trial 11 finished with value: 0.765 and parameters: {'l1_ratio': 0.9488855372533332, 'penalty': 'elasticnet', 'C': 96.56354698712519, 'max_iter': 828, 'solver': 'saga'}. Best is trial 5 with value: 0.795.\n",
      "[I 2024-06-04 23:07:23,459] Trial 12 finished with value: 0.785 and parameters: {'l1_ratio': 0.3046137691733707, 'penalty': 'elasticnet', 'C': 9.776234679498323, 'max_iter': 716, 'solver': 'saga'}. Best is trial 5 with value: 0.795.\n",
      "[I 2024-06-04 23:07:23,641] Trial 13 finished with value: 0.785 and parameters: {'l1_ratio': 0.4401524937396013, 'penalty': 'elasticnet', 'C': 12.212603102129433, 'max_iter': 546, 'solver': 'saga'}. Best is trial 5 with value: 0.795.\n",
      "[I 2024-06-04 23:07:23,943] Trial 14 finished with value: 0.78 and parameters: {'l1_ratio': 0.034388521115218396, 'penalty': 'elasticnet', 'C': 90.93294700385742, 'max_iter': 333, 'solver': 'saga'}. Best is trial 5 with value: 0.795.\n",
      "[I 2024-06-04 23:07:24,345] Trial 15 finished with value: 0.775 and parameters: {'l1_ratio': 0.662522284353982, 'penalty': 'elasticnet', 'C': 31.1779904981802, 'max_iter': 568, 'solver': 'saga'}. Best is trial 5 with value: 0.795.\n",
      "[I 2024-06-04 23:07:24,630] Trial 16 finished with value: 0.79 and parameters: {'l1_ratio': 0.5467102793432796, 'penalty': 'elasticnet', 'C': 18.49359700799745, 'max_iter': 973, 'solver': 'saga'}. Best is trial 5 with value: 0.795.\n",
      "[I 2024-06-04 23:07:25,361] Trial 17 finished with value: 0.77 and parameters: {'l1_ratio': 0.7751328233611146, 'penalty': 'elasticnet', 'C': 93.95049916700327, 'max_iter': 906, 'solver': 'saga'}. Best is trial 5 with value: 0.795.\n",
      "[I 2024-06-04 23:07:25,514] Trial 18 finished with value: 0.775 and parameters: {'l1_ratio': 0.5978999788110851, 'penalty': 'elasticnet', 'C': 92.18820475996145, 'max_iter': 179, 'solver': 'saga'}. Best is trial 5 with value: 0.795.\n",
      "[I 2024-06-04 23:07:25,604] Trial 19 finished with value: 0.795 and parameters: {'l1_ratio': 0.1959828624191452, 'penalty': 'elasticnet', 'C': 4.532276618164701, 'max_iter': 393, 'solver': 'saga'}. Best is trial 5 with value: 0.795.\n",
      "[I 2024-06-04 23:07:25,895] Trial 20 finished with value: 0.79 and parameters: {'l1_ratio': 0.388677289689482, 'penalty': 'elasticnet', 'C': 27.142189687071852, 'max_iter': 846, 'solver': 'saga'}. Best is trial 5 with value: 0.795.\n",
      "[I 2024-06-04 23:07:26,170] Trial 21 finished with value: 0.795 and parameters: {'l1_ratio': 0.3567533266935893, 'penalty': 'elasticnet', 'C': 28.100641623641202, 'max_iter': 588, 'solver': 'saga'}. Best is trial 5 with value: 0.795.\n",
      "[I 2024-06-04 23:07:26,317] Trial 22 finished with value: 0.78 and parameters: {'l1_ratio': 0.14092422497476265, 'penalty': 'elasticnet', 'C': 80.22167610559643, 'max_iter': 167, 'solver': 'saga'}. Best is trial 5 with value: 0.795.\n",
      "[I 2024-06-04 23:07:26,548] Trial 23 finished with value: 0.77 and parameters: {'l1_ratio': 0.9868869366005173, 'penalty': 'elasticnet', 'C': 77.22675448197278, 'max_iter': 279, 'solver': 'saga'}. Best is trial 5 with value: 0.795.\n",
      "[I 2024-06-04 23:07:26,949] Trial 24 finished with value: 0.775 and parameters: {'l1_ratio': 0.005522117123602399, 'penalty': 'elasticnet', 'C': 81.54798823119887, 'max_iter': 736, 'solver': 'saga'}. Best is trial 5 with value: 0.795.\n",
      "[I 2024-06-04 23:07:27,097] Trial 25 finished with value: 0.78 and parameters: {'l1_ratio': 0.7290071680409873, 'penalty': 'elasticnet', 'C': 77.12932196512772, 'max_iter': 166, 'solver': 'saga'}. Best is trial 5 with value: 0.795.\n",
      "[I 2024-06-04 23:07:27,265] Trial 26 finished with value: 0.79 and parameters: {'l1_ratio': 0.3584657285442726, 'penalty': 'elasticnet', 'C': 11.595747261917719, 'max_iter': 877, 'solver': 'saga'}. Best is trial 5 with value: 0.795.\n",
      "[I 2024-06-04 23:07:27,401] Trial 27 finished with value: 0.78 and parameters: {'l1_ratio': 0.6232981268275579, 'penalty': 'elasticnet', 'C': 33.09649350501639, 'max_iter': 157, 'solver': 'saga'}. Best is trial 5 with value: 0.795.\n",
      "[I 2024-06-04 23:07:27,679] Trial 28 finished with value: 0.785 and parameters: {'l1_ratio': 0.3109823217156622, 'penalty': 'elasticnet', 'C': 32.525080369454436, 'max_iter': 757, 'solver': 'saga'}. Best is trial 5 with value: 0.795.\n",
      "[I 2024-06-04 23:07:28,118] Trial 29 finished with value: 0.77 and parameters: {'l1_ratio': 0.6375574713552131, 'penalty': 'elasticnet', 'C': 88.72240213020689, 'max_iter': 525, 'solver': 'saga'}. Best is trial 5 with value: 0.795.\n",
      "[I 2024-06-04 23:07:28,493] Trial 30 finished with value: 0.775 and parameters: {'l1_ratio': 0.1195942459383017, 'penalty': 'elasticnet', 'C': 71.32734627442727, 'max_iter': 785, 'solver': 'saga'}. Best is trial 5 with value: 0.795.\n",
      "[I 2024-06-04 23:07:28,965] Trial 31 finished with value: 0.775 and parameters: {'l1_ratio': 0.5612771975694962, 'penalty': 'elasticnet', 'C': 77.09900832365655, 'max_iter': 544, 'solver': 'saga'}. Best is trial 5 with value: 0.795.\n",
      "[I 2024-06-04 23:07:29,074] Trial 32 finished with value: 0.79 and parameters: {'l1_ratio': 0.5227328293819941, 'penalty': 'elasticnet', 'C': 42.75982642567137, 'max_iter': 122, 'solver': 'saga'}. Best is trial 5 with value: 0.795.\n",
      "[I 2024-06-04 23:07:29,140] Trial 33 finished with value: 0.785 and parameters: {'l1_ratio': 0.10789142699330445, 'penalty': 'elasticnet', 'C': 3.1526042768165574, 'max_iter': 673, 'solver': 'saga'}. Best is trial 5 with value: 0.795.\n",
      "[I 2024-06-04 23:07:29,491] Trial 34 finished with value: 0.775 and parameters: {'l1_ratio': 0.3143559810763267, 'penalty': 'elasticnet', 'C': 50.861983409558626, 'max_iter': 917, 'solver': 'saga'}. Best is trial 5 with value: 0.795.\n",
      "[I 2024-06-04 23:07:29,793] Trial 35 finished with value: 0.78 and parameters: {'l1_ratio': 0.24929222914887494, 'penalty': 'elasticnet', 'C': 41.044188474332614, 'max_iter': 780, 'solver': 'saga'}. Best is trial 5 with value: 0.795.\n",
      "[I 2024-06-04 23:07:29,916] Trial 36 finished with value: 0.795 and parameters: {'l1_ratio': 0.22879816549162246, 'penalty': 'elasticnet', 'C': 7.7072211837810105, 'max_iter': 361, 'solver': 'saga'}. Best is trial 5 with value: 0.795.\n",
      "[I 2024-06-04 23:07:30,377] Trial 37 finished with value: 0.78 and parameters: {'l1_ratio': 0.16122128725400442, 'penalty': 'elasticnet', 'C': 92.97046825773388, 'max_iter': 828, 'solver': 'saga'}. Best is trial 5 with value: 0.795.\n",
      "[I 2024-06-04 23:07:30,999] Trial 38 finished with value: 0.77 and parameters: {'l1_ratio': 0.6334037565104235, 'penalty': 'elasticnet', 'C': 87.1473444128699, 'max_iter': 824, 'solver': 'saga'}. Best is trial 5 with value: 0.795.\n",
      "[I 2024-06-04 23:07:31,444] Trial 39 finished with value: 0.78 and parameters: {'l1_ratio': 0.18657005888603584, 'penalty': 'elasticnet', 'C': 89.25697425901288, 'max_iter': 585, 'solver': 'saga'}. Best is trial 5 with value: 0.795.\n",
      "[I 2024-06-04 23:07:31,757] Trial 40 finished with value: 0.77 and parameters: {'l1_ratio': 0.8074401551640625, 'penalty': 'elasticnet', 'C': 89.61016907935009, 'max_iter': 386, 'solver': 'saga'}. Best is trial 5 with value: 0.795.\n",
      "[I 2024-06-04 23:07:31,966] Trial 41 finished with value: 0.785 and parameters: {'l1_ratio': 0.11005192452767676, 'penalty': 'elasticnet', 'C': 22.80123690256875, 'max_iter': 484, 'solver': 'saga'}. Best is trial 5 with value: 0.795.\n",
      "[I 2024-06-04 23:07:32,058] Trial 42 finished with value: 0.785 and parameters: {'l1_ratio': 0.8180147659224931, 'penalty': 'elasticnet', 'C': 86.07445101980178, 'max_iter': 106, 'solver': 'saga'}. Best is trial 5 with value: 0.795.\n",
      "[I 2024-06-04 23:07:32,315] Trial 43 finished with value: 0.775 and parameters: {'l1_ratio': 0.5107473025775657, 'penalty': 'elasticnet', 'C': 41.74692620484641, 'max_iter': 300, 'solver': 'saga'}. Best is trial 5 with value: 0.795.\n",
      "[I 2024-06-04 23:07:32,571] Trial 44 finished with value: 0.795 and parameters: {'l1_ratio': 0.1198653673336828, 'penalty': 'elasticnet', 'C': 33.76814098864875, 'max_iter': 949, 'solver': 'saga'}. Best is trial 5 with value: 0.795.\n",
      "[I 2024-06-04 23:07:32,910] Trial 45 finished with value: 0.775 and parameters: {'l1_ratio': 0.32320293202075523, 'penalty': 'elasticnet', 'C': 51.88387426811917, 'max_iter': 733, 'solver': 'saga'}. Best is trial 5 with value: 0.795.\n",
      "[I 2024-06-04 23:07:33,463] Trial 46 finished with value: 0.775 and parameters: {'l1_ratio': 0.363629602379294, 'penalty': 'elasticnet', 'C': 97.17849045126886, 'max_iter': 967, 'solver': 'saga'}. Best is trial 5 with value: 0.795.\n",
      "[I 2024-06-04 23:07:33,781] Trial 47 finished with value: 0.78 and parameters: {'l1_ratio': 0.25178229582536416, 'penalty': 'elasticnet', 'C': 49.72987810417962, 'max_iter': 371, 'solver': 'saga'}. Best is trial 5 with value: 0.795.\n",
      "[I 2024-06-04 23:07:33,861] Trial 48 finished with value: 0.795 and parameters: {'l1_ratio': 0.2848404943774676, 'penalty': 'elasticnet', 'C': 3.698325865979734, 'max_iter': 649, 'solver': 'saga'}. Best is trial 5 with value: 0.795.\n",
      "[I 2024-06-04 23:07:33,978] Trial 49 finished with value: 0.79 and parameters: {'l1_ratio': 0.5026790232288615, 'penalty': 'elasticnet', 'C': 5.157360337486435, 'max_iter': 351, 'solver': 'saga'}. Best is trial 5 with value: 0.795.\n",
      "[I 2024-06-04 23:07:34,169] Trial 50 finished with value: 0.78 and parameters: {'l1_ratio': 0.9082658859666537, 'penalty': 'elasticnet', 'C': 23.96379344779057, 'max_iter': 230, 'solver': 'saga'}. Best is trial 5 with value: 0.795.\n",
      "[I 2024-06-04 23:07:34,441] Trial 51 finished with value: 0.775 and parameters: {'l1_ratio': 0.489452760277563, 'penalty': 'elasticnet', 'C': 98.56518890651897, 'max_iter': 318, 'solver': 'saga'}. Best is trial 5 with value: 0.795.\n",
      "[I 2024-06-04 23:07:34,702] Trial 52 finished with value: 0.775 and parameters: {'l1_ratio': 0.6721355474058786, 'penalty': 'elasticnet', 'C': 76.16434533671847, 'max_iter': 314, 'solver': 'saga'}. Best is trial 5 with value: 0.795.\n",
      "[I 2024-06-04 23:07:35,132] Trial 53 finished with value: 0.78 and parameters: {'l1_ratio': 0.7282163486118596, 'penalty': 'elasticnet', 'C': 36.78463544059812, 'max_iter': 669, 'solver': 'saga'}. Best is trial 5 with value: 0.795.\n",
      "[I 2024-06-04 23:07:35,288] Trial 54 finished with value: 0.775 and parameters: {'l1_ratio': 0.6335297107608947, 'penalty': 'elasticnet', 'C': 53.582110660635095, 'max_iter': 181, 'solver': 'saga'}. Best is trial 5 with value: 0.795.\n",
      "[I 2024-06-04 23:07:35,509] Trial 55 finished with value: 0.78 and parameters: {'l1_ratio': 0.835302495589238, 'penalty': 'elasticnet', 'C': 32.08479869652386, 'max_iter': 268, 'solver': 'saga'}. Best is trial 5 with value: 0.795.\n",
      "[I 2024-06-04 23:07:35,828] Trial 56 finished with value: 0.78 and parameters: {'l1_ratio': 0.040775141554763916, 'penalty': 'elasticnet', 'C': 59.093385389392296, 'max_iter': 710, 'solver': 'saga'}. Best is trial 5 with value: 0.795.\n",
      "[I 2024-06-04 23:07:36,094] Trial 57 finished with value: 0.78 and parameters: {'l1_ratio': 0.016587828927856152, 'penalty': 'elasticnet', 'C': 51.2141848993451, 'max_iter': 304, 'solver': 'saga'}. Best is trial 5 with value: 0.795.\n",
      "[I 2024-06-04 23:07:36,407] Trial 58 finished with value: 0.795 and parameters: {'l1_ratio': 0.6451727904094499, 'penalty': 'elasticnet', 'C': 17.444899236209096, 'max_iter': 722, 'solver': 'saga'}. Best is trial 5 with value: 0.795.\n",
      "[I 2024-06-04 23:07:36,596] Trial 59 finished with value: 0.775 and parameters: {'l1_ratio': 0.3867353463005374, 'penalty': 'elasticnet', 'C': 93.67363157378608, 'max_iter': 223, 'solver': 'saga'}. Best is trial 5 with value: 0.795.\n",
      "[I 2024-06-04 23:07:36,762] Trial 60 finished with value: 0.79 and parameters: {'l1_ratio': 0.3410663510502585, 'penalty': 'elasticnet', 'C': 11.3562173888465, 'max_iter': 933, 'solver': 'saga'}. Best is trial 5 with value: 0.795.\n",
      "[I 2024-06-04 23:07:37,332] Trial 61 finished with value: 0.78 and parameters: {'l1_ratio': 0.877339353380981, 'penalty': 'elasticnet', 'C': 25.80158335523841, 'max_iter': 694, 'solver': 'saga'}. Best is trial 5 with value: 0.795.\n",
      "[I 2024-06-04 23:07:37,797] Trial 62 finished with value: 0.77 and parameters: {'l1_ratio': 0.8172222002012158, 'penalty': 'elasticnet', 'C': 55.52452915183024, 'max_iter': 577, 'solver': 'saga'}. Best is trial 5 with value: 0.795.\n",
      "[I 2024-06-04 23:07:37,935] Trial 63 finished with value: 0.79 and parameters: {'l1_ratio': 0.24185229090045168, 'penalty': 'elasticnet', 'C': 9.319345752911861, 'max_iter': 908, 'solver': 'saga'}. Best is trial 5 with value: 0.795.\n",
      "[I 2024-06-04 23:07:38,268] Trial 64 finished with value: 0.77 and parameters: {'l1_ratio': 0.9004180571633305, 'penalty': 'elasticnet', 'C': 63.31381471275406, 'max_iter': 405, 'solver': 'saga'}. Best is trial 5 with value: 0.795.\n",
      "[I 2024-06-04 23:07:38,697] Trial 65 finished with value: 0.78 and parameters: {'l1_ratio': 0.3492095746126609, 'penalty': 'elasticnet', 'C': 72.59830833023524, 'max_iter': 908, 'solver': 'saga'}. Best is trial 5 with value: 0.795.\n",
      "[I 2024-06-04 23:07:39,236] Trial 66 finished with value: 0.77 and parameters: {'l1_ratio': 0.8870864242651173, 'penalty': 'elasticnet', 'C': 77.9897558303038, 'max_iter': 678, 'solver': 'saga'}. Best is trial 5 with value: 0.795.\n",
      "[I 2024-06-04 23:07:39,405] Trial 67 finished with value: 0.79 and parameters: {'l1_ratio': 0.08413996499504883, 'penalty': 'elasticnet', 'C': 16.17125512232043, 'max_iter': 909, 'solver': 'saga'}. Best is trial 5 with value: 0.795.\n",
      "[I 2024-06-04 23:07:39,452] Trial 68 finished with value: 0.775 and parameters: {'l1_ratio': 0.6064290596595899, 'penalty': 'elasticnet', 'C': 0.9296131911467984, 'max_iter': 191, 'solver': 'saga'}. Best is trial 5 with value: 0.795.\n",
      "[I 2024-06-04 23:07:39,488] Trial 69 finished with value: 0.765 and parameters: {'l1_ratio': 0.6635017691080558, 'penalty': 'elasticnet', 'C': 0.5161077687834065, 'max_iter': 244, 'solver': 'saga'}. Best is trial 5 with value: 0.795.\n",
      "[I 2024-06-04 23:07:39,988] Trial 70 finished with value: 0.78 and parameters: {'l1_ratio': 0.5487337893665861, 'penalty': 'elasticnet', 'C': 69.1926008172924, 'max_iter': 687, 'solver': 'saga'}. Best is trial 5 with value: 0.795.\n",
      "[I 2024-06-04 23:07:40,255] Trial 71 finished with value: 0.775 and parameters: {'l1_ratio': 0.22426930946055978, 'penalty': 'elasticnet', 'C': 71.22080034254012, 'max_iter': 313, 'solver': 'saga'}. Best is trial 5 with value: 0.795.\n",
      "[I 2024-06-04 23:07:40,688] Trial 72 finished with value: 0.78 and parameters: {'l1_ratio': 0.3253996981592677, 'penalty': 'elasticnet', 'C': 74.65167559775124, 'max_iter': 685, 'solver': 'saga'}. Best is trial 5 with value: 0.795.\n",
      "[I 2024-06-04 23:07:41,203] Trial 73 finished with value: 0.77 and parameters: {'l1_ratio': 0.8492234104941779, 'penalty': 'elasticnet', 'C': 65.76471310111134, 'max_iter': 612, 'solver': 'saga'}. Best is trial 5 with value: 0.795.\n",
      "[I 2024-06-04 23:07:41,462] Trial 74 finished with value: 0.8 and parameters: {'l1_ratio': 0.09367476782809248, 'penalty': 'elasticnet', 'C': 36.77790314791275, 'max_iter': 338, 'solver': 'saga'}. Best is trial 74 with value: 0.8.\n",
      "[I 2024-06-04 23:07:41,847] Trial 75 finished with value: 0.775 and parameters: {'l1_ratio': 0.24398964337908358, 'penalty': 'elasticnet', 'C': 97.30132536969704, 'max_iter': 454, 'solver': 'saga'}. Best is trial 74 with value: 0.8.\n",
      "[I 2024-06-04 23:07:42,495] Trial 76 finished with value: 0.77 and parameters: {'l1_ratio': 0.8920465551771133, 'penalty': 'elasticnet', 'C': 63.117551213466314, 'max_iter': 816, 'solver': 'saga'}. Best is trial 74 with value: 0.8.\n",
      "[I 2024-06-04 23:07:42,922] Trial 77 finished with value: 0.78 and parameters: {'l1_ratio': 0.5026370931051921, 'penalty': 'elasticnet', 'C': 57.69461942378964, 'max_iter': 543, 'solver': 'saga'}. Best is trial 74 with value: 0.8.\n",
      "[I 2024-06-04 23:07:43,220] Trial 78 finished with value: 0.775 and parameters: {'l1_ratio': 0.1952429877980445, 'penalty': 'elasticnet', 'C': 72.24798700499792, 'max_iter': 352, 'solver': 'saga'}. Best is trial 74 with value: 0.8.\n",
      "[I 2024-06-04 23:07:43,442] Trial 79 finished with value: 0.78 and parameters: {'l1_ratio': 0.02431596643145384, 'penalty': 'elasticnet', 'C': 64.55077486775771, 'max_iter': 259, 'solver': 'saga'}. Best is trial 74 with value: 0.8.\n",
      "[I 2024-06-04 23:07:44,194] Trial 80 finished with value: 0.765 and parameters: {'l1_ratio': 0.9404585843529143, 'penalty': 'elasticnet', 'C': 95.39331841448872, 'max_iter': 924, 'solver': 'saga'}. Best is trial 74 with value: 0.8.\n",
      "[I 2024-06-04 23:07:44,248] Trial 81 finished with value: 0.775 and parameters: {'l1_ratio': 0.3701587002554444, 'penalty': 'elasticnet', 'C': 1.555507086721454, 'max_iter': 936, 'solver': 'saga'}. Best is trial 74 with value: 0.8.\n",
      "[I 2024-06-04 23:07:44,802] Trial 82 finished with value: 0.775 and parameters: {'l1_ratio': 0.42818414831731433, 'penalty': 'elasticnet', 'C': 96.66581535617652, 'max_iter': 968, 'solver': 'saga'}. Best is trial 74 with value: 0.8.\n",
      "[I 2024-06-04 23:07:45,165] Trial 83 finished with value: 0.78 and parameters: {'l1_ratio': 0.8530094554673601, 'penalty': 'elasticnet', 'C': 29.451944718037872, 'max_iter': 446, 'solver': 'saga'}. Best is trial 74 with value: 0.8.\n",
      "[I 2024-06-04 23:07:45,374] Trial 84 finished with value: 0.78 and parameters: {'l1_ratio': 0.8511366715168569, 'penalty': 'elasticnet', 'C': 31.699031295576205, 'max_iter': 252, 'solver': 'saga'}. Best is trial 74 with value: 0.8.\n",
      "[I 2024-06-04 23:07:45,973] Trial 85 finished with value: 0.775 and parameters: {'l1_ratio': 0.5568012624583502, 'penalty': 'elasticnet', 'C': 93.6161158683365, 'max_iter': 727, 'solver': 'saga'}. Best is trial 74 with value: 0.8.\n",
      "[I 2024-06-04 23:07:46,167] Trial 86 finished with value: 0.785 and parameters: {'l1_ratio': 0.570061170089365, 'penalty': 'elasticnet', 'C': 9.726677612139145, 'max_iter': 654, 'solver': 'saga'}. Best is trial 74 with value: 0.8.\n",
      "[I 2024-06-04 23:07:46,612] Trial 87 finished with value: 0.775 and parameters: {'l1_ratio': 0.9900538501042633, 'penalty': 'elasticnet', 'C': 14.017000683500036, 'max_iter': 567, 'solver': 'saga'}. Best is trial 74 with value: 0.8.\n",
      "[I 2024-06-04 23:07:47,193] Trial 88 finished with value: 0.77 and parameters: {'l1_ratio': 0.8773730719279554, 'penalty': 'elasticnet', 'C': 74.0794540892429, 'max_iter': 728, 'solver': 'saga'}. Best is trial 74 with value: 0.8.\n",
      "[I 2024-06-04 23:07:47,501] Trial 89 finished with value: 0.78 and parameters: {'l1_ratio': 0.7024840839871093, 'penalty': 'elasticnet', 'C': 35.95552021046331, 'max_iter': 364, 'solver': 'saga'}. Best is trial 74 with value: 0.8.\n",
      "[I 2024-06-04 23:07:48,209] Trial 90 finished with value: 0.77 and parameters: {'l1_ratio': 0.8093611554785136, 'penalty': 'elasticnet', 'C': 81.01323833397129, 'max_iter': 881, 'solver': 'saga'}. Best is trial 74 with value: 0.8.\n",
      "[I 2024-06-04 23:07:48,655] Trial 91 finished with value: 0.77 and parameters: {'l1_ratio': 0.9132405525564713, 'penalty': 'elasticnet', 'C': 51.13912646210517, 'max_iter': 551, 'solver': 'saga'}. Best is trial 74 with value: 0.8.\n",
      "[I 2024-06-04 23:07:49,245] Trial 92 finished with value: 0.77 and parameters: {'l1_ratio': 0.7982951789667752, 'penalty': 'elasticnet', 'C': 64.99989343846875, 'max_iter': 732, 'solver': 'saga'}. Best is trial 74 with value: 0.8.\n",
      "[I 2024-06-04 23:07:49,579] Trial 93 finished with value: 0.77 and parameters: {'l1_ratio': 0.795792669436101, 'penalty': 'elasticnet', 'C': 89.00163412833845, 'max_iter': 404, 'solver': 'saga'}. Best is trial 74 with value: 0.8.\n",
      "[I 2024-06-04 23:07:49,734] Trial 94 finished with value: 0.785 and parameters: {'l1_ratio': 0.375582952639944, 'penalty': 'elasticnet', 'C': 9.40725416468849, 'max_iter': 621, 'solver': 'saga'}. Best is trial 74 with value: 0.8.\n",
      "[I 2024-06-04 23:07:50,006] Trial 95 finished with value: 0.785 and parameters: {'l1_ratio': 0.035942273796742086, 'penalty': 'elasticnet', 'C': 46.56514583306468, 'max_iter': 588, 'solver': 'saga'}. Best is trial 74 with value: 0.8.\n",
      "[I 2024-06-04 23:07:50,117] Trial 96 finished with value: 0.79 and parameters: {'l1_ratio': 0.2865412521282844, 'penalty': 'elasticnet', 'C': 59.08741772429538, 'max_iter': 127, 'solver': 'saga'}. Best is trial 74 with value: 0.8.\n",
      "[I 2024-06-04 23:07:50,477] Trial 97 finished with value: 0.775 and parameters: {'l1_ratio': 0.03734818874921442, 'penalty': 'elasticnet', 'C': 82.26183006035923, 'max_iter': 424, 'solver': 'saga'}. Best is trial 74 with value: 0.8.\n",
      "[I 2024-06-04 23:07:50,784] Trial 98 finished with value: 0.78 and parameters: {'l1_ratio': 0.12706051265188478, 'penalty': 'elasticnet', 'C': 52.229103572879886, 'max_iter': 793, 'solver': 'saga'}. Best is trial 74 with value: 0.8.\n",
      "[I 2024-06-04 23:07:50,937] Trial 99 finished with value: 0.78 and parameters: {'l1_ratio': 0.21582102749684318, 'penalty': 'elasticnet', 'C': 62.29281867714183, 'max_iter': 176, 'solver': 'saga'}. Best is trial 74 with value: 0.8.\n",
      "[I 2024-06-04 23:07:51,236] Trial 100 finished with value: 0.78 and parameters: {'l1_ratio': 0.0516817211686077, 'penalty': 'elasticnet', 'C': 53.140149610499115, 'max_iter': 587, 'solver': 'saga'}. Best is trial 74 with value: 0.8.\n",
      "[I 2024-06-04 23:07:51,785] Trial 101 finished with value: 0.775 and parameters: {'l1_ratio': 0.6374299014982066, 'penalty': 'elasticnet', 'C': 72.61187245892893, 'max_iter': 979, 'solver': 'saga'}. Best is trial 74 with value: 0.8.\n",
      "[I 2024-06-04 23:07:52,117] Trial 102 finished with value: 0.78 and parameters: {'l1_ratio': 0.5163003483011953, 'penalty': 'elasticnet', 'C': 32.30241772939518, 'max_iter': 816, 'solver': 'saga'}. Best is trial 74 with value: 0.8.\n",
      "[I 2024-06-04 23:07:52,265] Trial 103 finished with value: 0.785 and parameters: {'l1_ratio': 0.2708322512620742, 'penalty': 'elasticnet', 'C': 43.90275235635655, 'max_iter': 170, 'solver': 'saga'}. Best is trial 74 with value: 0.8.\n",
      "[I 2024-06-04 23:07:52,700] Trial 104 finished with value: 0.78 and parameters: {'l1_ratio': 0.02535074341545751, 'penalty': 'elasticnet', 'C': 96.26521498364572, 'max_iter': 853, 'solver': 'saga'}. Best is trial 74 with value: 0.8.\n",
      "[I 2024-06-04 23:07:52,913] Trial 105 finished with value: 0.78 and parameters: {'l1_ratio': 0.695974206093698, 'penalty': 'elasticnet', 'C': 40.901204911982845, 'max_iter': 256, 'solver': 'saga'}. Best is trial 74 with value: 0.8.\n",
      "[I 2024-06-04 23:07:53,131] Trial 106 finished with value: 0.785 and parameters: {'l1_ratio': 0.15643704267108605, 'penalty': 'elasticnet', 'C': 25.031787387477888, 'max_iter': 594, 'solver': 'saga'}. Best is trial 74 with value: 0.8.\n",
      "[I 2024-06-04 23:07:53,419] Trial 107 finished with value: 0.775 and parameters: {'l1_ratio': 0.7145959227000623, 'penalty': 'elasticnet', 'C': 66.02313569800594, 'max_iter': 352, 'solver': 'saga'}. Best is trial 74 with value: 0.8.\n",
      "[I 2024-06-04 23:07:53,901] Trial 108 finished with value: 0.77 and parameters: {'l1_ratio': 0.9548652806631941, 'penalty': 'elasticnet', 'C': 73.7923127004099, 'max_iter': 599, 'solver': 'saga'}. Best is trial 74 with value: 0.8.\n",
      "[I 2024-06-04 23:07:54,170] Trial 109 finished with value: 0.78 and parameters: {'l1_ratio': 0.6117207462343522, 'penalty': 'elasticnet', 'C': 41.96581024215471, 'max_iter': 323, 'solver': 'saga'}. Best is trial 74 with value: 0.8.\n",
      "[I 2024-06-04 23:07:54,270] Trial 110 finished with value: 0.79 and parameters: {'l1_ratio': 0.3559726786512616, 'penalty': 'elasticnet', 'C': 75.78703258533227, 'max_iter': 112, 'solver': 'saga'}. Best is trial 74 with value: 0.8.\n",
      "[I 2024-06-04 23:07:54,353] Trial 111 finished with value: 0.795 and parameters: {'l1_ratio': 0.11607264050691624, 'penalty': 'elasticnet', 'C': 4.609804175755057, 'max_iter': 136, 'solver': 'saga'}. Best is trial 74 with value: 0.8.\n",
      "[I 2024-06-04 23:07:54,776] Trial 112 finished with value: 0.77 and parameters: {'l1_ratio': 0.8554605840110072, 'penalty': 'elasticnet', 'C': 70.36874935940857, 'max_iter': 527, 'solver': 'saga'}. Best is trial 74 with value: 0.8.\n",
      "[I 2024-06-04 23:07:55,066] Trial 113 finished with value: 0.78 and parameters: {'l1_ratio': 0.09783416065100148, 'penalty': 'elasticnet', 'C': 49.16667135293206, 'max_iter': 526, 'solver': 'saga'}. Best is trial 74 with value: 0.8.\n",
      "[I 2024-06-04 23:07:55,352] Trial 114 finished with value: 0.78 and parameters: {'l1_ratio': 0.17320186991001518, 'penalty': 'elasticnet', 'C': 43.39082640730492, 'max_iter': 459, 'solver': 'saga'}. Best is trial 74 with value: 0.8.\n",
      "[I 2024-06-04 23:07:55,473] Trial 115 finished with value: 0.78 and parameters: {'l1_ratio': 0.6158500980522165, 'penalty': 'elasticnet', 'C': 63.5130141502557, 'max_iter': 140, 'solver': 'saga'}. Best is trial 74 with value: 0.8.\n",
      "[I 2024-06-04 23:07:55,870] Trial 116 finished with value: 0.78 and parameters: {'l1_ratio': 0.3746126146264712, 'penalty': 'elasticnet', 'C': 62.58973297226649, 'max_iter': 553, 'solver': 'saga'}. Best is trial 74 with value: 0.8.\n",
      "[I 2024-06-04 23:07:56,072] Trial 117 finished with value: 0.775 and parameters: {'l1_ratio': 0.8564898411883223, 'penalty': 'elasticnet', 'C': 65.8727762255783, 'max_iter': 246, 'solver': 'saga'}. Best is trial 74 with value: 0.8.\n",
      "[I 2024-06-04 23:07:56,183] Trial 118 finished with value: 0.79 and parameters: {'l1_ratio': 0.07056874740042984, 'penalty': 'elasticnet', 'C': 64.2455036278495, 'max_iter': 123, 'solver': 'saga'}. Best is trial 74 with value: 0.8.\n",
      "[I 2024-06-04 23:07:56,713] Trial 119 finished with value: 0.77 and parameters: {'l1_ratio': 0.5857755812734633, 'penalty': 'elasticnet', 'C': 94.0236218400815, 'max_iter': 618, 'solver': 'saga'}. Best is trial 74 with value: 0.8.\n",
      "[I 2024-06-04 23:07:57,128] Trial 120 finished with value: 0.78 and parameters: {'l1_ratio': 0.3881699262065219, 'penalty': 'elasticnet', 'C': 64.3323889620509, 'max_iter': 512, 'solver': 'saga'}. Best is trial 74 with value: 0.8.\n",
      "[I 2024-06-04 23:07:57,504] Trial 121 finished with value: 0.775 and parameters: {'l1_ratio': 0.5456167893159349, 'penalty': 'elasticnet', 'C': 94.14706622956476, 'max_iter': 447, 'solver': 'saga'}. Best is trial 74 with value: 0.8.\n",
      "[I 2024-06-04 23:07:57,731] Trial 122 finished with value: 0.77 and parameters: {'l1_ratio': 0.9611905638239142, 'penalty': 'elasticnet', 'C': 90.53601068918681, 'max_iter': 276, 'solver': 'saga'}. Best is trial 74 with value: 0.8.\n",
      "[I 2024-06-04 23:07:57,835] Trial 123 finished with value: 0.795 and parameters: {'l1_ratio': 0.06936130087516545, 'penalty': 'elasticnet', 'C': 10.086792357728891, 'max_iter': 116, 'solver': 'saga'}. Best is trial 74 with value: 0.8.\n",
      "[I 2024-06-04 23:07:57,979] Trial 124 finished with value: 0.78 and parameters: {'l1_ratio': 0.0944429607559284, 'penalty': 'elasticnet', 'C': 68.30384727390152, 'max_iter': 164, 'solver': 'saga'}. Best is trial 74 with value: 0.8.\n",
      "[I 2024-06-04 23:07:58,084] Trial 125 finished with value: 0.785 and parameters: {'l1_ratio': 0.3189756302937613, 'penalty': 'elasticnet', 'C': 84.48908234383576, 'max_iter': 120, 'solver': 'saga'}. Best is trial 74 with value: 0.8.\n",
      "[I 2024-06-04 23:07:58,256] Trial 126 finished with value: 0.78 and parameters: {'l1_ratio': 0.8144684825889358, 'penalty': 'elasticnet', 'C': 28.19265892959226, 'max_iter': 206, 'solver': 'saga'}. Best is trial 74 with value: 0.8.\n",
      "[I 2024-06-04 23:07:58,786] Trial 127 finished with value: 0.775 and parameters: {'l1_ratio': 0.6967371653641506, 'penalty': 'elasticnet', 'C': 62.8979952495206, 'max_iter': 890, 'solver': 'saga'}. Best is trial 74 with value: 0.8.\n",
      "[I 2024-06-04 23:07:59,183] Trial 128 finished with value: 0.775 and parameters: {'l1_ratio': 0.7350710438038858, 'penalty': 'elasticnet', 'C': 80.35005822918102, 'max_iter': 354, 'solver': 'saga'}. Best is trial 74 with value: 0.8.\n",
      "[I 2024-06-04 23:07:59,585] Trial 129 finished with value: 0.78 and parameters: {'l1_ratio': 0.17743954377972282, 'penalty': 'elasticnet', 'C': 75.06396901656943, 'max_iter': 826, 'solver': 'saga'}. Best is trial 74 with value: 0.8.\n",
      "[I 2024-06-04 23:07:59,948] Trial 130 finished with value: 0.77 and parameters: {'l1_ratio': 0.9905051420006733, 'penalty': 'elasticnet', 'C': 41.26764151437353, 'max_iter': 435, 'solver': 'saga'}. Best is trial 74 with value: 0.8.\n",
      "[I 2024-06-04 23:08:00,405] Trial 131 finished with value: 0.78 and parameters: {'l1_ratio': 0.7764129607419968, 'penalty': 'elasticnet', 'C': 34.08694598989925, 'max_iter': 938, 'solver': 'saga'}. Best is trial 74 with value: 0.8.\n",
      "[I 2024-06-04 23:08:00,961] Trial 132 finished with value: 0.775 and parameters: {'l1_ratio': 0.8584127518430118, 'penalty': 'elasticnet', 'C': 42.90511279722808, 'max_iter': 776, 'solver': 'saga'}. Best is trial 74 with value: 0.8.\n",
      "[I 2024-06-04 23:08:01,243] Trial 133 finished with value: 0.79 and parameters: {'l1_ratio': 0.7545428740846823, 'penalty': 'elasticnet', 'C': 10.321355644904902, 'max_iter': 913, 'solver': 'saga'}. Best is trial 74 with value: 0.8.\n",
      "[I 2024-06-04 23:08:01,570] Trial 134 finished with value: 0.775 and parameters: {'l1_ratio': 0.5052523724478571, 'penalty': 'elasticnet', 'C': 82.64748203611309, 'max_iter': 388, 'solver': 'saga'}. Best is trial 74 with value: 0.8.\n",
      "[I 2024-06-04 23:08:01,663] Trial 135 finished with value: 0.785 and parameters: {'l1_ratio': 0.8955232284962005, 'penalty': 'elasticnet', 'C': 38.92627585662897, 'max_iter': 109, 'solver': 'saga'}. Best is trial 74 with value: 0.8.\n",
      "[I 2024-06-04 23:08:01,983] Trial 136 finished with value: 0.78 and parameters: {'l1_ratio': 0.9053819764192637, 'penalty': 'elasticnet', 'C': 9.137754811845493, 'max_iter': 387, 'solver': 'saga'}. Best is trial 74 with value: 0.8.\n",
      "[I 2024-06-04 23:08:02,473] Trial 137 finished with value: 0.765 and parameters: {'l1_ratio': 0.9500619670508049, 'penalty': 'elasticnet', 'C': 95.06120862228623, 'max_iter': 616, 'solver': 'saga'}. Best is trial 74 with value: 0.8.\n",
      "[I 2024-06-04 23:08:02,779] Trial 138 finished with value: 0.78 and parameters: {'l1_ratio': 0.6318372121697993, 'penalty': 'elasticnet', 'C': 44.85006774261219, 'max_iter': 364, 'solver': 'saga'}. Best is trial 74 with value: 0.8.\n",
      "[I 2024-06-04 23:08:03,182] Trial 139 finished with value: 0.78 and parameters: {'l1_ratio': 0.32866454536991596, 'penalty': 'elasticnet', 'C': 67.25512042314307, 'max_iter': 777, 'solver': 'saga'}. Best is trial 74 with value: 0.8.\n",
      "[I 2024-06-04 23:08:03,335] Trial 140 finished with value: 0.775 and parameters: {'l1_ratio': 0.7915790437258485, 'penalty': 'elasticnet', 'C': 78.96391809802745, 'max_iter': 182, 'solver': 'saga'}. Best is trial 74 with value: 0.8.\n",
      "[I 2024-06-04 23:08:03,462] Trial 141 finished with value: 0.79 and parameters: {'l1_ratio': 0.49442030470258147, 'penalty': 'elasticnet', 'C': 5.765300414064262, 'max_iter': 595, 'solver': 'saga'}. Best is trial 74 with value: 0.8.\n",
      "[I 2024-06-04 23:08:03,820] Trial 142 finished with value: 0.775 and parameters: {'l1_ratio': 0.441530501373377, 'penalty': 'elasticnet', 'C': 88.7715412340024, 'max_iter': 416, 'solver': 'saga'}. Best is trial 74 with value: 0.8.\n",
      "[I 2024-06-04 23:08:03,981] Trial 143 finished with value: 0.79 and parameters: {'l1_ratio': 0.11706701642760586, 'penalty': 'elasticnet', 'C': 14.307738288463057, 'max_iter': 786, 'solver': 'saga'}. Best is trial 74 with value: 0.8.\n",
      "[I 2024-06-04 23:08:04,136] Trial 144 finished with value: 0.785 and parameters: {'l1_ratio': 0.6182180633162611, 'penalty': 'elasticnet', 'C': 10.121256385517796, 'max_iter': 175, 'solver': 'saga'}. Best is trial 74 with value: 0.8.\n",
      "[I 2024-06-04 23:08:04,346] Trial 145 finished with value: 0.78 and parameters: {'l1_ratio': 0.70096913145912, 'penalty': 'elasticnet', 'C': 7.28557300635571, 'max_iter': 840, 'solver': 'saga'}. Best is trial 74 with value: 0.8.\n",
      "[I 2024-06-04 23:08:04,494] Trial 146 finished with value: 0.785 and parameters: {'l1_ratio': 0.7062422271564962, 'penalty': 'elasticnet', 'C': 8.144064576383556, 'max_iter': 176, 'solver': 'saga'}. Best is trial 74 with value: 0.8.\n",
      "[I 2024-06-04 23:08:04,851] Trial 147 finished with value: 0.775 and parameters: {'l1_ratio': 0.9866395785011755, 'penalty': 'elasticnet', 'C': 37.43333686765447, 'max_iter': 433, 'solver': 'saga'}. Best is trial 74 with value: 0.8.\n",
      "[I 2024-06-04 23:08:05,639] Trial 148 finished with value: 0.77 and parameters: {'l1_ratio': 0.8127995672575026, 'penalty': 'elasticnet', 'C': 94.72538525261203, 'max_iter': 988, 'solver': 'saga'}. Best is trial 74 with value: 0.8.\n",
      "[I 2024-06-04 23:08:05,790] Trial 149 finished with value: 0.78 and parameters: {'l1_ratio': 0.7533781852589416, 'penalty': 'elasticnet', 'C': 37.63219595723626, 'max_iter': 175, 'solver': 'saga'}. Best is trial 74 with value: 0.8.\n",
      "[I 2024-06-04 23:08:06,184] Trial 150 finished with value: 0.78 and parameters: {'l1_ratio': 0.7771469159274368, 'penalty': 'elasticnet', 'C': 55.84484093108314, 'max_iter': 482, 'solver': 'saga'}. Best is trial 74 with value: 0.8.\n",
      "[I 2024-06-04 23:08:06,617] Trial 151 finished with value: 0.775 and parameters: {'l1_ratio': 0.906354385094736, 'penalty': 'elasticnet', 'C': 11.128636255792072, 'max_iter': 543, 'solver': 'saga'}. Best is trial 74 with value: 0.8.\n",
      "[I 2024-06-04 23:08:06,751] Trial 152 finished with value: 0.8 and parameters: {'l1_ratio': 0.011353644767419069, 'penalty': 'elasticnet', 'C': 46.87137759299268, 'max_iter': 150, 'solver': 'saga'}. Best is trial 74 with value: 0.8.\n",
      "[I 2024-06-04 23:08:06,896] Trial 153 finished with value: 0.785 and parameters: {'l1_ratio': 0.11881791626807192, 'penalty': 'elasticnet', 'C': 11.761449415242716, 'max_iter': 684, 'solver': 'saga'}. Best is trial 74 with value: 0.8.\n",
      "[I 2024-06-04 23:08:07,428] Trial 154 finished with value: 0.775 and parameters: {'l1_ratio': 0.7460448792654233, 'penalty': 'elasticnet', 'C': 58.341042822064985, 'max_iter': 966, 'solver': 'saga'}. Best is trial 74 with value: 0.8.\n",
      "[I 2024-06-04 23:08:07,705] Trial 155 finished with value: 0.79 and parameters: {'l1_ratio': 0.37487057952370406, 'penalty': 'elasticnet', 'C': 28.578351507323255, 'max_iter': 882, 'solver': 'saga'}. Best is trial 74 with value: 0.8.\n",
      "[I 2024-06-04 23:08:07,802] Trial 156 finished with value: 0.79 and parameters: {'l1_ratio': 0.22359583851945264, 'penalty': 'elasticnet', 'C': 96.32262171866672, 'max_iter': 110, 'solver': 'saga'}. Best is trial 74 with value: 0.8.\n",
      "[I 2024-06-04 23:08:08,256] Trial 157 finished with value: 0.795 and parameters: {'l1_ratio': 0.969878826707639, 'penalty': 'elasticnet', 'C': 4.325559595938105, 'max_iter': 902, 'solver': 'saga'}. Best is trial 74 with value: 0.8.\n",
      "[I 2024-06-04 23:08:08,402] Trial 158 finished with value: 0.77 and parameters: {'l1_ratio': 0.5277011090862999, 'penalty': 'elasticnet', 'C': 99.29654996396884, 'max_iter': 166, 'solver': 'saga'}. Best is trial 74 with value: 0.8.\n",
      "[I 2024-06-04 23:08:08,880] Trial 159 finished with value: 0.775 and parameters: {'l1_ratio': 0.5538542844013208, 'penalty': 'elasticnet', 'C': 96.9305605365537, 'max_iter': 571, 'solver': 'saga'}. Best is trial 74 with value: 0.8.\n",
      "[I 2024-06-04 23:08:09,303] Trial 160 finished with value: 0.775 and parameters: {'l1_ratio': 0.6293986381352625, 'penalty': 'elasticnet', 'C': 69.57791141157188, 'max_iter': 509, 'solver': 'saga'}. Best is trial 74 with value: 0.8.\n",
      "[I 2024-06-04 23:08:09,765] Trial 161 finished with value: 0.78 and parameters: {'l1_ratio': 0.6275580800840634, 'penalty': 'elasticnet', 'C': 58.43558804919079, 'max_iter': 911, 'solver': 'saga'}. Best is trial 74 with value: 0.8.\n",
      "[I 2024-06-04 23:08:09,984] Trial 162 finished with value: 0.785 and parameters: {'l1_ratio': 0.04544638034145787, 'penalty': 'elasticnet', 'C': 28.10350932732711, 'max_iter': 956, 'solver': 'saga'}. Best is trial 74 with value: 0.8.\n",
      "[I 2024-06-04 23:08:10,514] Trial 163 finished with value: 0.775 and parameters: {'l1_ratio': 0.8902637838909163, 'penalty': 'elasticnet', 'C': 45.57111871104343, 'max_iter': 658, 'solver': 'saga'}. Best is trial 74 with value: 0.8.\n",
      "[I 2024-06-04 23:08:10,716] Trial 164 finished with value: 0.785 and parameters: {'l1_ratio': 0.2773811829811327, 'penalty': 'elasticnet', 'C': 18.820234760778895, 'max_iter': 517, 'solver': 'saga'}. Best is trial 74 with value: 0.8.\n",
      "[I 2024-06-04 23:08:10,862] Trial 165 finished with value: 0.78 and parameters: {'l1_ratio': 0.3533522280260528, 'penalty': 'elasticnet', 'C': 58.369774623968695, 'max_iter': 170, 'solver': 'saga'}. Best is trial 74 with value: 0.8.\n",
      "[I 2024-06-04 23:08:11,444] Trial 166 finished with value: 0.765 and parameters: {'l1_ratio': 0.9743948076661665, 'penalty': 'elasticnet', 'C': 98.6212123405155, 'max_iter': 729, 'solver': 'saga'}. Best is trial 74 with value: 0.8.\n",
      "[I 2024-06-04 23:08:11,780] Trial 167 finished with value: 0.78 and parameters: {'l1_ratio': 0.5360963663441204, 'penalty': 'elasticnet', 'C': 30.95966635246991, 'max_iter': 833, 'solver': 'saga'}. Best is trial 74 with value: 0.8.\n",
      "[I 2024-06-04 23:08:12,097] Trial 168 finished with value: 0.795 and parameters: {'l1_ratio': 0.6847311725538793, 'penalty': 'elasticnet', 'C': 16.270067765095682, 'max_iter': 920, 'solver': 'saga'}. Best is trial 74 with value: 0.8.\n",
      "[I 2024-06-04 23:08:12,699] Trial 169 finished with value: 0.77 and parameters: {'l1_ratio': 0.822537242923169, 'penalty': 'elasticnet', 'C': 94.98049333005949, 'max_iter': 753, 'solver': 'saga'}. Best is trial 74 with value: 0.8.\n",
      "[I 2024-06-04 23:08:13,099] Trial 170 finished with value: 0.78 and parameters: {'l1_ratio': 0.6134151959357899, 'penalty': 'elasticnet', 'C': 41.830121198698976, 'max_iter': 940, 'solver': 'saga'}. Best is trial 74 with value: 0.8.\n",
      "[I 2024-06-04 23:08:13,203] Trial 171 finished with value: 0.78 and parameters: {'l1_ratio': 0.8660638895004084, 'penalty': 'elasticnet', 'C': 4.531414823917879, 'max_iter': 123, 'solver': 'saga'}. Best is trial 74 with value: 0.8.\n",
      "[I 2024-06-04 23:08:13,675] Trial 172 finished with value: 0.78 and parameters: {'l1_ratio': 0.3764633668780496, 'penalty': 'elasticnet', 'C': 81.05722754487547, 'max_iter': 989, 'solver': 'saga'}. Best is trial 74 with value: 0.8.\n",
      "[I 2024-06-04 23:08:14,009] Trial 173 finished with value: 0.78 and parameters: {'l1_ratio': 0.15041689110352818, 'penalty': 'elasticnet', 'C': 59.41713022805999, 'max_iter': 443, 'solver': 'saga'}. Best is trial 74 with value: 0.8.\n",
      "[I 2024-06-04 23:08:14,685] Trial 174 finished with value: 0.765 and parameters: {'l1_ratio': 0.9699143978146032, 'penalty': 'elasticnet', 'C': 84.2134711243395, 'max_iter': 855, 'solver': 'saga'}. Best is trial 74 with value: 0.8.\n",
      "[I 2024-06-04 23:08:15,012] Trial 175 finished with value: 0.775 and parameters: {'l1_ratio': 0.4686931597949703, 'penalty': 'elasticnet', 'C': 41.48780203874314, 'max_iter': 346, 'solver': 'saga'}. Best is trial 74 with value: 0.8.\n",
      "[I 2024-06-04 23:08:15,429] Trial 176 finished with value: 0.78 and parameters: {'l1_ratio': 0.056375496650927115, 'penalty': 'elasticnet', 'C': 86.47359040174277, 'max_iter': 832, 'solver': 'saga'}. Best is trial 74 with value: 0.8.\n",
      "[I 2024-06-04 23:08:15,905] Trial 177 finished with value: 0.765 and parameters: {'l1_ratio': 0.9997176732861306, 'penalty': 'elasticnet', 'C': 99.6637173390198, 'max_iter': 600, 'solver': 'saga'}. Best is trial 74 with value: 0.8.\n",
      "[I 2024-06-04 23:08:16,595] Trial 178 finished with value: 0.77 and parameters: {'l1_ratio': 0.7689874151805105, 'penalty': 'elasticnet', 'C': 94.47712533094398, 'max_iter': 865, 'solver': 'saga'}. Best is trial 74 with value: 0.8.\n",
      "[I 2024-06-04 23:08:16,778] Trial 179 finished with value: 0.78 and parameters: {'l1_ratio': 0.24734810174319766, 'penalty': 'elasticnet', 'C': 45.05990808965625, 'max_iter': 216, 'solver': 'saga'}. Best is trial 74 with value: 0.8.\n",
      "[I 2024-06-04 23:08:17,027] Trial 180 finished with value: 0.77 and parameters: {'l1_ratio': 0.9540510272587224, 'penalty': 'elasticnet', 'C': 60.62140169874349, 'max_iter': 306, 'solver': 'saga'}. Best is trial 74 with value: 0.8.\n",
      "[I 2024-06-04 23:08:17,371] Trial 181 finished with value: 0.78 and parameters: {'l1_ratio': 0.6717006844058567, 'penalty': 'elasticnet', 'C': 61.816642763385, 'max_iter': 422, 'solver': 'saga'}. Best is trial 74 with value: 0.8.\n",
      "[I 2024-06-04 23:08:17,733] Trial 182 finished with value: 0.775 and parameters: {'l1_ratio': 0.11355759219962902, 'penalty': 'elasticnet', 'C': 67.16060382732404, 'max_iter': 568, 'solver': 'saga'}. Best is trial 74 with value: 0.8.\n",
      "[I 2024-06-04 23:08:18,233] Trial 183 finished with value: 0.78 and parameters: {'l1_ratio': 0.7723183917356393, 'penalty': 'elasticnet', 'C': 52.021148476188216, 'max_iter': 867, 'solver': 'saga'}. Best is trial 74 with value: 0.8.\n",
      "[I 2024-06-04 23:08:18,655] Trial 184 finished with value: 0.78 and parameters: {'l1_ratio': 0.5519068387744855, 'penalty': 'elasticnet', 'C': 56.09818777382327, 'max_iter': 889, 'solver': 'saga'}. Best is trial 74 with value: 0.8.\n",
      "[I 2024-06-04 23:08:18,765] Trial 185 finished with value: 0.785 and parameters: {'l1_ratio': 0.40348286621239704, 'penalty': 'elasticnet', 'C': 13.410182692779566, 'max_iter': 125, 'solver': 'saga'}. Best is trial 74 with value: 0.8.\n",
      "[I 2024-06-04 23:08:19,330] Trial 186 finished with value: 0.77 and parameters: {'l1_ratio': 0.755137255673619, 'penalty': 'elasticnet', 'C': 62.034752039832924, 'max_iter': 734, 'solver': 'saga'}. Best is trial 74 with value: 0.8.\n",
      "[I 2024-06-04 23:08:19,430] Trial 187 finished with value: 0.79 and parameters: {'l1_ratio': 0.21296416150891073, 'penalty': 'elasticnet', 'C': 13.645783843921107, 'max_iter': 113, 'solver': 'saga'}. Best is trial 74 with value: 0.8.\n",
      "[I 2024-06-04 23:08:19,893] Trial 188 finished with value: 0.78 and parameters: {'l1_ratio': 0.350587558806597, 'penalty': 'elasticnet', 'C': 58.99586950859476, 'max_iter': 453, 'solver': 'saga'}. Best is trial 74 with value: 0.8.\n",
      "[I 2024-06-04 23:08:20,255] Trial 189 finished with value: 0.775 and parameters: {'l1_ratio': 0.43747492202372906, 'penalty': 'elasticnet', 'C': 90.4168278624299, 'max_iter': 413, 'solver': 'saga'}. Best is trial 74 with value: 0.8.\n",
      "[I 2024-06-04 23:08:20,638] Trial 190 finished with value: 0.775 and parameters: {'l1_ratio': 0.5139894891598108, 'penalty': 'elasticnet', 'C': 78.3674647439869, 'max_iter': 457, 'solver': 'saga'}. Best is trial 74 with value: 0.8.\n",
      "[I 2024-06-04 23:08:21,257] Trial 191 finished with value: 0.77 and parameters: {'l1_ratio': 0.6220867002278735, 'penalty': 'elasticnet', 'C': 86.23774723758704, 'max_iter': 955, 'solver': 'saga'}. Best is trial 74 with value: 0.8.\n",
      "[I 2024-06-04 23:08:21,703] Trial 192 finished with value: 0.78 and parameters: {'l1_ratio': 0.14707348092903794, 'penalty': 'elasticnet', 'C': 92.65949663989782, 'max_iter': 543, 'solver': 'saga'}. Best is trial 74 with value: 0.8.\n",
      "[I 2024-06-04 23:08:22,015] Trial 193 finished with value: 0.78 and parameters: {'l1_ratio': 0.25824438829895835, 'penalty': 'elasticnet', 'C': 45.91898426626374, 'max_iter': 983, 'solver': 'saga'}. Best is trial 74 with value: 0.8.\n",
      "[I 2024-06-04 23:08:22,341] Trial 194 finished with value: 0.78 and parameters: {'l1_ratio': 0.4926180939928696, 'penalty': 'elasticnet', 'C': 32.88187351264794, 'max_iter': 670, 'solver': 'saga'}. Best is trial 74 with value: 0.8.\n",
      "[I 2024-06-04 23:08:22,464] Trial 195 finished with value: 0.795 and parameters: {'l1_ratio': 0.24014561877819307, 'penalty': 'elasticnet', 'C': 7.595574177585305, 'max_iter': 216, 'solver': 'saga'}. Best is trial 74 with value: 0.8.\n",
      "[I 2024-06-04 23:08:22,631] Trial 196 finished with value: 0.79 and parameters: {'l1_ratio': 0.12804583895777244, 'penalty': 'elasticnet', 'C': 15.198750324294311, 'max_iter': 225, 'solver': 'saga'}. Best is trial 74 with value: 0.8.\n",
      "[I 2024-06-04 23:08:22,984] Trial 197 finished with value: 0.795 and parameters: {'l1_ratio': 0.6408747448032146, 'penalty': 'elasticnet', 'C': 18.196189639070493, 'max_iter': 411, 'solver': 'saga'}. Best is trial 74 with value: 0.8.\n",
      "[I 2024-06-04 23:08:23,602] Trial 198 finished with value: 0.77 and parameters: {'l1_ratio': 0.8967884099060118, 'penalty': 'elasticnet', 'C': 47.401424409884605, 'max_iter': 701, 'solver': 'saga'}. Best is trial 74 with value: 0.8.\n",
      "[I 2024-06-04 23:08:23,721] Trial 199 finished with value: 0.785 and parameters: {'l1_ratio': 0.17231987120162984, 'penalty': 'elasticnet', 'C': 19.236978990678992, 'max_iter': 136, 'solver': 'saga'}. Best is trial 74 with value: 0.8.\n"
     ]
    },
    {
     "name": "stdout",
     "output_type": "stream",
     "text": [
      "Best Hyperparameters: {'l1_ratio': 0.09367476782809248, 'penalty': 'elasticnet', 'C': 36.77790314791275, 'max_iter': 338, 'solver': 'saga'}\n",
      "Best Accuracy: 0.8\n"
     ]
    }
   ],
   "source": [
    "# Create a study object and optimize the objective function\n",
    "study = optuna.create_study(direction='maximize', sampler=optuna.samplers.RandomSampler(seed=seed))\n",
    "study.optimize(objective, n_trials=200)\n",
    "\n",
    "# Get the best hyperparameters and accuracy score\n",
    "best_params = study.best_params\n",
    "best_accuracy = study.best_value\n",
    "\n",
    "print(\"Best Hyperparameters:\", best_params)\n",
    "print(\"Best Accuracy:\", best_accuracy)"
   ]
  },
  {
   "cell_type": "code",
   "execution_count": 36,
   "metadata": {},
   "outputs": [
    {
     "data": {
      "text/html": [
       "<div>\n",
       "<style scoped>\n",
       "    .dataframe tbody tr th:only-of-type {\n",
       "        vertical-align: middle;\n",
       "    }\n",
       "\n",
       "    .dataframe tbody tr th {\n",
       "        vertical-align: top;\n",
       "    }\n",
       "\n",
       "    .dataframe thead th {\n",
       "        text-align: right;\n",
       "    }\n",
       "</style>\n",
       "<table border=\"1\" class=\"dataframe\">\n",
       "  <thead>\n",
       "    <tr style=\"text-align: right;\">\n",
       "      <th></th>\n",
       "      <th>number</th>\n",
       "      <th>value</th>\n",
       "      <th>datetime_start</th>\n",
       "      <th>datetime_complete</th>\n",
       "      <th>duration</th>\n",
       "      <th>params_C</th>\n",
       "      <th>params_l1_ratio</th>\n",
       "      <th>params_max_iter</th>\n",
       "      <th>params_penalty</th>\n",
       "      <th>params_solver</th>\n",
       "      <th>state</th>\n",
       "    </tr>\n",
       "  </thead>\n",
       "  <tbody>\n",
       "    <tr>\n",
       "      <th>152</th>\n",
       "      <td>152</td>\n",
       "      <td>0.800</td>\n",
       "      <td>2024-06-04 23:08:06.618276</td>\n",
       "      <td>2024-06-04 23:08:06.751228</td>\n",
       "      <td>0 days 00:00:00.132952</td>\n",
       "      <td>46.871378</td>\n",
       "      <td>0.011354</td>\n",
       "      <td>150</td>\n",
       "      <td>elasticnet</td>\n",
       "      <td>saga</td>\n",
       "      <td>COMPLETE</td>\n",
       "    </tr>\n",
       "    <tr>\n",
       "      <th>74</th>\n",
       "      <td>74</td>\n",
       "      <td>0.800</td>\n",
       "      <td>2024-06-04 23:07:41.204366</td>\n",
       "      <td>2024-06-04 23:07:41.462353</td>\n",
       "      <td>0 days 00:00:00.257987</td>\n",
       "      <td>36.777903</td>\n",
       "      <td>0.093675</td>\n",
       "      <td>338</td>\n",
       "      <td>elasticnet</td>\n",
       "      <td>saga</td>\n",
       "      <td>COMPLETE</td>\n",
       "    </tr>\n",
       "    <tr>\n",
       "      <th>123</th>\n",
       "      <td>123</td>\n",
       "      <td>0.795</td>\n",
       "      <td>2024-06-04 23:07:57.732003</td>\n",
       "      <td>2024-06-04 23:07:57.834992</td>\n",
       "      <td>0 days 00:00:00.102989</td>\n",
       "      <td>10.086792</td>\n",
       "      <td>0.069361</td>\n",
       "      <td>116</td>\n",
       "      <td>elasticnet</td>\n",
       "      <td>saga</td>\n",
       "      <td>COMPLETE</td>\n",
       "    </tr>\n",
       "    <tr>\n",
       "      <th>111</th>\n",
       "      <td>111</td>\n",
       "      <td>0.795</td>\n",
       "      <td>2024-06-04 23:07:54.271297</td>\n",
       "      <td>2024-06-04 23:07:54.353285</td>\n",
       "      <td>0 days 00:00:00.081988</td>\n",
       "      <td>4.609804</td>\n",
       "      <td>0.116073</td>\n",
       "      <td>136</td>\n",
       "      <td>elasticnet</td>\n",
       "      <td>saga</td>\n",
       "      <td>COMPLETE</td>\n",
       "    </tr>\n",
       "    <tr>\n",
       "      <th>157</th>\n",
       "      <td>157</td>\n",
       "      <td>0.795</td>\n",
       "      <td>2024-06-04 23:08:07.803177</td>\n",
       "      <td>2024-06-04 23:08:08.256140</td>\n",
       "      <td>0 days 00:00:00.452963</td>\n",
       "      <td>4.325560</td>\n",
       "      <td>0.969879</td>\n",
       "      <td>902</td>\n",
       "      <td>elasticnet</td>\n",
       "      <td>saga</td>\n",
       "      <td>COMPLETE</td>\n",
       "    </tr>\n",
       "    <tr>\n",
       "      <th>48</th>\n",
       "      <td>48</td>\n",
       "      <td>0.795</td>\n",
       "      <td>2024-06-04 23:07:33.781441</td>\n",
       "      <td>2024-06-04 23:07:33.860443</td>\n",
       "      <td>0 days 00:00:00.079002</td>\n",
       "      <td>3.698326</td>\n",
       "      <td>0.284840</td>\n",
       "      <td>649</td>\n",
       "      <td>elasticnet</td>\n",
       "      <td>saga</td>\n",
       "      <td>COMPLETE</td>\n",
       "    </tr>\n",
       "    <tr>\n",
       "      <th>36</th>\n",
       "      <td>36</td>\n",
       "      <td>0.795</td>\n",
       "      <td>2024-06-04 23:07:29.793392</td>\n",
       "      <td>2024-06-04 23:07:29.916375</td>\n",
       "      <td>0 days 00:00:00.122983</td>\n",
       "      <td>7.707221</td>\n",
       "      <td>0.228798</td>\n",
       "      <td>361</td>\n",
       "      <td>elasticnet</td>\n",
       "      <td>saga</td>\n",
       "      <td>COMPLETE</td>\n",
       "    </tr>\n",
       "    <tr>\n",
       "      <th>168</th>\n",
       "      <td>168</td>\n",
       "      <td>0.795</td>\n",
       "      <td>2024-06-04 23:08:11.780366</td>\n",
       "      <td>2024-06-04 23:08:12.097339</td>\n",
       "      <td>0 days 00:00:00.316973</td>\n",
       "      <td>16.270068</td>\n",
       "      <td>0.684731</td>\n",
       "      <td>920</td>\n",
       "      <td>elasticnet</td>\n",
       "      <td>saga</td>\n",
       "      <td>COMPLETE</td>\n",
       "    </tr>\n",
       "    <tr>\n",
       "      <th>58</th>\n",
       "      <td>58</td>\n",
       "      <td>0.795</td>\n",
       "      <td>2024-06-04 23:07:36.095762</td>\n",
       "      <td>2024-06-04 23:07:36.406766</td>\n",
       "      <td>0 days 00:00:00.311004</td>\n",
       "      <td>17.444899</td>\n",
       "      <td>0.645173</td>\n",
       "      <td>722</td>\n",
       "      <td>elasticnet</td>\n",
       "      <td>saga</td>\n",
       "      <td>COMPLETE</td>\n",
       "    </tr>\n",
       "    <tr>\n",
       "      <th>21</th>\n",
       "      <td>21</td>\n",
       "      <td>0.795</td>\n",
       "      <td>2024-06-04 23:07:25.896712</td>\n",
       "      <td>2024-06-04 23:07:26.169686</td>\n",
       "      <td>0 days 00:00:00.272974</td>\n",
       "      <td>28.100642</td>\n",
       "      <td>0.356753</td>\n",
       "      <td>588</td>\n",
       "      <td>elasticnet</td>\n",
       "      <td>saga</td>\n",
       "      <td>COMPLETE</td>\n",
       "    </tr>\n",
       "  </tbody>\n",
       "</table>\n",
       "</div>"
      ],
      "text/plain": [
       "     number  value             datetime_start          datetime_complete  \\\n",
       "152     152  0.800 2024-06-04 23:08:06.618276 2024-06-04 23:08:06.751228   \n",
       "74       74  0.800 2024-06-04 23:07:41.204366 2024-06-04 23:07:41.462353   \n",
       "123     123  0.795 2024-06-04 23:07:57.732003 2024-06-04 23:07:57.834992   \n",
       "111     111  0.795 2024-06-04 23:07:54.271297 2024-06-04 23:07:54.353285   \n",
       "157     157  0.795 2024-06-04 23:08:07.803177 2024-06-04 23:08:08.256140   \n",
       "48       48  0.795 2024-06-04 23:07:33.781441 2024-06-04 23:07:33.860443   \n",
       "36       36  0.795 2024-06-04 23:07:29.793392 2024-06-04 23:07:29.916375   \n",
       "168     168  0.795 2024-06-04 23:08:11.780366 2024-06-04 23:08:12.097339   \n",
       "58       58  0.795 2024-06-04 23:07:36.095762 2024-06-04 23:07:36.406766   \n",
       "21       21  0.795 2024-06-04 23:07:25.896712 2024-06-04 23:07:26.169686   \n",
       "\n",
       "                  duration   params_C  params_l1_ratio  params_max_iter  \\\n",
       "152 0 days 00:00:00.132952  46.871378         0.011354              150   \n",
       "74  0 days 00:00:00.257987  36.777903         0.093675              338   \n",
       "123 0 days 00:00:00.102989  10.086792         0.069361              116   \n",
       "111 0 days 00:00:00.081988   4.609804         0.116073              136   \n",
       "157 0 days 00:00:00.452963   4.325560         0.969879              902   \n",
       "48  0 days 00:00:00.079002   3.698326         0.284840              649   \n",
       "36  0 days 00:00:00.122983   7.707221         0.228798              361   \n",
       "168 0 days 00:00:00.316973  16.270068         0.684731              920   \n",
       "58  0 days 00:00:00.311004  17.444899         0.645173              722   \n",
       "21  0 days 00:00:00.272974  28.100642         0.356753              588   \n",
       "\n",
       "    params_penalty params_solver     state  \n",
       "152     elasticnet          saga  COMPLETE  \n",
       "74      elasticnet          saga  COMPLETE  \n",
       "123     elasticnet          saga  COMPLETE  \n",
       "111     elasticnet          saga  COMPLETE  \n",
       "157     elasticnet          saga  COMPLETE  \n",
       "48      elasticnet          saga  COMPLETE  \n",
       "36      elasticnet          saga  COMPLETE  \n",
       "168     elasticnet          saga  COMPLETE  \n",
       "58      elasticnet          saga  COMPLETE  \n",
       "21      elasticnet          saga  COMPLETE  "
      ]
     },
     "execution_count": 36,
     "metadata": {},
     "output_type": "execute_result"
    }
   ],
   "source": [
    "# Get best trials\n",
    "trials_OTP3 = study.trials_dataframe()\n",
    "# Sort the dataframe by value (accuracy) in descending order\n",
    "top_trials_OTP3 = trials_OTP3.sort_values(by='value', ascending=False).head(10)\n",
    "top_trials_OTP3"
   ]
  },
  {
   "cell_type": "code",
   "execution_count": 37,
   "metadata": {},
   "outputs": [
    {
     "name": "stdout",
     "output_type": "stream",
     "text": [
      "Metrics for LR_OPT3_best:\n",
      "Accuracy: 0.8000\n",
      "Weighted F1: 0.7877\n",
      "Weighted Precision: 0.7828\n",
      "Weighted Recall: 0.8000\n",
      "Macro-Averaged Precision: 0.5377\n",
      "Macro-Averaged Recall: 0.5369\n",
      "F1: [0.         0.83606557 0.76821192]\n",
      "Precision: [0.         0.78461538 0.82857143]\n",
      "classification report\n",
      "              precision    recall  f1-score   support\n",
      "\n",
      "     Class 0       0.00      0.00      0.00         5\n",
      "     Class 1       0.78      0.89      0.84       114\n",
      "     Class 2       0.83      0.72      0.77        81\n",
      "\n",
      "    accuracy                           0.80       200\n",
      "   macro avg       0.54      0.54      0.53       200\n",
      "weighted avg       0.78      0.80      0.79       200\n",
      "\n",
      "Confusion Matrix\n"
     ]
    },
    {
     "data": {
      "image/png": "[encoded data removed]",
      "text/plain": [
       "<Figure size 432x288 with 2 Axes>"
      ]
     },
     "metadata": {
      "needs_background": "light"
     },
     "output_type": "display_data"
    }
   ],
   "source": [
    "best_trial = study.best_trial\n",
    "best_model = LogisticRegression(**best_trial.params, random_state=seed)\n",
    "best_model.fit(X_train, y_train)\n",
    "\n",
    "predictions_opt3 = best_model.predict(X_test)\n",
    "\n",
    "model_metrics = pd.concat([model_metrics, calculate_metrics('LR_OPT3_best', y_test, predictions_opt3)])"
   ]
  },
  {
   "cell_type": "markdown",
   "metadata": {},
   "source": [
    "end"
   ]
  },
  {
   "cell_type": "code",
   "execution_count": 38,
   "metadata": {},
   "outputs": [
    {
     "data": {
      "text/html": [
       "<div>\n",
       "<style scoped>\n",
       "    .dataframe tbody tr th:only-of-type {\n",
       "        vertical-align: middle;\n",
       "    }\n",
       "\n",
       "    .dataframe tbody tr th {\n",
       "        vertical-align: top;\n",
       "    }\n",
       "\n",
       "    .dataframe thead th {\n",
       "        text-align: right;\n",
       "    }\n",
       "</style>\n",
       "<table border=\"1\" class=\"dataframe\">\n",
       "  <thead>\n",
       "    <tr style=\"text-align: right;\">\n",
       "      <th></th>\n",
       "      <th>Accuracy</th>\n",
       "      <th>Weighted F1</th>\n",
       "      <th>Weighted Precision</th>\n",
       "      <th>Weighted Recall</th>\n",
       "      <th>Macro-Averaged Precision</th>\n",
       "      <th>Macro-Averaged Recall</th>\n",
       "      <th>F1</th>\n",
       "      <th>Precision</th>\n",
       "    </tr>\n",
       "  </thead>\n",
       "  <tbody>\n",
       "    <tr>\n",
       "      <th>LR_original</th>\n",
       "      <td>0.765</td>\n",
       "      <td>0.746490</td>\n",
       "      <td>0.762781</td>\n",
       "      <td>0.765</td>\n",
       "      <td>0.528527</td>\n",
       "      <td>0.503357</td>\n",
       "      <td>[0.         0.81853282 0.69117647]</td>\n",
       "      <td>[0.         0.73103448 0.85454545]</td>\n",
       "    </tr>\n",
       "    <tr>\n",
       "      <th>LR_CV1_best</th>\n",
       "      <td>0.780</td>\n",
       "      <td>0.767610</td>\n",
       "      <td>0.762462</td>\n",
       "      <td>0.780</td>\n",
       "      <td>0.523077</td>\n",
       "      <td>0.522850</td>\n",
       "      <td>[0.         0.81967213 0.74172185]</td>\n",
       "      <td>[0.         0.76923077 0.8       ]</td>\n",
       "    </tr>\n",
       "    <tr>\n",
       "      <th>LR_skf_best</th>\n",
       "      <td>0.790</td>\n",
       "      <td>0.774471</td>\n",
       "      <td>0.782571</td>\n",
       "      <td>0.790</td>\n",
       "      <td>0.541270</td>\n",
       "      <td>0.523933</td>\n",
       "      <td>[0.         0.83464567 0.73758865]</td>\n",
       "      <td>[0.         0.75714286 0.86666667]</td>\n",
       "    </tr>\n",
       "    <tr>\n",
       "      <th>LR_OPT1_best</th>\n",
       "      <td>0.805</td>\n",
       "      <td>0.792465</td>\n",
       "      <td>0.788603</td>\n",
       "      <td>0.805</td>\n",
       "      <td>0.542280</td>\n",
       "      <td>0.539853</td>\n",
       "      <td>[0.         0.84081633 0.77333333]</td>\n",
       "      <td>[0.         0.78625954 0.84057971]</td>\n",
       "    </tr>\n",
       "    <tr>\n",
       "      <th>LR_OPT2_best</th>\n",
       "      <td>0.800</td>\n",
       "      <td>0.786041</td>\n",
       "      <td>0.788120</td>\n",
       "      <td>0.800</td>\n",
       "      <td>0.543811</td>\n",
       "      <td>0.533355</td>\n",
       "      <td>[0.         0.84       0.75862069]</td>\n",
       "      <td>[0.         0.77205882 0.859375  ]</td>\n",
       "    </tr>\n",
       "    <tr>\n",
       "      <th>LR_OPT3_best</th>\n",
       "      <td>0.800</td>\n",
       "      <td>0.787683</td>\n",
       "      <td>0.782802</td>\n",
       "      <td>0.800</td>\n",
       "      <td>0.537729</td>\n",
       "      <td>0.536929</td>\n",
       "      <td>[0.         0.83606557 0.76821192]</td>\n",
       "      <td>[0.         0.78461538 0.82857143]</td>\n",
       "    </tr>\n",
       "  </tbody>\n",
       "</table>\n",
       "</div>"
      ],
      "text/plain": [
       "              Accuracy  Weighted F1  Weighted Precision  Weighted Recall  \\\n",
       "LR_original      0.765     0.746490            0.762781            0.765   \n",
       "LR_CV1_best      0.780     0.767610            0.762462            0.780   \n",
       "LR_skf_best      0.790     0.774471            0.782571            0.790   \n",
       "LR_OPT1_best     0.805     0.792465            0.788603            0.805   \n",
       "LR_OPT2_best     0.800     0.786041            0.788120            0.800   \n",
       "LR_OPT3_best     0.800     0.787683            0.782802            0.800   \n",
       "\n",
       "              Macro-Averaged Precision  Macro-Averaged Recall  \\\n",
       "LR_original                   0.528527               0.503357   \n",
       "LR_CV1_best                   0.523077               0.522850   \n",
       "LR_skf_best                   0.541270               0.523933   \n",
       "LR_OPT1_best                  0.542280               0.539853   \n",
       "LR_OPT2_best                  0.543811               0.533355   \n",
       "LR_OPT3_best                  0.537729               0.536929   \n",
       "\n",
       "                                              F1  \\\n",
       "LR_original   [0.         0.81853282 0.69117647]   \n",
       "LR_CV1_best   [0.         0.81967213 0.74172185]   \n",
       "LR_skf_best   [0.         0.83464567 0.73758865]   \n",
       "LR_OPT1_best  [0.         0.84081633 0.77333333]   \n",
       "LR_OPT2_best  [0.         0.84       0.75862069]   \n",
       "LR_OPT3_best  [0.         0.83606557 0.76821192]   \n",
       "\n",
       "                                       Precision  \n",
       "LR_original   [0.         0.73103448 0.85454545]  \n",
       "LR_CV1_best   [0.         0.76923077 0.8       ]  \n",
       "LR_skf_best   [0.         0.75714286 0.86666667]  \n",
       "LR_OPT1_best  [0.         0.78625954 0.84057971]  \n",
       "LR_OPT2_best  [0.         0.77205882 0.859375  ]  \n",
       "LR_OPT3_best  [0.         0.78461538 0.82857143]  "
      ]
     },
     "execution_count": 38,
     "metadata": {},
     "output_type": "execute_result"
    }
   ],
   "source": [
    "model_metrics"
   ]
  }
 ],
 "metadata": {
  "kernelspec": {
   "display_name": "Python 3",
   "language": "python",
   "name": "python3"
  },
  "language_info": {
   "codemirror_mode": {
    "name": "ipython",
    "version": 3
   },
   "file_extension": ".py",
   "mimetype": "text/x-python",
   "name": "python",
   "nbconvert_exporter": "python",
   "pygments_lexer": "ipython3",
   "version": "3.10.11"
  }
 },
 "nbformat": 4,
 "nbformat_minor": 2
}
