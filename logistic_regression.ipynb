{
 "cells": [
  {
   "cell_type": "markdown",
   "metadata": {},
   "source": [
    "## Logistic Regression Implementation on (scaled) non-reduced dataset"
   ]
  },
  {
   "cell_type": "markdown",
   "metadata": {},
   "source": [
    "Imports"
   ]
  },
  {
   "cell_type": "code",
   "execution_count": 23,
   "metadata": {},
   "outputs": [],
   "source": [
    "# Utilities\n",
    "import pandas as pd\n",
    "import warnings\n",
    "import matplotlib as plt\n",
    "\n",
    "# Models\n",
    "import optuna\n",
    "from sklearn.model_selection import train_test_split, cross_val_score\n",
    "from sklearn.exceptions import ConvergenceWarning\n",
    "from sklearn.ensemble import RandomForestClassifier\n",
    "from sklearn.linear_model import LogisticRegression\n",
    "from sklearn.model_selection import GridSearchCV\n",
    "from sklearn.metrics import accuracy_score, f1_score"
   ]
  },
  {
   "cell_type": "markdown",
   "metadata": {},
   "source": [
    "Set random seed for reproductibility"
   ]
  },
  {
   "cell_type": "code",
   "execution_count": 2,
   "metadata": {},
   "outputs": [],
   "source": [
    "seed = 42"
   ]
  },
  {
   "cell_type": "markdown",
   "metadata": {},
   "source": [
    "Read clean (scaled data)"
   ]
  },
  {
   "cell_type": "code",
   "execution_count": 3,
   "metadata": {},
   "outputs": [],
   "source": [
    "df_scaled = pd.read_csv('CleanedData/dataset_preprocessed.csv')"
   ]
  },
  {
   "cell_type": "markdown",
   "metadata": {},
   "source": [
    "Take sample for (initial) tests"
   ]
  },
  {
   "cell_type": "code",
   "execution_count": 4,
   "metadata": {},
   "outputs": [],
   "source": [
    "df_scaled_sample = df_scaled.sample(n=1000, random_state=seed)"
   ]
  },
  {
   "cell_type": "markdown",
   "metadata": {},
   "source": [
    "Train-Test Split"
   ]
  },
  {
   "cell_type": "code",
   "execution_count": 5,
   "metadata": {},
   "outputs": [],
   "source": [
    "test_size = 0.2\n",
    "X_train, X_test, y_train, y_test = train_test_split(\n",
    "    df_scaled_sample.drop('averageRating', axis=1), \n",
    "    df_scaled_sample['averageRating'], test_size=test_size, \n",
    "    random_state=seed\n",
    ")"
   ]
  },
  {
   "cell_type": "markdown",
   "metadata": {},
   "source": [
    "Model fit"
   ]
  },
  {
   "cell_type": "code",
   "execution_count": 7,
   "metadata": {},
   "outputs": [
    {
     "data": {
      "text/html": [
       "<style>#sk-container-id-1 {\n",
       "  /* Definition of color scheme common for light and dark mode */\n",
       "  --sklearn-color-text: black;\n",
       "  --sklearn-color-line: gray;\n",
       "  /* Definition of color scheme for unfitted estimators */\n",
       "  --sklearn-color-unfitted-level-0: #fff5e6;\n",
       "  --sklearn-color-unfitted-level-1: #f6e4d2;\n",
       "  --sklearn-color-unfitted-level-2: #ffe0b3;\n",
       "  --sklearn-color-unfitted-level-3: chocolate;\n",
       "  /* Definition of color scheme for fitted estimators */\n",
       "  --sklearn-color-fitted-level-0: #f0f8ff;\n",
       "  --sklearn-color-fitted-level-1: #d4ebff;\n",
       "  --sklearn-color-fitted-level-2: #b3dbfd;\n",
       "  --sklearn-color-fitted-level-3: cornflowerblue;\n",
       "\n",
       "  /* Specific color for light theme */\n",
       "  --sklearn-color-text-on-default-background: var(--sg-text-color, var(--theme-code-foreground, var(--jp-content-font-color1, black)));\n",
       "  --sklearn-color-background: var(--sg-background-color, var(--theme-background, var(--jp-layout-color0, white)));\n",
       "  --sklearn-color-border-box: var(--sg-text-color, var(--theme-code-foreground, var(--jp-content-font-color1, black)));\n",
       "  --sklearn-color-icon: #696969;\n",
       "\n",
       "  @media (prefers-color-scheme: dark) {\n",
       "    /* Redefinition of color scheme for dark theme */\n",
       "    --sklearn-color-text-on-default-background: var(--sg-text-color, var(--theme-code-foreground, var(--jp-content-font-color1, white)));\n",
       "    --sklearn-color-background: var(--sg-background-color, var(--theme-background, var(--jp-layout-color0, #111)));\n",
       "    --sklearn-color-border-box: var(--sg-text-color, var(--theme-code-foreground, var(--jp-content-font-color1, white)));\n",
       "    --sklearn-color-icon: #878787;\n",
       "  }\n",
       "}\n",
       "\n",
       "#sk-container-id-1 {\n",
       "  color: var(--sklearn-color-text);\n",
       "}\n",
       "\n",
       "#sk-container-id-1 pre {\n",
       "  padding: 0;\n",
       "}\n",
       "\n",
       "#sk-container-id-1 input.sk-hidden--visually {\n",
       "  border: 0;\n",
       "  clip: rect(1px 1px 1px 1px);\n",
       "  clip: rect(1px, 1px, 1px, 1px);\n",
       "  height: 1px;\n",
       "  margin: -1px;\n",
       "  overflow: hidden;\n",
       "  padding: 0;\n",
       "  position: absolute;\n",
       "  width: 1px;\n",
       "}\n",
       "\n",
       "#sk-container-id-1 div.sk-dashed-wrapped {\n",
       "  border: 1px dashed var(--sklearn-color-line);\n",
       "  margin: 0 0.4em 0.5em 0.4em;\n",
       "  box-sizing: border-box;\n",
       "  padding-bottom: 0.4em;\n",
       "  background-color: var(--sklearn-color-background);\n",
       "}\n",
       "\n",
       "#sk-container-id-1 div.sk-container {\n",
       "  /* jupyter's `normalize.less` sets `[hidden] { display: none; }`\n",
       "     but bootstrap.min.css set `[hidden] { display: none !important; }`\n",
       "     so we also need the `!important` here to be able to override the\n",
       "     default hidden behavior on the sphinx rendered scikit-learn.org.\n",
       "     See: https://github.com/scikit-learn/scikit-learn/issues/21755 */\n",
       "  display: inline-block !important;\n",
       "  position: relative;\n",
       "}\n",
       "\n",
       "#sk-container-id-1 div.sk-text-repr-fallback {\n",
       "  display: none;\n",
       "}\n",
       "\n",
       "div.sk-parallel-item,\n",
       "div.sk-serial,\n",
       "div.sk-item {\n",
       "  /* draw centered vertical line to link estimators */\n",
       "  background-image: linear-gradient(var(--sklearn-color-text-on-default-background), var(--sklearn-color-text-on-default-background));\n",
       "  background-size: 2px 100%;\n",
       "  background-repeat: no-repeat;\n",
       "  background-position: center center;\n",
       "}\n",
       "\n",
       "/* Parallel-specific style estimator block */\n",
       "\n",
       "#sk-container-id-1 div.sk-parallel-item::after {\n",
       "  content: \"\";\n",
       "  width: 100%;\n",
       "  border-bottom: 2px solid var(--sklearn-color-text-on-default-background);\n",
       "  flex-grow: 1;\n",
       "}\n",
       "\n",
       "#sk-container-id-1 div.sk-parallel {\n",
       "  display: flex;\n",
       "  align-items: stretch;\n",
       "  justify-content: center;\n",
       "  background-color: var(--sklearn-color-background);\n",
       "  position: relative;\n",
       "}\n",
       "\n",
       "#sk-container-id-1 div.sk-parallel-item {\n",
       "  display: flex;\n",
       "  flex-direction: column;\n",
       "}\n",
       "\n",
       "#sk-container-id-1 div.sk-parallel-item:first-child::after {\n",
       "  align-self: flex-end;\n",
       "  width: 50%;\n",
       "}\n",
       "\n",
       "#sk-container-id-1 div.sk-parallel-item:last-child::after {\n",
       "  align-self: flex-start;\n",
       "  width: 50%;\n",
       "}\n",
       "\n",
       "#sk-container-id-1 div.sk-parallel-item:only-child::after {\n",
       "  width: 0;\n",
       "}\n",
       "\n",
       "/* Serial-specific style estimator block */\n",
       "\n",
       "#sk-container-id-1 div.sk-serial {\n",
       "  display: flex;\n",
       "  flex-direction: column;\n",
       "  align-items: center;\n",
       "  background-color: var(--sklearn-color-background);\n",
       "  padding-right: 1em;\n",
       "  padding-left: 1em;\n",
       "}\n",
       "\n",
       "\n",
       "/* Toggleable style: style used for estimator/Pipeline/ColumnTransformer box that is\n",
       "clickable and can be expanded/collapsed.\n",
       "- Pipeline and ColumnTransformer use this feature and define the default style\n",
       "- Estimators will overwrite some part of the style using the `sk-estimator` class\n",
       "*/\n",
       "\n",
       "/* Pipeline and ColumnTransformer style (default) */\n",
       "\n",
       "#sk-container-id-1 div.sk-toggleable {\n",
       "  /* Default theme specific background. It is overwritten whether we have a\n",
       "  specific estimator or a Pipeline/ColumnTransformer */\n",
       "  background-color: var(--sklearn-color-background);\n",
       "}\n",
       "\n",
       "/* Toggleable label */\n",
       "#sk-container-id-1 label.sk-toggleable__label {\n",
       "  cursor: pointer;\n",
       "  display: block;\n",
       "  width: 100%;\n",
       "  margin-bottom: 0;\n",
       "  padding: 0.5em;\n",
       "  box-sizing: border-box;\n",
       "  text-align: center;\n",
       "}\n",
       "\n",
       "#sk-container-id-1 label.sk-toggleable__label-arrow:before {\n",
       "  /* Arrow on the left of the label */\n",
       "  content: \"▸\";\n",
       "  float: left;\n",
       "  margin-right: 0.25em;\n",
       "  color: var(--sklearn-color-icon);\n",
       "}\n",
       "\n",
       "#sk-container-id-1 label.sk-toggleable__label-arrow:hover:before {\n",
       "  color: var(--sklearn-color-text);\n",
       "}\n",
       "\n",
       "/* Toggleable content - dropdown */\n",
       "\n",
       "#sk-container-id-1 div.sk-toggleable__content {\n",
       "  max-height: 0;\n",
       "  max-width: 0;\n",
       "  overflow: hidden;\n",
       "  text-align: left;\n",
       "  /* unfitted */\n",
       "  background-color: var(--sklearn-color-unfitted-level-0);\n",
       "}\n",
       "\n",
       "#sk-container-id-1 div.sk-toggleable__content.fitted {\n",
       "  /* fitted */\n",
       "  background-color: var(--sklearn-color-fitted-level-0);\n",
       "}\n",
       "\n",
       "#sk-container-id-1 div.sk-toggleable__content pre {\n",
       "  margin: 0.2em;\n",
       "  border-radius: 0.25em;\n",
       "  color: var(--sklearn-color-text);\n",
       "  /* unfitted */\n",
       "  background-color: var(--sklearn-color-unfitted-level-0);\n",
       "}\n",
       "\n",
       "#sk-container-id-1 div.sk-toggleable__content.fitted pre {\n",
       "  /* unfitted */\n",
       "  background-color: var(--sklearn-color-fitted-level-0);\n",
       "}\n",
       "\n",
       "#sk-container-id-1 input.sk-toggleable__control:checked~div.sk-toggleable__content {\n",
       "  /* Expand drop-down */\n",
       "  max-height: 200px;\n",
       "  max-width: 100%;\n",
       "  overflow: auto;\n",
       "}\n",
       "\n",
       "#sk-container-id-1 input.sk-toggleable__control:checked~label.sk-toggleable__label-arrow:before {\n",
       "  content: \"▾\";\n",
       "}\n",
       "\n",
       "/* Pipeline/ColumnTransformer-specific style */\n",
       "\n",
       "#sk-container-id-1 div.sk-label input.sk-toggleable__control:checked~label.sk-toggleable__label {\n",
       "  color: var(--sklearn-color-text);\n",
       "  background-color: var(--sklearn-color-unfitted-level-2);\n",
       "}\n",
       "\n",
       "#sk-container-id-1 div.sk-label.fitted input.sk-toggleable__control:checked~label.sk-toggleable__label {\n",
       "  background-color: var(--sklearn-color-fitted-level-2);\n",
       "}\n",
       "\n",
       "/* Estimator-specific style */\n",
       "\n",
       "/* Colorize estimator box */\n",
       "#sk-container-id-1 div.sk-estimator input.sk-toggleable__control:checked~label.sk-toggleable__label {\n",
       "  /* unfitted */\n",
       "  background-color: var(--sklearn-color-unfitted-level-2);\n",
       "}\n",
       "\n",
       "#sk-container-id-1 div.sk-estimator.fitted input.sk-toggleable__control:checked~label.sk-toggleable__label {\n",
       "  /* fitted */\n",
       "  background-color: var(--sklearn-color-fitted-level-2);\n",
       "}\n",
       "\n",
       "#sk-container-id-1 div.sk-label label.sk-toggleable__label,\n",
       "#sk-container-id-1 div.sk-label label {\n",
       "  /* The background is the default theme color */\n",
       "  color: var(--sklearn-color-text-on-default-background);\n",
       "}\n",
       "\n",
       "/* On hover, darken the color of the background */\n",
       "#sk-container-id-1 div.sk-label:hover label.sk-toggleable__label {\n",
       "  color: var(--sklearn-color-text);\n",
       "  background-color: var(--sklearn-color-unfitted-level-2);\n",
       "}\n",
       "\n",
       "/* Label box, darken color on hover, fitted */\n",
       "#sk-container-id-1 div.sk-label.fitted:hover label.sk-toggleable__label.fitted {\n",
       "  color: var(--sklearn-color-text);\n",
       "  background-color: var(--sklearn-color-fitted-level-2);\n",
       "}\n",
       "\n",
       "/* Estimator label */\n",
       "\n",
       "#sk-container-id-1 div.sk-label label {\n",
       "  font-family: monospace;\n",
       "  font-weight: bold;\n",
       "  display: inline-block;\n",
       "  line-height: 1.2em;\n",
       "}\n",
       "\n",
       "#sk-container-id-1 div.sk-label-container {\n",
       "  text-align: center;\n",
       "}\n",
       "\n",
       "/* Estimator-specific */\n",
       "#sk-container-id-1 div.sk-estimator {\n",
       "  font-family: monospace;\n",
       "  border: 1px dotted var(--sklearn-color-border-box);\n",
       "  border-radius: 0.25em;\n",
       "  box-sizing: border-box;\n",
       "  margin-bottom: 0.5em;\n",
       "  /* unfitted */\n",
       "  background-color: var(--sklearn-color-unfitted-level-0);\n",
       "}\n",
       "\n",
       "#sk-container-id-1 div.sk-estimator.fitted {\n",
       "  /* fitted */\n",
       "  background-color: var(--sklearn-color-fitted-level-0);\n",
       "}\n",
       "\n",
       "/* on hover */\n",
       "#sk-container-id-1 div.sk-estimator:hover {\n",
       "  /* unfitted */\n",
       "  background-color: var(--sklearn-color-unfitted-level-2);\n",
       "}\n",
       "\n",
       "#sk-container-id-1 div.sk-estimator.fitted:hover {\n",
       "  /* fitted */\n",
       "  background-color: var(--sklearn-color-fitted-level-2);\n",
       "}\n",
       "\n",
       "/* Specification for estimator info (e.g. \"i\" and \"?\") */\n",
       "\n",
       "/* Common style for \"i\" and \"?\" */\n",
       "\n",
       ".sk-estimator-doc-link,\n",
       "a:link.sk-estimator-doc-link,\n",
       "a:visited.sk-estimator-doc-link {\n",
       "  float: right;\n",
       "  font-size: smaller;\n",
       "  line-height: 1em;\n",
       "  font-family: monospace;\n",
       "  background-color: var(--sklearn-color-background);\n",
       "  border-radius: 1em;\n",
       "  height: 1em;\n",
       "  width: 1em;\n",
       "  text-decoration: none !important;\n",
       "  margin-left: 1ex;\n",
       "  /* unfitted */\n",
       "  border: var(--sklearn-color-unfitted-level-1) 1pt solid;\n",
       "  color: var(--sklearn-color-unfitted-level-1);\n",
       "}\n",
       "\n",
       ".sk-estimator-doc-link.fitted,\n",
       "a:link.sk-estimator-doc-link.fitted,\n",
       "a:visited.sk-estimator-doc-link.fitted {\n",
       "  /* fitted */\n",
       "  border: var(--sklearn-color-fitted-level-1) 1pt solid;\n",
       "  color: var(--sklearn-color-fitted-level-1);\n",
       "}\n",
       "\n",
       "/* On hover */\n",
       "div.sk-estimator:hover .sk-estimator-doc-link:hover,\n",
       ".sk-estimator-doc-link:hover,\n",
       "div.sk-label-container:hover .sk-estimator-doc-link:hover,\n",
       ".sk-estimator-doc-link:hover {\n",
       "  /* unfitted */\n",
       "  background-color: var(--sklearn-color-unfitted-level-3);\n",
       "  color: var(--sklearn-color-background);\n",
       "  text-decoration: none;\n",
       "}\n",
       "\n",
       "div.sk-estimator.fitted:hover .sk-estimator-doc-link.fitted:hover,\n",
       ".sk-estimator-doc-link.fitted:hover,\n",
       "div.sk-label-container:hover .sk-estimator-doc-link.fitted:hover,\n",
       ".sk-estimator-doc-link.fitted:hover {\n",
       "  /* fitted */\n",
       "  background-color: var(--sklearn-color-fitted-level-3);\n",
       "  color: var(--sklearn-color-background);\n",
       "  text-decoration: none;\n",
       "}\n",
       "\n",
       "/* Span, style for the box shown on hovering the info icon */\n",
       ".sk-estimator-doc-link span {\n",
       "  display: none;\n",
       "  z-index: 9999;\n",
       "  position: relative;\n",
       "  font-weight: normal;\n",
       "  right: .2ex;\n",
       "  padding: .5ex;\n",
       "  margin: .5ex;\n",
       "  width: min-content;\n",
       "  min-width: 20ex;\n",
       "  max-width: 50ex;\n",
       "  color: var(--sklearn-color-text);\n",
       "  box-shadow: 2pt 2pt 4pt #999;\n",
       "  /* unfitted */\n",
       "  background: var(--sklearn-color-unfitted-level-0);\n",
       "  border: .5pt solid var(--sklearn-color-unfitted-level-3);\n",
       "}\n",
       "\n",
       ".sk-estimator-doc-link.fitted span {\n",
       "  /* fitted */\n",
       "  background: var(--sklearn-color-fitted-level-0);\n",
       "  border: var(--sklearn-color-fitted-level-3);\n",
       "}\n",
       "\n",
       ".sk-estimator-doc-link:hover span {\n",
       "  display: block;\n",
       "}\n",
       "\n",
       "/* \"?\"-specific style due to the `<a>` HTML tag */\n",
       "\n",
       "#sk-container-id-1 a.estimator_doc_link {\n",
       "  float: right;\n",
       "  font-size: 1rem;\n",
       "  line-height: 1em;\n",
       "  font-family: monospace;\n",
       "  background-color: var(--sklearn-color-background);\n",
       "  border-radius: 1rem;\n",
       "  height: 1rem;\n",
       "  width: 1rem;\n",
       "  text-decoration: none;\n",
       "  /* unfitted */\n",
       "  color: var(--sklearn-color-unfitted-level-1);\n",
       "  border: var(--sklearn-color-unfitted-level-1) 1pt solid;\n",
       "}\n",
       "\n",
       "#sk-container-id-1 a.estimator_doc_link.fitted {\n",
       "  /* fitted */\n",
       "  border: var(--sklearn-color-fitted-level-1) 1pt solid;\n",
       "  color: var(--sklearn-color-fitted-level-1);\n",
       "}\n",
       "\n",
       "/* On hover */\n",
       "#sk-container-id-1 a.estimator_doc_link:hover {\n",
       "  /* unfitted */\n",
       "  background-color: var(--sklearn-color-unfitted-level-3);\n",
       "  color: var(--sklearn-color-background);\n",
       "  text-decoration: none;\n",
       "}\n",
       "\n",
       "#sk-container-id-1 a.estimator_doc_link.fitted:hover {\n",
       "  /* fitted */\n",
       "  background-color: var(--sklearn-color-fitted-level-3);\n",
       "}\n",
       "</style><div id=\"sk-container-id-1\" class=\"sk-top-container\"><div class=\"sk-text-repr-fallback\"><pre>LogisticRegression(random_state=42)</pre><b>In a Jupyter environment, please rerun this cell to show the HTML representation or trust the notebook. <br />On GitHub, the HTML representation is unable to render, please try loading this page with nbviewer.org.</b></div><div class=\"sk-container\" hidden><div class=\"sk-item\"><div class=\"sk-estimator fitted sk-toggleable\"><input class=\"sk-toggleable__control sk-hidden--visually\" id=\"sk-estimator-id-1\" type=\"checkbox\" checked><label for=\"sk-estimator-id-1\" class=\"sk-toggleable__label fitted sk-toggleable__label-arrow fitted\">&nbsp;&nbsp;LogisticRegression<a class=\"sk-estimator-doc-link fitted\" rel=\"noreferrer\" target=\"_blank\" href=\"https://scikit-learn.org/1.5/modules/generated/sklearn.linear_model.LogisticRegression.html\">?<span>Documentation for LogisticRegression</span></a><span class=\"sk-estimator-doc-link fitted\">i<span>Fitted</span></span></label><div class=\"sk-toggleable__content fitted\"><pre>LogisticRegression(random_state=42)</pre></div> </div></div></div></div>"
      ],
      "text/plain": [
       "LogisticRegression(random_state=42)"
      ]
     },
     "execution_count": 7,
     "metadata": {},
     "output_type": "execute_result"
    }
   ],
   "source": [
    "model = LogisticRegression(random_state=42)\n",
    "model.fit(X_train, y_train)"
   ]
  },
  {
   "cell_type": "code",
   "execution_count": 8,
   "metadata": {},
   "outputs": [
    {
     "name": "stdout",
     "output_type": "stream",
     "text": [
      "Accuracy: 0.765\n",
      "F1 score: [0.         0.81853282 0.69117647]\n"
     ]
    }
   ],
   "source": [
    "predictions = model.predict(X_test)\n",
    "\n",
    "print(\"Accuracy:\", accuracy_score(y_test, predictions))\n",
    "print(\"F1 score:\", f1_score(y_test, predictions, average=None))"
   ]
  },
  {
   "cell_type": "code",
   "execution_count": 9,
   "metadata": {},
   "outputs": [],
   "source": [
    "# Apar warning-uri ptc nu converge daca max_iter e mic (<100)\n",
    "# Maximu pe care l-am pus e 10k si acolo nu apare niciun warning dar am lasat ca lista\n",
    "# Ptc modelele cele mai bune sunt la la max_iter <500\n",
    "warnings.filterwarnings(action='ignore', category=ConvergenceWarning)"
   ]
  },
  {
   "cell_type": "markdown",
   "metadata": {},
   "source": [
    "## Grid Search with Cross-Validation"
   ]
  },
  {
   "cell_type": "code",
   "execution_count": 10,
   "metadata": {},
   "outputs": [],
   "source": [
    "# Define the hyperparameters to tune\n",
    "param_grid = {\n",
    "    'penalty': ['l1', 'l2'],\n",
    "    'C': [0.001, 0.01, 0.1, 1, 10, 100],\n",
    "    'max_iter': [10, 100, 200, 500, 100, 1000, 5000],\n",
    "    'solver': ['liblinear', 'saga']\n",
    "}\n",
    "\n",
    "# Perform grid search cross-validation\n",
    "grid_search_cv = GridSearchCV(estimator=LogisticRegression(random_state=seed),\n",
    "                               param_grid=param_grid, cv=5, scoring='accuracy')\n",
    "grid_search_cv.fit(X_train, y_train)\n",
    "\n",
    "# Get the best hyperparameters and model\n",
    "best_params_cv = grid_search_cv.best_params_\n",
    "best_model_cv = grid_search_cv.best_estimator_"
   ]
  },
  {
   "cell_type": "markdown",
   "metadata": {},
   "source": [
    "Results of the best model "
   ]
  },
  {
   "cell_type": "code",
   "execution_count": 11,
   "metadata": {},
   "outputs": [
    {
     "name": "stdout",
     "output_type": "stream",
     "text": [
      "Best Hyperparameters: {'C': 100, 'max_iter': 10, 'penalty': 'l2', 'solver': 'liblinear'}\n",
      "Accuracy: 0.78\n"
     ]
    }
   ],
   "source": [
    "accuracy_cv = best_model_cv.score(X_test, y_test)\n",
    "\n",
    "print(\"Best Hyperparameters:\", best_params_cv)\n",
    "print(\"Accuracy:\", accuracy_cv)"
   ]
  },
  {
   "cell_type": "markdown",
   "metadata": {},
   "source": [
    "Results of best models Grid Search CV"
   ]
  },
  {
   "cell_type": "code",
   "execution_count": 12,
   "metadata": {},
   "outputs": [
    {
     "name": "stdout",
     "output_type": "stream",
     "text": [
      "                                                params  mean_test_score\n",
      "154  {'C': 100, 'max_iter': 500, 'penalty': 'l2', '...          0.75625\n",
      "166  {'C': 100, 'max_iter': 5000, 'penalty': 'l2', ...          0.75625\n",
      "142  {'C': 100, 'max_iter': 10, 'penalty': 'l2', 's...          0.75625\n",
      "164  {'C': 100, 'max_iter': 5000, 'penalty': 'l1', ...          0.75625\n",
      "144  {'C': 100, 'max_iter': 100, 'penalty': 'l1', '...          0.75625\n"
     ]
    }
   ],
   "source": [
    "df_cv = pd.DataFrame(grid_search_cv.cv_results_)\n",
    "\n",
    "# Show top parameters for LR with Cross Validation Grid Serach\n",
    "df_results_cv = df_cv[['params', 'mean_test_score']]\n",
    "df_results_cv_sorted = df_results_cv.sort_values(by='mean_test_score', ascending=False)\n",
    "\n",
    "print(df_results_cv_sorted.head(5))"
   ]
  },
  {
   "cell_type": "code",
   "execution_count": 13,
   "metadata": {},
   "outputs": [
    {
     "name": "stdout",
     "output_type": "stream",
     "text": [
      "Accuracy achieved for best parameters: 0.765\n",
      "F1 score for best parameters: [0.         0.81853282 0.69117647]\n"
     ]
    }
   ],
   "source": [
    "# Use best parameters to make predictions\n",
    "predictions_cv = best_model_cv.predict(X_test)\n",
    "\n",
    "print(\"Accuracy achieved for best parameters:\", accuracy_score(y_test, predictions))\n",
    "print(\"F1 score for best parameters:\", f1_score(y_test, predictions, average=None))\n",
    "# Aici (rezultatu) e 0. (pentru clasa 0) ptc sunt ft putine date pentru clasa 0 (maybe unbalanced)"
   ]
  },
  {
   "cell_type": "markdown",
   "metadata": {},
   "source": [
    "## Grid Search Stratified K Fold Validation"
   ]
  },
  {
   "cell_type": "code",
   "execution_count": 14,
   "metadata": {},
   "outputs": [
    {
     "name": "stdout",
     "output_type": "stream",
     "text": [
      "Best Hyperparameters with Stratified K-Fold: {'C': 1, 'max_iter': 10, 'penalty': 'l1', 'solver': 'liblinear'}\n",
      "Accuracy with Stratified K-Fold: 0.79\n"
     ]
    }
   ],
   "source": [
    "from sklearn.model_selection import StratifiedKFold\n",
    "\n",
    "skf = StratifiedKFold(n_splits=5, shuffle=True, random_state=seed)\n",
    "\n",
    "grid_search_skf = GridSearchCV(estimator=LogisticRegression(random_state=seed), \n",
    "                           param_grid=param_grid, cv=skf, scoring='accuracy')\n",
    "grid_search_skf.fit(X_train, y_train)\n",
    "\n",
    "# Get the best hyperparameters and model\n",
    "best_params_skf = grid_search_skf.best_params_\n",
    "best_model_skf = grid_search_skf.best_estimator_\n",
    "\n",
    "# Evaluate the best model on the test set\n",
    "accuracy = best_model_skf.score(X_test, y_test)\n",
    "\n",
    "print(\"Best Hyperparameters with Stratified K-Fold:\", best_params_skf)\n",
    "print(\"Accuracy with Stratified K-Fold:\", accuracy)\n"
   ]
  },
  {
   "cell_type": "markdown",
   "metadata": {},
   "source": [
    "Results of the best model "
   ]
  },
  {
   "cell_type": "code",
   "execution_count": 15,
   "metadata": {},
   "outputs": [
    {
     "name": "stdout",
     "output_type": "stream",
     "text": [
      "Best Hyperparameters: {'C': 1, 'max_iter': 10, 'penalty': 'l1', 'solver': 'liblinear'}\n",
      "Accuracy: 0.79\n"
     ]
    }
   ],
   "source": [
    "accuracy_skf = best_model_skf.score(X_test, y_test)\n",
    "\n",
    "print(\"Best Hyperparameters:\", best_params_skf)\n",
    "print(\"Accuracy:\", accuracy_skf)"
   ]
  },
  {
   "cell_type": "markdown",
   "metadata": {},
   "source": [
    "Results of best models Grid Search CV"
   ]
  },
  {
   "cell_type": "code",
   "execution_count": 17,
   "metadata": {},
   "outputs": [
    {
     "name": "stdout",
     "output_type": "stream",
     "text": [
      "                                                params  mean_test_score\n",
      "84   {'C': 1, 'max_iter': 10, 'penalty': 'l1', 'sol...          0.74250\n",
      "108  {'C': 1, 'max_iter': 5000, 'penalty': 'l1', 's...          0.74125\n",
      "92   {'C': 1, 'max_iter': 200, 'penalty': 'l1', 'so...          0.74125\n",
      "96   {'C': 1, 'max_iter': 500, 'penalty': 'l1', 'so...          0.74125\n",
      "100  {'C': 1, 'max_iter': 100, 'penalty': 'l1', 'so...          0.74125\n"
     ]
    }
   ],
   "source": [
    "df_skf = pd.DataFrame(grid_search_skf.cv_results_)\n",
    "\n",
    "# Show top parameters for LR with Cross Validation Grid Serach\n",
    "df_results_skf = df_skf[['params', 'mean_test_score']]\n",
    "df_results_skf_sorted = df_results_skf.sort_values(by='mean_test_score', ascending=False)\n",
    "\n",
    "print(df_results_skf_sorted.head(5))"
   ]
  },
  {
   "cell_type": "code",
   "execution_count": 19,
   "metadata": {},
   "outputs": [
    {
     "name": "stdout",
     "output_type": "stream",
     "text": [
      "Accuracy achieved for best parameters: 0.79\n",
      "F1 score for best parameters: [0.         0.83464567 0.73758865]\n"
     ]
    }
   ],
   "source": [
    "# Use best parameters to make predictions\n",
    "predictions_skf = best_model_skf.predict(X_test)\n",
    "\n",
    "print(\"Accuracy achieved for best parameters:\", accuracy_score(y_test, predictions_skf))\n",
    "print(\"F1 score for best parameters:\", f1_score(y_test, predictions_skf, average=None))"
   ]
  },
  {
   "cell_type": "markdown",
   "metadata": {},
   "source": [
    "Next maybe add elastic search as penalty? only works with saga solver"
   ]
  },
  {
   "cell_type": "markdown",
   "metadata": {},
   "source": [
    "# Tune with Optuna"
   ]
  },
  {
   "cell_type": "code",
   "execution_count": 17,
   "metadata": {},
   "outputs": [],
   "source": [
    "def objective(trial):\n",
    "    # Define the hyperparameters to optimize\n",
    "    penalty = trial.suggest_categorical('penalty', ['l1', 'l2'])\n",
    "    C = trial.suggest_loguniform('C', 0.01, 10.0)\n",
    "    max_iter = trial.suggest_int('max_iter', 100, 1000)\n",
    "    solver= trial.suggest_categorical('solver', ['liblinear', 'saga'])\n",
    "    \n",
    "    # Create the logistic regression model with the hyperparameters\n",
    "    model = LogisticRegression(penalty=penalty, C=C, max_iter=max_iter,\n",
    "     solver=solver, random_state=seed)\n",
    "    \n",
    "    # Train the model\n",
    "    model.fit(X_train, y_train)\n",
    "    \n",
    "    # Make predictions on the test set\n",
    "    y_pred = model.predict(X_test)\n",
    "    \n",
    "    # Calculate the accuracy score\n",
    "    accuracy = accuracy_score(y_test, y_pred)\n",
    "    #score_cross_val = cross_val_score(model, X_train, y_train, cv=5, scoring='precision')\n",
    "\n",
    "    \n",
    "    return accuracy"
   ]
  },
  {
   "cell_type": "code",
   "execution_count": 21,
   "metadata": {},
   "outputs": [
    {
     "name": "stderr",
     "output_type": "stream",
     "text": [
      "[I 2024-06-04 14:25:44,220] A new study created in memory with name: no-name-61aaa6cc-3370-4b94-9a1b-853b5a8d2a53\n",
      "C:\\Users\\movil\\AppData\\Local\\Temp\\ipykernel_26928\\1579954593.py:4: FutureWarning: suggest_loguniform has been deprecated in v3.0.0. This feature will be removed in v6.0.0. See https://github.com/optuna/optuna/releases/tag/v3.0.0. Use suggest_float(..., log=True) instead.\n",
      "  C = trial.suggest_loguniform('C', 0.01, 10.0)\n",
      "[I 2024-06-04 14:25:44,286] Trial 0 finished with value: 0.76 and parameters: {'penalty': 'l2', 'C': 1.5702970884055387, 'max_iter': 639, 'solver': 'liblinear'}. Best is trial 0 with value: 0.76.\n",
      "C:\\Users\\movil\\AppData\\Local\\Temp\\ipykernel_26928\\1579954593.py:4: FutureWarning: suggest_loguniform has been deprecated in v3.0.0. This feature will be removed in v6.0.0. See https://github.com/optuna/optuna/releases/tag/v3.0.0. Use suggest_float(..., log=True) instead.\n",
      "  C = trial.suggest_loguniform('C', 0.01, 10.0)\n",
      "[I 2024-06-04 14:25:44,434] Trial 1 finished with value: 0.745 and parameters: {'penalty': 'l2', 'C': 0.6358358856676253, 'max_iter': 737, 'solver': 'saga'}. Best is trial 0 with value: 0.76.\n",
      "C:\\Users\\movil\\AppData\\Local\\Temp\\ipykernel_26928\\1579954593.py:4: FutureWarning: suggest_loguniform has been deprecated in v3.0.0. This feature will be removed in v6.0.0. See https://github.com/optuna/optuna/releases/tag/v3.0.0. Use suggest_float(..., log=True) instead.\n",
      "  C = trial.suggest_loguniform('C', 0.01, 10.0)\n",
      "[I 2024-06-04 14:25:44,508] Trial 2 finished with value: 0.57 and parameters: {'penalty': 'l1', 'C': 0.035113563139704075, 'max_iter': 265, 'solver': 'saga'}. Best is trial 0 with value: 0.76.\n",
      "C:\\Users\\movil\\AppData\\Local\\Temp\\ipykernel_26928\\1579954593.py:4: FutureWarning: suggest_loguniform has been deprecated in v3.0.0. This feature will be removed in v6.0.0. See https://github.com/optuna/optuna/releases/tag/v3.0.0. Use suggest_float(..., log=True) instead.\n",
      "  C = trial.suggest_loguniform('C', 0.01, 10.0)\n",
      "C:\\Users\\movil\\AppData\\Local\\Packages\\PythonSoftwareFoundation.Python.3.10_qbz5n2kfra8p0\\LocalCache\\local-packages\\Python310\\site-packages\\sklearn\\linear_model\\_sag.py:349: ConvergenceWarning: The max_iter was reached which means the coef_ did not converge\n",
      "  warnings.warn(\n",
      "[I 2024-06-04 14:25:45,097] Trial 3 finished with value: 0.77 and parameters: {'penalty': 'l1', 'C': 0.6847920095574779, 'max_iter': 225, 'solver': 'saga'}. Best is trial 3 with value: 0.77.\n",
      "C:\\Users\\movil\\AppData\\Local\\Temp\\ipykernel_26928\\1579954593.py:4: FutureWarning: suggest_loguniform has been deprecated in v3.0.0. This feature will be removed in v6.0.0. See https://github.com/optuna/optuna/releases/tag/v3.0.0. Use suggest_float(..., log=True) instead.\n",
      "  C = trial.suggest_loguniform('C', 0.01, 10.0)\n",
      "[I 2024-06-04 14:25:45,152] Trial 4 finished with value: 0.685 and parameters: {'penalty': 'l2', 'C': 0.039721107273819126, 'max_iter': 563, 'solver': 'liblinear'}. Best is trial 3 with value: 0.77.\n",
      "C:\\Users\\movil\\AppData\\Local\\Temp\\ipykernel_26928\\1579954593.py:4: FutureWarning: suggest_loguniform has been deprecated in v3.0.0. This feature will be removed in v6.0.0. See https://github.com/optuna/optuna/releases/tag/v3.0.0. Use suggest_float(..., log=True) instead.\n",
      "  C = trial.suggest_loguniform('C', 0.01, 10.0)\n",
      "[I 2024-06-04 14:25:45,192] Trial 5 finished with value: 0.57 and parameters: {'penalty': 'l1', 'C': 0.015673095467235415, 'max_iter': 954, 'solver': 'liblinear'}. Best is trial 3 with value: 0.77.\n",
      "C:\\Users\\movil\\AppData\\Local\\Temp\\ipykernel_26928\\1579954593.py:4: FutureWarning: suggest_loguniform has been deprecated in v3.0.0. This feature will be removed in v6.0.0. See https://github.com/optuna/optuna/releases/tag/v3.0.0. Use suggest_float(..., log=True) instead.\n",
      "  C = trial.suggest_loguniform('C', 0.01, 10.0)\n",
      "[I 2024-06-04 14:25:46,256] Trial 6 finished with value: 0.775 and parameters: {'penalty': 'l1', 'C': 1.1290133559092674, 'max_iter': 496, 'solver': 'saga'}. Best is trial 6 with value: 0.775.\n",
      "C:\\Users\\movil\\AppData\\Local\\Temp\\ipykernel_26928\\1579954593.py:4: FutureWarning: suggest_loguniform has been deprecated in v3.0.0. This feature will be removed in v6.0.0. See https://github.com/optuna/optuna/releases/tag/v3.0.0. Use suggest_float(..., log=True) instead.\n",
      "  C = trial.suggest_loguniform('C', 0.01, 10.0)\n",
      "[I 2024-06-04 14:25:46,296] Trial 7 finished with value: 0.715 and parameters: {'penalty': 'l2', 'C': 0.059750279999602945, 'max_iter': 696, 'solver': 'saga'}. Best is trial 6 with value: 0.775.\n",
      "C:\\Users\\movil\\AppData\\Local\\Temp\\ipykernel_26928\\1579954593.py:4: FutureWarning: suggest_loguniform has been deprecated in v3.0.0. This feature will be removed in v6.0.0. See https://github.com/optuna/optuna/releases/tag/v3.0.0. Use suggest_float(..., log=True) instead.\n",
      "  C = trial.suggest_loguniform('C', 0.01, 10.0)\n",
      "[I 2024-06-04 14:25:46,569] Trial 8 finished with value: 0.785 and parameters: {'penalty': 'l1', 'C': 8.10501612641158, 'max_iter': 798, 'solver': 'liblinear'}. Best is trial 8 with value: 0.785.\n",
      "C:\\Users\\movil\\AppData\\Local\\Temp\\ipykernel_26928\\1579954593.py:4: FutureWarning: suggest_loguniform has been deprecated in v3.0.0. This feature will be removed in v6.0.0. See https://github.com/optuna/optuna/releases/tag/v3.0.0. Use suggest_float(..., log=True) instead.\n",
      "  C = trial.suggest_loguniform('C', 0.01, 10.0)\n",
      "[I 2024-06-04 14:25:46,617] Trial 9 finished with value: 0.685 and parameters: {'penalty': 'l2', 'C': 0.01842797040686454, 'max_iter': 276, 'solver': 'saga'}. Best is trial 8 with value: 0.785.\n",
      "C:\\Users\\movil\\AppData\\Local\\Temp\\ipykernel_26928\\1579954593.py:4: FutureWarning: suggest_loguniform has been deprecated in v3.0.0. This feature will be removed in v6.0.0. See https://github.com/optuna/optuna/releases/tag/v3.0.0. Use suggest_float(..., log=True) instead.\n",
      "  C = trial.suggest_loguniform('C', 0.01, 10.0)\n",
      "C:\\Users\\movil\\AppData\\Local\\Packages\\PythonSoftwareFoundation.Python.3.10_qbz5n2kfra8p0\\LocalCache\\local-packages\\Python310\\site-packages\\sklearn\\linear_model\\_sag.py:349: ConvergenceWarning: The max_iter was reached which means the coef_ did not converge\n",
      "  warnings.warn(\n",
      "[I 2024-06-04 14:25:47,239] Trial 10 finished with value: 0.8 and parameters: {'penalty': 'l1', 'C': 3.063462210622083, 'max_iter': 421, 'solver': 'saga'}. Best is trial 10 with value: 0.8.\n",
      "C:\\Users\\movil\\AppData\\Local\\Temp\\ipykernel_26928\\1579954593.py:4: FutureWarning: suggest_loguniform has been deprecated in v3.0.0. This feature will be removed in v6.0.0. See https://github.com/optuna/optuna/releases/tag/v3.0.0. Use suggest_float(..., log=True) instead.\n",
      "  C = trial.suggest_loguniform('C', 0.01, 10.0)\n",
      "[I 2024-06-04 14:25:47,268] Trial 11 finished with value: 0.675 and parameters: {'penalty': 'l2', 'C': 0.01673601016782578, 'max_iter': 989, 'solver': 'liblinear'}. Best is trial 10 with value: 0.8.\n",
      "C:\\Users\\movil\\AppData\\Local\\Temp\\ipykernel_26928\\1579954593.py:4: FutureWarning: suggest_loguniform has been deprecated in v3.0.0. This feature will be removed in v6.0.0. See https://github.com/optuna/optuna/releases/tag/v3.0.0. Use suggest_float(..., log=True) instead.\n",
      "  C = trial.suggest_loguniform('C', 0.01, 10.0)\n",
      "[I 2024-06-04 14:25:47,294] Trial 12 finished with value: 0.755 and parameters: {'penalty': 'l2', 'C': 1.3199942261535018, 'max_iter': 756, 'solver': 'liblinear'}. Best is trial 10 with value: 0.8.\n",
      "C:\\Users\\movil\\AppData\\Local\\Temp\\ipykernel_26928\\1579954593.py:4: FutureWarning: suggest_loguniform has been deprecated in v3.0.0. This feature will be removed in v6.0.0. See https://github.com/optuna/optuna/releases/tag/v3.0.0. Use suggest_float(..., log=True) instead.\n",
      "  C = trial.suggest_loguniform('C', 0.01, 10.0)\n",
      "[I 2024-06-04 14:25:47,472] Trial 13 finished with value: 0.805 and parameters: {'penalty': 'l1', 'C': 3.8842777547031417, 'max_iter': 661, 'solver': 'liblinear'}. Best is trial 13 with value: 0.805.\n",
      "C:\\Users\\movil\\AppData\\Local\\Temp\\ipykernel_26928\\1579954593.py:4: FutureWarning: suggest_loguniform has been deprecated in v3.0.0. This feature will be removed in v6.0.0. See https://github.com/optuna/optuna/releases/tag/v3.0.0. Use suggest_float(..., log=True) instead.\n",
      "  C = trial.suggest_loguniform('C', 0.01, 10.0)\n",
      "[I 2024-06-04 14:25:47,501] Trial 14 finished with value: 0.76 and parameters: {'penalty': 'l2', 'C': 1.5446089075047076, 'max_iter': 674, 'solver': 'liblinear'}. Best is trial 13 with value: 0.805.\n",
      "C:\\Users\\movil\\AppData\\Local\\Temp\\ipykernel_26928\\1579954593.py:4: FutureWarning: suggest_loguniform has been deprecated in v3.0.0. This feature will be removed in v6.0.0. See https://github.com/optuna/optuna/releases/tag/v3.0.0. Use suggest_float(..., log=True) instead.\n",
      "  C = trial.suggest_loguniform('C', 0.01, 10.0)\n",
      "[I 2024-06-04 14:25:47,536] Trial 15 finished with value: 0.77 and parameters: {'penalty': 'l2', 'C': 1.9158219548093167, 'max_iter': 605, 'solver': 'liblinear'}. Best is trial 13 with value: 0.805.\n",
      "C:\\Users\\movil\\AppData\\Local\\Temp\\ipykernel_26928\\1579954593.py:4: FutureWarning: suggest_loguniform has been deprecated in v3.0.0. This feature will be removed in v6.0.0. See https://github.com/optuna/optuna/releases/tag/v3.0.0. Use suggest_float(..., log=True) instead.\n",
      "  C = trial.suggest_loguniform('C', 0.01, 10.0)\n",
      "[I 2024-06-04 14:25:47,569] Trial 16 finished with value: 0.57 and parameters: {'penalty': 'l1', 'C': 0.011919481947918732, 'max_iter': 197, 'solver': 'saga'}. Best is trial 13 with value: 0.805.\n",
      "C:\\Users\\movil\\AppData\\Local\\Temp\\ipykernel_26928\\1579954593.py:4: FutureWarning: suggest_loguniform has been deprecated in v3.0.0. This feature will be removed in v6.0.0. See https://github.com/optuna/optuna/releases/tag/v3.0.0. Use suggest_float(..., log=True) instead.\n",
      "  C = trial.suggest_loguniform('C', 0.01, 10.0)\n",
      "[I 2024-06-04 14:25:47,695] Trial 17 finished with value: 0.79 and parameters: {'penalty': 'l2', 'C': 5.280796376895363, 'max_iter': 324, 'solver': 'saga'}. Best is trial 13 with value: 0.805.\n",
      "C:\\Users\\movil\\AppData\\Local\\Temp\\ipykernel_26928\\1579954593.py:4: FutureWarning: suggest_loguniform has been deprecated in v3.0.0. This feature will be removed in v6.0.0. See https://github.com/optuna/optuna/releases/tag/v3.0.0. Use suggest_float(..., log=True) instead.\n",
      "  C = trial.suggest_loguniform('C', 0.01, 10.0)\n",
      "[I 2024-06-04 14:25:47,721] Trial 18 finished with value: 0.64 and parameters: {'penalty': 'l1', 'C': 0.07400385759087375, 'max_iter': 245, 'solver': 'liblinear'}. Best is trial 13 with value: 0.805.\n",
      "C:\\Users\\movil\\AppData\\Local\\Temp\\ipykernel_26928\\1579954593.py:4: FutureWarning: suggest_loguniform has been deprecated in v3.0.0. This feature will be removed in v6.0.0. See https://github.com/optuna/optuna/releases/tag/v3.0.0. Use suggest_float(..., log=True) instead.\n",
      "  C = trial.suggest_loguniform('C', 0.01, 10.0)\n",
      "[I 2024-06-04 14:25:47,748] Trial 19 finished with value: 0.765 and parameters: {'penalty': 'l2', 'C': 2.5764174425233164, 'max_iter': 268, 'solver': 'liblinear'}. Best is trial 13 with value: 0.805.\n",
      "C:\\Users\\movil\\AppData\\Local\\Temp\\ipykernel_26928\\1579954593.py:4: FutureWarning: suggest_loguniform has been deprecated in v3.0.0. This feature will be removed in v6.0.0. See https://github.com/optuna/optuna/releases/tag/v3.0.0. Use suggest_float(..., log=True) instead.\n",
      "  C = trial.suggest_loguniform('C', 0.01, 10.0)\n",
      "[I 2024-06-04 14:25:47,795] Trial 20 finished with value: 0.725 and parameters: {'penalty': 'l2', 'C': 0.08995191735587167, 'max_iter': 199, 'solver': 'saga'}. Best is trial 13 with value: 0.805.\n",
      "C:\\Users\\movil\\AppData\\Local\\Temp\\ipykernel_26928\\1579954593.py:4: FutureWarning: suggest_loguniform has been deprecated in v3.0.0. This feature will be removed in v6.0.0. See https://github.com/optuna/optuna/releases/tag/v3.0.0. Use suggest_float(..., log=True) instead.\n",
      "  C = trial.suggest_loguniform('C', 0.01, 10.0)\n",
      "[I 2024-06-04 14:25:47,818] Trial 21 finished with value: 0.665 and parameters: {'penalty': 'l2', 'C': 0.010491954332267909, 'max_iter': 560, 'solver': 'liblinear'}. Best is trial 13 with value: 0.805.\n",
      "C:\\Users\\movil\\AppData\\Local\\Temp\\ipykernel_26928\\1579954593.py:4: FutureWarning: suggest_loguniform has been deprecated in v3.0.0. This feature will be removed in v6.0.0. See https://github.com/optuna/optuna/releases/tag/v3.0.0. Use suggest_float(..., log=True) instead.\n",
      "  C = trial.suggest_loguniform('C', 0.01, 10.0)\n",
      "[I 2024-06-04 14:25:47,973] Trial 22 finished with value: 0.795 and parameters: {'penalty': 'l2', 'C': 6.741074265640696, 'max_iter': 391, 'solver': 'saga'}. Best is trial 13 with value: 0.805.\n",
      "C:\\Users\\movil\\AppData\\Local\\Temp\\ipykernel_26928\\1579954593.py:4: FutureWarning: suggest_loguniform has been deprecated in v3.0.0. This feature will be removed in v6.0.0. See https://github.com/optuna/optuna/releases/tag/v3.0.0. Use suggest_float(..., log=True) instead.\n",
      "  C = trial.suggest_loguniform('C', 0.01, 10.0)\n",
      "[I 2024-06-04 14:25:48,003] Trial 23 finished with value: 0.795 and parameters: {'penalty': 'l2', 'C': 7.715105777813049, 'max_iter': 326, 'solver': 'liblinear'}. Best is trial 13 with value: 0.805.\n",
      "C:\\Users\\movil\\AppData\\Local\\Temp\\ipykernel_26928\\1579954593.py:4: FutureWarning: suggest_loguniform has been deprecated in v3.0.0. This feature will be removed in v6.0.0. See https://github.com/optuna/optuna/releases/tag/v3.0.0. Use suggest_float(..., log=True) instead.\n",
      "  C = trial.suggest_loguniform('C', 0.01, 10.0)\n",
      "[I 2024-06-04 14:25:48,371] Trial 24 finished with value: 0.77 and parameters: {'penalty': 'l1', 'C': 0.6740513796374044, 'max_iter': 552, 'solver': 'saga'}. Best is trial 13 with value: 0.805.\n",
      "C:\\Users\\movil\\AppData\\Local\\Temp\\ipykernel_26928\\1579954593.py:4: FutureWarning: suggest_loguniform has been deprecated in v3.0.0. This feature will be removed in v6.0.0. See https://github.com/optuna/optuna/releases/tag/v3.0.0. Use suggest_float(..., log=True) instead.\n",
      "  C = trial.suggest_loguniform('C', 0.01, 10.0)\n",
      "[I 2024-06-04 14:25:48,382] Trial 25 finished with value: 0.57 and parameters: {'penalty': 'l1', 'C': 0.027207248059486704, 'max_iter': 540, 'solver': 'liblinear'}. Best is trial 13 with value: 0.805.\n",
      "C:\\Users\\movil\\AppData\\Local\\Temp\\ipykernel_26928\\1579954593.py:4: FutureWarning: suggest_loguniform has been deprecated in v3.0.0. This feature will be removed in v6.0.0. See https://github.com/optuna/optuna/releases/tag/v3.0.0. Use suggest_float(..., log=True) instead.\n",
      "  C = trial.suggest_loguniform('C', 0.01, 10.0)\n",
      "[I 2024-06-04 14:25:48,416] Trial 26 finished with value: 0.715 and parameters: {'penalty': 'l2', 'C': 0.0516312491048802, 'max_iter': 756, 'solver': 'saga'}. Best is trial 13 with value: 0.805.\n",
      "C:\\Users\\movil\\AppData\\Local\\Temp\\ipykernel_26928\\1579954593.py:4: FutureWarning: suggest_loguniform has been deprecated in v3.0.0. This feature will be removed in v6.0.0. See https://github.com/optuna/optuna/releases/tag/v3.0.0. Use suggest_float(..., log=True) instead.\n",
      "  C = trial.suggest_loguniform('C', 0.01, 10.0)\n",
      "[I 2024-06-04 14:25:48,432] Trial 27 finished with value: 0.57 and parameters: {'penalty': 'l1', 'C': 0.01865818136012486, 'max_iter': 852, 'solver': 'liblinear'}. Best is trial 13 with value: 0.805.\n",
      "C:\\Users\\movil\\AppData\\Local\\Temp\\ipykernel_26928\\1579954593.py:4: FutureWarning: suggest_loguniform has been deprecated in v3.0.0. This feature will be removed in v6.0.0. See https://github.com/optuna/optuna/releases/tag/v3.0.0. Use suggest_float(..., log=True) instead.\n",
      "  C = trial.suggest_loguniform('C', 0.01, 10.0)\n",
      "[I 2024-06-04 14:25:48,454] Trial 28 finished with value: 0.745 and parameters: {'penalty': 'l2', 'C': 1.0781845035122266, 'max_iter': 114, 'solver': 'liblinear'}. Best is trial 13 with value: 0.805.\n",
      "C:\\Users\\movil\\AppData\\Local\\Temp\\ipykernel_26928\\1579954593.py:4: FutureWarning: suggest_loguniform has been deprecated in v3.0.0. This feature will be removed in v6.0.0. See https://github.com/optuna/optuna/releases/tag/v3.0.0. Use suggest_float(..., log=True) instead.\n",
      "  C = trial.suggest_loguniform('C', 0.01, 10.0)\n",
      "[I 2024-06-04 14:25:48,546] Trial 29 finished with value: 0.785 and parameters: {'penalty': 'l1', 'C': 1.182532850842265, 'max_iter': 448, 'solver': 'liblinear'}. Best is trial 13 with value: 0.805.\n",
      "C:\\Users\\movil\\AppData\\Local\\Temp\\ipykernel_26928\\1579954593.py:4: FutureWarning: suggest_loguniform has been deprecated in v3.0.0. This feature will be removed in v6.0.0. See https://github.com/optuna/optuna/releases/tag/v3.0.0. Use suggest_float(..., log=True) instead.\n",
      "  C = trial.suggest_loguniform('C', 0.01, 10.0)\n",
      "C:\\Users\\movil\\AppData\\Local\\Packages\\PythonSoftwareFoundation.Python.3.10_qbz5n2kfra8p0\\LocalCache\\local-packages\\Python310\\site-packages\\sklearn\\linear_model\\_sag.py:349: ConvergenceWarning: The max_iter was reached which means the coef_ did not converge\n",
      "  warnings.warn(\n",
      "[I 2024-06-04 14:25:49,620] Trial 30 finished with value: 0.79 and parameters: {'penalty': 'l1', 'C': 5.94402811341093, 'max_iter': 890, 'solver': 'saga'}. Best is trial 13 with value: 0.805.\n",
      "C:\\Users\\movil\\AppData\\Local\\Temp\\ipykernel_26928\\1579954593.py:4: FutureWarning: suggest_loguniform has been deprecated in v3.0.0. This feature will be removed in v6.0.0. See https://github.com/optuna/optuna/releases/tag/v3.0.0. Use suggest_float(..., log=True) instead.\n",
      "  C = trial.suggest_loguniform('C', 0.01, 10.0)\n",
      "[I 2024-06-04 14:25:49,841] Trial 31 finished with value: 0.75 and parameters: {'penalty': 'l1', 'C': 0.3881072316409482, 'max_iter': 317, 'solver': 'saga'}. Best is trial 13 with value: 0.805.\n",
      "C:\\Users\\movil\\AppData\\Local\\Temp\\ipykernel_26928\\1579954593.py:4: FutureWarning: suggest_loguniform has been deprecated in v3.0.0. This feature will be removed in v6.0.0. See https://github.com/optuna/optuna/releases/tag/v3.0.0. Use suggest_float(..., log=True) instead.\n",
      "  C = trial.suggest_loguniform('C', 0.01, 10.0)\n",
      "[I 2024-06-04 14:25:49,905] Trial 32 finished with value: 0.665 and parameters: {'penalty': 'l1', 'C': 0.10401341922663464, 'max_iter': 414, 'solver': 'saga'}. Best is trial 13 with value: 0.805.\n",
      "C:\\Users\\movil\\AppData\\Local\\Temp\\ipykernel_26928\\1579954593.py:4: FutureWarning: suggest_loguniform has been deprecated in v3.0.0. This feature will be removed in v6.0.0. See https://github.com/optuna/optuna/releases/tag/v3.0.0. Use suggest_float(..., log=True) instead.\n",
      "  C = trial.suggest_loguniform('C', 0.01, 10.0)\n",
      "C:\\Users\\movil\\AppData\\Local\\Packages\\PythonSoftwareFoundation.Python.3.10_qbz5n2kfra8p0\\LocalCache\\local-packages\\Python310\\site-packages\\sklearn\\linear_model\\_sag.py:349: ConvergenceWarning: The max_iter was reached which means the coef_ did not converge\n",
      "  warnings.warn(\n",
      "[I 2024-06-04 14:25:50,247] Trial 33 finished with value: 0.77 and parameters: {'penalty': 'l1', 'C': 0.8435191341743051, 'max_iter': 175, 'solver': 'saga'}. Best is trial 13 with value: 0.805.\n",
      "C:\\Users\\movil\\AppData\\Local\\Temp\\ipykernel_26928\\1579954593.py:4: FutureWarning: suggest_loguniform has been deprecated in v3.0.0. This feature will be removed in v6.0.0. See https://github.com/optuna/optuna/releases/tag/v3.0.0. Use suggest_float(..., log=True) instead.\n",
      "  C = trial.suggest_loguniform('C', 0.01, 10.0)\n",
      "[I 2024-06-04 14:25:50,272] Trial 34 finished with value: 0.57 and parameters: {'penalty': 'l1', 'C': 0.020156477059365012, 'max_iter': 697, 'solver': 'saga'}. Best is trial 13 with value: 0.805.\n",
      "C:\\Users\\movil\\AppData\\Local\\Temp\\ipykernel_26928\\1579954593.py:4: FutureWarning: suggest_loguniform has been deprecated in v3.0.0. This feature will be removed in v6.0.0. See https://github.com/optuna/optuna/releases/tag/v3.0.0. Use suggest_float(..., log=True) instead.\n",
      "  C = trial.suggest_loguniform('C', 0.01, 10.0)\n",
      "[I 2024-06-04 14:25:50,299] Trial 35 finished with value: 0.735 and parameters: {'penalty': 'l2', 'C': 0.9034076805537772, 'max_iter': 302, 'solver': 'liblinear'}. Best is trial 13 with value: 0.805.\n",
      "C:\\Users\\movil\\AppData\\Local\\Temp\\ipykernel_26928\\1579954593.py:4: FutureWarning: suggest_loguniform has been deprecated in v3.0.0. This feature will be removed in v6.0.0. See https://github.com/optuna/optuna/releases/tag/v3.0.0. Use suggest_float(..., log=True) instead.\n",
      "  C = trial.suggest_loguniform('C', 0.01, 10.0)\n",
      "[I 2024-06-04 14:25:50,333] Trial 36 finished with value: 0.735 and parameters: {'penalty': 'l2', 'C': 0.8889937283707159, 'max_iter': 865, 'solver': 'liblinear'}. Best is trial 13 with value: 0.805.\n",
      "C:\\Users\\movil\\AppData\\Local\\Temp\\ipykernel_26928\\1579954593.py:4: FutureWarning: suggest_loguniform has been deprecated in v3.0.0. This feature will be removed in v6.0.0. See https://github.com/optuna/optuna/releases/tag/v3.0.0. Use suggest_float(..., log=True) instead.\n",
      "  C = trial.suggest_loguniform('C', 0.01, 10.0)\n",
      "[I 2024-06-04 14:25:50,358] Trial 37 finished with value: 0.7 and parameters: {'penalty': 'l2', 'C': 0.0624607368131809, 'max_iter': 319, 'solver': 'liblinear'}. Best is trial 13 with value: 0.805.\n",
      "C:\\Users\\movil\\AppData\\Local\\Temp\\ipykernel_26928\\1579954593.py:4: FutureWarning: suggest_loguniform has been deprecated in v3.0.0. This feature will be removed in v6.0.0. See https://github.com/optuna/optuna/releases/tag/v3.0.0. Use suggest_float(..., log=True) instead.\n",
      "  C = trial.suggest_loguniform('C', 0.01, 10.0)\n",
      "[I 2024-06-04 14:25:50,451] Trial 38 finished with value: 0.795 and parameters: {'penalty': 'l1', 'C': 2.423449144702316, 'max_iter': 552, 'solver': 'liblinear'}. Best is trial 13 with value: 0.805.\n",
      "C:\\Users\\movil\\AppData\\Local\\Temp\\ipykernel_26928\\1579954593.py:4: FutureWarning: suggest_loguniform has been deprecated in v3.0.0. This feature will be removed in v6.0.0. See https://github.com/optuna/optuna/releases/tag/v3.0.0. Use suggest_float(..., log=True) instead.\n",
      "  C = trial.suggest_loguniform('C', 0.01, 10.0)\n",
      "[I 2024-06-04 14:25:50,475] Trial 39 finished with value: 0.71 and parameters: {'penalty': 'l2', 'C': 0.06955319544158291, 'max_iter': 121, 'solver': 'liblinear'}. Best is trial 13 with value: 0.805.\n",
      "C:\\Users\\movil\\AppData\\Local\\Temp\\ipykernel_26928\\1579954593.py:4: FutureWarning: suggest_loguniform has been deprecated in v3.0.0. This feature will be removed in v6.0.0. See https://github.com/optuna/optuna/releases/tag/v3.0.0. Use suggest_float(..., log=True) instead.\n",
      "  C = trial.suggest_loguniform('C', 0.01, 10.0)\n",
      "[I 2024-06-04 14:25:50,606] Trial 40 finished with value: 0.79 and parameters: {'penalty': 'l2', 'C': 5.553837526912236, 'max_iter': 433, 'solver': 'saga'}. Best is trial 13 with value: 0.805.\n",
      "C:\\Users\\movil\\AppData\\Local\\Temp\\ipykernel_26928\\1579954593.py:4: FutureWarning: suggest_loguniform has been deprecated in v3.0.0. This feature will be removed in v6.0.0. See https://github.com/optuna/optuna/releases/tag/v3.0.0. Use suggest_float(..., log=True) instead.\n",
      "  C = trial.suggest_loguniform('C', 0.01, 10.0)\n",
      "[I 2024-06-04 14:25:50,804] Trial 41 finished with value: 0.79 and parameters: {'penalty': 'l2', 'C': 7.777856590163644, 'max_iter': 868, 'solver': 'saga'}. Best is trial 13 with value: 0.805.\n",
      "C:\\Users\\movil\\AppData\\Local\\Temp\\ipykernel_26928\\1579954593.py:4: FutureWarning: suggest_loguniform has been deprecated in v3.0.0. This feature will be removed in v6.0.0. See https://github.com/optuna/optuna/releases/tag/v3.0.0. Use suggest_float(..., log=True) instead.\n",
      "  C = trial.suggest_loguniform('C', 0.01, 10.0)\n",
      "[I 2024-06-04 14:25:50,824] Trial 42 finished with value: 0.57 and parameters: {'penalty': 'l1', 'C': 0.032246177486423735, 'max_iter': 601, 'solver': 'liblinear'}. Best is trial 13 with value: 0.805.\n",
      "C:\\Users\\movil\\AppData\\Local\\Temp\\ipykernel_26928\\1579954593.py:4: FutureWarning: suggest_loguniform has been deprecated in v3.0.0. This feature will be removed in v6.0.0. See https://github.com/optuna/optuna/releases/tag/v3.0.0. Use suggest_float(..., log=True) instead.\n",
      "  C = trial.suggest_loguniform('C', 0.01, 10.0)\n",
      "[I 2024-06-04 14:25:51,303] Trial 43 finished with value: 0.775 and parameters: {'penalty': 'l1', 'C': 0.6998769331752381, 'max_iter': 992, 'solver': 'saga'}. Best is trial 13 with value: 0.805.\n",
      "C:\\Users\\movil\\AppData\\Local\\Temp\\ipykernel_26928\\1579954593.py:4: FutureWarning: suggest_loguniform has been deprecated in v3.0.0. This feature will be removed in v6.0.0. See https://github.com/optuna/optuna/releases/tag/v3.0.0. Use suggest_float(..., log=True) instead.\n",
      "  C = trial.suggest_loguniform('C', 0.01, 10.0)\n",
      "[I 2024-06-04 14:25:51,426] Trial 44 finished with value: 0.785 and parameters: {'penalty': 'l1', 'C': 1.2332389221028008, 'max_iter': 732, 'solver': 'liblinear'}. Best is trial 13 with value: 0.805.\n",
      "C:\\Users\\movil\\AppData\\Local\\Temp\\ipykernel_26928\\1579954593.py:4: FutureWarning: suggest_loguniform has been deprecated in v3.0.0. This feature will be removed in v6.0.0. See https://github.com/optuna/optuna/releases/tag/v3.0.0. Use suggest_float(..., log=True) instead.\n",
      "  C = trial.suggest_loguniform('C', 0.01, 10.0)\n",
      "[I 2024-06-04 14:25:51,472] Trial 45 finished with value: 0.775 and parameters: {'penalty': 'l2', 'C': 3.9922428866315034, 'max_iter': 922, 'solver': 'liblinear'}. Best is trial 13 with value: 0.805.\n",
      "C:\\Users\\movil\\AppData\\Local\\Temp\\ipykernel_26928\\1579954593.py:4: FutureWarning: suggest_loguniform has been deprecated in v3.0.0. This feature will be removed in v6.0.0. See https://github.com/optuna/optuna/releases/tag/v3.0.0. Use suggest_float(..., log=True) instead.\n",
      "  C = trial.suggest_loguniform('C', 0.01, 10.0)\n",
      "[I 2024-06-04 14:25:51,625] Trial 46 finished with value: 0.78 and parameters: {'penalty': 'l1', 'C': 1.2761467881730217, 'max_iter': 817, 'solver': 'liblinear'}. Best is trial 13 with value: 0.805.\n",
      "C:\\Users\\movil\\AppData\\Local\\Temp\\ipykernel_26928\\1579954593.py:4: FutureWarning: suggest_loguniform has been deprecated in v3.0.0. This feature will be removed in v6.0.0. See https://github.com/optuna/optuna/releases/tag/v3.0.0. Use suggest_float(..., log=True) instead.\n",
      "  C = trial.suggest_loguniform('C', 0.01, 10.0)\n",
      "C:\\Users\\movil\\AppData\\Local\\Packages\\PythonSoftwareFoundation.Python.3.10_qbz5n2kfra8p0\\LocalCache\\local-packages\\Python310\\site-packages\\sklearn\\linear_model\\_sag.py:349: ConvergenceWarning: The max_iter was reached which means the coef_ did not converge\n",
      "  warnings.warn(\n",
      "[I 2024-06-04 14:25:51,935] Trial 47 finished with value: 0.76 and parameters: {'penalty': 'l1', 'C': 0.543050756450092, 'max_iter': 132, 'solver': 'saga'}. Best is trial 13 with value: 0.805.\n",
      "C:\\Users\\movil\\AppData\\Local\\Temp\\ipykernel_26928\\1579954593.py:4: FutureWarning: suggest_loguniform has been deprecated in v3.0.0. This feature will be removed in v6.0.0. See https://github.com/optuna/optuna/releases/tag/v3.0.0. Use suggest_float(..., log=True) instead.\n",
      "  C = trial.suggest_loguniform('C', 0.01, 10.0)\n",
      "[I 2024-06-04 14:25:51,954] Trial 48 finished with value: 0.665 and parameters: {'penalty': 'l2', 'C': 0.012345274466024474, 'max_iter': 133, 'solver': 'liblinear'}. Best is trial 13 with value: 0.805.\n",
      "C:\\Users\\movil\\AppData\\Local\\Temp\\ipykernel_26928\\1579954593.py:4: FutureWarning: suggest_loguniform has been deprecated in v3.0.0. This feature will be removed in v6.0.0. See https://github.com/optuna/optuna/releases/tag/v3.0.0. Use suggest_float(..., log=True) instead.\n",
      "  C = trial.suggest_loguniform('C', 0.01, 10.0)\n",
      "[I 2024-06-04 14:25:51,987] Trial 49 finished with value: 0.77 and parameters: {'penalty': 'l2', 'C': 2.0416470207182766, 'max_iter': 294, 'solver': 'liblinear'}. Best is trial 13 with value: 0.805.\n",
      "C:\\Users\\movil\\AppData\\Local\\Temp\\ipykernel_26928\\1579954593.py:4: FutureWarning: suggest_loguniform has been deprecated in v3.0.0. This feature will be removed in v6.0.0. See https://github.com/optuna/optuna/releases/tag/v3.0.0. Use suggest_float(..., log=True) instead.\n",
      "  C = trial.suggest_loguniform('C', 0.01, 10.0)\n",
      "[I 2024-06-04 14:25:52,054] Trial 50 finished with value: 0.735 and parameters: {'penalty': 'l2', 'C': 0.4187023176257686, 'max_iter': 674, 'solver': 'saga'}. Best is trial 13 with value: 0.805.\n",
      "C:\\Users\\movil\\AppData\\Local\\Temp\\ipykernel_26928\\1579954593.py:4: FutureWarning: suggest_loguniform has been deprecated in v3.0.0. This feature will be removed in v6.0.0. See https://github.com/optuna/optuna/releases/tag/v3.0.0. Use suggest_float(..., log=True) instead.\n",
      "  C = trial.suggest_loguniform('C', 0.01, 10.0)\n",
      "[I 2024-06-04 14:25:52,151] Trial 51 finished with value: 0.795 and parameters: {'penalty': 'l1', 'C': 2.4297331796223, 'max_iter': 344, 'solver': 'liblinear'}. Best is trial 13 with value: 0.805.\n",
      "C:\\Users\\movil\\AppData\\Local\\Temp\\ipykernel_26928\\1579954593.py:4: FutureWarning: suggest_loguniform has been deprecated in v3.0.0. This feature will be removed in v6.0.0. See https://github.com/optuna/optuna/releases/tag/v3.0.0. Use suggest_float(..., log=True) instead.\n",
      "  C = trial.suggest_loguniform('C', 0.01, 10.0)\n",
      "[I 2024-06-04 14:25:52,184] Trial 52 finished with value: 0.765 and parameters: {'penalty': 'l2', 'C': 3.220626495993124, 'max_iter': 727, 'solver': 'liblinear'}. Best is trial 13 with value: 0.805.\n",
      "C:\\Users\\movil\\AppData\\Local\\Temp\\ipykernel_26928\\1579954593.py:4: FutureWarning: suggest_loguniform has been deprecated in v3.0.0. This feature will be removed in v6.0.0. See https://github.com/optuna/optuna/releases/tag/v3.0.0. Use suggest_float(..., log=True) instead.\n",
      "  C = trial.suggest_loguniform('C', 0.01, 10.0)\n",
      "[I 2024-06-04 14:25:52,206] Trial 53 finished with value: 0.74 and parameters: {'penalty': 'l2', 'C': 0.44430376569555396, 'max_iter': 743, 'solver': 'liblinear'}. Best is trial 13 with value: 0.805.\n",
      "C:\\Users\\movil\\AppData\\Local\\Temp\\ipykernel_26928\\1579954593.py:4: FutureWarning: suggest_loguniform has been deprecated in v3.0.0. This feature will be removed in v6.0.0. See https://github.com/optuna/optuna/releases/tag/v3.0.0. Use suggest_float(..., log=True) instead.\n",
      "  C = trial.suggest_loguniform('C', 0.01, 10.0)\n",
      "[I 2024-06-04 14:25:52,296] Trial 54 finished with value: 0.75 and parameters: {'penalty': 'l1', 'C': 0.46032245160252633, 'max_iter': 651, 'solver': 'liblinear'}. Best is trial 13 with value: 0.805.\n",
      "C:\\Users\\movil\\AppData\\Local\\Temp\\ipykernel_26928\\1579954593.py:4: FutureWarning: suggest_loguniform has been deprecated in v3.0.0. This feature will be removed in v6.0.0. See https://github.com/optuna/optuna/releases/tag/v3.0.0. Use suggest_float(..., log=True) instead.\n",
      "  C = trial.suggest_loguniform('C', 0.01, 10.0)\n",
      "[I 2024-06-04 14:25:52,342] Trial 55 finished with value: 0.66 and parameters: {'penalty': 'l2', 'C': 0.011045375019318382, 'max_iter': 204, 'solver': 'liblinear'}. Best is trial 13 with value: 0.805.\n",
      "C:\\Users\\movil\\AppData\\Local\\Temp\\ipykernel_26928\\1579954593.py:4: FutureWarning: suggest_loguniform has been deprecated in v3.0.0. This feature will be removed in v6.0.0. See https://github.com/optuna/optuna/releases/tag/v3.0.0. Use suggest_float(..., log=True) instead.\n",
      "  C = trial.suggest_loguniform('C', 0.01, 10.0)\n",
      "[I 2024-06-04 14:25:52,397] Trial 56 finished with value: 0.735 and parameters: {'penalty': 'l1', 'C': 0.2645583585038549, 'max_iter': 188, 'solver': 'liblinear'}. Best is trial 13 with value: 0.805.\n",
      "C:\\Users\\movil\\AppData\\Local\\Temp\\ipykernel_26928\\1579954593.py:4: FutureWarning: suggest_loguniform has been deprecated in v3.0.0. This feature will be removed in v6.0.0. See https://github.com/optuna/optuna/releases/tag/v3.0.0. Use suggest_float(..., log=True) instead.\n",
      "  C = trial.suggest_loguniform('C', 0.01, 10.0)\n",
      "[I 2024-06-04 14:25:52,432] Trial 57 finished with value: 0.725 and parameters: {'penalty': 'l2', 'C': 0.1568607196662889, 'max_iter': 654, 'solver': 'liblinear'}. Best is trial 13 with value: 0.805.\n",
      "C:\\Users\\movil\\AppData\\Local\\Temp\\ipykernel_26928\\1579954593.py:4: FutureWarning: suggest_loguniform has been deprecated in v3.0.0. This feature will be removed in v6.0.0. See https://github.com/optuna/optuna/releases/tag/v3.0.0. Use suggest_float(..., log=True) instead.\n",
      "  C = trial.suggest_loguniform('C', 0.01, 10.0)\n",
      "[I 2024-06-04 14:25:52,459] Trial 58 finished with value: 0.745 and parameters: {'penalty': 'l2', 'C': 0.3231534343074976, 'max_iter': 871, 'solver': 'liblinear'}. Best is trial 13 with value: 0.805.\n",
      "C:\\Users\\movil\\AppData\\Local\\Temp\\ipykernel_26928\\1579954593.py:4: FutureWarning: suggest_loguniform has been deprecated in v3.0.0. This feature will be removed in v6.0.0. See https://github.com/optuna/optuna/releases/tag/v3.0.0. Use suggest_float(..., log=True) instead.\n",
      "  C = trial.suggest_loguniform('C', 0.01, 10.0)\n",
      "[I 2024-06-04 14:25:52,488] Trial 59 finished with value: 0.665 and parameters: {'penalty': 'l2', 'C': 0.012009749020630274, 'max_iter': 627, 'solver': 'liblinear'}. Best is trial 13 with value: 0.805.\n",
      "C:\\Users\\movil\\AppData\\Local\\Temp\\ipykernel_26928\\1579954593.py:4: FutureWarning: suggest_loguniform has been deprecated in v3.0.0. This feature will be removed in v6.0.0. See https://github.com/optuna/optuna/releases/tag/v3.0.0. Use suggest_float(..., log=True) instead.\n",
      "  C = trial.suggest_loguniform('C', 0.01, 10.0)\n",
      "[I 2024-06-04 14:25:52,520] Trial 60 finished with value: 0.74 and parameters: {'penalty': 'l2', 'C': 0.23700563480372555, 'max_iter': 591, 'solver': 'liblinear'}. Best is trial 13 with value: 0.805.\n",
      "C:\\Users\\movil\\AppData\\Local\\Temp\\ipykernel_26928\\1579954593.py:4: FutureWarning: suggest_loguniform has been deprecated in v3.0.0. This feature will be removed in v6.0.0. See https://github.com/optuna/optuna/releases/tag/v3.0.0. Use suggest_float(..., log=True) instead.\n",
      "  C = trial.suggest_loguniform('C', 0.01, 10.0)\n",
      "[I 2024-06-04 14:25:52,545] Trial 61 finished with value: 0.64 and parameters: {'penalty': 'l1', 'C': 0.038669931642850285, 'max_iter': 162, 'solver': 'liblinear'}. Best is trial 13 with value: 0.805.\n",
      "C:\\Users\\movil\\AppData\\Local\\Temp\\ipykernel_26928\\1579954593.py:4: FutureWarning: suggest_loguniform has been deprecated in v3.0.0. This feature will be removed in v6.0.0. See https://github.com/optuna/optuna/releases/tag/v3.0.0. Use suggest_float(..., log=True) instead.\n",
      "  C = trial.suggest_loguniform('C', 0.01, 10.0)\n",
      "[I 2024-06-04 14:25:52,579] Trial 62 finished with value: 0.675 and parameters: {'penalty': 'l2', 'C': 0.016351814261589406, 'max_iter': 387, 'solver': 'liblinear'}. Best is trial 13 with value: 0.805.\n",
      "C:\\Users\\movil\\AppData\\Local\\Temp\\ipykernel_26928\\1579954593.py:4: FutureWarning: suggest_loguniform has been deprecated in v3.0.0. This feature will be removed in v6.0.0. See https://github.com/optuna/optuna/releases/tag/v3.0.0. Use suggest_float(..., log=True) instead.\n",
      "  C = trial.suggest_loguniform('C', 0.01, 10.0)\n",
      "[I 2024-06-04 14:25:52,616] Trial 63 finished with value: 0.57 and parameters: {'penalty': 'l1', 'C': 0.022620098037544993, 'max_iter': 727, 'solver': 'saga'}. Best is trial 13 with value: 0.805.\n",
      "C:\\Users\\movil\\AppData\\Local\\Temp\\ipykernel_26928\\1579954593.py:4: FutureWarning: suggest_loguniform has been deprecated in v3.0.0. This feature will be removed in v6.0.0. See https://github.com/optuna/optuna/releases/tag/v3.0.0. Use suggest_float(..., log=True) instead.\n",
      "  C = trial.suggest_loguniform('C', 0.01, 10.0)\n",
      "[I 2024-06-04 14:25:52,672] Trial 64 finished with value: 0.72 and parameters: {'penalty': 'l2', 'C': 0.07016228391812, 'max_iter': 259, 'solver': 'saga'}. Best is trial 13 with value: 0.805.\n",
      "C:\\Users\\movil\\AppData\\Local\\Temp\\ipykernel_26928\\1579954593.py:4: FutureWarning: suggest_loguniform has been deprecated in v3.0.0. This feature will be removed in v6.0.0. See https://github.com/optuna/optuna/releases/tag/v3.0.0. Use suggest_float(..., log=True) instead.\n",
      "  C = trial.suggest_loguniform('C', 0.01, 10.0)\n",
      "[I 2024-06-04 14:25:52,757] Trial 65 finished with value: 0.665 and parameters: {'penalty': 'l1', 'C': 0.1306334081168228, 'max_iter': 799, 'solver': 'saga'}. Best is trial 13 with value: 0.805.\n",
      "C:\\Users\\movil\\AppData\\Local\\Temp\\ipykernel_26928\\1579954593.py:4: FutureWarning: suggest_loguniform has been deprecated in v3.0.0. This feature will be removed in v6.0.0. See https://github.com/optuna/optuna/releases/tag/v3.0.0. Use suggest_float(..., log=True) instead.\n",
      "  C = trial.suggest_loguniform('C', 0.01, 10.0)\n",
      "C:\\Users\\movil\\AppData\\Local\\Packages\\PythonSoftwareFoundation.Python.3.10_qbz5n2kfra8p0\\LocalCache\\local-packages\\Python310\\site-packages\\sklearn\\linear_model\\_sag.py:349: ConvergenceWarning: The max_iter was reached which means the coef_ did not converge\n",
      "  warnings.warn(\n",
      "[I 2024-06-04 14:25:53,822] Trial 66 finished with value: 0.79 and parameters: {'penalty': 'l1', 'C': 1.789011792871036, 'max_iter': 779, 'solver': 'saga'}. Best is trial 13 with value: 0.805.\n",
      "C:\\Users\\movil\\AppData\\Local\\Temp\\ipykernel_26928\\1579954593.py:4: FutureWarning: suggest_loguniform has been deprecated in v3.0.0. This feature will be removed in v6.0.0. See https://github.com/optuna/optuna/releases/tag/v3.0.0. Use suggest_float(..., log=True) instead.\n",
      "  C = trial.suggest_loguniform('C', 0.01, 10.0)\n",
      "[I 2024-06-04 14:25:53,835] Trial 67 finished with value: 0.715 and parameters: {'penalty': 'l2', 'C': 0.09123233767937085, 'max_iter': 906, 'solver': 'liblinear'}. Best is trial 13 with value: 0.805.\n",
      "C:\\Users\\movil\\AppData\\Local\\Temp\\ipykernel_26928\\1579954593.py:4: FutureWarning: suggest_loguniform has been deprecated in v3.0.0. This feature will be removed in v6.0.0. See https://github.com/optuna/optuna/releases/tag/v3.0.0. Use suggest_float(..., log=True) instead.\n",
      "  C = trial.suggest_loguniform('C', 0.01, 10.0)\n",
      "[I 2024-06-04 14:25:53,849] Trial 68 finished with value: 0.665 and parameters: {'penalty': 'l1', 'C': 0.0907697026535511, 'max_iter': 956, 'solver': 'liblinear'}. Best is trial 13 with value: 0.805.\n",
      "C:\\Users\\movil\\AppData\\Local\\Temp\\ipykernel_26928\\1579954593.py:4: FutureWarning: suggest_loguniform has been deprecated in v3.0.0. This feature will be removed in v6.0.0. See https://github.com/optuna/optuna/releases/tag/v3.0.0. Use suggest_float(..., log=True) instead.\n",
      "  C = trial.suggest_loguniform('C', 0.01, 10.0)\n",
      "[I 2024-06-04 14:25:53,899] Trial 69 finished with value: 0.64 and parameters: {'penalty': 'l1', 'C': 0.07579356154838335, 'max_iter': 396, 'solver': 'saga'}. Best is trial 13 with value: 0.805.\n",
      "C:\\Users\\movil\\AppData\\Local\\Temp\\ipykernel_26928\\1579954593.py:4: FutureWarning: suggest_loguniform has been deprecated in v3.0.0. This feature will be removed in v6.0.0. See https://github.com/optuna/optuna/releases/tag/v3.0.0. Use suggest_float(..., log=True) instead.\n",
      "  C = trial.suggest_loguniform('C', 0.01, 10.0)\n",
      "[I 2024-06-04 14:25:53,920] Trial 70 finished with value: 0.57 and parameters: {'penalty': 'l1', 'C': 0.01877665856576686, 'max_iter': 545, 'solver': 'saga'}. Best is trial 13 with value: 0.805.\n",
      "C:\\Users\\movil\\AppData\\Local\\Temp\\ipykernel_26928\\1579954593.py:4: FutureWarning: suggest_loguniform has been deprecated in v3.0.0. This feature will be removed in v6.0.0. See https://github.com/optuna/optuna/releases/tag/v3.0.0. Use suggest_float(..., log=True) instead.\n",
      "  C = trial.suggest_loguniform('C', 0.01, 10.0)\n",
      "[I 2024-06-04 14:25:53,963] Trial 71 finished with value: 0.74 and parameters: {'penalty': 'l2', 'C': 0.1129132837226, 'max_iter': 205, 'solver': 'saga'}. Best is trial 13 with value: 0.805.\n",
      "C:\\Users\\movil\\AppData\\Local\\Temp\\ipykernel_26928\\1579954593.py:4: FutureWarning: suggest_loguniform has been deprecated in v3.0.0. This feature will be removed in v6.0.0. See https://github.com/optuna/optuna/releases/tag/v3.0.0. Use suggest_float(..., log=True) instead.\n",
      "  C = trial.suggest_loguniform('C', 0.01, 10.0)\n",
      "[I 2024-06-04 14:25:53,986] Trial 72 finished with value: 0.57 and parameters: {'penalty': 'l1', 'C': 0.017878061147648464, 'max_iter': 731, 'solver': 'saga'}. Best is trial 13 with value: 0.805.\n",
      "C:\\Users\\movil\\AppData\\Local\\Temp\\ipykernel_26928\\1579954593.py:4: FutureWarning: suggest_loguniform has been deprecated in v3.0.0. This feature will be removed in v6.0.0. See https://github.com/optuna/optuna/releases/tag/v3.0.0. Use suggest_float(..., log=True) instead.\n",
      "  C = trial.suggest_loguniform('C', 0.01, 10.0)\n",
      "[I 2024-06-04 14:25:53,999] Trial 73 finished with value: 0.57 and parameters: {'penalty': 'l1', 'C': 0.017968554542843712, 'max_iter': 988, 'solver': 'liblinear'}. Best is trial 13 with value: 0.805.\n",
      "C:\\Users\\movil\\AppData\\Local\\Temp\\ipykernel_26928\\1579954593.py:4: FutureWarning: suggest_loguniform has been deprecated in v3.0.0. This feature will be removed in v6.0.0. See https://github.com/optuna/optuna/releases/tag/v3.0.0. Use suggest_float(..., log=True) instead.\n",
      "  C = trial.suggest_loguniform('C', 0.01, 10.0)\n",
      "[I 2024-06-04 14:25:54,044] Trial 74 finished with value: 0.795 and parameters: {'penalty': 'l2', 'C': 9.078272014381131, 'max_iter': 778, 'solver': 'liblinear'}. Best is trial 13 with value: 0.805.\n",
      "C:\\Users\\movil\\AppData\\Local\\Temp\\ipykernel_26928\\1579954593.py:4: FutureWarning: suggest_loguniform has been deprecated in v3.0.0. This feature will be removed in v6.0.0. See https://github.com/optuna/optuna/releases/tag/v3.0.0. Use suggest_float(..., log=True) instead.\n",
      "  C = trial.suggest_loguniform('C', 0.01, 10.0)\n",
      "[I 2024-06-04 14:25:54,140] Trial 75 finished with value: 0.72 and parameters: {'penalty': 'l1', 'C': 0.18735531924000176, 'max_iter': 916, 'solver': 'saga'}. Best is trial 13 with value: 0.805.\n",
      "C:\\Users\\movil\\AppData\\Local\\Temp\\ipykernel_26928\\1579954593.py:4: FutureWarning: suggest_loguniform has been deprecated in v3.0.0. This feature will be removed in v6.0.0. See https://github.com/optuna/optuna/releases/tag/v3.0.0. Use suggest_float(..., log=True) instead.\n",
      "  C = trial.suggest_loguniform('C', 0.01, 10.0)\n",
      "[I 2024-06-04 14:25:54,183] Trial 76 finished with value: 0.685 and parameters: {'penalty': 'l2', 'C': 0.014754001628061711, 'max_iter': 207, 'solver': 'saga'}. Best is trial 13 with value: 0.805.\n",
      "C:\\Users\\movil\\AppData\\Local\\Temp\\ipykernel_26928\\1579954593.py:4: FutureWarning: suggest_loguniform has been deprecated in v3.0.0. This feature will be removed in v6.0.0. See https://github.com/optuna/optuna/releases/tag/v3.0.0. Use suggest_float(..., log=True) instead.\n",
      "  C = trial.suggest_loguniform('C', 0.01, 10.0)\n",
      "C:\\Users\\movil\\AppData\\Local\\Packages\\PythonSoftwareFoundation.Python.3.10_qbz5n2kfra8p0\\LocalCache\\local-packages\\Python310\\site-packages\\sklearn\\linear_model\\_sag.py:349: ConvergenceWarning: The max_iter was reached which means the coef_ did not converge\n",
      "  warnings.warn(\n",
      "[I 2024-06-04 14:25:54,801] Trial 77 finished with value: 0.78 and parameters: {'penalty': 'l1', 'C': 7.700477308294277, 'max_iter': 437, 'solver': 'saga'}. Best is trial 13 with value: 0.805.\n",
      "C:\\Users\\movil\\AppData\\Local\\Temp\\ipykernel_26928\\1579954593.py:4: FutureWarning: suggest_loguniform has been deprecated in v3.0.0. This feature will be removed in v6.0.0. See https://github.com/optuna/optuna/releases/tag/v3.0.0. Use suggest_float(..., log=True) instead.\n",
      "  C = trial.suggest_loguniform('C', 0.01, 10.0)\n",
      "[I 2024-06-04 14:25:54,835] Trial 78 finished with value: 0.68 and parameters: {'penalty': 'l2', 'C': 0.010875855381980925, 'max_iter': 973, 'solver': 'saga'}. Best is trial 13 with value: 0.805.\n",
      "C:\\Users\\movil\\AppData\\Local\\Temp\\ipykernel_26928\\1579954593.py:4: FutureWarning: suggest_loguniform has been deprecated in v3.0.0. This feature will be removed in v6.0.0. See https://github.com/optuna/optuna/releases/tag/v3.0.0. Use suggest_float(..., log=True) instead.\n",
      "  C = trial.suggest_loguniform('C', 0.01, 10.0)\n",
      "[I 2024-06-04 14:25:54,855] Trial 79 finished with value: 0.675 and parameters: {'penalty': 'l2', 'C': 0.016649059071639678, 'max_iter': 599, 'solver': 'liblinear'}. Best is trial 13 with value: 0.805.\n",
      "C:\\Users\\movil\\AppData\\Local\\Temp\\ipykernel_26928\\1579954593.py:4: FutureWarning: suggest_loguniform has been deprecated in v3.0.0. This feature will be removed in v6.0.0. See https://github.com/optuna/optuna/releases/tag/v3.0.0. Use suggest_float(..., log=True) instead.\n",
      "  C = trial.suggest_loguniform('C', 0.01, 10.0)\n",
      "[I 2024-06-04 14:25:54,909] Trial 80 finished with value: 0.74 and parameters: {'penalty': 'l2', 'C': 0.23100596499042997, 'max_iter': 665, 'solver': 'saga'}. Best is trial 13 with value: 0.805.\n",
      "C:\\Users\\movil\\AppData\\Local\\Temp\\ipykernel_26928\\1579954593.py:4: FutureWarning: suggest_loguniform has been deprecated in v3.0.0. This feature will be removed in v6.0.0. See https://github.com/optuna/optuna/releases/tag/v3.0.0. Use suggest_float(..., log=True) instead.\n",
      "  C = trial.suggest_loguniform('C', 0.01, 10.0)\n",
      "[I 2024-06-04 14:25:55,027] Trial 81 finished with value: 0.795 and parameters: {'penalty': 'l2', 'C': 7.09960934247593, 'max_iter': 902, 'solver': 'saga'}. Best is trial 13 with value: 0.805.\n",
      "C:\\Users\\movil\\AppData\\Local\\Temp\\ipykernel_26928\\1579954593.py:4: FutureWarning: suggest_loguniform has been deprecated in v3.0.0. This feature will be removed in v6.0.0. See https://github.com/optuna/optuna/releases/tag/v3.0.0. Use suggest_float(..., log=True) instead.\n",
      "  C = trial.suggest_loguniform('C', 0.01, 10.0)\n",
      "[I 2024-06-04 14:25:55,056] Trial 82 finished with value: 0.735 and parameters: {'penalty': 'l1', 'C': 0.24609070748295203, 'max_iter': 418, 'solver': 'liblinear'}. Best is trial 13 with value: 0.805.\n",
      "C:\\Users\\movil\\AppData\\Local\\Temp\\ipykernel_26928\\1579954593.py:4: FutureWarning: suggest_loguniform has been deprecated in v3.0.0. This feature will be removed in v6.0.0. See https://github.com/optuna/optuna/releases/tag/v3.0.0. Use suggest_float(..., log=True) instead.\n",
      "  C = trial.suggest_loguniform('C', 0.01, 10.0)\n",
      "[I 2024-06-04 14:25:55,186] Trial 83 finished with value: 0.76 and parameters: {'penalty': 'l2', 'C': 1.2430401086355434, 'max_iter': 583, 'solver': 'saga'}. Best is trial 13 with value: 0.805.\n",
      "C:\\Users\\movil\\AppData\\Local\\Temp\\ipykernel_26928\\1579954593.py:4: FutureWarning: suggest_loguniform has been deprecated in v3.0.0. This feature will be removed in v6.0.0. See https://github.com/optuna/optuna/releases/tag/v3.0.0. Use suggest_float(..., log=True) instead.\n",
      "  C = trial.suggest_loguniform('C', 0.01, 10.0)\n",
      "[I 2024-06-04 14:25:55,371] Trial 84 finished with value: 0.78 and parameters: {'penalty': 'l1', 'C': 5.404823964051239, 'max_iter': 841, 'solver': 'liblinear'}. Best is trial 13 with value: 0.805.\n",
      "C:\\Users\\movil\\AppData\\Local\\Temp\\ipykernel_26928\\1579954593.py:4: FutureWarning: suggest_loguniform has been deprecated in v3.0.0. This feature will be removed in v6.0.0. See https://github.com/optuna/optuna/releases/tag/v3.0.0. Use suggest_float(..., log=True) instead.\n",
      "  C = trial.suggest_loguniform('C', 0.01, 10.0)\n",
      "[I 2024-06-04 14:25:55,552] Trial 85 finished with value: 0.79 and parameters: {'penalty': 'l1', 'C': 6.283266061384215, 'max_iter': 880, 'solver': 'liblinear'}. Best is trial 13 with value: 0.805.\n",
      "C:\\Users\\movil\\AppData\\Local\\Temp\\ipykernel_26928\\1579954593.py:4: FutureWarning: suggest_loguniform has been deprecated in v3.0.0. This feature will be removed in v6.0.0. See https://github.com/optuna/optuna/releases/tag/v3.0.0. Use suggest_float(..., log=True) instead.\n",
      "  C = trial.suggest_loguniform('C', 0.01, 10.0)\n",
      "[I 2024-06-04 14:25:55,574] Trial 86 finished with value: 0.795 and parameters: {'penalty': 'l2', 'C': 9.158585158712828, 'max_iter': 235, 'solver': 'liblinear'}. Best is trial 13 with value: 0.805.\n",
      "C:\\Users\\movil\\AppData\\Local\\Temp\\ipykernel_26928\\1579954593.py:4: FutureWarning: suggest_loguniform has been deprecated in v3.0.0. This feature will be removed in v6.0.0. See https://github.com/optuna/optuna/releases/tag/v3.0.0. Use suggest_float(..., log=True) instead.\n",
      "  C = trial.suggest_loguniform('C', 0.01, 10.0)\n",
      "[I 2024-06-04 14:25:55,685] Trial 87 finished with value: 0.805 and parameters: {'penalty': 'l1', 'C': 3.2733022885465073, 'max_iter': 522, 'solver': 'liblinear'}. Best is trial 13 with value: 0.805.\n",
      "C:\\Users\\movil\\AppData\\Local\\Temp\\ipykernel_26928\\1579954593.py:4: FutureWarning: suggest_loguniform has been deprecated in v3.0.0. This feature will be removed in v6.0.0. See https://github.com/optuna/optuna/releases/tag/v3.0.0. Use suggest_float(..., log=True) instead.\n",
      "  C = trial.suggest_loguniform('C', 0.01, 10.0)\n",
      "[I 2024-06-04 14:25:55,711] Trial 88 finished with value: 0.765 and parameters: {'penalty': 'l2', 'C': 2.746015772449605, 'max_iter': 1000, 'solver': 'liblinear'}. Best is trial 13 with value: 0.805.\n",
      "C:\\Users\\movil\\AppData\\Local\\Temp\\ipykernel_26928\\1579954593.py:4: FutureWarning: suggest_loguniform has been deprecated in v3.0.0. This feature will be removed in v6.0.0. See https://github.com/optuna/optuna/releases/tag/v3.0.0. Use suggest_float(..., log=True) instead.\n",
      "  C = trial.suggest_loguniform('C', 0.01, 10.0)\n",
      "[I 2024-06-04 14:25:55,742] Trial 89 finished with value: 0.775 and parameters: {'penalty': 'l2', 'C': 3.5395020812446245, 'max_iter': 322, 'solver': 'liblinear'}. Best is trial 13 with value: 0.805.\n",
      "C:\\Users\\movil\\AppData\\Local\\Temp\\ipykernel_26928\\1579954593.py:4: FutureWarning: suggest_loguniform has been deprecated in v3.0.0. This feature will be removed in v6.0.0. See https://github.com/optuna/optuna/releases/tag/v3.0.0. Use suggest_float(..., log=True) instead.\n",
      "  C = trial.suggest_loguniform('C', 0.01, 10.0)\n",
      "[I 2024-06-04 14:25:55,773] Trial 90 finished with value: 0.64 and parameters: {'penalty': 'l1', 'C': 0.04852085180693703, 'max_iter': 705, 'solver': 'liblinear'}. Best is trial 13 with value: 0.805.\n",
      "C:\\Users\\movil\\AppData\\Local\\Temp\\ipykernel_26928\\1579954593.py:4: FutureWarning: suggest_loguniform has been deprecated in v3.0.0. This feature will be removed in v6.0.0. See https://github.com/optuna/optuna/releases/tag/v3.0.0. Use suggest_float(..., log=True) instead.\n",
      "  C = trial.suggest_loguniform('C', 0.01, 10.0)\n",
      "[I 2024-06-04 14:25:55,839] Trial 91 finished with value: 0.74 and parameters: {'penalty': 'l2', 'C': 0.36385060610699704, 'max_iter': 795, 'solver': 'saga'}. Best is trial 13 with value: 0.805.\n",
      "C:\\Users\\movil\\AppData\\Local\\Temp\\ipykernel_26928\\1579954593.py:4: FutureWarning: suggest_loguniform has been deprecated in v3.0.0. This feature will be removed in v6.0.0. See https://github.com/optuna/optuna/releases/tag/v3.0.0. Use suggest_float(..., log=True) instead.\n",
      "  C = trial.suggest_loguniform('C', 0.01, 10.0)\n",
      "[I 2024-06-04 14:25:55,873] Trial 92 finished with value: 0.775 and parameters: {'penalty': 'l2', 'C': 4.265410247347661, 'max_iter': 463, 'solver': 'liblinear'}. Best is trial 13 with value: 0.805.\n",
      "C:\\Users\\movil\\AppData\\Local\\Temp\\ipykernel_26928\\1579954593.py:4: FutureWarning: suggest_loguniform has been deprecated in v3.0.0. This feature will be removed in v6.0.0. See https://github.com/optuna/optuna/releases/tag/v3.0.0. Use suggest_float(..., log=True) instead.\n",
      "  C = trial.suggest_loguniform('C', 0.01, 10.0)\n",
      "[I 2024-06-04 14:25:55,956] Trial 93 finished with value: 0.78 and parameters: {'penalty': 'l1', 'C': 1.2949091638211225, 'max_iter': 291, 'solver': 'liblinear'}. Best is trial 13 with value: 0.805.\n",
      "C:\\Users\\movil\\AppData\\Local\\Temp\\ipykernel_26928\\1579954593.py:4: FutureWarning: suggest_loguniform has been deprecated in v3.0.0. This feature will be removed in v6.0.0. See https://github.com/optuna/optuna/releases/tag/v3.0.0. Use suggest_float(..., log=True) instead.\n",
      "  C = trial.suggest_loguniform('C', 0.01, 10.0)\n",
      "[I 2024-06-04 14:25:55,979] Trial 94 finished with value: 0.725 and parameters: {'penalty': 'l2', 'C': 0.15022151421368923, 'max_iter': 494, 'solver': 'liblinear'}. Best is trial 13 with value: 0.805.\n",
      "C:\\Users\\movil\\AppData\\Local\\Temp\\ipykernel_26928\\1579954593.py:4: FutureWarning: suggest_loguniform has been deprecated in v3.0.0. This feature will be removed in v6.0.0. See https://github.com/optuna/optuna/releases/tag/v3.0.0. Use suggest_float(..., log=True) instead.\n",
      "  C = trial.suggest_loguniform('C', 0.01, 10.0)\n",
      "[I 2024-06-04 14:25:56,019] Trial 95 finished with value: 0.745 and parameters: {'penalty': 'l2', 'C': 0.15474917663181323, 'max_iter': 660, 'solver': 'saga'}. Best is trial 13 with value: 0.805.\n",
      "C:\\Users\\movil\\AppData\\Local\\Temp\\ipykernel_26928\\1579954593.py:4: FutureWarning: suggest_loguniform has been deprecated in v3.0.0. This feature will be removed in v6.0.0. See https://github.com/optuna/optuna/releases/tag/v3.0.0. Use suggest_float(..., log=True) instead.\n",
      "  C = trial.suggest_loguniform('C', 0.01, 10.0)\n",
      "[I 2024-06-04 14:25:56,072] Trial 96 finished with value: 0.74 and parameters: {'penalty': 'l2', 'C': 0.2994669360763513, 'max_iter': 332, 'solver': 'saga'}. Best is trial 13 with value: 0.805.\n",
      "C:\\Users\\movil\\AppData\\Local\\Temp\\ipykernel_26928\\1579954593.py:4: FutureWarning: suggest_loguniform has been deprecated in v3.0.0. This feature will be removed in v6.0.0. See https://github.com/optuna/optuna/releases/tag/v3.0.0. Use suggest_float(..., log=True) instead.\n",
      "  C = trial.suggest_loguniform('C', 0.01, 10.0)\n",
      "C:\\Users\\movil\\AppData\\Local\\Packages\\PythonSoftwareFoundation.Python.3.10_qbz5n2kfra8p0\\LocalCache\\local-packages\\Python310\\site-packages\\sklearn\\linear_model\\_sag.py:349: ConvergenceWarning: The max_iter was reached which means the coef_ did not converge\n",
      "  warnings.warn(\n",
      "[I 2024-06-04 14:25:56,521] Trial 97 finished with value: 0.775 and parameters: {'penalty': 'l1', 'C': 0.7946988104669667, 'max_iter': 316, 'solver': 'saga'}. Best is trial 13 with value: 0.805.\n",
      "C:\\Users\\movil\\AppData\\Local\\Temp\\ipykernel_26928\\1579954593.py:4: FutureWarning: suggest_loguniform has been deprecated in v3.0.0. This feature will be removed in v6.0.0. See https://github.com/optuna/optuna/releases/tag/v3.0.0. Use suggest_float(..., log=True) instead.\n",
      "  C = trial.suggest_loguniform('C', 0.01, 10.0)\n",
      "[I 2024-06-04 14:25:56,556] Trial 98 finished with value: 0.695 and parameters: {'penalty': 'l2', 'C': 0.026090446888493463, 'max_iter': 677, 'solver': 'saga'}. Best is trial 13 with value: 0.805.\n",
      "C:\\Users\\movil\\AppData\\Local\\Temp\\ipykernel_26928\\1579954593.py:4: FutureWarning: suggest_loguniform has been deprecated in v3.0.0. This feature will be removed in v6.0.0. See https://github.com/optuna/optuna/releases/tag/v3.0.0. Use suggest_float(..., log=True) instead.\n",
      "  C = trial.suggest_loguniform('C', 0.01, 10.0)\n",
      "[I 2024-06-04 14:25:56,617] Trial 99 finished with value: 0.79 and parameters: {'penalty': 'l1', 'C': 1.0061742891321552, 'max_iter': 255, 'solver': 'liblinear'}. Best is trial 13 with value: 0.805.\n",
      "C:\\Users\\movil\\AppData\\Local\\Temp\\ipykernel_26928\\1579954593.py:4: FutureWarning: suggest_loguniform has been deprecated in v3.0.0. This feature will be removed in v6.0.0. See https://github.com/optuna/optuna/releases/tag/v3.0.0. Use suggest_float(..., log=True) instead.\n",
      "  C = trial.suggest_loguniform('C', 0.01, 10.0)\n",
      "[I 2024-06-04 14:25:56,649] Trial 100 finished with value: 0.705 and parameters: {'penalty': 'l2', 'C': 0.03396498701004283, 'max_iter': 179, 'solver': 'saga'}. Best is trial 13 with value: 0.805.\n",
      "C:\\Users\\movil\\AppData\\Local\\Temp\\ipykernel_26928\\1579954593.py:4: FutureWarning: suggest_loguniform has been deprecated in v3.0.0. This feature will be removed in v6.0.0. See https://github.com/optuna/optuna/releases/tag/v3.0.0. Use suggest_float(..., log=True) instead.\n",
      "  C = trial.suggest_loguniform('C', 0.01, 10.0)\n",
      "[I 2024-06-04 14:25:56,692] Trial 101 finished with value: 0.74 and parameters: {'penalty': 'l2', 'C': 0.32378133736281073, 'max_iter': 722, 'solver': 'saga'}. Best is trial 13 with value: 0.805.\n",
      "C:\\Users\\movil\\AppData\\Local\\Temp\\ipykernel_26928\\1579954593.py:4: FutureWarning: suggest_loguniform has been deprecated in v3.0.0. This feature will be removed in v6.0.0. See https://github.com/optuna/optuna/releases/tag/v3.0.0. Use suggest_float(..., log=True) instead.\n",
      "  C = trial.suggest_loguniform('C', 0.01, 10.0)\n",
      "C:\\Users\\movil\\AppData\\Local\\Packages\\PythonSoftwareFoundation.Python.3.10_qbz5n2kfra8p0\\LocalCache\\local-packages\\Python310\\site-packages\\sklearn\\linear_model\\_sag.py:349: ConvergenceWarning: The max_iter was reached which means the coef_ did not converge\n",
      "  warnings.warn(\n",
      "[I 2024-06-04 14:25:57,896] Trial 102 finished with value: 0.785 and parameters: {'penalty': 'l1', 'C': 4.175763293118453, 'max_iter': 929, 'solver': 'saga'}. Best is trial 13 with value: 0.805.\n",
      "C:\\Users\\movil\\AppData\\Local\\Temp\\ipykernel_26928\\1579954593.py:4: FutureWarning: suggest_loguniform has been deprecated in v3.0.0. This feature will be removed in v6.0.0. See https://github.com/optuna/optuna/releases/tag/v3.0.0. Use suggest_float(..., log=True) instead.\n",
      "  C = trial.suggest_loguniform('C', 0.01, 10.0)\n",
      "[I 2024-06-04 14:25:57,940] Trial 103 finished with value: 0.64 and parameters: {'penalty': 'l1', 'C': 0.03577363388951147, 'max_iter': 288, 'solver': 'saga'}. Best is trial 13 with value: 0.805.\n",
      "C:\\Users\\movil\\AppData\\Local\\Temp\\ipykernel_26928\\1579954593.py:4: FutureWarning: suggest_loguniform has been deprecated in v3.0.0. This feature will be removed in v6.0.0. See https://github.com/optuna/optuna/releases/tag/v3.0.0. Use suggest_float(..., log=True) instead.\n",
      "  C = trial.suggest_loguniform('C', 0.01, 10.0)\n",
      "[I 2024-06-04 14:25:58,046] Trial 104 finished with value: 0.74 and parameters: {'penalty': 'l1', 'C': 0.24412044244324688, 'max_iter': 773, 'solver': 'saga'}. Best is trial 13 with value: 0.805.\n",
      "C:\\Users\\movil\\AppData\\Local\\Temp\\ipykernel_26928\\1579954593.py:4: FutureWarning: suggest_loguniform has been deprecated in v3.0.0. This feature will be removed in v6.0.0. See https://github.com/optuna/optuna/releases/tag/v3.0.0. Use suggest_float(..., log=True) instead.\n",
      "  C = trial.suggest_loguniform('C', 0.01, 10.0)\n",
      "[I 2024-06-04 14:25:58,094] Trial 105 finished with value: 0.74 and parameters: {'penalty': 'l2', 'C': 0.34279330112989786, 'max_iter': 579, 'solver': 'saga'}. Best is trial 13 with value: 0.805.\n",
      "C:\\Users\\movil\\AppData\\Local\\Temp\\ipykernel_26928\\1579954593.py:4: FutureWarning: suggest_loguniform has been deprecated in v3.0.0. This feature will be removed in v6.0.0. See https://github.com/optuna/optuna/releases/tag/v3.0.0. Use suggest_float(..., log=True) instead.\n",
      "  C = trial.suggest_loguniform('C', 0.01, 10.0)\n",
      "[I 2024-06-04 14:25:58,148] Trial 106 finished with value: 0.64 and parameters: {'penalty': 'l1', 'C': 0.06422878295869772, 'max_iter': 439, 'solver': 'saga'}. Best is trial 13 with value: 0.805.\n",
      "C:\\Users\\movil\\AppData\\Local\\Temp\\ipykernel_26928\\1579954593.py:4: FutureWarning: suggest_loguniform has been deprecated in v3.0.0. This feature will be removed in v6.0.0. See https://github.com/optuna/optuna/releases/tag/v3.0.0. Use suggest_float(..., log=True) instead.\n",
      "  C = trial.suggest_loguniform('C', 0.01, 10.0)\n",
      "[I 2024-06-04 14:25:58,185] Trial 107 finished with value: 0.7 and parameters: {'penalty': 'l2', 'C': 0.022871065383877762, 'max_iter': 902, 'solver': 'saga'}. Best is trial 13 with value: 0.805.\n",
      "C:\\Users\\movil\\AppData\\Local\\Temp\\ipykernel_26928\\1579954593.py:4: FutureWarning: suggest_loguniform has been deprecated in v3.0.0. This feature will be removed in v6.0.0. See https://github.com/optuna/optuna/releases/tag/v3.0.0. Use suggest_float(..., log=True) instead.\n",
      "  C = trial.suggest_loguniform('C', 0.01, 10.0)\n",
      "[I 2024-06-04 14:25:58,243] Trial 108 finished with value: 0.57 and parameters: {'penalty': 'l1', 'C': 0.0182289168637327, 'max_iter': 583, 'solver': 'saga'}. Best is trial 13 with value: 0.805.\n",
      "C:\\Users\\movil\\AppData\\Local\\Temp\\ipykernel_26928\\1579954593.py:4: FutureWarning: suggest_loguniform has been deprecated in v3.0.0. This feature will be removed in v6.0.0. See https://github.com/optuna/optuna/releases/tag/v3.0.0. Use suggest_float(..., log=True) instead.\n",
      "  C = trial.suggest_loguniform('C', 0.01, 10.0)\n",
      "[I 2024-06-04 14:25:58,284] Trial 109 finished with value: 0.64 and parameters: {'penalty': 'l1', 'C': 0.07101134154276112, 'max_iter': 427, 'solver': 'liblinear'}. Best is trial 13 with value: 0.805.\n",
      "C:\\Users\\movil\\AppData\\Local\\Temp\\ipykernel_26928\\1579954593.py:4: FutureWarning: suggest_loguniform has been deprecated in v3.0.0. This feature will be removed in v6.0.0. See https://github.com/optuna/optuna/releases/tag/v3.0.0. Use suggest_float(..., log=True) instead.\n",
      "  C = trial.suggest_loguniform('C', 0.01, 10.0)\n",
      "[I 2024-06-04 14:25:58,373] Trial 110 finished with value: 0.745 and parameters: {'penalty': 'l2', 'C': 0.6566356505484117, 'max_iter': 313, 'solver': 'saga'}. Best is trial 13 with value: 0.805.\n",
      "C:\\Users\\movil\\AppData\\Local\\Temp\\ipykernel_26928\\1579954593.py:4: FutureWarning: suggest_loguniform has been deprecated in v3.0.0. This feature will be removed in v6.0.0. See https://github.com/optuna/optuna/releases/tag/v3.0.0. Use suggest_float(..., log=True) instead.\n",
      "  C = trial.suggest_loguniform('C', 0.01, 10.0)\n",
      "[I 2024-06-04 14:25:58,431] Trial 111 finished with value: 0.64 and parameters: {'penalty': 'l1', 'C': 0.03628282316625832, 'max_iter': 356, 'solver': 'saga'}. Best is trial 13 with value: 0.805.\n",
      "C:\\Users\\movil\\AppData\\Local\\Temp\\ipykernel_26928\\1579954593.py:4: FutureWarning: suggest_loguniform has been deprecated in v3.0.0. This feature will be removed in v6.0.0. See https://github.com/optuna/optuna/releases/tag/v3.0.0. Use suggest_float(..., log=True) instead.\n",
      "  C = trial.suggest_loguniform('C', 0.01, 10.0)\n",
      "[I 2024-06-04 14:25:58,483] Trial 112 finished with value: 0.745 and parameters: {'penalty': 'l2', 'C': 0.17029052365462627, 'max_iter': 985, 'solver': 'saga'}. Best is trial 13 with value: 0.805.\n",
      "C:\\Users\\movil\\AppData\\Local\\Temp\\ipykernel_26928\\1579954593.py:4: FutureWarning: suggest_loguniform has been deprecated in v3.0.0. This feature will be removed in v6.0.0. See https://github.com/optuna/optuna/releases/tag/v3.0.0. Use suggest_float(..., log=True) instead.\n",
      "  C = trial.suggest_loguniform('C', 0.01, 10.0)\n",
      "C:\\Users\\movil\\AppData\\Local\\Packages\\PythonSoftwareFoundation.Python.3.10_qbz5n2kfra8p0\\LocalCache\\local-packages\\Python310\\site-packages\\sklearn\\linear_model\\_sag.py:349: ConvergenceWarning: The max_iter was reached which means the coef_ did not converge\n",
      "  warnings.warn(\n",
      "[I 2024-06-04 14:25:59,051] Trial 113 finished with value: 0.795 and parameters: {'penalty': 'l1', 'C': 2.8262866872541355, 'max_iter': 332, 'solver': 'saga'}. Best is trial 13 with value: 0.805.\n",
      "C:\\Users\\movil\\AppData\\Local\\Temp\\ipykernel_26928\\1579954593.py:4: FutureWarning: suggest_loguniform has been deprecated in v3.0.0. This feature will be removed in v6.0.0. See https://github.com/optuna/optuna/releases/tag/v3.0.0. Use suggest_float(..., log=True) instead.\n",
      "  C = trial.suggest_loguniform('C', 0.01, 10.0)\n",
      "[I 2024-06-04 14:25:59,136] Trial 114 finished with value: 0.755 and parameters: {'penalty': 'l1', 'C': 0.5186066345484336, 'max_iter': 352, 'solver': 'liblinear'}. Best is trial 13 with value: 0.805.\n",
      "C:\\Users\\movil\\AppData\\Local\\Temp\\ipykernel_26928\\1579954593.py:4: FutureWarning: suggest_loguniform has been deprecated in v3.0.0. This feature will be removed in v6.0.0. See https://github.com/optuna/optuna/releases/tag/v3.0.0. Use suggest_float(..., log=True) instead.\n",
      "  C = trial.suggest_loguniform('C', 0.01, 10.0)\n",
      "[I 2024-06-04 14:25:59,186] Trial 115 finished with value: 0.74 and parameters: {'penalty': 'l2', 'C': 0.33329679390406936, 'max_iter': 318, 'solver': 'saga'}. Best is trial 13 with value: 0.805.\n",
      "C:\\Users\\movil\\AppData\\Local\\Temp\\ipykernel_26928\\1579954593.py:4: FutureWarning: suggest_loguniform has been deprecated in v3.0.0. This feature will be removed in v6.0.0. See https://github.com/optuna/optuna/releases/tag/v3.0.0. Use suggest_float(..., log=True) instead.\n",
      "  C = trial.suggest_loguniform('C', 0.01, 10.0)\n",
      "[I 2024-06-04 14:25:59,208] Trial 116 finished with value: 0.685 and parameters: {'penalty': 'l2', 'C': 0.029046121241795463, 'max_iter': 533, 'solver': 'liblinear'}. Best is trial 13 with value: 0.805.\n",
      "C:\\Users\\movil\\AppData\\Local\\Temp\\ipykernel_26928\\1579954593.py:4: FutureWarning: suggest_loguniform has been deprecated in v3.0.0. This feature will be removed in v6.0.0. See https://github.com/optuna/optuna/releases/tag/v3.0.0. Use suggest_float(..., log=True) instead.\n",
      "  C = trial.suggest_loguniform('C', 0.01, 10.0)\n",
      "[I 2024-06-04 14:25:59,240] Trial 117 finished with value: 0.57 and parameters: {'penalty': 'l1', 'C': 0.015492621523313821, 'max_iter': 991, 'solver': 'saga'}. Best is trial 13 with value: 0.805.\n",
      "C:\\Users\\movil\\AppData\\Local\\Temp\\ipykernel_26928\\1579954593.py:4: FutureWarning: suggest_loguniform has been deprecated in v3.0.0. This feature will be removed in v6.0.0. See https://github.com/optuna/optuna/releases/tag/v3.0.0. Use suggest_float(..., log=True) instead.\n",
      "  C = trial.suggest_loguniform('C', 0.01, 10.0)\n",
      "[I 2024-06-04 14:25:59,273] Trial 118 finished with value: 0.77 and parameters: {'penalty': 'l2', 'C': 1.9084622754179417, 'max_iter': 636, 'solver': 'liblinear'}. Best is trial 13 with value: 0.805.\n",
      "C:\\Users\\movil\\AppData\\Local\\Temp\\ipykernel_26928\\1579954593.py:4: FutureWarning: suggest_loguniform has been deprecated in v3.0.0. This feature will be removed in v6.0.0. See https://github.com/optuna/optuna/releases/tag/v3.0.0. Use suggest_float(..., log=True) instead.\n",
      "  C = trial.suggest_loguniform('C', 0.01, 10.0)\n",
      "[I 2024-06-04 14:25:59,419] Trial 119 finished with value: 0.785 and parameters: {'penalty': 'l2', 'C': 3.1035462614604032, 'max_iter': 969, 'solver': 'saga'}. Best is trial 13 with value: 0.805.\n",
      "C:\\Users\\movil\\AppData\\Local\\Temp\\ipykernel_26928\\1579954593.py:4: FutureWarning: suggest_loguniform has been deprecated in v3.0.0. This feature will be removed in v6.0.0. See https://github.com/optuna/optuna/releases/tag/v3.0.0. Use suggest_float(..., log=True) instead.\n",
      "  C = trial.suggest_loguniform('C', 0.01, 10.0)\n",
      "[I 2024-06-04 14:25:59,440] Trial 120 finished with value: 0.57 and parameters: {'penalty': 'l1', 'C': 0.015830287491819788, 'max_iter': 767, 'solver': 'saga'}. Best is trial 13 with value: 0.805.\n",
      "C:\\Users\\movil\\AppData\\Local\\Temp\\ipykernel_26928\\1579954593.py:4: FutureWarning: suggest_loguniform has been deprecated in v3.0.0. This feature will be removed in v6.0.0. See https://github.com/optuna/optuna/releases/tag/v3.0.0. Use suggest_float(..., log=True) instead.\n",
      "  C = trial.suggest_loguniform('C', 0.01, 10.0)\n",
      "[I 2024-06-04 14:25:59,488] Trial 121 finished with value: 0.71 and parameters: {'penalty': 'l2', 'C': 0.04026075919920692, 'max_iter': 247, 'solver': 'saga'}. Best is trial 13 with value: 0.805.\n",
      "C:\\Users\\movil\\AppData\\Local\\Temp\\ipykernel_26928\\1579954593.py:4: FutureWarning: suggest_loguniform has been deprecated in v3.0.0. This feature will be removed in v6.0.0. See https://github.com/optuna/optuna/releases/tag/v3.0.0. Use suggest_float(..., log=True) instead.\n",
      "  C = trial.suggest_loguniform('C', 0.01, 10.0)\n",
      "[I 2024-06-04 14:25:59,589] Trial 122 finished with value: 0.665 and parameters: {'penalty': 'l1', 'C': 0.11925907934771024, 'max_iter': 890, 'solver': 'saga'}. Best is trial 13 with value: 0.805.\n",
      "C:\\Users\\movil\\AppData\\Local\\Temp\\ipykernel_26928\\1579954593.py:4: FutureWarning: suggest_loguniform has been deprecated in v3.0.0. This feature will be removed in v6.0.0. See https://github.com/optuna/optuna/releases/tag/v3.0.0. Use suggest_float(..., log=True) instead.\n",
      "  C = trial.suggest_loguniform('C', 0.01, 10.0)\n",
      "[I 2024-06-04 14:25:59,627] Trial 123 finished with value: 0.735 and parameters: {'penalty': 'l1', 'C': 0.24436519933969406, 'max_iter': 371, 'solver': 'liblinear'}. Best is trial 13 with value: 0.805.\n",
      "C:\\Users\\movil\\AppData\\Local\\Temp\\ipykernel_26928\\1579954593.py:4: FutureWarning: suggest_loguniform has been deprecated in v3.0.0. This feature will be removed in v6.0.0. See https://github.com/optuna/optuna/releases/tag/v3.0.0. Use suggest_float(..., log=True) instead.\n",
      "  C = trial.suggest_loguniform('C', 0.01, 10.0)\n",
      "[I 2024-06-04 14:25:59,655] Trial 124 finished with value: 0.725 and parameters: {'penalty': 'l2', 'C': 0.14179916194912245, 'max_iter': 589, 'solver': 'liblinear'}. Best is trial 13 with value: 0.805.\n",
      "C:\\Users\\movil\\AppData\\Local\\Temp\\ipykernel_26928\\1579954593.py:4: FutureWarning: suggest_loguniform has been deprecated in v3.0.0. This feature will be removed in v6.0.0. See https://github.com/optuna/optuna/releases/tag/v3.0.0. Use suggest_float(..., log=True) instead.\n",
      "  C = trial.suggest_loguniform('C', 0.01, 10.0)\n",
      "[I 2024-06-04 14:25:59,754] Trial 125 finished with value: 0.76 and parameters: {'penalty': 'l2', 'C': 0.7640541856351153, 'max_iter': 401, 'solver': 'saga'}. Best is trial 13 with value: 0.805.\n",
      "C:\\Users\\movil\\AppData\\Local\\Temp\\ipykernel_26928\\1579954593.py:4: FutureWarning: suggest_loguniform has been deprecated in v3.0.0. This feature will be removed in v6.0.0. See https://github.com/optuna/optuna/releases/tag/v3.0.0. Use suggest_float(..., log=True) instead.\n",
      "  C = trial.suggest_loguniform('C', 0.01, 10.0)\n",
      "C:\\Users\\movil\\AppData\\Local\\Packages\\PythonSoftwareFoundation.Python.3.10_qbz5n2kfra8p0\\LocalCache\\local-packages\\Python310\\site-packages\\sklearn\\linear_model\\_sag.py:349: ConvergenceWarning: The max_iter was reached which means the coef_ did not converge\n",
      "  warnings.warn(\n",
      "[I 2024-06-04 14:26:00,751] Trial 126 finished with value: 0.79 and parameters: {'penalty': 'l1', 'C': 4.804826931835747, 'max_iter': 810, 'solver': 'saga'}. Best is trial 13 with value: 0.805.\n",
      "C:\\Users\\movil\\AppData\\Local\\Temp\\ipykernel_26928\\1579954593.py:4: FutureWarning: suggest_loguniform has been deprecated in v3.0.0. This feature will be removed in v6.0.0. See https://github.com/optuna/optuna/releases/tag/v3.0.0. Use suggest_float(..., log=True) instead.\n",
      "  C = trial.suggest_loguniform('C', 0.01, 10.0)\n",
      "[I 2024-06-04 14:26:00,785] Trial 127 finished with value: 0.685 and parameters: {'penalty': 'l2', 'C': 0.01260658058227482, 'max_iter': 613, 'solver': 'saga'}. Best is trial 13 with value: 0.805.\n",
      "C:\\Users\\movil\\AppData\\Local\\Temp\\ipykernel_26928\\1579954593.py:4: FutureWarning: suggest_loguniform has been deprecated in v3.0.0. This feature will be removed in v6.0.0. See https://github.com/optuna/optuna/releases/tag/v3.0.0. Use suggest_float(..., log=True) instead.\n",
      "  C = trial.suggest_loguniform('C', 0.01, 10.0)\n",
      "[I 2024-06-04 14:26:00,818] Trial 128 finished with value: 0.695 and parameters: {'penalty': 'l2', 'C': 0.0214731229544139, 'max_iter': 862, 'solver': 'saga'}. Best is trial 13 with value: 0.805.\n",
      "C:\\Users\\movil\\AppData\\Local\\Temp\\ipykernel_26928\\1579954593.py:4: FutureWarning: suggest_loguniform has been deprecated in v3.0.0. This feature will be removed in v6.0.0. See https://github.com/optuna/optuna/releases/tag/v3.0.0. Use suggest_float(..., log=True) instead.\n",
      "  C = trial.suggest_loguniform('C', 0.01, 10.0)\n",
      "[I 2024-06-04 14:26:00,833] Trial 129 finished with value: 0.64 and parameters: {'penalty': 'l1', 'C': 0.04872526229872034, 'max_iter': 750, 'solver': 'liblinear'}. Best is trial 13 with value: 0.805.\n",
      "C:\\Users\\movil\\AppData\\Local\\Temp\\ipykernel_26928\\1579954593.py:4: FutureWarning: suggest_loguniform has been deprecated in v3.0.0. This feature will be removed in v6.0.0. See https://github.com/optuna/optuna/releases/tag/v3.0.0. Use suggest_float(..., log=True) instead.\n",
      "  C = trial.suggest_loguniform('C', 0.01, 10.0)\n",
      "[I 2024-06-04 14:26:00,886] Trial 130 finished with value: 0.64 and parameters: {'penalty': 'l1', 'C': 0.056937340369173015, 'max_iter': 411, 'solver': 'saga'}. Best is trial 13 with value: 0.805.\n",
      "C:\\Users\\movil\\AppData\\Local\\Temp\\ipykernel_26928\\1579954593.py:4: FutureWarning: suggest_loguniform has been deprecated in v3.0.0. This feature will be removed in v6.0.0. See https://github.com/optuna/optuna/releases/tag/v3.0.0. Use suggest_float(..., log=True) instead.\n",
      "  C = trial.suggest_loguniform('C', 0.01, 10.0)\n",
      "[I 2024-06-04 14:26:01,010] Trial 131 finished with value: 0.74 and parameters: {'penalty': 'l1', 'C': 0.24323015184601973, 'max_iter': 953, 'solver': 'saga'}. Best is trial 13 with value: 0.805.\n",
      "C:\\Users\\movil\\AppData\\Local\\Temp\\ipykernel_26928\\1579954593.py:4: FutureWarning: suggest_loguniform has been deprecated in v3.0.0. This feature will be removed in v6.0.0. See https://github.com/optuna/optuna/releases/tag/v3.0.0. Use suggest_float(..., log=True) instead.\n",
      "  C = trial.suggest_loguniform('C', 0.01, 10.0)\n",
      "[I 2024-06-04 14:26:01,029] Trial 132 finished with value: 0.66 and parameters: {'penalty': 'l2', 'C': 0.011332625871376317, 'max_iter': 885, 'solver': 'liblinear'}. Best is trial 13 with value: 0.805.\n",
      "C:\\Users\\movil\\AppData\\Local\\Temp\\ipykernel_26928\\1579954593.py:4: FutureWarning: suggest_loguniform has been deprecated in v3.0.0. This feature will be removed in v6.0.0. See https://github.com/optuna/optuna/releases/tag/v3.0.0. Use suggest_float(..., log=True) instead.\n",
      "  C = trial.suggest_loguniform('C', 0.01, 10.0)\n",
      "[I 2024-06-04 14:26:01,132] Trial 133 finished with value: 0.76 and parameters: {'penalty': 'l2', 'C': 1.3234754903375765, 'max_iter': 237, 'solver': 'saga'}. Best is trial 13 with value: 0.805.\n",
      "C:\\Users\\movil\\AppData\\Local\\Temp\\ipykernel_26928\\1579954593.py:4: FutureWarning: suggest_loguniform has been deprecated in v3.0.0. This feature will be removed in v6.0.0. See https://github.com/optuna/optuna/releases/tag/v3.0.0. Use suggest_float(..., log=True) instead.\n",
      "  C = trial.suggest_loguniform('C', 0.01, 10.0)\n",
      "[I 2024-06-04 14:26:01,154] Trial 134 finished with value: 0.785 and parameters: {'penalty': 'l2', 'C': 6.35478767122729, 'max_iter': 933, 'solver': 'liblinear'}. Best is trial 13 with value: 0.805.\n",
      "C:\\Users\\movil\\AppData\\Local\\Temp\\ipykernel_26928\\1579954593.py:4: FutureWarning: suggest_loguniform has been deprecated in v3.0.0. This feature will be removed in v6.0.0. See https://github.com/optuna/optuna/releases/tag/v3.0.0. Use suggest_float(..., log=True) instead.\n",
      "  C = trial.suggest_loguniform('C', 0.01, 10.0)\n",
      "[I 2024-06-04 14:26:01,171] Trial 135 finished with value: 0.57 and parameters: {'penalty': 'l1', 'C': 0.02365854563179718, 'max_iter': 929, 'solver': 'liblinear'}. Best is trial 13 with value: 0.805.\n",
      "C:\\Users\\movil\\AppData\\Local\\Temp\\ipykernel_26928\\1579954593.py:4: FutureWarning: suggest_loguniform has been deprecated in v3.0.0. This feature will be removed in v6.0.0. See https://github.com/optuna/optuna/releases/tag/v3.0.0. Use suggest_float(..., log=True) instead.\n",
      "  C = trial.suggest_loguniform('C', 0.01, 10.0)\n",
      "[I 2024-06-04 14:26:01,189] Trial 136 finished with value: 0.57 and parameters: {'penalty': 'l1', 'C': 0.014597716212138042, 'max_iter': 402, 'solver': 'liblinear'}. Best is trial 13 with value: 0.805.\n",
      "C:\\Users\\movil\\AppData\\Local\\Temp\\ipykernel_26928\\1579954593.py:4: FutureWarning: suggest_loguniform has been deprecated in v3.0.0. This feature will be removed in v6.0.0. See https://github.com/optuna/optuna/releases/tag/v3.0.0. Use suggest_float(..., log=True) instead.\n",
      "  C = trial.suggest_loguniform('C', 0.01, 10.0)\n",
      "[I 2024-06-04 14:26:01,276] Trial 137 finished with value: 0.735 and parameters: {'penalty': 'l2', 'C': 0.4094367382824368, 'max_iter': 928, 'solver': 'saga'}. Best is trial 13 with value: 0.805.\n",
      "C:\\Users\\movil\\AppData\\Local\\Temp\\ipykernel_26928\\1579954593.py:4: FutureWarning: suggest_loguniform has been deprecated in v3.0.0. This feature will be removed in v6.0.0. See https://github.com/optuna/optuna/releases/tag/v3.0.0. Use suggest_float(..., log=True) instead.\n",
      "  C = trial.suggest_loguniform('C', 0.01, 10.0)\n",
      "[I 2024-06-04 14:26:01,357] Trial 138 finished with value: 0.64 and parameters: {'penalty': 'l1', 'C': 0.04718614183746149, 'max_iter': 507, 'solver': 'saga'}. Best is trial 13 with value: 0.805.\n",
      "C:\\Users\\movil\\AppData\\Local\\Temp\\ipykernel_26928\\1579954593.py:4: FutureWarning: suggest_loguniform has been deprecated in v3.0.0. This feature will be removed in v6.0.0. See https://github.com/optuna/optuna/releases/tag/v3.0.0. Use suggest_float(..., log=True) instead.\n",
      "  C = trial.suggest_loguniform('C', 0.01, 10.0)\n",
      "C:\\Users\\movil\\AppData\\Local\\Packages\\PythonSoftwareFoundation.Python.3.10_qbz5n2kfra8p0\\LocalCache\\local-packages\\Python310\\site-packages\\sklearn\\linear_model\\_sag.py:349: ConvergenceWarning: The max_iter was reached which means the coef_ did not converge\n",
      "  warnings.warn(\n",
      "[I 2024-06-04 14:26:01,933] Trial 139 finished with value: 0.79 and parameters: {'penalty': 'l1', 'C': 5.553128244188594, 'max_iter': 426, 'solver': 'saga'}. Best is trial 13 with value: 0.805.\n",
      "C:\\Users\\movil\\AppData\\Local\\Temp\\ipykernel_26928\\1579954593.py:4: FutureWarning: suggest_loguniform has been deprecated in v3.0.0. This feature will be removed in v6.0.0. See https://github.com/optuna/optuna/releases/tag/v3.0.0. Use suggest_float(..., log=True) instead.\n",
      "  C = trial.suggest_loguniform('C', 0.01, 10.0)\n",
      "[I 2024-06-04 14:26:01,969] Trial 140 finished with value: 0.705 and parameters: {'penalty': 'l2', 'C': 0.034206441797621126, 'max_iter': 965, 'solver': 'saga'}. Best is trial 13 with value: 0.805.\n",
      "C:\\Users\\movil\\AppData\\Local\\Temp\\ipykernel_26928\\1579954593.py:4: FutureWarning: suggest_loguniform has been deprecated in v3.0.0. This feature will be removed in v6.0.0. See https://github.com/optuna/optuna/releases/tag/v3.0.0. Use suggest_float(..., log=True) instead.\n",
      "  C = trial.suggest_loguniform('C', 0.01, 10.0)\n",
      "[I 2024-06-04 14:26:02,022] Trial 141 finished with value: 0.74 and parameters: {'penalty': 'l2', 'C': 0.3210591347884213, 'max_iter': 636, 'solver': 'saga'}. Best is trial 13 with value: 0.805.\n",
      "C:\\Users\\movil\\AppData\\Local\\Temp\\ipykernel_26928\\1579954593.py:4: FutureWarning: suggest_loguniform has been deprecated in v3.0.0. This feature will be removed in v6.0.0. See https://github.com/optuna/optuna/releases/tag/v3.0.0. Use suggest_float(..., log=True) instead.\n",
      "  C = trial.suggest_loguniform('C', 0.01, 10.0)\n",
      "[I 2024-06-04 14:26:02,064] Trial 142 finished with value: 0.71 and parameters: {'penalty': 'l2', 'C': 0.041249522108377616, 'max_iter': 271, 'solver': 'saga'}. Best is trial 13 with value: 0.805.\n",
      "C:\\Users\\movil\\AppData\\Local\\Temp\\ipykernel_26928\\1579954593.py:4: FutureWarning: suggest_loguniform has been deprecated in v3.0.0. This feature will be removed in v6.0.0. See https://github.com/optuna/optuna/releases/tag/v3.0.0. Use suggest_float(..., log=True) instead.\n",
      "  C = trial.suggest_loguniform('C', 0.01, 10.0)\n",
      "[I 2024-06-04 14:26:02,118] Trial 143 finished with value: 0.795 and parameters: {'penalty': 'l1', 'C': 2.121206015630901, 'max_iter': 508, 'solver': 'liblinear'}. Best is trial 13 with value: 0.805.\n",
      "C:\\Users\\movil\\AppData\\Local\\Temp\\ipykernel_26928\\1579954593.py:4: FutureWarning: suggest_loguniform has been deprecated in v3.0.0. This feature will be removed in v6.0.0. See https://github.com/optuna/optuna/releases/tag/v3.0.0. Use suggest_float(..., log=True) instead.\n",
      "  C = trial.suggest_loguniform('C', 0.01, 10.0)\n",
      "[I 2024-06-04 14:26:02,150] Trial 144 finished with value: 0.695 and parameters: {'penalty': 'l2', 'C': 0.029222726791811347, 'max_iter': 263, 'solver': 'saga'}. Best is trial 13 with value: 0.805.\n",
      "C:\\Users\\movil\\AppData\\Local\\Temp\\ipykernel_26928\\1579954593.py:4: FutureWarning: suggest_loguniform has been deprecated in v3.0.0. This feature will be removed in v6.0.0. See https://github.com/optuna/optuna/releases/tag/v3.0.0. Use suggest_float(..., log=True) instead.\n",
      "  C = trial.suggest_loguniform('C', 0.01, 10.0)\n",
      "[I 2024-06-04 14:26:02,617] Trial 145 finished with value: 0.775 and parameters: {'penalty': 'l1', 'C': 0.8550640149883475, 'max_iter': 468, 'solver': 'saga'}. Best is trial 13 with value: 0.805.\n",
      "C:\\Users\\movil\\AppData\\Local\\Temp\\ipykernel_26928\\1579954593.py:4: FutureWarning: suggest_loguniform has been deprecated in v3.0.0. This feature will be removed in v6.0.0. See https://github.com/optuna/optuna/releases/tag/v3.0.0. Use suggest_float(..., log=True) instead.\n",
      "  C = trial.suggest_loguniform('C', 0.01, 10.0)\n",
      "[I 2024-06-04 14:26:02,636] Trial 146 finished with value: 0.57 and parameters: {'penalty': 'l1', 'C': 0.012058352559152993, 'max_iter': 299, 'solver': 'saga'}. Best is trial 13 with value: 0.805.\n",
      "C:\\Users\\movil\\AppData\\Local\\Temp\\ipykernel_26928\\1579954593.py:4: FutureWarning: suggest_loguniform has been deprecated in v3.0.0. This feature will be removed in v6.0.0. See https://github.com/optuna/optuna/releases/tag/v3.0.0. Use suggest_float(..., log=True) instead.\n",
      "  C = trial.suggest_loguniform('C', 0.01, 10.0)\n",
      "[I 2024-06-04 14:26:02,656] Trial 147 finished with value: 0.76 and parameters: {'penalty': 'l2', 'C': 2.5104308090596277, 'max_iter': 260, 'solver': 'liblinear'}. Best is trial 13 with value: 0.805.\n",
      "C:\\Users\\movil\\AppData\\Local\\Temp\\ipykernel_26928\\1579954593.py:4: FutureWarning: suggest_loguniform has been deprecated in v3.0.0. This feature will be removed in v6.0.0. See https://github.com/optuna/optuna/releases/tag/v3.0.0. Use suggest_float(..., log=True) instead.\n",
      "  C = trial.suggest_loguniform('C', 0.01, 10.0)\n",
      "[I 2024-06-04 14:26:02,683] Trial 148 finished with value: 0.76 and parameters: {'penalty': 'l2', 'C': 1.468252657463809, 'max_iter': 870, 'solver': 'liblinear'}. Best is trial 13 with value: 0.805.\n",
      "C:\\Users\\movil\\AppData\\Local\\Temp\\ipykernel_26928\\1579954593.py:4: FutureWarning: suggest_loguniform has been deprecated in v3.0.0. This feature will be removed in v6.0.0. See https://github.com/optuna/optuna/releases/tag/v3.0.0. Use suggest_float(..., log=True) instead.\n",
      "  C = trial.suggest_loguniform('C', 0.01, 10.0)\n",
      "[I 2024-06-04 14:26:02,736] Trial 149 finished with value: 0.64 and parameters: {'penalty': 'l1', 'C': 0.07576056254648099, 'max_iter': 907, 'solver': 'saga'}. Best is trial 13 with value: 0.805.\n",
      "C:\\Users\\movil\\AppData\\Local\\Temp\\ipykernel_26928\\1579954593.py:4: FutureWarning: suggest_loguniform has been deprecated in v3.0.0. This feature will be removed in v6.0.0. See https://github.com/optuna/optuna/releases/tag/v3.0.0. Use suggest_float(..., log=True) instead.\n",
      "  C = trial.suggest_loguniform('C', 0.01, 10.0)\n",
      "[I 2024-06-04 14:26:02,790] Trial 150 finished with value: 0.57 and parameters: {'penalty': 'l1', 'C': 0.03501920682952667, 'max_iter': 625, 'solver': 'saga'}. Best is trial 13 with value: 0.805.\n",
      "C:\\Users\\movil\\AppData\\Local\\Temp\\ipykernel_26928\\1579954593.py:4: FutureWarning: suggest_loguniform has been deprecated in v3.0.0. This feature will be removed in v6.0.0. See https://github.com/optuna/optuna/releases/tag/v3.0.0. Use suggest_float(..., log=True) instead.\n",
      "  C = trial.suggest_loguniform('C', 0.01, 10.0)\n",
      "[I 2024-06-04 14:26:02,812] Trial 151 finished with value: 0.64 and parameters: {'penalty': 'l1', 'C': 0.06001644960741879, 'max_iter': 442, 'solver': 'liblinear'}. Best is trial 13 with value: 0.805.\n",
      "C:\\Users\\movil\\AppData\\Local\\Temp\\ipykernel_26928\\1579954593.py:4: FutureWarning: suggest_loguniform has been deprecated in v3.0.0. This feature will be removed in v6.0.0. See https://github.com/optuna/optuna/releases/tag/v3.0.0. Use suggest_float(..., log=True) instead.\n",
      "  C = trial.suggest_loguniform('C', 0.01, 10.0)\n",
      "[I 2024-06-04 14:26:03,074] Trial 152 finished with value: 0.76 and parameters: {'penalty': 'l1', 'C': 0.4530452095214948, 'max_iter': 492, 'solver': 'saga'}. Best is trial 13 with value: 0.805.\n",
      "C:\\Users\\movil\\AppData\\Local\\Temp\\ipykernel_26928\\1579954593.py:4: FutureWarning: suggest_loguniform has been deprecated in v3.0.0. This feature will be removed in v6.0.0. See https://github.com/optuna/optuna/releases/tag/v3.0.0. Use suggest_float(..., log=True) instead.\n",
      "  C = trial.suggest_loguniform('C', 0.01, 10.0)\n",
      "[I 2024-06-04 14:26:03,198] Trial 153 finished with value: 0.805 and parameters: {'penalty': 'l1', 'C': 4.030917667716689, 'max_iter': 539, 'solver': 'liblinear'}. Best is trial 13 with value: 0.805.\n",
      "C:\\Users\\movil\\AppData\\Local\\Temp\\ipykernel_26928\\1579954593.py:4: FutureWarning: suggest_loguniform has been deprecated in v3.0.0. This feature will be removed in v6.0.0. See https://github.com/optuna/optuna/releases/tag/v3.0.0. Use suggest_float(..., log=True) instead.\n",
      "  C = trial.suggest_loguniform('C', 0.01, 10.0)\n",
      "[I 2024-06-04 14:26:03,213] Trial 154 finished with value: 0.64 and parameters: {'penalty': 'l1', 'C': 0.0639782089757959, 'max_iter': 588, 'solver': 'liblinear'}. Best is trial 13 with value: 0.805.\n",
      "C:\\Users\\movil\\AppData\\Local\\Temp\\ipykernel_26928\\1579954593.py:4: FutureWarning: suggest_loguniform has been deprecated in v3.0.0. This feature will be removed in v6.0.0. See https://github.com/optuna/optuna/releases/tag/v3.0.0. Use suggest_float(..., log=True) instead.\n",
      "  C = trial.suggest_loguniform('C', 0.01, 10.0)\n",
      "[I 2024-06-04 14:26:03,375] Trial 155 finished with value: 0.795 and parameters: {'penalty': 'l2', 'C': 8.978556958963887, 'max_iter': 573, 'solver': 'saga'}. Best is trial 13 with value: 0.805.\n",
      "C:\\Users\\movil\\AppData\\Local\\Temp\\ipykernel_26928\\1579954593.py:4: FutureWarning: suggest_loguniform has been deprecated in v3.0.0. This feature will be removed in v6.0.0. See https://github.com/optuna/optuna/releases/tag/v3.0.0. Use suggest_float(..., log=True) instead.\n",
      "  C = trial.suggest_loguniform('C', 0.01, 10.0)\n",
      "[I 2024-06-04 14:26:03,428] Trial 156 finished with value: 0.7 and parameters: {'penalty': 'l2', 'C': 0.022555541023663448, 'max_iter': 619, 'solver': 'saga'}. Best is trial 13 with value: 0.805.\n",
      "C:\\Users\\movil\\AppData\\Local\\Temp\\ipykernel_26928\\1579954593.py:4: FutureWarning: suggest_loguniform has been deprecated in v3.0.0. This feature will be removed in v6.0.0. See https://github.com/optuna/optuna/releases/tag/v3.0.0. Use suggest_float(..., log=True) instead.\n",
      "  C = trial.suggest_loguniform('C', 0.01, 10.0)\n",
      "[I 2024-06-04 14:26:03,484] Trial 157 finished with value: 0.71 and parameters: {'penalty': 'l2', 'C': 0.04161633351138873, 'max_iter': 109, 'solver': 'saga'}. Best is trial 13 with value: 0.805.\n",
      "C:\\Users\\movil\\AppData\\Local\\Temp\\ipykernel_26928\\1579954593.py:4: FutureWarning: suggest_loguniform has been deprecated in v3.0.0. This feature will be removed in v6.0.0. See https://github.com/optuna/optuna/releases/tag/v3.0.0. Use suggest_float(..., log=True) instead.\n",
      "  C = trial.suggest_loguniform('C', 0.01, 10.0)\n",
      "[I 2024-06-04 14:26:03,868] Trial 158 finished with value: 0.77 and parameters: {'penalty': 'l1', 'C': 0.6332141064382677, 'max_iter': 699, 'solver': 'saga'}. Best is trial 13 with value: 0.805.\n",
      "C:\\Users\\movil\\AppData\\Local\\Temp\\ipykernel_26928\\1579954593.py:4: FutureWarning: suggest_loguniform has been deprecated in v3.0.0. This feature will be removed in v6.0.0. See https://github.com/optuna/optuna/releases/tag/v3.0.0. Use suggest_float(..., log=True) instead.\n",
      "  C = trial.suggest_loguniform('C', 0.01, 10.0)\n",
      "[I 2024-06-04 14:26:04,049] Trial 159 finished with value: 0.75 and parameters: {'penalty': 'l1', 'C': 0.36037372249461913, 'max_iter': 142, 'solver': 'saga'}. Best is trial 13 with value: 0.805.\n",
      "C:\\Users\\movil\\AppData\\Local\\Temp\\ipykernel_26928\\1579954593.py:4: FutureWarning: suggest_loguniform has been deprecated in v3.0.0. This feature will be removed in v6.0.0. See https://github.com/optuna/optuna/releases/tag/v3.0.0. Use suggest_float(..., log=True) instead.\n",
      "  C = trial.suggest_loguniform('C', 0.01, 10.0)\n",
      "[I 2024-06-04 14:26:04,083] Trial 160 finished with value: 0.72 and parameters: {'penalty': 'l2', 'C': 0.0544561995512795, 'max_iter': 450, 'solver': 'saga'}. Best is trial 13 with value: 0.805.\n",
      "C:\\Users\\movil\\AppData\\Local\\Temp\\ipykernel_26928\\1579954593.py:4: FutureWarning: suggest_loguniform has been deprecated in v3.0.0. This feature will be removed in v6.0.0. See https://github.com/optuna/optuna/releases/tag/v3.0.0. Use suggest_float(..., log=True) instead.\n",
      "  C = trial.suggest_loguniform('C', 0.01, 10.0)\n",
      "[I 2024-06-04 14:26:04,377] Trial 161 finished with value: 0.765 and parameters: {'penalty': 'l1', 'C': 0.5002808981856133, 'max_iter': 528, 'solver': 'saga'}. Best is trial 13 with value: 0.805.\n",
      "C:\\Users\\movil\\AppData\\Local\\Temp\\ipykernel_26928\\1579954593.py:4: FutureWarning: suggest_loguniform has been deprecated in v3.0.0. This feature will be removed in v6.0.0. See https://github.com/optuna/optuna/releases/tag/v3.0.0. Use suggest_float(..., log=True) instead.\n",
      "  C = trial.suggest_loguniform('C', 0.01, 10.0)\n",
      "[I 2024-06-04 14:26:04,387] Trial 162 finished with value: 0.57 and parameters: {'penalty': 'l1', 'C': 0.012403647205371562, 'max_iter': 336, 'solver': 'liblinear'}. Best is trial 13 with value: 0.805.\n",
      "C:\\Users\\movil\\AppData\\Local\\Temp\\ipykernel_26928\\1579954593.py:4: FutureWarning: suggest_loguniform has been deprecated in v3.0.0. This feature will be removed in v6.0.0. See https://github.com/optuna/optuna/releases/tag/v3.0.0. Use suggest_float(..., log=True) instead.\n",
      "  C = trial.suggest_loguniform('C', 0.01, 10.0)\n",
      "[I 2024-06-04 14:26:04,429] Trial 163 finished with value: 0.715 and parameters: {'penalty': 'l2', 'C': 0.10063097312771815, 'max_iter': 794, 'solver': 'liblinear'}. Best is trial 13 with value: 0.805.\n",
      "C:\\Users\\movil\\AppData\\Local\\Temp\\ipykernel_26928\\1579954593.py:4: FutureWarning: suggest_loguniform has been deprecated in v3.0.0. This feature will be removed in v6.0.0. See https://github.com/optuna/optuna/releases/tag/v3.0.0. Use suggest_float(..., log=True) instead.\n",
      "  C = trial.suggest_loguniform('C', 0.01, 10.0)\n",
      "C:\\Users\\movil\\AppData\\Local\\Packages\\PythonSoftwareFoundation.Python.3.10_qbz5n2kfra8p0\\LocalCache\\local-packages\\Python310\\site-packages\\sklearn\\linear_model\\_sag.py:349: ConvergenceWarning: The max_iter was reached which means the coef_ did not converge\n",
      "  warnings.warn(\n",
      "[I 2024-06-04 14:26:05,048] Trial 164 finished with value: 0.78 and parameters: {'penalty': 'l1', 'C': 1.1620028394316197, 'max_iter': 491, 'solver': 'saga'}. Best is trial 13 with value: 0.805.\n",
      "C:\\Users\\movil\\AppData\\Local\\Temp\\ipykernel_26928\\1579954593.py:4: FutureWarning: suggest_loguniform has been deprecated in v3.0.0. This feature will be removed in v6.0.0. See https://github.com/optuna/optuna/releases/tag/v3.0.0. Use suggest_float(..., log=True) instead.\n",
      "  C = trial.suggest_loguniform('C', 0.01, 10.0)\n",
      "[I 2024-06-04 14:26:05,059] Trial 165 finished with value: 0.64 and parameters: {'penalty': 'l1', 'C': 0.06552928233851989, 'max_iter': 631, 'solver': 'liblinear'}. Best is trial 13 with value: 0.805.\n",
      "C:\\Users\\movil\\AppData\\Local\\Temp\\ipykernel_26928\\1579954593.py:4: FutureWarning: suggest_loguniform has been deprecated in v3.0.0. This feature will be removed in v6.0.0. See https://github.com/optuna/optuna/releases/tag/v3.0.0. Use suggest_float(..., log=True) instead.\n",
      "  C = trial.suggest_loguniform('C', 0.01, 10.0)\n",
      "C:\\Users\\movil\\AppData\\Local\\Packages\\PythonSoftwareFoundation.Python.3.10_qbz5n2kfra8p0\\LocalCache\\local-packages\\Python310\\site-packages\\sklearn\\linear_model\\_sag.py:349: ConvergenceWarning: The max_iter was reached which means the coef_ did not converge\n",
      "  warnings.warn(\n",
      "[I 2024-06-04 14:26:05,658] Trial 166 finished with value: 0.785 and parameters: {'penalty': 'l1', 'C': 7.0910747170673245, 'max_iter': 501, 'solver': 'saga'}. Best is trial 13 with value: 0.805.\n",
      "C:\\Users\\movil\\AppData\\Local\\Temp\\ipykernel_26928\\1579954593.py:4: FutureWarning: suggest_loguniform has been deprecated in v3.0.0. This feature will be removed in v6.0.0. See https://github.com/optuna/optuna/releases/tag/v3.0.0. Use suggest_float(..., log=True) instead.\n",
      "  C = trial.suggest_loguniform('C', 0.01, 10.0)\n",
      "C:\\Users\\movil\\AppData\\Local\\Packages\\PythonSoftwareFoundation.Python.3.10_qbz5n2kfra8p0\\LocalCache\\local-packages\\Python310\\site-packages\\sklearn\\linear_model\\_sag.py:349: ConvergenceWarning: The max_iter was reached which means the coef_ did not converge\n",
      "  warnings.warn(\n",
      "[I 2024-06-04 14:26:06,515] Trial 167 finished with value: 0.795 and parameters: {'penalty': 'l1', 'C': 2.628351493147274, 'max_iter': 693, 'solver': 'saga'}. Best is trial 13 with value: 0.805.\n",
      "C:\\Users\\movil\\AppData\\Local\\Temp\\ipykernel_26928\\1579954593.py:4: FutureWarning: suggest_loguniform has been deprecated in v3.0.0. This feature will be removed in v6.0.0. See https://github.com/optuna/optuna/releases/tag/v3.0.0. Use suggest_float(..., log=True) instead.\n",
      "  C = trial.suggest_loguniform('C', 0.01, 10.0)\n",
      "[I 2024-06-04 14:26:06,526] Trial 168 finished with value: 0.7 and parameters: {'penalty': 'l2', 'C': 0.04609229422149268, 'max_iter': 989, 'solver': 'liblinear'}. Best is trial 13 with value: 0.805.\n",
      "C:\\Users\\movil\\AppData\\Local\\Temp\\ipykernel_26928\\1579954593.py:4: FutureWarning: suggest_loguniform has been deprecated in v3.0.0. This feature will be removed in v6.0.0. See https://github.com/optuna/optuna/releases/tag/v3.0.0. Use suggest_float(..., log=True) instead.\n",
      "  C = trial.suggest_loguniform('C', 0.01, 10.0)\n",
      "[I 2024-06-04 14:26:06,546] Trial 169 finished with value: 0.685 and parameters: {'penalty': 'l2', 'C': 0.034811764380096887, 'max_iter': 611, 'solver': 'liblinear'}. Best is trial 13 with value: 0.805.\n",
      "C:\\Users\\movil\\AppData\\Local\\Temp\\ipykernel_26928\\1579954593.py:4: FutureWarning: suggest_loguniform has been deprecated in v3.0.0. This feature will be removed in v6.0.0. See https://github.com/optuna/optuna/releases/tag/v3.0.0. Use suggest_float(..., log=True) instead.\n",
      "  C = trial.suggest_loguniform('C', 0.01, 10.0)\n",
      "[I 2024-06-04 14:26:06,738] Trial 170 finished with value: 0.785 and parameters: {'penalty': 'l1', 'C': 5.931828497797028, 'max_iter': 974, 'solver': 'liblinear'}. Best is trial 13 with value: 0.805.\n",
      "C:\\Users\\movil\\AppData\\Local\\Temp\\ipykernel_26928\\1579954593.py:4: FutureWarning: suggest_loguniform has been deprecated in v3.0.0. This feature will be removed in v6.0.0. See https://github.com/optuna/optuna/releases/tag/v3.0.0. Use suggest_float(..., log=True) instead.\n",
      "  C = trial.suggest_loguniform('C', 0.01, 10.0)\n",
      "[I 2024-06-04 14:26:06,830] Trial 171 finished with value: 0.665 and parameters: {'penalty': 'l1', 'C': 0.09063614378928193, 'max_iter': 846, 'solver': 'saga'}. Best is trial 13 with value: 0.805.\n",
      "C:\\Users\\movil\\AppData\\Local\\Temp\\ipykernel_26928\\1579954593.py:4: FutureWarning: suggest_loguniform has been deprecated in v3.0.0. This feature will be removed in v6.0.0. See https://github.com/optuna/optuna/releases/tag/v3.0.0. Use suggest_float(..., log=True) instead.\n",
      "  C = trial.suggest_loguniform('C', 0.01, 10.0)\n",
      "[I 2024-06-04 14:26:06,851] Trial 172 finished with value: 0.57 and parameters: {'penalty': 'l1', 'C': 0.01701608337664498, 'max_iter': 727, 'solver': 'saga'}. Best is trial 13 with value: 0.805.\n",
      "C:\\Users\\movil\\AppData\\Local\\Temp\\ipykernel_26928\\1579954593.py:4: FutureWarning: suggest_loguniform has been deprecated in v3.0.0. This feature will be removed in v6.0.0. See https://github.com/optuna/optuna/releases/tag/v3.0.0. Use suggest_float(..., log=True) instead.\n",
      "  C = trial.suggest_loguniform('C', 0.01, 10.0)\n",
      "[I 2024-06-04 14:26:06,906] Trial 173 finished with value: 0.735 and parameters: {'penalty': 'l2', 'C': 0.415407063697232, 'max_iter': 812, 'solver': 'saga'}. Best is trial 13 with value: 0.805.\n",
      "C:\\Users\\movil\\AppData\\Local\\Temp\\ipykernel_26928\\1579954593.py:4: FutureWarning: suggest_loguniform has been deprecated in v3.0.0. This feature will be removed in v6.0.0. See https://github.com/optuna/optuna/releases/tag/v3.0.0. Use suggest_float(..., log=True) instead.\n",
      "  C = trial.suggest_loguniform('C', 0.01, 10.0)\n",
      "[I 2024-06-04 14:26:06,922] Trial 174 finished with value: 0.64 and parameters: {'penalty': 'l1', 'C': 0.049989457565796404, 'max_iter': 121, 'solver': 'liblinear'}. Best is trial 13 with value: 0.805.\n",
      "C:\\Users\\movil\\AppData\\Local\\Temp\\ipykernel_26928\\1579954593.py:4: FutureWarning: suggest_loguniform has been deprecated in v3.0.0. This feature will be removed in v6.0.0. See https://github.com/optuna/optuna/releases/tag/v3.0.0. Use suggest_float(..., log=True) instead.\n",
      "  C = trial.suggest_loguniform('C', 0.01, 10.0)\n",
      "[I 2024-06-04 14:26:07,120] Trial 175 finished with value: 0.79 and parameters: {'penalty': 'l1', 'C': 6.5645218095630575, 'max_iter': 819, 'solver': 'liblinear'}. Best is trial 13 with value: 0.805.\n",
      "C:\\Users\\movil\\AppData\\Local\\Temp\\ipykernel_26928\\1579954593.py:4: FutureWarning: suggest_loguniform has been deprecated in v3.0.0. This feature will be removed in v6.0.0. See https://github.com/optuna/optuna/releases/tag/v3.0.0. Use suggest_float(..., log=True) instead.\n",
      "  C = trial.suggest_loguniform('C', 0.01, 10.0)\n",
      "[I 2024-06-04 14:26:07,246] Trial 176 finished with value: 0.735 and parameters: {'penalty': 'l1', 'C': 0.2751863329012538, 'max_iter': 665, 'solver': 'saga'}. Best is trial 13 with value: 0.805.\n",
      "C:\\Users\\movil\\AppData\\Local\\Temp\\ipykernel_26928\\1579954593.py:4: FutureWarning: suggest_loguniform has been deprecated in v3.0.0. This feature will be removed in v6.0.0. See https://github.com/optuna/optuna/releases/tag/v3.0.0. Use suggest_float(..., log=True) instead.\n",
      "  C = trial.suggest_loguniform('C', 0.01, 10.0)\n",
      "[I 2024-06-04 14:26:07,262] Trial 177 finished with value: 0.705 and parameters: {'penalty': 'l1', 'C': 0.1836838640577253, 'max_iter': 764, 'solver': 'liblinear'}. Best is trial 13 with value: 0.805.\n",
      "C:\\Users\\movil\\AppData\\Local\\Temp\\ipykernel_26928\\1579954593.py:4: FutureWarning: suggest_loguniform has been deprecated in v3.0.0. This feature will be removed in v6.0.0. See https://github.com/optuna/optuna/releases/tag/v3.0.0. Use suggest_float(..., log=True) instead.\n",
      "  C = trial.suggest_loguniform('C', 0.01, 10.0)\n",
      "[I 2024-06-04 14:26:07,283] Trial 178 finished with value: 0.645 and parameters: {'penalty': 'l1', 'C': 0.07743269258838692, 'max_iter': 310, 'solver': 'liblinear'}. Best is trial 13 with value: 0.805.\n",
      "C:\\Users\\movil\\AppData\\Local\\Temp\\ipykernel_26928\\1579954593.py:4: FutureWarning: suggest_loguniform has been deprecated in v3.0.0. This feature will be removed in v6.0.0. See https://github.com/optuna/optuna/releases/tag/v3.0.0. Use suggest_float(..., log=True) instead.\n",
      "  C = trial.suggest_loguniform('C', 0.01, 10.0)\n",
      "[I 2024-06-04 14:26:07,351] Trial 179 finished with value: 0.665 and parameters: {'penalty': 'l1', 'C': 0.14222630963205307, 'max_iter': 712, 'solver': 'saga'}. Best is trial 13 with value: 0.805.\n",
      "C:\\Users\\movil\\AppData\\Local\\Temp\\ipykernel_26928\\1579954593.py:4: FutureWarning: suggest_loguniform has been deprecated in v3.0.0. This feature will be removed in v6.0.0. See https://github.com/optuna/optuna/releases/tag/v3.0.0. Use suggest_float(..., log=True) instead.\n",
      "  C = trial.suggest_loguniform('C', 0.01, 10.0)\n",
      "[I 2024-06-04 14:26:07,374] Trial 180 finished with value: 0.705 and parameters: {'penalty': 'l1', 'C': 0.1789543779063583, 'max_iter': 892, 'solver': 'liblinear'}. Best is trial 13 with value: 0.805.\n",
      "C:\\Users\\movil\\AppData\\Local\\Temp\\ipykernel_26928\\1579954593.py:4: FutureWarning: suggest_loguniform has been deprecated in v3.0.0. This feature will be removed in v6.0.0. See https://github.com/optuna/optuna/releases/tag/v3.0.0. Use suggest_float(..., log=True) instead.\n",
      "  C = trial.suggest_loguniform('C', 0.01, 10.0)\n",
      "[I 2024-06-04 14:26:07,654] Trial 181 finished with value: 0.78 and parameters: {'penalty': 'l1', 'C': 9.408185644390125, 'max_iter': 308, 'solver': 'liblinear'}. Best is trial 13 with value: 0.805.\n",
      "C:\\Users\\movil\\AppData\\Local\\Temp\\ipykernel_26928\\1579954593.py:4: FutureWarning: suggest_loguniform has been deprecated in v3.0.0. This feature will be removed in v6.0.0. See https://github.com/optuna/optuna/releases/tag/v3.0.0. Use suggest_float(..., log=True) instead.\n",
      "  C = trial.suggest_loguniform('C', 0.01, 10.0)\n",
      "[I 2024-06-04 14:26:07,666] Trial 182 finished with value: 0.64 and parameters: {'penalty': 'l1', 'C': 0.04920502254761878, 'max_iter': 259, 'solver': 'liblinear'}. Best is trial 13 with value: 0.805.\n",
      "C:\\Users\\movil\\AppData\\Local\\Temp\\ipykernel_26928\\1579954593.py:4: FutureWarning: suggest_loguniform has been deprecated in v3.0.0. This feature will be removed in v6.0.0. See https://github.com/optuna/optuna/releases/tag/v3.0.0. Use suggest_float(..., log=True) instead.\n",
      "  C = trial.suggest_loguniform('C', 0.01, 10.0)\n",
      "[I 2024-06-04 14:26:07,686] Trial 183 finished with value: 0.57 and parameters: {'penalty': 'l1', 'C': 0.0149117299376565, 'max_iter': 973, 'solver': 'saga'}. Best is trial 13 with value: 0.805.\n",
      "C:\\Users\\movil\\AppData\\Local\\Temp\\ipykernel_26928\\1579954593.py:4: FutureWarning: suggest_loguniform has been deprecated in v3.0.0. This feature will be removed in v6.0.0. See https://github.com/optuna/optuna/releases/tag/v3.0.0. Use suggest_float(..., log=True) instead.\n",
      "  C = trial.suggest_loguniform('C', 0.01, 10.0)\n",
      "[I 2024-06-04 14:26:07,712] Trial 184 finished with value: 0.67 and parameters: {'penalty': 'l1', 'C': 0.15442800347832064, 'max_iter': 783, 'solver': 'liblinear'}. Best is trial 13 with value: 0.805.\n",
      "C:\\Users\\movil\\AppData\\Local\\Temp\\ipykernel_26928\\1579954593.py:4: FutureWarning: suggest_loguniform has been deprecated in v3.0.0. This feature will be removed in v6.0.0. See https://github.com/optuna/optuna/releases/tag/v3.0.0. Use suggest_float(..., log=True) instead.\n",
      "  C = trial.suggest_loguniform('C', 0.01, 10.0)\n",
      "[I 2024-06-04 14:26:07,732] Trial 185 finished with value: 0.64 and parameters: {'penalty': 'l1', 'C': 0.0469302474863776, 'max_iter': 583, 'solver': 'liblinear'}. Best is trial 13 with value: 0.805.\n",
      "C:\\Users\\movil\\AppData\\Local\\Temp\\ipykernel_26928\\1579954593.py:4: FutureWarning: suggest_loguniform has been deprecated in v3.0.0. This feature will be removed in v6.0.0. See https://github.com/optuna/optuna/releases/tag/v3.0.0. Use suggest_float(..., log=True) instead.\n",
      "  C = trial.suggest_loguniform('C', 0.01, 10.0)\n",
      "[I 2024-06-04 14:26:07,781] Trial 186 finished with value: 0.715 and parameters: {'penalty': 'l2', 'C': 0.06263255490183867, 'max_iter': 216, 'solver': 'saga'}. Best is trial 13 with value: 0.805.\n",
      "C:\\Users\\movil\\AppData\\Local\\Temp\\ipykernel_26928\\1579954593.py:4: FutureWarning: suggest_loguniform has been deprecated in v3.0.0. This feature will be removed in v6.0.0. See https://github.com/optuna/optuna/releases/tag/v3.0.0. Use suggest_float(..., log=True) instead.\n",
      "  C = trial.suggest_loguniform('C', 0.01, 10.0)\n",
      "[I 2024-06-04 14:26:08,301] Trial 187 finished with value: 0.77 and parameters: {'penalty': 'l1', 'C': 0.924114834576203, 'max_iter': 596, 'solver': 'saga'}. Best is trial 13 with value: 0.805.\n",
      "C:\\Users\\movil\\AppData\\Local\\Temp\\ipykernel_26928\\1579954593.py:4: FutureWarning: suggest_loguniform has been deprecated in v3.0.0. This feature will be removed in v6.0.0. See https://github.com/optuna/optuna/releases/tag/v3.0.0. Use suggest_float(..., log=True) instead.\n",
      "  C = trial.suggest_loguniform('C', 0.01, 10.0)\n",
      "C:\\Users\\movil\\AppData\\Local\\Packages\\PythonSoftwareFoundation.Python.3.10_qbz5n2kfra8p0\\LocalCache\\local-packages\\Python310\\site-packages\\sklearn\\linear_model\\_sag.py:349: ConvergenceWarning: The max_iter was reached which means the coef_ did not converge\n",
      "  warnings.warn(\n",
      "[I 2024-06-04 14:26:08,946] Trial 188 finished with value: 0.785 and parameters: {'penalty': 'l1', 'C': 1.4799953165327082, 'max_iter': 546, 'solver': 'saga'}. Best is trial 13 with value: 0.805.\n",
      "C:\\Users\\movil\\AppData\\Local\\Temp\\ipykernel_26928\\1579954593.py:4: FutureWarning: suggest_loguniform has been deprecated in v3.0.0. This feature will be removed in v6.0.0. See https://github.com/optuna/optuna/releases/tag/v3.0.0. Use suggest_float(..., log=True) instead.\n",
      "  C = trial.suggest_loguniform('C', 0.01, 10.0)\n",
      "C:\\Users\\movil\\AppData\\Local\\Packages\\PythonSoftwareFoundation.Python.3.10_qbz5n2kfra8p0\\LocalCache\\local-packages\\Python310\\site-packages\\sklearn\\linear_model\\_sag.py:349: ConvergenceWarning: The max_iter was reached which means the coef_ did not converge\n",
      "  warnings.warn(\n",
      "[I 2024-06-04 14:26:09,658] Trial 189 finished with value: 0.795 and parameters: {'penalty': 'l1', 'C': 3.577838574843289, 'max_iter': 546, 'solver': 'saga'}. Best is trial 13 with value: 0.805.\n",
      "C:\\Users\\movil\\AppData\\Local\\Temp\\ipykernel_26928\\1579954593.py:4: FutureWarning: suggest_loguniform has been deprecated in v3.0.0. This feature will be removed in v6.0.0. See https://github.com/optuna/optuna/releases/tag/v3.0.0. Use suggest_float(..., log=True) instead.\n",
      "  C = trial.suggest_loguniform('C', 0.01, 10.0)\n",
      "[I 2024-06-04 14:26:10,212] Trial 190 finished with value: 0.775 and parameters: {'penalty': 'l1', 'C': 1.0815546221863792, 'max_iter': 609, 'solver': 'saga'}. Best is trial 13 with value: 0.805.\n",
      "C:\\Users\\movil\\AppData\\Local\\Temp\\ipykernel_26928\\1579954593.py:4: FutureWarning: suggest_loguniform has been deprecated in v3.0.0. This feature will be removed in v6.0.0. See https://github.com/optuna/optuna/releases/tag/v3.0.0. Use suggest_float(..., log=True) instead.\n",
      "  C = trial.suggest_loguniform('C', 0.01, 10.0)\n",
      "C:\\Users\\movil\\AppData\\Local\\Packages\\PythonSoftwareFoundation.Python.3.10_qbz5n2kfra8p0\\LocalCache\\local-packages\\Python310\\site-packages\\sklearn\\linear_model\\_sag.py:349: ConvergenceWarning: The max_iter was reached which means the coef_ did not converge\n",
      "  warnings.warn(\n",
      "[I 2024-06-04 14:26:11,339] Trial 191 finished with value: 0.795 and parameters: {'penalty': 'l1', 'C': 3.562420549204573, 'max_iter': 881, 'solver': 'saga'}. Best is trial 13 with value: 0.805.\n",
      "C:\\Users\\movil\\AppData\\Local\\Temp\\ipykernel_26928\\1579954593.py:4: FutureWarning: suggest_loguniform has been deprecated in v3.0.0. This feature will be removed in v6.0.0. See https://github.com/optuna/optuna/releases/tag/v3.0.0. Use suggest_float(..., log=True) instead.\n",
      "  C = trial.suggest_loguniform('C', 0.01, 10.0)\n",
      "[I 2024-06-04 14:26:11,762] Trial 192 finished with value: 0.775 and parameters: {'penalty': 'l1', 'C': 0.7175202042698314, 'max_iter': 778, 'solver': 'saga'}. Best is trial 13 with value: 0.805.\n",
      "C:\\Users\\movil\\AppData\\Local\\Temp\\ipykernel_26928\\1579954593.py:4: FutureWarning: suggest_loguniform has been deprecated in v3.0.0. This feature will be removed in v6.0.0. See https://github.com/optuna/optuna/releases/tag/v3.0.0. Use suggest_float(..., log=True) instead.\n",
      "  C = trial.suggest_loguniform('C', 0.01, 10.0)\n",
      "C:\\Users\\movil\\AppData\\Local\\Packages\\PythonSoftwareFoundation.Python.3.10_qbz5n2kfra8p0\\LocalCache\\local-packages\\Python310\\site-packages\\sklearn\\linear_model\\_sag.py:349: ConvergenceWarning: The max_iter was reached which means the coef_ did not converge\n",
      "  warnings.warn(\n",
      "[I 2024-06-04 14:26:12,052] Trial 193 finished with value: 0.8 and parameters: {'penalty': 'l1', 'C': 3.0022734916139453, 'max_iter': 216, 'solver': 'saga'}. Best is trial 13 with value: 0.805.\n",
      "C:\\Users\\movil\\AppData\\Local\\Temp\\ipykernel_26928\\1579954593.py:4: FutureWarning: suggest_loguniform has been deprecated in v3.0.0. This feature will be removed in v6.0.0. See https://github.com/optuna/optuna/releases/tag/v3.0.0. Use suggest_float(..., log=True) instead.\n",
      "  C = trial.suggest_loguniform('C', 0.01, 10.0)\n",
      "[I 2024-06-04 14:26:12,163] Trial 194 finished with value: 0.785 and parameters: {'penalty': 'l2', 'C': 3.1361912144377797, 'max_iter': 557, 'solver': 'saga'}. Best is trial 13 with value: 0.805.\n",
      "C:\\Users\\movil\\AppData\\Local\\Temp\\ipykernel_26928\\1579954593.py:4: FutureWarning: suggest_loguniform has been deprecated in v3.0.0. This feature will be removed in v6.0.0. See https://github.com/optuna/optuna/releases/tag/v3.0.0. Use suggest_float(..., log=True) instead.\n",
      "  C = trial.suggest_loguniform('C', 0.01, 10.0)\n",
      "[I 2024-06-04 14:26:12,181] Trial 195 finished with value: 0.735 and parameters: {'penalty': 'l2', 'C': 0.7860326410149306, 'max_iter': 334, 'solver': 'liblinear'}. Best is trial 13 with value: 0.805.\n",
      "C:\\Users\\movil\\AppData\\Local\\Temp\\ipykernel_26928\\1579954593.py:4: FutureWarning: suggest_loguniform has been deprecated in v3.0.0. This feature will be removed in v6.0.0. See https://github.com/optuna/optuna/releases/tag/v3.0.0. Use suggest_float(..., log=True) instead.\n",
      "  C = trial.suggest_loguniform('C', 0.01, 10.0)\n",
      "[I 2024-06-04 14:26:12,246] Trial 196 finished with value: 0.785 and parameters: {'penalty': 'l1', 'C': 1.9190385875390803, 'max_iter': 587, 'solver': 'liblinear'}. Best is trial 13 with value: 0.805.\n",
      "C:\\Users\\movil\\AppData\\Local\\Temp\\ipykernel_26928\\1579954593.py:4: FutureWarning: suggest_loguniform has been deprecated in v3.0.0. This feature will be removed in v6.0.0. See https://github.com/optuna/optuna/releases/tag/v3.0.0. Use suggest_float(..., log=True) instead.\n",
      "  C = trial.suggest_loguniform('C', 0.01, 10.0)\n",
      "[I 2024-06-04 14:26:12,261] Trial 197 finished with value: 0.68 and parameters: {'penalty': 'l2', 'C': 0.020301549388030277, 'max_iter': 944, 'solver': 'liblinear'}. Best is trial 13 with value: 0.805.\n",
      "C:\\Users\\movil\\AppData\\Local\\Temp\\ipykernel_26928\\1579954593.py:4: FutureWarning: suggest_loguniform has been deprecated in v3.0.0. This feature will be removed in v6.0.0. See https://github.com/optuna/optuna/releases/tag/v3.0.0. Use suggest_float(..., log=True) instead.\n",
      "  C = trial.suggest_loguniform('C', 0.01, 10.0)\n",
      "[I 2024-06-04 14:26:12,313] Trial 198 finished with value: 0.685 and parameters: {'penalty': 'l2', 'C': 0.01592398663490491, 'max_iter': 624, 'solver': 'saga'}. Best is trial 13 with value: 0.805.\n",
      "C:\\Users\\movil\\AppData\\Local\\Temp\\ipykernel_26928\\1579954593.py:4: FutureWarning: suggest_loguniform has been deprecated in v3.0.0. This feature will be removed in v6.0.0. See https://github.com/optuna/optuna/releases/tag/v3.0.0. Use suggest_float(..., log=True) instead.\n",
      "  C = trial.suggest_loguniform('C', 0.01, 10.0)\n",
      "[I 2024-06-04 14:26:12,340] Trial 199 finished with value: 0.79 and parameters: {'penalty': 'l2', 'C': 8.326584764715722, 'max_iter': 972, 'solver': 'liblinear'}. Best is trial 13 with value: 0.805.\n"
     ]
    },
    {
     "name": "stdout",
     "output_type": "stream",
     "text": [
      "Best Hyperparameters: {'penalty': 'l1', 'C': 3.8842777547031417, 'max_iter': 661, 'solver': 'liblinear'}\n",
      "Best Accuracy: 0.805\n"
     ]
    }
   ],
   "source": [
    "# Create a study object and optimize the objective function\n",
    "study = optuna.create_study(direction='maximize', sampler=optuna.samplers.RandomSampler(seed=seed))\n",
    "study.optimize(objective, n_trials=200)\n",
    "\n",
    "# Get the best hyperparameters and accuracy score\n",
    "best_params = study.best_params\n",
    "best_accuracy = study.best_value\n",
    "\n",
    "print(\"Best Hyperparameters:\", best_params)\n",
    "print(\"Best Accuracy:\", best_accuracy)"
   ]
  },
  {
   "cell_type": "code",
   "execution_count": 22,
   "metadata": {},
   "outputs": [
    {
     "data": {
      "text/plain": [
       "{'penalty': 'l1',\n",
       " 'C': 3.8842777547031417,\n",
       " 'max_iter': 661,\n",
       " 'solver': 'liblinear'}"
      ]
     },
     "execution_count": 22,
     "metadata": {},
     "output_type": "execute_result"
    }
   ],
   "source": [
    "study.best_params"
   ]
  },
  {
   "cell_type": "code",
   "execution_count": 24,
   "metadata": {},
   "outputs": [
    {
     "data": {
      "application/vnd.plotly.v1+json": {
       "config": {
        "plotlyServerURL": "https://plot.ly"
       },
       "data": [
        {
         "mode": "markers",
         "name": "Objective Value",
         "type": "scatter",
         "x": [
          0,
          1,
          2,
          3,
          4,
          5,
          6,
          7,
          8,
          9,
          10,
          11,
          12,
          13,
          14,
          15,
          16,
          17,
          18,
          19,
          20,
          21,
          22,
          23,
          24,
          25,
          26,
          27,
          28,
          29,
          30,
          31,
          32,
          33,
          34,
          35,
          36,
          37,
          38,
          39,
          40,
          41,
          42,
          43,
          44,
          45,
          46,
          47,
          48,
          49,
          50,
          51,
          52,
          53,
          54,
          55,
          56,
          57,
          58,
          59,
          60,
          61,
          62,
          63,
          64,
          65,
          66,
          67,
          68,
          69,
          70,
          71,
          72,
          73,
          74,
          75,
          76,
          77,
          78,
          79,
          80,
          81,
          82,
          83,
          84,
          85,
          86,
          87,
          88,
          89,
          90,
          91,
          92,
          93,
          94,
          95,
          96,
          97,
          98,
          99,
          100,
          101,
          102,
          103,
          104,
          105,
          106,
          107,
          108,
          109,
          110,
          111,
          112,
          113,
          114,
          115,
          116,
          117,
          118,
          119,
          120,
          121,
          122,
          123,
          124,
          125,
          126,
          127,
          128,
          129,
          130,
          131,
          132,
          133,
          134,
          135,
          136,
          137,
          138,
          139,
          140,
          141,
          142,
          143,
          144,
          145,
          146,
          147,
          148,
          149,
          150,
          151,
          152,
          153,
          154,
          155,
          156,
          157,
          158,
          159,
          160,
          161,
          162,
          163,
          164,
          165,
          166,
          167,
          168,
          169,
          170,
          171,
          172,
          173,
          174,
          175,
          176,
          177,
          178,
          179,
          180,
          181,
          182,
          183,
          184,
          185,
          186,
          187,
          188,
          189,
          190,
          191,
          192,
          193,
          194,
          195,
          196,
          197,
          198,
          199
         ],
         "y": [
          0.76,
          0.745,
          0.57,
          0.77,
          0.685,
          0.57,
          0.775,
          0.715,
          0.785,
          0.685,
          0.8,
          0.675,
          0.755,
          0.805,
          0.76,
          0.77,
          0.57,
          0.79,
          0.64,
          0.765,
          0.725,
          0.665,
          0.795,
          0.795,
          0.77,
          0.57,
          0.715,
          0.57,
          0.745,
          0.785,
          0.79,
          0.75,
          0.665,
          0.77,
          0.57,
          0.735,
          0.735,
          0.7,
          0.795,
          0.71,
          0.79,
          0.79,
          0.57,
          0.775,
          0.785,
          0.775,
          0.78,
          0.76,
          0.665,
          0.77,
          0.735,
          0.795,
          0.765,
          0.74,
          0.75,
          0.66,
          0.735,
          0.725,
          0.745,
          0.665,
          0.74,
          0.64,
          0.675,
          0.57,
          0.72,
          0.665,
          0.79,
          0.715,
          0.665,
          0.64,
          0.57,
          0.74,
          0.57,
          0.57,
          0.795,
          0.72,
          0.685,
          0.78,
          0.68,
          0.675,
          0.74,
          0.795,
          0.735,
          0.76,
          0.78,
          0.79,
          0.795,
          0.805,
          0.765,
          0.775,
          0.64,
          0.74,
          0.775,
          0.78,
          0.725,
          0.745,
          0.74,
          0.775,
          0.695,
          0.79,
          0.705,
          0.74,
          0.785,
          0.64,
          0.74,
          0.74,
          0.64,
          0.7,
          0.57,
          0.64,
          0.745,
          0.64,
          0.745,
          0.795,
          0.755,
          0.74,
          0.685,
          0.57,
          0.77,
          0.785,
          0.57,
          0.71,
          0.665,
          0.735,
          0.725,
          0.76,
          0.79,
          0.685,
          0.695,
          0.64,
          0.64,
          0.74,
          0.66,
          0.76,
          0.785,
          0.57,
          0.57,
          0.735,
          0.64,
          0.79,
          0.705,
          0.74,
          0.71,
          0.795,
          0.695,
          0.775,
          0.57,
          0.76,
          0.76,
          0.64,
          0.57,
          0.64,
          0.76,
          0.805,
          0.64,
          0.795,
          0.7,
          0.71,
          0.77,
          0.75,
          0.72,
          0.765,
          0.57,
          0.715,
          0.78,
          0.64,
          0.785,
          0.795,
          0.7,
          0.685,
          0.785,
          0.665,
          0.57,
          0.735,
          0.64,
          0.79,
          0.735,
          0.705,
          0.645,
          0.665,
          0.705,
          0.78,
          0.64,
          0.57,
          0.67,
          0.64,
          0.715,
          0.77,
          0.785,
          0.795,
          0.775,
          0.795,
          0.775,
          0.8,
          0.785,
          0.735,
          0.785,
          0.68,
          0.685,
          0.79
         ]
        },
        {
         "mode": "lines",
         "name": "Best Value",
         "type": "scatter",
         "x": [
          0,
          1,
          2,
          3,
          4,
          5,
          6,
          7,
          8,
          9,
          10,
          11,
          12,
          13,
          14,
          15,
          16,
          17,
          18,
          19,
          20,
          21,
          22,
          23,
          24,
          25,
          26,
          27,
          28,
          29,
          30,
          31,
          32,
          33,
          34,
          35,
          36,
          37,
          38,
          39,
          40,
          41,
          42,
          43,
          44,
          45,
          46,
          47,
          48,
          49,
          50,
          51,
          52,
          53,
          54,
          55,
          56,
          57,
          58,
          59,
          60,
          61,
          62,
          63,
          64,
          65,
          66,
          67,
          68,
          69,
          70,
          71,
          72,
          73,
          74,
          75,
          76,
          77,
          78,
          79,
          80,
          81,
          82,
          83,
          84,
          85,
          86,
          87,
          88,
          89,
          90,
          91,
          92,
          93,
          94,
          95,
          96,
          97,
          98,
          99,
          100,
          101,
          102,
          103,
          104,
          105,
          106,
          107,
          108,
          109,
          110,
          111,
          112,
          113,
          114,
          115,
          116,
          117,
          118,
          119,
          120,
          121,
          122,
          123,
          124,
          125,
          126,
          127,
          128,
          129,
          130,
          131,
          132,
          133,
          134,
          135,
          136,
          137,
          138,
          139,
          140,
          141,
          142,
          143,
          144,
          145,
          146,
          147,
          148,
          149,
          150,
          151,
          152,
          153,
          154,
          155,
          156,
          157,
          158,
          159,
          160,
          161,
          162,
          163,
          164,
          165,
          166,
          167,
          168,
          169,
          170,
          171,
          172,
          173,
          174,
          175,
          176,
          177,
          178,
          179,
          180,
          181,
          182,
          183,
          184,
          185,
          186,
          187,
          188,
          189,
          190,
          191,
          192,
          193,
          194,
          195,
          196,
          197,
          198,
          199
         ],
         "y": [
          0.76,
          0.76,
          0.76,
          0.77,
          0.77,
          0.77,
          0.775,
          0.775,
          0.785,
          0.785,
          0.8,
          0.8,
          0.8,
          0.805,
          0.805,
          0.805,
          0.805,
          0.805,
          0.805,
          0.805,
          0.805,
          0.805,
          0.805,
          0.805,
          0.805,
          0.805,
          0.805,
          0.805,
          0.805,
          0.805,
          0.805,
          0.805,
          0.805,
          0.805,
          0.805,
          0.805,
          0.805,
          0.805,
          0.805,
          0.805,
          0.805,
          0.805,
          0.805,
          0.805,
          0.805,
          0.805,
          0.805,
          0.805,
          0.805,
          0.805,
          0.805,
          0.805,
          0.805,
          0.805,
          0.805,
          0.805,
          0.805,
          0.805,
          0.805,
          0.805,
          0.805,
          0.805,
          0.805,
          0.805,
          0.805,
          0.805,
          0.805,
          0.805,
          0.805,
          0.805,
          0.805,
          0.805,
          0.805,
          0.805,
          0.805,
          0.805,
          0.805,
          0.805,
          0.805,
          0.805,
          0.805,
          0.805,
          0.805,
          0.805,
          0.805,
          0.805,
          0.805,
          0.805,
          0.805,
          0.805,
          0.805,
          0.805,
          0.805,
          0.805,
          0.805,
          0.805,
          0.805,
          0.805,
          0.805,
          0.805,
          0.805,
          0.805,
          0.805,
          0.805,
          0.805,
          0.805,
          0.805,
          0.805,
          0.805,
          0.805,
          0.805,
          0.805,
          0.805,
          0.805,
          0.805,
          0.805,
          0.805,
          0.805,
          0.805,
          0.805,
          0.805,
          0.805,
          0.805,
          0.805,
          0.805,
          0.805,
          0.805,
          0.805,
          0.805,
          0.805,
          0.805,
          0.805,
          0.805,
          0.805,
          0.805,
          0.805,
          0.805,
          0.805,
          0.805,
          0.805,
          0.805,
          0.805,
          0.805,
          0.805,
          0.805,
          0.805,
          0.805,
          0.805,
          0.805,
          0.805,
          0.805,
          0.805,
          0.805,
          0.805,
          0.805,
          0.805,
          0.805,
          0.805,
          0.805,
          0.805,
          0.805,
          0.805,
          0.805,
          0.805,
          0.805,
          0.805,
          0.805,
          0.805,
          0.805,
          0.805,
          0.805,
          0.805,
          0.805,
          0.805,
          0.805,
          0.805,
          0.805,
          0.805,
          0.805,
          0.805,
          0.805,
          0.805,
          0.805,
          0.805,
          0.805,
          0.805,
          0.805,
          0.805,
          0.805,
          0.805,
          0.805,
          0.805,
          0.805,
          0.805,
          0.805,
          0.805,
          0.805,
          0.805,
          0.805,
          0.805
         ]
        },
        {
         "marker": {
          "color": "#cccccc"
         },
         "mode": "markers",
         "name": "Infeasible Trial",
         "showlegend": false,
         "type": "scatter",
         "x": [],
         "y": []
        }
       ],
       "layout": {
        "template": {
         "data": {
          "bar": [
           {
            "error_x": {
             "color": "#2a3f5f"
            },
            "error_y": {
             "color": "#2a3f5f"
            },
            "marker": {
             "line": {
              "color": "#E5ECF6",
              "width": 0.5
             },
             "pattern": {
              "fillmode": "overlay",
              "size": 10,
              "solidity": 0.2
             }
            },
            "type": "bar"
           }
          ],
          "barpolar": [
           {
            "marker": {
             "line": {
              "color": "#E5ECF6",
              "width": 0.5
             },
             "pattern": {
              "fillmode": "overlay",
              "size": 10,
              "solidity": 0.2
             }
            },
            "type": "barpolar"
           }
          ],
          "carpet": [
           {
            "aaxis": {
             "endlinecolor": "#2a3f5f",
             "gridcolor": "white",
             "linecolor": "white",
             "minorgridcolor": "white",
             "startlinecolor": "#2a3f5f"
            },
            "baxis": {
             "endlinecolor": "#2a3f5f",
             "gridcolor": "white",
             "linecolor": "white",
             "minorgridcolor": "white",
             "startlinecolor": "#2a3f5f"
            },
            "type": "carpet"
           }
          ],
          "choropleth": [
           {
            "colorbar": {
             "outlinewidth": 0,
             "ticks": ""
            },
            "type": "choropleth"
           }
          ],
          "contour": [
           {
            "colorbar": {
             "outlinewidth": 0,
             "ticks": ""
            },
            "colorscale": [
             [
              0,
              "#0d0887"
             ],
             [
              0.1111111111111111,
              "#46039f"
             ],
             [
              0.2222222222222222,
              "#7201a8"
             ],
             [
              0.3333333333333333,
              "#9c179e"
             ],
             [
              0.4444444444444444,
              "#bd3786"
             ],
             [
              0.5555555555555556,
              "#d8576b"
             ],
             [
              0.6666666666666666,
              "#ed7953"
             ],
             [
              0.7777777777777778,
              "#fb9f3a"
             ],
             [
              0.8888888888888888,
              "#fdca26"
             ],
             [
              1,
              "#f0f921"
             ]
            ],
            "type": "contour"
           }
          ],
          "contourcarpet": [
           {
            "colorbar": {
             "outlinewidth": 0,
             "ticks": ""
            },
            "type": "contourcarpet"
           }
          ],
          "heatmap": [
           {
            "colorbar": {
             "outlinewidth": 0,
             "ticks": ""
            },
            "colorscale": [
             [
              0,
              "#0d0887"
             ],
             [
              0.1111111111111111,
              "#46039f"
             ],
             [
              0.2222222222222222,
              "#7201a8"
             ],
             [
              0.3333333333333333,
              "#9c179e"
             ],
             [
              0.4444444444444444,
              "#bd3786"
             ],
             [
              0.5555555555555556,
              "#d8576b"
             ],
             [
              0.6666666666666666,
              "#ed7953"
             ],
             [
              0.7777777777777778,
              "#fb9f3a"
             ],
             [
              0.8888888888888888,
              "#fdca26"
             ],
             [
              1,
              "#f0f921"
             ]
            ],
            "type": "heatmap"
           }
          ],
          "heatmapgl": [
           {
            "colorbar": {
             "outlinewidth": 0,
             "ticks": ""
            },
            "colorscale": [
             [
              0,
              "#0d0887"
             ],
             [
              0.1111111111111111,
              "#46039f"
             ],
             [
              0.2222222222222222,
              "#7201a8"
             ],
             [
              0.3333333333333333,
              "#9c179e"
             ],
             [
              0.4444444444444444,
              "#bd3786"
             ],
             [
              0.5555555555555556,
              "#d8576b"
             ],
             [
              0.6666666666666666,
              "#ed7953"
             ],
             [
              0.7777777777777778,
              "#fb9f3a"
             ],
             [
              0.8888888888888888,
              "#fdca26"
             ],
             [
              1,
              "#f0f921"
             ]
            ],
            "type": "heatmapgl"
           }
          ],
          "histogram": [
           {
            "marker": {
             "pattern": {
              "fillmode": "overlay",
              "size": 10,
              "solidity": 0.2
             }
            },
            "type": "histogram"
           }
          ],
          "histogram2d": [
           {
            "colorbar": {
             "outlinewidth": 0,
             "ticks": ""
            },
            "colorscale": [
             [
              0,
              "#0d0887"
             ],
             [
              0.1111111111111111,
              "#46039f"
             ],
             [
              0.2222222222222222,
              "#7201a8"
             ],
             [
              0.3333333333333333,
              "#9c179e"
             ],
             [
              0.4444444444444444,
              "#bd3786"
             ],
             [
              0.5555555555555556,
              "#d8576b"
             ],
             [
              0.6666666666666666,
              "#ed7953"
             ],
             [
              0.7777777777777778,
              "#fb9f3a"
             ],
             [
              0.8888888888888888,
              "#fdca26"
             ],
             [
              1,
              "#f0f921"
             ]
            ],
            "type": "histogram2d"
           }
          ],
          "histogram2dcontour": [
           {
            "colorbar": {
             "outlinewidth": 0,
             "ticks": ""
            },
            "colorscale": [
             [
              0,
              "#0d0887"
             ],
             [
              0.1111111111111111,
              "#46039f"
             ],
             [
              0.2222222222222222,
              "#7201a8"
             ],
             [
              0.3333333333333333,
              "#9c179e"
             ],
             [
              0.4444444444444444,
              "#bd3786"
             ],
             [
              0.5555555555555556,
              "#d8576b"
             ],
             [
              0.6666666666666666,
              "#ed7953"
             ],
             [
              0.7777777777777778,
              "#fb9f3a"
             ],
             [
              0.8888888888888888,
              "#fdca26"
             ],
             [
              1,
              "#f0f921"
             ]
            ],
            "type": "histogram2dcontour"
           }
          ],
          "mesh3d": [
           {
            "colorbar": {
             "outlinewidth": 0,
             "ticks": ""
            },
            "type": "mesh3d"
           }
          ],
          "parcoords": [
           {
            "line": {
             "colorbar": {
              "outlinewidth": 0,
              "ticks": ""
             }
            },
            "type": "parcoords"
           }
          ],
          "pie": [
           {
            "automargin": true,
            "type": "pie"
           }
          ],
          "scatter": [
           {
            "fillpattern": {
             "fillmode": "overlay",
             "size": 10,
             "solidity": 0.2
            },
            "type": "scatter"
           }
          ],
          "scatter3d": [
           {
            "line": {
             "colorbar": {
              "outlinewidth": 0,
              "ticks": ""
             }
            },
            "marker": {
             "colorbar": {
              "outlinewidth": 0,
              "ticks": ""
             }
            },
            "type": "scatter3d"
           }
          ],
          "scattercarpet": [
           {
            "marker": {
             "colorbar": {
              "outlinewidth": 0,
              "ticks": ""
             }
            },
            "type": "scattercarpet"
           }
          ],
          "scattergeo": [
           {
            "marker": {
             "colorbar": {
              "outlinewidth": 0,
              "ticks": ""
             }
            },
            "type": "scattergeo"
           }
          ],
          "scattergl": [
           {
            "marker": {
             "colorbar": {
              "outlinewidth": 0,
              "ticks": ""
             }
            },
            "type": "scattergl"
           }
          ],
          "scattermapbox": [
           {
            "marker": {
             "colorbar": {
              "outlinewidth": 0,
              "ticks": ""
             }
            },
            "type": "scattermapbox"
           }
          ],
          "scatterpolar": [
           {
            "marker": {
             "colorbar": {
              "outlinewidth": 0,
              "ticks": ""
             }
            },
            "type": "scatterpolar"
           }
          ],
          "scatterpolargl": [
           {
            "marker": {
             "colorbar": {
              "outlinewidth": 0,
              "ticks": ""
             }
            },
            "type": "scatterpolargl"
           }
          ],
          "scatterternary": [
           {
            "marker": {
             "colorbar": {
              "outlinewidth": 0,
              "ticks": ""
             }
            },
            "type": "scatterternary"
           }
          ],
          "surface": [
           {
            "colorbar": {
             "outlinewidth": 0,
             "ticks": ""
            },
            "colorscale": [
             [
              0,
              "#0d0887"
             ],
             [
              0.1111111111111111,
              "#46039f"
             ],
             [
              0.2222222222222222,
              "#7201a8"
             ],
             [
              0.3333333333333333,
              "#9c179e"
             ],
             [
              0.4444444444444444,
              "#bd3786"
             ],
             [
              0.5555555555555556,
              "#d8576b"
             ],
             [
              0.6666666666666666,
              "#ed7953"
             ],
             [
              0.7777777777777778,
              "#fb9f3a"
             ],
             [
              0.8888888888888888,
              "#fdca26"
             ],
             [
              1,
              "#f0f921"
             ]
            ],
            "type": "surface"
           }
          ],
          "table": [
           {
            "cells": {
             "fill": {
              "color": "#EBF0F8"
             },
             "line": {
              "color": "white"
             }
            },
            "header": {
             "fill": {
              "color": "#C8D4E3"
             },
             "line": {
              "color": "white"
             }
            },
            "type": "table"
           }
          ]
         },
         "layout": {
          "annotationdefaults": {
           "arrowcolor": "#2a3f5f",
           "arrowhead": 0,
           "arrowwidth": 1
          },
          "autotypenumbers": "strict",
          "coloraxis": {
           "colorbar": {
            "outlinewidth": 0,
            "ticks": ""
           }
          },
          "colorscale": {
           "diverging": [
            [
             0,
             "#8e0152"
            ],
            [
             0.1,
             "#c51b7d"
            ],
            [
             0.2,
             "#de77ae"
            ],
            [
             0.3,
             "#f1b6da"
            ],
            [
             0.4,
             "#fde0ef"
            ],
            [
             0.5,
             "#f7f7f7"
            ],
            [
             0.6,
             "#e6f5d0"
            ],
            [
             0.7,
             "#b8e186"
            ],
            [
             0.8,
             "#7fbc41"
            ],
            [
             0.9,
             "#4d9221"
            ],
            [
             1,
             "#276419"
            ]
           ],
           "sequential": [
            [
             0,
             "#0d0887"
            ],
            [
             0.1111111111111111,
             "#46039f"
            ],
            [
             0.2222222222222222,
             "#7201a8"
            ],
            [
             0.3333333333333333,
             "#9c179e"
            ],
            [
             0.4444444444444444,
             "#bd3786"
            ],
            [
             0.5555555555555556,
             "#d8576b"
            ],
            [
             0.6666666666666666,
             "#ed7953"
            ],
            [
             0.7777777777777778,
             "#fb9f3a"
            ],
            [
             0.8888888888888888,
             "#fdca26"
            ],
            [
             1,
             "#f0f921"
            ]
           ],
           "sequentialminus": [
            [
             0,
             "#0d0887"
            ],
            [
             0.1111111111111111,
             "#46039f"
            ],
            [
             0.2222222222222222,
             "#7201a8"
            ],
            [
             0.3333333333333333,
             "#9c179e"
            ],
            [
             0.4444444444444444,
             "#bd3786"
            ],
            [
             0.5555555555555556,
             "#d8576b"
            ],
            [
             0.6666666666666666,
             "#ed7953"
            ],
            [
             0.7777777777777778,
             "#fb9f3a"
            ],
            [
             0.8888888888888888,
             "#fdca26"
            ],
            [
             1,
             "#f0f921"
            ]
           ]
          },
          "colorway": [
           "#636efa",
           "#EF553B",
           "#00cc96",
           "#ab63fa",
           "#FFA15A",
           "#19d3f3",
           "#FF6692",
           "#B6E880",
           "#FF97FF",
           "#FECB52"
          ],
          "font": {
           "color": "#2a3f5f"
          },
          "geo": {
           "bgcolor": "white",
           "lakecolor": "white",
           "landcolor": "#E5ECF6",
           "showlakes": true,
           "showland": true,
           "subunitcolor": "white"
          },
          "hoverlabel": {
           "align": "left"
          },
          "hovermode": "closest",
          "mapbox": {
           "style": "light"
          },
          "paper_bgcolor": "white",
          "plot_bgcolor": "#E5ECF6",
          "polar": {
           "angularaxis": {
            "gridcolor": "white",
            "linecolor": "white",
            "ticks": ""
           },
           "bgcolor": "#E5ECF6",
           "radialaxis": {
            "gridcolor": "white",
            "linecolor": "white",
            "ticks": ""
           }
          },
          "scene": {
           "xaxis": {
            "backgroundcolor": "#E5ECF6",
            "gridcolor": "white",
            "gridwidth": 2,
            "linecolor": "white",
            "showbackground": true,
            "ticks": "",
            "zerolinecolor": "white"
           },
           "yaxis": {
            "backgroundcolor": "#E5ECF6",
            "gridcolor": "white",
            "gridwidth": 2,
            "linecolor": "white",
            "showbackground": true,
            "ticks": "",
            "zerolinecolor": "white"
           },
           "zaxis": {
            "backgroundcolor": "#E5ECF6",
            "gridcolor": "white",
            "gridwidth": 2,
            "linecolor": "white",
            "showbackground": true,
            "ticks": "",
            "zerolinecolor": "white"
           }
          },
          "shapedefaults": {
           "line": {
            "color": "#2a3f5f"
           }
          },
          "ternary": {
           "aaxis": {
            "gridcolor": "white",
            "linecolor": "white",
            "ticks": ""
           },
           "baxis": {
            "gridcolor": "white",
            "linecolor": "white",
            "ticks": ""
           },
           "bgcolor": "#E5ECF6",
           "caxis": {
            "gridcolor": "white",
            "linecolor": "white",
            "ticks": ""
           }
          },
          "title": {
           "x": 0.05
          },
          "xaxis": {
           "automargin": true,
           "gridcolor": "white",
           "linecolor": "white",
           "ticks": "",
           "title": {
            "standoff": 15
           },
           "zerolinecolor": "white",
           "zerolinewidth": 2
          },
          "yaxis": {
           "automargin": true,
           "gridcolor": "white",
           "linecolor": "white",
           "ticks": "",
           "title": {
            "standoff": 15
           },
           "zerolinecolor": "white",
           "zerolinewidth": 2
          }
         }
        },
        "title": {
         "text": "Optimization History Plot"
        },
        "xaxis": {
         "title": {
          "text": "Trial"
         }
        },
        "yaxis": {
         "title": {
          "text": "Objective Value"
         }
        }
       }
      }
     },
     "metadata": {},
     "output_type": "display_data"
    }
   ],
   "source": [
    "optuna.visualization.plot_optimization_history(study)"
   ]
  },
  {
   "cell_type": "code",
   "execution_count": 25,
   "metadata": {},
   "outputs": [
    {
     "data": {
      "application/vnd.plotly.v1+json": {
       "config": {
        "plotlyServerURL": "https://plot.ly"
       },
       "data": [
        {
         "dimensions": [
          {
           "label": "Objective Value",
           "range": [
            0.57,
            0.805
           ],
           "values": [
            0.76,
            0.745,
            0.57,
            0.77,
            0.685,
            0.57,
            0.775,
            0.715,
            0.785,
            0.685,
            0.8,
            0.675,
            0.755,
            0.805,
            0.76,
            0.77,
            0.57,
            0.79,
            0.64,
            0.765,
            0.725,
            0.665,
            0.795,
            0.795,
            0.77,
            0.57,
            0.715,
            0.57,
            0.745,
            0.785,
            0.79,
            0.75,
            0.665,
            0.77,
            0.57,
            0.735,
            0.735,
            0.7,
            0.795,
            0.71,
            0.79,
            0.79,
            0.57,
            0.775,
            0.785,
            0.775,
            0.78,
            0.76,
            0.665,
            0.77,
            0.735,
            0.795,
            0.765,
            0.74,
            0.75,
            0.66,
            0.735,
            0.725,
            0.745,
            0.665,
            0.74,
            0.64,
            0.675,
            0.57,
            0.72,
            0.665,
            0.79,
            0.715,
            0.665,
            0.64,
            0.57,
            0.74,
            0.57,
            0.57,
            0.795,
            0.72,
            0.685,
            0.78,
            0.68,
            0.675,
            0.74,
            0.795,
            0.735,
            0.76,
            0.78,
            0.79,
            0.795,
            0.805,
            0.765,
            0.775,
            0.64,
            0.74,
            0.775,
            0.78,
            0.725,
            0.745,
            0.74,
            0.775,
            0.695,
            0.79,
            0.705,
            0.74,
            0.785,
            0.64,
            0.74,
            0.74,
            0.64,
            0.7,
            0.57,
            0.64,
            0.745,
            0.64,
            0.745,
            0.795,
            0.755,
            0.74,
            0.685,
            0.57,
            0.77,
            0.785,
            0.57,
            0.71,
            0.665,
            0.735,
            0.725,
            0.76,
            0.79,
            0.685,
            0.695,
            0.64,
            0.64,
            0.74,
            0.66,
            0.76,
            0.785,
            0.57,
            0.57,
            0.735,
            0.64,
            0.79,
            0.705,
            0.74,
            0.71,
            0.795,
            0.695,
            0.775,
            0.57,
            0.76,
            0.76,
            0.64,
            0.57,
            0.64,
            0.76,
            0.805,
            0.64,
            0.795,
            0.7,
            0.71,
            0.77,
            0.75,
            0.72,
            0.765,
            0.57,
            0.715,
            0.78,
            0.64,
            0.785,
            0.795,
            0.7,
            0.685,
            0.785,
            0.665,
            0.57,
            0.735,
            0.64,
            0.79,
            0.735,
            0.705,
            0.645,
            0.665,
            0.705,
            0.78,
            0.64,
            0.57,
            0.67,
            0.64,
            0.715,
            0.77,
            0.785,
            0.795,
            0.775,
            0.795,
            0.775,
            0.8,
            0.785,
            0.735,
            0.785,
            0.68,
            0.685,
            0.79
           ]
          },
          {
           "label": "C",
           "range": [
            -1.9791436084064278,
            0.9735058784109295
           ],
           "ticktext": [
            "0.0105",
            "0.1",
            "1",
            "9.41"
           ],
           "tickvals": [
            -1.9791436084064278,
            -1,
            0,
            0.9735058784109295
           ],
           "values": [
            0.1959818254342155,
            -0.19665496477037342,
            -1.454525098378698,
            -0.16444131583286165,
            -1.4009786535249207,
            -1.8048452210441612,
            0.05269907953647094,
            -1.223660055199949,
            0.9087538832936757,
            -1.7345224938442414,
            0.4862125274557883,
            -1.7763480689606874,
            0.12057203154285161,
            0.5893102776267807,
            0.1888185350141924,
            0.28235514585069255,
            -1.9237426197677143,
            0.7226994217782791,
            -1.1307456412586958,
            0.41101623069734367,
            -1.0459895750844084,
            -1.9791436084064278,
            0.8287291117375577,
            0.8873418848263339,
            -0.17130699806030944,
            -1.5653153837263305,
            -1.2870873680228008,
            -1.7291306898367749,
            0.03269308552684742,
            0.07281321430739798,
            0.7740808548356886,
            -0.4110482649319805,
            -0.9829106268538979,
            -0.07390506153713657,
            -1.6955853714019036,
            -0.04411622149219818,
            -0.051101302858355756,
            -1.2043928969548234,
            0.3844339106249453,
            -1.1576829126774326,
            0.7445931706613456,
            0.8908599312677585,
            -1.4915217599417223,
            -0.15497831990249084,
            0.09104722298580424,
            0.6012169557403111,
            0.10590063177311017,
            -0.2651595770114779,
            -1.9084992501828513,
            0.3099806592958327,
            -0.37809463516968017,
            0.3855585843061112,
            0.5079403615366176,
            -0.3523200058816384,
            -0.3369378424657979,
            -1.956819534110732,
            -0.5774785127380242,
            -0.8044857968078796,
            -0.4905912242597367,
            -1.9204660683751342,
            -0.6252413285254499,
            -1.4126265956321107,
            -1.786434054619313,
            -1.645505517135031,
            -1.1538962822860803,
            -0.8839457426216503,
            0.2526132033744923,
            -1.0398511969081647,
            -1.0420590872287552,
            -1.1203676849058062,
            -1.7263816908539287,
            -0.9472549623437637,
            -1.7476795816550077,
            -1.745486857744424,
            0.9580031914686129,
            -0.7273339722590709,
            -1.8310901729544877,
            0.8865176454236258,
            -1.963536575930551,
            -1.7786103057938034,
            -0.6363768056966801,
            0.8512344522296764,
            -0.6089047851800534,
            0.09448514205923537,
            0.7327815534815276,
            0.7981854500620397,
            0.9618283879448335,
            0.5149861141334137,
            0.4387030273902328,
            0.5489421720322344,
            -1.3140715834896117,
            -0.43907689728861987,
            0.6299608079750352,
            0.11223930429767068,
            -0.8232678647008028,
            -0.8103716530361894,
            -0.5236511207613854,
            -0.09979743704982236,
            -1.5835184820517696,
            0.002673215563081811,
            -1.4689685471697593,
            -0.4897481874354292,
            0.6207358723203317,
            -1.446436941930868,
            -0.6123958516005562,
            -0.46496767365300157,
            -1.192270307151857,
            -1.6407136045422461,
            -1.7392391357377288,
            -1.1486722826038263,
            -0.18267554192933846,
            -1.4402989278460825,
            -0.7688095190310154,
            0.45121621284783997,
            -0.28516193159030023,
            -0.4771688639466348,
            -1.536911854177393,
            -1.8098750885816965,
            0.2806835796690599,
            0.49185822336318746,
            -1.8005111978996673,
            -1.3951180398567662,
            -0.9235085476294923,
            -0.6119606429911806,
            -0.8483263358803655,
            -0.11687584078574623,
            0.6816777491528729,
            -1.8994026957926617,
            -1.668104789134378,
            -1.3122458143020754,
            -1.2446028232791415,
            -0.6139825890676018,
            -1.9456694485374784,
            0.12171590294019585,
            0.8031010443070445,
            -1.6260119563901994,
            -1.8357150835339056,
            -0.3878131911862312,
            -1.326185531180054,
            0.7445377032043003,
            -1.4658920993907456,
            -0.4934149690062722,
            -1.3845810785539783,
            0.326582850085032,
            -1.5342792622078625,
            -0.0680013702829524,
            -1.9187120224895495,
            0.3997482561195683,
            0.16680079556697747,
            -1.1205568092169602,
            -1.4556936947306078,
            -1.2217296997061222,
            -0.34385845744405913,
            0.6054039276937387,
            -1.1939679218451615,
            0.9532065421106566,
            -1.6467467513295764,
            -1.38073618471819,
            -0.19844941869903965,
            -0.44324688415148716,
            -1.2639526709560371,
            -0.3007860791093084,
            -1.9064505948161456,
            -0.9972683275491175,
            0.06520718928320828,
            -1.1835645883101116,
            0.8507120614624074,
            0.41968344358434917,
            -1.336371674541193,
            -1.4582739646179992,
            0.7731885861295912,
            -1.0426985802702329,
            -1.7691403951123725,
            -0.38152612287398824,
            -1.3011215757390986,
            0.8172030955386885,
            -0.5603731390882732,
            -0.7359289931687892,
            -1.1110756386320295,
            -0.8470200585209549,
            -0.7472576726452148,
            0.9735058784109295,
            -1.3079905648467236,
            -1.8264719703098107,
            -0.8112739432920236,
            -1.3285471555321307,
            -1.2031998722338817,
            -0.03427405808293464,
            0.17026034106575516,
            0.5536207421463064,
            0.03404845767719089,
            0.5517451872827258,
            -0.14416586535444695,
            0.477450251694288,
            0.496402533873226,
            -0.10455941894999464,
            0.28308370750608397,
            -1.692470816027962,
            -1.7979481955936847,
            0.9204669075321908
           ]
          },
          {
           "label": "max_iter",
           "range": [
            109,
            1000
           ],
           "values": [
            639,
            737,
            265,
            225,
            563,
            954,
            496,
            696,
            798,
            276,
            421,
            989,
            756,
            661,
            674,
            605,
            197,
            324,
            245,
            268,
            199,
            560,
            391,
            326,
            552,
            540,
            756,
            852,
            114,
            448,
            890,
            317,
            414,
            175,
            697,
            302,
            865,
            319,
            552,
            121,
            433,
            868,
            601,
            992,
            732,
            922,
            817,
            132,
            133,
            294,
            674,
            344,
            727,
            743,
            651,
            204,
            188,
            654,
            871,
            627,
            591,
            162,
            387,
            727,
            259,
            799,
            779,
            906,
            956,
            396,
            545,
            205,
            731,
            988,
            778,
            916,
            207,
            437,
            973,
            599,
            665,
            902,
            418,
            583,
            841,
            880,
            235,
            522,
            1000,
            322,
            705,
            795,
            463,
            291,
            494,
            660,
            332,
            316,
            677,
            255,
            179,
            722,
            929,
            288,
            773,
            579,
            439,
            902,
            583,
            427,
            313,
            356,
            985,
            332,
            352,
            318,
            533,
            991,
            636,
            969,
            767,
            247,
            890,
            371,
            589,
            401,
            810,
            613,
            862,
            750,
            411,
            953,
            885,
            237,
            933,
            929,
            402,
            928,
            507,
            426,
            965,
            636,
            271,
            508,
            263,
            468,
            299,
            260,
            870,
            907,
            625,
            442,
            492,
            539,
            588,
            573,
            619,
            109,
            699,
            142,
            450,
            528,
            336,
            794,
            491,
            631,
            501,
            693,
            989,
            611,
            974,
            846,
            727,
            812,
            121,
            819,
            665,
            764,
            310,
            712,
            892,
            308,
            259,
            973,
            783,
            583,
            216,
            596,
            546,
            546,
            609,
            881,
            778,
            216,
            557,
            334,
            587,
            944,
            624,
            972
           ]
          },
          {
           "label": "penalty",
           "range": [
            0,
            1
           ],
           "ticktext": [
            "l2",
            "l1"
           ],
           "tickvals": [
            0,
            1
           ],
           "values": [
            0,
            0,
            1,
            1,
            0,
            1,
            1,
            0,
            1,
            0,
            1,
            0,
            0,
            1,
            0,
            0,
            1,
            0,
            1,
            0,
            0,
            0,
            0,
            0,
            1,
            1,
            0,
            1,
            0,
            1,
            1,
            1,
            1,
            1,
            1,
            0,
            0,
            0,
            1,
            0,
            0,
            0,
            1,
            1,
            1,
            0,
            1,
            1,
            0,
            0,
            0,
            1,
            0,
            0,
            1,
            0,
            1,
            0,
            0,
            0,
            0,
            1,
            0,
            1,
            0,
            1,
            1,
            0,
            1,
            1,
            1,
            0,
            1,
            1,
            0,
            1,
            0,
            1,
            0,
            0,
            0,
            0,
            1,
            0,
            1,
            1,
            0,
            1,
            0,
            0,
            1,
            0,
            0,
            1,
            0,
            0,
            0,
            1,
            0,
            1,
            0,
            0,
            1,
            1,
            1,
            0,
            1,
            0,
            1,
            1,
            0,
            1,
            0,
            1,
            1,
            0,
            0,
            1,
            0,
            0,
            1,
            0,
            1,
            1,
            0,
            0,
            1,
            0,
            0,
            1,
            1,
            1,
            0,
            0,
            0,
            1,
            1,
            0,
            1,
            1,
            0,
            0,
            0,
            1,
            0,
            1,
            1,
            0,
            0,
            1,
            1,
            1,
            1,
            1,
            1,
            0,
            0,
            0,
            1,
            1,
            0,
            1,
            1,
            0,
            1,
            1,
            1,
            1,
            0,
            0,
            1,
            1,
            1,
            0,
            1,
            1,
            1,
            1,
            1,
            1,
            1,
            1,
            1,
            1,
            1,
            1,
            0,
            1,
            1,
            1,
            1,
            1,
            1,
            1,
            0,
            0,
            1,
            0,
            0,
            0
           ]
          },
          {
           "label": "solver",
           "range": [
            0,
            1
           ],
           "ticktext": [
            "liblinear",
            "saga"
           ],
           "tickvals": [
            0,
            1
           ],
           "values": [
            0,
            1,
            1,
            1,
            0,
            0,
            1,
            1,
            0,
            1,
            1,
            0,
            0,
            0,
            0,
            0,
            1,
            1,
            0,
            0,
            1,
            0,
            1,
            0,
            1,
            0,
            1,
            0,
            0,
            0,
            1,
            1,
            1,
            1,
            1,
            0,
            0,
            0,
            0,
            0,
            1,
            1,
            0,
            1,
            0,
            0,
            0,
            1,
            0,
            0,
            1,
            0,
            0,
            0,
            0,
            0,
            0,
            0,
            0,
            0,
            0,
            0,
            0,
            1,
            1,
            1,
            1,
            0,
            0,
            1,
            1,
            1,
            1,
            0,
            0,
            1,
            1,
            1,
            1,
            0,
            1,
            1,
            0,
            1,
            0,
            0,
            0,
            0,
            0,
            0,
            0,
            1,
            0,
            0,
            0,
            1,
            1,
            1,
            1,
            0,
            1,
            1,
            1,
            1,
            1,
            1,
            1,
            1,
            1,
            0,
            1,
            1,
            1,
            1,
            0,
            1,
            0,
            1,
            0,
            1,
            1,
            1,
            1,
            0,
            0,
            1,
            1,
            1,
            1,
            0,
            1,
            1,
            0,
            1,
            0,
            0,
            0,
            1,
            1,
            1,
            1,
            1,
            1,
            0,
            1,
            1,
            1,
            0,
            0,
            1,
            1,
            0,
            1,
            0,
            0,
            1,
            1,
            1,
            1,
            1,
            1,
            1,
            0,
            0,
            1,
            0,
            1,
            1,
            0,
            0,
            0,
            1,
            1,
            1,
            0,
            0,
            1,
            0,
            0,
            1,
            0,
            0,
            0,
            1,
            0,
            0,
            1,
            1,
            1,
            1,
            1,
            1,
            1,
            1,
            1,
            0,
            0,
            0,
            1,
            0
           ]
          }
         ],
         "labelangle": 30,
         "labelside": "bottom",
         "line": {
          "color": [
           0.76,
           0.745,
           0.57,
           0.77,
           0.685,
           0.57,
           0.775,
           0.715,
           0.785,
           0.685,
           0.8,
           0.675,
           0.755,
           0.805,
           0.76,
           0.77,
           0.57,
           0.79,
           0.64,
           0.765,
           0.725,
           0.665,
           0.795,
           0.795,
           0.77,
           0.57,
           0.715,
           0.57,
           0.745,
           0.785,
           0.79,
           0.75,
           0.665,
           0.77,
           0.57,
           0.735,
           0.735,
           0.7,
           0.795,
           0.71,
           0.79,
           0.79,
           0.57,
           0.775,
           0.785,
           0.775,
           0.78,
           0.76,
           0.665,
           0.77,
           0.735,
           0.795,
           0.765,
           0.74,
           0.75,
           0.66,
           0.735,
           0.725,
           0.745,
           0.665,
           0.74,
           0.64,
           0.675,
           0.57,
           0.72,
           0.665,
           0.79,
           0.715,
           0.665,
           0.64,
           0.57,
           0.74,
           0.57,
           0.57,
           0.795,
           0.72,
           0.685,
           0.78,
           0.68,
           0.675,
           0.74,
           0.795,
           0.735,
           0.76,
           0.78,
           0.79,
           0.795,
           0.805,
           0.765,
           0.775,
           0.64,
           0.74,
           0.775,
           0.78,
           0.725,
           0.745,
           0.74,
           0.775,
           0.695,
           0.79,
           0.705,
           0.74,
           0.785,
           0.64,
           0.74,
           0.74,
           0.64,
           0.7,
           0.57,
           0.64,
           0.745,
           0.64,
           0.745,
           0.795,
           0.755,
           0.74,
           0.685,
           0.57,
           0.77,
           0.785,
           0.57,
           0.71,
           0.665,
           0.735,
           0.725,
           0.76,
           0.79,
           0.685,
           0.695,
           0.64,
           0.64,
           0.74,
           0.66,
           0.76,
           0.785,
           0.57,
           0.57,
           0.735,
           0.64,
           0.79,
           0.705,
           0.74,
           0.71,
           0.795,
           0.695,
           0.775,
           0.57,
           0.76,
           0.76,
           0.64,
           0.57,
           0.64,
           0.76,
           0.805,
           0.64,
           0.795,
           0.7,
           0.71,
           0.77,
           0.75,
           0.72,
           0.765,
           0.57,
           0.715,
           0.78,
           0.64,
           0.785,
           0.795,
           0.7,
           0.685,
           0.785,
           0.665,
           0.57,
           0.735,
           0.64,
           0.79,
           0.735,
           0.705,
           0.645,
           0.665,
           0.705,
           0.78,
           0.64,
           0.57,
           0.67,
           0.64,
           0.715,
           0.77,
           0.785,
           0.795,
           0.775,
           0.795,
           0.775,
           0.8,
           0.785,
           0.735,
           0.785,
           0.68,
           0.685,
           0.79
          ],
          "colorbar": {
           "title": {
            "text": "Objective Value"
           }
          },
          "colorscale": [
           [
            0,
            "rgb(247,251,255)"
           ],
           [
            0.125,
            "rgb(222,235,247)"
           ],
           [
            0.25,
            "rgb(198,219,239)"
           ],
           [
            0.375,
            "rgb(158,202,225)"
           ],
           [
            0.5,
            "rgb(107,174,214)"
           ],
           [
            0.625,
            "rgb(66,146,198)"
           ],
           [
            0.75,
            "rgb(33,113,181)"
           ],
           [
            0.875,
            "rgb(8,81,156)"
           ],
           [
            1,
            "rgb(8,48,107)"
           ]
          ],
          "reversescale": false,
          "showscale": true
         },
         "type": "parcoords"
        }
       ],
       "layout": {
        "template": {
         "data": {
          "bar": [
           {
            "error_x": {
             "color": "#2a3f5f"
            },
            "error_y": {
             "color": "#2a3f5f"
            },
            "marker": {
             "line": {
              "color": "#E5ECF6",
              "width": 0.5
             },
             "pattern": {
              "fillmode": "overlay",
              "size": 10,
              "solidity": 0.2
             }
            },
            "type": "bar"
           }
          ],
          "barpolar": [
           {
            "marker": {
             "line": {
              "color": "#E5ECF6",
              "width": 0.5
             },
             "pattern": {
              "fillmode": "overlay",
              "size": 10,
              "solidity": 0.2
             }
            },
            "type": "barpolar"
           }
          ],
          "carpet": [
           {
            "aaxis": {
             "endlinecolor": "#2a3f5f",
             "gridcolor": "white",
             "linecolor": "white",
             "minorgridcolor": "white",
             "startlinecolor": "#2a3f5f"
            },
            "baxis": {
             "endlinecolor": "#2a3f5f",
             "gridcolor": "white",
             "linecolor": "white",
             "minorgridcolor": "white",
             "startlinecolor": "#2a3f5f"
            },
            "type": "carpet"
           }
          ],
          "choropleth": [
           {
            "colorbar": {
             "outlinewidth": 0,
             "ticks": ""
            },
            "type": "choropleth"
           }
          ],
          "contour": [
           {
            "colorbar": {
             "outlinewidth": 0,
             "ticks": ""
            },
            "colorscale": [
             [
              0,
              "#0d0887"
             ],
             [
              0.1111111111111111,
              "#46039f"
             ],
             [
              0.2222222222222222,
              "#7201a8"
             ],
             [
              0.3333333333333333,
              "#9c179e"
             ],
             [
              0.4444444444444444,
              "#bd3786"
             ],
             [
              0.5555555555555556,
              "#d8576b"
             ],
             [
              0.6666666666666666,
              "#ed7953"
             ],
             [
              0.7777777777777778,
              "#fb9f3a"
             ],
             [
              0.8888888888888888,
              "#fdca26"
             ],
             [
              1,
              "#f0f921"
             ]
            ],
            "type": "contour"
           }
          ],
          "contourcarpet": [
           {
            "colorbar": {
             "outlinewidth": 0,
             "ticks": ""
            },
            "type": "contourcarpet"
           }
          ],
          "heatmap": [
           {
            "colorbar": {
             "outlinewidth": 0,
             "ticks": ""
            },
            "colorscale": [
             [
              0,
              "#0d0887"
             ],
             [
              0.1111111111111111,
              "#46039f"
             ],
             [
              0.2222222222222222,
              "#7201a8"
             ],
             [
              0.3333333333333333,
              "#9c179e"
             ],
             [
              0.4444444444444444,
              "#bd3786"
             ],
             [
              0.5555555555555556,
              "#d8576b"
             ],
             [
              0.6666666666666666,
              "#ed7953"
             ],
             [
              0.7777777777777778,
              "#fb9f3a"
             ],
             [
              0.8888888888888888,
              "#fdca26"
             ],
             [
              1,
              "#f0f921"
             ]
            ],
            "type": "heatmap"
           }
          ],
          "heatmapgl": [
           {
            "colorbar": {
             "outlinewidth": 0,
             "ticks": ""
            },
            "colorscale": [
             [
              0,
              "#0d0887"
             ],
             [
              0.1111111111111111,
              "#46039f"
             ],
             [
              0.2222222222222222,
              "#7201a8"
             ],
             [
              0.3333333333333333,
              "#9c179e"
             ],
             [
              0.4444444444444444,
              "#bd3786"
             ],
             [
              0.5555555555555556,
              "#d8576b"
             ],
             [
              0.6666666666666666,
              "#ed7953"
             ],
             [
              0.7777777777777778,
              "#fb9f3a"
             ],
             [
              0.8888888888888888,
              "#fdca26"
             ],
             [
              1,
              "#f0f921"
             ]
            ],
            "type": "heatmapgl"
           }
          ],
          "histogram": [
           {
            "marker": {
             "pattern": {
              "fillmode": "overlay",
              "size": 10,
              "solidity": 0.2
             }
            },
            "type": "histogram"
           }
          ],
          "histogram2d": [
           {
            "colorbar": {
             "outlinewidth": 0,
             "ticks": ""
            },
            "colorscale": [
             [
              0,
              "#0d0887"
             ],
             [
              0.1111111111111111,
              "#46039f"
             ],
             [
              0.2222222222222222,
              "#7201a8"
             ],
             [
              0.3333333333333333,
              "#9c179e"
             ],
             [
              0.4444444444444444,
              "#bd3786"
             ],
             [
              0.5555555555555556,
              "#d8576b"
             ],
             [
              0.6666666666666666,
              "#ed7953"
             ],
             [
              0.7777777777777778,
              "#fb9f3a"
             ],
             [
              0.8888888888888888,
              "#fdca26"
             ],
             [
              1,
              "#f0f921"
             ]
            ],
            "type": "histogram2d"
           }
          ],
          "histogram2dcontour": [
           {
            "colorbar": {
             "outlinewidth": 0,
             "ticks": ""
            },
            "colorscale": [
             [
              0,
              "#0d0887"
             ],
             [
              0.1111111111111111,
              "#46039f"
             ],
             [
              0.2222222222222222,
              "#7201a8"
             ],
             [
              0.3333333333333333,
              "#9c179e"
             ],
             [
              0.4444444444444444,
              "#bd3786"
             ],
             [
              0.5555555555555556,
              "#d8576b"
             ],
             [
              0.6666666666666666,
              "#ed7953"
             ],
             [
              0.7777777777777778,
              "#fb9f3a"
             ],
             [
              0.8888888888888888,
              "#fdca26"
             ],
             [
              1,
              "#f0f921"
             ]
            ],
            "type": "histogram2dcontour"
           }
          ],
          "mesh3d": [
           {
            "colorbar": {
             "outlinewidth": 0,
             "ticks": ""
            },
            "type": "mesh3d"
           }
          ],
          "parcoords": [
           {
            "line": {
             "colorbar": {
              "outlinewidth": 0,
              "ticks": ""
             }
            },
            "type": "parcoords"
           }
          ],
          "pie": [
           {
            "automargin": true,
            "type": "pie"
           }
          ],
          "scatter": [
           {
            "fillpattern": {
             "fillmode": "overlay",
             "size": 10,
             "solidity": 0.2
            },
            "type": "scatter"
           }
          ],
          "scatter3d": [
           {
            "line": {
             "colorbar": {
              "outlinewidth": 0,
              "ticks": ""
             }
            },
            "marker": {
             "colorbar": {
              "outlinewidth": 0,
              "ticks": ""
             }
            },
            "type": "scatter3d"
           }
          ],
          "scattercarpet": [
           {
            "marker": {
             "colorbar": {
              "outlinewidth": 0,
              "ticks": ""
             }
            },
            "type": "scattercarpet"
           }
          ],
          "scattergeo": [
           {
            "marker": {
             "colorbar": {
              "outlinewidth": 0,
              "ticks": ""
             }
            },
            "type": "scattergeo"
           }
          ],
          "scattergl": [
           {
            "marker": {
             "colorbar": {
              "outlinewidth": 0,
              "ticks": ""
             }
            },
            "type": "scattergl"
           }
          ],
          "scattermapbox": [
           {
            "marker": {
             "colorbar": {
              "outlinewidth": 0,
              "ticks": ""
             }
            },
            "type": "scattermapbox"
           }
          ],
          "scatterpolar": [
           {
            "marker": {
             "colorbar": {
              "outlinewidth": 0,
              "ticks": ""
             }
            },
            "type": "scatterpolar"
           }
          ],
          "scatterpolargl": [
           {
            "marker": {
             "colorbar": {
              "outlinewidth": 0,
              "ticks": ""
             }
            },
            "type": "scatterpolargl"
           }
          ],
          "scatterternary": [
           {
            "marker": {
             "colorbar": {
              "outlinewidth": 0,
              "ticks": ""
             }
            },
            "type": "scatterternary"
           }
          ],
          "surface": [
           {
            "colorbar": {
             "outlinewidth": 0,
             "ticks": ""
            },
            "colorscale": [
             [
              0,
              "#0d0887"
             ],
             [
              0.1111111111111111,
              "#46039f"
             ],
             [
              0.2222222222222222,
              "#7201a8"
             ],
             [
              0.3333333333333333,
              "#9c179e"
             ],
             [
              0.4444444444444444,
              "#bd3786"
             ],
             [
              0.5555555555555556,
              "#d8576b"
             ],
             [
              0.6666666666666666,
              "#ed7953"
             ],
             [
              0.7777777777777778,
              "#fb9f3a"
             ],
             [
              0.8888888888888888,
              "#fdca26"
             ],
             [
              1,
              "#f0f921"
             ]
            ],
            "type": "surface"
           }
          ],
          "table": [
           {
            "cells": {
             "fill": {
              "color": "#EBF0F8"
             },
             "line": {
              "color": "white"
             }
            },
            "header": {
             "fill": {
              "color": "#C8D4E3"
             },
             "line": {
              "color": "white"
             }
            },
            "type": "table"
           }
          ]
         },
         "layout": {
          "annotationdefaults": {
           "arrowcolor": "#2a3f5f",
           "arrowhead": 0,
           "arrowwidth": 1
          },
          "autotypenumbers": "strict",
          "coloraxis": {
           "colorbar": {
            "outlinewidth": 0,
            "ticks": ""
           }
          },
          "colorscale": {
           "diverging": [
            [
             0,
             "#8e0152"
            ],
            [
             0.1,
             "#c51b7d"
            ],
            [
             0.2,
             "#de77ae"
            ],
            [
             0.3,
             "#f1b6da"
            ],
            [
             0.4,
             "#fde0ef"
            ],
            [
             0.5,
             "#f7f7f7"
            ],
            [
             0.6,
             "#e6f5d0"
            ],
            [
             0.7,
             "#b8e186"
            ],
            [
             0.8,
             "#7fbc41"
            ],
            [
             0.9,
             "#4d9221"
            ],
            [
             1,
             "#276419"
            ]
           ],
           "sequential": [
            [
             0,
             "#0d0887"
            ],
            [
             0.1111111111111111,
             "#46039f"
            ],
            [
             0.2222222222222222,
             "#7201a8"
            ],
            [
             0.3333333333333333,
             "#9c179e"
            ],
            [
             0.4444444444444444,
             "#bd3786"
            ],
            [
             0.5555555555555556,
             "#d8576b"
            ],
            [
             0.6666666666666666,
             "#ed7953"
            ],
            [
             0.7777777777777778,
             "#fb9f3a"
            ],
            [
             0.8888888888888888,
             "#fdca26"
            ],
            [
             1,
             "#f0f921"
            ]
           ],
           "sequentialminus": [
            [
             0,
             "#0d0887"
            ],
            [
             0.1111111111111111,
             "#46039f"
            ],
            [
             0.2222222222222222,
             "#7201a8"
            ],
            [
             0.3333333333333333,
             "#9c179e"
            ],
            [
             0.4444444444444444,
             "#bd3786"
            ],
            [
             0.5555555555555556,
             "#d8576b"
            ],
            [
             0.6666666666666666,
             "#ed7953"
            ],
            [
             0.7777777777777778,
             "#fb9f3a"
            ],
            [
             0.8888888888888888,
             "#fdca26"
            ],
            [
             1,
             "#f0f921"
            ]
           ]
          },
          "colorway": [
           "#636efa",
           "#EF553B",
           "#00cc96",
           "#ab63fa",
           "#FFA15A",
           "#19d3f3",
           "#FF6692",
           "#B6E880",
           "#FF97FF",
           "#FECB52"
          ],
          "font": {
           "color": "#2a3f5f"
          },
          "geo": {
           "bgcolor": "white",
           "lakecolor": "white",
           "landcolor": "#E5ECF6",
           "showlakes": true,
           "showland": true,
           "subunitcolor": "white"
          },
          "hoverlabel": {
           "align": "left"
          },
          "hovermode": "closest",
          "mapbox": {
           "style": "light"
          },
          "paper_bgcolor": "white",
          "plot_bgcolor": "#E5ECF6",
          "polar": {
           "angularaxis": {
            "gridcolor": "white",
            "linecolor": "white",
            "ticks": ""
           },
           "bgcolor": "#E5ECF6",
           "radialaxis": {
            "gridcolor": "white",
            "linecolor": "white",
            "ticks": ""
           }
          },
          "scene": {
           "xaxis": {
            "backgroundcolor": "#E5ECF6",
            "gridcolor": "white",
            "gridwidth": 2,
            "linecolor": "white",
            "showbackground": true,
            "ticks": "",
            "zerolinecolor": "white"
           },
           "yaxis": {
            "backgroundcolor": "#E5ECF6",
            "gridcolor": "white",
            "gridwidth": 2,
            "linecolor": "white",
            "showbackground": true,
            "ticks": "",
            "zerolinecolor": "white"
           },
           "zaxis": {
            "backgroundcolor": "#E5ECF6",
            "gridcolor": "white",
            "gridwidth": 2,
            "linecolor": "white",
            "showbackground": true,
            "ticks": "",
            "zerolinecolor": "white"
           }
          },
          "shapedefaults": {
           "line": {
            "color": "#2a3f5f"
           }
          },
          "ternary": {
           "aaxis": {
            "gridcolor": "white",
            "linecolor": "white",
            "ticks": ""
           },
           "baxis": {
            "gridcolor": "white",
            "linecolor": "white",
            "ticks": ""
           },
           "bgcolor": "#E5ECF6",
           "caxis": {
            "gridcolor": "white",
            "linecolor": "white",
            "ticks": ""
           }
          },
          "title": {
           "x": 0.05
          },
          "xaxis": {
           "automargin": true,
           "gridcolor": "white",
           "linecolor": "white",
           "ticks": "",
           "title": {
            "standoff": 15
           },
           "zerolinecolor": "white",
           "zerolinewidth": 2
          },
          "yaxis": {
           "automargin": true,
           "gridcolor": "white",
           "linecolor": "white",
           "ticks": "",
           "title": {
            "standoff": 15
           },
           "zerolinecolor": "white",
           "zerolinewidth": 2
          }
         }
        },
        "title": {
         "text": "Parallel Coordinate Plot"
        }
       }
      }
     },
     "metadata": {},
     "output_type": "display_data"
    }
   ],
   "source": [
    "optuna.visualization.plot_parallel_coordinate(study)"
   ]
  },
  {
   "cell_type": "code",
   "execution_count": 27,
   "metadata": {},
   "outputs": [
    {
     "data": {
      "application/vnd.plotly.v1+json": {
       "config": {
        "plotlyServerURL": "https://plot.ly"
       },
       "data": [
        {
         "marker": {
          "color": [
           0,
           1,
           2,
           3,
           4,
           5,
           6,
           7,
           8,
           9,
           10,
           11,
           12,
           13,
           14,
           15,
           16,
           17,
           18,
           19,
           20,
           21,
           22,
           23,
           24,
           25,
           26,
           27,
           28,
           29,
           30,
           31,
           32,
           33,
           34,
           35,
           36,
           37,
           38,
           39,
           40,
           41,
           42,
           43,
           44,
           45,
           46,
           47,
           48,
           49,
           50,
           51,
           52,
           53,
           54,
           55,
           56,
           57,
           58,
           59,
           60,
           61,
           62,
           63,
           64,
           65,
           66,
           67,
           68,
           69,
           70,
           71,
           72,
           73,
           74,
           75,
           76,
           77,
           78,
           79,
           80,
           81,
           82,
           83,
           84,
           85,
           86,
           87,
           88,
           89,
           90,
           91,
           92,
           93,
           94,
           95,
           96,
           97,
           98,
           99,
           100,
           101,
           102,
           103,
           104,
           105,
           106,
           107,
           108,
           109,
           110,
           111,
           112,
           113,
           114,
           115,
           116,
           117,
           118,
           119,
           120,
           121,
           122,
           123,
           124,
           125,
           126,
           127,
           128,
           129,
           130,
           131,
           132,
           133,
           134,
           135,
           136,
           137,
           138,
           139,
           140,
           141,
           142,
           143,
           144,
           145,
           146,
           147,
           148,
           149,
           150,
           151,
           152,
           153,
           154,
           155,
           156,
           157,
           158,
           159,
           160,
           161,
           162,
           163,
           164,
           165,
           166,
           167,
           168,
           169,
           170,
           171,
           172,
           173,
           174,
           175,
           176,
           177,
           178,
           179,
           180,
           181,
           182,
           183,
           184,
           185,
           186,
           187,
           188,
           189,
           190,
           191,
           192,
           193,
           194,
           195,
           196,
           197,
           198,
           199
          ],
          "colorbar": {
           "title": {
            "text": "Trial"
           },
           "x": 1,
           "xpad": 40
          },
          "colorscale": [
           [
            0,
            "rgb(247,251,255)"
           ],
           [
            0.125,
            "rgb(222,235,247)"
           ],
           [
            0.25,
            "rgb(198,219,239)"
           ],
           [
            0.375,
            "rgb(158,202,225)"
           ],
           [
            0.5,
            "rgb(107,174,214)"
           ],
           [
            0.625,
            "rgb(66,146,198)"
           ],
           [
            0.75,
            "rgb(33,113,181)"
           ],
           [
            0.875,
            "rgb(8,81,156)"
           ],
           [
            1,
            "rgb(8,48,107)"
           ]
          ],
          "line": {
           "color": "Grey",
           "width": 0.5
          },
          "showscale": true
         },
         "mode": "markers",
         "name": "Feasible Trial",
         "showlegend": false,
         "type": "scatter",
         "x": [
          1.5702970884055387,
          0.6358358856676253,
          0.035113563139704075,
          0.6847920095574779,
          0.039721107273819126,
          0.015673095467235415,
          1.1290133559092674,
          0.059750279999602945,
          8.10501612641158,
          0.01842797040686454,
          3.063462210622083,
          0.01673601016782578,
          1.3199942261535018,
          3.8842777547031417,
          1.5446089075047076,
          1.9158219548093167,
          0.011919481947918732,
          5.280796376895363,
          0.07400385759087375,
          2.5764174425233164,
          0.08995191735587167,
          0.010491954332267909,
          6.741074265640696,
          7.715105777813049,
          0.6740513796374044,
          0.027207248059486704,
          0.0516312491048802,
          0.01865818136012486,
          1.0781845035122266,
          1.182532850842265,
          5.94402811341093,
          0.3881072316409482,
          0.10401341922663464,
          0.8435191341743051,
          0.020156477059365012,
          0.9034076805537772,
          0.8889937283707159,
          0.0624607368131809,
          2.423449144702316,
          0.06955319544158291,
          5.553837526912236,
          7.777856590163644,
          0.032246177486423735,
          0.6998769331752381,
          1.2332389221028008,
          3.9922428866315034,
          1.2761467881730217,
          0.543050756450092,
          0.012345274466024474,
          2.0416470207182766,
          0.4187023176257686,
          2.4297331796223,
          3.220626495993124,
          0.44430376569555396,
          0.46032245160252633,
          0.011045375019318382,
          0.2645583585038549,
          0.1568607196662889,
          0.3231534343074976,
          0.012009749020630274,
          0.23700563480372555,
          0.038669931642850285,
          0.016351814261589406,
          0.022620098037544993,
          0.07016228391812,
          0.1306334081168228,
          1.789011792871036,
          0.09123233767937085,
          0.0907697026535511,
          0.07579356154838335,
          0.01877665856576686,
          0.1129132837226,
          0.017878061147648464,
          0.017968554542843712,
          9.078272014381131,
          0.18735531924000176,
          0.014754001628061711,
          7.700477308294277,
          0.010875855381980925,
          0.016649059071639678,
          0.23100596499042997,
          7.09960934247593,
          0.24609070748295203,
          1.2430401086355434,
          5.404823964051239,
          6.283266061384215,
          9.158585158712828,
          3.2733022885465073,
          2.746015772449605,
          3.5395020812446245,
          0.04852085180693703,
          0.36385060610699704,
          4.265410247347661,
          1.2949091638211225,
          0.15022151421368923,
          0.15474917663181323,
          0.2994669360763513,
          0.7946988104669667,
          0.026090446888493463,
          1.0061742891321552,
          0.03396498701004283,
          0.32378133736281073,
          4.175763293118453,
          0.03577363388951147,
          0.24412044244324688,
          0.34279330112989786,
          0.06422878295869772,
          0.022871065383877762,
          0.0182289168637327,
          0.07101134154276112,
          0.6566356505484117,
          0.03628282316625832,
          0.17029052365462627,
          2.8262866872541355,
          0.5186066345484336,
          0.33329679390406936,
          0.029046121241795463,
          0.015492621523313821,
          1.9084622754179417,
          3.1035462614604032,
          0.015830287491819788,
          0.04026075919920692,
          0.11925907934771024,
          0.24436519933969406,
          0.14179916194912245,
          0.7640541856351153,
          4.804826931835747,
          0.01260658058227482,
          0.0214731229544139,
          0.04872526229872034,
          0.056937340369173015,
          0.24323015184601973,
          0.011332625871376317,
          1.3234754903375765,
          6.35478767122729,
          0.02365854563179718,
          0.014597716212138042,
          0.4094367382824368,
          0.04718614183746149,
          5.553128244188594,
          0.034206441797621126,
          0.3210591347884213,
          0.041249522108377616,
          2.121206015630901,
          0.029222726791811347,
          0.8550640149883475,
          0.012058352559152993,
          2.5104308090596277,
          1.468252657463809,
          0.07576056254648099,
          0.03501920682952667,
          0.06001644960741879,
          0.4530452095214948,
          4.030917667716689,
          0.0639782089757959,
          8.978556958963887,
          0.022555541023663448,
          0.04161633351138873,
          0.6332141064382677,
          0.36037372249461913,
          0.0544561995512795,
          0.5002808981856133,
          0.012403647205371562,
          0.10063097312771815,
          1.1620028394316197,
          0.06552928233851989,
          7.0910747170673245,
          2.628351493147274,
          0.04609229422149268,
          0.034811764380096887,
          5.931828497797028,
          0.09063614378928193,
          0.01701608337664498,
          0.415407063697232,
          0.049989457565796404,
          6.5645218095630575,
          0.2751863329012538,
          0.1836838640577253,
          0.07743269258838692,
          0.14222630963205307,
          0.1789543779063583,
          9.408185644390125,
          0.04920502254761878,
          0.0149117299376565,
          0.15442800347832064,
          0.0469302474863776,
          0.06263255490183867,
          0.924114834576203,
          1.4799953165327082,
          3.577838574843289,
          1.0815546221863792,
          3.562420549204573,
          0.7175202042698314,
          3.0022734916139453,
          3.1361912144377797,
          0.7860326410149306,
          1.9190385875390803,
          0.020301549388030277,
          0.01592398663490491,
          8.326584764715722
         ],
         "xaxis": "x",
         "y": [
          0.76,
          0.745,
          0.57,
          0.77,
          0.685,
          0.57,
          0.775,
          0.715,
          0.785,
          0.685,
          0.8,
          0.675,
          0.755,
          0.805,
          0.76,
          0.77,
          0.57,
          0.79,
          0.64,
          0.765,
          0.725,
          0.665,
          0.795,
          0.795,
          0.77,
          0.57,
          0.715,
          0.57,
          0.745,
          0.785,
          0.79,
          0.75,
          0.665,
          0.77,
          0.57,
          0.735,
          0.735,
          0.7,
          0.795,
          0.71,
          0.79,
          0.79,
          0.57,
          0.775,
          0.785,
          0.775,
          0.78,
          0.76,
          0.665,
          0.77,
          0.735,
          0.795,
          0.765,
          0.74,
          0.75,
          0.66,
          0.735,
          0.725,
          0.745,
          0.665,
          0.74,
          0.64,
          0.675,
          0.57,
          0.72,
          0.665,
          0.79,
          0.715,
          0.665,
          0.64,
          0.57,
          0.74,
          0.57,
          0.57,
          0.795,
          0.72,
          0.685,
          0.78,
          0.68,
          0.675,
          0.74,
          0.795,
          0.735,
          0.76,
          0.78,
          0.79,
          0.795,
          0.805,
          0.765,
          0.775,
          0.64,
          0.74,
          0.775,
          0.78,
          0.725,
          0.745,
          0.74,
          0.775,
          0.695,
          0.79,
          0.705,
          0.74,
          0.785,
          0.64,
          0.74,
          0.74,
          0.64,
          0.7,
          0.57,
          0.64,
          0.745,
          0.64,
          0.745,
          0.795,
          0.755,
          0.74,
          0.685,
          0.57,
          0.77,
          0.785,
          0.57,
          0.71,
          0.665,
          0.735,
          0.725,
          0.76,
          0.79,
          0.685,
          0.695,
          0.64,
          0.64,
          0.74,
          0.66,
          0.76,
          0.785,
          0.57,
          0.57,
          0.735,
          0.64,
          0.79,
          0.705,
          0.74,
          0.71,
          0.795,
          0.695,
          0.775,
          0.57,
          0.76,
          0.76,
          0.64,
          0.57,
          0.64,
          0.76,
          0.805,
          0.64,
          0.795,
          0.7,
          0.71,
          0.77,
          0.75,
          0.72,
          0.765,
          0.57,
          0.715,
          0.78,
          0.64,
          0.785,
          0.795,
          0.7,
          0.685,
          0.785,
          0.665,
          0.57,
          0.735,
          0.64,
          0.79,
          0.735,
          0.705,
          0.645,
          0.665,
          0.705,
          0.78,
          0.64,
          0.57,
          0.67,
          0.64,
          0.715,
          0.77,
          0.785,
          0.795,
          0.775,
          0.795,
          0.775,
          0.8,
          0.785,
          0.735,
          0.785,
          0.68,
          0.685,
          0.79
         ],
         "yaxis": "y"
        },
        {
         "marker": {
          "color": [
           0,
           1,
           2,
           3,
           4,
           5,
           6,
           7,
           8,
           9,
           10,
           11,
           12,
           13,
           14,
           15,
           16,
           17,
           18,
           19,
           20,
           21,
           22,
           23,
           24,
           25,
           26,
           27,
           28,
           29,
           30,
           31,
           32,
           33,
           34,
           35,
           36,
           37,
           38,
           39,
           40,
           41,
           42,
           43,
           44,
           45,
           46,
           47,
           48,
           49,
           50,
           51,
           52,
           53,
           54,
           55,
           56,
           57,
           58,
           59,
           60,
           61,
           62,
           63,
           64,
           65,
           66,
           67,
           68,
           69,
           70,
           71,
           72,
           73,
           74,
           75,
           76,
           77,
           78,
           79,
           80,
           81,
           82,
           83,
           84,
           85,
           86,
           87,
           88,
           89,
           90,
           91,
           92,
           93,
           94,
           95,
           96,
           97,
           98,
           99,
           100,
           101,
           102,
           103,
           104,
           105,
           106,
           107,
           108,
           109,
           110,
           111,
           112,
           113,
           114,
           115,
           116,
           117,
           118,
           119,
           120,
           121,
           122,
           123,
           124,
           125,
           126,
           127,
           128,
           129,
           130,
           131,
           132,
           133,
           134,
           135,
           136,
           137,
           138,
           139,
           140,
           141,
           142,
           143,
           144,
           145,
           146,
           147,
           148,
           149,
           150,
           151,
           152,
           153,
           154,
           155,
           156,
           157,
           158,
           159,
           160,
           161,
           162,
           163,
           164,
           165,
           166,
           167,
           168,
           169,
           170,
           171,
           172,
           173,
           174,
           175,
           176,
           177,
           178,
           179,
           180,
           181,
           182,
           183,
           184,
           185,
           186,
           187,
           188,
           189,
           190,
           191,
           192,
           193,
           194,
           195,
           196,
           197,
           198,
           199
          ],
          "colorbar": {
           "title": {
            "text": "Trial"
           },
           "x": 1,
           "xpad": 40
          },
          "colorscale": [
           [
            0,
            "rgb(247,251,255)"
           ],
           [
            0.125,
            "rgb(222,235,247)"
           ],
           [
            0.25,
            "rgb(198,219,239)"
           ],
           [
            0.375,
            "rgb(158,202,225)"
           ],
           [
            0.5,
            "rgb(107,174,214)"
           ],
           [
            0.625,
            "rgb(66,146,198)"
           ],
           [
            0.75,
            "rgb(33,113,181)"
           ],
           [
            0.875,
            "rgb(8,81,156)"
           ],
           [
            1,
            "rgb(8,48,107)"
           ]
          ],
          "line": {
           "color": "Grey",
           "width": 0.5
          },
          "showscale": false
         },
         "mode": "markers",
         "name": "Feasible Trial",
         "showlegend": false,
         "type": "scatter",
         "x": [
          639,
          737,
          265,
          225,
          563,
          954,
          496,
          696,
          798,
          276,
          421,
          989,
          756,
          661,
          674,
          605,
          197,
          324,
          245,
          268,
          199,
          560,
          391,
          326,
          552,
          540,
          756,
          852,
          114,
          448,
          890,
          317,
          414,
          175,
          697,
          302,
          865,
          319,
          552,
          121,
          433,
          868,
          601,
          992,
          732,
          922,
          817,
          132,
          133,
          294,
          674,
          344,
          727,
          743,
          651,
          204,
          188,
          654,
          871,
          627,
          591,
          162,
          387,
          727,
          259,
          799,
          779,
          906,
          956,
          396,
          545,
          205,
          731,
          988,
          778,
          916,
          207,
          437,
          973,
          599,
          665,
          902,
          418,
          583,
          841,
          880,
          235,
          522,
          1000,
          322,
          705,
          795,
          463,
          291,
          494,
          660,
          332,
          316,
          677,
          255,
          179,
          722,
          929,
          288,
          773,
          579,
          439,
          902,
          583,
          427,
          313,
          356,
          985,
          332,
          352,
          318,
          533,
          991,
          636,
          969,
          767,
          247,
          890,
          371,
          589,
          401,
          810,
          613,
          862,
          750,
          411,
          953,
          885,
          237,
          933,
          929,
          402,
          928,
          507,
          426,
          965,
          636,
          271,
          508,
          263,
          468,
          299,
          260,
          870,
          907,
          625,
          442,
          492,
          539,
          588,
          573,
          619,
          109,
          699,
          142,
          450,
          528,
          336,
          794,
          491,
          631,
          501,
          693,
          989,
          611,
          974,
          846,
          727,
          812,
          121,
          819,
          665,
          764,
          310,
          712,
          892,
          308,
          259,
          973,
          783,
          583,
          216,
          596,
          546,
          546,
          609,
          881,
          778,
          216,
          557,
          334,
          587,
          944,
          624,
          972
         ],
         "xaxis": "x2",
         "y": [
          0.76,
          0.745,
          0.57,
          0.77,
          0.685,
          0.57,
          0.775,
          0.715,
          0.785,
          0.685,
          0.8,
          0.675,
          0.755,
          0.805,
          0.76,
          0.77,
          0.57,
          0.79,
          0.64,
          0.765,
          0.725,
          0.665,
          0.795,
          0.795,
          0.77,
          0.57,
          0.715,
          0.57,
          0.745,
          0.785,
          0.79,
          0.75,
          0.665,
          0.77,
          0.57,
          0.735,
          0.735,
          0.7,
          0.795,
          0.71,
          0.79,
          0.79,
          0.57,
          0.775,
          0.785,
          0.775,
          0.78,
          0.76,
          0.665,
          0.77,
          0.735,
          0.795,
          0.765,
          0.74,
          0.75,
          0.66,
          0.735,
          0.725,
          0.745,
          0.665,
          0.74,
          0.64,
          0.675,
          0.57,
          0.72,
          0.665,
          0.79,
          0.715,
          0.665,
          0.64,
          0.57,
          0.74,
          0.57,
          0.57,
          0.795,
          0.72,
          0.685,
          0.78,
          0.68,
          0.675,
          0.74,
          0.795,
          0.735,
          0.76,
          0.78,
          0.79,
          0.795,
          0.805,
          0.765,
          0.775,
          0.64,
          0.74,
          0.775,
          0.78,
          0.725,
          0.745,
          0.74,
          0.775,
          0.695,
          0.79,
          0.705,
          0.74,
          0.785,
          0.64,
          0.74,
          0.74,
          0.64,
          0.7,
          0.57,
          0.64,
          0.745,
          0.64,
          0.745,
          0.795,
          0.755,
          0.74,
          0.685,
          0.57,
          0.77,
          0.785,
          0.57,
          0.71,
          0.665,
          0.735,
          0.725,
          0.76,
          0.79,
          0.685,
          0.695,
          0.64,
          0.64,
          0.74,
          0.66,
          0.76,
          0.785,
          0.57,
          0.57,
          0.735,
          0.64,
          0.79,
          0.705,
          0.74,
          0.71,
          0.795,
          0.695,
          0.775,
          0.57,
          0.76,
          0.76,
          0.64,
          0.57,
          0.64,
          0.76,
          0.805,
          0.64,
          0.795,
          0.7,
          0.71,
          0.77,
          0.75,
          0.72,
          0.765,
          0.57,
          0.715,
          0.78,
          0.64,
          0.785,
          0.795,
          0.7,
          0.685,
          0.785,
          0.665,
          0.57,
          0.735,
          0.64,
          0.79,
          0.735,
          0.705,
          0.645,
          0.665,
          0.705,
          0.78,
          0.64,
          0.57,
          0.67,
          0.64,
          0.715,
          0.77,
          0.785,
          0.795,
          0.775,
          0.795,
          0.775,
          0.8,
          0.785,
          0.735,
          0.785,
          0.68,
          0.685,
          0.79
         ],
         "yaxis": "y2"
        },
        {
         "marker": {
          "color": [
           0,
           1,
           2,
           3,
           4,
           5,
           6,
           7,
           8,
           9,
           10,
           11,
           12,
           13,
           14,
           15,
           16,
           17,
           18,
           19,
           20,
           21,
           22,
           23,
           24,
           25,
           26,
           27,
           28,
           29,
           30,
           31,
           32,
           33,
           34,
           35,
           36,
           37,
           38,
           39,
           40,
           41,
           42,
           43,
           44,
           45,
           46,
           47,
           48,
           49,
           50,
           51,
           52,
           53,
           54,
           55,
           56,
           57,
           58,
           59,
           60,
           61,
           62,
           63,
           64,
           65,
           66,
           67,
           68,
           69,
           70,
           71,
           72,
           73,
           74,
           75,
           76,
           77,
           78,
           79,
           80,
           81,
           82,
           83,
           84,
           85,
           86,
           87,
           88,
           89,
           90,
           91,
           92,
           93,
           94,
           95,
           96,
           97,
           98,
           99,
           100,
           101,
           102,
           103,
           104,
           105,
           106,
           107,
           108,
           109,
           110,
           111,
           112,
           113,
           114,
           115,
           116,
           117,
           118,
           119,
           120,
           121,
           122,
           123,
           124,
           125,
           126,
           127,
           128,
           129,
           130,
           131,
           132,
           133,
           134,
           135,
           136,
           137,
           138,
           139,
           140,
           141,
           142,
           143,
           144,
           145,
           146,
           147,
           148,
           149,
           150,
           151,
           152,
           153,
           154,
           155,
           156,
           157,
           158,
           159,
           160,
           161,
           162,
           163,
           164,
           165,
           166,
           167,
           168,
           169,
           170,
           171,
           172,
           173,
           174,
           175,
           176,
           177,
           178,
           179,
           180,
           181,
           182,
           183,
           184,
           185,
           186,
           187,
           188,
           189,
           190,
           191,
           192,
           193,
           194,
           195,
           196,
           197,
           198,
           199
          ],
          "colorbar": {
           "title": {
            "text": "Trial"
           },
           "x": 1,
           "xpad": 40
          },
          "colorscale": [
           [
            0,
            "rgb(247,251,255)"
           ],
           [
            0.125,
            "rgb(222,235,247)"
           ],
           [
            0.25,
            "rgb(198,219,239)"
           ],
           [
            0.375,
            "rgb(158,202,225)"
           ],
           [
            0.5,
            "rgb(107,174,214)"
           ],
           [
            0.625,
            "rgb(66,146,198)"
           ],
           [
            0.75,
            "rgb(33,113,181)"
           ],
           [
            0.875,
            "rgb(8,81,156)"
           ],
           [
            1,
            "rgb(8,48,107)"
           ]
          ],
          "line": {
           "color": "Grey",
           "width": 0.5
          },
          "showscale": false
         },
         "mode": "markers",
         "name": "Feasible Trial",
         "showlegend": false,
         "type": "scatter",
         "x": [
          "l2",
          "l2",
          "l1",
          "l1",
          "l2",
          "l1",
          "l1",
          "l2",
          "l1",
          "l2",
          "l1",
          "l2",
          "l2",
          "l1",
          "l2",
          "l2",
          "l1",
          "l2",
          "l1",
          "l2",
          "l2",
          "l2",
          "l2",
          "l2",
          "l1",
          "l1",
          "l2",
          "l1",
          "l2",
          "l1",
          "l1",
          "l1",
          "l1",
          "l1",
          "l1",
          "l2",
          "l2",
          "l2",
          "l1",
          "l2",
          "l2",
          "l2",
          "l1",
          "l1",
          "l1",
          "l2",
          "l1",
          "l1",
          "l2",
          "l2",
          "l2",
          "l1",
          "l2",
          "l2",
          "l1",
          "l2",
          "l1",
          "l2",
          "l2",
          "l2",
          "l2",
          "l1",
          "l2",
          "l1",
          "l2",
          "l1",
          "l1",
          "l2",
          "l1",
          "l1",
          "l1",
          "l2",
          "l1",
          "l1",
          "l2",
          "l1",
          "l2",
          "l1",
          "l2",
          "l2",
          "l2",
          "l2",
          "l1",
          "l2",
          "l1",
          "l1",
          "l2",
          "l1",
          "l2",
          "l2",
          "l1",
          "l2",
          "l2",
          "l1",
          "l2",
          "l2",
          "l2",
          "l1",
          "l2",
          "l1",
          "l2",
          "l2",
          "l1",
          "l1",
          "l1",
          "l2",
          "l1",
          "l2",
          "l1",
          "l1",
          "l2",
          "l1",
          "l2",
          "l1",
          "l1",
          "l2",
          "l2",
          "l1",
          "l2",
          "l2",
          "l1",
          "l2",
          "l1",
          "l1",
          "l2",
          "l2",
          "l1",
          "l2",
          "l2",
          "l1",
          "l1",
          "l1",
          "l2",
          "l2",
          "l2",
          "l1",
          "l1",
          "l2",
          "l1",
          "l1",
          "l2",
          "l2",
          "l2",
          "l1",
          "l2",
          "l1",
          "l1",
          "l2",
          "l2",
          "l1",
          "l1",
          "l1",
          "l1",
          "l1",
          "l1",
          "l2",
          "l2",
          "l2",
          "l1",
          "l1",
          "l2",
          "l1",
          "l1",
          "l2",
          "l1",
          "l1",
          "l1",
          "l1",
          "l2",
          "l2",
          "l1",
          "l1",
          "l1",
          "l2",
          "l1",
          "l1",
          "l1",
          "l1",
          "l1",
          "l1",
          "l1",
          "l1",
          "l1",
          "l1",
          "l1",
          "l1",
          "l2",
          "l1",
          "l1",
          "l1",
          "l1",
          "l1",
          "l1",
          "l1",
          "l2",
          "l2",
          "l1",
          "l2",
          "l2",
          "l2"
         ],
         "xaxis": "x3",
         "y": [
          0.76,
          0.745,
          0.57,
          0.77,
          0.685,
          0.57,
          0.775,
          0.715,
          0.785,
          0.685,
          0.8,
          0.675,
          0.755,
          0.805,
          0.76,
          0.77,
          0.57,
          0.79,
          0.64,
          0.765,
          0.725,
          0.665,
          0.795,
          0.795,
          0.77,
          0.57,
          0.715,
          0.57,
          0.745,
          0.785,
          0.79,
          0.75,
          0.665,
          0.77,
          0.57,
          0.735,
          0.735,
          0.7,
          0.795,
          0.71,
          0.79,
          0.79,
          0.57,
          0.775,
          0.785,
          0.775,
          0.78,
          0.76,
          0.665,
          0.77,
          0.735,
          0.795,
          0.765,
          0.74,
          0.75,
          0.66,
          0.735,
          0.725,
          0.745,
          0.665,
          0.74,
          0.64,
          0.675,
          0.57,
          0.72,
          0.665,
          0.79,
          0.715,
          0.665,
          0.64,
          0.57,
          0.74,
          0.57,
          0.57,
          0.795,
          0.72,
          0.685,
          0.78,
          0.68,
          0.675,
          0.74,
          0.795,
          0.735,
          0.76,
          0.78,
          0.79,
          0.795,
          0.805,
          0.765,
          0.775,
          0.64,
          0.74,
          0.775,
          0.78,
          0.725,
          0.745,
          0.74,
          0.775,
          0.695,
          0.79,
          0.705,
          0.74,
          0.785,
          0.64,
          0.74,
          0.74,
          0.64,
          0.7,
          0.57,
          0.64,
          0.745,
          0.64,
          0.745,
          0.795,
          0.755,
          0.74,
          0.685,
          0.57,
          0.77,
          0.785,
          0.57,
          0.71,
          0.665,
          0.735,
          0.725,
          0.76,
          0.79,
          0.685,
          0.695,
          0.64,
          0.64,
          0.74,
          0.66,
          0.76,
          0.785,
          0.57,
          0.57,
          0.735,
          0.64,
          0.79,
          0.705,
          0.74,
          0.71,
          0.795,
          0.695,
          0.775,
          0.57,
          0.76,
          0.76,
          0.64,
          0.57,
          0.64,
          0.76,
          0.805,
          0.64,
          0.795,
          0.7,
          0.71,
          0.77,
          0.75,
          0.72,
          0.765,
          0.57,
          0.715,
          0.78,
          0.64,
          0.785,
          0.795,
          0.7,
          0.685,
          0.785,
          0.665,
          0.57,
          0.735,
          0.64,
          0.79,
          0.735,
          0.705,
          0.645,
          0.665,
          0.705,
          0.78,
          0.64,
          0.57,
          0.67,
          0.64,
          0.715,
          0.77,
          0.785,
          0.795,
          0.775,
          0.795,
          0.775,
          0.8,
          0.785,
          0.735,
          0.785,
          0.68,
          0.685,
          0.79
         ],
         "yaxis": "y3"
        },
        {
         "marker": {
          "color": [
           0,
           1,
           2,
           3,
           4,
           5,
           6,
           7,
           8,
           9,
           10,
           11,
           12,
           13,
           14,
           15,
           16,
           17,
           18,
           19,
           20,
           21,
           22,
           23,
           24,
           25,
           26,
           27,
           28,
           29,
           30,
           31,
           32,
           33,
           34,
           35,
           36,
           37,
           38,
           39,
           40,
           41,
           42,
           43,
           44,
           45,
           46,
           47,
           48,
           49,
           50,
           51,
           52,
           53,
           54,
           55,
           56,
           57,
           58,
           59,
           60,
           61,
           62,
           63,
           64,
           65,
           66,
           67,
           68,
           69,
           70,
           71,
           72,
           73,
           74,
           75,
           76,
           77,
           78,
           79,
           80,
           81,
           82,
           83,
           84,
           85,
           86,
           87,
           88,
           89,
           90,
           91,
           92,
           93,
           94,
           95,
           96,
           97,
           98,
           99,
           100,
           101,
           102,
           103,
           104,
           105,
           106,
           107,
           108,
           109,
           110,
           111,
           112,
           113,
           114,
           115,
           116,
           117,
           118,
           119,
           120,
           121,
           122,
           123,
           124,
           125,
           126,
           127,
           128,
           129,
           130,
           131,
           132,
           133,
           134,
           135,
           136,
           137,
           138,
           139,
           140,
           141,
           142,
           143,
           144,
           145,
           146,
           147,
           148,
           149,
           150,
           151,
           152,
           153,
           154,
           155,
           156,
           157,
           158,
           159,
           160,
           161,
           162,
           163,
           164,
           165,
           166,
           167,
           168,
           169,
           170,
           171,
           172,
           173,
           174,
           175,
           176,
           177,
           178,
           179,
           180,
           181,
           182,
           183,
           184,
           185,
           186,
           187,
           188,
           189,
           190,
           191,
           192,
           193,
           194,
           195,
           196,
           197,
           198,
           199
          ],
          "colorbar": {
           "title": {
            "text": "Trial"
           },
           "x": 1,
           "xpad": 40
          },
          "colorscale": [
           [
            0,
            "rgb(247,251,255)"
           ],
           [
            0.125,
            "rgb(222,235,247)"
           ],
           [
            0.25,
            "rgb(198,219,239)"
           ],
           [
            0.375,
            "rgb(158,202,225)"
           ],
           [
            0.5,
            "rgb(107,174,214)"
           ],
           [
            0.625,
            "rgb(66,146,198)"
           ],
           [
            0.75,
            "rgb(33,113,181)"
           ],
           [
            0.875,
            "rgb(8,81,156)"
           ],
           [
            1,
            "rgb(8,48,107)"
           ]
          ],
          "line": {
           "color": "Grey",
           "width": 0.5
          },
          "showscale": false
         },
         "mode": "markers",
         "name": "Feasible Trial",
         "showlegend": false,
         "type": "scatter",
         "x": [
          "liblinear",
          "saga",
          "saga",
          "saga",
          "liblinear",
          "liblinear",
          "saga",
          "saga",
          "liblinear",
          "saga",
          "saga",
          "liblinear",
          "liblinear",
          "liblinear",
          "liblinear",
          "liblinear",
          "saga",
          "saga",
          "liblinear",
          "liblinear",
          "saga",
          "liblinear",
          "saga",
          "liblinear",
          "saga",
          "liblinear",
          "saga",
          "liblinear",
          "liblinear",
          "liblinear",
          "saga",
          "saga",
          "saga",
          "saga",
          "saga",
          "liblinear",
          "liblinear",
          "liblinear",
          "liblinear",
          "liblinear",
          "saga",
          "saga",
          "liblinear",
          "saga",
          "liblinear",
          "liblinear",
          "liblinear",
          "saga",
          "liblinear",
          "liblinear",
          "saga",
          "liblinear",
          "liblinear",
          "liblinear",
          "liblinear",
          "liblinear",
          "liblinear",
          "liblinear",
          "liblinear",
          "liblinear",
          "liblinear",
          "liblinear",
          "liblinear",
          "saga",
          "saga",
          "saga",
          "saga",
          "liblinear",
          "liblinear",
          "saga",
          "saga",
          "saga",
          "saga",
          "liblinear",
          "liblinear",
          "saga",
          "saga",
          "saga",
          "saga",
          "liblinear",
          "saga",
          "saga",
          "liblinear",
          "saga",
          "liblinear",
          "liblinear",
          "liblinear",
          "liblinear",
          "liblinear",
          "liblinear",
          "liblinear",
          "saga",
          "liblinear",
          "liblinear",
          "liblinear",
          "saga",
          "saga",
          "saga",
          "saga",
          "liblinear",
          "saga",
          "saga",
          "saga",
          "saga",
          "saga",
          "saga",
          "saga",
          "saga",
          "saga",
          "liblinear",
          "saga",
          "saga",
          "saga",
          "saga",
          "liblinear",
          "saga",
          "liblinear",
          "saga",
          "liblinear",
          "saga",
          "saga",
          "saga",
          "saga",
          "liblinear",
          "liblinear",
          "saga",
          "saga",
          "saga",
          "saga",
          "liblinear",
          "saga",
          "saga",
          "liblinear",
          "saga",
          "liblinear",
          "liblinear",
          "liblinear",
          "saga",
          "saga",
          "saga",
          "saga",
          "saga",
          "saga",
          "liblinear",
          "saga",
          "saga",
          "saga",
          "liblinear",
          "liblinear",
          "saga",
          "saga",
          "liblinear",
          "saga",
          "liblinear",
          "liblinear",
          "saga",
          "saga",
          "saga",
          "saga",
          "saga",
          "saga",
          "saga",
          "liblinear",
          "liblinear",
          "saga",
          "liblinear",
          "saga",
          "saga",
          "liblinear",
          "liblinear",
          "liblinear",
          "saga",
          "saga",
          "saga",
          "liblinear",
          "liblinear",
          "saga",
          "liblinear",
          "liblinear",
          "saga",
          "liblinear",
          "liblinear",
          "liblinear",
          "saga",
          "liblinear",
          "liblinear",
          "saga",
          "saga",
          "saga",
          "saga",
          "saga",
          "saga",
          "saga",
          "saga",
          "saga",
          "liblinear",
          "liblinear",
          "liblinear",
          "saga",
          "liblinear"
         ],
         "xaxis": "x4",
         "y": [
          0.76,
          0.745,
          0.57,
          0.77,
          0.685,
          0.57,
          0.775,
          0.715,
          0.785,
          0.685,
          0.8,
          0.675,
          0.755,
          0.805,
          0.76,
          0.77,
          0.57,
          0.79,
          0.64,
          0.765,
          0.725,
          0.665,
          0.795,
          0.795,
          0.77,
          0.57,
          0.715,
          0.57,
          0.745,
          0.785,
          0.79,
          0.75,
          0.665,
          0.77,
          0.57,
          0.735,
          0.735,
          0.7,
          0.795,
          0.71,
          0.79,
          0.79,
          0.57,
          0.775,
          0.785,
          0.775,
          0.78,
          0.76,
          0.665,
          0.77,
          0.735,
          0.795,
          0.765,
          0.74,
          0.75,
          0.66,
          0.735,
          0.725,
          0.745,
          0.665,
          0.74,
          0.64,
          0.675,
          0.57,
          0.72,
          0.665,
          0.79,
          0.715,
          0.665,
          0.64,
          0.57,
          0.74,
          0.57,
          0.57,
          0.795,
          0.72,
          0.685,
          0.78,
          0.68,
          0.675,
          0.74,
          0.795,
          0.735,
          0.76,
          0.78,
          0.79,
          0.795,
          0.805,
          0.765,
          0.775,
          0.64,
          0.74,
          0.775,
          0.78,
          0.725,
          0.745,
          0.74,
          0.775,
          0.695,
          0.79,
          0.705,
          0.74,
          0.785,
          0.64,
          0.74,
          0.74,
          0.64,
          0.7,
          0.57,
          0.64,
          0.745,
          0.64,
          0.745,
          0.795,
          0.755,
          0.74,
          0.685,
          0.57,
          0.77,
          0.785,
          0.57,
          0.71,
          0.665,
          0.735,
          0.725,
          0.76,
          0.79,
          0.685,
          0.695,
          0.64,
          0.64,
          0.74,
          0.66,
          0.76,
          0.785,
          0.57,
          0.57,
          0.735,
          0.64,
          0.79,
          0.705,
          0.74,
          0.71,
          0.795,
          0.695,
          0.775,
          0.57,
          0.76,
          0.76,
          0.64,
          0.57,
          0.64,
          0.76,
          0.805,
          0.64,
          0.795,
          0.7,
          0.71,
          0.77,
          0.75,
          0.72,
          0.765,
          0.57,
          0.715,
          0.78,
          0.64,
          0.785,
          0.795,
          0.7,
          0.685,
          0.785,
          0.665,
          0.57,
          0.735,
          0.64,
          0.79,
          0.735,
          0.705,
          0.645,
          0.665,
          0.705,
          0.78,
          0.64,
          0.57,
          0.67,
          0.64,
          0.715,
          0.77,
          0.785,
          0.795,
          0.775,
          0.795,
          0.775,
          0.8,
          0.785,
          0.735,
          0.785,
          0.68,
          0.685,
          0.79
         ],
         "yaxis": "y4"
        }
       ],
       "layout": {
        "template": {
         "data": {
          "bar": [
           {
            "error_x": {
             "color": "#2a3f5f"
            },
            "error_y": {
             "color": "#2a3f5f"
            },
            "marker": {
             "line": {
              "color": "#E5ECF6",
              "width": 0.5
             },
             "pattern": {
              "fillmode": "overlay",
              "size": 10,
              "solidity": 0.2
             }
            },
            "type": "bar"
           }
          ],
          "barpolar": [
           {
            "marker": {
             "line": {
              "color": "#E5ECF6",
              "width": 0.5
             },
             "pattern": {
              "fillmode": "overlay",
              "size": 10,
              "solidity": 0.2
             }
            },
            "type": "barpolar"
           }
          ],
          "carpet": [
           {
            "aaxis": {
             "endlinecolor": "#2a3f5f",
             "gridcolor": "white",
             "linecolor": "white",
             "minorgridcolor": "white",
             "startlinecolor": "#2a3f5f"
            },
            "baxis": {
             "endlinecolor": "#2a3f5f",
             "gridcolor": "white",
             "linecolor": "white",
             "minorgridcolor": "white",
             "startlinecolor": "#2a3f5f"
            },
            "type": "carpet"
           }
          ],
          "choropleth": [
           {
            "colorbar": {
             "outlinewidth": 0,
             "ticks": ""
            },
            "type": "choropleth"
           }
          ],
          "contour": [
           {
            "colorbar": {
             "outlinewidth": 0,
             "ticks": ""
            },
            "colorscale": [
             [
              0,
              "#0d0887"
             ],
             [
              0.1111111111111111,
              "#46039f"
             ],
             [
              0.2222222222222222,
              "#7201a8"
             ],
             [
              0.3333333333333333,
              "#9c179e"
             ],
             [
              0.4444444444444444,
              "#bd3786"
             ],
             [
              0.5555555555555556,
              "#d8576b"
             ],
             [
              0.6666666666666666,
              "#ed7953"
             ],
             [
              0.7777777777777778,
              "#fb9f3a"
             ],
             [
              0.8888888888888888,
              "#fdca26"
             ],
             [
              1,
              "#f0f921"
             ]
            ],
            "type": "contour"
           }
          ],
          "contourcarpet": [
           {
            "colorbar": {
             "outlinewidth": 0,
             "ticks": ""
            },
            "type": "contourcarpet"
           }
          ],
          "heatmap": [
           {
            "colorbar": {
             "outlinewidth": 0,
             "ticks": ""
            },
            "colorscale": [
             [
              0,
              "#0d0887"
             ],
             [
              0.1111111111111111,
              "#46039f"
             ],
             [
              0.2222222222222222,
              "#7201a8"
             ],
             [
              0.3333333333333333,
              "#9c179e"
             ],
             [
              0.4444444444444444,
              "#bd3786"
             ],
             [
              0.5555555555555556,
              "#d8576b"
             ],
             [
              0.6666666666666666,
              "#ed7953"
             ],
             [
              0.7777777777777778,
              "#fb9f3a"
             ],
             [
              0.8888888888888888,
              "#fdca26"
             ],
             [
              1,
              "#f0f921"
             ]
            ],
            "type": "heatmap"
           }
          ],
          "heatmapgl": [
           {
            "colorbar": {
             "outlinewidth": 0,
             "ticks": ""
            },
            "colorscale": [
             [
              0,
              "#0d0887"
             ],
             [
              0.1111111111111111,
              "#46039f"
             ],
             [
              0.2222222222222222,
              "#7201a8"
             ],
             [
              0.3333333333333333,
              "#9c179e"
             ],
             [
              0.4444444444444444,
              "#bd3786"
             ],
             [
              0.5555555555555556,
              "#d8576b"
             ],
             [
              0.6666666666666666,
              "#ed7953"
             ],
             [
              0.7777777777777778,
              "#fb9f3a"
             ],
             [
              0.8888888888888888,
              "#fdca26"
             ],
             [
              1,
              "#f0f921"
             ]
            ],
            "type": "heatmapgl"
           }
          ],
          "histogram": [
           {
            "marker": {
             "pattern": {
              "fillmode": "overlay",
              "size": 10,
              "solidity": 0.2
             }
            },
            "type": "histogram"
           }
          ],
          "histogram2d": [
           {
            "colorbar": {
             "outlinewidth": 0,
             "ticks": ""
            },
            "colorscale": [
             [
              0,
              "#0d0887"
             ],
             [
              0.1111111111111111,
              "#46039f"
             ],
             [
              0.2222222222222222,
              "#7201a8"
             ],
             [
              0.3333333333333333,
              "#9c179e"
             ],
             [
              0.4444444444444444,
              "#bd3786"
             ],
             [
              0.5555555555555556,
              "#d8576b"
             ],
             [
              0.6666666666666666,
              "#ed7953"
             ],
             [
              0.7777777777777778,
              "#fb9f3a"
             ],
             [
              0.8888888888888888,
              "#fdca26"
             ],
             [
              1,
              "#f0f921"
             ]
            ],
            "type": "histogram2d"
           }
          ],
          "histogram2dcontour": [
           {
            "colorbar": {
             "outlinewidth": 0,
             "ticks": ""
            },
            "colorscale": [
             [
              0,
              "#0d0887"
             ],
             [
              0.1111111111111111,
              "#46039f"
             ],
             [
              0.2222222222222222,
              "#7201a8"
             ],
             [
              0.3333333333333333,
              "#9c179e"
             ],
             [
              0.4444444444444444,
              "#bd3786"
             ],
             [
              0.5555555555555556,
              "#d8576b"
             ],
             [
              0.6666666666666666,
              "#ed7953"
             ],
             [
              0.7777777777777778,
              "#fb9f3a"
             ],
             [
              0.8888888888888888,
              "#fdca26"
             ],
             [
              1,
              "#f0f921"
             ]
            ],
            "type": "histogram2dcontour"
           }
          ],
          "mesh3d": [
           {
            "colorbar": {
             "outlinewidth": 0,
             "ticks": ""
            },
            "type": "mesh3d"
           }
          ],
          "parcoords": [
           {
            "line": {
             "colorbar": {
              "outlinewidth": 0,
              "ticks": ""
             }
            },
            "type": "parcoords"
           }
          ],
          "pie": [
           {
            "automargin": true,
            "type": "pie"
           }
          ],
          "scatter": [
           {
            "fillpattern": {
             "fillmode": "overlay",
             "size": 10,
             "solidity": 0.2
            },
            "type": "scatter"
           }
          ],
          "scatter3d": [
           {
            "line": {
             "colorbar": {
              "outlinewidth": 0,
              "ticks": ""
             }
            },
            "marker": {
             "colorbar": {
              "outlinewidth": 0,
              "ticks": ""
             }
            },
            "type": "scatter3d"
           }
          ],
          "scattercarpet": [
           {
            "marker": {
             "colorbar": {
              "outlinewidth": 0,
              "ticks": ""
             }
            },
            "type": "scattercarpet"
           }
          ],
          "scattergeo": [
           {
            "marker": {
             "colorbar": {
              "outlinewidth": 0,
              "ticks": ""
             }
            },
            "type": "scattergeo"
           }
          ],
          "scattergl": [
           {
            "marker": {
             "colorbar": {
              "outlinewidth": 0,
              "ticks": ""
             }
            },
            "type": "scattergl"
           }
          ],
          "scattermapbox": [
           {
            "marker": {
             "colorbar": {
              "outlinewidth": 0,
              "ticks": ""
             }
            },
            "type": "scattermapbox"
           }
          ],
          "scatterpolar": [
           {
            "marker": {
             "colorbar": {
              "outlinewidth": 0,
              "ticks": ""
             }
            },
            "type": "scatterpolar"
           }
          ],
          "scatterpolargl": [
           {
            "marker": {
             "colorbar": {
              "outlinewidth": 0,
              "ticks": ""
             }
            },
            "type": "scatterpolargl"
           }
          ],
          "scatterternary": [
           {
            "marker": {
             "colorbar": {
              "outlinewidth": 0,
              "ticks": ""
             }
            },
            "type": "scatterternary"
           }
          ],
          "surface": [
           {
            "colorbar": {
             "outlinewidth": 0,
             "ticks": ""
            },
            "colorscale": [
             [
              0,
              "#0d0887"
             ],
             [
              0.1111111111111111,
              "#46039f"
             ],
             [
              0.2222222222222222,
              "#7201a8"
             ],
             [
              0.3333333333333333,
              "#9c179e"
             ],
             [
              0.4444444444444444,
              "#bd3786"
             ],
             [
              0.5555555555555556,
              "#d8576b"
             ],
             [
              0.6666666666666666,
              "#ed7953"
             ],
             [
              0.7777777777777778,
              "#fb9f3a"
             ],
             [
              0.8888888888888888,
              "#fdca26"
             ],
             [
              1,
              "#f0f921"
             ]
            ],
            "type": "surface"
           }
          ],
          "table": [
           {
            "cells": {
             "fill": {
              "color": "#EBF0F8"
             },
             "line": {
              "color": "white"
             }
            },
            "header": {
             "fill": {
              "color": "#C8D4E3"
             },
             "line": {
              "color": "white"
             }
            },
            "type": "table"
           }
          ]
         },
         "layout": {
          "annotationdefaults": {
           "arrowcolor": "#2a3f5f",
           "arrowhead": 0,
           "arrowwidth": 1
          },
          "autotypenumbers": "strict",
          "coloraxis": {
           "colorbar": {
            "outlinewidth": 0,
            "ticks": ""
           }
          },
          "colorscale": {
           "diverging": [
            [
             0,
             "#8e0152"
            ],
            [
             0.1,
             "#c51b7d"
            ],
            [
             0.2,
             "#de77ae"
            ],
            [
             0.3,
             "#f1b6da"
            ],
            [
             0.4,
             "#fde0ef"
            ],
            [
             0.5,
             "#f7f7f7"
            ],
            [
             0.6,
             "#e6f5d0"
            ],
            [
             0.7,
             "#b8e186"
            ],
            [
             0.8,
             "#7fbc41"
            ],
            [
             0.9,
             "#4d9221"
            ],
            [
             1,
             "#276419"
            ]
           ],
           "sequential": [
            [
             0,
             "#0d0887"
            ],
            [
             0.1111111111111111,
             "#46039f"
            ],
            [
             0.2222222222222222,
             "#7201a8"
            ],
            [
             0.3333333333333333,
             "#9c179e"
            ],
            [
             0.4444444444444444,
             "#bd3786"
            ],
            [
             0.5555555555555556,
             "#d8576b"
            ],
            [
             0.6666666666666666,
             "#ed7953"
            ],
            [
             0.7777777777777778,
             "#fb9f3a"
            ],
            [
             0.8888888888888888,
             "#fdca26"
            ],
            [
             1,
             "#f0f921"
            ]
           ],
           "sequentialminus": [
            [
             0,
             "#0d0887"
            ],
            [
             0.1111111111111111,
             "#46039f"
            ],
            [
             0.2222222222222222,
             "#7201a8"
            ],
            [
             0.3333333333333333,
             "#9c179e"
            ],
            [
             0.4444444444444444,
             "#bd3786"
            ],
            [
             0.5555555555555556,
             "#d8576b"
            ],
            [
             0.6666666666666666,
             "#ed7953"
            ],
            [
             0.7777777777777778,
             "#fb9f3a"
            ],
            [
             0.8888888888888888,
             "#fdca26"
            ],
            [
             1,
             "#f0f921"
            ]
           ]
          },
          "colorway": [
           "#636efa",
           "#EF553B",
           "#00cc96",
           "#ab63fa",
           "#FFA15A",
           "#19d3f3",
           "#FF6692",
           "#B6E880",
           "#FF97FF",
           "#FECB52"
          ],
          "font": {
           "color": "#2a3f5f"
          },
          "geo": {
           "bgcolor": "white",
           "lakecolor": "white",
           "landcolor": "#E5ECF6",
           "showlakes": true,
           "showland": true,
           "subunitcolor": "white"
          },
          "hoverlabel": {
           "align": "left"
          },
          "hovermode": "closest",
          "mapbox": {
           "style": "light"
          },
          "paper_bgcolor": "white",
          "plot_bgcolor": "#E5ECF6",
          "polar": {
           "angularaxis": {
            "gridcolor": "white",
            "linecolor": "white",
            "ticks": ""
           },
           "bgcolor": "#E5ECF6",
           "radialaxis": {
            "gridcolor": "white",
            "linecolor": "white",
            "ticks": ""
           }
          },
          "scene": {
           "xaxis": {
            "backgroundcolor": "#E5ECF6",
            "gridcolor": "white",
            "gridwidth": 2,
            "linecolor": "white",
            "showbackground": true,
            "ticks": "",
            "zerolinecolor": "white"
           },
           "yaxis": {
            "backgroundcolor": "#E5ECF6",
            "gridcolor": "white",
            "gridwidth": 2,
            "linecolor": "white",
            "showbackground": true,
            "ticks": "",
            "zerolinecolor": "white"
           },
           "zaxis": {
            "backgroundcolor": "#E5ECF6",
            "gridcolor": "white",
            "gridwidth": 2,
            "linecolor": "white",
            "showbackground": true,
            "ticks": "",
            "zerolinecolor": "white"
           }
          },
          "shapedefaults": {
           "line": {
            "color": "#2a3f5f"
           }
          },
          "ternary": {
           "aaxis": {
            "gridcolor": "white",
            "linecolor": "white",
            "ticks": ""
           },
           "baxis": {
            "gridcolor": "white",
            "linecolor": "white",
            "ticks": ""
           },
           "bgcolor": "#E5ECF6",
           "caxis": {
            "gridcolor": "white",
            "linecolor": "white",
            "ticks": ""
           }
          },
          "title": {
           "x": 0.05
          },
          "xaxis": {
           "automargin": true,
           "gridcolor": "white",
           "linecolor": "white",
           "ticks": "",
           "title": {
            "standoff": 15
           },
           "zerolinecolor": "white",
           "zerolinewidth": 2
          },
          "yaxis": {
           "automargin": true,
           "gridcolor": "white",
           "linecolor": "white",
           "ticks": "",
           "title": {
            "standoff": 15
           },
           "zerolinecolor": "white",
           "zerolinewidth": 2
          }
         }
        },
        "title": {
         "text": "Slice Plot"
        },
        "width": 1200,
        "xaxis": {
         "anchor": "y",
         "domain": [
          0,
          0.2125
         ],
         "title": {
          "text": "C"
         },
         "type": "log"
        },
        "xaxis2": {
         "anchor": "y2",
         "domain": [
          0.2625,
          0.475
         ],
         "title": {
          "text": "max_iter"
         }
        },
        "xaxis3": {
         "anchor": "y3",
         "categoryarray": [
          "l1",
          "l2"
         ],
         "categoryorder": "array",
         "domain": [
          0.525,
          0.7375
         ],
         "title": {
          "text": "penalty"
         },
         "type": "category"
        },
        "xaxis4": {
         "anchor": "y4",
         "categoryarray": [
          "liblinear",
          "saga"
         ],
         "categoryorder": "array",
         "domain": [
          0.7875,
          1
         ],
         "title": {
          "text": "solver"
         },
         "type": "category"
        },
        "yaxis": {
         "anchor": "x",
         "domain": [
          0,
          1
         ],
         "title": {
          "text": "Objective Value"
         }
        },
        "yaxis2": {
         "anchor": "x2",
         "domain": [
          0,
          1
         ],
         "matches": "y",
         "showticklabels": false
        },
        "yaxis3": {
         "anchor": "x3",
         "domain": [
          0,
          1
         ],
         "matches": "y",
         "showticklabels": false
        },
        "yaxis4": {
         "anchor": "x4",
         "domain": [
          0,
          1
         ],
         "matches": "y",
         "showticklabels": false
        }
       }
      }
     },
     "metadata": {},
     "output_type": "display_data"
    }
   ],
   "source": [
    "optuna.visualization.plot_slice(study, params=['penalty', 'C', 'max_iter', 'solver'])"
   ]
  },
  {
   "cell_type": "code",
   "execution_count": 28,
   "metadata": {},
   "outputs": [
    {
     "data": {
      "application/vnd.plotly.v1+json": {
       "config": {
        "plotlyServerURL": "https://plot.ly"
       },
       "data": [
        {
         "cliponaxis": false,
         "hovertemplate": [
          "solver (CategoricalDistribution): 0.0033398355935826225<extra></extra>",
          "penalty (CategoricalDistribution): 0.01728058113418497<extra></extra>",
          "max_iter (IntDistribution): 0.04358512248239663<extra></extra>",
          "C (FloatDistribution): 0.9357944607898359<extra></extra>"
         ],
         "name": "Objective Value",
         "orientation": "h",
         "text": [
          "<0.01",
          "0.02",
          "0.04",
          "0.94"
         ],
         "textposition": "outside",
         "type": "bar",
         "x": [
          0.0033398355935826225,
          0.01728058113418497,
          0.04358512248239663,
          0.9357944607898359
         ],
         "y": [
          "solver",
          "penalty",
          "max_iter",
          "C"
         ]
        }
       ],
       "layout": {
        "template": {
         "data": {
          "bar": [
           {
            "error_x": {
             "color": "#2a3f5f"
            },
            "error_y": {
             "color": "#2a3f5f"
            },
            "marker": {
             "line": {
              "color": "#E5ECF6",
              "width": 0.5
             },
             "pattern": {
              "fillmode": "overlay",
              "size": 10,
              "solidity": 0.2
             }
            },
            "type": "bar"
           }
          ],
          "barpolar": [
           {
            "marker": {
             "line": {
              "color": "#E5ECF6",
              "width": 0.5
             },
             "pattern": {
              "fillmode": "overlay",
              "size": 10,
              "solidity": 0.2
             }
            },
            "type": "barpolar"
           }
          ],
          "carpet": [
           {
            "aaxis": {
             "endlinecolor": "#2a3f5f",
             "gridcolor": "white",
             "linecolor": "white",
             "minorgridcolor": "white",
             "startlinecolor": "#2a3f5f"
            },
            "baxis": {
             "endlinecolor": "#2a3f5f",
             "gridcolor": "white",
             "linecolor": "white",
             "minorgridcolor": "white",
             "startlinecolor": "#2a3f5f"
            },
            "type": "carpet"
           }
          ],
          "choropleth": [
           {
            "colorbar": {
             "outlinewidth": 0,
             "ticks": ""
            },
            "type": "choropleth"
           }
          ],
          "contour": [
           {
            "colorbar": {
             "outlinewidth": 0,
             "ticks": ""
            },
            "colorscale": [
             [
              0,
              "#0d0887"
             ],
             [
              0.1111111111111111,
              "#46039f"
             ],
             [
              0.2222222222222222,
              "#7201a8"
             ],
             [
              0.3333333333333333,
              "#9c179e"
             ],
             [
              0.4444444444444444,
              "#bd3786"
             ],
             [
              0.5555555555555556,
              "#d8576b"
             ],
             [
              0.6666666666666666,
              "#ed7953"
             ],
             [
              0.7777777777777778,
              "#fb9f3a"
             ],
             [
              0.8888888888888888,
              "#fdca26"
             ],
             [
              1,
              "#f0f921"
             ]
            ],
            "type": "contour"
           }
          ],
          "contourcarpet": [
           {
            "colorbar": {
             "outlinewidth": 0,
             "ticks": ""
            },
            "type": "contourcarpet"
           }
          ],
          "heatmap": [
           {
            "colorbar": {
             "outlinewidth": 0,
             "ticks": ""
            },
            "colorscale": [
             [
              0,
              "#0d0887"
             ],
             [
              0.1111111111111111,
              "#46039f"
             ],
             [
              0.2222222222222222,
              "#7201a8"
             ],
             [
              0.3333333333333333,
              "#9c179e"
             ],
             [
              0.4444444444444444,
              "#bd3786"
             ],
             [
              0.5555555555555556,
              "#d8576b"
             ],
             [
              0.6666666666666666,
              "#ed7953"
             ],
             [
              0.7777777777777778,
              "#fb9f3a"
             ],
             [
              0.8888888888888888,
              "#fdca26"
             ],
             [
              1,
              "#f0f921"
             ]
            ],
            "type": "heatmap"
           }
          ],
          "heatmapgl": [
           {
            "colorbar": {
             "outlinewidth": 0,
             "ticks": ""
            },
            "colorscale": [
             [
              0,
              "#0d0887"
             ],
             [
              0.1111111111111111,
              "#46039f"
             ],
             [
              0.2222222222222222,
              "#7201a8"
             ],
             [
              0.3333333333333333,
              "#9c179e"
             ],
             [
              0.4444444444444444,
              "#bd3786"
             ],
             [
              0.5555555555555556,
              "#d8576b"
             ],
             [
              0.6666666666666666,
              "#ed7953"
             ],
             [
              0.7777777777777778,
              "#fb9f3a"
             ],
             [
              0.8888888888888888,
              "#fdca26"
             ],
             [
              1,
              "#f0f921"
             ]
            ],
            "type": "heatmapgl"
           }
          ],
          "histogram": [
           {
            "marker": {
             "pattern": {
              "fillmode": "overlay",
              "size": 10,
              "solidity": 0.2
             }
            },
            "type": "histogram"
           }
          ],
          "histogram2d": [
           {
            "colorbar": {
             "outlinewidth": 0,
             "ticks": ""
            },
            "colorscale": [
             [
              0,
              "#0d0887"
             ],
             [
              0.1111111111111111,
              "#46039f"
             ],
             [
              0.2222222222222222,
              "#7201a8"
             ],
             [
              0.3333333333333333,
              "#9c179e"
             ],
             [
              0.4444444444444444,
              "#bd3786"
             ],
             [
              0.5555555555555556,
              "#d8576b"
             ],
             [
              0.6666666666666666,
              "#ed7953"
             ],
             [
              0.7777777777777778,
              "#fb9f3a"
             ],
             [
              0.8888888888888888,
              "#fdca26"
             ],
             [
              1,
              "#f0f921"
             ]
            ],
            "type": "histogram2d"
           }
          ],
          "histogram2dcontour": [
           {
            "colorbar": {
             "outlinewidth": 0,
             "ticks": ""
            },
            "colorscale": [
             [
              0,
              "#0d0887"
             ],
             [
              0.1111111111111111,
              "#46039f"
             ],
             [
              0.2222222222222222,
              "#7201a8"
             ],
             [
              0.3333333333333333,
              "#9c179e"
             ],
             [
              0.4444444444444444,
              "#bd3786"
             ],
             [
              0.5555555555555556,
              "#d8576b"
             ],
             [
              0.6666666666666666,
              "#ed7953"
             ],
             [
              0.7777777777777778,
              "#fb9f3a"
             ],
             [
              0.8888888888888888,
              "#fdca26"
             ],
             [
              1,
              "#f0f921"
             ]
            ],
            "type": "histogram2dcontour"
           }
          ],
          "mesh3d": [
           {
            "colorbar": {
             "outlinewidth": 0,
             "ticks": ""
            },
            "type": "mesh3d"
           }
          ],
          "parcoords": [
           {
            "line": {
             "colorbar": {
              "outlinewidth": 0,
              "ticks": ""
             }
            },
            "type": "parcoords"
           }
          ],
          "pie": [
           {
            "automargin": true,
            "type": "pie"
           }
          ],
          "scatter": [
           {
            "fillpattern": {
             "fillmode": "overlay",
             "size": 10,
             "solidity": 0.2
            },
            "type": "scatter"
           }
          ],
          "scatter3d": [
           {
            "line": {
             "colorbar": {
              "outlinewidth": 0,
              "ticks": ""
             }
            },
            "marker": {
             "colorbar": {
              "outlinewidth": 0,
              "ticks": ""
             }
            },
            "type": "scatter3d"
           }
          ],
          "scattercarpet": [
           {
            "marker": {
             "colorbar": {
              "outlinewidth": 0,
              "ticks": ""
             }
            },
            "type": "scattercarpet"
           }
          ],
          "scattergeo": [
           {
            "marker": {
             "colorbar": {
              "outlinewidth": 0,
              "ticks": ""
             }
            },
            "type": "scattergeo"
           }
          ],
          "scattergl": [
           {
            "marker": {
             "colorbar": {
              "outlinewidth": 0,
              "ticks": ""
             }
            },
            "type": "scattergl"
           }
          ],
          "scattermapbox": [
           {
            "marker": {
             "colorbar": {
              "outlinewidth": 0,
              "ticks": ""
             }
            },
            "type": "scattermapbox"
           }
          ],
          "scatterpolar": [
           {
            "marker": {
             "colorbar": {
              "outlinewidth": 0,
              "ticks": ""
             }
            },
            "type": "scatterpolar"
           }
          ],
          "scatterpolargl": [
           {
            "marker": {
             "colorbar": {
              "outlinewidth": 0,
              "ticks": ""
             }
            },
            "type": "scatterpolargl"
           }
          ],
          "scatterternary": [
           {
            "marker": {
             "colorbar": {
              "outlinewidth": 0,
              "ticks": ""
             }
            },
            "type": "scatterternary"
           }
          ],
          "surface": [
           {
            "colorbar": {
             "outlinewidth": 0,
             "ticks": ""
            },
            "colorscale": [
             [
              0,
              "#0d0887"
             ],
             [
              0.1111111111111111,
              "#46039f"
             ],
             [
              0.2222222222222222,
              "#7201a8"
             ],
             [
              0.3333333333333333,
              "#9c179e"
             ],
             [
              0.4444444444444444,
              "#bd3786"
             ],
             [
              0.5555555555555556,
              "#d8576b"
             ],
             [
              0.6666666666666666,
              "#ed7953"
             ],
             [
              0.7777777777777778,
              "#fb9f3a"
             ],
             [
              0.8888888888888888,
              "#fdca26"
             ],
             [
              1,
              "#f0f921"
             ]
            ],
            "type": "surface"
           }
          ],
          "table": [
           {
            "cells": {
             "fill": {
              "color": "#EBF0F8"
             },
             "line": {
              "color": "white"
             }
            },
            "header": {
             "fill": {
              "color": "#C8D4E3"
             },
             "line": {
              "color": "white"
             }
            },
            "type": "table"
           }
          ]
         },
         "layout": {
          "annotationdefaults": {
           "arrowcolor": "#2a3f5f",
           "arrowhead": 0,
           "arrowwidth": 1
          },
          "autotypenumbers": "strict",
          "coloraxis": {
           "colorbar": {
            "outlinewidth": 0,
            "ticks": ""
           }
          },
          "colorscale": {
           "diverging": [
            [
             0,
             "#8e0152"
            ],
            [
             0.1,
             "#c51b7d"
            ],
            [
             0.2,
             "#de77ae"
            ],
            [
             0.3,
             "#f1b6da"
            ],
            [
             0.4,
             "#fde0ef"
            ],
            [
             0.5,
             "#f7f7f7"
            ],
            [
             0.6,
             "#e6f5d0"
            ],
            [
             0.7,
             "#b8e186"
            ],
            [
             0.8,
             "#7fbc41"
            ],
            [
             0.9,
             "#4d9221"
            ],
            [
             1,
             "#276419"
            ]
           ],
           "sequential": [
            [
             0,
             "#0d0887"
            ],
            [
             0.1111111111111111,
             "#46039f"
            ],
            [
             0.2222222222222222,
             "#7201a8"
            ],
            [
             0.3333333333333333,
             "#9c179e"
            ],
            [
             0.4444444444444444,
             "#bd3786"
            ],
            [
             0.5555555555555556,
             "#d8576b"
            ],
            [
             0.6666666666666666,
             "#ed7953"
            ],
            [
             0.7777777777777778,
             "#fb9f3a"
            ],
            [
             0.8888888888888888,
             "#fdca26"
            ],
            [
             1,
             "#f0f921"
            ]
           ],
           "sequentialminus": [
            [
             0,
             "#0d0887"
            ],
            [
             0.1111111111111111,
             "#46039f"
            ],
            [
             0.2222222222222222,
             "#7201a8"
            ],
            [
             0.3333333333333333,
             "#9c179e"
            ],
            [
             0.4444444444444444,
             "#bd3786"
            ],
            [
             0.5555555555555556,
             "#d8576b"
            ],
            [
             0.6666666666666666,
             "#ed7953"
            ],
            [
             0.7777777777777778,
             "#fb9f3a"
            ],
            [
             0.8888888888888888,
             "#fdca26"
            ],
            [
             1,
             "#f0f921"
            ]
           ]
          },
          "colorway": [
           "#636efa",
           "#EF553B",
           "#00cc96",
           "#ab63fa",
           "#FFA15A",
           "#19d3f3",
           "#FF6692",
           "#B6E880",
           "#FF97FF",
           "#FECB52"
          ],
          "font": {
           "color": "#2a3f5f"
          },
          "geo": {
           "bgcolor": "white",
           "lakecolor": "white",
           "landcolor": "#E5ECF6",
           "showlakes": true,
           "showland": true,
           "subunitcolor": "white"
          },
          "hoverlabel": {
           "align": "left"
          },
          "hovermode": "closest",
          "mapbox": {
           "style": "light"
          },
          "paper_bgcolor": "white",
          "plot_bgcolor": "#E5ECF6",
          "polar": {
           "angularaxis": {
            "gridcolor": "white",
            "linecolor": "white",
            "ticks": ""
           },
           "bgcolor": "#E5ECF6",
           "radialaxis": {
            "gridcolor": "white",
            "linecolor": "white",
            "ticks": ""
           }
          },
          "scene": {
           "xaxis": {
            "backgroundcolor": "#E5ECF6",
            "gridcolor": "white",
            "gridwidth": 2,
            "linecolor": "white",
            "showbackground": true,
            "ticks": "",
            "zerolinecolor": "white"
           },
           "yaxis": {
            "backgroundcolor": "#E5ECF6",
            "gridcolor": "white",
            "gridwidth": 2,
            "linecolor": "white",
            "showbackground": true,
            "ticks": "",
            "zerolinecolor": "white"
           },
           "zaxis": {
            "backgroundcolor": "#E5ECF6",
            "gridcolor": "white",
            "gridwidth": 2,
            "linecolor": "white",
            "showbackground": true,
            "ticks": "",
            "zerolinecolor": "white"
           }
          },
          "shapedefaults": {
           "line": {
            "color": "#2a3f5f"
           }
          },
          "ternary": {
           "aaxis": {
            "gridcolor": "white",
            "linecolor": "white",
            "ticks": ""
           },
           "baxis": {
            "gridcolor": "white",
            "linecolor": "white",
            "ticks": ""
           },
           "bgcolor": "#E5ECF6",
           "caxis": {
            "gridcolor": "white",
            "linecolor": "white",
            "ticks": ""
           }
          },
          "title": {
           "x": 0.05
          },
          "xaxis": {
           "automargin": true,
           "gridcolor": "white",
           "linecolor": "white",
           "ticks": "",
           "title": {
            "standoff": 15
           },
           "zerolinecolor": "white",
           "zerolinewidth": 2
          },
          "yaxis": {
           "automargin": true,
           "gridcolor": "white",
           "linecolor": "white",
           "ticks": "",
           "title": {
            "standoff": 15
           },
           "zerolinecolor": "white",
           "zerolinewidth": 2
          }
         }
        },
        "title": {
         "text": "Hyperparameter Importances"
        },
        "xaxis": {
         "title": {
          "text": "Hyperparameter Importance"
         }
        },
        "yaxis": {
         "title": {
          "text": "Hyperparameter"
         }
        }
       }
      }
     },
     "metadata": {},
     "output_type": "display_data"
    }
   ],
   "source": [
    "optuna.visualization.plot_param_importances(study)"
   ]
  }
 ],
 "metadata": {
  "kernelspec": {
   "display_name": "Python 3",
   "language": "python",
   "name": "python3"
  },
  "language_info": {
   "codemirror_mode": {
    "name": "ipython",
    "version": 3
   },
   "file_extension": ".py",
   "mimetype": "text/x-python",
   "name": "python",
   "nbconvert_exporter": "python",
   "pygments_lexer": "ipython3",
   "version": "3.10.11"
  }
 },
 "nbformat": 4,
 "nbformat_minor": 2
}
